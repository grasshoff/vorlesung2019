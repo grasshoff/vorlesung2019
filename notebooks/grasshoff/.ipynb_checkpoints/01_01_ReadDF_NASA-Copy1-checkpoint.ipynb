{
 "cells": [
  {
   "cell_type": "markdown",
   "metadata": {},
   "source": [
    "# Exoplanets, publication in NASA ADS"
   ]
  },
  {
   "cell_type": "markdown",
   "metadata": {},
   "source": [
    "If you want to navigate through your notebook by using only the keyboard, here is a useful cheat sheet of the shortcuts: https://raw.githubusercontent.com/Jakeler/jupyter-shortcuts/master/outputs/Shortcuts.png"
   ]
  },
  {
   "cell_type": "markdown",
   "metadata": {},
   "source": [
    "## Loading packages"
   ]
  },
  {
   "cell_type": "code",
   "execution_count": 1,
   "metadata": {
    "collapsed": true
   },
   "outputs": [],
   "source": [
    "import pandas as pd\n",
    "import re\n",
    "import matplotlib.pyplot as plt"
   ]
  },
  {
   "cell_type": "markdown",
   "metadata": {},
   "source": [
    "## Loading the dataframe"
   ]
  },
  {
   "cell_type": "code",
   "execution_count": 2,
   "metadata": {},
   "outputs": [],
   "source": [
    "dfExoplanetsNASA = pd.read_json('./data/dfExoplanetsNASA_v2.json', orient = 'table')\n",
    "dfExoplanetsNASA = dfExoplanetsNASA[dfExoplanetsNASA.abstract != 'None'].reset_index(drop=True)"
   ]
  },
  {
   "cell_type": "markdown",
   "metadata": {},
   "source": [
    "## Pandas tricks\n",
    "\n",
    "- https://towardsdatascience.com/10-python-pandas-tricks-that-make-your-work-more-efficient-2e8e483808ba\n",
    "\n",
    "- https://towardsdatascience.com/10-python-pandas-tricks-to-make-data-analysis-more-enjoyable-cb8f55af8c30"
   ]
  },
  {
   "cell_type": "code",
   "execution_count": 3,
   "metadata": {},
   "outputs": [
    {
     "data": {
      "text/plain": [
       "29745"
      ]
     },
     "execution_count": 3,
     "metadata": {},
     "output_type": "execute_result"
    }
   ],
   "source": [
    "len(dfExoplanetsNASA)"
   ]
  },
  {
   "cell_type": "code",
   "execution_count": 4,
   "metadata": {},
   "outputs": [
    {
     "data": {
      "text/html": [
       "<div>\n",
       "<style scoped>\n",
       "    .dataframe tbody tr th:only-of-type {\n",
       "        vertical-align: middle;\n",
       "    }\n",
       "\n",
       "    .dataframe tbody tr th {\n",
       "        vertical-align: top;\n",
       "    }\n",
       "\n",
       "    .dataframe thead th {\n",
       "        text-align: right;\n",
       "    }\n",
       "</style>\n",
       "<table border=\"1\" class=\"dataframe\">\n",
       "  <thead>\n",
       "    <tr style=\"text-align: right;\">\n",
       "      <th></th>\n",
       "      <th>bibcode</th>\n",
       "      <th>DOI</th>\n",
       "      <th>authors</th>\n",
       "      <th>affiliation</th>\n",
       "      <th>acknowledgements</th>\n",
       "      <th>grant</th>\n",
       "      <th>published</th>\n",
       "      <th>year</th>\n",
       "      <th>title</th>\n",
       "      <th>abstract</th>\n",
       "      <th>keywords</th>\n",
       "      <th>citation_count</th>\n",
       "    </tr>\n",
       "  </thead>\n",
       "  <tbody>\n",
       "    <tr>\n",
       "      <th>0</th>\n",
       "      <td>2019NewA...70....1B</td>\n",
       "      <td>10.1016/j.newast.2018.12.005</td>\n",
       "      <td>[Zhang Bin, Qian Sheng-Bang, Liu Nian-Ping, Zh...</td>\n",
       "      <td>[School of Physics and Electronic Science, Gui...</td>\n",
       "      <td>We thank the anonymous referee for useful comm...</td>\n",
       "      <td>[]</td>\n",
       "      <td>2019-07-00</td>\n",
       "      <td>2019</td>\n",
       "      <td>First photometric study of a short-period deta...</td>\n",
       "      <td>NSVS 10441882 is a newly discovered eclipsing ...</td>\n",
       "      <td>[Binary, Eclipsing binary, Light curve, Orbita...</td>\n",
       "      <td>0</td>\n",
       "    </tr>\n",
       "    <tr>\n",
       "      <th>1</th>\n",
       "      <td>2019CNSNS..71...82A</td>\n",
       "      <td>10.1016/j.cnsns.2018.10.026</td>\n",
       "      <td>[M. Alvarez-Ramírez, E. Barrabés, M. Medina, M...</td>\n",
       "      <td>[Dept. de Matemáticas, UAM-Iztapalapa, Ciudad ...</td>\n",
       "      <td>E. Barrabs has been supported by grants MTM201...</td>\n",
       "      <td>[]</td>\n",
       "      <td>2019-06-00</td>\n",
       "      <td>2019</td>\n",
       "      <td>Ejection-Collision orbits in the symmetric col...</td>\n",
       "      <td>In this paper, we consider the collinear symme...</td>\n",
       "      <td>[Collinear four-body problem, Ejection/collisi...</td>\n",
       "      <td>0</td>\n",
       "    </tr>\n",
       "    <tr>\n",
       "      <th>2</th>\n",
       "      <td>2019NewA...69...27E</td>\n",
       "      <td>10.1016/j.newast.2018.11.008</td>\n",
       "      <td>[Şeyda Enez, Hasan Ali Dal]</td>\n",
       "      <td>[Ege University, Department of Astronomy and S...</td>\n",
       "      <td>We wish to thank the Turkish Scientific and Te...</td>\n",
       "      <td>[]</td>\n",
       "      <td>2019-05-00</td>\n",
       "      <td>2019</td>\n",
       "      <td>Cool spot migration and flare activity of KIC ...</td>\n",
       "      <td>Analysing the photometrical data taken from th...</td>\n",
       "      <td>[Techniques: Photometric, Methods: Statistical...</td>\n",
       "      <td>0</td>\n",
       "    </tr>\n",
       "    <tr>\n",
       "      <th>3</th>\n",
       "      <td>2019MNRAS.483.3465F</td>\n",
       "      <td>10.1093/mnras/sty3367</td>\n",
       "      <td>[Giacomo Fragione]</td>\n",
       "      <td>[Racah Institute for Physics, The Hebrew Unive...</td>\n",
       "      <td>Author thanks Nader Haghighipour for useful an...</td>\n",
       "      <td>[]</td>\n",
       "      <td>2019-03-00</td>\n",
       "      <td>2019</td>\n",
       "      <td>Dynamical origin of S-type planets in close bi...</td>\n",
       "      <td>Understanding the origin of planets that have ...</td>\n",
       "      <td>[planets and satellites: general, binaries: cl...</td>\n",
       "      <td>0</td>\n",
       "    </tr>\n",
       "    <tr>\n",
       "      <th>4</th>\n",
       "      <td>2019MNRAS.483.3448M</td>\n",
       "      <td>10.1093/mnras/sty3346</td>\n",
       "      <td>[Kristina Monsch, Barbara Ercolano, Giovanni P...</td>\n",
       "      <td>[Universitäts-Sternwarte, Ludwig-Maximilians-U...</td>\n",
       "      <td>We thank Giovanni Rosotti and Jeff Jennings fo...</td>\n",
       "      <td>[]</td>\n",
       "      <td>2019-03-00</td>\n",
       "      <td>2019</td>\n",
       "      <td>The imprint of X-ray photoevaporation of plane...</td>\n",
       "      <td>High-energy radiation from a planet host star ...</td>\n",
       "      <td>[planets and satellites: formation, planet-dis...</td>\n",
       "      <td>0</td>\n",
       "    </tr>\n",
       "  </tbody>\n",
       "</table>\n",
       "</div>"
      ],
      "text/plain": [
       "               bibcode                           DOI  \\\n",
       "0  2019NewA...70....1B  10.1016/j.newast.2018.12.005   \n",
       "1  2019CNSNS..71...82A   10.1016/j.cnsns.2018.10.026   \n",
       "2  2019NewA...69...27E  10.1016/j.newast.2018.11.008   \n",
       "3  2019MNRAS.483.3465F         10.1093/mnras/sty3367   \n",
       "4  2019MNRAS.483.3448M         10.1093/mnras/sty3346   \n",
       "\n",
       "                                             authors  \\\n",
       "0  [Zhang Bin, Qian Sheng-Bang, Liu Nian-Ping, Zh...   \n",
       "1  [M. Alvarez-Ramírez, E. Barrabés, M. Medina, M...   \n",
       "2                        [Şeyda Enez, Hasan Ali Dal]   \n",
       "3                                 [Giacomo Fragione]   \n",
       "4  [Kristina Monsch, Barbara Ercolano, Giovanni P...   \n",
       "\n",
       "                                         affiliation  \\\n",
       "0  [School of Physics and Electronic Science, Gui...   \n",
       "1  [Dept. de Matemáticas, UAM-Iztapalapa, Ciudad ...   \n",
       "2  [Ege University, Department of Astronomy and S...   \n",
       "3  [Racah Institute for Physics, The Hebrew Unive...   \n",
       "4  [Universitäts-Sternwarte, Ludwig-Maximilians-U...   \n",
       "\n",
       "                                    acknowledgements grant   published  year  \\\n",
       "0  We thank the anonymous referee for useful comm...    []  2019-07-00  2019   \n",
       "1  E. Barrabs has been supported by grants MTM201...    []  2019-06-00  2019   \n",
       "2  We wish to thank the Turkish Scientific and Te...    []  2019-05-00  2019   \n",
       "3  Author thanks Nader Haghighipour for useful an...    []  2019-03-00  2019   \n",
       "4  We thank Giovanni Rosotti and Jeff Jennings fo...    []  2019-03-00  2019   \n",
       "\n",
       "                                               title  \\\n",
       "0  First photometric study of a short-period deta...   \n",
       "1  Ejection-Collision orbits in the symmetric col...   \n",
       "2  Cool spot migration and flare activity of KIC ...   \n",
       "3  Dynamical origin of S-type planets in close bi...   \n",
       "4  The imprint of X-ray photoevaporation of plane...   \n",
       "\n",
       "                                            abstract  \\\n",
       "0  NSVS 10441882 is a newly discovered eclipsing ...   \n",
       "1  In this paper, we consider the collinear symme...   \n",
       "2  Analysing the photometrical data taken from th...   \n",
       "3  Understanding the origin of planets that have ...   \n",
       "4  High-energy radiation from a planet host star ...   \n",
       "\n",
       "                                            keywords  citation_count  \n",
       "0  [Binary, Eclipsing binary, Light curve, Orbita...               0  \n",
       "1  [Collinear four-body problem, Ejection/collisi...               0  \n",
       "2  [Techniques: Photometric, Methods: Statistical...               0  \n",
       "3  [planets and satellites: general, binaries: cl...               0  \n",
       "4  [planets and satellites: formation, planet-dis...               0  "
      ]
     },
     "execution_count": 4,
     "metadata": {},
     "output_type": "execute_result"
    }
   ],
   "source": [
    "dfExoplanetsNASA.head()"
   ]
  },
  {
   "cell_type": "code",
   "execution_count": 5,
   "metadata": {},
   "outputs": [
    {
     "data": {
      "text/plain": [
       "0        2019\n",
       "1        2019\n",
       "2        2019\n",
       "3        2019\n",
       "4        2019\n",
       "5        2019\n",
       "6        2019\n",
       "7        2019\n",
       "8        2019\n",
       "9        2019\n",
       "10       2019\n",
       "11       2019\n",
       "12       2019\n",
       "13       2019\n",
       "14       2019\n",
       "15       2019\n",
       "16       2019\n",
       "17       2019\n",
       "18       2019\n",
       "19       2019\n",
       "20       2019\n",
       "21       2019\n",
       "22       2019\n",
       "23       2019\n",
       "24       2019\n",
       "25       2019\n",
       "26       2019\n",
       "27       2019\n",
       "28       2019\n",
       "29       2019\n",
       "         ... \n",
       "29715    1989\n",
       "29716    1989\n",
       "29717    1988\n",
       "29718    1988\n",
       "29719    1988\n",
       "29720    1988\n",
       "29721    1988\n",
       "29722    1986\n",
       "29723    1986\n",
       "29724    1986\n",
       "29725    1985\n",
       "29726    1985\n",
       "29727    1985\n",
       "29728    1985\n",
       "29729    1983\n",
       "29730    1981\n",
       "29731    1981\n",
       "29732    1980\n",
       "29733    1980\n",
       "29734    1979\n",
       "29735    1978\n",
       "29736    1978\n",
       "29737    1977\n",
       "29738    1976\n",
       "29739    1976\n",
       "29740    1973\n",
       "29741    1973\n",
       "29742    1971\n",
       "29743    1971\n",
       "29744    1971\n",
       "Name: year, Length: 29745, dtype: int64"
      ]
     },
     "execution_count": 5,
     "metadata": {},
     "output_type": "execute_result"
    }
   ],
   "source": [
    "dfExoplanetsNASA[\"year\"]"
   ]
  },
  {
   "cell_type": "markdown",
   "metadata": {},
   "source": [
    "## Select columns"
   ]
  },
  {
   "cell_type": "code",
   "execution_count": 6,
   "metadata": {
    "collapsed": true
   },
   "outputs": [],
   "source": [
    "dfExoplanetsSel = dfExoplanetsNASA[['authors', 'title', 'year', 'abstract']]"
   ]
  },
  {
   "cell_type": "code",
   "execution_count": 7,
   "metadata": {},
   "outputs": [
    {
     "data": {
      "text/html": [
       "<div>\n",
       "<style scoped>\n",
       "    .dataframe tbody tr th:only-of-type {\n",
       "        vertical-align: middle;\n",
       "    }\n",
       "\n",
       "    .dataframe tbody tr th {\n",
       "        vertical-align: top;\n",
       "    }\n",
       "\n",
       "    .dataframe thead th {\n",
       "        text-align: right;\n",
       "    }\n",
       "</style>\n",
       "<table border=\"1\" class=\"dataframe\">\n",
       "  <thead>\n",
       "    <tr style=\"text-align: right;\">\n",
       "      <th></th>\n",
       "      <th>authors</th>\n",
       "      <th>title</th>\n",
       "      <th>year</th>\n",
       "      <th>abstract</th>\n",
       "    </tr>\n",
       "  </thead>\n",
       "  <tbody>\n",
       "    <tr>\n",
       "      <th>0</th>\n",
       "      <td>[Zhang Bin, Qian Sheng-Bang, Liu Nian-Ping, Zh...</td>\n",
       "      <td>First photometric study of a short-period deta...</td>\n",
       "      <td>2019</td>\n",
       "      <td>NSVS 10441882 is a newly discovered eclipsing ...</td>\n",
       "    </tr>\n",
       "    <tr>\n",
       "      <th>1</th>\n",
       "      <td>[M. Alvarez-Ramírez, E. Barrabés, M. Medina, M...</td>\n",
       "      <td>Ejection-Collision orbits in the symmetric col...</td>\n",
       "      <td>2019</td>\n",
       "      <td>In this paper, we consider the collinear symme...</td>\n",
       "    </tr>\n",
       "    <tr>\n",
       "      <th>2</th>\n",
       "      <td>[Şeyda Enez, Hasan Ali Dal]</td>\n",
       "      <td>Cool spot migration and flare activity of KIC ...</td>\n",
       "      <td>2019</td>\n",
       "      <td>Analysing the photometrical data taken from th...</td>\n",
       "    </tr>\n",
       "    <tr>\n",
       "      <th>3</th>\n",
       "      <td>[Giacomo Fragione]</td>\n",
       "      <td>Dynamical origin of S-type planets in close bi...</td>\n",
       "      <td>2019</td>\n",
       "      <td>Understanding the origin of planets that have ...</td>\n",
       "    </tr>\n",
       "    <tr>\n",
       "      <th>4</th>\n",
       "      <td>[Kristina Monsch, Barbara Ercolano, Giovanni P...</td>\n",
       "      <td>The imprint of X-ray photoevaporation of plane...</td>\n",
       "      <td>2019</td>\n",
       "      <td>High-energy radiation from a planet host star ...</td>\n",
       "    </tr>\n",
       "  </tbody>\n",
       "</table>\n",
       "</div>"
      ],
      "text/plain": [
       "                                             authors  \\\n",
       "0  [Zhang Bin, Qian Sheng-Bang, Liu Nian-Ping, Zh...   \n",
       "1  [M. Alvarez-Ramírez, E. Barrabés, M. Medina, M...   \n",
       "2                        [Şeyda Enez, Hasan Ali Dal]   \n",
       "3                                 [Giacomo Fragione]   \n",
       "4  [Kristina Monsch, Barbara Ercolano, Giovanni P...   \n",
       "\n",
       "                                               title  year  \\\n",
       "0  First photometric study of a short-period deta...  2019   \n",
       "1  Ejection-Collision orbits in the symmetric col...  2019   \n",
       "2  Cool spot migration and flare activity of KIC ...  2019   \n",
       "3  Dynamical origin of S-type planets in close bi...  2019   \n",
       "4  The imprint of X-ray photoevaporation of plane...  2019   \n",
       "\n",
       "                                            abstract  \n",
       "0  NSVS 10441882 is a newly discovered eclipsing ...  \n",
       "1  In this paper, we consider the collinear symme...  \n",
       "2  Analysing the photometrical data taken from th...  \n",
       "3  Understanding the origin of planets that have ...  \n",
       "4  High-energy radiation from a planet host star ...  "
      ]
     },
     "execution_count": 7,
     "metadata": {},
     "output_type": "execute_result"
    }
   ],
   "source": [
    "dfExoplanetsSel.head()"
   ]
  },
  {
   "cell_type": "markdown",
   "metadata": {},
   "source": [
    "# Select rows"
   ]
  },
  {
   "cell_type": "code",
   "execution_count": 8,
   "metadata": {},
   "outputs": [
    {
     "data": {
      "text/plain": [
       "authors                           [Şeyda Enez, Hasan Ali Dal]\n",
       "title       Cool spot migration and flare activity of KIC ...\n",
       "year                                                     2019\n",
       "abstract    Analysing the photometrical data taken from th...\n",
       "Name: 2, dtype: object"
      ]
     },
     "execution_count": 8,
     "metadata": {},
     "output_type": "execute_result"
    }
   ],
   "source": [
    "dfExoplanetsSel.iloc[2]"
   ]
  },
  {
   "cell_type": "code",
   "execution_count": 9,
   "metadata": {},
   "outputs": [
    {
     "data": {
      "text/plain": [
       "'Analysing the photometrical data taken from the Kepler Mission Database, the results obtained from both the One Phase Exponential Association model derived for the flare activity and the spot migration on the surface of eclipsing binary system KIC 11560447 are presented. A sinusoidal variation due to the rotation modulation is defined. There are two cool spots separated by about 100° longitudinally. It is seen that the parameters of these spotted areas such as radii, latitudes and longitudes, were varying during observing seasons. Apart from the cool spots, flare activity is also detected on the target, and 226 flares were determined with their parameters. Modelling the distribution of flare equivalent durations versus the flare total times, the Plateau parameter was found to be 1.4114 ± 0.1712 s in the logarithmic scale, while the Half-time value was found to be 2394.03 s. The frequency of flare N<SUB>1</SUB>, which is the number of flares per an hour in the system, was computed as 0.064454 h<SUP>-1</SUP> , while the flare-equivalent duration emitting per an hour, N<SUB>2</SUB> frequency, was found to be 0.000058.'"
      ]
     },
     "execution_count": 9,
     "metadata": {},
     "output_type": "execute_result"
    }
   ],
   "source": [
    "dfExoplanetsSel['abstract'].iloc[2]"
   ]
  },
  {
   "cell_type": "markdown",
   "metadata": {},
   "source": [
    "# Filter"
   ]
  },
  {
   "cell_type": "code",
   "execution_count": 10,
   "metadata": {},
   "outputs": [
    {
     "data": {
      "text/html": [
       "<div>\n",
       "<style scoped>\n",
       "    .dataframe tbody tr th:only-of-type {\n",
       "        vertical-align: middle;\n",
       "    }\n",
       "\n",
       "    .dataframe tbody tr th {\n",
       "        vertical-align: top;\n",
       "    }\n",
       "\n",
       "    .dataframe thead th {\n",
       "        text-align: right;\n",
       "    }\n",
       "</style>\n",
       "<table border=\"1\" class=\"dataframe\">\n",
       "  <thead>\n",
       "    <tr style=\"text-align: right;\">\n",
       "      <th></th>\n",
       "      <th>authors</th>\n",
       "      <th>title</th>\n",
       "      <th>year</th>\n",
       "      <th>abstract</th>\n",
       "    </tr>\n",
       "  </thead>\n",
       "  <tbody>\n",
       "    <tr>\n",
       "      <th>10224</th>\n",
       "      <td>[Tom Barclay]</td>\n",
       "      <td>Ktransit 0.2.2</td>\n",
       "      <td>2015</td>\n",
       "      <td>A simple exoplanet transit modeling tool in py...</td>\n",
       "    </tr>\n",
       "    <tr>\n",
       "      <th>10225</th>\n",
       "      <td>[S. Calchi Novati, A. Gould, J. C. Yee, C. Bei...</td>\n",
       "      <td>Spitzer IRAC Photometry for Time Series in Cro...</td>\n",
       "      <td>2015</td>\n",
       "      <td>We develop a new photometry algorithm that is ...</td>\n",
       "    </tr>\n",
       "  </tbody>\n",
       "</table>\n",
       "</div>"
      ],
      "text/plain": [
       "                                                 authors  \\\n",
       "10224                                      [Tom Barclay]   \n",
       "10225  [S. Calchi Novati, A. Gould, J. C. Yee, C. Bei...   \n",
       "\n",
       "                                                   title  year  \\\n",
       "10224                                     Ktransit 0.2.2  2015   \n",
       "10225  Spitzer IRAC Photometry for Time Series in Cro...  2015   \n",
       "\n",
       "                                                abstract  \n",
       "10224  A simple exoplanet transit modeling tool in py...  \n",
       "10225  We develop a new photometry algorithm that is ...  "
      ]
     },
     "execution_count": 10,
     "metadata": {},
     "output_type": "execute_result"
    }
   ],
   "source": [
    "filtYear= dfExoplanetsSel['year']<2016\n",
    "dfExoplanetsSel[filtYear].head(2)"
   ]
  },
  {
   "cell_type": "code",
   "execution_count": 11,
   "metadata": {},
   "outputs": [
    {
     "data": {
      "text/plain": [
       "9786"
      ]
     },
     "execution_count": 11,
     "metadata": {},
     "output_type": "execute_result"
    }
   ],
   "source": [
    "filtAbst=dfExoplanetsSel['abstract'].str.contains(\"model\")\n",
    "dfS=dfExoplanetsSel[filtAbst]\n",
    "len(dfS)"
   ]
  },
  {
   "cell_type": "code",
   "execution_count": 12,
   "metadata": {},
   "outputs": [],
   "source": [
    "def filt(S):\n",
    "    doesC=dfExoplanetsSel['abstract'].str.contains(S)\n",
    "    return(doesC)"
   ]
  },
  {
   "cell_type": "code",
   "execution_count": 13,
   "metadata": {},
   "outputs": [
    {
     "data": {
      "text/plain": [
       "3469"
      ]
     },
     "execution_count": 13,
     "metadata": {},
     "output_type": "execute_result"
    }
   ],
   "source": [
    "dfS=dfExoplanetsSel[filt('Kepler')]\n",
    "len(dfS)"
   ]
  },
  {
   "cell_type": "code",
   "execution_count": 14,
   "metadata": {},
   "outputs": [
    {
     "data": {
      "text/plain": [
       "'Barnes\\' and Raymond\\'s Packed Planetary System (PPS) hypothesis postulates that planetary formation is efficient and creates dynamically-packed planetary systems that cannot contain additional planets. Here I look for unpacked spaces in Kepler multi-candidate systems that should, according to a PPS corollary, contain planets. In doing so, a \"roadmap\" was created to find potential unidentified planets. Previous research suggests that a system\\'s dynamical packing can be quantified using the dynamical spacing ∆: the number of mutual Hill radii between adjacent planets (a \"planet pair\"). Using previously proposed values for minimum ∆ (10, 12.3, and 21.7) required for planet pair orbital stability, I determine whether planet pairs in Kepler multi-candidate systems could host an intermediate body (an \"unpacked pair\"). For each Kepler unpacked pair, the maximum mass of an intermediate body that the pair could host while remaining in stable orbits (\"mass capacity\") and the semimajor axis at which this mass could be hosted were calculated. Next, the probable masses were determined. Known packed planet triplets were surveyed to determine the mass capacity each middle planet uses. It was found that 95% of middle planets have a semimajor axis that fall within a 12.45% semimajor axis deviation of the ideal semimajor axis. Furthermore, the results suggest that Kepler multicandidate systems have space for as many as 559 unidentified intermediate planets assuming a minimum ∆ = 12.3. Median mass efficiencies suggest that of these planets exist, 28% could be Earth or Super Earth-sized. If the unpacked pairs are due to missing planets as suggested by PPS, the predicted mass and semimajor axis for these potential planets may facilitate detection by characterizing expected transit and radial velocity signals. However, the large number of unpacked pairs might also be explained by variations of PPS (for example, systems that start packed and become unstable over time) or alternate system architecture hypotheses.'"
      ]
     },
     "execution_count": 14,
     "metadata": {},
     "output_type": "execute_result"
    }
   ],
   "source": [
    "abstract=str(dfS['abstract'].iloc[35])\n",
    "abstract"
   ]
  },
  {
   "cell_type": "markdown",
   "metadata": {},
   "source": [
    "# Strings\n",
    "\n",
    "https://docs.python.org/3/library/re.html"
   ]
  },
  {
   "cell_type": "code",
   "execution_count": 15,
   "metadata": {},
   "outputs": [
    {
     "data": {
      "text/plain": [
       "<re.Match object; span=(51, 62), match=' hypothesis'>"
      ]
     },
     "execution_count": 15,
     "metadata": {},
     "output_type": "execute_result"
    }
   ],
   "source": [
    "muster=re.compile(r\"\\w* hypothesis\")\n",
    "muster.search(abstract)"
   ]
  },
  {
   "cell_type": "code",
   "execution_count": 16,
   "metadata": {},
   "outputs": [
    {
     "data": {
      "text/plain": [
       "[' hypothesis']"
      ]
     },
     "execution_count": 16,
     "metadata": {},
     "output_type": "execute_result"
    }
   ],
   "source": [
    "muster.findall(abstract)"
   ]
  },
  {
   "cell_type": "code",
   "execution_count": 17,
   "metadata": {},
   "outputs": [
    {
     "name": "stdout",
     "output_type": "stream",
     "text": [
      " hypothesis\n"
     ]
    }
   ],
   "source": [
    "for i in muster.finditer(abstract):\n",
    "    print(i[0])"
   ]
  },
  {
   "cell_type": "markdown",
   "metadata": {},
   "source": [
    "# Groups"
   ]
  },
  {
   "cell_type": "code",
   "execution_count": 18,
   "metadata": {},
   "outputs": [
    {
     "data": {
      "text/html": [
       "<div>\n",
       "<style scoped>\n",
       "    .dataframe tbody tr th:only-of-type {\n",
       "        vertical-align: middle;\n",
       "    }\n",
       "\n",
       "    .dataframe tbody tr th {\n",
       "        vertical-align: top;\n",
       "    }\n",
       "\n",
       "    .dataframe thead th {\n",
       "        text-align: right;\n",
       "    }\n",
       "</style>\n",
       "<table border=\"1\" class=\"dataframe\">\n",
       "  <thead>\n",
       "    <tr style=\"text-align: right;\">\n",
       "      <th></th>\n",
       "      <th>year</th>\n",
       "      <th>counts</th>\n",
       "    </tr>\n",
       "  </thead>\n",
       "  <tbody>\n",
       "    <tr>\n",
       "      <th>0</th>\n",
       "      <td>1971</td>\n",
       "      <td>3</td>\n",
       "    </tr>\n",
       "    <tr>\n",
       "      <th>1</th>\n",
       "      <td>1973</td>\n",
       "      <td>2</td>\n",
       "    </tr>\n",
       "    <tr>\n",
       "      <th>2</th>\n",
       "      <td>1976</td>\n",
       "      <td>2</td>\n",
       "    </tr>\n",
       "    <tr>\n",
       "      <th>3</th>\n",
       "      <td>1977</td>\n",
       "      <td>1</td>\n",
       "    </tr>\n",
       "    <tr>\n",
       "      <th>4</th>\n",
       "      <td>1978</td>\n",
       "      <td>2</td>\n",
       "    </tr>\n",
       "    <tr>\n",
       "      <th>5</th>\n",
       "      <td>1979</td>\n",
       "      <td>1</td>\n",
       "    </tr>\n",
       "    <tr>\n",
       "      <th>6</th>\n",
       "      <td>1980</td>\n",
       "      <td>2</td>\n",
       "    </tr>\n",
       "    <tr>\n",
       "      <th>7</th>\n",
       "      <td>1981</td>\n",
       "      <td>2</td>\n",
       "    </tr>\n",
       "    <tr>\n",
       "      <th>8</th>\n",
       "      <td>1983</td>\n",
       "      <td>1</td>\n",
       "    </tr>\n",
       "    <tr>\n",
       "      <th>9</th>\n",
       "      <td>1985</td>\n",
       "      <td>4</td>\n",
       "    </tr>\n",
       "    <tr>\n",
       "      <th>10</th>\n",
       "      <td>1986</td>\n",
       "      <td>3</td>\n",
       "    </tr>\n",
       "    <tr>\n",
       "      <th>11</th>\n",
       "      <td>1988</td>\n",
       "      <td>5</td>\n",
       "    </tr>\n",
       "    <tr>\n",
       "      <th>12</th>\n",
       "      <td>1989</td>\n",
       "      <td>2</td>\n",
       "    </tr>\n",
       "    <tr>\n",
       "      <th>13</th>\n",
       "      <td>1990</td>\n",
       "      <td>4</td>\n",
       "    </tr>\n",
       "    <tr>\n",
       "      <th>14</th>\n",
       "      <td>1991</td>\n",
       "      <td>9</td>\n",
       "    </tr>\n",
       "    <tr>\n",
       "      <th>15</th>\n",
       "      <td>1992</td>\n",
       "      <td>11</td>\n",
       "    </tr>\n",
       "    <tr>\n",
       "      <th>16</th>\n",
       "      <td>1993</td>\n",
       "      <td>3</td>\n",
       "    </tr>\n",
       "    <tr>\n",
       "      <th>17</th>\n",
       "      <td>1994</td>\n",
       "      <td>11</td>\n",
       "    </tr>\n",
       "    <tr>\n",
       "      <th>18</th>\n",
       "      <td>1995</td>\n",
       "      <td>10</td>\n",
       "    </tr>\n",
       "    <tr>\n",
       "      <th>19</th>\n",
       "      <td>1996</td>\n",
       "      <td>21</td>\n",
       "    </tr>\n",
       "    <tr>\n",
       "      <th>20</th>\n",
       "      <td>1997</td>\n",
       "      <td>31</td>\n",
       "    </tr>\n",
       "    <tr>\n",
       "      <th>21</th>\n",
       "      <td>1998</td>\n",
       "      <td>57</td>\n",
       "    </tr>\n",
       "    <tr>\n",
       "      <th>22</th>\n",
       "      <td>1999</td>\n",
       "      <td>75</td>\n",
       "    </tr>\n",
       "    <tr>\n",
       "      <th>23</th>\n",
       "      <td>2000</td>\n",
       "      <td>131</td>\n",
       "    </tr>\n",
       "    <tr>\n",
       "      <th>24</th>\n",
       "      <td>2001</td>\n",
       "      <td>168</td>\n",
       "    </tr>\n",
       "    <tr>\n",
       "      <th>25</th>\n",
       "      <td>2002</td>\n",
       "      <td>287</td>\n",
       "    </tr>\n",
       "    <tr>\n",
       "      <th>26</th>\n",
       "      <td>2003</td>\n",
       "      <td>502</td>\n",
       "    </tr>\n",
       "    <tr>\n",
       "      <th>27</th>\n",
       "      <td>2004</td>\n",
       "      <td>479</td>\n",
       "    </tr>\n",
       "    <tr>\n",
       "      <th>28</th>\n",
       "      <td>2005</td>\n",
       "      <td>539</td>\n",
       "    </tr>\n",
       "    <tr>\n",
       "      <th>29</th>\n",
       "      <td>2006</td>\n",
       "      <td>814</td>\n",
       "    </tr>\n",
       "    <tr>\n",
       "      <th>30</th>\n",
       "      <td>2007</td>\n",
       "      <td>867</td>\n",
       "    </tr>\n",
       "    <tr>\n",
       "      <th>31</th>\n",
       "      <td>2008</td>\n",
       "      <td>973</td>\n",
       "    </tr>\n",
       "    <tr>\n",
       "      <th>32</th>\n",
       "      <td>2009</td>\n",
       "      <td>1255</td>\n",
       "    </tr>\n",
       "    <tr>\n",
       "      <th>33</th>\n",
       "      <td>2010</td>\n",
       "      <td>1698</td>\n",
       "    </tr>\n",
       "    <tr>\n",
       "      <th>34</th>\n",
       "      <td>2011</td>\n",
       "      <td>1960</td>\n",
       "    </tr>\n",
       "    <tr>\n",
       "      <th>35</th>\n",
       "      <td>2012</td>\n",
       "      <td>2127</td>\n",
       "    </tr>\n",
       "    <tr>\n",
       "      <th>36</th>\n",
       "      <td>2013</td>\n",
       "      <td>2127</td>\n",
       "    </tr>\n",
       "    <tr>\n",
       "      <th>37</th>\n",
       "      <td>2014</td>\n",
       "      <td>2703</td>\n",
       "    </tr>\n",
       "    <tr>\n",
       "      <th>38</th>\n",
       "      <td>2015</td>\n",
       "      <td>2629</td>\n",
       "    </tr>\n",
       "    <tr>\n",
       "      <th>39</th>\n",
       "      <td>2016</td>\n",
       "      <td>2851</td>\n",
       "    </tr>\n",
       "    <tr>\n",
       "      <th>40</th>\n",
       "      <td>2017</td>\n",
       "      <td>2866</td>\n",
       "    </tr>\n",
       "    <tr>\n",
       "      <th>41</th>\n",
       "      <td>2018</td>\n",
       "      <td>3930</td>\n",
       "    </tr>\n",
       "    <tr>\n",
       "      <th>42</th>\n",
       "      <td>2019</td>\n",
       "      <td>577</td>\n",
       "    </tr>\n",
       "  </tbody>\n",
       "</table>\n",
       "</div>"
      ],
      "text/plain": [
       "    year  counts\n",
       "0   1971       3\n",
       "1   1973       2\n",
       "2   1976       2\n",
       "3   1977       1\n",
       "4   1978       2\n",
       "5   1979       1\n",
       "6   1980       2\n",
       "7   1981       2\n",
       "8   1983       1\n",
       "9   1985       4\n",
       "10  1986       3\n",
       "11  1988       5\n",
       "12  1989       2\n",
       "13  1990       4\n",
       "14  1991       9\n",
       "15  1992      11\n",
       "16  1993       3\n",
       "17  1994      11\n",
       "18  1995      10\n",
       "19  1996      21\n",
       "20  1997      31\n",
       "21  1998      57\n",
       "22  1999      75\n",
       "23  2000     131\n",
       "24  2001     168\n",
       "25  2002     287\n",
       "26  2003     502\n",
       "27  2004     479\n",
       "28  2005     539\n",
       "29  2006     814\n",
       "30  2007     867\n",
       "31  2008     973\n",
       "32  2009    1255\n",
       "33  2010    1698\n",
       "34  2011    1960\n",
       "35  2012    2127\n",
       "36  2013    2127\n",
       "37  2014    2703\n",
       "38  2015    2629\n",
       "39  2016    2851\n",
       "40  2017    2866\n",
       "41  2018    3930\n",
       "42  2019     577"
      ]
     },
     "execution_count": 18,
     "metadata": {},
     "output_type": "execute_result"
    }
   ],
   "source": [
    "dfYear=dfExoplanetsSel.groupby(\"year\").size().reset_index(name=\"counts\")\n",
    "dfYear"
   ]
  },
  {
   "cell_type": "code",
   "execution_count": 19,
   "metadata": {},
   "outputs": [],
   "source": [
    "dfYear=dfYear.drop(42)"
   ]
  },
  {
   "cell_type": "code",
   "execution_count": 20,
   "metadata": {},
   "outputs": [
    {
     "data": {
      "image/png": "[encoded data removed]",
      "text/plain": [
       "<Figure size 432x288 with 1 Axes>"
      ]
     },
     "metadata": {
      "needs_background": "light"
     },
     "output_type": "display_data"
    }
   ],
   "source": [
    "plt.bar(dfYear[\"year\"],dfYear[\"counts\"], color='orange')\n",
    "plt.xlabel(\"Jahr\")\n",
    "plt.ylabel(\"Anzahl\")\n",
    "plt.title('Publikation')\n",
    "plt.show()"
   ]
  },
  {
   "cell_type": "code",
   "execution_count": 21,
   "metadata": {},
   "outputs": [
    {
     "data": {
      "text/html": [
       "<div>\n",
       "<style scoped>\n",
       "    .dataframe tbody tr th:only-of-type {\n",
       "        vertical-align: middle;\n",
       "    }\n",
       "\n",
       "    .dataframe tbody tr th {\n",
       "        vertical-align: top;\n",
       "    }\n",
       "\n",
       "    .dataframe thead th {\n",
       "        text-align: right;\n",
       "    }\n",
       "</style>\n",
       "<table border=\"1\" class=\"dataframe\">\n",
       "  <thead>\n",
       "    <tr style=\"text-align: right;\">\n",
       "      <th></th>\n",
       "      <th>year</th>\n",
       "      <th>counts</th>\n",
       "    </tr>\n",
       "  </thead>\n",
       "  <tbody>\n",
       "    <tr>\n",
       "      <th>0</th>\n",
       "      <td>1997</td>\n",
       "      <td>1</td>\n",
       "    </tr>\n",
       "    <tr>\n",
       "      <th>1</th>\n",
       "      <td>1998</td>\n",
       "      <td>2</td>\n",
       "    </tr>\n",
       "    <tr>\n",
       "      <th>2</th>\n",
       "      <td>1999</td>\n",
       "      <td>8</td>\n",
       "    </tr>\n",
       "    <tr>\n",
       "      <th>3</th>\n",
       "      <td>2000</td>\n",
       "      <td>6</td>\n",
       "    </tr>\n",
       "    <tr>\n",
       "      <th>4</th>\n",
       "      <td>2001</td>\n",
       "      <td>3</td>\n",
       "    </tr>\n",
       "    <tr>\n",
       "      <th>5</th>\n",
       "      <td>2002</td>\n",
       "      <td>14</td>\n",
       "    </tr>\n",
       "    <tr>\n",
       "      <th>6</th>\n",
       "      <td>2003</td>\n",
       "      <td>10</td>\n",
       "    </tr>\n",
       "    <tr>\n",
       "      <th>7</th>\n",
       "      <td>2004</td>\n",
       "      <td>19</td>\n",
       "    </tr>\n",
       "    <tr>\n",
       "      <th>8</th>\n",
       "      <td>2005</td>\n",
       "      <td>18</td>\n",
       "    </tr>\n",
       "    <tr>\n",
       "      <th>9</th>\n",
       "      <td>2006</td>\n",
       "      <td>25</td>\n",
       "    </tr>\n",
       "    <tr>\n",
       "      <th>10</th>\n",
       "      <td>2007</td>\n",
       "      <td>48</td>\n",
       "    </tr>\n",
       "    <tr>\n",
       "      <th>11</th>\n",
       "      <td>2008</td>\n",
       "      <td>43</td>\n",
       "    </tr>\n",
       "    <tr>\n",
       "      <th>12</th>\n",
       "      <td>2009</td>\n",
       "      <td>86</td>\n",
       "    </tr>\n",
       "    <tr>\n",
       "      <th>13</th>\n",
       "      <td>2010</td>\n",
       "      <td>152</td>\n",
       "    </tr>\n",
       "    <tr>\n",
       "      <th>14</th>\n",
       "      <td>2011</td>\n",
       "      <td>273</td>\n",
       "    </tr>\n",
       "    <tr>\n",
       "      <th>15</th>\n",
       "      <td>2012</td>\n",
       "      <td>284</td>\n",
       "    </tr>\n",
       "    <tr>\n",
       "      <th>16</th>\n",
       "      <td>2013</td>\n",
       "      <td>347</td>\n",
       "    </tr>\n",
       "    <tr>\n",
       "      <th>17</th>\n",
       "      <td>2014</td>\n",
       "      <td>372</td>\n",
       "    </tr>\n",
       "    <tr>\n",
       "      <th>18</th>\n",
       "      <td>2015</td>\n",
       "      <td>456</td>\n",
       "    </tr>\n",
       "    <tr>\n",
       "      <th>19</th>\n",
       "      <td>2016</td>\n",
       "      <td>397</td>\n",
       "    </tr>\n",
       "    <tr>\n",
       "      <th>20</th>\n",
       "      <td>2017</td>\n",
       "      <td>368</td>\n",
       "    </tr>\n",
       "    <tr>\n",
       "      <th>21</th>\n",
       "      <td>2018</td>\n",
       "      <td>448</td>\n",
       "    </tr>\n",
       "  </tbody>\n",
       "</table>\n",
       "</div>"
      ],
      "text/plain": [
       "    year  counts\n",
       "0   1997       1\n",
       "1   1998       2\n",
       "2   1999       8\n",
       "3   2000       6\n",
       "4   2001       3\n",
       "5   2002      14\n",
       "6   2003      10\n",
       "7   2004      19\n",
       "8   2005      18\n",
       "9   2006      25\n",
       "10  2007      48\n",
       "11  2008      43\n",
       "12  2009      86\n",
       "13  2010     152\n",
       "14  2011     273\n",
       "15  2012     284\n",
       "16  2013     347\n",
       "17  2014     372\n",
       "18  2015     456\n",
       "19  2016     397\n",
       "20  2017     368\n",
       "21  2018     448"
      ]
     },
     "execution_count": 21,
     "metadata": {},
     "output_type": "execute_result"
    }
   ],
   "source": [
    "dfYear2=dfS.groupby(\"year\").size().reset_index(name=\"counts\")\n",
    "dfYear2=dfYear2.drop(22)\n",
    "dfYear2"
   ]
  },
  {
   "cell_type": "code",
   "execution_count": 22,
   "metadata": {},
   "outputs": [
    {
     "data": {
      "image/png": "[encoded data removed]",
      "text/plain": [
       "<Figure size 432x288 with 1 Axes>"
      ]
     },
     "metadata": {
      "needs_background": "light"
     },
     "output_type": "display_data"
    }
   ],
   "source": [
    "plt.bar(dfYear[\"year\"],dfYear[\"counts\"], color='orange')\n",
    "plt.bar(dfYear2[\"year\"],dfYear2[\"counts\"], color='blue')\n",
    "plt.xlabel(\"Jahr\")\n",
    "plt.ylabel(\"Anzahl\")\n",
    "plt.title('Publikation')\n",
    "plt.show()"
   ]
  }
 ],
 "metadata": {
  "kernelspec": {
   "display_name": "Python 3",
   "language": "python",
   "name": "python3"
  },
  "language_info": {
   "codemirror_mode": {
    "name": "ipython",
    "version": 3
   },
   "file_extension": ".py",
   "mimetype": "text/x-python",
   "name": "python",
   "nbconvert_exporter": "python",
   "pygments_lexer": "ipython3",
   "version": "3.7.3"
  }
 },
 "nbformat": 4,
 "nbformat_minor": 2
}
