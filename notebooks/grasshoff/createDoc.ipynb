{
 "cells": [
  {
   "cell_type": "code",
   "execution_count": 1,
   "metadata": {
    "collapsed": true
   },
   "outputs": [],
   "source": [
    "import pandas as pd\n",
    "import numpy as np\n",
    "import re\n",
    "# from unidecode import unidecode\n",
    "import spacy\n",
    "from spacy.lang.en import English\n",
    "from spacy import displacy\n",
    "nlp = spacy.load('en_core_web_md', disable=[\"ner\", \"textcat\", \"entity_ruler\", \"merge_noun_chunks\", \"merge_entities\", \"merge_subtokens\"])"
   ]
  },
  {
   "cell_type": "code",
   "execution_count": 2,
   "metadata": {},
   "outputs": [],
   "source": [
    "dfExoplanetsNASA = pd.read_json('./data/dfExoplanetsNASA_v3.json', orient = 'table')\n",
    "dfExoplanetsNASA = dfExoplanetsNASA[dfExoplanetsNASA.abstract != 'None'].reset_index(drop=True)"
   ]
  },
  {
   "cell_type": "code",
   "execution_count": 3,
   "metadata": {},
   "outputs": [
    {
     "data": {
      "text/plain": [
       "31444"
      ]
     },
     "execution_count": 3,
     "metadata": {},
     "output_type": "execute_result"
    }
   ],
   "source": [
    "len(dfExoplanetsNASA)"
   ]
  },
  {
   "cell_type": "code",
   "execution_count": 4,
   "metadata": {},
   "outputs": [
    {
     "data": {
      "text/html": [
       "<div>\n",
       "<style scoped>\n",
       "    .dataframe tbody tr th:only-of-type {\n",
       "        vertical-align: middle;\n",
       "    }\n",
       "\n",
       "    .dataframe tbody tr th {\n",
       "        vertical-align: top;\n",
       "    }\n",
       "\n",
       "    .dataframe thead th {\n",
       "        text-align: right;\n",
       "    }\n",
       "</style>\n",
       "<table border=\"1\" class=\"dataframe\">\n",
       "  <thead>\n",
       "    <tr style=\"text-align: right;\">\n",
       "      <th></th>\n",
       "      <th>ID</th>\n",
       "      <th>bibcode</th>\n",
       "      <th>doi</th>\n",
       "      <th>authors</th>\n",
       "      <th>affiliation</th>\n",
       "      <th>acknowledgements</th>\n",
       "      <th>grant</th>\n",
       "      <th>published</th>\n",
       "      <th>year</th>\n",
       "      <th>title</th>\n",
       "      <th>abstract</th>\n",
       "      <th>keywords</th>\n",
       "      <th>citation_count</th>\n",
       "    </tr>\n",
       "  </thead>\n",
       "  <tbody>\n",
       "    <tr>\n",
       "      <th>0</th>\n",
       "      <td>0</td>\n",
       "      <td>2019JSWSC...9A...2G</td>\n",
       "      <td>10.1051/swsc/2018051</td>\n",
       "      <td>[Guo, Jingnan, Banjac, Saša, Röstel, Lennart, ...</td>\n",
       "      <td>[Institute of Experimental and Applied Physics...</td>\n",
       "      <td>None</td>\n",
       "      <td>[]</td>\n",
       "      <td>2019-12-00</td>\n",
       "      <td>2019</td>\n",
       "      <td>Implementation and validation of the GEANT4/At...</td>\n",
       "      <td>A new GEANT4 particle transport model - the At...</td>\n",
       "      <td>[Particle radiation in space, Particle transpo...</td>\n",
       "      <td>2</td>\n",
       "    </tr>\n",
       "    <tr>\n",
       "      <th>1</th>\n",
       "      <td>1</td>\n",
       "      <td>2019NewA...72...15L</td>\n",
       "      <td>10.1016/j.newast.2019.04.001</td>\n",
       "      <td>[Lee, Sora, van Putten, Maurice H. P. M.]</td>\n",
       "      <td>[Room 614, Astronomy and Space Science, Sejong...</td>\n",
       "      <td>The authors thank the reviewer for a detailed ...</td>\n",
       "      <td>[]</td>\n",
       "      <td>2019-10-00</td>\n",
       "      <td>2019</td>\n",
       "      <td>Global climate by Rossby number in the solar s...</td>\n",
       "      <td>On the largest scales, planetary climates can ...</td>\n",
       "      <td>[Global climate, Rossby number, Exoplanet, Hab...</td>\n",
       "      <td>0</td>\n",
       "    </tr>\n",
       "  </tbody>\n",
       "</table>\n",
       "</div>"
      ],
      "text/plain": [
       "   ID              bibcode                           doi  \\\n",
       "0   0  2019JSWSC...9A...2G          10.1051/swsc/2018051   \n",
       "1   1  2019NewA...72...15L  10.1016/j.newast.2019.04.001   \n",
       "\n",
       "                                             authors  \\\n",
       "0  [Guo, Jingnan, Banjac, Saša, Röstel, Lennart, ...   \n",
       "1          [Lee, Sora, van Putten, Maurice H. P. M.]   \n",
       "\n",
       "                                         affiliation  \\\n",
       "0  [Institute of Experimental and Applied Physics...   \n",
       "1  [Room 614, Astronomy and Space Science, Sejong...   \n",
       "\n",
       "                                    acknowledgements grant   published  year  \\\n",
       "0                                               None    []  2019-12-00  2019   \n",
       "1  The authors thank the reviewer for a detailed ...    []  2019-10-00  2019   \n",
       "\n",
       "                                               title  \\\n",
       "0  Implementation and validation of the GEANT4/At...   \n",
       "1  Global climate by Rossby number in the solar s...   \n",
       "\n",
       "                                            abstract  \\\n",
       "0  A new GEANT4 particle transport model - the At...   \n",
       "1  On the largest scales, planetary climates can ...   \n",
       "\n",
       "                                            keywords  citation_count  \n",
       "0  [Particle radiation in space, Particle transpo...               2  \n",
       "1  [Global climate, Rossby number, Exoplanet, Hab...               0  "
      ]
     },
     "execution_count": 4,
     "metadata": {},
     "output_type": "execute_result"
    }
   ],
   "source": [
    "dfExoplanetsNASA.head(2)"
   ]
  },
  {
   "cell_type": "markdown",
   "metadata": {},
   "source": [
    "# read doc of abstracts"
   ]
  },
  {
   "cell_type": "code",
   "execution_count": 5,
   "metadata": {},
   "outputs": [],
   "source": [
    "#dfExoplanetsDoc=pd.read_pickle(\"/Users/gerdgrasshoff/Dropbox/temp/df_doc.pcl\")\n",
    "dfExoplanetsSent=pd.read_json(\"./data/dfE.json\",orient=\"table\")"
   ]
  },
  {
   "cell_type": "code",
   "execution_count": 7,
   "metadata": {},
   "outputs": [
    {
     "data": {
      "text/html": [
       "<div>\n",
       "<style scoped>\n",
       "    .dataframe tbody tr th:only-of-type {\n",
       "        vertical-align: middle;\n",
       "    }\n",
       "\n",
       "    .dataframe tbody tr th {\n",
       "        vertical-align: top;\n",
       "    }\n",
       "\n",
       "    .dataframe thead th {\n",
       "        text-align: right;\n",
       "    }\n",
       "</style>\n",
       "<table border=\"1\" class=\"dataframe\">\n",
       "  <thead>\n",
       "    <tr style=\"text-align: right;\">\n",
       "      <th></th>\n",
       "      <th>IDabstr</th>\n",
       "      <th>IDsentence</th>\n",
       "      <th>sentence</th>\n",
       "    </tr>\n",
       "  </thead>\n",
       "  <tbody>\n",
       "    <tr>\n",
       "      <th>0</th>\n",
       "      <td>0</td>\n",
       "      <td>0</td>\n",
       "      <td>A new GEANT4 particle transport model - the At...</td>\n",
       "    </tr>\n",
       "    <tr>\n",
       "      <th>1</th>\n",
       "      <td>0</td>\n",
       "      <td>1</td>\n",
       "      <td>The upcoming instrumentational advancements in...</td>\n",
       "    </tr>\n",
       "    <tr>\n",
       "      <th>2</th>\n",
       "      <td>0</td>\n",
       "      <td>2</td>\n",
       "      <td>for the modeling of radiation environment for ...</td>\n",
       "    </tr>\n",
       "    <tr>\n",
       "      <th>3</th>\n",
       "      <td>0</td>\n",
       "      <td>3</td>\n",
       "      <td>Since there are no factors limiting the applic...</td>\n",
       "    </tr>\n",
       "  </tbody>\n",
       "</table>\n",
       "</div>"
      ],
      "text/plain": [
       "   IDabstr  IDsentence                                           sentence\n",
       "0        0           0  A new GEANT4 particle transport model - the At...\n",
       "1        0           1  The upcoming instrumentational advancements in...\n",
       "2        0           2  for the modeling of radiation environment for ...\n",
       "3        0           3  Since there are no factors limiting the applic..."
      ]
     },
     "execution_count": 7,
     "metadata": {},
     "output_type": "execute_result"
    }
   ],
   "source": [
    "dfExoplanetsSent.head(4)"
   ]
  },
  {
   "cell_type": "code",
   "execution_count": 8,
   "metadata": {},
   "outputs": [
    {
     "data": {
      "text/plain": [
       "251386"
      ]
     },
     "execution_count": 8,
     "metadata": {},
     "output_type": "execute_result"
    }
   ],
   "source": [
    "sentences=list(dfExoplanetsSent['sentence'])\n",
    "len(sentences)"
   ]
  },
  {
   "cell_type": "code",
   "execution_count": 9,
   "metadata": {},
   "outputs": [
    {
     "data": {
      "text/plain": [
       "'Previously, we announced that K2-133 contained three super-Earths orbiting an M1.5V host star - with tentative evidence of a fourth outer-planet orbiting at the edge of the temperate zone.'"
      ]
     },
     "execution_count": 9,
     "metadata": {},
     "output_type": "execute_result"
    }
   ],
   "source": [
    "sentences[100]"
   ]
  },
  {
   "cell_type": "code",
   "execution_count": 11,
   "metadata": {},
   "outputs": [
    {
     "data": {
      "application/vnd.jupyter.widget-view+json": {
       "model_id": "88418d801e56444a9374486aa932f51e",
       "version_major": 2,
       "version_minor": 0
      },
      "text/plain": [
       "QgridWidget(grid_options={'fullWidthRows': True, 'syncColumnCellResize': True, 'forceFitColumns': True, 'defau…"
      ]
     },
     "metadata": {},
     "output_type": "display_data"
    }
   ],
   "source": [
    "import qgrid\n",
    "qgrid_widget=qgrid.show_grid(dfExoplanetsSent,show_toolbar=True)\n",
    "qgrid_widget"
   ]
  },
  {
   "cell_type": "code",
   "execution_count": null,
   "metadata": {},
   "outputs": [],
   "source": [
    "dfExoSents.to_pickle(\"/Users/gerdgrasshoff/Dropbox/temp/dfExoSents.pickl\")"
   ]
  },
  {
   "cell_type": "code",
   "execution_count": null,
   "metadata": {},
   "outputs": [],
   "source": [
    "def todo(ax):\n",
    "    return(nlp(ax[\"sentence\"]))\n",
    "dfExoSentsDoc=dfExoSents.apply(lambda a:todo(a),axis=1)"
   ]
  },
  {
   "cell_type": "code",
   "execution_count": null,
   "metadata": {},
   "outputs": [],
   "source": [
    "len(dfExoSentsDoc)"
   ]
  },
  {
   "cell_type": "code",
   "execution_count": null,
   "metadata": {},
   "outputs": [],
   "source": [
    "dfExoSentsDoc.to_pickle(\"/tmp/dfExoSentsDoc.pickl\")"
   ]
  }
 ],
 "metadata": {
  "kernelspec": {
   "display_name": "Python 3",
   "language": "python",
   "name": "python3"
  },
  "language_info": {
   "codemirror_mode": {
    "name": "ipython",
    "version": 3
   },
   "file_extension": ".py",
   "mimetype": "text/x-python",
   "name": "python",
   "nbconvert_exporter": "python",
   "pygments_lexer": "ipython3",
   "version": "3.7.3"
  }
 },
 "nbformat": 4,
 "nbformat_minor": 2
}
