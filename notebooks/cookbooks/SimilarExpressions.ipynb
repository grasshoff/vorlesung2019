{
 "cells": [
  {
   "cell_type": "code",
   "execution_count": 13,
   "metadata": {},
   "outputs": [
    {
     "name": "stdout",
     "output_type": "stream",
     "text": [
      "Synset('observation.n.01')\n",
      "Lemma('observation.n.01.observation')\n",
      "Synset('observation.n.02')\n",
      "Lemma('observation.n.02.observation')\n",
      "Lemma('observation.n.02.observance')\n",
      "Lemma('observation.n.02.watching')\n",
      "Synset('observation.n.03')\n",
      "Lemma('observation.n.03.observation')\n",
      "Lemma('observation.n.03.reflection')\n",
      "Lemma('observation.n.03.reflexion')\n",
      "Synset('observation.n.04')\n",
      "Lemma('observation.n.04.observation')\n",
      "Synset('notice.n.02')\n",
      "Lemma('notice.n.02.notice')\n",
      "Lemma('notice.n.02.observation')\n",
      "Lemma('notice.n.02.observance')\n",
      "{'reflection', 'observance', 'notice', 'reflexion', 'watching', 'observation'}\n",
      "set()\n"
     ]
    }
   ],
   "source": [
    "from nltk.corpus import wordnet\n",
    "synonyms = []\n",
    "antonyms = []\n",
    "\n",
    "for syn in wordnet.synsets(\"observation\"):\n",
    "    print(syn)\n",
    "    for l in syn.lemmas():\n",
    "        print(l)\n",
    "        synonyms.append(l.name())\n",
    "        if l.antonyms():\n",
    "            antonyms.append(l.antonyms()[0].name())\n",
    "\n",
    "print(set(synonyms))\n",
    "print(set(antonyms))"
   ]
  }
 ],
 "metadata": {
  "kernelspec": {
   "display_name": "Python 3",
   "language": "python",
   "name": "python3"
  },
  "language_info": {
   "codemirror_mode": {
    "name": "ipython",
    "version": 3
   },
   "file_extension": ".py",
   "mimetype": "text/x-python",
   "name": "python",
   "nbconvert_exporter": "python",
   "pygments_lexer": "ipython3",
   "version": "3.6.8"
  }
 },
 "nbformat": 4,
 "nbformat_minor": 2
}
