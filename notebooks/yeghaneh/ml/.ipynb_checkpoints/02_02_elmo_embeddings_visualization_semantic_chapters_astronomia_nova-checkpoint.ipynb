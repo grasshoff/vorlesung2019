{
 "cells": [
  {
   "cell_type": "markdown",
   "metadata": {
    "colab_type": "text",
    "id": "ZU3MR71VpovV"
   },
   "source": [
    "### Embeddings from Language Models (ELMo)\n",
    "\n",
    "Elmo is a proper way to represent words in vectors or embeddings, ELMo tries to\n",
    "model complicated characteristics of word such as syntax and semantics and changes\n",
    "across linguistic contexts. For more information.\n",
    "\n",
    "This representations can be easily added to\n",
    "existing models and significantly improve the\n",
    "state of the art  result in Semantic anlysis and named entity recognition (NER)\n",
    "For more information  please see: \n",
    "<br />\n",
    "\n",
    "https://arxiv.org/abs/1802.05365\n",
    " \n",
    " \n"
   ]
  },
  {
   "cell_type": "markdown",
   "metadata": {},
   "source": [
    "## Imports"
   ]
  },
  {
   "cell_type": "code",
   "execution_count": 26,
   "metadata": {
    "colab": {
     "base_uri": "https://localhost:8080/",
     "height": 272
    },
    "colab_type": "code",
    "id": "_Qgy7Jmr5wSx",
    "outputId": "51abf899-8172-48bb-c989-6e2fde2de89c"
   },
   "outputs": [],
   "source": [
    "import os\n",
    "import numpy as np\n",
    "import pandas as pd\n",
    "import tensorflow as tf  # conda install -c conda-forge tensorflow \n",
    "import tensorflow_hub as hub  #-c conda-forge tensorflow-hub\n",
    "from sklearn import preprocessing \n",
    "\n",
    "#!python -m spacy download en_core_web_md #you will need to install this on first load\n",
    "import spacy\n",
    "from spacy.lang.en import English\n",
    "from spacy import displacy\n",
    "#nlp = spacy.load('en_core_web_md')\n",
    "from IPython.display import HTML\n",
    "import logging\n",
    "#logging.getLogger('tensorflow').disabled = True #OPTIONAL - to disable outputs from Tensorflow\n",
    "import plotly.plotly as py  #conda install -c plotly plotly\n",
    "import plotly.graph_objs as go\n",
    "from plotly.offline import download_plotlyjs, init_notebook_mode, plot, iplot"
   ]
  },
  {
   "cell_type": "markdown",
   "metadata": {
    "colab_type": "text",
    "id": "WMknjdZpCgR0"
   },
   "source": [
    "## Data \n",
    "\n"
   ]
  },
  {
   "cell_type": "markdown",
   "metadata": {},
   "source": [
    "Please download the data '01_df_v013.pickle' in github on  your local machine from  this directory :<br />\n",
    " https://github.com/grasshoff/vorlesung2019/tree/master/notebooks/yeghaneh/data\n",
    " <br /><br />\n",
    "The data 01_df_v013 is annotated (labeled) data of english version of well-known kepler's book: New Astronomy (Latin: Astronomia nova). You can find that in the repository.\n"
   ]
  },
  {
   "cell_type": "code",
   "execution_count": 27,
   "metadata": {},
   "outputs": [],
   "source": [
    "importVersion = '013'  # The  desired version pickle-file of your data (now we are working on version 013 of our data)"
   ]
  },
  {
   "cell_type": "code",
   "execution_count": 28,
   "metadata": {},
   "outputs": [],
   "source": [
    "path= r'C:\\Users\\moha\\Documents\\BZML\\01_df_v{0}.pickle'.format(importVersion)  # Put the path of the data in your local machine here, consider the letter \"r\" before the path"
   ]
  },
  {
   "cell_type": "markdown",
   "metadata": {},
   "source": [
    "### Pre-processing"
   ]
  },
  {
   "cell_type": "code",
   "execution_count": 29,
   "metadata": {},
   "outputs": [
    {
     "data": {
      "text/plain": [
       "pandas.core.frame.DataFrame"
      ]
     },
     "execution_count": 29,
     "metadata": {},
     "output_type": "execute_result"
    }
   ],
   "source": [
    "dfAstroNova = pd.read_pickle(path)# The data  is saved as a pickle file. We read it as a pandas dataFrame\n",
    "type(dfAstroNova)  "
   ]
  },
  {
   "cell_type": "code",
   "execution_count": null,
   "metadata": {},
   "outputs": [],
   "source": [
    " # Sort the data based on the chapters of the book \n",
    "dfAstroNova['chapter'] = dfAstroNova.chapter.replace(\"appendix b\",np.nan).astype(float)  \n",
    "dfAstroNova.sort_values(by='chapter' , inplace=True)\n",
    "dfAstroNova.chapter.fillna('appendix b', inplace=True)"
   ]
  },
  {
   "cell_type": "code",
   "execution_count": null,
   "metadata": {},
   "outputs": [
    {
     "data": {
      "text/plain": [
       "1605"
      ]
     },
     "execution_count": 31,
     "metadata": {},
     "output_type": "execute_result"
    }
   ],
   "source": [
    "len(dfAstroNova)   # Number of rows."
   ]
  },
  {
   "cell_type": "code",
   "execution_count": null,
   "metadata": {},
   "outputs": [
    {
     "data": {
      "text/html": [
       "<div>\n",
       "<style scoped>\n",
       "    .dataframe tbody tr th:only-of-type {\n",
       "        vertical-align: middle;\n",
       "    }\n",
       "\n",
       "    .dataframe tbody tr th {\n",
       "        vertical-align: top;\n",
       "    }\n",
       "\n",
       "    .dataframe thead th {\n",
       "        text-align: right;\n",
       "    }\n",
       "</style>\n",
       "<table border=\"1\" class=\"dataframe\">\n",
       "  <thead>\n",
       "    <tr style=\"text-align: right;\">\n",
       "      <th></th>\n",
       "      <th>html</th>\n",
       "      <th>text</th>\n",
       "      <th>links</th>\n",
       "      <th>italic</th>\n",
       "      <th>chapter</th>\n",
       "      <th>graphic</th>\n",
       "      <th>table</th>\n",
       "      <th>marginal</th>\n",
       "      <th>sentences</th>\n",
       "      <th>tagged</th>\n",
       "    </tr>\n",
       "  </thead>\n",
       "  <tbody>\n",
       "    <tr>\n",
       "      <th>18</th>\n",
       "      <td>&lt;p&gt;&lt;span class=\"anchor\" id=\"bookmark0\"&gt;&lt;/span&gt;...</td>\n",
       "      <td>Chapter 1</td>\n",
       "      <td>[]</td>\n",
       "      <td>[]</td>\n",
       "      <td>1</td>\n",
       "      <td>[]</td>\n",
       "      <td>[]</td>\n",
       "      <td>[]</td>\n",
       "      <td>[Chapter 1]</td>\n",
       "      <td>[[(Chapter, None), (1, NUM)]]</td>\n",
       "    </tr>\n",
       "    <tr>\n",
       "      <th>34</th>\n",
       "      <td>&lt;p&gt;But before that, I shall prove in this firs...</td>\n",
       "      <td>But before that, I shall prove in this first p...</td>\n",
       "      <td>[]</td>\n",
       "      <td>[]</td>\n",
       "      <td>1</td>\n",
       "      <td>[]</td>\n",
       "      <td>[]</td>\n",
       "      <td>[]</td>\n",
       "      <td>[But before that, I shall prove in this first ...</td>\n",
       "      <td>[[(But, None), (before, None), (that, None), (...</td>\n",
       "    </tr>\n",
       "    <tr>\n",
       "      <th>33</th>\n",
       "      <td>&lt;p&gt;But since the sun's mean and apparent motio...</td>\n",
       "      <td>But since the sun's mean and apparent motions*...</td>\n",
       "      <td>[]</td>\n",
       "      <td>[Mysterium cosmographicum,]</td>\n",
       "      <td>1</td>\n",
       "      <td>[]</td>\n",
       "      <td>[]</td>\n",
       "      <td>[ Terms: * The sun's apparent position is that...</td>\n",
       "      <td>[But since the sun's mean and apparent motions...</td>\n",
       "      <td>[[(But, None), (since, None), (the, None), (su...</td>\n",
       "    </tr>\n",
       "    <tr>\n",
       "      <th>32</th>\n",
       "      <td>&lt;p&gt;Now the causes and measures of these inequa...</td>\n",
       "      <td>Now the causes and measures of these inequalit...</td>\n",
       "      <td>[]</td>\n",
       "      <td>[]</td>\n",
       "      <td>1</td>\n",
       "      <td>[]</td>\n",
       "      <td>[]</td>\n",
       "      <td>[ 5]</td>\n",
       "      <td>[Now the causes and measures of these inequali...</td>\n",
       "      <td>[[(Now, None), (the, None), (causes, None), (a...</td>\n",
       "    </tr>\n",
       "    <tr>\n",
       "      <th>30</th>\n",
       "      <td>&lt;p&gt;Again, however, it was noticed that these l...</td>\n",
       "      <td>Again, however, it was noticed that these loop...</td>\n",
       "      <td>[]</td>\n",
       "      <td>[]</td>\n",
       "      <td>1</td>\n",
       "      <td>[]</td>\n",
       "      <td>[]</td>\n",
       "      <td>[]</td>\n",
       "      <td>[Again, however, it was noticed that these loo...</td>\n",
       "      <td>[[(Again, None), (however, None), (it, None), ...</td>\n",
       "    </tr>\n",
       "  </tbody>\n",
       "</table>\n",
       "</div>"
      ],
      "text/plain": [
       "                                                 html  \\\n",
       "18  <p><span class=\"anchor\" id=\"bookmark0\"></span>...   \n",
       "34  <p>But before that, I shall prove in this firs...   \n",
       "33  <p>But since the sun's mean and apparent motio...   \n",
       "32  <p>Now the causes and measures of these inequa...   \n",
       "30  <p>Again, however, it was noticed that these l...   \n",
       "\n",
       "                                                 text links  \\\n",
       "18                                          Chapter 1    []   \n",
       "34  But before that, I shall prove in this first p...    []   \n",
       "33  But since the sun's mean and apparent motions*...    []   \n",
       "32  Now the causes and measures of these inequalit...    []   \n",
       "30  Again, however, it was noticed that these loop...    []   \n",
       "\n",
       "                         italic chapter graphic table  \\\n",
       "18                           []       1      []    []   \n",
       "34                           []       1      []    []   \n",
       "33  [Mysterium cosmographicum,]       1      []    []   \n",
       "32                           []       1      []    []   \n",
       "30                           []       1      []    []   \n",
       "\n",
       "                                             marginal  \\\n",
       "18                                                 []   \n",
       "34                                                 []   \n",
       "33  [ Terms: * The sun's apparent position is that...   \n",
       "32                                               [ 5]   \n",
       "30                                                 []   \n",
       "\n",
       "                                            sentences  \\\n",
       "18                                        [Chapter 1]   \n",
       "34  [But before that, I shall prove in this first ...   \n",
       "33  [But since the sun's mean and apparent motions...   \n",
       "32  [Now the causes and measures of these inequali...   \n",
       "30  [Again, however, it was noticed that these loo...   \n",
       "\n",
       "                                               tagged  \n",
       "18                      [[(Chapter, None), (1, NUM)]]  \n",
       "34  [[(But, None), (before, None), (that, None), (...  \n",
       "33  [[(But, None), (since, None), (the, None), (su...  \n",
       "32  [[(Now, None), (the, None), (causes, None), (a...  \n",
       "30  [[(Again, None), (however, None), (it, None), ...  "
      ]
     },
     "execution_count": 32,
     "metadata": {},
     "output_type": "execute_result"
    }
   ],
   "source": [
    "dfAstroNova.head(5)  "
   ]
  },
  {
   "cell_type": "code",
   "execution_count": null,
   "metadata": {},
   "outputs": [],
   "source": [
    "sentences_01=dfAstroNova['text']"
   ]
  },
  {
   "cell_type": "code",
   "execution_count": null,
   "metadata": {},
   "outputs": [],
   "source": [
    "sentences_01=list(sentences_01)"
   ]
  },
  {
   "cell_type": "code",
   "execution_count": null,
   "metadata": {},
   "outputs": [],
   "source": [
    "sentences_01=sentences_01[0:150] "
   ]
  },
  {
   "cell_type": "code",
   "execution_count": null,
   "metadata": {},
   "outputs": [
    {
     "data": {
      "text/plain": [
       "150"
      ]
     },
     "execution_count": 36,
     "metadata": {},
     "output_type": "execute_result"
    }
   ],
   "source": [
    "len(sentences_01)  #Because of heavy computation, only part of the data is embedded."
   ]
  },
  {
   "cell_type": "markdown",
   "metadata": {
    "colab_type": "text",
    "id": "FxkL4RXwVToa"
   },
   "source": [
    "## Create sentence embeddings"
   ]
  },
  {
   "cell_type": "code",
   "execution_count": null,
   "metadata": {
    "colab": {},
    "colab_type": "code",
    "id": "UIhHrFsmOC6C"
   },
   "outputs": [],
   "source": [
    "url = \"https://tfhub.dev/google/elmo/2\"\n",
    "embed = hub.Module(url)"
   ]
  },
  {
   "cell_type": "code",
   "execution_count": null,
   "metadata": {
    "colab": {},
    "colab_type": "code",
    "id": "HsGkzCltOMOl"
   },
   "outputs": [
    {
     "name": "stdout",
     "output_type": "stream",
     "text": [
      "INFO:tensorflow:Saver not created because there are no variables in the graph to restore\n"
     ]
    },
    {
     "name": "stderr",
     "output_type": "stream",
     "text": [
      "I0507 12:12:04.243252  7056 saver.py:1483] Saver not created because there are no variables in the graph to restore\n"
     ]
    }
   ],
   "source": [
    "embeddings = embed(\n",
    "    sentences_01,\n",
    "    signature=\"default\",\n",
    "    as_dict=True)[\"default\"]"
   ]
  },
  {
   "cell_type": "code",
   "execution_count": null,
   "metadata": {},
   "outputs": [
    {
     "data": {
      "text/plain": [
       "<tf.Tensor 'module_1_apply_default/truediv:0' shape=(150, 1024) dtype=float32>"
      ]
     },
     "execution_count": 39,
     "metadata": {},
     "output_type": "execute_result"
    }
   ],
   "source": [
    "embeddings"
   ]
  },
  {
   "cell_type": "code",
   "execution_count": null,
   "metadata": {
    "colab": {
     "base_uri": "https://localhost:8080/",
     "height": 51
    },
    "colab_type": "code",
    "id": "oA6BO4a_Oswf",
    "outputId": "7c59f851-9784-4307-a310-244aea8dac90"
   },
   "outputs": [],
   "source": [
    "%%time\n",
    "with tf.Session() as sess:\n",
    "  sess.run(tf.global_variables_initializer())\n",
    "  sess.run(tf.tables_initializer())\n",
    "  x = sess.run(embeddings)"
   ]
  },
  {
   "cell_type": "markdown",
   "metadata": {
    "colab_type": "text",
    "id": "Qwlt2Husrtzo"
   },
   "source": [
    "## Visualize the sentences using PCA and TSNE"
   ]
  },
  {
   "cell_type": "markdown",
   "metadata": {},
   "source": [
    "An informative plot  by dimensionality reduction of our data to 2D. Colours are based on the sentence length. "
   ]
  },
  {
   "cell_type": "code",
   "execution_count": null,
   "metadata": {
    "colab": {},
    "colab_type": "code",
    "id": "xAGj0yJyUD3W"
   },
   "outputs": [],
   "source": [
    "from sklearn.decomposition import PCA\n",
    "\n",
    "pca = PCA(n_components=50)\n",
    "y = pca.fit_transform(x)\n",
    "\n",
    "from sklearn.manifold import TSNE\n",
    "\n",
    "y = TSNE(n_components=2).fit_transform(y)"
   ]
  },
  {
   "cell_type": "code",
   "execution_count": null,
   "metadata": {
    "colab": {
     "base_uri": "https://localhost:8080/",
     "height": 17
    },
    "colab_type": "code",
    "id": "KGUyrjcMfdJp",
    "outputId": "e48f033d-ec9e-442d-bd17-be8746c4eaf4"
   },
   "outputs": [],
   "source": [
    "\n",
    "\n",
    "init_notebook_mode(connected=True)\n",
    "\n",
    "\n",
    "data = [\n",
    "    go.Scatter(\n",
    "        x=[i[0] for i in y],\n",
    "        y=[i[1] for i in y],\n",
    "        mode='markers',\n",
    "        text=[i for i in sentences_01],\n",
    "    marker=dict(\n",
    "        size=16,\n",
    "        color = [len(i) for i in sentences_01], #set color equal to a variable\n",
    "        opacity= 0.8,\n",
    "        colorscale='Viridis',\n",
    "        showscale=False\n",
    "    )\n",
    "    )\n",
    "]\n",
    "layout = go.Layout()\n",
    "layout = dict(\n",
    "              yaxis = dict(zeroline = False),\n",
    "              xaxis = dict(zeroline = False)\n",
    "             )\n",
    "fig = go.Figure(data=data, layout=layout)\n",
    "file = plot(fig, filename='Sentence encode.html')\n",
    "\n",
    "#from google.colab import files   #conda install -c conda-forge pydrive \n",
    "#files.download('Sentence encode.html')   "
   ]
  },
  {
   "cell_type": "markdown",
   "metadata": {
    "colab_type": "text",
    "id": "eAu1zHOjrzzj"
   },
   "source": [
    "## Create a semantic search engine:"
   ]
  },
  {
   "cell_type": "code",
   "execution_count": null,
   "metadata": {
    "cellView": "both",
    "colab": {
     "base_uri": "https://localhost:8080/",
     "height": 183
    },
    "colab_type": "code",
    "id": "HfgIfOxXQ8ba",
    "outputId": "da678d22-2cbb-4159-dffb-a35f7ed5a663"
   },
   "outputs": [],
   "source": [
    "#@title Sementic search\n",
    "#@markdown Enter a set of words to find matching sentences. 'results_returned' can beused to modify the number of matching sentences retured. To view the code behind this cell, use the menu in the top right to unhide...\n",
    "search_string = \"eclipse\" #@param {type:\"string\"}\n",
    "results_returned = \"5\" #@param [1, 2, 3]\n",
    "\n",
    "from sklearn.metrics.pairwise import cosine_similarity\n",
    "\n",
    "\n",
    "embeddings2 = embed(\n",
    "\n",
    "    [search_string],\n",
    "    signature=\"default\",\n",
    "    as_dict=True)[\"default\"]\n",
    "\n",
    "with tf.Session() as sess:\n",
    "  sess.run(tf.global_variables_initializer())\n",
    "  sess.run(tf.tables_initializer())\n",
    "  search_vect = sess.run(embeddings2)\n",
    "  \n",
    "\n",
    "cosine_similarities = pd.Series(cosine_similarity(search_vect, x).flatten())\n",
    "output =\"\"\n",
    "for i,j in cosine_similarities.nlargest(int(results_returned)).iteritems():\n",
    "  output +='<p style=\"font-family:verdana; font-size:110%;\"> '\n",
    "  for i in sentences_01[i].split():\n",
    "    if i.lower() in search_string:\n",
    "      output += \" <b>\"+str(i)+\"</b>\"\n",
    "    else:\n",
    "      output += \" \"+str(i)\n",
    "  output += \"</p><hr>\"\n",
    "    \n",
    "output = '<h3>Results:</h3>'+output\n",
    "display(HTML(output))\n",
    "#   print(sentences[i])\n",
    "#   print('\\n')\n"
   ]
  },
  {
   "cell_type": "markdown",
   "metadata": {},
   "source": [
    "It seems that the search engine clearly knows that moon and eclipse are closely related! "
   ]
  }
 ],
 "metadata": {
  "colab": {
   "collapsed_sections": [],
   "name": "Copy of Elmo contextual embeddings.ipynb",
   "provenance": [],
   "version": "0.3.2"
  },
  "kernelspec": {
   "display_name": "Python 3",
   "language": "python",
   "name": "python3"
  },
  "language_info": {
   "codemirror_mode": {
    "name": "ipython",
    "version": 3
   },
   "file_extension": ".py",
   "mimetype": "text/x-python",
   "name": "python",
   "nbconvert_exporter": "python",
   "pygments_lexer": "ipython3",
   "version": "3.7.1"
  }
 },
 "nbformat": 4,
 "nbformat_minor": 2
}
