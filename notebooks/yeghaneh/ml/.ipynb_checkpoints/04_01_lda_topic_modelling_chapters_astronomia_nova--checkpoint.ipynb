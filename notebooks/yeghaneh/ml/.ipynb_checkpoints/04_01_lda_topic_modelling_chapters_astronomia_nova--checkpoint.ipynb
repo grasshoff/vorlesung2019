{
 "cells": [
  {
   "cell_type": "markdown",
   "metadata": {},
   "source": [
    "# **Extracting Topic model by  \"Latent Dirichlet Allocation (LDA)\"  of kepler's book: \"Astronomia Nova** \"\n",
    "<font size=\"4\">\n",
    "This notebook demonstrates how to **extract topics **  from documents, corpus, book. We visualize the result in an informative way. Here, an unsupervised learning model LDA is used. **Topic modelling** is based on the basic assumptions that each corpus (book)  consists of different topics and each topic consists of a collection of words.\n",
    "<font/>\n"
   ]
  },
  {
   "cell_type": "markdown",
   "metadata": {},
   "source": [
    "### Import the required tools "
   ]
  },
  {
   "cell_type": "code",
   "execution_count": 23,
   "metadata": {
    "collapsed": true
   },
   "outputs": [
    {
     "name": "stderr",
     "output_type": "stream",
     "text": [
      "[nltk_data] Downloading package punkt to\n",
      "[nltk_data]     C:\\Users\\moha\\AppData\\Roaming\\nltk_data...\n",
      "[nltk_data]   Package punkt is already up-to-date!\n",
      "[nltk_data] Downloading package averaged_perceptron_tagger to\n",
      "[nltk_data]     C:\\Users\\moha\\AppData\\Roaming\\nltk_data...\n",
      "[nltk_data]   Package averaged_perceptron_tagger is already up-to-\n",
      "[nltk_data]       date!\n",
      "[nltk_data] Downloading package wordnet to\n",
      "[nltk_data]     C:\\Users\\moha\\AppData\\Roaming\\nltk_data...\n",
      "[nltk_data]   Package wordnet is already up-to-date!\n"
     ]
    }
   ],
   "source": [
    "import numpy as np\n",
    "import pandas as pd\n",
    "import scipy as sp\n",
    "import matplotlib.pyplot as plt\n",
    "import collections\n",
    "import os\n",
    "import logging\n",
    "import warnings\n",
    "from itertools import permutations\n",
    "from sklearn.metrics import make_scorer,confusion_matrix\n",
    "from sklearn.model_selection import cross_val_score\n",
    "from sklearn.model_selection import RandomizedSearchCV\n",
    "import sklearn_crfsuite  # to install this package in windows with pip please run: 'pip install sklearn-crfsuite'\n",
    "from sklearn_crfsuite import metrics, scorers\n",
    "import nltk\n",
    "from nltk.tokenize import word_tokenize\n",
    "from nltk.tag import pos_tag\n",
    "nltk.download('punkt')\n",
    "nltk.download('averaged_perceptron_tagger')\n",
    "import eli5  # to install this package in windows with conda please run: 'conda install -c conda-forge eli5'\n",
    "from nltk.stem.porter import PorterStemmer\n",
    "from nltk.stem import WordNetLemmatizer \n",
    "from gensim import corpora, models  #  to install this package in windows with conda please run: 'models conda install -c conda-forge gensim'\n",
    "nltk.download('wordnet')\n",
    "%matplotlib inline\n",
    "warnings.filterwarnings(\"ignore\",category=DeprecationWarning)\n",
    "logging.basicConfig(format='%(asctime)s : %(levelname)s : %(message)s', level=logging.ERROR)"
   ]
  },
  {
   "cell_type": "markdown",
   "metadata": {},
   "source": [
    "Please download the data '01_df_v013.pickle' in github on  your local machine from  this directory: vorlesung2019/notebooks/yeghaneh/data"
   ]
  },
  {
   "cell_type": "code",
   "execution_count": 24,
   "metadata": {
    "collapsed": true
   },
   "outputs": [],
   "source": [
    "importVersion = '013'  # The  desired version pickle-file of your data (now we are working on version 013 of our data)"
   ]
  },
  {
   "cell_type": "code",
   "execution_count": 25,
   "metadata": {
    "collapsed": true
   },
   "outputs": [],
   "source": [
    "path = '../data/01_df_v{0}.pickle'.format(importVersion)  # Put the path of the data in your local machine here, consider the letter \"r\" before the path"
   ]
  },
  {
   "cell_type": "markdown",
   "metadata": {},
   "source": [
    "### Let's use data \"01_df_v013\" to build a NER system. \n",
    "<font size=\"3\">The data 01_df_v013 is annotated (labeled) data of english version of well-known kepler's book: New Astronomy (Latin: Astronomia nova). You can find that in the repository.\n",
    "             </font>\n"
   ]
  },
  {
   "cell_type": "markdown",
   "metadata": {},
   "source": [
    "## **Read the data** \n",
    "<font size=\"3\">The data  is saves as a pickle file. We read it as a pandas dataFrame. </font>"
   ]
  },
  {
   "cell_type": "code",
   "execution_count": 26,
   "metadata": {},
   "outputs": [],
   "source": [
    "dfAstroNova = pd.read_pickle(path)  # Put the path of the data in your local machine here, consider the letter \"r\" before the path"
   ]
  },
  {
   "cell_type": "markdown",
   "metadata": {},
   "source": [
    "<font size=\"4\"> Sort the data based on the chapters of the book \n",
    "</font>"
   ]
  },
  {
   "cell_type": "code",
   "execution_count": 27,
   "metadata": {},
   "outputs": [],
   "source": [
    "dfAstroNova['chapter'] = dfAstroNova.chapter.replace(\"appendix b\",np.nan).astype(float)  \n",
    "dfAstroNova.sort_values(by='chapter' , inplace=True)\n",
    "dfAstroNova.chapter.fillna('appendix b', inplace=True)"
   ]
  },
  {
   "cell_type": "code",
   "execution_count": 28,
   "metadata": {},
   "outputs": [
    {
     "data": {
      "text/plain": [
       "1605"
      ]
     },
     "execution_count": 28,
     "metadata": {},
     "output_type": "execute_result"
    }
   ],
   "source": [
    "len(dfAstroNova)   # Number of rows."
   ]
  },
  {
   "cell_type": "code",
   "execution_count": 29,
   "metadata": {},
   "outputs": [
    {
     "data": {
      "text/html": [
       "<div>\n",
       "<style scoped>\n",
       "    .dataframe tbody tr th:only-of-type {\n",
       "        vertical-align: middle;\n",
       "    }\n",
       "\n",
       "    .dataframe tbody tr th {\n",
       "        vertical-align: top;\n",
       "    }\n",
       "\n",
       "    .dataframe thead th {\n",
       "        text-align: right;\n",
       "    }\n",
       "</style>\n",
       "<table border=\"1\" class=\"dataframe\">\n",
       "  <thead>\n",
       "    <tr style=\"text-align: right;\">\n",
       "      <th></th>\n",
       "      <th>html</th>\n",
       "      <th>text</th>\n",
       "      <th>links</th>\n",
       "      <th>italic</th>\n",
       "      <th>chapter</th>\n",
       "      <th>graphic</th>\n",
       "      <th>table</th>\n",
       "      <th>marginal</th>\n",
       "      <th>sentences</th>\n",
       "      <th>tagged</th>\n",
       "    </tr>\n",
       "  </thead>\n",
       "  <tbody>\n",
       "    <tr>\n",
       "      <th>18</th>\n",
       "      <td>&lt;p&gt;&lt;span class=\"anchor\" id=\"bookmark0\"&gt;&lt;/span&gt;...</td>\n",
       "      <td>Chapter 1</td>\n",
       "      <td>[]</td>\n",
       "      <td>[]</td>\n",
       "      <td>1</td>\n",
       "      <td>[]</td>\n",
       "      <td>[]</td>\n",
       "      <td>[]</td>\n",
       "      <td>[Chapter 1]</td>\n",
       "      <td>[[(Chapter, None), (1, NUM)]]</td>\n",
       "    </tr>\n",
       "    <tr>\n",
       "      <th>34</th>\n",
       "      <td>&lt;p&gt;But before that, I shall prove in this firs...</td>\n",
       "      <td>But before that, I shall prove in this first p...</td>\n",
       "      <td>[]</td>\n",
       "      <td>[]</td>\n",
       "      <td>1</td>\n",
       "      <td>[]</td>\n",
       "      <td>[]</td>\n",
       "      <td>[]</td>\n",
       "      <td>[But before that, I shall prove in this first ...</td>\n",
       "      <td>[[(But, None), (before, None), (that, None), (...</td>\n",
       "    </tr>\n",
       "    <tr>\n",
       "      <th>33</th>\n",
       "      <td>&lt;p&gt;But since the sun's mean and apparent motio...</td>\n",
       "      <td>But since the sun's mean and apparent motions*...</td>\n",
       "      <td>[]</td>\n",
       "      <td>[Mysterium cosmographicum,]</td>\n",
       "      <td>1</td>\n",
       "      <td>[]</td>\n",
       "      <td>[]</td>\n",
       "      <td>[ Terms: * The sun's apparent position is that...</td>\n",
       "      <td>[But since the sun's mean and apparent motions...</td>\n",
       "      <td>[[(But, None), (since, None), (the, None), (su...</td>\n",
       "    </tr>\n",
       "    <tr>\n",
       "      <th>32</th>\n",
       "      <td>&lt;p&gt;Now the causes and measures of these inequa...</td>\n",
       "      <td>Now the causes and measures of these inequalit...</td>\n",
       "      <td>[]</td>\n",
       "      <td>[]</td>\n",
       "      <td>1</td>\n",
       "      <td>[]</td>\n",
       "      <td>[]</td>\n",
       "      <td>[ 5]</td>\n",
       "      <td>[Now the causes and measures of these inequali...</td>\n",
       "      <td>[[(Now, None), (the, None), (causes, None), (a...</td>\n",
       "    </tr>\n",
       "    <tr>\n",
       "      <th>30</th>\n",
       "      <td>&lt;p&gt;Again, however, it was noticed that these l...</td>\n",
       "      <td>Again, however, it was noticed that these loop...</td>\n",
       "      <td>[]</td>\n",
       "      <td>[]</td>\n",
       "      <td>1</td>\n",
       "      <td>[]</td>\n",
       "      <td>[]</td>\n",
       "      <td>[]</td>\n",
       "      <td>[Again, however, it was noticed that these loo...</td>\n",
       "      <td>[[(Again, None), (however, None), (it, None), ...</td>\n",
       "    </tr>\n",
       "  </tbody>\n",
       "</table>\n",
       "</div>"
      ],
      "text/plain": [
       "                                                 html  \\\n",
       "18  <p><span class=\"anchor\" id=\"bookmark0\"></span>...   \n",
       "34  <p>But before that, I shall prove in this firs...   \n",
       "33  <p>But since the sun's mean and apparent motio...   \n",
       "32  <p>Now the causes and measures of these inequa...   \n",
       "30  <p>Again, however, it was noticed that these l...   \n",
       "\n",
       "                                                 text links  \\\n",
       "18                                          Chapter 1    []   \n",
       "34  But before that, I shall prove in this first p...    []   \n",
       "33  But since the sun's mean and apparent motions*...    []   \n",
       "32  Now the causes and measures of these inequalit...    []   \n",
       "30  Again, however, it was noticed that these loop...    []   \n",
       "\n",
       "                         italic chapter graphic table  \\\n",
       "18                           []       1      []    []   \n",
       "34                           []       1      []    []   \n",
       "33  [Mysterium cosmographicum,]       1      []    []   \n",
       "32                           []       1      []    []   \n",
       "30                           []       1      []    []   \n",
       "\n",
       "                                             marginal  \\\n",
       "18                                                 []   \n",
       "34                                                 []   \n",
       "33  [ Terms: * The sun's apparent position is that...   \n",
       "32                                               [ 5]   \n",
       "30                                                 []   \n",
       "\n",
       "                                            sentences  \\\n",
       "18                                        [Chapter 1]   \n",
       "34  [But before that, I shall prove in this first ...   \n",
       "33  [But since the sun's mean and apparent motions...   \n",
       "32  [Now the causes and measures of these inequali...   \n",
       "30  [Again, however, it was noticed that these loo...   \n",
       "\n",
       "                                               tagged  \n",
       "18                      [[(Chapter, None), (1, NUM)]]  \n",
       "34  [[(But, None), (before, None), (that, None), (...  \n",
       "33  [[(But, None), (since, None), (the, None), (su...  \n",
       "32  [[(Now, None), (the, None), (causes, None), (a...  \n",
       "30  [[(Again, None), (however, None), (it, None), ...  "
      ]
     },
     "execution_count": 29,
     "metadata": {},
     "output_type": "execute_result"
    }
   ],
   "source": [
    "dfAstroNova.head(5)  "
   ]
  },
  {
   "cell_type": "code",
   "execution_count": 30,
   "metadata": {},
   "outputs": [
    {
     "data": {
      "text/html": [
       "<div>\n",
       "<style scoped>\n",
       "    .dataframe tbody tr th:only-of-type {\n",
       "        vertical-align: middle;\n",
       "    }\n",
       "\n",
       "    .dataframe tbody tr th {\n",
       "        vertical-align: top;\n",
       "    }\n",
       "\n",
       "    .dataframe thead th {\n",
       "        text-align: right;\n",
       "    }\n",
       "</style>\n",
       "<table border=\"1\" class=\"dataframe\">\n",
       "  <thead>\n",
       "    <tr style=\"text-align: right;\">\n",
       "      <th></th>\n",
       "      <th>html</th>\n",
       "      <th>text</th>\n",
       "      <th>links</th>\n",
       "      <th>italic</th>\n",
       "      <th>chapter</th>\n",
       "      <th>graphic</th>\n",
       "      <th>table</th>\n",
       "      <th>marginal</th>\n",
       "      <th>sentences</th>\n",
       "      <th>tagged</th>\n",
       "    </tr>\n",
       "  </thead>\n",
       "  <tbody>\n",
       "    <tr>\n",
       "      <th>594</th>\n",
       "      <td>&lt;p&gt;&lt;span class=\"anchor\" id=\"bookmark1\"&gt;&lt;/span&gt;...</td>\n",
       "      <td>Whether the motion from the sun, like its ligh...</td>\n",
       "      <td>[{'#fn1': 'άντίφραχις.↩'}]</td>\n",
       "      <td>[]</td>\n",
       "      <td>35</td>\n",
       "      <td>[]</td>\n",
       "      <td>[]</td>\n",
       "      <td>[]</td>\n",
       "      <td>[Whether the motion from the sun, like its lig...</td>\n",
       "      <td>[[(Whether, None), (the, None), (motion, None)...</td>\n",
       "    </tr>\n",
       "    <tr>\n",
       "      <th>596</th>\n",
       "      <td>&lt;p&gt;And concerning the first, it is worthy of c...</td>\n",
       "      <td>And concerning the first, it is worthy of cons...</td>\n",
       "      <td>[]</td>\n",
       "      <td>[]</td>\n",
       "      <td>35</td>\n",
       "      <td>[]</td>\n",
       "      <td>[]</td>\n",
       "      <td>[]</td>\n",
       "      <td>[And concerning the first, it is worthy of con...</td>\n",
       "      <td>[[(And, None), (concerning, None), (the, None)...</td>\n",
       "    </tr>\n",
       "    <tr>\n",
       "      <th>595</th>\n",
       "      <td>&lt;p&gt;This is a good time for me to take up the o...</td>\n",
       "      <td>This is a good time for me to take up the obje...</td>\n",
       "      <td>[]</td>\n",
       "      <td>[species]</td>\n",
       "      <td>35</td>\n",
       "      <td>[]</td>\n",
       "      <td>[]</td>\n",
       "      <td>[]</td>\n",
       "      <td>[This is a good time for me to take up the obj...</td>\n",
       "      <td>[[(This, None), (is, None), (a, None), (good, ...</td>\n",
       "    </tr>\n",
       "    <tr>\n",
       "      <th>598</th>\n",
       "      <td>&lt;p&gt;But it is answered, first, that the analogy...</td>\n",
       "      <td>But it is answered, first, that the analogy be...</td>\n",
       "      <td>[]</td>\n",
       "      <td>[]</td>\n",
       "      <td>35</td>\n",
       "      <td>[]</td>\n",
       "      <td>[]</td>\n",
       "      <td>[]</td>\n",
       "      <td>[But it is answered, first, that the analogy b...</td>\n",
       "      <td>[[(But, None), (it, None), (is, None), (answer...</td>\n",
       "    </tr>\n",
       "    <tr>\n",
       "      <th>599</th>\n",
       "      <td>&lt;p&gt;On this account I would nearly separate lig...</td>\n",
       "      <td>On this account I would nearly separate light ...</td>\n",
       "      <td>[]</td>\n",
       "      <td>[]</td>\n",
       "      <td>35</td>\n",
       "      <td>[]</td>\n",
       "      <td>[]</td>\n",
       "      <td>[]</td>\n",
       "      <td>[On this account I would nearly separate light...</td>\n",
       "      <td>[[(On, None), (this, None), (account, None), (...</td>\n",
       "    </tr>\n",
       "  </tbody>\n",
       "</table>\n",
       "</div>"
      ],
      "text/plain": [
       "                                                  html  \\\n",
       "594  <p><span class=\"anchor\" id=\"bookmark1\"></span>...   \n",
       "596  <p>And concerning the first, it is worthy of c...   \n",
       "595  <p>This is a good time for me to take up the o...   \n",
       "598  <p>But it is answered, first, that the analogy...   \n",
       "599  <p>On this account I would nearly separate lig...   \n",
       "\n",
       "                                                  text  \\\n",
       "594  Whether the motion from the sun, like its ligh...   \n",
       "596  And concerning the first, it is worthy of cons...   \n",
       "595  This is a good time for me to take up the obje...   \n",
       "598  But it is answered, first, that the analogy be...   \n",
       "599  On this account I would nearly separate light ...   \n",
       "\n",
       "                          links     italic chapter graphic table marginal  \\\n",
       "594  [{'#fn1': 'άντίφραχις.↩'}]         []      35      []    []       []   \n",
       "596                          []         []      35      []    []       []   \n",
       "595                          []  [species]      35      []    []       []   \n",
       "598                          []         []      35      []    []       []   \n",
       "599                          []         []      35      []    []       []   \n",
       "\n",
       "                                             sentences  \\\n",
       "594  [Whether the motion from the sun, like its lig...   \n",
       "596  [And concerning the first, it is worthy of con...   \n",
       "595  [This is a good time for me to take up the obj...   \n",
       "598  [But it is answered, first, that the analogy b...   \n",
       "599  [On this account I would nearly separate light...   \n",
       "\n",
       "                                                tagged  \n",
       "594  [[(Whether, None), (the, None), (motion, None)...  \n",
       "596  [[(And, None), (concerning, None), (the, None)...  \n",
       "595  [[(This, None), (is, None), (a, None), (good, ...  \n",
       "598  [[(But, None), (it, None), (is, None), (answer...  \n",
       "599  [[(On, None), (this, None), (account, None), (...  "
      ]
     },
     "execution_count": 30,
     "metadata": {},
     "output_type": "execute_result"
    }
   ],
   "source": [
    "dfAstroNova[740:745]"
   ]
  },
  {
   "cell_type": "code",
   "execution_count": 31,
   "metadata": {},
   "outputs": [
    {
     "data": {
      "text/html": [
       "<div>\n",
       "<style scoped>\n",
       "    .dataframe tbody tr th:only-of-type {\n",
       "        vertical-align: middle;\n",
       "    }\n",
       "\n",
       "    .dataframe tbody tr th {\n",
       "        vertical-align: top;\n",
       "    }\n",
       "\n",
       "    .dataframe thead th {\n",
       "        text-align: right;\n",
       "    }\n",
       "</style>\n",
       "<table border=\"1\" class=\"dataframe\">\n",
       "  <thead>\n",
       "    <tr style=\"text-align: right;\">\n",
       "      <th></th>\n",
       "      <th>html</th>\n",
       "      <th>text</th>\n",
       "      <th>links</th>\n",
       "      <th>italic</th>\n",
       "      <th>chapter</th>\n",
       "      <th>graphic</th>\n",
       "      <th>table</th>\n",
       "      <th>marginal</th>\n",
       "      <th>sentences</th>\n",
       "      <th>tagged</th>\n",
       "    </tr>\n",
       "  </thead>\n",
       "  <tbody>\n",
       "    <tr>\n",
       "      <th>1568</th>\n",
       "      <td>&lt;p&gt;{marginal: The words of the observation hav...</td>\n",
       "      <td>Consider whether the meaning could be this: t...</td>\n",
       "      <td>[]</td>\n",
       "      <td>[]</td>\n",
       "      <td>70</td>\n",
       "      <td>[]</td>\n",
       "      <td>[]</td>\n",
       "      <td>[ The words of the observation have their comm...</td>\n",
       "      <td>[Consider whether the meaning could be this: t...</td>\n",
       "      <td>[[(Consider, None), (whether, None), (the, Non...</td>\n",
       "    </tr>\n",
       "    <tr>\n",
       "      <th>1569</th>\n",
       "      <td>&lt;p&gt;This interpretation is furthered by the obs...</td>\n",
       "      <td>This interpretation is furthered by the observ...</td>\n",
       "      <td>[]</td>\n",
       "      <td>[]</td>\n",
       "      <td>70</td>\n",
       "      <td>[]</td>\n",
       "      <td>[]</td>\n",
       "      <td>[]</td>\n",
       "      <td>[This interpretation is furthered by the obser...</td>\n",
       "      <td>[[(This, None), (interpretation, None), (is, N...</td>\n",
       "    </tr>\n",
       "    <tr>\n",
       "      <th>0</th>\n",
       "      <td>&lt;p&gt;Appendix B&lt;/p&gt;</td>\n",
       "      <td>Appendix B</td>\n",
       "      <td>[]</td>\n",
       "      <td>[]</td>\n",
       "      <td>appendix b</td>\n",
       "      <td>[]</td>\n",
       "      <td>[]</td>\n",
       "      <td>[]</td>\n",
       "      <td>[Appendix B]</td>\n",
       "      <td>[[(Appendix, None), (B, None)]]</td>\n",
       "    </tr>\n",
       "    <tr>\n",
       "      <th>1</th>\n",
       "      <td>&lt;p&gt;&lt;span class=\"anchor\" id=\"bookmark0\"&gt;&lt;/span&gt;...</td>\n",
       "      <td>On the Table of Oppositions in Chapter 15</td>\n",
       "      <td>[]</td>\n",
       "      <td>[]</td>\n",
       "      <td>appendix b</td>\n",
       "      <td>[]</td>\n",
       "      <td>[]</td>\n",
       "      <td>[]</td>\n",
       "      <td>[On the Table of Oppositions in Chapter 15]</td>\n",
       "      <td>[[(On, None), (the, None), (Table, None), (of,...</td>\n",
       "    </tr>\n",
       "    <tr>\n",
       "      <th>2</th>\n",
       "      <td>&lt;p&gt;by Yaakov Zik &lt;span style=\"font-variant: sm...</td>\n",
       "      <td>by Yaakov Zik Table i:</td>\n",
       "      <td>[]</td>\n",
       "      <td>[]</td>\n",
       "      <td>appendix b</td>\n",
       "      <td>[]</td>\n",
       "      <td>[]</td>\n",
       "      <td>[]</td>\n",
       "      <td>[by Yaakov Zik Table i:]</td>\n",
       "      <td>[[(by, None), (Yaakov, None), (Zik, None), (Ta...</td>\n",
       "    </tr>\n",
       "  </tbody>\n",
       "</table>\n",
       "</div>"
      ],
      "text/plain": [
       "                                                   html  \\\n",
       "1568  <p>{marginal: The words of the observation hav...   \n",
       "1569  <p>This interpretation is furthered by the obs...   \n",
       "0                                     <p>Appendix B</p>   \n",
       "1     <p><span class=\"anchor\" id=\"bookmark0\"></span>...   \n",
       "2     <p>by Yaakov Zik <span style=\"font-variant: sm...   \n",
       "\n",
       "                                                   text links italic  \\\n",
       "1568   Consider whether the meaning could be this: t...    []     []   \n",
       "1569  This interpretation is furthered by the observ...    []     []   \n",
       "0                                            Appendix B    []     []   \n",
       "1             On the Table of Oppositions in Chapter 15    []     []   \n",
       "2                                by Yaakov Zik Table i:    []     []   \n",
       "\n",
       "         chapter graphic table  \\\n",
       "1568          70      []    []   \n",
       "1569          70      []    []   \n",
       "0     appendix b      []    []   \n",
       "1     appendix b      []    []   \n",
       "2     appendix b      []    []   \n",
       "\n",
       "                                               marginal  \\\n",
       "1568  [ The words of the observation have their comm...   \n",
       "1569                                                 []   \n",
       "0                                                    []   \n",
       "1                                                    []   \n",
       "2                                                    []   \n",
       "\n",
       "                                              sentences  \\\n",
       "1568  [Consider whether the meaning could be this: t...   \n",
       "1569  [This interpretation is furthered by the obser...   \n",
       "0                                          [Appendix B]   \n",
       "1           [On the Table of Oppositions in Chapter 15]   \n",
       "2                              [by Yaakov Zik Table i:]   \n",
       "\n",
       "                                                 tagged  \n",
       "1568  [[(Consider, None), (whether, None), (the, Non...  \n",
       "1569  [[(This, None), (interpretation, None), (is, N...  \n",
       "0                       [[(Appendix, None), (B, None)]]  \n",
       "1     [[(On, None), (the, None), (Table, None), (of,...  \n",
       "2     [[(by, None), (Yaakov, None), (Zik, None), (Ta...  "
      ]
     },
     "execution_count": 31,
     "metadata": {},
     "output_type": "execute_result"
    }
   ],
   "source": [
    "dfAstroNova[1585:1590]"
   ]
  },
  {
   "cell_type": "code",
   "execution_count": 32,
   "metadata": {},
   "outputs": [
    {
     "data": {
      "text/html": [
       "<div>\n",
       "<style scoped>\n",
       "    .dataframe tbody tr th:only-of-type {\n",
       "        vertical-align: middle;\n",
       "    }\n",
       "\n",
       "    .dataframe tbody tr th {\n",
       "        vertical-align: top;\n",
       "    }\n",
       "\n",
       "    .dataframe thead th {\n",
       "        text-align: right;\n",
       "    }\n",
       "</style>\n",
       "<table border=\"1\" class=\"dataframe\">\n",
       "  <thead>\n",
       "    <tr style=\"text-align: right;\">\n",
       "      <th></th>\n",
       "      <th>html</th>\n",
       "      <th>text</th>\n",
       "      <th>links</th>\n",
       "      <th>italic</th>\n",
       "      <th>chapter</th>\n",
       "      <th>graphic</th>\n",
       "      <th>table</th>\n",
       "      <th>marginal</th>\n",
       "      <th>sentences</th>\n",
       "      <th>tagged</th>\n",
       "    </tr>\n",
       "  </thead>\n",
       "  <tbody>\n",
       "    <tr>\n",
       "      <th>13</th>\n",
       "      <td>&lt;p&gt;{table: appendix B t 2}&lt;/p&gt;</td>\n",
       "      <td></td>\n",
       "      <td>[]</td>\n",
       "      <td>[]</td>\n",
       "      <td>appendix b</td>\n",
       "      <td>[]</td>\n",
       "      <td>[ appendix B t 2]</td>\n",
       "      <td>[]</td>\n",
       "      <td>[]</td>\n",
       "      <td>[]</td>\n",
       "    </tr>\n",
       "    <tr>\n",
       "      <th>14</th>\n",
       "      <td>&lt;p&gt;Kepler's table, for comparison {table: appe...</td>\n",
       "      <td>Kepler's table, for comparison</td>\n",
       "      <td>[]</td>\n",
       "      <td>[]</td>\n",
       "      <td>appendix b</td>\n",
       "      <td>[]</td>\n",
       "      <td>[ appendix B t 3]</td>\n",
       "      <td>[]</td>\n",
       "      <td>[Kepler's table, for comparison]</td>\n",
       "      <td>[[(Kepler, None), (s, None), (table, None), (f...</td>\n",
       "    </tr>\n",
       "    <tr>\n",
       "      <th>15</th>\n",
       "      <td>&lt;p&gt;Mars from Earth to be a little greater than...</td>\n",
       "      <td>Mars from Earth to be a little greater than ha...</td>\n",
       "      <td>[{'#fn6': '\n",
       "Kepler's observations yield topoce...</td>\n",
       "      <td>[]</td>\n",
       "      <td>appendix b</td>\n",
       "      <td>[]</td>\n",
       "      <td>[]</td>\n",
       "      <td>[]</td>\n",
       "      <td>[Mars from Earth to be a little greater than h...</td>\n",
       "      <td>[[(Mars, None), (from, None), (Earth, None), (...</td>\n",
       "    </tr>\n",
       "    <tr>\n",
       "      <th>16</th>\n",
       "      <td>&lt;p&gt;&lt;img height=\"300\" src=\"media/image1.jpeg\" w...</td>\n",
       "      <td>As shown in Figure 2B, the Sun is assumed to ...</td>\n",
       "      <td>[]</td>\n",
       "      <td>[]</td>\n",
       "      <td>appendix b</td>\n",
       "      <td>[ appendix b gr 1]</td>\n",
       "      <td>[]</td>\n",
       "      <td>[]</td>\n",
       "      <td>[As shown in Figure 2B, the Sun is assumed to ...</td>\n",
       "      <td>[[(As, None), (shown, None), (in, None), (Figu...</td>\n",
       "    </tr>\n",
       "    <tr>\n",
       "      <th>17</th>\n",
       "      <td>&lt;p&gt;The Sun moved westward and its longitude de...</td>\n",
       "      <td>The Sun moved westward and its longitude decre...</td>\n",
       "      <td>[]</td>\n",
       "      <td>[4&lt;sup&gt;h&lt;/sup&gt; 23&lt;sup&gt;m &lt;/sup&gt;]</td>\n",
       "      <td>appendix b</td>\n",
       "      <td>[]</td>\n",
       "      <td>[]</td>\n",
       "      <td>[]</td>\n",
       "      <td>[The Sun moved westward and its longitude decr...</td>\n",
       "      <td>[[(The, None), (Sun, None), (moved, None), (we...</td>\n",
       "    </tr>\n",
       "  </tbody>\n",
       "</table>\n",
       "</div>"
      ],
      "text/plain": [
       "                                                 html  \\\n",
       "13                     <p>{table: appendix B t 2}</p>   \n",
       "14  <p>Kepler's table, for comparison {table: appe...   \n",
       "15  <p>Mars from Earth to be a little greater than...   \n",
       "16  <p><img height=\"300\" src=\"media/image1.jpeg\" w...   \n",
       "17  <p>The Sun moved westward and its longitude de...   \n",
       "\n",
       "                                                 text  \\\n",
       "13                                                      \n",
       "14                    Kepler's table, for comparison    \n",
       "15  Mars from Earth to be a little greater than ha...   \n",
       "16   As shown in Figure 2B, the Sun is assumed to ...   \n",
       "17  The Sun moved westward and its longitude decre...   \n",
       "\n",
       "                                                links  \\\n",
       "13                                                 []   \n",
       "14                                                 []   \n",
       "15  [{'#fn6': '\n",
       "Kepler's observations yield topoce...   \n",
       "16                                                 []   \n",
       "17                                                 []   \n",
       "\n",
       "                             italic     chapter             graphic  \\\n",
       "13                               []  appendix b                  []   \n",
       "14                               []  appendix b                  []   \n",
       "15                               []  appendix b                  []   \n",
       "16                               []  appendix b  [ appendix b gr 1]   \n",
       "17  [4<sup>h</sup> 23<sup>m </sup>]  appendix b                  []   \n",
       "\n",
       "                table marginal  \\\n",
       "13  [ appendix B t 2]       []   \n",
       "14  [ appendix B t 3]       []   \n",
       "15                 []       []   \n",
       "16                 []       []   \n",
       "17                 []       []   \n",
       "\n",
       "                                            sentences  \\\n",
       "13                                                 []   \n",
       "14                   [Kepler's table, for comparison]   \n",
       "15  [Mars from Earth to be a little greater than h...   \n",
       "16  [As shown in Figure 2B, the Sun is assumed to ...   \n",
       "17  [The Sun moved westward and its longitude decr...   \n",
       "\n",
       "                                               tagged  \n",
       "13                                                 []  \n",
       "14  [[(Kepler, None), (s, None), (table, None), (f...  \n",
       "15  [[(Mars, None), (from, None), (Earth, None), (...  \n",
       "16  [[(As, None), (shown, None), (in, None), (Figu...  \n",
       "17  [[(The, None), (Sun, None), (moved, None), (we...  "
      ]
     },
     "execution_count": 32,
     "metadata": {},
     "output_type": "execute_result"
    }
   ],
   "source": [
    "dfAstroNova.tail(5)"
   ]
  },
  {
   "cell_type": "markdown",
   "metadata": {},
   "source": [
    "## **Primary Data Exploration**"
   ]
  },
  {
   "cell_type": "code",
   "execution_count": 33,
   "metadata": {},
   "outputs": [
    {
     "data": {
      "text/plain": [
       "\"The time is measured from midnight; Gregorian dates are obtained by adding 10 days to Kepler's dates. The dates are given in old style.\""
      ]
     },
     "execution_count": 33,
     "metadata": {},
     "output_type": "execute_result"
    }
   ],
   "source": [
    "\n",
    "dfAstroNova[\"text\"][5]    # 5th row of the data in the format of text "
   ]
  },
  {
   "cell_type": "code",
   "execution_count": 34,
   "metadata": {},
   "outputs": [
    {
     "data": {
      "text/plain": [
       "[[('The', 'None'),\n",
       "  ('time', 'None'),\n",
       "  ('is', 'None'),\n",
       "  ('measured', 'None'),\n",
       "  ('from', 'None'),\n",
       "  ('midnight', 'None'),\n",
       "  ('Gregorian', 'None'),\n",
       "  ('dates', 'None'),\n",
       "  ('are', 'None'),\n",
       "  ('obtained', 'None'),\n",
       "  ('by', 'None'),\n",
       "  ('adding', 'None'),\n",
       "  ('10', 'NUM'),\n",
       "  ('days', 'None'),\n",
       "  ('to', 'None'),\n",
       "  ('Kepler', 'None'),\n",
       "  ('s', 'None'),\n",
       "  ('dates', 'None')],\n",
       " [('The', 'None'),\n",
       "  ('dates', 'None'),\n",
       "  ('are', 'None'),\n",
       "  ('given', 'None'),\n",
       "  ('in', 'None'),\n",
       "  ('old', 'None'),\n",
       "  ('style', 'None')]]"
      ]
     },
     "execution_count": 34,
     "metadata": {},
     "output_type": "execute_result"
    }
   ],
   "source": [
    "dfAstroNova[\"tagged\"][5] # 5th row of the data in a format (token, label). A list of lists of tuples! later position tags of the token will be added to each tuple. the tokens are chosen before by some rules."
   ]
  },
  {
   "cell_type": "code",
   "execution_count": 51,
   "metadata": {},
   "outputs": [],
   "source": [
    "dfAstroNova= dfAstroNova.loc[dfAstroNova.chapter==5]"
   ]
  },
  {
   "cell_type": "code",
   "execution_count": 52,
   "metadata": {},
   "outputs": [
    {
     "data": {
      "text/plain": [
       "178"
      ]
     },
     "execution_count": 52,
     "metadata": {},
     "output_type": "execute_result"
    }
   ],
   "source": [
    " df = sum(dfAstroNova['tagged'], [])  # Flatt the data by removing first lists\n",
    "len(df)"
   ]
  },
  {
   "cell_type": "code",
   "execution_count": 53,
   "metadata": {},
   "outputs": [
    {
     "data": {
      "text/plain": [
       "[('Thus', 'None'),\n",
       " ('in', 'None'),\n",
       " ('both', 'None'),\n",
       " ('instances', 'None'),\n",
       " ('the', 'None'),\n",
       " ('planet', 'None'),\n",
       " ('is', 'None'),\n",
       " ('always', 'None'),\n",
       " ('on', 'None'),\n",
       " ('a', 'None'),\n",
       " ('line', 'None'),\n",
       " ('drawn', 'None'),\n",
       " ('from', 'None'),\n",
       " ('γ', 'None'),\n",
       " ('at', 'None'),\n",
       " ('the', 'None'),\n",
       " ('point', 'None'),\n",
       " ('where', 'None'),\n",
       " ('that', 'None'),\n",
       " ('line', 'None'),\n",
       " ('cuts', 'None'),\n",
       " ('one', 'None'),\n",
       " ('or', 'None'),\n",
       " ('another', 'None'),\n",
       " ('eccentric', 'None')]"
      ]
     },
     "execution_count": 53,
     "metadata": {},
     "output_type": "execute_result"
    }
   ],
   "source": [
    "df[5]  "
   ]
  },
  {
   "cell_type": "code",
   "execution_count": 54,
   "metadata": {},
   "outputs": [],
   "source": [
    "df_flatten = sum(df,[])  # Flatt the data by removing the second list\n"
   ]
  },
  {
   "cell_type": "code",
   "execution_count": 55,
   "metadata": {},
   "outputs": [
    {
     "data": {
      "text/plain": [
       "[('To', 'None'),\n",
       " ('find', 'None'),\n",
       " ('the', 'None'),\n",
       " ('basis', 'None'),\n",
       " ('of', 'None'),\n",
       " ('a', 'None'),\n",
       " ('computation', 'None'),\n",
       " ('whereby', 'None'),\n",
       " ('we', 'None'),\n",
       " ('may', 'None'),\n",
       " ('investigate', 'None'),\n",
       " ('for', 'None'),\n",
       " ('the', 'None'),\n",
       " ('observer', 'None'),\n",
       " ('at', 'None'),\n",
       " ('δ', 'None'),\n",
       " ('how', 'None'),\n",
       " ('much', 'None'),\n",
       " ('his', 'None'),\n",
       " ('appearances', 'None')]"
      ]
     },
     "execution_count": 55,
     "metadata": {},
     "output_type": "execute_result"
    }
   ],
   "source": [
    "df_flatten[0:20]  # Here we have tokens (entities) with their labels"
   ]
  },
  {
   "cell_type": "code",
   "execution_count": 56,
   "metadata": {},
   "outputs": [
    {
     "data": {
      "text/plain": [
       "5650"
      ]
     },
     "execution_count": 56,
     "metadata": {},
     "output_type": "execute_result"
    }
   ],
   "source": [
    "len(df_flatten)  # Number of all tokens (roughly speaking all words or entities)"
   ]
  },
  {
   "cell_type": "code",
   "execution_count": 57,
   "metadata": {},
   "outputs": [],
   "source": [
    "\n",
    "tokens = [x[0] for x in df_flatten]  # Extract the tokens for further use in the frequency plot"
   ]
  },
  {
   "cell_type": "code",
   "execution_count": 58,
   "metadata": {},
   "outputs": [],
   "source": [
    "labels=([x[1] for x in df_flatten])  # Extract the labels for further use in the frequency plot"
   ]
  },
  {
   "cell_type": "code",
   "execution_count": 59,
   "metadata": {},
   "outputs": [
    {
     "data": {
      "text/plain": [
       "['To', 'find', 'the', 'basis', 'of']"
      ]
     },
     "execution_count": 59,
     "metadata": {},
     "output_type": "execute_result"
    }
   ],
   "source": [
    "tokens[0:5]"
   ]
  },
  {
   "cell_type": "code",
   "execution_count": 60,
   "metadata": {},
   "outputs": [
    {
     "data": {
      "text/plain": [
       "['None', 'None', 'None', 'None', 'None']"
      ]
     },
     "execution_count": 60,
     "metadata": {},
     "output_type": "execute_result"
    }
   ],
   "source": [
    "labels[0:5]"
   ]
  },
  {
   "cell_type": "markdown",
   "metadata": {},
   "source": [
    "## **Visualization**"
   ]
  },
  {
   "cell_type": "markdown",
   "metadata": {},
   "source": [
    "### Frequency plot of all words in all chapter of book"
   ]
  },
  {
   "cell_type": "markdown",
   "metadata": {},
   "source": [
    "<font size=\"3\">\n",
    "Frequency plot of all tokens in text, as you see there is a lot 'the', 'of',... in text, they normally consider as noise, we will back to that later.\n",
    "<font/>"
   ]
  },
  {
   "cell_type": "code",
   "execution_count": 61,
   "metadata": {},
   "outputs": [
    {
     "data": {
      "image/png": "[encoded data removed]",
      "text/plain": [
       "<Figure size 1800x360 with 1 Axes>"
      ]
     },
     "metadata": {
      "needs_background": "light"
     },
     "output_type": "display_data"
    }
   ],
   "source": [
    "freqdist = nltk.FreqDist(tokens)\n",
    "plt.figure(figsize=(25,5))\n",
    "freqdist.plot(100, title='Frequency plot of words')\n"
   ]
  },
  {
   "cell_type": "code",
   "execution_count": 62,
   "metadata": {},
   "outputs": [],
   "source": [
    "stop_words=[\"the\", \"of\", \"is\", \"to\", \"and\",\"in\", \"be\", \"at\", \"that\", \"from\", \"it\", \"a\", \"as\",\"this\", \"was\" ] # we can consider these as stop words or we can use nltk stop words."
   ]
  },
  {
   "cell_type": "code",
   "execution_count": 63,
   "metadata": {},
   "outputs": [],
   "source": [
    "# nltk stop words\n",
    "from nltk.corpus import stopwords\n",
    "stop_words=set(stopwords.words('english'))\n",
    "stop_words=stop_words.union(['I', 'And', 'For', 'A', 'The'])\n",
    "#stop_words_nltk = set(stop_words)\n",
    "\n",
    "# List of nltk stop words {‘ourselves’, ‘hers’, ‘between’, ‘yourself’, ‘but’, ‘again’, ‘there’, ‘about’, ‘once’, ‘during’, ‘out’, ‘very’, ‘having’, ‘with’, ‘they’, ‘own’, ‘an’, ‘be’, ‘some’, ‘for’, ‘do’, ‘its’, ‘yours’, ‘such’, ‘into’, ‘of’, ‘most’, ‘itself’, ‘other’, ‘off’, ‘is’, ‘s’, ‘am’, ‘or’, ‘who’, ‘as’, ‘from’, ‘him’, ‘each’, ‘the’, ‘themselves’, ‘until’, ‘below’, ‘are’, ‘we’, ‘these’, ‘your’, ‘his’, ‘through’, ‘don’, ‘nor’, ‘me’, ‘were’, ‘her’, ‘more’, ‘himself’, ‘this’, ‘down’, ‘should’, ‘our’, ‘their’, ‘while’, ‘above’, ‘both’, ‘up’, ‘to’, ‘ours’, ‘had’, ‘she’, ‘all’, ‘no’, ‘when’, ‘at’, ‘any’, ‘before’, ‘them’, ‘same’, ‘and’, ‘been’, ‘have’, ‘in’, ‘will’, ‘on’, ‘does’, ‘yourselves’, ‘then’, ‘that’, ‘because’, ‘what’, ‘over’, ‘why’, ‘so’, ‘can’, ‘did’, ‘not’, ‘now’, ‘under’, ‘he’, ‘you’, ‘herself’, ‘has’, ‘just’, ‘where’, ‘too’, ‘only’, ‘myself’, ‘which’, ‘those’, ‘i’, ‘after’, ‘few’, ‘whom’, ‘t’, ‘being’, ‘if’, ‘theirs’, ‘my’, ‘against’, ‘a’, ‘by’, ‘doing’, ‘it’, ‘how’, ‘further’, ‘was’, ‘here’, ‘than’} \n"
   ]
  },
  {
   "cell_type": "markdown",
   "metadata": {},
   "source": [
    "<font size=\"3\">\n",
    "We can consider these words like 'the', 'of',... as noises. so we temporary remove those! \n",
    "<font/>"
   ]
  },
  {
   "cell_type": "code",
   "execution_count": 64,
   "metadata": {},
   "outputs": [],
   "source": [
    "new_tokens = []     \n",
    "for w in tokens:\n",
    "    if w not in stop_words: new_tokens.append(w)      "
   ]
  },
  {
   "cell_type": "markdown",
   "metadata": {},
   "source": [
    "### Frequency plot of all words in all chapter of book after removing the stop words"
   ]
  },
  {
   "cell_type": "markdown",
   "metadata": {},
   "source": [
    "<font size=\"3\">\n",
    "It shows word \"sun\" is most common word.  We can also see the word Mars, planet, eccentric as common words in the book \n",
    "<font/>"
   ]
  },
  {
   "cell_type": "code",
   "execution_count": 66,
   "metadata": {},
   "outputs": [
    {
     "data": {
      "image/png": "[encoded data removed]",
      "text/plain": [
       "<Figure size 1800x360 with 1 Axes>"
      ]
     },
     "metadata": {
      "needs_background": "light"
     },
     "output_type": "display_data"
    }
   ],
   "source": [
    "freqdist = nltk.FreqDist(new_tokens) \n",
    "plt.figure(figsize=(25,5)) \n",
    "freqdist.plot(100, title='Frequency plot of words after removing noise')"
   ]
  },
  {
   "cell_type": "markdown",
   "metadata": {},
   "source": [
    "<font size=\"4\">\n",
    "Do we need more insight than frequency plot of word for see content of the book? the question is answered by the follwoing cells through investigation of \"topic modelling\"\n",
    "<font/>"
   ]
  },
  {
   "cell_type": "markdown",
   "metadata": {},
   "source": [
    "## **Topic Modelling by LDA**"
   ]
  },
  {
   "cell_type": "markdown",
   "metadata": {},
   "source": [
    " Here you see an structured workflow to build an insightful \"topic model\" based on the Latent Dirichlet Allocation (LDA) algorithm,  modeled as Dirichlet distributions Dir(α).\n",
    " For more detail you can read: <p>\n",
    "http://www.jmlr.org/papers/volume3/blei03a/blei03a.pdf\n",
    "    </p>"
   ]
  },
  {
   "cell_type": "markdown",
   "metadata": {},
   "source": [
    "### **Pre-processing**"
   ]
  },
  {
   "cell_type": "markdown",
   "metadata": {},
   "source": [
    "<font size=\"3\">\n",
    "Since we alreay tokenized the text (split text into  word without punctuation) and removed stopwrods, we only need to **lemmatize** and **stemm** the tokens.\n",
    "<font/>"
   ]
  },
  {
   "cell_type": "code",
   "execution_count": 67,
   "metadata": {},
   "outputs": [],
   "source": [
    "mytext = nltk.Text(new_tokens) "
   ]
  },
  {
   "cell_type": "markdown",
   "metadata": {},
   "source": [
    "#### Lemmatization "
   ]
  },
  {
   "cell_type": "markdown",
   "metadata": {},
   "source": [
    "<font size=\"3\">\n",
    "Lemmatization, takes into consideration the morphological analysis of the words. For instance  \"do\", \"does\", \"did\" and \"doing\" are forms of the same lexeme with \"do\" as the lemma. Another example would be  \"car\", \"cars\", \"automobile\"\n",
    "<font/>"
   ]
  },
  {
   "cell_type": "code",
   "execution_count": 68,
   "metadata": {},
   "outputs": [],
   "source": [
    "#lemmatization\n",
    "w_lemmatize= WordNetLemmatizer()\n",
    "my_text_lemmatize = [w_lemmatize.lemmatize(word) for word in mytext]\n"
   ]
  },
  {
   "cell_type": "markdown",
   "metadata": {},
   "source": [
    "#### Stemming"
   ]
  },
  {
   "cell_type": "markdown",
   "metadata": {},
   "source": [
    "<font size=\"3\">\n",
    "Stemming algorithms work by cutting off the end or the beginning of the word, by taking into account a list of common prefixes and suffixes. It reduces words to their word stem or root form. For instance, stemming for root word \"like\" include:\"likes\", \"liked\", \"likely\", \"liking\n",
    "<font size=/>"
   ]
  },
  {
   "cell_type": "code",
   "execution_count": 69,
   "metadata": {},
   "outputs": [],
   "source": [
    "# stemming \n",
    "p_stemmers=PorterStemmer()  \n",
    "my_text_lemm_stemmer = [p_stemmers.stem(word) for word in my_text_lemmatize]"
   ]
  },
  {
   "cell_type": "code",
   "execution_count": 70,
   "metadata": {},
   "outputs": [],
   "source": [
    "my_text_lemm_stemmer=[my_text_lemm_stemmer] #make a list of list"
   ]
  },
  {
   "cell_type": "markdown",
   "metadata": {},
   "source": [
    "#### Select a document to preview after preprocessing."
   ]
  },
  {
   "cell_type": "code",
   "execution_count": null,
   "metadata": {},
   "outputs": [],
   "source": []
  },
  {
   "cell_type": "code",
   "execution_count": 71,
   "metadata": {},
   "outputs": [],
   "source": [
    "Dic=corpora.Dictionary(my_text_lemm_stemmer)"
   ]
  },
  {
   "cell_type": "markdown",
   "metadata": {},
   "source": [
    "### **Bag of Words on the Data set**"
   ]
  },
  {
   "cell_type": "markdown",
   "metadata": {},
   "source": [
    "<font size=\"4\">\n",
    "Our dictionary must be converted to \"bag of word\". Frequency of occurrence of each word is used as a feature for training a classifier. It means it should contain the number of times a word appears\n",
    "<font size>"
   ]
  },
  {
   "cell_type": "code",
   "execution_count": 72,
   "metadata": {},
   "outputs": [],
   "source": [
    "corpus = [Dic.doc2bow(text) for text in my_text_lemm_stemmer]"
   ]
  },
  {
   "cell_type": "markdown",
   "metadata": {},
   "source": [
    "#### Running LDA using Bag of Words**"
   ]
  },
  {
   "cell_type": "code",
   "execution_count": 73,
   "metadata": {},
   "outputs": [],
   "source": [
    "ldamodel =models.ldamodel.LdaModel(corpus, num_topics=3,  id2word = Dic, passes=2)"
   ]
  },
  {
   "cell_type": "code",
   "execution_count": 74,
   "metadata": {},
   "outputs": [],
   "source": [
    "lda_topics=ldamodel.print_topics()"
   ]
  },
  {
   "cell_type": "code",
   "execution_count": 75,
   "metadata": {},
   "outputs": [
    {
     "data": {
      "text/plain": [
       "[(0,\n",
       "  '0.013*\"observ\" + 0.013*\"eccentr\" + 0.011*\"let\" + 0.010*\"δ\" + 0.010*\"planet\" + 0.009*\"line\" + 0.009*\"one\" + 0.008*\"α\" + 0.007*\"center\" + 0.007*\"epicycl\"'),\n",
       " (1,\n",
       "  '0.015*\"eccentr\" + 0.013*\"let\" + 0.013*\"observ\" + 0.013*\"planet\" + 0.013*\"δ\" + 0.009*\"line\" + 0.008*\"one\" + 0.008*\"center\" + 0.008*\"α\" + 0.007*\"point\"'),\n",
       " (2,\n",
       "  '0.021*\"eccentr\" + 0.021*\"planet\" + 0.019*\"observ\" + 0.017*\"δ\" + 0.015*\"line\" + 0.015*\"let\" + 0.013*\"one\" + 0.012*\"α\" + 0.011*\"point\" + 0.010*\"differ\"')]"
      ]
     },
     "execution_count": 75,
     "metadata": {},
     "output_type": "execute_result"
    }
   ],
   "source": [
    "lda_topics"
   ]
  },
  {
   "cell_type": "code",
   "execution_count": 77,
   "metadata": {},
   "outputs": [],
   "source": [
    "import pyLDAvis.gensim\n",
    "import gensim\n",
    "pyLDAvis.enable_notebook()\n",
    "vis = pyLDAvis.gensim.prepare(ldamodel, corpus, Dic)\n"
   ]
  },
  {
   "cell_type": "markdown",
   "metadata": {},
   "source": [
    "# Topic Modelling of chapter 5 "
   ]
  },
  {
   "cell_type": "code",
   "execution_count": 78,
   "metadata": {},
   "outputs": [
    {
     "data": {
      "text/html": [
       "\n",
       "<link rel=\"stylesheet\" type=\"text/css\" href=\"https://cdn.rawgit.com/bmabey/pyLDAvis/files/ldavis.v1.0.0.css\">\n",
       "\n",
       "\n",
       "<div id=\"ldavis_el1306017232352750645363936943\"></div>\n",
       "<script type=\"text/javascript\">\n",
       "\n",
       "var ldavis_el1306017232352750645363936943_data = {\"mdsDat\": {\"x\": [-0.009324448849558976, 0.0034653829251662807, 0.005859065924392705], \"y\": [0.0, 0.0, 0.0], \"topics\": [1, 2, 3], \"cluster\": [1, 1, 1], \"Freq\": [99.97312927246094, 0.013495626859366894, 0.013371267355978489]}, \"tinfo\": {\"Category\": [\"Default\", \"Default\", \"Default\", \"Default\", \"Default\", \"Default\", \"Default\", \"Default\", \"Default\", \"Default\", \"Default\", \"Default\", \"Default\", \"Default\", \"Default\", \"Default\", \"Default\", \"Default\", \"Default\", \"Default\", \"Default\", \"Default\", \"Default\", \"Default\", \"Default\", \"Default\", \"Default\", \"Default\", \"Default\", \"Default\", \"Topic1\", \"Topic1\", \"Topic1\", \"Topic1\", \"Topic1\", \"Topic1\", \"Topic1\", \"Topic1\", \"Topic1\", \"Topic1\", \"Topic1\", \"Topic1\", \"Topic1\", \"Topic1\", \"Topic1\", \"Topic1\", \"Topic1\", \"Topic1\", \"Topic1\", \"Topic1\", \"Topic1\", \"Topic1\", \"Topic1\", \"Topic1\", \"Topic1\", \"Topic1\", \"Topic1\", \"Topic1\", \"Topic1\", \"Topic1\", \"Topic1\", \"Topic1\", \"Topic1\", \"Topic1\", \"Topic1\", \"Topic1\", \"Topic1\", \"Topic1\", \"Topic1\", \"Topic1\", \"Topic1\", \"Topic2\", \"Topic2\", \"Topic2\", \"Topic2\", \"Topic2\", \"Topic2\", \"Topic2\", \"Topic2\", \"Topic2\", \"Topic2\", \"Topic2\", \"Topic2\", \"Topic2\", \"Topic2\", \"Topic2\", \"Topic2\", \"Topic2\", \"Topic2\", \"Topic2\", \"Topic2\", \"Topic2\", \"Topic2\", \"Topic2\", \"Topic2\", \"Topic2\", \"Topic2\", \"Topic2\", \"Topic2\", \"Topic2\", \"Topic2\", \"Topic2\", \"Topic2\", \"Topic2\", \"Topic2\", \"Topic2\", \"Topic2\", \"Topic2\", \"Topic2\", \"Topic2\", \"Topic2\", \"Topic2\", \"Topic2\", \"Topic2\", \"Topic2\", \"Topic2\", \"Topic2\", \"Topic2\", \"Topic2\", \"Topic2\", \"Topic2\", \"Topic2\", \"Topic2\", \"Topic2\", \"Topic2\", \"Topic2\", \"Topic2\", \"Topic2\", \"Topic2\", \"Topic2\", \"Topic2\", \"Topic2\", \"Topic2\", \"Topic2\", \"Topic2\", \"Topic2\", \"Topic2\", \"Topic2\", \"Topic2\", \"Topic2\", \"Topic2\", \"Topic3\", \"Topic3\", \"Topic3\", \"Topic3\", \"Topic3\", \"Topic3\", \"Topic3\", \"Topic3\", \"Topic3\", \"Topic3\", \"Topic3\", \"Topic3\", \"Topic3\", \"Topic3\", \"Topic3\", \"Topic3\", \"Topic3\", \"Topic3\", \"Topic3\", \"Topic3\", \"Topic3\", \"Topic3\", \"Topic3\", \"Topic3\", \"Topic3\", \"Topic3\", \"Topic3\", \"Topic3\", \"Topic3\", \"Topic3\", \"Topic3\", \"Topic3\", \"Topic3\", \"Topic3\", \"Topic3\", \"Topic3\", \"Topic3\", \"Topic3\", \"Topic3\", \"Topic3\", \"Topic3\", \"Topic3\", \"Topic3\", \"Topic3\", \"Topic3\", \"Topic3\", \"Topic3\", \"Topic3\", \"Topic3\", \"Topic3\", \"Topic3\", \"Topic3\", \"Topic3\", \"Topic3\", \"Topic3\", \"Topic3\", \"Topic3\", \"Topic3\", \"Topic3\", \"Topic3\", \"Topic3\", \"Topic3\", \"Topic3\", \"Topic3\", \"Topic3\", \"Topic3\", \"Topic3\", \"Topic3\", \"Topic3\", \"Topic3\", \"Topic3\", \"Topic3\", \"Topic3\", \"Topic3\"], \"Freq\": [59.0, 52.0, 56.0, 48.0, 40.0, 41.0, 36.0, 33.0, 31.0, 26.0, 27.0, 26.0, 20.0, 24.0, 23.0, 19.0, 20.0, 20.0, 18.0, 18.0, 15.0, 15.0, 15.0, 15.0, 15.0, 13.0, 14.0, 12.0, 13.0, 13.0, 56.89910888671875, 41.22734832763672, 31.708209991455078, 18.11516761779785, 20.786888122558594, 24.352581024169922, 59.14899826049805, 9.838542938232422, 36.587894439697266, 48.07051467895508, 13.352801322937012, 20.483781814575195, 27.562503814697266, 23.097368240356445, 7.100220203399658, 33.67533874511719, 26.552385330200195, 11.464822769165039, 51.99961853027344, 10.55489444732666, 11.412924766540527, 7.901414394378662, 13.154973030090332, 15.759778022766113, 10.471933364868164, 8.709314346313477, 15.672489166259766, 9.585770606994629, 13.934358596801758, 13.929160118103027, 40.911338806152344, 26.890092849731445, 20.66963768005371, 19.94315528869629, 18.02204132080078, 15.331170082092285, 15.206891059875488, 15.181846618652344, 14.320231437683105, 13.789754867553711, 13.681883811950684, 0.00032331113470718265, 0.00030969627550803125, 0.00031199524528346956, 0.0003160301421303302, 0.00030953530222177505, 0.00030434029758907855, 0.000307426176732406, 0.00030481393332593143, 0.0003013808745890856, 0.00030196367879398167, 0.00030696787871420383, 0.0003051026724278927, 0.00030782766407355666, 0.0003026169433724135, 0.00030252954456955194, 0.0002967781329061836, 0.00030179551686160266, 0.00029911159072071314, 0.0002988881606142968, 0.0002996262919623405, 0.00029930772143416107, 0.00030288376729004085, 0.00029512238688766956, 0.0002978696138598025, 0.00030454903026111424, 0.0002966646570712328, 0.0002990711946040392, 0.00029982117121107876, 0.00029382301727309823, 0.000301234278595075, 0.0002985865285154432, 0.005020742304623127, 0.0027218121103942394, 0.0020196952391415834, 0.001871312502771616, 0.0030903720762580633, 0.005609015468508005, 0.004744312725961208, 0.004910519812256098, 0.0006794618675485253, 0.002317927312105894, 0.004798238631337881, 0.0008734475704841316, 0.0013951697619631886, 0.0015781746478751302, 0.0017787390388548374, 0.0030406215228140354, 0.0015508276410400867, 0.003169040661305189, 0.0010865820804610848, 0.0025054130237549543, 0.002794484840705991, 0.0011227267095819116, 0.0007537850178778172, 0.002506675897166133, 0.0014255266869440675, 0.0014676123391836882, 0.0032129290048033, 0.0013082968071103096, 0.0018372198101133108, 0.0016482030041515827, 0.0010001971386373043, 0.0015239156782627106, 0.0012897336855530739, 0.0020070397295057774, 0.002017982304096222, 0.0012239711359143257, 0.0015707395505160093, 0.0016487352550029755, 0.0016253819921985269, 0.0003122440539300442, 0.00031817544368095696, 0.0003177433682139963, 0.0003170459531247616, 0.00030097452690824866, 0.0003120453329756856, 0.00030962942400947213, 0.00031060806941241026, 0.00031503886566497386, 0.0003072940744459629, 0.00030936626717448235, 0.0003068851074203849, 0.0003087310178671032, 0.00030700728530064225, 0.0003064500051550567, 0.0002993031812366098, 0.0002973685914184898, 0.0003116206207778305, 0.00030519344727508724, 0.00031005661003291607, 0.00030321936355903745, 0.0003025993355549872, 0.0003063226176891476, 0.00030645914375782013, 0.0003026315534953028, 0.0003002297307830304, 0.00029292682302184403, 0.00030495526152662933, 0.00029407802503556013, 0.00030592302209697664, 0.0003049242659471929, 0.00030316755874082446, 0.001860633259639144, 0.002643151208758354, 0.0020607959013432264, 0.004083776380866766, 0.00470794877037406, 0.0027785529382526875, 0.0021998523734509945, 0.0013270287308841944, 0.0009543282212689519, 0.004635965917259455, 0.0032963124103844166, 0.003066824981942773, 0.0037953651044517756, 0.0033466198947280645, 0.001087571494281292, 0.0011048712767660618, 0.000997412484139204, 0.0010655676014721394, 0.0010815027635544538, 0.0015832992503419518, 0.0020077412482351065, 0.002427170518785715, 0.0018322154646739364, 0.0010505870450288057, 0.002147434279322624, 0.002326913643628359, 0.0011307408567517996, 0.0012543564662337303, 0.0014881908427923918, 0.0014122993452474475, 0.002110510366037488, 0.0035403419751673937, 0.0024732742458581924, 0.0016041818307712674, 0.0018756779609248042, 0.0014685058267787099, 0.0014776104362681508, 0.001447663176804781, 0.001351101789623499, 0.0013941811630502343, 0.0014136029640212655, 0.0014429634902626276], \"Term\": [\"eccentr\", \"observ\", \"planet\", \"\\u03b4\", \"let\", \"line\", \"one\", \"\\u03b1\", \"point\", \"center\", \"differ\", \"posit\", \"epicycl\", \"path\", \"\\u03b3\", \"hypothesi\", \"would\", \"form\", \"appear\", \"angl\", \"equant\", \"equal\", \"\\u03b2\", \"first\", \"place\", \"therefor\", \"time\", \"ptolema\", \"apsi\", \"sinc\", \"planet\", \"line\", \"point\", \"angl\", \"form\", \"path\", \"eccentr\", \"chang\", \"one\", \"\\u03b4\", \"remain\", \"would\", \"differ\", \"\\u03b3\", \"entir\", \"\\u03b1\", \"posit\", \"Ch\", \"observ\", \"greater\", \"thi\", \"travers\", \"inequ\", \"place\", \"equat\", \"\\u03b1\\u03b2\", \"first\", \"equival\", \"shall\", \"but\", \"let\", \"center\", \"epicycl\", \"hypothesi\", \"appear\", \"\\u03b2\", \"equant\", \"equal\", \"time\", \"therefor\", \"sinc\", \"sine\", \"\\u03c1\\u03b8\\u03bf\", \"turn\", \"unmov\", \"it\", \"\\u03b3\\u03c3\", \"\\u03b5\\u03bf\", \"\\u03b2\\u03b7\", \"simul\", \"accumul\", \"congruent\", \"shift\", \"whenc\", \"fashion\", \"\\u03b5o\", \"sever\", \"\\u03b2\\u03c75\", \"diverg\", \"period\", \"chiefli\", \"increment\", \"within\", \"\\u03bd\\u03c5\", \"earlier\", \"\\u03b8\\u03c5\\u03b3\", \"\\u03c1\\u03c4\", \"impedi\", \"\\u03b2\\u03b3\\u03c6\", \"4' 43\\\"\", \"later\", \"endpoint\", \"let\", \"epicycl\", \"equal\", \"therefor\", \"center\", \"eccentr\", \"\\u03b4\", \"observ\", \"fix\", \"hypothesi\", \"planet\", \"right\", \"describ\", \"ptolema\", \"\\u03b2\", \"\\u03b1\", \"parallel\", \"one\", \"\\u03b8\", \"posit\", \"point\", \"true\", \"heaven\", \"differ\", \"much\", \"copernican\", \"line\", \"\\u03b2\\u03b3\", \"appear\", \"first\", \"comput\", \"time\", \"demonstr\", \"\\u03b3\", \"path\", \"second\", \"angl\", \"would\", \"form\", \"\\u03c7\\u03b2\", \"verg\", \"On\", \"15\", \"\\u03b3\\u03c3\", \"\\u03b3\\u03b9\", \"postul\", \"perplex\", \"78\\u00b0 47' 30\\\"\", \"advis\", \"neighborhood\", \"ought\", \"5\", \"origin\", \"violent\", \"sever\", \"simul\", \"earth\", \"extrem\", \"design\", \"someth\", \"\\u03c8\\u03b3\", \"intercept\", \"29\\u00b0 0' 16\\\" leo\", \"onc\", \"\\u03b3\\u03ba\\u03b6\", \"\\u03c1\\u03b8\\u03bf\", \"o\\u03c1\", \"accumul\", \"practitioners4\", \"\\u0393\\u03b3\", \"except\", \"ptolema\", \"epicycl\", \"equant\", \"let\", \"observ\", \"center\", \"hypothesi\", \"\\u03b9\", \"nearli\", \"eccentr\", \"one\", \"\\u03b1\", \"\\u03b4\", \"line\", \"make\", \"In\", \"\\u03b1\\u03b3\", \"appar\", \"\\u03b5\", \"time\", \"would\", \"differ\", \"appear\", \"\\u03b8\", \"\\u03b3\", \"posit\", \"use\", \"describ\", \"therefor\", \"new\", \"path\", \"planet\", \"point\", \"place\", \"form\", \"sinc\", \"but\", \"apsi\", \"copernican\", \"shall\", \"\\u03b2\", \"angl\"], \"Total\": [59.0, 52.0, 56.0, 48.0, 40.0, 41.0, 36.0, 33.0, 31.0, 26.0, 27.0, 26.0, 20.0, 24.0, 23.0, 19.0, 20.0, 20.0, 18.0, 18.0, 15.0, 15.0, 15.0, 15.0, 15.0, 13.0, 14.0, 12.0, 13.0, 13.0, 56.907447814941406, 41.23390579223633, 31.713478088378906, 18.118183135986328, 20.790388107299805, 24.35671043395996, 59.15924072265625, 9.840262413024902, 36.5943603515625, 48.07905578613281, 13.355184555053711, 20.487438201904297, 27.56743812561035, 23.10152244567871, 7.101500034332275, 33.68144607543945, 26.557218551635742, 11.46693229675293, 52.00923538208008, 10.556866645812988, 11.415066719055176, 7.902902126312256, 13.157452583312988, 15.762773513793945, 10.473943710327148, 8.710991859436035, 15.67551326751709, 9.587621688842773, 13.937055587768555, 13.931863784790039, 40.92044448852539, 26.89596176147461, 20.675003051757812, 19.94767189025879, 18.025711059570312, 15.334362030029297, 15.210183143615723, 15.185100555419922, 14.323338508605957, 13.793113708496094, 13.684708595275879, 1.2365294694900513, 1.210787057876587, 1.2219699621200562, 1.2445762157440186, 1.2236442565917969, 1.2062489986419678, 1.2382800579071045, 1.2326931953430176, 1.2193212509155273, 1.2245001792907715, 1.2518200874328613, 1.245179295539856, 1.2631633281707764, 1.241985559463501, 1.244332194328308, 1.225074291229248, 1.2507673501968384, 1.2441507577896118, 1.244097352027893, 1.2550143003463745, 1.2537329196929932, 1.270702838897705, 1.2394158840179443, 1.2534834146499634, 1.2831870317459106, 1.2514845132827759, 1.2653822898864746, 1.2706489562988281, 1.2489638328552246, 1.2807862758636475, 1.269554853439331, 40.92044448852539, 20.675003051757812, 15.185100555419922, 13.793113708496094, 26.89596176147461, 59.15924072265625, 48.07905578613281, 52.00923538208008, 3.7392520904541016, 19.94767189025879, 56.907447814941406, 5.423023223876953, 10.396781921386719, 12.469795227050781, 15.334362030029297, 33.68144607543945, 12.854092597961426, 36.5943603515625, 7.8044514656066895, 26.557218551635742, 31.713478088378906, 8.316001892089844, 4.639405250549316, 27.56743812561035, 11.919062614440918, 12.474224090576172, 41.23390579223633, 10.661249160766602, 18.025711059570312, 15.67551326751709, 7.193573951721191, 14.323338508605957, 10.912220001220703, 23.10152244567871, 24.35671043395996, 10.005061149597168, 18.118183135986328, 20.487438201904297, 20.790388107299805, 1.2250056266784668, 1.2619106769561768, 1.2617239952087402, 1.2622088193893433, 1.2062489986419678, 1.2508838176727295, 1.2419354915618896, 1.2506355047225952, 1.2765992879867554, 1.2470965385437012, 1.2596501111984253, 1.249719262123108, 1.2595070600509644, 1.2537152767181396, 1.252049446105957, 1.225074291229248, 1.2193212509155273, 1.2800817489624023, 1.2541122436523438, 1.2768235206604004, 1.2496064901351929, 1.2473591566085815, 1.2627073526382446, 1.263370156288147, 1.248140811920166, 1.2396423816680908, 1.210787057876587, 1.263245940208435, 1.2245001792907715, 1.2744956016540527, 1.2705107927322388, 1.2638205289840698, 12.469795227050781, 20.675003051757812, 15.210183143615723, 40.92044448852539, 52.00923538208008, 26.89596176147461, 19.94767189025879, 9.83237361907959, 6.267143249511719, 59.15924072265625, 36.5943603515625, 33.68144607543945, 48.07905578613281, 41.23390579223633, 8.089712142944336, 8.302467346191406, 7.149313449859619, 7.9125165939331055, 8.105913162231445, 14.323338508605957, 20.487438201904297, 27.56743812561035, 18.025711059570312, 7.8044514656066895, 23.10152244567871, 26.557218551635742, 8.858592987060547, 10.396781921386719, 13.793113708496094, 12.761002540588379, 24.35671043395996, 56.907447814941406, 31.713478088378906, 15.762773513793945, 20.790388107299805, 13.684708595275879, 13.931863784790039, 13.664767265319824, 12.474224090576172, 13.937055587768555, 15.334362030029297, 18.118183135986328], \"loglift\": [30.0, 29.0, 28.0, 27.0, 26.0, 25.0, 24.0, 23.0, 22.0, 21.0, 20.0, 19.0, 18.0, 17.0, 16.0, 15.0, 14.0, 13.0, 12.0, 11.0, 10.0, 9.0, 8.0, 7.0, 6.0, 5.0, 4.0, 3.0, 2.0, 1.0, 9.999999747378752e-05, 9.999999747378752e-05, 9.999999747378752e-05, 9.999999747378752e-05, 9.999999747378752e-05, 9.999999747378752e-05, 9.999999747378752e-05, 9.999999747378752e-05, 9.999999747378752e-05, 9.999999747378752e-05, 9.999999747378752e-05, 9.999999747378752e-05, 9.999999747378752e-05, 9.999999747378752e-05, 9.999999747378752e-05, 9.999999747378752e-05, 9.999999747378752e-05, 9.999999747378752e-05, 9.999999747378752e-05, 9.999999747378752e-05, 9.999999747378752e-05, 9.999999747378752e-05, 9.999999747378752e-05, 9.999999747378752e-05, 9.999999747378752e-05, 9.999999747378752e-05, 9.999999747378752e-05, 9.999999747378752e-05, 9.999999747378752e-05, 9.999999747378752e-05, 0.0, 9.999999747378752e-05, 0.0, 0.0, 9.999999747378752e-05, 9.999999747378752e-05, 9.999999747378752e-05, 9.999999747378752e-05, 9.999999747378752e-05, 0.0, 9.999999747378752e-05, 0.6614000201225281, 0.6394000053405762, 0.6376000046730042, 0.632099986076355, 0.6283000111579895, 0.6256999969482422, 0.6096000075340271, 0.6054999828338623, 0.6050999760627747, 0.6028000116348267, 0.5971999764442444, 0.5964000225067139, 0.5910000205039978, 0.5907999873161316, 0.5885999798774719, 0.5849999785423279, 0.5809999704360962, 0.5774000287055969, 0.57669997215271, 0.5703999996185303, 0.5703999996185303, 0.5687999725341797, 0.567799985408783, 0.5658000111579895, 0.5644999742507935, 0.5633000135421753, 0.5604000091552734, 0.5587000250816345, 0.5557000041007996, 0.5554999709129333, 0.555400013923645, -0.09520000219345093, -0.024800000712275505, -0.014600000344216824, 0.0052999998442828655, -0.16089999675750732, -0.3531000018119812, -0.31310001015663147, -0.3571999967098236, 0.29750001430511475, -0.14959999918937683, -0.47040000557899475, 0.17679999768733978, -0.00570000009611249, -0.06419999897480011, -0.15139999985694885, -0.40209999680519104, -0.11209999769926071, -0.44369998574256897, 0.031099999323487282, -0.3580000102519989, -0.4262999892234802, 0.00039999998989515007, 0.18559999763965607, -0.39489999413490295, -0.12080000340938568, -0.1371999979019165, -0.5493000149726868, -0.09510000050067902, -0.2806999981403351, -0.24959999322891235, 0.02979999966919422, -0.2378000020980835, -0.13259999454021454, -0.44040000438690186, -0.4878999888896942, -0.0982000008225441, -0.4426000118255615, -0.5170000195503235, -0.5458999872207642, 0.6450999975204468, 0.6342999935150146, 0.6330999732017517, 0.6305000185966492, 0.6237999796867371, 0.6236000061035156, 0.6230000257492065, 0.6191999912261963, 0.6128000020980835, 0.611299991607666, 0.6079999804496765, 0.6079000234603882, 0.6061000227928162, 0.6050999760627747, 0.6046000123023987, 0.6028000116348267, 0.6010000109672546, 0.5992000102996826, 0.598800003528595, 0.5967000126838684, 0.5958999991416931, 0.5957000255584717, 0.5957000255584717, 0.5956000089645386, 0.5952000021934509, 0.593999981880188, 0.5929999947547913, 0.5907999873161316, 0.5856000185012817, 0.585099995136261, 0.5849999785423279, 0.5845000147819519, 0.10970000177621841, -0.04490000009536743, 0.013199999928474426, -0.29249998927116394, -0.39010000228881836, -0.257999986410141, -0.19269999861717224, 0.00930000003427267, 0.12999999523162842, -0.5343000292778015, -0.39500001072883606, -0.38420000672340393, -0.5270000100135803, -0.4991999864578247, 0.005400000140070915, -0.004800000227987766, 0.042500000447034836, 0.0071000000461936, -0.002199999988079071, -0.19030000269412994, -0.310699999332428, -0.41780000925064087, -0.2741999924182892, 0.0066999997943639755, -0.3635999858379364, -0.4226999878883362, -0.04650000110268593, -0.10279999673366547, -0.21449999511241913, -0.1890999972820282, -0.43380001187324524, -0.7651000022888184, -0.5390999913215637, -0.27300000190734863, -0.3935000002384186, -0.2199999988079071, -0.23170000314712524, -0.23280000686645508, -0.21070000529289246, -0.29019999504089355, -0.3718999922275543, -0.5181999802589417], \"logprob\": [30.0, 29.0, 28.0, 27.0, 26.0, 25.0, 24.0, 23.0, 22.0, 21.0, 20.0, 19.0, 18.0, 17.0, 16.0, 15.0, 14.0, 13.0, 12.0, 11.0, 10.0, 9.0, 8.0, 7.0, 6.0, 5.0, 4.0, 3.0, 2.0, 1.0, -3.8861000537872314, -4.2083001136779785, -4.470799922943115, -5.030700206756592, -4.893099784851074, -4.734799861907959, -3.847399950027466, -5.64109992980957, -4.327700138092041, -4.054699897766113, -5.335700035095215, -4.907800197601318, -4.611000061035156, -4.787700176239014, -5.967299938201904, -4.410699844360352, -4.6483001708984375, -5.488100051879883, -3.9762001037597656, -5.570799827575684, -5.492700099945068, -5.860400199890137, -5.350599765777588, -5.170000076293945, -5.578700065612793, -5.763000011444092, -5.17549991607666, -5.667099952697754, -5.293099880218506, -5.293399810791016, -4.216000080108643, -4.635700225830078, -4.898799896240234, -4.934500217437744, -5.035799980163574, -5.197500228881836, -5.205699920654297, -5.207300186157227, -5.265699863433838, -5.303500175476074, -5.311299800872803, -7.053999900817871, -7.0970001220703125, -7.089600086212158, -7.0767998695373535, -7.097599983215332, -7.114500045776367, -7.104400157928467, -7.1128997802734375, -7.124300003051758, -7.122300148010254, -7.105899810791016, -7.111999988555908, -7.103099822998047, -7.120200157165527, -7.120500087738037, -7.139699935913086, -7.122900009155273, -7.131800174713135, -7.132599830627441, -7.130099773406982, -7.131199836730957, -7.11929988861084, -7.145199775695801, -7.136000156402588, -7.113800048828125, -7.139999866485596, -7.131999969482422, -7.12939977645874, -7.149700164794922, -7.12470006942749, -7.133600234985352, -4.311299800872803, -4.923600196838379, -5.22189998626709, -5.2982001304626465, -4.796599864959717, -4.200500011444092, -4.3678998947143555, -4.333499908447266, -6.311299800872803, -5.084199905395508, -4.356599807739258, -6.060200214385986, -5.591899871826172, -5.468599796295166, -5.348999977111816, -4.81279993057251, -5.486100196838379, -4.771500110626221, -5.841800212860107, -5.006400108337402, -4.897200107574463, -5.809100151062012, -6.207499980926514, -5.005899906158447, -5.570300102233887, -5.541200160980225, -4.757699966430664, -5.656199932098389, -5.3165998458862305, -5.42519998550415, -5.924699783325195, -5.503600120544434, -5.670400142669678, -5.2281999588012695, -5.222799777984619, -5.722799777984619, -5.473299980163574, -5.424900054931641, -5.4390997886657715, -7.079599857330322, -7.060800075531006, -7.062099933624268, -7.064300060272217, -7.116399765014648, -7.0802001953125, -7.0879998207092285, -7.084799766540527, -7.070700168609619, -7.095600128173828, -7.088900089263916, -7.09689998626709, -7.09089994430542, -7.096499919891357, -7.098299980163574, -7.1219000816345215, -7.128399848937988, -7.081600189208984, -7.102399826049805, -7.086599826812744, -7.10890007019043, -7.111000061035156, -7.098700046539307, -7.098299980163574, -7.110899925231934, -7.118800163269043, -7.143499851226807, -7.1031999588012695, -7.139500141143799, -7.099999904632568, -7.103300094604492, -7.109099864959717, -5.2947001457214355, -4.943699836730957, -5.192500114440918, -4.508600234985352, -4.366399765014648, -4.893700122833252, -5.127200126647949, -5.632699966430664, -5.962399959564209, -4.381800174713135, -4.722799777984619, -4.795000076293945, -4.5817999839782715, -4.707699775695801, -5.831699848175049, -5.815899848937988, -5.9182000160217285, -5.852099895477295, -5.837299823760986, -5.456099987030029, -5.218599796295166, -5.028900146484375, -5.310100078582764, -5.866300106048584, -5.151299953460693, -5.071100234985352, -5.792799949645996, -5.689000129699707, -5.518099784851074, -5.570400238037109, -5.168700218200684, -4.651400089263916, -5.0100998878479, -5.442999839782715, -5.2866997718811035, -5.531400203704834, -5.525199890136719, -5.5457000732421875, -5.614699840545654, -5.5833001136779785, -5.569499969482422, -5.548900127410889]}, \"token.table\": {\"Topic\": [1, 1, 1, 1, 1, 1, 1, 1, 1, 1, 1, 1, 1, 1, 1, 1, 1, 1, 1, 1, 1, 1, 1, 1, 1, 1, 1, 1, 1, 1, 1, 1, 1, 1, 1, 1, 1, 1, 1, 1, 1, 1, 1, 1, 1, 1, 1, 1, 1, 1, 1, 1, 1, 1, 1, 1, 1, 1, 1, 1, 1, 1, 1, 1, 1, 1, 1, 1, 1, 1, 1, 1, 1, 1, 1, 1, 1, 1, 1, 1, 1, 1, 1, 1, 1, 1, 1, 1, 1, 1, 1, 1, 1, 1, 1, 1, 1, 1, 1, 1, 1, 1, 1, 1, 1, 1, 1, 1, 1, 1, 1, 1, 1, 1, 1, 1, 1, 1, 1, 1, 1, 1, 1], \"Freq\": [0.7922619581222534, 0.7915336489677429, 0.8006637096405029, 0.7939614057540894, 0.7833311557769775, 0.9592801332473755, 0.9635689854621887, 0.7925663590431213, 0.8166597485542297, 0.8018625378608704, 0.9934771060943604, 1.0110563039779663, 0.9985736608505249, 1.024532675743103, 1.0048906803131104, 1.0038682222366333, 1.0162330865859985, 0.7968036532402039, 0.9730907082557678, 0.7988368272781372, 0.9619836807250977, 1.0080442428588867, 0.9618360996246338, 0.7831935882568359, 1.0156910419464111, 0.8037611246109009, 0.7977768182754517, 0.781200110912323, 0.9973082542419434, 0.7876776456832886, 0.9857072234153748, 1.0157192945480347, 0.9878103733062744, 0.9861814379692078, 0.9547502398490906, 1.0430115461349487, 0.7912515997886658, 0.797376811504364, 0.8051623702049255, 1.020700216293335, 1.069732666015625, 1.0100821256637573, 1.0419758558273315, 1.0777243375778198, 1.0026233196258545, 0.7902750372886658, 0.79761803150177, 0.9880331754684448, 0.7919491529464722, 0.8172309994697571, 0.7807703614234924, 1.0019441843032837, 0.9943273663520813, 0.9889103174209595, 1.0067906379699707, 0.9573739767074585, 0.7938712239265442, 1.0187287330627441, 0.9998224377632141, 0.8011916279792786, 1.011084794998169, 0.7976292967796326, 0.8001797199249268, 0.7916114926338196, 1.0113509893417358, 0.9853547215461731, 0.8037956357002258, 0.7995935082435608, 1.0150498151779175, 1.0016263723373413, 1.0090347528457642, 1.0166727304458618, 0.8051947951316833, 0.7846240997314453, 0.9623253345489502, 0.9734047651290894, 0.9219949245452881, 0.9994941353797913, 0.816277027130127, 1.004516363143921, 0.8030971884727478, 0.8201283812522888, 1.023039698600769, 0.8087150454521179, 0.8002519011497498, 1.014999270439148, 0.9636387228965759, 0.977425754070282, 1.0122863054275513, 0.9620007276535034, 0.8183507323265076, 0.8034863471984863, 1.0159627199172974, 0.7924491167068481, 0.7986904978752136, 0.7916632890701294, 0.7869660258293152, 0.976207971572876, 0.7870849967002869, 1.0094578266143799, 1.033177375793457, 0.9791150093078613, 0.9781952500343323, 1.0317740440368652, 0.7869994044303894, 0.8112318515777588, 0.7995091676712036, 0.9956053495407104, 0.7994347810745239, 0.8066842555999756, 0.8290162086486816, 0.9983556866645813, 0.9869338274002075, 0.8036439418792725, 0.8075717687606812, 1.025056004524231, 0.7793096303939819, 1.0170483589172363, 0.8068316578865051, 0.8259090781211853, 0.79905104637146, 0.8163228034973145, 0.8016937375068665], \"Term\": [\"15\", \"29\\u00b0 0' 16\\\" leo\", \"4' 43\\\"\", \"5\", \"78\\u00b0 47' 30\\\"\", \"Ch\", \"In\", \"On\", \"accumul\", \"advis\", \"angl\", \"appar\", \"appear\", \"apsi\", \"but\", \"center\", \"chang\", \"chiefli\", \"comput\", \"congruent\", \"copernican\", \"demonstr\", \"describ\", \"design\", \"differ\", \"diverg\", \"earlier\", \"earth\", \"eccentr\", \"endpoint\", \"entir\", \"epicycl\", \"equal\", \"equant\", \"equat\", \"equival\", \"except\", \"extrem\", \"fashion\", \"first\", \"fix\", \"form\", \"greater\", \"heaven\", \"hypothesi\", \"impedi\", \"increment\", \"inequ\", \"intercept\", \"it\", \"later\", \"let\", \"line\", \"make\", \"much\", \"nearli\", \"neighborhood\", \"new\", \"observ\", \"onc\", \"one\", \"origin\", \"ought\", \"o\\u03c1\", \"parallel\", \"path\", \"period\", \"perplex\", \"place\", \"planet\", \"point\", \"posit\", \"postul\", \"practitioners4\", \"ptolema\", \"remain\", \"right\", \"second\", \"sever\", \"shall\", \"shift\", \"simul\", \"sinc\", \"sine\", \"someth\", \"therefor\", \"thi\", \"time\", \"travers\", \"true\", \"turn\", \"unmov\", \"use\", \"verg\", \"violent\", \"whenc\", \"within\", \"would\", \"\\u0393\\u03b3\", \"\\u03b1\", \"\\u03b1\\u03b2\", \"\\u03b1\\u03b3\", \"\\u03b2\", \"\\u03b2\\u03b3\", \"\\u03b2\\u03b3\\u03c6\", \"\\u03b2\\u03b7\", \"\\u03b2\\u03c75\", \"\\u03b3\", \"\\u03b3\\u03b9\", \"\\u03b3\\u03ba\\u03b6\", \"\\u03b3\\u03c3\", \"\\u03b4\", \"\\u03b5\", \"\\u03b5o\", \"\\u03b5\\u03bf\", \"\\u03b8\", \"\\u03b8\\u03c5\\u03b3\", \"\\u03b9\", \"\\u03bd\\u03c5\", \"\\u03c1\\u03b8\\u03bf\", \"\\u03c1\\u03c4\", \"\\u03c7\\u03b2\", \"\\u03c8\\u03b3\"]}, \"R\": 30, \"lambda.step\": 0.01, \"plot.opts\": {\"xlab\": \"PC1\", \"ylab\": \"PC2\"}, \"topic.order\": [3, 2, 1]};\n",
       "\n",
       "function LDAvis_load_lib(url, callback){\n",
       "  var s = document.createElement('script');\n",
       "  s.src = url;\n",
       "  s.async = true;\n",
       "  s.onreadystatechange = s.onload = callback;\n",
       "  s.onerror = function(){console.warn(\"failed to load library \" + url);};\n",
       "  document.getElementsByTagName(\"head\")[0].appendChild(s);\n",
       "}\n",
       "\n",
       "if(typeof(LDAvis) !== \"undefined\"){\n",
       "   // already loaded: just create the visualization\n",
       "   !function(LDAvis){\n",
       "       new LDAvis(\"#\" + \"ldavis_el1306017232352750645363936943\", ldavis_el1306017232352750645363936943_data);\n",
       "   }(LDAvis);\n",
       "}else if(typeof define === \"function\" && define.amd){\n",
       "   // require.js is available: use it to load d3/LDAvis\n",
       "   require.config({paths: {d3: \"https://cdnjs.cloudflare.com/ajax/libs/d3/3.5.5/d3.min\"}});\n",
       "   require([\"d3\"], function(d3){\n",
       "      window.d3 = d3;\n",
       "      LDAvis_load_lib(\"https://cdn.rawgit.com/bmabey/pyLDAvis/files/ldavis.v1.0.0.js\", function(){\n",
       "        new LDAvis(\"#\" + \"ldavis_el1306017232352750645363936943\", ldavis_el1306017232352750645363936943_data);\n",
       "      });\n",
       "    });\n",
       "}else{\n",
       "    // require.js not available: dynamically load d3 & LDAvis\n",
       "    LDAvis_load_lib(\"https://cdnjs.cloudflare.com/ajax/libs/d3/3.5.5/d3.min.js\", function(){\n",
       "         LDAvis_load_lib(\"https://cdn.rawgit.com/bmabey/pyLDAvis/files/ldavis.v1.0.0.js\", function(){\n",
       "                 new LDAvis(\"#\" + \"ldavis_el1306017232352750645363936943\", ldavis_el1306017232352750645363936943_data);\n",
       "            })\n",
       "         });\n",
       "}\n",
       "</script>"
      ],
      "text/plain": [
       "PreparedData(topic_coordinates=              x    y  topics  cluster       Freq\n",
       "topic                                           \n",
       "2     -0.009324  0.0       1        1  99.973129\n",
       "1      0.003465  0.0       2        1   0.013496\n",
       "0      0.005859  0.0       3        1   0.013371, topic_info=     Category       Freq        Term      Total  loglift  logprob\n",
       "term                                                             \n",
       "200   Default  59.000000     eccentr  59.000000  30.0000  30.0000\n",
       "370   Default  52.000000      observ  52.000000  29.0000  29.0000\n",
       "409   Default  56.000000      planet  56.000000  28.0000  28.0000\n",
       "664   Default  48.000000           δ  48.000000  27.0000  27.0000\n",
       "309   Default  40.000000         let  40.000000  26.0000  26.0000\n",
       "314   Default  41.000000        line  41.000000  25.0000  25.0000\n",
       "376   Default  36.000000         one  36.000000  24.0000  24.0000\n",
       "616   Default  33.000000           α  33.000000  23.0000  23.0000\n",
       "411   Default  31.000000       point  31.000000  22.0000  22.0000\n",
       "119   Default  26.000000      center  26.000000  21.0000  21.0000\n",
       "180   Default  27.000000      differ  27.000000  20.0000  20.0000\n",
       "413   Default  26.000000       posit  26.000000  19.0000  19.0000\n",
       "209   Default  20.000000     epicycl  20.000000  18.0000  18.0000\n",
       "392   Default  24.000000        path  24.000000  17.0000  17.0000\n",
       "645   Default  23.000000           γ  23.000000  16.0000  16.0000\n",
       "273   Default  19.000000   hypothesi  19.000000  15.0000  15.0000\n",
       "599   Default  20.000000       would  20.000000  14.0000  14.0000\n",
       "246   Default  20.000000        form  20.000000  13.0000  13.0000\n",
       "84    Default  18.000000      appear  18.000000  12.0000  12.0000\n",
       "76    Default  18.000000        angl  18.000000  11.0000  11.0000\n",
       "212   Default  15.000000      equant  15.000000  10.0000  10.0000\n",
       "211   Default  15.000000       equal  15.000000   9.0000   9.0000\n",
       "630   Default  15.000000           β  15.000000   8.0000   8.0000\n",
       "242   Default  15.000000       first  15.000000   7.0000   7.0000\n",
       "408   Default  15.000000       place  15.000000   6.0000   6.0000\n",
       "538   Default  13.000000    therefor  13.000000   5.0000   5.0000\n",
       "551   Default  14.000000        time  14.000000   4.0000   4.0000\n",
       "438   Default  12.000000     ptolema  12.000000   3.0000   3.0000\n",
       "87    Default  13.000000        apsi  13.000000   2.0000   2.0000\n",
       "492   Default  13.000000        sinc  13.000000   1.0000   1.0000\n",
       "...       ...        ...         ...        ...      ...      ...\n",
       "664    Topic3   0.003795           δ  48.079056  -0.5270  -4.5818\n",
       "314    Topic3   0.003347        line  41.233906  -0.4992  -4.7077\n",
       "323    Topic3   0.001088        make   8.089712   0.0054  -5.8317\n",
       "40     Topic3   0.001105          In   8.302467  -0.0048  -5.8159\n",
       "619    Topic3   0.000997          αγ   7.149313   0.0425  -5.9182\n",
       "83     Topic3   0.001066       appar   7.912517   0.0071  -5.8521\n",
       "673    Topic3   0.001082           ε   8.105913  -0.0022  -5.8373\n",
       "551    Topic3   0.001583        time  14.323339  -0.1903  -5.4561\n",
       "599    Topic3   0.002008       would  20.487438  -0.3107  -5.2186\n",
       "180    Topic3   0.002427      differ  27.567438  -0.4178  -5.0289\n",
       "84     Topic3   0.001832      appear  18.025711  -0.2742  -5.3101\n",
       "692    Topic3   0.001051           θ   7.804451   0.0067  -5.8663\n",
       "645    Topic3   0.002147           γ  23.101522  -0.3636  -5.1513\n",
       "413    Topic3   0.002327       posit  26.557219  -0.4227  -5.0711\n",
       "579    Topic3   0.001131         use   8.858593  -0.0465  -5.7928\n",
       "175    Topic3   0.001254     describ  10.396782  -0.1028  -5.6890\n",
       "538    Topic3   0.001488    therefor  13.793114  -0.2145  -5.5181\n",
       "358    Topic3   0.001412         new  12.761003  -0.1891  -5.5704\n",
       "392    Topic3   0.002111        path  24.356710  -0.4338  -5.1687\n",
       "409    Topic3   0.003540      planet  56.907448  -0.7651  -4.6514\n",
       "411    Topic3   0.002473       point  31.713478  -0.5391  -5.0101\n",
       "408    Topic3   0.001604       place  15.762774  -0.2730  -5.4430\n",
       "246    Topic3   0.001876        form  20.790388  -0.3935  -5.2867\n",
       "492    Topic3   0.001469        sinc  13.684709  -0.2200  -5.5314\n",
       "115    Topic3   0.001478         but  13.931864  -0.2317  -5.5252\n",
       "87     Topic3   0.001448        apsi  13.664767  -0.2328  -5.5457\n",
       "158    Topic3   0.001351  copernican  12.474224  -0.2107  -5.6147\n",
       "482    Topic3   0.001394       shall  13.937056  -0.2902  -5.5833\n",
       "630    Topic3   0.001414           β  15.334362  -0.3719  -5.5695\n",
       "76     Topic3   0.001443        angl  18.118183  -0.5182  -5.5489\n",
       "\n",
       "[215 rows x 6 columns], token_table=      Topic      Freq            Term\n",
       "term                                 \n",
       "7         1  0.792262              15\n",
       "13        1  0.791534  29° 0' 16\" leo\n",
       "19        1  0.800664          4' 43\"\n",
       "21        1  0.793961               5\n",
       "30        1  0.783331     78° 47' 30\"\n",
       "38        1  0.959280              Ch\n",
       "40        1  0.963569              In\n",
       "42        1  0.792566              On\n",
       "51        1  0.816660         accumul\n",
       "59        1  0.801863           advis\n",
       "76        1  0.993477            angl\n",
       "83        1  1.011056           appar\n",
       "84        1  0.998574          appear\n",
       "87        1  1.024533            apsi\n",
       "115       1  1.004891             but\n",
       "119       1  1.003868          center\n",
       "121       1  1.016233           chang\n",
       "124       1  0.796804         chiefli\n",
       "144       1  0.973091          comput\n",
       "150       1  0.798837       congruent\n",
       "158       1  0.961984      copernican\n",
       "171       1  1.008044        demonstr\n",
       "175       1  0.961836         describ\n",
       "176       1  0.783194          design\n",
       "180       1  1.015691          differ\n",
       "190       1  0.803761          diverg\n",
       "197       1  0.797777         earlier\n",
       "198       1  0.781200           earth\n",
       "200       1  0.997308         eccentr\n",
       "205       1  0.787678        endpoint\n",
       "...     ...       ...             ...\n",
       "583       1  0.792449            verg\n",
       "586       1  0.798690         violent\n",
       "590       1  0.791663           whenc\n",
       "596       1  0.786966          within\n",
       "599       1  0.976208           would\n",
       "612       1  0.787085              Γγ\n",
       "616       1  1.009458               α\n",
       "617       1  1.033177              αβ\n",
       "619       1  0.979115              αγ\n",
       "630       1  0.978195               β\n",
       "631       1  1.031774              βγ\n",
       "632       1  0.786999             βγφ\n",
       "635       1  0.811232              βη\n",
       "643       1  0.799509             βχ5\n",
       "645       1  0.995605               γ\n",
       "656       1  0.799435              γι\n",
       "658       1  0.806684             γκζ\n",
       "660       1  0.829016              γσ\n",
       "664       1  0.998356               δ\n",
       "673       1  0.986934               ε\n",
       "674       1  0.803644              εo\n",
       "683       1  0.807572              εο\n",
       "692       1  1.025056               θ\n",
       "703       1  0.779310             θυγ\n",
       "704       1  1.017048               ι\n",
       "719       1  0.806832              νυ\n",
       "731       1  0.825909             ρθο\n",
       "734       1  0.799051              ρτ\n",
       "749       1  0.816323              χβ\n",
       "753       1  0.801694              ψγ\n",
       "\n",
       "[123 rows x 3 columns], R=30, lambda_step=0.01, plot_opts={'xlab': 'PC1', 'ylab': 'PC2'}, topic_order=[3, 2, 1])"
      ]
     },
     "execution_count": 78,
     "metadata": {},
     "output_type": "execute_result"
    }
   ],
   "source": [
    "vis"
   ]
  },
  {
   "cell_type": "code",
   "execution_count": null,
   "metadata": {},
   "outputs": [],
   "source": [
    "# Topic Modelling of chapter 5 "
   ]
  },
  {
   "cell_type": "code",
   "execution_count": 38,
   "metadata": {},
   "outputs": [
    {
     "data": {
      "text/html": [
       "\n",
       "<link rel=\"stylesheet\" type=\"text/css\" href=\"https://cdn.rawgit.com/bmabey/pyLDAvis/files/ldavis.v1.0.0.css\">\n",
       "\n",
       "\n",
       "<div id=\"ldavis_el310014837288564322455141108\"></div>\n",
       "<script type=\"text/javascript\">\n",
       "\n",
       "var ldavis_el310014837288564322455141108_data = {\"mdsDat\": {\"x\": [0.009912481985517214, 0.005196842770935608, -0.0023482415708682256, -0.0127610831855846], \"y\": [-0.001894369570815767, 0.003258041952656643, -0.001493882726979777, 0.00013021034513890497], \"topics\": [1, 2, 3, 4], \"cluster\": [1, 1, 1, 1], \"Freq\": [93.80754852294922, 6.184987545013428, 0.007147224619984627, 0.00031304112053476274]}, \"tinfo\": {\"Category\": [\"Default\", \"Default\", \"Default\", \"Default\", \"Default\", \"Default\", \"Default\", \"Default\", \"Default\", \"Default\", \"Default\", \"Default\", \"Default\", \"Default\", \"Default\", \"Default\", \"Default\", \"Default\", \"Default\", \"Default\", \"Default\", \"Default\", \"Default\", \"Default\", \"Default\", \"Default\", \"Default\", \"Default\", \"Default\", \"Default\", \"Topic1\", \"Topic1\", \"Topic1\", \"Topic1\", \"Topic1\", \"Topic1\", \"Topic1\", \"Topic1\", \"Topic1\", \"Topic1\", \"Topic1\", \"Topic1\", \"Topic1\", \"Topic1\", \"Topic1\", \"Topic1\", \"Topic1\", \"Topic1\", \"Topic1\", \"Topic1\", \"Topic1\", \"Topic1\", \"Topic1\", \"Topic1\", \"Topic1\", \"Topic1\", \"Topic1\", \"Topic1\", \"Topic1\", \"Topic1\", \"Topic1\", \"Topic1\", \"Topic1\", \"Topic1\", \"Topic1\", \"Topic1\", \"Topic1\", \"Topic1\", \"Topic1\", \"Topic1\", \"Topic1\", \"Topic1\", \"Topic1\", \"Topic1\", \"Topic1\", \"Topic1\", \"Topic1\", \"Topic1\", \"Topic1\", \"Topic1\", \"Topic1\", \"Topic1\", \"Topic1\", \"Topic1\", \"Topic1\", \"Topic1\", \"Topic1\", \"Topic1\", \"Topic1\", \"Topic1\", \"Topic1\", \"Topic1\", \"Topic1\", \"Topic1\", \"Topic1\", \"Topic1\", \"Topic1\", \"Topic1\", \"Topic1\", \"Topic2\", \"Topic2\", \"Topic2\", \"Topic2\", \"Topic2\", \"Topic2\", \"Topic2\", \"Topic2\", \"Topic2\", \"Topic2\", \"Topic2\", \"Topic2\", \"Topic2\", \"Topic2\", \"Topic2\", \"Topic2\", \"Topic2\", \"Topic2\", \"Topic2\", \"Topic2\", \"Topic2\", \"Topic2\", \"Topic2\", \"Topic2\", \"Topic2\", \"Topic2\", \"Topic2\", \"Topic2\", \"Topic2\", \"Topic2\", \"Topic2\", \"Topic2\", \"Topic2\", \"Topic2\", \"Topic2\", \"Topic2\", \"Topic2\", \"Topic2\", \"Topic2\", \"Topic2\", \"Topic2\", \"Topic2\", \"Topic2\", \"Topic2\", \"Topic2\", \"Topic2\", \"Topic2\", \"Topic2\", \"Topic2\", \"Topic2\", \"Topic2\", \"Topic2\", \"Topic2\", \"Topic2\", \"Topic2\", \"Topic2\", \"Topic2\", \"Topic2\", \"Topic2\", \"Topic2\", \"Topic2\", \"Topic2\", \"Topic2\", \"Topic2\", \"Topic2\", \"Topic2\", \"Topic2\", \"Topic2\", \"Topic2\", \"Topic2\", \"Topic2\", \"Topic2\", \"Topic2\", \"Topic2\", \"Topic2\", \"Topic2\", \"Topic2\", \"Topic2\", \"Topic2\", \"Topic2\", \"Topic2\", \"Topic2\", \"Topic2\", \"Topic2\", \"Topic2\", \"Topic2\", \"Topic2\", \"Topic2\", \"Topic2\", \"Topic2\", \"Topic2\", \"Topic2\", \"Topic2\", \"Topic3\", \"Topic3\", \"Topic3\", \"Topic3\", \"Topic3\", \"Topic3\", \"Topic3\", \"Topic3\", \"Topic3\", \"Topic3\", \"Topic3\", \"Topic3\", \"Topic3\", \"Topic3\", \"Topic3\", \"Topic3\", \"Topic3\", \"Topic3\", \"Topic3\", \"Topic3\", \"Topic3\", \"Topic3\", \"Topic3\", \"Topic3\", \"Topic3\", \"Topic3\", \"Topic3\", \"Topic3\", \"Topic3\", \"Topic3\", \"Topic3\", \"Topic3\", \"Topic3\", \"Topic3\", \"Topic3\", \"Topic3\", \"Topic3\", \"Topic3\", \"Topic3\", \"Topic3\", \"Topic3\", \"Topic3\", \"Topic3\", \"Topic3\", \"Topic3\", \"Topic3\", \"Topic3\", \"Topic3\", \"Topic3\", \"Topic3\", \"Topic3\", \"Topic3\", \"Topic3\", \"Topic3\", \"Topic3\", \"Topic3\", \"Topic3\", \"Topic3\", \"Topic3\", \"Topic3\", \"Topic3\", \"Topic3\", \"Topic3\", \"Topic3\", \"Topic3\", \"Topic3\", \"Topic3\", \"Topic3\", \"Topic3\", \"Topic3\", \"Topic3\", \"Topic3\", \"Topic3\", \"Topic3\", \"Topic3\", \"Topic3\", \"Topic3\", \"Topic3\", \"Topic3\", \"Topic3\", \"Topic3\", \"Topic3\", \"Topic3\", \"Topic3\", \"Topic3\", \"Topic3\", \"Topic4\", \"Topic4\", \"Topic4\", \"Topic4\", \"Topic4\", \"Topic4\", \"Topic4\", \"Topic4\", \"Topic4\", \"Topic4\", \"Topic4\", \"Topic4\", \"Topic4\", \"Topic4\", \"Topic4\", \"Topic4\", \"Topic4\", \"Topic4\", \"Topic4\", \"Topic4\", \"Topic4\", \"Topic4\", \"Topic4\", \"Topic4\", \"Topic4\", \"Topic4\", \"Topic4\", \"Topic4\", \"Topic4\", \"Topic4\", \"Topic4\", \"Topic4\", \"Topic4\", \"Topic4\", \"Topic4\", \"Topic4\", \"Topic4\", \"Topic4\", \"Topic4\", \"Topic4\", \"Topic4\", \"Topic4\", \"Topic4\", \"Topic4\", \"Topic4\", \"Topic4\", \"Topic4\", \"Topic4\", \"Topic4\", \"Topic4\", \"Topic4\", \"Topic4\", \"Topic4\", \"Topic4\", \"Topic4\", \"Topic4\", \"Topic4\", \"Topic4\", \"Topic4\", \"Topic4\", \"Topic4\", \"Topic4\", \"Topic4\", \"Topic4\", \"Topic4\", \"Topic4\", \"Topic4\", \"Topic4\", \"Topic4\", \"Topic4\", \"Topic4\", \"Topic4\", \"Topic4\", \"Topic4\", \"Topic4\", \"Topic4\", \"Topic4\", \"Topic4\", \"Topic4\", \"Topic4\", \"Topic4\", \"Topic4\"], \"Freq\": [1186.0, 1002.0, 822.0, 794.0, 765.0, 681.0, 802.0, 675.0, 793.0, 730.0, 655.0, 606.0, 577.0, 655.0, 663.0, 572.0, 485.0, 509.0, 487.0, 424.0, 444.0, 446.0, 395.0, 442.0, 342.0, 310.0, 334.0, 337.0, 334.0, 298.0, 13.087032318115234, 9.51358413696289, 71.36597442626953, 59.87030792236328, 5.053076267242432, 3.8717966079711914, 109.61432647705078, 69.49861907958984, 16.496055603027344, 5.793414115905762, 11.051873207092285, 10.10323715209961, 11.911357879638672, 45.95075225830078, 13.426838874816895, 15.705093383789062, 18.919546127319336, 16.72465705871582, 37.077999114990234, 5.697840690612793, 151.02352905273438, 9.16018295288086, 9.018718719482422, 4.827282905578613, 18.502273559570312, 18.725383758544922, 14.834725379943848, 73.3254623413086, 160.9402618408203, 15.970826148986816, 960.1823120117188, 581.6962280273438, 766.8364868164062, 626.9998779296875, 329.13006591796875, 305.5711669921875, 427.3707275390625, 625.2152709960938, 320.0171813964844, 285.2047424316406, 640.4778442382812, 168.8629150390625, 748.8705444335938, 422.24456787109375, 1115.35498046875, 774.9510498046875, 748.8681030273438, 545.9780883789062, 136.2847442626953, 298.2132568359375, 113.17305755615234, 104.00724029541016, 687.5494995117188, 480.85223388671875, 715.1002807617188, 621.1604614257812, 295.2829284667969, 455.7060241699219, 534.9920043945312, 277.5360412597656, 370.6451416015625, 413.7044982910156, 314.73248291015625, 450.8719177246094, 346.4093933105469, 614.1682739257812, 390.49859619140625, 314.57244873046875, 310.42864990234375, 1.4691848754882812, 0.15036368370056152, 1.605258584022522, 3.351734161376953, 0.14472678303718567, 0.14755412936210632, 0.3124295473098755, 0.14249342679977417, 0.14402134716510773, 0.14201143383979797, 0.1372157335281372, 0.22653068602085114, 0.13592985272407532, 0.13727448880672455, 0.1400761753320694, 0.224581778049469, 0.21746587753295898, 0.13416102528572083, 0.13626599311828613, 0.1349279135465622, 0.1352519989013672, 0.1357688307762146, 0.13376985490322113, 1.0418380498886108, 0.13362480700016022, 0.22476160526275635, 0.30559131503105164, 0.1367294043302536, 0.13591812551021576, 0.1364172250032425, 1.5074912309646606, 0.21892595291137695, 14.903709411621094, 67.30586242675781, 5.102480888366699, 3.956888198852539, 0.9314982295036316, 3.7757279872894287, 14.468467712402344, 3.4041037559509277, 0.5307853817939758, 3.049814224243164, 13.42155933380127, 2.164973735809326, 11.186033248901367, 5.735789775848389, 34.02662658691406, 5.206567287445068, 14.357353210449219, 1.1925048828125, 14.130560874938965, 8.300504684448242, 6.803975582122803, 14.238673210144043, 3.2642903327941895, 36.93862533569336, 18.780681610107422, 10.16954517364502, 4.563056468963623, 7.124289035797119, 17.24609375, 8.366086959838867, 50.548648834228516, 13.721757888793945, 15.340690612792969, 10.135119438171387, 71.20649719238281, 42.61982727050781, 37.16530227661133, 29.051921844482422, 42.906593322753906, 45.80324172973633, 47.050048828125, 24.400630950927734, 22.532068252563477, 44.302181243896484, 18.308624267578125, 29.823453903198242, 24.453556060791016, 31.8554630279541, 21.23816680908203, 35.3015251159668, 28.252206802368164, 42.23540115356445, 35.5920524597168, 30.116458892822266, 28.53228187561035, 19.16719627380371, 22.47514533996582, 24.815914154052734, 19.6350040435791, 18.654706954956055, 18.74814224243164, 0.0002221074973931536, 0.00021305955306161195, 0.00021141202887520194, 0.0002289170806761831, 0.00021032537915743887, 0.0002131036890204996, 0.00022338963754009455, 0.00020456667698454112, 0.00021761879906989634, 0.00022640908719040453, 0.00020436638442333788, 0.00019507094111759216, 0.000214445884921588, 0.0002175441914005205, 0.00019629346206784248, 0.00021378244855441153, 0.00020851373847108334, 0.0003314499626867473, 0.00020532448252197355, 0.00020449707517400384, 0.0003342336567584425, 0.0002012004260905087, 0.00021921498409938067, 0.0002104302984662354, 0.00019314515520818532, 0.00020188119378872216, 0.00019665992294903845, 0.0002085629676003009, 0.00022230502509046346, 0.00020100679830648005, 0.00021189246035646647, 0.00021383278362918645, 0.003719361498951912, 0.004459134303033352, 0.023479735478758812, 0.008591627702116966, 0.010664992034435272, 0.014881501905620098, 0.00750677939504385, 0.008237872272729874, 0.06293671578168869, 0.05330701544880867, 0.05368240550160408, 0.007365130819380283, 0.01902826875448227, 0.0061132111586630344, 0.056234654039144516, 0.013042316772043705, 0.07835415750741959, 0.003430947894230485, 0.016347451135516167, 0.05646597221493721, 0.03176093101501465, 0.007661863230168819, 0.01298399455845356, 0.004885013680905104, 0.02394019067287445, 0.014285679906606674, 0.025086529552936554, 0.023387392982840538, 0.013250983320176601, 0.007498357445001602, 0.005388335790485144, 0.01210535503923893, 0.011303494684398174, 0.02197626233100891, 0.03688310831785202, 0.02843506634235382, 0.020811965689063072, 0.033913470804691315, 0.037299007177352905, 0.03968634828925133, 0.025438059121370316, 0.02918560989201069, 0.041015323251485825, 0.02994903363287449, 0.03977780416607857, 0.04324650391936302, 0.032730478793382645, 0.03271368518471718, 0.02967539243400097, 0.019892079755663872, 0.020091060549020767, 0.021979544311761856, 0.021713871508836746, 0.0221791360527277, 1.255198094440857e-05, 1.2466833140933886e-05, 1.2551341569633223e-05, 1.2614892511919606e-05, 1.2322265320108272e-05, 1.1719265785359312e-05, 1.2189057997602504e-05, 1.2683487511822022e-05, 1.2173624782008119e-05, 1.212236202263739e-05, 1.2925126611662563e-05, 1.2407489521137904e-05, 1.2157297533121891e-05, 1.2903390597784892e-05, 1.1370137144695036e-05, 1.2191275345685426e-05, 1.2369012438284699e-05, 1.25337337522069e-05, 1.2927357602166012e-05, 1.232055637956364e-05, 1.2803717254428193e-05, 1.2575974324136041e-05, 1.2113589036744088e-05, 1.1490915312606376e-05, 1.1753134458558634e-05, 1.1853614523715805e-05, 1.2218458323332015e-05, 1.1595271644182503e-05, 1.1736320630006958e-05, 1.2562098163471092e-05, 1.2456747754185926e-05, 1.2208181033201981e-05, 1.2499668628151994e-05, 0.0024299430660903454, 0.0006338670500554144, 0.0029042477253824472, 0.0023706057108938694, 0.001521965255960822, 0.0016970919677987695, 0.0004977128119207919, 0.0003759126993827522, 0.002061929553747177, 0.0004829074605368078, 0.0006256146589294076, 0.001363989314995706, 0.0007384264608845115, 0.0012162993662059307, 0.0005876179784536362, 0.0007023445796221495, 0.0006468304200097919, 0.0005432160687632859, 0.0005259607569314539, 0.0016187671571969986, 0.0005040295654907823, 0.0009026973857544363, 0.0005472342600114644, 0.0005278991302475333, 0.0003125336079392582, 0.0007086728583090007, 0.00026623785379342735, 0.0014172805240377784, 0.002327793976292014, 0.0005453545018099248, 0.0005116738029755652, 0.0015987078659236431, 0.0015061635058373213, 0.001677918597124517, 0.0011433722684159875, 0.0015402573626488447, 0.0014826321275904775, 0.0011748947435989976, 0.000788323872257024, 0.0009309994638897479, 0.0008439646335318685, 0.0008191915112547576, 0.0010908403201028705, 0.0010039869230240583, 0.0008662000764161348, 0.000829660682938993, 0.0007417973247356713, 0.0007292996742762625, 0.0007339539588429034], \"Term\": [\"sun\", \"planet\", \"mar\", \"distanc\", \"therefor\", \"eccentr\", \"observ\", \"line\", \"let\", \"posit\", \"angl\", \"time\", \"one\", \"motion\", \"point\", \"equal\", \"circl\", \"but\", \"center\", \"sinc\", \"would\", \"mean\", \"also\", \"earth\", \"part\", \"anomali\", \"opposit\", \"latitud\", \"differ\", \"hypothesi\", \"\\u03ba\\u03b1\", \"all\", \"We\", \"figur\", \"fear\", \"lom\", \"show\", \"\\u03b6\", \"\\u03b3\\u03b6\", \"\\u03b4\\u03b1\\u03b8\", \"strongli\", \"troubl\", \"past\", \"singl\", \"ask\", \"accept\", \"1590\", \"arm\", \"L\", \"divest\", \"comput\", \"270\", \"era\", \"briefli\", \"slowli\", \"tail\", \"shorten\", \"assum\", \"parallax\", \"spread\", \"planet\", \"time\", \"observ\", \"motion\", \"part\", \"thu\", \"mean\", \"angl\", \"opposit\", \"hypothesi\", \"line\", \"B\", \"let\", \"would\", \"sun\", \"mar\", \"distanc\", \"one\", \"subtract\", \"bodi\", \"accord\", \"seen\", \"posit\", \"but\", \"therefor\", \"point\", \"chapter\", \"circl\", \"equal\", \"found\", \"also\", \"earth\", \"differ\", \"center\", \"equat\", \"eccentr\", \"sinc\", \"latitud\", \"epicycl\", \"\\u03b3\\u03b4\", \"train\", \"appropri\", \"diminish\", \"astrolog\", \"48\\u00b0 45' 55\\\"\", \"\\u03bc\\u03b1\\u03b4\", \"29\\u2155\", \"observations1\", \"successor\", \"seiffard\", \"17\\u00b0 39' 30\\\" pisc\", \"4,975\", \"interrupt\", \"parts 4 \", \"\\u03b6\\u03b5\\u03b2\", \"search\", \"posterior\", \"edi\", \"dvh\", \"pregress\", \"188\", \"chapter 56 \", \"34\", \"chapter 33 \", \"erect\", \"thirti\", \"primev\", \"\\u03b7\\u03b5\\u03b1\", \"2\\u00b0 23'\", \"explain\", \"G\\u03bc\", \"make\", \"eccentr\", \"instead\", \"enough\", \"lest\", \"quantiti\", \"u\", \"descend\", \"\\u0394\\u0394\", \"south\", \"ptolemi\", \"AG\", \"On\", \"give\", \"sinc\", \"6\", \"In\", \"exceed\", \"minut\", \"find\", \"magnet\", \"given\", \"morn\", \"center\", \"use\", \"small\", \"excess\", \"If\", \"first\", \"\\u03b3\", \"therefor\", \"ratio\", \"thi\", \"direct\", \"sun\", \"point\", \"equal\", \"earth\", \"posit\", \"distanc\", \"mar\", \"equat\", \"latitud\", \"let\", \"star\", \"circl\", \"also\", \"one\", \"epicycl\", \"line\", \"but\", \"planet\", \"observ\", \"angl\", \"motion\", \"arc\", \"would\", \"time\", \"differ\", \"anomali\", \"mean\", \"satisfactorili\", \"dci\", \"12\\u00b0 13' cancer\", \"34\\u00b0 21'\", \"commutation2\", \"17\\u00b0 16' 36\\\" pisc\", \"divisor\", \"KS\", \"152,400\", \"13h 45m\", \"interrupt\", \"astrolog\", \"verdict\", \"23' 18\\\"\", \"4,975\", \"6\\u00b0 26'\", \"inflam\", \"veloc\", \"trip\", \"ZN\", \"twofold\", \"dvh\", \"baf\", \"12\\u00b0 47' 41\\\" pisc\", \"seiffard\", \"\\u03b3ac\", \"posterior\", \"28\\u2153\", \"1\\u00b0 9' 45\\\"\", \"9310\", \"1\\u00b0 15' 20\\\"\", \"35,770\", \"diminish\", \"morn\", \"use\", \"magnet\", \"near\", \"ptolemi\", \"unit\", \"natur\", \"distanc\", \"line\", \"eccentr\", \"consid\", \"So\", \"latter\", \"therefor\", \"make\", \"sun\", \"south\", \"eclipt\", \"mar\", \"sinc\", \"3\", \"correct\", \"cor\", \"arc\", \"given\", \"latitud\", \"anomali\", \"appar\", \"moment\", \"shown\", \"day\", \"node\", \"bodi\", \"time\", \"mean\", \"hypothesi\", \"equal\", \"motion\", \"posit\", \"also\", \"circl\", \"let\", \"but\", \"observ\", \"planet\", \"angl\", \"point\", \"one\", \"thu\", \"opposit\", \"would\", \"earth\", \"center\", \"4,975\", \"seiffard\", \"routin\", \"9310\", \"KS\", \"astrolog\", \"posterior\", \"8\\u00b0 53' 51\\\" pisc\", \"chapter 56 \", \"successor\", \"goad\", \"inflam\", \"unintellig\", \"11\\u00b0 0' 44\\\"\", \"train\", \"3\\u00b0 42' cancer\", \"2\\u00b0 23'\", \"heard\", \"8\\u00b0 38' leo\", \"23\\u00b0 42'\", \"3' 37\\\"\", \"lusti\", \"9\\u00b0 54' 41\\\"\", \"29\\u2155\", \"pregress\", \"\\u03b3ac\", \"23\\u00b0 16'\", \"observations1\", \"dci\", \"\\u03c0\\u03c5\", \"navig\", \"4,104\", \"5\\u00b0 44'\", \"eccentr\", \"diamet\", \"planet\", \"mar\", \"center\", \"one\", \"On\", \"travers\", \"therefor\", \"whole\", \"B\", \"circl\", \"first\", \"sinc\", \"minut\", \"So\", \"eclipt\", \"degre\", \"ptolemi\", \"angl\", \"make\", \"anomali\", \"drawn\", \"aphelion\", \"either\", \"now\", \"amount\", \"time\", \"sun\", \"given\", \"u\", \"posit\", \"line\", \"distanc\", \"but\", \"observ\", \"let\", \"equal\", \"hypothesi\", \"also\", \"part\", \"differ\", \"motion\", \"point\", \"would\", \"earth\", \"opposit\", \"arc\", \"latitud\"], \"Total\": [1186.0, 1002.0, 822.0, 794.0, 765.0, 681.0, 802.0, 675.0, 793.0, 730.0, 655.0, 606.0, 577.0, 655.0, 663.0, 572.0, 485.0, 509.0, 487.0, 424.0, 444.0, 446.0, 395.0, 442.0, 342.0, 310.0, 334.0, 337.0, 334.0, 298.0, 13.501896858215332, 9.821574211120605, 73.72250366210938, 61.910804748535156, 5.233822345733643, 4.012572288513184, 113.61236572265625, 72.03491973876953, 17.101037979125977, 6.00750732421875, 11.461421012878418, 10.484345436096191, 12.36352252960205, 47.70838928222656, 13.94106388092041, 16.308799743652344, 19.648059844970703, 17.369091033935547, 38.51122283935547, 5.918640613555908, 156.87982177734375, 9.516074180603027, 9.369180679321289, 5.014873027801514, 19.221717834472656, 19.45431137084961, 15.412610054016113, 76.21607971191406, 167.3036346435547, 16.604665756225586, 1002.4639282226562, 606.5504150390625, 802.4698486328125, 655.570556640625, 342.5088806152344, 317.8968811035156, 446.14788818359375, 655.3660888671875, 334.912841796875, 298.2897644042969, 675.8341674804688, 176.14395141601562, 793.2152099609375, 444.7425537109375, 1186.6422119140625, 822.0599365234375, 794.7359008789062, 577.8649291992188, 142.3536834716797, 314.01898193359375, 118.03878784179688, 108.39053344726562, 730.4973754882812, 509.135498046875, 765.7072143554688, 663.81396484375, 311.358154296875, 485.5600280761719, 572.1923828125, 293.82421875, 395.1250915527344, 442.7789611816406, 334.386962890625, 487.8342590332031, 370.8291320800781, 681.5302734375, 424.5581970214844, 337.1303405761719, 331.6822814941406, 11.061807632446289, 1.143688440322876, 12.303613662719727, 26.222299575805664, 1.1359925270080566, 1.1875755786895752, 2.5361177921295166, 1.1735776662826538, 1.1907649040222168, 1.1915572881698608, 1.1596605777740479, 1.9165788888931274, 1.1541242599487305, 1.1876788139343262, 1.2213109731674194, 1.964263677597046, 1.9092347621917725, 1.1826972961425781, 1.2029900550842285, 1.1932963132858276, 1.2005091905593872, 1.2124700546264648, 1.1963372230529785, 9.368016242980957, 1.2037272453308105, 2.0283591747283936, 2.7750887870788574, 1.2445560693740845, 1.2398568391799927, 1.244896650314331, 13.946744918823242, 2.0028574466705322, 145.2384033203125, 681.5302734375, 49.24594497680664, 38.59071731567383, 8.68879222869873, 38.13102722167969, 159.3758544921875, 35.12175750732422, 4.979135513305664, 31.397220611572266, 152.0092010498047, 21.938968658447266, 126.24057006835938, 62.46445083618164, 424.5581970214844, 56.706642150878906, 170.26353454589844, 11.761948585510254, 168.6796417236328, 94.91092681884766, 77.18057250976562, 172.3035430908203, 34.80057907104492, 487.8342590332031, 234.0618133544922, 120.29669952392578, 50.2065315246582, 82.57904815673828, 222.36672973632812, 98.93395233154297, 765.7072143554688, 174.01434326171875, 199.22938537597656, 124.58963775634766, 1186.6422119140625, 663.81396484375, 572.1923828125, 442.7789611816406, 730.4973754882812, 794.7359008789062, 822.0599365234375, 370.8291320800781, 337.1303405761719, 793.2152099609375, 261.70343017578125, 485.5600280761719, 395.1250915527344, 577.8649291992188, 331.6822814941406, 675.8341674804688, 509.135498046875, 1002.4639282226562, 802.4698486328125, 655.3660888671875, 655.570556640625, 313.0250549316406, 444.7425537109375, 606.5504150390625, 334.386962890625, 310.5054016113281, 446.14788818359375, 1.2239490747451782, 1.2085233926773071, 1.2024269104003906, 1.306775689125061, 1.2124217748641968, 1.228464126586914, 1.2899664640426636, 1.1849757432937622, 1.264231562614441, 1.3155475854873657, 1.1876788139343262, 1.1359925270080566, 1.2521742582321167, 1.2789430618286133, 1.1541242599487305, 1.259699821472168, 1.2298598289489746, 1.9586858749389648, 1.2139356136322021, 1.212325096130371, 1.9816887378692627, 1.1932963132858276, 1.3033298254013062, 1.2599023580551147, 1.1596605777740479, 1.212463617324829, 1.1826972961425781, 1.2548259496688843, 1.3386818170547485, 1.2106684446334839, 1.2778154611587524, 1.291030764579773, 26.222299575805664, 34.80057907104492, 234.0618133544922, 77.18057250976562, 99.93226623535156, 152.0092010498047, 70.78175354003906, 78.75275421142578, 794.7359008789062, 675.8341674804688, 681.5302734375, 71.71410369873047, 214.52931213378906, 58.91447448730469, 765.7072143554688, 145.2384033203125, 1186.6422119140625, 31.397220611572266, 193.17105102539062, 822.0599365234375, 424.5581970214844, 80.49382019042969, 151.17556762695312, 48.036651611328125, 313.0250549316406, 172.3035430908203, 337.1303405761719, 310.5054016113281, 159.2971954345703, 80.85307312011719, 54.34333801269531, 147.2335662841797, 136.53233337402344, 314.01898193359375, 606.5504150390625, 446.14788818359375, 298.2897644042969, 572.1923828125, 655.570556640625, 730.4973754882812, 395.1250915527344, 485.5600280761719, 793.2152099609375, 509.135498046875, 802.4698486328125, 1002.4639282226562, 655.3660888671875, 663.81396484375, 577.8649291992188, 317.8968811035156, 334.912841796875, 444.7425537109375, 442.7789611816406, 487.8342590332031, 1.1541242599487305, 1.1596605777740479, 1.1976934671401978, 1.2106684446334839, 1.1849757432937622, 1.1359925270080566, 1.1826972961425781, 1.2431915998458862, 1.1963372230529785, 1.1915572881698608, 1.2766214609146118, 1.2298598289489746, 1.2053080797195435, 1.28933584690094, 1.143688440322876, 1.2269986867904663, 1.244896650314331, 1.2648212909698486, 1.3048688173294067, 1.2451837062835693, 1.2947782278060913, 1.2764519453048706, 1.2347111701965332, 1.1735776662826538, 1.2005091905593872, 1.212463617324829, 1.2503228187561035, 1.1907649040222168, 1.2085233926773071, 1.2955737113952637, 1.2897107601165771, 1.2619978189468384, 1.2974121570587158, 681.5302734375, 148.05101013183594, 1002.4639282226562, 822.0599365234375, 487.8342590332031, 577.8649291992188, 126.24057006835938, 89.17981719970703, 765.7072143554688, 125.89111328125, 176.14395141601562, 485.5600280761719, 222.36672973632812, 424.5581970214844, 168.6796417236328, 214.52931213378906, 193.17105102539062, 157.23526000976562, 152.0092010498047, 655.3660888671875, 145.2384033203125, 310.5054016113281, 163.52442932128906, 157.9129638671875, 80.9735107421875, 241.58824157714844, 66.80451965332031, 606.5504150390625, 1186.6422119140625, 172.3035430908203, 159.3758544921875, 730.4973754882812, 675.8341674804688, 794.7359008789062, 509.135498046875, 802.4698486328125, 793.2152099609375, 572.1923828125, 298.2897644042969, 395.1250915527344, 342.5088806152344, 334.386962890625, 655.570556640625, 663.81396484375, 444.7425537109375, 442.7789611816406, 334.912841796875, 313.0250549316406, 337.1303405761719], \"loglift\": [30.0, 29.0, 28.0, 27.0, 26.0, 25.0, 24.0, 23.0, 22.0, 21.0, 20.0, 19.0, 18.0, 17.0, 16.0, 15.0, 14.0, 13.0, 12.0, 11.0, 10.0, 9.0, 8.0, 7.0, 6.0, 5.0, 4.0, 3.0, 2.0, 1.0, 0.03269999846816063, 0.032099999487400055, 0.03139999881386757, 0.030400000512599945, 0.02879999950528145, 0.028200000524520874, 0.02810000069439411, 0.02810000069439411, 0.027899999171495438, 0.02759999968111515, 0.027499999850988388, 0.026900000870227814, 0.02669999934732914, 0.026399999856948853, 0.02630000002682209, 0.026200000196695328, 0.026100000366568565, 0.026100000366568565, 0.026000000536441803, 0.02590000070631504, 0.02590000070631504, 0.025800000876188278, 0.025800000876188278, 0.025800000876188278, 0.025800000876188278, 0.025699999183416367, 0.025699999183416367, 0.025299999862909317, 0.025100000202655792, 0.02500000037252903, 0.020800000056624413, 0.022099999710917473, 0.01850000023841858, 0.01940000057220459, 0.02410000003874302, 0.024399999529123306, 0.020899999886751175, 0.01679999940097332, 0.018400000408291817, 0.019099999219179153, 0.010200000368058681, 0.021700000390410423, 0.006399999838322401, 0.012000000104308128, 0.0020000000949949026, 0.004900000058114529, 0.0044999998062849045, 0.007199999876320362, 0.020400000736117363, 0.012299999594688416, 0.021800000220537186, 0.022600000724196434, 0.0032999999821186066, 0.006800000090152025, -0.0044999998062849045, -0.0024999999441206455, 0.010900000110268593, 0.0005000000237487257, -0.0032999999821186066, 0.006899999920278788, -0.0, -0.004000000189989805, 0.0032999999821186066, -0.01489999983459711, -0.00419999985024333, -0.04010000079870224, -0.019700000062584877, -0.0052999998442828655, -0.002300000051036477, 0.7642999887466431, 0.7541000247001648, 0.746399998664856, 0.7258999943733215, 0.722599983215332, 0.6976000070571899, 0.6890000104904175, 0.6744999885559082, 0.6707000136375427, 0.6559000015258789, 0.6486999988555908, 0.647599995136261, 0.64410001039505, 0.6252999901771545, 0.6176000237464905, 0.6144000291824341, 0.6105999946594238, 0.6065000295639038, 0.6050999760627747, 0.6032999753952026, 0.5996999740600586, 0.5935999751091003, 0.5921000242233276, 0.5867000222206116, 0.5849000215530396, 0.5831000208854675, 0.5769000053405762, 0.5745000243186951, 0.5723000168800354, 0.5720000267028809, 0.5582000017166138, 0.5694000124931335, 0.5062999725341797, 0.46799999475479126, 0.5159000158309937, 0.5055000185966492, 0.5501000285148621, 0.4706000089645386, 0.3837999999523163, 0.44920000433921814, 0.5443999767303467, 0.4514000117778778, 0.35600000619888306, 0.46720001101493835, 0.359499990940094, 0.3952000141143799, 0.2590999901294708, 0.3950999975204468, 0.3100000023841858, 0.4941999912261963, 0.3034000098705292, 0.3463999927043915, 0.35440000891685486, 0.2897000014781952, 0.4165000021457672, 0.20229999721050262, 0.26030001044273376, 0.3125, 0.3849000036716461, 0.3328000009059906, 0.22630000114440918, 0.31279999017715454, 0.06520000100135803, 0.24289999902248383, 0.2190999984741211, 0.27399998903274536, -0.030300000682473183, 0.03739999979734421, 0.048900000751018524, 0.05909999832510948, -0.05169999971985817, -0.0706000030040741, -0.07760000228881836, 0.061900001019239426, 0.07750000059604645, -0.10199999809265137, 0.12319999933242798, -0.007000000216066837, 0.0006000000284984708, -0.11509999632835388, 0.034699998795986176, -0.16899999976158142, -0.10849999636411667, -0.383899986743927, -0.33250001072883606, -0.2971000075340271, -0.3513999879360199, -0.009999999776482582, -0.20200000703334808, -0.4133000075817108, -0.051899999380111694, -0.029100000858306885, -0.3865000009536743, 0.9318000078201294, 0.902899980545044, 0.9002000093460083, 0.8964999914169312, 0.8866999745368958, 0.8866999745368958, 0.8849999904632568, 0.8819000124931335, 0.8790000081062317, 0.8787999749183655, 0.878600001335144, 0.8765000104904175, 0.8738999962806702, 0.8671000003814697, 0.8669999837875366, 0.864799976348877, 0.8637999892234802, 0.8618999719619751, 0.8614000082015991, 0.8586999773979187, 0.8586000204086304, 0.858299970626831, 0.8557999730110168, 0.848800003528595, 0.8460000157356262, 0.8457000255584717, 0.8443999886512756, 0.8439000248908997, 0.8431000113487244, 0.8428999781608582, 0.8416000008583069, 0.840399980545044, 0.6854000091552734, 0.5838000178337097, 0.33899998664855957, 0.4431000053882599, 0.4009000062942505, 0.31459999084472656, 0.39469999074935913, 0.38089999556541443, 0.10260000079870224, 0.09860000014305115, 0.09719999879598618, 0.36250001192092896, 0.2159000039100647, 0.37279999256134033, 0.0272000003606081, 0.22830000519752502, -0.07919999957084656, 0.4246000051498413, 0.1688999980688095, -0.03970000147819519, 0.04560000076889992, 0.2865000069141388, 0.18369999527931213, 0.35269999504089355, 0.06769999861717224, 0.14839999377727509, 0.040300000458955765, 0.052400000393390656, 0.1517000049352646, 0.2605000138282776, 0.32739999890327454, 0.14010000228881836, 0.1469999998807907, -0.020999999716877937, -0.1615999937057495, -0.11460000276565552, -0.02410000003874302, -0.18719999492168427, -0.2281000018119812, -0.2743000090122223, -0.10450000315904617, -0.17319999635219574, -0.3237000107765198, -0.19480000436306, -0.3659000098705292, -0.5048999786376953, -0.35839998722076416, -0.3718000054359436, -0.33059999346733093, -0.13300000131130219, -0.17509999871253967, -0.36890000104904175, -0.3767000138759613, -0.45239999890327454, 1.2453999519348145, 1.2338000535964966, 1.208299994468689, 1.2024999856948853, 1.2005000114440918, 1.1926000118255615, 1.19159996509552, 1.18149995803833, 1.1787999868392944, 1.1785999536514282, 1.173799991607666, 1.170199990272522, 1.1699999570846558, 1.1621999740600586, 1.1555999517440796, 1.1549999713897705, 1.1549999713897705, 1.1523000001907349, 1.1520999670028687, 1.1507999897003174, 1.1502000093460083, 1.1464999914169312, 1.142300009727478, 1.1403000354766846, 1.1402000188827515, 1.138800024986267, 1.1383999586105347, 1.1347999572753906, 1.132099986076355, 1.1305999755859375, 1.1267000436782837, 1.1282000541687012, 1.1241999864578247, 0.13009999692440033, 0.31310001015663147, -0.07750000059604645, -0.08209999650716782, -0.0034000000450760126, -0.06379999965429306, 0.23070000112056732, 0.29750001430511475, -0.15060000121593475, 0.20319999754428864, 0.12630000710487366, -0.10830000042915344, 0.05900000035762787, -0.08860000222921371, 0.10689999908208847, 0.04479999840259552, 0.06729999929666519, 0.09860000014305115, 0.10010000318288803, -0.23690000176429749, 0.1031000018119812, -0.07400000095367432, 0.06679999828338623, 0.065700002014637, 0.2093999981880188, -0.06499999761581421, 0.24150000512599945, -0.29249998927116394, -0.4674000144004822, 0.010999999940395355, 0.025299999862909317, -0.3578999936580658, -0.33980000019073486, -0.3939000070095062, -0.3321000039577484, -0.48919999599456787, -0.5156999826431274, -0.42170000076293945, -0.16930000483989716, -0.2840999960899353, -0.2393999993801117, -0.2451000064611435, -0.6320000290870667, -0.727400004863739, -0.47450000047683716, -0.5131999850273132, -0.34599998593330383, -0.2953999936580658, -0.36320000886917114], \"logprob\": [30.0, 29.0, 28.0, 27.0, 26.0, 25.0, 24.0, 23.0, 22.0, 21.0, 20.0, 19.0, 18.0, 17.0, 16.0, 15.0, 14.0, 13.0, 12.0, 11.0, 10.0, 9.0, 8.0, 7.0, 6.0, 5.0, 4.0, 3.0, 2.0, 1.0, -8.70419979095459, -9.023099899291992, -7.007999897003174, -7.183599948883057, -9.655799865722656, -9.922100067138672, -6.578800201416016, -7.0345001220703125, -8.472700119018555, -9.519100189208984, -8.873200416564941, -8.962900161743164, -8.798299789428711, -7.448200225830078, -8.678500175476074, -8.52180004119873, -8.335599899291992, -8.458900451660156, -7.662799835205078, -9.535699844360352, -6.258399963378906, -9.06089973449707, -9.076499938964844, -9.701499938964844, -8.35789966583252, -8.34589958190918, -8.578800201416016, -6.980899810791016, -6.194799900054932, -8.505000114440918, -4.408699989318848, -4.909900188446045, -4.633500099182129, -4.83489990234375, -5.479300022125244, -5.553599834442139, -5.218100070953369, -4.837699890136719, -5.507400035858154, -5.622600078582764, -4.813600063323975, -6.146699905395508, -4.657199859619141, -5.230199813842773, -4.258900165557861, -4.623000144958496, -4.657199859619141, -4.973199844360352, -6.361100196838379, -5.578000068664551, -6.546899795532227, -6.63129997253418, -4.742700099945068, -5.100200176239014, -4.703400135040283, -4.844200134277344, -5.587900161743164, -5.1539998054504395, -4.993500232696533, -5.649899959564209, -5.360599994659424, -5.2505998611450195, -5.524099826812744, -5.164599895477295, -5.428199768066406, -4.855500221252441, -5.3084001541137695, -5.524600028991699, -5.537799835205078, -8.17199993133545, -10.451399803161621, -8.083399772644043, -7.3471999168396, -10.48960018157959, -10.470199584960938, -9.720100402832031, -10.50510025024414, -10.494500160217285, -10.508500099182129, -10.542900085449219, -10.041600227355957, -10.552300453186035, -10.542499542236328, -10.522199630737305, -10.050200462341309, -10.08240032196045, -10.565400123596191, -10.549799919128418, -10.559700012207031, -10.557299613952637, -10.553500175476074, -10.568300247192383, -8.515700340270996, -10.5693998336792, -10.049400329589844, -9.742199897766113, -10.54640007019043, -10.552399635314941, -10.548700332641602, -8.146200180053711, -10.075699806213379, -5.855100154876709, -4.347400188446045, -6.927000045776367, -7.18120002746582, -8.627599716186523, -7.228099822998047, -5.884699821472168, -7.331699848175049, -9.190099716186523, -7.4415998458862305, -5.959799766540527, -7.784299850463867, -6.142000198364258, -6.809999942779541, -5.0295000076293945, -6.906799793243408, -5.892399787902832, -8.380599975585938, -5.908299922943115, -6.440400123596191, -6.639200210571289, -5.900700092315674, -7.373600006103516, -4.947400093078613, -5.623899936676025, -6.237299919128418, -7.038700103759766, -6.593200206756592, -5.709099769592285, -6.432499885559082, -4.633699893951416, -5.937699794769287, -5.826200008392334, -6.240699768066406, -4.291100025177002, -4.8043999671936035, -4.941299915313721, -5.187600135803223, -4.797699928283691, -4.7322998046875, -4.70550012588501, -5.362100124359131, -5.441699981689453, -4.765600204467773, -5.6493000984191895, -5.161399841308594, -5.359899997711182, -5.0954999923706055, -5.500899791717529, -4.992800235748291, -5.2154998779296875, -4.813399791717529, -4.984600067138672, -5.151599884033203, -5.205599784851074, -5.603499889373779, -5.444300174713135, -5.345200061798096, -5.579400062561035, -5.6305999755859375, -5.6255998611450195, -10.205900192260742, -10.2475004196167, -10.255200386047363, -10.175700187683105, -10.26039981842041, -10.247300148010254, -10.20009994506836, -10.288100242614746, -10.226300239562988, -10.186699867248535, -10.28909969329834, -10.335700035095215, -10.241000175476074, -10.22659969329834, -10.329400062561035, -10.244099617004395, -10.269000053405762, -9.8056001663208, -10.28439998626709, -10.28849983215332, -9.797200202941895, -10.304699897766113, -10.218999862670898, -10.259900093078613, -10.345600128173828, -10.301400184631348, -10.32759952545166, -10.268799781799316, -10.204999923706055, -10.305700302124023, -10.253000259399414, -10.243800163269043, -7.387700080871582, -7.206299781799316, -5.545100212097168, -6.55049991607666, -6.3343000411987305, -6.001200199127197, -6.685500144958496, -6.59250020980835, -4.559199810028076, -4.725200176239014, -4.718200206756592, -6.704500198364258, -5.75540018081665, -6.8907999992370605, -4.6717000007629395, -6.1331000328063965, -4.340000152587891, -7.468400001525879, -5.907199859619141, -4.667600154876709, -5.243000030517578, -6.664999961853027, -6.137599945068359, -7.115099906921387, -5.525700092315674, -6.041999816894531, -5.478899955749512, -5.549099922180176, -6.117199897766113, -6.686600208282471, -7.017000198364258, -6.207600116729736, -6.276199817657471, -5.611299991607666, -5.093500137329102, -5.353700160980225, -5.665800094604492, -5.177499771118164, -5.082300186157227, -5.020299911499023, -5.465000152587891, -5.327600002288818, -4.987299919128418, -5.301799774169922, -5.01800012588501, -4.9344000816345215, -5.2129998207092285, -5.213500022888184, -5.310999870300293, -5.710999965667725, -5.701000213623047, -5.611199855804443, -5.623300075531006, -5.602099895477295, -9.951000213623047, -9.957799911499023, -9.95110034942627, -9.946000099182129, -9.969499588012695, -10.019700050354004, -9.980400085449219, -9.940600395202637, -9.981599807739258, -9.985799789428711, -9.921699523925781, -9.962599754333496, -9.982999801635742, -9.923399925231934, -10.04990005493164, -9.980199813842773, -9.965700149536133, -9.952500343322754, -9.921500205993652, -9.969599723815918, -9.93120002746582, -9.94909954071045, -9.986599922180176, -10.039299964904785, -10.016799926757812, -10.008299827575684, -9.977899551391602, -10.03030014038086, -10.018199920654297, -9.950200080871582, -9.958600044250488, -9.978799819946289, -9.9552001953125, -4.685299873352051, -6.029099941253662, -4.506999969482422, -4.710000038146973, -5.15310001373291, -5.0441999435424805, -6.270899772644043, -6.551499843597412, -4.8495001792907715, -6.30109977722168, -6.042200088500977, -5.262700080871582, -5.876399993896484, -5.377299785614014, -6.104800224304199, -5.926499843597412, -6.008800029754639, -6.1834001541137695, -6.215700149536133, -5.0914998054504395, -6.258299827575684, -5.67549991607666, -6.176000118255615, -6.211999893188477, -6.736199855804443, -5.917500019073486, -6.896500110626221, -5.224400043487549, -4.7281999588012695, -6.179500102996826, -6.243199825286865, -5.103899955749512, -5.163599967956543, -5.055600166320801, -5.439199924468994, -5.141200065612793, -5.179299831390381, -5.4120001792907715, -5.810999870300293, -5.644599914550781, -5.742800235748291, -5.772600173950195, -5.486199855804443, -5.569200038909912, -5.716800212860107, -5.759900093078613, -5.871799945831299, -5.888800144195557, -5.882400035858154]}, \"token.table\": {\"Topic\": [1, 1, 1, 1, 1, 1, 2, 1, 1, 1, 1, 1, 1, 1, 1, 1, 1, 1, 1, 1, 2, 1, 1, 2, 1, 1, 1, 1, 1, 1, 1, 1, 2, 1, 1, 1, 1, 1, 1, 2, 1, 2, 1, 1, 2, 1, 2, 1, 1, 2, 1, 2, 1, 2, 1, 2, 1, 1, 2, 1, 2, 1, 1, 2, 1, 2, 1, 2, 1, 2, 1, 2, 1, 2, 1, 2, 1, 2, 1, 2, 1, 2, 1, 2, 1, 1, 1, 2, 1, 1, 2, 1, 2, 1, 2, 1, 1, 1, 2, 1, 1, 2, 1, 2, 1, 2, 1, 2, 1, 2, 1, 1, 2, 1, 2, 1, 2, 1, 2, 1, 2, 1, 2, 1, 2, 1, 1, 1, 2, 1, 1, 2, 1, 2, 1, 2, 1, 1, 2, 1, 2, 1, 2, 1, 2, 1, 2, 1, 1, 1, 2, 1, 2, 1, 2, 1, 1, 2, 1, 2, 1, 2, 1, 2, 1, 2, 1, 2, 1, 1, 1, 2, 1, 1, 2, 1, 1, 2, 1, 2, 1, 2, 1, 2, 1, 2, 1, 1, 1, 2, 1, 2, 1, 2, 1, 2, 1, 2, 1, 2, 1, 2, 1, 2, 1, 2, 1, 1, 2, 1, 2, 1, 2, 1, 2, 1, 1, 2, 1, 2, 1, 2, 1, 2, 1, 1, 1, 2, 1, 2, 1, 2, 1, 1, 1, 1, 2, 1, 2, 1, 2, 1, 1, 1, 1, 2, 1, 1, 2, 1, 2, 1, 2, 1, 2, 1, 2, 1, 2, 1, 2, 1, 2, 1, 2, 1, 2, 1, 1, 2, 1, 1, 2, 1, 2, 1, 2, 1, 2, 1, 1, 2, 1, 2, 1, 1, 2, 1, 1, 1, 1, 2, 1, 1, 2, 1, 2, 1, 1, 1, 2, 1, 2, 1, 2, 1, 2, 1, 1, 2, 1, 2, 1, 1, 2, 1, 1, 1, 1, 1], \"Freq\": [0.775593101978302, 0.8316513895988464, 0.793712317943573, 0.7601397633552551, 0.7909943461418152, 0.9670165777206421, 0.050895608961582184, 0.8140245676040649, 1.04352605342865, 0.8247626423835754, 0.782585620880127, 0.7470034956932068, 0.781895637512207, 0.7997934222221375, 0.8030943274497986, 0.9457681775093079, 0.7969232797622681, 0.8520953059196472, 0.8032795190811157, 0.9193252325057983, 0.08696319907903671, 0.772333025932312, 0.8539694547653198, 0.10674618184566498, 0.7652422785758972, 0.774574875831604, 0.8149967789649963, 0.7923943996429443, 0.8664578199386597, 0.8420516848564148, 0.7707650661468506, 0.8993655443191528, 0.08817309141159058, 0.7938399314880371, 0.7663605809211731, 0.804381251335144, 0.8259899616241455, 0.809906005859375, 0.9116199016571045, 0.09116198867559433, 0.9594425559043884, 0.039740223437547684, 0.9985733032226562, 0.9082207083702087, 0.08476726710796356, 0.9162267446517944, 0.08222547173500061, 0.843899130821228, 0.9607589244842529, 0.025966456159949303, 0.9109591245651245, 0.08713521808385849, 0.9369348883628845, 0.06059778109192848, 0.9630709290504456, 0.027128757908940315, 0.8248612284660339, 0.9810654520988464, 0.0613165907561779, 0.9573124647140503, 0.04235895723104477, 1.0181666612625122, 0.9389431476593018, 0.060740258544683456, 0.9280809164047241, 0.07484523206949234, 0.9536654353141785, 0.045775942504405975, 0.9404023289680481, 0.06119056046009064, 0.9498903751373291, 0.05066081881523132, 0.9290810227394104, 0.06905332207679749, 0.8940463066101074, 0.16255386173725128, 0.9392219185829163, 0.0606980174779892, 0.9787501096725464, 0.05757353827357292, 0.932496964931488, 0.07173053920269012, 0.9578031301498413, 0.03936177119612694, 0.8802874684333801, 0.7672654986381531, 0.9489872455596924, 0.05095233395695686, 0.9970341920852661, 0.9447386860847473, 0.054995182901620865, 0.9244943261146545, 0.07584543526172638, 0.9474619626998901, 0.051387764513492584, 0.830752968788147, 0.835884690284729, 0.9391217827796936, 0.061784327030181885, 0.8247954845428467, 0.9625202417373657, 0.03824583813548088, 0.9203210473060608, 0.08366554975509644, 0.9159672856330872, 0.08326975256204605, 0.9525348544120789, 0.046303778886795044, 0.9304943680763245, 0.0679192915558815, 0.8274560570716858, 0.9476246237754822, 0.05087917298078537, 0.9111161231994629, 0.08541713654994965, 0.9456200003623962, 0.054035428911447525, 0.9420223832130432, 0.05981094390153885, 0.8771160840988159, 0.11440644413232803, 0.9150038361549377, 0.08026349544525146, 0.9424514770507812, 0.057880863547325134, 1.0137462615966797, 0.7752139568328857, 0.9417552947998047, 0.05503764748573303, 0.8380148410797119, 0.9350037574768066, 0.06549543142318726, 0.9009137749671936, 0.09830817580223083, 0.9473469257354736, 0.05176759138703346, 0.8312620520591736, 0.9262288212776184, 0.07409830391407013, 0.9069538712501526, 0.10365186631679535, 0.9346293807029724, 0.06331360340118408, 0.9350002408027649, 0.06466356664896011, 0.9330442547798157, 0.06471983343362808, 0.9605962634086609, 0.9860186576843262, 0.9352191686630249, 0.08501992374658585, 0.9162154793739319, 0.09958863258361816, 0.8604158163070679, 0.14340263605117798, 0.9553247690200806, 0.9691361784934998, 0.032304540276527405, 0.9166489243507385, 0.0842895582318306, 0.9219005107879639, 0.07645028829574585, 0.9461439251899719, 0.05445432662963867, 0.9125190377235413, 0.09605463594198227, 0.916986346244812, 0.08125195652246475, 0.7833175659179688, 0.7906255125999451, 0.9554467797279358, 0.04358178377151489, 0.8131008148193359, 0.8934745788574219, 0.10153120011091232, 0.8419784903526306, 0.9343567490577698, 0.06822287291288376, 0.9335566759109497, 0.06789503246545792, 0.9207263588905334, 0.11509079486131668, 0.9442582130432129, 0.05547044426202774, 0.9469778537750244, 0.0517878532409668, 0.996866762638092, 0.7834215760231018, 0.9069640040397644, 0.09069640189409256, 0.8950800895690918, 0.10327847301959991, 0.9427536725997925, 0.05717344582080841, 0.9570817351341248, 0.04258677735924721, 0.9189016222953796, 0.08299756795167923, 0.9276085495948792, 0.07420868426561356, 0.9195249080657959, 0.08620546013116837, 0.9564188122749329, 0.04423627629876137, 0.9269517064094543, 0.06348983943462372, 0.7753676772117615, 0.9206236004829407, 0.07004744559526443, 0.9375068545341492, 0.0659184530377388, 0.9354760050773621, 0.06622838973999023, 0.9557991623878479, 0.04486149922013283, 0.8397963047027588, 0.9448574781417847, 0.055376261472702026, 0.955472469329834, 0.04478777199983597, 0.9623221755027771, 0.035862937569618225, 0.9605590105056763, 0.03795522078871727, 0.8187922835350037, 0.9705971479415894, 0.9576404690742493, 0.0418967679142952, 0.9355030655860901, 0.0647771880030632, 0.9418240785598755, 0.05886400490999222, 0.8455249071121216, 0.8329798579216003, 0.8034993410110474, 0.9144183397293091, 0.0855211392045021, 0.8916622996330261, 0.10490144789218903, 0.9194644093513489, 0.08045313507318497, 0.8349381685256958, 0.8170274496078491, 1.0475400686264038, 0.9594933986663818, 0.036903589963912964, 0.8623212575912476, 0.9732290506362915, 0.06488193571567535, 0.9682044386863708, 0.03520743548870087, 0.9384775161743164, 0.05520455911755562, 0.9186019897460938, 0.08008325099945068, 0.9641910195350647, 0.04192134737968445, 0.9884652495384216, 0.052024487406015396, 0.9144058227539062, 0.08312779664993286, 0.8917986750602722, 0.09554985910654068, 0.9635846018791199, 0.06022403761744499, 0.9285319447517395, 0.06878014653921127, 0.9597413539886475, 0.9553669095039368, 0.042148541659116745, 0.8392378687858582, 0.9396260976791382, 0.05983269214630127, 0.9766472578048706, 0.051402486860752106, 0.9337772727012634, 0.0666050910949707, 0.9235585331916809, 0.07529009878635406, 0.7206976413726807, 0.9625762701034546, 0.03774809092283249, 0.9595245122909546, 0.041216690093278885, 0.8743640184402466, 0.9419171810150146, 0.056066498160362244, 0.8237669467926025, 0.9538030028343201, 1.0092402696609497, 0.9097990393638611, 0.0878426656126976, 0.8296633958816528, 0.9324436783790588, 0.07063967734575272, 0.9185607433319092, 0.08117514103651047, 1.0210927724838257, 0.7986108660697937, 0.9293745756149292, 0.07149035483598709, 0.9488635659217834, 0.0494668185710907, 0.8033522963523865, 0.20083807408809662, 0.9198055863380432, 0.08086203038692474, 0.824766993522644, 0.9040113687515259, 0.09040113538503647, 0.9356157183647156, 0.058475982397794724, 0.9987503290176392, 0.957868754863739, 0.04164646938443184, 1.018193244934082, 0.8065447211265564, 0.9628276824951172, 0.7886068820953369, 0.771858811378479], \"Term\": [\"11\\u00b0 0' 44\\\"\", \"12\\u00b0 13' cancer\", \"12\\u00b0 47' 41\\\" pisc\", \"13h 45m\", \"152,400\", \"1590\", \"1590\", \"17\\u00b0 16' 36\\\" pisc\", \"17\\u00b0 39' 30\\\" pisc\", \"188\", \"1\\u00b0 15' 20\\\"\", \"1\\u00b0 9' 45\\\"\", \"23' 18\\\"\", \"23\\u00b0 16'\", \"23\\u00b0 42'\", \"270\", \"28\\u2153\", \"29\\u2155\", \"2\\u00b0 23'\", \"3\", \"3\", \"3' 37\\\"\", \"34\", \"34\", \"34\\u00b0 21'\", \"35,770\", \"3\\u00b0 42' cancer\", \"4,104\", \"4,975\", \"48\\u00b0 45' 55\\\"\", \"5\\u00b0 44'\", \"6\", \"6\", \"6\\u00b0 26'\", \"8\\u00b0 38' leo\", \"8\\u00b0 53' 51\\\" pisc\", \"9310\", \"9\\u00b0 54' 41\\\"\", \"AG\", \"AG\", \"B\", \"B\", \"G\\u03bc\", \"If\", \"If\", \"In\", \"In\", \"KS\", \"L\", \"L\", \"On\", \"On\", \"So\", \"So\", \"We\", \"We\", \"ZN\", \"accept\", \"accept\", \"accord\", \"accord\", \"all\", \"also\", \"also\", \"amount\", \"amount\", \"angl\", \"angl\", \"anomali\", \"anomali\", \"aphelion\", \"aphelion\", \"appar\", \"appar\", \"appropri\", \"appropri\", \"arc\", \"arc\", \"arm\", \"arm\", \"ask\", \"ask\", \"assum\", \"assum\", \"astrolog\", \"baf\", \"bodi\", \"bodi\", \"briefli\", \"but\", \"but\", \"center\", \"center\", \"chapter\", \"chapter\", \"chapter 33 \", \"chapter 56 \", \"circl\", \"circl\", \"commutation2\", \"comput\", \"comput\", \"consid\", \"consid\", \"cor\", \"cor\", \"correct\", \"correct\", \"day\", \"day\", \"dci\", \"degre\", \"degre\", \"descend\", \"descend\", \"diamet\", \"diamet\", \"differ\", \"differ\", \"diminish\", \"diminish\", \"direct\", \"direct\", \"distanc\", \"distanc\", \"divest\", \"divisor\", \"drawn\", \"drawn\", \"dvh\", \"earth\", \"earth\", \"eccentr\", \"eccentr\", \"eclipt\", \"eclipt\", \"edi\", \"either\", \"either\", \"enough\", \"enough\", \"epicycl\", \"epicycl\", \"equal\", \"equal\", \"equat\", \"equat\", \"era\", \"erect\", \"exceed\", \"exceed\", \"excess\", \"excess\", \"explain\", \"explain\", \"fear\", \"figur\", \"figur\", \"find\", \"find\", \"first\", \"first\", \"found\", \"found\", \"give\", \"give\", \"given\", \"given\", \"goad\", \"heard\", \"hypothesi\", \"hypothesi\", \"inflam\", \"instead\", \"instead\", \"interrupt\", \"latitud\", \"latitud\", \"latter\", \"latter\", \"lest\", \"lest\", \"let\", \"let\", \"line\", \"line\", \"lom\", \"lusti\", \"magnet\", \"magnet\", \"make\", \"make\", \"mar\", \"mar\", \"mean\", \"mean\", \"minut\", \"minut\", \"moment\", \"moment\", \"morn\", \"morn\", \"motion\", \"motion\", \"natur\", \"natur\", \"navig\", \"near\", \"near\", \"node\", \"node\", \"now\", \"now\", \"observ\", \"observ\", \"observations1\", \"one\", \"one\", \"opposit\", \"opposit\", \"parallax\", \"parallax\", \"part\", \"part\", \"parts 4 \", \"past\", \"planet\", \"planet\", \"point\", \"point\", \"posit\", \"posit\", \"posterior\", \"pregress\", \"primev\", \"ptolemi\", \"ptolemi\", \"quantiti\", \"quantiti\", \"ratio\", \"ratio\", \"routin\", \"satisfactorili\", \"search\", \"seen\", \"seen\", \"seiffard\", \"shorten\", \"shorten\", \"show\", \"show\", \"shown\", \"shown\", \"sinc\", \"sinc\", \"singl\", \"singl\", \"slowli\", \"slowli\", \"small\", \"small\", \"south\", \"south\", \"spread\", \"spread\", \"star\", \"star\", \"strongli\", \"subtract\", \"subtract\", \"successor\", \"sun\", \"sun\", \"tail\", \"tail\", \"therefor\", \"therefor\", \"thi\", \"thi\", \"thirti\", \"thu\", \"thu\", \"time\", \"time\", \"train\", \"travers\", \"travers\", \"trip\", \"troubl\", \"twofold\", \"u\", \"u\", \"unintellig\", \"unit\", \"unit\", \"use\", \"use\", \"veloc\", \"verdict\", \"whole\", \"whole\", \"would\", \"would\", \"\\u0394\\u0394\", \"\\u0394\\u0394\", \"\\u03b3\", \"\\u03b3\", \"\\u03b3ac\", \"\\u03b3\\u03b4\", \"\\u03b3\\u03b4\", \"\\u03b3\\u03b6\", \"\\u03b3\\u03b6\", \"\\u03b4\\u03b1\\u03b8\", \"\\u03b6\", \"\\u03b6\", \"\\u03b6\\u03b5\\u03b2\", \"\\u03b7\\u03b5\\u03b1\", \"\\u03ba\\u03b1\", \"\\u03bc\\u03b1\\u03b4\", \"\\u03c0\\u03c5\"]}, \"R\": 30, \"lambda.step\": 0.01, \"plot.opts\": {\"xlab\": \"PC1\", \"ylab\": \"PC2\"}, \"topic.order\": [3, 2, 1, 4]};\n",
       "\n",
       "function LDAvis_load_lib(url, callback){\n",
       "  var s = document.createElement('script');\n",
       "  s.src = url;\n",
       "  s.async = true;\n",
       "  s.onreadystatechange = s.onload = callback;\n",
       "  s.onerror = function(){console.warn(\"failed to load library \" + url);};\n",
       "  document.getElementsByTagName(\"head\")[0].appendChild(s);\n",
       "}\n",
       "\n",
       "if(typeof(LDAvis) !== \"undefined\"){\n",
       "   // already loaded: just create the visualization\n",
       "   !function(LDAvis){\n",
       "       new LDAvis(\"#\" + \"ldavis_el310014837288564322455141108\", ldavis_el310014837288564322455141108_data);\n",
       "   }(LDAvis);\n",
       "}else if(typeof define === \"function\" && define.amd){\n",
       "   // require.js is available: use it to load d3/LDAvis\n",
       "   require.config({paths: {d3: \"https://cdnjs.cloudflare.com/ajax/libs/d3/3.5.5/d3.min\"}});\n",
       "   require([\"d3\"], function(d3){\n",
       "      window.d3 = d3;\n",
       "      LDAvis_load_lib(\"https://cdn.rawgit.com/bmabey/pyLDAvis/files/ldavis.v1.0.0.js\", function(){\n",
       "        new LDAvis(\"#\" + \"ldavis_el310014837288564322455141108\", ldavis_el310014837288564322455141108_data);\n",
       "      });\n",
       "    });\n",
       "}else{\n",
       "    // require.js not available: dynamically load d3 & LDAvis\n",
       "    LDAvis_load_lib(\"https://cdnjs.cloudflare.com/ajax/libs/d3/3.5.5/d3.min.js\", function(){\n",
       "         LDAvis_load_lib(\"https://cdn.rawgit.com/bmabey/pyLDAvis/files/ldavis.v1.0.0.js\", function(){\n",
       "                 new LDAvis(\"#\" + \"ldavis_el310014837288564322455141108\", ldavis_el310014837288564322455141108_data);\n",
       "            })\n",
       "         });\n",
       "}\n",
       "</script>"
      ],
      "text/plain": [
       "<IPython.core.display.HTML object>"
      ]
     },
     "execution_count": 38,
     "metadata": {},
     "output_type": "execute_result"
    }
   ],
   "source": [
    "pyLDAvis.display(vis) "
   ]
  },
  {
   "cell_type": "code",
   "execution_count": 38,
   "metadata": {},
   "outputs": [],
   "source": [
    "pyLDAvis.save_html(vis,'vis.html') # You can open saved html file  (vis_01)in your browser to see the result. "
   ]
  },
  {
   "cell_type": "markdown",
   "metadata": {},
   "source": [
    "<font size= \"4\">\n",
    "How can we find that how many topics are proper for the model?\n",
    "<font/>"
   ]
  },
  {
   "cell_type": "markdown",
   "metadata": {},
   "source": [
    "## **Coherence Metric**"
   ]
  },
  {
   "cell_type": "code",
   "execution_count": null,
   "metadata": {},
   "outputs": [],
   "source": []
  }
 ],
 "metadata": {
  "kernelspec": {
   "display_name": "Python 3",
   "language": "python",
   "name": "python3"
  },
  "language_info": {
   "codemirror_mode": {
    "name": "ipython",
    "version": 3
   },
   "file_extension": ".py",
   "mimetype": "text/x-python",
   "name": "python",
   "nbconvert_exporter": "python",
   "pygments_lexer": "ipython3",
   "version": "3.7.1"
  }
 },
 "nbformat": 4,
 "nbformat_minor": 2
}
