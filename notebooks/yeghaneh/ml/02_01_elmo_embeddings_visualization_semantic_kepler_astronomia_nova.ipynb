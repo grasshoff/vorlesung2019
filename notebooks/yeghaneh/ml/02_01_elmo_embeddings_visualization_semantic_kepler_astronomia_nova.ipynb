{
 "cells": [
  {
   "cell_type": "markdown",
   "metadata": {
    "colab_type": "text",
    "id": "ZU3MR71VpovV"
   },
   "source": [
    "### Embeddings from Language Models (ELMo)\n",
    "\n",
    "Elmo is a proper way to represent words in vectors or embeddings, ELMo tries to\n",
    "model complicated characteristics of word such as syntax and semantics and changes\n",
    "across linguistic contexts. For more information.\n",
    "\n",
    "This representations can be easily added to\n",
    "existing models and significantly improve the\n",
    "state of the art  result in Semantic anlysis and named entity recognition (NER)\n",
    "For more information  please see: \n",
    "<br />\n",
    "\n",
    "https://arxiv.org/abs/1802.05365\n",
    " \n",
    " \n"
   ]
  },
  {
   "cell_type": "markdown",
   "metadata": {},
   "source": [
    "## Imports"
   ]
  },
  {
   "cell_type": "code",
   "execution_count": 1,
   "metadata": {
    "colab": {
     "base_uri": "https://localhost:8080/",
     "height": 272
    },
    "colab_type": "code",
    "id": "_Qgy7Jmr5wSx",
    "outputId": "51abf899-8172-48bb-c989-6e2fde2de89c"
   },
   "outputs": [
    {
     "name": "stderr",
     "output_type": "stream",
     "text": [
      "WARNING: Logging before flag parsing goes to stderr.\n",
      "W0430 14:39:45.663673 12660 __init__.py:56] Some hub symbols are not available because TensorFlow version is less than 1.14\n"
     ]
    }
   ],
   "source": [
    "import os\n",
    "import numpy as np\n",
    "import pandas as pd\n",
    "import tensorflow as tf  # conda install -c conda-forge tensorflow \n",
    "import tensorflow_hub as hub  #-c conda-forge tensorflow-hub\n",
    "from sklearn import preprocessing \n",
    "\n",
    "#!python -m spacy download en_core_web_md #you will need to install this on first load\n",
    "import spacy\n",
    "from spacy.lang.en import English\n",
    "from spacy import displacy\n",
    "nlp = spacy.load('en_core_web_md')\n",
    "from IPython.display import HTML\n",
    "import logging\n",
    "#logging.getLogger('tensorflow').disabled = True #OPTIONAL - to disable outputs from Tensorflow\n",
    "import plotly.plotly as py  #conda install -c plotly plotly\n",
    "import plotly.graph_objs as go\n",
    "from plotly.offline import download_plotlyjs, init_notebook_mode, plot, iplot"
   ]
  },
  {
   "cell_type": "markdown",
   "metadata": {
    "colab_type": "text",
    "id": "WMknjdZpCgR0"
   },
   "source": [
    "## Data \n",
    "\n"
   ]
  },
  {
   "cell_type": "markdown",
   "metadata": {},
   "source": [
    "Please download the data '01_df_v013.pickle' in github on  your local machine from  this directory :<br />\n",
    " https://github.com/grasshoff/vorlesung2019/tree/master/notebooks/yeghaneh/data\n",
    " <br /><br />\n",
    "The data 01_df_v013 is annotated (labeled) data of english version of well-known kepler's book: New Astronomy (Latin: Astronomia nova). You can find that in the repository.\n"
   ]
  },
  {
   "cell_type": "code",
   "execution_count": 2,
   "metadata": {},
   "outputs": [],
   "source": [
    "importVersion = '013'  # The  desired version pickle-file of your data (now we are working on version 013 of our data)"
   ]
  },
  {
   "cell_type": "code",
   "execution_count": 3,
   "metadata": {},
   "outputs": [],
   "source": [
    "path= r'C:\\Users\\moha\\Documents\\BZML\\01_df_v{0}.pickle'.format(importVersion)  # Put the path of the data in your local machine here, consider the letter \"r\" before the path"
   ]
  },
  {
   "cell_type": "markdown",
   "metadata": {},
   "source": [
    "### Pre-processing"
   ]
  },
  {
   "cell_type": "code",
   "execution_count": 4,
   "metadata": {},
   "outputs": [
    {
     "data": {
      "text/plain": [
       "pandas.core.frame.DataFrame"
      ]
     },
     "execution_count": 4,
     "metadata": {},
     "output_type": "execute_result"
    }
   ],
   "source": [
    "dfAstroNova = pd.read_pickle(path)# The data  is saved as a pickle file. We read it as a pandas dataFrame\n",
    "type(dfAstroNova)  "
   ]
  },
  {
   "cell_type": "code",
   "execution_count": 5,
   "metadata": {},
   "outputs": [],
   "source": [
    " # Sort the data based on the chapters of the book \n",
    "dfAstroNova['chapter'] = dfAstroNova.chapter.replace(\"appendix b\",np.nan).astype(float)  \n",
    "dfAstroNova.sort_values(by='chapter' , inplace=True)\n",
    "dfAstroNova.chapter.fillna('appendix b', inplace=True)"
   ]
  },
  {
   "cell_type": "code",
   "execution_count": 6,
   "metadata": {},
   "outputs": [
    {
     "data": {
      "text/plain": [
       "1605"
      ]
     },
     "execution_count": 6,
     "metadata": {},
     "output_type": "execute_result"
    }
   ],
   "source": [
    "len(dfAstroNova)   # Number of rows."
   ]
  },
  {
   "cell_type": "code",
   "execution_count": 7,
   "metadata": {},
   "outputs": [
    {
     "data": {
      "text/html": [
       "<div>\n",
       "<style scoped>\n",
       "    .dataframe tbody tr th:only-of-type {\n",
       "        vertical-align: middle;\n",
       "    }\n",
       "\n",
       "    .dataframe tbody tr th {\n",
       "        vertical-align: top;\n",
       "    }\n",
       "\n",
       "    .dataframe thead th {\n",
       "        text-align: right;\n",
       "    }\n",
       "</style>\n",
       "<table border=\"1\" class=\"dataframe\">\n",
       "  <thead>\n",
       "    <tr style=\"text-align: right;\">\n",
       "      <th></th>\n",
       "      <th>html</th>\n",
       "      <th>text</th>\n",
       "      <th>links</th>\n",
       "      <th>italic</th>\n",
       "      <th>chapter</th>\n",
       "      <th>graphic</th>\n",
       "      <th>table</th>\n",
       "      <th>marginal</th>\n",
       "      <th>sentences</th>\n",
       "      <th>tagged</th>\n",
       "    </tr>\n",
       "  </thead>\n",
       "  <tbody>\n",
       "    <tr>\n",
       "      <th>18</th>\n",
       "      <td>&lt;p&gt;&lt;span class=\"anchor\" id=\"bookmark0\"&gt;&lt;/span&gt;...</td>\n",
       "      <td>Chapter 1</td>\n",
       "      <td>[]</td>\n",
       "      <td>[]</td>\n",
       "      <td>1</td>\n",
       "      <td>[]</td>\n",
       "      <td>[]</td>\n",
       "      <td>[]</td>\n",
       "      <td>[Chapter 1]</td>\n",
       "      <td>[[(Chapter, None), (1, NUM)]]</td>\n",
       "    </tr>\n",
       "    <tr>\n",
       "      <th>34</th>\n",
       "      <td>&lt;p&gt;But before that, I shall prove in this firs...</td>\n",
       "      <td>But before that, I shall prove in this first p...</td>\n",
       "      <td>[]</td>\n",
       "      <td>[]</td>\n",
       "      <td>1</td>\n",
       "      <td>[]</td>\n",
       "      <td>[]</td>\n",
       "      <td>[]</td>\n",
       "      <td>[But before that, I shall prove in this first ...</td>\n",
       "      <td>[[(But, None), (before, None), (that, None), (...</td>\n",
       "    </tr>\n",
       "    <tr>\n",
       "      <th>33</th>\n",
       "      <td>&lt;p&gt;But since the sun's mean and apparent motio...</td>\n",
       "      <td>But since the sun's mean and apparent motions*...</td>\n",
       "      <td>[]</td>\n",
       "      <td>[Mysterium cosmographicum,]</td>\n",
       "      <td>1</td>\n",
       "      <td>[]</td>\n",
       "      <td>[]</td>\n",
       "      <td>[ Terms: * The sun's apparent position is that...</td>\n",
       "      <td>[But since the sun's mean and apparent motions...</td>\n",
       "      <td>[[(But, None), (since, None), (the, None), (su...</td>\n",
       "    </tr>\n",
       "    <tr>\n",
       "      <th>32</th>\n",
       "      <td>&lt;p&gt;Now the causes and measures of these inequa...</td>\n",
       "      <td>Now the causes and measures of these inequalit...</td>\n",
       "      <td>[]</td>\n",
       "      <td>[]</td>\n",
       "      <td>1</td>\n",
       "      <td>[]</td>\n",
       "      <td>[]</td>\n",
       "      <td>[ 5]</td>\n",
       "      <td>[Now the causes and measures of these inequali...</td>\n",
       "      <td>[[(Now, None), (the, None), (causes, None), (a...</td>\n",
       "    </tr>\n",
       "    <tr>\n",
       "      <th>30</th>\n",
       "      <td>&lt;p&gt;Again, however, it was noticed that these l...</td>\n",
       "      <td>Again, however, it was noticed that these loop...</td>\n",
       "      <td>[]</td>\n",
       "      <td>[]</td>\n",
       "      <td>1</td>\n",
       "      <td>[]</td>\n",
       "      <td>[]</td>\n",
       "      <td>[]</td>\n",
       "      <td>[Again, however, it was noticed that these loo...</td>\n",
       "      <td>[[(Again, None), (however, None), (it, None), ...</td>\n",
       "    </tr>\n",
       "  </tbody>\n",
       "</table>\n",
       "</div>"
      ],
      "text/plain": [
       "                                                 html  \\\n",
       "18  <p><span class=\"anchor\" id=\"bookmark0\"></span>...   \n",
       "34  <p>But before that, I shall prove in this firs...   \n",
       "33  <p>But since the sun's mean and apparent motio...   \n",
       "32  <p>Now the causes and measures of these inequa...   \n",
       "30  <p>Again, however, it was noticed that these l...   \n",
       "\n",
       "                                                 text links  \\\n",
       "18                                          Chapter 1    []   \n",
       "34  But before that, I shall prove in this first p...    []   \n",
       "33  But since the sun's mean and apparent motions*...    []   \n",
       "32  Now the causes and measures of these inequalit...    []   \n",
       "30  Again, however, it was noticed that these loop...    []   \n",
       "\n",
       "                         italic chapter graphic table  \\\n",
       "18                           []       1      []    []   \n",
       "34                           []       1      []    []   \n",
       "33  [Mysterium cosmographicum,]       1      []    []   \n",
       "32                           []       1      []    []   \n",
       "30                           []       1      []    []   \n",
       "\n",
       "                                             marginal  \\\n",
       "18                                                 []   \n",
       "34                                                 []   \n",
       "33  [ Terms: * The sun's apparent position is that...   \n",
       "32                                               [ 5]   \n",
       "30                                                 []   \n",
       "\n",
       "                                            sentences  \\\n",
       "18                                        [Chapter 1]   \n",
       "34  [But before that, I shall prove in this first ...   \n",
       "33  [But since the sun's mean and apparent motions...   \n",
       "32  [Now the causes and measures of these inequali...   \n",
       "30  [Again, however, it was noticed that these loo...   \n",
       "\n",
       "                                               tagged  \n",
       "18                      [[(Chapter, None), (1, NUM)]]  \n",
       "34  [[(But, None), (before, None), (that, None), (...  \n",
       "33  [[(But, None), (since, None), (the, None), (su...  \n",
       "32  [[(Now, None), (the, None), (causes, None), (a...  \n",
       "30  [[(Again, None), (however, None), (it, None), ...  "
      ]
     },
     "execution_count": 7,
     "metadata": {},
     "output_type": "execute_result"
    }
   ],
   "source": [
    "dfAstroNova.head(5)  "
   ]
  },
  {
   "cell_type": "code",
   "execution_count": 8,
   "metadata": {},
   "outputs": [],
   "source": [
    "sentences_01=dfAstroNova['text']"
   ]
  },
  {
   "cell_type": "code",
   "execution_count": 9,
   "metadata": {},
   "outputs": [],
   "source": [
    "sentences_01=list(sentences_01)"
   ]
  },
  {
   "cell_type": "code",
   "execution_count": 10,
   "metadata": {},
   "outputs": [],
   "source": [
    "sentences_01=sentences_01[0:150] "
   ]
  },
  {
   "cell_type": "code",
   "execution_count": 11,
   "metadata": {},
   "outputs": [
    {
     "data": {
      "text/plain": [
       "100"
      ]
     },
     "execution_count": 11,
     "metadata": {},
     "output_type": "execute_result"
    }
   ],
   "source": [
    "len(sentences_01)  #Because of heavy computation, only part of the data is embedded."
   ]
  },
  {
   "cell_type": "markdown",
   "metadata": {
    "colab_type": "text",
    "id": "FxkL4RXwVToa"
   },
   "source": [
    "## Create sentence embeddings"
   ]
  },
  {
   "cell_type": "code",
   "execution_count": 12,
   "metadata": {
    "colab": {},
    "colab_type": "code",
    "id": "UIhHrFsmOC6C"
   },
   "outputs": [
    {
     "name": "stdout",
     "output_type": "stream",
     "text": [
      "WARNING:tensorflow:From C:\\Users\\moha\\Anaconda3\\lib\\site-packages\\tensorflow\\python\\ops\\control_flow_ops.py:3632: colocate_with (from tensorflow.python.framework.ops) is deprecated and will be removed in a future version.\n",
      "Instructions for updating:\n",
      "Colocations handled automatically by placer.\n"
     ]
    },
    {
     "name": "stderr",
     "output_type": "stream",
     "text": [
      "W0430 14:40:03.862963 12660 deprecation.py:323] From C:\\Users\\moha\\Anaconda3\\lib\\site-packages\\tensorflow\\python\\ops\\control_flow_ops.py:3632: colocate_with (from tensorflow.python.framework.ops) is deprecated and will be removed in a future version.\n",
      "Instructions for updating:\n",
      "Colocations handled automatically by placer.\n"
     ]
    }
   ],
   "source": [
    "url = \"https://tfhub.dev/google/elmo/2\"\n",
    "embed = hub.Module(url)"
   ]
  },
  {
   "cell_type": "code",
   "execution_count": 13,
   "metadata": {
    "colab": {},
    "colab_type": "code",
    "id": "HsGkzCltOMOl"
   },
   "outputs": [
    {
     "name": "stdout",
     "output_type": "stream",
     "text": [
      "INFO:tensorflow:Saver not created because there are no variables in the graph to restore\n"
     ]
    },
    {
     "name": "stderr",
     "output_type": "stream",
     "text": [
      "I0430 14:40:04.856192 12660 saver.py:1483] Saver not created because there are no variables in the graph to restore\n"
     ]
    }
   ],
   "source": [
    "embeddings = embed(\n",
    "    sentences_01,\n",
    "    signature=\"default\",\n",
    "    as_dict=True)[\"default\"]"
   ]
  },
  {
   "cell_type": "code",
   "execution_count": 14,
   "metadata": {},
   "outputs": [
    {
     "data": {
      "text/plain": [
       "<tf.Tensor 'module_apply_default/truediv:0' shape=(100, 1024) dtype=float32>"
      ]
     },
     "execution_count": 14,
     "metadata": {},
     "output_type": "execute_result"
    }
   ],
   "source": [
    "embeddings"
   ]
  },
  {
   "cell_type": "code",
   "execution_count": 15,
   "metadata": {
    "colab": {
     "base_uri": "https://localhost:8080/",
     "height": 51
    },
    "colab_type": "code",
    "id": "oA6BO4a_Oswf",
    "outputId": "7c59f851-9784-4307-a310-244aea8dac90"
   },
   "outputs": [
    {
     "name": "stdout",
     "output_type": "stream",
     "text": [
      "Wall time: 3min 27s\n"
     ]
    }
   ],
   "source": [
    "%%time\n",
    "with tf.Session() as sess:\n",
    "  sess.run(tf.global_variables_initializer())\n",
    "  sess.run(tf.tables_initializer())\n",
    "  x = sess.run(embeddings)"
   ]
  },
  {
   "cell_type": "markdown",
   "metadata": {
    "colab_type": "text",
    "id": "Qwlt2Husrtzo"
   },
   "source": [
    "## Visualize the sentences using PCA and TSNE"
   ]
  },
  {
   "cell_type": "markdown",
   "metadata": {},
   "source": [
    "An informative plot  by dimensionality reduction of our data to 2D. Colours are based on the sentence length. "
   ]
  },
  {
   "cell_type": "code",
   "execution_count": 16,
   "metadata": {
    "colab": {},
    "colab_type": "code",
    "id": "xAGj0yJyUD3W"
   },
   "outputs": [],
   "source": [
    "from sklearn.decomposition import PCA\n",
    "\n",
    "pca = PCA(n_components=50)\n",
    "y = pca.fit_transform(x)\n",
    "\n",
    "from sklearn.manifold import TSNE\n",
    "\n",
    "y = TSNE(n_components=2).fit_transform(y)"
   ]
  },
  {
   "cell_type": "code",
   "execution_count": 17,
   "metadata": {
    "colab": {
     "base_uri": "https://localhost:8080/",
     "height": 17
    },
    "colab_type": "code",
    "id": "KGUyrjcMfdJp",
    "outputId": "e48f033d-ec9e-442d-bd17-be8746c4eaf4"
   },
   "outputs": [
    {
     "data": {
      "text/html": [
       "        <script type=\"text/javascript\">\n",
       "        window.PlotlyConfig = {MathJaxConfig: 'local'};\n",
       "        if (window.MathJax) {MathJax.Hub.Config({SVG: {font: \"STIX-Web\"}});}\n",
       "        if (typeof require !== 'undefined') {\n",
       "        require.undef(\"plotly\");\n",
       "        requirejs.config({\n",
       "            paths: {\n",
       "                'plotly': ['https://cdn.plot.ly/plotly-latest.min']\n",
       "            }\n",
       "        });\n",
       "        require(['plotly'], function(Plotly) {\n",
       "            window._Plotly = Plotly;\n",
       "        });\n",
       "        }\n",
       "        </script>\n",
       "        "
      ]
     },
     "metadata": {},
     "output_type": "display_data"
    }
   ],
   "source": [
    "\n",
    "\n",
    "init_notebook_mode(connected=True)\n",
    "\n",
    "\n",
    "data = [\n",
    "    go.Scatter(\n",
    "        x=[i[0] for i in y],\n",
    "        y=[i[1] for i in y],\n",
    "        mode='markers',\n",
    "        text=[i for i in sentences_01],\n",
    "    marker=dict(\n",
    "        size=16,\n",
    "        color = [len(i) for i in sentences_01], #set color equal to a variable\n",
    "        opacity= 0.8,\n",
    "        colorscale='Viridis',\n",
    "        showscale=False\n",
    "    )\n",
    "    )\n",
    "]\n",
    "layout = go.Layout()\n",
    "layout = dict(\n",
    "              yaxis = dict(zeroline = False),\n",
    "              xaxis = dict(zeroline = False)\n",
    "             )\n",
    "fig = go.Figure(data=data, layout=layout)\n",
    "file = plot(fig, filename='Sentence encode.html')\n",
    "\n",
    "#from google.colab import files   #conda install -c conda-forge pydrive \n",
    "#files.download('Sentence encode.html')   "
   ]
  },
  {
   "cell_type": "markdown",
   "metadata": {
    "colab_type": "text",
    "id": "eAu1zHOjrzzj"
   },
   "source": [
    "## Create a semantic search engine:"
   ]
  },
  {
   "cell_type": "code",
   "execution_count": 29,
   "metadata": {
    "cellView": "both",
    "colab": {
     "base_uri": "https://localhost:8080/",
     "height": 183
    },
    "colab_type": "code",
    "id": "HfgIfOxXQ8ba",
    "outputId": "da678d22-2cbb-4159-dffb-a35f7ed5a663"
   },
   "outputs": [
    {
     "name": "stdout",
     "output_type": "stream",
     "text": [
      "INFO:tensorflow:Saver not created because there are no variables in the graph to restore\n"
     ]
    },
    {
     "name": "stderr",
     "output_type": "stream",
     "text": [
      "I0430 16:08:52.907270 12660 saver.py:1483] Saver not created because there are no variables in the graph to restore\n"
     ]
    },
    {
     "data": {
      "text/html": [
       "<h3>Results:</h3><p style=\"font-family:verdana; font-size:110%;\">  Now, suppose it is not permissible to shift the observer (and it is not permitted by those who make the earth the center of the world, as will be remarked in the next chapter), and that the planet has been observed in several positions on the zodiac, always at opposition to the sun's mean position, and that the practitioner will use the positions and the intervals of time between them to construct this sort of hypothesis, with the observer at δ, δθ the eccentricity of the eccentric θκ, θγ the eccentricity of the equant, and κ the apogee. Comes now Kepler, who would change the observed positions and times; that is, he would observe the moments and points at which the planet is at opposition to the apparent position of the sun rather than its mean position. From these positions and times he will have come up with another hypothesis, in which the observer would be left unmoved at δ or Α, but where the eccentricity would come out to be ΑΒ in <b>a</b> new eccentric ΒΙ, and the eccentricity ΑΓ of <b>a</b> new equant Γ, and there would be <b>a</b> new apogee Ι. The question now is whether, if the prior practitioner combines the new eccentric ΒΙ with his original equalizing point γ, the computed equation and sidereal position of the planet will turn out much different from what he had formerly found using his eccentric γκ. (It is the first inequality that is in question; this discussion is not concerned with the second inequality, and the nature and magnitude of the changes which this procedure would effect therein.) The answer, arising from the equivalence of transpositions, is that the discrepancy will be extremely small. Its maximum, reached in the neighborhood of the points υ and Φ, will not exceed five minutes, exactly as before when the observer was transposed, except that now the line υΦ is closer to the observer δ than is its endpoint υ. Consequently, the angle υδΦ, which previously was 4’ 24”, is now 4’ 43”. The opposite happens at σΤ.</p><hr><p style=\"font-family:verdana; font-size:110%;\">  It is thus established that when <b>a</b> planet's path in the heavens remains in all respects unchanged, the form of hypothesis cannot persist entirely unchanged. This raises the further question, how much the path of <b>a</b> planet is changed from its prior position if the same form of hypothesis is set up about δ, and how much this newly established hypothesis at δ will be at variance with the appearances as seen at α. First, if the center of the equant be transferred from γ to the line δβ, and βμ be made equal to βγ, the position of the planetary path is quite unchanged, but the planet is slowest, in physical terms, at η rather than ι. This changes what cannot be changed in the planet’s path, because, unlike the optical slowing, the physical slowing is independent of the observer’s viewpoint. Even though the planet would traverse the same path ιη in twenty days (which path appears greater at α and smaller at δ), nevertheless, if you consider the parts of this time, their ratio in comparison with the parts of this path will be violently perturbed, and much more so at other places, not between ι and η. In particular, for the observer at α the quantity of his equations will be changed noticeably if, for the observer at δ, you will prevent the planet’s being slowest at ι; that is, if you transfer the equant from γ to μ. For if you draw <b>a</b> straight line through γμ to the point ν on the circumference and connect αν, this equation ανμ alone will be equal to the prior, ανγ. Above ν the equations about μ will be smaller, and below ν, greater. For example, at η the angle μνα is much less than γηα. But then what we proposed to do has not been done, for the prior form of hypothesis has not yet been quite established. For αβ is not to βγ as δβ is to βμ, since βμ is equal to βγ, while δβ is greater than αβ. But if, on the other hand, you make δβ be to βμ as αβ is to βγ, βμ will become greater than βγ. Whence it follows that for the observer at α, his equation will be more in error, even when it is at <b>a</b> maximum, on account of the increased eccentricity. Not only will the planet be slowest in <b>a</b> different place than before, but in also by <b>a</b> different and in fact greater measure of its true slowness. It is clear, therefore, that the equivalence we have been seeking cannot be established by drawing the line of apsides from δ through the center of the eccentric β. And since it has at the same time become clear how important it is to keep the same equant point γ, <b>a</b> breakthrough must in all events be made here, or nowhere.</p><hr><p style=\"font-family:verdana; font-size:110%;\">  This equivalence pertains chiefly to the first inequality—that is, to the appearances at δ, close to the center of the eccentric. However, in the second inequality (the equation for the annual orb), it makes <b>a</b> big difference whether the planet goes around on ξπ or oρ, as was also noted above in the other equivalence. And there we could not ignore the 246 units (the difference between the Ptolemaic and the Copernican hypotheses). Much less can we overlook these 880 units, which are 1344 of the old units. In the next chapter we shall see how much of <b>a</b> difference in Mars’s apparent position this would occasion. Hitherto, we have transposed the observer from δ to α. Let it now be demonstrated that very nearly the same things happen if the observer remains fixed while the point of the equant is transposed. This we do to make it clear that the same thing can be done in this chapter with an eccentric that has an equant as could be done on <b>a</b> simple eccentric (at the end of Chapter 3 above). In the earlier case, the result was the same whether the observer or the center of the eccentric were transposed, while here, likewise, the result is almost the same whether the observer or the center of the equant be transposed. However, it necessary to adapt this demonstration to this divergence , on account of the great dissimilarity of the opinions followed by the practitioners in demonstrating the second inequality of the planets, which opinions will be keeping us in court in the next chapter. Let the points α and δ merge into one, so that the observer remain in the same place. Let δ, θ, and γ remain the same, but let the line γβα of the previous diagram be deleted, and replaced by ΑΒΓ parallel to it and passing through the point δ or Α. Let the segments ΑΒ, ΑΓ be equal to the previous segments αβ, αγ. Therefore, Γγ will be the transposition of the equalizing point γ, equal to the previous transposition of the observer αδ. Once more, two eccentrics or planetary paths through the aethereal air will be described, about Β and θ. All the letters on each circle will be carried over along with them, and the magnitudes of the lines will remain precisely the same. The only difference is that the two points on the two eccentrics at which the planet is to be placed at <b>a</b> given moment are no longer determined by <b>a</b> single line, but by parallel lines drawn from the two equant points Γ, γ, each extended to its own eccentric. For example, when the eccentric θκ has its planet at κ, the eccentric ΒΙ will have it at Ζ, where γκ and ΓΖ are parallel. And when the former has the planet at ε, the latter will have it at Ι, where γε and ΓΙ are again parallel. The rest is clear from the diagram without demonstration.</p><hr><p style=\"font-family:verdana; font-size:110%;\">  Now, Kepler, what more could you ask of Copernicus? Are you denying that this hypothesis corresponds entirely to observations or to astronomers’ experience?3 That is indeed not in question at present. Nor was I, when I first entered upon this undertaking, tempted by the observations to take up <b>a</b> different opinion. But it is this that I have been wanting: Let βδ be extended so as to intersect the eccentric at χ and ξ, and near χ let some point τ on the eccentric be chosen, and lines be drawn from τ to δ and λ. Now χτ is the measure of the angle χλτ, while the angle χδτ is greater than the angle χλτ by the amount δτλ, and δ is the point of temporal uniformity ^4. Therefore, the time designated by χδτ is greater, with respect to the whole periodic time designated by four right angles, than is the arc χτ with respect to the whole circumference. The planet, then, is actually slower over the arc τχ (this is not just an optical illusion), and fast over the opposite arc; and at χ it is slowest, and at ξ it is fastest. Nevertheless, it is not farthest from the sun κ when it is at χ, nor is it nearest κ at ζ. But by all the arguments, even the testimony of the very hypothesis set up upon β which I am refuting, it is fitting that this real slowing down of the planet arises from its moving away from the body of the sun, and the speeding up from its approach to the sun itself, seated at κ. On the other hand, it is impossible even to conceive of how <b>a</b> force could inhere in point β, which has no body, rather than in k, quite nearby, in which there is the sun, the heart of the world, which force would drive the planet around more swiftly or slowly according to its approach and recess. Furthermore, even if one who is not prepared to admit that the slowings and quickenings arise physically from the close interconnection of the eccentrics, should consequently assert that these affects of motion are naturally under the control of the motive faculties residing in the body of the planet, we will again maintain the same probable conclusion. For what would be the reason why those</p><hr><p style=\"font-family:verdana; font-size:110%;\">  To find the basis of <b>a</b> computation whereby we may investigate, for the observer at δ, how much his appearances are changed by transposing the eccentric from ρθο to πβξ, we must proceed as follows. Since γ is the common center upon whose circle the times are indicated, let the line γει indicate the same moment in both hypotheses. Therefore, if the planet is traversing the eccentric εο, it will at that moment be at ε with equation δεγ, but if it is traversing ιξ, it will be at ι with no equation, since the line of apparent motion αι coincides with the line of mean motion γι. Again, after <b>a</b> certain amount of time, whose measure shall be ιγζ or εγκ, whose vertical angle is δγα, just found to be 5° 27’ 47”, let <b>a</b> common moment be taken, represented by γκζ. At that time, the planet traversing the eccentric εo will be at k with no equation, while the planet traversing ιξ will be at ζ with equation γζα. Thus, in both instances, the planet is always on <b>a</b> line drawn from γ, at the point where that line cuts one or another eccentric. If the observer were at γ, there would be no difference in the appearances, whether the planet were at k or at ζ. But since in the present model the observer is placed at δ by the practitioners4 and at α by myself, the question arises at what point on the circumference the distance between the eccentrics is perceptibly <b>a</b> maximum for the observer at δ. In order that this difference become perceptible, three factors must concur. First, the distance itself must be large (just as it is <b>a</b> maximum around οξ and ρπ). Second, as nearly as possible it should be presented directly to an observer at δ (just as it vanishes at ζκ and the point opposite) according to optical principles. Thus, it appears greatest at the intermediate regions, below ξ and above ρ. Third, it must be close to δ (just as it is closer above ρ than below ξ, because the center of the other eccentric β lies off to the right of δ). If we construct <b>a</b> right angle to point γ of the line γδ, this perpendicular from γ to the circumference will bring us as close as possible to the place where the apparent magnitude is greatest. Let σφ be drawn through γ perpendicular to δγ, intersecting the eccentric about θ at σ and υ, and the other at τ and φ, and to this let the perpendicular βχ be dropped. Therefore, at the moment γσ the planet will be at σ and τ, and at the moment γφ, at υ and φ. First of all, the quantity υφ must be found. Let θυ and βφ be joined. In θυγ, θυ is given as 100,000, because θ is the center of the eccentric υ. The magnitude θγ is 7411, and θγυ is right. Therefore, γυ is 99,725. The same is to be done in βγφ. But first, βχ5 has to be found. This will be revealed by the triangle βγχ, in which βχ is parallel to θγ, the angle at χ is right, and γβχ is equal to θγβ (5° 27’ 47”) and βγ is 6763. Hence, the sides are found to be: γχ 644, βχ 6732. Therefore, in the right triangle βχφ, since βφ is 100,000 (β being the center of the eccentric φ) and χβ is 6732, χφ will be 99,773. Add χγ, 644, and γφ is given, 100,417. But γυ was 99,725. Therefore, the quantity sought, υφ, is 692.</p><hr><p style=\"font-family:verdana; font-size:110%;\">  Now I, too, for good reasons, would reject as absurd the notion that the moving power should preside over <b>a</b> solid orb, everywhere uniform, rather than over the bare planet. But because there are no solid orbs, consider now the physical coherence of this hypothesis when very slight changes are made, as described below. This hypothesis, it should be added, posits two motive powers to move the planet (Ptolemy was unaware of this). It places one of these in the body <b>A</b> (which, in the reformed astronomy will be the very sun itself), and says that this power endeavors to drive the planet around itself, but possesses an infinite number of degrees corresponding to the infinite number of points of the distance from A. Thus, just as AD is the longest, and AF the shortest, so the planet is slowest at D and fastest at F, and in general, as AD is to AE, so is the slowness at D to the slowness at E3, as will be demonstrated at great length in Part III below. The hypothesis attributes another motive power to the planet itself, which has the capacity to adjust its approach to and recession from the sun, either by the strength of the angles or by inspection of the increase or decrease of the solar diameter, and to make the difference between the mean distance and the longest and shortest equal to AB. Therefore, the point of the equant <b>C</b> is nothing but <b>a</b> geometrical short cut for computing the equations from <b>a</b> hypothesis that is clearly physical. But if the planet's path is <b>a</b> perfect circle, as Ptolemy certainly thought, the planet also has to have some additional perception of the swiftness and slowness by which it is carried along by the other external power, in order to adjust its own approach and recession in such accord with the power's precepts that the path DE itself is made to be <b>a</b> circle. It therefore needs both <b>a</b> comprehension of the circle and <b>a</b> desire to effect it. Also, the ratios of its own slowness and swiftness must differ from the gradations of the external power. However, if the demonstrations of astronomy, founded upon observations, should testify that the path of the planet is not quite circular, contrary to what this hypothesis asserts, then this physical account too will be constructed differently and the planet's power will be freed from these rather troublesome requirements. But let me return to Copernicus. In avoiding the absurdity explained just above from his own opinions, he substituted another epicycle for the equant, in the following way. About center α with radius αβ equal to BD let the concentric βδ be described, so that the observer is at α; let αβ, parallel to BD, be extended in both directions; and let the angle βαδ be set up equal to DCE. Now let BC be bisected at I, and about the centers β and δ with radii βγ and δζ equal to AI let the first or greater epicycle be described, and let δζ be parallel to αβ. Next, about centers γ and ζ, but with radii γε, ζη equal to IC, let the second epicycle be described, and let its motion be eastward, with twice the speed of the motion of the first. And let the westward motion of the first epicycle be equal to the motion of the eccentric. And since γ is on αβ, let the planet be at ε, the point nearest β. And since βαδ is right, let the planet be at η, the point farthest from the center of the greater epicycle δ. This particular hypothesis of Copernicus is also followed by Tycho Brahe religiously, in all particulars.</p><hr><p style=\"font-family:verdana; font-size:110%;\">  We shall now make use of numbers belonging to the motion of Mars. Although Ptolemy made CB and BA equal, Copernicus, freed from this rule, nonetheless also adopted other ratios, which Tycho Brahe undertook to imitate. Let CB be 7560, BA 12,600, where BE is 100,000; and, first, let DCE be 45°, whose sine is 70,711. Therefore, as 100,000 is to 70,711, so is 7560 to 5346, the sine of the arc of 3° 4' 52\", which is CEB. Subtracting this from 45° leaves CBE, 41° 55' 8\", whose half is 20° 57' 34\", the tangent to which arc is 38,304. And since EB is 100,000, while BA is 12,600, the difference, 87,400, multiplied by the radius and divided by the sum, 112,600, gives 77,620. Multiply this by the tangent found above (38,304). The product, that is, 29,732, is the tangent of the arc 16° 33' 30\", which, subtracted from the half of CBE, found above, leaves 4° 24' 4\", which is the angle BEA. Therefore, the whole, CEA, is 7° 28' 56\", in the Ptolemaic form. In the Copernican form, although the ordinary means of finding the equation is clearly presented in Tycho's lunar tables in Vol. I of the Progymnasmata, and in Copernicus himself, let me nonetheless follow <b>a</b> different, less usual procedure, which is adapted to an anomaly of 45°. Let βαλ be 45°, and λν or βγ be 16,380, γε or νο be 3780, and ονλ be right, that is, twice βαλ. Now let νλ be parallel to βα, and let νλ and δα be extended, so as to meet at μ. From ο let οξ be dropped parallel to νμ. Therefore, λαμ is 45°, and consequently αμ, and also μλ, are 70,711. Add λν, 16,380, and μν or οξ will be 87,091. And because γε, νο, and ξμ are equal, subtract ξμ from αμ. The remainder, αξ, is 66,931. Therefore, as οξ is to ξα, so is the whole sine4 to the tangent of αοξ or οαβ, 76,852, giving an angle of 37° 32' 37\", which differs from the arc 45° by 7° 27' 23\". Therefore, the difference between the Copernican and the Ptolemaic equations at this position is 1' 33\", <b>a</b> very small difference indeed.</p><hr><p style=\"font-family:verdana; font-size:110%;\">  The reason for this is that the two slowings are intermingled, one real and physical, occurring at one place on the eccentric, and the other optical and apparent and not occurring at <b>a</b> single place, but in the place most distant from whatever position is chosen for the observer. Now, when the observer α lies upon <b>a</b> line drawn through the center of the eccentric β and the center of the equant γ on the side of β opposite the center of the equant γ, then both slowings verge toward the same sidereal position ι. But when the observer departs from this line, as at δ, then <b>a</b> straight line drawn from δ through the center of the circle β marks the place of the optical slowing, η, while the true and physical slowing is at ι. Furthermore, each of these inequalities or slowings diminishes the other, and they are accumulated at an intermediate point between ι and η, as would be if <b>a</b> line were to be drawn from δ through γ to the point ζ. Consequently, were one to adopt <b>a</b> form of computation in which δβ were the line of apsides of the eccentric and βγ the line of the equant’s eccentricity, then even though the planet’s true path ιη remained the same, it would be represented differently at δ than at α. For to the observer at δ the planet would be slowest at ζ, and to the one at α it would be slowest at ι. But no such thing would be represented at δ that ought to have been represented by <b>a</b> hypothesis of the same form as the previous one, according to our presuppositions above. For the forms of the hypotheses differ in that in the former, β is the midpoint between α and γ (as physical considerations require, if the moving power is in α), while in the latter the center of the eccentric β would not be the midpoint between δ and γ, nor would the line of the equant’s eccentricity pass through the observer δ, as before. Even if it did pass through δ, as δγ, it would not cut the eccentric into two equal parts, because it would not cut it at the center β, and it would not allow the planet to appear on one side fastest and on the other slowest, at opposite places.</p><hr><p style=\"font-family:verdana; font-size:110%;\">  we shall do by moving the observer from α. By what was said at the end of Ch. 3, we could do the same thing even if the observer were to remain at α, by moving the eccentric while keeping lines parallel, in such <b>a</b> way that the size of the eccentric remains constant and only its position changes. But we shall carry it to completion as we have begun it. Adopting <b>a</b> position for the observer not on the prior line of apsides (let it be β), such that βγ has <b>a</b> magnitude different from that of αγ (that is, <b>a</b> new eccentricity or new radius of the greater epicycle), let us draw <b>a</b> new line of apsides βδ through βγ, and at δ let us describe an epicycle equal to the former. Here, although the center of the epicycle is at the apsis δ, nonetheless we shall not place the planet at the point nearest γ, as before, but, taking the measure of the angle εγδ, we shall set out the angle θδγ twice that size, in the direction of ε, and shall place the planet at θ, when the epicycle is at the apsis δ. For this is where the planet would be, were the observer at α and the epicycle at δ. In this way, the true compound planetary path remains the same to <b>a</b> hair’s breadth, while the appearance is altered. For when the lines of sight are inclined to one another, as βθ and αθ here, or βη and αη, they fall upon different positions beneath the fixed stars. You may object that even when the lines of sight are parallel, they fall upon different positions beneath the fixed stars, and it is therefore not essential that they be inclined to one another. I answer, this is indeed true, but in that case the space of the sphere of the stars intercepted between the two lines is not perceptible to the power of sight unless the distance between the parallels is perceptible in relation to the radius of the sphere of the stars.</p><hr><p style=\"font-family:verdana; font-size:110%;\">  Maestlin made use of this form of transposition in constructing the table in Ch. 15 of my Mysterium cosmographicum. For when Copernicus transformed the Ptolemaic [models] into his own general form of hypotheses, he supposed the observer to be stationed at some nearly motionless point near the sun, distant from the sun’s own body by the entire eccentricity of the solar orb. I, however, in adapting Copernicus to the subject matter of that book, needed <b>a</b> different fiction. The observer was to be imagined as transported from that point to the very center of the solar body, and from there (that is, from the body of the sun) the departures of the planetary bodies were to be computed, moving on the same path which the suppositions of Copernicus fashioned. But, as has just now been shown, by reason of the particular times my translation of the line of apsides did not effect exactly the same path. The difference, however, was very slight, and was clearly of no importance in that little book. For there the question concerned only the location of the path, which this procedure did not affect. As for the rest, in order to avoid confusion in what follows, I shall no longer make use of this Copernican eccentric, described by the center of the epicycle rather than the star. It differs from the planet's true path, which is higher at perigee and lower at apogee. The term \"eccentric\" from now on we will use only to designate the actual path of the planet, or of the point to whose motion the first inequality belongs. In proceeding in this way, it is appropriate that we imagine only the Ptolemaic eccentric, or something like it. For it was shown in the fourth chapter that our computation of the equation, based upon the Ptolemaic form, will differ from the Copernican by only two minutes at most. Then, too, the procedure for computing the first inequality is easier in the Ptolemaic form than in the Copernican. Finally, as was said, this Ptolemaic form of the first inequality is better accommodated to nature herself and to our speculations that follow in the third and fourth parts. However, because of the equivalence, anyone who so chooses will always be able to supply in thought the Copernican eccentric-cum-epicycle considered so far in this fifth chapter.</p><hr>"
      ],
      "text/plain": [
       "<IPython.core.display.HTML object>"
      ]
     },
     "metadata": {},
     "output_type": "display_data"
    }
   ],
   "source": [
    "#@title Sementic search\n",
    "#@markdown Enter a set of words to find matching sentences. 'results_returned' can beused to modify the number of matching sentences retured. To view the code behind this cell, use the menu in the top right to unhide...\n",
    "search_string = \"equavalence\" #@param {type:\"string\"}\n",
    "results_returned = \"10\" #@param [1, 2, 3]\n",
    "\n",
    "from sklearn.metrics.pairwise import cosine_similarity\n",
    "\n",
    "\n",
    "embeddings2 = embed(\n",
    "\n",
    "    [search_string],\n",
    "    signature=\"default\",\n",
    "    as_dict=True)[\"default\"]\n",
    "\n",
    "with tf.Session() as sess:\n",
    "  sess.run(tf.global_variables_initializer())\n",
    "  sess.run(tf.tables_initializer())\n",
    "  search_vect = sess.run(embeddings2)\n",
    "  \n",
    "\n",
    "cosine_similarities = pd.Series(cosine_similarity(search_vect, x).flatten())\n",
    "output =\"\"\n",
    "for i,j in cosine_similarities.nlargest(int(results_returned)).iteritems():\n",
    "  output +='<p style=\"font-family:verdana; font-size:110%;\"> '\n",
    "  for i in sentences_01[i].split():\n",
    "    if i.lower() in search_string:\n",
    "      output += \" <b>\"+str(i)+\"</b>\"\n",
    "    else:\n",
    "      output += \" \"+str(i)\n",
    "  output += \"</p><hr>\"\n",
    "    \n",
    "output = '<h3>Results:</h3>'+output\n",
    "display(HTML(output))\n",
    "#   print(sentences[i])\n",
    "#   print('\\n')\n"
   ]
  },
  {
   "cell_type": "markdown",
   "metadata": {},
   "source": [
    "It seems that the search engine clearly knows that moon and eclipse are closely related! "
   ]
  }
 ],
 "metadata": {
  "colab": {
   "collapsed_sections": [],
   "name": "Copy of Elmo contextual embeddings.ipynb",
   "provenance": [],
   "version": "0.3.2"
  },
  "kernelspec": {
   "display_name": "Python 3",
   "language": "python",
   "name": "python3"
  },
  "language_info": {
   "codemirror_mode": {
    "name": "ipython",
    "version": 3
   },
   "file_extension": ".py",
   "mimetype": "text/x-python",
   "name": "python",
   "nbconvert_exporter": "python",
   "pygments_lexer": "ipython3",
   "version": "3.7.1"
  }
 },
 "nbformat": 4,
 "nbformat_minor": 2
}
