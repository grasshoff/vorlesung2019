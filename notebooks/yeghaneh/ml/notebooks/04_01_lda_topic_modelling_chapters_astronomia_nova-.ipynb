<<<<<<< HEAD
{
 "cells": [
  {
   "cell_type": "markdown",
   "metadata": {},
   "source": [
    "# **Extracting Topic model by  \"Latent Dirichlet Allocation (LDA)\"  of kepler's book: \"Astronomia Nova** \"\n",
    "<font size=\"4\">\n",
    "This notebook demonstrates how to **extract topics **  from documents, corpus, book. We visualize the result in an informative way. Here, an unsupervised learning model LDA is used. **Topic modelling** is based on the basic assumptions that each corpus (book)  consists of different topics and each topic consists of a collection of words.\n",
    "<font/>\n"
   ]
  },
  {
   "cell_type": "markdown",
   "metadata": {},
   "source": [
    "### Import the required tools "
   ]
  },
  {
   "cell_type": "code",
   "execution_count": 1,
   "metadata": {
    "collapsed": true
   },
   "outputs": [
    {
     "name": "stderr",
     "output_type": "stream",
     "text": [
      "[nltk_data] Downloading package punkt to\n",
      "[nltk_data]     C:\\Users\\moha\\AppData\\Roaming\\nltk_data...\n",
      "[nltk_data]   Package punkt is already up-to-date!\n",
      "[nltk_data] Downloading package averaged_perceptron_tagger to\n",
      "[nltk_data]     C:\\Users\\moha\\AppData\\Roaming\\nltk_data...\n",
      "[nltk_data]   Package averaged_perceptron_tagger is already up-to-\n",
      "[nltk_data]       date!\n",
      "[nltk_data] Downloading package wordnet to\n",
      "[nltk_data]     C:\\Users\\moha\\AppData\\Roaming\\nltk_data...\n",
      "[nltk_data]   Package wordnet is already up-to-date!\n"
     ]
    }
   ],
   "source": [
    "import numpy as np\n",
    "import pandas as pd\n",
    "import scipy as sp\n",
    "import matplotlib.pyplot as plt\n",
    "import collections\n",
    "import os\n",
    "import logging\n",
    "import warnings\n",
    "from itertools import permutations\n",
    "from sklearn.metrics import make_scorer,confusion_matrix\n",
    "from sklearn.model_selection import cross_val_score\n",
    "from sklearn.model_selection import RandomizedSearchCV\n",
    "import sklearn_crfsuite  # to install this package in windows with pip please run: 'pip install sklearn-crfsuite'\n",
    "from sklearn_crfsuite import metrics, scorers\n",
    "import nltk\n",
    "from nltk.tokenize import word_tokenize\n",
    "from nltk.tag import pos_tag\n",
    "nltk.download('punkt')\n",
    "nltk.download('averaged_perceptron_tagger')\n",
    "import eli5  # to install this package in windows with conda please run: 'conda install -c conda-forge eli5'\n",
    "from nltk.stem.porter import PorterStemmer\n",
    "from nltk.stem import WordNetLemmatizer \n",
    "from gensim import corpora, models  #  to install this package in windows with conda please run: 'models conda install -c conda-forge gensim'\n",
    "nltk.download('wordnet')\n",
    "%matplotlib inline\n",
    "warnings.filterwarnings(\"ignore\",category=DeprecationWarning)\n",
    "logging.basicConfig(format='%(asctime)s : %(levelname)s : %(message)s', level=logging.ERROR)"
   ]
  },
  {
   "cell_type": "markdown",
   "metadata": {},
   "source": [
    "Please download the data '01_df_v013.pickle' in github on  your local machine from  this directory: vorlesung2019/notebooks/yeghaneh/data"
   ]
  },
  {
   "cell_type": "code",
   "execution_count": 2,
   "metadata": {
    "collapsed": true
   },
   "outputs": [],
   "source": [
    "importVersion = '013'  # The  desired version pickle-file of your data (now we are working on version 013 of our data)"
   ]
  },
  {
   "cell_type": "code",
   "execution_count": 3,
   "metadata": {
    "collapsed": true
   },
   "outputs": [],
   "source": [
    "path = '../data/01_df_v{0}.pickle'.format(importVersion)  # Put the path of the data in your local machine here, consider the letter \"r\" before the path"
   ]
  },
  {
   "cell_type": "markdown",
   "metadata": {},
   "source": [
    "### Let's use data \"01_df_v013\" to build a NER system. \n",
    "<font size=\"3\">The data 01_df_v013 is annotated (labeled) data of english version of well-known kepler's book: New Astronomy (Latin: Astronomia nova). You can find that in the repository.\n",
    "             </font>\n"
   ]
  },
  {
   "cell_type": "markdown",
   "metadata": {},
   "source": [
    "## **Read the data** \n",
    "<font size=\"3\">The data  is saves as a pickle file. We read it as a pandas dataFrame. </font>"
   ]
  },
  {
   "cell_type": "code",
   "execution_count": 4,
   "metadata": {},
   "outputs": [],
   "source": [
    "dfAstroNova = pd.read_pickle(path)  # Put the path of the data in your local machine here, consider the letter \"r\" before the path"
   ]
  },
  {
   "cell_type": "markdown",
   "metadata": {},
   "source": [
    "<font size=\"4\"> Sort the data based on the chapters of the book \n",
    "</font>"
   ]
  },
  {
   "cell_type": "code",
   "execution_count": 5,
   "metadata": {},
   "outputs": [],
   "source": [
    "dfAstroNova['chapter'] = dfAstroNova.chapter.replace(\"appendix b\",np.nan).astype(float)  \n",
    "dfAstroNova.sort_values(by='chapter' , inplace=True)\n",
    "dfAstroNova.chapter.fillna('appendix b', inplace=True)"
   ]
  },
  {
   "cell_type": "code",
   "execution_count": 6,
   "metadata": {},
   "outputs": [
    {
     "data": {
      "text/plain": [
       "1605"
      ]
     },
     "execution_count": 6,
     "metadata": {},
     "output_type": "execute_result"
    }
   ],
   "source": [
    "len(dfAstroNova)   # Number of rows."
   ]
  },
  {
   "cell_type": "code",
   "execution_count": 7,
   "metadata": {},
   "outputs": [
    {
     "data": {
      "text/html": [
       "<div>\n",
       "<style scoped>\n",
       "    .dataframe tbody tr th:only-of-type {\n",
       "        vertical-align: middle;\n",
       "    }\n",
       "\n",
       "    .dataframe tbody tr th {\n",
       "        vertical-align: top;\n",
       "    }\n",
       "\n",
       "    .dataframe thead th {\n",
       "        text-align: right;\n",
       "    }\n",
       "</style>\n",
       "<table border=\"1\" class=\"dataframe\">\n",
       "  <thead>\n",
       "    <tr style=\"text-align: right;\">\n",
       "      <th></th>\n",
       "      <th>html</th>\n",
       "      <th>text</th>\n",
       "      <th>links</th>\n",
       "      <th>italic</th>\n",
       "      <th>chapter</th>\n",
       "      <th>graphic</th>\n",
       "      <th>table</th>\n",
       "      <th>marginal</th>\n",
       "      <th>sentences</th>\n",
       "      <th>tagged</th>\n",
       "    </tr>\n",
       "  </thead>\n",
       "  <tbody>\n",
       "    <tr>\n",
       "      <th>18</th>\n",
       "      <td>&lt;p&gt;&lt;span class=\"anchor\" id=\"bookmark0\"&gt;&lt;/span&gt;...</td>\n",
       "      <td>Chapter 1</td>\n",
       "      <td>[]</td>\n",
       "      <td>[]</td>\n",
       "      <td>1</td>\n",
       "      <td>[]</td>\n",
       "      <td>[]</td>\n",
       "      <td>[]</td>\n",
       "      <td>[Chapter 1]</td>\n",
       "      <td>[[(Chapter, None), (1, NUM)]]</td>\n",
       "    </tr>\n",
       "    <tr>\n",
       "      <th>34</th>\n",
       "      <td>&lt;p&gt;But before that, I shall prove in this firs...</td>\n",
       "      <td>But before that, I shall prove in this first p...</td>\n",
       "      <td>[]</td>\n",
       "      <td>[]</td>\n",
       "      <td>1</td>\n",
       "      <td>[]</td>\n",
       "      <td>[]</td>\n",
       "      <td>[]</td>\n",
       "      <td>[But before that, I shall prove in this first ...</td>\n",
       "      <td>[[(But, None), (before, None), (that, None), (...</td>\n",
       "    </tr>\n",
       "    <tr>\n",
       "      <th>33</th>\n",
       "      <td>&lt;p&gt;But since the sun's mean and apparent motio...</td>\n",
       "      <td>But since the sun's mean and apparent motions*...</td>\n",
       "      <td>[]</td>\n",
       "      <td>[Mysterium cosmographicum,]</td>\n",
       "      <td>1</td>\n",
       "      <td>[]</td>\n",
       "      <td>[]</td>\n",
       "      <td>[ Terms: * The sun's apparent position is that...</td>\n",
       "      <td>[But since the sun's mean and apparent motions...</td>\n",
       "      <td>[[(But, None), (since, None), (the, None), (su...</td>\n",
       "    </tr>\n",
       "    <tr>\n",
       "      <th>32</th>\n",
       "      <td>&lt;p&gt;Now the causes and measures of these inequa...</td>\n",
       "      <td>Now the causes and measures of these inequalit...</td>\n",
       "      <td>[]</td>\n",
       "      <td>[]</td>\n",
       "      <td>1</td>\n",
       "      <td>[]</td>\n",
       "      <td>[]</td>\n",
       "      <td>[ 5]</td>\n",
       "      <td>[Now the causes and measures of these inequali...</td>\n",
       "      <td>[[(Now, None), (the, None), (causes, None), (a...</td>\n",
       "    </tr>\n",
       "    <tr>\n",
       "      <th>30</th>\n",
       "      <td>&lt;p&gt;Again, however, it was noticed that these l...</td>\n",
       "      <td>Again, however, it was noticed that these loop...</td>\n",
       "      <td>[]</td>\n",
       "      <td>[]</td>\n",
       "      <td>1</td>\n",
       "      <td>[]</td>\n",
       "      <td>[]</td>\n",
       "      <td>[]</td>\n",
       "      <td>[Again, however, it was noticed that these loo...</td>\n",
       "      <td>[[(Again, None), (however, None), (it, None), ...</td>\n",
       "    </tr>\n",
       "  </tbody>\n",
       "</table>\n",
       "</div>"
      ],
      "text/plain": [
       "                                                 html  \\\n",
       "18  <p><span class=\"anchor\" id=\"bookmark0\"></span>...   \n",
       "34  <p>But before that, I shall prove in this firs...   \n",
       "33  <p>But since the sun's mean and apparent motio...   \n",
       "32  <p>Now the causes and measures of these inequa...   \n",
       "30  <p>Again, however, it was noticed that these l...   \n",
       "\n",
       "                                                 text links  \\\n",
       "18                                          Chapter 1    []   \n",
       "34  But before that, I shall prove in this first p...    []   \n",
       "33  But since the sun's mean and apparent motions*...    []   \n",
       "32  Now the causes and measures of these inequalit...    []   \n",
       "30  Again, however, it was noticed that these loop...    []   \n",
       "\n",
       "                         italic chapter graphic table  \\\n",
       "18                           []       1      []    []   \n",
       "34                           []       1      []    []   \n",
       "33  [Mysterium cosmographicum,]       1      []    []   \n",
       "32                           []       1      []    []   \n",
       "30                           []       1      []    []   \n",
       "\n",
       "                                             marginal  \\\n",
       "18                                                 []   \n",
       "34                                                 []   \n",
       "33  [ Terms: * The sun's apparent position is that...   \n",
       "32                                               [ 5]   \n",
       "30                                                 []   \n",
       "\n",
       "                                            sentences  \\\n",
       "18                                        [Chapter 1]   \n",
       "34  [But before that, I shall prove in this first ...   \n",
       "33  [But since the sun's mean and apparent motions...   \n",
       "32  [Now the causes and measures of these inequali...   \n",
       "30  [Again, however, it was noticed that these loo...   \n",
       "\n",
       "                                               tagged  \n",
       "18                      [[(Chapter, None), (1, NUM)]]  \n",
       "34  [[(But, None), (before, None), (that, None), (...  \n",
       "33  [[(But, None), (since, None), (the, None), (su...  \n",
       "32  [[(Now, None), (the, None), (causes, None), (a...  \n",
       "30  [[(Again, None), (however, None), (it, None), ...  "
      ]
     },
     "execution_count": 7,
     "metadata": {},
     "output_type": "execute_result"
    }
   ],
   "source": [
    "dfAstroNova.head(5)  "
   ]
  },
  {
   "cell_type": "code",
   "execution_count": 8,
   "metadata": {},
   "outputs": [
    {
     "data": {
      "text/html": [
       "<div>\n",
       "<style scoped>\n",
       "    .dataframe tbody tr th:only-of-type {\n",
       "        vertical-align: middle;\n",
       "    }\n",
       "\n",
       "    .dataframe tbody tr th {\n",
       "        vertical-align: top;\n",
       "    }\n",
       "\n",
       "    .dataframe thead th {\n",
       "        text-align: right;\n",
       "    }\n",
       "</style>\n",
       "<table border=\"1\" class=\"dataframe\">\n",
       "  <thead>\n",
       "    <tr style=\"text-align: right;\">\n",
       "      <th></th>\n",
       "      <th>html</th>\n",
       "      <th>text</th>\n",
       "      <th>links</th>\n",
       "      <th>italic</th>\n",
       "      <th>chapter</th>\n",
       "      <th>graphic</th>\n",
       "      <th>table</th>\n",
       "      <th>marginal</th>\n",
       "      <th>sentences</th>\n",
       "      <th>tagged</th>\n",
       "    </tr>\n",
       "  </thead>\n",
       "  <tbody>\n",
       "    <tr>\n",
       "      <th>594</th>\n",
       "      <td>&lt;p&gt;&lt;span class=\"anchor\" id=\"bookmark1\"&gt;&lt;/span&gt;...</td>\n",
       "      <td>Whether the motion from the sun, like its ligh...</td>\n",
       "      <td>[{'#fn1': 'άντίφραχις.↩'}]</td>\n",
       "      <td>[]</td>\n",
       "      <td>35</td>\n",
       "      <td>[]</td>\n",
       "      <td>[]</td>\n",
       "      <td>[]</td>\n",
       "      <td>[Whether the motion from the sun, like its lig...</td>\n",
       "      <td>[[(Whether, None), (the, None), (motion, None)...</td>\n",
       "    </tr>\n",
       "    <tr>\n",
       "      <th>596</th>\n",
       "      <td>&lt;p&gt;And concerning the first, it is worthy of c...</td>\n",
       "      <td>And concerning the first, it is worthy of cons...</td>\n",
       "      <td>[]</td>\n",
       "      <td>[]</td>\n",
       "      <td>35</td>\n",
       "      <td>[]</td>\n",
       "      <td>[]</td>\n",
       "      <td>[]</td>\n",
       "      <td>[And concerning the first, it is worthy of con...</td>\n",
       "      <td>[[(And, None), (concerning, None), (the, None)...</td>\n",
       "    </tr>\n",
       "    <tr>\n",
       "      <th>595</th>\n",
       "      <td>&lt;p&gt;This is a good time for me to take up the o...</td>\n",
       "      <td>This is a good time for me to take up the obje...</td>\n",
       "      <td>[]</td>\n",
       "      <td>[species]</td>\n",
       "      <td>35</td>\n",
       "      <td>[]</td>\n",
       "      <td>[]</td>\n",
       "      <td>[]</td>\n",
       "      <td>[This is a good time for me to take up the obj...</td>\n",
       "      <td>[[(This, None), (is, None), (a, None), (good, ...</td>\n",
       "    </tr>\n",
       "    <tr>\n",
       "      <th>598</th>\n",
       "      <td>&lt;p&gt;But it is answered, first, that the analogy...</td>\n",
       "      <td>But it is answered, first, that the analogy be...</td>\n",
       "      <td>[]</td>\n",
       "      <td>[]</td>\n",
       "      <td>35</td>\n",
       "      <td>[]</td>\n",
       "      <td>[]</td>\n",
       "      <td>[]</td>\n",
       "      <td>[But it is answered, first, that the analogy b...</td>\n",
       "      <td>[[(But, None), (it, None), (is, None), (answer...</td>\n",
       "    </tr>\n",
       "    <tr>\n",
       "      <th>599</th>\n",
       "      <td>&lt;p&gt;On this account I would nearly separate lig...</td>\n",
       "      <td>On this account I would nearly separate light ...</td>\n",
       "      <td>[]</td>\n",
       "      <td>[]</td>\n",
       "      <td>35</td>\n",
       "      <td>[]</td>\n",
       "      <td>[]</td>\n",
       "      <td>[]</td>\n",
       "      <td>[On this account I would nearly separate light...</td>\n",
       "      <td>[[(On, None), (this, None), (account, None), (...</td>\n",
       "    </tr>\n",
       "  </tbody>\n",
       "</table>\n",
       "</div>"
      ],
      "text/plain": [
       "                                                  html  \\\n",
       "594  <p><span class=\"anchor\" id=\"bookmark1\"></span>...   \n",
       "596  <p>And concerning the first, it is worthy of c...   \n",
       "595  <p>This is a good time for me to take up the o...   \n",
       "598  <p>But it is answered, first, that the analogy...   \n",
       "599  <p>On this account I would nearly separate lig...   \n",
       "\n",
       "                                                  text  \\\n",
       "594  Whether the motion from the sun, like its ligh...   \n",
       "596  And concerning the first, it is worthy of cons...   \n",
       "595  This is a good time for me to take up the obje...   \n",
       "598  But it is answered, first, that the analogy be...   \n",
       "599  On this account I would nearly separate light ...   \n",
       "\n",
       "                          links     italic chapter graphic table marginal  \\\n",
       "594  [{'#fn1': 'άντίφραχις.↩'}]         []      35      []    []       []   \n",
       "596                          []         []      35      []    []       []   \n",
       "595                          []  [species]      35      []    []       []   \n",
       "598                          []         []      35      []    []       []   \n",
       "599                          []         []      35      []    []       []   \n",
       "\n",
       "                                             sentences  \\\n",
       "594  [Whether the motion from the sun, like its lig...   \n",
       "596  [And concerning the first, it is worthy of con...   \n",
       "595  [This is a good time for me to take up the obj...   \n",
       "598  [But it is answered, first, that the analogy b...   \n",
       "599  [On this account I would nearly separate light...   \n",
       "\n",
       "                                                tagged  \n",
       "594  [[(Whether, None), (the, None), (motion, None)...  \n",
       "596  [[(And, None), (concerning, None), (the, None)...  \n",
       "595  [[(This, None), (is, None), (a, None), (good, ...  \n",
       "598  [[(But, None), (it, None), (is, None), (answer...  \n",
       "599  [[(On, None), (this, None), (account, None), (...  "
      ]
     },
     "execution_count": 8,
     "metadata": {},
     "output_type": "execute_result"
    }
   ],
   "source": [
    "dfAstroNova[740:745]"
   ]
  },
  {
   "cell_type": "code",
   "execution_count": 9,
   "metadata": {},
   "outputs": [
    {
     "data": {
      "text/html": [
       "<div>\n",
       "<style scoped>\n",
       "    .dataframe tbody tr th:only-of-type {\n",
       "        vertical-align: middle;\n",
       "    }\n",
       "\n",
       "    .dataframe tbody tr th {\n",
       "        vertical-align: top;\n",
       "    }\n",
       "\n",
       "    .dataframe thead th {\n",
       "        text-align: right;\n",
       "    }\n",
       "</style>\n",
       "<table border=\"1\" class=\"dataframe\">\n",
       "  <thead>\n",
       "    <tr style=\"text-align: right;\">\n",
       "      <th></th>\n",
       "      <th>html</th>\n",
       "      <th>text</th>\n",
       "      <th>links</th>\n",
       "      <th>italic</th>\n",
       "      <th>chapter</th>\n",
       "      <th>graphic</th>\n",
       "      <th>table</th>\n",
       "      <th>marginal</th>\n",
       "      <th>sentences</th>\n",
       "      <th>tagged</th>\n",
       "    </tr>\n",
       "  </thead>\n",
       "  <tbody>\n",
       "    <tr>\n",
       "      <th>1568</th>\n",
       "      <td>&lt;p&gt;{marginal: The words of the observation hav...</td>\n",
       "      <td>Consider whether the meaning could be this: t...</td>\n",
       "      <td>[]</td>\n",
       "      <td>[]</td>\n",
       "      <td>70</td>\n",
       "      <td>[]</td>\n",
       "      <td>[]</td>\n",
       "      <td>[ The words of the observation have their comm...</td>\n",
       "      <td>[Consider whether the meaning could be this: t...</td>\n",
       "      <td>[[(Consider, None), (whether, None), (the, Non...</td>\n",
       "    </tr>\n",
       "    <tr>\n",
       "      <th>1569</th>\n",
       "      <td>&lt;p&gt;This interpretation is furthered by the obs...</td>\n",
       "      <td>This interpretation is furthered by the observ...</td>\n",
       "      <td>[]</td>\n",
       "      <td>[]</td>\n",
       "      <td>70</td>\n",
       "      <td>[]</td>\n",
       "      <td>[]</td>\n",
       "      <td>[]</td>\n",
       "      <td>[This interpretation is furthered by the obser...</td>\n",
       "      <td>[[(This, None), (interpretation, None), (is, N...</td>\n",
       "    </tr>\n",
       "    <tr>\n",
       "      <th>0</th>\n",
       "      <td>&lt;p&gt;Appendix B&lt;/p&gt;</td>\n",
       "      <td>Appendix B</td>\n",
       "      <td>[]</td>\n",
       "      <td>[]</td>\n",
       "      <td>appendix b</td>\n",
       "      <td>[]</td>\n",
       "      <td>[]</td>\n",
       "      <td>[]</td>\n",
       "      <td>[Appendix B]</td>\n",
       "      <td>[[(Appendix, None), (B, None)]]</td>\n",
       "    </tr>\n",
       "    <tr>\n",
       "      <th>1</th>\n",
       "      <td>&lt;p&gt;&lt;span class=\"anchor\" id=\"bookmark0\"&gt;&lt;/span&gt;...</td>\n",
       "      <td>On the Table of Oppositions in Chapter 15</td>\n",
       "      <td>[]</td>\n",
       "      <td>[]</td>\n",
       "      <td>appendix b</td>\n",
       "      <td>[]</td>\n",
       "      <td>[]</td>\n",
       "      <td>[]</td>\n",
       "      <td>[On the Table of Oppositions in Chapter 15]</td>\n",
       "      <td>[[(On, None), (the, None), (Table, None), (of,...</td>\n",
       "    </tr>\n",
       "    <tr>\n",
       "      <th>2</th>\n",
       "      <td>&lt;p&gt;by Yaakov Zik &lt;span style=\"font-variant: sm...</td>\n",
       "      <td>by Yaakov Zik Table i:</td>\n",
       "      <td>[]</td>\n",
       "      <td>[]</td>\n",
       "      <td>appendix b</td>\n",
       "      <td>[]</td>\n",
       "      <td>[]</td>\n",
       "      <td>[]</td>\n",
       "      <td>[by Yaakov Zik Table i:]</td>\n",
       "      <td>[[(by, None), (Yaakov, None), (Zik, None), (Ta...</td>\n",
       "    </tr>\n",
       "  </tbody>\n",
       "</table>\n",
       "</div>"
      ],
      "text/plain": [
       "                                                   html  \\\n",
       "1568  <p>{marginal: The words of the observation hav...   \n",
       "1569  <p>This interpretation is furthered by the obs...   \n",
       "0                                     <p>Appendix B</p>   \n",
       "1     <p><span class=\"anchor\" id=\"bookmark0\"></span>...   \n",
       "2     <p>by Yaakov Zik <span style=\"font-variant: sm...   \n",
       "\n",
       "                                                   text links italic  \\\n",
       "1568   Consider whether the meaning could be this: t...    []     []   \n",
       "1569  This interpretation is furthered by the observ...    []     []   \n",
       "0                                            Appendix B    []     []   \n",
       "1             On the Table of Oppositions in Chapter 15    []     []   \n",
       "2                                by Yaakov Zik Table i:    []     []   \n",
       "\n",
       "         chapter graphic table  \\\n",
       "1568          70      []    []   \n",
       "1569          70      []    []   \n",
       "0     appendix b      []    []   \n",
       "1     appendix b      []    []   \n",
       "2     appendix b      []    []   \n",
       "\n",
       "                                               marginal  \\\n",
       "1568  [ The words of the observation have their comm...   \n",
       "1569                                                 []   \n",
       "0                                                    []   \n",
       "1                                                    []   \n",
       "2                                                    []   \n",
       "\n",
       "                                              sentences  \\\n",
       "1568  [Consider whether the meaning could be this: t...   \n",
       "1569  [This interpretation is furthered by the obser...   \n",
       "0                                          [Appendix B]   \n",
       "1           [On the Table of Oppositions in Chapter 15]   \n",
       "2                              [by Yaakov Zik Table i:]   \n",
       "\n",
       "                                                 tagged  \n",
       "1568  [[(Consider, None), (whether, None), (the, Non...  \n",
       "1569  [[(This, None), (interpretation, None), (is, N...  \n",
       "0                       [[(Appendix, None), (B, None)]]  \n",
       "1     [[(On, None), (the, None), (Table, None), (of,...  \n",
       "2     [[(by, None), (Yaakov, None), (Zik, None), (Ta...  "
      ]
     },
     "execution_count": 9,
     "metadata": {},
     "output_type": "execute_result"
    }
   ],
   "source": [
    "dfAstroNova[1585:1590]"
   ]
  },
  {
   "cell_type": "code",
   "execution_count": 10,
   "metadata": {},
   "outputs": [
    {
     "data": {
      "text/html": [
       "<div>\n",
       "<style scoped>\n",
       "    .dataframe tbody tr th:only-of-type {\n",
       "        vertical-align: middle;\n",
       "    }\n",
       "\n",
       "    .dataframe tbody tr th {\n",
       "        vertical-align: top;\n",
       "    }\n",
       "\n",
       "    .dataframe thead th {\n",
       "        text-align: right;\n",
       "    }\n",
       "</style>\n",
       "<table border=\"1\" class=\"dataframe\">\n",
       "  <thead>\n",
       "    <tr style=\"text-align: right;\">\n",
       "      <th></th>\n",
       "      <th>html</th>\n",
       "      <th>text</th>\n",
       "      <th>links</th>\n",
       "      <th>italic</th>\n",
       "      <th>chapter</th>\n",
       "      <th>graphic</th>\n",
       "      <th>table</th>\n",
       "      <th>marginal</th>\n",
       "      <th>sentences</th>\n",
       "      <th>tagged</th>\n",
       "    </tr>\n",
       "  </thead>\n",
       "  <tbody>\n",
       "    <tr>\n",
       "      <th>13</th>\n",
       "      <td>&lt;p&gt;{table: appendix B t 2}&lt;/p&gt;</td>\n",
       "      <td></td>\n",
       "      <td>[]</td>\n",
       "      <td>[]</td>\n",
       "      <td>appendix b</td>\n",
       "      <td>[]</td>\n",
       "      <td>[ appendix B t 2]</td>\n",
       "      <td>[]</td>\n",
       "      <td>[]</td>\n",
       "      <td>[]</td>\n",
       "    </tr>\n",
       "    <tr>\n",
       "      <th>14</th>\n",
       "      <td>&lt;p&gt;Kepler's table, for comparison {table: appe...</td>\n",
       "      <td>Kepler's table, for comparison</td>\n",
       "      <td>[]</td>\n",
       "      <td>[]</td>\n",
       "      <td>appendix b</td>\n",
       "      <td>[]</td>\n",
       "      <td>[ appendix B t 3]</td>\n",
       "      <td>[]</td>\n",
       "      <td>[Kepler's table, for comparison]</td>\n",
       "      <td>[[(Kepler, None), (s, None), (table, None), (f...</td>\n",
       "    </tr>\n",
       "    <tr>\n",
       "      <th>15</th>\n",
       "      <td>&lt;p&gt;Mars from Earth to be a little greater than...</td>\n",
       "      <td>Mars from Earth to be a little greater than ha...</td>\n",
       "      <td>[{'#fn6': '\n",
       "Kepler's observations yield topoce...</td>\n",
       "      <td>[]</td>\n",
       "      <td>appendix b</td>\n",
       "      <td>[]</td>\n",
       "      <td>[]</td>\n",
       "      <td>[]</td>\n",
       "      <td>[Mars from Earth to be a little greater than h...</td>\n",
       "      <td>[[(Mars, None), (from, None), (Earth, None), (...</td>\n",
       "    </tr>\n",
       "    <tr>\n",
       "      <th>16</th>\n",
       "      <td>&lt;p&gt;&lt;img height=\"300\" src=\"media/image1.jpeg\" w...</td>\n",
       "      <td>As shown in Figure 2B, the Sun is assumed to ...</td>\n",
       "      <td>[]</td>\n",
       "      <td>[]</td>\n",
       "      <td>appendix b</td>\n",
       "      <td>[ appendix b gr 1]</td>\n",
       "      <td>[]</td>\n",
       "      <td>[]</td>\n",
       "      <td>[As shown in Figure 2B, the Sun is assumed to ...</td>\n",
       "      <td>[[(As, None), (shown, None), (in, None), (Figu...</td>\n",
       "    </tr>\n",
       "    <tr>\n",
       "      <th>17</th>\n",
       "      <td>&lt;p&gt;The Sun moved westward and its longitude de...</td>\n",
       "      <td>The Sun moved westward and its longitude decre...</td>\n",
       "      <td>[]</td>\n",
       "      <td>[4&lt;sup&gt;h&lt;/sup&gt; 23&lt;sup&gt;m &lt;/sup&gt;]</td>\n",
       "      <td>appendix b</td>\n",
       "      <td>[]</td>\n",
       "      <td>[]</td>\n",
       "      <td>[]</td>\n",
       "      <td>[The Sun moved westward and its longitude decr...</td>\n",
       "      <td>[[(The, None), (Sun, None), (moved, None), (we...</td>\n",
       "    </tr>\n",
       "  </tbody>\n",
       "</table>\n",
       "</div>"
      ],
      "text/plain": [
       "                                                 html  \\\n",
       "13                     <p>{table: appendix B t 2}</p>   \n",
       "14  <p>Kepler's table, for comparison {table: appe...   \n",
       "15  <p>Mars from Earth to be a little greater than...   \n",
       "16  <p><img height=\"300\" src=\"media/image1.jpeg\" w...   \n",
       "17  <p>The Sun moved westward and its longitude de...   \n",
       "\n",
       "                                                 text  \\\n",
       "13                                                      \n",
       "14                    Kepler's table, for comparison    \n",
       "15  Mars from Earth to be a little greater than ha...   \n",
       "16   As shown in Figure 2B, the Sun is assumed to ...   \n",
       "17  The Sun moved westward and its longitude decre...   \n",
       "\n",
       "                                                links  \\\n",
       "13                                                 []   \n",
       "14                                                 []   \n",
       "15  [{'#fn6': '\n",
       "Kepler's observations yield topoce...   \n",
       "16                                                 []   \n",
       "17                                                 []   \n",
       "\n",
       "                             italic     chapter             graphic  \\\n",
       "13                               []  appendix b                  []   \n",
       "14                               []  appendix b                  []   \n",
       "15                               []  appendix b                  []   \n",
       "16                               []  appendix b  [ appendix b gr 1]   \n",
       "17  [4<sup>h</sup> 23<sup>m </sup>]  appendix b                  []   \n",
       "\n",
       "                table marginal  \\\n",
       "13  [ appendix B t 2]       []   \n",
       "14  [ appendix B t 3]       []   \n",
       "15                 []       []   \n",
       "16                 []       []   \n",
       "17                 []       []   \n",
       "\n",
       "                                            sentences  \\\n",
       "13                                                 []   \n",
       "14                   [Kepler's table, for comparison]   \n",
       "15  [Mars from Earth to be a little greater than h...   \n",
       "16  [As shown in Figure 2B, the Sun is assumed to ...   \n",
       "17  [The Sun moved westward and its longitude decr...   \n",
       "\n",
       "                                               tagged  \n",
       "13                                                 []  \n",
       "14  [[(Kepler, None), (s, None), (table, None), (f...  \n",
       "15  [[(Mars, None), (from, None), (Earth, None), (...  \n",
       "16  [[(As, None), (shown, None), (in, None), (Figu...  \n",
       "17  [[(The, None), (Sun, None), (moved, None), (we...  "
      ]
     },
     "execution_count": 10,
     "metadata": {},
     "output_type": "execute_result"
    }
   ],
   "source": [
    "dfAstroNova.tail(5)"
   ]
  },
  {
   "cell_type": "markdown",
   "metadata": {},
   "source": [
    "## **Primary Data Exploration**"
   ]
  },
  {
   "cell_type": "code",
   "execution_count": 11,
   "metadata": {},
   "outputs": [
    {
     "data": {
      "text/plain": [
       "\"The time is measured from midnight; Gregorian dates are obtained by adding 10 days to Kepler's dates. The dates are given in old style.\""
      ]
     },
     "execution_count": 11,
     "metadata": {},
     "output_type": "execute_result"
    }
   ],
   "source": [
    "\n",
    "dfAstroNova[\"text\"][5]    # 5th row of the data in the format of text "
   ]
  },
  {
   "cell_type": "code",
   "execution_count": 12,
   "metadata": {},
   "outputs": [
    {
     "data": {
      "text/plain": [
       "[[('The', 'None'),\n",
       "  ('time', 'None'),\n",
       "  ('is', 'None'),\n",
       "  ('measured', 'None'),\n",
       "  ('from', 'None'),\n",
       "  ('midnight', 'None'),\n",
       "  ('Gregorian', 'None'),\n",
       "  ('dates', 'None'),\n",
       "  ('are', 'None'),\n",
       "  ('obtained', 'None'),\n",
       "  ('by', 'None'),\n",
       "  ('adding', 'None'),\n",
       "  ('10', 'NUM'),\n",
       "  ('days', 'None'),\n",
       "  ('to', 'None'),\n",
       "  ('Kepler', 'None'),\n",
       "  ('s', 'None'),\n",
       "  ('dates', 'None')],\n",
       " [('The', 'None'),\n",
       "  ('dates', 'None'),\n",
       "  ('are', 'None'),\n",
       "  ('given', 'None'),\n",
       "  ('in', 'None'),\n",
       "  ('old', 'None'),\n",
       "  ('style', 'None')]]"
      ]
     },
     "execution_count": 12,
     "metadata": {},
     "output_type": "execute_result"
    }
   ],
   "source": [
    "dfAstroNova[\"tagged\"][5] # 5th row of the data in a format (token, label). A list of lists of tuples! later position tags of the token will be added to each tuple. the tokens are chosen before by some rules."
   ]
  },
  {
   "cell_type": "code",
   "execution_count": 12,
   "metadata": {},
   "outputs": [],
   "source": [
    "dfAstroNova= dfAstroNova.loc[dfAstroNova.chapter==15]"
   ]
  },
  {
   "cell_type": "code",
   "execution_count": 13,
   "metadata": {},
   "outputs": [
    {
     "data": {
      "text/plain": [
       "251"
      ]
     },
     "execution_count": 13,
     "metadata": {},
     "output_type": "execute_result"
    }
   ],
   "source": [
    " df = sum(dfAstroNova['tagged'], [])  # Flatt the data by removing first lists\n",
    "len(df)"
   ]
  },
  {
   "cell_type": "code",
   "execution_count": 14,
   "metadata": {},
   "outputs": [
    {
     "data": {
      "text/plain": [
       "[('Subtracting', 'None'),\n",
       " ('this', 'None'),\n",
       " ('from', 'None'),\n",
       " ('11', 'NUM'),\n",
       " ('hours', 'None'),\n",
       " ('30', 'NUM'),\n",
       " ('minutes', 'None'),\n",
       " ('gives', 'None'),\n",
       " ('December 28 ', 'DATE'),\n",
       " ('at', 'None'),\n",
       " ('3h 58m', 'TIME'),\n",
       " ('after', 'None'),\n",
       " ('noon', 'None'),\n",
       " ('as', 'None'),\n",
       " ('the', 'None'),\n",
       " ('moment', 'None'),\n",
       " ('of', 'None'),\n",
       " ('true', 'None'),\n",
       " ('opposition', 'None')]"
      ]
     },
     "execution_count": 14,
     "metadata": {},
     "output_type": "execute_result"
    }
   ],
   "source": [
    "df[5]  "
   ]
  },
  {
   "cell_type": "code",
   "execution_count": 15,
   "metadata": {},
   "outputs": [],
   "source": [
    "df_flatten = sum(df,[])  # Flatt the data by removing the second list\n"
   ]
  },
  {
   "cell_type": "code",
   "execution_count": 16,
   "metadata": {},
   "outputs": [
    {
     "data": {
      "text/plain": [
       "[('On', 'None'),\n",
       " ('the', 'None'),\n",
       " ('night', 'None'),\n",
       " ('following', 'None'),\n",
       " ('1582 December 28', 'DATE'),\n",
       " ('at', 'None'),\n",
       " ('11h 30m', 'TIME'),\n",
       " ('Mars', 'None'),\n",
       " ('was', 'None'),\n",
       " ('observed', 'None'),\n",
       " ('at', 'None'),\n",
       " (\"16° 47' Cancer\", 'COORD'),\n",
       " ('6', 'NUM'),\n",
       " ('while', 'None'),\n",
       " ('the', 'None'),\n",
       " ('true', 'None'),\n",
       " ('position', 'None'),\n",
       " ('of', 'None'),\n",
       " ('the', 'None'),\n",
       " ('sun', 'None')]"
      ]
     },
     "execution_count": 16,
     "metadata": {},
     "output_type": "execute_result"
    }
   ],
   "source": [
    "df_flatten[0:20]  # Here we have tokens (entities) with their labels"
   ]
  },
  {
   "cell_type": "code",
   "execution_count": 17,
   "metadata": {},
   "outputs": [
    {
     "data": {
      "text/plain": [
       "4364"
      ]
     },
     "execution_count": 17,
     "metadata": {},
     "output_type": "execute_result"
    }
   ],
   "source": [
    "len(df_flatten)  # Number of all tokens (roughly speaking all words or entities)"
   ]
  },
  {
   "cell_type": "code",
   "execution_count": 18,
   "metadata": {},
   "outputs": [],
   "source": [
    "\n",
    "tokens = [x[0] for x in df_flatten]  # Extract the tokens for further use in the frequency plot"
   ]
  },
  {
   "cell_type": "code",
   "execution_count": 19,
   "metadata": {},
   "outputs": [],
   "source": [
    "labels=([x[1] for x in df_flatten])  # Extract the labels for further use in the frequency plot"
   ]
  },
  {
   "cell_type": "code",
   "execution_count": 20,
   "metadata": {},
   "outputs": [
    {
     "data": {
      "text/plain": [
       "['On', 'the', 'night', 'following', '1582 December 28']"
      ]
     },
     "execution_count": 20,
     "metadata": {},
     "output_type": "execute_result"
    }
   ],
   "source": [
    "tokens[0:5]"
   ]
  },
  {
   "cell_type": "code",
   "execution_count": 21,
   "metadata": {},
   "outputs": [
    {
     "data": {
      "text/plain": [
       "['None', 'None', 'None', 'None', 'DATE']"
      ]
     },
     "execution_count": 21,
     "metadata": {},
     "output_type": "execute_result"
    }
   ],
   "source": [
    "labels[0:5]"
   ]
  },
  {
   "cell_type": "markdown",
   "metadata": {},
   "source": [
    "## **Visualization**"
   ]
  },
  {
   "cell_type": "markdown",
   "metadata": {},
   "source": [
    "### Frequency plot of all words in all chapter of book"
   ]
  },
  {
   "cell_type": "markdown",
   "metadata": {},
   "source": [
    "<font size=\"3\">\n",
    "Frequency plot of all tokens in text, as you see there is a lot 'the', 'of',... in text, they normally consider as noise, we will back to that later.\n",
    "<font/>"
   ]
  },
  {
   "cell_type": "code",
   "execution_count": 22,
   "metadata": {},
   "outputs": [
    {
     "data": {
      "image/png": "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\n",
      "text/plain": [
       "<Figure size 1800x360 with 1 Axes>"
      ]
     },
     "metadata": {
      "needs_background": "light"
     },
     "output_type": "display_data"
    }
   ],
   "source": [
    "freqdist = nltk.FreqDist(tokens)\n",
    "plt.figure(figsize=(25,5))\n",
    "freqdist.plot(100, title='Frequency plot of words')\n"
   ]
  },
  {
   "cell_type": "code",
   "execution_count": 23,
   "metadata": {},
   "outputs": [],
   "source": [
    "stop_words=[\"the\", \"of\", \"is\", \"to\", \"and\",\"in\", \"be\", \"at\", \"that\", \"from\", \"it\", \"a\", \"as\",\"this\", \"was\" ] # we can consider these as stop words or we can use nltk stop words."
   ]
  },
  {
   "cell_type": "code",
   "execution_count": 24,
   "metadata": {},
   "outputs": [],
   "source": [
    "# nltk stop words\n",
    "from nltk.corpus import stopwords\n",
    "stop_words=set(stopwords.words('english'))\n",
    "stop_words=stop_words.union(['I', 'And', 'For', 'A', 'The'])\n",
    "#stop_words_nltk = set(stop_words)\n",
    "\n",
    "# List of nltk stop words {‘ourselves’, ‘hers’, ‘between’, ‘yourself’, ‘but’, ‘again’, ‘there’, ‘about’, ‘once’, ‘during’, ‘out’, ‘very’, ‘having’, ‘with’, ‘they’, ‘own’, ‘an’, ‘be’, ‘some’, ‘for’, ‘do’, ‘its’, ‘yours’, ‘such’, ‘into’, ‘of’, ‘most’, ‘itself’, ‘other’, ‘off’, ‘is’, ‘s’, ‘am’, ‘or’, ‘who’, ‘as’, ‘from’, ‘him’, ‘each’, ‘the’, ‘themselves’, ‘until’, ‘below’, ‘are’, ‘we’, ‘these’, ‘your’, ‘his’, ‘through’, ‘don’, ‘nor’, ‘me’, ‘were’, ‘her’, ‘more’, ‘himself’, ‘this’, ‘down’, ‘should’, ‘our’, ‘their’, ‘while’, ‘above’, ‘both’, ‘up’, ‘to’, ‘ours’, ‘had’, ‘she’, ‘all’, ‘no’, ‘when’, ‘at’, ‘any’, ‘before’, ‘them’, ‘same’, ‘and’, ‘been’, ‘have’, ‘in’, ‘will’, ‘on’, ‘does’, ‘yourselves’, ‘then’, ‘that’, ‘because’, ‘what’, ‘over’, ‘why’, ‘so’, ‘can’, ‘did’, ‘not’, ‘now’, ‘under’, ‘he’, ‘you’, ‘herself’, ‘has’, ‘just’, ‘where’, ‘too’, ‘only’, ‘myself’, ‘which’, ‘those’, ‘i’, ‘after’, ‘few’, ‘whom’, ‘t’, ‘being’, ‘if’, ‘theirs’, ‘my’, ‘against’, ‘a’, ‘by’, ‘doing’, ‘it’, ‘how’, ‘further’, ‘was’, ‘here’, ‘than’} \n"
   ]
  },
  {
   "cell_type": "markdown",
   "metadata": {},
   "source": [
    "<font size=\"3\">\n",
    "We can consider these words like 'the', 'of',... as noises. so we temporary remove those! \n",
    "<font/>"
   ]
  },
  {
   "cell_type": "code",
   "execution_count": 25,
   "metadata": {},
   "outputs": [],
   "source": [
    "new_tokens = []     \n",
    "for w in tokens:\n",
    "    if w not in stop_words: new_tokens.append(w)      "
   ]
  },
  {
   "cell_type": "markdown",
   "metadata": {},
   "source": [
    "### Frequency plot of all words in all chapter of book after removing the stop words"
   ]
  },
  {
   "cell_type": "markdown",
   "metadata": {},
   "source": [
    "<font size=\"3\">\n",
    "It shows word \"sun\" is most common word.  We can also see the word Mars, planet, eccentric as common words in the book \n",
    "<font/>"
   ]
  },
  {
   "cell_type": "code",
   "execution_count": 26,
   "metadata": {},
   "outputs": [
    {
     "data": {
      "image/png": "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\n",
      "text/plain": [
       "<Figure size 1800x360 with 1 Axes>"
      ]
     },
     "metadata": {
      "needs_background": "light"
     },
     "output_type": "display_data"
    }
   ],
   "source": [
    "freqdist = nltk.FreqDist(new_tokens) \n",
    "plt.figure(figsize=(25,5)) \n",
    "freqdist.plot(100, title='Frequency plot of words after removing noise')"
   ]
  },
  {
   "cell_type": "markdown",
   "metadata": {},
   "source": [
    "<font size=\"4\">\n",
    "Do we need more insight than frequency plot of word for see content of the book? the question is answered by the follwoing cells through investigation of \"topic modelling\"\n",
    "<font/>"
   ]
  },
  {
   "cell_type": "markdown",
   "metadata": {},
   "source": [
    "## **Topic Modelling by LDA**"
   ]
  },
  {
   "cell_type": "markdown",
   "metadata": {},
   "source": [
    " Here you see an structured workflow to build an insightful \"topic model\" based on the Latent Dirichlet Allocation (LDA) algorithm,  modeled as Dirichlet distributions Dir(α).\n",
    " For more detail you can read: <p>\n",
    "http://www.jmlr.org/papers/volume3/blei03a/blei03a.pdf\n",
    "    </p>"
   ]
  },
  {
   "cell_type": "markdown",
   "metadata": {},
   "source": [
    "### **Pre-processing**"
   ]
  },
  {
   "cell_type": "markdown",
   "metadata": {},
   "source": [
    "<font size=\"3\">\n",
    "Since we alreay tokenized the text (split text into  word without punctuation) and removed stopwrods, we only need to **lemmatize** and **stemm** the tokens.\n",
    "<font/>"
   ]
  },
  {
   "cell_type": "code",
   "execution_count": 27,
   "metadata": {},
   "outputs": [],
   "source": [
    "mytext = nltk.Text(new_tokens) "
   ]
  },
  {
   "cell_type": "markdown",
   "metadata": {},
   "source": [
    "#### Lemmatization "
   ]
  },
  {
   "cell_type": "markdown",
   "metadata": {},
   "source": [
    "<font size=\"3\">\n",
    "Lemmatization, takes into consideration the morphological analysis of the words. For instance  \"do\", \"does\", \"did\" and \"doing\" are forms of the same lexeme with \"do\" as the lemma. Another example would be  \"car\", \"cars\", \"automobile\"\n",
    "<font/>"
   ]
  },
  {
   "cell_type": "code",
   "execution_count": 28,
   "metadata": {},
   "outputs": [],
   "source": [
    "#lemmatization\n",
    "w_lemmatize= WordNetLemmatizer()\n",
    "my_text_lemmatize = [w_lemmatize.lemmatize(word) for word in mytext]\n"
   ]
  },
  {
   "cell_type": "markdown",
   "metadata": {},
   "source": [
    "#### Stemming"
   ]
  },
  {
   "cell_type": "markdown",
   "metadata": {},
   "source": [
    "<font size=\"3\">\n",
    "Stemming algorithms work by cutting off the end or the beginning of the word, by taking into account a list of common prefixes and suffixes. It reduces words to their word stem or root form. For instance, stemming for root word \"like\" include:\"likes\", \"liked\", \"likely\", \"liking\n",
    "<font size=/>"
   ]
  },
  {
   "cell_type": "markdown",
   "metadata": {},
   "source": [
    "# stemming \n",
    "p_stemmers=PorterStemmer()  \n",
    "my_text_lemm_stemmer = [p_stemmers.stem(word) for word in my_text_lemmatize]"
   ]
  },
  {
   "cell_type": "code",
   "execution_count": 30,
   "metadata": {},
   "outputs": [],
   "source": [
    "my_text_lemmatize=[my_text_lemmatize] #make a list of list"
   ]
  },
  {
   "cell_type": "markdown",
   "metadata": {},
   "source": [
    "#### Select a document to preview after preprocessing."
   ]
  },
  {
   "cell_type": "code",
   "execution_count": null,
   "metadata": {},
   "outputs": [],
   "source": []
  },
  {
   "cell_type": "code",
   "execution_count": 31,
   "metadata": {},
   "outputs": [],
   "source": [
    "Dic=corpora.Dictionary(my_text_lemmatize)"
   ]
  },
  {
   "cell_type": "markdown",
   "metadata": {},
   "source": [
    "### **Bag of Words on the Data set**"
   ]
  },
  {
   "cell_type": "markdown",
   "metadata": {},
   "source": [
    "<font size=\"4\">\n",
    "Our dictionary must be converted to \"bag of word\". Frequency of occurrence of each word is used as a feature for training a classifier. It means it should contain the number of times a word appears\n",
    "<font size>"
   ]
  },
  {
   "cell_type": "code",
   "execution_count": 33,
   "metadata": {},
   "outputs": [],
   "source": [
    "corpus = [Dic.doc2bow(text) for text in my_text_lemmatize]"
   ]
  },
  {
   "cell_type": "markdown",
   "metadata": {},
   "source": [
    "#### Running LDA using Bag of Words**"
   ]
  },
  {
   "cell_type": "code",
   "execution_count": 41,
   "metadata": {},
   "outputs": [],
   "source": [
    "ldamodel =models.ldamodel.LdaModel(corpus, num_topics=3,  id2word = Dic, passes=2, iterations=15)"
   ]
  },
  {
   "cell_type": "code",
   "execution_count": 42,
   "metadata": {},
   "outputs": [],
   "source": [
    "lda_topics=ldamodel.print_topics()"
   ]
  },
  {
   "cell_type": "code",
   "execution_count": 43,
   "metadata": {},
   "outputs": [
    {
     "data": {
      "text/plain": [
       "[(0,\n",
       "  '0.023*\"Mars\" + 0.015*\"latitude\" + 0.013*\"sun\" + 0.010*\"position\" + 0.008*\"parallax\" + 0.008*\"motion\" + 0.008*\"distance\" + 0.007*\"star\" + 0.007*\"hour\" + 0.006*\"opposition\"'),\n",
       " (1,\n",
       "  '0.023*\"Mars\" + 0.011*\"latitude\" + 0.010*\"position\" + 0.008*\"sun\" + 0.007*\"star\" + 0.006*\"distance\" + 0.006*\"parallax\" + 0.006*\"diurnal\" + 0.006*\"Therefore\" + 0.006*\"motion\"'),\n",
       " (2,\n",
       "  '0.030*\"Mars\" + 0.019*\"latitude\" + 0.014*\"position\" + 0.013*\"sun\" + 0.011*\"parallax\" + 0.010*\"motion\" + 0.009*\"star\" + 0.009*\"diurnal\" + 0.008*\"day\" + 0.008*\"opposition\"')]"
      ]
     },
     "execution_count": 43,
     "metadata": {},
     "output_type": "execute_result"
    }
   ],
   "source": [
    "lda_topics"
   ]
  },
  {
   "cell_type": "code",
   "execution_count": 44,
   "metadata": {},
   "outputs": [
    {
     "name": "stderr",
     "output_type": "stream",
     "text": [
      "C:\\Users\\moha\\Anaconda3\\lib\\site-packages\\pyLDAvis\\_prepare.py:257: FutureWarning: Sorting because non-concatenation axis is not aligned. A future version\n",
      "of pandas will change to not sort by default.\n",
      "\n",
      "To accept the future behavior, pass 'sort=False'.\n",
      "\n",
      "To retain the current behavior and silence the warning, pass 'sort=True'.\n",
      "\n",
      "  return pd.concat([default_term_info] + list(topic_dfs))\n"
     ]
    }
   ],
   "source": [
    "import pyLDAvis.gensim\n",
    "import gensim\n",
    "pyLDAvis.enable_notebook()\n",
    "vis = pyLDAvis.gensim.prepare(ldamodel, corpus, Dic)\n"
   ]
  },
  {
   "cell_type": "markdown",
   "metadata": {},
   "source": [
    "# Topic Modelling of chapter 5 "
   ]
  },
  {
   "cell_type": "code",
   "execution_count": 38,
   "metadata": {},
   "outputs": [
    {
     "data": {
      "text/html": [
       "\n",
       "<link rel=\"stylesheet\" type=\"text/css\" href=\"https://cdn.rawgit.com/bmabey/pyLDAvis/files/ldavis.v1.0.0.css\">\n",
       "\n",
       "\n",
       "<div id=\"ldavis_el98801861910553368741132909\"></div>\n",
       "<script type=\"text/javascript\">\n",
       "\n",
       "var ldavis_el98801861910553368741132909_data = {\"mdsDat\": {\"x\": [-0.008620724779322846, 0.00047766783270394993, 0.0081430569466189], \"y\": [-0.0, -0.0, -0.0], \"topics\": [1, 2, 3], \"cluster\": [1, 1, 1], \"Freq\": [99.94888305664062, 0.026144370436668396, 0.02497347816824913]}, \"tinfo\": {\"Category\": [\"Default\", \"Default\", \"Default\", \"Default\", \"Default\", \"Default\", \"Default\", \"Default\", \"Default\", \"Default\", \"Default\", \"Default\", \"Default\", \"Default\", \"Default\", \"Default\", \"Default\", \"Default\", \"Default\", \"Default\", \"Default\", \"Default\", \"Default\", \"Default\", \"Default\", \"Default\", \"Default\", \"Default\", \"Default\", \"Default\", \"Topic1\", \"Topic1\", \"Topic1\", \"Topic1\", \"Topic1\", \"Topic1\", \"Topic1\", \"Topic1\", \"Topic1\", \"Topic1\", \"Topic1\", \"Topic1\", \"Topic1\", \"Topic1\", \"Topic1\", \"Topic1\", \"Topic1\", \"Topic1\", \"Topic1\", \"Topic1\", \"Topic1\", \"Topic1\", \"Topic1\", \"Topic1\", \"Topic1\", \"Topic1\", \"Topic1\", \"Topic1\", \"Topic1\", \"Topic1\", \"Topic1\", \"Topic1\", \"Topic1\", \"Topic1\", \"Topic1\", \"Topic1\", \"Topic1\", \"Topic2\", \"Topic2\", \"Topic2\", \"Topic2\", \"Topic2\", \"Topic2\", \"Topic2\", \"Topic2\", \"Topic2\", \"Topic2\", \"Topic2\", \"Topic2\", \"Topic2\", \"Topic2\", \"Topic2\", \"Topic2\", \"Topic2\", \"Topic2\", \"Topic2\", \"Topic2\", \"Topic2\", \"Topic2\", \"Topic2\", \"Topic2\", \"Topic2\", \"Topic2\", \"Topic2\", \"Topic2\", \"Topic2\", \"Topic2\", \"Topic2\", \"Topic2\", \"Topic2\", \"Topic2\", \"Topic2\", \"Topic2\", \"Topic2\", \"Topic2\", \"Topic2\", \"Topic2\", \"Topic2\", \"Topic2\", \"Topic2\", \"Topic2\", \"Topic2\", \"Topic2\", \"Topic2\", \"Topic2\", \"Topic2\", \"Topic2\", \"Topic2\", \"Topic2\", \"Topic2\", \"Topic2\", \"Topic2\", \"Topic2\", \"Topic2\", \"Topic2\", \"Topic2\", \"Topic2\", \"Topic2\", \"Topic2\", \"Topic2\", \"Topic2\", \"Topic2\", \"Topic2\", \"Topic2\", \"Topic2\", \"Topic2\", \"Topic2\", \"Topic3\", \"Topic3\", \"Topic3\", \"Topic3\", \"Topic3\", \"Topic3\", \"Topic3\", \"Topic3\", \"Topic3\", \"Topic3\", \"Topic3\", \"Topic3\", \"Topic3\", \"Topic3\", \"Topic3\", \"Topic3\", \"Topic3\", \"Topic3\", \"Topic3\", \"Topic3\", \"Topic3\", \"Topic3\", \"Topic3\", \"Topic3\", \"Topic3\", \"Topic3\", \"Topic3\", \"Topic3\", \"Topic3\", \"Topic3\", \"Topic3\", \"Topic3\", \"Topic3\", \"Topic3\", \"Topic3\", \"Topic3\", \"Topic3\", \"Topic3\", \"Topic3\", \"Topic3\", \"Topic3\", \"Topic3\", \"Topic3\", \"Topic3\", \"Topic3\", \"Topic3\", \"Topic3\", \"Topic3\", \"Topic3\", \"Topic3\", \"Topic3\", \"Topic3\", \"Topic3\", \"Topic3\", \"Topic3\", \"Topic3\", \"Topic3\", \"Topic3\", \"Topic3\", \"Topic3\", \"Topic3\", \"Topic3\", \"Topic3\", \"Topic3\", \"Topic3\", \"Topic3\", \"Topic3\", \"Topic3\", \"Topic3\", \"Topic3\"], \"Freq\": [35.0, 30.0, 28.0, 21.0, 23.0, 17.0, 19.0, 17.0, 14.0, 13.0, 14.0, 11.0, 12.0, 12.0, 10.0, 10.0, 10.0, 10.0, 10.0, 9.0, 8.0, 8.0, 7.0, 8.0, 7.0, 8.0, 6.0, 7.0, 7.0, 7.0, 23.430294036865234, 35.92505645751953, 19.719823837280273, 12.983804702758789, 28.092544555664062, 30.17571258544922, 10.876720428466797, 21.12405014038086, 14.157464981079102, 6.677892684936523, 7.510430812835693, 7.505066394805908, 6.655605792999268, 9.915703773498535, 4.133473873138428, 10.655814170837402, 7.386540412902832, 17.876609802246094, 10.746793746948242, 4.9277567863464355, 17.9100341796875, 12.160871505737305, 6.4968366622924805, 7.32969331741333, 8.171366691589355, 5.667409896850586, 8.022636413574219, 8.821041107177734, 6.459528923034668, 8.859160423278809, 14.183465003967285, 13.13192081451416, 11.3072509765625, 10.564602851867676, 10.021683692932129, 7.9328227043151855, 7.4541497230529785, 0.0008151612710207701, 0.0004840216424781829, 0.0004920003120787442, 0.0004892123979516327, 0.0004762029566336423, 0.0004823820781894028, 0.00047740075387991965, 0.0004770568339154124, 0.00047517498023808, 0.0004717712290585041, 0.0004819782043341547, 0.0004719393909908831, 0.0004774138214997947, 0.0004718790587503463, 0.00047462363727390766, 0.00046188777196221054, 0.0004798067675437778, 0.00047037049080245197, 0.0004691926878876984, 0.0004651769995689392, 0.0004671587666962296, 0.0004625803849194199, 0.00046367169125005603, 0.00046220698277466, 0.0004670563794206828, 0.0004689808120019734, 0.00045943292207084596, 0.0004582097753882408, 0.00046198483323678374, 0.0004687191394623369, 0.0018616713350638747, 0.0009330989560112357, 0.003056672401726246, 0.0009362631244584918, 0.0011284496868029237, 0.0035898273345083, 0.0033691527787595987, 0.0029452918097376823, 0.0015165224904194474, 0.006253755185753107, 0.0009015785763040185, 0.002039518905803561, 0.004052290227264166, 0.0011070347391068935, 0.005438073538243771, 0.0011048949090763927, 0.0008948048343881965, 0.0037898586597293615, 0.0011067141313105822, 0.0010741674341261387, 0.003848104504868388, 0.0017184698954224586, 0.0029951431788504124, 0.0022992691956460476, 0.0026475319173187017, 0.005784090142697096, 0.0018790188478305936, 0.003609617240726948, 0.002265591872856021, 0.0022636037319898605, 0.001954413251951337, 0.0017991757486015558, 0.0033169628586620092, 0.001982249552384019, 0.0014670132659375668, 0.0018051398219540715, 0.0020601435098797083, 0.001480241771787405, 0.0017625140026211739, 0.001493229647167027, 0.000525704468600452, 0.0005255366559140384, 0.0005072962958365679, 0.0005236721481196582, 0.0005214475677348673, 0.000507821561768651, 0.0005288472748361528, 0.0005028575542382896, 0.0005104822921566665, 0.0005094226798973978, 0.0004894588491879404, 0.0005040069227106869, 0.0004885860835202038, 0.0004921945510432124, 0.0005069115431979299, 0.0004874839505646378, 0.0004924209206365049, 0.0004905706155113876, 0.0005086138844490051, 0.000500230526085943, 0.0004994461196474731, 0.0004897952894680202, 0.00048656490980647504, 0.0004963169922120869, 0.0004820939793717116, 0.0005116434185765684, 0.0004958696663379669, 0.0004901407519355416, 0.00048794690519571304, 0.00048612299724482, 0.0004998361109755933, 0.0004985740524716675, 0.003115688683465123, 0.0005138928536325693, 0.0006691387970931828, 0.003420814173296094, 0.0020625959150493145, 0.0021477965638041496, 0.0022096969187259674, 0.00464939558878541, 0.0015116131398826838, 0.0027792281471192837, 0.0015066203195601702, 0.003699986729770899, 0.002178133698180318, 0.0034081684425473213, 0.0013282516738399863, 0.0006756587536074221, 0.0015496324049308896, 0.0024506342597305775, 0.0028482861816883087, 0.0015979278832674026, 0.001444355701096356, 0.0018533432157710195, 0.001920080161653459, 0.0010727527551352978, 0.0016316918190568686, 0.001162752159871161, 0.0010388882365077734, 0.001052767620421946, 0.00217113527469337, 0.0012250778963789344, 0.0014281473122537136, 0.0013005458749830723, 0.0015010403003543615, 0.0017723512137308717, 0.0015416330425068736, 0.0012644986854866147, 0.001346809440292418, 0.0012357037048786879], \"Term\": [\"power\", \"bodi\", \"sun\", \"planet\", \"light\", \"center\", \"move\", \"motion\", \"world\", \"caus\", \"earth\", \"time\", \"distanc\", \"sinc\", \"therefor\", \"one\", \"sourc\", \"thing\", \"motiv\", \"point\", \"but\", \"follow\", \"speci\", \"circl\", \"space\", \"illumin\", \"chapter\", \"matter\", \"part\", \"carri\", \"light\", \"power\", \"move\", \"sinc\", \"sun\", \"bodi\", \"motiv\", \"planet\", \"earth\", \"accord\", \"surfac\", \"demonstr\", \"geometr\", \"point\", \"may\", \"thing\", \"carri\", \"motion\", \"sourc\", \"like\", \"center\", \"distanc\", \"tycho\", \"part\", \"circl\", \"weaken\", \"illumin\", \"follow\", \"upon\", \"but\", \"world\", \"caus\", \"time\", \"therefor\", \"one\", \"space\", \"speci\", \"invers\", \"4\", \"precis\", \"machin\", \"ascrib\", \"odour\", \"52\", \"bird\", \"everi\", \"sure\", \"round\", \"lost\", \"prior\", \"hear\", \"philosophi\", \"directli\", \"exert\", \"authent\", \"take\", \"littl\", \"eleg\", \"deserv\", \"species5\", \"chapter 1 \", \"immedi\", \"right\", \"question\", \"afterward\", \"long\", \"accept\", \"manner\", \"make\", \"therefor\", \"posit\", \"two\", \"world\", \"caus\", \"time\", \"eccentr\", \"bodi\", \"system\", \"speci\", \"motion\", \"eman\", \"sun\", \"without\", \"moreov\", \"center\", \"strength\", \"third\", \"move\", \"chapter\", \"earth\", \"one\", \"distanc\", \"power\", \"space\", \"planet\", \"thing\", \"motiv\", \"follow\", \"illumin\", \"light\", \"point\", \"movabl\", \"but\", \"sinc\", \"matter\", \"sourc\", \"circl\", \"4\", \"parallax\", \"directli\", \"expel\", \"accompani\", \"strongli\", \"bisect\", \"far\", \"primari\", \"simpli\", \"ascrib\", \"excess\", \"sure\", \"deserv\", \"actual\", \"lost\", \"afterward\", \"chapter 1 \", \"flow\", \"just\", \"certain\", \"rare\", \"littl\", \"whose\", \"everi\", \"impart\", \"temper\", \"you\", \"question\", \"species5\", \"cold\", \"beauti\", \"world\", \"If\", \"\\u03b1\\u03b4\", \"planet\", \"one\", \"sourc\", \"time\", \"power\", \"chapter\", \"center\", \"matter\", \"bodi\", \"caus\", \"sun\", \"movabl\", \"becom\", \"circl\", \"motion\", \"light\", \"but\", \"speci\", \"distanc\", \"sinc\", \"would\", \"therefor\", \"manner\", \"copernicu\", \"\\u03b5\", \"move\", \"upon\", \"follow\", \"part\", \"point\", \"earth\", \"thing\", \"illumin\", \"motiv\", \"space\"], \"Total\": [35.0, 30.0, 28.0, 21.0, 23.0, 17.0, 19.0, 17.0, 14.0, 13.0, 14.0, 11.0, 12.0, 12.0, 10.0, 10.0, 10.0, 10.0, 10.0, 9.0, 8.0, 8.0, 7.0, 8.0, 7.0, 8.0, 6.0, 7.0, 7.0, 7.0, 23.436458587646484, 35.935489654541016, 19.72584342956543, 12.987784385681152, 28.101390838623047, 30.185667037963867, 10.880331039428711, 21.131078720092773, 14.162232398986816, 6.680161476135254, 7.512998580932617, 7.507657527923584, 6.657912731170654, 9.919187545776367, 4.134949684143066, 10.659622192382812, 7.389212608337402, 17.883113861083984, 10.750703811645508, 4.929561614990234, 17.916603088378906, 12.165371894836426, 6.499242782592773, 7.332422256469727, 8.174409866333008, 5.669569969177246, 8.025700569152832, 8.824423789978027, 6.462009906768799, 8.862564086914062, 14.190170288085938, 13.137468338012695, 11.312405586242676, 10.569291114807129, 10.026045799255371, 7.935937404632568, 7.4576334953308105, 1.7374157905578613, 1.1104629039764404, 1.1603344678878784, 1.1768730878829956, 1.1629583835601807, 1.1840814352035522, 1.172926664352417, 1.1722145080566406, 1.172739863395691, 1.170702338218689, 1.1964813470840454, 1.17168128490448, 1.2020759582519531, 1.1897261142730713, 1.1969325542449951, 1.1648775339126587, 1.2129322290420532, 1.1898021697998047, 1.190046787261963, 1.1830371618270874, 1.1895169019699097, 1.1807117462158203, 1.1858315467834473, 1.1830878257751465, 1.2064930200576782, 1.2134760618209839, 1.1902759075164795, 1.1871389150619507, 1.1974858045578003, 1.215717077255249, 5.6065568923950195, 2.6366255283355713, 10.569291114807129, 2.716062307357788, 3.4367871284484863, 14.190170288085938, 13.137468338012695, 11.312405586242676, 5.072287559509277, 30.185667037963867, 2.685499429702759, 7.4576334953308105, 17.883113861083984, 3.5468459129333496, 28.101390838623047, 3.548600912094116, 2.709496259689331, 17.916603088378906, 3.6483263969421387, 3.5121381282806396, 19.72584342956543, 6.654165744781494, 14.162232398986816, 10.026045799255371, 12.165371894836426, 35.935489654541016, 7.935937404632568, 21.131078720092773, 10.659622192382812, 10.880331039428711, 8.824423789978027, 8.025700569152832, 23.436458587646484, 9.919187545776367, 6.024484634399414, 8.862564086914062, 12.987784385681152, 7.023665904998779, 10.750703811645508, 8.174409866333008, 1.1104629039764404, 1.2064151763916016, 1.1648775339126587, 1.204287052154541, 1.2012052536010742, 1.1848903894424438, 1.2439219951629639, 1.1827974319458008, 1.2081031799316406, 1.2089594602584839, 1.1629583835601807, 1.199951410293579, 1.170702338218689, 1.1807117462158203, 1.2165724039077759, 1.17168128490448, 1.1871389150619507, 1.1830878257751465, 1.2328672409057617, 1.2146390676498413, 1.2138581275939941, 1.1906358003616333, 1.1830371618270874, 1.207146167755127, 1.172739863395691, 1.245711326599121, 1.2081798315048218, 1.194987416267395, 1.1902759075164795, 1.1858315467834473, 1.2213547229766846, 1.220290184020996, 14.190170288085938, 1.2769824266433716, 1.8823378086090088, 21.131078720092773, 10.026045799255371, 10.750703811645508, 11.312405586242676, 35.935489654541016, 6.654165744781494, 17.916603088378906, 7.023665904998779, 30.185667037963867, 13.137468338012695, 28.101390838623047, 6.024484634399414, 1.9976950883865356, 8.174409866333008, 17.883113861083984, 23.436458587646484, 8.862564086914062, 7.4576334953308105, 12.165371894836426, 12.987784385681152, 4.701128005981445, 10.569291114807129, 5.6065568923950195, 4.523386001586914, 4.699336528778076, 19.72584342956543, 6.462009906768799, 8.824423789978027, 7.332422256469727, 9.919187545776367, 14.162232398986816, 10.659622192382812, 8.025700569152832, 10.880331039428711, 7.935937404632568], \"loglift\": [30.0, 29.0, 28.0, 27.0, 26.0, 25.0, 24.0, 23.0, 22.0, 21.0, 20.0, 19.0, 18.0, 17.0, 16.0, 15.0, 14.0, 13.0, 12.0, 11.0, 10.0, 9.0, 8.0, 7.0, 6.0, 5.0, 4.0, 3.0, 2.0, 1.0, 0.00019999999494757503, 0.00019999999494757503, 0.00019999999494757503, 0.00019999999494757503, 0.00019999999494757503, 0.00019999999494757503, 0.00019999999494757503, 0.00019999999494757503, 0.00019999999494757503, 0.00019999999494757503, 0.00019999999494757503, 0.00019999999494757503, 0.00019999999494757503, 0.00019999999494757503, 0.00019999999494757503, 0.00019999999494757503, 9.999999747378752e-05, 9.999999747378752e-05, 9.999999747378752e-05, 9.999999747378752e-05, 9.999999747378752e-05, 9.999999747378752e-05, 9.999999747378752e-05, 9.999999747378752e-05, 9.999999747378752e-05, 9.999999747378752e-05, 9.999999747378752e-05, 9.999999747378752e-05, 9.999999747378752e-05, 9.999999747378752e-05, 0.0, 9.999999747378752e-05, 9.999999747378752e-05, 9.999999747378752e-05, 9.999999747378752e-05, 9.999999747378752e-05, 0.0, 0.5848000049591064, 0.5110999941825867, 0.483599990606308, 0.46369999647140503, 0.4487000107765198, 0.44359999895095825, 0.4426000118255615, 0.4424999952316284, 0.43810001015663147, 0.4327000081539154, 0.43230000138282776, 0.43220001459121704, 0.4180999994277954, 0.41679999232292175, 0.4165000021457672, 0.4165000021457672, 0.4140999913215637, 0.41350001096725464, 0.4108000099658966, 0.4081000089645386, 0.40689998865127563, 0.40450000762939453, 0.4025000035762787, 0.4016999900341034, 0.39250001311302185, 0.39089998602867126, 0.38960000872612, 0.38960000872612, 0.38909998536109924, 0.38850000500679016, 0.23909999430179596, 0.3027999997138977, 0.10090000182390213, 0.27649998664855957, 0.22779999673366547, -0.03290000185370445, -0.019300000742077827, -0.00419999985024333, 0.13420000672340393, -0.23260000348091125, 0.2500999867916107, 0.04500000178813934, -0.14300000667572021, 0.17720000445842743, -0.30090001225471497, 0.17470000684261322, 0.23360000550746918, -0.211899995803833, 0.14869999885559082, 0.15690000355243683, -0.29280000925064087, -0.012299999594688416, -0.21209999918937683, -0.13109999895095825, -0.1834000051021576, -0.48510000109672546, -0.09910000115633011, -0.42559999227523804, -0.2071000039577484, -0.22849999368190765, -0.16590000689029694, -0.15379999577999115, -0.6136999726295471, -0.2687000036239624, -0.07109999656677246, -0.24969999492168427, -0.49970000982284546, -0.21549999713897705, -0.4666999876499176, -0.35850000381469727, 0.6395999789237976, 0.5564000010490417, 0.5561000108718872, 0.5546000003814697, 0.5529000163078308, 0.5400999784469604, 0.5320000052452087, 0.5320000052452087, 0.5259000062942505, 0.5231000185012817, 0.5218999981880188, 0.5199000239372253, 0.5134999752044678, 0.5123999714851379, 0.511900007724762, 0.5103999972343445, 0.5073999762535095, 0.5070000290870667, 0.5019000172615051, 0.5001999735832214, 0.4993000030517578, 0.499099999666214, 0.49889999628067017, 0.4986000061035156, 0.4984000027179718, 0.4975000023841858, 0.4968000054359436, 0.49619999527931213, 0.49559998512268066, 0.49559998512268066, 0.49390000104904175, 0.49230000376701355, -0.12870000302791595, 0.4771000146865845, 0.3531000018119812, -0.4334999918937683, -0.193900004029274, -0.2231999933719635, -0.24570000171661377, -0.6575999855995178, -0.09470000118017197, -0.47620001435279846, -0.15209999680519104, -0.7117000222206116, -0.40959998965263367, -0.7222999930381775, -0.12460000067949295, 0.30329999327659607, -0.27559998631477356, -0.6001999974250793, -0.7202000021934509, -0.32580000162124634, -0.2542000114917755, -0.4941999912261963, -0.5242999792098999, -0.09019999951124191, -0.48100000619888306, -0.1858000010251999, -0.08380000293254852, -0.10859999805688858, -0.8192999958992004, -0.27559998631477356, -0.43380001187324524, -0.34220001101493835, -0.5009999871253967, -0.6909000277519226, -0.5462999939918518, -0.46059998869895935, -0.7019000053405762, -0.4724000096321106], \"logprob\": [30.0, 29.0, 28.0, 27.0, 26.0, 25.0, 24.0, 23.0, 22.0, 21.0, 20.0, 19.0, 18.0, 17.0, 16.0, 15.0, 14.0, 13.0, 12.0, 11.0, 10.0, 9.0, 8.0, 7.0, 6.0, 5.0, 4.0, 3.0, 2.0, 1.0, -4.124800205230713, -3.6974000930786133, -4.2972002029418945, -4.715099811553955, -3.9433000087738037, -3.871799945831299, -4.892199993133545, -4.228400230407715, -4.628600120544434, -5.380000114440918, -5.262499809265137, -5.263199806213379, -5.383299827575684, -4.9847002029418945, -5.8597002029418945, -4.912700176239014, -5.279099941253662, -4.395299911499023, -4.904200077056885, -5.683899879455566, -4.393400192260742, -4.780600070953369, -5.40749979019165, -5.286900043487549, -5.178199768066406, -5.544099807739258, -5.196499824523926, -5.1016998291015625, -5.413300037384033, -5.097400188446045, -4.626699924468994, -4.703800201416016, -4.853400230407715, -4.921299934387207, -4.974100112915039, -5.207799911499023, -5.269999980926514, -6.142199993133545, -6.663400173187256, -6.64709997177124, -6.652699947357178, -6.679699897766113, -6.666800022125244, -6.677199840545654, -6.6778998374938965, -6.6819000244140625, -6.689000129699707, -6.667600154876709, -6.688700199127197, -6.677199840545654, -6.688799858093262, -6.683000087738037, -6.71019983291626, -6.6722002029418945, -6.691999912261963, -6.694499969482422, -6.703100204467773, -6.69890022277832, -6.708700180053711, -6.706399917602539, -6.709499835968018, -6.699100017547607, -6.695000171661377, -6.7154998779296875, -6.718200206756592, -6.710000038146973, -6.695499897003174, -5.316299915313721, -6.006999969482422, -4.820499897003174, -6.003600120544434, -5.81689977645874, -4.6596999168396, -4.723100185394287, -4.857600212097168, -5.521399974822998, -4.104599952697754, -6.041399955749512, -5.225100040435791, -4.53849983215332, -5.836100101470947, -4.2444000244140625, -5.8379998207092285, -6.048900127410889, -4.605500221252441, -5.836400032043457, -5.866199970245361, -4.590199947357178, -5.396299839019775, -4.840799808502197, -5.105199813842773, -4.964200019836426, -4.182700157165527, -5.307000160217285, -4.654200077056885, -5.119900226593018, -5.120800018310547, -5.2677001953125, -5.350500106811523, -4.738699913024902, -5.253600120544434, -5.554599761962891, -5.347099781036377, -5.215000152587891, -5.545599937438965, -5.370999813079834, -5.536799907684326, -6.534999847412109, -6.535299777984619, -6.5706000328063965, -6.538899898529053, -6.543099880218506, -6.5696001052856445, -6.5289998054504395, -6.579400062561035, -6.5644001960754395, -6.566400051116943, -6.606400012969971, -6.577099800109863, -6.6082000732421875, -6.600800037384033, -6.571400165557861, -6.610499858856201, -6.600399971008301, -6.604100227355957, -6.567999839782715, -6.58459997177124, -6.58620023727417, -6.6057000160217285, -6.612299919128418, -6.59250020980835, -6.621600151062012, -6.562099933624268, -6.593400001525879, -6.605000019073486, -6.609499931335449, -6.61329984664917, -6.585400104522705, -6.5879998207092285, -4.755499839782715, -6.557700157165527, -6.293700218200684, -4.662099838256836, -5.168000221252441, -5.127500057220459, -5.099100112915039, -4.355199813842773, -5.478799819946289, -4.869800090789795, -5.482100009918213, -4.583600044250488, -5.113500118255615, -4.665800094604492, -5.608099937438965, -6.283999919891357, -5.45389986038208, -4.99560022354126, -4.845200061798096, -5.423299789428711, -5.5243000984191895, -5.275000095367432, -5.23960018157959, -5.821700096130371, -5.402299880981445, -5.741199970245361, -5.853799819946289, -5.8404998779296875, -5.116700172424316, -5.689000129699707, -5.535600185394287, -5.629199981689453, -5.485799789428711, -5.319699764251709, -5.459099769592285, -5.657299995422363, -5.594200134277344, -5.680300235748291]}, \"token.table\": {\"Topic\": [1, 1, 1, 1, 1, 1, 1, 1, 1, 1, 1, 1, 1, 1, 1, 1, 1, 1, 1, 1, 1, 1, 1, 1, 1, 1, 1, 1, 1, 1, 1, 1, 1, 1, 1, 1, 1, 1, 1, 1, 1, 1, 1, 1, 1, 1, 1, 1, 1, 1, 1, 1, 1, 1, 1, 1, 1, 1, 1, 1, 1, 1, 1, 1, 1, 1, 1, 1, 1, 1, 1, 1, 1, 1, 1, 1, 1, 1, 1, 1, 1, 1, 1, 1, 1, 1, 1, 1, 1, 1, 1, 1, 1, 1, 1, 1, 1, 1, 1, 1, 1, 1, 1, 1, 1, 1, 1], \"Freq\": [0.9005253314971924, 0.8525682091712952, 0.7830961346626282, 0.8225597739219666, 0.8324971795082092, 1.0478788614273071, 0.8219814896583557, 0.8423613905906677, 0.8598759770393372, 0.840475857257843, 0.8194772005081177, 1.001153826713562, 0.8530861735343933, 0.8039089441299438, 0.9938491582870483, 1.015507459640503, 0.9473268985748291, 0.9895361661911011, 1.0046547651290894, 0.8238195180892944, 1.0519726276397705, 0.8452457785606384, 0.9786639213562012, 0.8187629580497742, 1.105366587638855, 1.0655786991119385, 0.8469467759132385, 0.8584593534469604, 0.9864063262939453, 0.9885447025299072, 0.9857485294342041, 0.8406774401664734, 1.1277625560760498, 0.8527040481567383, 0.8333670496940613, 0.8244483470916748, 0.8303667902946472, 0.8454533219337463, 0.8111173510551453, 1.0198966264724731, 1.0513805150985718, 0.8405295610427856, 0.9967977404594421, 0.8288485407829285, 0.8027542233467102, 1.151134967803955, 0.8232898116111755, 0.9813769459724426, 1.0142890214920044, 0.8452819585800171, 0.8350829482078552, 0.8534744381904602, 0.8497092723846436, 1.1378179788589478, 1.0701755285263062, 0.9966305494308472, 0.9673636555671692, 1.1072168350219727, 1.0065361261367798, 1.0109986066818237, 0.9959357976913452, 1.0138983726501465, 0.8445364832878113, 0.9974021911621094, 0.8289020657539368, 0.9546640515327454, 0.8354689478874207, 0.9937968850135803, 1.008147120475769, 1.104540228843689, 1.0017951726913452, 0.8618204593658447, 0.8277438879013062, 0.8318941593170166, 0.8401413559913635, 0.8398873805999756, 0.8240788578987122, 0.8357840180397034, 0.8271576166152954, 1.0009405612945557, 1.023188829421997, 1.0080724954605103, 0.9386355876922607, 0.8432900905609131, 1.09639310836792, 0.8439599275588989, 0.9963919520378113, 0.854188084602356, 1.0648211240768433, 1.1171106100082397, 0.8403031229972839, 0.827691376209259, 1.0407509803771973, 1.0319315195083618, 1.1389073133468628, 0.9723837971687317, 0.8729082942008972, 0.9231844544410706, 0.928503692150116, 1.0582813024520874, 0.8284000754356384, 1.1272047758102417, 0.9865984320640564, 1.0635745525360107, 0.836828887462616, 1.0625085830688477, 1.063979983329773], \"Term\": [\"4\", \"52\", \"If\", \"accept\", \"accompani\", \"accord\", \"actual\", \"afterward\", \"ascrib\", \"authent\", \"beauti\", \"becom\", \"bird\", \"bisect\", \"bodi\", \"but\", \"carri\", \"caus\", \"center\", \"certain\", \"chapter\", \"chapter 1 \", \"circl\", \"cold\", \"copernicu\", \"demonstr\", \"deserv\", \"directli\", \"distanc\", \"earth\", \"eccentr\", \"eleg\", \"eman\", \"everi\", \"excess\", \"exert\", \"expel\", \"far\", \"flow\", \"follow\", \"geometr\", \"hear\", \"illumin\", \"immedi\", \"impart\", \"invers\", \"just\", \"light\", \"like\", \"littl\", \"long\", \"lost\", \"machin\", \"make\", \"manner\", \"matter\", \"may\", \"moreov\", \"motion\", \"motiv\", \"movabl\", \"move\", \"odour\", \"one\", \"parallax\", \"part\", \"philosophi\", \"planet\", \"point\", \"posit\", \"power\", \"precis\", \"primari\", \"prior\", \"question\", \"rare\", \"right\", \"round\", \"simpli\", \"sinc\", \"sourc\", \"space\", \"speci\", \"species5\", \"strength\", \"strongli\", \"sun\", \"sure\", \"surfac\", \"system\", \"take\", \"temper\", \"therefor\", \"thing\", \"third\", \"time\", \"two\", \"tycho\", \"upon\", \"weaken\", \"whose\", \"without\", \"world\", \"would\", \"you\", \"\\u03b1\\u03b4\", \"\\u03b5\"]}, \"R\": 30, \"lambda.step\": 0.01, \"plot.opts\": {\"xlab\": \"PC1\", \"ylab\": \"PC2\"}, \"topic.order\": [3, 1, 2]};\n",
       "\n",
       "function LDAvis_load_lib(url, callback){\n",
       "  var s = document.createElement('script');\n",
       "  s.src = url;\n",
       "  s.async = true;\n",
       "  s.onreadystatechange = s.onload = callback;\n",
       "  s.onerror = function(){console.warn(\"failed to load library \" + url);};\n",
       "  document.getElementsByTagName(\"head\")[0].appendChild(s);\n",
       "}\n",
       "\n",
       "if(typeof(LDAvis) !== \"undefined\"){\n",
       "   // already loaded: just create the visualization\n",
       "   !function(LDAvis){\n",
       "       new LDAvis(\"#\" + \"ldavis_el98801861910553368741132909\", ldavis_el98801861910553368741132909_data);\n",
       "   }(LDAvis);\n",
       "}else if(typeof define === \"function\" && define.amd){\n",
       "   // require.js is available: use it to load d3/LDAvis\n",
       "   require.config({paths: {d3: \"https://cdnjs.cloudflare.com/ajax/libs/d3/3.5.5/d3.min\"}});\n",
       "   require([\"d3\"], function(d3){\n",
       "      window.d3 = d3;\n",
       "      LDAvis_load_lib(\"https://cdn.rawgit.com/bmabey/pyLDAvis/files/ldavis.v1.0.0.js\", function(){\n",
       "        new LDAvis(\"#\" + \"ldavis_el98801861910553368741132909\", ldavis_el98801861910553368741132909_data);\n",
       "      });\n",
       "    });\n",
       "}else{\n",
       "    // require.js not available: dynamically load d3 & LDAvis\n",
       "    LDAvis_load_lib(\"https://cdnjs.cloudflare.com/ajax/libs/d3/3.5.5/d3.min.js\", function(){\n",
       "         LDAvis_load_lib(\"https://cdn.rawgit.com/bmabey/pyLDAvis/files/ldavis.v1.0.0.js\", function(){\n",
       "                 new LDAvis(\"#\" + \"ldavis_el98801861910553368741132909\", ldavis_el98801861910553368741132909_data);\n",
       "            })\n",
       "         });\n",
       "}\n",
       "</script>"
      ],
      "text/plain": [
       "PreparedData(topic_coordinates=              x    y  topics  cluster       Freq\n",
       "topic                                           \n",
       "2     -0.008621 -0.0       1        1  99.948883\n",
       "0      0.000478 -0.0       2        1   0.026144\n",
       "1      0.008143 -0.0       3        1   0.024973, topic_info=     Category       Freq       Term      Total  loglift  logprob\n",
       "term                                                            \n",
       "368   Default  35.000000      power  35.000000  30.0000  30.0000\n",
       "81    Default  30.000000       bodi  30.000000  29.0000  29.0000\n",
       "468   Default  28.000000        sun  28.000000  28.0000  28.0000\n",
       "358   Default  21.000000     planet  21.000000  27.0000  27.0000\n",
       "278   Default  23.000000      light  23.000000  26.0000  26.0000\n",
       "92    Default  17.000000     center  17.000000  25.0000  25.0000\n",
       "308   Default  19.000000       move  19.000000  24.0000  24.0000\n",
       "305   Default  17.000000     motion  17.000000  23.0000  23.0000\n",
       "537   Default  14.000000      world  14.000000  22.0000  22.0000\n",
       "91    Default  13.000000       caus  13.000000  21.0000  21.0000\n",
       "156   Default  14.000000      earth  14.000000  20.0000  20.0000\n",
       "495   Default  11.000000       time  11.000000  19.0000  19.0000\n",
       "152   Default  12.000000    distanc  12.000000  18.0000  18.0000\n",
       "439   Default  12.000000       sinc  12.000000  17.0000  17.0000\n",
       "485   Default  10.000000   therefor  10.000000  16.0000  16.0000\n",
       "334   Default  10.000000        one  10.000000  15.0000  15.0000\n",
       "447   Default  10.000000      sourc  10.000000  14.0000  14.0000\n",
       "488   Default  10.000000      thing  10.000000  13.0000  13.0000\n",
       "306   Default  10.000000      motiv  10.000000  12.0000  12.0000\n",
       "360   Default   9.000000      point   9.000000  11.0000  11.0000\n",
       "87    Default   8.000000        but   8.000000  10.0000  10.0000\n",
       "201   Default   8.000000     follow   8.000000   9.0000   9.0000\n",
       "449   Default   7.000000      speci   7.000000   8.0000   8.0000\n",
       "96    Default   8.000000      circl   8.000000   7.0000   7.0000\n",
       "448   Default   7.000000      space   7.000000   6.0000   6.0000\n",
       "236   Default   8.000000    illumin   8.000000   5.0000   5.0000\n",
       "94    Default   6.000000    chapter   6.000000   4.0000   4.0000\n",
       "296   Default   7.000000     matter   7.000000   3.0000   3.0000\n",
       "345   Default   7.000000       part   7.000000   2.0000   2.0000\n",
       "90    Default   7.000000      carri   7.000000   1.0000   1.0000\n",
       "...       ...        ...        ...        ...      ...      ...\n",
       "94     Topic3   0.001512    chapter   6.654166  -0.0947  -5.4788\n",
       "92     Topic3   0.002779     center  17.916603  -0.4762  -4.8698\n",
       "296    Topic3   0.001507     matter   7.023666  -0.1521  -5.4821\n",
       "81     Topic3   0.003700       bodi  30.185667  -0.7117  -4.5836\n",
       "91     Topic3   0.002178       caus  13.137468  -0.4096  -5.1135\n",
       "468    Topic3   0.003408        sun  28.101391  -0.7223  -4.6658\n",
       "307    Topic3   0.001328     movabl   6.024485  -0.1246  -5.6081\n",
       "73     Topic3   0.000676      becom   1.997695   0.3033  -6.2840\n",
       "96     Topic3   0.001550      circl   8.174410  -0.2756  -5.4539\n",
       "305    Topic3   0.002451     motion  17.883114  -0.6002  -4.9956\n",
       "278    Topic3   0.002848      light  23.436459  -0.7202  -4.8452\n",
       "87     Topic3   0.001598        but   8.862564  -0.3258  -5.4233\n",
       "449    Topic3   0.001444      speci   7.457633  -0.2542  -5.5243\n",
       "152    Topic3   0.001853    distanc  12.165372  -0.4942  -5.2750\n",
       "439    Topic3   0.001920       sinc  12.987784  -0.5243  -5.2396\n",
       "539    Topic3   0.001073      would   4.701128  -0.0902  -5.8217\n",
       "485    Topic3   0.001632   therefor  10.569291  -0.4810  -5.4023\n",
       "292    Topic3   0.001163     manner   5.606557  -0.1858  -5.7412\n",
       "127    Topic3   0.001039  copernicu   4.523386  -0.0838  -5.8538\n",
       "546    Topic3   0.001053          ε   4.699337  -0.1086  -5.8405\n",
       "308    Topic3   0.002171       move  19.725843  -0.8193  -5.1167\n",
       "512    Topic3   0.001225       upon   6.462010  -0.2756  -5.6890\n",
       "201    Topic3   0.001428     follow   8.824424  -0.4338  -5.5356\n",
       "345    Topic3   0.001301       part   7.332422  -0.3422  -5.6292\n",
       "360    Topic3   0.001501      point   9.919188  -0.5010  -5.4858\n",
       "156    Topic3   0.001772      earth  14.162232  -0.6909  -5.3197\n",
       "488    Topic3   0.001542      thing  10.659622  -0.5463  -5.4591\n",
       "236    Topic3   0.001264    illumin   8.025701  -0.4606  -5.6573\n",
       "306    Topic3   0.001347      motiv  10.880331  -0.7019  -5.5942\n",
       "448    Topic3   0.001236      space   7.935937  -0.4724  -5.6803\n",
       "\n",
       "[207 rows x 6 columns], token_table=      Topic      Freq        Term\n",
       "term                             \n",
       "5         1  0.900525           4\n",
       "7         1  0.852568          52\n",
       "10        1  0.783096          If\n",
       "20        1  0.822560      accept\n",
       "21        1  0.832497   accompani\n",
       "22        1  1.047879      accord\n",
       "28        1  0.821981      actual\n",
       "31        1  0.842361   afterward\n",
       "58        1  0.859876      ascrib\n",
       "65        1  0.840476     authent\n",
       "72        1  0.819477      beauti\n",
       "73        1  1.001154       becom\n",
       "78        1  0.853086        bird\n",
       "79        1  0.803909      bisect\n",
       "81        1  0.993849        bodi\n",
       "87        1  1.015507         but\n",
       "90        1  0.947327       carri\n",
       "91        1  0.989536        caus\n",
       "92        1  1.004655      center\n",
       "93        1  0.823820     certain\n",
       "94        1  1.051973     chapter\n",
       "95        1  0.845246  chapter 1 \n",
       "96        1  0.978664       circl\n",
       "105       1  0.818763        cold\n",
       "127       1  1.105367   copernicu\n",
       "136       1  1.065579    demonstr\n",
       "140       1  0.846947      deserv\n",
       "147       1  0.858459    directli\n",
       "152       1  0.986406     distanc\n",
       "156       1  0.988545       earth\n",
       "...     ...       ...         ...\n",
       "423       1  0.835784       round\n",
       "438       1  0.827158      simpli\n",
       "439       1  1.000941        sinc\n",
       "447       1  1.023189       sourc\n",
       "448       1  1.008072       space\n",
       "449       1  0.938636       speci\n",
       "450       1  0.843290    species5\n",
       "458       1  1.096393    strength\n",
       "460       1  0.843960    strongli\n",
       "468       1  0.996392         sun\n",
       "471       1  0.854188        sure\n",
       "472       1  1.064821      surfac\n",
       "475       1  1.117111      system\n",
       "476       1  0.840303        take\n",
       "478       1  0.827691      temper\n",
       "485       1  1.040751    therefor\n",
       "488       1  1.031932       thing\n",
       "490       1  1.138907       third\n",
       "495       1  0.972384        time\n",
       "504       1  0.872908         two\n",
       "505       1  0.923184       tycho\n",
       "512       1  0.928504        upon\n",
       "523       1  1.058281      weaken\n",
       "533       1  0.828400       whose\n",
       "536       1  1.127205     without\n",
       "537       1  0.986598       world\n",
       "539       1  1.063575       would\n",
       "541       1  0.836829         you\n",
       "543       1  1.062509          αδ\n",
       "546       1  1.063980           ε\n",
       "\n",
       "[107 rows x 3 columns], R=30, lambda_step=0.01, plot_opts={'xlab': 'PC1', 'ylab': 'PC2'}, topic_order=[3, 1, 2])"
      ]
     },
     "execution_count": 38,
     "metadata": {},
     "output_type": "execute_result"
    }
   ],
   "source": [
    "vis"
   ]
  },
  {
   "cell_type": "markdown",
   "metadata": {},
   "source": [
    "# Topic Modelling of chapter 15"
   ]
  },
  {
   "cell_type": "code",
   "execution_count": 45,
   "metadata": {},
   "outputs": [
    {
     "data": {
      "text/html": [
       "\n",
       "<link rel=\"stylesheet\" type=\"text/css\" href=\"https://cdn.rawgit.com/bmabey/pyLDAvis/files/ldavis.v1.0.0.css\">\n",
       "\n",
       "\n",
       "<div id=\"ldavis_el1526022650375636087055034791\"></div>\n",
       "<script type=\"text/javascript\">\n",
       "\n",
       "var ldavis_el1526022650375636087055034791_data = {\"mdsDat\": {\"x\": [-0.005772144157458989, 0.0014911495440295638, 0.004280994613429424], \"y\": [0.0, 0.0, 0.0], \"topics\": [1, 2, 3], \"cluster\": [1, 1, 1], \"Freq\": [99.22846984863281, 0.6848729848861694, 0.08665617555379868]}, \"tinfo\": {\"Category\": [\"Default\", \"Default\", \"Default\", \"Default\", \"Default\", \"Default\", \"Default\", \"Default\", \"Default\", \"Default\", \"Default\", \"Default\", \"Default\", \"Default\", \"Default\", \"Default\", \"Default\", \"Default\", \"Default\", \"Default\", \"Default\", \"Default\", \"Default\", \"Default\", \"Default\", \"Default\", \"Default\", \"Default\", \"Default\", \"Default\", \"Topic1\", \"Topic1\", \"Topic1\", \"Topic1\", \"Topic1\", \"Topic1\", \"Topic1\", \"Topic1\", \"Topic1\", \"Topic1\", \"Topic1\", \"Topic1\", \"Topic1\", \"Topic1\", \"Topic1\", \"Topic1\", \"Topic1\", \"Topic1\", \"Topic1\", \"Topic1\", \"Topic1\", \"Topic1\", \"Topic1\", \"Topic1\", \"Topic1\", \"Topic1\", \"Topic1\", \"Topic1\", \"Topic1\", \"Topic1\", \"Topic1\", \"Topic1\", \"Topic1\", \"Topic1\", \"Topic1\", \"Topic1\", \"Topic1\", \"Topic1\", \"Topic1\", \"Topic1\", \"Topic1\", \"Topic1\", \"Topic1\", \"Topic1\", \"Topic1\", \"Topic1\", \"Topic1\", \"Topic1\", \"Topic2\", \"Topic2\", \"Topic2\", \"Topic2\", \"Topic2\", \"Topic2\", \"Topic2\", \"Topic2\", \"Topic2\", \"Topic2\", \"Topic2\", \"Topic2\", \"Topic2\", \"Topic2\", \"Topic2\", \"Topic2\", \"Topic2\", \"Topic2\", \"Topic2\", \"Topic2\", \"Topic2\", \"Topic2\", \"Topic2\", \"Topic2\", \"Topic2\", \"Topic2\", \"Topic2\", \"Topic2\", \"Topic2\", \"Topic2\", \"Topic2\", \"Topic2\", \"Topic2\", \"Topic2\", \"Topic2\", \"Topic2\", \"Topic2\", \"Topic2\", \"Topic2\", \"Topic2\", \"Topic2\", \"Topic2\", \"Topic2\", \"Topic2\", \"Topic2\", \"Topic2\", \"Topic2\", \"Topic2\", \"Topic2\", \"Topic2\", \"Topic2\", \"Topic2\", \"Topic2\", \"Topic2\", \"Topic2\", \"Topic2\", \"Topic2\", \"Topic2\", \"Topic2\", \"Topic2\", \"Topic2\", \"Topic2\", \"Topic2\", \"Topic2\", \"Topic2\", \"Topic2\", \"Topic2\", \"Topic2\", \"Topic2\", \"Topic2\", \"Topic2\", \"Topic2\", \"Topic2\", \"Topic3\", \"Topic3\", \"Topic3\", \"Topic3\", \"Topic3\", \"Topic3\", \"Topic3\", \"Topic3\", \"Topic3\", \"Topic3\", \"Topic3\", \"Topic3\", \"Topic3\", \"Topic3\", \"Topic3\", \"Topic3\", \"Topic3\", \"Topic3\", \"Topic3\", \"Topic3\", \"Topic3\", \"Topic3\", \"Topic3\", \"Topic3\", \"Topic3\", \"Topic3\", \"Topic3\", \"Topic3\", \"Topic3\", \"Topic3\", \"Topic3\", \"Topic3\", \"Topic3\", \"Topic3\", \"Topic3\", \"Topic3\", \"Topic3\", \"Topic3\", \"Topic3\", \"Topic3\", \"Topic3\", \"Topic3\", \"Topic3\", \"Topic3\", \"Topic3\", \"Topic3\", \"Topic3\", \"Topic3\", \"Topic3\", \"Topic3\", \"Topic3\", \"Topic3\", \"Topic3\", \"Topic3\", \"Topic3\", \"Topic3\", \"Topic3\", \"Topic3\", \"Topic3\", \"Topic3\", \"Topic3\", \"Topic3\", \"Topic3\", \"Topic3\", \"Topic3\", \"Topic3\", \"Topic3\", \"Topic3\", \"Topic3\", \"Topic3\", \"Topic3\", \"Topic3\", \"Topic3\", \"Topic3\"], \"Freq\": [69.0, 45.0, 32.0, 30.0, 26.0, 21.0, 23.0, 17.0, 19.0, 19.0, 19.0, 17.0, 19.0, 19.0, 16.0, 16.0, 14.0, 14.0, 12.0, 10.0, 10.0, 10.0, 11.0, 12.0, 10.0, 11.0, 10.0, 9.0, 11.0, 10.0, 19.065814971923828, 11.970441818237305, 4.212829113006592, 9.23304557800293, 4.205237865447998, 16.107378005981445, 6.492003917694092, 19.44508171081543, 16.643888473510742, 19.796464920043945, 6.524484634399414, 9.170140266418457, 8.026782035827637, 11.381875991821289, 3.9964191913604736, 14.570301055908203, 10.378433227539062, 26.116010665893555, 3.908780097961426, 11.77755355834961, 3.8853158950805664, 3.147791624069214, 6.631217002868652, 19.256454467773438, 3.794210433959961, 14.815987586975098, 4.729772090911865, 9.81860065460205, 5.576865196228027, 7.883254051208496, 68.96111297607422, 44.890933990478516, 32.79647445678711, 30.051298141479492, 23.23204231262207, 21.332969665527344, 18.967666625976562, 17.35311508178711, 17.353771209716797, 12.814594268798828, 11.10302734375, 11.207465171813965, 10.827019691467285, 10.363985061645508, 10.663186073303223, 10.86825942993164, 9.968671798706055, 10.2472562789917, 0.012705349363386631, 0.012222635559737682, 0.012362050823867321, 0.012675223872065544, 0.012548821046948433, 0.012872832827270031, 0.012638662941753864, 0.012303609400987625, 0.012198702432215214, 0.012225859798491001, 0.019391460344195366, 0.01172425877302885, 0.01227803435176611, 0.012368882074952126, 0.012127450667321682, 0.011972486972808838, 0.012183894403278828, 0.019998375326395035, 0.011787955649197102, 0.011977600865066051, 0.011924264952540398, 0.01158643513917923, 0.012032677419483662, 0.011743113398551941, 0.012127391993999481, 0.01164238154888153, 0.01932137832045555, 0.012155209667980671, 0.011788750067353249, 0.011801213957369328, 0.012120002880692482, 0.03589445352554321, 0.21306996047496796, 0.0656907856464386, 0.02842123992741108, 0.1197340339422226, 0.039156474173069, 0.07437236607074738, 0.3601527512073517, 0.03856053948402405, 0.03442231938242912, 0.03499409556388855, 0.2334173321723938, 0.05701501667499542, 0.055063433945178986, 0.05071272701025009, 0.1645340770483017, 0.10791175812482834, 0.06932832300662994, 0.1152598038315773, 0.12198083102703094, 0.12921948730945587, 0.04171203821897507, 0.09275300055742264, 0.03289015218615532, 0.09723777323961258, 0.06580832600593567, 0.04190606623888016, 0.06334282457828522, 0.07053212821483612, 0.051063135266304016, 0.06129035726189613, 0.07435964792966843, 0.08807729929685593, 0.08611740916967392, 0.061738353222608566, 0.05626854673027992, 0.07394967973232269, 0.05788961425423622, 0.06807463616132736, 0.06925569474697113, 0.07114503532648087, 0.05883469805121422, 0.0016114345053210855, 0.0015775691717863083, 0.0016463890206068754, 0.0015898965066298842, 0.001640818314626813, 0.0016123515088111162, 0.0016320947324857116, 0.0016027541132643819, 0.001547880470752716, 0.0016207597218453884, 0.0015023896703496575, 0.0015954505652189255, 0.001541980542242527, 0.0016349354991689324, 0.0016094621969386935, 0.001548658823594451, 0.0016750224167481065, 0.0016124218236654997, 0.001580404699780047, 0.0015642291400581598, 0.001576729933731258, 0.00155047164298594, 0.001535253250040114, 0.0016077012987807393, 0.001543728169053793, 0.0015361383557319641, 0.001516999094747007, 0.0015414772788062692, 0.001584807992912829, 0.0015015247045084834, 0.0015712896129116416, 0.0023823892697691917, 0.0016013699350878596, 0.0023206400219351053, 0.04723469540476799, 0.009336221031844616, 0.002195899374783039, 0.021060761064291, 0.012765773572027683, 0.008760707452893257, 0.005740202497690916, 0.013397499918937683, 0.003931527491658926, 0.002827593358233571, 0.006325005553662777, 0.01681000366806984, 0.007425475399941206, 0.012282980605959892, 0.011154617182910442, 0.005918394774198532, 0.021570023149251938, 0.006470999214798212, 0.009504230692982674, 0.006271790713071823, 0.007573913782835007, 0.007348404731601477, 0.011075429618358612, 0.005637387745082378, 0.007057005539536476, 0.009835324250161648, 0.010728005319833755, 0.00541012454777956, 0.0034073058050125837, 0.010494646616280079, 0.01236104778945446, 0.00732107600197196, 0.01113805826753378, 0.008858077228069305, 0.006911878008395433, 0.009223162196576595, 0.008027764968574047, 0.007230683229863644, 0.00705368397757411, 0.0065595717169344425], \"Term\": [\"Mars\", \"latitude\", \"position\", \"sun\", \"parallax\", \"star\", \"motion\", \"distance\", \"diurnal\", \"hour\", \"day\", \"Therefore\", \"opposition\", \"minute\", \"north\", \"since\", \"observation\", \"time\", \"therefore\", \"On\", \"found\", \"longitude\", \"But\", \"would\", \"come\", \"following\", \"table\", \"sum\", \"orbit\", \"24\", \"minute\", \"would\", \"much\", \"night\", \"must\", \"since\", \"secant\", \"day\", \"north\", \"diurnal\", \"subtracted\", \"greater\", \"4\\u00b0\", \"But\", \"u\", \"observation\", \"table\", \"parallax\", \"thus\", \"fixed\", \"1\", \"work\", \"Cor\", \"opposition\", \"added\", \"time\", \"decreasing\", \"Leo\", \"one\", \"This\", \"Mars\", \"latitude\", \"position\", \"sun\", \"motion\", \"star\", \"hour\", \"Therefore\", \"distance\", \"therefore\", \"following\", \"orbit\", \"come\", \"true\", \"longitude\", \"On\", \"24\", \"found\", \"March 29 \", \"January 31 \", \"relied\", \"cut\", \"27\\u2153\", \"good\", \"Taurus\", \"15\", \"communicated\", \"Lansberge\", \"Regulus\", \"giving\", \"intervention\", \"1\\u00b0 40'\", \"By\", \"Matthias\", \"16\\u00b0 54' 32\\\" Cancer\", \"That\", \"56\\u00b0\", \"reckoning\", \"left\", \"16\\u00b0\", \"12h 40m\", \"57' 8\\\"\", \"omit\", \"3\\u00b0 33'\", \"error\", \"six\", \"indeed\", \"They\", \"Leo26\", \"south\", \"sun\", \"observed\", \"twice\", \"distance\", \"node\", \"found\", \"Mars\", \"2\\u00bd\", \"tail\", \"6\", \"latitude\", \"nonagesimal\", \"reduction\", \"moment\", \"position\", \"hour\", \"On\", \"star\", \"motion\", \"parallax\", \"could\", \"Therefore\", \"23\", \"opposition\", \"orbit\", \"little\", \"come\", \"therefore\", \"Spica\", \"longitude\", \"time\", \"diurnal\", \"day\", \"following\", \"sum\", \"north\", \"true\", \"observation\", \"since\", \"minute\", \"fixed\", \"giving\", \"January 31 \", \"24' 18\\\"\", \"16\\u00b0\", \"completely\", \"1591\", \"carried\", \"reading\", \"56\\u00b0\", \"1\\u00b0 9' 45\\\"\", \"relied\", \"22' 36\\\"\", \"3\\u00b0 33'\", \"17\\u00b0 26'\", \"1585 January 31\", \"17\\u00b0 31' 40\\\" Taurus\", \"appears\", \"Since\", \"1604\", \"37\\u00b0 19' 50\\\"\", \"19\\u00b0\", \"58\\u00bd\", \"4\\u00b0 2'\", \"neck\", \"absolute\", \"sedulous\", \"57' 8\\\"\", \"fall\", \"18\\u00b0 37' 50\\\" Libra\", \"Matthias\", \"used\", \"subtraction\", \"Fabrician\", \"seen\", \"Mars\", \"found\", \"leaf\", \"position\", \"distance\", \"On\", \"earth\", \"star\", \"degree\", \"sake\", \"reduction\", \"sun\", \"sum\", \"diurnal\", \"Therefore\", \"5\", \"latitude\", \"observed\", \"observation\", \"Spica\", \"longitude\", \"table\", \"hour\", \"moment\", \"24\", \"north\", \"minute\", \"planet\", \"4\", \"day\", \"parallax\", \"But\", \"motion\", \"since\", \"come\", \"opposition\", \"time\", \"therefore\", \"would\", \"following\"], \"Total\": [69.0, 45.0, 32.0, 30.0, 26.0, 21.0, 23.0, 17.0, 19.0, 19.0, 19.0, 17.0, 19.0, 19.0, 16.0, 16.0, 14.0, 14.0, 12.0, 10.0, 10.0, 10.0, 11.0, 12.0, 10.0, 11.0, 10.0, 9.0, 11.0, 10.0, 19.147687911987305, 12.02358341217041, 4.232858180999756, 9.277253150939941, 4.2255778312683105, 16.18549156188965, 6.524201393127441, 19.54169273376465, 16.72767448425293, 19.896825790405273, 6.557828903198242, 9.21731185913086, 8.068741798400879, 11.44190788269043, 4.017627716064453, 14.647879600524902, 10.433796882629395, 26.257591247558594, 3.929976224899292, 11.841935157775879, 3.906587600708008, 3.165045738220215, 6.66774845123291, 19.362916946411133, 3.8152575492858887, 14.898375511169434, 4.756088733673096, 9.87347412109375, 5.608059883117676, 7.92768669128418, 69.36849975585938, 45.14591979980469, 32.98207092285156, 30.281177520751953, 23.365161895751953, 21.461626052856445, 19.086654663085938, 17.457021713256836, 17.486270904541016, 12.892356872558594, 11.171324729919434, 11.2789945602417, 10.8972749710083, 10.427765846252441, 10.732050895690918, 10.946348190307617, 10.031523704528809, 10.330965042114258, 1.1050986051559448, 1.063618779182434, 1.0888757705688477, 1.1172305345535278, 1.1102428436279297, 1.140451431274414, 1.1311389207839966, 1.1138535737991333, 1.1135293245315552, 1.1221593618392944, 1.7830098867416382, 1.082346796989441, 1.1361534595489502, 1.1448241472244263, 1.1235219240188599, 1.1161866188049316, 1.1381356716156006, 1.8756742477416992, 1.10744309425354, 1.1304006576538086, 1.1291457414627075, 1.1018671989440918, 1.1500900983810425, 1.1248784065246582, 1.1651043891906738, 1.1202194690704346, 1.859747290611267, 1.173949956893921, 1.1397465467453003, 1.1418802738189697, 1.1733745336532593, 3.973487377166748, 30.281177520751953, 8.299899101257324, 3.1802971363067627, 17.486270904541016, 4.73992395401001, 10.330965042114258, 69.36849975585938, 4.728208065032959, 4.125600337982178, 4.216582775115967, 45.14591979980469, 8.006107330322266, 7.781554698944092, 7.081284523010254, 32.98207092285156, 19.086654663085938, 10.946348190307617, 21.461626052856445, 23.365161895751953, 26.257591247558594, 5.687772274017334, 17.457021713256836, 4.188190937042236, 19.362916946411133, 11.2789945602417, 6.005059242248535, 10.8972749710083, 12.892356872558594, 8.082778930664062, 10.732050895690918, 14.898375511169434, 19.896825790405273, 19.54169273376465, 11.171324729919434, 9.827947616577148, 16.72767448425293, 10.427765846252441, 14.647879600524902, 16.18549156188965, 19.147687911987305, 11.841935157775879, 1.082346796989441, 1.063618779182434, 1.1245266199111938, 1.1018671989440918, 1.1396886110305786, 1.136443853378296, 1.158911108970642, 1.1406972408294678, 1.10744309425354, 1.1603057384490967, 1.0888757705688477, 1.1584553718566895, 1.1202194690704346, 1.1884827613830566, 1.171919584274292, 1.127866506576538, 1.2204748392105103, 1.1850013732910156, 1.1631860733032227, 1.1535615921020508, 1.162842869758606, 1.1437249183654785, 1.1339948177337646, 1.1882455348968506, 1.1421633958816528, 1.1376105546951294, 1.1248784065246582, 1.1454787254333496, 1.1778591871261597, 1.1161866188049316, 1.16847562789917, 1.8330302238464355, 1.1934733390808105, 1.85429847240448, 69.36849975585938, 10.330965042114258, 1.771742343902588, 32.98207092285156, 17.486270904541016, 10.946348190307617, 6.425259590148926, 21.461626052856445, 4.021946430206299, 2.5753746032714844, 7.781554698944092, 30.281177520751953, 9.827947616577148, 19.896825790405273, 17.457021713256836, 7.257530689239502, 45.14591979980469, 8.299899101257324, 14.647879600524902, 8.082778930664062, 10.732050895690918, 10.433796882629395, 19.086654663085938, 7.081284523010254, 10.031523704528809, 16.72767448425293, 19.147687911987305, 6.821796417236328, 3.41255521774292, 19.54169273376465, 26.257591247558594, 11.44190788269043, 23.365161895751953, 16.18549156188965, 10.8972749710083, 19.362916946411133, 14.898375511169434, 12.892356872558594, 12.02358341217041, 11.171324729919434], \"loglift\": [30.0, 29.0, 28.0, 27.0, 26.0, 25.0, 24.0, 23.0, 22.0, 21.0, 20.0, 19.0, 18.0, 17.0, 16.0, 15.0, 14.0, 13.0, 12.0, 11.0, 10.0, 9.0, 8.0, 7.0, 6.0, 5.0, 4.0, 3.0, 2.0, 1.0, 0.0035000001080334187, 0.0032999999821186066, 0.003000000026077032, 0.003000000026077032, 0.002899999963119626, 0.002899999963119626, 0.00279999990016222, 0.00279999990016222, 0.0027000000700354576, 0.0027000000700354576, 0.0026000000070780516, 0.0026000000070780516, 0.0024999999441206455, 0.0024999999441206455, 0.0024999999441206455, 0.002400000113993883, 0.002400000113993883, 0.002300000051036477, 0.002300000051036477, 0.002300000051036477, 0.002300000051036477, 0.002300000051036477, 0.002300000051036477, 0.002199999988079071, 0.002199999988079071, 0.002199999988079071, 0.002199999988079071, 0.002199999988079071, 0.002199999988079071, 0.002099999925121665, 0.0019000000320374966, 0.002099999925121665, 0.002099999925121665, 9.999999747378752e-05, 0.0020000000949949026, 0.0017000000225380063, 0.001500000013038516, 0.0017999999690800905, 9.999999747378752e-05, 0.0017000000225380063, 0.0015999999595806003, 0.00139999995008111, 0.0013000000035390258, 0.0015999999595806003, 0.0013000000035390258, 0.0006000000284984708, 0.001500000013038516, -0.00039999998989515007, 0.5180000066757202, 0.5174999833106995, 0.5054000020027161, 0.5047000050544739, 0.5009999871253967, 0.49959999322891235, 0.4894999861717224, 0.4779999852180481, 0.46970000863075256, 0.4641999900341034, 0.4625000059604645, 0.4584999978542328, 0.4560999870300293, 0.45590001344680786, 0.45489999651908875, 0.44859999418258667, 0.44670000672340393, 0.4426000118255615, 0.4410000145435333, 0.43639999628067017, 0.43309998512268066, 0.42879998683929443, 0.4237000048160553, 0.42149999737739563, 0.4185999929904938, 0.4171000123023987, 0.41670000553131104, 0.4133000075817108, 0.4122999906539917, 0.4115000069141388, 0.4108999967575073, 0.2768999934196472, 0.027000000700354576, 0.14470000565052032, 0.2660999894142151, -0.00019999999494757503, 0.1875, 0.04989999905228615, -0.2770000100135803, 0.1746000051498413, 0.19740000367164612, 0.19210000336170197, -0.28110000491142273, 0.039000000804662704, 0.03269999846816063, 0.04470000043511391, -0.31690001487731934, -0.19169999659061432, -0.07819999754428864, -0.24310000240802765, -0.27140000462532043, -0.3305000066757202, 0.06840000301599503, -0.2538999915122986, 0.13680000603199005, -0.31029999256134033, -0.16030000150203705, 0.018799999728798866, -0.164000004529953, -0.22460000216960907, -0.08070000261068344, -0.18170000612735748, -0.3163999915122986, -0.43639999628067017, -0.4408999979496002, -0.21449999511241913, -0.17919999361038208, -0.4377000033855438, -0.20999999344348907, -0.387800008058548, -0.47040000557899475, -0.6115000247955322, -0.32100000977516174, 0.5411999821662903, 0.5374000072479248, 0.524399995803833, 0.5098999738693237, 0.5077000260353088, 0.49300000071525574, 0.48559999465942383, 0.48330000042915344, 0.4781000018119812, 0.477400004863739, 0.4650999903678894, 0.4632999897003174, 0.462799996137619, 0.46209999918937683, 0.46050000190734863, 0.4602999985218048, 0.45980000495910645, 0.451200008392334, 0.4496999979019165, 0.44780001044273376, 0.44769999384880066, 0.44749999046325684, 0.44620001316070557, 0.445499986410141, 0.44449999928474426, 0.44359999895095825, 0.4422999918460846, 0.4401000142097473, 0.4399999976158142, 0.4397999942302704, 0.43939998745918274, 0.40540000796318054, 0.43720000982284546, 0.3675999939441681, -0.2410999983549118, 0.041999999433755875, 0.3578999936580658, -0.3052999973297119, -0.17139999568462372, -0.0794999971985817, 0.030500000342726707, -0.328000009059906, 0.12049999833106995, 0.23669999837875366, -0.06400000303983688, -0.44530001282691956, -0.1370999962091446, -0.3391000032424927, -0.30469998717308044, -0.06080000102519989, -0.5953999757766724, -0.10570000112056732, -0.28929999470710754, -0.11050000041723251, -0.2053000032901764, -0.20730000734329224, -0.4009999930858612, -0.08479999750852585, -0.2084999978542328, -0.3878999948501587, -0.4361000061035156, -0.08860000222921371, 0.14169999957084656, -0.47850000858306885, -0.6101999878883362, -0.30329999327659607, -0.5976999998092651, -0.4596000015735626, -0.31200000643730164, -0.5983999967575073, -0.47510001063346863, -0.4350999891757965, -0.39010000228881836, -0.38920000195503235], \"logprob\": [30.0, 29.0, 28.0, 27.0, 26.0, 25.0, 24.0, 23.0, 22.0, 21.0, 20.0, 19.0, 18.0, 17.0, 16.0, 15.0, 14.0, 13.0, 12.0, 11.0, 10.0, 9.0, 8.0, 7.0, 6.0, 5.0, 4.0, 3.0, 2.0, 1.0, -4.797999858856201, -5.263400077819824, -6.307700157165527, -5.523099899291992, -6.309500217437744, -4.966599941253662, -5.87529993057251, -4.778299808502197, -4.933800220489502, -4.76039981842041, -5.870299816131592, -5.529900074005127, -5.663099765777588, -5.313899993896484, -6.360499858856201, -5.06689977645874, -5.406099796295166, -4.48330020904541, -6.382699966430664, -5.279699802398682, -6.388700008392334, -6.5991997718811035, -5.854100227355957, -4.788000106811523, -6.412399768829346, -5.05019998550415, -6.191999912261963, -5.461599826812744, -6.027299880981445, -5.681099891662598, -3.5123000144958496, -3.9416000843048096, -4.2555999755859375, -4.3429999351501465, -4.600299835205078, -4.6855998039245605, -4.803100109100342, -4.892099857330322, -4.892099857330322, -5.195300102233887, -5.338699817657471, -5.3292999267578125, -5.363800048828125, -5.40749979019165, -5.3790998458862305, -5.360000133514404, -5.446400165557861, -5.418900012969971, -7.135700225830078, -7.1743998527526855, -7.163099765777588, -7.138000011444092, -7.148099899291992, -7.122600078582764, -7.140900135040283, -7.167799949645996, -7.176400184631348, -7.174099922180176, -6.712900161743164, -7.216000080108643, -7.169899940490723, -7.162499904632568, -7.182199954986572, -7.195099830627441, -7.177599906921387, -6.682000160217285, -7.210599899291992, -7.1946001052856445, -7.199100017547607, -7.22790002822876, -7.190100193023682, -7.214399814605713, -7.182199954986572, -7.2230000495910645, -6.7164998054504395, -7.179900169372559, -7.2104997634887695, -7.209499835968018, -7.182799816131592, -6.097099781036377, -4.316100120544434, -5.492700099945068, -6.330599784851074, -4.892399787902832, -6.0100998878479, -5.368599891662598, -3.7911999225616455, -6.0254998207092285, -6.138999938964844, -6.122499942779541, -4.224899768829346, -5.634399890899658, -5.6691999435424805, -5.751500129699707, -4.5746002197265625, -4.996399879455566, -5.438799858093262, -4.930500030517578, -4.873799800872803, -4.816199779510498, -5.946899890899658, -5.14769983291626, -6.184500217437744, -5.100500106811523, -5.490900039672852, -5.942299842834473, -5.529099941253662, -5.421599864959717, -5.74459981918335, -5.562099933624268, -5.368800163269043, -5.19950008392334, -5.2220001220703125, -5.554800033569336, -5.647600173950195, -5.374300003051758, -5.619100093841553, -5.457099914550781, -5.439899921417236, -5.413000106811523, -5.603000164031982, -7.133299827575684, -7.1545000076293945, -7.111800193786621, -7.146699905395508, -7.115200042724609, -7.132699966430664, -7.120500087738037, -7.138700008392334, -7.173500061035156, -7.127500057220459, -7.2032999992370605, -7.143199920654297, -7.177299976348877, -7.118800163269043, -7.134500026702881, -7.172999858856201, -7.094600200653076, -7.132699966430664, -7.152699947357178, -7.163000106811523, -7.15500020980835, -7.171800136566162, -7.181700229644775, -7.1356000900268555, -7.176199913024902, -7.181099891662598, -7.193699836730957, -7.177700042724609, -7.149899959564209, -7.20389986038208, -7.1585001945495605, -6.742300033569336, -7.139500141143799, -6.768599987030029, -3.7553000450134277, -5.376500129699707, -6.823800086975098, -4.563000202178955, -5.063600063323975, -5.440100193023682, -5.8628997802734375, -5.0152997970581055, -6.241399765014648, -6.571000099182129, -5.765900135040283, -4.788400173187256, -5.605500221252441, -5.102200031280518, -5.198500156402588, -5.832300186157227, -4.539100170135498, -5.743100166320801, -5.358699798583984, -5.7743000984191895, -5.585700035095215, -5.615900039672852, -5.205699920654297, -5.88100004196167, -5.656400203704834, -5.324399948120117, -5.237500190734863, -5.922100067138672, -6.384500026702881, -5.259500026702881, -5.095900058746338, -5.61959981918335, -5.199999809265137, -5.429100036621094, -5.677199840545654, -5.388700008392334, -5.527500152587891, -5.6321001052856445, -5.656899929046631, -5.729499816894531]}, \"token.table\": {\"Topic\": [1, 1, 1, 1, 1, 1, 1, 1, 1, 1, 1, 1, 1, 1, 1, 1, 1, 1, 1, 1, 1, 1, 1, 1, 1, 1, 1, 1, 1, 1, 1, 1, 1, 1, 1, 1, 1, 1, 1, 1, 1, 1, 1, 1, 1, 1, 1, 1, 1, 1, 1, 1, 1, 1, 1, 1, 1, 1, 1, 1, 1, 1, 1, 1, 1, 1, 1, 1, 1, 1, 1, 1, 1, 1, 1, 1, 1, 1, 1, 1, 1, 1, 1, 1, 1, 1, 1, 1, 1, 1, 1, 1, 1, 1, 1, 1, 1, 1, 1, 1, 1, 1, 1, 1, 1, 1, 1, 1, 1, 1, 1, 1, 1, 1, 1, 1, 1, 1, 1, 1, 1, 1, 1, 1, 1, 1, 1], \"Freq\": [1.023911476135254, 0.8694971203804016, 0.8977840542793274, 0.8533008694648743, 0.8799378871917725, 0.8597076535224915, 0.9075503945350647, 0.8786298632621765, 0.841408908367157, 0.8866297602653503, 0.8489978909492493, 0.8599613904953003, 0.8734965920448303, 0.8618417978286743, 0.8632184267044067, 0.9550663232803345, 0.9968575239181519, 0.8892630934715271, 0.9007038474082947, 1.0574830770492554, 0.866880476474762, 0.8926821947097778, 0.8791066408157349, 0.9914804697036743, 0.8818382620811462, 0.9645153880119324, 0.9029809236526489, 0.8889849781990051, 0.8743361234664917, 0.948635458946228, 0.9613781571388245, 0.8900582790374756, 1.0498296022415161, 0.8378905057907104, 0.9401865005493164, 0.891139030456543, 1.0128147602081299, 0.8522428274154663, 0.90489661693573, 0.9946877956390381, 0.8959075212478638, 1.0049012899398804, 1.1216987371444702, 0.8438808917999268, 0.9897586107254028, 0.8840647339820862, 1.0662832260131836, 0.973820149898529, 0.8757485747337341, 1.0091216564178467, 0.8755314946174622, 1.0484219789505005, 0.8193532228469849, 0.8628789782524109, 1.0094267129898071, 0.8980454802513123, 0.877432644367218, 1.0548945665359497, 0.8950704336166382, 0.9722801446914673, 1.0512839555740356, 0.9945433139801025, 0.9721912741661072, 1.0051854848861694, 0.9338144063949585, 1.0754148960113525, 0.8729974627494812, 1.013347864151001, 0.9846639037132263, 0.9679637551307678, 0.9239183068275452, 0.8768457770347595, 0.9764235019683838, 0.9954599142074585, 0.877388060092926, 0.88016277551651, 0.9967678189277649, 1.1288323402404785, 0.8856252431869507, 0.9991574883460999, 1.0249671936035156, 0.9922869205474854, 0.9885212182998657, 0.984371542930603, 0.944987952709198, 0.9466161131858826, 0.8415769338607788, 0.9701147079467773, 1.054869294166565, 0.9992371797561646, 1.016279935836792, 1.0240390300750732, 0.9638671278953552, 0.8582921624183655, 1.069888710975647, 0.9812571406364441, 0.9752642512321472, 0.9901898503303528, 1.0261226892471313, 1.0005435943603516, 0.8766568303108215, 0.8846420645713806, 1.0280722379684448, 0.9183784127235413, 1.1648790836334229, 0.9196527600288391, 0.879035472869873, 1.0785750150680542, 0.9885396361351013, 0.8518250584602356, 1.0066723823547363, 0.9784906506538391, 1.0674264430999756, 1.0910894870758057, 1.01750648021698, 0.990714430809021, 0.9584238529205322, 0.9695558547973633, 1.0083494186401367, 1.0178178548812866, 1.0068211555480957, 0.9589781761169434, 0.9433080554008484, 0.995612382888794, 0.8558158874511719, 0.9478536248207092, 0.9980385899543762], \"Term\": [\"1\", \"12h 40m\", \"15\", \"1585 January 31\", \"1591\", \"1604\", \"16\\u00b0\", \"16\\u00b0 54' 32\\\" Cancer\", \"17\\u00b0 26'\", \"17\\u00b0 31' 40\\\" Taurus\", \"18\\u00b0 37' 50\\\" Libra\", \"19\\u00b0\", \"1\\u00b0 40'\", \"1\\u00b0 9' 45\\\"\", \"22' 36\\\"\", \"23\", \"24\", \"24' 18\\\"\", \"27\\u2153\", \"2\\u00bd\", \"37\\u00b0 19' 50\\\"\", \"3\\u00b0 33'\", \"4\", \"4\\u00b0\", \"4\\u00b0 2'\", \"5\", \"56\\u00b0\", \"57' 8\\\"\", \"58\\u00bd\", \"6\", \"But\", \"By\", \"Cor\", \"Fabrician\", \"January 31 \", \"Lansberge\", \"Leo\", \"Leo26\", \"March 29 \", \"Mars\", \"Matthias\", \"On\", \"Regulus\", \"Since\", \"Spica\", \"Taurus\", \"That\", \"Therefore\", \"They\", \"This\", \"absolute\", \"added\", \"appears\", \"carried\", \"come\", \"communicated\", \"completely\", \"could\", \"cut\", \"day\", \"decreasing\", \"degree\", \"distance\", \"diurnal\", \"earth\", \"error\", \"fall\", \"fixed\", \"following\", \"found\", \"giving\", \"good\", \"greater\", \"hour\", \"indeed\", \"intervention\", \"latitude\", \"leaf\", \"left\", \"little\", \"longitude\", \"minute\", \"moment\", \"motion\", \"much\", \"must\", \"neck\", \"night\", \"node\", \"nonagesimal\", \"north\", \"observation\", \"observed\", \"omit\", \"one\", \"opposition\", \"orbit\", \"parallax\", \"planet\", \"position\", \"reading\", \"reckoning\", \"reduction\", \"relied\", \"sake\", \"secant\", \"sedulous\", \"seen\", \"since\", \"six\", \"south\", \"star\", \"subtracted\", \"subtraction\", \"sum\", \"sun\", \"table\", \"tail\", \"therefore\", \"thus\", \"time\", \"true\", \"twice\", \"u\", \"used\", \"work\", \"would\"]}, \"R\": 30, \"lambda.step\": 0.01, \"plot.opts\": {\"xlab\": \"PC1\", \"ylab\": \"PC2\"}, \"topic.order\": [3, 1, 2]};\n",
       "\n",
       "function LDAvis_load_lib(url, callback){\n",
       "  var s = document.createElement('script');\n",
       "  s.src = url;\n",
       "  s.async = true;\n",
       "  s.onreadystatechange = s.onload = callback;\n",
       "  s.onerror = function(){console.warn(\"failed to load library \" + url);};\n",
       "  document.getElementsByTagName(\"head\")[0].appendChild(s);\n",
       "}\n",
       "\n",
       "if(typeof(LDAvis) !== \"undefined\"){\n",
       "   // already loaded: just create the visualization\n",
       "   !function(LDAvis){\n",
       "       new LDAvis(\"#\" + \"ldavis_el1526022650375636087055034791\", ldavis_el1526022650375636087055034791_data);\n",
       "   }(LDAvis);\n",
       "}else if(typeof define === \"function\" && define.amd){\n",
       "   // require.js is available: use it to load d3/LDAvis\n",
       "   require.config({paths: {d3: \"https://cdnjs.cloudflare.com/ajax/libs/d3/3.5.5/d3.min\"}});\n",
       "   require([\"d3\"], function(d3){\n",
       "      window.d3 = d3;\n",
       "      LDAvis_load_lib(\"https://cdn.rawgit.com/bmabey/pyLDAvis/files/ldavis.v1.0.0.js\", function(){\n",
       "        new LDAvis(\"#\" + \"ldavis_el1526022650375636087055034791\", ldavis_el1526022650375636087055034791_data);\n",
       "      });\n",
       "    });\n",
       "}else{\n",
       "    // require.js not available: dynamically load d3 & LDAvis\n",
       "    LDAvis_load_lib(\"https://cdnjs.cloudflare.com/ajax/libs/d3/3.5.5/d3.min.js\", function(){\n",
       "         LDAvis_load_lib(\"https://cdn.rawgit.com/bmabey/pyLDAvis/files/ldavis.v1.0.0.js\", function(){\n",
       "                 new LDAvis(\"#\" + \"ldavis_el1526022650375636087055034791\", ldavis_el1526022650375636087055034791_data);\n",
       "            })\n",
       "         });\n",
       "}\n",
       "</script>"
      ],
      "text/plain": [
       "PreparedData(topic_coordinates=              x    y  topics  cluster       Freq\n",
       "topic                                           \n",
       "2     -0.005772  0.0       1        1  99.228470\n",
       "0      0.001491  0.0       2        1   0.684873\n",
       "1      0.004281  0.0       3        1   0.086656, topic_info=     Category       Freq         Term      Total  loglift  logprob\n",
       "term                                                              \n",
       "423   Default  69.000000         Mars  69.000000  30.0000  30.0000\n",
       "717   Default  45.000000     latitude  45.000000  29.0000  29.0000\n",
       "808   Default  32.000000     position  32.000000  28.0000  28.0000\n",
       "912   Default  30.000000          sun  30.000000  27.0000  27.0000\n",
       "794   Default  26.000000     parallax  26.000000  26.0000  26.0000\n",
       "901   Default  21.000000         star  21.000000  25.0000  25.0000\n",
       "752   Default  23.000000       motion  23.000000  24.0000  24.0000\n",
       "604   Default  17.000000     distance  17.000000  23.0000  23.0000\n",
       "606   Default  19.000000      diurnal  19.000000  22.0000  22.0000\n",
       "689   Default  19.000000         hour  19.000000  21.0000  21.0000\n",
       "587   Default  19.000000          day  19.000000  20.0000  20.0000\n",
       "458   Default  17.000000    Therefore  17.000000  19.0000  19.0000\n",
       "788   Default  19.000000   opposition  19.000000  18.0000  18.0000\n",
       "747   Default  19.000000       minute  19.000000  17.0000  17.0000\n",
       "774   Default  16.000000        north  16.000000  16.0000  16.0000\n",
       "885   Default  16.000000        since  16.000000  15.0000  15.0000\n",
       "777   Default  14.000000  observation  14.000000  14.0000  14.0000\n",
       "928   Default  14.000000         time  14.000000  13.0000  13.0000\n",
       "923   Default  12.000000    therefore  12.000000  12.0000  12.0000\n",
       "431   Default  10.000000           On  10.000000  11.0000  11.0000\n",
       "660   Default  10.000000        found  10.000000  10.0000  10.0000\n",
       "729   Default  10.000000    longitude  10.000000   9.0000   9.0000\n",
       "364   Default  11.000000          But  11.000000   8.0000   8.0000\n",
       "973   Default  12.000000        would  12.000000   7.0000   7.0000\n",
       "557   Default  10.000000         come  10.000000   6.0000   6.0000\n",
       "655   Default  11.000000    following  11.000000   5.0000   5.0000\n",
       "918   Default  10.000000        table  10.000000   4.0000   4.0000\n",
       "911   Default   9.000000          sum   9.000000   3.0000   3.0000\n",
       "789   Default  11.000000        orbit  11.000000   2.0000   2.0000\n",
       "161   Default  10.000000           24  10.000000   1.0000   1.0000\n",
       "...       ...        ...          ...        ...      ...      ...\n",
       "845    Topic3   0.006325    reduction   7.781555  -0.0640  -5.7659\n",
       "912    Topic3   0.016810          sun  30.281178  -0.4453  -4.7884\n",
       "911    Topic3   0.007425          sum   9.827948  -0.1371  -5.6055\n",
       "606    Topic3   0.012283      diurnal  19.896826  -0.3391  -5.1022\n",
       "458    Topic3   0.011155    Therefore  17.457022  -0.3047  -5.1985\n",
       "271    Topic3   0.005918            5   7.257531  -0.0608  -5.8323\n",
       "717    Topic3   0.021570     latitude  45.145920  -0.5954  -4.5391\n",
       "778    Topic3   0.006471     observed   8.299899  -0.1057  -5.7431\n",
       "777    Topic3   0.009504  observation  14.647880  -0.2893  -5.3587\n",
       "450    Topic3   0.006272        Spica   8.082779  -0.1105  -5.7743\n",
       "729    Topic3   0.007574    longitude  10.732051  -0.2053  -5.5857\n",
       "918    Topic3   0.007348        table  10.433797  -0.2073  -5.6159\n",
       "689    Topic3   0.011075         hour  19.086655  -0.4010  -5.2057\n",
       "749    Topic3   0.005637       moment   7.081285  -0.0848  -5.8810\n",
       "161    Topic3   0.007057           24  10.031524  -0.2085  -5.6564\n",
       "774    Topic3   0.009835        north  16.727674  -0.3879  -5.3244\n",
       "747    Topic3   0.010728       minute  19.147688  -0.4361  -5.2375\n",
       "806    Topic3   0.005410       planet   6.821796  -0.0886  -5.9221\n",
       "237    Topic3   0.003407            4   3.412555   0.1417  -6.3845\n",
       "587    Topic3   0.010495          day  19.541693  -0.4785  -5.2595\n",
       "794    Topic3   0.012361     parallax  26.257591  -0.6102  -5.0959\n",
       "364    Topic3   0.007321          But  11.441908  -0.3033  -5.6196\n",
       "752    Topic3   0.011138       motion  23.365162  -0.5977  -5.2000\n",
       "885    Topic3   0.008858        since  16.185492  -0.4596  -5.4291\n",
       "557    Topic3   0.006912         come  10.897275  -0.3120  -5.6772\n",
       "788    Topic3   0.009223   opposition  19.362917  -0.5984  -5.3887\n",
       "928    Topic3   0.008028         time  14.898376  -0.4751  -5.5275\n",
       "923    Topic3   0.007231    therefore  12.892357  -0.4351  -5.6321\n",
       "973    Topic3   0.007054        would  12.023583  -0.3901  -5.6569\n",
       "655    Topic3   0.006560    following  11.171325  -0.3892  -5.7295\n",
       "\n",
       "[225 rows x 6 columns], token_table=      Topic      Freq                Term\n",
       "term                                     \n",
       "4         1  1.023911                   1\n",
       "31        1  0.869497             12h 40m\n",
       "51        1  0.897784                  15\n",
       "57        1  0.853301     1585 January 31\n",
       "61        1  0.879938                1591\n",
       "70        1  0.859708                1604\n",
       "73        1  0.907550                 16°\n",
       "77        1  0.878630  16° 54' 32\" Cancer\n",
       "83        1  0.841409             17° 26'\n",
       "85        1  0.886630  17° 31' 40\" Taurus\n",
       "96        1  0.848998   18° 37' 50\" Libra\n",
       "101       1  0.859961                 19°\n",
       "127       1  0.873497              1° 40'\n",
       "132       1  0.861842           1° 9' 45\"\n",
       "150       1  0.863218             22' 36\"\n",
       "156       1  0.955066                  23\n",
       "161       1  0.996858                  24\n",
       "163       1  0.889263             24' 18\"\n",
       "179       1  0.900704                 27⅓\n",
       "196       1  1.057483                  2½\n",
       "211       1  0.866880         37° 19' 50\"\n",
       "226       1  0.892682              3° 33'\n",
       "237       1  0.879107                   4\n",
       "253       1  0.991480                  4°\n",
       "257       1  0.881838               4° 2'\n",
       "271       1  0.964515                   5\n",
       "289       1  0.902981                 56°\n",
       "293       1  0.888985              57' 8\"\n",
       "298       1  0.874336                 58½\n",
       "307       1  0.948635                   6\n",
       "...     ...       ...                 ...\n",
       "794       1  0.990190            parallax\n",
       "806       1  1.026123              planet\n",
       "808       1  1.000544            position\n",
       "840       1  0.876657             reading\n",
       "843       1  0.884642           reckoning\n",
       "845       1  1.028072           reduction\n",
       "848       1  0.918378              relied\n",
       "866       1  1.164879                sake\n",
       "868       1  0.919653              secant\n",
       "870       1  0.879035            sedulous\n",
       "872       1  1.078575                seen\n",
       "885       1  0.988540               since\n",
       "886       1  0.851825                 six\n",
       "898       1  1.006672               south\n",
       "901       1  0.978491                star\n",
       "907       1  1.067426          subtracted\n",
       "908       1  1.091089         subtraction\n",
       "911       1  1.017506                 sum\n",
       "912       1  0.990714                 sun\n",
       "918       1  0.958424               table\n",
       "919       1  0.969556                tail\n",
       "923       1  1.008349           therefore\n",
       "927       1  1.017818                thus\n",
       "928       1  1.006821                time\n",
       "936       1  0.958978                true\n",
       "940       1  0.943308               twice\n",
       "942       1  0.995612                   u\n",
       "952       1  0.855816                used\n",
       "971       1  0.947854                work\n",
       "973       1  0.998039               would\n",
       "\n",
       "[127 rows x 3 columns], R=30, lambda_step=0.01, plot_opts={'xlab': 'PC1', 'ylab': 'PC2'}, topic_order=[3, 1, 2])"
      ]
     },
     "execution_count": 45,
     "metadata": {},
     "output_type": "execute_result"
    }
   ],
   "source": [
    "vis"
   ]
  },
  {
   "cell_type": "markdown",
   "metadata": {},
   "source": [
    "# Topic Modelling of chapter 30"
   ]
  },
  {
   "cell_type": "code",
   "execution_count": 108,
   "metadata": {},
   "outputs": [
    {
     "data": {
      "text/html": [
       "\n",
       "<link rel=\"stylesheet\" type=\"text/css\" href=\"https://cdn.rawgit.com/bmabey/pyLDAvis/files/ldavis.v1.0.0.css\">\n",
       "\n",
       "\n",
       "<div id=\"ldavis_el1306017232374730402109834384\"></div>\n",
       "<script type=\"text/javascript\">\n",
       "\n",
       "var ldavis_el1306017232374730402109834384_data = {\"mdsDat\": {\"x\": [-0.009324448849558976, 0.0034653829251662807, 0.005859065924392705], \"y\": [0.0, 0.0, 0.0], \"topics\": [1, 2, 3], \"cluster\": [1, 1, 1], \"Freq\": [99.97313690185547, 0.013493522070348263, 0.013370848260819912]}, \"tinfo\": {\"Category\": [\"Default\", \"Default\", \"Default\", \"Default\", \"Default\", \"Default\", \"Default\", \"Default\", \"Default\", \"Default\", \"Default\", \"Default\", \"Default\", \"Default\", \"Default\", \"Default\", \"Default\", \"Default\", \"Default\", \"Default\", \"Default\", \"Default\", \"Default\", \"Default\", \"Default\", \"Default\", \"Default\", \"Default\", \"Default\", \"Default\", \"Topic1\", \"Topic1\", \"Topic1\", \"Topic1\", \"Topic1\", \"Topic1\", \"Topic1\", \"Topic1\", \"Topic1\", \"Topic1\", \"Topic1\", \"Topic1\", \"Topic1\", \"Topic1\", \"Topic1\", \"Topic1\", \"Topic1\", \"Topic1\", \"Topic1\", \"Topic1\", \"Topic1\", \"Topic1\", \"Topic1\", \"Topic1\", \"Topic1\", \"Topic1\", \"Topic1\", \"Topic1\", \"Topic1\", \"Topic1\", \"Topic1\", \"Topic1\", \"Topic1\", \"Topic1\", \"Topic1\", \"Topic1\", \"Topic1\", \"Topic1\", \"Topic1\", \"Topic1\", \"Topic1\", \"Topic2\", \"Topic2\", \"Topic2\", \"Topic2\", \"Topic2\", \"Topic2\", \"Topic2\", \"Topic2\", \"Topic2\", \"Topic2\", \"Topic2\", \"Topic2\", \"Topic2\", \"Topic2\", \"Topic2\", \"Topic2\", \"Topic2\", \"Topic2\", \"Topic2\", \"Topic2\", \"Topic2\", \"Topic2\", \"Topic2\", \"Topic2\", \"Topic2\", \"Topic2\", \"Topic2\", \"Topic2\", \"Topic2\", \"Topic2\", \"Topic2\", \"Topic2\", \"Topic2\", \"Topic2\", \"Topic2\", \"Topic2\", \"Topic2\", \"Topic2\", \"Topic2\", \"Topic2\", \"Topic2\", \"Topic2\", \"Topic2\", \"Topic2\", \"Topic2\", \"Topic2\", \"Topic2\", \"Topic2\", \"Topic2\", \"Topic2\", \"Topic2\", \"Topic2\", \"Topic2\", \"Topic2\", \"Topic2\", \"Topic2\", \"Topic2\", \"Topic2\", \"Topic2\", \"Topic2\", \"Topic2\", \"Topic2\", \"Topic2\", \"Topic2\", \"Topic2\", \"Topic2\", \"Topic2\", \"Topic2\", \"Topic2\", \"Topic2\", \"Topic3\", \"Topic3\", \"Topic3\", \"Topic3\", \"Topic3\", \"Topic3\", \"Topic3\", \"Topic3\", \"Topic3\", \"Topic3\", \"Topic3\", \"Topic3\", \"Topic3\", \"Topic3\", \"Topic3\", \"Topic3\", \"Topic3\", \"Topic3\", \"Topic3\", \"Topic3\", \"Topic3\", \"Topic3\", \"Topic3\", \"Topic3\", \"Topic3\", \"Topic3\", \"Topic3\", \"Topic3\", \"Topic3\", \"Topic3\", \"Topic3\", \"Topic3\", \"Topic3\", \"Topic3\", \"Topic3\", \"Topic3\", \"Topic3\", \"Topic3\", \"Topic3\", \"Topic3\", \"Topic3\", \"Topic3\", \"Topic3\", \"Topic3\", \"Topic3\", \"Topic3\", \"Topic3\", \"Topic3\", \"Topic3\", \"Topic3\", \"Topic3\", \"Topic3\", \"Topic3\", \"Topic3\", \"Topic3\", \"Topic3\", \"Topic3\", \"Topic3\", \"Topic3\", \"Topic3\", \"Topic3\", \"Topic3\", \"Topic3\", \"Topic3\", \"Topic3\", \"Topic3\", \"Topic3\", \"Topic3\", \"Topic3\", \"Topic3\", \"Topic3\", \"Topic3\", \"Topic3\", \"Topic3\"], \"Freq\": [59.0, 52.0, 56.0, 48.0, 40.0, 41.0, 36.0, 33.0, 31.0, 26.0, 27.0, 26.0, 20.0, 24.0, 23.0, 19.0, 20.0, 20.0, 18.0, 18.0, 15.0, 15.0, 15.0, 15.0, 15.0, 13.0, 14.0, 12.0, 13.0, 13.0, 56.89910888671875, 41.22734832763672, 31.708209991455078, 18.11516761779785, 20.786888122558594, 24.352581024169922, 59.14899826049805, 9.838542938232422, 36.587894439697266, 48.07051467895508, 13.352801322937012, 20.483781814575195, 27.562503814697266, 23.097368240356445, 7.100220203399658, 33.67533874511719, 26.552385330200195, 11.464822769165039, 51.99961853027344, 10.55489444732666, 11.412924766540527, 7.901414394378662, 13.154973030090332, 15.759778022766113, 10.471933364868164, 8.709314346313477, 15.672489166259766, 9.585770606994629, 13.934358596801758, 13.929160118103027, 40.911338806152344, 26.890092849731445, 20.66963768005371, 19.94315528869629, 18.02204132080078, 15.331170082092285, 15.206891059875488, 15.181846618652344, 14.320231437683105, 13.789754867553711, 13.681883811950684, 0.0003232606977690011, 0.00030964796314947307, 0.00031194655457511544, 0.0003159808402415365, 0.00030948701896704733, 0.00030429280013777316, 0.0003073782136198133, 0.0003047663776669651, 0.0003013338427990675, 0.0003019165596924722, 0.0003069200029131025, 0.0003050550876650959, 0.00030777964275330305, 0.00030256970785558224, 0.0003024823672603816, 0.0002967318578157574, 0.00030174842686392367, 0.000299064937280491, 0.0002988415362779051, 0.00029957955121062696, 0.00029926103889010847, 0.0003028365026693791, 0.000295076344627887, 0.0002978231350425631, 0.0003045015037059784, 0.0002966183819808066, 0.0002990245120599866, 0.00029977437225170434, 0.0002937771787401289, 0.0003011872759088874, 0.000298539933282882, 0.005019959062337875, 0.0027213874273002148, 0.0020193802192807198, 0.001871020533144474, 0.0030898901168257, 0.005608140490949154, 0.004743572324514389, 0.0049097537994384766, 0.000679355813190341, 0.0023175657261162996, 0.00479748984798789, 0.0008733113063499331, 0.0013949520653113723, 0.0015779284294694662, 0.001778461504727602, 0.0030401472467929125, 0.0015505856135860085, 0.003168546361848712, 0.0010864125797525048, 0.0025050221011042595, 0.002794048748910427, 0.001122551504522562, 0.000753667438402772, 0.002506284974515438, 0.0014253042172640562, 0.0014673833502456546, 0.003212427720427513, 0.001308092731051147, 0.001836933079175651, 0.001647945842705667, 0.0010000410256907344, 0.00152367795817554, 0.001289532519876957, 0.002006726572290063, 0.002017667517066002, 0.0012237802147865295, 0.0015704944962635636, 0.001648477977141738, 0.0016251284396275878, 0.0003122342168353498, 0.00031816543196327984, 0.0003177333564963192, 0.00031703594140708447, 0.00030096503905951977, 0.0003120354958809912, 0.0003096196742262691, 0.0003105982905253768, 0.00031502891215495765, 0.0003072843828704208, 0.00030935651739127934, 0.0003068754158448428, 0.00030872129718773067, 0.00030699759372510016, 0.0003064403426833451, 0.00029929375159554183, 0.00029735921998508275, 0.0003116107836831361, 0.00030518381390720606, 0.0003100468311458826, 0.00030320981750264764, 0.00030258981860242784, 0.00030631295521743596, 0.0003064494812861085, 0.000302622007438913, 0.00030022027203813195, 0.00029291759710758924, 0.0003049456572625786, 0.0002940687700174749, 0.000305913359625265, 0.0003049146616831422, 0.00030315801268443465, 0.0018605745863169432, 0.002643067855387926, 0.002060730941593647, 0.004083647392690182, 0.0047078002244234085, 0.0027784653939306736, 0.0021997829899191856, 0.0013269869377836585, 0.0009542981861159205, 0.00463581969961524, 0.003296208567917347, 0.0030667283572256565, 0.0037952454295009375, 0.0033465144224464893, 0.001087537151761353, 0.0011048364685848355, 0.0009973810520023108, 0.0010655340738594532, 0.0010814686538651586, 0.00158324942458421, 0.0020076779183000326, 0.0024270941503345966, 0.0018321577226743102, 0.001050553866662085, 0.002147366525605321, 0.002326840301975608, 0.0011307052336633205, 0.0012543168850243092, 0.0014881440438330173, 0.0014122547581791878, 0.0021104440093040466, 0.0035402304492890835, 0.002473196480423212, 0.0016041313065215945, 0.001875618938356638, 0.0014684596098959446, 0.00147756387013942, 0.0014476175419986248, 0.0013510591816157103, 0.0013941372744739056, 0.0014135584933683276, 0.0014429179718717933], \"Term\": [\"eccentr\", \"observ\", \"planet\", \"\\u03b4\", \"let\", \"line\", \"one\", \"\\u03b1\", \"point\", \"center\", \"differ\", \"posit\", \"epicycl\", \"path\", \"\\u03b3\", \"hypothesi\", \"would\", \"form\", \"appear\", \"angl\", \"equant\", \"equal\", \"\\u03b2\", \"first\", \"place\", \"therefor\", \"time\", \"ptolema\", \"apsi\", \"sinc\", \"planet\", \"line\", \"point\", \"angl\", \"form\", \"path\", \"eccentr\", \"chang\", \"one\", \"\\u03b4\", \"remain\", \"would\", \"differ\", \"\\u03b3\", \"entir\", \"\\u03b1\", \"posit\", \"Ch\", \"observ\", \"greater\", \"thi\", \"travers\", \"inequ\", \"place\", \"equat\", \"\\u03b1\\u03b2\", \"first\", \"equival\", \"shall\", \"but\", \"let\", \"center\", \"epicycl\", \"hypothesi\", \"appear\", \"\\u03b2\", \"equant\", \"equal\", \"time\", \"therefor\", \"sinc\", \"sine\", \"\\u03c1\\u03b8\\u03bf\", \"turn\", \"unmov\", \"it\", \"\\u03b3\\u03c3\", \"\\u03b5\\u03bf\", \"\\u03b2\\u03b7\", \"simul\", \"accumul\", \"congruent\", \"shift\", \"whenc\", \"fashion\", \"\\u03b5o\", \"sever\", \"\\u03b2\\u03c75\", \"diverg\", \"period\", \"chiefli\", \"increment\", \"within\", \"\\u03bd\\u03c5\", \"earlier\", \"\\u03b8\\u03c5\\u03b3\", \"\\u03c1\\u03c4\", \"impedi\", \"\\u03b2\\u03b3\\u03c6\", \"4' 43\\\"\", \"later\", \"endpoint\", \"let\", \"epicycl\", \"equal\", \"therefor\", \"center\", \"eccentr\", \"\\u03b4\", \"observ\", \"fix\", \"hypothesi\", \"planet\", \"right\", \"describ\", \"ptolema\", \"\\u03b2\", \"\\u03b1\", \"parallel\", \"one\", \"\\u03b8\", \"posit\", \"point\", \"true\", \"heaven\", \"differ\", \"much\", \"copernican\", \"line\", \"\\u03b2\\u03b3\", \"appear\", \"first\", \"comput\", \"time\", \"demonstr\", \"\\u03b3\", \"path\", \"second\", \"angl\", \"would\", \"form\", \"\\u03c7\\u03b2\", \"verg\", \"On\", \"15\", \"\\u03b3\\u03c3\", \"\\u03b3\\u03b9\", \"postul\", \"perplex\", \"78\\u00b0 47' 30\\\"\", \"advis\", \"neighborhood\", \"ought\", \"5\", \"origin\", \"violent\", \"sever\", \"simul\", \"earth\", \"extrem\", \"design\", \"someth\", \"\\u03c8\\u03b3\", \"intercept\", \"29\\u00b0 0' 16\\\" leo\", \"onc\", \"\\u03b3\\u03ba\\u03b6\", \"\\u03c1\\u03b8\\u03bf\", \"o\\u03c1\", \"accumul\", \"practitioners4\", \"\\u0393\\u03b3\", \"except\", \"ptolema\", \"epicycl\", \"equant\", \"let\", \"observ\", \"center\", \"hypothesi\", \"\\u03b9\", \"nearli\", \"eccentr\", \"one\", \"\\u03b1\", \"\\u03b4\", \"line\", \"make\", \"In\", \"\\u03b1\\u03b3\", \"appar\", \"\\u03b5\", \"time\", \"would\", \"differ\", \"appear\", \"\\u03b8\", \"\\u03b3\", \"posit\", \"use\", \"describ\", \"therefor\", \"new\", \"path\", \"planet\", \"point\", \"place\", \"form\", \"sinc\", \"but\", \"apsi\", \"copernican\", \"shall\", \"\\u03b2\", \"angl\"], \"Total\": [59.0, 52.0, 56.0, 48.0, 40.0, 41.0, 36.0, 33.0, 31.0, 26.0, 27.0, 26.0, 20.0, 24.0, 23.0, 19.0, 20.0, 20.0, 18.0, 18.0, 15.0, 15.0, 15.0, 15.0, 15.0, 13.0, 14.0, 12.0, 13.0, 13.0, 56.907447814941406, 41.23390579223633, 31.713478088378906, 18.118181228637695, 20.790388107299805, 24.356708526611328, 59.15924072265625, 9.840262413024902, 36.5943603515625, 48.07905197143555, 13.355184555053711, 20.487438201904297, 27.56743621826172, 23.10152244567871, 7.101500034332275, 33.68144607543945, 26.55721664428711, 11.466931343078613, 52.00923538208008, 10.556866645812988, 11.415066719055176, 7.902902126312256, 13.157452583312988, 15.762773513793945, 10.473943710327148, 8.710991859436035, 15.675512313842773, 9.587620735168457, 13.937055587768555, 13.931863784790039, 40.92044448852539, 26.89596176147461, 20.675003051757812, 19.94767189025879, 18.025711059570312, 15.334362030029297, 15.210183143615723, 15.185099601745605, 14.323338508605957, 13.793113708496094, 13.684707641601562, 1.2365294694900513, 1.210787057876587, 1.2219699621200562, 1.2445762157440186, 1.2236441373825073, 1.2062489986419678, 1.238279938697815, 1.2326931953430176, 1.2193211317062378, 1.2245001792907715, 1.2518200874328613, 1.245179295539856, 1.2631633281707764, 1.2419854402542114, 1.2443320751190186, 1.2250741720199585, 1.2507671117782593, 1.2441507577896118, 1.244097352027893, 1.2550143003463745, 1.2537328004837036, 1.2707027196884155, 1.2394157648086548, 1.2534832954406738, 1.283186912536621, 1.2514843940734863, 1.265382170677185, 1.2706489562988281, 1.2489635944366455, 1.2807862758636475, 1.2695547342300415, 40.92044448852539, 20.675003051757812, 15.185099601745605, 13.793113708496094, 26.89596176147461, 59.15924072265625, 48.07905197143555, 52.00923538208008, 3.7392518520355225, 19.94767189025879, 56.907447814941406, 5.423022747039795, 10.396781921386719, 12.469795227050781, 15.334362030029297, 33.68144607543945, 12.854092597961426, 36.5943603515625, 7.804450988769531, 26.55721664428711, 31.713478088378906, 8.316001892089844, 4.639405250549316, 27.56743621826172, 11.919062614440918, 12.474224090576172, 41.23390579223633, 10.661249160766602, 18.025711059570312, 15.675512313842773, 7.193573474884033, 14.323338508605957, 10.912220001220703, 23.10152244567871, 24.356708526611328, 10.005061149597168, 18.118181228637695, 20.487438201904297, 20.790388107299805, 1.2250055074691772, 1.2619105577468872, 1.2617239952087402, 1.2622087001800537, 1.2062489986419678, 1.2508838176727295, 1.2419354915618896, 1.2506353855133057, 1.2765991687774658, 1.2470964193344116, 1.2596501111984253, 1.249719262123108, 1.2595070600509644, 1.2537152767181396, 1.252049446105957, 1.2250741720199585, 1.2193211317062378, 1.2800817489624023, 1.2541122436523438, 1.2768235206604004, 1.2496063709259033, 1.247359037399292, 1.2627073526382446, 1.263370156288147, 1.248140811920166, 1.2396421432495117, 1.210787057876587, 1.263245940208435, 1.2245001792907715, 1.2744956016540527, 1.2705107927322388, 1.2638205289840698, 12.469795227050781, 20.675003051757812, 15.210183143615723, 40.92044448852539, 52.00923538208008, 26.89596176147461, 19.94767189025879, 9.83237361907959, 6.2671427726745605, 59.15924072265625, 36.5943603515625, 33.68144607543945, 48.07905197143555, 41.23390579223633, 8.089712142944336, 8.302467346191406, 7.149312973022461, 7.9125165939331055, 8.105913162231445, 14.323338508605957, 20.487438201904297, 27.56743621826172, 18.025711059570312, 7.804450988769531, 23.10152244567871, 26.55721664428711, 8.858592987060547, 10.396781921386719, 13.793113708496094, 12.761002540588379, 24.356708526611328, 56.907447814941406, 31.713478088378906, 15.762773513793945, 20.790388107299805, 13.684707641601562, 13.931863784790039, 13.664767265319824, 12.474224090576172, 13.937055587768555, 15.334362030029297, 18.118181228637695], \"loglift\": [30.0, 29.0, 28.0, 27.0, 26.0, 25.0, 24.0, 23.0, 22.0, 21.0, 20.0, 19.0, 18.0, 17.0, 16.0, 15.0, 14.0, 13.0, 12.0, 11.0, 10.0, 9.0, 8.0, 7.0, 6.0, 5.0, 4.0, 3.0, 2.0, 1.0, 9.999999747378752e-05, 9.999999747378752e-05, 9.999999747378752e-05, 9.999999747378752e-05, 9.999999747378752e-05, 9.999999747378752e-05, 9.999999747378752e-05, 9.999999747378752e-05, 9.999999747378752e-05, 9.999999747378752e-05, 9.999999747378752e-05, 9.999999747378752e-05, 9.999999747378752e-05, 9.999999747378752e-05, 9.999999747378752e-05, 9.999999747378752e-05, 9.999999747378752e-05, 9.999999747378752e-05, 9.999999747378752e-05, 9.999999747378752e-05, 9.999999747378752e-05, 9.999999747378752e-05, 9.999999747378752e-05, 9.999999747378752e-05, 9.999999747378752e-05, 9.999999747378752e-05, 9.999999747378752e-05, 9.999999747378752e-05, 9.999999747378752e-05, 9.999999747378752e-05, 0.0, 9.999999747378752e-05, 0.0, 0.0, 9.999999747378752e-05, 9.999999747378752e-05, 9.999999747378752e-05, 9.999999747378752e-05, 9.999999747378752e-05, 0.0, 9.999999747378752e-05, 0.6614000201225281, 0.6394000053405762, 0.6376000046730042, 0.632099986076355, 0.6283000111579895, 0.6256999969482422, 0.6096000075340271, 0.6054999828338623, 0.6050999760627747, 0.6028000116348267, 0.5971999764442444, 0.5964000225067139, 0.5910000205039978, 0.5907999873161316, 0.5885999798774719, 0.5849999785423279, 0.5809999704360962, 0.5774000287055969, 0.57669997215271, 0.5703999996185303, 0.5703999996185303, 0.5687999725341797, 0.567799985408783, 0.5658000111579895, 0.5644999742507935, 0.5633000135421753, 0.5604000091552734, 0.5587000250816345, 0.5557000041007996, 0.5554999709129333, 0.555400013923645, -0.09520000219345093, -0.024800000712275505, -0.014600000344216824, 0.0052999998442828655, -0.16089999675750732, -0.3531000018119812, -0.31310001015663147, -0.3571999967098236, 0.29750001430511475, -0.14959999918937683, -0.47040000557899475, 0.17679999768733978, -0.00570000009611249, -0.06419999897480011, -0.15139999985694885, -0.40209999680519104, -0.11209999769926071, -0.44369998574256897, 0.031099999323487282, -0.3580000102519989, -0.4262999892234802, 0.00039999998989515007, 0.18559999763965607, -0.39489999413490295, -0.12080000340938568, -0.1371999979019165, -0.5493000149726868, -0.09510000050067902, -0.2806999981403351, -0.24959999322891235, 0.02979999966919422, -0.2378000020980835, -0.13259999454021454, -0.44040000438690186, -0.4878999888896942, -0.0982000008225441, -0.4426000118255615, -0.5170000195503235, -0.5458999872207642, 0.6450999975204468, 0.6342999935150146, 0.6330999732017517, 0.6305000185966492, 0.6237999796867371, 0.6236000061035156, 0.6230000257492065, 0.6191999912261963, 0.6128000020980835, 0.611299991607666, 0.6079999804496765, 0.6079000234603882, 0.6061000227928162, 0.6050999760627747, 0.6046000123023987, 0.6028000116348267, 0.6010000109672546, 0.5992000102996826, 0.598800003528595, 0.5967000126838684, 0.5958999991416931, 0.5957000255584717, 0.5957000255584717, 0.5956000089645386, 0.5952000021934509, 0.593999981880188, 0.5929999947547913, 0.5907999873161316, 0.5856000185012817, 0.585099995136261, 0.5849999785423279, 0.5845000147819519, 0.10970000177621841, -0.04490000009536743, 0.013199999928474426, -0.29249998927116394, -0.39010000228881836, -0.257999986410141, -0.19269999861717224, 0.00930000003427267, 0.12999999523162842, -0.5343000292778015, -0.39500001072883606, -0.38420000672340393, -0.5270000100135803, -0.4991999864578247, 0.005400000140070915, -0.004800000227987766, 0.042500000447034836, 0.0071000000461936, -0.002199999988079071, -0.19030000269412994, -0.310699999332428, -0.41780000925064087, -0.2741999924182892, 0.0066999997943639755, -0.3635999858379364, -0.4226999878883362, -0.04650000110268593, -0.10279999673366547, -0.21449999511241913, -0.1890999972820282, -0.43380001187324524, -0.7651000022888184, -0.5390999913215637, -0.27300000190734863, -0.3935000002384186, -0.2199999988079071, -0.23170000314712524, -0.23280000686645508, -0.21070000529289246, -0.29019999504089355, -0.3718999922275543, -0.5181999802589417], \"logprob\": [30.0, 29.0, 28.0, 27.0, 26.0, 25.0, 24.0, 23.0, 22.0, 21.0, 20.0, 19.0, 18.0, 17.0, 16.0, 15.0, 14.0, 13.0, 12.0, 11.0, 10.0, 9.0, 8.0, 7.0, 6.0, 5.0, 4.0, 3.0, 2.0, 1.0, -3.8861000537872314, -4.2083001136779785, -4.470799922943115, -5.030700206756592, -4.893099784851074, -4.734799861907959, -3.847399950027466, -5.64109992980957, -4.327700138092041, -4.054699897766113, -5.335700035095215, -4.907800197601318, -4.611000061035156, -4.787700176239014, -5.967299938201904, -4.410699844360352, -4.6483001708984375, -5.488100051879883, -3.9762001037597656, -5.570799827575684, -5.492700099945068, -5.860400199890137, -5.350599765777588, -5.170000076293945, -5.578700065612793, -5.763000011444092, -5.17549991607666, -5.667099952697754, -5.293099880218506, -5.293399810791016, -4.216000080108643, -4.635700225830078, -4.898799896240234, -4.934500217437744, -5.035799980163574, -5.197500228881836, -5.205699920654297, -5.207300186157227, -5.265699863433838, -5.303500175476074, -5.311299800872803, -7.053999900817871, -7.0970001220703125, -7.089600086212158, -7.0767998695373535, -7.097599983215332, -7.114500045776367, -7.104400157928467, -7.1128997802734375, -7.124300003051758, -7.122300148010254, -7.105899810791016, -7.111999988555908, -7.103099822998047, -7.120200157165527, -7.120500087738037, -7.139699935913086, -7.122900009155273, -7.131800174713135, -7.132599830627441, -7.130099773406982, -7.131199836730957, -7.11929988861084, -7.145199775695801, -7.136000156402588, -7.113800048828125, -7.139999866485596, -7.131999969482422, -7.12939977645874, -7.149700164794922, -7.12470006942749, -7.133600234985352, -4.311299800872803, -4.923600196838379, -5.22189998626709, -5.2982001304626465, -4.796599864959717, -4.200500011444092, -4.3678998947143555, -4.333499908447266, -6.311299800872803, -5.084199905395508, -4.356599807739258, -6.060200214385986, -5.591899871826172, -5.468599796295166, -5.348999977111816, -4.81279993057251, -5.486100196838379, -4.771500110626221, -5.841800212860107, -5.006400108337402, -4.897200107574463, -5.809100151062012, -6.207499980926514, -5.005899906158447, -5.570300102233887, -5.541200160980225, -4.757699966430664, -5.656199932098389, -5.3165998458862305, -5.42519998550415, -5.924699783325195, -5.503600120544434, -5.670400142669678, -5.2281999588012695, -5.222799777984619, -5.722799777984619, -5.473299980163574, -5.424900054931641, -5.4390997886657715, -7.079599857330322, -7.060800075531006, -7.062099933624268, -7.064300060272217, -7.116399765014648, -7.0802001953125, -7.0879998207092285, -7.084799766540527, -7.070700168609619, -7.095600128173828, -7.088900089263916, -7.09689998626709, -7.09089994430542, -7.096499919891357, -7.098299980163574, -7.1219000816345215, -7.128399848937988, -7.081600189208984, -7.102399826049805, -7.086599826812744, -7.10890007019043, -7.111000061035156, -7.098700046539307, -7.098299980163574, -7.110899925231934, -7.118800163269043, -7.143499851226807, -7.1031999588012695, -7.139500141143799, -7.099999904632568, -7.103300094604492, -7.109099864959717, -5.2947001457214355, -4.943699836730957, -5.192500114440918, -4.508600234985352, -4.366399765014648, -4.893700122833252, -5.127200126647949, -5.632699966430664, -5.962399959564209, -4.381800174713135, -4.722799777984619, -4.795000076293945, -4.5817999839782715, -4.707699775695801, -5.831699848175049, -5.815899848937988, -5.9182000160217285, -5.852099895477295, -5.837299823760986, -5.456099987030029, -5.218599796295166, -5.028900146484375, -5.310100078582764, -5.866300106048584, -5.151299953460693, -5.071100234985352, -5.792799949645996, -5.689000129699707, -5.518099784851074, -5.570400238037109, -5.168700218200684, -4.651400089263916, -5.0100998878479, -5.442999839782715, -5.2866997718811035, -5.531400203704834, -5.525199890136719, -5.5457000732421875, -5.614699840545654, -5.5833001136779785, -5.569499969482422, -5.548900127410889]}, \"token.table\": {\"Topic\": [1, 1, 1, 1, 1, 1, 1, 1, 1, 1, 1, 1, 1, 1, 1, 1, 1, 1, 1, 1, 1, 1, 1, 1, 1, 1, 1, 1, 1, 1, 1, 1, 1, 1, 1, 1, 1, 1, 1, 1, 1, 1, 1, 1, 1, 1, 1, 1, 1, 1, 1, 1, 1, 1, 1, 1, 1, 1, 1, 1, 1, 1, 1, 1, 1, 1, 1, 1, 1, 1, 1, 1, 1, 1, 1, 1, 1, 1, 1, 1, 1, 1, 1, 1, 1, 1, 1, 1, 1, 1, 1, 1, 1, 1, 1, 1, 1, 1, 1, 1, 1, 1, 1, 1, 1, 1, 1, 1, 1, 1, 1, 1, 1, 1, 1, 1, 1, 1, 1, 1, 1, 1, 1], \"Freq\": [0.7922620177268982, 0.7915336489677429, 0.8006638288497925, 0.7939614057540894, 0.7833312153816223, 0.9592801928520203, 0.9635689854621887, 0.7925663590431213, 0.8166597485542297, 0.8018625974655151, 0.9934772253036499, 1.0110563039779663, 0.9985736608505249, 1.024532675743103, 1.0048906803131104, 1.0038682222366333, 1.0162330865859985, 0.7968036532402039, 0.9730907678604126, 0.7988368272781372, 0.9619836807250977, 1.0080442428588867, 0.9618360996246338, 0.7831935882568359, 1.0156911611557007, 0.8037611246109009, 0.7977768778800964, 0.781200110912323, 0.9973082542419434, 0.7876777648925781, 0.9857072234153748, 1.0157192945480347, 0.9878104329109192, 0.9861814379692078, 0.9547502398490906, 1.0430116653442383, 0.7912515997886658, 0.797376811504364, 0.8051624298095703, 1.0207003355026245, 1.069732666015625, 1.0100821256637573, 1.0419758558273315, 1.0777243375778198, 1.0026233196258545, 0.7902750968933105, 0.7976180911064148, 0.9880331754684448, 0.7919491529464722, 0.8172310590744019, 0.7807703614234924, 1.0019441843032837, 0.9943273663520813, 0.9889103174209595, 1.0067906379699707, 0.957374095916748, 0.7938712239265442, 1.0187287330627441, 0.9998224377632141, 0.8011916279792786, 1.011084794998169, 0.7976292967796326, 0.8001797199249268, 0.7916114926338196, 1.0113509893417358, 0.9853548407554626, 0.8037956357002258, 0.7995935678482056, 1.0150498151779175, 1.0016263723373413, 1.0090347528457642, 1.0166728496551514, 0.8051947951316833, 0.7846240997314453, 0.9623253345489502, 0.9734047651290894, 0.9219950437545776, 0.9994941353797913, 0.8162770867347717, 1.004516363143921, 0.8030971884727478, 0.8201285004615784, 1.0230398178100586, 0.8087150454521179, 0.8002520203590393, 1.014999270439148, 0.9636387228965759, 0.977425754070282, 1.0122863054275513, 0.9620007276535034, 0.8183507323265076, 0.8034863471984863, 1.0159627199172974, 0.7924491763114929, 0.7986904978752136, 0.7916632890701294, 0.7869661450386047, 0.976207971572876, 0.7870849967002869, 1.0094578266143799, 1.033177375793457, 0.9791150689125061, 0.9781952500343323, 1.0317740440368652, 0.7869994044303894, 0.8112318515777588, 0.7995093464851379, 0.9956053495407104, 0.7994347810745239, 0.8066844344139099, 0.8290162086486816, 0.9983558058738708, 0.9869338274002075, 0.8036440014839172, 0.8075718283653259, 1.0250561237335205, 0.7793096899986267, 1.0170483589172363, 0.8068317770957947, 0.8259090781211853, 0.7990511059761047, 0.8163228631019592, 0.8016937971115112], \"Term\": [\"15\", \"29\\u00b0 0' 16\\\" leo\", \"4' 43\\\"\", \"5\", \"78\\u00b0 47' 30\\\"\", \"Ch\", \"In\", \"On\", \"accumul\", \"advis\", \"angl\", \"appar\", \"appear\", \"apsi\", \"but\", \"center\", \"chang\", \"chiefli\", \"comput\", \"congruent\", \"copernican\", \"demonstr\", \"describ\", \"design\", \"differ\", \"diverg\", \"earlier\", \"earth\", \"eccentr\", \"endpoint\", \"entir\", \"epicycl\", \"equal\", \"equant\", \"equat\", \"equival\", \"except\", \"extrem\", \"fashion\", \"first\", \"fix\", \"form\", \"greater\", \"heaven\", \"hypothesi\", \"impedi\", \"increment\", \"inequ\", \"intercept\", \"it\", \"later\", \"let\", \"line\", \"make\", \"much\", \"nearli\", \"neighborhood\", \"new\", \"observ\", \"onc\", \"one\", \"origin\", \"ought\", \"o\\u03c1\", \"parallel\", \"path\", \"period\", \"perplex\", \"place\", \"planet\", \"point\", \"posit\", \"postul\", \"practitioners4\", \"ptolema\", \"remain\", \"right\", \"second\", \"sever\", \"shall\", \"shift\", \"simul\", \"sinc\", \"sine\", \"someth\", \"therefor\", \"thi\", \"time\", \"travers\", \"true\", \"turn\", \"unmov\", \"use\", \"verg\", \"violent\", \"whenc\", \"within\", \"would\", \"\\u0393\\u03b3\", \"\\u03b1\", \"\\u03b1\\u03b2\", \"\\u03b1\\u03b3\", \"\\u03b2\", \"\\u03b2\\u03b3\", \"\\u03b2\\u03b3\\u03c6\", \"\\u03b2\\u03b7\", \"\\u03b2\\u03c75\", \"\\u03b3\", \"\\u03b3\\u03b9\", \"\\u03b3\\u03ba\\u03b6\", \"\\u03b3\\u03c3\", \"\\u03b4\", \"\\u03b5\", \"\\u03b5o\", \"\\u03b5\\u03bf\", \"\\u03b8\", \"\\u03b8\\u03c5\\u03b3\", \"\\u03b9\", \"\\u03bd\\u03c5\", \"\\u03c1\\u03b8\\u03bf\", \"\\u03c1\\u03c4\", \"\\u03c7\\u03b2\", \"\\u03c8\\u03b3\"]}, \"R\": 30, \"lambda.step\": 0.01, \"plot.opts\": {\"xlab\": \"PC1\", \"ylab\": \"PC2\"}, \"topic.order\": [3, 2, 1]};\n",
       "\n",
       "function LDAvis_load_lib(url, callback){\n",
       "  var s = document.createElement('script');\n",
       "  s.src = url;\n",
       "  s.async = true;\n",
       "  s.onreadystatechange = s.onload = callback;\n",
       "  s.onerror = function(){console.warn(\"failed to load library \" + url);};\n",
       "  document.getElementsByTagName(\"head\")[0].appendChild(s);\n",
       "}\n",
       "\n",
       "if(typeof(LDAvis) !== \"undefined\"){\n",
       "   // already loaded: just create the visualization\n",
       "   !function(LDAvis){\n",
       "       new LDAvis(\"#\" + \"ldavis_el1306017232374730402109834384\", ldavis_el1306017232374730402109834384_data);\n",
       "   }(LDAvis);\n",
       "}else if(typeof define === \"function\" && define.amd){\n",
       "   // require.js is available: use it to load d3/LDAvis\n",
       "   require.config({paths: {d3: \"https://cdnjs.cloudflare.com/ajax/libs/d3/3.5.5/d3.min\"}});\n",
       "   require([\"d3\"], function(d3){\n",
       "      window.d3 = d3;\n",
       "      LDAvis_load_lib(\"https://cdn.rawgit.com/bmabey/pyLDAvis/files/ldavis.v1.0.0.js\", function(){\n",
       "        new LDAvis(\"#\" + \"ldavis_el1306017232374730402109834384\", ldavis_el1306017232374730402109834384_data);\n",
       "      });\n",
       "    });\n",
       "}else{\n",
       "    // require.js not available: dynamically load d3 & LDAvis\n",
       "    LDAvis_load_lib(\"https://cdnjs.cloudflare.com/ajax/libs/d3/3.5.5/d3.min.js\", function(){\n",
       "         LDAvis_load_lib(\"https://cdn.rawgit.com/bmabey/pyLDAvis/files/ldavis.v1.0.0.js\", function(){\n",
       "                 new LDAvis(\"#\" + \"ldavis_el1306017232374730402109834384\", ldavis_el1306017232374730402109834384_data);\n",
       "            })\n",
       "         });\n",
       "}\n",
       "</script>"
      ],
      "text/plain": [
       "<IPython.core.display.HTML object>"
      ]
     },
     "execution_count": 108,
     "metadata": {},
     "output_type": "execute_result"
    }
   ],
   "source": [
    "pyLDAvis.display(vis) "
   ]
  },
  {
   "cell_type": "code",
   "execution_count": 38,
   "metadata": {},
   "outputs": [],
   "source": [
    "pyLDAvis.save_html(vis,'vis.html') # You can open saved html file  (vis_01)in your browser to see the result. "
   ]
  },
  {
   "cell_type": "markdown",
   "metadata": {},
   "source": [
    "<font size= \"4\">\n",
    "How can we find that how many topics are proper for the model?\n",
    "<font/>"
   ]
  },
  {
   "cell_type": "markdown",
   "metadata": {},
   "source": [
    "## **Coherence Metric**"
   ]
  },
  {
   "cell_type": "code",
   "execution_count": null,
   "metadata": {},
   "outputs": [],
   "source": []
  }
 ],
 "metadata": {
  "kernelspec": {
   "display_name": "Python 3",
   "language": "python",
   "name": "python3"
  },
  "language_info": {
   "codemirror_mode": {
    "name": "ipython",
    "version": 3
   },
   "file_extension": ".py",
   "mimetype": "text/x-python",
   "name": "python",
   "nbconvert_exporter": "python",
   "pygments_lexer": "ipython3",
   "version": "3.7.1"
  }
 },
 "nbformat": 4,
 "nbformat_minor": 2
}
=======
{
 "cells": [
  {
   "cell_type": "markdown",
   "metadata": {},
   "source": [
    "# **Extracting Topic model by  \"Latent Dirichlet Allocation (LDA)\"  of kepler's book: \"Astronomia Nova** \"\n",
    "<font size=\"4\">\n",
    "This notebook demonstrates how to **extract topics **  from documents, corpus, book. We visualize the result in an informative way. Here, an unsupervised learning model LDA is used. **Topic modelling** is based on the basic assumptions that each corpus (book)  consists of different topics and each topic consists of a collection of words.\n",
    "<font/>\n"
   ]
  },
  {
   "cell_type": "markdown",
   "metadata": {},
   "source": [
    "### Import the required tools "
   ]
  },
  {
   "cell_type": "code",
   "execution_count": 1,
   "metadata": {
    "collapsed": true
   },
   "outputs": [
    {
     "name": "stderr",
     "output_type": "stream",
     "text": [
      "[nltk_data] Downloading package punkt to\n",
      "[nltk_data]     C:\\Users\\moha\\AppData\\Roaming\\nltk_data...\n",
      "[nltk_data]   Package punkt is already up-to-date!\n",
      "[nltk_data] Downloading package averaged_perceptron_tagger to\n",
      "[nltk_data]     C:\\Users\\moha\\AppData\\Roaming\\nltk_data...\n",
      "[nltk_data]   Package averaged_perceptron_tagger is already up-to-\n",
      "[nltk_data]       date!\n",
      "[nltk_data] Downloading package wordnet to\n",
      "[nltk_data]     C:\\Users\\moha\\AppData\\Roaming\\nltk_data...\n",
      "[nltk_data]   Package wordnet is already up-to-date!\n"
     ]
    }
   ],
   "source": [
    "import numpy as np\n",
    "import pandas as pd\n",
    "import scipy as sp\n",
    "import matplotlib.pyplot as plt\n",
    "import collections\n",
    "import os\n",
    "import logging\n",
    "import warnings\n",
    "from itertools import permutations\n",
    "from sklearn.metrics import make_scorer,confusion_matrix\n",
    "from sklearn.model_selection import cross_val_score\n",
    "from sklearn.model_selection import RandomizedSearchCV\n",
    "import sklearn_crfsuite  # to install this package in windows with pip please run: 'pip install sklearn-crfsuite'\n",
    "from sklearn_crfsuite import metrics, scorers\n",
    "import nltk\n",
    "from nltk.tokenize import word_tokenize\n",
    "from nltk.tag import pos_tag\n",
    "nltk.download('punkt')\n",
    "nltk.download('averaged_perceptron_tagger')\n",
    "import eli5  # to install this package in windows with conda please run: 'conda install -c conda-forge eli5'\n",
    "from nltk.stem.porter import PorterStemmer\n",
    "from nltk.stem import WordNetLemmatizer \n",
    "from gensim import corpora, models  #  to install this package in windows with conda please run: 'models conda install -c conda-forge gensim'\n",
    "nltk.download('wordnet')\n",
    "%matplotlib inline\n",
    "warnings.filterwarnings(\"ignore\",category=DeprecationWarning)\n",
    "logging.basicConfig(format='%(asctime)s : %(levelname)s : %(message)s', level=logging.ERROR)"
   ]
  },
  {
   "cell_type": "markdown",
   "metadata": {},
   "source": [
    "Please download the data '01_df_v013.pickle' in github on  your local machine from  this directory: vorlesung2019/notebooks/yeghaneh/data"
   ]
  },
  {
   "cell_type": "code",
   "execution_count": 2,
   "metadata": {
    "collapsed": true
   },
   "outputs": [],
   "source": [
    "importVersion = '013'  # The  desired version pickle-file of your data (now we are working on version 013 of our data)"
   ]
  },
  {
   "cell_type": "code",
   "execution_count": 3,
   "metadata": {
    "collapsed": true
   },
   "outputs": [],
   "source": [
    "path = '../data/01_df_v{0}.pickle'.format(importVersion)  # Put the path of the data in your local machine here, consider the letter \"r\" before the path"
   ]
  },
  {
   "cell_type": "markdown",
   "metadata": {},
   "source": [
    "### Let's use data \"01_df_v013\" to build a NER system. \n",
    "<font size=\"3\">The data 01_df_v013 is annotated (labeled) data of english version of well-known kepler's book: New Astronomy (Latin: Astronomia nova). You can find that in the repository.\n",
    "             </font>\n"
   ]
  },
  {
   "cell_type": "markdown",
   "metadata": {},
   "source": [
    "## **Read the data** \n",
    "<font size=\"3\">The data  is saves as a pickle file. We read it as a pandas dataFrame. </font>"
   ]
  },
  {
   "cell_type": "code",
   "execution_count": 4,
   "metadata": {},
   "outputs": [],
   "source": [
    "dfAstroNova = pd.read_pickle(path)  # Put the path of the data in your local machine here, consider the letter \"r\" before the path"
   ]
  },
  {
   "cell_type": "markdown",
   "metadata": {},
   "source": [
    "<font size=\"4\"> Sort the data based on the chapters of the book \n",
    "</font>"
   ]
  },
  {
   "cell_type": "code",
   "execution_count": 5,
   "metadata": {},
   "outputs": [],
   "source": [
    "dfAstroNova['chapter'] = dfAstroNova.chapter.replace(\"appendix b\",np.nan).astype(float)  \n",
    "dfAstroNova.sort_values(by='chapter' , inplace=True)\n",
    "dfAstroNova.chapter.fillna('appendix b', inplace=True)"
   ]
  },
  {
   "cell_type": "code",
   "execution_count": 6,
   "metadata": {},
   "outputs": [
    {
     "data": {
      "text/plain": [
       "1605"
      ]
     },
     "execution_count": 6,
     "metadata": {},
     "output_type": "execute_result"
    }
   ],
   "source": [
    "len(dfAstroNova)   # Number of rows."
   ]
  },
  {
   "cell_type": "code",
   "execution_count": 7,
   "metadata": {},
   "outputs": [
    {
     "data": {
      "text/html": [
       "<div>\n",
       "<style scoped>\n",
       "    .dataframe tbody tr th:only-of-type {\n",
       "        vertical-align: middle;\n",
       "    }\n",
       "\n",
       "    .dataframe tbody tr th {\n",
       "        vertical-align: top;\n",
       "    }\n",
       "\n",
       "    .dataframe thead th {\n",
       "        text-align: right;\n",
       "    }\n",
       "</style>\n",
       "<table border=\"1\" class=\"dataframe\">\n",
       "  <thead>\n",
       "    <tr style=\"text-align: right;\">\n",
       "      <th></th>\n",
       "      <th>html</th>\n",
       "      <th>text</th>\n",
       "      <th>links</th>\n",
       "      <th>italic</th>\n",
       "      <th>chapter</th>\n",
       "      <th>graphic</th>\n",
       "      <th>table</th>\n",
       "      <th>marginal</th>\n",
       "      <th>sentences</th>\n",
       "      <th>tagged</th>\n",
       "    </tr>\n",
       "  </thead>\n",
       "  <tbody>\n",
       "    <tr>\n",
       "      <th>18</th>\n",
       "      <td>&lt;p&gt;&lt;span class=\"anchor\" id=\"bookmark0\"&gt;&lt;/span&gt;...</td>\n",
       "      <td>Chapter 1</td>\n",
       "      <td>[]</td>\n",
       "      <td>[]</td>\n",
       "      <td>1</td>\n",
       "      <td>[]</td>\n",
       "      <td>[]</td>\n",
       "      <td>[]</td>\n",
       "      <td>[Chapter 1]</td>\n",
       "      <td>[[(Chapter, None), (1, NUM)]]</td>\n",
       "    </tr>\n",
       "    <tr>\n",
       "      <th>34</th>\n",
       "      <td>&lt;p&gt;But before that, I shall prove in this firs...</td>\n",
       "      <td>But before that, I shall prove in this first p...</td>\n",
       "      <td>[]</td>\n",
       "      <td>[]</td>\n",
       "      <td>1</td>\n",
       "      <td>[]</td>\n",
       "      <td>[]</td>\n",
       "      <td>[]</td>\n",
       "      <td>[But before that, I shall prove in this first ...</td>\n",
       "      <td>[[(But, None), (before, None), (that, None), (...</td>\n",
       "    </tr>\n",
       "    <tr>\n",
       "      <th>33</th>\n",
       "      <td>&lt;p&gt;But since the sun's mean and apparent motio...</td>\n",
       "      <td>But since the sun's mean and apparent motions*...</td>\n",
       "      <td>[]</td>\n",
       "      <td>[Mysterium cosmographicum,]</td>\n",
       "      <td>1</td>\n",
       "      <td>[]</td>\n",
       "      <td>[]</td>\n",
       "      <td>[ Terms: * The sun's apparent position is that...</td>\n",
       "      <td>[But since the sun's mean and apparent motions...</td>\n",
       "      <td>[[(But, None), (since, None), (the, None), (su...</td>\n",
       "    </tr>\n",
       "    <tr>\n",
       "      <th>32</th>\n",
       "      <td>&lt;p&gt;Now the causes and measures of these inequa...</td>\n",
       "      <td>Now the causes and measures of these inequalit...</td>\n",
       "      <td>[]</td>\n",
       "      <td>[]</td>\n",
       "      <td>1</td>\n",
       "      <td>[]</td>\n",
       "      <td>[]</td>\n",
       "      <td>[ 5]</td>\n",
       "      <td>[Now the causes and measures of these inequali...</td>\n",
       "      <td>[[(Now, None), (the, None), (causes, None), (a...</td>\n",
       "    </tr>\n",
       "    <tr>\n",
       "      <th>30</th>\n",
       "      <td>&lt;p&gt;Again, however, it was noticed that these l...</td>\n",
       "      <td>Again, however, it was noticed that these loop...</td>\n",
       "      <td>[]</td>\n",
       "      <td>[]</td>\n",
       "      <td>1</td>\n",
       "      <td>[]</td>\n",
       "      <td>[]</td>\n",
       "      <td>[]</td>\n",
       "      <td>[Again, however, it was noticed that these loo...</td>\n",
       "      <td>[[(Again, None), (however, None), (it, None), ...</td>\n",
       "    </tr>\n",
       "  </tbody>\n",
       "</table>\n",
       "</div>"
      ],
      "text/plain": [
       "                                                 html  \\\n",
       "18  <p><span class=\"anchor\" id=\"bookmark0\"></span>...   \n",
       "34  <p>But before that, I shall prove in this firs...   \n",
       "33  <p>But since the sun's mean and apparent motio...   \n",
       "32  <p>Now the causes and measures of these inequa...   \n",
       "30  <p>Again, however, it was noticed that these l...   \n",
       "\n",
       "                                                 text links  \\\n",
       "18                                          Chapter 1    []   \n",
       "34  But before that, I shall prove in this first p...    []   \n",
       "33  But since the sun's mean and apparent motions*...    []   \n",
       "32  Now the causes and measures of these inequalit...    []   \n",
       "30  Again, however, it was noticed that these loop...    []   \n",
       "\n",
       "                         italic chapter graphic table  \\\n",
       "18                           []       1      []    []   \n",
       "34                           []       1      []    []   \n",
       "33  [Mysterium cosmographicum,]       1      []    []   \n",
       "32                           []       1      []    []   \n",
       "30                           []       1      []    []   \n",
       "\n",
       "                                             marginal  \\\n",
       "18                                                 []   \n",
       "34                                                 []   \n",
       "33  [ Terms: * The sun's apparent position is that...   \n",
       "32                                               [ 5]   \n",
       "30                                                 []   \n",
       "\n",
       "                                            sentences  \\\n",
       "18                                        [Chapter 1]   \n",
       "34  [But before that, I shall prove in this first ...   \n",
       "33  [But since the sun's mean and apparent motions...   \n",
       "32  [Now the causes and measures of these inequali...   \n",
       "30  [Again, however, it was noticed that these loo...   \n",
       "\n",
       "                                               tagged  \n",
       "18                      [[(Chapter, None), (1, NUM)]]  \n",
       "34  [[(But, None), (before, None), (that, None), (...  \n",
       "33  [[(But, None), (since, None), (the, None), (su...  \n",
       "32  [[(Now, None), (the, None), (causes, None), (a...  \n",
       "30  [[(Again, None), (however, None), (it, None), ...  "
      ]
     },
     "execution_count": 7,
     "metadata": {},
     "output_type": "execute_result"
    }
   ],
   "source": [
    "dfAstroNova.head(5)  "
   ]
  },
  {
   "cell_type": "code",
   "execution_count": 8,
   "metadata": {},
   "outputs": [
    {
     "data": {
      "text/html": [
       "<div>\n",
       "<style scoped>\n",
       "    .dataframe tbody tr th:only-of-type {\n",
       "        vertical-align: middle;\n",
       "    }\n",
       "\n",
       "    .dataframe tbody tr th {\n",
       "        vertical-align: top;\n",
       "    }\n",
       "\n",
       "    .dataframe thead th {\n",
       "        text-align: right;\n",
       "    }\n",
       "</style>\n",
       "<table border=\"1\" class=\"dataframe\">\n",
       "  <thead>\n",
       "    <tr style=\"text-align: right;\">\n",
       "      <th></th>\n",
       "      <th>html</th>\n",
       "      <th>text</th>\n",
       "      <th>links</th>\n",
       "      <th>italic</th>\n",
       "      <th>chapter</th>\n",
       "      <th>graphic</th>\n",
       "      <th>table</th>\n",
       "      <th>marginal</th>\n",
       "      <th>sentences</th>\n",
       "      <th>tagged</th>\n",
       "    </tr>\n",
       "  </thead>\n",
       "  <tbody>\n",
       "    <tr>\n",
       "      <th>594</th>\n",
       "      <td>&lt;p&gt;&lt;span class=\"anchor\" id=\"bookmark1\"&gt;&lt;/span&gt;...</td>\n",
       "      <td>Whether the motion from the sun, like its ligh...</td>\n",
       "      <td>[{'#fn1': 'άντίφραχις.↩'}]</td>\n",
       "      <td>[]</td>\n",
       "      <td>35</td>\n",
       "      <td>[]</td>\n",
       "      <td>[]</td>\n",
       "      <td>[]</td>\n",
       "      <td>[Whether the motion from the sun, like its lig...</td>\n",
       "      <td>[[(Whether, None), (the, None), (motion, None)...</td>\n",
       "    </tr>\n",
       "    <tr>\n",
       "      <th>596</th>\n",
       "      <td>&lt;p&gt;And concerning the first, it is worthy of c...</td>\n",
       "      <td>And concerning the first, it is worthy of cons...</td>\n",
       "      <td>[]</td>\n",
       "      <td>[]</td>\n",
       "      <td>35</td>\n",
       "      <td>[]</td>\n",
       "      <td>[]</td>\n",
       "      <td>[]</td>\n",
       "      <td>[And concerning the first, it is worthy of con...</td>\n",
       "      <td>[[(And, None), (concerning, None), (the, None)...</td>\n",
       "    </tr>\n",
       "    <tr>\n",
       "      <th>595</th>\n",
       "      <td>&lt;p&gt;This is a good time for me to take up the o...</td>\n",
       "      <td>This is a good time for me to take up the obje...</td>\n",
       "      <td>[]</td>\n",
       "      <td>[species]</td>\n",
       "      <td>35</td>\n",
       "      <td>[]</td>\n",
       "      <td>[]</td>\n",
       "      <td>[]</td>\n",
       "      <td>[This is a good time for me to take up the obj...</td>\n",
       "      <td>[[(This, None), (is, None), (a, None), (good, ...</td>\n",
       "    </tr>\n",
       "    <tr>\n",
       "      <th>598</th>\n",
       "      <td>&lt;p&gt;But it is answered, first, that the analogy...</td>\n",
       "      <td>But it is answered, first, that the analogy be...</td>\n",
       "      <td>[]</td>\n",
       "      <td>[]</td>\n",
       "      <td>35</td>\n",
       "      <td>[]</td>\n",
       "      <td>[]</td>\n",
       "      <td>[]</td>\n",
       "      <td>[But it is answered, first, that the analogy b...</td>\n",
       "      <td>[[(But, None), (it, None), (is, None), (answer...</td>\n",
       "    </tr>\n",
       "    <tr>\n",
       "      <th>599</th>\n",
       "      <td>&lt;p&gt;On this account I would nearly separate lig...</td>\n",
       "      <td>On this account I would nearly separate light ...</td>\n",
       "      <td>[]</td>\n",
       "      <td>[]</td>\n",
       "      <td>35</td>\n",
       "      <td>[]</td>\n",
       "      <td>[]</td>\n",
       "      <td>[]</td>\n",
       "      <td>[On this account I would nearly separate light...</td>\n",
       "      <td>[[(On, None), (this, None), (account, None), (...</td>\n",
       "    </tr>\n",
       "  </tbody>\n",
       "</table>\n",
       "</div>"
      ],
      "text/plain": [
       "                                                  html  \\\n",
       "594  <p><span class=\"anchor\" id=\"bookmark1\"></span>...   \n",
       "596  <p>And concerning the first, it is worthy of c...   \n",
       "595  <p>This is a good time for me to take up the o...   \n",
       "598  <p>But it is answered, first, that the analogy...   \n",
       "599  <p>On this account I would nearly separate lig...   \n",
       "\n",
       "                                                  text  \\\n",
       "594  Whether the motion from the sun, like its ligh...   \n",
       "596  And concerning the first, it is worthy of cons...   \n",
       "595  This is a good time for me to take up the obje...   \n",
       "598  But it is answered, first, that the analogy be...   \n",
       "599  On this account I would nearly separate light ...   \n",
       "\n",
       "                          links     italic chapter graphic table marginal  \\\n",
       "594  [{'#fn1': 'άντίφραχις.↩'}]         []      35      []    []       []   \n",
       "596                          []         []      35      []    []       []   \n",
       "595                          []  [species]      35      []    []       []   \n",
       "598                          []         []      35      []    []       []   \n",
       "599                          []         []      35      []    []       []   \n",
       "\n",
       "                                             sentences  \\\n",
       "594  [Whether the motion from the sun, like its lig...   \n",
       "596  [And concerning the first, it is worthy of con...   \n",
       "595  [This is a good time for me to take up the obj...   \n",
       "598  [But it is answered, first, that the analogy b...   \n",
       "599  [On this account I would nearly separate light...   \n",
       "\n",
       "                                                tagged  \n",
       "594  [[(Whether, None), (the, None), (motion, None)...  \n",
       "596  [[(And, None), (concerning, None), (the, None)...  \n",
       "595  [[(This, None), (is, None), (a, None), (good, ...  \n",
       "598  [[(But, None), (it, None), (is, None), (answer...  \n",
       "599  [[(On, None), (this, None), (account, None), (...  "
      ]
     },
     "execution_count": 8,
     "metadata": {},
     "output_type": "execute_result"
    }
   ],
   "source": [
    "dfAstroNova[740:745]"
   ]
  },
  {
   "cell_type": "code",
   "execution_count": 9,
   "metadata": {},
   "outputs": [
    {
     "data": {
      "text/html": [
       "<div>\n",
       "<style scoped>\n",
       "    .dataframe tbody tr th:only-of-type {\n",
       "        vertical-align: middle;\n",
       "    }\n",
       "\n",
       "    .dataframe tbody tr th {\n",
       "        vertical-align: top;\n",
       "    }\n",
       "\n",
       "    .dataframe thead th {\n",
       "        text-align: right;\n",
       "    }\n",
       "</style>\n",
       "<table border=\"1\" class=\"dataframe\">\n",
       "  <thead>\n",
       "    <tr style=\"text-align: right;\">\n",
       "      <th></th>\n",
       "      <th>html</th>\n",
       "      <th>text</th>\n",
       "      <th>links</th>\n",
       "      <th>italic</th>\n",
       "      <th>chapter</th>\n",
       "      <th>graphic</th>\n",
       "      <th>table</th>\n",
       "      <th>marginal</th>\n",
       "      <th>sentences</th>\n",
       "      <th>tagged</th>\n",
       "    </tr>\n",
       "  </thead>\n",
       "  <tbody>\n",
       "    <tr>\n",
       "      <th>1568</th>\n",
       "      <td>&lt;p&gt;{marginal: The words of the observation hav...</td>\n",
       "      <td>Consider whether the meaning could be this: t...</td>\n",
       "      <td>[]</td>\n",
       "      <td>[]</td>\n",
       "      <td>70</td>\n",
       "      <td>[]</td>\n",
       "      <td>[]</td>\n",
       "      <td>[ The words of the observation have their comm...</td>\n",
       "      <td>[Consider whether the meaning could be this: t...</td>\n",
       "      <td>[[(Consider, None), (whether, None), (the, Non...</td>\n",
       "    </tr>\n",
       "    <tr>\n",
       "      <th>1569</th>\n",
       "      <td>&lt;p&gt;This interpretation is furthered by the obs...</td>\n",
       "      <td>This interpretation is furthered by the observ...</td>\n",
       "      <td>[]</td>\n",
       "      <td>[]</td>\n",
       "      <td>70</td>\n",
       "      <td>[]</td>\n",
       "      <td>[]</td>\n",
       "      <td>[]</td>\n",
       "      <td>[This interpretation is furthered by the obser...</td>\n",
       "      <td>[[(This, None), (interpretation, None), (is, N...</td>\n",
       "    </tr>\n",
       "    <tr>\n",
       "      <th>0</th>\n",
       "      <td>&lt;p&gt;Appendix B&lt;/p&gt;</td>\n",
       "      <td>Appendix B</td>\n",
       "      <td>[]</td>\n",
       "      <td>[]</td>\n",
       "      <td>appendix b</td>\n",
       "      <td>[]</td>\n",
       "      <td>[]</td>\n",
       "      <td>[]</td>\n",
       "      <td>[Appendix B]</td>\n",
       "      <td>[[(Appendix, None), (B, None)]]</td>\n",
       "    </tr>\n",
       "    <tr>\n",
       "      <th>1</th>\n",
       "      <td>&lt;p&gt;&lt;span class=\"anchor\" id=\"bookmark0\"&gt;&lt;/span&gt;...</td>\n",
       "      <td>On the Table of Oppositions in Chapter 15</td>\n",
       "      <td>[]</td>\n",
       "      <td>[]</td>\n",
       "      <td>appendix b</td>\n",
       "      <td>[]</td>\n",
       "      <td>[]</td>\n",
       "      <td>[]</td>\n",
       "      <td>[On the Table of Oppositions in Chapter 15]</td>\n",
       "      <td>[[(On, None), (the, None), (Table, None), (of,...</td>\n",
       "    </tr>\n",
       "    <tr>\n",
       "      <th>2</th>\n",
       "      <td>&lt;p&gt;by Yaakov Zik &lt;span style=\"font-variant: sm...</td>\n",
       "      <td>by Yaakov Zik Table i:</td>\n",
       "      <td>[]</td>\n",
       "      <td>[]</td>\n",
       "      <td>appendix b</td>\n",
       "      <td>[]</td>\n",
       "      <td>[]</td>\n",
       "      <td>[]</td>\n",
       "      <td>[by Yaakov Zik Table i:]</td>\n",
       "      <td>[[(by, None), (Yaakov, None), (Zik, None), (Ta...</td>\n",
       "    </tr>\n",
       "  </tbody>\n",
       "</table>\n",
       "</div>"
      ],
      "text/plain": [
       "                                                   html  \\\n",
       "1568  <p>{marginal: The words of the observation hav...   \n",
       "1569  <p>This interpretation is furthered by the obs...   \n",
       "0                                     <p>Appendix B</p>   \n",
       "1     <p><span class=\"anchor\" id=\"bookmark0\"></span>...   \n",
       "2     <p>by Yaakov Zik <span style=\"font-variant: sm...   \n",
       "\n",
       "                                                   text links italic  \\\n",
       "1568   Consider whether the meaning could be this: t...    []     []   \n",
       "1569  This interpretation is furthered by the observ...    []     []   \n",
       "0                                            Appendix B    []     []   \n",
       "1             On the Table of Oppositions in Chapter 15    []     []   \n",
       "2                                by Yaakov Zik Table i:    []     []   \n",
       "\n",
       "         chapter graphic table  \\\n",
       "1568          70      []    []   \n",
       "1569          70      []    []   \n",
       "0     appendix b      []    []   \n",
       "1     appendix b      []    []   \n",
       "2     appendix b      []    []   \n",
       "\n",
       "                                               marginal  \\\n",
       "1568  [ The words of the observation have their comm...   \n",
       "1569                                                 []   \n",
       "0                                                    []   \n",
       "1                                                    []   \n",
       "2                                                    []   \n",
       "\n",
       "                                              sentences  \\\n",
       "1568  [Consider whether the meaning could be this: t...   \n",
       "1569  [This interpretation is furthered by the obser...   \n",
       "0                                          [Appendix B]   \n",
       "1           [On the Table of Oppositions in Chapter 15]   \n",
       "2                              [by Yaakov Zik Table i:]   \n",
       "\n",
       "                                                 tagged  \n",
       "1568  [[(Consider, None), (whether, None), (the, Non...  \n",
       "1569  [[(This, None), (interpretation, None), (is, N...  \n",
       "0                       [[(Appendix, None), (B, None)]]  \n",
       "1     [[(On, None), (the, None), (Table, None), (of,...  \n",
       "2     [[(by, None), (Yaakov, None), (Zik, None), (Ta...  "
      ]
     },
     "execution_count": 9,
     "metadata": {},
     "output_type": "execute_result"
    }
   ],
   "source": [
    "dfAstroNova[1585:1590]"
   ]
  },
  {
   "cell_type": "code",
   "execution_count": 10,
   "metadata": {},
   "outputs": [
    {
     "data": {
      "text/html": [
       "<div>\n",
       "<style scoped>\n",
       "    .dataframe tbody tr th:only-of-type {\n",
       "        vertical-align: middle;\n",
       "    }\n",
       "\n",
       "    .dataframe tbody tr th {\n",
       "        vertical-align: top;\n",
       "    }\n",
       "\n",
       "    .dataframe thead th {\n",
       "        text-align: right;\n",
       "    }\n",
       "</style>\n",
       "<table border=\"1\" class=\"dataframe\">\n",
       "  <thead>\n",
       "    <tr style=\"text-align: right;\">\n",
       "      <th></th>\n",
       "      <th>html</th>\n",
       "      <th>text</th>\n",
       "      <th>links</th>\n",
       "      <th>italic</th>\n",
       "      <th>chapter</th>\n",
       "      <th>graphic</th>\n",
       "      <th>table</th>\n",
       "      <th>marginal</th>\n",
       "      <th>sentences</th>\n",
       "      <th>tagged</th>\n",
       "    </tr>\n",
       "  </thead>\n",
       "  <tbody>\n",
       "    <tr>\n",
       "      <th>13</th>\n",
       "      <td>&lt;p&gt;{table: appendix B t 2}&lt;/p&gt;</td>\n",
       "      <td></td>\n",
       "      <td>[]</td>\n",
       "      <td>[]</td>\n",
       "      <td>appendix b</td>\n",
       "      <td>[]</td>\n",
       "      <td>[ appendix B t 2]</td>\n",
       "      <td>[]</td>\n",
       "      <td>[]</td>\n",
       "      <td>[]</td>\n",
       "    </tr>\n",
       "    <tr>\n",
       "      <th>14</th>\n",
       "      <td>&lt;p&gt;Kepler's table, for comparison {table: appe...</td>\n",
       "      <td>Kepler's table, for comparison</td>\n",
       "      <td>[]</td>\n",
       "      <td>[]</td>\n",
       "      <td>appendix b</td>\n",
       "      <td>[]</td>\n",
       "      <td>[ appendix B t 3]</td>\n",
       "      <td>[]</td>\n",
       "      <td>[Kepler's table, for comparison]</td>\n",
       "      <td>[[(Kepler, None), (s, None), (table, None), (f...</td>\n",
       "    </tr>\n",
       "    <tr>\n",
       "      <th>15</th>\n",
       "      <td>&lt;p&gt;Mars from Earth to be a little greater than...</td>\n",
       "      <td>Mars from Earth to be a little greater than ha...</td>\n",
       "      <td>[{'#fn6': '\n",
       "Kepler's observations yield topoce...</td>\n",
       "      <td>[]</td>\n",
       "      <td>appendix b</td>\n",
       "      <td>[]</td>\n",
       "      <td>[]</td>\n",
       "      <td>[]</td>\n",
       "      <td>[Mars from Earth to be a little greater than h...</td>\n",
       "      <td>[[(Mars, None), (from, None), (Earth, None), (...</td>\n",
       "    </tr>\n",
       "    <tr>\n",
       "      <th>16</th>\n",
       "      <td>&lt;p&gt;&lt;img height=\"300\" src=\"media/image1.jpeg\" w...</td>\n",
       "      <td>As shown in Figure 2B, the Sun is assumed to ...</td>\n",
       "      <td>[]</td>\n",
       "      <td>[]</td>\n",
       "      <td>appendix b</td>\n",
       "      <td>[ appendix b gr 1]</td>\n",
       "      <td>[]</td>\n",
       "      <td>[]</td>\n",
       "      <td>[As shown in Figure 2B, the Sun is assumed to ...</td>\n",
       "      <td>[[(As, None), (shown, None), (in, None), (Figu...</td>\n",
       "    </tr>\n",
       "    <tr>\n",
       "      <th>17</th>\n",
       "      <td>&lt;p&gt;The Sun moved westward and its longitude de...</td>\n",
       "      <td>The Sun moved westward and its longitude decre...</td>\n",
       "      <td>[]</td>\n",
       "      <td>[4&lt;sup&gt;h&lt;/sup&gt; 23&lt;sup&gt;m &lt;/sup&gt;]</td>\n",
       "      <td>appendix b</td>\n",
       "      <td>[]</td>\n",
       "      <td>[]</td>\n",
       "      <td>[]</td>\n",
       "      <td>[The Sun moved westward and its longitude decr...</td>\n",
       "      <td>[[(The, None), (Sun, None), (moved, None), (we...</td>\n",
       "    </tr>\n",
       "  </tbody>\n",
       "</table>\n",
       "</div>"
      ],
      "text/plain": [
       "                                                 html  \\\n",
       "13                     <p>{table: appendix B t 2}</p>   \n",
       "14  <p>Kepler's table, for comparison {table: appe...   \n",
       "15  <p>Mars from Earth to be a little greater than...   \n",
       "16  <p><img height=\"300\" src=\"media/image1.jpeg\" w...   \n",
       "17  <p>The Sun moved westward and its longitude de...   \n",
       "\n",
       "                                                 text  \\\n",
       "13                                                      \n",
       "14                    Kepler's table, for comparison    \n",
       "15  Mars from Earth to be a little greater than ha...   \n",
       "16   As shown in Figure 2B, the Sun is assumed to ...   \n",
       "17  The Sun moved westward and its longitude decre...   \n",
       "\n",
       "                                                links  \\\n",
       "13                                                 []   \n",
       "14                                                 []   \n",
       "15  [{'#fn6': '\n",
       "Kepler's observations yield topoce...   \n",
       "16                                                 []   \n",
       "17                                                 []   \n",
       "\n",
       "                             italic     chapter             graphic  \\\n",
       "13                               []  appendix b                  []   \n",
       "14                               []  appendix b                  []   \n",
       "15                               []  appendix b                  []   \n",
       "16                               []  appendix b  [ appendix b gr 1]   \n",
       "17  [4<sup>h</sup> 23<sup>m </sup>]  appendix b                  []   \n",
       "\n",
       "                table marginal  \\\n",
       "13  [ appendix B t 2]       []   \n",
       "14  [ appendix B t 3]       []   \n",
       "15                 []       []   \n",
       "16                 []       []   \n",
       "17                 []       []   \n",
       "\n",
       "                                            sentences  \\\n",
       "13                                                 []   \n",
       "14                   [Kepler's table, for comparison]   \n",
       "15  [Mars from Earth to be a little greater than h...   \n",
       "16  [As shown in Figure 2B, the Sun is assumed to ...   \n",
       "17  [The Sun moved westward and its longitude decr...   \n",
       "\n",
       "                                               tagged  \n",
       "13                                                 []  \n",
       "14  [[(Kepler, None), (s, None), (table, None), (f...  \n",
       "15  [[(Mars, None), (from, None), (Earth, None), (...  \n",
       "16  [[(As, None), (shown, None), (in, None), (Figu...  \n",
       "17  [[(The, None), (Sun, None), (moved, None), (we...  "
      ]
     },
     "execution_count": 10,
     "metadata": {},
     "output_type": "execute_result"
    }
   ],
   "source": [
    "dfAstroNova.tail(5)"
   ]
  },
  {
   "cell_type": "markdown",
   "metadata": {},
   "source": [
    "## **Primary Data Exploration**"
   ]
  },
  {
   "cell_type": "code",
   "execution_count": 11,
   "metadata": {},
   "outputs": [
    {
     "data": {
      "text/plain": [
       "\"The time is measured from midnight; Gregorian dates are obtained by adding 10 days to Kepler's dates. The dates are given in old style.\""
      ]
     },
     "execution_count": 11,
     "metadata": {},
     "output_type": "execute_result"
    }
   ],
   "source": [
    "\n",
    "dfAstroNova[\"text\"][5]    # 5th row of the data in the format of text "
   ]
  },
  {
   "cell_type": "code",
   "execution_count": 12,
   "metadata": {},
   "outputs": [
    {
     "data": {
      "text/plain": [
       "[[('The', 'None'),\n",
       "  ('time', 'None'),\n",
       "  ('is', 'None'),\n",
       "  ('measured', 'None'),\n",
       "  ('from', 'None'),\n",
       "  ('midnight', 'None'),\n",
       "  ('Gregorian', 'None'),\n",
       "  ('dates', 'None'),\n",
       "  ('are', 'None'),\n",
       "  ('obtained', 'None'),\n",
       "  ('by', 'None'),\n",
       "  ('adding', 'None'),\n",
       "  ('10', 'NUM'),\n",
       "  ('days', 'None'),\n",
       "  ('to', 'None'),\n",
       "  ('Kepler', 'None'),\n",
       "  ('s', 'None'),\n",
       "  ('dates', 'None')],\n",
       " [('The', 'None'),\n",
       "  ('dates', 'None'),\n",
       "  ('are', 'None'),\n",
       "  ('given', 'None'),\n",
       "  ('in', 'None'),\n",
       "  ('old', 'None'),\n",
       "  ('style', 'None')]]"
      ]
     },
     "execution_count": 12,
     "metadata": {},
     "output_type": "execute_result"
    }
   ],
   "source": [
    "dfAstroNova[\"tagged\"][5] # 5th row of the data in a format (token, label). A list of lists of tuples! later position tags of the token will be added to each tuple. the tokens are chosen before by some rules."
   ]
  },
  {
   "cell_type": "code",
   "execution_count": 13,
   "metadata": {},
   "outputs": [],
   "source": [
    "dfAstroNova= dfAstroNova.loc[dfAstroNova.chapter==33]"
   ]
  },
  {
   "cell_type": "code",
   "execution_count": 14,
   "metadata": {},
   "outputs": [
    {
     "data": {
      "text/plain": [
       "88"
      ]
     },
     "execution_count": 14,
     "metadata": {},
     "output_type": "execute_result"
    }
   ],
   "source": [
    " df = sum(dfAstroNova['tagged'], [])  # Flatt the data by removing first lists\n",
    "len(df)"
   ]
  },
  {
   "cell_type": "code",
   "execution_count": 15,
   "metadata": {},
   "outputs": [
    {
     "data": {
      "text/plain": [
       "[('Between', 'None'),\n",
       " ('these', 'None'),\n",
       " ('two', 'None'),\n",
       " ('possibilities', 'None'),\n",
       " ('therefore', 'None'),\n",
       " ('there', 'None'),\n",
       " ('is', 'None'),\n",
       " ('no', 'None'),\n",
       " ('intermediate', 'None')]"
      ]
     },
     "execution_count": 15,
     "metadata": {},
     "output_type": "execute_result"
    }
   ],
   "source": [
    "df[5]  "
   ]
  },
  {
   "cell_type": "code",
   "execution_count": 16,
   "metadata": {},
   "outputs": [],
   "source": [
    "df_flatten = sum(df,[])  # Flatt the data by removing the second list\n"
   ]
  },
  {
   "cell_type": "code",
   "execution_count": 17,
   "metadata": {},
   "outputs": [
    {
     "data": {
      "text/plain": [
       "[('Let', 'None'),\n",
       " ('Tycho', 'None'),\n",
       " ('Brahe', 'None'),\n",
       " ('himself', 'None'),\n",
       " ('or', 'None'),\n",
       " ('anyone', 'None'),\n",
       " ('who', 'None'),\n",
       " ('prefers', 'None'),\n",
       " ('to', 'None'),\n",
       " ('follow', 'None'),\n",
       " ('his', 'None'),\n",
       " ('general', 'None'),\n",
       " ('hypothesis', 'None'),\n",
       " ('of', 'None'),\n",
       " ('the', 'None'),\n",
       " ('second', 'None'),\n",
       " ('inequality', 'None'),\n",
       " ('consider', 'None'),\n",
       " ('by', 'None'),\n",
       " ('how', 'None')]"
      ]
     },
     "execution_count": 17,
     "metadata": {},
     "output_type": "execute_result"
    }
   ],
   "source": [
    "df_flatten[0:20]  # Here we have tokens (entities) with their labels"
   ]
  },
  {
   "cell_type": "code",
   "execution_count": 18,
   "metadata": {},
   "outputs": [
    {
     "data": {
      "text/plain": [
       "3225"
      ]
     },
     "execution_count": 18,
     "metadata": {},
     "output_type": "execute_result"
    }
   ],
   "source": [
    "len(df_flatten)  # Number of all tokens (roughly speaking all words or entities)"
   ]
  },
  {
   "cell_type": "code",
   "execution_count": 19,
   "metadata": {},
   "outputs": [],
   "source": [
    "\n",
    "tokens = [x[0] for x in df_flatten]  # Extract the tokens for further use in the frequency plot"
   ]
  },
  {
   "cell_type": "code",
   "execution_count": 20,
   "metadata": {},
   "outputs": [],
   "source": [
    "labels=([x[1] for x in df_flatten])  # Extract the labels for further use in the frequency plot"
   ]
  },
  {
   "cell_type": "code",
   "execution_count": 21,
   "metadata": {},
   "outputs": [
    {
     "data": {
      "text/plain": [
       "['Let', 'Tycho', 'Brahe', 'himself', 'or']"
      ]
     },
     "execution_count": 21,
     "metadata": {},
     "output_type": "execute_result"
    }
   ],
   "source": [
    "tokens[0:5]"
   ]
  },
  {
   "cell_type": "code",
   "execution_count": 22,
   "metadata": {},
   "outputs": [
    {
     "data": {
      "text/plain": [
       "['None', 'None', 'None', 'None', 'None']"
      ]
     },
     "execution_count": 22,
     "metadata": {},
     "output_type": "execute_result"
    }
   ],
   "source": [
    "labels[0:5]"
   ]
  },
  {
   "cell_type": "markdown",
   "metadata": {},
   "source": [
    "## **Visualization**"
   ]
  },
  {
   "cell_type": "markdown",
   "metadata": {},
   "source": [
    "### Frequency plot of all words in all chapter of book"
   ]
  },
  {
   "cell_type": "markdown",
   "metadata": {},
   "source": [
    "<font size=\"3\">\n",
    "Frequency plot of all tokens in text, as you see there is a lot 'the', 'of',... in text, they normally consider as noise, we will back to that later.\n",
    "<font/>"
   ]
  },
  {
   "cell_type": "code",
   "execution_count": 23,
   "metadata": {},
   "outputs": [
    {
     "data": {
      "image/png": "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\n",
      "text/plain": [
       "<Figure size 1800x360 with 1 Axes>"
      ]
     },
     "metadata": {
      "needs_background": "light"
     },
     "output_type": "display_data"
    }
   ],
   "source": [
    "freqdist = nltk.FreqDist(tokens)\n",
    "plt.figure(figsize=(25,5))\n",
    "freqdist.plot(100, title='Frequency plot of words')\n"
   ]
  },
  {
   "cell_type": "code",
   "execution_count": 24,
   "metadata": {},
   "outputs": [],
   "source": [
    "stop_words=[\"the\", \"of\", \"is\", \"to\", \"and\",\"in\", \"be\", \"at\", \"that\", \"from\", \"it\", \"a\", \"as\",\"this\", \"was\" ] # we can consider these as stop words or we can use nltk stop words."
   ]
  },
  {
   "cell_type": "code",
   "execution_count": 25,
   "metadata": {},
   "outputs": [],
   "source": [
    "# nltk stop words\n",
    "from nltk.corpus import stopwords\n",
    "stop_words=set(stopwords.words('english'))\n",
    "stop_words=stop_words.union(['I', 'And', 'For', 'A', 'The'])\n",
    "#stop_words_nltk = set(stop_words)\n",
    "\n",
    "# List of nltk stop words {‘ourselves’, ‘hers’, ‘between’, ‘yourself’, ‘but’, ‘again’, ‘there’, ‘about’, ‘once’, ‘during’, ‘out’, ‘very’, ‘having’, ‘with’, ‘they’, ‘own’, ‘an’, ‘be’, ‘some’, ‘for’, ‘do’, ‘its’, ‘yours’, ‘such’, ‘into’, ‘of’, ‘most’, ‘itself’, ‘other’, ‘off’, ‘is’, ‘s’, ‘am’, ‘or’, ‘who’, ‘as’, ‘from’, ‘him’, ‘each’, ‘the’, ‘themselves’, ‘until’, ‘below’, ‘are’, ‘we’, ‘these’, ‘your’, ‘his’, ‘through’, ‘don’, ‘nor’, ‘me’, ‘were’, ‘her’, ‘more’, ‘himself’, ‘this’, ‘down’, ‘should’, ‘our’, ‘their’, ‘while’, ‘above’, ‘both’, ‘up’, ‘to’, ‘ours’, ‘had’, ‘she’, ‘all’, ‘no’, ‘when’, ‘at’, ‘any’, ‘before’, ‘them’, ‘same’, ‘and’, ‘been’, ‘have’, ‘in’, ‘will’, ‘on’, ‘does’, ‘yourselves’, ‘then’, ‘that’, ‘because’, ‘what’, ‘over’, ‘why’, ‘so’, ‘can’, ‘did’, ‘not’, ‘now’, ‘under’, ‘he’, ‘you’, ‘herself’, ‘has’, ‘just’, ‘where’, ‘too’, ‘only’, ‘myself’, ‘which’, ‘those’, ‘i’, ‘after’, ‘few’, ‘whom’, ‘t’, ‘being’, ‘if’, ‘theirs’, ‘my’, ‘against’, ‘a’, ‘by’, ‘doing’, ‘it’, ‘how’, ‘further’, ‘was’, ‘here’, ‘than’} \n"
   ]
  },
  {
   "cell_type": "markdown",
   "metadata": {},
   "source": [
    "<font size=\"3\">\n",
    "We can consider these words like 'the', 'of',... as noises. so we temporary remove those! \n",
    "<font/>"
   ]
  },
  {
   "cell_type": "code",
   "execution_count": 26,
   "metadata": {},
   "outputs": [],
   "source": [
    "new_tokens = []     \n",
    "for w in tokens:\n",
    "    if w not in stop_words: new_tokens.append(w)      "
   ]
  },
  {
   "cell_type": "markdown",
   "metadata": {},
   "source": [
    "### Frequency plot of all words in all chapter of book after removing the stop words"
   ]
  },
  {
   "cell_type": "markdown",
   "metadata": {},
   "source": [
    "<font size=\"3\">\n",
    "It shows word \"sun\" is most common word.  We can also see the word Mars, planet, eccentric as common words in the book \n",
    "<font/>"
   ]
  },
  {
   "cell_type": "code",
   "execution_count": 27,
   "metadata": {},
   "outputs": [
    {
     "data": {
      "image/png": "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\n",
      "text/plain": [
       "<Figure size 1800x360 with 1 Axes>"
      ]
     },
     "metadata": {
      "needs_background": "light"
     },
     "output_type": "display_data"
    }
   ],
   "source": [
    "freqdist = nltk.FreqDist(new_tokens) \n",
    "plt.figure(figsize=(25,5)) \n",
    "freqdist.plot(100, title='Frequency plot of words after removing noise')"
   ]
  },
  {
   "cell_type": "markdown",
   "metadata": {},
   "source": [
    "<font size=\"4\">\n",
    "Do we need more insight than frequency plot of word for see content of the book? the question is answered by the follwoing cells through investigation of \"topic modelling\"\n",
    "<font/>"
   ]
  },
  {
   "cell_type": "markdown",
   "metadata": {},
   "source": [
    "## **Topic Modelling by LDA**"
   ]
  },
  {
   "cell_type": "markdown",
   "metadata": {},
   "source": [
    " Here you see an structured workflow to build an insightful \"topic model\" based on the Latent Dirichlet Allocation (LDA) algorithm,  modeled as Dirichlet distributions Dir(α).\n",
    " For more detail you can read: <p>\n",
    "http://www.jmlr.org/papers/volume3/blei03a/blei03a.pdf\n",
    "    </p>"
   ]
  },
  {
   "cell_type": "markdown",
   "metadata": {},
   "source": [
    "### **Pre-processing**"
   ]
  },
  {
   "cell_type": "markdown",
   "metadata": {},
   "source": [
    "<font size=\"3\">\n",
    "Since we alreay tokenized the text (split text into  word without punctuation) and removed stopwrods, we only need to **lemmatize** and **stemm** the tokens.\n",
    "<font/>"
   ]
  },
  {
   "cell_type": "code",
   "execution_count": 28,
   "metadata": {},
   "outputs": [],
   "source": [
    "mytext = nltk.Text(new_tokens) "
   ]
  },
  {
   "cell_type": "markdown",
   "metadata": {},
   "source": [
    "#### Lemmatization "
   ]
  },
  {
   "cell_type": "markdown",
   "metadata": {},
   "source": [
    "<font size=\"3\">\n",
    "Lemmatization, takes into consideration the morphological analysis of the words. For instance  \"do\", \"does\", \"did\" and \"doing\" are forms of the same lexeme with \"do\" as the lemma. Another example would be  \"car\", \"cars\", \"automobile\"\n",
    "<font/>"
   ]
  },
  {
   "cell_type": "code",
   "execution_count": 29,
   "metadata": {},
   "outputs": [],
   "source": [
    "#lemmatization\n",
    "w_lemmatize= WordNetLemmatizer()\n",
    "my_text_lemmatize = [w_lemmatize.lemmatize(word) for word in mytext]\n"
   ]
  },
  {
   "cell_type": "markdown",
   "metadata": {},
   "source": [
    "#### Stemming"
   ]
  },
  {
   "cell_type": "markdown",
   "metadata": {},
   "source": [
    "<font size=\"3\">\n",
    "Stemming algorithms work by cutting off the end or the beginning of the word, by taking into account a list of common prefixes and suffixes. It reduces words to their word stem or root form. For instance, stemming for root word \"like\" include:\"likes\", \"liked\", \"likely\", \"liking\n",
    "<font size=/>"
   ]
  },
  {
   "cell_type": "code",
   "execution_count": 30,
   "metadata": {},
   "outputs": [],
   "source": [
    "# stemming \n",
    "p_stemmers=PorterStemmer()  \n",
    "my_text_lemm_stemmer = [p_stemmers.stem(word) for word in my_text_lemmatize]"
   ]
  },
  {
   "cell_type": "code",
   "execution_count": 31,
   "metadata": {},
   "outputs": [],
   "source": [
    "my_text_lemm_stemmer=[my_text_lemm_stemmer] #make a list of list"
   ]
  },
  {
   "cell_type": "markdown",
   "metadata": {},
   "source": [
    "#### Select a document to preview after preprocessing."
   ]
  },
  {
   "cell_type": "code",
   "execution_count": null,
   "metadata": {},
   "outputs": [],
   "source": []
  },
  {
   "cell_type": "code",
   "execution_count": 32,
   "metadata": {},
   "outputs": [],
   "source": [
    "Dic=corpora.Dictionary(my_text_lemm_stemmer)"
   ]
  },
  {
   "cell_type": "markdown",
   "metadata": {},
   "source": [
    "### **Bag of Words on the Data set**"
   ]
  },
  {
   "cell_type": "markdown",
   "metadata": {},
   "source": [
    "<font size=\"4\">\n",
    "Our dictionary must be converted to \"bag of word\". Frequency of occurrence of each word is used as a feature for training a classifier. It means it should contain the number of times a word appears\n",
    "<font size>"
   ]
  },
  {
   "cell_type": "code",
   "execution_count": 33,
   "metadata": {},
   "outputs": [],
   "source": [
    "corpus = [Dic.doc2bow(text) for text in my_text_lemm_stemmer]"
   ]
  },
  {
   "cell_type": "markdown",
   "metadata": {},
   "source": [
    "#### Running LDA using Bag of Words**"
   ]
  },
  {
   "cell_type": "code",
   "execution_count": 34,
   "metadata": {},
   "outputs": [],
   "source": [
    "ldamodel =models.ldamodel.LdaModel(corpus, num_topics=3,  id2word = Dic, passes=2)"
   ]
  },
  {
   "cell_type": "code",
   "execution_count": 35,
   "metadata": {},
   "outputs": [],
   "source": [
    "lda_topics=ldamodel.print_topics()"
   ]
  },
  {
   "cell_type": "code",
   "execution_count": 36,
   "metadata": {},
   "outputs": [
    {
     "data": {
      "text/plain": [
       "[(0,\n",
       "  '0.016*\"bodi\" + 0.015*\"power\" + 0.014*\"sun\" + 0.011*\"motion\" + 0.010*\"move\" + 0.010*\"center\" + 0.010*\"planet\" + 0.009*\"world\" + 0.009*\"caus\" + 0.009*\"light\"'),\n",
       " (1,\n",
       "  '0.013*\"power\" + 0.010*\"bodi\" + 0.009*\"planet\" + 0.009*\"sun\" + 0.009*\"world\" + 0.008*\"light\" + 0.008*\"center\" + 0.007*\"motion\" + 0.006*\"time\" + 0.006*\"caus\"'),\n",
       " (2,\n",
       "  '0.025*\"power\" + 0.021*\"bodi\" + 0.019*\"sun\" + 0.016*\"light\" + 0.015*\"planet\" + 0.014*\"move\" + 0.012*\"center\" + 0.012*\"motion\" + 0.010*\"world\" + 0.010*\"earth\"')]"
      ]
     },
     "execution_count": 36,
     "metadata": {},
     "output_type": "execute_result"
    }
   ],
   "source": [
    "lda_topics"
   ]
  },
  {
   "cell_type": "code",
   "execution_count": 37,
   "metadata": {},
   "outputs": [
    {
     "name": "stderr",
     "output_type": "stream",
     "text": [
      "C:\\Users\\moha\\Anaconda3\\lib\\site-packages\\pyLDAvis\\_prepare.py:257: FutureWarning: Sorting because non-concatenation axis is not aligned. A future version\n",
      "of pandas will change to not sort by default.\n",
      "\n",
      "To accept the future behavior, pass 'sort=False'.\n",
      "\n",
      "To retain the current behavior and silence the warning, pass 'sort=True'.\n",
      "\n",
      "  return pd.concat([default_term_info] + list(topic_dfs))\n"
     ]
    }
   ],
   "source": [
    "import pyLDAvis.gensim\n",
    "import gensim\n",
    "pyLDAvis.enable_notebook()\n",
    "vis = pyLDAvis.gensim.prepare(ldamodel, corpus, Dic)\n"
   ]
  },
  {
   "cell_type": "markdown",
   "metadata": {},
   "source": [
    "# Topic Modelling of chapter 5 "
   ]
  },
  {
   "cell_type": "code",
   "execution_count": 38,
   "metadata": {},
   "outputs": [
    {
     "data": {
      "text/html": [
       "\n",
       "<link rel=\"stylesheet\" type=\"text/css\" href=\"https://cdn.rawgit.com/bmabey/pyLDAvis/files/ldavis.v1.0.0.css\">\n",
       "\n",
       "\n",
       "<div id=\"ldavis_el98801861910553368741132909\"></div>\n",
       "<script type=\"text/javascript\">\n",
       "\n",
       "var ldavis_el98801861910553368741132909_data = {\"mdsDat\": {\"x\": [-0.008620724779322846, 0.00047766783270394993, 0.0081430569466189], \"y\": [-0.0, -0.0, -0.0], \"topics\": [1, 2, 3], \"cluster\": [1, 1, 1], \"Freq\": [99.94888305664062, 0.026144370436668396, 0.02497347816824913]}, \"tinfo\": {\"Category\": [\"Default\", \"Default\", \"Default\", \"Default\", \"Default\", \"Default\", \"Default\", \"Default\", \"Default\", \"Default\", \"Default\", \"Default\", \"Default\", \"Default\", \"Default\", \"Default\", \"Default\", \"Default\", \"Default\", \"Default\", \"Default\", \"Default\", \"Default\", \"Default\", \"Default\", \"Default\", \"Default\", \"Default\", \"Default\", \"Default\", \"Topic1\", \"Topic1\", \"Topic1\", \"Topic1\", \"Topic1\", \"Topic1\", \"Topic1\", \"Topic1\", \"Topic1\", \"Topic1\", \"Topic1\", \"Topic1\", \"Topic1\", \"Topic1\", \"Topic1\", \"Topic1\", \"Topic1\", \"Topic1\", \"Topic1\", \"Topic1\", \"Topic1\", \"Topic1\", \"Topic1\", \"Topic1\", \"Topic1\", \"Topic1\", \"Topic1\", \"Topic1\", \"Topic1\", \"Topic1\", \"Topic1\", \"Topic1\", \"Topic1\", \"Topic1\", \"Topic1\", \"Topic1\", \"Topic1\", \"Topic2\", \"Topic2\", \"Topic2\", \"Topic2\", \"Topic2\", \"Topic2\", \"Topic2\", \"Topic2\", \"Topic2\", \"Topic2\", \"Topic2\", \"Topic2\", \"Topic2\", \"Topic2\", \"Topic2\", \"Topic2\", \"Topic2\", \"Topic2\", \"Topic2\", \"Topic2\", \"Topic2\", \"Topic2\", \"Topic2\", \"Topic2\", \"Topic2\", \"Topic2\", \"Topic2\", \"Topic2\", \"Topic2\", \"Topic2\", \"Topic2\", \"Topic2\", \"Topic2\", \"Topic2\", \"Topic2\", \"Topic2\", \"Topic2\", \"Topic2\", \"Topic2\", \"Topic2\", \"Topic2\", \"Topic2\", \"Topic2\", \"Topic2\", \"Topic2\", \"Topic2\", \"Topic2\", \"Topic2\", \"Topic2\", \"Topic2\", \"Topic2\", \"Topic2\", \"Topic2\", \"Topic2\", \"Topic2\", \"Topic2\", \"Topic2\", \"Topic2\", \"Topic2\", \"Topic2\", \"Topic2\", \"Topic2\", \"Topic2\", \"Topic2\", \"Topic2\", \"Topic2\", \"Topic2\", \"Topic2\", \"Topic2\", \"Topic2\", \"Topic3\", \"Topic3\", \"Topic3\", \"Topic3\", \"Topic3\", \"Topic3\", \"Topic3\", \"Topic3\", \"Topic3\", \"Topic3\", \"Topic3\", \"Topic3\", \"Topic3\", \"Topic3\", \"Topic3\", \"Topic3\", \"Topic3\", \"Topic3\", \"Topic3\", \"Topic3\", \"Topic3\", \"Topic3\", \"Topic3\", \"Topic3\", \"Topic3\", \"Topic3\", \"Topic3\", \"Topic3\", \"Topic3\", \"Topic3\", \"Topic3\", \"Topic3\", \"Topic3\", \"Topic3\", \"Topic3\", \"Topic3\", \"Topic3\", \"Topic3\", \"Topic3\", \"Topic3\", \"Topic3\", \"Topic3\", \"Topic3\", \"Topic3\", \"Topic3\", \"Topic3\", \"Topic3\", \"Topic3\", \"Topic3\", \"Topic3\", \"Topic3\", \"Topic3\", \"Topic3\", \"Topic3\", \"Topic3\", \"Topic3\", \"Topic3\", \"Topic3\", \"Topic3\", \"Topic3\", \"Topic3\", \"Topic3\", \"Topic3\", \"Topic3\", \"Topic3\", \"Topic3\", \"Topic3\", \"Topic3\", \"Topic3\", \"Topic3\"], \"Freq\": [35.0, 30.0, 28.0, 21.0, 23.0, 17.0, 19.0, 17.0, 14.0, 13.0, 14.0, 11.0, 12.0, 12.0, 10.0, 10.0, 10.0, 10.0, 10.0, 9.0, 8.0, 8.0, 7.0, 8.0, 7.0, 8.0, 6.0, 7.0, 7.0, 7.0, 23.430294036865234, 35.92505645751953, 19.719823837280273, 12.983804702758789, 28.092544555664062, 30.17571258544922, 10.876720428466797, 21.12405014038086, 14.157464981079102, 6.677892684936523, 7.510430812835693, 7.505066394805908, 6.655605792999268, 9.915703773498535, 4.133473873138428, 10.655814170837402, 7.386540412902832, 17.876609802246094, 10.746793746948242, 4.9277567863464355, 17.9100341796875, 12.160871505737305, 6.4968366622924805, 7.32969331741333, 8.171366691589355, 5.667409896850586, 8.022636413574219, 8.821041107177734, 6.459528923034668, 8.859160423278809, 14.183465003967285, 13.13192081451416, 11.3072509765625, 10.564602851867676, 10.021683692932129, 7.9328227043151855, 7.4541497230529785, 0.0008151612710207701, 0.0004840216424781829, 0.0004920003120787442, 0.0004892123979516327, 0.0004762029566336423, 0.0004823820781894028, 0.00047740075387991965, 0.0004770568339154124, 0.00047517498023808, 0.0004717712290585041, 0.0004819782043341547, 0.0004719393909908831, 0.0004774138214997947, 0.0004718790587503463, 0.00047462363727390766, 0.00046188777196221054, 0.0004798067675437778, 0.00047037049080245197, 0.0004691926878876984, 0.0004651769995689392, 0.0004671587666962296, 0.0004625803849194199, 0.00046367169125005603, 0.00046220698277466, 0.0004670563794206828, 0.0004689808120019734, 0.00045943292207084596, 0.0004582097753882408, 0.00046198483323678374, 0.0004687191394623369, 0.0018616713350638747, 0.0009330989560112357, 0.003056672401726246, 0.0009362631244584918, 0.0011284496868029237, 0.0035898273345083, 0.0033691527787595987, 0.0029452918097376823, 0.0015165224904194474, 0.006253755185753107, 0.0009015785763040185, 0.002039518905803561, 0.004052290227264166, 0.0011070347391068935, 0.005438073538243771, 0.0011048949090763927, 0.0008948048343881965, 0.0037898586597293615, 0.0011067141313105822, 0.0010741674341261387, 0.003848104504868388, 0.0017184698954224586, 0.0029951431788504124, 0.0022992691956460476, 0.0026475319173187017, 0.005784090142697096, 0.0018790188478305936, 0.003609617240726948, 0.002265591872856021, 0.0022636037319898605, 0.001954413251951337, 0.0017991757486015558, 0.0033169628586620092, 0.001982249552384019, 0.0014670132659375668, 0.0018051398219540715, 0.0020601435098797083, 0.001480241771787405, 0.0017625140026211739, 0.001493229647167027, 0.000525704468600452, 0.0005255366559140384, 0.0005072962958365679, 0.0005236721481196582, 0.0005214475677348673, 0.000507821561768651, 0.0005288472748361528, 0.0005028575542382896, 0.0005104822921566665, 0.0005094226798973978, 0.0004894588491879404, 0.0005040069227106869, 0.0004885860835202038, 0.0004921945510432124, 0.0005069115431979299, 0.0004874839505646378, 0.0004924209206365049, 0.0004905706155113876, 0.0005086138844490051, 0.000500230526085943, 0.0004994461196474731, 0.0004897952894680202, 0.00048656490980647504, 0.0004963169922120869, 0.0004820939793717116, 0.0005116434185765684, 0.0004958696663379669, 0.0004901407519355416, 0.00048794690519571304, 0.00048612299724482, 0.0004998361109755933, 0.0004985740524716675, 0.003115688683465123, 0.0005138928536325693, 0.0006691387970931828, 0.003420814173296094, 0.0020625959150493145, 0.0021477965638041496, 0.0022096969187259674, 0.00464939558878541, 0.0015116131398826838, 0.0027792281471192837, 0.0015066203195601702, 0.003699986729770899, 0.002178133698180318, 0.0034081684425473213, 0.0013282516738399863, 0.0006756587536074221, 0.0015496324049308896, 0.0024506342597305775, 0.0028482861816883087, 0.0015979278832674026, 0.001444355701096356, 0.0018533432157710195, 0.001920080161653459, 0.0010727527551352978, 0.0016316918190568686, 0.001162752159871161, 0.0010388882365077734, 0.001052767620421946, 0.00217113527469337, 0.0012250778963789344, 0.0014281473122537136, 0.0013005458749830723, 0.0015010403003543615, 0.0017723512137308717, 0.0015416330425068736, 0.0012644986854866147, 0.001346809440292418, 0.0012357037048786879], \"Term\": [\"power\", \"bodi\", \"sun\", \"planet\", \"light\", \"center\", \"move\", \"motion\", \"world\", \"caus\", \"earth\", \"time\", \"distanc\", \"sinc\", \"therefor\", \"one\", \"sourc\", \"thing\", \"motiv\", \"point\", \"but\", \"follow\", \"speci\", \"circl\", \"space\", \"illumin\", \"chapter\", \"matter\", \"part\", \"carri\", \"light\", \"power\", \"move\", \"sinc\", \"sun\", \"bodi\", \"motiv\", \"planet\", \"earth\", \"accord\", \"surfac\", \"demonstr\", \"geometr\", \"point\", \"may\", \"thing\", \"carri\", \"motion\", \"sourc\", \"like\", \"center\", \"distanc\", \"tycho\", \"part\", \"circl\", \"weaken\", \"illumin\", \"follow\", \"upon\", \"but\", \"world\", \"caus\", \"time\", \"therefor\", \"one\", \"space\", \"speci\", \"invers\", \"4\", \"precis\", \"machin\", \"ascrib\", \"odour\", \"52\", \"bird\", \"everi\", \"sure\", \"round\", \"lost\", \"prior\", \"hear\", \"philosophi\", \"directli\", \"exert\", \"authent\", \"take\", \"littl\", \"eleg\", \"deserv\", \"species5\", \"chapter 1 \", \"immedi\", \"right\", \"question\", \"afterward\", \"long\", \"accept\", \"manner\", \"make\", \"therefor\", \"posit\", \"two\", \"world\", \"caus\", \"time\", \"eccentr\", \"bodi\", \"system\", \"speci\", \"motion\", \"eman\", \"sun\", \"without\", \"moreov\", \"center\", \"strength\", \"third\", \"move\", \"chapter\", \"earth\", \"one\", \"distanc\", \"power\", \"space\", \"planet\", \"thing\", \"motiv\", \"follow\", \"illumin\", \"light\", \"point\", \"movabl\", \"but\", \"sinc\", \"matter\", \"sourc\", \"circl\", \"4\", \"parallax\", \"directli\", \"expel\", \"accompani\", \"strongli\", \"bisect\", \"far\", \"primari\", \"simpli\", \"ascrib\", \"excess\", \"sure\", \"deserv\", \"actual\", \"lost\", \"afterward\", \"chapter 1 \", \"flow\", \"just\", \"certain\", \"rare\", \"littl\", \"whose\", \"everi\", \"impart\", \"temper\", \"you\", \"question\", \"species5\", \"cold\", \"beauti\", \"world\", \"If\", \"\\u03b1\\u03b4\", \"planet\", \"one\", \"sourc\", \"time\", \"power\", \"chapter\", \"center\", \"matter\", \"bodi\", \"caus\", \"sun\", \"movabl\", \"becom\", \"circl\", \"motion\", \"light\", \"but\", \"speci\", \"distanc\", \"sinc\", \"would\", \"therefor\", \"manner\", \"copernicu\", \"\\u03b5\", \"move\", \"upon\", \"follow\", \"part\", \"point\", \"earth\", \"thing\", \"illumin\", \"motiv\", \"space\"], \"Total\": [35.0, 30.0, 28.0, 21.0, 23.0, 17.0, 19.0, 17.0, 14.0, 13.0, 14.0, 11.0, 12.0, 12.0, 10.0, 10.0, 10.0, 10.0, 10.0, 9.0, 8.0, 8.0, 7.0, 8.0, 7.0, 8.0, 6.0, 7.0, 7.0, 7.0, 23.436458587646484, 35.935489654541016, 19.72584342956543, 12.987784385681152, 28.101390838623047, 30.185667037963867, 10.880331039428711, 21.131078720092773, 14.162232398986816, 6.680161476135254, 7.512998580932617, 7.507657527923584, 6.657912731170654, 9.919187545776367, 4.134949684143066, 10.659622192382812, 7.389212608337402, 17.883113861083984, 10.750703811645508, 4.929561614990234, 17.916603088378906, 12.165371894836426, 6.499242782592773, 7.332422256469727, 8.174409866333008, 5.669569969177246, 8.025700569152832, 8.824423789978027, 6.462009906768799, 8.862564086914062, 14.190170288085938, 13.137468338012695, 11.312405586242676, 10.569291114807129, 10.026045799255371, 7.935937404632568, 7.4576334953308105, 1.7374157905578613, 1.1104629039764404, 1.1603344678878784, 1.1768730878829956, 1.1629583835601807, 1.1840814352035522, 1.172926664352417, 1.1722145080566406, 1.172739863395691, 1.170702338218689, 1.1964813470840454, 1.17168128490448, 1.2020759582519531, 1.1897261142730713, 1.1969325542449951, 1.1648775339126587, 1.2129322290420532, 1.1898021697998047, 1.190046787261963, 1.1830371618270874, 1.1895169019699097, 1.1807117462158203, 1.1858315467834473, 1.1830878257751465, 1.2064930200576782, 1.2134760618209839, 1.1902759075164795, 1.1871389150619507, 1.1974858045578003, 1.215717077255249, 5.6065568923950195, 2.6366255283355713, 10.569291114807129, 2.716062307357788, 3.4367871284484863, 14.190170288085938, 13.137468338012695, 11.312405586242676, 5.072287559509277, 30.185667037963867, 2.685499429702759, 7.4576334953308105, 17.883113861083984, 3.5468459129333496, 28.101390838623047, 3.548600912094116, 2.709496259689331, 17.916603088378906, 3.6483263969421387, 3.5121381282806396, 19.72584342956543, 6.654165744781494, 14.162232398986816, 10.026045799255371, 12.165371894836426, 35.935489654541016, 7.935937404632568, 21.131078720092773, 10.659622192382812, 10.880331039428711, 8.824423789978027, 8.025700569152832, 23.436458587646484, 9.919187545776367, 6.024484634399414, 8.862564086914062, 12.987784385681152, 7.023665904998779, 10.750703811645508, 8.174409866333008, 1.1104629039764404, 1.2064151763916016, 1.1648775339126587, 1.204287052154541, 1.2012052536010742, 1.1848903894424438, 1.2439219951629639, 1.1827974319458008, 1.2081031799316406, 1.2089594602584839, 1.1629583835601807, 1.199951410293579, 1.170702338218689, 1.1807117462158203, 1.2165724039077759, 1.17168128490448, 1.1871389150619507, 1.1830878257751465, 1.2328672409057617, 1.2146390676498413, 1.2138581275939941, 1.1906358003616333, 1.1830371618270874, 1.207146167755127, 1.172739863395691, 1.245711326599121, 1.2081798315048218, 1.194987416267395, 1.1902759075164795, 1.1858315467834473, 1.2213547229766846, 1.220290184020996, 14.190170288085938, 1.2769824266433716, 1.8823378086090088, 21.131078720092773, 10.026045799255371, 10.750703811645508, 11.312405586242676, 35.935489654541016, 6.654165744781494, 17.916603088378906, 7.023665904998779, 30.185667037963867, 13.137468338012695, 28.101390838623047, 6.024484634399414, 1.9976950883865356, 8.174409866333008, 17.883113861083984, 23.436458587646484, 8.862564086914062, 7.4576334953308105, 12.165371894836426, 12.987784385681152, 4.701128005981445, 10.569291114807129, 5.6065568923950195, 4.523386001586914, 4.699336528778076, 19.72584342956543, 6.462009906768799, 8.824423789978027, 7.332422256469727, 9.919187545776367, 14.162232398986816, 10.659622192382812, 8.025700569152832, 10.880331039428711, 7.935937404632568], \"loglift\": [30.0, 29.0, 28.0, 27.0, 26.0, 25.0, 24.0, 23.0, 22.0, 21.0, 20.0, 19.0, 18.0, 17.0, 16.0, 15.0, 14.0, 13.0, 12.0, 11.0, 10.0, 9.0, 8.0, 7.0, 6.0, 5.0, 4.0, 3.0, 2.0, 1.0, 0.00019999999494757503, 0.00019999999494757503, 0.00019999999494757503, 0.00019999999494757503, 0.00019999999494757503, 0.00019999999494757503, 0.00019999999494757503, 0.00019999999494757503, 0.00019999999494757503, 0.00019999999494757503, 0.00019999999494757503, 0.00019999999494757503, 0.00019999999494757503, 0.00019999999494757503, 0.00019999999494757503, 0.00019999999494757503, 9.999999747378752e-05, 9.999999747378752e-05, 9.999999747378752e-05, 9.999999747378752e-05, 9.999999747378752e-05, 9.999999747378752e-05, 9.999999747378752e-05, 9.999999747378752e-05, 9.999999747378752e-05, 9.999999747378752e-05, 9.999999747378752e-05, 9.999999747378752e-05, 9.999999747378752e-05, 9.999999747378752e-05, 0.0, 9.999999747378752e-05, 9.999999747378752e-05, 9.999999747378752e-05, 9.999999747378752e-05, 9.999999747378752e-05, 0.0, 0.5848000049591064, 0.5110999941825867, 0.483599990606308, 0.46369999647140503, 0.4487000107765198, 0.44359999895095825, 0.4426000118255615, 0.4424999952316284, 0.43810001015663147, 0.4327000081539154, 0.43230000138282776, 0.43220001459121704, 0.4180999994277954, 0.41679999232292175, 0.4165000021457672, 0.4165000021457672, 0.4140999913215637, 0.41350001096725464, 0.4108000099658966, 0.4081000089645386, 0.40689998865127563, 0.40450000762939453, 0.4025000035762787, 0.4016999900341034, 0.39250001311302185, 0.39089998602867126, 0.38960000872612, 0.38960000872612, 0.38909998536109924, 0.38850000500679016, 0.23909999430179596, 0.3027999997138977, 0.10090000182390213, 0.27649998664855957, 0.22779999673366547, -0.03290000185370445, -0.019300000742077827, -0.00419999985024333, 0.13420000672340393, -0.23260000348091125, 0.2500999867916107, 0.04500000178813934, -0.14300000667572021, 0.17720000445842743, -0.30090001225471497, 0.17470000684261322, 0.23360000550746918, -0.211899995803833, 0.14869999885559082, 0.15690000355243683, -0.29280000925064087, -0.012299999594688416, -0.21209999918937683, -0.13109999895095825, -0.1834000051021576, -0.48510000109672546, -0.09910000115633011, -0.42559999227523804, -0.2071000039577484, -0.22849999368190765, -0.16590000689029694, -0.15379999577999115, -0.6136999726295471, -0.2687000036239624, -0.07109999656677246, -0.24969999492168427, -0.49970000982284546, -0.21549999713897705, -0.4666999876499176, -0.35850000381469727, 0.6395999789237976, 0.5564000010490417, 0.5561000108718872, 0.5546000003814697, 0.5529000163078308, 0.5400999784469604, 0.5320000052452087, 0.5320000052452087, 0.5259000062942505, 0.5231000185012817, 0.5218999981880188, 0.5199000239372253, 0.5134999752044678, 0.5123999714851379, 0.511900007724762, 0.5103999972343445, 0.5073999762535095, 0.5070000290870667, 0.5019000172615051, 0.5001999735832214, 0.4993000030517578, 0.499099999666214, 0.49889999628067017, 0.4986000061035156, 0.4984000027179718, 0.4975000023841858, 0.4968000054359436, 0.49619999527931213, 0.49559998512268066, 0.49559998512268066, 0.49390000104904175, 0.49230000376701355, -0.12870000302791595, 0.4771000146865845, 0.3531000018119812, -0.4334999918937683, -0.193900004029274, -0.2231999933719635, -0.24570000171661377, -0.6575999855995178, -0.09470000118017197, -0.47620001435279846, -0.15209999680519104, -0.7117000222206116, -0.40959998965263367, -0.7222999930381775, -0.12460000067949295, 0.30329999327659607, -0.27559998631477356, -0.6001999974250793, -0.7202000021934509, -0.32580000162124634, -0.2542000114917755, -0.4941999912261963, -0.5242999792098999, -0.09019999951124191, -0.48100000619888306, -0.1858000010251999, -0.08380000293254852, -0.10859999805688858, -0.8192999958992004, -0.27559998631477356, -0.43380001187324524, -0.34220001101493835, -0.5009999871253967, -0.6909000277519226, -0.5462999939918518, -0.46059998869895935, -0.7019000053405762, -0.4724000096321106], \"logprob\": [30.0, 29.0, 28.0, 27.0, 26.0, 25.0, 24.0, 23.0, 22.0, 21.0, 20.0, 19.0, 18.0, 17.0, 16.0, 15.0, 14.0, 13.0, 12.0, 11.0, 10.0, 9.0, 8.0, 7.0, 6.0, 5.0, 4.0, 3.0, 2.0, 1.0, -4.124800205230713, -3.6974000930786133, -4.2972002029418945, -4.715099811553955, -3.9433000087738037, -3.871799945831299, -4.892199993133545, -4.228400230407715, -4.628600120544434, -5.380000114440918, -5.262499809265137, -5.263199806213379, -5.383299827575684, -4.9847002029418945, -5.8597002029418945, -4.912700176239014, -5.279099941253662, -4.395299911499023, -4.904200077056885, -5.683899879455566, -4.393400192260742, -4.780600070953369, -5.40749979019165, -5.286900043487549, -5.178199768066406, -5.544099807739258, -5.196499824523926, -5.1016998291015625, -5.413300037384033, -5.097400188446045, -4.626699924468994, -4.703800201416016, -4.853400230407715, -4.921299934387207, -4.974100112915039, -5.207799911499023, -5.269999980926514, -6.142199993133545, -6.663400173187256, -6.64709997177124, -6.652699947357178, -6.679699897766113, -6.666800022125244, -6.677199840545654, -6.6778998374938965, -6.6819000244140625, -6.689000129699707, -6.667600154876709, -6.688700199127197, -6.677199840545654, -6.688799858093262, -6.683000087738037, -6.71019983291626, -6.6722002029418945, -6.691999912261963, -6.694499969482422, -6.703100204467773, -6.69890022277832, -6.708700180053711, -6.706399917602539, -6.709499835968018, -6.699100017547607, -6.695000171661377, -6.7154998779296875, -6.718200206756592, -6.710000038146973, -6.695499897003174, -5.316299915313721, -6.006999969482422, -4.820499897003174, -6.003600120544434, -5.81689977645874, -4.6596999168396, -4.723100185394287, -4.857600212097168, -5.521399974822998, -4.104599952697754, -6.041399955749512, -5.225100040435791, -4.53849983215332, -5.836100101470947, -4.2444000244140625, -5.8379998207092285, -6.048900127410889, -4.605500221252441, -5.836400032043457, -5.866199970245361, -4.590199947357178, -5.396299839019775, -4.840799808502197, -5.105199813842773, -4.964200019836426, -4.182700157165527, -5.307000160217285, -4.654200077056885, -5.119900226593018, -5.120800018310547, -5.2677001953125, -5.350500106811523, -4.738699913024902, -5.253600120544434, -5.554599761962891, -5.347099781036377, -5.215000152587891, -5.545599937438965, -5.370999813079834, -5.536799907684326, -6.534999847412109, -6.535299777984619, -6.5706000328063965, -6.538899898529053, -6.543099880218506, -6.5696001052856445, -6.5289998054504395, -6.579400062561035, -6.5644001960754395, -6.566400051116943, -6.606400012969971, -6.577099800109863, -6.6082000732421875, -6.600800037384033, -6.571400165557861, -6.610499858856201, -6.600399971008301, -6.604100227355957, -6.567999839782715, -6.58459997177124, -6.58620023727417, -6.6057000160217285, -6.612299919128418, -6.59250020980835, -6.621600151062012, -6.562099933624268, -6.593400001525879, -6.605000019073486, -6.609499931335449, -6.61329984664917, -6.585400104522705, -6.5879998207092285, -4.755499839782715, -6.557700157165527, -6.293700218200684, -4.662099838256836, -5.168000221252441, -5.127500057220459, -5.099100112915039, -4.355199813842773, -5.478799819946289, -4.869800090789795, -5.482100009918213, -4.583600044250488, -5.113500118255615, -4.665800094604492, -5.608099937438965, -6.283999919891357, -5.45389986038208, -4.99560022354126, -4.845200061798096, -5.423299789428711, -5.5243000984191895, -5.275000095367432, -5.23960018157959, -5.821700096130371, -5.402299880981445, -5.741199970245361, -5.853799819946289, -5.8404998779296875, -5.116700172424316, -5.689000129699707, -5.535600185394287, -5.629199981689453, -5.485799789428711, -5.319699764251709, -5.459099769592285, -5.657299995422363, -5.594200134277344, -5.680300235748291]}, \"token.table\": {\"Topic\": [1, 1, 1, 1, 1, 1, 1, 1, 1, 1, 1, 1, 1, 1, 1, 1, 1, 1, 1, 1, 1, 1, 1, 1, 1, 1, 1, 1, 1, 1, 1, 1, 1, 1, 1, 1, 1, 1, 1, 1, 1, 1, 1, 1, 1, 1, 1, 1, 1, 1, 1, 1, 1, 1, 1, 1, 1, 1, 1, 1, 1, 1, 1, 1, 1, 1, 1, 1, 1, 1, 1, 1, 1, 1, 1, 1, 1, 1, 1, 1, 1, 1, 1, 1, 1, 1, 1, 1, 1, 1, 1, 1, 1, 1, 1, 1, 1, 1, 1, 1, 1, 1, 1, 1, 1, 1, 1], \"Freq\": [0.9005253314971924, 0.8525682091712952, 0.7830961346626282, 0.8225597739219666, 0.8324971795082092, 1.0478788614273071, 0.8219814896583557, 0.8423613905906677, 0.8598759770393372, 0.840475857257843, 0.8194772005081177, 1.001153826713562, 0.8530861735343933, 0.8039089441299438, 0.9938491582870483, 1.015507459640503, 0.9473268985748291, 0.9895361661911011, 1.0046547651290894, 0.8238195180892944, 1.0519726276397705, 0.8452457785606384, 0.9786639213562012, 0.8187629580497742, 1.105366587638855, 1.0655786991119385, 0.8469467759132385, 0.8584593534469604, 0.9864063262939453, 0.9885447025299072, 0.9857485294342041, 0.8406774401664734, 1.1277625560760498, 0.8527040481567383, 0.8333670496940613, 0.8244483470916748, 0.8303667902946472, 0.8454533219337463, 0.8111173510551453, 1.0198966264724731, 1.0513805150985718, 0.8405295610427856, 0.9967977404594421, 0.8288485407829285, 0.8027542233467102, 1.151134967803955, 0.8232898116111755, 0.9813769459724426, 1.0142890214920044, 0.8452819585800171, 0.8350829482078552, 0.8534744381904602, 0.8497092723846436, 1.1378179788589478, 1.0701755285263062, 0.9966305494308472, 0.9673636555671692, 1.1072168350219727, 1.0065361261367798, 1.0109986066818237, 0.9959357976913452, 1.0138983726501465, 0.8445364832878113, 0.9974021911621094, 0.8289020657539368, 0.9546640515327454, 0.8354689478874207, 0.9937968850135803, 1.008147120475769, 1.104540228843689, 1.0017951726913452, 0.8618204593658447, 0.8277438879013062, 0.8318941593170166, 0.8401413559913635, 0.8398873805999756, 0.8240788578987122, 0.8357840180397034, 0.8271576166152954, 1.0009405612945557, 1.023188829421997, 1.0080724954605103, 0.9386355876922607, 0.8432900905609131, 1.09639310836792, 0.8439599275588989, 0.9963919520378113, 0.854188084602356, 1.0648211240768433, 1.1171106100082397, 0.8403031229972839, 0.827691376209259, 1.0407509803771973, 1.0319315195083618, 1.1389073133468628, 0.9723837971687317, 0.8729082942008972, 0.9231844544410706, 0.928503692150116, 1.0582813024520874, 0.8284000754356384, 1.1272047758102417, 0.9865984320640564, 1.0635745525360107, 0.836828887462616, 1.0625085830688477, 1.063979983329773], \"Term\": [\"4\", \"52\", \"If\", \"accept\", \"accompani\", \"accord\", \"actual\", \"afterward\", \"ascrib\", \"authent\", \"beauti\", \"becom\", \"bird\", \"bisect\", \"bodi\", \"but\", \"carri\", \"caus\", \"center\", \"certain\", \"chapter\", \"chapter 1 \", \"circl\", \"cold\", \"copernicu\", \"demonstr\", \"deserv\", \"directli\", \"distanc\", \"earth\", \"eccentr\", \"eleg\", \"eman\", \"everi\", \"excess\", \"exert\", \"expel\", \"far\", \"flow\", \"follow\", \"geometr\", \"hear\", \"illumin\", \"immedi\", \"impart\", \"invers\", \"just\", \"light\", \"like\", \"littl\", \"long\", \"lost\", \"machin\", \"make\", \"manner\", \"matter\", \"may\", \"moreov\", \"motion\", \"motiv\", \"movabl\", \"move\", \"odour\", \"one\", \"parallax\", \"part\", \"philosophi\", \"planet\", \"point\", \"posit\", \"power\", \"precis\", \"primari\", \"prior\", \"question\", \"rare\", \"right\", \"round\", \"simpli\", \"sinc\", \"sourc\", \"space\", \"speci\", \"species5\", \"strength\", \"strongli\", \"sun\", \"sure\", \"surfac\", \"system\", \"take\", \"temper\", \"therefor\", \"thing\", \"third\", \"time\", \"two\", \"tycho\", \"upon\", \"weaken\", \"whose\", \"without\", \"world\", \"would\", \"you\", \"\\u03b1\\u03b4\", \"\\u03b5\"]}, \"R\": 30, \"lambda.step\": 0.01, \"plot.opts\": {\"xlab\": \"PC1\", \"ylab\": \"PC2\"}, \"topic.order\": [3, 1, 2]};\n",
       "\n",
       "function LDAvis_load_lib(url, callback){\n",
       "  var s = document.createElement('script');\n",
       "  s.src = url;\n",
       "  s.async = true;\n",
       "  s.onreadystatechange = s.onload = callback;\n",
       "  s.onerror = function(){console.warn(\"failed to load library \" + url);};\n",
       "  document.getElementsByTagName(\"head\")[0].appendChild(s);\n",
       "}\n",
       "\n",
       "if(typeof(LDAvis) !== \"undefined\"){\n",
       "   // already loaded: just create the visualization\n",
       "   !function(LDAvis){\n",
       "       new LDAvis(\"#\" + \"ldavis_el98801861910553368741132909\", ldavis_el98801861910553368741132909_data);\n",
       "   }(LDAvis);\n",
       "}else if(typeof define === \"function\" && define.amd){\n",
       "   // require.js is available: use it to load d3/LDAvis\n",
       "   require.config({paths: {d3: \"https://cdnjs.cloudflare.com/ajax/libs/d3/3.5.5/d3.min\"}});\n",
       "   require([\"d3\"], function(d3){\n",
       "      window.d3 = d3;\n",
       "      LDAvis_load_lib(\"https://cdn.rawgit.com/bmabey/pyLDAvis/files/ldavis.v1.0.0.js\", function(){\n",
       "        new LDAvis(\"#\" + \"ldavis_el98801861910553368741132909\", ldavis_el98801861910553368741132909_data);\n",
       "      });\n",
       "    });\n",
       "}else{\n",
       "    // require.js not available: dynamically load d3 & LDAvis\n",
       "    LDAvis_load_lib(\"https://cdnjs.cloudflare.com/ajax/libs/d3/3.5.5/d3.min.js\", function(){\n",
       "         LDAvis_load_lib(\"https://cdn.rawgit.com/bmabey/pyLDAvis/files/ldavis.v1.0.0.js\", function(){\n",
       "                 new LDAvis(\"#\" + \"ldavis_el98801861910553368741132909\", ldavis_el98801861910553368741132909_data);\n",
       "            })\n",
       "         });\n",
       "}\n",
       "</script>"
      ],
      "text/plain": [
       "PreparedData(topic_coordinates=              x    y  topics  cluster       Freq\n",
       "topic                                           \n",
       "2     -0.008621 -0.0       1        1  99.948883\n",
       "0      0.000478 -0.0       2        1   0.026144\n",
       "1      0.008143 -0.0       3        1   0.024973, topic_info=     Category       Freq       Term      Total  loglift  logprob\n",
       "term                                                            \n",
       "368   Default  35.000000      power  35.000000  30.0000  30.0000\n",
       "81    Default  30.000000       bodi  30.000000  29.0000  29.0000\n",
       "468   Default  28.000000        sun  28.000000  28.0000  28.0000\n",
       "358   Default  21.000000     planet  21.000000  27.0000  27.0000\n",
       "278   Default  23.000000      light  23.000000  26.0000  26.0000\n",
       "92    Default  17.000000     center  17.000000  25.0000  25.0000\n",
       "308   Default  19.000000       move  19.000000  24.0000  24.0000\n",
       "305   Default  17.000000     motion  17.000000  23.0000  23.0000\n",
       "537   Default  14.000000      world  14.000000  22.0000  22.0000\n",
       "91    Default  13.000000       caus  13.000000  21.0000  21.0000\n",
       "156   Default  14.000000      earth  14.000000  20.0000  20.0000\n",
       "495   Default  11.000000       time  11.000000  19.0000  19.0000\n",
       "152   Default  12.000000    distanc  12.000000  18.0000  18.0000\n",
       "439   Default  12.000000       sinc  12.000000  17.0000  17.0000\n",
       "485   Default  10.000000   therefor  10.000000  16.0000  16.0000\n",
       "334   Default  10.000000        one  10.000000  15.0000  15.0000\n",
       "447   Default  10.000000      sourc  10.000000  14.0000  14.0000\n",
       "488   Default  10.000000      thing  10.000000  13.0000  13.0000\n",
       "306   Default  10.000000      motiv  10.000000  12.0000  12.0000\n",
       "360   Default   9.000000      point   9.000000  11.0000  11.0000\n",
       "87    Default   8.000000        but   8.000000  10.0000  10.0000\n",
       "201   Default   8.000000     follow   8.000000   9.0000   9.0000\n",
       "449   Default   7.000000      speci   7.000000   8.0000   8.0000\n",
       "96    Default   8.000000      circl   8.000000   7.0000   7.0000\n",
       "448   Default   7.000000      space   7.000000   6.0000   6.0000\n",
       "236   Default   8.000000    illumin   8.000000   5.0000   5.0000\n",
       "94    Default   6.000000    chapter   6.000000   4.0000   4.0000\n",
       "296   Default   7.000000     matter   7.000000   3.0000   3.0000\n",
       "345   Default   7.000000       part   7.000000   2.0000   2.0000\n",
       "90    Default   7.000000      carri   7.000000   1.0000   1.0000\n",
       "...       ...        ...        ...        ...      ...      ...\n",
       "94     Topic3   0.001512    chapter   6.654166  -0.0947  -5.4788\n",
       "92     Topic3   0.002779     center  17.916603  -0.4762  -4.8698\n",
       "296    Topic3   0.001507     matter   7.023666  -0.1521  -5.4821\n",
       "81     Topic3   0.003700       bodi  30.185667  -0.7117  -4.5836\n",
       "91     Topic3   0.002178       caus  13.137468  -0.4096  -5.1135\n",
       "468    Topic3   0.003408        sun  28.101391  -0.7223  -4.6658\n",
       "307    Topic3   0.001328     movabl   6.024485  -0.1246  -5.6081\n",
       "73     Topic3   0.000676      becom   1.997695   0.3033  -6.2840\n",
       "96     Topic3   0.001550      circl   8.174410  -0.2756  -5.4539\n",
       "305    Topic3   0.002451     motion  17.883114  -0.6002  -4.9956\n",
       "278    Topic3   0.002848      light  23.436459  -0.7202  -4.8452\n",
       "87     Topic3   0.001598        but   8.862564  -0.3258  -5.4233\n",
       "449    Topic3   0.001444      speci   7.457633  -0.2542  -5.5243\n",
       "152    Topic3   0.001853    distanc  12.165372  -0.4942  -5.2750\n",
       "439    Topic3   0.001920       sinc  12.987784  -0.5243  -5.2396\n",
       "539    Topic3   0.001073      would   4.701128  -0.0902  -5.8217\n",
       "485    Topic3   0.001632   therefor  10.569291  -0.4810  -5.4023\n",
       "292    Topic3   0.001163     manner   5.606557  -0.1858  -5.7412\n",
       "127    Topic3   0.001039  copernicu   4.523386  -0.0838  -5.8538\n",
       "546    Topic3   0.001053          ε   4.699337  -0.1086  -5.8405\n",
       "308    Topic3   0.002171       move  19.725843  -0.8193  -5.1167\n",
       "512    Topic3   0.001225       upon   6.462010  -0.2756  -5.6890\n",
       "201    Topic3   0.001428     follow   8.824424  -0.4338  -5.5356\n",
       "345    Topic3   0.001301       part   7.332422  -0.3422  -5.6292\n",
       "360    Topic3   0.001501      point   9.919188  -0.5010  -5.4858\n",
       "156    Topic3   0.001772      earth  14.162232  -0.6909  -5.3197\n",
       "488    Topic3   0.001542      thing  10.659622  -0.5463  -5.4591\n",
       "236    Topic3   0.001264    illumin   8.025701  -0.4606  -5.6573\n",
       "306    Topic3   0.001347      motiv  10.880331  -0.7019  -5.5942\n",
       "448    Topic3   0.001236      space   7.935937  -0.4724  -5.6803\n",
       "\n",
       "[207 rows x 6 columns], token_table=      Topic      Freq        Term\n",
       "term                             \n",
       "5         1  0.900525           4\n",
       "7         1  0.852568          52\n",
       "10        1  0.783096          If\n",
       "20        1  0.822560      accept\n",
       "21        1  0.832497   accompani\n",
       "22        1  1.047879      accord\n",
       "28        1  0.821981      actual\n",
       "31        1  0.842361   afterward\n",
       "58        1  0.859876      ascrib\n",
       "65        1  0.840476     authent\n",
       "72        1  0.819477      beauti\n",
       "73        1  1.001154       becom\n",
       "78        1  0.853086        bird\n",
       "79        1  0.803909      bisect\n",
       "81        1  0.993849        bodi\n",
       "87        1  1.015507         but\n",
       "90        1  0.947327       carri\n",
       "91        1  0.989536        caus\n",
       "92        1  1.004655      center\n",
       "93        1  0.823820     certain\n",
       "94        1  1.051973     chapter\n",
       "95        1  0.845246  chapter 1 \n",
       "96        1  0.978664       circl\n",
       "105       1  0.818763        cold\n",
       "127       1  1.105367   copernicu\n",
       "136       1  1.065579    demonstr\n",
       "140       1  0.846947      deserv\n",
       "147       1  0.858459    directli\n",
       "152       1  0.986406     distanc\n",
       "156       1  0.988545       earth\n",
       "...     ...       ...         ...\n",
       "423       1  0.835784       round\n",
       "438       1  0.827158      simpli\n",
       "439       1  1.000941        sinc\n",
       "447       1  1.023189       sourc\n",
       "448       1  1.008072       space\n",
       "449       1  0.938636       speci\n",
       "450       1  0.843290    species5\n",
       "458       1  1.096393    strength\n",
       "460       1  0.843960    strongli\n",
       "468       1  0.996392         sun\n",
       "471       1  0.854188        sure\n",
       "472       1  1.064821      surfac\n",
       "475       1  1.117111      system\n",
       "476       1  0.840303        take\n",
       "478       1  0.827691      temper\n",
       "485       1  1.040751    therefor\n",
       "488       1  1.031932       thing\n",
       "490       1  1.138907       third\n",
       "495       1  0.972384        time\n",
       "504       1  0.872908         two\n",
       "505       1  0.923184       tycho\n",
       "512       1  0.928504        upon\n",
       "523       1  1.058281      weaken\n",
       "533       1  0.828400       whose\n",
       "536       1  1.127205     without\n",
       "537       1  0.986598       world\n",
       "539       1  1.063575       would\n",
       "541       1  0.836829         you\n",
       "543       1  1.062509          αδ\n",
       "546       1  1.063980           ε\n",
       "\n",
       "[107 rows x 3 columns], R=30, lambda_step=0.01, plot_opts={'xlab': 'PC1', 'ylab': 'PC2'}, topic_order=[3, 1, 2])"
      ]
     },
     "execution_count": 38,
     "metadata": {},
     "output_type": "execute_result"
    }
   ],
   "source": [
    "vis"
   ]
  },
  {
   "cell_type": "markdown",
   "metadata": {},
   "source": [
    "# Topic Modelling of chapter 30"
   ]
  },
  {
   "cell_type": "code",
   "execution_count": 108,
   "metadata": {},
   "outputs": [
    {
     "data": {
      "text/html": [
       "\n",
       "<link rel=\"stylesheet\" type=\"text/css\" href=\"https://cdn.rawgit.com/bmabey/pyLDAvis/files/ldavis.v1.0.0.css\">\n",
       "\n",
       "\n",
       "<div id=\"ldavis_el1306017232374730402109834384\"></div>\n",
       "<script type=\"text/javascript\">\n",
       "\n",
       "var ldavis_el1306017232374730402109834384_data = {\"mdsDat\": {\"x\": [-0.009324448849558976, 0.0034653829251662807, 0.005859065924392705], \"y\": [0.0, 0.0, 0.0], \"topics\": [1, 2, 3], \"cluster\": [1, 1, 1], \"Freq\": [99.97313690185547, 0.013493522070348263, 0.013370848260819912]}, \"tinfo\": {\"Category\": [\"Default\", \"Default\", \"Default\", \"Default\", \"Default\", \"Default\", \"Default\", \"Default\", \"Default\", \"Default\", \"Default\", \"Default\", \"Default\", \"Default\", \"Default\", \"Default\", \"Default\", \"Default\", \"Default\", \"Default\", \"Default\", \"Default\", \"Default\", \"Default\", \"Default\", \"Default\", \"Default\", \"Default\", \"Default\", \"Default\", \"Topic1\", \"Topic1\", \"Topic1\", \"Topic1\", \"Topic1\", \"Topic1\", \"Topic1\", \"Topic1\", \"Topic1\", \"Topic1\", \"Topic1\", \"Topic1\", \"Topic1\", \"Topic1\", \"Topic1\", \"Topic1\", \"Topic1\", \"Topic1\", \"Topic1\", \"Topic1\", \"Topic1\", \"Topic1\", \"Topic1\", \"Topic1\", \"Topic1\", \"Topic1\", \"Topic1\", \"Topic1\", \"Topic1\", \"Topic1\", \"Topic1\", \"Topic1\", \"Topic1\", \"Topic1\", \"Topic1\", \"Topic1\", \"Topic1\", \"Topic1\", \"Topic1\", \"Topic1\", \"Topic1\", \"Topic2\", \"Topic2\", \"Topic2\", \"Topic2\", \"Topic2\", \"Topic2\", \"Topic2\", \"Topic2\", \"Topic2\", \"Topic2\", \"Topic2\", \"Topic2\", \"Topic2\", \"Topic2\", \"Topic2\", \"Topic2\", \"Topic2\", \"Topic2\", \"Topic2\", \"Topic2\", \"Topic2\", \"Topic2\", \"Topic2\", \"Topic2\", \"Topic2\", \"Topic2\", \"Topic2\", \"Topic2\", \"Topic2\", \"Topic2\", \"Topic2\", \"Topic2\", \"Topic2\", \"Topic2\", \"Topic2\", \"Topic2\", \"Topic2\", \"Topic2\", \"Topic2\", \"Topic2\", \"Topic2\", \"Topic2\", \"Topic2\", \"Topic2\", \"Topic2\", \"Topic2\", \"Topic2\", \"Topic2\", \"Topic2\", \"Topic2\", \"Topic2\", \"Topic2\", \"Topic2\", \"Topic2\", \"Topic2\", \"Topic2\", \"Topic2\", \"Topic2\", \"Topic2\", \"Topic2\", \"Topic2\", \"Topic2\", \"Topic2\", \"Topic2\", \"Topic2\", \"Topic2\", \"Topic2\", \"Topic2\", \"Topic2\", \"Topic2\", \"Topic3\", \"Topic3\", \"Topic3\", \"Topic3\", \"Topic3\", \"Topic3\", \"Topic3\", \"Topic3\", \"Topic3\", \"Topic3\", \"Topic3\", \"Topic3\", \"Topic3\", \"Topic3\", \"Topic3\", \"Topic3\", \"Topic3\", \"Topic3\", \"Topic3\", \"Topic3\", \"Topic3\", \"Topic3\", \"Topic3\", \"Topic3\", \"Topic3\", \"Topic3\", \"Topic3\", \"Topic3\", \"Topic3\", \"Topic3\", \"Topic3\", \"Topic3\", \"Topic3\", \"Topic3\", \"Topic3\", \"Topic3\", \"Topic3\", \"Topic3\", \"Topic3\", \"Topic3\", \"Topic3\", \"Topic3\", \"Topic3\", \"Topic3\", \"Topic3\", \"Topic3\", \"Topic3\", \"Topic3\", \"Topic3\", \"Topic3\", \"Topic3\", \"Topic3\", \"Topic3\", \"Topic3\", \"Topic3\", \"Topic3\", \"Topic3\", \"Topic3\", \"Topic3\", \"Topic3\", \"Topic3\", \"Topic3\", \"Topic3\", \"Topic3\", \"Topic3\", \"Topic3\", \"Topic3\", \"Topic3\", \"Topic3\", \"Topic3\", \"Topic3\", \"Topic3\", \"Topic3\", \"Topic3\"], \"Freq\": [59.0, 52.0, 56.0, 48.0, 40.0, 41.0, 36.0, 33.0, 31.0, 26.0, 27.0, 26.0, 20.0, 24.0, 23.0, 19.0, 20.0, 20.0, 18.0, 18.0, 15.0, 15.0, 15.0, 15.0, 15.0, 13.0, 14.0, 12.0, 13.0, 13.0, 56.89910888671875, 41.22734832763672, 31.708209991455078, 18.11516761779785, 20.786888122558594, 24.352581024169922, 59.14899826049805, 9.838542938232422, 36.587894439697266, 48.07051467895508, 13.352801322937012, 20.483781814575195, 27.562503814697266, 23.097368240356445, 7.100220203399658, 33.67533874511719, 26.552385330200195, 11.464822769165039, 51.99961853027344, 10.55489444732666, 11.412924766540527, 7.901414394378662, 13.154973030090332, 15.759778022766113, 10.471933364868164, 8.709314346313477, 15.672489166259766, 9.585770606994629, 13.934358596801758, 13.929160118103027, 40.911338806152344, 26.890092849731445, 20.66963768005371, 19.94315528869629, 18.02204132080078, 15.331170082092285, 15.206891059875488, 15.181846618652344, 14.320231437683105, 13.789754867553711, 13.681883811950684, 0.0003232606977690011, 0.00030964796314947307, 0.00031194655457511544, 0.0003159808402415365, 0.00030948701896704733, 0.00030429280013777316, 0.0003073782136198133, 0.0003047663776669651, 0.0003013338427990675, 0.0003019165596924722, 0.0003069200029131025, 0.0003050550876650959, 0.00030777964275330305, 0.00030256970785558224, 0.0003024823672603816, 0.0002967318578157574, 0.00030174842686392367, 0.000299064937280491, 0.0002988415362779051, 0.00029957955121062696, 0.00029926103889010847, 0.0003028365026693791, 0.000295076344627887, 0.0002978231350425631, 0.0003045015037059784, 0.0002966183819808066, 0.0002990245120599866, 0.00029977437225170434, 0.0002937771787401289, 0.0003011872759088874, 0.000298539933282882, 0.005019959062337875, 0.0027213874273002148, 0.0020193802192807198, 0.001871020533144474, 0.0030898901168257, 0.005608140490949154, 0.004743572324514389, 0.0049097537994384766, 0.000679355813190341, 0.0023175657261162996, 0.00479748984798789, 0.0008733113063499331, 0.0013949520653113723, 0.0015779284294694662, 0.001778461504727602, 0.0030401472467929125, 0.0015505856135860085, 0.003168546361848712, 0.0010864125797525048, 0.0025050221011042595, 0.002794048748910427, 0.001122551504522562, 0.000753667438402772, 0.002506284974515438, 0.0014253042172640562, 0.0014673833502456546, 0.003212427720427513, 0.001308092731051147, 0.001836933079175651, 0.001647945842705667, 0.0010000410256907344, 0.00152367795817554, 0.001289532519876957, 0.002006726572290063, 0.002017667517066002, 0.0012237802147865295, 0.0015704944962635636, 0.001648477977141738, 0.0016251284396275878, 0.0003122342168353498, 0.00031816543196327984, 0.0003177333564963192, 0.00031703594140708447, 0.00030096503905951977, 0.0003120354958809912, 0.0003096196742262691, 0.0003105982905253768, 0.00031502891215495765, 0.0003072843828704208, 0.00030935651739127934, 0.0003068754158448428, 0.00030872129718773067, 0.00030699759372510016, 0.0003064403426833451, 0.00029929375159554183, 0.00029735921998508275, 0.0003116107836831361, 0.00030518381390720606, 0.0003100468311458826, 0.00030320981750264764, 0.00030258981860242784, 0.00030631295521743596, 0.0003064494812861085, 0.000302622007438913, 0.00030022027203813195, 0.00029291759710758924, 0.0003049456572625786, 0.0002940687700174749, 0.000305913359625265, 0.0003049146616831422, 0.00030315801268443465, 0.0018605745863169432, 0.002643067855387926, 0.002060730941593647, 0.004083647392690182, 0.0047078002244234085, 0.0027784653939306736, 0.0021997829899191856, 0.0013269869377836585, 0.0009542981861159205, 0.00463581969961524, 0.003296208567917347, 0.0030667283572256565, 0.0037952454295009375, 0.0033465144224464893, 0.001087537151761353, 0.0011048364685848355, 0.0009973810520023108, 0.0010655340738594532, 0.0010814686538651586, 0.00158324942458421, 0.0020076779183000326, 0.0024270941503345966, 0.0018321577226743102, 0.001050553866662085, 0.002147366525605321, 0.002326840301975608, 0.0011307052336633205, 0.0012543168850243092, 0.0014881440438330173, 0.0014122547581791878, 0.0021104440093040466, 0.0035402304492890835, 0.002473196480423212, 0.0016041313065215945, 0.001875618938356638, 0.0014684596098959446, 0.00147756387013942, 0.0014476175419986248, 0.0013510591816157103, 0.0013941372744739056, 0.0014135584933683276, 0.0014429179718717933], \"Term\": [\"eccentr\", \"observ\", \"planet\", \"\\u03b4\", \"let\", \"line\", \"one\", \"\\u03b1\", \"point\", \"center\", \"differ\", \"posit\", \"epicycl\", \"path\", \"\\u03b3\", \"hypothesi\", \"would\", \"form\", \"appear\", \"angl\", \"equant\", \"equal\", \"\\u03b2\", \"first\", \"place\", \"therefor\", \"time\", \"ptolema\", \"apsi\", \"sinc\", \"planet\", \"line\", \"point\", \"angl\", \"form\", \"path\", \"eccentr\", \"chang\", \"one\", \"\\u03b4\", \"remain\", \"would\", \"differ\", \"\\u03b3\", \"entir\", \"\\u03b1\", \"posit\", \"Ch\", \"observ\", \"greater\", \"thi\", \"travers\", \"inequ\", \"place\", \"equat\", \"\\u03b1\\u03b2\", \"first\", \"equival\", \"shall\", \"but\", \"let\", \"center\", \"epicycl\", \"hypothesi\", \"appear\", \"\\u03b2\", \"equant\", \"equal\", \"time\", \"therefor\", \"sinc\", \"sine\", \"\\u03c1\\u03b8\\u03bf\", \"turn\", \"unmov\", \"it\", \"\\u03b3\\u03c3\", \"\\u03b5\\u03bf\", \"\\u03b2\\u03b7\", \"simul\", \"accumul\", \"congruent\", \"shift\", \"whenc\", \"fashion\", \"\\u03b5o\", \"sever\", \"\\u03b2\\u03c75\", \"diverg\", \"period\", \"chiefli\", \"increment\", \"within\", \"\\u03bd\\u03c5\", \"earlier\", \"\\u03b8\\u03c5\\u03b3\", \"\\u03c1\\u03c4\", \"impedi\", \"\\u03b2\\u03b3\\u03c6\", \"4' 43\\\"\", \"later\", \"endpoint\", \"let\", \"epicycl\", \"equal\", \"therefor\", \"center\", \"eccentr\", \"\\u03b4\", \"observ\", \"fix\", \"hypothesi\", \"planet\", \"right\", \"describ\", \"ptolema\", \"\\u03b2\", \"\\u03b1\", \"parallel\", \"one\", \"\\u03b8\", \"posit\", \"point\", \"true\", \"heaven\", \"differ\", \"much\", \"copernican\", \"line\", \"\\u03b2\\u03b3\", \"appear\", \"first\", \"comput\", \"time\", \"demonstr\", \"\\u03b3\", \"path\", \"second\", \"angl\", \"would\", \"form\", \"\\u03c7\\u03b2\", \"verg\", \"On\", \"15\", \"\\u03b3\\u03c3\", \"\\u03b3\\u03b9\", \"postul\", \"perplex\", \"78\\u00b0 47' 30\\\"\", \"advis\", \"neighborhood\", \"ought\", \"5\", \"origin\", \"violent\", \"sever\", \"simul\", \"earth\", \"extrem\", \"design\", \"someth\", \"\\u03c8\\u03b3\", \"intercept\", \"29\\u00b0 0' 16\\\" leo\", \"onc\", \"\\u03b3\\u03ba\\u03b6\", \"\\u03c1\\u03b8\\u03bf\", \"o\\u03c1\", \"accumul\", \"practitioners4\", \"\\u0393\\u03b3\", \"except\", \"ptolema\", \"epicycl\", \"equant\", \"let\", \"observ\", \"center\", \"hypothesi\", \"\\u03b9\", \"nearli\", \"eccentr\", \"one\", \"\\u03b1\", \"\\u03b4\", \"line\", \"make\", \"In\", \"\\u03b1\\u03b3\", \"appar\", \"\\u03b5\", \"time\", \"would\", \"differ\", \"appear\", \"\\u03b8\", \"\\u03b3\", \"posit\", \"use\", \"describ\", \"therefor\", \"new\", \"path\", \"planet\", \"point\", \"place\", \"form\", \"sinc\", \"but\", \"apsi\", \"copernican\", \"shall\", \"\\u03b2\", \"angl\"], \"Total\": [59.0, 52.0, 56.0, 48.0, 40.0, 41.0, 36.0, 33.0, 31.0, 26.0, 27.0, 26.0, 20.0, 24.0, 23.0, 19.0, 20.0, 20.0, 18.0, 18.0, 15.0, 15.0, 15.0, 15.0, 15.0, 13.0, 14.0, 12.0, 13.0, 13.0, 56.907447814941406, 41.23390579223633, 31.713478088378906, 18.118181228637695, 20.790388107299805, 24.356708526611328, 59.15924072265625, 9.840262413024902, 36.5943603515625, 48.07905197143555, 13.355184555053711, 20.487438201904297, 27.56743621826172, 23.10152244567871, 7.101500034332275, 33.68144607543945, 26.55721664428711, 11.466931343078613, 52.00923538208008, 10.556866645812988, 11.415066719055176, 7.902902126312256, 13.157452583312988, 15.762773513793945, 10.473943710327148, 8.710991859436035, 15.675512313842773, 9.587620735168457, 13.937055587768555, 13.931863784790039, 40.92044448852539, 26.89596176147461, 20.675003051757812, 19.94767189025879, 18.025711059570312, 15.334362030029297, 15.210183143615723, 15.185099601745605, 14.323338508605957, 13.793113708496094, 13.684707641601562, 1.2365294694900513, 1.210787057876587, 1.2219699621200562, 1.2445762157440186, 1.2236441373825073, 1.2062489986419678, 1.238279938697815, 1.2326931953430176, 1.2193211317062378, 1.2245001792907715, 1.2518200874328613, 1.245179295539856, 1.2631633281707764, 1.2419854402542114, 1.2443320751190186, 1.2250741720199585, 1.2507671117782593, 1.2441507577896118, 1.244097352027893, 1.2550143003463745, 1.2537328004837036, 1.2707027196884155, 1.2394157648086548, 1.2534832954406738, 1.283186912536621, 1.2514843940734863, 1.265382170677185, 1.2706489562988281, 1.2489635944366455, 1.2807862758636475, 1.2695547342300415, 40.92044448852539, 20.675003051757812, 15.185099601745605, 13.793113708496094, 26.89596176147461, 59.15924072265625, 48.07905197143555, 52.00923538208008, 3.7392518520355225, 19.94767189025879, 56.907447814941406, 5.423022747039795, 10.396781921386719, 12.469795227050781, 15.334362030029297, 33.68144607543945, 12.854092597961426, 36.5943603515625, 7.804450988769531, 26.55721664428711, 31.713478088378906, 8.316001892089844, 4.639405250549316, 27.56743621826172, 11.919062614440918, 12.474224090576172, 41.23390579223633, 10.661249160766602, 18.025711059570312, 15.675512313842773, 7.193573474884033, 14.323338508605957, 10.912220001220703, 23.10152244567871, 24.356708526611328, 10.005061149597168, 18.118181228637695, 20.487438201904297, 20.790388107299805, 1.2250055074691772, 1.2619105577468872, 1.2617239952087402, 1.2622087001800537, 1.2062489986419678, 1.2508838176727295, 1.2419354915618896, 1.2506353855133057, 1.2765991687774658, 1.2470964193344116, 1.2596501111984253, 1.249719262123108, 1.2595070600509644, 1.2537152767181396, 1.252049446105957, 1.2250741720199585, 1.2193211317062378, 1.2800817489624023, 1.2541122436523438, 1.2768235206604004, 1.2496063709259033, 1.247359037399292, 1.2627073526382446, 1.263370156288147, 1.248140811920166, 1.2396421432495117, 1.210787057876587, 1.263245940208435, 1.2245001792907715, 1.2744956016540527, 1.2705107927322388, 1.2638205289840698, 12.469795227050781, 20.675003051757812, 15.210183143615723, 40.92044448852539, 52.00923538208008, 26.89596176147461, 19.94767189025879, 9.83237361907959, 6.2671427726745605, 59.15924072265625, 36.5943603515625, 33.68144607543945, 48.07905197143555, 41.23390579223633, 8.089712142944336, 8.302467346191406, 7.149312973022461, 7.9125165939331055, 8.105913162231445, 14.323338508605957, 20.487438201904297, 27.56743621826172, 18.025711059570312, 7.804450988769531, 23.10152244567871, 26.55721664428711, 8.858592987060547, 10.396781921386719, 13.793113708496094, 12.761002540588379, 24.356708526611328, 56.907447814941406, 31.713478088378906, 15.762773513793945, 20.790388107299805, 13.684707641601562, 13.931863784790039, 13.664767265319824, 12.474224090576172, 13.937055587768555, 15.334362030029297, 18.118181228637695], \"loglift\": [30.0, 29.0, 28.0, 27.0, 26.0, 25.0, 24.0, 23.0, 22.0, 21.0, 20.0, 19.0, 18.0, 17.0, 16.0, 15.0, 14.0, 13.0, 12.0, 11.0, 10.0, 9.0, 8.0, 7.0, 6.0, 5.0, 4.0, 3.0, 2.0, 1.0, 9.999999747378752e-05, 9.999999747378752e-05, 9.999999747378752e-05, 9.999999747378752e-05, 9.999999747378752e-05, 9.999999747378752e-05, 9.999999747378752e-05, 9.999999747378752e-05, 9.999999747378752e-05, 9.999999747378752e-05, 9.999999747378752e-05, 9.999999747378752e-05, 9.999999747378752e-05, 9.999999747378752e-05, 9.999999747378752e-05, 9.999999747378752e-05, 9.999999747378752e-05, 9.999999747378752e-05, 9.999999747378752e-05, 9.999999747378752e-05, 9.999999747378752e-05, 9.999999747378752e-05, 9.999999747378752e-05, 9.999999747378752e-05, 9.999999747378752e-05, 9.999999747378752e-05, 9.999999747378752e-05, 9.999999747378752e-05, 9.999999747378752e-05, 9.999999747378752e-05, 0.0, 9.999999747378752e-05, 0.0, 0.0, 9.999999747378752e-05, 9.999999747378752e-05, 9.999999747378752e-05, 9.999999747378752e-05, 9.999999747378752e-05, 0.0, 9.999999747378752e-05, 0.6614000201225281, 0.6394000053405762, 0.6376000046730042, 0.632099986076355, 0.6283000111579895, 0.6256999969482422, 0.6096000075340271, 0.6054999828338623, 0.6050999760627747, 0.6028000116348267, 0.5971999764442444, 0.5964000225067139, 0.5910000205039978, 0.5907999873161316, 0.5885999798774719, 0.5849999785423279, 0.5809999704360962, 0.5774000287055969, 0.57669997215271, 0.5703999996185303, 0.5703999996185303, 0.5687999725341797, 0.567799985408783, 0.5658000111579895, 0.5644999742507935, 0.5633000135421753, 0.5604000091552734, 0.5587000250816345, 0.5557000041007996, 0.5554999709129333, 0.555400013923645, -0.09520000219345093, -0.024800000712275505, -0.014600000344216824, 0.0052999998442828655, -0.16089999675750732, -0.3531000018119812, -0.31310001015663147, -0.3571999967098236, 0.29750001430511475, -0.14959999918937683, -0.47040000557899475, 0.17679999768733978, -0.00570000009611249, -0.06419999897480011, -0.15139999985694885, -0.40209999680519104, -0.11209999769926071, -0.44369998574256897, 0.031099999323487282, -0.3580000102519989, -0.4262999892234802, 0.00039999998989515007, 0.18559999763965607, -0.39489999413490295, -0.12080000340938568, -0.1371999979019165, -0.5493000149726868, -0.09510000050067902, -0.2806999981403351, -0.24959999322891235, 0.02979999966919422, -0.2378000020980835, -0.13259999454021454, -0.44040000438690186, -0.4878999888896942, -0.0982000008225441, -0.4426000118255615, -0.5170000195503235, -0.5458999872207642, 0.6450999975204468, 0.6342999935150146, 0.6330999732017517, 0.6305000185966492, 0.6237999796867371, 0.6236000061035156, 0.6230000257492065, 0.6191999912261963, 0.6128000020980835, 0.611299991607666, 0.6079999804496765, 0.6079000234603882, 0.6061000227928162, 0.6050999760627747, 0.6046000123023987, 0.6028000116348267, 0.6010000109672546, 0.5992000102996826, 0.598800003528595, 0.5967000126838684, 0.5958999991416931, 0.5957000255584717, 0.5957000255584717, 0.5956000089645386, 0.5952000021934509, 0.593999981880188, 0.5929999947547913, 0.5907999873161316, 0.5856000185012817, 0.585099995136261, 0.5849999785423279, 0.5845000147819519, 0.10970000177621841, -0.04490000009536743, 0.013199999928474426, -0.29249998927116394, -0.39010000228881836, -0.257999986410141, -0.19269999861717224, 0.00930000003427267, 0.12999999523162842, -0.5343000292778015, -0.39500001072883606, -0.38420000672340393, -0.5270000100135803, -0.4991999864578247, 0.005400000140070915, -0.004800000227987766, 0.042500000447034836, 0.0071000000461936, -0.002199999988079071, -0.19030000269412994, -0.310699999332428, -0.41780000925064087, -0.2741999924182892, 0.0066999997943639755, -0.3635999858379364, -0.4226999878883362, -0.04650000110268593, -0.10279999673366547, -0.21449999511241913, -0.1890999972820282, -0.43380001187324524, -0.7651000022888184, -0.5390999913215637, -0.27300000190734863, -0.3935000002384186, -0.2199999988079071, -0.23170000314712524, -0.23280000686645508, -0.21070000529289246, -0.29019999504089355, -0.3718999922275543, -0.5181999802589417], \"logprob\": [30.0, 29.0, 28.0, 27.0, 26.0, 25.0, 24.0, 23.0, 22.0, 21.0, 20.0, 19.0, 18.0, 17.0, 16.0, 15.0, 14.0, 13.0, 12.0, 11.0, 10.0, 9.0, 8.0, 7.0, 6.0, 5.0, 4.0, 3.0, 2.0, 1.0, -3.8861000537872314, -4.2083001136779785, -4.470799922943115, -5.030700206756592, -4.893099784851074, -4.734799861907959, -3.847399950027466, -5.64109992980957, -4.327700138092041, -4.054699897766113, -5.335700035095215, -4.907800197601318, -4.611000061035156, -4.787700176239014, -5.967299938201904, -4.410699844360352, -4.6483001708984375, -5.488100051879883, -3.9762001037597656, -5.570799827575684, -5.492700099945068, -5.860400199890137, -5.350599765777588, -5.170000076293945, -5.578700065612793, -5.763000011444092, -5.17549991607666, -5.667099952697754, -5.293099880218506, -5.293399810791016, -4.216000080108643, -4.635700225830078, -4.898799896240234, -4.934500217437744, -5.035799980163574, -5.197500228881836, -5.205699920654297, -5.207300186157227, -5.265699863433838, -5.303500175476074, -5.311299800872803, -7.053999900817871, -7.0970001220703125, -7.089600086212158, -7.0767998695373535, -7.097599983215332, -7.114500045776367, -7.104400157928467, -7.1128997802734375, -7.124300003051758, -7.122300148010254, -7.105899810791016, -7.111999988555908, -7.103099822998047, -7.120200157165527, -7.120500087738037, -7.139699935913086, -7.122900009155273, -7.131800174713135, -7.132599830627441, -7.130099773406982, -7.131199836730957, -7.11929988861084, -7.145199775695801, -7.136000156402588, -7.113800048828125, -7.139999866485596, -7.131999969482422, -7.12939977645874, -7.149700164794922, -7.12470006942749, -7.133600234985352, -4.311299800872803, -4.923600196838379, -5.22189998626709, -5.2982001304626465, -4.796599864959717, -4.200500011444092, -4.3678998947143555, -4.333499908447266, -6.311299800872803, -5.084199905395508, -4.356599807739258, -6.060200214385986, -5.591899871826172, -5.468599796295166, -5.348999977111816, -4.81279993057251, -5.486100196838379, -4.771500110626221, -5.841800212860107, -5.006400108337402, -4.897200107574463, -5.809100151062012, -6.207499980926514, -5.005899906158447, -5.570300102233887, -5.541200160980225, -4.757699966430664, -5.656199932098389, -5.3165998458862305, -5.42519998550415, -5.924699783325195, -5.503600120544434, -5.670400142669678, -5.2281999588012695, -5.222799777984619, -5.722799777984619, -5.473299980163574, -5.424900054931641, -5.4390997886657715, -7.079599857330322, -7.060800075531006, -7.062099933624268, -7.064300060272217, -7.116399765014648, -7.0802001953125, -7.0879998207092285, -7.084799766540527, -7.070700168609619, -7.095600128173828, -7.088900089263916, -7.09689998626709, -7.09089994430542, -7.096499919891357, -7.098299980163574, -7.1219000816345215, -7.128399848937988, -7.081600189208984, -7.102399826049805, -7.086599826812744, -7.10890007019043, -7.111000061035156, -7.098700046539307, -7.098299980163574, -7.110899925231934, -7.118800163269043, -7.143499851226807, -7.1031999588012695, -7.139500141143799, -7.099999904632568, -7.103300094604492, -7.109099864959717, -5.2947001457214355, -4.943699836730957, -5.192500114440918, -4.508600234985352, -4.366399765014648, -4.893700122833252, -5.127200126647949, -5.632699966430664, -5.962399959564209, -4.381800174713135, -4.722799777984619, -4.795000076293945, -4.5817999839782715, -4.707699775695801, -5.831699848175049, -5.815899848937988, -5.9182000160217285, -5.852099895477295, -5.837299823760986, -5.456099987030029, -5.218599796295166, -5.028900146484375, -5.310100078582764, -5.866300106048584, -5.151299953460693, -5.071100234985352, -5.792799949645996, -5.689000129699707, -5.518099784851074, -5.570400238037109, -5.168700218200684, -4.651400089263916, -5.0100998878479, -5.442999839782715, -5.2866997718811035, -5.531400203704834, -5.525199890136719, -5.5457000732421875, -5.614699840545654, -5.5833001136779785, -5.569499969482422, -5.548900127410889]}, \"token.table\": {\"Topic\": [1, 1, 1, 1, 1, 1, 1, 1, 1, 1, 1, 1, 1, 1, 1, 1, 1, 1, 1, 1, 1, 1, 1, 1, 1, 1, 1, 1, 1, 1, 1, 1, 1, 1, 1, 1, 1, 1, 1, 1, 1, 1, 1, 1, 1, 1, 1, 1, 1, 1, 1, 1, 1, 1, 1, 1, 1, 1, 1, 1, 1, 1, 1, 1, 1, 1, 1, 1, 1, 1, 1, 1, 1, 1, 1, 1, 1, 1, 1, 1, 1, 1, 1, 1, 1, 1, 1, 1, 1, 1, 1, 1, 1, 1, 1, 1, 1, 1, 1, 1, 1, 1, 1, 1, 1, 1, 1, 1, 1, 1, 1, 1, 1, 1, 1, 1, 1, 1, 1, 1, 1, 1, 1], \"Freq\": [0.7922620177268982, 0.7915336489677429, 0.8006638288497925, 0.7939614057540894, 0.7833312153816223, 0.9592801928520203, 0.9635689854621887, 0.7925663590431213, 0.8166597485542297, 0.8018625974655151, 0.9934772253036499, 1.0110563039779663, 0.9985736608505249, 1.024532675743103, 1.0048906803131104, 1.0038682222366333, 1.0162330865859985, 0.7968036532402039, 0.9730907678604126, 0.7988368272781372, 0.9619836807250977, 1.0080442428588867, 0.9618360996246338, 0.7831935882568359, 1.0156911611557007, 0.8037611246109009, 0.7977768778800964, 0.781200110912323, 0.9973082542419434, 0.7876777648925781, 0.9857072234153748, 1.0157192945480347, 0.9878104329109192, 0.9861814379692078, 0.9547502398490906, 1.0430116653442383, 0.7912515997886658, 0.797376811504364, 0.8051624298095703, 1.0207003355026245, 1.069732666015625, 1.0100821256637573, 1.0419758558273315, 1.0777243375778198, 1.0026233196258545, 0.7902750968933105, 0.7976180911064148, 0.9880331754684448, 0.7919491529464722, 0.8172310590744019, 0.7807703614234924, 1.0019441843032837, 0.9943273663520813, 0.9889103174209595, 1.0067906379699707, 0.957374095916748, 0.7938712239265442, 1.0187287330627441, 0.9998224377632141, 0.8011916279792786, 1.011084794998169, 0.7976292967796326, 0.8001797199249268, 0.7916114926338196, 1.0113509893417358, 0.9853548407554626, 0.8037956357002258, 0.7995935678482056, 1.0150498151779175, 1.0016263723373413, 1.0090347528457642, 1.0166728496551514, 0.8051947951316833, 0.7846240997314453, 0.9623253345489502, 0.9734047651290894, 0.9219950437545776, 0.9994941353797913, 0.8162770867347717, 1.004516363143921, 0.8030971884727478, 0.8201285004615784, 1.0230398178100586, 0.8087150454521179, 0.8002520203590393, 1.014999270439148, 0.9636387228965759, 0.977425754070282, 1.0122863054275513, 0.9620007276535034, 0.8183507323265076, 0.8034863471984863, 1.0159627199172974, 0.7924491763114929, 0.7986904978752136, 0.7916632890701294, 0.7869661450386047, 0.976207971572876, 0.7870849967002869, 1.0094578266143799, 1.033177375793457, 0.9791150689125061, 0.9781952500343323, 1.0317740440368652, 0.7869994044303894, 0.8112318515777588, 0.7995093464851379, 0.9956053495407104, 0.7994347810745239, 0.8066844344139099, 0.8290162086486816, 0.9983558058738708, 0.9869338274002075, 0.8036440014839172, 0.8075718283653259, 1.0250561237335205, 0.7793096899986267, 1.0170483589172363, 0.8068317770957947, 0.8259090781211853, 0.7990511059761047, 0.8163228631019592, 0.8016937971115112], \"Term\": [\"15\", \"29\\u00b0 0' 16\\\" leo\", \"4' 43\\\"\", \"5\", \"78\\u00b0 47' 30\\\"\", \"Ch\", \"In\", \"On\", \"accumul\", \"advis\", \"angl\", \"appar\", \"appear\", \"apsi\", \"but\", \"center\", \"chang\", \"chiefli\", \"comput\", \"congruent\", \"copernican\", \"demonstr\", \"describ\", \"design\", \"differ\", \"diverg\", \"earlier\", \"earth\", \"eccentr\", \"endpoint\", \"entir\", \"epicycl\", \"equal\", \"equant\", \"equat\", \"equival\", \"except\", \"extrem\", \"fashion\", \"first\", \"fix\", \"form\", \"greater\", \"heaven\", \"hypothesi\", \"impedi\", \"increment\", \"inequ\", \"intercept\", \"it\", \"later\", \"let\", \"line\", \"make\", \"much\", \"nearli\", \"neighborhood\", \"new\", \"observ\", \"onc\", \"one\", \"origin\", \"ought\", \"o\\u03c1\", \"parallel\", \"path\", \"period\", \"perplex\", \"place\", \"planet\", \"point\", \"posit\", \"postul\", \"practitioners4\", \"ptolema\", \"remain\", \"right\", \"second\", \"sever\", \"shall\", \"shift\", \"simul\", \"sinc\", \"sine\", \"someth\", \"therefor\", \"thi\", \"time\", \"travers\", \"true\", \"turn\", \"unmov\", \"use\", \"verg\", \"violent\", \"whenc\", \"within\", \"would\", \"\\u0393\\u03b3\", \"\\u03b1\", \"\\u03b1\\u03b2\", \"\\u03b1\\u03b3\", \"\\u03b2\", \"\\u03b2\\u03b3\", \"\\u03b2\\u03b3\\u03c6\", \"\\u03b2\\u03b7\", \"\\u03b2\\u03c75\", \"\\u03b3\", \"\\u03b3\\u03b9\", \"\\u03b3\\u03ba\\u03b6\", \"\\u03b3\\u03c3\", \"\\u03b4\", \"\\u03b5\", \"\\u03b5o\", \"\\u03b5\\u03bf\", \"\\u03b8\", \"\\u03b8\\u03c5\\u03b3\", \"\\u03b9\", \"\\u03bd\\u03c5\", \"\\u03c1\\u03b8\\u03bf\", \"\\u03c1\\u03c4\", \"\\u03c7\\u03b2\", \"\\u03c8\\u03b3\"]}, \"R\": 30, \"lambda.step\": 0.01, \"plot.opts\": {\"xlab\": \"PC1\", \"ylab\": \"PC2\"}, \"topic.order\": [3, 2, 1]};\n",
       "\n",
       "function LDAvis_load_lib(url, callback){\n",
       "  var s = document.createElement('script');\n",
       "  s.src = url;\n",
       "  s.async = true;\n",
       "  s.onreadystatechange = s.onload = callback;\n",
       "  s.onerror = function(){console.warn(\"failed to load library \" + url);};\n",
       "  document.getElementsByTagName(\"head\")[0].appendChild(s);\n",
       "}\n",
       "\n",
       "if(typeof(LDAvis) !== \"undefined\"){\n",
       "   // already loaded: just create the visualization\n",
       "   !function(LDAvis){\n",
       "       new LDAvis(\"#\" + \"ldavis_el1306017232374730402109834384\", ldavis_el1306017232374730402109834384_data);\n",
       "   }(LDAvis);\n",
       "}else if(typeof define === \"function\" && define.amd){\n",
       "   // require.js is available: use it to load d3/LDAvis\n",
       "   require.config({paths: {d3: \"https://cdnjs.cloudflare.com/ajax/libs/d3/3.5.5/d3.min\"}});\n",
       "   require([\"d3\"], function(d3){\n",
       "      window.d3 = d3;\n",
       "      LDAvis_load_lib(\"https://cdn.rawgit.com/bmabey/pyLDAvis/files/ldavis.v1.0.0.js\", function(){\n",
       "        new LDAvis(\"#\" + \"ldavis_el1306017232374730402109834384\", ldavis_el1306017232374730402109834384_data);\n",
       "      });\n",
       "    });\n",
       "}else{\n",
       "    // require.js not available: dynamically load d3 & LDAvis\n",
       "    LDAvis_load_lib(\"https://cdnjs.cloudflare.com/ajax/libs/d3/3.5.5/d3.min.js\", function(){\n",
       "         LDAvis_load_lib(\"https://cdn.rawgit.com/bmabey/pyLDAvis/files/ldavis.v1.0.0.js\", function(){\n",
       "                 new LDAvis(\"#\" + \"ldavis_el1306017232374730402109834384\", ldavis_el1306017232374730402109834384_data);\n",
       "            })\n",
       "         });\n",
       "}\n",
       "</script>"
      ],
      "text/plain": [
       "<IPython.core.display.HTML object>"
      ]
     },
     "execution_count": 108,
     "metadata": {},
     "output_type": "execute_result"
    }
   ],
   "source": [
    "pyLDAvis.display(vis) "
   ]
  },
  {
   "cell_type": "code",
   "execution_count": 38,
   "metadata": {},
   "outputs": [],
   "source": [
    "pyLDAvis.save_html(vis,'vis.html') # You can open saved html file  (vis_01)in your browser to see the result. "
   ]
  },
  {
   "cell_type": "markdown",
   "metadata": {},
   "source": [
    "<font size= \"4\">\n",
    "How can we find that how many topics are proper for the model?\n",
    "<font/>"
   ]
  },
  {
   "cell_type": "markdown",
   "metadata": {},
   "source": [
    "## **Coherence Metric**"
   ]
  },
  {
   "cell_type": "code",
   "execution_count": null,
   "metadata": {},
   "outputs": [],
   "source": []
  }
 ],
 "metadata": {
  "kernelspec": {
   "display_name": "Python 3",
   "language": "python",
   "name": "python3"
  },
  "language_info": {
   "codemirror_mode": {
    "name": "ipython",
    "version": 3
   },
   "file_extension": ".py",
   "mimetype": "text/x-python",
   "name": "python",
   "nbconvert_exporter": "python",
   "pygments_lexer": "ipython3",
   "version": "3.7.1"
  }
 },
 "nbformat": 4,
 "nbformat_minor": 2
}
>>>>>>> 18019edb3df4f8de972e4dff85c61357d6ad7624
