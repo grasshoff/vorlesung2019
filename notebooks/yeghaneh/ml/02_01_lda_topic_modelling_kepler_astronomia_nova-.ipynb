{
 "cells": [
  {
   "cell_type": "markdown",
   "metadata": {},
   "source": [
    "# **Extracting Topic model by  \"Latent Dirichlet Allocation (LDA)\"  of kepler's book: \"Astronomia Nova** \"\n",
    "<font size=\"4\">\n",
    "This notebook demonstrates how to **extract topics **  from documents, corpus, book. We visualize the result in an informative way. Here, an unsupervised learning model LDA is used. **Topic modelling** is based on the basic assumptions that each corpus (book)  consists of different topics and each topic consists of a collection of words.\n",
    "<font/>\n"
   ]
  },
  {
   "cell_type": "markdown",
   "metadata": {},
   "source": [
    "### Import the required tools "
   ]
  },
  {
   "cell_type": "code",
   "execution_count": 43,
   "metadata": {
    "collapsed": true
   },
   "outputs": [
    {
     "name": "stderr",
     "output_type": "stream",
     "text": [
      "[nltk_data] Downloading package punkt to\n",
      "[nltk_data]     C:\\Users\\moha\\AppData\\Roaming\\nltk_data...\n",
      "[nltk_data]   Package punkt is already up-to-date!\n",
      "[nltk_data] Downloading package averaged_perceptron_tagger to\n",
      "[nltk_data]     C:\\Users\\moha\\AppData\\Roaming\\nltk_data...\n",
      "[nltk_data]   Package averaged_perceptron_tagger is already up-to-\n",
      "[nltk_data]       date!\n",
      "[nltk_data] Downloading package wordnet to\n",
      "[nltk_data]     C:\\Users\\moha\\AppData\\Roaming\\nltk_data...\n",
      "[nltk_data]   Package wordnet is already up-to-date!\n"
     ]
    }
   ],
   "source": [
    "import numpy as np\n",
    "import pandas as pd\n",
    "import scipy as sp\n",
    "import matplotlib.pyplot as plt\n",
    "import collections\n",
    "import os\n",
    "import logging\n",
    "import warnings\n",
    "from itertools import permutations\n",
    "from sklearn.metrics import make_scorer,confusion_matrix\n",
    "from sklearn.model_selection import cross_val_score\n",
    "from sklearn.model_selection import RandomizedSearchCV\n",
    "import sklearn_crfsuite  # to install this package in windows with pip please run: 'pip install sklearn-crfsuite'\n",
    "from sklearn_crfsuite import metrics, scorers\n",
    "import nltk\n",
    "from nltk.tokenize import word_tokenize\n",
    "from nltk.tag import pos_tag\n",
    "nltk.download('punkt')\n",
    "nltk.download('averaged_perceptron_tagger')\n",
    "import eli5  # to install this package in windows with conda please run: 'conda install -c conda-forge eli5'\n",
    "from nltk.stem.porter import PorterStemmer\n",
    "from nltk.stem import WordNetLemmatizer \n",
    "from gensim import corpora, models  #  to install this package in windows with conda please run: 'models conda install -c conda-forge gensim'\n",
    "nltk.download('wordnet')\n",
    "%matplotlib inline\n",
    "warnings.filterwarnings(\"ignore\",category=DeprecationWarning)\n",
    "logging.basicConfig(format='%(asctime)s : %(levelname)s : %(message)s', level=logging.ERROR)"
   ]
  },
  {
   "cell_type": "markdown",
   "metadata": {},
   "source": [
    "Please download the data '01_df_v013.pickle' in github on  your local machine from  this directory: vorlesung2019/notebooks/yeghaneh/data"
   ]
  },
  {
   "cell_type": "code",
   "execution_count": 8,
   "metadata": {
    "collapsed": true
   },
   "outputs": [],
   "source": [
    "importVersion = '013'  # The  desired version pickle-file of your data (now we are working on version 013 of our data)"
   ]
  },
  {
   "cell_type": "code",
   "execution_count": 9,
   "metadata": {
    "collapsed": true
   },
   "outputs": [],
   "source": [
    "path = r'C:\\Users\\moha\\Documents\\BZML\\01_df_v{0}.pickle'.format(importVersion)  # Put the path of the data in your local machine here, consider the letter \"r\" before the path"
   ]
  },
  {
   "cell_type": "markdown",
   "metadata": {},
   "source": [
    "### Let's use data \"01_df_v013\" to build a NER system. \n",
    "<font size=\"3\">The data 01_df_v013 is annotated (labeled) data of english version of well-known kepler's book: New Astronomy (Latin: Astronomia nova). You can find that in the repository.\n",
    "             </font>\n"
   ]
  },
  {
   "cell_type": "markdown",
   "metadata": {},
   "source": [
    "## **Read the data** \n",
    "<font size=\"3\">The data  is saves as a pickle file. We read it as a pandas dataFrame. </font>"
   ]
  },
  {
   "cell_type": "code",
   "execution_count": 10,
   "metadata": {},
   "outputs": [],
   "source": [
    "\n",
    "dfAstroNova = pd.read_pickle(path)  # Put the path of the data in your local machine here, consider the letter \"r\" before the path"
   ]
  },
  {
   "cell_type": "markdown",
   "metadata": {},
   "source": [
    "<font size=\"4\"> Sort the data based on the chapters of the book \n",
    "</font>"
   ]
  },
  {
   "cell_type": "code",
   "execution_count": 11,
   "metadata": {},
   "outputs": [],
   "source": [
    "dfAstroNova['chapter'] = dfAstroNova.chapter.replace(\"appendix b\",np.nan).astype(float)  \n",
    "dfAstroNova.sort_values(by='chapter' , inplace=True)\n",
    "dfAstroNova.chapter.fillna('appendix b', inplace=True)"
   ]
  },
  {
   "cell_type": "code",
   "execution_count": 12,
   "metadata": {},
   "outputs": [
    {
     "data": {
      "text/plain": [
       "1605"
      ]
     },
     "execution_count": 12,
     "metadata": {},
     "output_type": "execute_result"
    }
   ],
   "source": [
    "len(dfAstroNova)   # Number of rows."
   ]
  },
  {
   "cell_type": "code",
   "execution_count": 13,
   "metadata": {},
   "outputs": [
    {
     "data": {
      "text/html": [
       "<div>\n",
       "<style scoped>\n",
       "    .dataframe tbody tr th:only-of-type {\n",
       "        vertical-align: middle;\n",
       "    }\n",
       "\n",
       "    .dataframe tbody tr th {\n",
       "        vertical-align: top;\n",
       "    }\n",
       "\n",
       "    .dataframe thead th {\n",
       "        text-align: right;\n",
       "    }\n",
       "</style>\n",
       "<table border=\"1\" class=\"dataframe\">\n",
       "  <thead>\n",
       "    <tr style=\"text-align: right;\">\n",
       "      <th></th>\n",
       "      <th>html</th>\n",
       "      <th>text</th>\n",
       "      <th>links</th>\n",
       "      <th>italic</th>\n",
       "      <th>chapter</th>\n",
       "      <th>graphic</th>\n",
       "      <th>table</th>\n",
       "      <th>marginal</th>\n",
       "      <th>sentences</th>\n",
       "      <th>tagged</th>\n",
       "    </tr>\n",
       "  </thead>\n",
       "  <tbody>\n",
       "    <tr>\n",
       "      <th>18</th>\n",
       "      <td>&lt;p&gt;&lt;span class=\"anchor\" id=\"bookmark0\"&gt;&lt;/span&gt;...</td>\n",
       "      <td>Chapter 1</td>\n",
       "      <td>[]</td>\n",
       "      <td>[]</td>\n",
       "      <td>1</td>\n",
       "      <td>[]</td>\n",
       "      <td>[]</td>\n",
       "      <td>[]</td>\n",
       "      <td>[Chapter 1]</td>\n",
       "      <td>[[(Chapter, None), (1, NUM)]]</td>\n",
       "    </tr>\n",
       "    <tr>\n",
       "      <th>34</th>\n",
       "      <td>&lt;p&gt;But before that, I shall prove in this firs...</td>\n",
       "      <td>But before that, I shall prove in this first p...</td>\n",
       "      <td>[]</td>\n",
       "      <td>[]</td>\n",
       "      <td>1</td>\n",
       "      <td>[]</td>\n",
       "      <td>[]</td>\n",
       "      <td>[]</td>\n",
       "      <td>[But before that, I shall prove in this first ...</td>\n",
       "      <td>[[(But, None), (before, None), (that, None), (...</td>\n",
       "    </tr>\n",
       "    <tr>\n",
       "      <th>33</th>\n",
       "      <td>&lt;p&gt;But since the sun's mean and apparent motio...</td>\n",
       "      <td>But since the sun's mean and apparent motions*...</td>\n",
       "      <td>[]</td>\n",
       "      <td>[Mysterium cosmographicum,]</td>\n",
       "      <td>1</td>\n",
       "      <td>[]</td>\n",
       "      <td>[]</td>\n",
       "      <td>[ Terms: * The sun's apparent position is that...</td>\n",
       "      <td>[But since the sun's mean and apparent motions...</td>\n",
       "      <td>[[(But, None), (since, None), (the, None), (su...</td>\n",
       "    </tr>\n",
       "    <tr>\n",
       "      <th>32</th>\n",
       "      <td>&lt;p&gt;Now the causes and measures of these inequa...</td>\n",
       "      <td>Now the causes and measures of these inequalit...</td>\n",
       "      <td>[]</td>\n",
       "      <td>[]</td>\n",
       "      <td>1</td>\n",
       "      <td>[]</td>\n",
       "      <td>[]</td>\n",
       "      <td>[ 5]</td>\n",
       "      <td>[Now the causes and measures of these inequali...</td>\n",
       "      <td>[[(Now, None), (the, None), (causes, None), (a...</td>\n",
       "    </tr>\n",
       "    <tr>\n",
       "      <th>30</th>\n",
       "      <td>&lt;p&gt;Again, however, it was noticed that these l...</td>\n",
       "      <td>Again, however, it was noticed that these loop...</td>\n",
       "      <td>[]</td>\n",
       "      <td>[]</td>\n",
       "      <td>1</td>\n",
       "      <td>[]</td>\n",
       "      <td>[]</td>\n",
       "      <td>[]</td>\n",
       "      <td>[Again, however, it was noticed that these loo...</td>\n",
       "      <td>[[(Again, None), (however, None), (it, None), ...</td>\n",
       "    </tr>\n",
       "  </tbody>\n",
       "</table>\n",
       "</div>"
      ],
      "text/plain": [
       "                                                 html  \\\n",
       "18  <p><span class=\"anchor\" id=\"bookmark0\"></span>...   \n",
       "34  <p>But before that, I shall prove in this firs...   \n",
       "33  <p>But since the sun's mean and apparent motio...   \n",
       "32  <p>Now the causes and measures of these inequa...   \n",
       "30  <p>Again, however, it was noticed that these l...   \n",
       "\n",
       "                                                 text links  \\\n",
       "18                                          Chapter 1    []   \n",
       "34  But before that, I shall prove in this first p...    []   \n",
       "33  But since the sun's mean and apparent motions*...    []   \n",
       "32  Now the causes and measures of these inequalit...    []   \n",
       "30  Again, however, it was noticed that these loop...    []   \n",
       "\n",
       "                         italic chapter graphic table  \\\n",
       "18                           []       1      []    []   \n",
       "34                           []       1      []    []   \n",
       "33  [Mysterium cosmographicum,]       1      []    []   \n",
       "32                           []       1      []    []   \n",
       "30                           []       1      []    []   \n",
       "\n",
       "                                             marginal  \\\n",
       "18                                                 []   \n",
       "34                                                 []   \n",
       "33  [ Terms: * The sun's apparent position is that...   \n",
       "32                                               [ 5]   \n",
       "30                                                 []   \n",
       "\n",
       "                                            sentences  \\\n",
       "18                                        [Chapter 1]   \n",
       "34  [But before that, I shall prove in this first ...   \n",
       "33  [But since the sun's mean and apparent motions...   \n",
       "32  [Now the causes and measures of these inequali...   \n",
       "30  [Again, however, it was noticed that these loo...   \n",
       "\n",
       "                                               tagged  \n",
       "18                      [[(Chapter, None), (1, NUM)]]  \n",
       "34  [[(But, None), (before, None), (that, None), (...  \n",
       "33  [[(But, None), (since, None), (the, None), (su...  \n",
       "32  [[(Now, None), (the, None), (causes, None), (a...  \n",
       "30  [[(Again, None), (however, None), (it, None), ...  "
      ]
     },
     "execution_count": 13,
     "metadata": {},
     "output_type": "execute_result"
    }
   ],
   "source": [
    "dfAstroNova.head(5)  "
   ]
  },
  {
   "cell_type": "code",
   "execution_count": 14,
   "metadata": {},
   "outputs": [
    {
     "data": {
      "text/html": [
       "<div>\n",
       "<style scoped>\n",
       "    .dataframe tbody tr th:only-of-type {\n",
       "        vertical-align: middle;\n",
       "    }\n",
       "\n",
       "    .dataframe tbody tr th {\n",
       "        vertical-align: top;\n",
       "    }\n",
       "\n",
       "    .dataframe thead th {\n",
       "        text-align: right;\n",
       "    }\n",
       "</style>\n",
       "<table border=\"1\" class=\"dataframe\">\n",
       "  <thead>\n",
       "    <tr style=\"text-align: right;\">\n",
       "      <th></th>\n",
       "      <th>html</th>\n",
       "      <th>text</th>\n",
       "      <th>links</th>\n",
       "      <th>italic</th>\n",
       "      <th>chapter</th>\n",
       "      <th>graphic</th>\n",
       "      <th>table</th>\n",
       "      <th>marginal</th>\n",
       "      <th>sentences</th>\n",
       "      <th>tagged</th>\n",
       "    </tr>\n",
       "  </thead>\n",
       "  <tbody>\n",
       "    <tr>\n",
       "      <th>594</th>\n",
       "      <td>&lt;p&gt;&lt;span class=\"anchor\" id=\"bookmark1\"&gt;&lt;/span&gt;...</td>\n",
       "      <td>Whether the motion from the sun, like its ligh...</td>\n",
       "      <td>[{'#fn1': 'άντίφραχις.↩'}]</td>\n",
       "      <td>[]</td>\n",
       "      <td>35</td>\n",
       "      <td>[]</td>\n",
       "      <td>[]</td>\n",
       "      <td>[]</td>\n",
       "      <td>[Whether the motion from the sun, like its lig...</td>\n",
       "      <td>[[(Whether, None), (the, None), (motion, None)...</td>\n",
       "    </tr>\n",
       "    <tr>\n",
       "      <th>596</th>\n",
       "      <td>&lt;p&gt;And concerning the first, it is worthy of c...</td>\n",
       "      <td>And concerning the first, it is worthy of cons...</td>\n",
       "      <td>[]</td>\n",
       "      <td>[]</td>\n",
       "      <td>35</td>\n",
       "      <td>[]</td>\n",
       "      <td>[]</td>\n",
       "      <td>[]</td>\n",
       "      <td>[And concerning the first, it is worthy of con...</td>\n",
       "      <td>[[(And, None), (concerning, None), (the, None)...</td>\n",
       "    </tr>\n",
       "    <tr>\n",
       "      <th>595</th>\n",
       "      <td>&lt;p&gt;This is a good time for me to take up the o...</td>\n",
       "      <td>This is a good time for me to take up the obje...</td>\n",
       "      <td>[]</td>\n",
       "      <td>[species]</td>\n",
       "      <td>35</td>\n",
       "      <td>[]</td>\n",
       "      <td>[]</td>\n",
       "      <td>[]</td>\n",
       "      <td>[This is a good time for me to take up the obj...</td>\n",
       "      <td>[[(This, None), (is, None), (a, None), (good, ...</td>\n",
       "    </tr>\n",
       "    <tr>\n",
       "      <th>598</th>\n",
       "      <td>&lt;p&gt;But it is answered, first, that the analogy...</td>\n",
       "      <td>But it is answered, first, that the analogy be...</td>\n",
       "      <td>[]</td>\n",
       "      <td>[]</td>\n",
       "      <td>35</td>\n",
       "      <td>[]</td>\n",
       "      <td>[]</td>\n",
       "      <td>[]</td>\n",
       "      <td>[But it is answered, first, that the analogy b...</td>\n",
       "      <td>[[(But, None), (it, None), (is, None), (answer...</td>\n",
       "    </tr>\n",
       "    <tr>\n",
       "      <th>599</th>\n",
       "      <td>&lt;p&gt;On this account I would nearly separate lig...</td>\n",
       "      <td>On this account I would nearly separate light ...</td>\n",
       "      <td>[]</td>\n",
       "      <td>[]</td>\n",
       "      <td>35</td>\n",
       "      <td>[]</td>\n",
       "      <td>[]</td>\n",
       "      <td>[]</td>\n",
       "      <td>[On this account I would nearly separate light...</td>\n",
       "      <td>[[(On, None), (this, None), (account, None), (...</td>\n",
       "    </tr>\n",
       "  </tbody>\n",
       "</table>\n",
       "</div>"
      ],
      "text/plain": [
       "                                                  html  \\\n",
       "594  <p><span class=\"anchor\" id=\"bookmark1\"></span>...   \n",
       "596  <p>And concerning the first, it is worthy of c...   \n",
       "595  <p>This is a good time for me to take up the o...   \n",
       "598  <p>But it is answered, first, that the analogy...   \n",
       "599  <p>On this account I would nearly separate lig...   \n",
       "\n",
       "                                                  text  \\\n",
       "594  Whether the motion from the sun, like its ligh...   \n",
       "596  And concerning the first, it is worthy of cons...   \n",
       "595  This is a good time for me to take up the obje...   \n",
       "598  But it is answered, first, that the analogy be...   \n",
       "599  On this account I would nearly separate light ...   \n",
       "\n",
       "                          links     italic chapter graphic table marginal  \\\n",
       "594  [{'#fn1': 'άντίφραχις.↩'}]         []      35      []    []       []   \n",
       "596                          []         []      35      []    []       []   \n",
       "595                          []  [species]      35      []    []       []   \n",
       "598                          []         []      35      []    []       []   \n",
       "599                          []         []      35      []    []       []   \n",
       "\n",
       "                                             sentences  \\\n",
       "594  [Whether the motion from the sun, like its lig...   \n",
       "596  [And concerning the first, it is worthy of con...   \n",
       "595  [This is a good time for me to take up the obj...   \n",
       "598  [But it is answered, first, that the analogy b...   \n",
       "599  [On this account I would nearly separate light...   \n",
       "\n",
       "                                                tagged  \n",
       "594  [[(Whether, None), (the, None), (motion, None)...  \n",
       "596  [[(And, None), (concerning, None), (the, None)...  \n",
       "595  [[(This, None), (is, None), (a, None), (good, ...  \n",
       "598  [[(But, None), (it, None), (is, None), (answer...  \n",
       "599  [[(On, None), (this, None), (account, None), (...  "
      ]
     },
     "execution_count": 14,
     "metadata": {},
     "output_type": "execute_result"
    }
   ],
   "source": [
    "dfAstroNova[740:745]"
   ]
  },
  {
   "cell_type": "code",
   "execution_count": 15,
   "metadata": {},
   "outputs": [
    {
     "data": {
      "text/html": [
       "<div>\n",
       "<style scoped>\n",
       "    .dataframe tbody tr th:only-of-type {\n",
       "        vertical-align: middle;\n",
       "    }\n",
       "\n",
       "    .dataframe tbody tr th {\n",
       "        vertical-align: top;\n",
       "    }\n",
       "\n",
       "    .dataframe thead th {\n",
       "        text-align: right;\n",
       "    }\n",
       "</style>\n",
       "<table border=\"1\" class=\"dataframe\">\n",
       "  <thead>\n",
       "    <tr style=\"text-align: right;\">\n",
       "      <th></th>\n",
       "      <th>html</th>\n",
       "      <th>text</th>\n",
       "      <th>links</th>\n",
       "      <th>italic</th>\n",
       "      <th>chapter</th>\n",
       "      <th>graphic</th>\n",
       "      <th>table</th>\n",
       "      <th>marginal</th>\n",
       "      <th>sentences</th>\n",
       "      <th>tagged</th>\n",
       "    </tr>\n",
       "  </thead>\n",
       "  <tbody>\n",
       "    <tr>\n",
       "      <th>1568</th>\n",
       "      <td>&lt;p&gt;{marginal: The words of the observation hav...</td>\n",
       "      <td>Consider whether the meaning could be this: t...</td>\n",
       "      <td>[]</td>\n",
       "      <td>[]</td>\n",
       "      <td>70</td>\n",
       "      <td>[]</td>\n",
       "      <td>[]</td>\n",
       "      <td>[ The words of the observation have their comm...</td>\n",
       "      <td>[Consider whether the meaning could be this: t...</td>\n",
       "      <td>[[(Consider, None), (whether, None), (the, Non...</td>\n",
       "    </tr>\n",
       "    <tr>\n",
       "      <th>1569</th>\n",
       "      <td>&lt;p&gt;This interpretation is furthered by the obs...</td>\n",
       "      <td>This interpretation is furthered by the observ...</td>\n",
       "      <td>[]</td>\n",
       "      <td>[]</td>\n",
       "      <td>70</td>\n",
       "      <td>[]</td>\n",
       "      <td>[]</td>\n",
       "      <td>[]</td>\n",
       "      <td>[This interpretation is furthered by the obser...</td>\n",
       "      <td>[[(This, None), (interpretation, None), (is, N...</td>\n",
       "    </tr>\n",
       "    <tr>\n",
       "      <th>0</th>\n",
       "      <td>&lt;p&gt;Appendix B&lt;/p&gt;</td>\n",
       "      <td>Appendix B</td>\n",
       "      <td>[]</td>\n",
       "      <td>[]</td>\n",
       "      <td>appendix b</td>\n",
       "      <td>[]</td>\n",
       "      <td>[]</td>\n",
       "      <td>[]</td>\n",
       "      <td>[Appendix B]</td>\n",
       "      <td>[[(Appendix, None), (B, None)]]</td>\n",
       "    </tr>\n",
       "    <tr>\n",
       "      <th>1</th>\n",
       "      <td>&lt;p&gt;&lt;span class=\"anchor\" id=\"bookmark0\"&gt;&lt;/span&gt;...</td>\n",
       "      <td>On the Table of Oppositions in Chapter 15</td>\n",
       "      <td>[]</td>\n",
       "      <td>[]</td>\n",
       "      <td>appendix b</td>\n",
       "      <td>[]</td>\n",
       "      <td>[]</td>\n",
       "      <td>[]</td>\n",
       "      <td>[On the Table of Oppositions in Chapter 15]</td>\n",
       "      <td>[[(On, None), (the, None), (Table, None), (of,...</td>\n",
       "    </tr>\n",
       "    <tr>\n",
       "      <th>2</th>\n",
       "      <td>&lt;p&gt;by Yaakov Zik &lt;span style=\"font-variant: sm...</td>\n",
       "      <td>by Yaakov Zik Table i:</td>\n",
       "      <td>[]</td>\n",
       "      <td>[]</td>\n",
       "      <td>appendix b</td>\n",
       "      <td>[]</td>\n",
       "      <td>[]</td>\n",
       "      <td>[]</td>\n",
       "      <td>[by Yaakov Zik Table i:]</td>\n",
       "      <td>[[(by, None), (Yaakov, None), (Zik, None), (Ta...</td>\n",
       "    </tr>\n",
       "  </tbody>\n",
       "</table>\n",
       "</div>"
      ],
      "text/plain": [
       "                                                   html  \\\n",
       "1568  <p>{marginal: The words of the observation hav...   \n",
       "1569  <p>This interpretation is furthered by the obs...   \n",
       "0                                     <p>Appendix B</p>   \n",
       "1     <p><span class=\"anchor\" id=\"bookmark0\"></span>...   \n",
       "2     <p>by Yaakov Zik <span style=\"font-variant: sm...   \n",
       "\n",
       "                                                   text links italic  \\\n",
       "1568   Consider whether the meaning could be this: t...    []     []   \n",
       "1569  This interpretation is furthered by the observ...    []     []   \n",
       "0                                            Appendix B    []     []   \n",
       "1             On the Table of Oppositions in Chapter 15    []     []   \n",
       "2                                by Yaakov Zik Table i:    []     []   \n",
       "\n",
       "         chapter graphic table  \\\n",
       "1568          70      []    []   \n",
       "1569          70      []    []   \n",
       "0     appendix b      []    []   \n",
       "1     appendix b      []    []   \n",
       "2     appendix b      []    []   \n",
       "\n",
       "                                               marginal  \\\n",
       "1568  [ The words of the observation have their comm...   \n",
       "1569                                                 []   \n",
       "0                                                    []   \n",
       "1                                                    []   \n",
       "2                                                    []   \n",
       "\n",
       "                                              sentences  \\\n",
       "1568  [Consider whether the meaning could be this: t...   \n",
       "1569  [This interpretation is furthered by the obser...   \n",
       "0                                          [Appendix B]   \n",
       "1           [On the Table of Oppositions in Chapter 15]   \n",
       "2                              [by Yaakov Zik Table i:]   \n",
       "\n",
       "                                                 tagged  \n",
       "1568  [[(Consider, None), (whether, None), (the, Non...  \n",
       "1569  [[(This, None), (interpretation, None), (is, N...  \n",
       "0                       [[(Appendix, None), (B, None)]]  \n",
       "1     [[(On, None), (the, None), (Table, None), (of,...  \n",
       "2     [[(by, None), (Yaakov, None), (Zik, None), (Ta...  "
      ]
     },
     "execution_count": 15,
     "metadata": {},
     "output_type": "execute_result"
    }
   ],
   "source": [
    "dfAstroNova[1585:1590]"
   ]
  },
  {
   "cell_type": "code",
   "execution_count": 16,
   "metadata": {},
   "outputs": [
    {
     "data": {
      "text/html": [
       "<div>\n",
       "<style scoped>\n",
       "    .dataframe tbody tr th:only-of-type {\n",
       "        vertical-align: middle;\n",
       "    }\n",
       "\n",
       "    .dataframe tbody tr th {\n",
       "        vertical-align: top;\n",
       "    }\n",
       "\n",
       "    .dataframe thead th {\n",
       "        text-align: right;\n",
       "    }\n",
       "</style>\n",
       "<table border=\"1\" class=\"dataframe\">\n",
       "  <thead>\n",
       "    <tr style=\"text-align: right;\">\n",
       "      <th></th>\n",
       "      <th>html</th>\n",
       "      <th>text</th>\n",
       "      <th>links</th>\n",
       "      <th>italic</th>\n",
       "      <th>chapter</th>\n",
       "      <th>graphic</th>\n",
       "      <th>table</th>\n",
       "      <th>marginal</th>\n",
       "      <th>sentences</th>\n",
       "      <th>tagged</th>\n",
       "    </tr>\n",
       "  </thead>\n",
       "  <tbody>\n",
       "    <tr>\n",
       "      <th>13</th>\n",
       "      <td>&lt;p&gt;{table: appendix B t 2}&lt;/p&gt;</td>\n",
       "      <td></td>\n",
       "      <td>[]</td>\n",
       "      <td>[]</td>\n",
       "      <td>appendix b</td>\n",
       "      <td>[]</td>\n",
       "      <td>[ appendix B t 2]</td>\n",
       "      <td>[]</td>\n",
       "      <td>[]</td>\n",
       "      <td>[]</td>\n",
       "    </tr>\n",
       "    <tr>\n",
       "      <th>14</th>\n",
       "      <td>&lt;p&gt;Kepler's table, for comparison {table: appe...</td>\n",
       "      <td>Kepler's table, for comparison</td>\n",
       "      <td>[]</td>\n",
       "      <td>[]</td>\n",
       "      <td>appendix b</td>\n",
       "      <td>[]</td>\n",
       "      <td>[ appendix B t 3]</td>\n",
       "      <td>[]</td>\n",
       "      <td>[Kepler's table, for comparison]</td>\n",
       "      <td>[[(Kepler, None), (s, None), (table, None), (f...</td>\n",
       "    </tr>\n",
       "    <tr>\n",
       "      <th>15</th>\n",
       "      <td>&lt;p&gt;Mars from Earth to be a little greater than...</td>\n",
       "      <td>Mars from Earth to be a little greater than ha...</td>\n",
       "      <td>[{'#fn6': '\n",
       "Kepler's observations yield topoce...</td>\n",
       "      <td>[]</td>\n",
       "      <td>appendix b</td>\n",
       "      <td>[]</td>\n",
       "      <td>[]</td>\n",
       "      <td>[]</td>\n",
       "      <td>[Mars from Earth to be a little greater than h...</td>\n",
       "      <td>[[(Mars, None), (from, None), (Earth, None), (...</td>\n",
       "    </tr>\n",
       "    <tr>\n",
       "      <th>16</th>\n",
       "      <td>&lt;p&gt;&lt;img height=\"300\" src=\"media/image1.jpeg\" w...</td>\n",
       "      <td>As shown in Figure 2B, the Sun is assumed to ...</td>\n",
       "      <td>[]</td>\n",
       "      <td>[]</td>\n",
       "      <td>appendix b</td>\n",
       "      <td>[ appendix b gr 1]</td>\n",
       "      <td>[]</td>\n",
       "      <td>[]</td>\n",
       "      <td>[As shown in Figure 2B, the Sun is assumed to ...</td>\n",
       "      <td>[[(As, None), (shown, None), (in, None), (Figu...</td>\n",
       "    </tr>\n",
       "    <tr>\n",
       "      <th>17</th>\n",
       "      <td>&lt;p&gt;The Sun moved westward and its longitude de...</td>\n",
       "      <td>The Sun moved westward and its longitude decre...</td>\n",
       "      <td>[]</td>\n",
       "      <td>[4&lt;sup&gt;h&lt;/sup&gt; 23&lt;sup&gt;m &lt;/sup&gt;]</td>\n",
       "      <td>appendix b</td>\n",
       "      <td>[]</td>\n",
       "      <td>[]</td>\n",
       "      <td>[]</td>\n",
       "      <td>[The Sun moved westward and its longitude decr...</td>\n",
       "      <td>[[(The, None), (Sun, None), (moved, None), (we...</td>\n",
       "    </tr>\n",
       "  </tbody>\n",
       "</table>\n",
       "</div>"
      ],
      "text/plain": [
       "                                                 html  \\\n",
       "13                     <p>{table: appendix B t 2}</p>   \n",
       "14  <p>Kepler's table, for comparison {table: appe...   \n",
       "15  <p>Mars from Earth to be a little greater than...   \n",
       "16  <p><img height=\"300\" src=\"media/image1.jpeg\" w...   \n",
       "17  <p>The Sun moved westward and its longitude de...   \n",
       "\n",
       "                                                 text  \\\n",
       "13                                                      \n",
       "14                    Kepler's table, for comparison    \n",
       "15  Mars from Earth to be a little greater than ha...   \n",
       "16   As shown in Figure 2B, the Sun is assumed to ...   \n",
       "17  The Sun moved westward and its longitude decre...   \n",
       "\n",
       "                                                links  \\\n",
       "13                                                 []   \n",
       "14                                                 []   \n",
       "15  [{'#fn6': '\n",
       "Kepler's observations yield topoce...   \n",
       "16                                                 []   \n",
       "17                                                 []   \n",
       "\n",
       "                             italic     chapter             graphic  \\\n",
       "13                               []  appendix b                  []   \n",
       "14                               []  appendix b                  []   \n",
       "15                               []  appendix b                  []   \n",
       "16                               []  appendix b  [ appendix b gr 1]   \n",
       "17  [4<sup>h</sup> 23<sup>m </sup>]  appendix b                  []   \n",
       "\n",
       "                table marginal  \\\n",
       "13  [ appendix B t 2]       []   \n",
       "14  [ appendix B t 3]       []   \n",
       "15                 []       []   \n",
       "16                 []       []   \n",
       "17                 []       []   \n",
       "\n",
       "                                            sentences  \\\n",
       "13                                                 []   \n",
       "14                   [Kepler's table, for comparison]   \n",
       "15  [Mars from Earth to be a little greater than h...   \n",
       "16  [As shown in Figure 2B, the Sun is assumed to ...   \n",
       "17  [The Sun moved westward and its longitude decr...   \n",
       "\n",
       "                                               tagged  \n",
       "13                                                 []  \n",
       "14  [[(Kepler, None), (s, None), (table, None), (f...  \n",
       "15  [[(Mars, None), (from, None), (Earth, None), (...  \n",
       "16  [[(As, None), (shown, None), (in, None), (Figu...  \n",
       "17  [[(The, None), (Sun, None), (moved, None), (we...  "
      ]
     },
     "execution_count": 16,
     "metadata": {},
     "output_type": "execute_result"
    }
   ],
   "source": [
    "dfAstroNova.tail(5)"
   ]
  },
  {
   "cell_type": "markdown",
   "metadata": {},
   "source": [
    "## **Primary Data Exploration**"
   ]
  },
  {
   "cell_type": "code",
   "execution_count": 17,
   "metadata": {},
   "outputs": [
    {
     "data": {
      "text/plain": [
       "\"The time is measured from midnight; Gregorian dates are obtained by adding 10 days to Kepler's dates. The dates are given in old style.\""
      ]
     },
     "execution_count": 17,
     "metadata": {},
     "output_type": "execute_result"
    }
   ],
   "source": [
    "dfAstroNova[\"text\"][5]    # 5th row of the data in the format of text "
   ]
  },
  {
   "cell_type": "code",
   "execution_count": 18,
   "metadata": {},
   "outputs": [
    {
     "data": {
      "text/plain": [
       "[[('The', 'None'),\n",
       "  ('time', 'None'),\n",
       "  ('is', 'None'),\n",
       "  ('measured', 'None'),\n",
       "  ('from', 'None'),\n",
       "  ('midnight', 'None'),\n",
       "  ('Gregorian', 'None'),\n",
       "  ('dates', 'None'),\n",
       "  ('are', 'None'),\n",
       "  ('obtained', 'None'),\n",
       "  ('by', 'None'),\n",
       "  ('adding', 'None'),\n",
       "  ('10', 'NUM'),\n",
       "  ('days', 'None'),\n",
       "  ('to', 'None'),\n",
       "  ('Kepler', 'None'),\n",
       "  ('s', 'None'),\n",
       "  ('dates', 'None')],\n",
       " [('The', 'None'),\n",
       "  ('dates', 'None'),\n",
       "  ('are', 'None'),\n",
       "  ('given', 'None'),\n",
       "  ('in', 'None'),\n",
       "  ('old', 'None'),\n",
       "  ('style', 'None')]]"
      ]
     },
     "execution_count": 18,
     "metadata": {},
     "output_type": "execute_result"
    }
   ],
   "source": [
    "dfAstroNova[\"tagged\"][5] # 5th row of the data in a format (token, label). A list of lists of tuples! later position tags of the token will be added to each tuple. the tokens are chosen before by some rules."
   ]
  },
  {
   "cell_type": "code",
   "execution_count": 19,
   "metadata": {},
   "outputs": [
    {
     "data": {
      "text/plain": [
       "6699"
      ]
     },
     "execution_count": 19,
     "metadata": {},
     "output_type": "execute_result"
    }
   ],
   "source": [
    " df = sum(dfAstroNova['tagged'], [])  # Flatt the data by removing first lists\n",
    "len(df)"
   ]
  },
  {
   "cell_type": "code",
   "execution_count": 20,
   "metadata": {},
   "outputs": [
    {
     "data": {
      "text/plain": [
       "[('Copernicus', 'None'),\n",
       " ('and', 'None'),\n",
       " ('Tycho', 'None'),\n",
       " ('followed', 'None'),\n",
       " ('Ptolemy', 'None'),\n",
       " ('carrying', 'None'),\n",
       " ('over', 'None'),\n",
       " ('his', 'None'),\n",
       " ('assumptions', 'None')]"
      ]
     },
     "execution_count": 20,
     "metadata": {},
     "output_type": "execute_result"
    }
   ],
   "source": [
    "df[5]  "
   ]
  },
  {
   "cell_type": "code",
   "execution_count": 21,
   "metadata": {},
   "outputs": [],
   "source": [
    "df_flatten = sum(df,[])  # Flatt the data by removing the second list\n"
   ]
  },
  {
   "cell_type": "code",
   "execution_count": 22,
   "metadata": {},
   "outputs": [
    {
     "data": {
      "text/plain": [
       "[('Chapter', 'None'),\n",
       " ('1', 'NUM'),\n",
       " ('But', 'None'),\n",
       " ('before', 'None'),\n",
       " ('that', 'None'),\n",
       " ('I', 'None'),\n",
       " ('shall', 'None'),\n",
       " ('prove', 'None'),\n",
       " ('in', 'None'),\n",
       " ('this', 'None'),\n",
       " ('first', 'None'),\n",
       " ('part', 'None'),\n",
       " ('that', 'None'),\n",
       " ('one', 'None'),\n",
       " ('who', 'None'),\n",
       " ('substitutes', 'None'),\n",
       " ('the', 'None'),\n",
       " ('sun', 'None'),\n",
       " ('s', 'None'),\n",
       " ('apparent', 'None')]"
      ]
     },
     "execution_count": 22,
     "metadata": {},
     "output_type": "execute_result"
    }
   ],
   "source": [
    "df_flatten[0:20]  # Here we have tokens (entities) with their labels"
   ]
  },
  {
   "cell_type": "code",
   "execution_count": 23,
   "metadata": {},
   "outputs": [
    {
     "data": {
      "text/plain": [
       "169231"
      ]
     },
     "execution_count": 23,
     "metadata": {},
     "output_type": "execute_result"
    }
   ],
   "source": [
    "len(df_flatten)  # Number of all tokens (roughly speaking all words or entities)"
   ]
  },
  {
   "cell_type": "code",
   "execution_count": 24,
   "metadata": {},
   "outputs": [],
   "source": [
    "tokens = [x[0] for x in df_flatten]  # Extract the tokens for further use in the frequency plot"
   ]
  },
  {
   "cell_type": "code",
   "execution_count": 25,
   "metadata": {},
   "outputs": [],
   "source": [
    "labels=([x[1] for x in df_flatten])  # Extract the labels for further use in the frequency plot"
   ]
  },
  {
   "cell_type": "code",
   "execution_count": 26,
   "metadata": {},
   "outputs": [
    {
     "data": {
      "text/plain": [
       "['Chapter', '1', 'But', 'before', 'that']"
      ]
     },
     "execution_count": 26,
     "metadata": {},
     "output_type": "execute_result"
    }
   ],
   "source": [
    "tokens[0:5]"
   ]
  },
  {
   "cell_type": "code",
   "execution_count": 27,
   "metadata": {},
   "outputs": [
    {
     "data": {
      "text/plain": [
       "['None', 'NUM', 'None', 'None', 'None']"
      ]
     },
     "execution_count": 27,
     "metadata": {},
     "output_type": "execute_result"
    }
   ],
   "source": [
    "labels[0:5]"
   ]
  },
  {
   "cell_type": "markdown",
   "metadata": {},
   "source": [
    "## **Visualization**"
   ]
  },
  {
   "cell_type": "markdown",
   "metadata": {},
   "source": [
    "### Frequency plot of all words in all chapter of book"
   ]
  },
  {
   "cell_type": "markdown",
   "metadata": {},
   "source": [
    "<font size=\"3\">\n",
    "Frequency plot of all tokens in text, as you see there is a lot 'the', 'of',... in text, they normally consider as noise, we will back to that later.\n",
    "<font/>"
   ]
  },
  {
   "cell_type": "code",
   "execution_count": 28,
   "metadata": {},
   "outputs": [
    {
     "data": {
      "image/png": "[encoded data removed]",
      "text/plain": [
       "<Figure size 1800x360 with 1 Axes>"
      ]
     },
     "metadata": {
      "needs_background": "light"
     },
     "output_type": "display_data"
    }
   ],
   "source": [
    "freqdist = nltk.FreqDist(tokens)\n",
    "plt.figure(figsize=(25,5))\n",
    "freqdist.plot(100, title='Frequency plot of words')\n"
   ]
  },
  {
   "cell_type": "code",
   "execution_count": 29,
   "metadata": {},
   "outputs": [],
   "source": [
    "stop_words=[\"the\", \"of\", \"is\", \"to\", \"and\",\"in\", \"be\", \"at\", \"that\", \"from\", \"it\", \"a\", \"as\",\"this\", \"was\" ] # we can consider these as stop words or we can use nltk stop words."
   ]
  },
  {
   "cell_type": "code",
   "execution_count": 30,
   "metadata": {},
   "outputs": [],
   "source": [
    "# nltk stop words\n",
    "from nltk.corpus import stopwords\n",
    "stop_words=set(stopwords.words('english'))\n",
    "stop_words=stop_words.union(['I', 'And', 'For', 'A', 'The'])\n",
    "#stop_words_nltk = set(stop_words)\n",
    "\n",
    "# List of nltk stop words {‘ourselves’, ‘hers’, ‘between’, ‘yourself’, ‘but’, ‘again’, ‘there’, ‘about’, ‘once’, ‘during’, ‘out’, ‘very’, ‘having’, ‘with’, ‘they’, ‘own’, ‘an’, ‘be’, ‘some’, ‘for’, ‘do’, ‘its’, ‘yours’, ‘such’, ‘into’, ‘of’, ‘most’, ‘itself’, ‘other’, ‘off’, ‘is’, ‘s’, ‘am’, ‘or’, ‘who’, ‘as’, ‘from’, ‘him’, ‘each’, ‘the’, ‘themselves’, ‘until’, ‘below’, ‘are’, ‘we’, ‘these’, ‘your’, ‘his’, ‘through’, ‘don’, ‘nor’, ‘me’, ‘were’, ‘her’, ‘more’, ‘himself’, ‘this’, ‘down’, ‘should’, ‘our’, ‘their’, ‘while’, ‘above’, ‘both’, ‘up’, ‘to’, ‘ours’, ‘had’, ‘she’, ‘all’, ‘no’, ‘when’, ‘at’, ‘any’, ‘before’, ‘them’, ‘same’, ‘and’, ‘been’, ‘have’, ‘in’, ‘will’, ‘on’, ‘does’, ‘yourselves’, ‘then’, ‘that’, ‘because’, ‘what’, ‘over’, ‘why’, ‘so’, ‘can’, ‘did’, ‘not’, ‘now’, ‘under’, ‘he’, ‘you’, ‘herself’, ‘has’, ‘just’, ‘where’, ‘too’, ‘only’, ‘myself’, ‘which’, ‘those’, ‘i’, ‘after’, ‘few’, ‘whom’, ‘t’, ‘being’, ‘if’, ‘theirs’, ‘my’, ‘against’, ‘a’, ‘by’, ‘doing’, ‘it’, ‘how’, ‘further’, ‘was’, ‘here’, ‘than’} \n"
   ]
  },
  {
   "cell_type": "markdown",
   "metadata": {},
   "source": [
    "<font size=\"3\">\n",
    "We can consider these words like 'the', 'of',... as noises. so we temporary remove those! \n",
    "<font/>"
   ]
  },
  {
   "cell_type": "code",
   "execution_count": 31,
   "metadata": {},
   "outputs": [],
   "source": [
    "new_tokens = []     \n",
    "for w in tokens:\n",
    "    if w not in stop_words: new_tokens.append(w)      "
   ]
  },
  {
   "cell_type": "markdown",
   "metadata": {},
   "source": [
    "### Frequency plot of all words in all chapter of book after removing the stop words"
   ]
  },
  {
   "cell_type": "markdown",
   "metadata": {},
   "source": [
    "<font size=\"3\">\n",
    "It shows word \"sun\" is most common word.  We can also see the word Mars, planet, eccentric as common words in the book \n",
    "<font/>"
   ]
  },
  {
   "cell_type": "code",
   "execution_count": 32,
   "metadata": {},
   "outputs": [
    {
     "data": {
      "image/png": "[encoded data removed]",
      "text/plain": [
       "<Figure size 1800x360 with 1 Axes>"
      ]
     },
     "metadata": {
      "needs_background": "light"
     },
     "output_type": "display_data"
    }
   ],
   "source": [
    "freqdist = nltk.FreqDist(new_tokens) \n",
    "plt.figure(figsize=(25,5)) \n",
    "freqdist.plot(100, title='Frequency plot of words after removing noise')"
   ]
  },
  {
   "cell_type": "markdown",
   "metadata": {},
   "source": [
    "<font size=\"4\">\n",
    "Do we need more insight than frequency plot of word for see content of the book? the question is answered by the follwoing cells through investigation of \"topic modelling\"\n",
    "<font/>"
   ]
  },
  {
   "cell_type": "markdown",
   "metadata": {},
   "source": [
    "## **Topic Modelling by LDA**"
   ]
  },
  {
   "cell_type": "markdown",
   "metadata": {},
   "source": [
    " Here you see an structured workflow to build an insightful \"topic model\" based on the Latent Dirichlet Allocation (LDA) algorithm,  modeled as Dirichlet distributions Dir(α).\n",
    " For more detail you can read: <p>\n",
    "http://www.jmlr.org/papers/volume3/blei03a/blei03a.pdf\n",
    "    </p>"
   ]
  },
  {
   "cell_type": "markdown",
   "metadata": {},
   "source": [
    "### **Pre-processing**"
   ]
  },
  {
   "cell_type": "markdown",
   "metadata": {},
   "source": [
    "<font size=\"3\">\n",
    "Since we alreay tokenized the text (split text into  word without punctuation) and removed stopwrods, we only need to **lemmatize** and **stemm** the tokens.\n",
    "<font/>"
   ]
  },
  {
   "cell_type": "code",
   "execution_count": 34,
   "metadata": {},
   "outputs": [],
   "source": [
    "mytext = nltk.Text(new_tokens) "
   ]
  },
  {
   "cell_type": "markdown",
   "metadata": {},
   "source": [
    "#### Lemmatization "
   ]
  },
  {
   "cell_type": "markdown",
   "metadata": {},
   "source": [
    "<font size=\"3\">\n",
    "Lemmatization, takes into consideration the morphological analysis of the words. For instance  \"do\", \"does\", \"did\" and \"doing\" are forms of the same lexeme with \"do\" as the lemma. Another example would be  \"car\", \"cars\", \"automobile\"\n",
    "<font/>"
   ]
  },
  {
   "cell_type": "code",
   "execution_count": 35,
   "metadata": {},
   "outputs": [],
   "source": [
    "#lemmatization\n",
    "w_lemmatize= WordNetLemmatizer()\n",
    "my_text_lemmatize = [w_lemmatize.lemmatize(word) for word in mytext]\n"
   ]
  },
  {
   "cell_type": "markdown",
   "metadata": {},
   "source": [
    "#### Stemming"
   ]
  },
  {
   "cell_type": "markdown",
   "metadata": {},
   "source": [
    "<font size=\"3\">\n",
    "Stemming algorithms work by cutting off the end or the beginning of the word, by taking into account a list of common prefixes and suffixes. It reduces words to their word stem or root form. For instance, stemming for root word \"like\" include:\"likes\", \"liked\", \"likely\", \"liking\n",
    "<font size=/>"
   ]
  },
  {
   "cell_type": "code",
   "execution_count": 36,
   "metadata": {},
   "outputs": [],
   "source": [
    "# stemming \n",
    "p_stemmers=PorterStemmer()  \n",
    "my_text_lemm_stemmer = [p_stemmers.stem(word) for word in my_text_lemmatize]"
   ]
  },
  {
   "cell_type": "code",
   "execution_count": 37,
   "metadata": {},
   "outputs": [],
   "source": [
    "my_text_lemm_stemmer=[my_text_lemm_stemmer] #make a list of list"
   ]
  },
  {
   "cell_type": "markdown",
   "metadata": {},
   "source": [
    "#### Select a document to preview after preprocessing."
   ]
  },
  {
   "cell_type": "code",
   "execution_count": null,
   "metadata": {},
   "outputs": [],
   "source": []
  },
  {
   "cell_type": "code",
   "execution_count": 38,
   "metadata": {},
   "outputs": [],
   "source": [
    "Dic=corpora.Dictionary(my_text_lemm_stemmer)"
   ]
  },
  {
   "cell_type": "markdown",
   "metadata": {},
   "source": [
    "### **Bag of Words on the Data set**"
   ]
  },
  {
   "cell_type": "markdown",
   "metadata": {},
   "source": [
    "<font size=\"4\">\n",
    "Our dictionary must be converted to \"bag of word\". Frequency of occurrence of each word is used as a feature for training a classifier. It means it should contain the number of times a word appears\n",
    "<font size>"
   ]
  },
  {
   "cell_type": "code",
   "execution_count": 39,
   "metadata": {},
   "outputs": [],
   "source": [
    "corpus = [Dic.doc2bow(text) for text in my_text_lemm_stemmer]"
   ]
  },
  {
   "cell_type": "markdown",
   "metadata": {},
   "source": [
    "#### Running LDA using Bag of Words**"
   ]
  },
  {
   "cell_type": "code",
   "execution_count": 44,
   "metadata": {},
   "outputs": [],
   "source": [
    "ldamodel =models.ldamodel.LdaModel(corpus, num_topics=3,  id2word = Dic, passes=2)"
   ]
  },
  {
   "cell_type": "code",
   "execution_count": 45,
   "metadata": {},
   "outputs": [],
   "source": [
    "lda_topics=ldamodel.print_topics()"
   ]
  },
  {
   "cell_type": "code",
   "execution_count": 36,
   "metadata": {},
   "outputs": [
    {
     "data": {
      "text/plain": [
       "[(0,\n",
       "  '0.013*\"sun\" + 0.010*\"distanc\" + 0.009*\"mar\" + 0.009*\"therefor\" + 0.009*\"eccentr\" + 0.009*\"line\" + 0.007*\"planet\" + 0.007*\"let\" + 0.007*\"observ\" + 0.007*\"posit\"'),\n",
       " (1,\n",
       "  '0.014*\"sun\" + 0.013*\"eccentr\" + 0.010*\"therefor\" + 0.009*\"mar\" + 0.009*\"distanc\" + 0.009*\"let\" + 0.008*\"posit\" + 0.008*\"point\" + 0.008*\"planet\" + 0.007*\"equal\"'),\n",
       " (2,\n",
       "  '0.014*\"sun\" + 0.012*\"planet\" + 0.010*\"mar\" + 0.010*\"observ\" + 0.009*\"let\" + 0.009*\"distanc\" + 0.009*\"therefor\" + 0.009*\"posit\" + 0.008*\"line\" + 0.008*\"motion\"'),\n",
       " (3,\n",
       "  '0.011*\"planet\" + 0.009*\"eccentr\" + 0.009*\"mar\" + 0.009*\"sun\" + 0.008*\"therefor\" + 0.006*\"one\" + 0.006*\"distanc\" + 0.006*\"angl\" + 0.006*\"posit\" + 0.006*\"observ\"')]"
      ]
     },
     "execution_count": 36,
     "metadata": {},
     "output_type": "execute_result"
    }
   ],
   "source": [
    "lda_topics"
   ]
  },
  {
   "cell_type": "code",
   "execution_count": 46,
   "metadata": {},
   "outputs": [
    {
     "name": "stderr",
     "output_type": "stream",
     "text": [
      "C:\\Users\\moha\\Anaconda3\\lib\\site-packages\\pyLDAvis\\_prepare.py:257: FutureWarning: Sorting because non-concatenation axis is not aligned. A future version\n",
      "of pandas will change to not sort by default.\n",
      "\n",
      "To accept the future behavior, pass 'sort=False'.\n",
      "\n",
      "To retain the current behavior and silence the warning, pass 'sort=True'.\n",
      "\n",
      "  return pd.concat([default_term_info] + list(topic_dfs))\n"
     ]
    },
    {
     "data": {
      "text/html": [
       "\n",
       "<link rel=\"stylesheet\" type=\"text/css\" href=\"https://cdn.rawgit.com/bmabey/pyLDAvis/files/ldavis.v1.0.0.css\">\n",
       "\n",
       "\n",
       "<div id=\"ldavis_el779220660466718723927424744\"></div>\n",
       "<script type=\"text/javascript\">\n",
       "\n",
       "var ldavis_el779220660466718723927424744_data = {\"mdsDat\": {\"x\": [-0.011234245650172094, -0.001845106337441296, 0.013079351987613392], \"y\": [-0.0, -0.0, -0.0], \"topics\": [1, 2, 3], \"cluster\": [1, 1, 1], \"Freq\": [98.80813598632812, 1.1914056539535522, 0.00045793343451805413]}, \"tinfo\": {\"Category\": [\"Default\", \"Default\", \"Default\", \"Default\", \"Default\", \"Default\", \"Default\", \"Default\", \"Default\", \"Default\", \"Default\", \"Default\", \"Default\", \"Default\", \"Default\", \"Default\", \"Default\", \"Default\", \"Default\", \"Default\", \"Default\", \"Default\", \"Default\", \"Default\", \"Default\", \"Default\", \"Default\", \"Default\", \"Default\", \"Default\", \"Topic1\", \"Topic1\", \"Topic1\", \"Topic1\", \"Topic1\", \"Topic1\", \"Topic1\", \"Topic1\", \"Topic1\", \"Topic1\", \"Topic1\", \"Topic1\", \"Topic1\", \"Topic1\", \"Topic1\", \"Topic1\", \"Topic1\", \"Topic1\", \"Topic1\", \"Topic1\", \"Topic1\", \"Topic1\", \"Topic1\", \"Topic1\", \"Topic1\", \"Topic1\", \"Topic1\", \"Topic1\", \"Topic1\", \"Topic1\", \"Topic1\", \"Topic1\", \"Topic1\", \"Topic1\", \"Topic1\", \"Topic1\", \"Topic1\", \"Topic1\", \"Topic1\", \"Topic1\", \"Topic1\", \"Topic1\", \"Topic1\", \"Topic1\", \"Topic1\", \"Topic1\", \"Topic1\", \"Topic1\", \"Topic1\", \"Topic1\", \"Topic1\", \"Topic1\", \"Topic1\", \"Topic1\", \"Topic1\", \"Topic1\", \"Topic1\", \"Topic1\", \"Topic1\", \"Topic1\", \"Topic1\", \"Topic1\", \"Topic1\", \"Topic1\", \"Topic2\", \"Topic2\", \"Topic2\", \"Topic2\", \"Topic2\", \"Topic2\", \"Topic2\", \"Topic2\", \"Topic2\", \"Topic2\", \"Topic2\", \"Topic2\", \"Topic2\", \"Topic2\", \"Topic2\", \"Topic2\", \"Topic2\", \"Topic2\", \"Topic2\", \"Topic2\", \"Topic2\", \"Topic2\", \"Topic2\", \"Topic2\", \"Topic2\", \"Topic2\", \"Topic2\", \"Topic2\", \"Topic2\", \"Topic2\", \"Topic2\", \"Topic2\", \"Topic2\", \"Topic2\", \"Topic2\", \"Topic2\", \"Topic2\", \"Topic2\", \"Topic2\", \"Topic2\", \"Topic2\", \"Topic2\", \"Topic2\", \"Topic2\", \"Topic2\", \"Topic2\", \"Topic2\", \"Topic2\", \"Topic2\", \"Topic2\", \"Topic2\", \"Topic2\", \"Topic2\", \"Topic2\", \"Topic2\", \"Topic2\", \"Topic2\", \"Topic2\", \"Topic2\", \"Topic2\", \"Topic2\", \"Topic2\", \"Topic2\", \"Topic2\", \"Topic2\", \"Topic2\", \"Topic2\", \"Topic2\", \"Topic2\", \"Topic2\", \"Topic2\", \"Topic2\", \"Topic2\", \"Topic2\", \"Topic2\", \"Topic2\", \"Topic2\", \"Topic2\", \"Topic2\", \"Topic2\", \"Topic2\", \"Topic2\", \"Topic2\", \"Topic2\", \"Topic2\", \"Topic2\", \"Topic2\", \"Topic2\", \"Topic3\", \"Topic3\", \"Topic3\", \"Topic3\", \"Topic3\", \"Topic3\", \"Topic3\", \"Topic3\", \"Topic3\", \"Topic3\", \"Topic3\", \"Topic3\", \"Topic3\", \"Topic3\", \"Topic3\", \"Topic3\", \"Topic3\", \"Topic3\", \"Topic3\", \"Topic3\", \"Topic3\", \"Topic3\", \"Topic3\", \"Topic3\", \"Topic3\", \"Topic3\", \"Topic3\", \"Topic3\", \"Topic3\", \"Topic3\", \"Topic3\", \"Topic3\", \"Topic3\", \"Topic3\", \"Topic3\", \"Topic3\", \"Topic3\", \"Topic3\", \"Topic3\", \"Topic3\", \"Topic3\", \"Topic3\", \"Topic3\", \"Topic3\", \"Topic3\", \"Topic3\", \"Topic3\", \"Topic3\", \"Topic3\", \"Topic3\", \"Topic3\", \"Topic3\", \"Topic3\", \"Topic3\", \"Topic3\", \"Topic3\", \"Topic3\", \"Topic3\", \"Topic3\", \"Topic3\", \"Topic3\", \"Topic3\", \"Topic3\", \"Topic3\", \"Topic3\", \"Topic3\", \"Topic3\", \"Topic3\", \"Topic3\", \"Topic3\", \"Topic3\", \"Topic3\"], \"Freq\": [1221.0, 841.0, 717.0, 892.0, 793.0, 696.0, 830.0, 849.0, 665.0, 655.0, 641.0, 634.0, 587.0, 616.0, 554.0, 525.0, 492.0, 517.0, 529.0, 409.0, 418.0, 413.0, 503.0, 444.0, 310.0, 312.0, 331.0, 359.0, 309.0, 300.0, 109.71415710449219, 21.72120475769043, 62.908714294433594, 22.110214233398438, 52.288455963134766, 160.64456176757812, 111.2353515625, 21.2724552154541, 16.69331169128418, 102.71398162841797, 27.17587661743164, 80.53096771240234, 39.55339431762695, 18.531625747680664, 30.15069007873535, 202.79811096191406, 50.56120681762695, 16.436141967773438, 145.45103454589844, 44.70792770385742, 6.932488918304443, 98.17919921875, 5.917423248291016, 15.091032981872559, 9.026801109313965, 73.58269500732422, 30.00019645690918, 33.63544464111328, 74.70906829833984, 125.44197845458984, 1210.742431640625, 841.5438232421875, 832.3988037109375, 629.3760986328125, 710.701904296875, 820.6483764648438, 880.7086181640625, 582.00390625, 783.5191650390625, 524.9503173828125, 610.2974853515625, 633.9467163085938, 499.4497985839844, 688.064697265625, 647.37451171875, 414.6025085449219, 512.2691040039062, 486.67919921875, 406.0421447753906, 439.7477722167969, 547.8015747070312, 390.0248718261719, 409.3565979003906, 304.65716552734375, 518.1900634765625, 356.0012512207031, 654.6493530273438, 257.0218200683594, 284.4483947753906, 259.6337890625, 328.140625, 306.71435546875, 308.9124450683594, 305.3560485839844, 0.033015429973602295, 0.03177868574857712, 0.051008448004722595, 0.03149786591529846, 0.03182830661535263, 0.03169991448521614, 0.03228386119008064, 0.048785898834466934, 0.031702764332294464, 0.031449418514966965, 0.031304359436035156, 0.031107157468795776, 0.03131074458360672, 0.031327079981565475, 0.0314938984811306, 0.031035033985972404, 0.03137949854135513, 0.031102310866117477, 0.04891667515039444, 0.03121996484696865, 0.03085481747984886, 0.03079620935022831, 0.030399305745959282, 1.7525343894958496, 0.030372027307748795, 0.030770955607295036, 0.030925242230296135, 0.030186135321855545, 0.08282845467329025, 0.03071778267621994, 0.04723165184259415, 0.04834604263305664, 0.10051761567592621, 0.24687935411930084, 1.8315566778182983, 1.093469262123108, 11.338042259216309, 2.538939952850342, 0.3290565311908722, 2.097254514694214, 0.21342971920967102, 1.482866883277893, 0.16130352020263672, 1.5736786127090454, 0.4474998712539673, 1.2910493612289429, 3.701594352722168, 3.855415105819702, 0.7999083995819092, 7.353882312774658, 2.204165458679199, 11.481016159057617, 2.1042284965515137, 1.13185453414917, 0.2966359257698059, 2.907212972640991, 7.167163372039795, 1.2350590229034424, 1.0176136493682861, 9.606765747070312, 8.572912216186523, 3.8527450561523438, 3.677654266357422, 9.86669635772705, 7.922023296356201, 3.8699417114257812, 2.339836597442627, 3.9896366596221924, 3.9172587394714355, 9.053303718566895, 7.070740699768066, 3.405691623687744, 5.6589035987854, 6.431337833404541, 8.1466703414917, 7.062897205352783, 10.34681510925293, 5.324617385864258, 3.6904995441436768, 4.570343494415283, 5.1621832847595215, 4.223721027374268, 5.093072891235352, 4.544583320617676, 4.422092914581299, 3.859312057495117, 3.7735884189605713, 3.7503838539123535, 1.9255681763752364e-05, 2.0180310457362793e-05, 1.902432632050477e-05, 1.857263305282686e-05, 1.9809574951068498e-05, 1.925218202813994e-05, 1.8853970686905086e-05, 1.924497337313369e-05, 1.8012144209933467e-05, 1.9751163563341834e-05, 2.0065714124939404e-05, 1.981243804038968e-05, 1.867932587629184e-05, 1.9617582438513637e-05, 1.949652869370766e-05, 1.873006476671435e-05, 1.87071091204416e-05, 1.882630203908775e-05, 1.922797309816815e-05, 1.9769879145314917e-05, 1.8937244021799415e-05, 1.8573451598058455e-05, 1.861310920503456e-05, 1.8723894754657522e-05, 1.9373992472537793e-05, 1.933633211592678e-05, 1.895902278192807e-05, 1.829894790716935e-05, 1.8707845811150037e-05, 1.9212253391742706e-05, 1.969508230104111e-05, 1.993076512007974e-05, 0.005226609297096729, 0.0015566732035949826, 0.0029629459604620934, 0.0012579037575051188, 0.0027289690915495157, 0.002557713771238923, 0.0005256892764009535, 0.0007752646924927831, 0.0011818200582638383, 0.0011278477031737566, 0.0023763005156069994, 0.001652836217544973, 0.0004918075865134597, 0.002303510205820203, 0.0016385272610932589, 0.0021067962516099215, 0.0010705719469115138, 0.001597224734723568, 0.0012792126508429646, 0.0008459245436824858, 0.0009067223872989416, 0.0011944817379117012, 0.0027023328002542257, 0.00048715758020989597, 0.0025096838362514973, 0.00175257190130651, 0.001111155841499567, 0.0011280184844508767, 0.0017871999880298972, 0.001850239117629826, 0.0020145305898040533, 0.0018751805182546377, 0.002178438240662217, 0.0022170362062752247, 0.0015827014576643705, 0.0014336671447381377, 0.002060066908597946, 0.00152804353274405, 0.0013077202020213008, 0.0011514091165736318], \"Term\": [\"sun\", \"mar\", \"posit\", \"planet\", \"distanc\", \"observ\", \"eccentr\", \"therefor\", \"let\", \"line\", \"point\", \"motion\", \"one\", \"angl\", \"equal\", \"time\", \"circl\", \"center\", \"but\", \"mean\", \"also\", \"would\", \"sinc\", \"earth\", \"epicycl\", \"anomali\", \"differ\", \"latitud\", \"arc\", \"chapter\", \"great\", \"M\", \"At\", \"eight\", \"done\", \"made\", \"around\", \"\\u03b4\\u03b2\", \"purpos\", \"semicircl\", \"correctli\", \"carri\", \"lunul\", \"free\", \"away\", \"sum\", \"30\", \"spread\", \"form\", \"constant\", \"intermingl\", \"although\", \"halv\", \"35\", \"varieti\", \"previou\", \"design\", \"39\", \"shorter\", \"inequ\", \"sun\", \"therefor\", \"mar\", \"motion\", \"posit\", \"eccentr\", \"planet\", \"one\", \"distanc\", \"but\", \"angl\", \"point\", \"sinc\", \"observ\", \"line\", \"also\", \"center\", \"circl\", \"mean\", \"earth\", \"equal\", \"equat\", \"would\", \"hypothesi\", \"time\", \"latitud\", \"let\", \"sine\", \"follow\", \"first\", \"differ\", \"epicycl\", \"anomali\", \"arc\", \"surrend\", \"162\", \"nowher\", \"98,590\", \"qua\", \"conspir\", \"25\\u00b0 32' 50\\\"\", \"prize\", \"arbitrari\", \"357th\", \"4,866\", \"protheorem 11 \", \"22\\u00b0 33' scorpio\", \"39' 9\\\"\", \"plan\", \"child\", \"jan\", \"accus\", \"\\u03b6\\u03bb\", \"\\u0393\\u03b3\", \"cki\", \"\\u03b6\\u03c1\\u03b2\", \"fluctuat\", \"moon\", \"faux\", \"4\\u00b0 16' north\", \"qbp\", \"29\\u00b0 20' leo\", \"1592 january 23\", \"1\\u00b0 25' 31\\\"\", \"dubiou\", \"\\u03c3\\u03c4\", \"reliabl\", \"saturn\", \"ptolema\", \"forward\", \"let\", \"drawn\", \"immedi\", \"number\", \"recess\", \"magnet\", \"movabl\", \"limit\", \"examin\", \"chang\", \"use\", \"thu\", \"rotat\", \"time\", \"anoth\", \"planet\", \"way\", \"former\", \"\\u03b6\\u03b1\", \"thi\", \"equal\", \"consid\", \"investig\", \"distanc\", \"observ\", \"bodi\", \"two\", \"eccentr\", \"line\", \"part\", \"true\", \"arc\", \"opposit\", \"mar\", \"point\", \"move\", \"center\", \"angl\", \"therefor\", \"posit\", \"sun\", \"circl\", \"anomali\", \"earth\", \"one\", \"would\", \"motion\", \"sinc\", \"but\", \"mean\", \"latitud\", \"equat\", \"162\", \"0\\u00b0 8' 43\\\" scorpio\", \"scrutin\", \"98,590\", \"\\u03c9\\u03b1\\u03b5\", \"101,766\", \"29\\u00b0 20' leo\", \"SH\", \"surrend\", \"scorpius41\", \"fac\", \"julian\", \"fluctuat\", \"12\\u00b0 18' 44\\\"\", \"12' 37\\\"\", \"ega\", \"98,503\", \"ibf\", \"december 7 \", \"\\u0397\\u039a\", \"1\\u00b0 9' 32\\\"\", \"faux\", \"\\u03b3ac\", \"9\\u00b0 52' 50\\\"\", \"1\\u00bdh\", \"dac\", \"infal\", \"protheorem 11 \", \"7h 40m\", \"138,954\", \"B\\u03bd\", \"154,368\", \"sun\", \"epicycl\", \"posit\", \"thu\", \"observ\", \"let\", \"result\", \"second\", \"move\", \"place\", \"line\", \"mean\", \"maximum\", \"point\", \"would\", \"one\", \"use\", \"also\", \"anomali\", \"u\", \"thi\", \"part\", \"mar\", \"limit\", \"distanc\", \"circl\", \"star\", \"bodi\", \"time\", \"equal\", \"motion\", \"angl\", \"eccentr\", \"planet\", \"center\", \"earth\", \"therefor\", \"but\", \"sinc\", \"differ\"], \"Total\": [1221.0, 841.0, 717.0, 892.0, 793.0, 696.0, 830.0, 849.0, 665.0, 655.0, 641.0, 634.0, 587.0, 616.0, 554.0, 525.0, 492.0, 517.0, 529.0, 409.0, 418.0, 413.0, 503.0, 444.0, 310.0, 312.0, 331.0, 359.0, 309.0, 300.0, 110.26663208007812, 21.844789505004883, 63.292999267578125, 22.25468635559082, 52.6400032043457, 161.7322998046875, 111.99309539794922, 21.419448852539062, 16.808895111083984, 103.43721008300781, 27.370410919189453, 81.10991668701172, 39.83796310424805, 18.666868209838867, 30.371978759765625, 204.29054260253906, 50.933834075927734, 16.55817985534668, 146.54153442382812, 45.04491424560547, 6.984773635864258, 98.92010498046875, 5.962126731872559, 15.20573902130127, 9.095560073852539, 74.14535522460938, 30.22983741760254, 33.89345169067383, 75.28500366210938, 126.41690826416016, 1221.094482421875, 849.6925659179688, 841.4547729492188, 634.47119140625, 717.767822265625, 830.5172729492188, 892.1918334960938, 587.168212890625, 793.12841796875, 529.3739624023438, 616.730712890625, 641.019775390625, 503.9956970214844, 696.640380859375, 655.2988891601562, 418.09967041015625, 517.9295654296875, 492.00555419921875, 409.9031066894531, 444.3195495605469, 554.9705810546875, 393.77593994140625, 413.58197021484375, 307.228515625, 525.5457153320312, 359.7759094238281, 665.9899291992188, 259.0530090332031, 287.0228271484375, 261.7441101074219, 331.64837646484375, 310.0502624511719, 312.6042175292969, 309.3467712402344, 1.2079542875289917, 1.2033190727233887, 1.953617811203003, 1.2341481447219849, 1.247394323348999, 1.2513164281845093, 1.277260422706604, 1.9414887428283691, 1.2616530656814575, 1.2582427263259888, 1.2583060264587402, 1.2545630931854248, 1.2628384828567505, 1.266404390335083, 1.2785438299179077, 1.2627931833267212, 1.2773804664611816, 1.2663037776947021, 1.9959194660186768, 1.2772696018218994, 1.2625958919525146, 1.270259141921997, 1.262778401374817, 72.86055755615234, 1.2670046091079712, 1.2860732078552246, 1.2925482988357544, 1.263135313987732, 3.4665687084198, 1.2858633995056152, 1.9807887077331543, 2.0287904739379883, 4.33704948425293, 11.118000984191895, 91.36293029785156, 54.92903518676758, 665.9899291992188, 136.79037475585938, 15.576094627380371, 113.4885482788086, 9.988663673400879, 80.33675384521484, 7.54552698135376, 90.0492172241211, 23.009859085083008, 75.23883056640625, 244.76712036132812, 256.37408447265625, 44.66782760620117, 525.5457153320312, 139.03138732910156, 892.1918334960938, 132.60939025878906, 67.67647552490234, 15.136639595031738, 198.7738494873047, 554.9705810546875, 75.27979278564453, 60.479618072509766, 793.12841796875, 696.640380859375, 281.1161193847656, 266.4961853027344, 830.5172729492188, 655.2988891601562, 286.7759094238281, 161.11178588867188, 309.3467712402344, 304.1707763671875, 841.4547729492188, 641.019775390625, 263.555419921875, 517.9295654296875, 616.730712890625, 849.6925659179688, 717.767822265625, 1221.094482421875, 492.00555419921875, 312.6042175292969, 444.3195495605469, 587.168212890625, 413.58197021484375, 634.47119140625, 503.9956970214844, 529.3739624023438, 409.9031066894531, 359.7759094238281, 393.77593994140625, 1.2033190727233887, 1.3207886219024658, 1.262815237045288, 1.2341481447219849, 1.3194193840026855, 1.28689444065094, 1.263135313987732, 1.2893747091293335, 1.2079542875289917, 1.3293195962905884, 1.353613257408142, 1.3386945724487305, 1.262778401374817, 1.327467441558838, 1.3237733840942383, 1.271873116493225, 1.2707759141921997, 1.2799417972564697, 1.307288646697998, 1.3480596542358398, 1.2916003465652466, 1.2670046091079712, 1.2702351808547974, 1.278503656387329, 1.323087453842163, 1.3218188285827637, 1.2993073463439941, 1.2545630931854248, 1.2829128503799438, 1.320812463760376, 1.3608732223510742, 1.382006049156189, 1221.094482421875, 310.0502624511719, 717.767822265625, 256.37408447265625, 696.640380859375, 665.9899291992188, 88.91499328613281, 150.9411163330078, 263.555419921875, 248.21923828125, 655.2988891601562, 409.9031066894531, 85.05181884765625, 641.019775390625, 413.58197021484375, 587.168212890625, 244.76712036132812, 418.09967041015625, 312.6042175292969, 181.42347717285156, 198.7738494873047, 286.7759094238281, 841.4547729492188, 90.0492172241211, 793.12841796875, 492.00555419921875, 272.5258483886719, 281.1161193847656, 525.5457153320312, 554.9705810546875, 634.47119140625, 616.730712890625, 830.5172729492188, 892.1918334960938, 517.9295654296875, 444.3195495605469, 849.6925659179688, 529.3739624023438, 503.9956970214844, 331.64837646484375], \"loglift\": [30.0, 29.0, 28.0, 27.0, 26.0, 25.0, 24.0, 23.0, 22.0, 21.0, 20.0, 19.0, 18.0, 17.0, 16.0, 15.0, 14.0, 13.0, 12.0, 11.0, 10.0, 9.0, 8.0, 7.0, 6.0, 5.0, 4.0, 3.0, 2.0, 1.0, 0.007000000216066837, 0.006300000008195639, 0.005900000222027302, 0.005499999970197678, 0.0052999998442828655, 0.005200000014156103, 0.005200000014156103, 0.005100000184029341, 0.005100000184029341, 0.004999999888241291, 0.004900000058114529, 0.004800000227987766, 0.004800000227987766, 0.004699999932199717, 0.004699999932199717, 0.004699999932199717, 0.004600000102072954, 0.004600000102072954, 0.0044999998062849045, 0.0044999998062849045, 0.0044999998062849045, 0.0044999998062849045, 0.0044999998062849045, 0.004399999976158142, 0.004399999976158142, 0.004399999976158142, 0.004399999976158142, 0.00430000014603138, 0.00430000014603138, 0.00419999985024333, 0.0035000001080334187, 0.002400000113993883, 0.0012000000569969416, 0.0038999998942017555, 0.002099999925121665, 0.0, -0.0010000000474974513, 0.0031999999191612005, -0.00019999999494757503, 0.003599999938160181, 0.001500000013038516, 0.0008999999845400453, 0.002899999963119626, -0.00039999998989515007, -0.00019999999494757503, 0.003599999938160181, 0.0010000000474974513, 0.0010999999940395355, 0.0024999999441206455, 0.0015999999595806003, -0.0010000000474974513, 0.002400000113993883, 0.0017000000225380063, 0.003599999938160181, -0.002099999925121665, 0.00139999995008111, -0.005200000014156103, 0.004100000020116568, 0.003000000026077032, 0.0038999998942017555, 0.00139999995008111, 0.0012000000569969416, 9.999999747378752e-05, -0.0010000000474974513, 0.830299973487854, 0.7960000038146973, 0.784600019454956, 0.7617999911308289, 0.7616000175476074, 0.7544000148773193, 0.7520999908447266, 0.7462999820709229, 0.7462999820709229, 0.7408999800682068, 0.736299991607666, 0.7329000234603882, 0.7329000234603882, 0.7305999994277954, 0.7264000177383423, 0.7240999937057495, 0.7235999703407288, 0.7235000133514404, 0.7213000059127808, 0.7185999751091003, 0.7184000015258789, 0.7105000019073486, 0.7034000158309937, 0.7026000022888184, 0.6991000175476074, 0.6973000168800354, 0.6972000002861023, 0.6960999965667725, 0.695900022983551, 0.6956999897956848, 0.6938999891281128, 0.6931999921798706, 0.6654000282287598, 0.6226000189781189, 0.5203999876976013, 0.5133000016212463, 0.35690000653266907, 0.4433000087738037, 0.5727999806404114, 0.4390000104904175, 0.5841000080108643, 0.43779999017715454, 0.5845999717712402, 0.3831000030040741, 0.49000000953674316, 0.36480000615119934, 0.23849999904632568, 0.2328999936580658, 0.4074999988079071, 0.1607999950647354, 0.2856999933719635, 0.0771000012755394, 0.2865999937057495, 0.3391999900341034, 0.4977000057697296, 0.20509999990463257, 0.08060000091791153, 0.3199000060558319, 0.3452000021934509, 0.016499999910593033, 0.03240000084042549, 0.14010000228881836, 0.1469999998807907, -0.00279999990016222, 0.014600000344216824, 0.12460000067949295, 0.1979999989271164, 0.07930000126361847, 0.07779999822378159, -0.10199999809265137, -0.0771000012755394, 0.0812000036239624, -0.08659999817609787, -0.133200004696846, -0.21719999611377716, -0.19130000472068787, -0.3407999873161316, -0.09610000252723694, -0.009100000374019146, -0.1468999981880188, -0.30390000343322754, -0.15410000085830688, -0.39489999413490295, -0.2786000072956085, -0.35499998927116394, -0.2354000061750412, -0.1273999959230423, -0.22390000522136688, 1.2511999607086182, 1.2049000263214111, 1.1907999515533447, 1.1898000240325928, 1.187399983406067, 1.1837999820709229, 1.1815999746322632, 1.18149995803833, 1.1806000471115112, 1.1770000457763672, 1.1747000217437744, 1.1730999946594238, 1.1725000143051147, 1.1715999841690063, 1.1682000160217285, 1.1680999994277954, 1.1677000522613525, 1.1669000387191772, 1.1669000387191772, 1.1639000177383423, 1.163699984550476, 1.1634999513626099, 1.163100004196167, 1.162600040435791, 1.1624000072479248, 1.1613999605178833, 1.1589000225067139, 1.1584999561309814, 1.1583000421524048, 1.1556999683380127, 1.1506999731063843, 1.1471999883651733, -0.06750000268220901, 0.09200000017881393, -0.10379999876022339, 0.0689999982714653, -0.15610000491142273, -0.17599999904632568, 0.2554999887943268, 0.11479999870061874, -0.020999999716877937, -0.007799999788403511, -0.23330000042915344, -0.12720000743865967, 0.23330000042915344, -0.24240000545978546, -0.14489999413490295, -0.24390000104904175, -0.045899998396635056, -0.18129999935626984, -0.11249999701976776, 0.017999999225139618, -0.0038999998942017555, -0.09480000287294388, -0.3547999858856201, 0.16670000553131104, -0.36959999799728394, -0.25119999051094055, -0.1160999983549118, -0.13210000097751617, -0.29760000109672546, -0.3174000084400177, -0.3662000000476837, -0.40950000286102295, -0.557200014591217, -0.611299991607666, -0.40450000762939453, -0.35010001063346863, -0.6359000205993652, -0.46149998903274536, -0.5680999755859375, -0.2768999934196472], \"logprob\": [30.0, 29.0, 28.0, 27.0, 26.0, 25.0, 24.0, 23.0, 22.0, 21.0, 20.0, 19.0, 18.0, 17.0, 16.0, 15.0, 14.0, 13.0, 12.0, 11.0, 10.0, 9.0, 8.0, 7.0, 6.0, 5.0, 4.0, 3.0, 2.0, 1.0, -6.629899978637695, -8.24940013885498, -7.186100006103516, -8.23169994354248, -7.370999813079834, -6.248499870300293, -6.616099834442139, -8.270299911499023, -8.512700080871582, -6.695799827575684, -8.025400161743164, -6.9390997886657715, -7.650100231170654, -8.408300399780273, -7.921500205993652, -6.015500068664551, -7.404600143432617, -8.528300285339355, -6.347899913787842, -7.527599811553955, -9.391500473022461, -6.740900039672852, -9.549799919128418, -8.61359977722168, -9.1274995803833, -7.029300212860107, -7.926499843597412, -7.81220006942749, -7.014100074768066, -6.4959001541137695, -4.228700160980225, -4.59250020980835, -4.603400230407715, -4.882999897003174, -4.761499881744385, -4.617599964141846, -4.546999931335449, -4.961299896240234, -4.663899898529053, -5.0644001960754395, -4.91379976272583, -4.875800132751465, -5.114200115203857, -4.793900012969971, -4.854800224304199, -5.3003997802734375, -5.088900089263916, -5.140100002288818, -5.321300029754639, -5.241499900817871, -5.0218000411987305, -5.361499786376953, -5.3130998611450195, -5.608500003814697, -5.077400207519531, -5.4527997970581055, -4.843599796295166, -5.778600215911865, -5.677199840545654, -5.768499851226807, -5.534299850463867, -5.601799964904785, -5.594699859619141, -5.606299877166748, -10.320500373840332, -10.358599662780762, -9.885499954223633, -10.367500305175781, -10.357099533081055, -10.361100196838379, -10.342900276184082, -9.930000305175781, -10.361000061035156, -10.369099617004395, -10.373700141906738, -10.380000114440918, -10.373499870300293, -10.373000144958496, -10.36769962310791, -10.38230037689209, -10.371299743652344, -10.380200386047363, -9.927300453186035, -10.376399993896484, -10.388199806213379, -10.39009952545166, -10.402999877929688, -6.348599910736084, -10.403900146484375, -10.390899658203125, -10.385899543762207, -10.410099983215332, -9.400699615478516, -10.392600059509277, -9.962400436401367, -9.93910026550293, -9.207099914550781, -8.308500289916992, -6.304500102996826, -6.820300102233887, -4.481500148773193, -5.97790002822876, -8.021200180053711, -6.169099807739258, -8.454099655151367, -6.515699863433838, -8.734199523925781, -6.456299781799316, -7.713799953460693, -6.654200077056885, -5.600900173187256, -5.560200214385986, -7.132900238037109, -4.9145002365112305, -6.11929988861084, -4.468999862670898, -6.1656999588012695, -6.785799980163574, -8.124899864196777, -5.84250020980835, -4.940199851989746, -6.698599815368652, -6.892199993133545, -4.647200107574463, -4.761099815368652, -5.5609002113342285, -5.607399940490723, -4.620500087738037, -4.840000152587891, -5.55649995803833, -6.059599876403809, -5.526000022888184, -5.544300079345703, -4.706600189208984, -4.953700065612793, -5.684199810028076, -5.176499843597412, -5.048500061035156, -4.812099933624268, -4.954800128936768, -4.572999954223633, -5.237299919128418, -5.603899955749512, -5.390100002288818, -5.2683000564575195, -5.468999862670898, -5.281799793243408, -5.3958001136779785, -5.423099994659424, -5.559199810028076, -5.581699848175049, -5.587800025939941, -9.903499603271484, -9.856599807739258, -9.915599822998047, -9.939599990844727, -9.875100135803223, -9.90369987487793, -9.924599647521973, -9.904000282287598, -9.970199584960938, -9.878100395202637, -9.862299919128418, -9.875, -9.933899879455566, -9.884900093078613, -9.890999794006348, -9.931099891662598, -9.93239974975586, -9.925999641418457, -9.904899597167969, -9.877099990844727, -9.920100212097168, -9.939499855041504, -9.937399864196777, -9.931500434875488, -9.897299766540527, -9.899299621582031, -9.918999671936035, -9.954400062561035, -9.932299613952637, -9.905699729919434, -9.880900382995605, -9.869000434875488, -4.299799919128418, -5.511000156402588, -4.867300033569336, -5.724100112915039, -4.9496002197265625, -5.014400005340576, -6.59660005569458, -6.208099842071533, -5.786499977111816, -5.833199977874756, -5.0879998207092285, -5.451000213623047, -6.6631999015808105, -5.119100093841553, -5.459700107574463, -5.208399772644043, -5.885300159454346, -5.485300064086914, -5.707300186157227, -6.120800018310547, -6.051400184631348, -5.7758002281188965, -4.959400177001953, -6.672699928283691, -5.033400058746338, -5.392399787902832, -5.848100185394287, -5.833099842071533, -5.372900009155273, -5.338200092315674, -5.2530999183654785, -5.32480001449585, -5.174900054931641, -5.157400131225586, -5.4944000244140625, -5.593299865722656, -5.230800151824951, -5.5295000076293945, -5.685200214385986, -5.8125]}, \"token.table\": {\"Topic\": [1, 1, 1, 1, 1, 1, 1, 1, 1, 1, 1, 1, 1, 1, 1, 1, 1, 1, 1, 1, 1, 1, 1, 1, 1, 1, 1, 1, 1, 1, 1, 2, 1, 2, 1, 2, 1, 2, 1, 2, 1, 1, 2, 1, 2, 1, 1, 2, 1, 2, 1, 2, 1, 2, 1, 2, 1, 2, 1, 1, 2, 1, 1, 2, 1, 1, 1, 1, 1, 1, 1, 2, 1, 2, 1, 1, 2, 1, 1, 2, 1, 2, 1, 1, 1, 2, 1, 2, 1, 2, 1, 1, 1, 1, 2, 1, 1, 2, 1, 2, 1, 2, 1, 2, 1, 1, 2, 1, 1, 2, 1, 1, 1, 2, 1, 1, 1, 2, 1, 1, 1, 2, 1, 2, 1, 2, 1, 2, 1, 1, 2, 1, 2, 1, 2, 1, 2, 1, 2, 1, 2, 1, 2, 1, 1, 2, 1, 1, 2, 1, 2, 1, 2, 1, 2, 1, 2, 1, 2, 1, 1, 2, 1, 2, 1, 2, 1, 2, 1, 1, 1, 2, 1, 1, 1, 1, 1, 1, 2, 1, 2, 1, 1, 1, 1, 2, 1, 2, 1, 2, 1, 2, 1, 2, 1, 1, 2, 1, 2, 1, 2, 1, 1, 2, 1, 2, 1, 2, 1, 2, 1, 2, 1, 2, 1, 2, 1, 2, 1, 1, 2, 1, 2, 1, 1, 1, 1, 1, 1, 1, 1, 1], \"Freq\": [0.7571234107017517, 0.7770645022392273, 0.7554163336753845, 0.7533141374588013, 0.7571097612380981, 0.723585844039917, 0.8654090762138367, 0.831034779548645, 0.7776876091957092, 0.7742332816123962, 0.7558079361915588, 0.7918668985366821, 0.7829256653785706, 0.7916808128356934, 1.0012990236282349, 0.9864696264266968, 0.794759213924408, 1.0031436681747437, 0.7896372079849243, 0.7947192192077637, 0.7775607109069824, 0.7794761657714844, 0.7869207859039307, 0.8102754950523376, 0.7821643352508545, 0.9953707456588745, 0.7348223328590393, 1.0071051120758057, 0.77556973695755, 0.789699912071228, 0.9925863146781921, 0.007175322622060776, 0.990698516368866, 0.010109168477356434, 0.9890864491462708, 0.009728719480335712, 0.9884703755378723, 0.012795732356607914, 0.985388994216919, 0.014385241083800793, 0.7926109433174133, 0.9859485626220703, 0.012930472381412983, 0.9911325573921204, 0.008929122239351273, 0.9877525568008423, 0.985357940196991, 0.014228995889425278, 0.9917374849319458, 0.007556095253676176, 0.9986448287963867, 0.012328948825597763, 0.9885513782501221, 0.011584586463868618, 0.9835346937179565, 0.013291009701788425, 0.9882842898368835, 0.009982669726014137, 0.79189532995224, 0.9898262023925781, 0.01016248669475317, 0.7920190691947937, 0.9829995036125183, 0.013283777050673962, 0.7991583943367004, 0.9990028738975525, 0.9864667654037476, 0.7565333247184753, 0.7649419903755188, 0.9923970103263855, 0.9889992475509644, 0.012060966342687607, 0.988490641117096, 0.012608299031853676, 0.9878419041633606, 0.9796010851860046, 0.021931366994976997, 1.0096988677978516, 0.9902783036231995, 0.011253162287175655, 0.988540530204773, 0.012040688656270504, 0.7862419486045837, 0.9885558485984802, 0.9901620149612427, 0.009675850160419941, 0.987439751625061, 0.012613281607627869, 0.9904109239578247, 0.010158061049878597, 0.9995715022087097, 0.7387634515762329, 0.789263129234314, 0.99333655834198, 0.0076410504989326, 0.7919045686721802, 0.9894683361053467, 0.010452129878103733, 0.9894805550575256, 0.0068240039981901646, 0.990004301071167, 0.014776183292269707, 0.9830866456031799, 0.01820530742406845, 1.0178461074829102, 0.997581958770752, 0.0090689267963171, 1.0063523054122925, 0.9927464127540588, 0.0097647188231349, 0.7812855243682861, 0.9630141854286194, 0.9887917637825012, 0.007910334505140781, 0.7696408629417419, 1.0021799802780151, 0.9755352735519409, 0.01653449609875679, 0.7828521132469177, 0.7469964027404785, 0.9895048141479492, 0.011118032038211823, 0.9834983348846436, 0.01651676557958126, 0.9772433638572693, 0.022210076451301575, 0.987335741519928, 0.01220816932618618, 1.0040674209594727, 0.9954721331596375, 0.006183056626468897, 0.9833606481552124, 0.012447603046894073, 0.9887637495994568, 0.010695762000977993, 0.987633228302002, 0.011757537722587585, 0.990477979183197, 0.009758403524756432, 0.9744641184806824, 0.02744969353079796, 0.9913767576217651, 0.007880578748881817, 0.9277019500732422, 0.9865097999572754, 0.011382805183529854, 1.0237417221069336, 0.9780722260475159, 0.017622923478484154, 0.9875970482826233, 0.012919147498905659, 0.9911980628967285, 0.00851544737815857, 0.9862880706787109, 0.01315050758421421, 0.9868332147598267, 0.013948173262178898, 0.9910593628883362, 0.00805739313364029, 0.782139778137207, 0.9874557852745056, 0.012329187244176865, 0.9890490770339966, 0.010920099914073944, 0.9905710220336914, 0.009752457030117512, 0.9980396032333374, 0.013487021438777447, 1.030137300491333, 0.7970902323722839, 0.9850822687149048, 0.02189071662724018, 1.011369228363037, 0.7736654877662659, 0.8016710877418518, 1.0011348724365234, 0.9222859740257263, 0.9897093772888184, 0.011246697045862675, 0.9850490093231201, 0.02238747850060463, 0.9893864989280701, 0.7522645592689514, 0.7918815016746521, 0.987139880657196, 0.01325020007789135, 0.995773196220398, 0.009667701087892056, 0.9962143301963806, 0.013282857835292816, 0.9900878071784973, 0.009920720010995865, 0.9920749664306641, 0.0077204275876283646, 0.966289758682251, 0.9907317161560059, 0.0073387534357607365, 0.9936828017234802, 0.00489498907700181, 0.9917332530021667, 0.008189374580979347, 0.8278458714485168, 0.9909466505050659, 0.009415170177817345, 0.9860451817512512, 0.01509252842515707, 0.986839234828949, 0.015602201223373413, 0.98564213514328, 0.013319488614797592, 0.9868924021720886, 0.01241374108940363, 0.986880898475647, 0.015009596012532711, 0.9921538233757019, 0.011023931205272675, 0.9846093654632568, 0.01634206436574459, 0.9894937872886658, 0.9878636598587036, 0.015081888064742088, 0.9889212250709534, 0.009671601466834545, 0.7829200625419617, 0.7418069243431091, 0.7872557640075684, 0.9804173707962036, 0.9909729361534119, 1.002044439315796, 0.7872409224510193, 0.9858090281486511, 0.7579091191291809], \"Term\": [\"0\\u00b0 8' 43\\\" scorpio\", \"101,766\", \"12' 37\\\"\", \"12\\u00b0 18' 44\\\"\", \"138,954\", \"154,368\", \"1592 january 23\", \"162\", \"1\\u00b0 25' 31\\\"\", \"1\\u00b0 9' 32\\\"\", \"1\\u00bdh\", \"22\\u00b0 33' scorpio\", \"25\\u00b0 32' 50\\\"\", \"29\\u00b0 20' leo\", \"30\", \"35\", \"357th\", \"39\", \"39' 9\\\"\", \"4,866\", \"4\\u00b0 16' north\", \"7h 40m\", \"98,503\", \"98,590\", \"9\\u00b0 52' 50\\\"\", \"At\", \"B\\u03bd\", \"M\", \"SH\", \"accus\", \"also\", \"also\", \"although\", \"although\", \"angl\", \"angl\", \"anomali\", \"anomali\", \"anoth\", \"anoth\", \"arbitrari\", \"arc\", \"arc\", \"around\", \"around\", \"away\", \"bodi\", \"bodi\", \"but\", \"but\", \"carri\", \"carri\", \"center\", \"center\", \"chang\", \"chang\", \"chapter\", \"chapter\", \"child\", \"circl\", \"circl\", \"cki\", \"consid\", \"consid\", \"conspir\", \"constant\", \"correctli\", \"dac\", \"december 7 \", \"design\", \"differ\", \"differ\", \"distanc\", \"distanc\", \"done\", \"drawn\", \"drawn\", \"dubiou\", \"earth\", \"earth\", \"eccentr\", \"eccentr\", \"ega\", \"eight\", \"epicycl\", \"epicycl\", \"equal\", \"equal\", \"equat\", \"equat\", \"examin\", \"fac\", \"faux\", \"first\", \"first\", \"fluctuat\", \"follow\", \"follow\", \"form\", \"form\", \"former\", \"former\", \"forward\", \"forward\", \"free\", \"great\", \"great\", \"halv\", \"hypothesi\", \"hypothesi\", \"ibf\", \"immedi\", \"inequ\", \"inequ\", \"infal\", \"intermingl\", \"investig\", \"investig\", \"jan\", \"julian\", \"latitud\", \"latitud\", \"let\", \"let\", \"limit\", \"limit\", \"line\", \"line\", \"lunul\", \"made\", \"made\", \"magnet\", \"magnet\", \"mar\", \"mar\", \"maximum\", \"maximum\", \"mean\", \"mean\", \"moon\", \"moon\", \"motion\", \"motion\", \"movabl\", \"move\", \"move\", \"nowher\", \"number\", \"number\", \"observ\", \"observ\", \"one\", \"one\", \"opposit\", \"opposit\", \"part\", \"part\", \"place\", \"place\", \"plan\", \"planet\", \"planet\", \"point\", \"point\", \"posit\", \"posit\", \"previou\", \"previou\", \"prize\", \"protheorem 11 \", \"ptolema\", \"ptolema\", \"purpos\", \"qbp\", \"qua\", \"recess\", \"reliabl\", \"result\", \"result\", \"rotat\", \"rotat\", \"saturn\", \"scorpius41\", \"scrutin\", \"second\", \"second\", \"semicircl\", \"semicircl\", \"shorter\", \"shorter\", \"sinc\", \"sinc\", \"sine\", \"sine\", \"spread\", \"star\", \"star\", \"sum\", \"sum\", \"sun\", \"sun\", \"surrend\", \"therefor\", \"therefor\", \"thi\", \"thi\", \"thu\", \"thu\", \"time\", \"time\", \"true\", \"true\", \"two\", \"two\", \"u\", \"u\", \"use\", \"use\", \"varieti\", \"way\", \"way\", \"would\", \"would\", \"\\u0393\\u03b3\", \"\\u0397\\u039a\", \"\\u03b3ac\", \"\\u03b4\\u03b2\", \"\\u03b6\\u03b1\", \"\\u03b6\\u03bb\", \"\\u03b6\\u03c1\\u03b2\", \"\\u03c3\\u03c4\", \"\\u03c9\\u03b1\\u03b5\"]}, \"R\": 30, \"lambda.step\": 0.01, \"plot.opts\": {\"xlab\": \"PC1\", \"ylab\": \"PC2\"}, \"topic.order\": [3, 1, 2]};\n",
       "\n",
       "function LDAvis_load_lib(url, callback){\n",
       "  var s = document.createElement('script');\n",
       "  s.src = url;\n",
       "  s.async = true;\n",
       "  s.onreadystatechange = s.onload = callback;\n",
       "  s.onerror = function(){console.warn(\"failed to load library \" + url);};\n",
       "  document.getElementsByTagName(\"head\")[0].appendChild(s);\n",
       "}\n",
       "\n",
       "if(typeof(LDAvis) !== \"undefined\"){\n",
       "   // already loaded: just create the visualization\n",
       "   !function(LDAvis){\n",
       "       new LDAvis(\"#\" + \"ldavis_el779220660466718723927424744\", ldavis_el779220660466718723927424744_data);\n",
       "   }(LDAvis);\n",
       "}else if(typeof define === \"function\" && define.amd){\n",
       "   // require.js is available: use it to load d3/LDAvis\n",
       "   require.config({paths: {d3: \"https://cdnjs.cloudflare.com/ajax/libs/d3/3.5.5/d3.min\"}});\n",
       "   require([\"d3\"], function(d3){\n",
       "      window.d3 = d3;\n",
       "      LDAvis_load_lib(\"https://cdn.rawgit.com/bmabey/pyLDAvis/files/ldavis.v1.0.0.js\", function(){\n",
       "        new LDAvis(\"#\" + \"ldavis_el779220660466718723927424744\", ldavis_el779220660466718723927424744_data);\n",
       "      });\n",
       "    });\n",
       "}else{\n",
       "    // require.js not available: dynamically load d3 & LDAvis\n",
       "    LDAvis_load_lib(\"https://cdnjs.cloudflare.com/ajax/libs/d3/3.5.5/d3.min.js\", function(){\n",
       "         LDAvis_load_lib(\"https://cdn.rawgit.com/bmabey/pyLDAvis/files/ldavis.v1.0.0.js\", function(){\n",
       "                 new LDAvis(\"#\" + \"ldavis_el779220660466718723927424744\", ldavis_el779220660466718723927424744_data);\n",
       "            })\n",
       "         });\n",
       "}\n",
       "</script>"
      ],
      "text/plain": [
       "PreparedData(topic_coordinates=              x    y  topics  cluster       Freq\n",
       "topic                                           \n",
       "2     -0.011234 -0.0       1        1  98.808136\n",
       "0     -0.001845 -0.0       2        1   1.191406\n",
       "1      0.013079 -0.0       3        1   0.000458, topic_info=     Category         Freq      Term        Total  loglift  logprob\n",
       "term                                                               \n",
       "5981  Default  1221.000000       sun  1221.000000  30.0000  30.0000\n",
       "4796  Default   841.000000       mar   841.000000  29.0000  29.0000\n",
       "5269  Default   717.000000     posit   717.000000  28.0000  28.0000\n",
       "5245  Default   892.000000    planet   892.000000  27.0000  27.0000\n",
       "3682  Default   793.000000   distanc   793.000000  26.0000  26.0000\n",
       "5033  Default   696.000000    observ   696.000000  25.0000  25.0000\n",
       "3762  Default   830.000000   eccentr   830.000000  24.0000  24.0000\n",
       "6086  Default   849.000000  therefor   849.000000  23.0000  23.0000\n",
       "4694  Default   665.000000       let   665.000000  22.0000  22.0000\n",
       "4718  Default   655.000000      line   655.000000  21.0000  21.0000\n",
       "5258  Default   641.000000     point   641.000000  20.0000  20.0000\n",
       "4911  Default   634.000000    motion   634.000000  19.0000  19.0000\n",
       "5073  Default   587.000000       one   587.000000  18.0000  18.0000\n",
       "2805  Default   616.000000      angl   616.000000  17.0000  17.0000\n",
       "3872  Default   554.000000     equal   554.000000  16.0000  16.0000\n",
       "6125  Default   525.000000      time   525.000000  15.0000  15.0000\n",
       "3269  Default   492.000000     circl   492.000000  14.0000  14.0000\n",
       "3178  Default   517.000000    center   517.000000  13.0000  13.0000\n",
       "3099  Default   529.000000       but   529.000000  12.0000  12.0000\n",
       "4831  Default   409.000000      mean   409.000000  11.0000  11.0000\n",
       "2776  Default   418.000000      also   418.000000  10.0000  10.0000\n",
       "6476  Default   413.000000     would   413.000000   9.0000   9.0000\n",
       "5779  Default   503.000000      sinc   503.000000   8.0000   8.0000\n",
       "3746  Default   444.000000     earth   444.000000   7.0000   7.0000\n",
       "3865  Default   310.000000   epicycl   310.000000   6.0000   6.0000\n",
       "2814  Default   312.000000   anomali   312.000000   5.0000   5.0000\n",
       "3634  Default   331.000000    differ   331.000000   4.0000   4.0000\n",
       "4648  Default   359.000000   latitud   359.000000   3.0000   3.0000\n",
       "2873  Default   309.000000       arc   309.000000   2.0000   2.0000\n",
       "3202  Default   300.000000   chapter   300.000000   1.0000   1.0000\n",
       "...       ...          ...       ...          ...      ...      ...\n",
       "4718   Topic3     0.002376      line   655.298889  -0.2333  -5.0880\n",
       "4831   Topic3     0.001653      mean   409.903107  -0.1272  -5.4510\n",
       "4820   Topic3     0.000492   maximum    85.051819   0.2333  -6.6632\n",
       "5258   Topic3     0.002304     point   641.019775  -0.2424  -5.1191\n",
       "6476   Topic3     0.001639     would   413.581970  -0.1449  -5.4597\n",
       "5073   Topic3     0.002107       one   587.168213  -0.2439  -5.2084\n",
       "6305   Topic3     0.001071       use   244.767120  -0.0459  -5.8853\n",
       "2776   Topic3     0.001597      also   418.099670  -0.1813  -5.4853\n",
       "2814   Topic3     0.001279   anomali   312.604218  -0.1125  -5.7073\n",
       "6224   Topic3     0.000846         u   181.423477   0.0180  -6.1208\n",
       "6093   Topic3     0.000907       thi   198.773849  -0.0039  -6.0514\n",
       "5162   Topic3     0.001194      part   286.775909  -0.0948  -5.7758\n",
       "4796   Topic3     0.002702       mar   841.454773  -0.3548  -4.9594\n",
       "4717   Topic3     0.000487     limit    90.049217   0.1667  -6.6727\n",
       "3682   Topic3     0.002510   distanc   793.128418  -0.3696  -5.0334\n",
       "3269   Topic3     0.001753     circl   492.005554  -0.2512  -5.3924\n",
       "5893   Topic3     0.001111      star   272.525848  -0.1161  -5.8481\n",
       "3053   Topic3     0.001128      bodi   281.116119  -0.1321  -5.8331\n",
       "6125   Topic3     0.001787      time   525.545715  -0.2976  -5.3729\n",
       "3872   Topic3     0.001850     equal   554.970581  -0.3174  -5.3382\n",
       "4911   Topic3     0.002015    motion   634.471191  -0.3662  -5.2531\n",
       "2805   Topic3     0.001875      angl   616.730713  -0.4095  -5.3248\n",
       "3762   Topic3     0.002178   eccentr   830.517273  -0.5572  -5.1749\n",
       "5245   Topic3     0.002217    planet   892.191833  -0.6113  -5.1574\n",
       "3178   Topic3     0.001583    center   517.929565  -0.4045  -5.4944\n",
       "3746   Topic3     0.001434     earth   444.319550  -0.3501  -5.5933\n",
       "6086   Topic3     0.002060  therefor   849.692566  -0.6359  -5.2308\n",
       "3099   Topic3     0.001528       but   529.373962  -0.4615  -5.5295\n",
       "5779   Topic3     0.001308      sinc   503.995697  -0.5681  -5.6852\n",
       "3634   Topic3     0.001151    differ   331.648376  -0.2769  -5.8125\n",
       "\n",
       "[254 rows x 6 columns], token_table=      Topic      Freq               Term\n",
       "term                                    \n",
       "46        1  0.757123  0° 8' 43\" scorpio\n",
       "92        1  0.777065            101,766\n",
       "198       1  0.755416            12' 37\"\n",
       "228       1  0.753314        12° 18' 44\"\n",
       "288       1  0.757110            138,954\n",
       "376       1  0.723586            154,368\n",
       "429       1  0.865409    1592 january 23\n",
       "501       1  0.831035                162\n",
       "755       1  0.777688         1° 25' 31\"\n",
       "825       1  0.774233          1° 9' 32\"\n",
       "828       1  0.755808                1½h\n",
       "936       1  0.791867    22° 33' scorpio\n",
       "1020      1  0.782926        25° 32' 50\"\n",
       "1159      1  0.791681        29° 20' leo\n",
       "1264      1  1.001299                 30\n",
       "1336      1  0.986470                 35\n",
       "1342      1  0.794759              357th\n",
       "1394      1  1.003144                 39\n",
       "1396      1  0.789637             39' 9\"\n",
       "1466      1  0.794719              4,866\n",
       "1619      1  0.777561       4° 16' north\n",
       "2033      1  0.779476             7h 40m\n",
       "2231      1  0.786921             98,503\n",
       "2232      1  0.810275             98,590\n",
       "2279      1  0.782164         9° 52' 50\"\n",
       "2312      1  0.995371                 At\n",
       "2337      1  0.734822                 Bν\n",
       "2494      1  1.007105                  M\n",
       "2573      1  0.775570                 SH\n",
       "2658      1  0.789700              accus\n",
       "...     ...       ...                ...\n",
       "6086      1  0.990947           therefor\n",
       "6086      2  0.009415           therefor\n",
       "6093      1  0.986045                thi\n",
       "6093      2  0.015093                thi\n",
       "6121      1  0.986839                thu\n",
       "6121      2  0.015602                thu\n",
       "6125      1  0.985642               time\n",
       "6125      2  0.013319               time\n",
       "6203      1  0.986892               true\n",
       "6203      2  0.012414               true\n",
       "6220      1  0.986881                two\n",
       "6220      2  0.015010                two\n",
       "6224      1  0.992154                  u\n",
       "6224      2  0.011024                  u\n",
       "6305      1  0.984609                use\n",
       "6305      2  0.016342                use\n",
       "6319      1  0.989494            varieti\n",
       "6402      1  0.987864                way\n",
       "6402      2  0.015082                way\n",
       "6476      1  0.988921              would\n",
       "6476      2  0.009672              would\n",
       "6538      1  0.782920                 Γγ\n",
       "6551      1  0.741807                 ΗΚ\n",
       "6727      1  0.787256                γac\n",
       "6778      1  0.980417                 δβ\n",
       "6859      1  0.990973                 ζα\n",
       "6883      1  1.002044                 ζλ\n",
       "6887      1  0.787241                ζρβ\n",
       "7134      1  0.985809                 στ\n",
       "7186      1  0.757909                ωαε\n",
       "\n",
       "[232 rows x 3 columns], R=30, lambda_step=0.01, plot_opts={'xlab': 'PC1', 'ylab': 'PC2'}, topic_order=[3, 1, 2])"
      ]
     },
     "execution_count": 46,
     "metadata": {},
     "output_type": "execute_result"
    }
   ],
   "source": [
    "import pyLDAvis.gensim\n",
    "import gensim\n",
    "pyLDAvis.enable_notebook()\n",
    "vis = pyLDAvis.gensim.prepare(ldamodel, corpus, Dic)\n",
    "vis"
   ]
  },
  {
   "cell_type": "code",
   "execution_count": 38,
   "metadata": {},
   "outputs": [
    {
     "data": {
      "text/html": [
       "\n",
       "<link rel=\"stylesheet\" type=\"text/css\" href=\"https://cdn.rawgit.com/bmabey/pyLDAvis/files/ldavis.v1.0.0.css\">\n",
       "\n",
       "\n",
       "<div id=\"ldavis_el310014837288564322455141108\"></div>\n",
       "<script type=\"text/javascript\">\n",
       "\n",
       "var ldavis_el310014837288564322455141108_data = {\"mdsDat\": {\"x\": [0.009912481985517214, 0.005196842770935608, -0.0023482415708682256, -0.0127610831855846], \"y\": [-0.001894369570815767, 0.003258041952656643, -0.001493882726979777, 0.00013021034513890497], \"topics\": [1, 2, 3, 4], \"cluster\": [1, 1, 1, 1], \"Freq\": [93.80754852294922, 6.184987545013428, 0.007147224619984627, 0.00031304112053476274]}, \"tinfo\": {\"Category\": [\"Default\", \"Default\", \"Default\", \"Default\", \"Default\", \"Default\", \"Default\", \"Default\", \"Default\", \"Default\", \"Default\", \"Default\", \"Default\", \"Default\", \"Default\", \"Default\", \"Default\", \"Default\", \"Default\", \"Default\", \"Default\", \"Default\", \"Default\", \"Default\", \"Default\", \"Default\", \"Default\", \"Default\", \"Default\", \"Default\", \"Topic1\", \"Topic1\", \"Topic1\", \"Topic1\", \"Topic1\", \"Topic1\", \"Topic1\", \"Topic1\", \"Topic1\", \"Topic1\", \"Topic1\", \"Topic1\", \"Topic1\", \"Topic1\", \"Topic1\", \"Topic1\", \"Topic1\", \"Topic1\", \"Topic1\", \"Topic1\", \"Topic1\", \"Topic1\", \"Topic1\", \"Topic1\", \"Topic1\", \"Topic1\", \"Topic1\", \"Topic1\", \"Topic1\", \"Topic1\", \"Topic1\", \"Topic1\", \"Topic1\", \"Topic1\", \"Topic1\", \"Topic1\", \"Topic1\", \"Topic1\", \"Topic1\", \"Topic1\", \"Topic1\", \"Topic1\", \"Topic1\", \"Topic1\", \"Topic1\", \"Topic1\", \"Topic1\", \"Topic1\", \"Topic1\", \"Topic1\", \"Topic1\", \"Topic1\", \"Topic1\", \"Topic1\", \"Topic1\", \"Topic1\", \"Topic1\", \"Topic1\", \"Topic1\", \"Topic1\", \"Topic1\", \"Topic1\", \"Topic1\", \"Topic1\", \"Topic1\", \"Topic1\", \"Topic1\", \"Topic1\", \"Topic1\", \"Topic2\", \"Topic2\", \"Topic2\", \"Topic2\", \"Topic2\", \"Topic2\", \"Topic2\", \"Topic2\", \"Topic2\", \"Topic2\", \"Topic2\", \"Topic2\", \"Topic2\", \"Topic2\", \"Topic2\", \"Topic2\", \"Topic2\", \"Topic2\", \"Topic2\", \"Topic2\", \"Topic2\", \"Topic2\", \"Topic2\", \"Topic2\", \"Topic2\", \"Topic2\", \"Topic2\", \"Topic2\", \"Topic2\", \"Topic2\", \"Topic2\", \"Topic2\", \"Topic2\", \"Topic2\", \"Topic2\", \"Topic2\", \"Topic2\", \"Topic2\", \"Topic2\", \"Topic2\", \"Topic2\", \"Topic2\", \"Topic2\", \"Topic2\", \"Topic2\", \"Topic2\", \"Topic2\", \"Topic2\", \"Topic2\", \"Topic2\", \"Topic2\", \"Topic2\", \"Topic2\", \"Topic2\", \"Topic2\", \"Topic2\", \"Topic2\", \"Topic2\", \"Topic2\", \"Topic2\", \"Topic2\", \"Topic2\", \"Topic2\", \"Topic2\", \"Topic2\", \"Topic2\", \"Topic2\", \"Topic2\", \"Topic2\", \"Topic2\", \"Topic2\", \"Topic2\", \"Topic2\", \"Topic2\", \"Topic2\", \"Topic2\", \"Topic2\", \"Topic2\", \"Topic2\", \"Topic2\", \"Topic2\", \"Topic2\", \"Topic2\", \"Topic2\", \"Topic2\", \"Topic2\", \"Topic2\", \"Topic2\", \"Topic2\", \"Topic2\", \"Topic2\", \"Topic2\", \"Topic2\", \"Topic3\", \"Topic3\", \"Topic3\", \"Topic3\", \"Topic3\", \"Topic3\", \"Topic3\", \"Topic3\", \"Topic3\", \"Topic3\", \"Topic3\", \"Topic3\", \"Topic3\", \"Topic3\", \"Topic3\", \"Topic3\", \"Topic3\", \"Topic3\", \"Topic3\", \"Topic3\", \"Topic3\", \"Topic3\", \"Topic3\", \"Topic3\", \"Topic3\", \"Topic3\", \"Topic3\", \"Topic3\", \"Topic3\", \"Topic3\", \"Topic3\", \"Topic3\", \"Topic3\", \"Topic3\", \"Topic3\", \"Topic3\", \"Topic3\", \"Topic3\", \"Topic3\", \"Topic3\", \"Topic3\", \"Topic3\", \"Topic3\", \"Topic3\", \"Topic3\", \"Topic3\", \"Topic3\", \"Topic3\", \"Topic3\", \"Topic3\", \"Topic3\", \"Topic3\", \"Topic3\", \"Topic3\", \"Topic3\", \"Topic3\", \"Topic3\", \"Topic3\", \"Topic3\", \"Topic3\", \"Topic3\", \"Topic3\", \"Topic3\", \"Topic3\", \"Topic3\", \"Topic3\", \"Topic3\", \"Topic3\", \"Topic3\", \"Topic3\", \"Topic3\", \"Topic3\", \"Topic3\", \"Topic3\", \"Topic3\", \"Topic3\", \"Topic3\", \"Topic3\", \"Topic3\", \"Topic3\", \"Topic3\", \"Topic3\", \"Topic3\", \"Topic3\", \"Topic3\", \"Topic3\", \"Topic4\", \"Topic4\", \"Topic4\", \"Topic4\", \"Topic4\", \"Topic4\", \"Topic4\", \"Topic4\", \"Topic4\", \"Topic4\", \"Topic4\", \"Topic4\", \"Topic4\", \"Topic4\", \"Topic4\", \"Topic4\", \"Topic4\", \"Topic4\", \"Topic4\", \"Topic4\", \"Topic4\", \"Topic4\", \"Topic4\", \"Topic4\", \"Topic4\", \"Topic4\", \"Topic4\", \"Topic4\", \"Topic4\", \"Topic4\", \"Topic4\", \"Topic4\", \"Topic4\", \"Topic4\", \"Topic4\", \"Topic4\", \"Topic4\", \"Topic4\", \"Topic4\", \"Topic4\", \"Topic4\", \"Topic4\", \"Topic4\", \"Topic4\", \"Topic4\", \"Topic4\", \"Topic4\", \"Topic4\", \"Topic4\", \"Topic4\", \"Topic4\", \"Topic4\", \"Topic4\", \"Topic4\", \"Topic4\", \"Topic4\", \"Topic4\", \"Topic4\", \"Topic4\", \"Topic4\", \"Topic4\", \"Topic4\", \"Topic4\", \"Topic4\", \"Topic4\", \"Topic4\", \"Topic4\", \"Topic4\", \"Topic4\", \"Topic4\", \"Topic4\", \"Topic4\", \"Topic4\", \"Topic4\", \"Topic4\", \"Topic4\", \"Topic4\", \"Topic4\", \"Topic4\", \"Topic4\", \"Topic4\", \"Topic4\"], \"Freq\": [1186.0, 1002.0, 822.0, 794.0, 765.0, 681.0, 802.0, 675.0, 793.0, 730.0, 655.0, 606.0, 577.0, 655.0, 663.0, 572.0, 485.0, 509.0, 487.0, 424.0, 444.0, 446.0, 395.0, 442.0, 342.0, 310.0, 334.0, 337.0, 334.0, 298.0, 13.087032318115234, 9.51358413696289, 71.36597442626953, 59.87030792236328, 5.053076267242432, 3.8717966079711914, 109.61432647705078, 69.49861907958984, 16.496055603027344, 5.793414115905762, 11.051873207092285, 10.10323715209961, 11.911357879638672, 45.95075225830078, 13.426838874816895, 15.705093383789062, 18.919546127319336, 16.72465705871582, 37.077999114990234, 5.697840690612793, 151.02352905273438, 9.16018295288086, 9.018718719482422, 4.827282905578613, 18.502273559570312, 18.725383758544922, 14.834725379943848, 73.3254623413086, 160.9402618408203, 15.970826148986816, 960.1823120117188, 581.6962280273438, 766.8364868164062, 626.9998779296875, 329.13006591796875, 305.5711669921875, 427.3707275390625, 625.2152709960938, 320.0171813964844, 285.2047424316406, 640.4778442382812, 168.8629150390625, 748.8705444335938, 422.24456787109375, 1115.35498046875, 774.9510498046875, 748.8681030273438, 545.9780883789062, 136.2847442626953, 298.2132568359375, 113.17305755615234, 104.00724029541016, 687.5494995117188, 480.85223388671875, 715.1002807617188, 621.1604614257812, 295.2829284667969, 455.7060241699219, 534.9920043945312, 277.5360412597656, 370.6451416015625, 413.7044982910156, 314.73248291015625, 450.8719177246094, 346.4093933105469, 614.1682739257812, 390.49859619140625, 314.57244873046875, 310.42864990234375, 1.4691848754882812, 0.15036368370056152, 1.605258584022522, 3.351734161376953, 0.14472678303718567, 0.14755412936210632, 0.3124295473098755, 0.14249342679977417, 0.14402134716510773, 0.14201143383979797, 0.1372157335281372, 0.22653068602085114, 0.13592985272407532, 0.13727448880672455, 0.1400761753320694, 0.224581778049469, 0.21746587753295898, 0.13416102528572083, 0.13626599311828613, 0.1349279135465622, 0.1352519989013672, 0.1357688307762146, 0.13376985490322113, 1.0418380498886108, 0.13362480700016022, 0.22476160526275635, 0.30559131503105164, 0.1367294043302536, 0.13591812551021576, 0.1364172250032425, 1.5074912309646606, 0.21892595291137695, 14.903709411621094, 67.30586242675781, 5.102480888366699, 3.956888198852539, 0.9314982295036316, 3.7757279872894287, 14.468467712402344, 3.4041037559509277, 0.5307853817939758, 3.049814224243164, 13.42155933380127, 2.164973735809326, 11.186033248901367, 5.735789775848389, 34.02662658691406, 5.206567287445068, 14.357353210449219, 1.1925048828125, 14.130560874938965, 8.300504684448242, 6.803975582122803, 14.238673210144043, 3.2642903327941895, 36.93862533569336, 18.780681610107422, 10.16954517364502, 4.563056468963623, 7.124289035797119, 17.24609375, 8.366086959838867, 50.548648834228516, 13.721757888793945, 15.340690612792969, 10.135119438171387, 71.20649719238281, 42.61982727050781, 37.16530227661133, 29.051921844482422, 42.906593322753906, 45.80324172973633, 47.050048828125, 24.400630950927734, 22.532068252563477, 44.302181243896484, 18.308624267578125, 29.823453903198242, 24.453556060791016, 31.8554630279541, 21.23816680908203, 35.3015251159668, 28.252206802368164, 42.23540115356445, 35.5920524597168, 30.116458892822266, 28.53228187561035, 19.16719627380371, 22.47514533996582, 24.815914154052734, 19.6350040435791, 18.654706954956055, 18.74814224243164, 0.0002221074973931536, 0.00021305955306161195, 0.00021141202887520194, 0.0002289170806761831, 0.00021032537915743887, 0.0002131036890204996, 0.00022338963754009455, 0.00020456667698454112, 0.00021761879906989634, 0.00022640908719040453, 0.00020436638442333788, 0.00019507094111759216, 0.000214445884921588, 0.0002175441914005205, 0.00019629346206784248, 0.00021378244855441153, 0.00020851373847108334, 0.0003314499626867473, 0.00020532448252197355, 0.00020449707517400384, 0.0003342336567584425, 0.0002012004260905087, 0.00021921498409938067, 0.0002104302984662354, 0.00019314515520818532, 0.00020188119378872216, 0.00019665992294903845, 0.0002085629676003009, 0.00022230502509046346, 0.00020100679830648005, 0.00021189246035646647, 0.00021383278362918645, 0.003719361498951912, 0.004459134303033352, 0.023479735478758812, 0.008591627702116966, 0.010664992034435272, 0.014881501905620098, 0.00750677939504385, 0.008237872272729874, 0.06293671578168869, 0.05330701544880867, 0.05368240550160408, 0.007365130819380283, 0.01902826875448227, 0.0061132111586630344, 0.056234654039144516, 0.013042316772043705, 0.07835415750741959, 0.003430947894230485, 0.016347451135516167, 0.05646597221493721, 0.03176093101501465, 0.007661863230168819, 0.01298399455845356, 0.004885013680905104, 0.02394019067287445, 0.014285679906606674, 0.025086529552936554, 0.023387392982840538, 0.013250983320176601, 0.007498357445001602, 0.005388335790485144, 0.01210535503923893, 0.011303494684398174, 0.02197626233100891, 0.03688310831785202, 0.02843506634235382, 0.020811965689063072, 0.033913470804691315, 0.037299007177352905, 0.03968634828925133, 0.025438059121370316, 0.02918560989201069, 0.041015323251485825, 0.02994903363287449, 0.03977780416607857, 0.04324650391936302, 0.032730478793382645, 0.03271368518471718, 0.02967539243400097, 0.019892079755663872, 0.020091060549020767, 0.021979544311761856, 0.021713871508836746, 0.0221791360527277, 1.255198094440857e-05, 1.2466833140933886e-05, 1.2551341569633223e-05, 1.2614892511919606e-05, 1.2322265320108272e-05, 1.1719265785359312e-05, 1.2189057997602504e-05, 1.2683487511822022e-05, 1.2173624782008119e-05, 1.212236202263739e-05, 1.2925126611662563e-05, 1.2407489521137904e-05, 1.2157297533121891e-05, 1.2903390597784892e-05, 1.1370137144695036e-05, 1.2191275345685426e-05, 1.2369012438284699e-05, 1.25337337522069e-05, 1.2927357602166012e-05, 1.232055637956364e-05, 1.2803717254428193e-05, 1.2575974324136041e-05, 1.2113589036744088e-05, 1.1490915312606376e-05, 1.1753134458558634e-05, 1.1853614523715805e-05, 1.2218458323332015e-05, 1.1595271644182503e-05, 1.1736320630006958e-05, 1.2562098163471092e-05, 1.2456747754185926e-05, 1.2208181033201981e-05, 1.2499668628151994e-05, 0.0024299430660903454, 0.0006338670500554144, 0.0029042477253824472, 0.0023706057108938694, 0.001521965255960822, 0.0016970919677987695, 0.0004977128119207919, 0.0003759126993827522, 0.002061929553747177, 0.0004829074605368078, 0.0006256146589294076, 0.001363989314995706, 0.0007384264608845115, 0.0012162993662059307, 0.0005876179784536362, 0.0007023445796221495, 0.0006468304200097919, 0.0005432160687632859, 0.0005259607569314539, 0.0016187671571969986, 0.0005040295654907823, 0.0009026973857544363, 0.0005472342600114644, 0.0005278991302475333, 0.0003125336079392582, 0.0007086728583090007, 0.00026623785379342735, 0.0014172805240377784, 0.002327793976292014, 0.0005453545018099248, 0.0005116738029755652, 0.0015987078659236431, 0.0015061635058373213, 0.001677918597124517, 0.0011433722684159875, 0.0015402573626488447, 0.0014826321275904775, 0.0011748947435989976, 0.000788323872257024, 0.0009309994638897479, 0.0008439646335318685, 0.0008191915112547576, 0.0010908403201028705, 0.0010039869230240583, 0.0008662000764161348, 0.000829660682938993, 0.0007417973247356713, 0.0007292996742762625, 0.0007339539588429034], \"Term\": [\"sun\", \"planet\", \"mar\", \"distanc\", \"therefor\", \"eccentr\", \"observ\", \"line\", \"let\", \"posit\", \"angl\", \"time\", \"one\", \"motion\", \"point\", \"equal\", \"circl\", \"but\", \"center\", \"sinc\", \"would\", \"mean\", \"also\", \"earth\", \"part\", \"anomali\", \"opposit\", \"latitud\", \"differ\", \"hypothesi\", \"\\u03ba\\u03b1\", \"all\", \"We\", \"figur\", \"fear\", \"lom\", \"show\", \"\\u03b6\", \"\\u03b3\\u03b6\", \"\\u03b4\\u03b1\\u03b8\", \"strongli\", \"troubl\", \"past\", \"singl\", \"ask\", \"accept\", \"1590\", \"arm\", \"L\", \"divest\", \"comput\", \"270\", \"era\", \"briefli\", \"slowli\", \"tail\", \"shorten\", \"assum\", \"parallax\", \"spread\", \"planet\", \"time\", \"observ\", \"motion\", \"part\", \"thu\", \"mean\", \"angl\", \"opposit\", \"hypothesi\", \"line\", \"B\", \"let\", \"would\", \"sun\", \"mar\", \"distanc\", \"one\", \"subtract\", \"bodi\", \"accord\", \"seen\", \"posit\", \"but\", \"therefor\", \"point\", \"chapter\", \"circl\", \"equal\", \"found\", \"also\", \"earth\", \"differ\", \"center\", \"equat\", \"eccentr\", \"sinc\", \"latitud\", \"epicycl\", \"\\u03b3\\u03b4\", \"train\", \"appropri\", \"diminish\", \"astrolog\", \"48\\u00b0 45' 55\\\"\", \"\\u03bc\\u03b1\\u03b4\", \"29\\u2155\", \"observations1\", \"successor\", \"seiffard\", \"17\\u00b0 39' 30\\\" pisc\", \"4,975\", \"interrupt\", \"parts 4 \", \"\\u03b6\\u03b5\\u03b2\", \"search\", \"posterior\", \"edi\", \"dvh\", \"pregress\", \"188\", \"chapter 56 \", \"34\", \"chapter 33 \", \"erect\", \"thirti\", \"primev\", \"\\u03b7\\u03b5\\u03b1\", \"2\\u00b0 23'\", \"explain\", \"G\\u03bc\", \"make\", \"eccentr\", \"instead\", \"enough\", \"lest\", \"quantiti\", \"u\", \"descend\", \"\\u0394\\u0394\", \"south\", \"ptolemi\", \"AG\", \"On\", \"give\", \"sinc\", \"6\", \"In\", \"exceed\", \"minut\", \"find\", \"magnet\", \"given\", \"morn\", \"center\", \"use\", \"small\", \"excess\", \"If\", \"first\", \"\\u03b3\", \"therefor\", \"ratio\", \"thi\", \"direct\", \"sun\", \"point\", \"equal\", \"earth\", \"posit\", \"distanc\", \"mar\", \"equat\", \"latitud\", \"let\", \"star\", \"circl\", \"also\", \"one\", \"epicycl\", \"line\", \"but\", \"planet\", \"observ\", \"angl\", \"motion\", \"arc\", \"would\", \"time\", \"differ\", \"anomali\", \"mean\", \"satisfactorili\", \"dci\", \"12\\u00b0 13' cancer\", \"34\\u00b0 21'\", \"commutation2\", \"17\\u00b0 16' 36\\\" pisc\", \"divisor\", \"KS\", \"152,400\", \"13h 45m\", \"interrupt\", \"astrolog\", \"verdict\", \"23' 18\\\"\", \"4,975\", \"6\\u00b0 26'\", \"inflam\", \"veloc\", \"trip\", \"ZN\", \"twofold\", \"dvh\", \"baf\", \"12\\u00b0 47' 41\\\" pisc\", \"seiffard\", \"\\u03b3ac\", \"posterior\", \"28\\u2153\", \"1\\u00b0 9' 45\\\"\", \"9310\", \"1\\u00b0 15' 20\\\"\", \"35,770\", \"diminish\", \"morn\", \"use\", \"magnet\", \"near\", \"ptolemi\", \"unit\", \"natur\", \"distanc\", \"line\", \"eccentr\", \"consid\", \"So\", \"latter\", \"therefor\", \"make\", \"sun\", \"south\", \"eclipt\", \"mar\", \"sinc\", \"3\", \"correct\", \"cor\", \"arc\", \"given\", \"latitud\", \"anomali\", \"appar\", \"moment\", \"shown\", \"day\", \"node\", \"bodi\", \"time\", \"mean\", \"hypothesi\", \"equal\", \"motion\", \"posit\", \"also\", \"circl\", \"let\", \"but\", \"observ\", \"planet\", \"angl\", \"point\", \"one\", \"thu\", \"opposit\", \"would\", \"earth\", \"center\", \"4,975\", \"seiffard\", \"routin\", \"9310\", \"KS\", \"astrolog\", \"posterior\", \"8\\u00b0 53' 51\\\" pisc\", \"chapter 56 \", \"successor\", \"goad\", \"inflam\", \"unintellig\", \"11\\u00b0 0' 44\\\"\", \"train\", \"3\\u00b0 42' cancer\", \"2\\u00b0 23'\", \"heard\", \"8\\u00b0 38' leo\", \"23\\u00b0 42'\", \"3' 37\\\"\", \"lusti\", \"9\\u00b0 54' 41\\\"\", \"29\\u2155\", \"pregress\", \"\\u03b3ac\", \"23\\u00b0 16'\", \"observations1\", \"dci\", \"\\u03c0\\u03c5\", \"navig\", \"4,104\", \"5\\u00b0 44'\", \"eccentr\", \"diamet\", \"planet\", \"mar\", \"center\", \"one\", \"On\", \"travers\", \"therefor\", \"whole\", \"B\", \"circl\", \"first\", \"sinc\", \"minut\", \"So\", \"eclipt\", \"degre\", \"ptolemi\", \"angl\", \"make\", \"anomali\", \"drawn\", \"aphelion\", \"either\", \"now\", \"amount\", \"time\", \"sun\", \"given\", \"u\", \"posit\", \"line\", \"distanc\", \"but\", \"observ\", \"let\", \"equal\", \"hypothesi\", \"also\", \"part\", \"differ\", \"motion\", \"point\", \"would\", \"earth\", \"opposit\", \"arc\", \"latitud\"], \"Total\": [1186.0, 1002.0, 822.0, 794.0, 765.0, 681.0, 802.0, 675.0, 793.0, 730.0, 655.0, 606.0, 577.0, 655.0, 663.0, 572.0, 485.0, 509.0, 487.0, 424.0, 444.0, 446.0, 395.0, 442.0, 342.0, 310.0, 334.0, 337.0, 334.0, 298.0, 13.501896858215332, 9.821574211120605, 73.72250366210938, 61.910804748535156, 5.233822345733643, 4.012572288513184, 113.61236572265625, 72.03491973876953, 17.101037979125977, 6.00750732421875, 11.461421012878418, 10.484345436096191, 12.36352252960205, 47.70838928222656, 13.94106388092041, 16.308799743652344, 19.648059844970703, 17.369091033935547, 38.51122283935547, 5.918640613555908, 156.87982177734375, 9.516074180603027, 9.369180679321289, 5.014873027801514, 19.221717834472656, 19.45431137084961, 15.412610054016113, 76.21607971191406, 167.3036346435547, 16.604665756225586, 1002.4639282226562, 606.5504150390625, 802.4698486328125, 655.570556640625, 342.5088806152344, 317.8968811035156, 446.14788818359375, 655.3660888671875, 334.912841796875, 298.2897644042969, 675.8341674804688, 176.14395141601562, 793.2152099609375, 444.7425537109375, 1186.6422119140625, 822.0599365234375, 794.7359008789062, 577.8649291992188, 142.3536834716797, 314.01898193359375, 118.03878784179688, 108.39053344726562, 730.4973754882812, 509.135498046875, 765.7072143554688, 663.81396484375, 311.358154296875, 485.5600280761719, 572.1923828125, 293.82421875, 395.1250915527344, 442.7789611816406, 334.386962890625, 487.8342590332031, 370.8291320800781, 681.5302734375, 424.5581970214844, 337.1303405761719, 331.6822814941406, 11.061807632446289, 1.143688440322876, 12.303613662719727, 26.222299575805664, 1.1359925270080566, 1.1875755786895752, 2.5361177921295166, 1.1735776662826538, 1.1907649040222168, 1.1915572881698608, 1.1596605777740479, 1.9165788888931274, 1.1541242599487305, 1.1876788139343262, 1.2213109731674194, 1.964263677597046, 1.9092347621917725, 1.1826972961425781, 1.2029900550842285, 1.1932963132858276, 1.2005091905593872, 1.2124700546264648, 1.1963372230529785, 9.368016242980957, 1.2037272453308105, 2.0283591747283936, 2.7750887870788574, 1.2445560693740845, 1.2398568391799927, 1.244896650314331, 13.946744918823242, 2.0028574466705322, 145.2384033203125, 681.5302734375, 49.24594497680664, 38.59071731567383, 8.68879222869873, 38.13102722167969, 159.3758544921875, 35.12175750732422, 4.979135513305664, 31.397220611572266, 152.0092010498047, 21.938968658447266, 126.24057006835938, 62.46445083618164, 424.5581970214844, 56.706642150878906, 170.26353454589844, 11.761948585510254, 168.6796417236328, 94.91092681884766, 77.18057250976562, 172.3035430908203, 34.80057907104492, 487.8342590332031, 234.0618133544922, 120.29669952392578, 50.2065315246582, 82.57904815673828, 222.36672973632812, 98.93395233154297, 765.7072143554688, 174.01434326171875, 199.22938537597656, 124.58963775634766, 1186.6422119140625, 663.81396484375, 572.1923828125, 442.7789611816406, 730.4973754882812, 794.7359008789062, 822.0599365234375, 370.8291320800781, 337.1303405761719, 793.2152099609375, 261.70343017578125, 485.5600280761719, 395.1250915527344, 577.8649291992188, 331.6822814941406, 675.8341674804688, 509.135498046875, 1002.4639282226562, 802.4698486328125, 655.3660888671875, 655.570556640625, 313.0250549316406, 444.7425537109375, 606.5504150390625, 334.386962890625, 310.5054016113281, 446.14788818359375, 1.2239490747451782, 1.2085233926773071, 1.2024269104003906, 1.306775689125061, 1.2124217748641968, 1.228464126586914, 1.2899664640426636, 1.1849757432937622, 1.264231562614441, 1.3155475854873657, 1.1876788139343262, 1.1359925270080566, 1.2521742582321167, 1.2789430618286133, 1.1541242599487305, 1.259699821472168, 1.2298598289489746, 1.9586858749389648, 1.2139356136322021, 1.212325096130371, 1.9816887378692627, 1.1932963132858276, 1.3033298254013062, 1.2599023580551147, 1.1596605777740479, 1.212463617324829, 1.1826972961425781, 1.2548259496688843, 1.3386818170547485, 1.2106684446334839, 1.2778154611587524, 1.291030764579773, 26.222299575805664, 34.80057907104492, 234.0618133544922, 77.18057250976562, 99.93226623535156, 152.0092010498047, 70.78175354003906, 78.75275421142578, 794.7359008789062, 675.8341674804688, 681.5302734375, 71.71410369873047, 214.52931213378906, 58.91447448730469, 765.7072143554688, 145.2384033203125, 1186.6422119140625, 31.397220611572266, 193.17105102539062, 822.0599365234375, 424.5581970214844, 80.49382019042969, 151.17556762695312, 48.036651611328125, 313.0250549316406, 172.3035430908203, 337.1303405761719, 310.5054016113281, 159.2971954345703, 80.85307312011719, 54.34333801269531, 147.2335662841797, 136.53233337402344, 314.01898193359375, 606.5504150390625, 446.14788818359375, 298.2897644042969, 572.1923828125, 655.570556640625, 730.4973754882812, 395.1250915527344, 485.5600280761719, 793.2152099609375, 509.135498046875, 802.4698486328125, 1002.4639282226562, 655.3660888671875, 663.81396484375, 577.8649291992188, 317.8968811035156, 334.912841796875, 444.7425537109375, 442.7789611816406, 487.8342590332031, 1.1541242599487305, 1.1596605777740479, 1.1976934671401978, 1.2106684446334839, 1.1849757432937622, 1.1359925270080566, 1.1826972961425781, 1.2431915998458862, 1.1963372230529785, 1.1915572881698608, 1.2766214609146118, 1.2298598289489746, 1.2053080797195435, 1.28933584690094, 1.143688440322876, 1.2269986867904663, 1.244896650314331, 1.2648212909698486, 1.3048688173294067, 1.2451837062835693, 1.2947782278060913, 1.2764519453048706, 1.2347111701965332, 1.1735776662826538, 1.2005091905593872, 1.212463617324829, 1.2503228187561035, 1.1907649040222168, 1.2085233926773071, 1.2955737113952637, 1.2897107601165771, 1.2619978189468384, 1.2974121570587158, 681.5302734375, 148.05101013183594, 1002.4639282226562, 822.0599365234375, 487.8342590332031, 577.8649291992188, 126.24057006835938, 89.17981719970703, 765.7072143554688, 125.89111328125, 176.14395141601562, 485.5600280761719, 222.36672973632812, 424.5581970214844, 168.6796417236328, 214.52931213378906, 193.17105102539062, 157.23526000976562, 152.0092010498047, 655.3660888671875, 145.2384033203125, 310.5054016113281, 163.52442932128906, 157.9129638671875, 80.9735107421875, 241.58824157714844, 66.80451965332031, 606.5504150390625, 1186.6422119140625, 172.3035430908203, 159.3758544921875, 730.4973754882812, 675.8341674804688, 794.7359008789062, 509.135498046875, 802.4698486328125, 793.2152099609375, 572.1923828125, 298.2897644042969, 395.1250915527344, 342.5088806152344, 334.386962890625, 655.570556640625, 663.81396484375, 444.7425537109375, 442.7789611816406, 334.912841796875, 313.0250549316406, 337.1303405761719], \"loglift\": [30.0, 29.0, 28.0, 27.0, 26.0, 25.0, 24.0, 23.0, 22.0, 21.0, 20.0, 19.0, 18.0, 17.0, 16.0, 15.0, 14.0, 13.0, 12.0, 11.0, 10.0, 9.0, 8.0, 7.0, 6.0, 5.0, 4.0, 3.0, 2.0, 1.0, 0.03269999846816063, 0.032099999487400055, 0.03139999881386757, 0.030400000512599945, 0.02879999950528145, 0.028200000524520874, 0.02810000069439411, 0.02810000069439411, 0.027899999171495438, 0.02759999968111515, 0.027499999850988388, 0.026900000870227814, 0.02669999934732914, 0.026399999856948853, 0.02630000002682209, 0.026200000196695328, 0.026100000366568565, 0.026100000366568565, 0.026000000536441803, 0.02590000070631504, 0.02590000070631504, 0.025800000876188278, 0.025800000876188278, 0.025800000876188278, 0.025800000876188278, 0.025699999183416367, 0.025699999183416367, 0.025299999862909317, 0.025100000202655792, 0.02500000037252903, 0.020800000056624413, 0.022099999710917473, 0.01850000023841858, 0.01940000057220459, 0.02410000003874302, 0.024399999529123306, 0.020899999886751175, 0.01679999940097332, 0.018400000408291817, 0.019099999219179153, 0.010200000368058681, 0.021700000390410423, 0.006399999838322401, 0.012000000104308128, 0.0020000000949949026, 0.004900000058114529, 0.0044999998062849045, 0.007199999876320362, 0.020400000736117363, 0.012299999594688416, 0.021800000220537186, 0.022600000724196434, 0.0032999999821186066, 0.006800000090152025, -0.0044999998062849045, -0.0024999999441206455, 0.010900000110268593, 0.0005000000237487257, -0.0032999999821186066, 0.006899999920278788, -0.0, -0.004000000189989805, 0.0032999999821186066, -0.01489999983459711, -0.00419999985024333, -0.04010000079870224, -0.019700000062584877, -0.0052999998442828655, -0.002300000051036477, 0.7642999887466431, 0.7541000247001648, 0.746399998664856, 0.7258999943733215, 0.722599983215332, 0.6976000070571899, 0.6890000104904175, 0.6744999885559082, 0.6707000136375427, 0.6559000015258789, 0.6486999988555908, 0.647599995136261, 0.64410001039505, 0.6252999901771545, 0.6176000237464905, 0.6144000291824341, 0.6105999946594238, 0.6065000295639038, 0.6050999760627747, 0.6032999753952026, 0.5996999740600586, 0.5935999751091003, 0.5921000242233276, 0.5867000222206116, 0.5849000215530396, 0.5831000208854675, 0.5769000053405762, 0.5745000243186951, 0.5723000168800354, 0.5720000267028809, 0.5582000017166138, 0.5694000124931335, 0.5062999725341797, 0.46799999475479126, 0.5159000158309937, 0.5055000185966492, 0.5501000285148621, 0.4706000089645386, 0.3837999999523163, 0.44920000433921814, 0.5443999767303467, 0.4514000117778778, 0.35600000619888306, 0.46720001101493835, 0.359499990940094, 0.3952000141143799, 0.2590999901294708, 0.3950999975204468, 0.3100000023841858, 0.4941999912261963, 0.3034000098705292, 0.3463999927043915, 0.35440000891685486, 0.2897000014781952, 0.4165000021457672, 0.20229999721050262, 0.26030001044273376, 0.3125, 0.3849000036716461, 0.3328000009059906, 0.22630000114440918, 0.31279999017715454, 0.06520000100135803, 0.24289999902248383, 0.2190999984741211, 0.27399998903274536, -0.030300000682473183, 0.03739999979734421, 0.048900000751018524, 0.05909999832510948, -0.05169999971985817, -0.0706000030040741, -0.07760000228881836, 0.061900001019239426, 0.07750000059604645, -0.10199999809265137, 0.12319999933242798, -0.007000000216066837, 0.0006000000284984708, -0.11509999632835388, 0.034699998795986176, -0.16899999976158142, -0.10849999636411667, -0.383899986743927, -0.33250001072883606, -0.2971000075340271, -0.3513999879360199, -0.009999999776482582, -0.20200000703334808, -0.4133000075817108, -0.051899999380111694, -0.029100000858306885, -0.3865000009536743, 0.9318000078201294, 0.902899980545044, 0.9002000093460083, 0.8964999914169312, 0.8866999745368958, 0.8866999745368958, 0.8849999904632568, 0.8819000124931335, 0.8790000081062317, 0.8787999749183655, 0.878600001335144, 0.8765000104904175, 0.8738999962806702, 0.8671000003814697, 0.8669999837875366, 0.864799976348877, 0.8637999892234802, 0.8618999719619751, 0.8614000082015991, 0.8586999773979187, 0.8586000204086304, 0.858299970626831, 0.8557999730110168, 0.848800003528595, 0.8460000157356262, 0.8457000255584717, 0.8443999886512756, 0.8439000248908997, 0.8431000113487244, 0.8428999781608582, 0.8416000008583069, 0.840399980545044, 0.6854000091552734, 0.5838000178337097, 0.33899998664855957, 0.4431000053882599, 0.4009000062942505, 0.31459999084472656, 0.39469999074935913, 0.38089999556541443, 0.10260000079870224, 0.09860000014305115, 0.09719999879598618, 0.36250001192092896, 0.2159000039100647, 0.37279999256134033, 0.0272000003606081, 0.22830000519752502, -0.07919999957084656, 0.4246000051498413, 0.1688999980688095, -0.03970000147819519, 0.04560000076889992, 0.2865000069141388, 0.18369999527931213, 0.35269999504089355, 0.06769999861717224, 0.14839999377727509, 0.040300000458955765, 0.052400000393390656, 0.1517000049352646, 0.2605000138282776, 0.32739999890327454, 0.14010000228881836, 0.1469999998807907, -0.020999999716877937, -0.1615999937057495, -0.11460000276565552, -0.02410000003874302, -0.18719999492168427, -0.2281000018119812, -0.2743000090122223, -0.10450000315904617, -0.17319999635219574, -0.3237000107765198, -0.19480000436306, -0.3659000098705292, -0.5048999786376953, -0.35839998722076416, -0.3718000054359436, -0.33059999346733093, -0.13300000131130219, -0.17509999871253967, -0.36890000104904175, -0.3767000138759613, -0.45239999890327454, 1.2453999519348145, 1.2338000535964966, 1.208299994468689, 1.2024999856948853, 1.2005000114440918, 1.1926000118255615, 1.19159996509552, 1.18149995803833, 1.1787999868392944, 1.1785999536514282, 1.173799991607666, 1.170199990272522, 1.1699999570846558, 1.1621999740600586, 1.1555999517440796, 1.1549999713897705, 1.1549999713897705, 1.1523000001907349, 1.1520999670028687, 1.1507999897003174, 1.1502000093460083, 1.1464999914169312, 1.142300009727478, 1.1403000354766846, 1.1402000188827515, 1.138800024986267, 1.1383999586105347, 1.1347999572753906, 1.132099986076355, 1.1305999755859375, 1.1267000436782837, 1.1282000541687012, 1.1241999864578247, 0.13009999692440033, 0.31310001015663147, -0.07750000059604645, -0.08209999650716782, -0.0034000000450760126, -0.06379999965429306, 0.23070000112056732, 0.29750001430511475, -0.15060000121593475, 0.20319999754428864, 0.12630000710487366, -0.10830000042915344, 0.05900000035762787, -0.08860000222921371, 0.10689999908208847, 0.04479999840259552, 0.06729999929666519, 0.09860000014305115, 0.10010000318288803, -0.23690000176429749, 0.1031000018119812, -0.07400000095367432, 0.06679999828338623, 0.065700002014637, 0.2093999981880188, -0.06499999761581421, 0.24150000512599945, -0.29249998927116394, -0.4674000144004822, 0.010999999940395355, 0.025299999862909317, -0.3578999936580658, -0.33980000019073486, -0.3939000070095062, -0.3321000039577484, -0.48919999599456787, -0.5156999826431274, -0.42170000076293945, -0.16930000483989716, -0.2840999960899353, -0.2393999993801117, -0.2451000064611435, -0.6320000290870667, -0.727400004863739, -0.47450000047683716, -0.5131999850273132, -0.34599998593330383, -0.2953999936580658, -0.36320000886917114], \"logprob\": [30.0, 29.0, 28.0, 27.0, 26.0, 25.0, 24.0, 23.0, 22.0, 21.0, 20.0, 19.0, 18.0, 17.0, 16.0, 15.0, 14.0, 13.0, 12.0, 11.0, 10.0, 9.0, 8.0, 7.0, 6.0, 5.0, 4.0, 3.0, 2.0, 1.0, -8.70419979095459, -9.023099899291992, -7.007999897003174, -7.183599948883057, -9.655799865722656, -9.922100067138672, -6.578800201416016, -7.0345001220703125, -8.472700119018555, -9.519100189208984, -8.873200416564941, -8.962900161743164, -8.798299789428711, -7.448200225830078, -8.678500175476074, -8.52180004119873, -8.335599899291992, -8.458900451660156, -7.662799835205078, -9.535699844360352, -6.258399963378906, -9.06089973449707, -9.076499938964844, -9.701499938964844, -8.35789966583252, -8.34589958190918, -8.578800201416016, -6.980899810791016, -6.194799900054932, -8.505000114440918, -4.408699989318848, -4.909900188446045, -4.633500099182129, -4.83489990234375, -5.479300022125244, -5.553599834442139, -5.218100070953369, -4.837699890136719, -5.507400035858154, -5.622600078582764, -4.813600063323975, -6.146699905395508, -4.657199859619141, -5.230199813842773, -4.258900165557861, -4.623000144958496, -4.657199859619141, -4.973199844360352, -6.361100196838379, -5.578000068664551, -6.546899795532227, -6.63129997253418, -4.742700099945068, -5.100200176239014, -4.703400135040283, -4.844200134277344, -5.587900161743164, -5.1539998054504395, -4.993500232696533, -5.649899959564209, -5.360599994659424, -5.2505998611450195, -5.524099826812744, -5.164599895477295, -5.428199768066406, -4.855500221252441, -5.3084001541137695, -5.524600028991699, -5.537799835205078, -8.17199993133545, -10.451399803161621, -8.083399772644043, -7.3471999168396, -10.48960018157959, -10.470199584960938, -9.720100402832031, -10.50510025024414, -10.494500160217285, -10.508500099182129, -10.542900085449219, -10.041600227355957, -10.552300453186035, -10.542499542236328, -10.522199630737305, -10.050200462341309, -10.08240032196045, -10.565400123596191, -10.549799919128418, -10.559700012207031, -10.557299613952637, -10.553500175476074, -10.568300247192383, -8.515700340270996, -10.5693998336792, -10.049400329589844, -9.742199897766113, -10.54640007019043, -10.552399635314941, -10.548700332641602, -8.146200180053711, -10.075699806213379, -5.855100154876709, -4.347400188446045, -6.927000045776367, -7.18120002746582, -8.627599716186523, -7.228099822998047, -5.884699821472168, -7.331699848175049, -9.190099716186523, -7.4415998458862305, -5.959799766540527, -7.784299850463867, -6.142000198364258, -6.809999942779541, -5.0295000076293945, -6.906799793243408, -5.892399787902832, -8.380599975585938, -5.908299922943115, -6.440400123596191, -6.639200210571289, -5.900700092315674, -7.373600006103516, -4.947400093078613, -5.623899936676025, -6.237299919128418, -7.038700103759766, -6.593200206756592, -5.709099769592285, -6.432499885559082, -4.633699893951416, -5.937699794769287, -5.826200008392334, -6.240699768066406, -4.291100025177002, -4.8043999671936035, -4.941299915313721, -5.187600135803223, -4.797699928283691, -4.7322998046875, -4.70550012588501, -5.362100124359131, -5.441699981689453, -4.765600204467773, -5.6493000984191895, -5.161399841308594, -5.359899997711182, -5.0954999923706055, -5.500899791717529, -4.992800235748291, -5.2154998779296875, -4.813399791717529, -4.984600067138672, -5.151599884033203, -5.205599784851074, -5.603499889373779, -5.444300174713135, -5.345200061798096, -5.579400062561035, -5.6305999755859375, -5.6255998611450195, -10.205900192260742, -10.2475004196167, -10.255200386047363, -10.175700187683105, -10.26039981842041, -10.247300148010254, -10.20009994506836, -10.288100242614746, -10.226300239562988, -10.186699867248535, -10.28909969329834, -10.335700035095215, -10.241000175476074, -10.22659969329834, -10.329400062561035, -10.244099617004395, -10.269000053405762, -9.8056001663208, -10.28439998626709, -10.28849983215332, -9.797200202941895, -10.304699897766113, -10.218999862670898, -10.259900093078613, -10.345600128173828, -10.301400184631348, -10.32759952545166, -10.268799781799316, -10.204999923706055, -10.305700302124023, -10.253000259399414, -10.243800163269043, -7.387700080871582, -7.206299781799316, -5.545100212097168, -6.55049991607666, -6.3343000411987305, -6.001200199127197, -6.685500144958496, -6.59250020980835, -4.559199810028076, -4.725200176239014, -4.718200206756592, -6.704500198364258, -5.75540018081665, -6.8907999992370605, -4.6717000007629395, -6.1331000328063965, -4.340000152587891, -7.468400001525879, -5.907199859619141, -4.667600154876709, -5.243000030517578, -6.664999961853027, -6.137599945068359, -7.115099906921387, -5.525700092315674, -6.041999816894531, -5.478899955749512, -5.549099922180176, -6.117199897766113, -6.686600208282471, -7.017000198364258, -6.207600116729736, -6.276199817657471, -5.611299991607666, -5.093500137329102, -5.353700160980225, -5.665800094604492, -5.177499771118164, -5.082300186157227, -5.020299911499023, -5.465000152587891, -5.327600002288818, -4.987299919128418, -5.301799774169922, -5.01800012588501, -4.9344000816345215, -5.2129998207092285, -5.213500022888184, -5.310999870300293, -5.710999965667725, -5.701000213623047, -5.611199855804443, -5.623300075531006, -5.602099895477295, -9.951000213623047, -9.957799911499023, -9.95110034942627, -9.946000099182129, -9.969499588012695, -10.019700050354004, -9.980400085449219, -9.940600395202637, -9.981599807739258, -9.985799789428711, -9.921699523925781, -9.962599754333496, -9.982999801635742, -9.923399925231934, -10.04990005493164, -9.980199813842773, -9.965700149536133, -9.952500343322754, -9.921500205993652, -9.969599723815918, -9.93120002746582, -9.94909954071045, -9.986599922180176, -10.039299964904785, -10.016799926757812, -10.008299827575684, -9.977899551391602, -10.03030014038086, -10.018199920654297, -9.950200080871582, -9.958600044250488, -9.978799819946289, -9.9552001953125, -4.685299873352051, -6.029099941253662, -4.506999969482422, -4.710000038146973, -5.15310001373291, -5.0441999435424805, -6.270899772644043, -6.551499843597412, -4.8495001792907715, -6.30109977722168, -6.042200088500977, -5.262700080871582, -5.876399993896484, -5.377299785614014, -6.104800224304199, -5.926499843597412, -6.008800029754639, -6.1834001541137695, -6.215700149536133, -5.0914998054504395, -6.258299827575684, -5.67549991607666, -6.176000118255615, -6.211999893188477, -6.736199855804443, -5.917500019073486, -6.896500110626221, -5.224400043487549, -4.7281999588012695, -6.179500102996826, -6.243199825286865, -5.103899955749512, -5.163599967956543, -5.055600166320801, -5.439199924468994, -5.141200065612793, -5.179299831390381, -5.4120001792907715, -5.810999870300293, -5.644599914550781, -5.742800235748291, -5.772600173950195, -5.486199855804443, -5.569200038909912, -5.716800212860107, -5.759900093078613, -5.871799945831299, -5.888800144195557, -5.882400035858154]}, \"token.table\": {\"Topic\": [1, 1, 1, 1, 1, 1, 2, 1, 1, 1, 1, 1, 1, 1, 1, 1, 1, 1, 1, 1, 2, 1, 1, 2, 1, 1, 1, 1, 1, 1, 1, 1, 2, 1, 1, 1, 1, 1, 1, 2, 1, 2, 1, 1, 2, 1, 2, 1, 1, 2, 1, 2, 1, 2, 1, 2, 1, 1, 2, 1, 2, 1, 1, 2, 1, 2, 1, 2, 1, 2, 1, 2, 1, 2, 1, 2, 1, 2, 1, 2, 1, 2, 1, 2, 1, 1, 1, 2, 1, 1, 2, 1, 2, 1, 2, 1, 1, 1, 2, 1, 1, 2, 1, 2, 1, 2, 1, 2, 1, 2, 1, 1, 2, 1, 2, 1, 2, 1, 2, 1, 2, 1, 2, 1, 2, 1, 1, 1, 2, 1, 1, 2, 1, 2, 1, 2, 1, 1, 2, 1, 2, 1, 2, 1, 2, 1, 2, 1, 1, 1, 2, 1, 2, 1, 2, 1, 1, 2, 1, 2, 1, 2, 1, 2, 1, 2, 1, 2, 1, 1, 1, 2, 1, 1, 2, 1, 1, 2, 1, 2, 1, 2, 1, 2, 1, 2, 1, 1, 1, 2, 1, 2, 1, 2, 1, 2, 1, 2, 1, 2, 1, 2, 1, 2, 1, 2, 1, 1, 2, 1, 2, 1, 2, 1, 2, 1, 1, 2, 1, 2, 1, 2, 1, 2, 1, 1, 1, 2, 1, 2, 1, 2, 1, 1, 1, 1, 2, 1, 2, 1, 2, 1, 1, 1, 1, 2, 1, 1, 2, 1, 2, 1, 2, 1, 2, 1, 2, 1, 2, 1, 2, 1, 2, 1, 2, 1, 2, 1, 1, 2, 1, 1, 2, 1, 2, 1, 2, 1, 2, 1, 1, 2, 1, 2, 1, 1, 2, 1, 1, 1, 1, 2, 1, 1, 2, 1, 2, 1, 1, 1, 2, 1, 2, 1, 2, 1, 2, 1, 1, 2, 1, 2, 1, 1, 2, 1, 1, 1, 1, 1], \"Freq\": [0.775593101978302, 0.8316513895988464, 0.793712317943573, 0.7601397633552551, 0.7909943461418152, 0.9670165777206421, 0.050895608961582184, 0.8140245676040649, 1.04352605342865, 0.8247626423835754, 0.782585620880127, 0.7470034956932068, 0.781895637512207, 0.7997934222221375, 0.8030943274497986, 0.9457681775093079, 0.7969232797622681, 0.8520953059196472, 0.8032795190811157, 0.9193252325057983, 0.08696319907903671, 0.772333025932312, 0.8539694547653198, 0.10674618184566498, 0.7652422785758972, 0.774574875831604, 0.8149967789649963, 0.7923943996429443, 0.8664578199386597, 0.8420516848564148, 0.7707650661468506, 0.8993655443191528, 0.08817309141159058, 0.7938399314880371, 0.7663605809211731, 0.804381251335144, 0.8259899616241455, 0.809906005859375, 0.9116199016571045, 0.09116198867559433, 0.9594425559043884, 0.039740223437547684, 0.9985733032226562, 0.9082207083702087, 0.08476726710796356, 0.9162267446517944, 0.08222547173500061, 0.843899130821228, 0.9607589244842529, 0.025966456159949303, 0.9109591245651245, 0.08713521808385849, 0.9369348883628845, 0.06059778109192848, 0.9630709290504456, 0.027128757908940315, 0.8248612284660339, 0.9810654520988464, 0.0613165907561779, 0.9573124647140503, 0.04235895723104477, 1.0181666612625122, 0.9389431476593018, 0.060740258544683456, 0.9280809164047241, 0.07484523206949234, 0.9536654353141785, 0.045775942504405975, 0.9404023289680481, 0.06119056046009064, 0.9498903751373291, 0.05066081881523132, 0.9290810227394104, 0.06905332207679749, 0.8940463066101074, 0.16255386173725128, 0.9392219185829163, 0.0606980174779892, 0.9787501096725464, 0.05757353827357292, 0.932496964931488, 0.07173053920269012, 0.9578031301498413, 0.03936177119612694, 0.8802874684333801, 0.7672654986381531, 0.9489872455596924, 0.05095233395695686, 0.9970341920852661, 0.9447386860847473, 0.054995182901620865, 0.9244943261146545, 0.07584543526172638, 0.9474619626998901, 0.051387764513492584, 0.830752968788147, 0.835884690284729, 0.9391217827796936, 0.061784327030181885, 0.8247954845428467, 0.9625202417373657, 0.03824583813548088, 0.9203210473060608, 0.08366554975509644, 0.9159672856330872, 0.08326975256204605, 0.9525348544120789, 0.046303778886795044, 0.9304943680763245, 0.0679192915558815, 0.8274560570716858, 0.9476246237754822, 0.05087917298078537, 0.9111161231994629, 0.08541713654994965, 0.9456200003623962, 0.054035428911447525, 0.9420223832130432, 0.05981094390153885, 0.8771160840988159, 0.11440644413232803, 0.9150038361549377, 0.08026349544525146, 0.9424514770507812, 0.057880863547325134, 1.0137462615966797, 0.7752139568328857, 0.9417552947998047, 0.05503764748573303, 0.8380148410797119, 0.9350037574768066, 0.06549543142318726, 0.9009137749671936, 0.09830817580223083, 0.9473469257354736, 0.05176759138703346, 0.8312620520591736, 0.9262288212776184, 0.07409830391407013, 0.9069538712501526, 0.10365186631679535, 0.9346293807029724, 0.06331360340118408, 0.9350002408027649, 0.06466356664896011, 0.9330442547798157, 0.06471983343362808, 0.9605962634086609, 0.9860186576843262, 0.9352191686630249, 0.08501992374658585, 0.9162154793739319, 0.09958863258361816, 0.8604158163070679, 0.14340263605117798, 0.9553247690200806, 0.9691361784934998, 0.032304540276527405, 0.9166489243507385, 0.0842895582318306, 0.9219005107879639, 0.07645028829574585, 0.9461439251899719, 0.05445432662963867, 0.9125190377235413, 0.09605463594198227, 0.916986346244812, 0.08125195652246475, 0.7833175659179688, 0.7906255125999451, 0.9554467797279358, 0.04358178377151489, 0.8131008148193359, 0.8934745788574219, 0.10153120011091232, 0.8419784903526306, 0.9343567490577698, 0.06822287291288376, 0.9335566759109497, 0.06789503246545792, 0.9207263588905334, 0.11509079486131668, 0.9442582130432129, 0.05547044426202774, 0.9469778537750244, 0.0517878532409668, 0.996866762638092, 0.7834215760231018, 0.9069640040397644, 0.09069640189409256, 0.8950800895690918, 0.10327847301959991, 0.9427536725997925, 0.05717344582080841, 0.9570817351341248, 0.04258677735924721, 0.9189016222953796, 0.08299756795167923, 0.9276085495948792, 0.07420868426561356, 0.9195249080657959, 0.08620546013116837, 0.9564188122749329, 0.04423627629876137, 0.9269517064094543, 0.06348983943462372, 0.7753676772117615, 0.9206236004829407, 0.07004744559526443, 0.9375068545341492, 0.0659184530377388, 0.9354760050773621, 0.06622838973999023, 0.9557991623878479, 0.04486149922013283, 0.8397963047027588, 0.9448574781417847, 0.055376261472702026, 0.955472469329834, 0.04478777199983597, 0.9623221755027771, 0.035862937569618225, 0.9605590105056763, 0.03795522078871727, 0.8187922835350037, 0.9705971479415894, 0.9576404690742493, 0.0418967679142952, 0.9355030655860901, 0.0647771880030632, 0.9418240785598755, 0.05886400490999222, 0.8455249071121216, 0.8329798579216003, 0.8034993410110474, 0.9144183397293091, 0.0855211392045021, 0.8916622996330261, 0.10490144789218903, 0.9194644093513489, 0.08045313507318497, 0.8349381685256958, 0.8170274496078491, 1.0475400686264038, 0.9594933986663818, 0.036903589963912964, 0.8623212575912476, 0.9732290506362915, 0.06488193571567535, 0.9682044386863708, 0.03520743548870087, 0.9384775161743164, 0.05520455911755562, 0.9186019897460938, 0.08008325099945068, 0.9641910195350647, 0.04192134737968445, 0.9884652495384216, 0.052024487406015396, 0.9144058227539062, 0.08312779664993286, 0.8917986750602722, 0.09554985910654068, 0.9635846018791199, 0.06022403761744499, 0.9285319447517395, 0.06878014653921127, 0.9597413539886475, 0.9553669095039368, 0.042148541659116745, 0.8392378687858582, 0.9396260976791382, 0.05983269214630127, 0.9766472578048706, 0.051402486860752106, 0.9337772727012634, 0.0666050910949707, 0.9235585331916809, 0.07529009878635406, 0.7206976413726807, 0.9625762701034546, 0.03774809092283249, 0.9595245122909546, 0.041216690093278885, 0.8743640184402466, 0.9419171810150146, 0.056066498160362244, 0.8237669467926025, 0.9538030028343201, 1.0092402696609497, 0.9097990393638611, 0.0878426656126976, 0.8296633958816528, 0.9324436783790588, 0.07063967734575272, 0.9185607433319092, 0.08117514103651047, 1.0210927724838257, 0.7986108660697937, 0.9293745756149292, 0.07149035483598709, 0.9488635659217834, 0.0494668185710907, 0.8033522963523865, 0.20083807408809662, 0.9198055863380432, 0.08086203038692474, 0.824766993522644, 0.9040113687515259, 0.09040113538503647, 0.9356157183647156, 0.058475982397794724, 0.9987503290176392, 0.957868754863739, 0.04164646938443184, 1.018193244934082, 0.8065447211265564, 0.9628276824951172, 0.7886068820953369, 0.771858811378479], \"Term\": [\"11\\u00b0 0' 44\\\"\", \"12\\u00b0 13' cancer\", \"12\\u00b0 47' 41\\\" pisc\", \"13h 45m\", \"152,400\", \"1590\", \"1590\", \"17\\u00b0 16' 36\\\" pisc\", \"17\\u00b0 39' 30\\\" pisc\", \"188\", \"1\\u00b0 15' 20\\\"\", \"1\\u00b0 9' 45\\\"\", \"23' 18\\\"\", \"23\\u00b0 16'\", \"23\\u00b0 42'\", \"270\", \"28\\u2153\", \"29\\u2155\", \"2\\u00b0 23'\", \"3\", \"3\", \"3' 37\\\"\", \"34\", \"34\", \"34\\u00b0 21'\", \"35,770\", \"3\\u00b0 42' cancer\", \"4,104\", \"4,975\", \"48\\u00b0 45' 55\\\"\", \"5\\u00b0 44'\", \"6\", \"6\", \"6\\u00b0 26'\", \"8\\u00b0 38' leo\", \"8\\u00b0 53' 51\\\" pisc\", \"9310\", \"9\\u00b0 54' 41\\\"\", \"AG\", \"AG\", \"B\", \"B\", \"G\\u03bc\", \"If\", \"If\", \"In\", \"In\", \"KS\", \"L\", \"L\", \"On\", \"On\", \"So\", \"So\", \"We\", \"We\", \"ZN\", \"accept\", \"accept\", \"accord\", \"accord\", \"all\", \"also\", \"also\", \"amount\", \"amount\", \"angl\", \"angl\", \"anomali\", \"anomali\", \"aphelion\", \"aphelion\", \"appar\", \"appar\", \"appropri\", \"appropri\", \"arc\", \"arc\", \"arm\", \"arm\", \"ask\", \"ask\", \"assum\", \"assum\", \"astrolog\", \"baf\", \"bodi\", \"bodi\", \"briefli\", \"but\", \"but\", \"center\", \"center\", \"chapter\", \"chapter\", \"chapter 33 \", \"chapter 56 \", \"circl\", \"circl\", \"commutation2\", \"comput\", \"comput\", \"consid\", \"consid\", \"cor\", \"cor\", \"correct\", \"correct\", \"day\", \"day\", \"dci\", \"degre\", \"degre\", \"descend\", \"descend\", \"diamet\", \"diamet\", \"differ\", \"differ\", \"diminish\", \"diminish\", \"direct\", \"direct\", \"distanc\", \"distanc\", \"divest\", \"divisor\", \"drawn\", \"drawn\", \"dvh\", \"earth\", \"earth\", \"eccentr\", \"eccentr\", \"eclipt\", \"eclipt\", \"edi\", \"either\", \"either\", \"enough\", \"enough\", \"epicycl\", \"epicycl\", \"equal\", \"equal\", \"equat\", \"equat\", \"era\", \"erect\", \"exceed\", \"exceed\", \"excess\", \"excess\", \"explain\", \"explain\", \"fear\", \"figur\", \"figur\", \"find\", \"find\", \"first\", \"first\", \"found\", \"found\", \"give\", \"give\", \"given\", \"given\", \"goad\", \"heard\", \"hypothesi\", \"hypothesi\", \"inflam\", \"instead\", \"instead\", \"interrupt\", \"latitud\", \"latitud\", \"latter\", \"latter\", \"lest\", \"lest\", \"let\", \"let\", \"line\", \"line\", \"lom\", \"lusti\", \"magnet\", \"magnet\", \"make\", \"make\", \"mar\", \"mar\", \"mean\", \"mean\", \"minut\", \"minut\", \"moment\", \"moment\", \"morn\", \"morn\", \"motion\", \"motion\", \"natur\", \"natur\", \"navig\", \"near\", \"near\", \"node\", \"node\", \"now\", \"now\", \"observ\", \"observ\", \"observations1\", \"one\", \"one\", \"opposit\", \"opposit\", \"parallax\", \"parallax\", \"part\", \"part\", \"parts 4 \", \"past\", \"planet\", \"planet\", \"point\", \"point\", \"posit\", \"posit\", \"posterior\", \"pregress\", \"primev\", \"ptolemi\", \"ptolemi\", \"quantiti\", \"quantiti\", \"ratio\", \"ratio\", \"routin\", \"satisfactorili\", \"search\", \"seen\", \"seen\", \"seiffard\", \"shorten\", \"shorten\", \"show\", \"show\", \"shown\", \"shown\", \"sinc\", \"sinc\", \"singl\", \"singl\", \"slowli\", \"slowli\", \"small\", \"small\", \"south\", \"south\", \"spread\", \"spread\", \"star\", \"star\", \"strongli\", \"subtract\", \"subtract\", \"successor\", \"sun\", \"sun\", \"tail\", \"tail\", \"therefor\", \"therefor\", \"thi\", \"thi\", \"thirti\", \"thu\", \"thu\", \"time\", \"time\", \"train\", \"travers\", \"travers\", \"trip\", \"troubl\", \"twofold\", \"u\", \"u\", \"unintellig\", \"unit\", \"unit\", \"use\", \"use\", \"veloc\", \"verdict\", \"whole\", \"whole\", \"would\", \"would\", \"\\u0394\\u0394\", \"\\u0394\\u0394\", \"\\u03b3\", \"\\u03b3\", \"\\u03b3ac\", \"\\u03b3\\u03b4\", \"\\u03b3\\u03b4\", \"\\u03b3\\u03b6\", \"\\u03b3\\u03b6\", \"\\u03b4\\u03b1\\u03b8\", \"\\u03b6\", \"\\u03b6\", \"\\u03b6\\u03b5\\u03b2\", \"\\u03b7\\u03b5\\u03b1\", \"\\u03ba\\u03b1\", \"\\u03bc\\u03b1\\u03b4\", \"\\u03c0\\u03c5\"]}, \"R\": 30, \"lambda.step\": 0.01, \"plot.opts\": {\"xlab\": \"PC1\", \"ylab\": \"PC2\"}, \"topic.order\": [3, 2, 1, 4]};\n",
       "\n",
       "function LDAvis_load_lib(url, callback){\n",
       "  var s = document.createElement('script');\n",
       "  s.src = url;\n",
       "  s.async = true;\n",
       "  s.onreadystatechange = s.onload = callback;\n",
       "  s.onerror = function(){console.warn(\"failed to load library \" + url);};\n",
       "  document.getElementsByTagName(\"head\")[0].appendChild(s);\n",
       "}\n",
       "\n",
       "if(typeof(LDAvis) !== \"undefined\"){\n",
       "   // already loaded: just create the visualization\n",
       "   !function(LDAvis){\n",
       "       new LDAvis(\"#\" + \"ldavis_el310014837288564322455141108\", ldavis_el310014837288564322455141108_data);\n",
       "   }(LDAvis);\n",
       "}else if(typeof define === \"function\" && define.amd){\n",
       "   // require.js is available: use it to load d3/LDAvis\n",
       "   require.config({paths: {d3: \"https://cdnjs.cloudflare.com/ajax/libs/d3/3.5.5/d3.min\"}});\n",
       "   require([\"d3\"], function(d3){\n",
       "      window.d3 = d3;\n",
       "      LDAvis_load_lib(\"https://cdn.rawgit.com/bmabey/pyLDAvis/files/ldavis.v1.0.0.js\", function(){\n",
       "        new LDAvis(\"#\" + \"ldavis_el310014837288564322455141108\", ldavis_el310014837288564322455141108_data);\n",
       "      });\n",
       "    });\n",
       "}else{\n",
       "    // require.js not available: dynamically load d3 & LDAvis\n",
       "    LDAvis_load_lib(\"https://cdnjs.cloudflare.com/ajax/libs/d3/3.5.5/d3.min.js\", function(){\n",
       "         LDAvis_load_lib(\"https://cdn.rawgit.com/bmabey/pyLDAvis/files/ldavis.v1.0.0.js\", function(){\n",
       "                 new LDAvis(\"#\" + \"ldavis_el310014837288564322455141108\", ldavis_el310014837288564322455141108_data);\n",
       "            })\n",
       "         });\n",
       "}\n",
       "</script>"
      ],
      "text/plain": [
       "<IPython.core.display.HTML object>"
      ]
     },
     "execution_count": 38,
     "metadata": {},
     "output_type": "execute_result"
    }
   ],
   "source": [
    "pyLDAvis.display(vis) "
   ]
  },
  {
   "cell_type": "code",
   "execution_count": 183,
   "metadata": {},
   "outputs": [],
   "source": [
    "pyLDAvis.save_html(vis,'vis.html') # You can open saved html file  (vis_01)in your browser to see the result. "
   ]
  },
  {
   "cell_type": "markdown",
   "metadata": {},
   "source": [
    "<font size= \"4\">\n",
    "How can we find that how many topics are proper for the model?\n",
    "<font/>"
   ]
  },
  {
   "cell_type": "markdown",
   "metadata": {},
   "source": [
    "## **Coherence Metric**"
   ]
  },
  {
   "cell_type": "code",
   "execution_count": null,
   "metadata": {},
   "outputs": [],
   "source": []
  }
 ],
 "metadata": {
  "kernelspec": {
   "display_name": "Python 3",
   "language": "python",
   "name": "python3"
  },
  "language_info": {
   "codemirror_mode": {
    "name": "ipython",
    "version": 3
   },
   "file_extension": ".py",
   "mimetype": "text/x-python",
   "name": "python",
   "nbconvert_exporter": "python",
   "pygments_lexer": "ipython3",
   "version": "3.7.1"
  }
 },
 "nbformat": 4,
 "nbformat_minor": 2
}
