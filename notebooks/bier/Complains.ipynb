{
 "cells": [
  {
   "cell_type": "code",
   "execution_count": 2,
   "metadata": {},
   "outputs": [],
   "source": [
    "import pandas as pd\n",
    "import os\n",
    "%matplotlib inline  "
   ]
  },
  {
   "cell_type": "code",
   "execution_count": 3,
   "metadata": {},
   "outputs": [],
   "source": [
    "def makeLoadDoc():\n",
    "    if os.path.isfile('./data/df_doc'):\n",
    "        df = pd.read_pickle('./data/df_doc')\n",
    "        return df\n",
    "    else:\n",
    "        pass"
   ]
  },
  {
   "cell_type": "code",
   "execution_count": 4,
   "metadata": {},
   "outputs": [],
   "source": [
    "#df = makeLoadDoc()"
   ]
  },
  {
   "cell_type": "raw",
   "metadata": {},
   "source": [
    "sentences = []\n",
    "for i in df:\n",
    "    for sent in i.sents:\n",
    "        if ' detected' in sent.string:\n",
    "            sentences.append(sent.string.strip())"
   ]
  },
  {
   "cell_type": "code",
   "execution_count": 5,
   "metadata": {
    "collapsed": true
   },
   "outputs": [],
   "source": [
    "#df = pd.DataFrame({'sentences': sentences})"
   ]
  },
  {
   "cell_type": "code",
   "execution_count": 6,
   "metadata": {},
   "outputs": [],
   "source": [
    "df = pd.read_json('./data/dfExoplanetsNASAdetected100rand_v2.json', orient = 'table')\n",
    "df = df[['sent', 'label']]"
   ]
  },
  {
   "cell_type": "code",
   "execution_count": 7,
   "metadata": {},
   "outputs": [
    {
     "name": "stdout",
     "output_type": "stream",
     "text": [
      "<class 'pandas.core.frame.DataFrame'>\n",
      "Int64Index: 100 entries, 0 to 99\n",
      "Data columns (total 2 columns):\n",
      "sent     100 non-null object\n",
      "label    100 non-null object\n",
      "dtypes: object(2)\n",
      "memory usage: 2.3+ KB\n"
     ]
    }
   ],
   "source": [
    "df.info()"
   ]
  },
  {
   "cell_type": "code",
   "execution_count": 8,
   "metadata": {},
   "outputs": [
    {
     "data": {
      "text/plain": [
       "Index(['sent', 'label'], dtype='object')"
      ]
     },
     "execution_count": 8,
     "metadata": {},
     "output_type": "execute_result"
    }
   ],
   "source": [
    "df.columns"
   ]
  },
  {
   "cell_type": "code",
   "execution_count": 9,
   "metadata": {
    "collapsed": true
   },
   "outputs": [],
   "source": [
    "df['category_id'] = df['label'].factorize()[0]\n",
    "from io import StringIO\n",
    "category_id_df = df[['sent', 'label']].drop_duplicates().sort_values('label')\n",
    "category_to_id = dict(category_id_df.values)\n",
    "id_to_category = dict(category_id_df[['sent', 'label']].values)"
   ]
  },
  {
   "cell_type": "code",
   "execution_count": 10,
   "metadata": {},
   "outputs": [
    {
     "data": {
      "text/html": [
       "<div>\n",
       "<style scoped>\n",
       "    .dataframe tbody tr th:only-of-type {\n",
       "        vertical-align: middle;\n",
       "    }\n",
       "\n",
       "    .dataframe tbody tr th {\n",
       "        vertical-align: top;\n",
       "    }\n",
       "\n",
       "    .dataframe thead th {\n",
       "        text-align: right;\n",
       "    }\n",
       "</style>\n",
       "<table border=\"1\" class=\"dataframe\">\n",
       "  <thead>\n",
       "    <tr style=\"text-align: right;\">\n",
       "      <th></th>\n",
       "      <th>sent</th>\n",
       "      <th>label</th>\n",
       "      <th>category_id</th>\n",
       "    </tr>\n",
       "  </thead>\n",
       "  <tbody>\n",
       "    <tr>\n",
       "      <th>0</th>\n",
       "      <td>We detected visual companions within 1'' for 5...</td>\n",
       "      <td>discovery</td>\n",
       "      <td>0</td>\n",
       "    </tr>\n",
       "    <tr>\n",
       "      <th>1</th>\n",
       "      <td>Using these data and photometry from the Spitz...</td>\n",
       "      <td>discovery</td>\n",
       "      <td>0</td>\n",
       "    </tr>\n",
       "    <tr>\n",
       "      <th>2</th>\n",
       "      <td>Of the over 800 exoplanets detected to date, o...</td>\n",
       "      <td>None</td>\n",
       "      <td>1</td>\n",
       "    </tr>\n",
       "    <tr>\n",
       "      <th>3</th>\n",
       "      <td>We find that for these false positive scenario...</td>\n",
       "      <td>discovery</td>\n",
       "      <td>0</td>\n",
       "    </tr>\n",
       "    <tr>\n",
       "      <th>4</th>\n",
       "      <td>We present two exoplanets detected at Keck Obs...</td>\n",
       "      <td>discovery</td>\n",
       "      <td>0</td>\n",
       "    </tr>\n",
       "  </tbody>\n",
       "</table>\n",
       "</div>"
      ],
      "text/plain": [
       "                                                sent      label  category_id\n",
       "0  We detected visual companions within 1'' for 5...  discovery            0\n",
       "1  Using these data and photometry from the Spitz...  discovery            0\n",
       "2  Of the over 800 exoplanets detected to date, o...       None            1\n",
       "3  We find that for these false positive scenario...  discovery            0\n",
       "4  We present two exoplanets detected at Keck Obs...  discovery            0"
      ]
     },
     "execution_count": 10,
     "metadata": {},
     "output_type": "execute_result"
    }
   ],
   "source": [
    "df.head()"
   ]
  },
  {
   "cell_type": "code",
   "execution_count": 11,
   "metadata": {},
   "outputs": [
    {
     "data": {
      "image/png": "[encoded data removed]",
      "text/plain": [
       "<Figure size 576x432 with 1 Axes>"
      ]
     },
     "metadata": {
      "needs_background": "light"
     },
     "output_type": "display_data"
    }
   ],
   "source": [
    "import matplotlib.pyplot as plt\n",
    "fig = plt.figure(figsize=(8,6))\n",
    "df.groupby('label').sent.count().plot.bar(ylim=0)\n",
    "plt.show()"
   ]
  },
  {
   "cell_type": "code",
   "execution_count": 27,
   "metadata": {},
   "outputs": [
    {
     "data": {
      "text/plain": [
       "(100, 44)"
      ]
     },
     "execution_count": 27,
     "metadata": {},
     "output_type": "execute_result"
    }
   ],
   "source": [
    "from sklearn.feature_extraction.text import TfidfVectorizer\n",
    "\n",
    "tfidf = TfidfVectorizer(sublinear_tf=True, min_df=5, norm='l2', encoding='latin-1', ngram_range=(1, 2), stop_words='english')\n",
    "\n",
    "features = tfidf.fit_transform(df.sent).toarray()\n",
    "labels = np.array(df.category_id.astype(float))\n",
    "features.shape"
   ]
  },
  {
   "cell_type": "code",
   "execution_count": 30,
   "metadata": {
    "scrolled": false
   },
   "outputs": [
    {
     "name": "stdout",
     "output_type": "stream",
     "text": [
      "# 'A considerable change in Blazhko effect for V25 has been detected.':\n",
      "  . Most correlated unigrams:\n",
      "       . planets\n",
      "       . dwarf\n",
      "  . Most correlated bigrams:\n",
      "       . planets detected\n",
      "       . radial velocity\n",
      "# 'A distinct supersoft X-ray component was also detected at optical maximum, which probably arises from an optically thick boundary layer.':\n",
      "  . Most correlated unigrams:\n",
      "       . planets\n",
      "       . dwarf\n",
      "  . Most correlated bigrams:\n",
      "       . planets detected\n",
      "       . radial velocity\n",
      "# 'A solution to both of these problems is to use the science camera of an ExAO system as a wavefront sensor to perform a fast measurement and correction method to remove these aberrations as soon as they are detected.':\n",
      "  . Most correlated unigrams:\n",
      "       . planets\n",
      "       . dwarf\n",
      "  . Most correlated bigrams:\n",
      "       . planets detected\n",
      "       . radial velocity\n",
      "# 'A variety of terrestrial planets with different physical parameters and exotic atmospheres might plausibly exist outside our Solar System, waiting to be detected by the next generation of space-exploration missions.':\n",
      "  . Most correlated unigrams:\n",
      "       . planets\n",
      "       . dwarf\n",
      "  . Most correlated bigrams:\n",
      "       . planets detected\n",
      "       . radial velocity\n",
      "# 'Aims: We present here the list of planetary transit candidates detected in the first long run observed by CoRoT: LRc01, towards the galactic center in the direction of Aquila, which lasted from May to October 2007.':\n",
      "  . Most correlated unigrams:\n",
      "       . planets\n",
      "       . dwarf\n",
      "  . Most correlated bigrams:\n",
      "       . planets detected\n",
      "       . radial velocity\n",
      "# 'Although microlensing searches have so far detected only a handful of planets, these have already changed our understanding of planet formation beyond the snow line.':\n",
      "  . Most correlated unigrams:\n",
      "       . planets\n",
      "       . dwarf\n",
      "  . Most correlated bigrams:\n",
      "       . planets detected\n",
      "       . radial velocity\n",
      "# 'An initial census of large ring systems can be carried out using high-precision follow-up observations of detected transits and by the upcoming NASA Kepler mission.':\n",
      "  . Most correlated unigrams:\n",
      "       . planets\n",
      "       . dwarf\n",
      "  . Most correlated bigrams:\n",
      "       . planets detected\n",
      "       . radial velocity\n",
      "# 'Based on previous ground-based cometary observations, this was an unexpected finding, as was the significant amount of O2 detected.':\n",
      "  . Most correlated unigrams:\n",
      "       . planets\n",
      "       . dwarf\n",
      "  . Most correlated bigrams:\n",
      "       . planets detected\n",
      "       . radial velocity\n",
      "# 'Brigham Young University (BYU) has been assisting in the ground-based follow-up of extrasolar planet candidates detected by the KELT telescope using our 0.4-meter and 0.9-meter telescopes.':\n",
      "  . Most correlated unigrams:\n",
      "       . planets\n",
      "       . dwarf\n",
      "  . Most correlated bigrams:\n",
      "       . planets detected\n",
      "       . radial velocity\n",
      "# 'Combining these instruments with powerful telescopes, astronomers have detected thousands of exoplanets.':\n",
      "  . Most correlated unigrams:\n",
      "       . planets\n",
      "       . dwarf\n",
      "  . Most correlated bigrams:\n",
      "       . planets detected\n",
      "       . radial velocity\n",
      "# 'Differential astrometry measurements from the Palomar High-precision Astrometric Search for Exoplanet Systems (PHASES) are used to constrain the astrometric orbit of the previously known lsim2 day subsystem in the triple system 63 Gem A and have detected a previously unknown two-year Keplerian wobble superimposed on the visual orbit of the much longer period (213 years) binary system HR 2896.':\n",
      "  . Most correlated unigrams:\n",
      "       . planets\n",
      "       . dwarf\n",
      "  . Most correlated bigrams:\n",
      "       . planets detected\n",
      "       . radial velocity\n",
      "# 'Finally, the planet-star contrast must exceed a certain minimum value in order for the planet to be detected.':\n",
      "  . Most correlated unigrams:\n",
      "       . planets\n",
      "       . dwarf\n",
      "  . Most correlated bigrams:\n",
      "       . planets detected\n",
      "       . radial velocity\n",
      "# 'For 759 exoplanets detected by radial velocities method we found that distances of exoplanets from central star comply in general Schmidt law and these distances depend on the stellar surface temperature.':\n",
      "  . Most correlated unigrams:\n",
      "       . planets\n",
      "       . dwarf\n",
      "  . Most correlated bigrams:\n",
      "       . planets detected\n",
      "       . radial velocity\n",
      "# 'For the closest planets detected so far ( ≲ 0.05 AU), the effect on the radius is of the order of 1 to 10%, by no means a negligible effect, enhancing the puzzling problem of the anomalously large bloated planets.':\n",
      "  . Most correlated unigrams:\n",
      "       . planets\n",
      "       . dwarf\n",
      "  . Most correlated bigrams:\n",
      "       . planets detected\n",
      "       . radial velocity\n",
      "# 'Furthermore, our analysis indicates that C_2H_2 is the major absorber in the atmosphere of WASP-12b and the absorption features detected near 1.6 and 8':\n",
      "  . Most correlated unigrams:\n",
      "       . planets\n",
      "       . dwarf\n",
      "  . Most correlated bigrams:\n",
      "       . planets detected\n",
      "       . radial velocity\n",
      "# 'GJ 832b has the second largest angular distance from its star among radial velocity detected exoplanets (0.69 arcsec) making it a potentially interesting target for future direct detection.':\n",
      "  . Most correlated unigrams:\n",
      "       . planets\n",
      "       . dwarf\n",
      "  . Most correlated bigrams:\n",
      "       . planets detected\n",
      "       . radial velocity\n",
      "# 'Given high metallicity, and the trend indicating that multiple systems are rich in low-mass companions, this system is likely to host additional low-mass planets in its habitable zone that can be readily detected with state-of-the-art optical and near-infrared RV measurements.':\n",
      "  . Most correlated unigrams:\n",
      "       . planets\n",
      "       . dwarf\n",
      "  . Most correlated bigrams:\n",
      "       . planets detected\n",
      "       . radial velocity\n",
      "# 'Ground- and space-based planet searches employing radial velocity techniques and transit photometry have detected thousands of planet-hosting stars in the Milky Way.':\n",
      "  . Most correlated unigrams:\n",
      "       . planets\n",
      "       . dwarf\n",
      "  . Most correlated bigrams:\n",
      "       . planets detected\n",
      "       . radial velocity\n",
      "# 'Here we present a catalog of 164 single transit and eclipse candidates detected during a comprehensive survey of all currently available K2 data.':\n",
      "  . Most correlated unigrams:\n",
      "       . planets\n",
      "       . dwarf\n",
      "  . Most correlated bigrams:\n",
      "       . planets detected\n",
      "       . radial velocity\n",
      "# 'Horologii is quite extended; it is detected to a distance of about 65 AU, i.e. 10,000 million km, from the star.':\n",
      "  . Most correlated unigrams:\n",
      "       . planets\n",
      "       . dwarf\n",
      "  . Most correlated bigrams:\n",
      "       . planets detected\n",
      "       . radial velocity\n",
      "# 'If a roughly Earth-sized, Earth-mass moon would be detected in orbit around a giant planet, and if the planet-moon duet would orbit in the stellar HZ, then it will be crucial to recover the orbital history of the moon.':\n",
      "  . Most correlated unigrams:\n",
      "       . planets\n",
      "       . dwarf\n",
      "  . Most correlated bigrams:\n",
      "       . planets detected\n",
      "       . radial velocity\n",
      "# 'If the two-planet model is true, then this is the third multiple-planet system detected using the microlensing method and the first multiple-planet system detected in low-magnification events, which are dominant in the microlensing survey data.':\n",
      "  . Most correlated unigrams:\n",
      "       . planets\n",
      "       . dwarf\n",
      "  . Most correlated bigrams:\n",
      "       . planets detected\n",
      "       . radial velocity\n",
      "# 'Images were taken at a minimum of two observation epochs to check whether detected companion candidates are co-moving with the primary stars.':\n",
      "  . Most correlated unigrams:\n",
      "       . planets\n",
      "       . dwarf\n",
      "  . Most correlated bigrams:\n",
      "       . planets detected\n",
      "       . radial velocity\n",
      "# 'In addition, a substantial number of variable stars have been detected.':\n",
      "  . Most correlated unigrams:\n",
      "       . planets\n",
      "       . dwarf\n",
      "  . Most correlated bigrams:\n",
      "       . planets detected\n",
      "       . radial velocity\n",
      "# 'In the case of HD 142245, we found evidence that the detected companion is actually a close binary itself with a projected separation of only about 4 au, i.e. HD 142245 might be a hierarchical triple stellar system, which hosts an exoplanet, a new member in the short list of such systems, presently known.':\n",
      "  . Most correlated unigrams:\n",
      "       . planets\n",
      "       . dwarf\n",
      "  . Most correlated bigrams:\n",
      "       . planets detected\n",
      "       . radial velocity\n",
      "# 'In the last decade, the number of detected exoplanets has increased to over thousand confirmed planets and more as yet unconfirmed planet candidates.':\n",
      "  . Most correlated unigrams:\n",
      "       . planets\n",
      "       . dwarf\n",
      "  . Most correlated bigrams:\n",
      "       . planets detected\n",
      "       . radial velocity\n",
      "# 'In this framework, asteroseismic studies represent an excellent tool to determine the structural differences between stars with and without detected planets.':\n",
      "  . Most correlated unigrams:\n",
      "       . planets\n",
      "       . dwarf\n",
      "  . Most correlated bigrams:\n",
      "       . planets detected\n",
      "       . radial velocity\n",
      "# 'In this work, we present our statistical analysis of the outliers thus detected.':\n",
      "  . Most correlated unigrams:\n",
      "       . planets\n",
      "       . dwarf\n",
      "  . Most correlated bigrams:\n",
      "       . planets detected\n",
      "       . radial velocity\n",
      "# 'Intranight variability was not detected from all of these light curves.':\n",
      "  . Most correlated unigrams:\n",
      "       . planets\n",
      "       . dwarf\n",
      "  . Most correlated bigrams:\n",
      "       . planets detected\n",
      "       . radial velocity\n",
      "# 'Just two of 10 extrasolar planets found by microlensing have been detected by the planetary caustic, despite the higher probability of planet detection relative to the central caustic, which has been responsible for four extrasolar planet detections.':\n",
      "  . Most correlated unigrams:\n",
      "       . planets\n",
      "       . dwarf\n",
      "  . Most correlated bigrams:\n",
      "       . planets detected\n",
      "       . radial velocity\n",
      "# 'Kepler has detected numerous exoplanet transits by measuring stellar light in a single visible-wavelength band.':\n",
      "  . Most correlated unigrams:\n",
      "       . planets\n",
      "       . dwarf\n",
      "  . Most correlated bigrams:\n",
      "       . planets detected\n",
      "       . radial velocity\n",
      "# 'Kepler-47 is the first multi-body circumbinary planetary system detected by the Kepler space telescope.':\n",
      "  . Most correlated unigrams:\n",
      "       . planets\n",
      "       . dwarf\n",
      "  . Most correlated bigrams:\n",
      "       . planets detected\n",
      "       . radial velocity\n",
      "# 'Likewise, Ganymede observations were attempted at 3.6 μm by the Spitzer Space Telescope, but it was not detected, suggesting a significant wavelength dependence.':\n",
      "  . Most correlated unigrams:\n",
      "       . planets\n",
      "       . dwarf\n",
      "  . Most correlated bigrams:\n",
      "       . planets detected\n",
      "       . radial velocity\n",
      "# 'Nearly all of the 100 plus extrasolar planets discovered to date have been detected via precise (3--6 m s^-1) radial velocity measurements of solar-type stars.':\n",
      "  . Most correlated unigrams:\n",
      "       . planets\n",
      "       . dwarf\n",
      "  . Most correlated bigrams:\n",
      "       . planets detected\n",
      "       . radial velocity\n",
      "# 'No absorptions are detected for other lines.':\n",
      "  . Most correlated unigrams:\n",
      "       . planets\n",
      "       . dwarf\n",
      "  . Most correlated bigrams:\n",
      "       . planets detected\n",
      "       . radial velocity\n",
      "# 'No multiplets were detected leaving EC 01541-1409 as yet another rich p-mode sdB pulsator without these features, limiting observational constraints on pulsation modes.':\n",
      "  . Most correlated unigrams:\n",
      "       . planets\n",
      "       . dwarf\n",
      "  . Most correlated bigrams:\n",
      "       . planets detected\n",
      "       . radial velocity\n",
      "# 'Of the 1919 main-sequence exoplanet hosts analyzed, robust rotation periods were detected for 737.':\n",
      "  . Most correlated unigrams:\n",
      "       . planets\n",
      "       . dwarf\n",
      "  . Most correlated bigrams:\n",
      "       . planets detected\n",
      "       . radial velocity\n",
      "# 'Of the over 800 exoplanets detected to date, over half are on non-circular orbits, with eccentricities as high as 0.93.':\n",
      "  . Most correlated unigrams:\n",
      "       . planets\n",
      "       . dwarf\n",
      "  . Most correlated bigrams:\n",
      "       . planets detected\n",
      "       . radial velocity\n",
      "# 'On July 16, 2009, we detected a 3σ emission whose light curve is consistent with an eclipse when the planet passed behind the star.':\n",
      "  . Most correlated unigrams:\n",
      "       . planets\n",
      "       . dwarf\n",
      "  . Most correlated bigrams:\n",
      "       . planets detected\n",
      "       . radial velocity\n",
      "# 'Our historical monitoring has detected high-velocity spectral features (~13,000 km s^-1) in 2011 September, one year before the current SN-like event.':\n",
      "  . Most correlated unigrams:\n",
      "       . planets\n",
      "       . dwarf\n",
      "  . Most correlated bigrams:\n",
      "       . planets detected\n",
      "       . radial velocity\n",
      "# 'Our results can thus be used to constrain the icy/volatile phase composition of cold planets evidenced by microlensing surveys, hypothetical ocean planets, and carbon planets, which could be detected by COROT or Kepler.':\n",
      "  . Most correlated unigrams:\n",
      "       . planets\n",
      "       . dwarf\n",
      "  . Most correlated bigrams:\n",
      "       . planets detected\n",
      "       . radial velocity\n",
      "# 'Our work addresses analysis of stellar reflex motion data, where a planet is detected by observing the \"wobble\" of its host star as it responds to the gravitational tug of the orbiting planet.':\n",
      "  . Most correlated unigrams:\n",
      "       . planets\n",
      "       . dwarf\n",
      "  . Most correlated bigrams:\n",
      "       . planets detected\n",
      "       . radial velocity\n",
      "# 'Over 100 extrasolar planets have been already detected, the vast majority of which by radial velocity measurements.':\n",
      "  . Most correlated unigrams:\n",
      "       . planets\n",
      "       . dwarf\n",
      "  . Most correlated bigrams:\n",
      "       . planets detected\n",
      "       . radial velocity\n",
      "# 'Planets lying in this zone are then more easily detected with the radial-velocity method [3], the most successful in detecting exoplanets.':\n",
      "  . Most correlated unigrams:\n",
      "       . planets\n",
      "       . dwarf\n",
      "  . Most correlated bigrams:\n",
      "       . planets detected\n",
      "       . radial velocity\n",
      "# 'Shadows have been detected in several protoplanetary disks, suggesting that misalignment in disks is not uncommon.':\n",
      "  . Most correlated unigrams:\n",
      "       . planets\n",
      "       . dwarf\n",
      "  . Most correlated bigrams:\n",
      "       . planets detected\n",
      "       . radial velocity\n",
      "# 'Since this is the first planet detected orbiting a fast rotating star, the uncertainties in both the radial-velocity measurements and the planetary mass are larger than for most other planets discovered to date.':\n",
      "  . Most correlated unigrams:\n",
      "       . planets\n",
      "       . dwarf\n",
      "  . Most correlated bigrams:\n",
      "       . planets detected\n",
      "       . radial velocity\n",
      "# 'Subsequently, the number of planets detected by microlensing is increasing.':\n",
      "  . Most correlated unigrams:\n",
      "       . planets\n",
      "       . dwarf\n",
      "  . Most correlated bigrams:\n",
      "       . planets detected\n",
      "       . radial velocity\n",
      "# 'Supplemental slit-scanning spectroscopy using adaptive optics was performed within 0.38\" of HD 141569A to search for extended emission from H^+_3, but no emission was detected.':\n",
      "  . Most correlated unigrams:\n",
      "       . planets\n",
      "       . dwarf\n",
      "  . Most correlated bigrams:\n",
      "       . planets detected\n",
      "       . radial velocity\n",
      "# 'The 2004 flux density was 0.05 Jy, about an order of magnitude lower than the single 2003 burst and the five bursts detected in 2002.':\n",
      "  . Most correlated unigrams:\n",
      "       . planets\n",
      "       . dwarf\n",
      "  . Most correlated bigrams:\n",
      "       . planets detected\n",
      "       . radial velocity\n",
      "# 'The DCO^+ line is detected in the HD 169142 disk with a total integrated line flux of 730 ± 73 mJy km s^-1.':\n",
      "  . Most correlated unigrams:\n",
      "       . planets\n",
      "       . dwarf\n",
      "  . Most correlated bigrams:\n",
      "       . planets detected\n",
      "       . radial velocity\n",
      "# 'The PLATO space-based data will be complemented by ground-based follow-up observations, in particular very precise radial velocity monitoring, which will be used to confirm the planetary nature of the detected events and to measure the planet masses.':\n",
      "  . Most correlated unigrams:\n",
      "       . planets\n",
      "       . dwarf\n",
      "  . Most correlated bigrams:\n",
      "       . planets detected\n",
      "       . radial velocity\n",
      "# 'The VIRT has begun reacting autonomously to the gamma-ray coordinates network (GCN) alerts in 2017 and, despite the challenges presented to the Caribbean region by hurricanes Irma and Maria, was a participant in the follow-up campaign of GW170817, the first source simultaneously detected in gravitational waves and electromagnetic waves.':\n",
      "  . Most correlated unigrams:\n",
      "       . planets\n",
      "       . dwarf\n",
      "  . Most correlated bigrams:\n",
      "       . planets detected\n",
      "       . radial velocity\n",
      "# 'The analysis of the combined HIRES/HARPS data again only reliably detected the 5.37 and 12.9 d periods.':\n",
      "  . Most correlated unigrams:\n",
      "       . planets\n",
      "       . dwarf\n",
      "  . Most correlated bigrams:\n",
      "       . planets detected\n",
      "       . radial velocity\n",
      "# 'The combined spectrum is very different from the predictions of cloud-free models for hot Jupiters: it is dominated by Rayleigh scattering over the whole visible and near-infrared range, the only detected features being narrow sodium and potassium lines.':\n",
      "  . Most correlated unigrams:\n",
      "       . planets\n",
      "       . dwarf\n",
      "  . Most correlated bigrams:\n",
      "       . planets detected\n",
      "       . radial velocity\n",
      "# 'The debris disk of HIP 73145 has been detected in scattered light in the near-IR, and at far-IR wavelengths before, but no substructure has been seen so far.':\n",
      "  . Most correlated unigrams:\n",
      "       . planets\n",
      "       . dwarf\n",
      "  . Most correlated bigrams:\n",
      "       . planets detected\n",
      "       . radial velocity\n",
      "# 'The detected induced magnetic field infers a saline ocean layer.':\n",
      "  . Most correlated unigrams:\n",
      "       . planets\n",
      "       . dwarf\n",
      "  . Most correlated bigrams:\n",
      "       . planets detected\n",
      "       . radial velocity\n",
      "# 'The detected planets shepherd the outer cool debris belt.':\n",
      "  . Most correlated unigrams:\n",
      "       . planets\n",
      "       . dwarf\n",
      "  . Most correlated bigrams:\n",
      "       . planets detected\n",
      "       . radial velocity\n",
      "# 'The detected signals are dominated by events with relatively low signal-to-noise ratios and by events with relatively short periods.':\n",
      "  . Most correlated unigrams:\n",
      "       . planets\n",
      "       . dwarf\n",
      "  . Most correlated bigrams:\n",
      "       . planets detected\n",
      "       . radial velocity\n",
      "# 'The instrument uses two emCCD cameras providing simultaneous dual-color observations help to characterize detected companions.':\n",
      "  . Most correlated unigrams:\n",
      "       . planets\n",
      "       . dwarf\n",
      "  . Most correlated bigrams:\n",
      "       . planets detected\n",
      "       . radial velocity\n",
      "# 'The observing campaigns presented here reveal no pulsations other than the initially detected frequency.':\n",
      "  . Most correlated unigrams:\n",
      "       . planets\n",
      "       . dwarf\n",
      "  . Most correlated bigrams:\n",
      "       . planets detected\n",
      "       . radial velocity\n",
      "# 'The orbital companion of Fomalhaut, Fomalhaut b, is detected in multi-color, coronagraphic observations acquired with the Hubble Space Telescope using the high-resolution channel of the Advanced Camera for Surveys.':\n",
      "  . Most correlated unigrams:\n",
      "       . planets\n",
      "       . dwarf\n",
      "  . Most correlated bigrams:\n",
      "       . planets detected\n",
      "       . radial velocity\n",
      "# 'The pre-transit signal is again detected in the Balmer lines but with variable strength and timing, suggesting that the bow shock geometry reported in our previous work does not describe the signal from the latest transit.':\n",
      "  . Most correlated unigrams:\n",
      "       . planets\n",
      "       . dwarf\n",
      "  . Most correlated bigrams:\n",
      "       . planets detected\n",
      "       . radial velocity\n",
      "# 'The presence of the close-in massive planet could also be an interpretation for the high level of stellar activity detected.':\n",
      "  . Most correlated unigrams:\n",
      "       . planets\n",
      "       . dwarf\n",
      "  . Most correlated bigrams:\n",
      "       . planets detected\n",
      "       . radial velocity\n",
      "# 'The properties of the detected systems are described, emphasizing 1) the questions set by the peculiarities of the new planets (large mass, large eccentricity, small separation) and the proposed answers and 2) the first statistical trends pointed out from the sample gathered so far (clear different formation processes for planet and binaries from the planetary mass and orbital-element distributions, the high metal content of stars hosting planets).':\n",
      "  . Most correlated unigrams:\n",
      "       . planets\n",
      "       . dwarf\n",
      "  . Most correlated bigrams:\n",
      "       . planets detected\n",
      "       . radial velocity\n",
      "# 'The spectral type is estimated to be M7 (̃2700 K), and thus no methane absorption is detected in the H band.':\n",
      "  . Most correlated unigrams:\n",
      "       . planets\n",
      "       . dwarf\n",
      "  . Most correlated bigrams:\n",
      "       . planets detected\n",
      "       . radial velocity\n",
      "# 'The structures detected at millimeter wavelengths could be gaps in the distributions of large grains on the disk midplane caused by planets not massive enough to fully open the gaps.':\n",
      "  . Most correlated unigrams:\n",
      "       . planets\n",
      "       . dwarf\n",
      "  . Most correlated bigrams:\n",
      "       . planets detected\n",
      "       . radial velocity\n",
      "# 'The transmission signal of oxygen from an Earth-twin orbiting a small red dwarf star is only a factor of three smaller than that of carbon monoxide recently detected in the hot Jupiter τ Boötis b, albeit such a star will be orders of magnitude fainter.':\n",
      "  . Most correlated unigrams:\n",
      "       . planets\n",
      "       . dwarf\n",
      "  . Most correlated bigrams:\n",
      "       . planets detected\n",
      "       . radial velocity\n",
      "# 'These exotic stars have a binary frequency of (at least) 80%, more than three times that detected for stars in the remainder of the sample.':\n",
      "  . Most correlated unigrams:\n",
      "       . planets\n",
      "       . dwarf\n",
      "  . Most correlated bigrams:\n",
      "       . planets detected\n",
      "       . radial velocity\n",
      "# 'This disfavours the possibility of GI-caused spiral structure in systems with q&lt;0.25 being detected in relatively short integration times, such as those found in the DSHARP ALMA survey (Andrews et al. 2018; Huang et al. 2018).':\n",
      "  . Most correlated unigrams:\n",
      "       . planets\n",
      "       . dwarf\n",
      "  . Most correlated bigrams:\n",
      "       . planets detected\n",
      "       . radial velocity\n",
      "# 'This provokes the question of whether exoplanets have aurorae, and whether their aurorae can be detected.':\n",
      "  . Most correlated unigrams:\n",
      "       . planets\n",
      "       . dwarf\n",
      "  . Most correlated bigrams:\n",
      "       . planets detected\n",
      "       . radial velocity\n",
      "# 'This statement is supported by a figure given in the article, which shows a primary signal with a depth of 6 mmag, detected with 4σ confidence and a possible secondary signal with a depth of 2 mmag.':\n",
      "  . Most correlated unigrams:\n",
      "       . planets\n",
      "       . dwarf\n",
      "  . Most correlated bigrams:\n",
      "       . planets detected\n",
      "       . radial velocity\n",
      "# 'Using design reference missions and other simulations, we explore the potential of TPF-O to find planets in the habitable zone around their central stars, to spectrally characterize the atmospheres of detected planets, and to obtain rudimentary information about their orbits.':\n",
      "  . Most correlated unigrams:\n",
      "       . planets\n",
      "       . dwarf\n",
      "  . Most correlated bigrams:\n",
      "       . planets detected\n",
      "       . radial velocity\n",
      "# 'Using the cumulative catalog of planets detected by the NASA Kepler mission, we reconstruct the intrinsic occurrence of Earth- to Neptune-size (1-4 R _⊕) planets and their distributions with radius and orbital period.':\n",
      "  . Most correlated unigrams:\n",
      "       . planets\n",
      "       . dwarf\n",
      "  . Most correlated bigrams:\n",
      "       . planets detected\n",
      "       . radial velocity\n",
      "# 'Using these data and photometry from the Spitzer Space Telescope, we have identified members with infrared excess emission from circumstellar disks and have estimated the evolutionary stages of the detected disks, which include 31 new full disks and 16 new candidate transitional, evolved, evolved transitional, and debris disks.':\n",
      "  . Most correlated unigrams:\n",
      "       . planets\n",
      "       . dwarf\n",
      "  . Most correlated bigrams:\n",
      "       . planets detected\n",
      "       . radial velocity\n",
      "# 'We also discuss the usefulness of this method given that some planets might be not detected, but still affect the overall stability of the system.':\n",
      "  . Most correlated unigrams:\n",
      "       . planets\n",
      "       . dwarf\n",
      "  . Most correlated bigrams:\n",
      "       . planets detected\n",
      "       . radial velocity\n",
      "# 'We detected a p.d.f. pattern that represents an upturn followed by an overshooting peak spanning P̃':\n",
      "  . Most correlated unigrams:\n",
      "       . planets\n",
      "       . dwarf\n",
      "  . Most correlated bigrams:\n",
      "       . planets detected\n",
      "       . radial velocity\n",
      "# 'We detected four out-of-transit u’ band events consistent with stellar flares.':\n",
      "  . Most correlated unigrams:\n",
      "       . planets\n",
      "       . dwarf\n",
      "  . Most correlated bigrams:\n",
      "       . planets detected\n",
      "       . radial velocity\n",
      "# 'We detected possible periodic variations in the duration of the exoplanet transit across the stellar disk with time for HAT-P-12b that could be caused by variations in orbital inclination.':\n",
      "  . Most correlated unigrams:\n",
      "       . planets\n",
      "       . dwarf\n",
      "  . Most correlated bigrams:\n",
      "       . planets detected\n",
      "       . radial velocity\n",
      "# 'We detected visual companions within 1'' for 5 stars, between 1'' and 2'' for 7 stars, and between 2'' and 4'' for 15 stars.':\n",
      "  . Most correlated unigrams:\n",
      "       . planets\n",
      "       . dwarf\n",
      "  . Most correlated bigrams:\n",
      "       . planets detected\n",
      "       . radial velocity\n",
      "# 'We find that a close-in Jupiter-like planet orbiting at 0.05 AU presents a radio power that is ~5 orders of magnitude larger than the one observed in Jupiter, which suggests that the stellar wind from a young star has the potential to generate strong planetary radio emission that could be detected in the near future with LOFAR.':\n",
      "  . Most correlated unigrams:\n",
      "       . planets\n",
      "       . dwarf\n",
      "  . Most correlated bigrams:\n",
      "       . planets detected\n",
      "       . radial velocity\n",
      "# 'We find that for these false positive scenarios, CO at 2.35 μm, CO_2 at 2.0 and 4.3 μm, and O_4 at 1.27 μm are all stronger features in transmission than O_2/O_3 and could be detected with S/Ns ≳ 3 for an Earth-size planet orbiting a nearby M dwarf star with as few as 10 transits, assuming photon-limited noise.':\n",
      "  . Most correlated unigrams:\n",
      "       . planets\n",
      "       . dwarf\n",
      "  . Most correlated bigrams:\n",
      "       . planets detected\n",
      "       . radial velocity\n",
      "# 'We find that stellar wind drag can dominate the circumstellar grain removal and plausibly explain the dearth of M dwarf systems older than 10 Myr with currently detected infrared excesses.':\n",
      "  . Most correlated unigrams:\n",
      "       . planets\n",
      "       . dwarf\n",
      "  . Most correlated bigrams:\n",
      "       . planets detected\n",
      "       . radial velocity\n",
      "# 'We find that such objects can feasibly be detected by a ground-based transit survey if their formation frequency is high and if correlated noise can be controlled to sub-milli-magnitude levels.':\n",
      "  . Most correlated unigrams:\n",
      "       . planets\n",
      "       . dwarf\n",
      "  . Most correlated bigrams:\n",
      "       . planets detected\n",
      "       . radial velocity\n",
      "# 'We found that about half the stars are too faint for the granulation background to be reliably detected above the white noise.':\n",
      "  . Most correlated unigrams:\n",
      "       . planets\n",
      "       . dwarf\n",
      "  . Most correlated bigrams:\n",
      "       . planets detected\n",
      "       . radial velocity\n",
      "# 'We further discuss a speckle subtraction and suppression technique that fully takes advantage of spectral and time-domain information on quasi-static speckles to measure the highest-fidelity photometry as well as accurate astrometry of detected companions.':\n",
      "  . Most correlated unigrams:\n",
      "       . planets\n",
      "       . dwarf\n",
      "  . Most correlated bigrams:\n",
      "       . planets detected\n",
      "       . radial velocity\n",
      "# 'We have detected and confirmed radio flares from the T6.5 dwarf':\n",
      "  . Most correlated unigrams:\n",
      "       . planets\n",
      "       . dwarf\n",
      "  . Most correlated bigrams:\n",
      "       . planets detected\n",
      "       . radial velocity\n",
      "# 'We have detected rotation in seven dM1e stars and 11 dM1 stars and upper limits for 20 other dM1 stars.':\n",
      "  . Most correlated unigrams:\n",
      "       . planets\n",
      "       . dwarf\n",
      "  . Most correlated bigrams:\n",
      "       . planets detected\n",
      "       . radial velocity\n",
      "# 'We have detected the surface magnetic field as circularly polarized signatures in the 819 nm sodium lines when an active emission region faced the Earth.':\n",
      "  . Most correlated unigrams:\n",
      "       . planets\n",
      "       . dwarf\n",
      "  . Most correlated bigrams:\n",
      "       . planets detected\n",
      "       . radial velocity\n",
      "# 'We measure the flux of the four stellar emission features detected in the COS spectrum (C II, C III, C IV, Si IV).':\n",
      "  . Most correlated unigrams:\n",
      "       . planets\n",
      "       . dwarf\n",
      "  . Most correlated bigrams:\n",
      "       . planets detected\n",
      "       . radial velocity\n",
      "# 'We present the discovery of two planetary systems consisting of a Saturn-mass planet orbiting an M-dwarf, which were detected in faint microlensing events OGLE-2013-BLG-0132 and OGLE-2013-BLG-1721.':\n",
      "  . Most correlated unigrams:\n",
      "       . planets\n",
      "       . dwarf\n",
      "  . Most correlated bigrams:\n",
      "       . planets detected\n",
      "       . radial velocity\n",
      "# 'We present two exoplanets detected at Keck Observatory.':\n",
      "  . Most correlated unigrams:\n",
      "       . planets\n",
      "       . dwarf\n",
      "  . Most correlated bigrams:\n",
      "       . planets detected\n",
      "       . radial velocity\n",
      "# 'We report absorption in atomic magnesium (Mg i), while no signal has been detected in the lines of singly ionized magnesium (Mg ii).':\n",
      "  . Most correlated unigrams:\n",
      "       . planets\n",
      "       . dwarf\n",
      "  . Most correlated bigrams:\n",
      "       . planets detected\n",
      "       . radial velocity\n",
      "# 'We report the discovery of six new substellar companions of main-sequence stars, detected by multiple Doppler measurements with the instrument HARPS installed on the ESO 3.6m telescope, La Silla, Chile.':\n",
      "  . Most correlated unigrams:\n",
      "       . planets\n",
      "       . dwarf\n",
      "  . Most correlated bigrams:\n",
      "       . planets detected\n",
      "       . radial velocity\n",
      "# 'We searched for a transit signature of HD 77338b but none was detected.':\n",
      "  . Most correlated unigrams:\n",
      "       . planets\n",
      "       . dwarf\n",
      "  . Most correlated bigrams:\n",
      "       . planets detected\n",
      "       . radial velocity\n",
      "# 'While the discovery of α Cen Bb has shown that terrestrial planets can be detected in solar-type binary stars using current observational facilities, it remains to be shown whether this is also the case for Earth analogs in HZs.':\n",
      "  . Most correlated unigrams:\n",
      "       . planets\n",
      "       . dwarf\n",
      "  . Most correlated bigrams:\n",
      "       . planets detected\n",
      "       . radial velocity\n",
      "# 'While the original Kepler mission detected systems with up to seven planets, K2 had yet to detect systems with more than three candidates until now.':\n",
      "  . Most correlated unigrams:\n",
      "       . planets\n",
      "       . dwarf\n",
      "  . Most correlated bigrams:\n",
      "       . planets detected\n",
      "       . radial velocity\n",
      "# 'With the rapid developments in the exoplanet field, more and more terrestrial exoplanets are being detected.':\n",
      "  . Most correlated unigrams:\n",
      "       . planets\n",
      "       . dwarf\n",
      "  . Most correlated bigrams:\n",
      "       . planets detected\n",
      "       . radial velocity\n",
      "# 'arXiv:1006.2815) is being continuously augmented as more data are collected and EBs are detected at longer periods.':\n",
      "  . Most correlated unigrams:\n",
      "       . planets\n",
      "       . dwarf\n",
      "  . Most correlated bigrams:\n",
      "       . planets detected\n",
      "       . radial velocity\n",
      "# 'giant planet at ∼0.5 AU, but HD 80607 has no detected planets.':\n",
      "  . Most correlated unigrams:\n",
      "       . planets\n",
      "       . dwarf\n",
      "  . Most correlated bigrams:\n",
      "       . planets detected\n",
      "       . radial velocity\n",
      "# '≲20 M _Jup possess actively accreting subdisks detected via Paβ line emission, which represents a lower limit on the prevalence of circumplanetary disks in general, as some are expected to be in a quiescent phase of accretion.':\n",
      "  . Most correlated unigrams:\n",
      "       . planets\n",
      "       . dwarf\n",
      "  . Most correlated bigrams:\n",
      "       . planets detected\n",
      "       . radial velocity\n"
     ]
    }
   ],
   "source": [
    "from sklearn.feature_selection import chi2\n",
    "import numpy as np\n",
    "\n",
    "N = 2\n",
    "for Product, category_id in sorted(category_to_id.items()):\n",
    "    features_chi2 = chi2(features, labels)\n",
    "    indices = np.argsort(features_chi2[0])\n",
    "    feature_names = np.array(tfidf.get_feature_names())[indices]\n",
    "    unigrams = [v for v in feature_names if len(v.split(' ')) == 1]\n",
    "    bigrams = [v for v in feature_names if len(v.split(' ')) == 2]\n",
    "    print(\"# '{}':\".format(Product))\n",
    "    print(\"  . Most correlated unigrams:\\n       . {}\".format('\\n       . '.join(unigrams[-N:])))\n",
    "    print(\"  . Most correlated bigrams:\\n       . {}\".format('\\n       . '.join(bigrams[-N:])))"
   ]
  },
  {
   "cell_type": "code",
   "execution_count": 31,
   "metadata": {},
   "outputs": [
    {
     "data": {
      "text/plain": [
       "array(['lines', 'events', 'microlensing', 'space', 'kepler', 'transit',\n",
       "       'star', 'features', 'orbital', 'companions', 'earth', 'au',\n",
       "       'orbiting', 'hd', 'based', 'observations', 'data', 'exoplanet',\n",
       "       'planetary', 'present', 'stellar', '10', 'ground', 'systems',\n",
       "       'stars', 'measurements', 'signal', 'using', 'high', 'mass',\n",
       "       'velocity', 'telescope', 'planet', 'method', 'candidates',\n",
       "       'exoplanets', 'radial', 'near', 'planets detected', 'detected',\n",
       "       'emission', 'radial velocity', 'planets', 'dwarf'], dtype='<U16')"
      ]
     },
     "execution_count": 31,
     "metadata": {},
     "output_type": "execute_result"
    }
   ],
   "source": [
    "feature_names"
   ]
  },
  {
   "cell_type": "code",
   "execution_count": 32,
   "metadata": {
    "collapsed": true
   },
   "outputs": [],
   "source": [
    "from sklearn.model_selection import train_test_split\n",
    "from sklearn.feature_extraction.text import CountVectorizer\n",
    "from sklearn.feature_extraction.text import TfidfTransformer\n",
    "from sklearn.naive_bayes import MultinomialNB\n",
    "\n",
    "X_train, X_test, y_train, y_test = train_test_split(df['sent'], df['label'], random_state = 0)\n",
    "count_vect = CountVectorizer()\n",
    "X_train_counts = count_vect.fit_transform(X_train)\n",
    "tfidf_transformer = TfidfTransformer()\n",
    "X_train_tfidf = tfidf_transformer.fit_transform(X_train_counts)\n",
    "\n",
    "clf = MultinomialNB().fit(X_train_tfidf, y_train)"
   ]
  },
  {
   "cell_type": "code",
   "execution_count": 33,
   "metadata": {},
   "outputs": [
    {
     "name": "stdout",
     "output_type": "stream",
     "text": [
      "['discovery']\n"
     ]
    }
   ],
   "source": [
    "print(clf.predict(count_vect.transform([df.sent[0]])))"
   ]
  },
  {
   "cell_type": "code",
   "execution_count": 34,
   "metadata": {},
   "outputs": [
    {
     "name": "stdout",
     "output_type": "stream",
     "text": [
      "['None']\n"
     ]
    }
   ],
   "source": [
    "print(clf.predict(count_vect.transform([df.sent[20]])))"
   ]
  },
  {
   "cell_type": "code",
   "execution_count": 35,
   "metadata": {},
   "outputs": [
    {
     "data": {
      "text/html": [
       "<div>\n",
       "<style scoped>\n",
       "    .dataframe tbody tr th:only-of-type {\n",
       "        vertical-align: middle;\n",
       "    }\n",
       "\n",
       "    .dataframe tbody tr th {\n",
       "        vertical-align: top;\n",
       "    }\n",
       "\n",
       "    .dataframe thead th {\n",
       "        text-align: right;\n",
       "    }\n",
       "</style>\n",
       "<table border=\"1\" class=\"dataframe\">\n",
       "  <thead>\n",
       "    <tr style=\"text-align: right;\">\n",
       "      <th></th>\n",
       "      <th>sent</th>\n",
       "      <th>label</th>\n",
       "      <th>category_id</th>\n",
       "    </tr>\n",
       "  </thead>\n",
       "  <tbody>\n",
       "    <tr>\n",
       "      <th>0</th>\n",
       "      <td>We detected visual companions within 1'' for 5...</td>\n",
       "      <td>discovery</td>\n",
       "      <td>0</td>\n",
       "    </tr>\n",
       "  </tbody>\n",
       "</table>\n",
       "</div>"
      ],
      "text/plain": [
       "                                                sent      label  category_id\n",
       "0  We detected visual companions within 1'' for 5...  discovery            0"
      ]
     },
     "execution_count": 35,
     "metadata": {},
     "output_type": "execute_result"
    }
   ],
   "source": [
    "df[df['sent'] == df.sent[0]]"
   ]
  },
  {
   "cell_type": "code",
   "execution_count": 36,
   "metadata": {},
   "outputs": [
    {
     "data": {
      "text/html": [
       "<div>\n",
       "<style scoped>\n",
       "    .dataframe tbody tr th:only-of-type {\n",
       "        vertical-align: middle;\n",
       "    }\n",
       "\n",
       "    .dataframe tbody tr th {\n",
       "        vertical-align: top;\n",
       "    }\n",
       "\n",
       "    .dataframe thead th {\n",
       "        text-align: right;\n",
       "    }\n",
       "</style>\n",
       "<table border=\"1\" class=\"dataframe\">\n",
       "  <thead>\n",
       "    <tr style=\"text-align: right;\">\n",
       "      <th></th>\n",
       "      <th>sent</th>\n",
       "      <th>label</th>\n",
       "      <th>category_id</th>\n",
       "    </tr>\n",
       "  </thead>\n",
       "  <tbody>\n",
       "    <tr>\n",
       "      <th>20</th>\n",
       "      <td>The structures detected at millimeter waveleng...</td>\n",
       "      <td>None</td>\n",
       "      <td>1</td>\n",
       "    </tr>\n",
       "  </tbody>\n",
       "</table>\n",
       "</div>"
      ],
      "text/plain": [
       "                                                 sent label  category_id\n",
       "20  The structures detected at millimeter waveleng...  None            1"
      ]
     },
     "execution_count": 36,
     "metadata": {},
     "output_type": "execute_result"
    }
   ],
   "source": [
    "df[df['sent'] == df.sent[20]]"
   ]
  },
  {
   "cell_type": "code",
   "execution_count": 37,
   "metadata": {},
   "outputs": [
    {
     "name": "stderr",
     "output_type": "stream",
     "text": [
      "C:\\ProgramData\\Anaconda3\\lib\\site-packages\\sklearn\\linear_model\\logistic.py:433: FutureWarning: Default solver will be changed to 'lbfgs' in 0.22. Specify a solver to silence this warning.\n",
      "  FutureWarning)\n",
      "C:\\ProgramData\\Anaconda3\\lib\\site-packages\\sklearn\\linear_model\\logistic.py:433: FutureWarning: Default solver will be changed to 'lbfgs' in 0.22. Specify a solver to silence this warning.\n",
      "  FutureWarning)\n",
      "C:\\ProgramData\\Anaconda3\\lib\\site-packages\\sklearn\\linear_model\\logistic.py:433: FutureWarning: Default solver will be changed to 'lbfgs' in 0.22. Specify a solver to silence this warning.\n",
      "  FutureWarning)\n",
      "C:\\ProgramData\\Anaconda3\\lib\\site-packages\\sklearn\\linear_model\\logistic.py:433: FutureWarning: Default solver will be changed to 'lbfgs' in 0.22. Specify a solver to silence this warning.\n",
      "  FutureWarning)\n",
      "C:\\ProgramData\\Anaconda3\\lib\\site-packages\\sklearn\\linear_model\\logistic.py:433: FutureWarning: Default solver will be changed to 'lbfgs' in 0.22. Specify a solver to silence this warning.\n",
      "  FutureWarning)\n"
     ]
    }
   ],
   "source": [
    "from sklearn.linear_model import LogisticRegression\n",
    "from sklearn.ensemble import RandomForestClassifier\n",
    "from sklearn.naive_bayes import MultinomialNB\n",
    "from sklearn.svm import LinearSVC\n",
    "\n",
    "from sklearn.model_selection import cross_val_score\n",
    "\n",
    "\n",
    "models = [\n",
    "    RandomForestClassifier(n_estimators=200, max_depth=3, random_state=0),\n",
    "    LinearSVC(),\n",
    "    MultinomialNB(),\n",
    "    LogisticRegression(random_state=0),\n",
    "]\n",
    "CV = 5\n",
    "cv_df = pd.DataFrame(index=range(CV * len(models)))\n",
    "entries = []\n",
    "for model in models:\n",
    "    model_name = model.__class__.__name__\n",
    "    accuracies = cross_val_score(model, features, labels, scoring='accuracy', cv=CV)\n",
    "    for fold_idx, accuracy in enumerate(accuracies):\n",
    "        entries.append((model_name, fold_idx, accuracy))\n",
    "cv_df = pd.DataFrame(entries, columns=['model_name', 'fold_idx', 'accuracy'])"
   ]
  },
  {
   "cell_type": "code",
   "execution_count": 38,
   "metadata": {},
   "outputs": [
    {
     "data": {
      "image/png": "[encoded data removed]",
      "text/plain": [
       "<Figure size 432x288 with 1 Axes>"
      ]
     },
     "metadata": {
      "needs_background": "light"
     },
     "output_type": "display_data"
    }
   ],
   "source": [
    "import seaborn as sns\n",
    "\n",
    "sns.boxplot(x='model_name', y='accuracy', data=cv_df)\n",
    "sns.stripplot(x='model_name', y='accuracy', data=cv_df, \n",
    "              size=8, jitter=True, edgecolor=\"gray\", linewidth=2)\n",
    "plt.show()"
   ]
  },
  {
   "cell_type": "code",
   "execution_count": 39,
   "metadata": {},
   "outputs": [
    {
     "data": {
      "text/plain": [
       "model_name\n",
       "LinearSVC                 0.52\n",
       "LogisticRegression        0.59\n",
       "MultinomialNB             0.48\n",
       "RandomForestClassifier    0.57\n",
       "Name: accuracy, dtype: float64"
      ]
     },
     "execution_count": 39,
     "metadata": {},
     "output_type": "execute_result"
    }
   ],
   "source": [
    "cv_df.groupby('model_name').accuracy.mean()"
   ]
  },
  {
   "cell_type": "code",
   "execution_count": 40,
   "metadata": {
    "collapsed": true
   },
   "outputs": [],
   "source": [
    "from sklearn.model_selection import train_test_split\n",
    "\n",
    "model = LinearSVC()\n",
    "\n",
    "X_train, X_test, y_train, y_test, indices_train, indices_test = train_test_split(features, labels, df.index, test_size=0.33, random_state=0)\n",
    "model.fit(X_train, y_train)\n",
    "y_pred = model.predict(X_test)"
   ]
  },
  {
   "cell_type": "code",
   "execution_count": 41,
   "metadata": {},
   "outputs": [
    {
     "data": {
      "image/png": "[encoded data removed]",
      "text/plain": [
       "<Figure size 576x432 with 2 Axes>"
      ]
     },
     "metadata": {
      "needs_background": "light"
     },
     "output_type": "display_data"
    }
   ],
   "source": [
    "from sklearn.metrics import confusion_matrix\n",
    "\n",
    "conf_mat = confusion_matrix(y_test, y_pred)\n",
    "fig, ax = plt.subplots(figsize=(8,6))\n",
    "sns.heatmap(conf_mat, annot=True, fmt='d',\n",
    "            xticklabels=list(set(category_id_df.label.values)), yticklabels=list(set(category_id_df.label.values)))\n",
    "plt.ylabel('Actual')\n",
    "plt.xlabel('Predicted')\n",
    "plt.show()"
   ]
  },
  {
   "cell_type": "code",
   "execution_count": 42,
   "metadata": {
    "scrolled": false
   },
   "outputs": [
    {
     "ename": "AttributeError",
     "evalue": "'DataFrame' object has no attribute 'category_id'",
     "output_type": "error",
     "traceback": [
      "\u001b[1;31m---------------------------------------------------------------------------\u001b[0m",
      "\u001b[1;31mAttributeError\u001b[0m                            Traceback (most recent call last)",
      "\u001b[1;32m<ipython-input-42-462fbdad6936>\u001b[0m in \u001b[0;36m<module>\u001b[1;34m\u001b[0m\n\u001b[0;32m      1\u001b[0m \u001b[1;32mfrom\u001b[0m \u001b[0mIPython\u001b[0m\u001b[1;33m.\u001b[0m\u001b[0mdisplay\u001b[0m \u001b[1;32mimport\u001b[0m \u001b[0mdisplay\u001b[0m\u001b[1;33m\u001b[0m\u001b[1;33m\u001b[0m\u001b[0m\n\u001b[0;32m      2\u001b[0m \u001b[1;33m\u001b[0m\u001b[0m\n\u001b[1;32m----> 3\u001b[1;33m \u001b[1;32mfor\u001b[0m \u001b[0mpredicted\u001b[0m \u001b[1;32min\u001b[0m \u001b[0mcategory_id_df\u001b[0m\u001b[1;33m.\u001b[0m\u001b[0mcategory_id\u001b[0m\u001b[1;33m:\u001b[0m\u001b[1;33m\u001b[0m\u001b[1;33m\u001b[0m\u001b[0m\n\u001b[0m\u001b[0;32m      4\u001b[0m     \u001b[1;32mfor\u001b[0m \u001b[0mactual\u001b[0m \u001b[1;32min\u001b[0m \u001b[0mcategory_id_df\u001b[0m\u001b[1;33m.\u001b[0m\u001b[0mcategory_id\u001b[0m\u001b[1;33m:\u001b[0m\u001b[1;33m\u001b[0m\u001b[1;33m\u001b[0m\u001b[0m\n\u001b[0;32m      5\u001b[0m         \u001b[1;32mif\u001b[0m \u001b[0mpredicted\u001b[0m \u001b[1;33m!=\u001b[0m \u001b[0mactual\u001b[0m \u001b[1;32mand\u001b[0m \u001b[0mconf_mat\u001b[0m\u001b[1;33m[\u001b[0m\u001b[0mactual\u001b[0m\u001b[1;33m,\u001b[0m \u001b[0mpredicted\u001b[0m\u001b[1;33m]\u001b[0m \u001b[1;33m>=\u001b[0m \u001b[1;36m6\u001b[0m\u001b[1;33m:\u001b[0m\u001b[1;33m\u001b[0m\u001b[1;33m\u001b[0m\u001b[0m\n",
      "\u001b[1;32mC:\\ProgramData\\Anaconda3\\lib\\site-packages\\pandas\\core\\generic.py\u001b[0m in \u001b[0;36m__getattr__\u001b[1;34m(self, name)\u001b[0m\n\u001b[0;32m   5065\u001b[0m             \u001b[1;32mif\u001b[0m \u001b[0mself\u001b[0m\u001b[1;33m.\u001b[0m\u001b[0m_info_axis\u001b[0m\u001b[1;33m.\u001b[0m\u001b[0m_can_hold_identifiers_and_holds_name\u001b[0m\u001b[1;33m(\u001b[0m\u001b[0mname\u001b[0m\u001b[1;33m)\u001b[0m\u001b[1;33m:\u001b[0m\u001b[1;33m\u001b[0m\u001b[1;33m\u001b[0m\u001b[0m\n\u001b[0;32m   5066\u001b[0m                 \u001b[1;32mreturn\u001b[0m \u001b[0mself\u001b[0m\u001b[1;33m[\u001b[0m\u001b[0mname\u001b[0m\u001b[1;33m]\u001b[0m\u001b[1;33m\u001b[0m\u001b[1;33m\u001b[0m\u001b[0m\n\u001b[1;32m-> 5067\u001b[1;33m             \u001b[1;32mreturn\u001b[0m \u001b[0mobject\u001b[0m\u001b[1;33m.\u001b[0m\u001b[0m__getattribute__\u001b[0m\u001b[1;33m(\u001b[0m\u001b[0mself\u001b[0m\u001b[1;33m,\u001b[0m \u001b[0mname\u001b[0m\u001b[1;33m)\u001b[0m\u001b[1;33m\u001b[0m\u001b[1;33m\u001b[0m\u001b[0m\n\u001b[0m\u001b[0;32m   5068\u001b[0m \u001b[1;33m\u001b[0m\u001b[0m\n\u001b[0;32m   5069\u001b[0m     \u001b[1;32mdef\u001b[0m \u001b[0m__setattr__\u001b[0m\u001b[1;33m(\u001b[0m\u001b[0mself\u001b[0m\u001b[1;33m,\u001b[0m \u001b[0mname\u001b[0m\u001b[1;33m,\u001b[0m \u001b[0mvalue\u001b[0m\u001b[1;33m)\u001b[0m\u001b[1;33m:\u001b[0m\u001b[1;33m\u001b[0m\u001b[1;33m\u001b[0m\u001b[0m\n",
      "\u001b[1;31mAttributeError\u001b[0m: 'DataFrame' object has no attribute 'category_id'"
     ]
    }
   ],
   "source": [
    "from IPython.display import display\n",
    "\n",
    "for predicted in category_id_df.category_id:\n",
    "    for actual in category_id_df.category_id:\n",
    "        if predicted != actual and conf_mat[actual, predicted] >= 6:\n",
    "            print(\"'{}' predicted as '{}' : {} examples.\".format(id_to_category[actual], id_to_category[predicted], conf_mat[actual, predicted]))\n",
    "            display(df.loc[indices_test[(y_test == actual) & (y_pred == predicted)]][['label', 'sent']])\n",
    "            print('')"
   ]
  },
  {
   "cell_type": "code",
   "execution_count": 43,
   "metadata": {},
   "outputs": [
    {
     "data": {
      "text/plain": [
       "LinearSVC(C=1.0, class_weight=None, dual=True, fit_intercept=True,\n",
       "     intercept_scaling=1, loss='squared_hinge', max_iter=1000,\n",
       "     multi_class='ovr', penalty='l2', random_state=None, tol=0.0001,\n",
       "     verbose=0)"
      ]
     },
     "execution_count": 43,
     "metadata": {},
     "output_type": "execute_result"
    }
   ],
   "source": [
    "model.fit(features, labels)"
   ]
  },
  {
   "cell_type": "code",
   "execution_count": 47,
   "metadata": {
    "scrolled": false
   },
   "outputs": [
    {
     "ename": "IndexError",
     "evalue": "only integers, slices (`:`), ellipsis (`...`), numpy.newaxis (`None`) and integer or boolean arrays are valid indices",
     "output_type": "error",
     "traceback": [
      "\u001b[1;31m---------------------------------------------------------------------------\u001b[0m",
      "\u001b[1;31mIndexError\u001b[0m                                Traceback (most recent call last)",
      "\u001b[1;32m<ipython-input-47-ddb855917686>\u001b[0m in \u001b[0;36m<module>\u001b[1;34m\u001b[0m\n\u001b[0;32m      3\u001b[0m \u001b[0mN\u001b[0m \u001b[1;33m=\u001b[0m \u001b[1;36m2\u001b[0m\u001b[1;33m\u001b[0m\u001b[1;33m\u001b[0m\u001b[0m\n\u001b[0;32m      4\u001b[0m \u001b[1;32mfor\u001b[0m \u001b[0mProduct\u001b[0m\u001b[1;33m,\u001b[0m \u001b[0mcategory_id\u001b[0m \u001b[1;32min\u001b[0m \u001b[0msorted\u001b[0m\u001b[1;33m(\u001b[0m\u001b[0mcategory_to_id\u001b[0m\u001b[1;33m.\u001b[0m\u001b[0mitems\u001b[0m\u001b[1;33m(\u001b[0m\u001b[1;33m)\u001b[0m\u001b[1;33m)\u001b[0m\u001b[1;33m:\u001b[0m\u001b[1;33m\u001b[0m\u001b[1;33m\u001b[0m\u001b[0m\n\u001b[1;32m----> 5\u001b[1;33m     \u001b[0mindices\u001b[0m \u001b[1;33m=\u001b[0m \u001b[0mnp\u001b[0m\u001b[1;33m.\u001b[0m\u001b[0margsort\u001b[0m\u001b[1;33m(\u001b[0m\u001b[0mmodel\u001b[0m\u001b[1;33m.\u001b[0m\u001b[0mcoef_\u001b[0m\u001b[1;33m[\u001b[0m\u001b[0mcategory_id\u001b[0m\u001b[1;33m]\u001b[0m\u001b[1;33m)\u001b[0m\u001b[1;33m\u001b[0m\u001b[1;33m\u001b[0m\u001b[0m\n\u001b[0m\u001b[0;32m      6\u001b[0m     \u001b[0mfeature_names\u001b[0m \u001b[1;33m=\u001b[0m \u001b[0mnp\u001b[0m\u001b[1;33m.\u001b[0m\u001b[0marray\u001b[0m\u001b[1;33m(\u001b[0m\u001b[0mtfidf\u001b[0m\u001b[1;33m.\u001b[0m\u001b[0mget_feature_names\u001b[0m\u001b[1;33m(\u001b[0m\u001b[1;33m)\u001b[0m\u001b[1;33m)\u001b[0m\u001b[1;33m[\u001b[0m\u001b[0mindices\u001b[0m\u001b[1;33m]\u001b[0m\u001b[1;33m\u001b[0m\u001b[1;33m\u001b[0m\u001b[0m\n\u001b[0;32m      7\u001b[0m     \u001b[0munigrams\u001b[0m \u001b[1;33m=\u001b[0m \u001b[1;33m[\u001b[0m\u001b[0mv\u001b[0m \u001b[1;32mfor\u001b[0m \u001b[0mv\u001b[0m \u001b[1;32min\u001b[0m \u001b[0mreversed\u001b[0m\u001b[1;33m(\u001b[0m\u001b[0mfeature_names\u001b[0m\u001b[1;33m)\u001b[0m \u001b[1;32mif\u001b[0m \u001b[0mlen\u001b[0m\u001b[1;33m(\u001b[0m\u001b[0mv\u001b[0m\u001b[1;33m.\u001b[0m\u001b[0msplit\u001b[0m\u001b[1;33m(\u001b[0m\u001b[1;34m' '\u001b[0m\u001b[1;33m)\u001b[0m\u001b[1;33m)\u001b[0m \u001b[1;33m==\u001b[0m \u001b[1;36m1\u001b[0m\u001b[1;33m]\u001b[0m\u001b[1;33m[\u001b[0m\u001b[1;33m:\u001b[0m\u001b[0mN\u001b[0m\u001b[1;33m]\u001b[0m\u001b[1;33m\u001b[0m\u001b[1;33m\u001b[0m\u001b[0m\n",
      "\u001b[1;31mIndexError\u001b[0m: only integers, slices (`:`), ellipsis (`...`), numpy.newaxis (`None`) and integer or boolean arrays are valid indices"
     ]
    }
   ],
   "source": [
    "from sklearn.feature_selection import chi2\n",
    "\n",
    "N = 2\n",
    "for Product, category_id in sorted(category_to_id.items()):\n",
    "    indices = np.argsort(model.coef_[category_id])\n",
    "    feature_names = np.array(tfidf.get_feature_names())[indices]\n",
    "    unigrams = [v for v in reversed(feature_names) if len(v.split(' ')) == 1][:N]\n",
    "    bigrams = [v for v in reversed(feature_names) if len(v.split(' ')) == 2][:N]\n",
    "    print(\"# '{}':\".format(Product))\n",
    "    print(\"  . Top unigrams:\\n       . {}\".format('\\n       . '.join(unigrams)))\n",
    "    print(\"  . Top bigrams:\\n       . {}\".format('\\n       . '.join(bigrams)))"
   ]
  },
  {
   "cell_type": "code",
   "execution_count": 45,
   "metadata": {},
   "outputs": [
    {
     "name": "stdout",
     "output_type": "stream",
     "text": [
      "\"I requested a home loan modification through Bank of America. Bank of America never got back to me.\"\n"
     ]
    },
    {
     "ename": "KeyError",
     "evalue": "1.0",
     "output_type": "error",
     "traceback": [
      "\u001b[1;31m---------------------------------------------------------------------------\u001b[0m",
      "\u001b[1;31mKeyError\u001b[0m                                  Traceback (most recent call last)",
      "\u001b[1;32m<ipython-input-45-573e4e9e02aa>\u001b[0m in \u001b[0;36m<module>\u001b[1;34m\u001b[0m\n\u001b[0;32m      8\u001b[0m \u001b[1;32mfor\u001b[0m \u001b[0mtext\u001b[0m\u001b[1;33m,\u001b[0m \u001b[0mpredicted\u001b[0m \u001b[1;32min\u001b[0m \u001b[0mzip\u001b[0m\u001b[1;33m(\u001b[0m\u001b[0mtexts\u001b[0m\u001b[1;33m,\u001b[0m \u001b[0mpredictions\u001b[0m\u001b[1;33m)\u001b[0m\u001b[1;33m:\u001b[0m\u001b[1;33m\u001b[0m\u001b[1;33m\u001b[0m\u001b[0m\n\u001b[0;32m      9\u001b[0m   \u001b[0mprint\u001b[0m\u001b[1;33m(\u001b[0m\u001b[1;34m'\"{}\"'\u001b[0m\u001b[1;33m.\u001b[0m\u001b[0mformat\u001b[0m\u001b[1;33m(\u001b[0m\u001b[0mtext\u001b[0m\u001b[1;33m)\u001b[0m\u001b[1;33m)\u001b[0m\u001b[1;33m\u001b[0m\u001b[1;33m\u001b[0m\u001b[0m\n\u001b[1;32m---> 10\u001b[1;33m   \u001b[0mprint\u001b[0m\u001b[1;33m(\u001b[0m\u001b[1;34m\"  - Predicted as: '{}'\"\u001b[0m\u001b[1;33m.\u001b[0m\u001b[0mformat\u001b[0m\u001b[1;33m(\u001b[0m\u001b[0mid_to_category\u001b[0m\u001b[1;33m[\u001b[0m\u001b[0mpredicted\u001b[0m\u001b[1;33m]\u001b[0m\u001b[1;33m)\u001b[0m\u001b[1;33m)\u001b[0m\u001b[1;33m\u001b[0m\u001b[1;33m\u001b[0m\u001b[0m\n\u001b[0m\u001b[0;32m     11\u001b[0m   \u001b[0mprint\u001b[0m\u001b[1;33m(\u001b[0m\u001b[1;34m\"\"\u001b[0m\u001b[1;33m)\u001b[0m\u001b[1;33m\u001b[0m\u001b[1;33m\u001b[0m\u001b[0m\n",
      "\u001b[1;31mKeyError\u001b[0m: 1.0"
     ]
    }
   ],
   "source": [
    "texts = [\"I requested a home loan modification through Bank of America. Bank of America never got back to me.\",\n",
    "         \"It has been difficult for me to find my past due balance. I missed a regular monthly payment\",\n",
    "         \"I can't get the money out of the country.\",\n",
    "         \"I have no money to pay my tuition\",\n",
    "         \"Coinbase closed my account for no reason and furthermore refused to give me a reason despite dozens of request\"]\n",
    "text_features = tfidf.transform(texts)\n",
    "predictions = model.predict(text_features)\n",
    "for text, predicted in zip(texts, predictions):\n",
    "  print('\"{}\"'.format(text))\n",
    "  print(\"  - Predicted as: '{}'\".format(id_to_category[predicted]))\n",
    "  print(\"\")"
   ]
  },
  {
   "cell_type": "code",
   "execution_count": 46,
   "metadata": {},
   "outputs": [
    {
     "name": "stdout",
     "output_type": "stream",
     "text": [
      "              precision    recall  f1-score   support\n",
      "\n",
      "   discovery       0.28      0.50      0.36        10\n",
      "        None       0.67      0.43      0.53        23\n",
      "\n",
      "   micro avg       0.45      0.45      0.45        33\n",
      "   macro avg       0.47      0.47      0.44        33\n",
      "weighted avg       0.55      0.45      0.48        33\n",
      "\n"
     ]
    }
   ],
   "source": [
    "from sklearn import metrics\n",
    "print(metrics.classification_report(y_test, y_pred, \n",
    "                                    target_names=df['label'].unique()))"
   ]
  }
 ],
 "metadata": {
  "kernelspec": {
   "display_name": "Python 3",
   "language": "python",
   "name": "python3"
  },
  "language_info": {
   "codemirror_mode": {
    "name": "ipython",
    "version": 3
   },
   "file_extension": ".py",
   "mimetype": "text/x-python",
   "name": "python",
   "nbconvert_exporter": "python",
   "pygments_lexer": "ipython3",
   "version": "3.7.3"
  }
 },
 "nbformat": 4,
 "nbformat_minor": 2
}
