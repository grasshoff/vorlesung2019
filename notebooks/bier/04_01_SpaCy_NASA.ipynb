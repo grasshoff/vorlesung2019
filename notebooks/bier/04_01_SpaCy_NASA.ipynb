{
 "cells": [
  {
   "cell_type": "markdown",
   "metadata": {},
   "source": [
    "# Operating SpaCy on DataFrame of Publications about Exoplanets in NASA ADS"
   ]
  },
  {
   "cell_type": "markdown",
   "metadata": {},
   "source": [
    "Before you can use SpaCy you have to download the pretrained model for the english language with:"
   ]
  },
  {
   "cell_type": "code",
   "execution_count": 1,
   "metadata": {},
   "outputs": [],
   "source": [
    "#!python -m spacy download en_core_web_md"
   ]
  },
  {
   "cell_type": "markdown",
   "metadata": {},
   "source": [
    "After doing this for the first time you can comment out this line with `#` and load the model with `nlp = spacy.load('en_core_web_md')`"
   ]
  },
  {
   "cell_type": "markdown",
   "metadata": {},
   "source": [
    "## Loading the packages"
   ]
  },
  {
   "cell_type": "code",
   "execution_count": 2,
   "metadata": {
    "collapsed": true
   },
   "outputs": [],
   "source": [
    "import pandas as pd\n",
    "import numpy as np\n",
    "import re\n",
    "from random import randint\n",
    "from random import seed\n",
    "seed(5)\n",
    "from unidecode import unidecode\n",
    "import spacy\n",
    "from spacy.lang.en import English\n",
    "from spacy import displacy\n",
    "nlp = spacy.load('en_core_web_md')\n",
    "from IPython.display import HTML"
   ]
  },
  {
   "cell_type": "markdown",
   "metadata": {},
   "source": [
    "## Loading the dataframe into python"
   ]
  },
  {
   "cell_type": "markdown",
   "metadata": {},
   "source": [
    "Here it is important to include the statement orient = 'table', because this dataframe was exported with this option, so that the exported json is a valid json. The head of the dataframe is printed out."
   ]
  },
  {
   "cell_type": "code",
   "execution_count": 3,
   "metadata": {},
   "outputs": [],
   "source": [
    "dfExoplanetsNASA = pd.read_json('./data/dfExoplanetsNASA_v2.json', orient = 'table')\n",
    "dfExoplanetsNASA = dfExoplanetsNASA[dfExoplanetsNASA.abstract != 'None'].reset_index(drop=True)"
   ]
  },
  {
   "cell_type": "code",
   "execution_count": 4,
   "metadata": {},
   "outputs": [
    {
     "data": {
      "text/html": [
       "<div>\n",
       "<style scoped>\n",
       "    .dataframe tbody tr th:only-of-type {\n",
       "        vertical-align: middle;\n",
       "    }\n",
       "\n",
       "    .dataframe tbody tr th {\n",
       "        vertical-align: top;\n",
       "    }\n",
       "\n",
       "    .dataframe thead th {\n",
       "        text-align: right;\n",
       "    }\n",
       "</style>\n",
       "<table border=\"1\" class=\"dataframe\">\n",
       "  <thead>\n",
       "    <tr style=\"text-align: right;\">\n",
       "      <th></th>\n",
       "      <th>bibcode</th>\n",
       "      <th>DOI</th>\n",
       "      <th>authors</th>\n",
       "      <th>affiliation</th>\n",
       "      <th>acknowledgements</th>\n",
       "      <th>grant</th>\n",
       "      <th>published</th>\n",
       "      <th>year</th>\n",
       "      <th>title</th>\n",
       "      <th>abstract</th>\n",
       "      <th>keywords</th>\n",
       "      <th>citation_count</th>\n",
       "    </tr>\n",
       "  </thead>\n",
       "  <tbody>\n",
       "    <tr>\n",
       "      <th>0</th>\n",
       "      <td>2019NewA...70....1B</td>\n",
       "      <td>10.1016/j.newast.2018.12.005</td>\n",
       "      <td>[Zhang Bin, Qian Sheng-Bang, Liu Nian-Ping, Zh...</td>\n",
       "      <td>[School of Physics and Electronic Science, Gui...</td>\n",
       "      <td>We thank the anonymous referee for useful comm...</td>\n",
       "      <td>[]</td>\n",
       "      <td>2019-07-00</td>\n",
       "      <td>2019</td>\n",
       "      <td>First photometric study of a short-period deta...</td>\n",
       "      <td>NSVS 10441882 is a newly discovered eclipsing ...</td>\n",
       "      <td>[Binary, Eclipsing binary, Light curve, Orbita...</td>\n",
       "      <td>0</td>\n",
       "    </tr>\n",
       "    <tr>\n",
       "      <th>1</th>\n",
       "      <td>2019CNSNS..71...82A</td>\n",
       "      <td>10.1016/j.cnsns.2018.10.026</td>\n",
       "      <td>[M. Alvarez-Ramírez, E. Barrabés, M. Medina, M...</td>\n",
       "      <td>[Dept. de Matemáticas, UAM-Iztapalapa, Ciudad ...</td>\n",
       "      <td>E. Barrabs has been supported by grants MTM201...</td>\n",
       "      <td>[]</td>\n",
       "      <td>2019-06-00</td>\n",
       "      <td>2019</td>\n",
       "      <td>Ejection-Collision orbits in the symmetric col...</td>\n",
       "      <td>In this paper, we consider the collinear symme...</td>\n",
       "      <td>[Collinear four-body problem, Ejection/collisi...</td>\n",
       "      <td>0</td>\n",
       "    </tr>\n",
       "    <tr>\n",
       "      <th>2</th>\n",
       "      <td>2019NewA...69...27E</td>\n",
       "      <td>10.1016/j.newast.2018.11.008</td>\n",
       "      <td>[Şeyda Enez, Hasan Ali Dal]</td>\n",
       "      <td>[Ege University, Department of Astronomy and S...</td>\n",
       "      <td>We wish to thank the Turkish Scientific and Te...</td>\n",
       "      <td>[]</td>\n",
       "      <td>2019-05-00</td>\n",
       "      <td>2019</td>\n",
       "      <td>Cool spot migration and flare activity of KIC ...</td>\n",
       "      <td>Analysing the photometrical data taken from th...</td>\n",
       "      <td>[Techniques: Photometric, Methods: Statistical...</td>\n",
       "      <td>0</td>\n",
       "    </tr>\n",
       "    <tr>\n",
       "      <th>3</th>\n",
       "      <td>2019MNRAS.483.3465F</td>\n",
       "      <td>10.1093/mnras/sty3367</td>\n",
       "      <td>[Giacomo Fragione]</td>\n",
       "      <td>[Racah Institute for Physics, The Hebrew Unive...</td>\n",
       "      <td>Author thanks Nader Haghighipour for useful an...</td>\n",
       "      <td>[]</td>\n",
       "      <td>2019-03-00</td>\n",
       "      <td>2019</td>\n",
       "      <td>Dynamical origin of S-type planets in close bi...</td>\n",
       "      <td>Understanding the origin of planets that have ...</td>\n",
       "      <td>[planets and satellites: general, binaries: cl...</td>\n",
       "      <td>0</td>\n",
       "    </tr>\n",
       "    <tr>\n",
       "      <th>4</th>\n",
       "      <td>2019MNRAS.483.3448M</td>\n",
       "      <td>10.1093/mnras/sty3346</td>\n",
       "      <td>[Kristina Monsch, Barbara Ercolano, Giovanni P...</td>\n",
       "      <td>[Universitäts-Sternwarte, Ludwig-Maximilians-U...</td>\n",
       "      <td>We thank Giovanni Rosotti and Jeff Jennings fo...</td>\n",
       "      <td>[]</td>\n",
       "      <td>2019-03-00</td>\n",
       "      <td>2019</td>\n",
       "      <td>The imprint of X-ray photoevaporation of plane...</td>\n",
       "      <td>High-energy radiation from a planet host star ...</td>\n",
       "      <td>[planets and satellites: formation, planet-dis...</td>\n",
       "      <td>0</td>\n",
       "    </tr>\n",
       "  </tbody>\n",
       "</table>\n",
       "</div>"
      ],
      "text/plain": [
       "               bibcode                           DOI  \\\n",
       "0  2019NewA...70....1B  10.1016/j.newast.2018.12.005   \n",
       "1  2019CNSNS..71...82A   10.1016/j.cnsns.2018.10.026   \n",
       "2  2019NewA...69...27E  10.1016/j.newast.2018.11.008   \n",
       "3  2019MNRAS.483.3465F         10.1093/mnras/sty3367   \n",
       "4  2019MNRAS.483.3448M         10.1093/mnras/sty3346   \n",
       "\n",
       "                                             authors  \\\n",
       "0  [Zhang Bin, Qian Sheng-Bang, Liu Nian-Ping, Zh...   \n",
       "1  [M. Alvarez-Ramírez, E. Barrabés, M. Medina, M...   \n",
       "2                        [Şeyda Enez, Hasan Ali Dal]   \n",
       "3                                 [Giacomo Fragione]   \n",
       "4  [Kristina Monsch, Barbara Ercolano, Giovanni P...   \n",
       "\n",
       "                                         affiliation  \\\n",
       "0  [School of Physics and Electronic Science, Gui...   \n",
       "1  [Dept. de Matemáticas, UAM-Iztapalapa, Ciudad ...   \n",
       "2  [Ege University, Department of Astronomy and S...   \n",
       "3  [Racah Institute for Physics, The Hebrew Unive...   \n",
       "4  [Universitäts-Sternwarte, Ludwig-Maximilians-U...   \n",
       "\n",
       "                                    acknowledgements grant   published  year  \\\n",
       "0  We thank the anonymous referee for useful comm...    []  2019-07-00  2019   \n",
       "1  E. Barrabs has been supported by grants MTM201...    []  2019-06-00  2019   \n",
       "2  We wish to thank the Turkish Scientific and Te...    []  2019-05-00  2019   \n",
       "3  Author thanks Nader Haghighipour for useful an...    []  2019-03-00  2019   \n",
       "4  We thank Giovanni Rosotti and Jeff Jennings fo...    []  2019-03-00  2019   \n",
       "\n",
       "                                               title  \\\n",
       "0  First photometric study of a short-period deta...   \n",
       "1  Ejection-Collision orbits in the symmetric col...   \n",
       "2  Cool spot migration and flare activity of KIC ...   \n",
       "3  Dynamical origin of S-type planets in close bi...   \n",
       "4  The imprint of X-ray photoevaporation of plane...   \n",
       "\n",
       "                                            abstract  \\\n",
       "0  NSVS 10441882 is a newly discovered eclipsing ...   \n",
       "1  In this paper, we consider the collinear symme...   \n",
       "2  Analysing the photometrical data taken from th...   \n",
       "3  Understanding the origin of planets that have ...   \n",
       "4  High-energy radiation from a planet host star ...   \n",
       "\n",
       "                                            keywords  citation_count  \n",
       "0  [Binary, Eclipsing binary, Light curve, Orbita...               0  \n",
       "1  [Collinear four-body problem, Ejection/collisi...               0  \n",
       "2  [Techniques: Photometric, Methods: Statistical...               0  \n",
       "3  [planets and satellites: general, binaries: cl...               0  \n",
       "4  [planets and satellites: formation, planet-dis...               0  "
      ]
     },
     "execution_count": 4,
     "metadata": {},
     "output_type": "execute_result"
    }
   ],
   "source": [
    "dfExoplanetsNASA.head()"
   ]
  },
  {
   "cell_type": "markdown",
   "metadata": {},
   "source": [
    "## Selecting columns to work with"
   ]
  },
  {
   "cell_type": "markdown",
   "metadata": {},
   "source": [
    "For the work with this dataframe we only need the following columns 'authors', 'title', 'published' and 'abstract'. To save memory we select only these four columns to be contained in the dataframe."
   ]
  },
  {
   "cell_type": "code",
   "execution_count": 5,
   "metadata": {
    "collapsed": true
   },
   "outputs": [],
   "source": [
    "dfExoplanetsNASA = dfExoplanetsNASA[['authors', 'title', 'published', 'abstract']]"
   ]
  },
  {
   "cell_type": "code",
   "execution_count": 6,
   "metadata": {},
   "outputs": [
    {
     "data": {
      "text/html": [
       "<div>\n",
       "<style scoped>\n",
       "    .dataframe tbody tr th:only-of-type {\n",
       "        vertical-align: middle;\n",
       "    }\n",
       "\n",
       "    .dataframe tbody tr th {\n",
       "        vertical-align: top;\n",
       "    }\n",
       "\n",
       "    .dataframe thead th {\n",
       "        text-align: right;\n",
       "    }\n",
       "</style>\n",
       "<table border=\"1\" class=\"dataframe\">\n",
       "  <thead>\n",
       "    <tr style=\"text-align: right;\">\n",
       "      <th></th>\n",
       "      <th>authors</th>\n",
       "      <th>title</th>\n",
       "      <th>published</th>\n",
       "      <th>abstract</th>\n",
       "    </tr>\n",
       "  </thead>\n",
       "  <tbody>\n",
       "    <tr>\n",
       "      <th>0</th>\n",
       "      <td>[Zhang Bin, Qian Sheng-Bang, Liu Nian-Ping, Zh...</td>\n",
       "      <td>First photometric study of a short-period deta...</td>\n",
       "      <td>2019-07-00</td>\n",
       "      <td>NSVS 10441882 is a newly discovered eclipsing ...</td>\n",
       "    </tr>\n",
       "    <tr>\n",
       "      <th>1</th>\n",
       "      <td>[M. Alvarez-Ramírez, E. Barrabés, M. Medina, M...</td>\n",
       "      <td>Ejection-Collision orbits in the symmetric col...</td>\n",
       "      <td>2019-06-00</td>\n",
       "      <td>In this paper, we consider the collinear symme...</td>\n",
       "    </tr>\n",
       "    <tr>\n",
       "      <th>2</th>\n",
       "      <td>[Şeyda Enez, Hasan Ali Dal]</td>\n",
       "      <td>Cool spot migration and flare activity of KIC ...</td>\n",
       "      <td>2019-05-00</td>\n",
       "      <td>Analysing the photometrical data taken from th...</td>\n",
       "    </tr>\n",
       "    <tr>\n",
       "      <th>3</th>\n",
       "      <td>[Giacomo Fragione]</td>\n",
       "      <td>Dynamical origin of S-type planets in close bi...</td>\n",
       "      <td>2019-03-00</td>\n",
       "      <td>Understanding the origin of planets that have ...</td>\n",
       "    </tr>\n",
       "    <tr>\n",
       "      <th>4</th>\n",
       "      <td>[Kristina Monsch, Barbara Ercolano, Giovanni P...</td>\n",
       "      <td>The imprint of X-ray photoevaporation of plane...</td>\n",
       "      <td>2019-03-00</td>\n",
       "      <td>High-energy radiation from a planet host star ...</td>\n",
       "    </tr>\n",
       "  </tbody>\n",
       "</table>\n",
       "</div>"
      ],
      "text/plain": [
       "                                             authors  \\\n",
       "0  [Zhang Bin, Qian Sheng-Bang, Liu Nian-Ping, Zh...   \n",
       "1  [M. Alvarez-Ramírez, E. Barrabés, M. Medina, M...   \n",
       "2                        [Şeyda Enez, Hasan Ali Dal]   \n",
       "3                                 [Giacomo Fragione]   \n",
       "4  [Kristina Monsch, Barbara Ercolano, Giovanni P...   \n",
       "\n",
       "                                               title   published  \\\n",
       "0  First photometric study of a short-period deta...  2019-07-00   \n",
       "1  Ejection-Collision orbits in the symmetric col...  2019-06-00   \n",
       "2  Cool spot migration and flare activity of KIC ...  2019-05-00   \n",
       "3  Dynamical origin of S-type planets in close bi...  2019-03-00   \n",
       "4  The imprint of X-ray photoevaporation of plane...  2019-03-00   \n",
       "\n",
       "                                            abstract  \n",
       "0  NSVS 10441882 is a newly discovered eclipsing ...  \n",
       "1  In this paper, we consider the collinear symme...  \n",
       "2  Analysing the photometrical data taken from th...  \n",
       "3  Understanding the origin of planets that have ...  \n",
       "4  High-energy radiation from a planet host star ...  "
      ]
     },
     "execution_count": 6,
     "metadata": {},
     "output_type": "execute_result"
    }
   ],
   "source": [
    "dfExoplanetsNASA.head()"
   ]
  },
  {
   "cell_type": "markdown",
   "metadata": {},
   "source": [
    "Now the dataframe is ready to work with. The abstracts are stored in the column 'abstract'. This column can be accessed by `dfExoplanetsNASA.abstract`."
   ]
  },
  {
   "cell_type": "markdown",
   "metadata": {},
   "source": [
    "## Pick 500 random abstracts from dataframe"
   ]
  },
  {
   "cell_type": "markdown",
   "metadata": {},
   "source": [
    "This code picks 500 random abstracts from the dataframe makes a list out of them and shows these 20 abstracts."
   ]
  },
  {
   "cell_type": "code",
   "execution_count": 7,
   "metadata": {
    "collapsed": true
   },
   "outputs": [],
   "source": [
    "abstracts = [i for i in dfExoplanetsNASA.abstract if i != 'None']\n",
    "randabs = []\n",
    "for i in range(500):\n",
    "    numpaper = randint(0, len(abstracts))\n",
    "    randabs.append(abstracts[numpaper])"
   ]
  },
  {
   "cell_type": "markdown",
   "metadata": {},
   "source": [
    "## Pick 10 abstracts from the random abstracts"
   ]
  },
  {
   "cell_type": "markdown",
   "metadata": {},
   "source": [
    "This code picks 10 abstracts from the random abstracts and makes a list out of them and shows these 10 abstracts."
   ]
  },
  {
   "cell_type": "code",
   "execution_count": 8,
   "metadata": {
    "collapsed": true
   },
   "outputs": [],
   "source": [
    "seed(8)\n",
    "randabs10 = []\n",
    "for i in range(10):\n",
    "    numpaper = randint(0, len(randabs))\n",
    "    randabs10.append(randabs[numpaper])"
   ]
  },
  {
   "cell_type": "markdown",
   "metadata": {},
   "source": [
    "## Remove Latex charaters from randomly choosen abstracts"
   ]
  },
  {
   "cell_type": "markdown",
   "metadata": {},
   "source": [
    "In the next step we want to make a spacy doc out of these abstracts. As scientific papers especially in natural scienses are often written in latex, spacy has some troubles with the special characters as $. So we will remove them before using regex."
   ]
  },
  {
   "cell_type": "code",
   "execution_count": 9,
   "metadata": {},
   "outputs": [],
   "source": [
    "randabs10 = [re.sub('\\\\\\\\', '', re.sub('{', '(', re.sub('}', ')', re.sub('\\$', '', i)))) for i in randabs10]"
   ]
  },
  {
   "cell_type": "markdown",
   "metadata": {},
   "source": [
    "## Making a spacy doc out of the abstracts & cut abstracts into sentences"
   ]
  },
  {
   "cell_type": "markdown",
   "metadata": {},
   "source": [
    "Now that all the bad characters are removed, we can make a spacy doc out of the abstracts and cut the abstracts in sentences. The sentences of the first abstract are printed out."
   ]
  },
  {
   "cell_type": "code",
   "execution_count": 10,
   "metadata": {},
   "outputs": [],
   "source": [
    "sentences = []\n",
    "for abstract in randabs10:\n",
    "    doc = nlp(abstract)\n",
    "    sent = []\n",
    "    for i in doc.sents:\n",
    "        sent.append(i.string.strip())\n",
    "    sentences.append(sent)"
   ]
  },
  {
   "cell_type": "code",
   "execution_count": 11,
   "metadata": {},
   "outputs": [
    {
     "data": {
      "text/plain": [
       "['The X-ray and EUV emission of stars plays a key role in the loss and evolution of the atmospheres of their planets.',\n",
       " 'The coronae of dwarf stars later than M6 appear to behave differently to those of earlier spectral types and are more X-ray dim and radio bright.',\n",
       " 'Too faint to have been observed by the Extreme Ultraviolet Explorer, their EUV behavior is currently highly uncertain.',\n",
       " 'We have devised a method to use the Chandra X-ray Observatory High Resolution Camera to provide a measure of EUV emission in the 50-170 AA range and have applied it to the M6.5 dwarf LHS 248 in a pilot 10 ks exposure.',\n",
       " 'Analysis with model spectra using simple, idealised coronal emission measure distributions inspired by an analysis of Chandra HETG spectra of the M5.5 dwarf Proxima Cen and results from the literature, finds greatest consistency with a very shallow emission measure distribution slope, DEM propto T^(3/2) or shallower, in the range log T=5.5-6.5.',\n",
       " 'Within 2sigma confidence, a much wider range of slopes can be accommodated.',\n",
       " 'Model spectra constrained by this method can provide accurate (within a factor of 2-4) synthesis and extrapolation of EUV spectra for wavelengths &lt;400-500 AA.',\n",
       " 'At longer wavelengths models are uncertain by an order of magnitude or more, and depend on the details of the emission measure distribution at temperatures log T &lt; 5.5.',\n",
       " 'The method is sensitive to possible incompleteness of plasma radiative loss models in the 30 170 AA range for which re-examination would be warranted.']"
      ]
     },
     "execution_count": 11,
     "metadata": {},
     "output_type": "execute_result"
    }
   ],
   "source": [
    "sentences[0]"
   ]
  },
  {
   "cell_type": "markdown",
   "metadata": {},
   "source": [
    "After removing all the bad characters it looks quite nice!"
   ]
  },
  {
   "cell_type": "markdown",
   "metadata": {},
   "source": [
    "## POS-tagging of abstract sentences"
   ]
  },
  {
   "cell_type": "markdown",
   "metadata": {},
   "source": [
    "Let's do some POS (Part-of-Speech)-Tagging. It analyses for you the syntactical structure of a sentence. In the following example I'm interested in the lemmata contained in the abstracts, what grammatical role do they play in the sentence? Grammatical structure of the first sentence of the first abstract is displayed. For the explanation of the different tags go to https://spacy.io/api/annotation."
   ]
  },
  {
   "cell_type": "code",
   "execution_count": 12,
   "metadata": {},
   "outputs": [],
   "source": [
    "tokens = []\n",
    "for abstract in randabs10:\n",
    "    doc = nlp(abstract)\n",
    "    tok = []\n",
    "    for token in doc:\n",
    "        tok.append([token.text, token.lemma_, token.pos_, token.tag_, token.dep_,\n",
    "            token.shape_])\n",
    "    tokens.append(tok)"
   ]
  },
  {
   "cell_type": "code",
   "execution_count": 13,
   "metadata": {},
   "outputs": [
    {
     "data": {
      "text/plain": [
       "[['The', 'the', 'DET', 'DT', 'det', 'Xxx'],\n",
       " ['X', 'x', 'NOUN', 'NN', 'subtok', 'X'],\n",
       " ['-', '-', 'NOUN', 'NN', 'subtok', '-'],\n",
       " ['ray', 'ray', 'NOUN', 'NN', 'nmod', 'xxx'],\n",
       " ['and', 'and', 'CCONJ', 'CC', 'cc', 'xxx'],\n",
       " ['EUV', 'EUV', 'PROPN', 'NNP', 'conj', 'XXX'],\n",
       " ['emission', 'emission', 'NOUN', 'NN', 'nsubj', 'xxxx'],\n",
       " ['of', 'of', 'ADP', 'IN', 'prep', 'xx'],\n",
       " ['stars', 'star', 'NOUN', 'NNS', 'pobj', 'xxxx'],\n",
       " ['plays', 'play', 'VERB', 'VBZ', 'ROOT', 'xxxx'],\n",
       " ['a', 'a', 'DET', 'DT', 'det', 'x'],\n",
       " ['key', 'key', 'ADJ', 'JJ', 'amod', 'xxx'],\n",
       " ['role', 'role', 'NOUN', 'NN', 'dobj', 'xxxx'],\n",
       " ['in', 'in', 'ADP', 'IN', 'prep', 'xx'],\n",
       " ['the', 'the', 'DET', 'DT', 'det', 'xxx'],\n",
       " ['loss', 'loss', 'NOUN', 'NN', 'pobj', 'xxxx'],\n",
       " ['and', 'and', 'CCONJ', 'CC', 'cc', 'xxx'],\n",
       " ['evolution', 'evolution', 'NOUN', 'NN', 'conj', 'xxxx'],\n",
       " ['of', 'of', 'ADP', 'IN', 'prep', 'xx'],\n",
       " ['the', 'the', 'DET', 'DT', 'det', 'xxx'],\n",
       " ['atmospheres', 'atmosphere', 'NOUN', 'NNS', 'pobj', 'xxxx'],\n",
       " ['of', 'of', 'ADP', 'IN', 'prep', 'xx'],\n",
       " ['their', '-PRON-', 'DET', 'PRP$', 'poss', 'xxxx'],\n",
       " ['planets', 'planet', 'NOUN', 'NNS', 'pobj', 'xxxx'],\n",
       " ['.', '.', 'PUNCT', '.', 'punct', '.']]"
      ]
     },
     "execution_count": 13,
     "metadata": {},
     "output_type": "execute_result"
    }
   ],
   "source": [
    "tokens[0][:25]"
   ]
  },
  {
   "cell_type": "markdown",
   "metadata": {},
   "source": [
    "For a better understanding let's visualize the grammatical structure of this sentence:"
   ]
  },
  {
   "cell_type": "code",
   "execution_count": 14,
   "metadata": {},
   "outputs": [
    {
     "data": {
      "text/html": [
       "<svg xmlns=\"http://www.w3.org/2000/svg\" xmlns:xlink=\"http://www.w3.org/1999/xlink\" xml:lang=\"en\" id=\"aa8b7b519d2d42dda342f4cbf18b4f80-0\" class=\"displacy\" width=\"3500\" height=\"437.0\" direction=\"ltr\" style=\"max-width: none; height: 437.0px; color: #000000; background: #ffffff; font-family: Arial; direction: ltr\">\n",
       "<text class=\"displacy-token\" fill=\"currentColor\" text-anchor=\"middle\" y=\"347.0\">\n",
       "    <tspan class=\"displacy-word\" fill=\"currentColor\" x=\"50\">The</tspan>\n",
       "    <tspan class=\"displacy-tag\" dy=\"2em\" fill=\"currentColor\" x=\"50\">DET</tspan>\n",
       "</text>\n",
       "\n",
       "<text class=\"displacy-token\" fill=\"currentColor\" text-anchor=\"middle\" y=\"347.0\">\n",
       "    <tspan class=\"displacy-word\" fill=\"currentColor\" x=\"200\">X-</tspan>\n",
       "    <tspan class=\"displacy-tag\" dy=\"2em\" fill=\"currentColor\" x=\"200\">NOUN</tspan>\n",
       "</text>\n",
       "\n",
       "<text class=\"displacy-token\" fill=\"currentColor\" text-anchor=\"middle\" y=\"347.0\">\n",
       "    <tspan class=\"displacy-word\" fill=\"currentColor\" x=\"350\">ray</tspan>\n",
       "    <tspan class=\"displacy-tag\" dy=\"2em\" fill=\"currentColor\" x=\"350\">NOUN</tspan>\n",
       "</text>\n",
       "\n",
       "<text class=\"displacy-token\" fill=\"currentColor\" text-anchor=\"middle\" y=\"347.0\">\n",
       "    <tspan class=\"displacy-word\" fill=\"currentColor\" x=\"500\">and</tspan>\n",
       "    <tspan class=\"displacy-tag\" dy=\"2em\" fill=\"currentColor\" x=\"500\">CCONJ</tspan>\n",
       "</text>\n",
       "\n",
       "<text class=\"displacy-token\" fill=\"currentColor\" text-anchor=\"middle\" y=\"347.0\">\n",
       "    <tspan class=\"displacy-word\" fill=\"currentColor\" x=\"650\">EUV</tspan>\n",
       "    <tspan class=\"displacy-tag\" dy=\"2em\" fill=\"currentColor\" x=\"650\">PROPN</tspan>\n",
       "</text>\n",
       "\n",
       "<text class=\"displacy-token\" fill=\"currentColor\" text-anchor=\"middle\" y=\"347.0\">\n",
       "    <tspan class=\"displacy-word\" fill=\"currentColor\" x=\"800\">emission</tspan>\n",
       "    <tspan class=\"displacy-tag\" dy=\"2em\" fill=\"currentColor\" x=\"800\">NOUN</tspan>\n",
       "</text>\n",
       "\n",
       "<text class=\"displacy-token\" fill=\"currentColor\" text-anchor=\"middle\" y=\"347.0\">\n",
       "    <tspan class=\"displacy-word\" fill=\"currentColor\" x=\"950\">of</tspan>\n",
       "    <tspan class=\"displacy-tag\" dy=\"2em\" fill=\"currentColor\" x=\"950\">ADP</tspan>\n",
       "</text>\n",
       "\n",
       "<text class=\"displacy-token\" fill=\"currentColor\" text-anchor=\"middle\" y=\"347.0\">\n",
       "    <tspan class=\"displacy-word\" fill=\"currentColor\" x=\"1100\">stars</tspan>\n",
       "    <tspan class=\"displacy-tag\" dy=\"2em\" fill=\"currentColor\" x=\"1100\">NOUN</tspan>\n",
       "</text>\n",
       "\n",
       "<text class=\"displacy-token\" fill=\"currentColor\" text-anchor=\"middle\" y=\"347.0\">\n",
       "    <tspan class=\"displacy-word\" fill=\"currentColor\" x=\"1250\">plays</tspan>\n",
       "    <tspan class=\"displacy-tag\" dy=\"2em\" fill=\"currentColor\" x=\"1250\">VERB</tspan>\n",
       "</text>\n",
       "\n",
       "<text class=\"displacy-token\" fill=\"currentColor\" text-anchor=\"middle\" y=\"347.0\">\n",
       "    <tspan class=\"displacy-word\" fill=\"currentColor\" x=\"1400\">a</tspan>\n",
       "    <tspan class=\"displacy-tag\" dy=\"2em\" fill=\"currentColor\" x=\"1400\">DET</tspan>\n",
       "</text>\n",
       "\n",
       "<text class=\"displacy-token\" fill=\"currentColor\" text-anchor=\"middle\" y=\"347.0\">\n",
       "    <tspan class=\"displacy-word\" fill=\"currentColor\" x=\"1550\">key</tspan>\n",
       "    <tspan class=\"displacy-tag\" dy=\"2em\" fill=\"currentColor\" x=\"1550\">ADJ</tspan>\n",
       "</text>\n",
       "\n",
       "<text class=\"displacy-token\" fill=\"currentColor\" text-anchor=\"middle\" y=\"347.0\">\n",
       "    <tspan class=\"displacy-word\" fill=\"currentColor\" x=\"1700\">role</tspan>\n",
       "    <tspan class=\"displacy-tag\" dy=\"2em\" fill=\"currentColor\" x=\"1700\">NOUN</tspan>\n",
       "</text>\n",
       "\n",
       "<text class=\"displacy-token\" fill=\"currentColor\" text-anchor=\"middle\" y=\"347.0\">\n",
       "    <tspan class=\"displacy-word\" fill=\"currentColor\" x=\"1850\">in</tspan>\n",
       "    <tspan class=\"displacy-tag\" dy=\"2em\" fill=\"currentColor\" x=\"1850\">ADP</tspan>\n",
       "</text>\n",
       "\n",
       "<text class=\"displacy-token\" fill=\"currentColor\" text-anchor=\"middle\" y=\"347.0\">\n",
       "    <tspan class=\"displacy-word\" fill=\"currentColor\" x=\"2000\">the</tspan>\n",
       "    <tspan class=\"displacy-tag\" dy=\"2em\" fill=\"currentColor\" x=\"2000\">DET</tspan>\n",
       "</text>\n",
       "\n",
       "<text class=\"displacy-token\" fill=\"currentColor\" text-anchor=\"middle\" y=\"347.0\">\n",
       "    <tspan class=\"displacy-word\" fill=\"currentColor\" x=\"2150\">loss</tspan>\n",
       "    <tspan class=\"displacy-tag\" dy=\"2em\" fill=\"currentColor\" x=\"2150\">NOUN</tspan>\n",
       "</text>\n",
       "\n",
       "<text class=\"displacy-token\" fill=\"currentColor\" text-anchor=\"middle\" y=\"347.0\">\n",
       "    <tspan class=\"displacy-word\" fill=\"currentColor\" x=\"2300\">and</tspan>\n",
       "    <tspan class=\"displacy-tag\" dy=\"2em\" fill=\"currentColor\" x=\"2300\">CCONJ</tspan>\n",
       "</text>\n",
       "\n",
       "<text class=\"displacy-token\" fill=\"currentColor\" text-anchor=\"middle\" y=\"347.0\">\n",
       "    <tspan class=\"displacy-word\" fill=\"currentColor\" x=\"2450\">evolution</tspan>\n",
       "    <tspan class=\"displacy-tag\" dy=\"2em\" fill=\"currentColor\" x=\"2450\">NOUN</tspan>\n",
       "</text>\n",
       "\n",
       "<text class=\"displacy-token\" fill=\"currentColor\" text-anchor=\"middle\" y=\"347.0\">\n",
       "    <tspan class=\"displacy-word\" fill=\"currentColor\" x=\"2600\">of</tspan>\n",
       "    <tspan class=\"displacy-tag\" dy=\"2em\" fill=\"currentColor\" x=\"2600\">ADP</tspan>\n",
       "</text>\n",
       "\n",
       "<text class=\"displacy-token\" fill=\"currentColor\" text-anchor=\"middle\" y=\"347.0\">\n",
       "    <tspan class=\"displacy-word\" fill=\"currentColor\" x=\"2750\">the</tspan>\n",
       "    <tspan class=\"displacy-tag\" dy=\"2em\" fill=\"currentColor\" x=\"2750\">DET</tspan>\n",
       "</text>\n",
       "\n",
       "<text class=\"displacy-token\" fill=\"currentColor\" text-anchor=\"middle\" y=\"347.0\">\n",
       "    <tspan class=\"displacy-word\" fill=\"currentColor\" x=\"2900\">atmospheres</tspan>\n",
       "    <tspan class=\"displacy-tag\" dy=\"2em\" fill=\"currentColor\" x=\"2900\">NOUN</tspan>\n",
       "</text>\n",
       "\n",
       "<text class=\"displacy-token\" fill=\"currentColor\" text-anchor=\"middle\" y=\"347.0\">\n",
       "    <tspan class=\"displacy-word\" fill=\"currentColor\" x=\"3050\">of</tspan>\n",
       "    <tspan class=\"displacy-tag\" dy=\"2em\" fill=\"currentColor\" x=\"3050\">ADP</tspan>\n",
       "</text>\n",
       "\n",
       "<text class=\"displacy-token\" fill=\"currentColor\" text-anchor=\"middle\" y=\"347.0\">\n",
       "    <tspan class=\"displacy-word\" fill=\"currentColor\" x=\"3200\">their</tspan>\n",
       "    <tspan class=\"displacy-tag\" dy=\"2em\" fill=\"currentColor\" x=\"3200\">DET</tspan>\n",
       "</text>\n",
       "\n",
       "<text class=\"displacy-token\" fill=\"currentColor\" text-anchor=\"middle\" y=\"347.0\">\n",
       "    <tspan class=\"displacy-word\" fill=\"currentColor\" x=\"3350\">planets.</tspan>\n",
       "    <tspan class=\"displacy-tag\" dy=\"2em\" fill=\"currentColor\" x=\"3350\">NOUN</tspan>\n",
       "</text>\n",
       "\n",
       "<g class=\"displacy-arrow\">\n",
       "    <path class=\"displacy-arc\" id=\"arrow-aa8b7b519d2d42dda342f4cbf18b4f80-0-0\" stroke-width=\"2px\" d=\"M62,302.0 62,202.0 800.0,202.0 800.0,302.0\" fill=\"none\" stroke=\"currentColor\"/>\n",
       "    <text dy=\"1.25em\" style=\"font-size: 0.8em; letter-spacing: 1px\">\n",
       "        <textPath xlink:href=\"#arrow-aa8b7b519d2d42dda342f4cbf18b4f80-0-0\" class=\"displacy-label\" startOffset=\"50%\" side=\"left\" fill=\"currentColor\" text-anchor=\"middle\">det</textPath>\n",
       "    </text>\n",
       "    <path class=\"displacy-arrowhead\" d=\"M62,304.0 L58,296.0 66,296.0\" fill=\"currentColor\"/>\n",
       "</g>\n",
       "\n",
       "<g class=\"displacy-arrow\">\n",
       "    <path class=\"displacy-arc\" id=\"arrow-aa8b7b519d2d42dda342f4cbf18b4f80-0-1\" stroke-width=\"2px\" d=\"M212,302.0 212,277.0 341.0,277.0 341.0,302.0\" fill=\"none\" stroke=\"currentColor\"/>\n",
       "    <text dy=\"1.25em\" style=\"font-size: 0.8em; letter-spacing: 1px\">\n",
       "        <textPath xlink:href=\"#arrow-aa8b7b519d2d42dda342f4cbf18b4f80-0-1\" class=\"displacy-label\" startOffset=\"50%\" side=\"left\" fill=\"currentColor\" text-anchor=\"middle\">subtok</textPath>\n",
       "    </text>\n",
       "    <path class=\"displacy-arrowhead\" d=\"M212,304.0 L208,296.0 216,296.0\" fill=\"currentColor\"/>\n",
       "</g>\n",
       "\n",
       "<g class=\"displacy-arrow\">\n",
       "    <path class=\"displacy-arc\" id=\"arrow-aa8b7b519d2d42dda342f4cbf18b4f80-0-2\" stroke-width=\"2px\" d=\"M362,302.0 362,227.0 797.0,227.0 797.0,302.0\" fill=\"none\" stroke=\"currentColor\"/>\n",
       "    <text dy=\"1.25em\" style=\"font-size: 0.8em; letter-spacing: 1px\">\n",
       "        <textPath xlink:href=\"#arrow-aa8b7b519d2d42dda342f4cbf18b4f80-0-2\" class=\"displacy-label\" startOffset=\"50%\" side=\"left\" fill=\"currentColor\" text-anchor=\"middle\">nmod</textPath>\n",
       "    </text>\n",
       "    <path class=\"displacy-arrowhead\" d=\"M362,304.0 L358,296.0 366,296.0\" fill=\"currentColor\"/>\n",
       "</g>\n",
       "\n",
       "<g class=\"displacy-arrow\">\n",
       "    <path class=\"displacy-arc\" id=\"arrow-aa8b7b519d2d42dda342f4cbf18b4f80-0-3\" stroke-width=\"2px\" d=\"M362,302.0 362,277.0 491.0,277.0 491.0,302.0\" fill=\"none\" stroke=\"currentColor\"/>\n",
       "    <text dy=\"1.25em\" style=\"font-size: 0.8em; letter-spacing: 1px\">\n",
       "        <textPath xlink:href=\"#arrow-aa8b7b519d2d42dda342f4cbf18b4f80-0-3\" class=\"displacy-label\" startOffset=\"50%\" side=\"left\" fill=\"currentColor\" text-anchor=\"middle\">cc</textPath>\n",
       "    </text>\n",
       "    <path class=\"displacy-arrowhead\" d=\"M491.0,304.0 L495.0,296.0 487.0,296.0\" fill=\"currentColor\"/>\n",
       "</g>\n",
       "\n",
       "<g class=\"displacy-arrow\">\n",
       "    <path class=\"displacy-arc\" id=\"arrow-aa8b7b519d2d42dda342f4cbf18b4f80-0-4\" stroke-width=\"2px\" d=\"M362,302.0 362,252.0 644.0,252.0 644.0,302.0\" fill=\"none\" stroke=\"currentColor\"/>\n",
       "    <text dy=\"1.25em\" style=\"font-size: 0.8em; letter-spacing: 1px\">\n",
       "        <textPath xlink:href=\"#arrow-aa8b7b519d2d42dda342f4cbf18b4f80-0-4\" class=\"displacy-label\" startOffset=\"50%\" side=\"left\" fill=\"currentColor\" text-anchor=\"middle\">conj</textPath>\n",
       "    </text>\n",
       "    <path class=\"displacy-arrowhead\" d=\"M644.0,304.0 L648.0,296.0 640.0,296.0\" fill=\"currentColor\"/>\n",
       "</g>\n",
       "\n",
       "<g class=\"displacy-arrow\">\n",
       "    <path class=\"displacy-arc\" id=\"arrow-aa8b7b519d2d42dda342f4cbf18b4f80-0-5\" stroke-width=\"2px\" d=\"M812,302.0 812,227.0 1247.0,227.0 1247.0,302.0\" fill=\"none\" stroke=\"currentColor\"/>\n",
       "    <text dy=\"1.25em\" style=\"font-size: 0.8em; letter-spacing: 1px\">\n",
       "        <textPath xlink:href=\"#arrow-aa8b7b519d2d42dda342f4cbf18b4f80-0-5\" class=\"displacy-label\" startOffset=\"50%\" side=\"left\" fill=\"currentColor\" text-anchor=\"middle\">nsubj</textPath>\n",
       "    </text>\n",
       "    <path class=\"displacy-arrowhead\" d=\"M812,304.0 L808,296.0 816,296.0\" fill=\"currentColor\"/>\n",
       "</g>\n",
       "\n",
       "<g class=\"displacy-arrow\">\n",
       "    <path class=\"displacy-arc\" id=\"arrow-aa8b7b519d2d42dda342f4cbf18b4f80-0-6\" stroke-width=\"2px\" d=\"M812,302.0 812,277.0 941.0,277.0 941.0,302.0\" fill=\"none\" stroke=\"currentColor\"/>\n",
       "    <text dy=\"1.25em\" style=\"font-size: 0.8em; letter-spacing: 1px\">\n",
       "        <textPath xlink:href=\"#arrow-aa8b7b519d2d42dda342f4cbf18b4f80-0-6\" class=\"displacy-label\" startOffset=\"50%\" side=\"left\" fill=\"currentColor\" text-anchor=\"middle\">prep</textPath>\n",
       "    </text>\n",
       "    <path class=\"displacy-arrowhead\" d=\"M941.0,304.0 L945.0,296.0 937.0,296.0\" fill=\"currentColor\"/>\n",
       "</g>\n",
       "\n",
       "<g class=\"displacy-arrow\">\n",
       "    <path class=\"displacy-arc\" id=\"arrow-aa8b7b519d2d42dda342f4cbf18b4f80-0-7\" stroke-width=\"2px\" d=\"M962,302.0 962,277.0 1091.0,277.0 1091.0,302.0\" fill=\"none\" stroke=\"currentColor\"/>\n",
       "    <text dy=\"1.25em\" style=\"font-size: 0.8em; letter-spacing: 1px\">\n",
       "        <textPath xlink:href=\"#arrow-aa8b7b519d2d42dda342f4cbf18b4f80-0-7\" class=\"displacy-label\" startOffset=\"50%\" side=\"left\" fill=\"currentColor\" text-anchor=\"middle\">pobj</textPath>\n",
       "    </text>\n",
       "    <path class=\"displacy-arrowhead\" d=\"M1091.0,304.0 L1095.0,296.0 1087.0,296.0\" fill=\"currentColor\"/>\n",
       "</g>\n",
       "\n",
       "<g class=\"displacy-arrow\">\n",
       "    <path class=\"displacy-arc\" id=\"arrow-aa8b7b519d2d42dda342f4cbf18b4f80-0-8\" stroke-width=\"2px\" d=\"M1412,302.0 1412,252.0 1694.0,252.0 1694.0,302.0\" fill=\"none\" stroke=\"currentColor\"/>\n",
       "    <text dy=\"1.25em\" style=\"font-size: 0.8em; letter-spacing: 1px\">\n",
       "        <textPath xlink:href=\"#arrow-aa8b7b519d2d42dda342f4cbf18b4f80-0-8\" class=\"displacy-label\" startOffset=\"50%\" side=\"left\" fill=\"currentColor\" text-anchor=\"middle\">det</textPath>\n",
       "    </text>\n",
       "    <path class=\"displacy-arrowhead\" d=\"M1412,304.0 L1408,296.0 1416,296.0\" fill=\"currentColor\"/>\n",
       "</g>\n",
       "\n",
       "<g class=\"displacy-arrow\">\n",
       "    <path class=\"displacy-arc\" id=\"arrow-aa8b7b519d2d42dda342f4cbf18b4f80-0-9\" stroke-width=\"2px\" d=\"M1562,302.0 1562,277.0 1691.0,277.0 1691.0,302.0\" fill=\"none\" stroke=\"currentColor\"/>\n",
       "    <text dy=\"1.25em\" style=\"font-size: 0.8em; letter-spacing: 1px\">\n",
       "        <textPath xlink:href=\"#arrow-aa8b7b519d2d42dda342f4cbf18b4f80-0-9\" class=\"displacy-label\" startOffset=\"50%\" side=\"left\" fill=\"currentColor\" text-anchor=\"middle\">amod</textPath>\n",
       "    </text>\n",
       "    <path class=\"displacy-arrowhead\" d=\"M1562,304.0 L1558,296.0 1566,296.0\" fill=\"currentColor\"/>\n",
       "</g>\n",
       "\n",
       "<g class=\"displacy-arrow\">\n",
       "    <path class=\"displacy-arc\" id=\"arrow-aa8b7b519d2d42dda342f4cbf18b4f80-0-10\" stroke-width=\"2px\" d=\"M1262,302.0 1262,227.0 1697.0,227.0 1697.0,302.0\" fill=\"none\" stroke=\"currentColor\"/>\n",
       "    <text dy=\"1.25em\" style=\"font-size: 0.8em; letter-spacing: 1px\">\n",
       "        <textPath xlink:href=\"#arrow-aa8b7b519d2d42dda342f4cbf18b4f80-0-10\" class=\"displacy-label\" startOffset=\"50%\" side=\"left\" fill=\"currentColor\" text-anchor=\"middle\">dobj</textPath>\n",
       "    </text>\n",
       "    <path class=\"displacy-arrowhead\" d=\"M1697.0,304.0 L1701.0,296.0 1693.0,296.0\" fill=\"currentColor\"/>\n",
       "</g>\n",
       "\n",
       "<g class=\"displacy-arrow\">\n",
       "    <path class=\"displacy-arc\" id=\"arrow-aa8b7b519d2d42dda342f4cbf18b4f80-0-11\" stroke-width=\"2px\" d=\"M1712,302.0 1712,277.0 1841.0,277.0 1841.0,302.0\" fill=\"none\" stroke=\"currentColor\"/>\n",
       "    <text dy=\"1.25em\" style=\"font-size: 0.8em; letter-spacing: 1px\">\n",
       "        <textPath xlink:href=\"#arrow-aa8b7b519d2d42dda342f4cbf18b4f80-0-11\" class=\"displacy-label\" startOffset=\"50%\" side=\"left\" fill=\"currentColor\" text-anchor=\"middle\">prep</textPath>\n",
       "    </text>\n",
       "    <path class=\"displacy-arrowhead\" d=\"M1841.0,304.0 L1845.0,296.0 1837.0,296.0\" fill=\"currentColor\"/>\n",
       "</g>\n",
       "\n",
       "<g class=\"displacy-arrow\">\n",
       "    <path class=\"displacy-arc\" id=\"arrow-aa8b7b519d2d42dda342f4cbf18b4f80-0-12\" stroke-width=\"2px\" d=\"M2012,302.0 2012,277.0 2141.0,277.0 2141.0,302.0\" fill=\"none\" stroke=\"currentColor\"/>\n",
       "    <text dy=\"1.25em\" style=\"font-size: 0.8em; letter-spacing: 1px\">\n",
       "        <textPath xlink:href=\"#arrow-aa8b7b519d2d42dda342f4cbf18b4f80-0-12\" class=\"displacy-label\" startOffset=\"50%\" side=\"left\" fill=\"currentColor\" text-anchor=\"middle\">det</textPath>\n",
       "    </text>\n",
       "    <path class=\"displacy-arrowhead\" d=\"M2012,304.0 L2008,296.0 2016,296.0\" fill=\"currentColor\"/>\n",
       "</g>\n",
       "\n",
       "<g class=\"displacy-arrow\">\n",
       "    <path class=\"displacy-arc\" id=\"arrow-aa8b7b519d2d42dda342f4cbf18b4f80-0-13\" stroke-width=\"2px\" d=\"M1862,302.0 1862,252.0 2144.0,252.0 2144.0,302.0\" fill=\"none\" stroke=\"currentColor\"/>\n",
       "    <text dy=\"1.25em\" style=\"font-size: 0.8em; letter-spacing: 1px\">\n",
       "        <textPath xlink:href=\"#arrow-aa8b7b519d2d42dda342f4cbf18b4f80-0-13\" class=\"displacy-label\" startOffset=\"50%\" side=\"left\" fill=\"currentColor\" text-anchor=\"middle\">pobj</textPath>\n",
       "    </text>\n",
       "    <path class=\"displacy-arrowhead\" d=\"M2144.0,304.0 L2148.0,296.0 2140.0,296.0\" fill=\"currentColor\"/>\n",
       "</g>\n",
       "\n",
       "<g class=\"displacy-arrow\">\n",
       "    <path class=\"displacy-arc\" id=\"arrow-aa8b7b519d2d42dda342f4cbf18b4f80-0-14\" stroke-width=\"2px\" d=\"M2162,302.0 2162,277.0 2291.0,277.0 2291.0,302.0\" fill=\"none\" stroke=\"currentColor\"/>\n",
       "    <text dy=\"1.25em\" style=\"font-size: 0.8em; letter-spacing: 1px\">\n",
       "        <textPath xlink:href=\"#arrow-aa8b7b519d2d42dda342f4cbf18b4f80-0-14\" class=\"displacy-label\" startOffset=\"50%\" side=\"left\" fill=\"currentColor\" text-anchor=\"middle\">cc</textPath>\n",
       "    </text>\n",
       "    <path class=\"displacy-arrowhead\" d=\"M2291.0,304.0 L2295.0,296.0 2287.0,296.0\" fill=\"currentColor\"/>\n",
       "</g>\n",
       "\n",
       "<g class=\"displacy-arrow\">\n",
       "    <path class=\"displacy-arc\" id=\"arrow-aa8b7b519d2d42dda342f4cbf18b4f80-0-15\" stroke-width=\"2px\" d=\"M2162,302.0 2162,252.0 2444.0,252.0 2444.0,302.0\" fill=\"none\" stroke=\"currentColor\"/>\n",
       "    <text dy=\"1.25em\" style=\"font-size: 0.8em; letter-spacing: 1px\">\n",
       "        <textPath xlink:href=\"#arrow-aa8b7b519d2d42dda342f4cbf18b4f80-0-15\" class=\"displacy-label\" startOffset=\"50%\" side=\"left\" fill=\"currentColor\" text-anchor=\"middle\">conj</textPath>\n",
       "    </text>\n",
       "    <path class=\"displacy-arrowhead\" d=\"M2444.0,304.0 L2448.0,296.0 2440.0,296.0\" fill=\"currentColor\"/>\n",
       "</g>\n",
       "\n",
       "<g class=\"displacy-arrow\">\n",
       "    <path class=\"displacy-arc\" id=\"arrow-aa8b7b519d2d42dda342f4cbf18b4f80-0-16\" stroke-width=\"2px\" d=\"M2162,302.0 2162,227.0 2597.0,227.0 2597.0,302.0\" fill=\"none\" stroke=\"currentColor\"/>\n",
       "    <text dy=\"1.25em\" style=\"font-size: 0.8em; letter-spacing: 1px\">\n",
       "        <textPath xlink:href=\"#arrow-aa8b7b519d2d42dda342f4cbf18b4f80-0-16\" class=\"displacy-label\" startOffset=\"50%\" side=\"left\" fill=\"currentColor\" text-anchor=\"middle\">prep</textPath>\n",
       "    </text>\n",
       "    <path class=\"displacy-arrowhead\" d=\"M2597.0,304.0 L2601.0,296.0 2593.0,296.0\" fill=\"currentColor\"/>\n",
       "</g>\n",
       "\n",
       "<g class=\"displacy-arrow\">\n",
       "    <path class=\"displacy-arc\" id=\"arrow-aa8b7b519d2d42dda342f4cbf18b4f80-0-17\" stroke-width=\"2px\" d=\"M2762,302.0 2762,277.0 2891.0,277.0 2891.0,302.0\" fill=\"none\" stroke=\"currentColor\"/>\n",
       "    <text dy=\"1.25em\" style=\"font-size: 0.8em; letter-spacing: 1px\">\n",
       "        <textPath xlink:href=\"#arrow-aa8b7b519d2d42dda342f4cbf18b4f80-0-17\" class=\"displacy-label\" startOffset=\"50%\" side=\"left\" fill=\"currentColor\" text-anchor=\"middle\">det</textPath>\n",
       "    </text>\n",
       "    <path class=\"displacy-arrowhead\" d=\"M2762,304.0 L2758,296.0 2766,296.0\" fill=\"currentColor\"/>\n",
       "</g>\n",
       "\n",
       "<g class=\"displacy-arrow\">\n",
       "    <path class=\"displacy-arc\" id=\"arrow-aa8b7b519d2d42dda342f4cbf18b4f80-0-18\" stroke-width=\"2px\" d=\"M2612,302.0 2612,252.0 2894.0,252.0 2894.0,302.0\" fill=\"none\" stroke=\"currentColor\"/>\n",
       "    <text dy=\"1.25em\" style=\"font-size: 0.8em; letter-spacing: 1px\">\n",
       "        <textPath xlink:href=\"#arrow-aa8b7b519d2d42dda342f4cbf18b4f80-0-18\" class=\"displacy-label\" startOffset=\"50%\" side=\"left\" fill=\"currentColor\" text-anchor=\"middle\">pobj</textPath>\n",
       "    </text>\n",
       "    <path class=\"displacy-arrowhead\" d=\"M2894.0,304.0 L2898.0,296.0 2890.0,296.0\" fill=\"currentColor\"/>\n",
       "</g>\n",
       "\n",
       "<g class=\"displacy-arrow\">\n",
       "    <path class=\"displacy-arc\" id=\"arrow-aa8b7b519d2d42dda342f4cbf18b4f80-0-19\" stroke-width=\"2px\" d=\"M2912,302.0 2912,277.0 3041.0,277.0 3041.0,302.0\" fill=\"none\" stroke=\"currentColor\"/>\n",
       "    <text dy=\"1.25em\" style=\"font-size: 0.8em; letter-spacing: 1px\">\n",
       "        <textPath xlink:href=\"#arrow-aa8b7b519d2d42dda342f4cbf18b4f80-0-19\" class=\"displacy-label\" startOffset=\"50%\" side=\"left\" fill=\"currentColor\" text-anchor=\"middle\">prep</textPath>\n",
       "    </text>\n",
       "    <path class=\"displacy-arrowhead\" d=\"M3041.0,304.0 L3045.0,296.0 3037.0,296.0\" fill=\"currentColor\"/>\n",
       "</g>\n",
       "\n",
       "<g class=\"displacy-arrow\">\n",
       "    <path class=\"displacy-arc\" id=\"arrow-aa8b7b519d2d42dda342f4cbf18b4f80-0-20\" stroke-width=\"2px\" d=\"M3212,302.0 3212,277.0 3341.0,277.0 3341.0,302.0\" fill=\"none\" stroke=\"currentColor\"/>\n",
       "    <text dy=\"1.25em\" style=\"font-size: 0.8em; letter-spacing: 1px\">\n",
       "        <textPath xlink:href=\"#arrow-aa8b7b519d2d42dda342f4cbf18b4f80-0-20\" class=\"displacy-label\" startOffset=\"50%\" side=\"left\" fill=\"currentColor\" text-anchor=\"middle\">poss</textPath>\n",
       "    </text>\n",
       "    <path class=\"displacy-arrowhead\" d=\"M3212,304.0 L3208,296.0 3216,296.0\" fill=\"currentColor\"/>\n",
       "</g>\n",
       "\n",
       "<g class=\"displacy-arrow\">\n",
       "    <path class=\"displacy-arc\" id=\"arrow-aa8b7b519d2d42dda342f4cbf18b4f80-0-21\" stroke-width=\"2px\" d=\"M3062,302.0 3062,252.0 3344.0,252.0 3344.0,302.0\" fill=\"none\" stroke=\"currentColor\"/>\n",
       "    <text dy=\"1.25em\" style=\"font-size: 0.8em; letter-spacing: 1px\">\n",
       "        <textPath xlink:href=\"#arrow-aa8b7b519d2d42dda342f4cbf18b4f80-0-21\" class=\"displacy-label\" startOffset=\"50%\" side=\"left\" fill=\"currentColor\" text-anchor=\"middle\">pobj</textPath>\n",
       "    </text>\n",
       "    <path class=\"displacy-arrowhead\" d=\"M3344.0,304.0 L3348.0,296.0 3340.0,296.0\" fill=\"currentColor\"/>\n",
       "</g>\n",
       "</svg>"
      ],
      "text/plain": [
       "<IPython.core.display.HTML object>"
      ]
     },
     "metadata": {},
     "output_type": "display_data"
    }
   ],
   "source": [
    "doc = nlp(sentences[0][0])\n",
    "displacy.render(doc, style=\"dep\", options={'compact': True})"
   ]
  }
 ],
 "metadata": {
  "kernelspec": {
   "display_name": "Python 3",
   "language": "python",
   "name": "python3"
  },
  "language_info": {
   "codemirror_mode": {
    "name": "ipython",
    "version": 3
   },
   "file_extension": ".py",
   "mimetype": "text/x-python",
   "name": "python",
   "nbconvert_exporter": "python",
   "pygments_lexer": "ipython3",
   "version": "3.7.3"
  }
 },
 "nbformat": 4,
 "nbformat_minor": 2
}
