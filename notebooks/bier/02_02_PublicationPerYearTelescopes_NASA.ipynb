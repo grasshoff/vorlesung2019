{
 "cells": [
  {
   "cell_type": "markdown",
   "metadata": {},
   "source": [
    "# Count Publications about Exoplanets in NASA ADS containing TRAPPIST, Kepler, CHEOPS per year"
   ]
  },
  {
   "cell_type": "markdown",
   "metadata": {},
   "source": [
    "## Loading the packages"
   ]
  },
  {
   "cell_type": "code",
   "execution_count": 1,
   "metadata": {
    "collapsed": true
   },
   "outputs": [],
   "source": [
    "import pandas as pd\n",
    "import numpy as np\n",
    "import re\n",
    "import matplotlib.pyplot as plt\n",
    "from collections import Counter\n",
    "%matplotlib inline"
   ]
  },
  {
   "cell_type": "markdown",
   "metadata": {},
   "source": [
    "## Loading the dataframe into python"
   ]
  },
  {
   "cell_type": "markdown",
   "metadata": {},
   "source": [
    "Here it is important to include the statement orient = 'table', because this dataframe was exported with this option, so that the exported json is a valid json. The head of the dataframe is printed out."
   ]
  },
  {
   "cell_type": "code",
   "execution_count": 2,
   "metadata": {
    "collapsed": true
   },
   "outputs": [],
   "source": [
    "dfExoplanetsNASA = pd.read_json('./data/dfExoplanetsNASA_v2.json', orient = 'table')\n",
    "dfExoplanetsNASA = dfExoplanetsNASA[dfExoplanetsNASA.abstract != 'None'].reset_index(drop=True)"
   ]
  },
  {
   "cell_type": "markdown",
   "metadata": {},
   "source": [
    "## Selecting columns to work with"
   ]
  },
  {
   "cell_type": "markdown",
   "metadata": {},
   "source": [
    "For the work with this dataframe we only need the following columns 'authors', 'title', 'published' and 'abstract'. To save memory we select only these four columns to be contained in the dataframe."
   ]
  },
  {
   "cell_type": "code",
   "execution_count": 3,
   "metadata": {
    "collapsed": true
   },
   "outputs": [],
   "source": [
    "dfExoplanetsNASA = dfExoplanetsNASA[['authors', 'title', 'published', 'abstract']]"
   ]
  },
  {
   "cell_type": "code",
   "execution_count": 4,
   "metadata": {},
   "outputs": [
    {
     "name": "stdout",
     "output_type": "stream",
     "text": [
      "The history saving thread hit an unexpected error (OperationalError('database is locked')).History will not be written to the database.\n"
     ]
    },
    {
     "data": {
      "text/html": [
       "<div>\n",
       "<style scoped>\n",
       "    .dataframe tbody tr th:only-of-type {\n",
       "        vertical-align: middle;\n",
       "    }\n",
       "\n",
       "    .dataframe tbody tr th {\n",
       "        vertical-align: top;\n",
       "    }\n",
       "\n",
       "    .dataframe thead th {\n",
       "        text-align: right;\n",
       "    }\n",
       "</style>\n",
       "<table border=\"1\" class=\"dataframe\">\n",
       "  <thead>\n",
       "    <tr style=\"text-align: right;\">\n",
       "      <th></th>\n",
       "      <th>authors</th>\n",
       "      <th>title</th>\n",
       "      <th>published</th>\n",
       "      <th>abstract</th>\n",
       "    </tr>\n",
       "  </thead>\n",
       "  <tbody>\n",
       "    <tr>\n",
       "      <th>0</th>\n",
       "      <td>[Zhang Bin, Qian Sheng-Bang, Liu Nian-Ping, Zh...</td>\n",
       "      <td>First photometric study of a short-period deta...</td>\n",
       "      <td>2019-07-00</td>\n",
       "      <td>NSVS 10441882 is a newly discovered eclipsing ...</td>\n",
       "    </tr>\n",
       "    <tr>\n",
       "      <th>1</th>\n",
       "      <td>[M. Alvarez-Ramírez, E. Barrabés, M. Medina, M...</td>\n",
       "      <td>Ejection-Collision orbits in the symmetric col...</td>\n",
       "      <td>2019-06-00</td>\n",
       "      <td>In this paper, we consider the collinear symme...</td>\n",
       "    </tr>\n",
       "    <tr>\n",
       "      <th>2</th>\n",
       "      <td>[Şeyda Enez, Hasan Ali Dal]</td>\n",
       "      <td>Cool spot migration and flare activity of KIC ...</td>\n",
       "      <td>2019-05-00</td>\n",
       "      <td>Analysing the photometrical data taken from th...</td>\n",
       "    </tr>\n",
       "    <tr>\n",
       "      <th>3</th>\n",
       "      <td>[Giacomo Fragione]</td>\n",
       "      <td>Dynamical origin of S-type planets in close bi...</td>\n",
       "      <td>2019-03-00</td>\n",
       "      <td>Understanding the origin of planets that have ...</td>\n",
       "    </tr>\n",
       "    <tr>\n",
       "      <th>4</th>\n",
       "      <td>[Kristina Monsch, Barbara Ercolano, Giovanni P...</td>\n",
       "      <td>The imprint of X-ray photoevaporation of plane...</td>\n",
       "      <td>2019-03-00</td>\n",
       "      <td>High-energy radiation from a planet host star ...</td>\n",
       "    </tr>\n",
       "  </tbody>\n",
       "</table>\n",
       "</div>"
      ],
      "text/plain": [
       "                                             authors  \\\n",
       "0  [Zhang Bin, Qian Sheng-Bang, Liu Nian-Ping, Zh...   \n",
       "1  [M. Alvarez-Ramírez, E. Barrabés, M. Medina, M...   \n",
       "2                        [Şeyda Enez, Hasan Ali Dal]   \n",
       "3                                 [Giacomo Fragione]   \n",
       "4  [Kristina Monsch, Barbara Ercolano, Giovanni P...   \n",
       "\n",
       "                                               title   published  \\\n",
       "0  First photometric study of a short-period deta...  2019-07-00   \n",
       "1  Ejection-Collision orbits in the symmetric col...  2019-06-00   \n",
       "2  Cool spot migration and flare activity of KIC ...  2019-05-00   \n",
       "3  Dynamical origin of S-type planets in close bi...  2019-03-00   \n",
       "4  The imprint of X-ray photoevaporation of plane...  2019-03-00   \n",
       "\n",
       "                                            abstract  \n",
       "0  NSVS 10441882 is a newly discovered eclipsing ...  \n",
       "1  In this paper, we consider the collinear symme...  \n",
       "2  Analysing the photometrical data taken from th...  \n",
       "3  Understanding the origin of planets that have ...  \n",
       "4  High-energy radiation from a planet host star ...  "
      ]
     },
     "execution_count": 4,
     "metadata": {},
     "output_type": "execute_result"
    }
   ],
   "source": [
    "dfExoplanetsNASA.head()"
   ]
  },
  {
   "cell_type": "markdown",
   "metadata": {},
   "source": [
    "Now the dataframe is ready to work with. The abstracts are stored in the column 'abstract'. This column can be accessed by `dfExoplanetsNASA.abstract`."
   ]
  },
  {
   "cell_type": "markdown",
   "metadata": {},
   "source": [
    "## Checking if TRAPPIST, Kepler or CHEOPS is in abstract"
   ]
  },
  {
   "cell_type": "markdown",
   "metadata": {},
   "source": [
    "Here we use regex to look up if the word TRAPPIST, Kepler or CHEOPS is in abstract. If it is in abstract in a new column 'yes' is appended otherwise an empty string.\n",
    "\n",
    "Here you can find a helpful cheat sheet for regex: https://www.cheatography.com/davechild/cheat-sheets/regular-expressions/"
   ]
  },
  {
   "cell_type": "code",
   "execution_count": 5,
   "metadata": {},
   "outputs": [],
   "source": [
    "dfExoplanetsNASA['TRAPPIST'] = ['' if not re.search('TRAPPIST|[Tt]rappist', i) else 'yes' for i in dfExoplanetsNASA.abstract]"
   ]
  },
  {
   "cell_type": "code",
   "execution_count": 6,
   "metadata": {
    "collapsed": true
   },
   "outputs": [],
   "source": [
    "dfExoplanetsNASA['Kepler'] = ['' if not re.search('[Kk]epler', i) else 'yes' for i in dfExoplanetsNASA.abstract]"
   ]
  },
  {
   "cell_type": "code",
   "execution_count": 7,
   "metadata": {
    "collapsed": true
   },
   "outputs": [],
   "source": [
    "dfExoplanetsNASA['CHEOPS'] = ['' if not re.search('CHEOPS|[Cc]heops', i) else 'yes' for i in dfExoplanetsNASA.abstract]"
   ]
  },
  {
   "cell_type": "code",
   "execution_count": 8,
   "metadata": {},
   "outputs": [
    {
     "data": {
      "text/html": [
       "<div>\n",
       "<style scoped>\n",
       "    .dataframe tbody tr th:only-of-type {\n",
       "        vertical-align: middle;\n",
       "    }\n",
       "\n",
       "    .dataframe tbody tr th {\n",
       "        vertical-align: top;\n",
       "    }\n",
       "\n",
       "    .dataframe thead th {\n",
       "        text-align: right;\n",
       "    }\n",
       "</style>\n",
       "<table border=\"1\" class=\"dataframe\">\n",
       "  <thead>\n",
       "    <tr style=\"text-align: right;\">\n",
       "      <th></th>\n",
       "      <th>authors</th>\n",
       "      <th>title</th>\n",
       "      <th>published</th>\n",
       "      <th>abstract</th>\n",
       "      <th>TRAPPIST</th>\n",
       "      <th>Kepler</th>\n",
       "      <th>CHEOPS</th>\n",
       "    </tr>\n",
       "  </thead>\n",
       "  <tbody>\n",
       "    <tr>\n",
       "      <th>0</th>\n",
       "      <td>[Zhang Bin, Qian Sheng-Bang, Liu Nian-Ping, Zh...</td>\n",
       "      <td>First photometric study of a short-period deta...</td>\n",
       "      <td>2019-07-00</td>\n",
       "      <td>NSVS 10441882 is a newly discovered eclipsing ...</td>\n",
       "      <td></td>\n",
       "      <td></td>\n",
       "      <td></td>\n",
       "    </tr>\n",
       "    <tr>\n",
       "      <th>1</th>\n",
       "      <td>[M. Alvarez-Ramírez, E. Barrabés, M. Medina, M...</td>\n",
       "      <td>Ejection-Collision orbits in the symmetric col...</td>\n",
       "      <td>2019-06-00</td>\n",
       "      <td>In this paper, we consider the collinear symme...</td>\n",
       "      <td></td>\n",
       "      <td></td>\n",
       "      <td></td>\n",
       "    </tr>\n",
       "    <tr>\n",
       "      <th>2</th>\n",
       "      <td>[Şeyda Enez, Hasan Ali Dal]</td>\n",
       "      <td>Cool spot migration and flare activity of KIC ...</td>\n",
       "      <td>2019-05-00</td>\n",
       "      <td>Analysing the photometrical data taken from th...</td>\n",
       "      <td></td>\n",
       "      <td>yes</td>\n",
       "      <td></td>\n",
       "    </tr>\n",
       "    <tr>\n",
       "      <th>3</th>\n",
       "      <td>[Giacomo Fragione]</td>\n",
       "      <td>Dynamical origin of S-type planets in close bi...</td>\n",
       "      <td>2019-03-00</td>\n",
       "      <td>Understanding the origin of planets that have ...</td>\n",
       "      <td></td>\n",
       "      <td></td>\n",
       "      <td>yes</td>\n",
       "    </tr>\n",
       "    <tr>\n",
       "      <th>4</th>\n",
       "      <td>[Kristina Monsch, Barbara Ercolano, Giovanni P...</td>\n",
       "      <td>The imprint of X-ray photoevaporation of plane...</td>\n",
       "      <td>2019-03-00</td>\n",
       "      <td>High-energy radiation from a planet host star ...</td>\n",
       "      <td></td>\n",
       "      <td></td>\n",
       "      <td></td>\n",
       "    </tr>\n",
       "  </tbody>\n",
       "</table>\n",
       "</div>"
      ],
      "text/plain": [
       "                                             authors  \\\n",
       "0  [Zhang Bin, Qian Sheng-Bang, Liu Nian-Ping, Zh...   \n",
       "1  [M. Alvarez-Ramírez, E. Barrabés, M. Medina, M...   \n",
       "2                        [Şeyda Enez, Hasan Ali Dal]   \n",
       "3                                 [Giacomo Fragione]   \n",
       "4  [Kristina Monsch, Barbara Ercolano, Giovanni P...   \n",
       "\n",
       "                                               title   published  \\\n",
       "0  First photometric study of a short-period deta...  2019-07-00   \n",
       "1  Ejection-Collision orbits in the symmetric col...  2019-06-00   \n",
       "2  Cool spot migration and flare activity of KIC ...  2019-05-00   \n",
       "3  Dynamical origin of S-type planets in close bi...  2019-03-00   \n",
       "4  The imprint of X-ray photoevaporation of plane...  2019-03-00   \n",
       "\n",
       "                                            abstract TRAPPIST Kepler CHEOPS  \n",
       "0  NSVS 10441882 is a newly discovered eclipsing ...                         \n",
       "1  In this paper, we consider the collinear symme...                         \n",
       "2  Analysing the photometrical data taken from th...             yes         \n",
       "3  Understanding the origin of planets that have ...                    yes  \n",
       "4  High-energy radiation from a planet host star ...                         "
      ]
     },
     "execution_count": 8,
     "metadata": {},
     "output_type": "execute_result"
    }
   ],
   "source": [
    "dfExoplanetsNASA.head()"
   ]
  },
  {
   "cell_type": "markdown",
   "metadata": {},
   "source": [
    "## Count publications per year"
   ]
  },
  {
   "cell_type": "markdown",
   "metadata": {},
   "source": [
    "Here with Counter all abstracts published in the same year are grouped together and their number is counted. For years without any publication there is a 0 added."
   ]
  },
  {
   "cell_type": "code",
   "execution_count": 9,
   "metadata": {
    "collapsed": true
   },
   "outputs": [],
   "source": [
    "listPubPerYear = list(range(1995, 2020))\n",
    "listPubYearsTRAPPIST = [int(dfExoplanetsNASA.published[i][:4]) for i in range(len(dfExoplanetsNASA)) if dfExoplanetsNASA.TRAPPIST[i] == 'yes']\n",
    "listPubYearsKepler = [int(dfExoplanetsNASA.published[i][:4]) for i in range(len(dfExoplanetsNASA)) if dfExoplanetsNASA.Kepler[i] == 'yes']\n",
    "listPubYearsCHEOPS = [int(dfExoplanetsNASA.published[i][:4]) for i in range(len(dfExoplanetsNASA)) if dfExoplanetsNASA.CHEOPS[i] == 'yes']\n",
    "listPubYears = [int(dfExoplanetsNASA.published[i][:4]) for i in range(len(dfExoplanetsNASA))]\n",
    "pubPerYearTRAPPIST = Counter(listPubYearsTRAPPIST)\n",
    "pubPerYearKepler = Counter(listPubYearsKepler)\n",
    "pubPerYearCHEOPS = Counter(listPubYearsCHEOPS)\n",
    "pubPerYear = Counter(listPubYears)\n",
    "pubPerYear = dict((k, pubPerYear[k]) for k in listPubPerYear)"
   ]
  },
  {
   "cell_type": "code",
   "execution_count": 10,
   "metadata": {
    "collapsed": true
   },
   "outputs": [],
   "source": [
    "def addYearWithoutPubToDict(liste, dictionary):\n",
    "    for i in liste:\n",
    "        if i not in dictionary:\n",
    "            dictionary[i] = 0\n",
    "    return dictionary"
   ]
  },
  {
   "cell_type": "code",
   "execution_count": 11,
   "metadata": {
    "collapsed": true
   },
   "outputs": [],
   "source": [
    "pubPerYearTRAPPIST = addYearWithoutPubToDict(listPubPerYear, pubPerYearTRAPPIST)\n",
    "pubPerYearKepler = addYearWithoutPubToDict(listPubPerYear, pubPerYearKepler)\n",
    "pubPerYearCHEOPS = addYearWithoutPubToDict(listPubPerYear, pubPerYearCHEOPS)\n",
    "pubPerYear = addYearWithoutPubToDict(listPubPerYear, pubPerYear)"
   ]
  },
  {
   "cell_type": "markdown",
   "metadata": {},
   "source": [
    "## Store information in dataframes"
   ]
  },
  {
   "cell_type": "markdown",
   "metadata": {},
   "source": [
    "To make data more handy, let's store it in a dataframe."
   ]
  },
  {
   "cell_type": "code",
   "execution_count": 12,
   "metadata": {},
   "outputs": [],
   "source": [
    "dfGraphikAbs = pd.DataFrame({'year': listPubPerYear[::-1], 'TRAPPIST': list(pubPerYearTRAPPIST.values()), 'Kepler': list(pubPerYearKepler.values()),'CHEOPS': list(pubPerYearCHEOPS.values())}).set_index('year', drop=True)\n",
    "dfGraphikAbs['totalTRAPPISTKeplerCHEOPS'] = [dfGraphikAbs.loc[i].sum() for i in dfGraphikAbs.index] \n",
    "dfGraphikAbs['absolut'] = list(pubPerYear.values())[::-1]"
   ]
  },
  {
   "cell_type": "markdown",
   "metadata": {},
   "source": [
    "## Some statistics"
   ]
  },
  {
   "cell_type": "markdown",
   "metadata": {},
   "source": [
    "Just give some absolute statistics:"
   ]
  },
  {
   "cell_type": "code",
   "execution_count": 13,
   "metadata": {},
   "outputs": [
    {
     "name": "stdout",
     "output_type": "stream",
     "text": [
      "# all Publications: 29745\n",
      "# all Publications containing TRAPPIST: 238\n",
      "# all Publications containing Kepler: 3475\n",
      "# all Publications containing CHEOPS: 122\n",
      "# all Publications containing TRAPPIST, Kepler or CHEOPS: 3835\n"
     ]
    }
   ],
   "source": [
    "sumAllPub = len(dfExoplanetsNASA)\n",
    "sumTRAPPIST = dfGraphikAbs.sum()[0]\n",
    "sumKepler = dfGraphikAbs.sum()[1]\n",
    "sumCHEOPS = dfGraphikAbs.sum()[2]\n",
    "sumTRAPPISTKeplerCHEOPS = dfGraphikAbs.sum()[3]\n",
    "print('# all Publications: ' + str(sumAllPub))\n",
    "print('# all Publications containing TRAPPIST: ' + str(sumTRAPPIST))\n",
    "print('# all Publications containing Kepler: ' + str(sumKepler))\n",
    "print('# all Publications containing CHEOPS: ' + str(sumCHEOPS))\n",
    "print('# all Publications containing TRAPPIST, Kepler or CHEOPS: ' + str(sumTRAPPISTKeplerCHEOPS))"
   ]
  },
  {
   "cell_type": "markdown",
   "metadata": {},
   "source": [
    "## Calculate percentage of abstracts containing TRAPPIST, Kepler or CHEOPS on all abstracts of a year"
   ]
  },
  {
   "cell_type": "code",
   "execution_count": 14,
   "metadata": {},
   "outputs": [
    {
     "data": {
      "text/html": [
       "<div>\n",
       "<style scoped>\n",
       "    .dataframe tbody tr th:only-of-type {\n",
       "        vertical-align: middle;\n",
       "    }\n",
       "\n",
       "    .dataframe tbody tr th {\n",
       "        vertical-align: top;\n",
       "    }\n",
       "\n",
       "    .dataframe thead th {\n",
       "        text-align: right;\n",
       "    }\n",
       "</style>\n",
       "<table border=\"1\" class=\"dataframe\">\n",
       "  <thead>\n",
       "    <tr style=\"text-align: right;\">\n",
       "      <th></th>\n",
       "      <th>TRAPPIST</th>\n",
       "      <th>Kepler</th>\n",
       "      <th>CHEOPS</th>\n",
       "    </tr>\n",
       "    <tr>\n",
       "      <th>year</th>\n",
       "      <th></th>\n",
       "      <th></th>\n",
       "      <th></th>\n",
       "    </tr>\n",
       "  </thead>\n",
       "  <tbody>\n",
       "    <tr>\n",
       "      <th>2019</th>\n",
       "      <td>4.852686</td>\n",
       "      <td>15.424610</td>\n",
       "      <td>0.693241</td>\n",
       "    </tr>\n",
       "    <tr>\n",
       "      <th>2018</th>\n",
       "      <td>2.493639</td>\n",
       "      <td>11.399491</td>\n",
       "      <td>0.661578</td>\n",
       "    </tr>\n",
       "    <tr>\n",
       "      <th>2017</th>\n",
       "      <td>2.407537</td>\n",
       "      <td>12.840195</td>\n",
       "      <td>0.593161</td>\n",
       "    </tr>\n",
       "    <tr>\n",
       "      <th>2016</th>\n",
       "      <td>0.420905</td>\n",
       "      <td>13.924939</td>\n",
       "      <td>0.526131</td>\n",
       "    </tr>\n",
       "    <tr>\n",
       "      <th>2015</th>\n",
       "      <td>0.190186</td>\n",
       "      <td>17.459110</td>\n",
       "      <td>0.760746</td>\n",
       "    </tr>\n",
       "    <tr>\n",
       "      <th>2014</th>\n",
       "      <td>0.184980</td>\n",
       "      <td>13.762486</td>\n",
       "      <td>0.665927</td>\n",
       "    </tr>\n",
       "    <tr>\n",
       "      <th>2013</th>\n",
       "      <td>0.282087</td>\n",
       "      <td>16.314057</td>\n",
       "      <td>0.329102</td>\n",
       "    </tr>\n",
       "    <tr>\n",
       "      <th>2012</th>\n",
       "      <td>0.235073</td>\n",
       "      <td>13.352139</td>\n",
       "      <td>0.047015</td>\n",
       "    </tr>\n",
       "    <tr>\n",
       "      <th>2011</th>\n",
       "      <td>0.459184</td>\n",
       "      <td>13.928571</td>\n",
       "      <td>0.204082</td>\n",
       "    </tr>\n",
       "    <tr>\n",
       "      <th>2010</th>\n",
       "      <td>0.058893</td>\n",
       "      <td>8.951708</td>\n",
       "      <td>0.117786</td>\n",
       "    </tr>\n",
       "    <tr>\n",
       "      <th>2009</th>\n",
       "      <td>0.000000</td>\n",
       "      <td>6.852590</td>\n",
       "      <td>0.478088</td>\n",
       "    </tr>\n",
       "    <tr>\n",
       "      <th>2008</th>\n",
       "      <td>0.000000</td>\n",
       "      <td>4.419322</td>\n",
       "      <td>0.205550</td>\n",
       "    </tr>\n",
       "    <tr>\n",
       "      <th>2007</th>\n",
       "      <td>0.000000</td>\n",
       "      <td>5.536332</td>\n",
       "      <td>0.000000</td>\n",
       "    </tr>\n",
       "    <tr>\n",
       "      <th>2006</th>\n",
       "      <td>0.000000</td>\n",
       "      <td>3.439803</td>\n",
       "      <td>0.000000</td>\n",
       "    </tr>\n",
       "    <tr>\n",
       "      <th>2005</th>\n",
       "      <td>0.000000</td>\n",
       "      <td>3.339518</td>\n",
       "      <td>0.000000</td>\n",
       "    </tr>\n",
       "    <tr>\n",
       "      <th>2004</th>\n",
       "      <td>0.000000</td>\n",
       "      <td>3.966597</td>\n",
       "      <td>0.000000</td>\n",
       "    </tr>\n",
       "    <tr>\n",
       "      <th>2003</th>\n",
       "      <td>0.000000</td>\n",
       "      <td>1.992032</td>\n",
       "      <td>0.000000</td>\n",
       "    </tr>\n",
       "    <tr>\n",
       "      <th>2002</th>\n",
       "      <td>0.000000</td>\n",
       "      <td>4.878049</td>\n",
       "      <td>0.000000</td>\n",
       "    </tr>\n",
       "    <tr>\n",
       "      <th>2001</th>\n",
       "      <td>0.000000</td>\n",
       "      <td>1.785714</td>\n",
       "      <td>0.000000</td>\n",
       "    </tr>\n",
       "    <tr>\n",
       "      <th>2000</th>\n",
       "      <td>0.000000</td>\n",
       "      <td>4.580153</td>\n",
       "      <td>0.000000</td>\n",
       "    </tr>\n",
       "    <tr>\n",
       "      <th>1999</th>\n",
       "      <td>0.000000</td>\n",
       "      <td>10.666667</td>\n",
       "      <td>0.000000</td>\n",
       "    </tr>\n",
       "    <tr>\n",
       "      <th>1998</th>\n",
       "      <td>0.000000</td>\n",
       "      <td>3.508772</td>\n",
       "      <td>0.000000</td>\n",
       "    </tr>\n",
       "    <tr>\n",
       "      <th>1997</th>\n",
       "      <td>0.000000</td>\n",
       "      <td>3.225806</td>\n",
       "      <td>0.000000</td>\n",
       "    </tr>\n",
       "    <tr>\n",
       "      <th>1996</th>\n",
       "      <td>0.000000</td>\n",
       "      <td>0.000000</td>\n",
       "      <td>0.000000</td>\n",
       "    </tr>\n",
       "    <tr>\n",
       "      <th>1995</th>\n",
       "      <td>0.000000</td>\n",
       "      <td>0.000000</td>\n",
       "      <td>0.000000</td>\n",
       "    </tr>\n",
       "  </tbody>\n",
       "</table>\n",
       "</div>"
      ],
      "text/plain": [
       "      TRAPPIST     Kepler    CHEOPS\n",
       "year                               \n",
       "2019  4.852686  15.424610  0.693241\n",
       "2018  2.493639  11.399491  0.661578\n",
       "2017  2.407537  12.840195  0.593161\n",
       "2016  0.420905  13.924939  0.526131\n",
       "2015  0.190186  17.459110  0.760746\n",
       "2014  0.184980  13.762486  0.665927\n",
       "2013  0.282087  16.314057  0.329102\n",
       "2012  0.235073  13.352139  0.047015\n",
       "2011  0.459184  13.928571  0.204082\n",
       "2010  0.058893   8.951708  0.117786\n",
       "2009  0.000000   6.852590  0.478088\n",
       "2008  0.000000   4.419322  0.205550\n",
       "2007  0.000000   5.536332  0.000000\n",
       "2006  0.000000   3.439803  0.000000\n",
       "2005  0.000000   3.339518  0.000000\n",
       "2004  0.000000   3.966597  0.000000\n",
       "2003  0.000000   1.992032  0.000000\n",
       "2002  0.000000   4.878049  0.000000\n",
       "2001  0.000000   1.785714  0.000000\n",
       "2000  0.000000   4.580153  0.000000\n",
       "1999  0.000000  10.666667  0.000000\n",
       "1998  0.000000   3.508772  0.000000\n",
       "1997  0.000000   3.225806  0.000000\n",
       "1996  0.000000   0.000000  0.000000\n",
       "1995  0.000000   0.000000  0.000000"
      ]
     },
     "execution_count": 14,
     "metadata": {},
     "output_type": "execute_result"
    }
   ],
   "source": [
    "dfGraphikRel = dfGraphikAbs.copy()\n",
    "dfGraphikRel['TRAPPIST'] = [dfGraphikRel.TRAPPIST[i]/dfGraphikRel.absolut[i]*100 if dfGraphikRel.absolut[i] != 0 else 0 for i in dfGraphikRel.index] \n",
    "dfGraphikRel['Kepler'] = [dfGraphikRel.Kepler[i]/dfGraphikRel.absolut[i]*100 if dfGraphikRel.absolut[i] != 0 else 0 for i in dfGraphikRel.index] \n",
    "dfGraphikRel['CHEOPS'] = [dfGraphikRel.CHEOPS[i]/dfGraphikRel.absolut[i]*100 if dfGraphikRel.absolut[i] != 0 else 0 for i in dfGraphikRel.index] \n",
    "dfGraphikRel = dfGraphikRel[['TRAPPIST','Kepler','CHEOPS']]\n",
    "dfGraphikRel"
   ]
  },
  {
   "cell_type": "code",
   "execution_count": 15,
   "metadata": {},
   "outputs": [
    {
     "data": {
      "text/plain": [
       "Text(0, 0.5, 'percentage of abstracts containing TRAPPIST, Kepler or CHEOPS')"
      ]
     },
     "execution_count": 15,
     "metadata": {},
     "output_type": "execute_result"
    },
    {
     "data": {
      "image/png": "[encoded data removed]",
      "text/plain": [
       "<Figure size 2160x1512 with 1 Axes>"
      ]
     },
     "metadata": {
      "needs_background": "light"
     },
     "output_type": "display_data"
    }
   ],
   "source": [
    "Graphik1 = dfGraphikRel.loc[listPubPerYear,['TRAPPIST','Kepler','CHEOPS']].plot.bar(stacked=True, figsize=(30,21), fontsize=20)\n",
    "Graphik1.legend(fontsize=20)\n",
    "plt.title('percentage of abstracts containing TRAPPIST, Kepler or CHEOPS over the Years', fontsize=32)\n",
    "plt.xlabel('year', fontsize=20)\n",
    "plt.ylabel('percentage of abstracts containing TRAPPIST, Kepler or CHEOPS', fontsize=20)"
   ]
  }
 ],
 "metadata": {
  "kernelspec": {
   "display_name": "Python 3",
   "language": "python",
   "name": "python3"
  },
  "language_info": {
   "codemirror_mode": {
    "name": "ipython",
    "version": 3
   },
   "file_extension": ".py",
   "mimetype": "text/x-python",
   "name": "python",
   "nbconvert_exporter": "python",
   "pygments_lexer": "ipython3",
   "version": "3.7.3"
  }
 },
 "nbformat": 4,
 "nbformat_minor": 2
}
