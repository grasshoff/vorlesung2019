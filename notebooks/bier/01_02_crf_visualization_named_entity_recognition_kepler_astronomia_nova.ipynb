{
 "cells": [
  {
   "cell_type": "markdown",
   "metadata": {},
   "source": [
    "# Named Entity Recognition (NER) by Machine learning \n",
    "\n",
    "In the following notebook, you can find a simple implementation of named entity recognition by machine learning"
   ]
  },
  {
   "cell_type": "markdown",
   "metadata": {},
   "source": [
    "## Import the required tools "
   ]
  },
  {
   "cell_type": "code",
   "execution_count": 26,
   "metadata": {
    "collapsed": true
   },
   "outputs": [],
   "source": [
    "import numpy as np\n",
    "import pandas as pd\n",
    "import scipy as sp\n",
    "import matplotlib.pyplot as plt\n",
    "%matplotlib inline\n",
    "\n",
    "from itertools import chain\n",
    "import sklearn\n",
    "import scipy.stats\n",
    "from sklearn.metrics import make_scorer\n",
    "\n",
    "from sklearn.model_selection import cross_val_score\n",
    "from sklearn.model_selection import RandomizedSearchCV\n",
    "import sklearn_crfsuite  # to install this package in windows with pip please run: 'pip install sklearn-crfsuite'\n",
    "from sklearn_crfsuite import metrics, scorers\n",
    "import nltk\n",
    "from sklearn.model_selection import train_test_split"
   ]
  },
  {
   "cell_type": "code",
   "execution_count": 4,
   "metadata": {
    "collapsed": true
   },
   "outputs": [],
   "source": [
    "dfExoplanetsNASA = pd.read_json('./data/dfExoplanetsNASAdetected100rand_v3.json', orient = 'table')"
   ]
  },
  {
   "cell_type": "code",
   "execution_count": 5,
   "metadata": {},
   "outputs": [
    {
     "data": {
      "text/html": [
       "<div>\n",
       "<style scoped>\n",
       "    .dataframe tbody tr th:only-of-type {\n",
       "        vertical-align: middle;\n",
       "    }\n",
       "\n",
       "    .dataframe tbody tr th {\n",
       "        vertical-align: top;\n",
       "    }\n",
       "\n",
       "    .dataframe thead th {\n",
       "        text-align: right;\n",
       "    }\n",
       "</style>\n",
       "<table border=\"1\" class=\"dataframe\">\n",
       "  <thead>\n",
       "    <tr style=\"text-align: right;\">\n",
       "      <th></th>\n",
       "      <th>absnum</th>\n",
       "      <th>sent</th>\n",
       "      <th>tag</th>\n",
       "      <th>pos</th>\n",
       "      <th>dep</th>\n",
       "      <th>lemma</th>\n",
       "      <th>label</th>\n",
       "    </tr>\n",
       "  </thead>\n",
       "  <tbody>\n",
       "    <tr>\n",
       "      <th>0</th>\n",
       "      <td>159</td>\n",
       "      <td>This disfavours the possibility of GI-caused s...</td>\n",
       "      <td>[DT, VBZ, DT, NN, IN, NNP, HYPH, VBN, JJ, NN, ...</td>\n",
       "      <td>[DET, VERB, DET, NOUN, ADP, PROPN, PUNCT, VERB...</td>\n",
       "      <td>[nsubj, ROOT, det, dobj, prep, npadvmod, punct...</td>\n",
       "      <td>[this, disfavour, the, possibility, of, GI, -,...</td>\n",
       "      <td>None</td>\n",
       "    </tr>\n",
       "    <tr>\n",
       "      <th>1</th>\n",
       "      <td>550</td>\n",
       "      <td>Brigham Young University (BYU) has been assist...</td>\n",
       "      <td>[NNP, NNP, NNP, -LRB-, NNP, -RRB-, VBZ, VBN, V...</td>\n",
       "      <td>[PROPN, PROPN, PROPN, PUNCT, PROPN, PUNCT, VER...</td>\n",
       "      <td>[compound, compound, nsubj, punct, appos, punc...</td>\n",
       "      <td>[Brigham, Young, University, (, BYU, ), have, ...</td>\n",
       "      <td>None</td>\n",
       "    </tr>\n",
       "    <tr>\n",
       "      <th>2</th>\n",
       "      <td>999</td>\n",
       "      <td>Shadows have been detected in several protopla...</td>\n",
       "      <td>[NNS, VBP, VBN, VBN, IN, JJ, JJ, NNS, ,, VBG, ...</td>\n",
       "      <td>[NOUN, VERB, VERB, VERB, ADP, ADJ, ADJ, NOUN, ...</td>\n",
       "      <td>[nsubjpass, aux, auxpass, ROOT, prep, amod, am...</td>\n",
       "      <td>[shadow, have, be, detect, in, several, protop...</td>\n",
       "      <td>None</td>\n",
       "    </tr>\n",
       "    <tr>\n",
       "      <th>3</th>\n",
       "      <td>1388</td>\n",
       "      <td>We found that about half the stars are too fai...</td>\n",
       "      <td>[PRP, VBD, IN, IN, PDT, DT, NNS, VBP, RB, JJ, ...</td>\n",
       "      <td>[PRON, VERB, ADP, ADP, DET, DET, NOUN, VERB, A...</td>\n",
       "      <td>[nsubj, ROOT, mark, quantmod, nummod, det, nsu...</td>\n",
       "      <td>[-PRON-, find, that, about, half, the, star, b...</td>\n",
       "      <td>discovery</td>\n",
       "    </tr>\n",
       "    <tr>\n",
       "      <th>4</th>\n",
       "      <td>1468</td>\n",
       "      <td>We detected a p.d.f. pattern that represents a...</td>\n",
       "      <td>[PRP, VBD, DT, NN, ., NN, WDT, VBZ, DT, NN, VB...</td>\n",
       "      <td>[PRON, VERB, DET, NOUN, PUNCT, NOUN, DET, VERB...</td>\n",
       "      <td>[nsubj, ROOT, det, amod, punct, dobj, nsubj, r...</td>\n",
       "      <td>[-PRON-, detect, a, p.d.f, ., pattern, that, r...</td>\n",
       "      <td>discovery</td>\n",
       "    </tr>\n",
       "  </tbody>\n",
       "</table>\n",
       "</div>"
      ],
      "text/plain": [
       "   absnum                                               sent  \\\n",
       "0     159  This disfavours the possibility of GI-caused s...   \n",
       "1     550  Brigham Young University (BYU) has been assist...   \n",
       "2     999  Shadows have been detected in several protopla...   \n",
       "3    1388  We found that about half the stars are too fai...   \n",
       "4    1468  We detected a p.d.f. pattern that represents a...   \n",
       "\n",
       "                                                 tag  \\\n",
       "0  [DT, VBZ, DT, NN, IN, NNP, HYPH, VBN, JJ, NN, ...   \n",
       "1  [NNP, NNP, NNP, -LRB-, NNP, -RRB-, VBZ, VBN, V...   \n",
       "2  [NNS, VBP, VBN, VBN, IN, JJ, JJ, NNS, ,, VBG, ...   \n",
       "3  [PRP, VBD, IN, IN, PDT, DT, NNS, VBP, RB, JJ, ...   \n",
       "4  [PRP, VBD, DT, NN, ., NN, WDT, VBZ, DT, NN, VB...   \n",
       "\n",
       "                                                 pos  \\\n",
       "0  [DET, VERB, DET, NOUN, ADP, PROPN, PUNCT, VERB...   \n",
       "1  [PROPN, PROPN, PROPN, PUNCT, PROPN, PUNCT, VER...   \n",
       "2  [NOUN, VERB, VERB, VERB, ADP, ADJ, ADJ, NOUN, ...   \n",
       "3  [PRON, VERB, ADP, ADP, DET, DET, NOUN, VERB, A...   \n",
       "4  [PRON, VERB, DET, NOUN, PUNCT, NOUN, DET, VERB...   \n",
       "\n",
       "                                                 dep  \\\n",
       "0  [nsubj, ROOT, det, dobj, prep, npadvmod, punct...   \n",
       "1  [compound, compound, nsubj, punct, appos, punc...   \n",
       "2  [nsubjpass, aux, auxpass, ROOT, prep, amod, am...   \n",
       "3  [nsubj, ROOT, mark, quantmod, nummod, det, nsu...   \n",
       "4  [nsubj, ROOT, det, amod, punct, dobj, nsubj, r...   \n",
       "\n",
       "                                               lemma      label  \n",
       "0  [this, disfavour, the, possibility, of, GI, -,...       None  \n",
       "1  [Brigham, Young, University, (, BYU, ), have, ...       None  \n",
       "2  [shadow, have, be, detect, in, several, protop...       None  \n",
       "3  [-PRON-, find, that, about, half, the, star, b...  discovery  \n",
       "4  [-PRON-, detect, a, p.d.f, ., pattern, that, r...  discovery  "
      ]
     },
     "execution_count": 5,
     "metadata": {},
     "output_type": "execute_result"
    }
   ],
   "source": [
    "dfExoplanetsNASA.head()"
   ]
  },
  {
   "cell_type": "code",
   "execution_count": 28,
   "metadata": {
    "collapsed": true
   },
   "outputs": [],
   "source": [
    "def word2features(lemma, tag, pos, dep, i):\n",
    "    word = lemma[i]\n",
    "    postag = pos[i]\n",
    "    tagtag = tag[i]\n",
    "    deptag = dep[i]\n",
    "    \n",
    "\n",
    "    features = {\n",
    "        'word': word.lower(),\n",
    "        'word[-3:]': word[-3:],\n",
    "        'word[-2:]': word[-2:],\n",
    "        'postag': postag,\n",
    "        'postag[:2]': postag[:2],\n",
    "        'tag': tagtag,\n",
    "        'tag[:2]': tagtag[:2],\n",
    "        'dep': deptag,\n",
    "        'dep[:2]': deptag[:2],\n",
    "        \n",
    "    }\n",
    "    if i > 0:\n",
    "        word1 = lemma[i-1]\n",
    "        postag1 = pos[i-1]\n",
    "        tagtag1 = tag[i-1]\n",
    "        deptag1 = dep[i-1]\n",
    "        features.update({\n",
    "            '-1:word.lower()': word1.lower(),\n",
    "            '-1:postag': postag1,\n",
    "            '-1:postag[:2]': postag1[:2],\n",
    "            '-1:tag': tagtag1,\n",
    "            '-1:tag[:2]': tagtag1[:2],\n",
    "            '-1:dep': deptag1,\n",
    "            '-1:dep[:2]': deptag1[:2],\n",
    "        })\n",
    "    else:\n",
    "        features['BOS'] = True\n",
    "\n",
    "    if i < len(lemma)-1:\n",
    "        word1 = lemma[i+1]\n",
    "        postag1 = pos[i+1]\n",
    "        tagtag1 = tag[i+1]\n",
    "        deptag1 = dep[i+1]\n",
    "        features.update({\n",
    "            '+1:word.lower()': word1.lower(),\n",
    "            '+1:postag': postag1,\n",
    "            '+1:postag[:2]': postag1[:2],\n",
    "            '+1:tag': tagtag1,\n",
    "            '+1:tag[:2]': tagtag1[:2],\n",
    "            '+1:dep': deptag1,\n",
    "            '+1:dep[:2]': deptag1[:2],\n",
    "        })\n",
    "    else:\n",
    "        features['EOS'] = True\n",
    "\n",
    "    return features\n",
    "\n",
    "\n",
    "def sent2features(j):\n",
    "    return [word2features(dfExoplanetsNASA.lemma[j], dfExoplanetsNASA.tag[j], dfExoplanetsNASA.pos[j], dfExoplanetsNASA.dep[j], i) for i in range(len(dfExoplanetsNASA.lemma[j]))]\n",
    "\n",
    "def sent2labels(j):\n",
    "    return dfExoplanetsNASA.label[j]"
   ]
  },
  {
   "cell_type": "code",
   "execution_count": 29,
   "metadata": {},
   "outputs": [
    {
     "data": {
      "text/plain": [
       "{'word': 'this',\n",
       " 'word[-3:]': 'his',\n",
       " 'word[-2:]': 'is',\n",
       " 'postag': 'DET',\n",
       " 'postag[:2]': 'DE',\n",
       " 'tag': 'DT',\n",
       " 'tag[:2]': 'DT',\n",
       " 'dep': 'nsubj',\n",
       " 'dep[:2]': 'ns',\n",
       " 'BOS': True,\n",
       " '+1:word.lower()': 'disfavour',\n",
       " '+1:postag': 'VERB',\n",
       " '+1:postag[:2]': 'VE',\n",
       " '+1:tag': 'VBZ',\n",
       " '+1:tag[:2]': 'VB',\n",
       " '+1:dep': 'ROOT',\n",
       " '+1:dep[:2]': 'RO'}"
      ]
     },
     "execution_count": 29,
     "metadata": {},
     "output_type": "execute_result"
    }
   ],
   "source": [
    "sent2features(0)[0]"
   ]
  },
  {
   "cell_type": "code",
   "execution_count": 31,
   "metadata": {},
   "outputs": [
    {
     "name": "stdout",
     "output_type": "stream",
     "text": [
      "Wall time: 223 ms\n"
     ]
    }
   ],
   "source": [
    "%%time\n",
    "X_train, X_test, y_train, y_test = train_test_split([sent2features(s) for s in range(len(dfExoplanetsNASA))], [sent2labels(s) for s in range(len(dfExoplanetsNASA))], random_state = 0)"
   ]
  },
  {
   "cell_type": "code",
   "execution_count": 32,
   "metadata": {},
   "outputs": [
    {
     "ename": "ValueError",
     "evalue": "The numbers of items and labels differ: |x| = 11, |y| = 9",
     "output_type": "error",
     "traceback": [
      "\u001b[1;31m---------------------------------------------------------------------------\u001b[0m",
      "\u001b[1;31mValueError\u001b[0m                                Traceback (most recent call last)",
      "\u001b[1;32m<timed exec>\u001b[0m in \u001b[0;36m<module>\u001b[1;34m\u001b[0m\n",
      "\u001b[1;32mC:\\ProgramData\\Anaconda3\\lib\\site-packages\\sklearn_crfsuite\\estimator.py\u001b[0m in \u001b[0;36mfit\u001b[1;34m(self, X, y, X_dev, y_dev)\u001b[0m\n\u001b[0;32m    312\u001b[0m \u001b[1;33m\u001b[0m\u001b[0m\n\u001b[0;32m    313\u001b[0m         \u001b[1;32mfor\u001b[0m \u001b[0mxseq\u001b[0m\u001b[1;33m,\u001b[0m \u001b[0myseq\u001b[0m \u001b[1;32min\u001b[0m \u001b[0mtrain_data\u001b[0m\u001b[1;33m:\u001b[0m\u001b[1;33m\u001b[0m\u001b[1;33m\u001b[0m\u001b[0m\n\u001b[1;32m--> 314\u001b[1;33m             \u001b[0mtrainer\u001b[0m\u001b[1;33m.\u001b[0m\u001b[0mappend\u001b[0m\u001b[1;33m(\u001b[0m\u001b[0mxseq\u001b[0m\u001b[1;33m,\u001b[0m \u001b[0myseq\u001b[0m\u001b[1;33m)\u001b[0m\u001b[1;33m\u001b[0m\u001b[1;33m\u001b[0m\u001b[0m\n\u001b[0m\u001b[0;32m    315\u001b[0m \u001b[1;33m\u001b[0m\u001b[0m\n\u001b[0;32m    316\u001b[0m         \u001b[1;32mif\u001b[0m \u001b[0mself\u001b[0m\u001b[1;33m.\u001b[0m\u001b[0mverbose\u001b[0m\u001b[1;33m:\u001b[0m\u001b[1;33m\u001b[0m\u001b[1;33m\u001b[0m\u001b[0m\n",
      "\u001b[1;32mpycrfsuite\\_pycrfsuite.pyx\u001b[0m in \u001b[0;36mpycrfsuite._pycrfsuite.BaseTrainer.append\u001b[1;34m()\u001b[0m\n",
      "\u001b[1;31mValueError\u001b[0m: The numbers of items and labels differ: |x| = 11, |y| = 9"
     ]
    }
   ],
   "source": [
    "%%time\n",
    "crf = sklearn_crfsuite.CRF(\n",
    "    algorithm='lbfgs',\n",
    "    c1=0.1,\n",
    "    c2=0.1,\n",
    "    max_iterations=100,\n",
    "    all_possible_transitions=True\n",
    ")\n",
    "crf.fit(X_train, y_train)"
   ]
  },
  {
   "cell_type": "code",
   "execution_count": 33,
   "metadata": {},
   "outputs": [
    {
     "ename": "NameError",
     "evalue": "name 'crf' is not defined",
     "output_type": "error",
     "traceback": [
      "\u001b[1;31m---------------------------------------------------------------------------\u001b[0m",
      "\u001b[1;31mNameError\u001b[0m                                 Traceback (most recent call last)",
      "\u001b[1;32m<ipython-input-33-851c365f2900>\u001b[0m in \u001b[0;36m<module>\u001b[1;34m\u001b[0m\n\u001b[1;32m----> 1\u001b[1;33m \u001b[0my_pred\u001b[0m \u001b[1;33m=\u001b[0m \u001b[0mcrf\u001b[0m\u001b[1;33m.\u001b[0m\u001b[0mpredict\u001b[0m\u001b[1;33m(\u001b[0m\u001b[0mX_test\u001b[0m\u001b[1;33m)\u001b[0m\u001b[1;33m\u001b[0m\u001b[1;33m\u001b[0m\u001b[0m\n\u001b[0m\u001b[0;32m      2\u001b[0m metrics.flat_f1_score(y_test, y_pred,\n\u001b[0;32m      3\u001b[0m                       average='weighted', labels=labels)\n",
      "\u001b[1;31mNameError\u001b[0m: name 'crf' is not defined"
     ]
    }
   ],
   "source": [
    "y_pred = crf.predict(X_test)\n",
    "metrics.flat_f1_score(y_test, y_pred,\n",
    "                      average='weighted', labels=labels)"
   ]
  },
  {
   "cell_type": "code",
   "execution_count": 34,
   "metadata": {},
   "outputs": [
    {
     "ename": "NameError",
     "evalue": "name 'labels' is not defined",
     "output_type": "error",
     "traceback": [
      "\u001b[1;31m---------------------------------------------------------------------------\u001b[0m",
      "\u001b[1;31mNameError\u001b[0m                                 Traceback (most recent call last)",
      "\u001b[1;32m<ipython-input-34-a8992ad87083>\u001b[0m in \u001b[0;36m<module>\u001b[1;34m\u001b[0m\n\u001b[0;32m      1\u001b[0m \u001b[1;31m# group B and I results\u001b[0m\u001b[1;33m\u001b[0m\u001b[1;33m\u001b[0m\u001b[1;33m\u001b[0m\u001b[0m\n\u001b[0;32m      2\u001b[0m sorted_labels = sorted(\n\u001b[1;32m----> 3\u001b[1;33m     \u001b[0mlabels\u001b[0m\u001b[1;33m,\u001b[0m\u001b[1;33m\u001b[0m\u001b[1;33m\u001b[0m\u001b[0m\n\u001b[0m\u001b[0;32m      4\u001b[0m     \u001b[0mkey\u001b[0m\u001b[1;33m=\u001b[0m\u001b[1;32mlambda\u001b[0m \u001b[0mname\u001b[0m\u001b[1;33m:\u001b[0m \u001b[1;33m(\u001b[0m\u001b[0mname\u001b[0m\u001b[1;33m[\u001b[0m\u001b[1;36m1\u001b[0m\u001b[1;33m:\u001b[0m\u001b[1;33m]\u001b[0m\u001b[1;33m,\u001b[0m \u001b[0mname\u001b[0m\u001b[1;33m[\u001b[0m\u001b[1;36m0\u001b[0m\u001b[1;33m]\u001b[0m\u001b[1;33m)\u001b[0m\u001b[1;33m\u001b[0m\u001b[1;33m\u001b[0m\u001b[0m\n\u001b[0;32m      5\u001b[0m )\n",
      "\u001b[1;31mNameError\u001b[0m: name 'labels' is not defined"
     ]
    }
   ],
   "source": [
    "# group B and I results\n",
    "sorted_labels = sorted(\n",
    "    labels,\n",
    "    key=lambda name: (name[1:], name[0])\n",
    ")\n",
    "print(metrics.flat_classification_report(\n",
    "    y_test, y_pred, labels=sorted_labels, digits=3\n",
    "))"
   ]
  }
 ],
 "metadata": {
  "kernelspec": {
   "display_name": "Python 3",
   "language": "python",
   "name": "python3"
  },
  "language_info": {
   "codemirror_mode": {
    "name": "ipython",
    "version": 3
   },
   "file_extension": ".py",
   "mimetype": "text/x-python",
   "name": "python",
   "nbconvert_exporter": "python",
   "pygments_lexer": "ipython3",
   "version": "3.7.3"
  }
 },
 "nbformat": 4,
 "nbformat_minor": 2
}
