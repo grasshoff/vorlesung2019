{
 "cells": [
  {
   "cell_type": "markdown",
   "metadata": {},
   "source": [
    "# Read DataFrame of Publications about Exoplanets in NASA ADS into Python"
   ]
  },
  {
   "cell_type": "markdown",
   "metadata": {},
   "source": [
    "## Loading the packages"
   ]
  },
  {
   "cell_type": "code",
   "execution_count": 1,
   "metadata": {
    "collapsed": true
   },
   "outputs": [],
   "source": [
    "import pandas as pd\n",
    "import numpy as np\n",
    "import re\n",
    "from random import randint\n",
    "from random import seed\n",
    "seed(5)"
   ]
  },
  {
   "cell_type": "markdown",
   "metadata": {},
   "source": [
    "## Loading the dataframe into python"
   ]
  },
  {
   "cell_type": "markdown",
   "metadata": {},
   "source": [
    "Here it is important to include the statement orient = 'table', because this dataframe was exported with this option, so that the exported json is a valid json. The head of the dataframe is printed out."
   ]
  },
  {
   "cell_type": "code",
   "execution_count": 2,
   "metadata": {},
   "outputs": [],
   "source": [
    "dfExoplanetsNASA = pd.read_json('./data/dfExoplanetsNASA_v2.json', orient = 'table')\n",
    "dfExoplanetsNASA = dfExoplanetsNASA[dfExoplanetsNASA.abstract != 'None'].reset_index(drop=True)"
   ]
  },
  {
   "cell_type": "code",
   "execution_count": 3,
   "metadata": {},
   "outputs": [
    {
     "data": {
      "text/html": [
       "<div>\n",
       "<style scoped>\n",
       "    .dataframe tbody tr th:only-of-type {\n",
       "        vertical-align: middle;\n",
       "    }\n",
       "\n",
       "    .dataframe tbody tr th {\n",
       "        vertical-align: top;\n",
       "    }\n",
       "\n",
       "    .dataframe thead th {\n",
       "        text-align: right;\n",
       "    }\n",
       "</style>\n",
       "<table border=\"1\" class=\"dataframe\">\n",
       "  <thead>\n",
       "    <tr style=\"text-align: right;\">\n",
       "      <th></th>\n",
       "      <th>bibcode</th>\n",
       "      <th>DOI</th>\n",
       "      <th>authors</th>\n",
       "      <th>affiliation</th>\n",
       "      <th>acknowledgements</th>\n",
       "      <th>grant</th>\n",
       "      <th>published</th>\n",
       "      <th>year</th>\n",
       "      <th>title</th>\n",
       "      <th>abstract</th>\n",
       "      <th>keywords</th>\n",
       "      <th>citation_count</th>\n",
       "    </tr>\n",
       "  </thead>\n",
       "  <tbody>\n",
       "    <tr>\n",
       "      <th>0</th>\n",
       "      <td>2019NewA...70....1B</td>\n",
       "      <td>10.1016/j.newast.2018.12.005</td>\n",
       "      <td>[Zhang Bin, Qian Sheng-Bang, Liu Nian-Ping, Zh...</td>\n",
       "      <td>[School of Physics and Electronic Science, Gui...</td>\n",
       "      <td>We thank the anonymous referee for useful comm...</td>\n",
       "      <td>[]</td>\n",
       "      <td>2019-07-00</td>\n",
       "      <td>2019</td>\n",
       "      <td>First photometric study of a short-period deta...</td>\n",
       "      <td>NSVS 10441882 is a newly discovered eclipsing ...</td>\n",
       "      <td>[Binary, Eclipsing binary, Light curve, Orbita...</td>\n",
       "      <td>0</td>\n",
       "    </tr>\n",
       "    <tr>\n",
       "      <th>1</th>\n",
       "      <td>2019CNSNS..71...82A</td>\n",
       "      <td>10.1016/j.cnsns.2018.10.026</td>\n",
       "      <td>[M. Alvarez-Ramírez, E. Barrabés, M. Medina, M...</td>\n",
       "      <td>[Dept. de Matemáticas, UAM-Iztapalapa, Ciudad ...</td>\n",
       "      <td>E. Barrabs has been supported by grants MTM201...</td>\n",
       "      <td>[]</td>\n",
       "      <td>2019-06-00</td>\n",
       "      <td>2019</td>\n",
       "      <td>Ejection-Collision orbits in the symmetric col...</td>\n",
       "      <td>In this paper, we consider the collinear symme...</td>\n",
       "      <td>[Collinear four-body problem, Ejection/collisi...</td>\n",
       "      <td>0</td>\n",
       "    </tr>\n",
       "    <tr>\n",
       "      <th>2</th>\n",
       "      <td>2019NewA...69...27E</td>\n",
       "      <td>10.1016/j.newast.2018.11.008</td>\n",
       "      <td>[Şeyda Enez, Hasan Ali Dal]</td>\n",
       "      <td>[Ege University, Department of Astronomy and S...</td>\n",
       "      <td>We wish to thank the Turkish Scientific and Te...</td>\n",
       "      <td>[]</td>\n",
       "      <td>2019-05-00</td>\n",
       "      <td>2019</td>\n",
       "      <td>Cool spot migration and flare activity of KIC ...</td>\n",
       "      <td>Analysing the photometrical data taken from th...</td>\n",
       "      <td>[Techniques: Photometric, Methods: Statistical...</td>\n",
       "      <td>0</td>\n",
       "    </tr>\n",
       "    <tr>\n",
       "      <th>3</th>\n",
       "      <td>2019MNRAS.483.3465F</td>\n",
       "      <td>10.1093/mnras/sty3367</td>\n",
       "      <td>[Giacomo Fragione]</td>\n",
       "      <td>[Racah Institute for Physics, The Hebrew Unive...</td>\n",
       "      <td>Author thanks Nader Haghighipour for useful an...</td>\n",
       "      <td>[]</td>\n",
       "      <td>2019-03-00</td>\n",
       "      <td>2019</td>\n",
       "      <td>Dynamical origin of S-type planets in close bi...</td>\n",
       "      <td>Understanding the origin of planets that have ...</td>\n",
       "      <td>[planets and satellites: general, binaries: cl...</td>\n",
       "      <td>0</td>\n",
       "    </tr>\n",
       "    <tr>\n",
       "      <th>4</th>\n",
       "      <td>2019MNRAS.483.3448M</td>\n",
       "      <td>10.1093/mnras/sty3346</td>\n",
       "      <td>[Kristina Monsch, Barbara Ercolano, Giovanni P...</td>\n",
       "      <td>[Universitäts-Sternwarte, Ludwig-Maximilians-U...</td>\n",
       "      <td>We thank Giovanni Rosotti and Jeff Jennings fo...</td>\n",
       "      <td>[]</td>\n",
       "      <td>2019-03-00</td>\n",
       "      <td>2019</td>\n",
       "      <td>The imprint of X-ray photoevaporation of plane...</td>\n",
       "      <td>High-energy radiation from a planet host star ...</td>\n",
       "      <td>[planets and satellites: formation, planet-dis...</td>\n",
       "      <td>0</td>\n",
       "    </tr>\n",
       "  </tbody>\n",
       "</table>\n",
       "</div>"
      ],
      "text/plain": [
       "               bibcode                           DOI  \\\n",
       "0  2019NewA...70....1B  10.1016/j.newast.2018.12.005   \n",
       "1  2019CNSNS..71...82A   10.1016/j.cnsns.2018.10.026   \n",
       "2  2019NewA...69...27E  10.1016/j.newast.2018.11.008   \n",
       "3  2019MNRAS.483.3465F         10.1093/mnras/sty3367   \n",
       "4  2019MNRAS.483.3448M         10.1093/mnras/sty3346   \n",
       "\n",
       "                                             authors  \\\n",
       "0  [Zhang Bin, Qian Sheng-Bang, Liu Nian-Ping, Zh...   \n",
       "1  [M. Alvarez-Ramírez, E. Barrabés, M. Medina, M...   \n",
       "2                        [Şeyda Enez, Hasan Ali Dal]   \n",
       "3                                 [Giacomo Fragione]   \n",
       "4  [Kristina Monsch, Barbara Ercolano, Giovanni P...   \n",
       "\n",
       "                                         affiliation  \\\n",
       "0  [School of Physics and Electronic Science, Gui...   \n",
       "1  [Dept. de Matemáticas, UAM-Iztapalapa, Ciudad ...   \n",
       "2  [Ege University, Department of Astronomy and S...   \n",
       "3  [Racah Institute for Physics, The Hebrew Unive...   \n",
       "4  [Universitäts-Sternwarte, Ludwig-Maximilians-U...   \n",
       "\n",
       "                                    acknowledgements grant   published  year  \\\n",
       "0  We thank the anonymous referee for useful comm...    []  2019-07-00  2019   \n",
       "1  E. Barrabs has been supported by grants MTM201...    []  2019-06-00  2019   \n",
       "2  We wish to thank the Turkish Scientific and Te...    []  2019-05-00  2019   \n",
       "3  Author thanks Nader Haghighipour for useful an...    []  2019-03-00  2019   \n",
       "4  We thank Giovanni Rosotti and Jeff Jennings fo...    []  2019-03-00  2019   \n",
       "\n",
       "                                               title  \\\n",
       "0  First photometric study of a short-period deta...   \n",
       "1  Ejection-Collision orbits in the symmetric col...   \n",
       "2  Cool spot migration and flare activity of KIC ...   \n",
       "3  Dynamical origin of S-type planets in close bi...   \n",
       "4  The imprint of X-ray photoevaporation of plane...   \n",
       "\n",
       "                                            abstract  \\\n",
       "0  NSVS 10441882 is a newly discovered eclipsing ...   \n",
       "1  In this paper, we consider the collinear symme...   \n",
       "2  Analysing the photometrical data taken from th...   \n",
       "3  Understanding the origin of planets that have ...   \n",
       "4  High-energy radiation from a planet host star ...   \n",
       "\n",
       "                                            keywords  citation_count  \n",
       "0  [Binary, Eclipsing binary, Light curve, Orbita...               0  \n",
       "1  [Collinear four-body problem, Ejection/collisi...               0  \n",
       "2  [Techniques: Photometric, Methods: Statistical...               0  \n",
       "3  [planets and satellites: general, binaries: cl...               0  \n",
       "4  [planets and satellites: formation, planet-dis...               0  "
      ]
     },
     "execution_count": 3,
     "metadata": {},
     "output_type": "execute_result"
    }
   ],
   "source": [
    "dfExoplanetsNASA.head()"
   ]
  },
  {
   "cell_type": "markdown",
   "metadata": {},
   "source": [
    "## Selecting columns to work with"
   ]
  },
  {
   "cell_type": "markdown",
   "metadata": {},
   "source": [
    "For the work with this dataframe we only need the following columns 'authors', 'title', 'published' and 'abstract'. To save memory we select only these four columns to be contained in the dataframe."
   ]
  },
  {
   "cell_type": "code",
   "execution_count": 4,
   "metadata": {
    "collapsed": true
   },
   "outputs": [],
   "source": [
    "dfExoplanetsNASA = dfExoplanetsNASA[['authors', 'title', 'published', 'abstract']]"
   ]
  },
  {
   "cell_type": "code",
   "execution_count": 8,
   "metadata": {},
   "outputs": [
    {
     "data": {
      "text/html": [
       "<div>\n",
       "<style scoped>\n",
       "    .dataframe tbody tr th:only-of-type {\n",
       "        vertical-align: middle;\n",
       "    }\n",
       "\n",
       "    .dataframe tbody tr th {\n",
       "        vertical-align: top;\n",
       "    }\n",
       "\n",
       "    .dataframe thead th {\n",
       "        text-align: right;\n",
       "    }\n",
       "</style>\n",
       "<table border=\"1\" class=\"dataframe\">\n",
       "  <thead>\n",
       "    <tr style=\"text-align: right;\">\n",
       "      <th></th>\n",
       "      <th>authors</th>\n",
       "      <th>title</th>\n",
       "      <th>published</th>\n",
       "      <th>abstract</th>\n",
       "    </tr>\n",
       "  </thead>\n",
       "  <tbody>\n",
       "    <tr>\n",
       "      <th>0</th>\n",
       "      <td>[Zhang Bin, Qian Sheng-Bang, Liu Nian-Ping, Zh...</td>\n",
       "      <td>First photometric study of a short-period deta...</td>\n",
       "      <td>2019-07-00</td>\n",
       "      <td>NSVS 10441882 is a newly discovered eclipsing ...</td>\n",
       "    </tr>\n",
       "    <tr>\n",
       "      <th>1</th>\n",
       "      <td>[M. Alvarez-Ramírez, E. Barrabés, M. Medina, M...</td>\n",
       "      <td>Ejection-Collision orbits in the symmetric col...</td>\n",
       "      <td>2019-06-00</td>\n",
       "      <td>In this paper, we consider the collinear symme...</td>\n",
       "    </tr>\n",
       "    <tr>\n",
       "      <th>2</th>\n",
       "      <td>[Şeyda Enez, Hasan Ali Dal]</td>\n",
       "      <td>Cool spot migration and flare activity of KIC ...</td>\n",
       "      <td>2019-05-00</td>\n",
       "      <td>Analysing the photometrical data taken from th...</td>\n",
       "    </tr>\n",
       "    <tr>\n",
       "      <th>3</th>\n",
       "      <td>[Giacomo Fragione]</td>\n",
       "      <td>Dynamical origin of S-type planets in close bi...</td>\n",
       "      <td>2019-03-00</td>\n",
       "      <td>Understanding the origin of planets that have ...</td>\n",
       "    </tr>\n",
       "    <tr>\n",
       "      <th>4</th>\n",
       "      <td>[Kristina Monsch, Barbara Ercolano, Giovanni P...</td>\n",
       "      <td>The imprint of X-ray photoevaporation of plane...</td>\n",
       "      <td>2019-03-00</td>\n",
       "      <td>High-energy radiation from a planet host star ...</td>\n",
       "    </tr>\n",
       "  </tbody>\n",
       "</table>\n",
       "</div>"
      ],
      "text/plain": [
       "                                             authors  \\\n",
       "0  [Zhang Bin, Qian Sheng-Bang, Liu Nian-Ping, Zh...   \n",
       "1  [M. Alvarez-Ramírez, E. Barrabés, M. Medina, M...   \n",
       "2                        [Şeyda Enez, Hasan Ali Dal]   \n",
       "3                                 [Giacomo Fragione]   \n",
       "4  [Kristina Monsch, Barbara Ercolano, Giovanni P...   \n",
       "\n",
       "                                               title   published  \\\n",
       "0  First photometric study of a short-period deta...  2019-07-00   \n",
       "1  Ejection-Collision orbits in the symmetric col...  2019-06-00   \n",
       "2  Cool spot migration and flare activity of KIC ...  2019-05-00   \n",
       "3  Dynamical origin of S-type planets in close bi...  2019-03-00   \n",
       "4  The imprint of X-ray photoevaporation of plane...  2019-03-00   \n",
       "\n",
       "                                            abstract  \n",
       "0  NSVS 10441882 is a newly discovered eclipsing ...  \n",
       "1  In this paper, we consider the collinear symme...  \n",
       "2  Analysing the photometrical data taken from th...  \n",
       "3  Understanding the origin of planets that have ...  \n",
       "4  High-energy radiation from a planet host star ...  "
      ]
     },
     "execution_count": 8,
     "metadata": {},
     "output_type": "execute_result"
    }
   ],
   "source": [
    "dfExoplanetsNASA.head()"
   ]
  },
  {
   "cell_type": "markdown",
   "metadata": {},
   "source": [
    "Now the dataframe is ready to work with. The abstracts are stored in the column 'abstract'. This column can be accessed by `dfExoplanetsNASA.abstract`."
   ]
  },
  {
   "cell_type": "markdown",
   "metadata": {},
   "source": [
    "## Pick 500 random abstracts from dataframe"
   ]
  },
  {
   "cell_type": "markdown",
   "metadata": {},
   "source": [
    "This code picks 500 random abstracts from the dataframe makes a list out of them and shows these 20 abstracts."
   ]
  },
  {
   "cell_type": "code",
   "execution_count": 5,
   "metadata": {
    "collapsed": true
   },
   "outputs": [],
   "source": [
    "abstracts = [i for i in dfExoplanetsNASA.abstract if i != 'None']\n",
    "randabs = []\n",
    "for i in range(500):\n",
    "    numpaper = randint(0, len(abstracts))\n",
    "    randabs.append(abstracts[numpaper])"
   ]
  },
  {
   "cell_type": "markdown",
   "metadata": {},
   "source": [
    "## Pick 10 abstracts from the random abstracts"
   ]
  },
  {
   "cell_type": "markdown",
   "metadata": {},
   "source": [
    "This code picks 10 abstracts from the random abstracts and makes a list out of them and shows these 10 abstracts."
   ]
  },
  {
   "cell_type": "code",
   "execution_count": 6,
   "metadata": {
    "collapsed": true
   },
   "outputs": [],
   "source": [
    "seed(8)\n",
    "randabs10 = []\n",
    "for i in range(10):\n",
    "    numpaper = randint(0, len(randabs))\n",
    "    randabs10.append(randabs[numpaper])"
   ]
  },
  {
   "cell_type": "code",
   "execution_count": 7,
   "metadata": {},
   "outputs": [
    {
     "data": {
      "text/plain": [
       "['The X-ray and EUV emission of stars plays a key role in the loss and evolution of the atmospheres of their planets. The coronae of dwarf stars later than M6 appear to behave differently to those of earlier spectral types and are more X-ray dim and radio bright. Too faint to have been observed by the Extreme Ultraviolet Explorer, their EUV behavior is currently highly uncertain. We have devised a method to use the Chandra X-ray Observatory High Resolution Camera to provide a measure of EUV emission in the 50-170 \\\\AA\\\\ range and have applied it to the M6.5 dwarf LHS 248 in a pilot 10 ks exposure. Analysis with model spectra using simple, idealised coronal emission measure distributions inspired by an analysis of Chandra HETG spectra of the M5.5 dwarf Proxima Cen and results from the literature, finds greatest consistency with a very shallow emission measure distribution slope, $DEM \\\\propto T^{3/2}$ or shallower, in the range $\\\\log T=5.5$-$6.5$. Within $2\\\\sigma$ confidence, a much wider range of slopes can be accommodated. Model spectra constrained by this method can provide accurate (within a factor of 2-4) synthesis and extrapolation of EUV spectra for wavelengths $&lt;400$-500 \\\\AA. At longer wavelengths models are uncertain by an order of magnitude or more, and depend on the details of the emission measure distribution at temperatures $\\\\log T &lt; 5.5$. The method is sensitive to possible incompleteness of plasma radiative loss models in the 30 170 \\\\AA\\\\ range for which re-examination would be warranted.',\n",
       " 'A robust post processing technique is mandatory to analyse the coronagraphic high contrast imaging data. Angular Differential Imaging (ADI) and Principal Component Analysis (PCA) are the most used approaches to suppress the quasi-static structure in the Point Spread Function (PSF) in order to revealing planets at different separations from the host star. The focus of this work is to apply these two data reduction techniques to obtain the best limit detection for each coronagraphic setting that has been simulated for the SHARK-NIR, a coronagraphic camera that will be implemented at the Large Binocular Telescope (LBT). We investigated different seeing conditions ($0.4\"-1\"$) for stellar magnitude ranging from R=6 to R=14, with particular care in finding the best compromise between quasi-static speckle subtraction and planet detection.',\n",
       " \"Measurements of the transmission spectrum of a transiting exoplanet require an understanding of the host star's photosphere. If the transit chord differs from the rest of the photosphere, as is the case when unocculted starspots are present, the difference between the two regions will be imprinted on the transmission spectrum we observe. This issue is particularly important for M-dwarf host stars, which provide the best opportunities to study smaller transiting planets, but also remain active for longer after formation than their higher-mass counterparts. Here, we present an optical transmission (4,500-9,260 Å) of the sub-Neptune GJ 1214b measured with Magellan/IMACS, which points to features potentially imprinted by its mid-M-dwarf host star. Our optical spectrum is generally offset below values found in the near-infrared for this target, and tends to decrease at shorter wavelengths. We find the ensemble of optical and near-infrared transit depths are best explained by the combination of a flat planetary transmission spectrum—owing to lofted, equilibrium condensate clouds or thick photochemical hazes—and another signal produced by heterogeneities in the stellar photosphere. We present the Composite Photosphere and Atmospheric Transmission (CPAT) model for jointly incorporating stellar and exoplanetary signals. Using the CPAT model, we show that unocculted stellar faculae with temperature contrasts and covering fractions similar to those found for solar limb faculae can explain the observed optical transmission spectrum. We show how the CPAT model can be used to correct transmission spectra for persistent heterogeneities in stellar photospheres, like limb faculae, and discuss the implications of stellar photospheric heterogeneities for transmission spectroscopy of exciting M-dwarf-hosted exoplanets that will be discovered by the Transiting Exoplanet Survey Satellite.\",\n",
       " \"We calculate the theoretical evolution of the radii of all 14 of the known transiting extrasolar giant planets (EGPs) for a variety of assumptions concerning atmospheric opacity, dense inner core masses, and possible internal power sources. We incorporate the effects of stellar irradiation and customize such effects for each EGP and star. Looking collectively at the family as a whole, we find that there are in fact two radius anomalies to be explained. Not only are the radii of a subset of the known transiting EGPs larger than expected from previous theory, but many of the other objects are smaller than the default theory would allow. We suggest that the larger EGPs can be explained by invoking enhanced atmospheric opacities that naturally retain internal heat. This explanation might obviate the necessity for an extra internal power source. We explain the smaller radii by the presence in perhaps all the known transiting EGPs of dense cores, such as have been inferred for Saturn and Jupiter. Importantly, we derive a rough correlation between the masses of our ``best-fit'' cores and the stellar metallicity that seems to buttress the core-accretion model of their formation. Although many caveats and uncertainties remain, the resulting comprehensive theory that incorporates enhanced-opacity atmospheres and dense cores is in reasonable accord with all the current structural data for the known transiting giant planets.\",\n",
       " 'Power systems and appropriate launch vehicles present the main challenges to launching a New Frontiers-class ice giant orbiter before 2040.',\n",
       " 'Two exoplanet candidates that have recently been discovered with the Kepler mission, KIC 12557548b and KOI-2700b, exhibit transit signals whose shapes suggest that they are accompanied by comet-like dust tails. Since the dust grains in the tails likely originate in the evaporating surfaces of the planets, these objects offer a unique chance to probe the interior of small exoplanets. The precise morphology of the transit signals can be used to put constraints on the composition of the grains in the dust tails, since the evolution of the grains is dictated by material-dependent optical and thermodynamical properties. We self-consistently model the dynamical and size evolution of dust grains released from the planet, by numerically solving the equations of motion and sublimation. We use a radiative transfer code to compute synthetic light curves from the resulting steady-state dust distributions, and compare these with the phase-folded light curves of the two candidates discovered so far.',\n",
       " 'We present a long-term light curve of the precataclysmic variable (CV) V1082 Sgr obtained by the K2 mission over the course of 81 days. We analyze the entire complex light curve as well as explore several sections in detail with a sliding periodogram. The long data set allows the first detection of the orbital period in the light curve, as well as the confirmation of cyclical variability on a longer timescale of about a month. A portion of the light curve in deep minimum reveals a clean, near-sinusoidal variability attributed to the rotation of the spotted surface of the donor star. We model that portion of the light curve assuming that the donor star grossly under-fills its Roche lobe, has cool spots similar to a chromospherically active, slightly evolved early K-star, and might be irradiated by the X-ray beam from the magnetically accreting white dwarf. The fast variability of the object in the active phases resembles the light curves of magnetic CVs (polars).',\n",
       " 'Deep, stable nulling of starlight requires careful control of the amplitudes and phases of the beams that are being combined. The detection of earth-like planets using the interferometer architectures currently being considered for the Terrestrial Planet Finder mission require that the E-field amplitudes are balanced at the level of ~ 0.1%, and the phases are controlled at the level of 1 mrad (corresponding to ~ 1.5 nm for a wavelength of 10 μm). These conditions must be met simultaneously at all wavelengths across the science band, and for both polarization states, imposing unrealistic tolerances on the symmetry between the optical beamtrains. We introduce the concept of a compensator that is inserted into the beamtrain, which can adaptively correct for the mismatches across the spectrum, enabling deep nulls with realistic, imperfect optics. The design presented uses a deformable mirror to adjust the amplitude and phase of each beam as an arbitrary function of wavelength and polarization. A proof-of-concept experiment will be conducted at visible / near-IR wavelengths, followed by a system operating in the Mid-IR band.',\n",
       " 'We present here the first experimental data for the phase diagram of the H2O-NaCl system at high. Our results show a significant influence of NaCl on the phase diagram. A lot of NaCl is directly disolved into the dense ice phase. This would increase the depth of the solid phase transition inside large icy moons or super-earth exoplanets. These results may have major implication for astrophysical, geophysical and geodynamical modelisations of this water-rich planetary bodies.',\n",
       " 'The results of three-dimensional numerical simulations of the gas dynamics of the atmosphere of a \"hot Jupiter\" exoplanet during the passage of a coronal mass ejection (CME) from the central star are presented. These computations assumed the parameters for the stellar wind and the CME to be typical of the solar values. The characteristic variations of the flow pattern are considered for quasi-closed and closed (but appreciably distorted by the gravitational influence of the star) gaseous envelopes of the exoplanet. It is shown that a typical CME is sufficient to tear off the outer part of an asymmetric envelope that is located beyond the Roche lobe and carry it away from the exoplanet. This leads to a substantial increase in the mass-loss rate from the exoplanet envelope during the passage of CMEs. The mass-loss rate grows by about a factor of 11 for a closed envelope, and by about a factor of 14 for a quasi-closed envelope. Possible evolutionary consequences of the loss of part of the atmosphere during the passage of CMEs are discussed.']"
      ]
     },
     "execution_count": 7,
     "metadata": {},
     "output_type": "execute_result"
    }
   ],
   "source": [
    "randabs10"
   ]
  },
  {
   "cell_type": "markdown",
   "metadata": {},
   "source": [
    "## Exporting the abstracts"
   ]
  },
  {
   "cell_type": "markdown",
   "metadata": {},
   "source": [
    "Here the ten abstracts are exoprted one by one to text files and stored under `../data/test/{no. of abstract}randAbsOf500.txt`."
   ]
  },
  {
   "cell_type": "raw",
   "metadata": {},
   "source": [
    "for i in range(len(randabs10)):\n",
    "    f = open('../data/test/' + str(i+1) + 'randAbsOf500.txt','w')\n",
    "    f.write(randabs10[i])\n",
    "    f.close()"
   ]
  }
 ],
 "metadata": {
  "kernelspec": {
   "display_name": "Python [default]",
   "language": "python",
   "name": "python3"
  },
  "language_info": {
   "codemirror_mode": {
    "name": "ipython",
    "version": 3
   },
   "file_extension": ".py",
   "mimetype": "text/x-python",
   "name": "python",
   "nbconvert_exporter": "python",
   "pygments_lexer": "ipython3",
   "version": "3.6.1"
  }
 },
 "nbformat": 4,
 "nbformat_minor": 2
}
