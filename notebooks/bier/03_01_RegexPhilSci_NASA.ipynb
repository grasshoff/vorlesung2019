{
 "cells": [
  {
   "cell_type": "markdown",
   "metadata": {},
   "source": [
    "# Find Publications with Basic Terms of Philosophy of Science in it"
   ]
  },
  {
   "cell_type": "markdown",
   "metadata": {},
   "source": [
    "## Loading the packages"
   ]
  },
  {
   "cell_type": "code",
   "execution_count": 1,
   "metadata": {
    "collapsed": true
   },
   "outputs": [],
   "source": [
    "import pandas as pd\n",
    "import numpy as np\n",
    "import re"
   ]
  },
  {
   "cell_type": "markdown",
   "metadata": {},
   "source": [
    "## Loading the dataframe into python"
   ]
  },
  {
   "cell_type": "markdown",
   "metadata": {},
   "source": [
    "Here it is important to include the statement orient = 'table', because this dataframe was exported with this option, so that the exported json is a valid json. The head of the dataframe is printed out."
   ]
  },
  {
   "cell_type": "code",
   "execution_count": 2,
   "metadata": {
    "collapsed": true
   },
   "outputs": [],
   "source": [
    "dfExoplanetsNASA = pd.read_json('./data/dfExoplanetsNASA_v2.json', orient = 'table')\n",
    "dfExoplanetsNASA = dfExoplanetsNASA[dfExoplanetsNASA.abstract != 'None'].reset_index(drop=True)"
   ]
  },
  {
   "cell_type": "markdown",
   "metadata": {},
   "source": [
    "## Pandas tricks\n",
    "\n",
    "- https://towardsdatascience.com/10-python-pandas-tricks-that-make-your-work-more-efficient-2e8e483808ba\n",
    "\n",
    "- https://towardsdatascience.com/10-python-pandas-tricks-to-make-data-analysis-more-enjoyable-cb8f55af8c30"
   ]
  },
  {
   "cell_type": "markdown",
   "metadata": {},
   "source": [
    "## Selecting columns to work with"
   ]
  },
  {
   "cell_type": "markdown",
   "metadata": {},
   "source": [
    "For the work with this dataframe we only need the following columns 'authors', 'title', 'published' and 'abstract'. To save memory we select only these four columns to be contained in the dataframe."
   ]
  },
  {
   "cell_type": "code",
   "execution_count": 3,
   "metadata": {
    "collapsed": true
   },
   "outputs": [],
   "source": [
    "dfExoplanetsNASA = dfExoplanetsNASA[['authors', 'title', 'published', 'abstract']]"
   ]
  },
  {
   "cell_type": "code",
   "execution_count": 4,
   "metadata": {},
   "outputs": [
    {
     "data": {
      "text/html": [
       "<div>\n",
       "<style scoped>\n",
       "    .dataframe tbody tr th:only-of-type {\n",
       "        vertical-align: middle;\n",
       "    }\n",
       "\n",
       "    .dataframe tbody tr th {\n",
       "        vertical-align: top;\n",
       "    }\n",
       "\n",
       "    .dataframe thead th {\n",
       "        text-align: right;\n",
       "    }\n",
       "</style>\n",
       "<table border=\"1\" class=\"dataframe\">\n",
       "  <thead>\n",
       "    <tr style=\"text-align: right;\">\n",
       "      <th></th>\n",
       "      <th>authors</th>\n",
       "      <th>title</th>\n",
       "      <th>published</th>\n",
       "      <th>abstract</th>\n",
       "    </tr>\n",
       "  </thead>\n",
       "  <tbody>\n",
       "    <tr>\n",
       "      <th>0</th>\n",
       "      <td>[Zhang Bin, Qian Sheng-Bang, Liu Nian-Ping, Zh...</td>\n",
       "      <td>First photometric study of a short-period deta...</td>\n",
       "      <td>2019-07-00</td>\n",
       "      <td>NSVS 10441882 is a newly discovered eclipsing ...</td>\n",
       "    </tr>\n",
       "    <tr>\n",
       "      <th>1</th>\n",
       "      <td>[M. Alvarez-Ramírez, E. Barrabés, M. Medina, M...</td>\n",
       "      <td>Ejection-Collision orbits in the symmetric col...</td>\n",
       "      <td>2019-06-00</td>\n",
       "      <td>In this paper, we consider the collinear symme...</td>\n",
       "    </tr>\n",
       "    <tr>\n",
       "      <th>2</th>\n",
       "      <td>[Şeyda Enez, Hasan Ali Dal]</td>\n",
       "      <td>Cool spot migration and flare activity of KIC ...</td>\n",
       "      <td>2019-05-00</td>\n",
       "      <td>Analysing the photometrical data taken from th...</td>\n",
       "    </tr>\n",
       "    <tr>\n",
       "      <th>3</th>\n",
       "      <td>[Giacomo Fragione]</td>\n",
       "      <td>Dynamical origin of S-type planets in close bi...</td>\n",
       "      <td>2019-03-00</td>\n",
       "      <td>Understanding the origin of planets that have ...</td>\n",
       "    </tr>\n",
       "    <tr>\n",
       "      <th>4</th>\n",
       "      <td>[Kristina Monsch, Barbara Ercolano, Giovanni P...</td>\n",
       "      <td>The imprint of X-ray photoevaporation of plane...</td>\n",
       "      <td>2019-03-00</td>\n",
       "      <td>High-energy radiation from a planet host star ...</td>\n",
       "    </tr>\n",
       "  </tbody>\n",
       "</table>\n",
       "</div>"
      ],
      "text/plain": [
       "                                             authors  \\\n",
       "0  [Zhang Bin, Qian Sheng-Bang, Liu Nian-Ping, Zh...   \n",
       "1  [M. Alvarez-Ramírez, E. Barrabés, M. Medina, M...   \n",
       "2                        [Şeyda Enez, Hasan Ali Dal]   \n",
       "3                                 [Giacomo Fragione]   \n",
       "4  [Kristina Monsch, Barbara Ercolano, Giovanni P...   \n",
       "\n",
       "                                               title   published  \\\n",
       "0  First photometric study of a short-period deta...  2019-07-00   \n",
       "1  Ejection-Collision orbits in the symmetric col...  2019-06-00   \n",
       "2  Cool spot migration and flare activity of KIC ...  2019-05-00   \n",
       "3  Dynamical origin of S-type planets in close bi...  2019-03-00   \n",
       "4  The imprint of X-ray photoevaporation of plane...  2019-03-00   \n",
       "\n",
       "                                            abstract  \n",
       "0  NSVS 10441882 is a newly discovered eclipsing ...  \n",
       "1  In this paper, we consider the collinear symme...  \n",
       "2  Analysing the photometrical data taken from th...  \n",
       "3  Understanding the origin of planets that have ...  \n",
       "4  High-energy radiation from a planet host star ...  "
      ]
     },
     "execution_count": 4,
     "metadata": {},
     "output_type": "execute_result"
    }
   ],
   "source": [
    "dfExoplanetsNASA.head()"
   ]
  },
  {
   "cell_type": "markdown",
   "metadata": {},
   "source": [
    "Now the dataframe is ready to work with. The abstracts are stored in the column 'abstract'. This column can be accessed by `dfExoplanetsNASA.abstract`."
   ]
  },
  {
   "cell_type": "markdown",
   "metadata": {},
   "source": [
    "## Checking if Basic Terms of Philosophy of Science are in abstract"
   ]
  },
  {
   "cell_type": "markdown",
   "metadata": {},
   "source": [
    "Here we use regex to look up if Basic Terms of Philosophy of Science are in abstract. If it is in abstract in a new column 'yes' is appended otherwise an empty string.\n",
    "\n",
    "Here you can find a helpful cheat sheet for regex: https://www.cheatography.com/davechild/cheat-sheets/regular-expressions/"
   ]
  },
  {
   "cell_type": "code",
   "execution_count": 5,
   "metadata": {},
   "outputs": [],
   "source": [
    "dfExoplanetsNASA['observation'] = ['' if not re.search('observ*', i) else 'yes' for i in dfExoplanetsNASA.abstract]\n",
    "dfExoplanetsNASA['signal'] = ['' if not re.search('sign*', i) else 'yes' for i in dfExoplanetsNASA.abstract]\n",
    "dfExoplanetsNASA['data'] = ['' if not re.search('data', i) else 'yes' for i in dfExoplanetsNASA.abstract]\n",
    "dfExoplanetsNASA['model'] = ['' if not re.search('model', i) else 'yes' for i in dfExoplanetsNASA.abstract]\n",
    "dfExoplanetsNASA['hypothesis'] = ['' if not re.search('hypothe[st]', i) else 'yes' for i in dfExoplanetsNASA.abstract]\n",
    "dfExoplanetsNASA['inference'] = ['' if not re.search('infer*', i) else 'yes' for i in dfExoplanetsNASA.abstract]"
   ]
  },
  {
   "cell_type": "code",
   "execution_count": 6,
   "metadata": {},
   "outputs": [
    {
     "data": {
      "text/html": [
       "<div>\n",
       "<style scoped>\n",
       "    .dataframe tbody tr th:only-of-type {\n",
       "        vertical-align: middle;\n",
       "    }\n",
       "\n",
       "    .dataframe tbody tr th {\n",
       "        vertical-align: top;\n",
       "    }\n",
       "\n",
       "    .dataframe thead th {\n",
       "        text-align: right;\n",
       "    }\n",
       "</style>\n",
       "<table border=\"1\" class=\"dataframe\">\n",
       "  <thead>\n",
       "    <tr style=\"text-align: right;\">\n",
       "      <th></th>\n",
       "      <th>authors</th>\n",
       "      <th>title</th>\n",
       "      <th>published</th>\n",
       "      <th>abstract</th>\n",
       "      <th>observation</th>\n",
       "      <th>signal</th>\n",
       "      <th>data</th>\n",
       "      <th>model</th>\n",
       "      <th>hypothesis</th>\n",
       "      <th>inference</th>\n",
       "    </tr>\n",
       "  </thead>\n",
       "  <tbody>\n",
       "    <tr>\n",
       "      <th>0</th>\n",
       "      <td>[Zhang Bin, Qian Sheng-Bang, Liu Nian-Ping, Zh...</td>\n",
       "      <td>First photometric study of a short-period deta...</td>\n",
       "      <td>2019-07-00</td>\n",
       "      <td>NSVS 10441882 is a newly discovered eclipsing ...</td>\n",
       "      <td>yes</td>\n",
       "      <td></td>\n",
       "      <td>yes</td>\n",
       "      <td></td>\n",
       "      <td></td>\n",
       "      <td></td>\n",
       "    </tr>\n",
       "    <tr>\n",
       "      <th>1</th>\n",
       "      <td>[M. Alvarez-Ramírez, E. Barrabés, M. Medina, M...</td>\n",
       "      <td>Ejection-Collision orbits in the symmetric col...</td>\n",
       "      <td>2019-06-00</td>\n",
       "      <td>In this paper, we consider the collinear symme...</td>\n",
       "      <td></td>\n",
       "      <td></td>\n",
       "      <td></td>\n",
       "      <td></td>\n",
       "      <td></td>\n",
       "      <td></td>\n",
       "    </tr>\n",
       "    <tr>\n",
       "      <th>2</th>\n",
       "      <td>[Şeyda Enez, Hasan Ali Dal]</td>\n",
       "      <td>Cool spot migration and flare activity of KIC ...</td>\n",
       "      <td>2019-05-00</td>\n",
       "      <td>Analysing the photometrical data taken from th...</td>\n",
       "      <td>yes</td>\n",
       "      <td></td>\n",
       "      <td>yes</td>\n",
       "      <td>yes</td>\n",
       "      <td></td>\n",
       "      <td></td>\n",
       "    </tr>\n",
       "    <tr>\n",
       "      <th>3</th>\n",
       "      <td>[Giacomo Fragione]</td>\n",
       "      <td>Dynamical origin of S-type planets in close bi...</td>\n",
       "      <td>2019-03-00</td>\n",
       "      <td>Understanding the origin of planets that have ...</td>\n",
       "      <td>yes</td>\n",
       "      <td></td>\n",
       "      <td></td>\n",
       "      <td></td>\n",
       "      <td></td>\n",
       "      <td></td>\n",
       "    </tr>\n",
       "    <tr>\n",
       "      <th>4</th>\n",
       "      <td>[Kristina Monsch, Barbara Ercolano, Giovanni P...</td>\n",
       "      <td>The imprint of X-ray photoevaporation of plane...</td>\n",
       "      <td>2019-03-00</td>\n",
       "      <td>High-energy radiation from a planet host star ...</td>\n",
       "      <td>yes</td>\n",
       "      <td>yes</td>\n",
       "      <td></td>\n",
       "      <td></td>\n",
       "      <td></td>\n",
       "      <td></td>\n",
       "    </tr>\n",
       "  </tbody>\n",
       "</table>\n",
       "</div>"
      ],
      "text/plain": [
       "                                             authors  \\\n",
       "0  [Zhang Bin, Qian Sheng-Bang, Liu Nian-Ping, Zh...   \n",
       "1  [M. Alvarez-Ramírez, E. Barrabés, M. Medina, M...   \n",
       "2                        [Şeyda Enez, Hasan Ali Dal]   \n",
       "3                                 [Giacomo Fragione]   \n",
       "4  [Kristina Monsch, Barbara Ercolano, Giovanni P...   \n",
       "\n",
       "                                               title   published  \\\n",
       "0  First photometric study of a short-period deta...  2019-07-00   \n",
       "1  Ejection-Collision orbits in the symmetric col...  2019-06-00   \n",
       "2  Cool spot migration and flare activity of KIC ...  2019-05-00   \n",
       "3  Dynamical origin of S-type planets in close bi...  2019-03-00   \n",
       "4  The imprint of X-ray photoevaporation of plane...  2019-03-00   \n",
       "\n",
       "                                            abstract observation signal data  \\\n",
       "0  NSVS 10441882 is a newly discovered eclipsing ...         yes         yes   \n",
       "1  In this paper, we consider the collinear symme...                           \n",
       "2  Analysing the photometrical data taken from th...         yes         yes   \n",
       "3  Understanding the origin of planets that have ...         yes               \n",
       "4  High-energy radiation from a planet host star ...         yes    yes        \n",
       "\n",
       "  model hypothesis inference  \n",
       "0                             \n",
       "1                             \n",
       "2   yes                       \n",
       "3                             \n",
       "4                             "
      ]
     },
     "execution_count": 6,
     "metadata": {},
     "output_type": "execute_result"
    }
   ],
   "source": [
    "dfExoplanetsNASA.head()"
   ]
  },
  {
   "cell_type": "markdown",
   "metadata": {},
   "source": [
    "## List of abstracts only containing basic terms of philosophy of science"
   ]
  },
  {
   "cell_type": "markdown",
   "metadata": {},
   "source": [
    "Here are only the abstracts are printed out, that contains basic terms of philosophy science. The first two abstracts containing the terms and how many abstracts contains the terms are printed out."
   ]
  },
  {
   "cell_type": "code",
   "execution_count": 7,
   "metadata": {
    "collapsed": true
   },
   "outputs": [],
   "source": [
    "listObserveAbs = list(dfExoplanetsNASA[dfExoplanetsNASA.observation == 'yes'].abstract)\n",
    "listObserveAbsPrint = [re.sub('observ', \"\\033[43;39mobserv\\033[m\", i) for i in listObserveAbs]\n",
    "listSignalAbs = list(dfExoplanetsNASA[dfExoplanetsNASA.signal == 'yes'].abstract)\n",
    "listSignalAbsPrint = [re.sub('sign', \"\\033[43;39msign\\033[m\", i) for i in listSignalAbs]\n",
    "listDataAbs = list(dfExoplanetsNASA[dfExoplanetsNASA.data == 'yes'].abstract)\n",
    "listDataAbsPrint = [re.sub('data', \"\\033[43;39mdata\\033[m\", i) for i in listDataAbs]\n",
    "listModelAbs = list(dfExoplanetsNASA[dfExoplanetsNASA.model == 'yes'].abstract)\n",
    "listModelAbsPrint = [re.sub('model', \"\\033[43;39mmodel\\033[m\", i) for i in listModelAbs]\n",
    "listHypothesisAbs = list(dfExoplanetsNASA[dfExoplanetsNASA.hypothesis == 'yes'].abstract)\n",
    "listHypothesisAbsPrint = [re.sub('hypothe', \"\\033[43;39mhypothe\\033[m\", i) for i in listHypothesisAbs]\n",
    "listInferenceAbs = list(dfExoplanetsNASA[dfExoplanetsNASA.inference == 'yes'].abstract)\n",
    "listInferenceAbsPrint = [re.sub('infer', \"\\033[43;39minfer\\033[m\", i) for i in listInferenceAbs]"
   ]
  },
  {
   "cell_type": "code",
   "execution_count": 8,
   "metadata": {},
   "outputs": [
    {
     "name": "stdout",
     "output_type": "stream",
     "text": [
      "15863\n",
      "\n",
      "\n",
      "NSVS 10441882 is a newly discovered eclipsing binary system with strong magnetic activity and an orbital period of ∼ 0.5166 days. In order to study this eclipsing binary system, we analyzed its first four-color (BVR<SUB>c</SUB>I<SUB>c</SUB>) light curves. The \u001b[43;39mobserv\u001b[med light curves were asymmetric, so we used the 2013 version of the Wilson-Devinney (W-D) program with cool star-spots to analyze these data. We discovered that NSVS 10441882 is a detached total eclipsing binary system with an orbit inclination of 85°.34 ± 0.07 and a mass ratio of q = 0.94 ± 0.03. Based on the CCD times of the light minima according to our \u001b[43;39mobserv\u001b[mations and those reported previously, the orbital period changes of NSVS 10441882 were studied using the traditional O-C method for the first time. The O-C diagram of the target exhibited a cyclic oscillation with a period of 16.7 ± 0.20 years and an amplitude of 0.00349 ± 0.00029 days, probably due to the presence of an unseen third body. If we assume that the total mass of NSVS 10441882 is 1.3M<SUB>☉</SUB> (according to our calculated results for the average color index and mass ratio), then the mass of the third body is no less than 0.12 ± 0.01 M<SUB>☉</SUB>. Moreover, the orbital evolution of the central system will be accelerated due to the presence of this additional component.\n",
      "\n",
      "\n",
      "Analysing the photometrical data taken from the Kepler Mission Database, the results obtained from both the One Phase Exponential Association model derived for the flare activity and the spot migration on the surface of eclipsing binary system KIC 11560447 are presented. A sinusoidal variation due to the rotation modulation is defined. There are two cool spots separated by about 100° longitudinally. It is seen that the parameters of these spotted areas such as radii, latitudes and longitudes, were varying during \u001b[43;39mobserv\u001b[ming seasons. Apart from the cool spots, flare activity is also detected on the target, and 226 flares were determined with their parameters. Modelling the distribution of flare equivalent durations versus the flare total times, the Plateau parameter was found to be 1.4114 ± 0.1712 s in the logarithmic scale, while the Half-time value was found to be 2394.03 s. The frequency of flare N<SUB>1</SUB>, which is the number of flares per an hour in the system, was computed as 0.064454 h<SUP>-1</SUP> , while the flare-equivalent duration emitting per an hour, N<SUB>2</SUB> frequency, was found to be 0.000058.\n"
     ]
    }
   ],
   "source": [
    "print(len(listObserveAbs))\n",
    "for i in listObserveAbsPrint[:2]:\n",
    "    print('\\n')\n",
    "    print(i)"
   ]
  },
  {
   "cell_type": "code",
   "execution_count": 9,
   "metadata": {},
   "outputs": [
    {
     "name": "stdout",
     "output_type": "stream",
     "text": [
      "11647\n",
      "\n",
      "\n",
      "High-energy radiation from a planet host star can have strong influence on the final habitability of a system through several mechanisms. In this context we have constructed a catalogue containing the X-ray luminosities, as well as basic stellar and planetary properties of all known stars hosting giant planets (&gt; 0.1 M<SUB>J</SUB>) that have been observed by the Chandra X-ray Observatory, XMM-Newton, and/or ROSAT. Specifically in this paper we present a first application of this catalogue to search for a possible imprint of X-ray photoevaporation of planet-forming discs on the present-day orbital distribution of the observed giant planets. We found a suggestive void in the semimajor axis, a, versus X-ray luminosity, L<SUB>x</SUB>, plane, roughly located between a ̃ 0.05-1 au and L<SUB>x</SUB> ̃ 10<SUP>27</SUP>-10^{29} erg s^{-1}, which would be expected if photoevaporation played a dominant role in the migration history of these systems. However, due to the small observational sample size, the statistical \u001b[43;39msign\u001b[mificance of this feature cannot be proven at this point.\n",
      "\n",
      "\n",
      "Earthshine is the dominant source of natural illumination on the surface of the Moon during lunar night, and at some locations within permanently shadowed regions (PSRs) near the poles that never receive direct sunlight. As such, earthshine has the potential to enable the scientific investigation and exploration of conditions in areas of the Moon that are either temporarily or permanently hidden from the Sun. Earthshine has also been used to refer to Earthlight reflected from the lunar surface, but in this study we use it to refer specifically to Earthlight incident at the Moon. Under certain circumstances, the heat flux from earthshine could also influence the transport and cold-trapping of volatiles present in the very coldest areas within PSRs. In this study, Earth's spectral irradiance, as it would appear at the Moon in the solar reflectance band (0.3-3.0 μm) and at thermal emission wavelengths (3-50 μm), is examined with a suite of model image cubes and whole-disk spectra created using the Virtual Planetary Laboratory (VPL) three-dimensional (latitude, longitude and altitude) modeling capability. At the Moon, the broadband, hemispherical irradiance from Earth at full-phase is approximately 0.15 W m<SUP>-2</SUP> with comparable contributions from solar reflectance and thermal emission; for context, this about 0.01% that of solar irradiance and has an equivalent temperature of around 40 K. Over the simulated timeframe, spanning two lunations, Earth's thermal irradiance shows very little net change (less than a few mW m<SUP>-2</SUP> resulting from cloud variability and the south-to-north motion of the sub-observer latitude on Earth). In the solar band, Earth's diurnally averaged light curve at phase angles g ≤ 60° is well-fit using a Henyey-Greenstein integral phase function. At wavelengths longward of about 0.7 μm, near the well-known vegetation \"red edge\", Earth's reflected solar radiance shows \u001b[43;39msign\u001b[mificant diurnal modulation as a result of the broad maximum in projected landmass at terrestrial longitudes between 60°W and 0°, as well as from the distribution of clouds. A simple formulation with adjustable coefficients is presented, condensed from the VPL model grid, for estimating Earth's hemispherical irradiance at the Moon as a function of wavelength, phase angle and sub-observer coordinates (terrestrial latitude and longitude). Uncertainties in any one prediction are estimated to be 10-12% at 0.3 μm, rising to &gt;25% near 2.5 μm as a result of the increasing relative brightness and unpredictable influence of clouds. Although coefficient values are derived from a suite of spring equinox models, the approximation appears to be valid for all seasons, to within the stated uncertainties. It is demonstrated that earthshine is sufficiently bright to serve as a natural illumination source for optical measurements on a robotic lander/rover, allowing the identification of water ice mixed with regolith at the percent-level of fractional area.\n"
     ]
    }
   ],
   "source": [
    "print(len(listSignalAbs))\n",
    "for i in listSignalAbsPrint[:2]:\n",
    "    print('\\n')\n",
    "    print(i)"
   ]
  },
  {
   "cell_type": "code",
   "execution_count": 10,
   "metadata": {},
   "outputs": [
    {
     "name": "stdout",
     "output_type": "stream",
     "text": [
      "8837\n",
      "\n",
      "\n",
      "NSVS 10441882 is a newly discovered eclipsing binary system with strong magnetic activity and an orbital period of ∼ 0.5166 days. In order to study this eclipsing binary system, we analyzed its first four-color (BVR<SUB>c</SUB>I<SUB>c</SUB>) light curves. The observed light curves were asymmetric, so we used the 2013 version of the Wilson-Devinney (W-D) program with cool star-spots to analyze these \u001b[43;39mdata\u001b[m. We discovered that NSVS 10441882 is a detached total eclipsing binary system with an orbit inclination of 85°.34 ± 0.07 and a mass ratio of q = 0.94 ± 0.03. Based on the CCD times of the light minima according to our observations and those reported previously, the orbital period changes of NSVS 10441882 were studied using the traditional O-C method for the first time. The O-C diagram of the target exhibited a cyclic oscillation with a period of 16.7 ± 0.20 years and an amplitude of 0.00349 ± 0.00029 days, probably due to the presence of an unseen third body. If we assume that the total mass of NSVS 10441882 is 1.3M<SUB>☉</SUB> (according to our calculated results for the average color index and mass ratio), then the mass of the third body is no less than 0.12 ± 0.01 M<SUB>☉</SUB>. Moreover, the orbital evolution of the central system will be accelerated due to the presence of this additional component.\n",
      "\n",
      "\n",
      "Analysing the photometrical \u001b[43;39mdata\u001b[m taken from the Kepler Mission Database, the results obtained from both the One Phase Exponential Association model derived for the flare activity and the spot migration on the surface of eclipsing binary system KIC 11560447 are presented. A sinusoidal variation due to the rotation modulation is defined. There are two cool spots separated by about 100° longitudinally. It is seen that the parameters of these spotted areas such as radii, latitudes and longitudes, were varying during observing seasons. Apart from the cool spots, flare activity is also detected on the target, and 226 flares were determined with their parameters. Modelling the distribution of flare equivalent durations versus the flare total times, the Plateau parameter was found to be 1.4114 ± 0.1712 s in the logarithmic scale, while the Half-time value was found to be 2394.03 s. The frequency of flare N<SUB>1</SUB>, which is the number of flares per an hour in the system, was computed as 0.064454 h<SUP>-1</SUP> , while the flare-equivalent duration emitting per an hour, N<SUB>2</SUB> frequency, was found to be 0.000058.\n"
     ]
    }
   ],
   "source": [
    "print(len(listDataAbs))\n",
    "for i in listDataAbsPrint[:2]:\n",
    "    print('\\n')\n",
    "    print(i)"
   ]
  },
  {
   "cell_type": "code",
   "execution_count": 11,
   "metadata": {},
   "outputs": [
    {
     "name": "stdout",
     "output_type": "stream",
     "text": [
      "9786\n",
      "\n",
      "\n",
      "Analysing the photometrical data taken from the Kepler Mission Database, the results obtained from both the One Phase Exponential Association \u001b[43;39mmodel\u001b[m derived for the flare activity and the spot migration on the surface of eclipsing binary system KIC 11560447 are presented. A sinusoidal variation due to the rotation modulation is defined. There are two cool spots separated by about 100° longitudinally. It is seen that the parameters of these spotted areas such as radii, latitudes and longitudes, were varying during observing seasons. Apart from the cool spots, flare activity is also detected on the target, and 226 flares were determined with their parameters. Modelling the distribution of flare equivalent durations versus the flare total times, the Plateau parameter was found to be 1.4114 ± 0.1712 s in the logarithmic scale, while the Half-time value was found to be 2394.03 s. The frequency of flare N<SUB>1</SUB>, which is the number of flares per an hour in the system, was computed as 0.064454 h<SUP>-1</SUP> , while the flare-equivalent duration emitting per an hour, N<SUB>2</SUB> frequency, was found to be 0.000058.\n",
      "\n",
      "\n",
      "Earthshine is the dominant source of natural illumination on the surface of the Moon during lunar night, and at some locations within permanently shadowed regions (PSRs) near the poles that never receive direct sunlight. As such, earthshine has the potential to enable the scientific investigation and exploration of conditions in areas of the Moon that are either temporarily or permanently hidden from the Sun. Earthshine has also been used to refer to Earthlight reflected from the lunar surface, but in this study we use it to refer specifically to Earthlight incident at the Moon. Under certain circumstances, the heat flux from earthshine could also influence the transport and cold-trapping of volatiles present in the very coldest areas within PSRs. In this study, Earth's spectral irradiance, as it would appear at the Moon in the solar reflectance band (0.3-3.0 μm) and at thermal emission wavelengths (3-50 μm), is examined with a suite of \u001b[43;39mmodel\u001b[m image cubes and whole-disk spectra created using the Virtual Planetary Laboratory (VPL) three-dimensional (latitude, longitude and altitude) \u001b[43;39mmodel\u001b[ming capability. At the Moon, the broadband, hemispherical irradiance from Earth at full-phase is approximately 0.15 W m<SUP>-2</SUP> with comparable contributions from solar reflectance and thermal emission; for context, this about 0.01% that of solar irradiance and has an equivalent temperature of around 40 K. Over the simulated timeframe, spanning two lunations, Earth's thermal irradiance shows very little net change (less than a few mW m<SUP>-2</SUP> resulting from cloud variability and the south-to-north motion of the sub-observer latitude on Earth). In the solar band, Earth's diurnally averaged light curve at phase angles g ≤ 60° is well-fit using a Henyey-Greenstein integral phase function. At wavelengths longward of about 0.7 μm, near the well-known vegetation \"red edge\", Earth's reflected solar radiance shows significant diurnal modulation as a result of the broad maximum in projected landmass at terrestrial longitudes between 60°W and 0°, as well as from the distribution of clouds. A simple formulation with adjustable coefficients is presented, condensed from the VPL \u001b[43;39mmodel\u001b[m grid, for estimating Earth's hemispherical irradiance at the Moon as a function of wavelength, phase angle and sub-observer coordinates (terrestrial latitude and longitude). Uncertainties in any one prediction are estimated to be 10-12% at 0.3 μm, rising to &gt;25% near 2.5 μm as a result of the increasing relative brightness and unpredictable influence of clouds. Although coefficient values are derived from a suite of spring equinox \u001b[43;39mmodel\u001b[ms, the approximation appears to be valid for all seasons, to within the stated uncertainties. It is demonstrated that earthshine is sufficiently bright to serve as a natural illumination source for optical measurements on a robotic lander/rover, allowing the identification of water ice mixed with regolith at the percent-level of fractional area.\n"
     ]
    }
   ],
   "source": [
    "print(len(listModelAbs))\n",
    "for i in listModelAbsPrint[:2]:\n",
    "    print('\\n')\n",
    "    print(i)"
   ]
  },
  {
   "cell_type": "code",
   "execution_count": 12,
   "metadata": {},
   "outputs": [
    {
     "name": "stdout",
     "output_type": "stream",
     "text": [
      "932\n",
      "\n",
      "\n",
      "It is often claimed that asteroids' sharing of orbits is the reason they were re-classified from planets to non-planets. A critical review of the literature from the 19th Century to the present shows this is factually incorrect. The literature shows the term asteroid was broadly recognized as a subset of planet for 150 years. On-going discovery of asteroids resulted in a de facto stretching of the concept of planet to include the ever-smaller bodies. Scientists found utility in this taxonomic identification as it provided categories needed to argue for the leading \u001b[43;39mhypothe\u001b[msis of planet formation, Laplace's nebular \u001b[43;39mhypothe\u001b[msis. In the 1950s, developments in planet formation theory found it no longer useful to maintain taxonomic identification between asteroids and planets, Ceres being the primary exception. At approximately the same time, there was a flood of publications on the geophysical nature of asteroids showing them to be geophysically different than the large planets. This is when the terminology in asteroid publications calling them planets abruptly plunged from a high level of usage where it had hovered during the period 1801-1957 to a low level that held constant thereafter. This marks the point where the community effectively formed consensus that asteroids should be taxonomically distinct from planets. The evidence demonstrates this consensus formed on the basis of geophysical differences between asteroids and planets, not the sharing of orbits. We suggest attempts to build consensus around planetary taxonomy not rely on the non-scientific process of voting, but rather through precedent set in scientific literature and discourse, by which perspectives evolve with additional observations and information, just as they did in the case of asteroids.\n",
      "\n",
      "\n",
      "The material lost through stellar winds of asymptotic giant branch (AGB) stars is one of the main contributors to the chemical enrichment of galaxies. The general \u001b[43;39mhypothe\u001b[msis of the mass-loss mechanism of AGB winds is a combination of stellar pulsations and radiative pressure on dust grains, yet current models still suffer from limitations. Among others, they assume chemical equilibrium of the gas, which may not be justified due to rapid local dynamical changes in the wind. This is important, as it is the chemical composition that regulates the thermal structure of the wind, the creation of dust grains in the wind, and ultimately the mass-loss by the wind. Using a self-consistent hydrochemical model, we investigated how non-equilibrium chemistry affects the dynamics of the wind. This paper compares a hydrodynamical and a hydrochemical dust-free wind, with focus on the chemical heating and cooling processes. No sustainable wind arises in a purely hydrodynamical model with physically reasonable pulsations. Moreover, temperatures are too high for dust formation to happen, rendering radiative pressure on grains impossible. A hydrochemical wind is even harder to initiate due to efficient chemical cooling. However, temperatures are sufficiently low in dense regions for dust formation to take place. These regions occur close to the star, which is needed for radiation pressure on dust to sufficiently aid in creating a wind. Extending this model self-consistently with dust formation and evolution, and including radiation pressure, will help to understand the mass-loss by AGB winds.\n"
     ]
    }
   ],
   "source": [
    "print(len(listHypothesisAbs))\n",
    "for i in listHypothesisAbsPrint[:2]:\n",
    "    print('\\n')\n",
    "    print(i)"
   ]
  },
  {
   "cell_type": "code",
   "execution_count": 13,
   "metadata": {},
   "outputs": [
    {
     "name": "stdout",
     "output_type": "stream",
     "text": [
      "1384\n",
      "\n",
      "\n",
      "The solar system's dynamical state can be explained by an orbital instability among the giant planets. A recent model has proposed that the giant planet instability happened during terrestrial planet formation. This scenario has been shown to match the inner solar system by stunting Mars' growth and preventing planet formation in the asteroid belt. Here we present a large sample of new simulations of the \"Early Instability\" scenario. We use an N-body integration scheme that accounts for collisional fragmentation, and also perform a large set of control simulations that do not include an early giant planet instability. Since the total particle number decreases slower when collisional fragmentation is accounted for, the growing planets' orbits are damped more strongly via dynamical friction and encounters with small bodies that dissipate angular momentum (eg: hit-and-run impacts). Compared with simulations without collisional fragmentation, our fully evolved systems provide better matches to the solar system's terrestrial planets in terms of their compact mass distribution and dynamically cold orbits. Collisional processes also tend to lengthen the dynamical accretion timescales of Earth analogs, and shorten those of Mars analogs. This yields systems with relative growth timescales more consistent with those \u001b[43;39minfer\u001b[mred from isotopic dating. Accounting for fragmentation is thus supremely important for any successful evolutionary model of the inner solar system.\n",
      "\n",
      "\n",
      "We develop a simple scaling argument for frictional dissipation in rubble-pile asteroids, parameterized as an effective dissipation factor Q. This scaling is combined with a prediction (Goldreich, P., Sari, R., 2009. Tidal evolution of rubble piles. Astrophys. J. 691, 54-60) for the tidal response amplitude, parameterized by the Love number k<SUB>2</SUB>. We compare the combined scaling with k<SUB>2</SUB>/Q values \u001b[43;39minfer\u001b[mred from asteroid binaries in which the semi-major axis is determined by a balance between tidal dissipation and the binary YORP (or BYORP) effect (Jacobson, S.A., Scheeres, D.J., 2011. Long-term stable equilibria for synchronous binary asteroids. Astrophys. J. Lett. 736, L19). The k<SUB>2</SUB>/Q scaling matches the \u001b[43;39minfer\u001b[mred values if dissipation is confined to a regolith layer of thickness ∼ 30 m, similar to the available asteroid regolith thickness estimates. The scaling suggests a regolith thickness that is independent of (or decreases slightly with) increasing asteroid radius; this result is consistent with at least one model of regolith generation via impacts.\n"
     ]
    }
   ],
   "source": [
    "print(len(listInferenceAbs))\n",
    "for i in listInferenceAbsPrint[:2]:\n",
    "    print('\\n')\n",
    "    print(i)"
   ]
  }
 ],
 "metadata": {
  "kernelspec": {
   "display_name": "Python 3",
   "language": "python",
   "name": "python3"
  },
  "language_info": {
   "codemirror_mode": {
    "name": "ipython",
    "version": 3
   },
   "file_extension": ".py",
   "mimetype": "text/x-python",
   "name": "python",
   "nbconvert_exporter": "python",
   "pygments_lexer": "ipython3",
   "version": "3.6.8"
  }
 },
 "nbformat": 4,
 "nbformat_minor": 2
}
