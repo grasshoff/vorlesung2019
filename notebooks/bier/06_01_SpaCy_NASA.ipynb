{
 "cells": [
  {
   "cell_type": "markdown",
   "metadata": {},
   "source": [
    "# Operating SpaCy on DataFrame of Publications about Exoplanets in NASA ADS"
   ]
  },
  {
   "cell_type": "markdown",
   "metadata": {},
   "source": [
    "Before you can use SpaCy you have to download the pretrained model for the english language with:"
   ]
  },
  {
   "cell_type": "code",
   "execution_count": 187,
   "metadata": {},
   "outputs": [],
   "source": [
    "#!python -m spacy download en_core_web_md"
   ]
  },
  {
   "cell_type": "markdown",
   "metadata": {},
   "source": [
    "After doing this for the first time you can comment out this line with `#` and load the model with `nlp = spacy.load('en_core_web_md')`"
   ]
  },
  {
   "cell_type": "markdown",
   "metadata": {},
   "source": [
    "## Loading the packages"
   ]
  },
  {
   "cell_type": "code",
   "execution_count": 188,
   "metadata": {
    "collapsed": true
   },
   "outputs": [],
   "source": [
    "import pandas as pd\n",
    "import numpy as np\n",
    "import re\n",
    "from random import randint\n",
    "from random import seed\n",
    "seed(5)\n",
    "from unidecode import unidecode\n",
    "import spacy\n",
    "from spacy.lang.en import English\n",
    "from spacy import displacy\n",
    "nlp = spacy.load('en_core_web_md', disable=[\"ner\", \"textcat\", \"entity_ruler\", \"merge_noun_chunks\", \"merge_entities\", \"merge_subtokens\"])\n",
    "from IPython.display import HTML"
   ]
  },
  {
   "cell_type": "markdown",
   "metadata": {},
   "source": [
    "## Loading the dataframe into python"
   ]
  },
  {
   "cell_type": "markdown",
   "metadata": {},
   "source": [
    "Here it is important to include the statement orient = 'table', because this dataframe was exported with this option, so that the exported json is a valid json. The head of the dataframe is printed out."
   ]
  },
  {
   "cell_type": "code",
   "execution_count": 189,
   "metadata": {},
   "outputs": [],
   "source": [
    "dfExoplanetsNASA = pd.read_json('./data/dfExoplanetsNASA_v2.json', orient = 'table')\n",
    "dfExoplanetsNASA = dfExoplanetsNASA[dfExoplanetsNASA.abstract != 'None'].reset_index(drop=True)"
   ]
  },
  {
   "cell_type": "code",
   "execution_count": 190,
   "metadata": {},
   "outputs": [
    {
     "data": {
      "text/html": [
       "<div>\n",
       "<style scoped>\n",
       "    .dataframe tbody tr th:only-of-type {\n",
       "        vertical-align: middle;\n",
       "    }\n",
       "\n",
       "    .dataframe tbody tr th {\n",
       "        vertical-align: top;\n",
       "    }\n",
       "\n",
       "    .dataframe thead th {\n",
       "        text-align: right;\n",
       "    }\n",
       "</style>\n",
       "<table border=\"1\" class=\"dataframe\">\n",
       "  <thead>\n",
       "    <tr style=\"text-align: right;\">\n",
       "      <th></th>\n",
       "      <th>bibcode</th>\n",
       "      <th>DOI</th>\n",
       "      <th>authors</th>\n",
       "      <th>affiliation</th>\n",
       "      <th>acknowledgements</th>\n",
       "      <th>grant</th>\n",
       "      <th>published</th>\n",
       "      <th>year</th>\n",
       "      <th>title</th>\n",
       "      <th>abstract</th>\n",
       "      <th>keywords</th>\n",
       "      <th>citation_count</th>\n",
       "    </tr>\n",
       "  </thead>\n",
       "  <tbody>\n",
       "    <tr>\n",
       "      <th>0</th>\n",
       "      <td>2019NewA...70....1B</td>\n",
       "      <td>10.1016/j.newast.2018.12.005</td>\n",
       "      <td>[Zhang Bin, Qian Sheng-Bang, Liu Nian-Ping, Zh...</td>\n",
       "      <td>[School of Physics and Electronic Science, Gui...</td>\n",
       "      <td>We thank the anonymous referee for useful comm...</td>\n",
       "      <td>[]</td>\n",
       "      <td>2019-07-00</td>\n",
       "      <td>2019</td>\n",
       "      <td>First photometric study of a short-period deta...</td>\n",
       "      <td>NSVS 10441882 is a newly discovered eclipsing ...</td>\n",
       "      <td>[Binary, Eclipsing binary, Light curve, Orbita...</td>\n",
       "      <td>0</td>\n",
       "    </tr>\n",
       "    <tr>\n",
       "      <th>1</th>\n",
       "      <td>2019CNSNS..71...82A</td>\n",
       "      <td>10.1016/j.cnsns.2018.10.026</td>\n",
       "      <td>[M. Alvarez-Ramírez, E. Barrabés, M. Medina, M...</td>\n",
       "      <td>[Dept. de Matemáticas, UAM-Iztapalapa, Ciudad ...</td>\n",
       "      <td>E. Barrabs has been supported by grants MTM201...</td>\n",
       "      <td>[]</td>\n",
       "      <td>2019-06-00</td>\n",
       "      <td>2019</td>\n",
       "      <td>Ejection-Collision orbits in the symmetric col...</td>\n",
       "      <td>In this paper, we consider the collinear symme...</td>\n",
       "      <td>[Collinear four-body problem, Ejection/collisi...</td>\n",
       "      <td>0</td>\n",
       "    </tr>\n",
       "    <tr>\n",
       "      <th>2</th>\n",
       "      <td>2019NewA...69...27E</td>\n",
       "      <td>10.1016/j.newast.2018.11.008</td>\n",
       "      <td>[Şeyda Enez, Hasan Ali Dal]</td>\n",
       "      <td>[Ege University, Department of Astronomy and S...</td>\n",
       "      <td>We wish to thank the Turkish Scientific and Te...</td>\n",
       "      <td>[]</td>\n",
       "      <td>2019-05-00</td>\n",
       "      <td>2019</td>\n",
       "      <td>Cool spot migration and flare activity of KIC ...</td>\n",
       "      <td>Analysing the photometrical data taken from th...</td>\n",
       "      <td>[Techniques: Photometric, Methods: Statistical...</td>\n",
       "      <td>0</td>\n",
       "    </tr>\n",
       "    <tr>\n",
       "      <th>3</th>\n",
       "      <td>2019MNRAS.483.3465F</td>\n",
       "      <td>10.1093/mnras/sty3367</td>\n",
       "      <td>[Giacomo Fragione]</td>\n",
       "      <td>[Racah Institute for Physics, The Hebrew Unive...</td>\n",
       "      <td>Author thanks Nader Haghighipour for useful an...</td>\n",
       "      <td>[]</td>\n",
       "      <td>2019-03-00</td>\n",
       "      <td>2019</td>\n",
       "      <td>Dynamical origin of S-type planets in close bi...</td>\n",
       "      <td>Understanding the origin of planets that have ...</td>\n",
       "      <td>[planets and satellites: general, binaries: cl...</td>\n",
       "      <td>0</td>\n",
       "    </tr>\n",
       "    <tr>\n",
       "      <th>4</th>\n",
       "      <td>2019MNRAS.483.3448M</td>\n",
       "      <td>10.1093/mnras/sty3346</td>\n",
       "      <td>[Kristina Monsch, Barbara Ercolano, Giovanni P...</td>\n",
       "      <td>[Universitäts-Sternwarte, Ludwig-Maximilians-U...</td>\n",
       "      <td>We thank Giovanni Rosotti and Jeff Jennings fo...</td>\n",
       "      <td>[]</td>\n",
       "      <td>2019-03-00</td>\n",
       "      <td>2019</td>\n",
       "      <td>The imprint of X-ray photoevaporation of plane...</td>\n",
       "      <td>High-energy radiation from a planet host star ...</td>\n",
       "      <td>[planets and satellites: formation, planet-dis...</td>\n",
       "      <td>0</td>\n",
       "    </tr>\n",
       "  </tbody>\n",
       "</table>\n",
       "</div>"
      ],
      "text/plain": [
       "               bibcode                           DOI  \\\n",
       "0  2019NewA...70....1B  10.1016/j.newast.2018.12.005   \n",
       "1  2019CNSNS..71...82A   10.1016/j.cnsns.2018.10.026   \n",
       "2  2019NewA...69...27E  10.1016/j.newast.2018.11.008   \n",
       "3  2019MNRAS.483.3465F         10.1093/mnras/sty3367   \n",
       "4  2019MNRAS.483.3448M         10.1093/mnras/sty3346   \n",
       "\n",
       "                                             authors  \\\n",
       "0  [Zhang Bin, Qian Sheng-Bang, Liu Nian-Ping, Zh...   \n",
       "1  [M. Alvarez-Ramírez, E. Barrabés, M. Medina, M...   \n",
       "2                        [Şeyda Enez, Hasan Ali Dal]   \n",
       "3                                 [Giacomo Fragione]   \n",
       "4  [Kristina Monsch, Barbara Ercolano, Giovanni P...   \n",
       "\n",
       "                                         affiliation  \\\n",
       "0  [School of Physics and Electronic Science, Gui...   \n",
       "1  [Dept. de Matemáticas, UAM-Iztapalapa, Ciudad ...   \n",
       "2  [Ege University, Department of Astronomy and S...   \n",
       "3  [Racah Institute for Physics, The Hebrew Unive...   \n",
       "4  [Universitäts-Sternwarte, Ludwig-Maximilians-U...   \n",
       "\n",
       "                                    acknowledgements grant   published  year  \\\n",
       "0  We thank the anonymous referee for useful comm...    []  2019-07-00  2019   \n",
       "1  E. Barrabs has been supported by grants MTM201...    []  2019-06-00  2019   \n",
       "2  We wish to thank the Turkish Scientific and Te...    []  2019-05-00  2019   \n",
       "3  Author thanks Nader Haghighipour for useful an...    []  2019-03-00  2019   \n",
       "4  We thank Giovanni Rosotti and Jeff Jennings fo...    []  2019-03-00  2019   \n",
       "\n",
       "                                               title  \\\n",
       "0  First photometric study of a short-period deta...   \n",
       "1  Ejection-Collision orbits in the symmetric col...   \n",
       "2  Cool spot migration and flare activity of KIC ...   \n",
       "3  Dynamical origin of S-type planets in close bi...   \n",
       "4  The imprint of X-ray photoevaporation of plane...   \n",
       "\n",
       "                                            abstract  \\\n",
       "0  NSVS 10441882 is a newly discovered eclipsing ...   \n",
       "1  In this paper, we consider the collinear symme...   \n",
       "2  Analysing the photometrical data taken from th...   \n",
       "3  Understanding the origin of planets that have ...   \n",
       "4  High-energy radiation from a planet host star ...   \n",
       "\n",
       "                                            keywords  citation_count  \n",
       "0  [Binary, Eclipsing binary, Light curve, Orbita...               0  \n",
       "1  [Collinear four-body problem, Ejection/collisi...               0  \n",
       "2  [Techniques: Photometric, Methods: Statistical...               0  \n",
       "3  [planets and satellites: general, binaries: cl...               0  \n",
       "4  [planets and satellites: formation, planet-dis...               0  "
      ]
     },
     "execution_count": 190,
     "metadata": {},
     "output_type": "execute_result"
    }
   ],
   "source": [
    "dfExoplanetsNASA.head()"
   ]
  },
  {
   "cell_type": "markdown",
   "metadata": {},
   "source": [
    "## Selecting columns to work with"
   ]
  },
  {
   "cell_type": "markdown",
   "metadata": {},
   "source": [
    "For the work with this dataframe we only need the following columns 'authors', 'title', 'published' and 'abstract'. To save memory we select only these four columns to be contained in the dataframe."
   ]
  },
  {
   "cell_type": "code",
   "execution_count": 192,
   "metadata": {
    "collapsed": true
   },
   "outputs": [],
   "source": [
    "dfExoplanetsNASA = dfExoplanetsNASA[['authors', 'title', 'published', 'abstract']]"
   ]
  },
  {
   "cell_type": "code",
   "execution_count": 193,
   "metadata": {},
   "outputs": [
    {
     "data": {
      "text/html": [
       "<div>\n",
       "<style scoped>\n",
       "    .dataframe tbody tr th:only-of-type {\n",
       "        vertical-align: middle;\n",
       "    }\n",
       "\n",
       "    .dataframe tbody tr th {\n",
       "        vertical-align: top;\n",
       "    }\n",
       "\n",
       "    .dataframe thead th {\n",
       "        text-align: right;\n",
       "    }\n",
       "</style>\n",
       "<table border=\"1\" class=\"dataframe\">\n",
       "  <thead>\n",
       "    <tr style=\"text-align: right;\">\n",
       "      <th></th>\n",
       "      <th>authors</th>\n",
       "      <th>title</th>\n",
       "      <th>published</th>\n",
       "      <th>abstract</th>\n",
       "    </tr>\n",
       "  </thead>\n",
       "  <tbody>\n",
       "    <tr>\n",
       "      <th>0</th>\n",
       "      <td>[Zhang Bin, Qian Sheng-Bang, Liu Nian-Ping, Zh...</td>\n",
       "      <td>First photometric study of a short-period deta...</td>\n",
       "      <td>2019-07-00</td>\n",
       "      <td>NSVS 10441882 is a newly discovered eclipsing ...</td>\n",
       "    </tr>\n",
       "    <tr>\n",
       "      <th>1</th>\n",
       "      <td>[M. Alvarez-Ramírez, E. Barrabés, M. Medina, M...</td>\n",
       "      <td>Ejection-Collision orbits in the symmetric col...</td>\n",
       "      <td>2019-06-00</td>\n",
       "      <td>In this paper, we consider the collinear symme...</td>\n",
       "    </tr>\n",
       "    <tr>\n",
       "      <th>2</th>\n",
       "      <td>[Şeyda Enez, Hasan Ali Dal]</td>\n",
       "      <td>Cool spot migration and flare activity of KIC ...</td>\n",
       "      <td>2019-05-00</td>\n",
       "      <td>Analysing the photometrical data taken from th...</td>\n",
       "    </tr>\n",
       "    <tr>\n",
       "      <th>3</th>\n",
       "      <td>[Giacomo Fragione]</td>\n",
       "      <td>Dynamical origin of S-type planets in close bi...</td>\n",
       "      <td>2019-03-00</td>\n",
       "      <td>Understanding the origin of planets that have ...</td>\n",
       "    </tr>\n",
       "    <tr>\n",
       "      <th>4</th>\n",
       "      <td>[Kristina Monsch, Barbara Ercolano, Giovanni P...</td>\n",
       "      <td>The imprint of X-ray photoevaporation of plane...</td>\n",
       "      <td>2019-03-00</td>\n",
       "      <td>High-energy radiation from a planet host star ...</td>\n",
       "    </tr>\n",
       "  </tbody>\n",
       "</table>\n",
       "</div>"
      ],
      "text/plain": [
       "                                             authors  \\\n",
       "0  [Zhang Bin, Qian Sheng-Bang, Liu Nian-Ping, Zh...   \n",
       "1  [M. Alvarez-Ramírez, E. Barrabés, M. Medina, M...   \n",
       "2                        [Şeyda Enez, Hasan Ali Dal]   \n",
       "3                                 [Giacomo Fragione]   \n",
       "4  [Kristina Monsch, Barbara Ercolano, Giovanni P...   \n",
       "\n",
       "                                               title   published  \\\n",
       "0  First photometric study of a short-period deta...  2019-07-00   \n",
       "1  Ejection-Collision orbits in the symmetric col...  2019-06-00   \n",
       "2  Cool spot migration and flare activity of KIC ...  2019-05-00   \n",
       "3  Dynamical origin of S-type planets in close bi...  2019-03-00   \n",
       "4  The imprint of X-ray photoevaporation of plane...  2019-03-00   \n",
       "\n",
       "                                            abstract  \n",
       "0  NSVS 10441882 is a newly discovered eclipsing ...  \n",
       "1  In this paper, we consider the collinear symme...  \n",
       "2  Analysing the photometrical data taken from th...  \n",
       "3  Understanding the origin of planets that have ...  \n",
       "4  High-energy radiation from a planet host star ...  "
      ]
     },
     "execution_count": 193,
     "metadata": {},
     "output_type": "execute_result"
    }
   ],
   "source": [
    "dfExoplanetsNASA.head()"
   ]
  },
  {
   "cell_type": "markdown",
   "metadata": {},
   "source": [
    "Now the dataframe is ready to work with. The abstracts are stored in the column 'abstract'. This column can be accessed by `dfExoplanetsNASA.abstract`."
   ]
  },
  {
   "cell_type": "markdown",
   "metadata": {},
   "source": [
    "## Search through all abstracts containing 'detect'"
   ]
  },
  {
   "cell_type": "markdown",
   "metadata": {},
   "source": [
    "With `.str.contains('word')` used on the row of a dataframe you could check very quickly which cells contains the word."
   ]
  },
  {
   "cell_type": "code",
   "execution_count": 194,
   "metadata": {},
   "outputs": [],
   "source": [
    "dfExoplanetsNASAdetect = dfExoplanetsNASA[dfExoplanetsNASA.abstract.str.contains(' detected')]"
   ]
  },
  {
   "cell_type": "code",
   "execution_count": 195,
   "metadata": {},
   "outputs": [
    {
     "name": "stdout",
     "output_type": "stream",
     "text": [
      "3196 abstracts contain the word \" detected\"!\n"
     ]
    }
   ],
   "source": [
    "print(str(len(dfExoplanetsNASAdetect)) + ' abstracts contain the word \" detected\"!')"
   ]
  },
  {
   "cell_type": "markdown",
   "metadata": {},
   "source": [
    "## Remove Latex charaters from randomly choosen abstracts"
   ]
  },
  {
   "cell_type": "markdown",
   "metadata": {},
   "source": [
    "In the next step we want to make a spacy doc out of these abstracts. As scientific papers especially in natural scienses are often written in latex, spacy has some troubles with the special characters as $. So we will remove them before using regex."
   ]
  },
  {
   "cell_type": "code",
   "execution_count": 196,
   "metadata": {},
   "outputs": [
    {
     "name": "stderr",
     "output_type": "stream",
     "text": [
      "C:\\ProgramData\\Anaconda3\\lib\\site-packages\\ipykernel_launcher.py:1: SettingWithCopyWarning: \n",
      "A value is trying to be set on a copy of a slice from a DataFrame.\n",
      "Try using .loc[row_indexer,col_indexer] = value instead\n",
      "\n",
      "See the caveats in the documentation: http://pandas.pydata.org/pandas-docs/stable/indexing.html#indexing-view-versus-copy\n",
      "  \"\"\"Entry point for launching an IPython kernel.\n"
     ]
    }
   ],
   "source": [
    "dfExoplanetsNASAdetect['abstract'] = [re.sub('\\\\\\\\', '', re.sub('{', '(', re.sub('}', ')', re.sub('\\$', '', re.sub('<SUB>', '_', re.sub('</SUB>', '', re.sub('<SUP>', '^', re.sub('</SUP>', '', i)))))))) for i in dfExoplanetsNASAdetect.abstract]"
   ]
  },
  {
   "cell_type": "markdown",
   "metadata": {},
   "source": [
    "## Making a spacy doc out of the abstracts & cut abstracts into sentences & POS-tagging of abstract sentences"
   ]
  },
  {
   "cell_type": "markdown",
   "metadata": {},
   "source": [
    "Now that all the bad characters are removed, we can make a spacy doc out of the abstracts and cut the abstracts in sentences. Let's also do some POS (Part-of-Speech)-Tagging. It analyses for you the syntactical structure of a sentence. In the following example I'm interested in the lemmata contained in the abstracts, what grammatical role do they play in the sentence? For the explanation of the different tags go to https://spacy.io/api/annotation."
   ]
  },
  {
   "cell_type": "code",
   "execution_count": 199,
   "metadata": {},
   "outputs": [],
   "source": [
    "sentences = []\n",
    "tokens = []\n",
    "tagRootSent = []\n",
    "tagDetected = []\n",
    "for abstract in dfExoplanetsNASAdetect['abstract']:\n",
    "    doc = nlp(abstract)\n",
    "    for sent in doc.sents:\n",
    "        if ' detected' in sent.string:\n",
    "            sentences.append(sent.string.strip())\n",
    "            tag = []\n",
    "            for token in sent:\n",
    "                if token.dep_ == 'ROOT':\n",
    "                    tagRootSent.append(token.tag_)\n",
    "                if token.text == 'detected':\n",
    "                    tag.append(token.tag_)\n",
    "            tagDetected.append(tag[0])"
   ]
  },
  {
   "cell_type": "code",
   "execution_count": 210,
   "metadata": {},
   "outputs": [],
   "source": [
    "dfExoplanetsNASAdetect = pd.DataFrame({'sent': sentences, 'tagRootSent': tagRootSent, 'tagDetected': tagDetected, 'label': ['']*len(sentences)})"
   ]
  },
  {
   "cell_type": "markdown",
   "metadata": {},
   "source": [
    "## Choosing 100 random sentences"
   ]
  },
  {
   "cell_type": "code",
   "execution_count": 213,
   "metadata": {},
   "outputs": [],
   "source": [
    "seed(8)\n",
    "dfExoplanetsNASAdetected100rand = dfExoplanetsNASAdetect.sample(n=100).reset_index(drop= True)"
   ]
  },
  {
   "cell_type": "markdown",
   "metadata": {},
   "source": [
    "## Store it as json"
   ]
  },
  {
   "cell_type": "code",
   "execution_count": 215,
   "metadata": {},
   "outputs": [],
   "source": [
    "#dfExoplanetsNASAdetected100rand.to_json('./data/dfExoplanetsNASAdetected100rand_v2.json', orient = 'table')"
   ]
  },
  {
   "cell_type": "markdown",
   "metadata": {},
   "source": [
    "## Formating the annotated sentences to tuples"
   ]
  },
  {
   "cell_type": "code",
   "execution_count": 217,
   "metadata": {},
   "outputs": [],
   "source": [
    "dfExoplanetsNASA = pd.read_json('./data/dfExoplanetsNASAdetected100rand_v2.json', orient = 'table')"
   ]
  },
  {
   "cell_type": "code",
   "execution_count": 220,
   "metadata": {},
   "outputs": [],
   "source": [
    "dfExoplanetsNASAtupRoot = []\n",
    "for i in range(len(dfExoplanetsNASA)):\n",
    "    dfExoplanetsNASAtupRoot.append((dfExoplanetsNASA.sent[i], dfExoplanetsNASA.tagRootSent[i], dfExoplanetsNASA.label[i]))\n",
    "\n",
    "dfExoplanetsNASAtupDetected = []\n",
    "for i in range(len(dfExoplanetsNASA)):\n",
    "    dfExoplanetsNASAtupDetected.append((dfExoplanetsNASA.sent[i], dfExoplanetsNASA.tagDetected[i], dfExoplanetsNASA.label[i]))"
   ]
  },
  {
   "cell_type": "code",
   "execution_count": 222,
   "metadata": {},
   "outputs": [
    {
     "data": {
      "text/plain": [
       "[(\"We detected visual companions within 1'' for 5 stars, between 1'' and 2'' for 7 stars, and between 2'' and 4'' for 15 stars.\",\n",
       "  'VBD',\n",
       "  'discovery'),\n",
       " ('Using these data and photometry from the Spitzer Space Telescope, we have identified members with infrared excess emission from circumstellar disks and have estimated the evolutionary stages of the detected disks, which include 31 new full disks and 16 new candidate transitional, evolved, evolved transitional, and debris disks.',\n",
       "  'VBN',\n",
       "  'discovery'),\n",
       " ('Of the over 800 exoplanets detected to date, over half are on non-circular orbits, with eccentricities as high as 0.93.',\n",
       "  'VBP',\n",
       "  'None'),\n",
       " ('We find that for these false positive scenarios, CO at 2.35 μm, CO_2 at 2.0 and 4.3 μm, and O_4 at 1.27 μm are all stronger features in transmission than O_2/O_3 and could be detected with S/Ns ≳ 3 for an Earth-size planet orbiting a nearby M dwarf star with as few as 10 transits, assuming photon-limited noise.',\n",
       "  'VBP',\n",
       "  'discovery'),\n",
       " ('We present two exoplanets detected at Keck Observatory.',\n",
       "  'VBP',\n",
       "  'discovery')]"
      ]
     },
     "execution_count": 222,
     "metadata": {},
     "output_type": "execute_result"
    }
   ],
   "source": [
    "dfExoplanetsNASAtupRoot[:5]"
   ]
  },
  {
   "cell_type": "code",
   "execution_count": 223,
   "metadata": {},
   "outputs": [
    {
     "data": {
      "text/plain": [
       "[(\"We detected visual companions within 1'' for 5 stars, between 1'' and 2'' for 7 stars, and between 2'' and 4'' for 15 stars.\",\n",
       "  'VBD',\n",
       "  'discovery'),\n",
       " ('Using these data and photometry from the Spitzer Space Telescope, we have identified members with infrared excess emission from circumstellar disks and have estimated the evolutionary stages of the detected disks, which include 31 new full disks and 16 new candidate transitional, evolved, evolved transitional, and debris disks.',\n",
       "  'VBN',\n",
       "  'discovery'),\n",
       " ('Of the over 800 exoplanets detected to date, over half are on non-circular orbits, with eccentricities as high as 0.93.',\n",
       "  'VBN',\n",
       "  'None'),\n",
       " ('We find that for these false positive scenarios, CO at 2.35 μm, CO_2 at 2.0 and 4.3 μm, and O_4 at 1.27 μm are all stronger features in transmission than O_2/O_3 and could be detected with S/Ns ≳ 3 for an Earth-size planet orbiting a nearby M dwarf star with as few as 10 transits, assuming photon-limited noise.',\n",
       "  'VBN',\n",
       "  'discovery'),\n",
       " ('We present two exoplanets detected at Keck Observatory.',\n",
       "  'VBN',\n",
       "  'discovery')]"
      ]
     },
     "execution_count": 223,
     "metadata": {},
     "output_type": "execute_result"
    }
   ],
   "source": [
    "dfExoplanetsNASAtupDetected[:5]"
   ]
  }
 ],
 "metadata": {
  "kernelspec": {
   "display_name": "Python 3",
   "language": "python",
   "name": "python3"
  },
  "language_info": {
   "codemirror_mode": {
    "name": "ipython",
    "version": 3
   },
   "file_extension": ".py",
   "mimetype": "text/x-python",
   "name": "python",
   "nbconvert_exporter": "python",
   "pygments_lexer": "ipython3",
   "version": "3.7.3"
  }
 },
 "nbformat": 4,
 "nbformat_minor": 2
}
