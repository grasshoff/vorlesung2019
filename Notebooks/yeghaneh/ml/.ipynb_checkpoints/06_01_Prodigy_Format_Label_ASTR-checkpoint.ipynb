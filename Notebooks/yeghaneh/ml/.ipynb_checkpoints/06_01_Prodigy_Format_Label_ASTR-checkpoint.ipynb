{
 "cells": [
  {
   "cell_type": "markdown",
   "metadata": {},
   "source": [
    "# Regex and Prodigy \n",
    "\n"
   ]
  },
  {
   "cell_type": "markdown",
   "metadata": {},
   "source": [
    "<font size= \"3\">\n",
    "Annotation of entities for sentences based on prodigy\"s format for different labels for further used in Machine learning \n",
    "<font 3>"
   ]
  },
  {
   "cell_type": "markdown",
   "metadata": {},
   "source": [
    "## Imports"
   ]
  },
  {
   "cell_type": "code",
   "execution_count": 1,
   "metadata": {
    "collapsed": true
   },
   "outputs": [
    {
     "name": "stderr",
     "output_type": "stream",
     "text": [
      "[nltk_data] Downloading package punkt to\n",
      "[nltk_data]     C:\\Users\\moha\\AppData\\Roaming\\nltk_data...\n",
      "[nltk_data]   Package punkt is already up-to-date!\n",
      "[nltk_data] Downloading package averaged_perceptron_tagger to\n",
      "[nltk_data]     C:\\Users\\moha\\AppData\\Roaming\\nltk_data...\n",
      "[nltk_data]   Package averaged_perceptron_tagger is already up-to-\n",
      "[nltk_data]       date!\n"
     ]
    }
   ],
   "source": [
    "import pandas as pd\n",
    "import re\n",
    "from itertools import permutations\n",
    "import nltk\n",
    "from nltk import RegexpTokenizer, RegexpTagger, RegexpParser\n",
    "from nltk.sem import extract_rels,rtuple\n",
    "from nltk.tokenize import word_tokenize\n",
    "from nltk.tag import pos_tag\n",
    "from sklearn.metrics import make_scorer,confusion_matrix\n",
    "from sklearn.model_selection import cross_val_score\n",
    "from sklearn.model_selection import RandomizedSearchCV\n",
    "import os\n",
    "nltk.download('punkt')\n",
    "nltk.download('averaged_perceptron_tagger')\n",
    "import pandas as pd\n",
    "importVersion = '011'\n",
    "import matplotlib.pyplot as plt\n",
    "import collections\n",
    "import sklearn_crfsuite  #to install this package in windows with pip please run: 'pip install sklearn-crfsuite'\n",
    "from sklearn_crfsuite import metrics, scorers\n",
    "import eli5  #To install this package in windows with conda please run: 'conda install -c conda-forge eli5'\n",
    "import scipy as sp\n",
    "\n",
    "\n"
   ]
  },
  {
   "cell_type": "markdown",
   "metadata": {},
   "source": [
    "To save a new pickel file set to true"
   ]
  },
  {
   "cell_type": "code",
   "execution_count": 2,
   "metadata": {
    "collapsed": true
   },
   "outputs": [],
   "source": [
    "export_pickle=False"
   ]
  },
  {
   "cell_type": "markdown",
   "metadata": {},
   "source": [
    "Enter version number to chunk:"
   ]
  },
  {
   "cell_type": "markdown",
   "metadata": {},
   "source": [
    "## Read the Data"
   ]
  },
  {
   "cell_type": "code",
   "execution_count": 3,
   "metadata": {
    "collapsed": true
   },
   "outputs": [],
   "source": [
    "importVersion = '013'"
   ]
  },
  {
   "cell_type": "code",
   "execution_count": 4,
   "metadata": {
    "collapsed": true
   },
   "outputs": [],
   "source": [
    "exportVersion = '013'"
   ]
  },
  {
   "cell_type": "code",
   "execution_count": 5,
   "metadata": {
    "collapsed": true
   },
   "outputs": [],
   "source": [
    "path= r'C:\\Users\\moha\\Documents\\BZML\\01_df_v{0}.pickle'.format(importVersion)  # Put the path of the data in your local machine here, consider the letter \"r\" before the path\n",
    "dfAstroNova = pd.read_pickle(path)"
   ]
  },
  {
   "cell_type": "code",
   "execution_count": 6,
   "metadata": {},
   "outputs": [
    {
     "data": {
      "text/plain": [
       "pandas.core.frame.DataFrame"
      ]
     },
     "execution_count": 6,
     "metadata": {},
     "output_type": "execute_result"
    }
   ],
   "source": [
    "type(dfAstroNova)"
   ]
  },
  {
   "cell_type": "code",
   "execution_count": 7,
   "metadata": {},
   "outputs": [
    {
     "data": {
      "text/html": [
       "<div>\n",
       "<style scoped>\n",
       "    .dataframe tbody tr th:only-of-type {\n",
       "        vertical-align: middle;\n",
       "    }\n",
       "\n",
       "    .dataframe tbody tr th {\n",
       "        vertical-align: top;\n",
       "    }\n",
       "\n",
       "    .dataframe thead th {\n",
       "        text-align: right;\n",
       "    }\n",
       "</style>\n",
       "<table border=\"1\" class=\"dataframe\">\n",
       "  <thead>\n",
       "    <tr style=\"text-align: right;\">\n",
       "      <th></th>\n",
       "      <th>html</th>\n",
       "      <th>text</th>\n",
       "      <th>links</th>\n",
       "      <th>italic</th>\n",
       "      <th>chapter</th>\n",
       "      <th>graphic</th>\n",
       "      <th>table</th>\n",
       "      <th>marginal</th>\n",
       "      <th>sentences</th>\n",
       "      <th>tagged</th>\n",
       "    </tr>\n",
       "  </thead>\n",
       "  <tbody>\n",
       "    <tr>\n",
       "      <th>0</th>\n",
       "      <td>&lt;p&gt;Appendix B&lt;/p&gt;</td>\n",
       "      <td>Appendix B</td>\n",
       "      <td>[]</td>\n",
       "      <td>[]</td>\n",
       "      <td>appendix b</td>\n",
       "      <td>[]</td>\n",
       "      <td>[]</td>\n",
       "      <td>[]</td>\n",
       "      <td>[Appendix B]</td>\n",
       "      <td>[[(Appendix, None), (B, None)]]</td>\n",
       "    </tr>\n",
       "    <tr>\n",
       "      <th>1</th>\n",
       "      <td>&lt;p&gt;&lt;span class=\"anchor\" id=\"bookmark0\"&gt;&lt;/span&gt;...</td>\n",
       "      <td>On the Table of Oppositions in Chapter 15</td>\n",
       "      <td>[]</td>\n",
       "      <td>[]</td>\n",
       "      <td>appendix b</td>\n",
       "      <td>[]</td>\n",
       "      <td>[]</td>\n",
       "      <td>[]</td>\n",
       "      <td>[On the Table of Oppositions in Chapter 15]</td>\n",
       "      <td>[[(On, None), (the, None), (Table, None), (of,...</td>\n",
       "    </tr>\n",
       "    <tr>\n",
       "      <th>2</th>\n",
       "      <td>&lt;p&gt;by Yaakov Zik &lt;span style=\"font-variant: sm...</td>\n",
       "      <td>by Yaakov Zik Table i:</td>\n",
       "      <td>[]</td>\n",
       "      <td>[]</td>\n",
       "      <td>appendix b</td>\n",
       "      <td>[]</td>\n",
       "      <td>[]</td>\n",
       "      <td>[]</td>\n",
       "      <td>[by Yaakov Zik Table i:]</td>\n",
       "      <td>[[(by, None), (Yaakov, None), (Zik, None), (Ta...</td>\n",
       "    </tr>\n",
       "    <tr>\n",
       "      <th>3</th>\n",
       "      <td>&lt;p&gt;&lt;span class=\"anchor\" id=\"bookmark1\"&gt;&lt;/span&gt;...</td>\n",
       "      <td>Initial positions of Mars in Chapter 15 comput...</td>\n",
       "      <td>[]</td>\n",
       "      <td>[]</td>\n",
       "      <td>appendix b</td>\n",
       "      <td>[]</td>\n",
       "      <td>[]</td>\n",
       "      <td>[]</td>\n",
       "      <td>[Initial positions of Mars in Chapter 15 compu...</td>\n",
       "      <td>[[(Initial, None), (positions, None), (of, Non...</td>\n",
       "    </tr>\n",
       "    <tr>\n",
       "      <th>4</th>\n",
       "      <td>&lt;p&gt;General notes:&lt;/p&gt;</td>\n",
       "      <td>General notes:</td>\n",
       "      <td>[]</td>\n",
       "      <td>[]</td>\n",
       "      <td>appendix b</td>\n",
       "      <td>[]</td>\n",
       "      <td>[]</td>\n",
       "      <td>[]</td>\n",
       "      <td>[General notes:]</td>\n",
       "      <td>[[(General, None), (notes, None)]]</td>\n",
       "    </tr>\n",
       "  </tbody>\n",
       "</table>\n",
       "</div>"
      ],
      "text/plain": [
       "                                                html  \\\n",
       "0                                  <p>Appendix B</p>   \n",
       "1  <p><span class=\"anchor\" id=\"bookmark0\"></span>...   \n",
       "2  <p>by Yaakov Zik <span style=\"font-variant: sm...   \n",
       "3  <p><span class=\"anchor\" id=\"bookmark1\"></span>...   \n",
       "4                              <p>General notes:</p>   \n",
       "\n",
       "                                                text links italic     chapter  \\\n",
       "0                                         Appendix B    []     []  appendix b   \n",
       "1          On the Table of Oppositions in Chapter 15    []     []  appendix b   \n",
       "2                             by Yaakov Zik Table i:    []     []  appendix b   \n",
       "3  Initial positions of Mars in Chapter 15 comput...    []     []  appendix b   \n",
       "4                                     General notes:    []     []  appendix b   \n",
       "\n",
       "  graphic table marginal                                          sentences  \\\n",
       "0      []    []       []                                       [Appendix B]   \n",
       "1      []    []       []        [On the Table of Oppositions in Chapter 15]   \n",
       "2      []    []       []                           [by Yaakov Zik Table i:]   \n",
       "3      []    []       []  [Initial positions of Mars in Chapter 15 compu...   \n",
       "4      []    []       []                                   [General notes:]   \n",
       "\n",
       "                                              tagged  \n",
       "0                    [[(Appendix, None), (B, None)]]  \n",
       "1  [[(On, None), (the, None), (Table, None), (of,...  \n",
       "2  [[(by, None), (Yaakov, None), (Zik, None), (Ta...  \n",
       "3  [[(Initial, None), (positions, None), (of, Non...  \n",
       "4                 [[(General, None), (notes, None)]]  "
      ]
     },
     "execution_count": 7,
     "metadata": {},
     "output_type": "execute_result"
    }
   ],
   "source": [
    "dfAstroNova.head(5)"
   ]
  },
  {
   "cell_type": "code",
   "execution_count": 20,
   "metadata": {},
   "outputs": [],
   "source": [
    "df=dfAstroNova.loc[dfAstroNova[\"chapter\"]==\"44\"]"
   ]
  },
  {
   "cell_type": "code",
   "execution_count": 21,
   "metadata": {},
   "outputs": [],
   "source": [
    "texts=[]\n",
    "for sen in df.sentences:\n",
    "    texts +=sen"
   ]
  },
  {
   "cell_type": "code",
   "execution_count": 22,
   "metadata": {},
   "outputs": [
    {
     "data": {
      "text/plain": [
       "['Chapter 44',\n",
       " 'The path of the planet through the ethereal air is not a circle, not even with respect to the first inequality alone, even if you mentally remove the Brahean and Ptolemaic complex of spirals resulting from the second inequality in these two authors.',\n",
       " \"With the eccentricity and the ratio of the orbs established with the utmost certainty, it might appear strange to an astronomer that there remains yet another impediment in the way of astronomy's triumph.\",\n",
       " 'And me, Lord knows, I had triumphed for two full years.',\n",
       " 'Nevertheless, by a comparison of the things which have  been established in Chapters 41, 42, and 43, preceding, it is readily apparent what we are still lacking.',\n",
       " 'The positions of the aphelia, eccentricity, and the ratio of the orbs, as constituted in the several places, differed greatly from one another.',\n",
       " 'Nor were the computed physical equations in agreement with the observations (which the vicarious hypothesis represents).',\n",
       " 'Let the diagram of Chapter 41 be brought back.',\n",
       " 'And because, in that diagram, in units of which γη was 151,740, γα would have been 14,822, when γα and γη or γε are added, αε would be 166,562.',\n",
       " 'In Chapter 42 this was found to be 166,780.',\n",
       " 'Likewise, when γα is subtracted from γδ, the remainder, αδ, would be 136,918, which in Chapter 42 was found to be fully 138,500.',\n",
       " 'Again, the true length of the lines γε, γα, αε, and αδ was found in Chapter 421 If, therefore, what was supposed and used in Chapter 41 is true, that the path of the planet is a circle, it is not difficult to say how much ακ, αη, αθ ought to be.',\n",
       " 'Since in Oct.',\n",
       " '1590 αε was at 28° 41\\' 40\" Leo, and κ, η, θ are as given in Chapter 41, the angles καγ, ηαγ, θαγ will be given.',\n",
       " 'Therefore, the optical equation will also be given: ακγ 0° 53\\' 13\", αηγ 3° 10\\' 24\", αθγ 5° 8\\' 47\" ^2.',\n",
       " 'And as the sine of these angles is to the truest eccentricity αγ, 14,140, so are the sines of κγε, ηγε, θγα to ακ, αη, αθ.',\n",
       " '3\\nIf anyone wishes to attribute this difference to the slippery luck of observing, he must surely not have felt nor paid attention to the force of the demonstrations used hitherto, and will be shamelessly imputing to me the vilest fraud in corrupting the observations of Brahe.',\n",
       " 'I therefore appeal to the observations of subsequent years, at least those that experienced observers made.',\n",
       " 'For if in any respect I have given free rein to my inclinations in one direction, it will only go so much the farther into error on the other side.',\n",
       " 'But there is no need of this.',\n",
       " 'I am addressing this to you who are experienced in matters astronomical, who know that in astronomy there is no tolerance for the sophistical loopholes that beset other disciplines.',\n",
       " 'To you I appeal.',\n",
       " 'You see at κ a small defect from the circle, at η, θ on both sides, a rather large one, enough so that we cannot excuse it by uncertainties in observing (for in Chapter 42 I reckon an uncertainty of perhaps 200, or at most 300 units).',\n",
       " 'What, then, is to be said?',\n",
       " \"Could this actually be the situation described in Chapter 6 above, in which by transposition of the reference point from the sun's mean motion to its apparent motion I set up another eccentric that makes an excursion towards the side of the sun's apogee?\",\n",
       " 'By no means.',\n",
       " 'For there, it would approach from the one side by the same amount as it moves away on the other.',\n",
       " 'Here, however, you see that the planet approaches the center from the circular orbit on both sides.',\n",
       " 'This is confirmed by many other observations, some of which follow below in Chapters 51 and 53.',\n",
       " \"Clearly, then, [what is to be said] is this: the orbit of the planet is not a circle, but comes in gradually on both sides and returns again to the circle's distance at perigee.\",\n",
       " 'They are accustomed to call the shape of this sort of path  \"oval.\"',\n",
       " 'This same thing is also proved from Chapter 43 preceding.',\n",
       " 'There it was  supposed that the area of a perfect eccentric is very closely equivalent to all the distances of the equal parts of the circumference of that eccentric from the source of the motive power, however many they are.',\n",
       " 'Thus, the parts of the area measure the amounts of time which the planet spends on the parts of the corresponding eccentric circumference.',\n",
       " 'But if that area about which the planet marks a boundary is not a perfect circle, but is diminished at the sides from the amplitude it has at the apsides, and if nevertheless this area circumscribed by an irregular orbit still measures the times which the planet takes to traverse the whole and its equal parts, then this diminished area measures a time equal to that measured by the previous undiminished area.',\n",
       " 'So the parts of the diminished area nearest aphelion and perihelion will measure a greater time, because in those regions the diminution is narrowest, but the parts at the middle longitudes measure less time than before, because the greatest diminution in the whole area occurs there.',\n",
       " 'So if we now use the diminished area in adjusting the equations, the planet will become slower near aphelion and perihelion than it was in the previous faulty form of equation, and swifter near the middle elongations, because here the distances are lessened.',\n",
       " 'Therefore, the times, when they are abstracted from the area and adjusted upward and downward, will be accumulated at aphelion and perihelion in much the same manner as, if one were to squeeze a fat-bellied sausage at its middle, he would squeeze and squash the ground meat, with which it is stuffed, outwards from the belly towards the two ends, emerging above and below his hand ^4.',\n",
       " 'And indeed, if contraries remedy one another, this is plainly the aptest medicine for purging the faults under which, in Chapter 43 above, our physical hypothesis was perceived to be laboring.',\n",
       " 'For the planet is going to be swifter at the middle elongations, where previously it was perceived to be going slower than it should, and it will be slowed down above and below, near the apsides, where previously it did violence to the equations belonging to the eighths of the period through its excessive fleetness.',\n",
       " 'This, then, is the other argument by which it is proved that the orbit of the planet really is deflected from the established circle, making ingress towards the sides and the centre of the eccentric.',\n",
       " \"But for all that, this argument still did not have enough effect upon me to let me go beyond it and think about the planet's departure from the orbit.\",\n",
       " 'When I had sweated for the longest time trying to reconcile equations of this sort, I was finally discouraged by the absurdity of the measurements, and abandoned the whole enquiry until I was informed by the distances (found in the way shown in Chapter 41) about the departure from the [circular] orbit, and once more took up this problem of the equations.',\n",
       " 'And from this, what I promised I would prove, in Chapters 20 and 23 above, is now done: that the orbit of the planet is not a circle but of an oval shape.']"
      ]
     },
     "execution_count": 22,
     "metadata": {},
     "output_type": "execute_result"
    }
   ],
   "source": [
    "texts"
   ]
  },
  {
   "cell_type": "code",
   "execution_count": 13,
   "metadata": {
    "collapsed": true
   },
   "outputs": [],
   "source": [
    "dfAstroNova['tagged'] = dfAstroNova.sentences.apply(lambda row: tagWords(row))"
   ]
  },
  {
   "cell_type": "code",
   "execution_count": 14,
   "metadata": {},
   "outputs": [
    {
     "data": {
      "text/plain": [
       "1605"
      ]
     },
     "execution_count": 14,
     "metadata": {},
     "output_type": "execute_result"
    }
   ],
   "source": [
    "len(dfAstroNova['tagged'] )"
   ]
  },
  {
   "cell_type": "code",
   "execution_count": 15,
   "metadata": {},
   "outputs": [],
   "source": [
    "if export_pickle:\n",
    "    path = './data/exported/dfAstroNova_tagged_v{0}.pickle'.format(exportVersion)\n",
    "    dfAstroNova.to_pickle(path)\n",
    "    print('Exported version: {0}'.format(exportVersion))        "
   ]
  },
  {
   "cell_type": "markdown",
   "metadata": {},
   "source": [
    "### Read the Sentences"
   ]
  },
  {
   "cell_type": "code",
   "execution_count": 16,
   "metadata": {},
   "outputs": [],
   "source": [
    "df=dfAstroNova.sentences"
   ]
  },
  {
   "cell_type": "code",
   "execution_count": 23,
   "metadata": {},
   "outputs": [],
   "source": [
    "texts=[]\n",
    "for sen in dfAstroNova.sentences:\n",
    "    texts +=sen\n",
    "\n",
    "    "
   ]
  },
  {
   "cell_type": "code",
   "execution_count": 24,
   "metadata": {},
   "outputs": [
    {
     "data": {
      "text/plain": [
       "['Appendix B',\n",
       " 'On the Table of Oppositions in Chapter 15',\n",
       " 'by Yaakov Zik Table i:',\n",
       " 'Initial positions of Mars in Chapter 15 computed with Guide 9 using JPL DE430.',\n",
       " 'General notes:']"
      ]
     },
     "execution_count": 24,
     "metadata": {},
     "output_type": "execute_result"
    }
   ],
   "source": [
    "texts[0:5]"
   ]
  },
  {
   "cell_type": "markdown",
   "metadata": {},
   "source": [
    "## Annotation Based on Consistant format with Prodigy "
   ]
  },
  {
   "cell_type": "markdown",
   "metadata": {},
   "source": [
    "<fig size= 3>\n",
    "Prodigy accept a specific format; a JSONL format (newline-delimited JSON). Entities and other highlighted spans of text can be defined in the \"spans\" property. A example could look like this dictionary:\n",
    "    \n",
    "{\"sentence\", \"spans\": [ { \"start\": 48, \"end\": 54, \"label\": \"DATE\"} ] }\n",
    "\n",
    "which start and end's numbers refer to the position of entitiy  in the sentence. (here DATE)\n",
    "\n",
    "<fig size>"
   ]
  },
  {
   "cell_type": "code",
   "execution_count": 65,
   "metadata": {},
   "outputs": [],
   "source": [
    "import re\n",
    "from prodigy.util import write_jsonl\n",
    "\n",
    "label = \"ASTR\"   # whatever label you want to use\n",
    "texts = texts  # a list of your texts\n",
    "regex_patterns = [\n",
    "re.compile(r'(?<!\\S)\\d{1,3}(?:,\\d{3})+?,?.(?!\\S?\\S)')\n",
    "                                          ]\n",
    "#1 (\\d{1,3},)+\\d{3},?\\.?)\n",
    "#2 (\\d{1,3},)+\\d{3}[^x],?\\.?\n",
    "#3 (?<!\\S)\\d{1,3}(?:,\\d{3})*(?!\\S)\n",
    "#4 (\\d{1,3})*(,\\d{3}),|(\\d{1,3})*(,\\d{1,3})\\.|(\\d{1,3})*(,\\d{3})\n",
    "#5 (?<!\\S)\\d{1,3}(?:,\\d{3})+(?!\\S)\n",
    "#6 (?<!\\S)\\d{1,3}(?:,\\d{3})*(?!\\S)\n",
    "#7 (?<!\\S)\\d{1,3}(?:,\\d{3})+?,?.(?!\\S?\\S)\n",
    "examples = []\n",
    "for text in texts:\n",
    "    for expression in regex_patterns:\n",
    "        spans = []\n",
    "    for match in re.finditer(expression, text):\n",
    "        start, end = match.span()\n",
    "        span = {\"start\": start, \"end\": end, \"label\": label}\n",
    "        spans.append(span)\n",
    "    task = {\"text\": text, \"spans\": spans}\n",
    "    examples.append(task)              \n",
    "\n",
    "write_jsonl(\"NER_03_ASTR_02.jsonl\", examples)"
   ]
  },
  {
   "cell_type": "code",
   "execution_count": 49,
   "metadata": {},
   "outputs": [
    {
     "data": {
      "text/plain": [
       "[{'text': 'Therefore Mars was at 9° 19⅖’ Libra, latitude 1° 53½’ north ^6.',\n",
       "  'spans': []},\n",
       " {'text': 'These observations were not, however, confirmed by fixed stars on the other side of Mars.',\n",
       "  'spans': []},\n",
       " {'text': '[IV] On 1590 October 6, at 4h 45m in the morning, Mars was observed at an altitude of 12½ degrees, [and distances taken] from the Tail of Leo7 and the Heart of Hydra,8 with its declination.',\n",
       "  'spans': []},\n",
       " {'text': \"But since neither of the fixed stars was extended straight from Mars in the direction of the longitude, it happened that the two right ascensions, constructed through the given declination, disagreed by 6' ^9.\",\n",
       "  'spans': []},\n",
       " {'text': 'This can easily happen if some very small amount is wanting in the declination.',\n",
       "  'spans': []},\n",
       " {'text': \"Indeed, they appear not to have had much confidence in this, with the result that they measured Mars from the Tail of Leo, which is at the same longitude, all the distance being latitudinal, with the aim of knowing Mars's latitude with greater certainty from this rather than from the declination.\",\n",
       "  'spans': []},\n",
       " {'text': \"But let the declination of 6° 14' stand, as well as the distance from the Heart of Hydra of 34° 33½’.\",\n",
       "  'spans': []},\n",
       " {'text': 'Its right ascension would thus be 168° 56¼’ ^10.', 'spans': []},\n",
       " {'text': \"Therefore, its position would be 17° 16¾' Virgo, latitude 1° 16⅔’ north ^11.\",\n",
       "  'spans': []},\n",
       " {'text': 'The table of refraction for the fixed stars shows 4 minutes at this altitude, while the table for the sun shows more.',\n",
       "  'spans': []},\n",
       " {'text': 'Also, Virgo is rising steeply.', 'spans': []},\n",
       " {'text': 'Therefore Mars has to be put forward (eastward) about 3 minutes or (using the solar refractions) a little more, whence it was subtracted by refraction.',\n",
       "  'spans': []},\n",
       " {'text': 'The parallax was quite small, so it hardly removes anything from the refraction.',\n",
       "  'spans': []},\n",
       " {'text': \"Mars would have been at 17° 20' Virgo ^12.\", 'spans': []},\n",
       " {'text': \"[V] On 1600 March 5/15 at 8½h pm Mars was at 29° 12½’ Cancer, latitude 3° 23' N. And on March 6/16 at 8½h at 29° 18' Cancer, lat.\",\n",
       "  'spans': []},\n",
       " {'text': \"3° 19¾' N ^13.\", 'spans': []},\n",
       " {'text': 'Now the times that return Mars to the same place on the eccentric correspond to one another as follows:14 \\nThe procedure for referring the observations to the appropriate times is this.',\n",
       "  'spans': []},\n",
       " {'text': 'Since in 1587 the diurnal motions of Mars are decreasing, as is apparent both in Magini and in the observations on the three days, I have assumed the following diurnal motions: 17, 16, 16, 16, 15, 15, 14, 14, 13, 13, 13, 12, 12.',\n",
       "  'spans': []},\n",
       " {'text': 'On 1588 November 10 the observation is 39 minutes less than the midday position of Magini.',\n",
       "  'spans': []},\n",
       " {'text': 'On December 5 it is 33 minutes less.', 'spans': []},\n",
       " {'text': 'And our moment is between these.', 'spans': []},\n",
       " {'text': \"Therefore, we have also taken the intermediate difference of 36'.\",\n",
       "  'spans': []},\n",
       " {'text': 'In 1590 the observation is solitary, and, as was seen, was itself not well made.',\n",
       "  'spans': []},\n",
       " {'text': \"Nevertheless, the diurnal motion in Magini is a constant 37' over many days ^15.\",\n",
       "  'spans': []},\n",
       " {'text': 'Now to the point: and while I have so far presented many methods of finding or testing the eccentric positions and distances, I nevertheless here follow yet another one, it being the easiest.',\n",
       "  'spans': []},\n",
       " {'text': 'Let δ, ε, κ, λ, γ be positions of the earth, with δ, γ on the left and ε, κ, λ on the right side of the eccentric.',\n",
       "  'spans': []},\n",
       " {'text': 'And since the lines αδ, αε, ακ, αλ, αγ are given, and also the angles αδι, αει, ακι, αλι, αγι, I shall take a third element common to all the triangles, namely the side αλι, which is  one of the magnitudes sought, and using this side I shall find the angles at ι and see whether they place the line αι at the same zodiacal position (except to the extent that it is moved forward in the later times by the precession of the equinoxes).',\n",
       "  'spans': []},\n",
       " {'text': 'From this I am going to know whether the value assumed for αι was any good.',\n",
       "  'spans': []},\n",
       " {'text': 'The basis of the method is this: that as αι is to [the sines of] the angles δ, ε, κ, λ, γ, so are αδ, αε, ακ, αλ, αγ to [the sines of] the angles at ι.',\n",
       "  'spans': []},\n",
       " {'text': 'The sines of these, multiplied by the earth-sun distance, and divided by the magnitude assumed for αι, 166,700, yields the sines of the angles which, added to the observed positions of Mars at γ, δ, and subtracted at ε, κ, λ, put the line αι at the following positions:',\n",
       "  'spans': [{'start': 103, 'end': 111, 'label': 'ASTR'}]},\n",
       " {'text': 'That is, the five positions ought to have differed by no more than the amount occasioned by the precession of the equinoxes.',\n",
       "  'spans': []},\n",
       " {'text': 'You see from the diagram that if, other things remaining the same, you will take αι to be shorter, it is going to be moved forward at γ, δ and back at ε, κ, λ, but not by an equal distance for all of them.',\n",
       "  'spans': []},\n",
       " {'text': 'And as soon as you do this, you will make matters worse at δ, κ, λ, and better at γ, ε. The opposite will happen if you will lengthen αι.',\n",
       "  'spans': []},\n",
       " {'text': 'But it', 'spans': []},\n",
       " {'text': 'is fitting to have these small errors distributed among all the positions.',\n",
       "  'spans': []},\n",
       " {'text': 'Therefore, the distance αι is not to be changed at all, and the planet, at the prescribed times, is at the positions last mentioned.',\n",
       "  'spans': []},\n",
       " {'text': 'If you wish to seek confirmation using the method of Chapter 28, to test the consensus, the points δ, ε being joined, you will find δε to be 74,058, δεα 68° 36\\' 0\", εδα 67° 21\\' 3\".',\n",
       "  'spans': [{'start': 141, 'end': 148, 'label': 'ASTR'}]},\n",
       " {'text': 'Therefore εδι is 88° 28\\' 50\", and δει is 44° 36\\' 46\", and ειδ is 46° 54\\' 24\".',\n",
       "  'spans': []},\n",
       " {'text': 'Therefore, ιε is 101,380, and εαι is 33° 58\\' 33\".',\n",
       "  'spans': [{'start': 17, 'end': 25, 'label': 'ASTR'}]},\n",
       " {'text': 'Therefore, in 1587 αι was at 29° 19\\' 49\" Leo (we just now chose 29° 18\\' 36\", the difference of one minute keeping it in agreement with other positions).',\n",
       "  'spans': []},\n",
       " {'text': 'Finally, αι is 166,725, and the position of κ is in agreement [with the former one].',\n",
       "  'spans': [{'start': 15, 'end': 23, 'label': 'ASTR'}]},\n",
       " {'text': 'Since 166,666⅔ is the sesquialter of the radius, 100,000,16 it is credible that this is the ratio of the mean distance of the earth from the sun to the greatest distance of Mars from the sun.',\n",
       "  'spans': [{'start': 6, 'end': 14, 'label': 'ASTR'},\n",
       "   {'start': 49, 'end': 57, 'label': 'ASTR'}]},\n",
       " {'text': 'But at present I shall base nothing upon conjecture.', 'spans': []},\n",
       " {'text': \"And since the plane of the eccentric is inclined to the ecliptic here at an angle of 1° 48', whose secant is 49 units above [the radius], or 82 of our present units, the most correct distance of Mars and the sun will be 166,780, as far as can be told from these observations, which, you will recall, were deduced from ones that were rather distant instead of being optimally obtained on the very days in question.\",\n",
       "  'spans': [{'start': 220, 'end': 228, 'label': 'ASTR'}]},\n",
       " {'text': 'Let us now proceed to the perigee, where the catalog of observations, and a middling knowledge of the mean motion, show the following to be the nearest observations:',\n",
       "  'spans': []},\n",
       " {'text': 'On 1589 Nov.', 'spans': []},\n",
       " {'text': \"1 at 6⅙h in the evening, Mars was at 20° 59¼’ Capricorn, with latitude 1° 36' south ^17.\",\n",
       "  'spans': []},\n",
       " {'text': 'On 1591 Sept.', 'spans': []},\n",
       " {'text': \"26 at 7h 10m at 18° 36' Capricorn, lat.\", 'spans': []},\n",
       " {'text': '2° 49⅕‘ south ^18.', 'spans': []},\n",
       " {'text': \"On 1593 July 31 at l¾h am at 17° 39½' Pisces, lat.\", 'spans': []},\n",
       " {'text': \"6° 6¼’ south,19 and August 11 at 1¾h am at 16° 7½' Pisces, Lat.\",\n",
       "  'spans': []},\n",
       " {'text': '6° 18⅚‘ south ^20.', 'spans': []},\n",
       " {'text': 'The times correspond thus:', 'spans': []},\n",
       " {'text': 'For 1591 we need to take it on faith that the diurnal motions are the same as',\n",
       "  'spans': []},\n",
       " {'text': 'those of Magini, since the observation is solitary.', 'spans': []},\n",
       " {'text': 'And since in Magini it moves', 'spans': []},\n",
       " {'text': \"4° 16' in 7 days, on September 19 at 7⅙h Mars will be at 14° 20' Capricorn, and at 6⅙h it will be at 14° 18½’ Capricorn.\",\n",
       "  'spans': []},\n",
       " {'text': \"About the station on July 16 or 17, Mars  was about 1° 16' farther forward in the calculation than in Magini.\",\n",
       "  'spans': []},\n",
       " {'text': \"Now, on September 26, it is still 0° 53' farther forward.\",\n",
       "  'spans': []},\n",
       " {'text': 'Therefore, over 70 days the difference has been diminished by about 23 minutes.',\n",
       "  'spans': []},\n",
       " {'text': 'So if we interpolate, this difference will be about 2 minutes greater on September 19.',\n",
       "  'spans': []},\n",
       " {'text': \"We shall therefore believe that at our given moment Mars is at 14° 20' Capricorn.\",\n",
       "  'spans': []},\n",
       " {'text': 'In 1593 Mars left its station.', 'spans': []},\n",
       " {'text': \"And on midnight of July 30 the position of Mars disagrees with Magini's midday position by 3° 25½’, and on August 10 by 3° 59½’,so that the difference is increased, but gradually less so.\",\n",
       "  'spans': []},\n",
       " {'text': \"Therefore, I have assumed a difference of 3° 46' for August 6, so that at 11 hours after midnight it would be at 16° 52' Pisces.\",\n",
       "  'spans': []},\n",
       " {'text': \"And the diurnal motion was 10'.\", 'spans': []},\n",
       " {'text': \"This is 8 hours 30 minutes past our time, which would account for about 4' of Mars's retrograde motion.\",\n",
       "  'spans': []},\n",
       " {'text': \"Therefore, at our time it was at 16° 56' Pisces.\", 'spans': []},\n",
       " {'text': 'It is certain that (on this point at least) we are no more than one minute high or low.',\n",
       "  'spans': []},\n",
       " {'text': 'It was not observed more frequently at perigee.', 'spans': []},\n",
       " {'text': 'For in 1595 its arrival at perigee fell in the middle of summer, when twilight lasts all night in Denmark.',\n",
       "  'spans': []},\n",
       " {'text': 'In 1597 Tycho Brahe was travelling.', 'spans': []},\n",
       " {'text': \"And when it is near the sun in its winter semicircle it is long hidden, since its speed is not much less than the sun's.\",\n",
       "  'spans': []},\n",
       " {'text': \"In the diagram, let Mars's eccentric position be θ, the positions of the earth, ζ, μ, η; and let\",\n",
       "  'spans': []},\n",
       " {'text': 'But if it was 55\\' 20\" at ζ, it should have been 56\\' 56\" at μ, and 58\\' 32\" at η, for that is the amount of the precession of the equinoxes.',\n",
       "  'spans': []},\n",
       " {'text': 'It can thus be seen from the diagram that the line αθ determined through η goes too far forward, and through μ, ζ, too far back, in relation to that through η. Other things remaining unchanged, this happened because I assumed too small a value for αθ.',\n",
       "  'spans': []},\n",
       " {'text': 'Therefore, if I make it a hundred parts longer, namely, 138,500, the following positions come out:',\n",
       "  'spans': [{'start': 56, 'end': 64, 'label': 'ASTR'}]},\n",
       " {'text': '21', 'spans': []},\n",
       " {'text': 'So now the positions of αθ have been made to be too close to one another,22 and the error is now more so in closeness than it was before in remoteness.',\n",
       "  'spans': []},\n",
       " {'text': 'Therefore, the most correct length of αθ will be about 138,430.',\n",
       "  'spans': [{'start': 55, 'end': 63, 'label': 'ASTR'}]},\n",
       " {'text': \"At this point the plane is inclined 1° 48' (as it was before at the opposite position), and the secant is 49 units greater than the radius.\",\n",
       "  'spans': []},\n",
       " {'text': 'But as 100,000 is to 138,430, so is this 49 to 68.',\n",
       "  'spans': [{'start': 7, 'end': 15, 'label': 'ASTR'},\n",
       "   {'start': 21, 'end': 29, 'label': 'ASTR'}]},\n",
       " {'text': 'Therefore, the correct length of the radius is approximately 138,500, at least from these observations involving long interpolations.',\n",
       "  'spans': [{'start': 61, 'end': 69, 'label': 'ASTR'}]},\n",
       " {'text': 'Investigation of the apsides, from the above', 'spans': []},\n",
       " {'text': 'With all three observations taken into account, let the position of the line αθ on 1589 November 1 at 6⅙h pm be taken as 29° 54\\' 53\" Aquarius, so that in 1591 it would be 29° 56\\' 30\", and in 1593, 29° 58\\' 6\" Aquarius.',\n",
       "  'spans': []},\n",
       " {'text': 'The vicarious hypotheses of Chapter 16 shows it to be at 29° 52\\' 55\" for the first of the times.',\n",
       "  'spans': []},\n",
       " {'text': 'But previously and in like manner we took at αι 1588 November 22 at 9h 2½m to be 29° 20\\' 12\" Leo.',\n",
       "  'spans': []},\n",
       " {'text': 'From 1588 November 22 at 9h 2½m to 1589 November 1 at 6h 10m are 344 days diminished by 2h 52½m while a whole revolution to the same fixed star has 687 days diminished by 0h 28 min.',\n",
       "  'spans': []},\n",
       " {'text': 'Therefore, our interval appears to exceed half the periodic time by a few hours.',\n",
       "  'spans': []},\n",
       " {'text': 'Consider:', 'spans': []},\n",
       " {'text': 'And from the position at the earlier time, 29° 20\\' 12\" Leo, to the position which Mars held at the later time, 29° 54\\' 53\" Aquarius, is 180° 34\\' 41\", or 180° 33\\' 53\" with the precession of 48\" subtracted.',\n",
       "  'spans': []},\n",
       " {'text': 'Therefore, if the excess of 33\\' 53\" beyond the semicircle is sufficient for the 10 hours 6½ minutes from Mars\\'s diurnal motion on the eccentric, the aphelion would consequently be understood to be at 29° 20\\' 12\" Leo.',\n",
       "  'spans': []},\n",
       " {'text': 'But we know the diurnal motions of Mars on the eccentric near apogee and perigee from the distances just found and from the demonstrations of Chapter 32.',\n",
       "  'spans': []},\n",
       " {'text': 'For the diurnal motions are approximately in the [inverse] duplicate ratio of the distances.',\n",
       "  'spans': []},\n",
       " {'text': 'At apogee the diurnal motion is about 26\\' 13\", at perigee 38\\' 2\", since the mean diurnal motion is 31\\' 27\".',\n",
       "  'spans': []},\n",
       " {'text': 'Consider, then: if Mars, in moving from its apogee point, expends half its periodic time, at the end of this time, having traversed exactly 180 degrees, it is going to be at the perigee point.',\n",
       "  'spans': []},\n",
       " {'text': 'But now if it begins this space of time one day after it was at apogee, it will begin its course 26\\' 13\" beyond apogee and will end it at 180° 38\\' 2\".',\n",
       "  'spans': []},\n",
       " {'text': 'Therefore, in half the time it will traverse 11\\' 49\" more than half the path.',\n",
       "  'spans': []},\n",
       " {'text': 'The opposite will happen if it were to begin one day before apogee.',\n",
       "  'spans': []},\n",
       " {'text': 'Therefore, since our time, too, shows an arc greater [than a semicircle], our aphelion also should be moved forward.',\n",
       "  'spans': []},\n",
       " {'text': 'First, we shall credit half of our hours to the time before aphelion, and half after perihelion.',\n",
       "  'spans': []},\n",
       " {'text': 'The planet will then begin from 5\\' 16\" before aphelion, which is thus put at 29° 25\\' 28\" Leo, and it will come to 8\\' 1\" after perihelion, the amount of travel being 13\\' 17\" beyond 180°.',\n",
       "  'spans': []},\n",
       " {'text': 'But its path was seen to be 33\\' 53\" beyond 180°.', 'spans': []},\n",
       " {'text': 'Therefore, it is still faster by 20\\' 36\".', 'spans': []},\n",
       " {'text': 'Therefore, since to increase the path by 11\\' 49\", one day, or the promotion of the planet to 26’ 13\" beyond aphelion, is needed, how much will the planet be promoted from aphelion to increase the path by 20’ 36\"?',\n",
       "  'spans': []},\n",
       " {'text': 'The rule of proportions shows it to be 1 day 17h 54m, or a distance from aphelion of 45\\' 42\".',\n",
       "  'spans': []},\n",
       " {'text': 'Therefore, the aphelion is to be moved forward 45\\' 42\" from the position we just gave it, 29° 25\\' 28\" Leo.',\n",
       "  'spans': []},\n",
       " {'text': 'To which of the investigations of the aphelion one ought to give more trust, is uncertain.',\n",
       "  'spans': []},\n",
       " {'text': 'For it can easily happen that in the positioning and assuming of the lines αι, αθ we have erred by 4 minutes, two for the one and two for the other, owing to difficulties in the observations.',\n",
       "  'spans': []},\n",
       " {'text': 'And this is all that needs to be accumulated, through the compounding of errors, to change the aphelion by 11 minutes.',\n",
       "  'spans': []},\n",
       " {'text': 'Here, however, it is reasonable for us to trust the present operation.',\n",
       "  'spans': []},\n",
       " {'text': 'Correction of the mean motion', 'spans': []},\n",
       " {'text': 'When the aphelion is changed, the mean motion is changed as well.',\n",
       "  'spans': []},\n",
       " {'text': 'For at the same time at which in the previous investigation of the aphelion Mars is thought to fall at aphelion, with no equation, it has now passed the aphelion by 11 minutes.',\n",
       "  'spans': []},\n",
       " {'text': 'Therefore, it has an equation of 4 minutes, subtractive.',\n",
       "  'spans': []},\n",
       " {'text': \"Thus in its mean motion it has passed that original position by 4' ^23.\",\n",
       "  'spans': []},\n",
       " {'text': 'Investigation of the eccentricity', 'spans': []},\n",
       " {'text': 'First, the distances found previously should be corrected, if necessary, to the extent that they are some small amount distant from the apsides just found, the aphelia by 40 minutes, perihelia by 75 minutes.',\n",
       "  'spans': []},\n",
       " {'text': 'But there is no perceptible change so close to the apsides.',\n",
       "  'spans': []},\n",
       " {'text': 'And as 152,640 is to 100,000, so is 14,140 to the eccentricity 9264.',\n",
       "  'spans': [{'start': 7, 'end': 15, 'label': 'ASTR'},\n",
       "   {'start': 21, 'end': 29, 'label': 'ASTR'},\n",
       "   {'start': 36, 'end': 43, 'label': 'ASTR'}]},\n",
       " {'text': 'But half the eccentricity of the equating point was 9282.',\n",
       "  'spans': []},\n",
       " {'text': 'The difference of 18 is clearly of no importance.', 'spans': []},\n",
       " {'text': 'You see how precisely the eccentricity of the equating point is to be bisected in Mars in order to establish the distance between the centers of the eccentric and the world.',\n",
       "  'spans': []},\n",
       " {'text': 'Above, in Chapter 32, I took this to be fundamental, and in the following chapters postponed its demonstration.',\n",
       "  'spans': []},\n",
       " {'text': 'Now, however, that obligation is discharged.', 'spans': []},\n",
       " {'text': 'Chapter 43', 'spans': []},\n",
       " {'text': \"On the defect in the equations accumulated by bisection of the eccentricity and the use of triangular areas, on the supposition that the planet's orbit is perfectly circular.\",\n",
       "  'spans': []},\n",
       " {'text': 'What was proved in Part III concerning the bisection of the eccentricity in the theory of the sun has now likewise been demonstrated with perfect certainty for Mars.',\n",
       "  'spans': []},\n",
       " {'text': 'And now that our evidence of this is complete, it would at last be time to proceed to the physical theories of Chapters 32 and the following, seeing that they are going to apply to all planets in common, had I not seen fit to present them earlier.',\n",
       "  'spans': []},\n",
       " {'text': 'I did so because there, in the theory of the sun or earth, the procedure for computing the equations from physical causes had to be completed with full perfection, and because I knew that where that method of constructing the equations is to be applied to the theory of Mars, much more difficult physical theories were to follow.',\n",
       "  'spans': []},\n",
       " {'text': 'Now when the true configuration of the orbits is found, the eccentric equations, upon which alone the vicarious hypothesis found in Chapter 16 has hitherto depended, must necessarily follow by the same means.',\n",
       "  'spans': []},\n",
       " {'text': 'We shall therefore explore it in turn here.', 'spans': []},\n",
       " {'text': 'Therefore, following what was demonstrated in Chapter 40 (all of which, in every detail, is to be understood as holding here), let the orbit of the planet, in accord with the well-worn opinion, be circular, even though Ch.',\n",
       "  'spans': []},\n",
       " {'text': '41 has just urged us to doubt it.', 'spans': []},\n",
       " {'text': 'Therefore, at the eccentric anomaly of 90° the eccentricity 9264 found in Ch.',\n",
       "  'spans': []},\n",
       " {'text': '42 will be the tangent, which will give the optical part of the equation, 5° 17\\' 34\".',\n",
       "  'spans': []},\n",
       " {'text': 'And since at the eccentric anomaly of 90° the area of the triangle is right-angled, the radius multiplied by half the eccentricity, 4632, gives the area of the triangle, 463,200,000.',\n",
       "  'spans': [{'start': 170, 'end': 182, 'label': 'ASTR'}]},\n",
       " {'text': 'Now as the area of the circle, 31,415,926,536, is to 360 degrees or 1,296,000 seconds, so is this area just found, 463,200,000, to 19,108\", or 5° 18\\' 28\", the physical part of the equation.',\n",
       "  'spans': [{'start': 31, 'end': 46, 'label': 'ASTR'},\n",
       "   {'start': 68, 'end': 78, 'label': 'ASTR'},\n",
       "   {'start': 115, 'end': 127, 'label': 'ASTR'},\n",
       "   {'start': 131, 'end': 139, 'label': 'ASTR'}]},\n",
       " {'text': 'Consequently, the whole equation is 10° 36\\' 2\", so that to the mean anomaly of 95° 18\\' 28\" corresponds the equated anomaly of 84° 42\\' 26\".',\n",
       "  'spans': []},\n",
       " {'text': 'But according to the method of Chapter 18, the vicarious hypothesis, accurate enough for the longitudes, shows us that to the mean anomaly of 95° 18\\' 28\" there ought to correspond the equated anomaly of 84° 42\\' 2\".',\n",
       "  'spans': []},\n",
       " {'text': 'The difference is 24\".', 'spans': []},\n",
       " {'text': 'Now let our eccentric anomaly be taken as 45° and 135°.',\n",
       "  'spans': []},\n",
       " {'text': 'And as the whole sine is to the sine of these angles, so is 19,108\", the area of the greatest triangle of the equation, to the area at this position, 13,512\", or 3° 45\\' 12\", so that by addition of this the physical part of the equation to the eccentric anomaly the mean anomalies of 48° 45\\' 12\" and 138° 45\\' 12\" are constructed.',\n",
       "  'spans': [{'start': 60, 'end': 68, 'label': 'ASTR'},\n",
       "   {'start': 150, 'end': 158, 'label': 'ASTR'}]},\n",
       " {'text': 'But from the given sides of the given angles, the angles of equated anomaly corresponding to these mean anomalies come out to be 41° 28\\' 54\" and 130° 59\\' 25\".',\n",
       "  'spans': []},\n",
       " {'text': 'But by the vicarious hypothesis, as in Chapter 18 of this work, the same simple anomalies of 48° 45\\' 12\" and 138°',\n",
       "  'spans': []},\n",
       " {'text': '45\\' 12\" being taken, the equated anomaly for the former comes out to be 41° 20\\' 33\", less than by the area of the triangle, the excess being 8\\' 21\"; and for the latter, 131° 7\\' 26\", more than by the area of the triangle, the defect being 8\\'.',\n",
       "  'spans': []},\n",
       " {'text': 'So, since it is certain that an error of this magnitude cannot be attributed to our vicarious hypothesis, I had to accept that this procedure for finding the  equations was still imperfect.',\n",
       "  'spans': []},\n",
       " {'text': 'Indeed, in Chapter 19 as well, when I tried out the bisection on Mars and computed the equations using a motionless point of the equant in the Ptolemaic manner, a difference was found at about 45° of eccentric anomaly of nearly the same amount, but in the opposite direction.',\n",
       "  'spans': []},\n",
       " {'text': 'For in the upper quadrant, the planet was closer to the aphelion, and in the lower to the perihelion, than it should have been; while here in the upper quadrant it was farther from the aphelion, and in the lower from the perihelion, than it should be.',\n",
       "  'spans': []},\n",
       " {'text': 'And so in the upper quadrant it is moving too swiftly away from the aphelion, and the same from the perihelion below.',\n",
       "  'spans': []},\n",
       " {'text': 'Therefore, it is slower than it should be in the middle elongations.',\n",
       "  'spans': []},\n",
       " {'text': 'I believe it has just occurred to the reader that the cause of these errors might  perhaps lie in the flaw to which this operation with areas is subject, mentioned in Chapter 40: that the areas are not equivalent to the distances that modify the swiftness and slowness.',\n",
       "  'spans': []},\n",
       " {'text': 'But the present error cannot arise thence.', 'spans': []},\n",
       " {'text': 'For first of all, the excess of the sum of the distances over the area of the circle is small: just about as small, that is, as the little space between the conchoids.',\n",
       "  'spans': []},\n",
       " {'text': 'Then, too, the area makes all the distances a little smaller than they should be, and most of all those that are at the middle elongations.',\n",
       "  'spans': []},\n",
       " {'text': 'So if any error flows from this, it lies in our not having made the planet take enough time in the middle elongations.',\n",
       "  'spans': []},\n",
       " {'text': 'But the errors we are now seeing are in the opposite direction, for we have made the planet take too much time in the middle elongations.',\n",
       "  'spans': []},\n",
       " {'text': 'The same can be raised in objection to anyone who might conceive a suspicion that the error arose because we rejected the double epicycle of Copernicus and Tycho, which makes the orbit of the planet oval, and took up the Ptolemaic perfect circle in the present account.',\n",
       "  'spans': []},\n",
       " {'text': 'For it was said at the end of Chapter 4 that the Copernican orbit moves outwards from the center by 246 parts, which would only increase the error, rather than making an incursion towards the center, as would suit our purposes, since we are now following the idea that the time increments are proportional to the distances.',\n",
       "  'spans': []},\n",
       " {'text': 'But to make it clear to the eye that the area of  the conchoid of Ch.',\n",
       "  'spans': []},\n",
       " {'text': \"40 is made very small, consider that the secant of the angle 5° 19' (the maximum optical equation) is 100,432, which is the line EA.\",\n",
       "  'spans': [{'start': 102, 'end': 110, 'label': 'ASTR'}]},\n",
       " {'text': 'So from this excess of 432, which is the small line BA, part of the line EA, we will be able to get an approximate idea of the sum of all these excesses (such as, QA, RA, BA, SA, LA) in this way.',\n",
       "  'spans': []},\n",
       " {'text': 'The secant of 89°, and its tangent, taken together, are as great as the sines  of all degrees of the whole semicircle, as Cardano helps us see in the part of De subtilitate in which he explains the properties of the circle ^1.',\n",
       "  'spans': []},\n",
       " {'text': 'A proof of this is given by Justus Byrgius ^2.', 'spans': []},\n",
       " {'text': 'Therefore, if all our remaining excesses (other than the greatest, 432) were [to the greatest]3 as [all] the sines in one semicircle are to the semidiameter, then as 100,000 is to the sum of the secant and the tangent of 89° (that is, 11,458,869), so,  approximately, would 432 be to 49,934, the approximate sum of all the excesses at integral degrees of the semicircle ^4.',\n",
       "  'spans': [{'start': 166, 'end': 174, 'label': 'ASTR'},\n",
       "   {'start': 235, 'end': 247, 'label': 'ASTR'},\n",
       "   {'start': 284, 'end': 291, 'label': 'ASTR'}]},\n",
       " {'text': 'For the excesses of the distances in the upper quadrant are longer than those excesses of the secants, to about the same extent that they are shorter in the lower quadrant.',\n",
       "  'spans': []},\n",
       " {'text': 'But nevertheless, it is not true that the excesses QA, RA, SA, and so on, are to one another as the sines of the corresponding number of degrees ^5.',\n",
       "  'spans': []},\n",
       " {'text': 'Instead, they are approximately in the duplicate ratio of the sines.',\n",
       "  'spans': []},\n",
       " {'text': 'As for example, the sine of 90° is twice the sine of 30°.',\n",
       "  'spans': []},\n",
       " {'text': 'Now the optical equation of 90° is 5° 19\\', and half of its sine gives an arc which is likewise about its half, that is, 2° 39’ 15\", for the optical equation at 30° of eccentric anomaly, whose secant is 100,107.',\n",
       "  'spans': [{'start': 202, 'end': 210, 'label': 'ASTR'}]},\n",
       " {'text': 'And here 107, the excess of the secant over the radius, is about one fourth of the former, 432, while the sine of 30° would be half the sine of 90°.',\n",
       "  'spans': []},\n",
       " {'text': 'Some geometer should see whether this argument be demonstrable.',\n",
       "  'spans': []},\n",
       " {'text': 'For me it suffices at present to answer those very small questions with which I am occupied.',\n",
       "  'spans': []},\n",
       " {'text': 'Therefore, to arrive at 432, parts are accumulated that are not proportional to the sines, but are always smaller, and at the 45th degree or thereabouts are but their halves.',\n",
       "  'spans': []},\n",
       " {'text': 'Before that point they are less than the halves, so that about 30° they are only the fourths, and at length become imperceptible.',\n",
       "  'spans': []},\n",
       " {'text': 'And so, of the sum of 49,934, we retain only one seventh, or about 7000.',\n",
       "  'spans': [{'start': 22, 'end': 29, 'label': 'ASTR'}]},\n",
       " {'text': 'This is also shown empirically, by computing all the distances degree by degree and adding them up ^6.',\n",
       "  'spans': []},\n",
       " {'text': \"And because one distance of 100,000 has the value of 60', this little sum has a value of no more than 4⅕’7 which is nonetheless spread all around the circumference, so that about 45° and 135°, where it is greatest, this tiny error turns out to be imperceptible even in Mars.\",\n",
       "  'spans': [{'start': 28, 'end': 36, 'label': 'ASTR'}]},\n",
       " {'text': 'Consequently, we must seek another occasion for this discrepancy.',\n",
       "  'spans': []},\n",
       " {'text': 'Chapter 44', 'spans': []},\n",
       " {'text': 'The path of the planet through the ethereal air is not a circle, not even with respect to the first inequality alone, even if you mentally remove the Brahean and Ptolemaic complex of spirals resulting from the second inequality in these two authors.',\n",
       "  'spans': []},\n",
       " {'text': \"With the eccentricity and the ratio of the orbs established with the utmost certainty, it might appear strange to an astronomer that there remains yet another impediment in the way of astronomy's triumph.\",\n",
       "  'spans': []},\n",
       " {'text': 'And me, Lord knows, I had triumphed for two full years.',\n",
       "  'spans': []},\n",
       " {'text': 'Nevertheless, by a comparison of the things which have  been established in Chapters 41, 42, and 43, preceding, it is readily apparent what we are still lacking.',\n",
       "  'spans': []},\n",
       " {'text': 'The positions of the aphelia, eccentricity, and the ratio of the orbs, as constituted in the several places, differed greatly from one another.',\n",
       "  'spans': []},\n",
       " {'text': 'Nor were the computed physical equations in agreement with the observations (which the vicarious hypothesis represents).',\n",
       "  'spans': []},\n",
       " {'text': 'Let the diagram of Chapter 41 be brought back.', 'spans': []},\n",
       " {'text': 'And because, in that diagram, in units of which γη was 151,740, γα would have been 14,822, when γα and γη or γε are added, αε would be 166,562.',\n",
       "  'spans': [{'start': 55, 'end': 63, 'label': 'ASTR'},\n",
       "   {'start': 83, 'end': 90, 'label': 'ASTR'},\n",
       "   {'start': 135, 'end': 143, 'label': 'ASTR'}]},\n",
       " {'text': 'In Chapter 42 this was found to be 166,780.',\n",
       "  'spans': [{'start': 35, 'end': 43, 'label': 'ASTR'}]},\n",
       " {'text': 'Likewise, when γα is subtracted from γδ, the remainder, αδ, would be 136,918, which in Chapter 42 was found to be fully 138,500.',\n",
       "  'spans': [{'start': 69, 'end': 77, 'label': 'ASTR'},\n",
       "   {'start': 120, 'end': 128, 'label': 'ASTR'}]},\n",
       " {'text': 'Again, the true length of the lines γε, γα, αε, and αδ was found in Chapter 421 If, therefore, what was supposed and used in Chapter 41 is true, that the path of the planet is a circle, it is not difficult to say how much ακ, αη, αθ ought to be.',\n",
       "  'spans': []},\n",
       " {'text': 'Since in Oct.', 'spans': []},\n",
       " {'text': '1590 αε was at 28° 41\\' 40\" Leo, and κ, η, θ are as given in Chapter 41, the angles καγ, ηαγ, θαγ will be given.',\n",
       "  'spans': []},\n",
       " {'text': 'Therefore, the optical equation will also be given: ακγ 0° 53\\' 13\", αηγ 3° 10\\' 24\", αθγ 5° 8\\' 47\" ^2.',\n",
       "  'spans': []},\n",
       " {'text': 'And as the sine of these angles is to the truest eccentricity αγ, 14,140, so are the sines of κγε, ηγε, θγα to ακ, αη, αθ.',\n",
       "  'spans': [{'start': 66, 'end': 73, 'label': 'ASTR'}]},\n",
       " {'text': '3\\nIf anyone wishes to attribute this difference to the slippery luck of observing, he must surely not have felt nor paid attention to the force of the demonstrations used hitherto, and will be shamelessly imputing to me the vilest fraud in corrupting the observations of Brahe.',\n",
       "  'spans': []},\n",
       " {'text': 'I therefore appeal to the observations of subsequent years, at least those that experienced observers made.',\n",
       "  'spans': []},\n",
       " {'text': 'For if in any respect I have given free rein to my inclinations in one direction, it will only go so much the farther into error on the other side.',\n",
       "  'spans': []},\n",
       " {'text': 'But there is no need of this.', 'spans': []}]"
      ]
     },
     "execution_count": 49,
     "metadata": {},
     "output_type": "execute_result"
    }
   ],
   "source": [
    "examples [3000: 3200]\n"
   ]
  },
  {
   "cell_type": "code",
   "execution_count": 66,
   "metadata": {},
   "outputs": [],
   "source": [
    "import spacy \n",
    "nlp = spacy.load(\"en_core_web_sm\")  # or other model\n",
    "i=0\n",
    "for example in examples:  # your existing examples\n",
    "    doc = nlp(example[\"text\"])\n",
    "    for span in example[\"spans\"]:\n",
    "        char_span = doc.char_span(span[\"start\"], span[\"end\"])\n",
    "        if char_span is None:  # start and end don't map to tokens\n",
    "            i=i+1\n",
    "            print(i, \"Misaligned tokens\", example[\"text\"], span)"
   ]
  },
  {
   "cell_type": "code",
   "execution_count": 35,
   "metadata": {},
   "outputs": [
    {
     "data": {
      "text/plain": [
       "'10h 50m,'"
      ]
     },
     "execution_count": 35,
     "metadata": {},
     "output_type": "execute_result"
    }
   ],
   "source": [
    "text= \"On 1580 November 12 at 10h 50m,1 they set Mars down at 8° 36’ 50” Gemini2 without mentioning the horizontal variations,  by which term I wish the diurnal parallaxes and the refractions to be understood in what follows.\"\n",
    "text[23:31]"
   ]
  },
  {
   "cell_type": "code",
   "execution_count": 93,
   "metadata": {},
   "outputs": [
    {
     "name": "stdout",
     "output_type": "stream",
     "text": [
      "<_io.TextIOWrapper name='data.jsonl' mode='r' encoding='UTF-8'>\n"
     ]
    }
   ],
   "source": [
    "with open('data.jsonl', 'r') as outfile:\n",
    "    print(outfile)"
   ]
  },
  {
   "cell_type": "code",
   "execution_count": 39,
   "metadata": {},
   "outputs": [
    {
     "name": "stdout",
     "output_type": "stream",
     "text": [
      "\u001b[0m\u001b[01;32m01_01_read_data_exploration_visualization_kepler_astronomia_nova.ipynb\u001b[0m*\n",
      "\u001b[01;32m01_02_crf_visualization_named_entity_recognition_kepler_astronomia_nova.ipynb\u001b[0m*\n",
      "\u001b[01;32m01_03_lda_topic_modelling_kepler_astronomia_nova.ipynb\u001b[0m*\n",
      "\u001b[01;32m02_01_elmo_embeddings_visualization_semantic_kepler_astronomia_nova.ipynb\u001b[0m*\n",
      "\u001b[01;32m04_01_Prodigy_Format_Label_DATE_01.ipynb\u001b[0m*\n",
      "\u001b[01;32m04_02_Prodigy_Format_Label_TIME_01.ipynb\u001b[0m*\n",
      "\u001b[01;32mNER_01_DATE.jsonl\u001b[0m*\n",
      "\u001b[01;32mNER_01_TIME.jsonl\u001b[0m*\n",
      "\u001b[01;32mvis.html\u001b[0m*\n"
     ]
    }
   ],
   "source": [
    "ls\n"
   ]
  },
  {
   "cell_type": "code",
   "execution_count": 33,
   "metadata": {},
   "outputs": [],
   "source": [
    "import json_lines"
   ]
  },
  {
   "cell_type": "code",
   "execution_count": 65,
   "metadata": {},
   "outputs": [],
   "source": [
    "import json_lines\n",
    "with open('NER_02_TIME_13.jsonl',\"rb\") as outfile :\n",
    "    texts=[]\n",
    "    for obj in json_lines.reader(outfile):\n",
    "        texts.append(obj[\"text\"])\n",
    "               \n",
    "       \n",
    "      \n",
    "\n",
    "   "
   ]
  },
  {
   "cell_type": "code",
   "execution_count": 69,
   "metadata": {},
   "outputs": [
    {
     "data": {
      "text/plain": [
       "['Appendix B',\n",
       " 'On the Table of Oppositions in Chapter 15',\n",
       " 'by Yaakov Zik Table i:',\n",
       " 'Initial positions of Mars in Chapter 15 computed with Guide 9 using JPL DE430.',\n",
       " 'General notes:']"
      ]
     },
     "execution_count": 69,
     "metadata": {},
     "output_type": "execute_result"
    }
   ],
   "source": [
    "texts[0:5]"
   ]
  },
  {
   "cell_type": "code",
   "execution_count": null,
   "metadata": {},
   "outputs": [],
   "source": [
    "reader = jsonlines.Reader(fp)"
   ]
  },
  {
   "cell_type": "code",
   "execution_count": null,
   "metadata": {},
   "outputs": [],
   "source": [
    " Sentences=[]\n",
    "    for examples in outfile['text']:\n",
    "        Sentences += examples\n",
    "        \n",
    "        "
   ]
  }
 ],
 "metadata": {
  "kernelspec": {
   "display_name": "Python 3",
   "language": "python",
   "name": "python3"
  },
  "language_info": {
   "codemirror_mode": {
    "name": "ipython",
    "version": 3
   },
   "file_extension": ".py",
   "mimetype": "text/x-python",
   "name": "python",
   "nbconvert_exporter": "python",
   "pygments_lexer": "ipython3",
   "version": "3.7.1"
  }
 },
 "nbformat": 4,
 "nbformat_minor": 2
}
