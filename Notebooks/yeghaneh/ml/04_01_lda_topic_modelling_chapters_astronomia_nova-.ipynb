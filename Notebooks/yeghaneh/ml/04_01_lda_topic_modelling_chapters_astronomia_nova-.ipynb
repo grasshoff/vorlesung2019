{
 "cells": [
  {
   "cell_type": "markdown",
   "metadata": {},
   "source": [
    "# **Extracting Topic model by  \"Latent Dirichlet Allocation (LDA)\"  of kepler's book: \"Astronomia Nova** \"\n",
    "<font size=\"4\">\n",
    "This notebook demonstrates how to **extract topics **  from documents, corpus, book. We visualize the result in an informative way. Here, an unsupervised learning model LDA is used. **Topic modelling** is based on the basic assumptions that each corpus (book)  consists of different topics and each topic consists of a collection of words.\n",
    "<font/>\n"
   ]
  },
  {
   "cell_type": "markdown",
   "metadata": {},
   "source": [
    "### Import the required tools "
   ]
  },
  {
   "cell_type": "code",
   "execution_count": 1,
   "metadata": {
    "collapsed": true
   },
   "outputs": [
    {
     "name": "stderr",
     "output_type": "stream",
     "text": [
      "[nltk_data] Downloading package punkt to\n",
      "[nltk_data]     C:\\Users\\moha\\AppData\\Roaming\\nltk_data...\n",
      "[nltk_data]   Package punkt is already up-to-date!\n",
      "[nltk_data] Downloading package averaged_perceptron_tagger to\n",
      "[nltk_data]     C:\\Users\\moha\\AppData\\Roaming\\nltk_data...\n",
      "[nltk_data]   Package averaged_perceptron_tagger is already up-to-\n",
      "[nltk_data]       date!\n",
      "[nltk_data] Downloading package wordnet to\n",
      "[nltk_data]     C:\\Users\\moha\\AppData\\Roaming\\nltk_data...\n",
      "[nltk_data]   Package wordnet is already up-to-date!\n"
     ]
    }
   ],
   "source": [
    "import numpy as np\n",
    "import pandas as pd\n",
    "import scipy as sp\n",
    "import matplotlib.pyplot as plt\n",
    "import collections\n",
    "import os\n",
    "import logging\n",
    "import warnings\n",
    "from itertools import permutations\n",
    "from sklearn.metrics import make_scorer,confusion_matrix\n",
    "from sklearn.model_selection import cross_val_score\n",
    "from sklearn.model_selection import RandomizedSearchCV\n",
    "import sklearn_crfsuite  # to install this package in windows with pip please run: 'pip install sklearn-crfsuite'\n",
    "from sklearn_crfsuite import metrics, scorers\n",
    "import nltk\n",
    "from nltk.tokenize import word_tokenize\n",
    "from nltk.tag import pos_tag\n",
    "nltk.download('punkt')\n",
    "nltk.download('averaged_perceptron_tagger')\n",
    "import eli5  # to install this package in windows with conda please run: 'conda install -c conda-forge eli5'\n",
    "from nltk.stem.porter import PorterStemmer\n",
    "from nltk.stem import WordNetLemmatizer \n",
    "from gensim import corpora, models  #  to install this package in windows with conda please run: 'models conda install -c conda-forge gensim'\n",
    "nltk.download('wordnet')\n",
    "%matplotlib inline\n",
    "warnings.filterwarnings(\"ignore\",category=DeprecationWarning)\n",
    "logging.basicConfig(format='%(asctime)s : %(levelname)s : %(message)s', level=logging.ERROR)"
   ]
  },
  {
   "cell_type": "markdown",
   "metadata": {},
   "source": [
    "Please download the data '01_df_v013.pickle' in github on  your local machine from  this directory: vorlesung2019/notebooks/yeghaneh/data"
   ]
  },
  {
   "cell_type": "code",
   "execution_count": 2,
   "metadata": {
    "collapsed": true
   },
   "outputs": [],
   "source": [
    "importVersion = '013'  # The  desired version pickle-file of your data (now we are working on version 013 of our data)"
   ]
  },
  {
   "cell_type": "code",
   "execution_count": 90,
   "metadata": {
    "collapsed": true
   },
   "outputs": [],
   "source": [
    "path = '../data/01_df_v{0}.pickle'.format(importVersion)  # Put the path of the data in your local machine here, consider the letter \"r\" before the path"
   ]
  },
  {
   "cell_type": "markdown",
   "metadata": {},
   "source": [
    "### Let's use data \"01_df_v013\" to build a NER system. \n",
    "<font size=\"3\">The data 01_df_v013 is annotated (labeled) data of english version of well-known kepler's book: New Astronomy (Latin: Astronomia nova). You can find that in the repository.\n",
    "             </font>\n"
   ]
  },
  {
   "cell_type": "markdown",
   "metadata": {},
   "source": [
    "## **Read the data** \n",
    "<font size=\"3\">The data  is saves as a pickle file. We read it as a pandas dataFrame. </font>"
   ]
  },
  {
   "cell_type": "code",
   "execution_count": 91,
   "metadata": {},
   "outputs": [],
   "source": [
    "dfAstroNova = pd.read_pickle(path)  # Put the path of the data in your local machine here, consider the letter \"r\" before the path"
   ]
  },
  {
   "cell_type": "markdown",
   "metadata": {},
   "source": [
    "<font size=\"4\"> Sort the data based on the chapters of the book \n",
    "</font>"
   ]
  },
  {
   "cell_type": "code",
   "execution_count": 92,
   "metadata": {},
   "outputs": [],
   "source": [
    "dfAstroNova['chapter'] = dfAstroNova.chapter.replace(\"appendix b\",np.nan).astype(float)  \n",
    "dfAstroNova.sort_values(by='chapter' , inplace=True)\n",
    "dfAstroNova.chapter.fillna('appendix b', inplace=True)"
   ]
  },
  {
   "cell_type": "code",
   "execution_count": 93,
   "metadata": {},
   "outputs": [
    {
     "data": {
      "text/plain": [
       "1605"
      ]
     },
     "execution_count": 93,
     "metadata": {},
     "output_type": "execute_result"
    }
   ],
   "source": [
    "len(dfAstroNova)   # Number of rows."
   ]
  },
  {
   "cell_type": "code",
   "execution_count": 94,
   "metadata": {},
   "outputs": [
    {
     "data": {
      "text/html": [
       "<div>\n",
       "<style scoped>\n",
       "    .dataframe tbody tr th:only-of-type {\n",
       "        vertical-align: middle;\n",
       "    }\n",
       "\n",
       "    .dataframe tbody tr th {\n",
       "        vertical-align: top;\n",
       "    }\n",
       "\n",
       "    .dataframe thead th {\n",
       "        text-align: right;\n",
       "    }\n",
       "</style>\n",
       "<table border=\"1\" class=\"dataframe\">\n",
       "  <thead>\n",
       "    <tr style=\"text-align: right;\">\n",
       "      <th></th>\n",
       "      <th>html</th>\n",
       "      <th>text</th>\n",
       "      <th>links</th>\n",
       "      <th>italic</th>\n",
       "      <th>chapter</th>\n",
       "      <th>graphic</th>\n",
       "      <th>table</th>\n",
       "      <th>marginal</th>\n",
       "      <th>sentences</th>\n",
       "      <th>tagged</th>\n",
       "    </tr>\n",
       "  </thead>\n",
       "  <tbody>\n",
       "    <tr>\n",
       "      <th>18</th>\n",
       "      <td>&lt;p&gt;&lt;span class=\"anchor\" id=\"bookmark0\"&gt;&lt;/span&gt;...</td>\n",
       "      <td>Chapter 1</td>\n",
       "      <td>[]</td>\n",
       "      <td>[]</td>\n",
       "      <td>1</td>\n",
       "      <td>[]</td>\n",
       "      <td>[]</td>\n",
       "      <td>[]</td>\n",
       "      <td>[Chapter 1]</td>\n",
       "      <td>[[(Chapter, None), (1, NUM)]]</td>\n",
       "    </tr>\n",
       "    <tr>\n",
       "      <th>34</th>\n",
       "      <td>&lt;p&gt;But before that, I shall prove in this firs...</td>\n",
       "      <td>But before that, I shall prove in this first p...</td>\n",
       "      <td>[]</td>\n",
       "      <td>[]</td>\n",
       "      <td>1</td>\n",
       "      <td>[]</td>\n",
       "      <td>[]</td>\n",
       "      <td>[]</td>\n",
       "      <td>[But before that, I shall prove in this first ...</td>\n",
       "      <td>[[(But, None), (before, None), (that, None), (...</td>\n",
       "    </tr>\n",
       "    <tr>\n",
       "      <th>33</th>\n",
       "      <td>&lt;p&gt;But since the sun's mean and apparent motio...</td>\n",
       "      <td>But since the sun's mean and apparent motions*...</td>\n",
       "      <td>[]</td>\n",
       "      <td>[Mysterium cosmographicum,]</td>\n",
       "      <td>1</td>\n",
       "      <td>[]</td>\n",
       "      <td>[]</td>\n",
       "      <td>[ Terms: * The sun's apparent position is that...</td>\n",
       "      <td>[But since the sun's mean and apparent motions...</td>\n",
       "      <td>[[(But, None), (since, None), (the, None), (su...</td>\n",
       "    </tr>\n",
       "    <tr>\n",
       "      <th>32</th>\n",
       "      <td>&lt;p&gt;Now the causes and measures of these inequa...</td>\n",
       "      <td>Now the causes and measures of these inequalit...</td>\n",
       "      <td>[]</td>\n",
       "      <td>[]</td>\n",
       "      <td>1</td>\n",
       "      <td>[]</td>\n",
       "      <td>[]</td>\n",
       "      <td>[ 5]</td>\n",
       "      <td>[Now the causes and measures of these inequali...</td>\n",
       "      <td>[[(Now, None), (the, None), (causes, None), (a...</td>\n",
       "    </tr>\n",
       "    <tr>\n",
       "      <th>30</th>\n",
       "      <td>&lt;p&gt;Again, however, it was noticed that these l...</td>\n",
       "      <td>Again, however, it was noticed that these loop...</td>\n",
       "      <td>[]</td>\n",
       "      <td>[]</td>\n",
       "      <td>1</td>\n",
       "      <td>[]</td>\n",
       "      <td>[]</td>\n",
       "      <td>[]</td>\n",
       "      <td>[Again, however, it was noticed that these loo...</td>\n",
       "      <td>[[(Again, None), (however, None), (it, None), ...</td>\n",
       "    </tr>\n",
       "  </tbody>\n",
       "</table>\n",
       "</div>"
      ],
      "text/plain": [
       "                                                 html  \\\n",
       "18  <p><span class=\"anchor\" id=\"bookmark0\"></span>...   \n",
       "34  <p>But before that, I shall prove in this firs...   \n",
       "33  <p>But since the sun's mean and apparent motio...   \n",
       "32  <p>Now the causes and measures of these inequa...   \n",
       "30  <p>Again, however, it was noticed that these l...   \n",
       "\n",
       "                                                 text links  \\\n",
       "18                                          Chapter 1    []   \n",
       "34  But before that, I shall prove in this first p...    []   \n",
       "33  But since the sun's mean and apparent motions*...    []   \n",
       "32  Now the causes and measures of these inequalit...    []   \n",
       "30  Again, however, it was noticed that these loop...    []   \n",
       "\n",
       "                         italic chapter graphic table  \\\n",
       "18                           []       1      []    []   \n",
       "34                           []       1      []    []   \n",
       "33  [Mysterium cosmographicum,]       1      []    []   \n",
       "32                           []       1      []    []   \n",
       "30                           []       1      []    []   \n",
       "\n",
       "                                             marginal  \\\n",
       "18                                                 []   \n",
       "34                                                 []   \n",
       "33  [ Terms: * The sun's apparent position is that...   \n",
       "32                                               [ 5]   \n",
       "30                                                 []   \n",
       "\n",
       "                                            sentences  \\\n",
       "18                                        [Chapter 1]   \n",
       "34  [But before that, I shall prove in this first ...   \n",
       "33  [But since the sun's mean and apparent motions...   \n",
       "32  [Now the causes and measures of these inequali...   \n",
       "30  [Again, however, it was noticed that these loo...   \n",
       "\n",
       "                                               tagged  \n",
       "18                      [[(Chapter, None), (1, NUM)]]  \n",
       "34  [[(But, None), (before, None), (that, None), (...  \n",
       "33  [[(But, None), (since, None), (the, None), (su...  \n",
       "32  [[(Now, None), (the, None), (causes, None), (a...  \n",
       "30  [[(Again, None), (however, None), (it, None), ...  "
      ]
     },
     "execution_count": 94,
     "metadata": {},
     "output_type": "execute_result"
    }
   ],
   "source": [
    "dfAstroNova.head(5)  "
   ]
  },
  {
   "cell_type": "code",
   "execution_count": 95,
   "metadata": {},
   "outputs": [
    {
     "data": {
      "text/html": [
       "<div>\n",
       "<style scoped>\n",
       "    .dataframe tbody tr th:only-of-type {\n",
       "        vertical-align: middle;\n",
       "    }\n",
       "\n",
       "    .dataframe tbody tr th {\n",
       "        vertical-align: top;\n",
       "    }\n",
       "\n",
       "    .dataframe thead th {\n",
       "        text-align: right;\n",
       "    }\n",
       "</style>\n",
       "<table border=\"1\" class=\"dataframe\">\n",
       "  <thead>\n",
       "    <tr style=\"text-align: right;\">\n",
       "      <th></th>\n",
       "      <th>html</th>\n",
       "      <th>text</th>\n",
       "      <th>links</th>\n",
       "      <th>italic</th>\n",
       "      <th>chapter</th>\n",
       "      <th>graphic</th>\n",
       "      <th>table</th>\n",
       "      <th>marginal</th>\n",
       "      <th>sentences</th>\n",
       "      <th>tagged</th>\n",
       "    </tr>\n",
       "  </thead>\n",
       "  <tbody>\n",
       "    <tr>\n",
       "      <th>594</th>\n",
       "      <td>&lt;p&gt;&lt;span class=\"anchor\" id=\"bookmark1\"&gt;&lt;/span&gt;...</td>\n",
       "      <td>Whether the motion from the sun, like its ligh...</td>\n",
       "      <td>[{'#fn1': 'άντίφραχις.↩'}]</td>\n",
       "      <td>[]</td>\n",
       "      <td>35</td>\n",
       "      <td>[]</td>\n",
       "      <td>[]</td>\n",
       "      <td>[]</td>\n",
       "      <td>[Whether the motion from the sun, like its lig...</td>\n",
       "      <td>[[(Whether, None), (the, None), (motion, None)...</td>\n",
       "    </tr>\n",
       "    <tr>\n",
       "      <th>596</th>\n",
       "      <td>&lt;p&gt;And concerning the first, it is worthy of c...</td>\n",
       "      <td>And concerning the first, it is worthy of cons...</td>\n",
       "      <td>[]</td>\n",
       "      <td>[]</td>\n",
       "      <td>35</td>\n",
       "      <td>[]</td>\n",
       "      <td>[]</td>\n",
       "      <td>[]</td>\n",
       "      <td>[And concerning the first, it is worthy of con...</td>\n",
       "      <td>[[(And, None), (concerning, None), (the, None)...</td>\n",
       "    </tr>\n",
       "    <tr>\n",
       "      <th>595</th>\n",
       "      <td>&lt;p&gt;This is a good time for me to take up the o...</td>\n",
       "      <td>This is a good time for me to take up the obje...</td>\n",
       "      <td>[]</td>\n",
       "      <td>[species]</td>\n",
       "      <td>35</td>\n",
       "      <td>[]</td>\n",
       "      <td>[]</td>\n",
       "      <td>[]</td>\n",
       "      <td>[This is a good time for me to take up the obj...</td>\n",
       "      <td>[[(This, None), (is, None), (a, None), (good, ...</td>\n",
       "    </tr>\n",
       "    <tr>\n",
       "      <th>598</th>\n",
       "      <td>&lt;p&gt;But it is answered, first, that the analogy...</td>\n",
       "      <td>But it is answered, first, that the analogy be...</td>\n",
       "      <td>[]</td>\n",
       "      <td>[]</td>\n",
       "      <td>35</td>\n",
       "      <td>[]</td>\n",
       "      <td>[]</td>\n",
       "      <td>[]</td>\n",
       "      <td>[But it is answered, first, that the analogy b...</td>\n",
       "      <td>[[(But, None), (it, None), (is, None), (answer...</td>\n",
       "    </tr>\n",
       "    <tr>\n",
       "      <th>599</th>\n",
       "      <td>&lt;p&gt;On this account I would nearly separate lig...</td>\n",
       "      <td>On this account I would nearly separate light ...</td>\n",
       "      <td>[]</td>\n",
       "      <td>[]</td>\n",
       "      <td>35</td>\n",
       "      <td>[]</td>\n",
       "      <td>[]</td>\n",
       "      <td>[]</td>\n",
       "      <td>[On this account I would nearly separate light...</td>\n",
       "      <td>[[(On, None), (this, None), (account, None), (...</td>\n",
       "    </tr>\n",
       "  </tbody>\n",
       "</table>\n",
       "</div>"
      ],
      "text/plain": [
       "                                                  html  \\\n",
       "594  <p><span class=\"anchor\" id=\"bookmark1\"></span>...   \n",
       "596  <p>And concerning the first, it is worthy of c...   \n",
       "595  <p>This is a good time for me to take up the o...   \n",
       "598  <p>But it is answered, first, that the analogy...   \n",
       "599  <p>On this account I would nearly separate lig...   \n",
       "\n",
       "                                                  text  \\\n",
       "594  Whether the motion from the sun, like its ligh...   \n",
       "596  And concerning the first, it is worthy of cons...   \n",
       "595  This is a good time for me to take up the obje...   \n",
       "598  But it is answered, first, that the analogy be...   \n",
       "599  On this account I would nearly separate light ...   \n",
       "\n",
       "                          links     italic chapter graphic table marginal  \\\n",
       "594  [{'#fn1': 'άντίφραχις.↩'}]         []      35      []    []       []   \n",
       "596                          []         []      35      []    []       []   \n",
       "595                          []  [species]      35      []    []       []   \n",
       "598                          []         []      35      []    []       []   \n",
       "599                          []         []      35      []    []       []   \n",
       "\n",
       "                                             sentences  \\\n",
       "594  [Whether the motion from the sun, like its lig...   \n",
       "596  [And concerning the first, it is worthy of con...   \n",
       "595  [This is a good time for me to take up the obj...   \n",
       "598  [But it is answered, first, that the analogy b...   \n",
       "599  [On this account I would nearly separate light...   \n",
       "\n",
       "                                                tagged  \n",
       "594  [[(Whether, None), (the, None), (motion, None)...  \n",
       "596  [[(And, None), (concerning, None), (the, None)...  \n",
       "595  [[(This, None), (is, None), (a, None), (good, ...  \n",
       "598  [[(But, None), (it, None), (is, None), (answer...  \n",
       "599  [[(On, None), (this, None), (account, None), (...  "
      ]
     },
     "execution_count": 95,
     "metadata": {},
     "output_type": "execute_result"
    }
   ],
   "source": [
    "dfAstroNova[740:745]"
   ]
  },
  {
   "cell_type": "code",
   "execution_count": 96,
   "metadata": {},
   "outputs": [
    {
     "data": {
      "text/html": [
       "<div>\n",
       "<style scoped>\n",
       "    .dataframe tbody tr th:only-of-type {\n",
       "        vertical-align: middle;\n",
       "    }\n",
       "\n",
       "    .dataframe tbody tr th {\n",
       "        vertical-align: top;\n",
       "    }\n",
       "\n",
       "    .dataframe thead th {\n",
       "        text-align: right;\n",
       "    }\n",
       "</style>\n",
       "<table border=\"1\" class=\"dataframe\">\n",
       "  <thead>\n",
       "    <tr style=\"text-align: right;\">\n",
       "      <th></th>\n",
       "      <th>html</th>\n",
       "      <th>text</th>\n",
       "      <th>links</th>\n",
       "      <th>italic</th>\n",
       "      <th>chapter</th>\n",
       "      <th>graphic</th>\n",
       "      <th>table</th>\n",
       "      <th>marginal</th>\n",
       "      <th>sentences</th>\n",
       "      <th>tagged</th>\n",
       "    </tr>\n",
       "  </thead>\n",
       "  <tbody>\n",
       "    <tr>\n",
       "      <th>1568</th>\n",
       "      <td>&lt;p&gt;{marginal: The words of the observation hav...</td>\n",
       "      <td>Consider whether the meaning could be this: t...</td>\n",
       "      <td>[]</td>\n",
       "      <td>[]</td>\n",
       "      <td>70</td>\n",
       "      <td>[]</td>\n",
       "      <td>[]</td>\n",
       "      <td>[ The words of the observation have their comm...</td>\n",
       "      <td>[Consider whether the meaning could be this: t...</td>\n",
       "      <td>[[(Consider, None), (whether, None), (the, Non...</td>\n",
       "    </tr>\n",
       "    <tr>\n",
       "      <th>1569</th>\n",
       "      <td>&lt;p&gt;This interpretation is furthered by the obs...</td>\n",
       "      <td>This interpretation is furthered by the observ...</td>\n",
       "      <td>[]</td>\n",
       "      <td>[]</td>\n",
       "      <td>70</td>\n",
       "      <td>[]</td>\n",
       "      <td>[]</td>\n",
       "      <td>[]</td>\n",
       "      <td>[This interpretation is furthered by the obser...</td>\n",
       "      <td>[[(This, None), (interpretation, None), (is, N...</td>\n",
       "    </tr>\n",
       "    <tr>\n",
       "      <th>0</th>\n",
       "      <td>&lt;p&gt;Appendix B&lt;/p&gt;</td>\n",
       "      <td>Appendix B</td>\n",
       "      <td>[]</td>\n",
       "      <td>[]</td>\n",
       "      <td>appendix b</td>\n",
       "      <td>[]</td>\n",
       "      <td>[]</td>\n",
       "      <td>[]</td>\n",
       "      <td>[Appendix B]</td>\n",
       "      <td>[[(Appendix, None), (B, None)]]</td>\n",
       "    </tr>\n",
       "    <tr>\n",
       "      <th>1</th>\n",
       "      <td>&lt;p&gt;&lt;span class=\"anchor\" id=\"bookmark0\"&gt;&lt;/span&gt;...</td>\n",
       "      <td>On the Table of Oppositions in Chapter 15</td>\n",
       "      <td>[]</td>\n",
       "      <td>[]</td>\n",
       "      <td>appendix b</td>\n",
       "      <td>[]</td>\n",
       "      <td>[]</td>\n",
       "      <td>[]</td>\n",
       "      <td>[On the Table of Oppositions in Chapter 15]</td>\n",
       "      <td>[[(On, None), (the, None), (Table, None), (of,...</td>\n",
       "    </tr>\n",
       "    <tr>\n",
       "      <th>2</th>\n",
       "      <td>&lt;p&gt;by Yaakov Zik &lt;span style=\"font-variant: sm...</td>\n",
       "      <td>by Yaakov Zik Table i:</td>\n",
       "      <td>[]</td>\n",
       "      <td>[]</td>\n",
       "      <td>appendix b</td>\n",
       "      <td>[]</td>\n",
       "      <td>[]</td>\n",
       "      <td>[]</td>\n",
       "      <td>[by Yaakov Zik Table i:]</td>\n",
       "      <td>[[(by, None), (Yaakov, None), (Zik, None), (Ta...</td>\n",
       "    </tr>\n",
       "  </tbody>\n",
       "</table>\n",
       "</div>"
      ],
      "text/plain": [
       "                                                   html  \\\n",
       "1568  <p>{marginal: The words of the observation hav...   \n",
       "1569  <p>This interpretation is furthered by the obs...   \n",
       "0                                     <p>Appendix B</p>   \n",
       "1     <p><span class=\"anchor\" id=\"bookmark0\"></span>...   \n",
       "2     <p>by Yaakov Zik <span style=\"font-variant: sm...   \n",
       "\n",
       "                                                   text links italic  \\\n",
       "1568   Consider whether the meaning could be this: t...    []     []   \n",
       "1569  This interpretation is furthered by the observ...    []     []   \n",
       "0                                            Appendix B    []     []   \n",
       "1             On the Table of Oppositions in Chapter 15    []     []   \n",
       "2                                by Yaakov Zik Table i:    []     []   \n",
       "\n",
       "         chapter graphic table  \\\n",
       "1568          70      []    []   \n",
       "1569          70      []    []   \n",
       "0     appendix b      []    []   \n",
       "1     appendix b      []    []   \n",
       "2     appendix b      []    []   \n",
       "\n",
       "                                               marginal  \\\n",
       "1568  [ The words of the observation have their comm...   \n",
       "1569                                                 []   \n",
       "0                                                    []   \n",
       "1                                                    []   \n",
       "2                                                    []   \n",
       "\n",
       "                                              sentences  \\\n",
       "1568  [Consider whether the meaning could be this: t...   \n",
       "1569  [This interpretation is furthered by the obser...   \n",
       "0                                          [Appendix B]   \n",
       "1           [On the Table of Oppositions in Chapter 15]   \n",
       "2                              [by Yaakov Zik Table i:]   \n",
       "\n",
       "                                                 tagged  \n",
       "1568  [[(Consider, None), (whether, None), (the, Non...  \n",
       "1569  [[(This, None), (interpretation, None), (is, N...  \n",
       "0                       [[(Appendix, None), (B, None)]]  \n",
       "1     [[(On, None), (the, None), (Table, None), (of,...  \n",
       "2     [[(by, None), (Yaakov, None), (Zik, None), (Ta...  "
      ]
     },
     "execution_count": 96,
     "metadata": {},
     "output_type": "execute_result"
    }
   ],
   "source": [
    "dfAstroNova[1585:1590]"
   ]
  },
  {
   "cell_type": "code",
   "execution_count": 97,
   "metadata": {},
   "outputs": [
    {
     "data": {
      "text/html": [
       "<div>\n",
       "<style scoped>\n",
       "    .dataframe tbody tr th:only-of-type {\n",
       "        vertical-align: middle;\n",
       "    }\n",
       "\n",
       "    .dataframe tbody tr th {\n",
       "        vertical-align: top;\n",
       "    }\n",
       "\n",
       "    .dataframe thead th {\n",
       "        text-align: right;\n",
       "    }\n",
       "</style>\n",
       "<table border=\"1\" class=\"dataframe\">\n",
       "  <thead>\n",
       "    <tr style=\"text-align: right;\">\n",
       "      <th></th>\n",
       "      <th>html</th>\n",
       "      <th>text</th>\n",
       "      <th>links</th>\n",
       "      <th>italic</th>\n",
       "      <th>chapter</th>\n",
       "      <th>graphic</th>\n",
       "      <th>table</th>\n",
       "      <th>marginal</th>\n",
       "      <th>sentences</th>\n",
       "      <th>tagged</th>\n",
       "    </tr>\n",
       "  </thead>\n",
       "  <tbody>\n",
       "    <tr>\n",
       "      <th>13</th>\n",
       "      <td>&lt;p&gt;{table: appendix B t 2}&lt;/p&gt;</td>\n",
       "      <td></td>\n",
       "      <td>[]</td>\n",
       "      <td>[]</td>\n",
       "      <td>appendix b</td>\n",
       "      <td>[]</td>\n",
       "      <td>[ appendix B t 2]</td>\n",
       "      <td>[]</td>\n",
       "      <td>[]</td>\n",
       "      <td>[]</td>\n",
       "    </tr>\n",
       "    <tr>\n",
       "      <th>14</th>\n",
       "      <td>&lt;p&gt;Kepler's table, for comparison {table: appe...</td>\n",
       "      <td>Kepler's table, for comparison</td>\n",
       "      <td>[]</td>\n",
       "      <td>[]</td>\n",
       "      <td>appendix b</td>\n",
       "      <td>[]</td>\n",
       "      <td>[ appendix B t 3]</td>\n",
       "      <td>[]</td>\n",
       "      <td>[Kepler's table, for comparison]</td>\n",
       "      <td>[[(Kepler, None), (s, None), (table, None), (f...</td>\n",
       "    </tr>\n",
       "    <tr>\n",
       "      <th>15</th>\n",
       "      <td>&lt;p&gt;Mars from Earth to be a little greater than...</td>\n",
       "      <td>Mars from Earth to be a little greater than ha...</td>\n",
       "      <td>[{'#fn6': '\n",
       "Kepler's observations yield topoce...</td>\n",
       "      <td>[]</td>\n",
       "      <td>appendix b</td>\n",
       "      <td>[]</td>\n",
       "      <td>[]</td>\n",
       "      <td>[]</td>\n",
       "      <td>[Mars from Earth to be a little greater than h...</td>\n",
       "      <td>[[(Mars, None), (from, None), (Earth, None), (...</td>\n",
       "    </tr>\n",
       "    <tr>\n",
       "      <th>16</th>\n",
       "      <td>&lt;p&gt;&lt;img height=\"300\" src=\"media/image1.jpeg\" w...</td>\n",
       "      <td>As shown in Figure 2B, the Sun is assumed to ...</td>\n",
       "      <td>[]</td>\n",
       "      <td>[]</td>\n",
       "      <td>appendix b</td>\n",
       "      <td>[ appendix b gr 1]</td>\n",
       "      <td>[]</td>\n",
       "      <td>[]</td>\n",
       "      <td>[As shown in Figure 2B, the Sun is assumed to ...</td>\n",
       "      <td>[[(As, None), (shown, None), (in, None), (Figu...</td>\n",
       "    </tr>\n",
       "    <tr>\n",
       "      <th>17</th>\n",
       "      <td>&lt;p&gt;The Sun moved westward and its longitude de...</td>\n",
       "      <td>The Sun moved westward and its longitude decre...</td>\n",
       "      <td>[]</td>\n",
       "      <td>[4&lt;sup&gt;h&lt;/sup&gt; 23&lt;sup&gt;m &lt;/sup&gt;]</td>\n",
       "      <td>appendix b</td>\n",
       "      <td>[]</td>\n",
       "      <td>[]</td>\n",
       "      <td>[]</td>\n",
       "      <td>[The Sun moved westward and its longitude decr...</td>\n",
       "      <td>[[(The, None), (Sun, None), (moved, None), (we...</td>\n",
       "    </tr>\n",
       "  </tbody>\n",
       "</table>\n",
       "</div>"
      ],
      "text/plain": [
       "                                                 html  \\\n",
       "13                     <p>{table: appendix B t 2}</p>   \n",
       "14  <p>Kepler's table, for comparison {table: appe...   \n",
       "15  <p>Mars from Earth to be a little greater than...   \n",
       "16  <p><img height=\"300\" src=\"media/image1.jpeg\" w...   \n",
       "17  <p>The Sun moved westward and its longitude de...   \n",
       "\n",
       "                                                 text  \\\n",
       "13                                                      \n",
       "14                    Kepler's table, for comparison    \n",
       "15  Mars from Earth to be a little greater than ha...   \n",
       "16   As shown in Figure 2B, the Sun is assumed to ...   \n",
       "17  The Sun moved westward and its longitude decre...   \n",
       "\n",
       "                                                links  \\\n",
       "13                                                 []   \n",
       "14                                                 []   \n",
       "15  [{'#fn6': '\n",
       "Kepler's observations yield topoce...   \n",
       "16                                                 []   \n",
       "17                                                 []   \n",
       "\n",
       "                             italic     chapter             graphic  \\\n",
       "13                               []  appendix b                  []   \n",
       "14                               []  appendix b                  []   \n",
       "15                               []  appendix b                  []   \n",
       "16                               []  appendix b  [ appendix b gr 1]   \n",
       "17  [4<sup>h</sup> 23<sup>m </sup>]  appendix b                  []   \n",
       "\n",
       "                table marginal  \\\n",
       "13  [ appendix B t 2]       []   \n",
       "14  [ appendix B t 3]       []   \n",
       "15                 []       []   \n",
       "16                 []       []   \n",
       "17                 []       []   \n",
       "\n",
       "                                            sentences  \\\n",
       "13                                                 []   \n",
       "14                   [Kepler's table, for comparison]   \n",
       "15  [Mars from Earth to be a little greater than h...   \n",
       "16  [As shown in Figure 2B, the Sun is assumed to ...   \n",
       "17  [The Sun moved westward and its longitude decr...   \n",
       "\n",
       "                                               tagged  \n",
       "13                                                 []  \n",
       "14  [[(Kepler, None), (s, None), (table, None), (f...  \n",
       "15  [[(Mars, None), (from, None), (Earth, None), (...  \n",
       "16  [[(As, None), (shown, None), (in, None), (Figu...  \n",
       "17  [[(The, None), (Sun, None), (moved, None), (we...  "
      ]
     },
     "execution_count": 97,
     "metadata": {},
     "output_type": "execute_result"
    }
   ],
   "source": [
    "dfAstroNova.tail(5)"
   ]
  },
  {
   "cell_type": "markdown",
   "metadata": {},
   "source": [
    "## **Primary Data Exploration**"
   ]
  },
  {
   "cell_type": "code",
   "execution_count": 98,
   "metadata": {},
   "outputs": [
    {
     "data": {
      "text/plain": [
       "\"The time is measured from midnight; Gregorian dates are obtained by adding 10 days to Kepler's dates. The dates are given in old style.\""
      ]
     },
     "execution_count": 98,
     "metadata": {},
     "output_type": "execute_result"
    }
   ],
   "source": [
    "\n",
    "dfAstroNova[\"text\"][5]    # 5th row of the data in the format of text "
   ]
  },
  {
   "cell_type": "code",
   "execution_count": 99,
   "metadata": {},
   "outputs": [
    {
     "data": {
      "text/plain": [
       "[[('The', 'None'),\n",
       "  ('time', 'None'),\n",
       "  ('is', 'None'),\n",
       "  ('measured', 'None'),\n",
       "  ('from', 'None'),\n",
       "  ('midnight', 'None'),\n",
       "  ('Gregorian', 'None'),\n",
       "  ('dates', 'None'),\n",
       "  ('are', 'None'),\n",
       "  ('obtained', 'None'),\n",
       "  ('by', 'None'),\n",
       "  ('adding', 'None'),\n",
       "  ('10', 'NUM'),\n",
       "  ('days', 'None'),\n",
       "  ('to', 'None'),\n",
       "  ('Kepler', 'None'),\n",
       "  ('s', 'None'),\n",
       "  ('dates', 'None')],\n",
       " [('The', 'None'),\n",
       "  ('dates', 'None'),\n",
       "  ('are', 'None'),\n",
       "  ('given', 'None'),\n",
       "  ('in', 'None'),\n",
       "  ('old', 'None'),\n",
       "  ('style', 'None')]]"
      ]
     },
     "execution_count": 99,
     "metadata": {},
     "output_type": "execute_result"
    }
   ],
   "source": [
    "dfAstroNova[\"tagged\"][5] # 5th row of the data in a format (token, label). A list of lists of tuples! later position tags of the token will be added to each tuple. the tokens are chosen before by some rules."
   ]
  },
  {
   "cell_type": "code",
   "execution_count": 100,
   "metadata": {},
   "outputs": [],
   "source": [
    "dfAstroNova= dfAstroNova.loc[dfAstroNova.chapter==5]"
   ]
  },
  {
   "cell_type": "code",
   "execution_count": 101,
   "metadata": {},
   "outputs": [
    {
     "data": {
      "text/plain": [
       "178"
      ]
     },
     "execution_count": 101,
     "metadata": {},
     "output_type": "execute_result"
    }
   ],
   "source": [
    " df = sum(dfAstroNova['tagged'], [])  # Flatt the data by removing first lists\n",
    "len(df)"
   ]
  },
  {
   "cell_type": "code",
   "execution_count": 102,
   "metadata": {},
   "outputs": [
    {
     "data": {
      "text/plain": [
       "[('Thus', 'None'),\n",
       " ('in', 'None'),\n",
       " ('both', 'None'),\n",
       " ('instances', 'None'),\n",
       " ('the', 'None'),\n",
       " ('planet', 'None'),\n",
       " ('is', 'None'),\n",
       " ('always', 'None'),\n",
       " ('on', 'None'),\n",
       " ('a', 'None'),\n",
       " ('line', 'None'),\n",
       " ('drawn', 'None'),\n",
       " ('from', 'None'),\n",
       " ('γ', 'None'),\n",
       " ('at', 'None'),\n",
       " ('the', 'None'),\n",
       " ('point', 'None'),\n",
       " ('where', 'None'),\n",
       " ('that', 'None'),\n",
       " ('line', 'None'),\n",
       " ('cuts', 'None'),\n",
       " ('one', 'None'),\n",
       " ('or', 'None'),\n",
       " ('another', 'None'),\n",
       " ('eccentric', 'None')]"
      ]
     },
     "execution_count": 102,
     "metadata": {},
     "output_type": "execute_result"
    }
   ],
   "source": [
    "df[5]  "
   ]
  },
  {
   "cell_type": "code",
   "execution_count": 103,
   "metadata": {},
   "outputs": [],
   "source": [
    "df_flatten = sum(df,[])  # Flatt the data by removing the second list\n"
   ]
  },
  {
   "cell_type": "code",
   "execution_count": 104,
   "metadata": {},
   "outputs": [
    {
     "data": {
      "text/plain": [
       "[('To', 'None'),\n",
       " ('find', 'None'),\n",
       " ('the', 'None'),\n",
       " ('basis', 'None'),\n",
       " ('of', 'None'),\n",
       " ('a', 'None'),\n",
       " ('computation', 'None'),\n",
       " ('whereby', 'None'),\n",
       " ('we', 'None'),\n",
       " ('may', 'None'),\n",
       " ('investigate', 'None'),\n",
       " ('for', 'None'),\n",
       " ('the', 'None'),\n",
       " ('observer', 'None'),\n",
       " ('at', 'None'),\n",
       " ('δ', 'None'),\n",
       " ('how', 'None'),\n",
       " ('much', 'None'),\n",
       " ('his', 'None'),\n",
       " ('appearances', 'None')]"
      ]
     },
     "execution_count": 104,
     "metadata": {},
     "output_type": "execute_result"
    }
   ],
   "source": [
    "df_flatten[0:20]  # Here we have tokens (entities) with their labels"
   ]
  },
  {
   "cell_type": "code",
   "execution_count": 105,
   "metadata": {},
   "outputs": [
    {
     "data": {
      "text/plain": [
       "5650"
      ]
     },
     "execution_count": 105,
     "metadata": {},
     "output_type": "execute_result"
    }
   ],
   "source": [
    "len(df_flatten)  # Number of all tokens (roughly speaking all words or entities)"
   ]
  },
  {
   "cell_type": "code",
   "execution_count": 106,
   "metadata": {},
   "outputs": [],
   "source": [
    "\n",
    "tokens = [x[0] for x in df_flatten]  # Extract the tokens for further use in the frequency plot"
   ]
  },
  {
   "cell_type": "code",
   "execution_count": 107,
   "metadata": {},
   "outputs": [],
   "source": [
    "labels=([x[1] for x in df_flatten])  # Extract the labels for further use in the frequency plot"
   ]
  },
  {
   "cell_type": "code",
   "execution_count": 108,
   "metadata": {},
   "outputs": [
    {
     "data": {
      "text/plain": [
       "['To', 'find', 'the', 'basis', 'of']"
      ]
     },
     "execution_count": 108,
     "metadata": {},
     "output_type": "execute_result"
    }
   ],
   "source": [
    "tokens[0:5]"
   ]
  },
  {
   "cell_type": "code",
   "execution_count": 109,
   "metadata": {},
   "outputs": [
    {
     "data": {
      "text/plain": [
       "['None', 'None', 'None', 'None', 'None']"
      ]
     },
     "execution_count": 109,
     "metadata": {},
     "output_type": "execute_result"
    }
   ],
   "source": [
    "labels[0:5]"
   ]
  },
  {
   "cell_type": "markdown",
   "metadata": {},
   "source": [
    "## **Visualization**"
   ]
  },
  {
   "cell_type": "markdown",
   "metadata": {},
   "source": [
    "### Frequency plot of all words in all chapter of book"
   ]
  },
  {
   "cell_type": "markdown",
   "metadata": {},
   "source": [
    "<font size=\"3\">\n",
    "Frequency plot of all tokens in text, as you see there is a lot 'the', 'of',... in text, they normally consider as noise, we will back to that later.\n",
    "<font/>"
   ]
  },
  {
   "cell_type": "code",
   "execution_count": 61,
   "metadata": {},
   "outputs": [
    {
     "data": {
      "image/png": "[encoded data removed]",
      "text/plain": [
       "<Figure size 1800x360 with 1 Axes>"
      ]
     },
     "metadata": {
      "needs_background": "light"
     },
     "output_type": "display_data"
    }
   ],
   "source": [
    "freqdist = nltk.FreqDist(tokens)\n",
    "plt.figure(figsize=(25,5))\n",
    "freqdist.plot(100, title='Frequency plot of words')\n"
   ]
  },
  {
   "cell_type": "code",
   "execution_count": 62,
   "metadata": {},
   "outputs": [],
   "source": [
    "stop_words=[\"the\", \"of\", \"is\", \"to\", \"and\",\"in\", \"be\", \"at\", \"that\", \"from\", \"it\", \"a\", \"as\",\"this\", \"was\" ] # we can consider these as stop words or we can use nltk stop words."
   ]
  },
  {
   "cell_type": "code",
   "execution_count": 63,
   "metadata": {},
   "outputs": [],
   "source": [
    "# nltk stop words\n",
    "from nltk.corpus import stopwords\n",
    "stop_words=set(stopwords.words('english'))\n",
    "stop_words=stop_words.union(['I', 'And', 'For', 'A', 'The'])\n",
    "#stop_words_nltk = set(stop_words)\n",
    "\n",
    "# List of nltk stop words {‘ourselves’, ‘hers’, ‘between’, ‘yourself’, ‘but’, ‘again’, ‘there’, ‘about’, ‘once’, ‘during’, ‘out’, ‘very’, ‘having’, ‘with’, ‘they’, ‘own’, ‘an’, ‘be’, ‘some’, ‘for’, ‘do’, ‘its’, ‘yours’, ‘such’, ‘into’, ‘of’, ‘most’, ‘itself’, ‘other’, ‘off’, ‘is’, ‘s’, ‘am’, ‘or’, ‘who’, ‘as’, ‘from’, ‘him’, ‘each’, ‘the’, ‘themselves’, ‘until’, ‘below’, ‘are’, ‘we’, ‘these’, ‘your’, ‘his’, ‘through’, ‘don’, ‘nor’, ‘me’, ‘were’, ‘her’, ‘more’, ‘himself’, ‘this’, ‘down’, ‘should’, ‘our’, ‘their’, ‘while’, ‘above’, ‘both’, ‘up’, ‘to’, ‘ours’, ‘had’, ‘she’, ‘all’, ‘no’, ‘when’, ‘at’, ‘any’, ‘before’, ‘them’, ‘same’, ‘and’, ‘been’, ‘have’, ‘in’, ‘will’, ‘on’, ‘does’, ‘yourselves’, ‘then’, ‘that’, ‘because’, ‘what’, ‘over’, ‘why’, ‘so’, ‘can’, ‘did’, ‘not’, ‘now’, ‘under’, ‘he’, ‘you’, ‘herself’, ‘has’, ‘just’, ‘where’, ‘too’, ‘only’, ‘myself’, ‘which’, ‘those’, ‘i’, ‘after’, ‘few’, ‘whom’, ‘t’, ‘being’, ‘if’, ‘theirs’, ‘my’, ‘against’, ‘a’, ‘by’, ‘doing’, ‘it’, ‘how’, ‘further’, ‘was’, ‘here’, ‘than’} \n"
   ]
  },
  {
   "cell_type": "markdown",
   "metadata": {},
   "source": [
    "<font size=\"3\">\n",
    "We can consider these words like 'the', 'of',... as noises. so we temporary remove those! \n",
    "<font/>"
   ]
  },
  {
   "cell_type": "code",
   "execution_count": 64,
   "metadata": {},
   "outputs": [],
   "source": [
    "new_tokens = []     \n",
    "for w in tokens:\n",
    "    if w not in stop_words: new_tokens.append(w)      "
   ]
  },
  {
   "cell_type": "markdown",
   "metadata": {},
   "source": [
    "### Frequency plot of all words in all chapter of book after removing the stop words"
   ]
  },
  {
   "cell_type": "markdown",
   "metadata": {},
   "source": [
    "<font size=\"3\">\n",
    "It shows word \"sun\" is most common word.  We can also see the word Mars, planet, eccentric as common words in the book \n",
    "<font/>"
   ]
  },
  {
   "cell_type": "markdown",
   "metadata": {},
   "source": [
    "# CHAPTER 3"
   ]
  },
  {
   "cell_type": "code",
   "execution_count": 27,
   "metadata": {},
   "outputs": [
    {
     "data": {
      "image/png": "[encoded data removed]",
      "text/plain": [
       "<Figure size 1800x360 with 1 Axes>"
      ]
     },
     "metadata": {
      "needs_background": "light"
     },
     "output_type": "display_data"
    }
   ],
   "source": [
    "freqdist = nltk.FreqDist(new_tokens) \n",
    "plt.figure(figsize=(25,5)) \n",
    "freqdist.plot(100, title='Frequency plot of words after removing noise')"
   ]
  },
  {
   "cell_type": "markdown",
   "metadata": {},
   "source": [
    "# CHAPTER 67"
   ]
  },
  {
   "cell_type": "code",
   "execution_count": 65,
   "metadata": {},
   "outputs": [
    {
     "data": {
      "image/png": "[encoded data removed]",
      "text/plain": [
       "<Figure size 1800x360 with 1 Axes>"
      ]
     },
     "metadata": {
      "needs_background": "light"
     },
     "output_type": "display_data"
    }
   ],
   "source": [
    "freqdist = nltk.FreqDist(new_tokens) \n",
    "plt.figure(figsize=(25,5)) \n",
    "freqdist.plot(100, title='Frequency plot of words after removing noise')"
   ]
  },
  {
   "cell_type": "markdown",
   "metadata": {},
   "source": [
    "<font size=\"4\">\n",
    "Do we need more insight than frequency plot of word for see content of the book? the question is answered by the follwoing cells through investigation of \"topic modelling\"\n",
    "<font/>"
   ]
  },
  {
   "cell_type": "markdown",
   "metadata": {},
   "source": [
    "## **Topic Modelling by LDA**"
   ]
  },
  {
   "cell_type": "markdown",
   "metadata": {},
   "source": [
    " Here you see an structured workflow to build an insightful \"topic model\" based on the Latent Dirichlet Allocation (LDA) algorithm,  modeled as Dirichlet distributions Dir(α).\n",
    " For more detail you can read: <p>\n",
    "http://www.jmlr.org/papers/volume3/blei03a/blei03a.pdf\n",
    "    </p>"
   ]
  },
  {
   "cell_type": "markdown",
   "metadata": {},
   "source": [
    "### **Pre-processing**"
   ]
  },
  {
   "cell_type": "markdown",
   "metadata": {},
   "source": [
    "<font size=\"3\">\n",
    "Since we alreay tokenized the text (split text into  word without punctuation) and removed stopwrods, we only need to **lemmatize** and **stemm** the tokens.\n",
    "<font/>"
   ]
  },
  {
   "cell_type": "code",
   "execution_count": 110,
   "metadata": {},
   "outputs": [],
   "source": [
    "mytext = nltk.Text(new_tokens) \n"
   ]
  },
  {
   "cell_type": "markdown",
   "metadata": {},
   "source": [
    "#### Lemmatization "
   ]
  },
  {
   "cell_type": "markdown",
   "metadata": {},
   "source": [
    "<font size=\"3\">\n",
    "Lemmatization, takes into consideration the morphological analysis of the words. For instance  \"do\", \"does\", \"did\" and \"doing\" are forms of the same lexeme with \"do\" as the lemma. Another example would be  \"car\", \"cars\", \"automobile\"\n",
    "<font/>"
   ]
  },
  {
   "cell_type": "code",
   "execution_count": 111,
   "metadata": {},
   "outputs": [],
   "source": [
    "#lemmatization\n",
    "w_lemmatize= WordNetLemmatizer()\n",
    "my_text_lemmatize = [w_lemmatize.lemmatize(word) for word in mytext]\n"
   ]
  },
  {
   "cell_type": "markdown",
   "metadata": {},
   "source": [
    "#### Stemming"
   ]
  },
  {
   "cell_type": "markdown",
   "metadata": {},
   "source": [
    "<font size=\"3\">\n",
    "Stemming algorithms work by cutting off the end or the beginning of the word, by taking into account a list of common prefixes and suffixes. It reduces words to their word stem or root form. For instance, stemming for root word \"like\" include:\"likes\", \"liked\", \"likely\", \"liking\n",
    "<font size=/>"
   ]
  },
  {
   "cell_type": "code",
   "execution_count": 112,
   "metadata": {},
   "outputs": [],
   "source": [
    "# stemming \n",
    "p_stemmers=PorterStemmer()  \n",
    "my_text_lemm_stemmer = [p_stemmers.stem(word) for word in my_text_lemmatize]"
   ]
  },
  {
   "cell_type": "code",
   "execution_count": 113,
   "metadata": {},
   "outputs": [],
   "source": [
    "my_text_lemm_stemmer=[my_text_lemm_stemmer] #make a list of list"
   ]
  },
  {
   "cell_type": "markdown",
   "metadata": {},
   "source": [
    "#### Select a document to preview after preprocessing."
   ]
  },
  {
   "cell_type": "code",
   "execution_count": null,
   "metadata": {},
   "outputs": [],
   "source": []
  },
  {
   "cell_type": "code",
   "execution_count": 114,
   "metadata": {},
   "outputs": [],
   "source": [
    "Dic=corpora.Dictionary(my_text_lemm_stemmer)"
   ]
  },
  {
   "cell_type": "markdown",
   "metadata": {},
   "source": [
    "### **Bag of Words on the Data set**"
   ]
  },
  {
   "cell_type": "markdown",
   "metadata": {},
   "source": [
    "<font size=\"4\">\n",
    "Our dictionary must be converted to \"bag of word\". Frequency of occurrence of each word is used as a feature for training a classifier. It means it should contain the number of times a word appears\n",
    "<font size>"
   ]
  },
  {
   "cell_type": "code",
   "execution_count": 115,
   "metadata": {},
   "outputs": [],
   "source": [
    "corpus = [Dic.doc2bow(text) for text in my_text_lemm_stemmer]"
   ]
  },
  {
   "cell_type": "markdown",
   "metadata": {},
   "source": [
    "#### Running LDA using Bag of Words**"
   ]
  },
  {
   "cell_type": "code",
   "execution_count": 126,
   "metadata": {},
   "outputs": [],
   "source": [
    "ldamodel =models.ldamodel.LdaModel(corpus, num_topics=3,  id2word = Dic, passes=2, iterations=20)"
   ]
  },
  {
   "cell_type": "code",
   "execution_count": 127,
   "metadata": {},
   "outputs": [],
   "source": [
    "lda_topics=ldamodel.print_topics()"
   ]
  },
  {
   "cell_type": "code",
   "execution_count": 128,
   "metadata": {},
   "outputs": [
    {
     "data": {
      "text/plain": [
       "[(0,\n",
       "  '0.024*\"sun\" + 0.021*\"node\" + 0.020*\"point\" + 0.018*\"eccentr\" + 0.016*\"posit\" + 0.016*\"mar\" + 0.014*\"angl\" + 0.013*\"center\" + 0.013*\"β\" + 0.013*\"line\"'),\n",
       " (1,\n",
       "  '0.013*\"sun\" + 0.010*\"posit\" + 0.010*\"eccentr\" + 0.010*\"point\" + 0.010*\"node\" + 0.009*\"mar\" + 0.008*\"demonstr\" + 0.008*\"angl\" + 0.008*\"line\" + 0.008*\"center\"'),\n",
       " (2,\n",
       "  '0.021*\"point\" + 0.018*\"eccentr\" + 0.018*\"posit\" + 0.016*\"sun\" + 0.013*\"node\" + 0.012*\"mar\" + 0.011*\"κ\" + 0.011*\"angl\" + 0.011*\"β\" + 0.011*\"demonstr\"')]"
      ]
     },
     "execution_count": 128,
     "metadata": {},
     "output_type": "execute_result"
    }
   ],
   "source": [
    "lda_topics"
   ]
  },
  {
   "cell_type": "code",
   "execution_count": 129,
   "metadata": {},
   "outputs": [],
   "source": [
    "import pyLDAvis.gensim\n",
    "import gensim\n",
    "pyLDAvis.enable_notebook()\n",
    "vis = pyLDAvis.gensim.prepare(ldamodel, corpus, Dic)\n"
   ]
  },
  {
   "cell_type": "markdown",
   "metadata": {},
   "source": [
    "# Topic Modelling of chapter 5 "
   ]
  },
  {
   "cell_type": "code",
   "execution_count": 130,
   "metadata": {},
   "outputs": [
    {
     "data": {
      "text/html": [
       "\n",
       "<link rel=\"stylesheet\" type=\"text/css\" href=\"https://cdn.rawgit.com/bmabey/pyLDAvis/files/ldavis.v1.0.0.css\">\n",
       "\n",
       "\n",
       "<div id=\"ldavis_el988018619505517683456872400\"></div>\n",
       "<script type=\"text/javascript\">\n",
       "\n",
       "var ldavis_el988018619505517683456872400_data = {\"mdsDat\": {\"x\": [-0.0070706531626880025, -0.0012458707286907489, 0.008316523891378753], \"y\": [-0.0, -0.0, -0.0], \"topics\": [1, 2, 3], \"cluster\": [1, 1, 1], \"Freq\": [97.05034637451172, 2.8913111686706543, 0.058343611657619476]}, \"tinfo\": {\"Category\": [\"Default\", \"Default\", \"Default\", \"Default\", \"Default\", \"Default\", \"Default\", \"Default\", \"Default\", \"Default\", \"Default\", \"Default\", \"Default\", \"Default\", \"Default\", \"Default\", \"Default\", \"Default\", \"Default\", \"Default\", \"Default\", \"Default\", \"Default\", \"Default\", \"Default\", \"Default\", \"Default\", \"Default\", \"Default\", \"Default\", \"Topic1\", \"Topic1\", \"Topic1\", \"Topic1\", \"Topic1\", \"Topic1\", \"Topic1\", \"Topic1\", \"Topic1\", \"Topic1\", \"Topic1\", \"Topic1\", \"Topic1\", \"Topic1\", \"Topic1\", \"Topic1\", \"Topic1\", \"Topic1\", \"Topic1\", \"Topic1\", \"Topic1\", \"Topic1\", \"Topic1\", \"Topic1\", \"Topic1\", \"Topic1\", \"Topic1\", \"Topic1\", \"Topic1\", \"Topic1\", \"Topic1\", \"Topic1\", \"Topic1\", \"Topic1\", \"Topic1\", \"Topic1\", \"Topic1\", \"Topic1\", \"Topic1\", \"Topic1\", \"Topic1\", \"Topic1\", \"Topic1\", \"Topic1\", \"Topic1\", \"Topic1\", \"Topic1\", \"Topic1\", \"Topic1\", \"Topic2\", \"Topic2\", \"Topic2\", \"Topic2\", \"Topic2\", \"Topic2\", \"Topic2\", \"Topic2\", \"Topic2\", \"Topic2\", \"Topic2\", \"Topic2\", \"Topic2\", \"Topic2\", \"Topic2\", \"Topic2\", \"Topic2\", \"Topic2\", \"Topic2\", \"Topic2\", \"Topic2\", \"Topic2\", \"Topic2\", \"Topic2\", \"Topic2\", \"Topic2\", \"Topic2\", \"Topic2\", \"Topic2\", \"Topic2\", \"Topic2\", \"Topic2\", \"Topic2\", \"Topic2\", \"Topic2\", \"Topic2\", \"Topic2\", \"Topic2\", \"Topic2\", \"Topic2\", \"Topic2\", \"Topic2\", \"Topic2\", \"Topic2\", \"Topic2\", \"Topic2\", \"Topic2\", \"Topic2\", \"Topic2\", \"Topic2\", \"Topic2\", \"Topic2\", \"Topic2\", \"Topic2\", \"Topic2\", \"Topic2\", \"Topic2\", \"Topic2\", \"Topic2\", \"Topic2\", \"Topic2\", \"Topic2\", \"Topic2\", \"Topic2\", \"Topic2\", \"Topic2\", \"Topic2\", \"Topic3\", \"Topic3\", \"Topic3\", \"Topic3\", \"Topic3\", \"Topic3\", \"Topic3\", \"Topic3\", \"Topic3\", \"Topic3\", \"Topic3\", \"Topic3\", \"Topic3\", \"Topic3\", \"Topic3\", \"Topic3\", \"Topic3\", \"Topic3\", \"Topic3\", \"Topic3\", \"Topic3\", \"Topic3\", \"Topic3\", \"Topic3\", \"Topic3\", \"Topic3\", \"Topic3\", \"Topic3\", \"Topic3\", \"Topic3\", \"Topic3\", \"Topic3\", \"Topic3\", \"Topic3\", \"Topic3\", \"Topic3\", \"Topic3\", \"Topic3\", \"Topic3\", \"Topic3\", \"Topic3\", \"Topic3\", \"Topic3\", \"Topic3\", \"Topic3\", \"Topic3\", \"Topic3\", \"Topic3\", \"Topic3\", \"Topic3\", \"Topic3\", \"Topic3\", \"Topic3\", \"Topic3\", \"Topic3\", \"Topic3\", \"Topic3\", \"Topic3\", \"Topic3\", \"Topic3\", \"Topic3\", \"Topic3\", \"Topic3\", \"Topic3\", \"Topic3\", \"Topic3\", \"Topic3\"], \"Freq\": [14.0, 12.0, 10.0, 13.0, 9.0, 9.0, 8.0, 7.0, 7.0, 7.0, 6.0, 6.0, 6.0, 5.0, 5.0, 5.0, 4.0, 6.0, 5.0, 5.0, 5.0, 4.0, 4.0, 4.0, 4.0, 4.0, 4.0, 3.0, 3.0, 3.0, 5.160302639007568, 12.851826667785645, 14.615497589111328, 3.8455238342285156, 3.051852226257324, 2.2940444946289062, 9.493291854858398, 2.1817588806152344, 4.5895676612854, 1.4114545583724976, 2.956557035446167, 8.593212127685547, 3.037297248840332, 2.960222005844116, 5.288582801818848, 4.552705764770508, 2.9665820598602295, 2.882395029067993, 2.9259488582611084, 2.1004507541656494, 2.996368646621704, 7.591302394866943, 2.894745111465454, 7.544734954833984, 2.8380391597747803, 1.3483575582504272, 3.7556965351104736, 2.107034206390381, 3.6138548851013184, 2.1088547706604004, 7.548864364624023, 12.123456001281738, 10.644885063171387, 6.109421253204346, 5.900290012359619, 9.499897956848145, 5.762173652648926, 5.101421356201172, 5.029478549957275, 4.363795757293701, 4.236143112182617, 6.165285110473633, 5.989675045013428, 4.747481346130371, 3.565603733062744, 5.274004936218262, 3.59409236907959, 4.0051445960998535, 3.9382917881011963, 0.101845383644104, 0.04621068388223648, 0.15496380627155304, 0.04605962336063385, 0.0459497906267643, 0.04526783898472786, 0.07059124857187271, 0.044798824936151505, 0.06985493004322052, 0.044190507382154465, 0.04422095790505409, 0.04408595338463783, 0.044229209423065186, 0.04342833161354065, 0.043252889066934586, 0.04415678605437279, 0.04444577544927597, 0.043579816818237305, 0.04387214407324791, 0.04297240078449249, 0.06906229257583618, 0.04269168898463249, 0.0433412604033947, 0.0423714779317379, 0.043654851615428925, 0.04309053346514702, 0.04309611767530441, 0.04232679307460785, 0.043123695999383926, 0.04232156649231911, 0.09188082814216614, 0.06692072749137878, 0.08935484290122986, 0.18478545546531677, 0.06543370336294174, 0.11494047194719315, 0.13833589851856232, 0.31285029649734497, 0.37723293900489807, 0.1361653059720993, 0.3236481845378876, 0.19701582193374634, 0.1904098242521286, 0.08835890144109726, 0.1111426055431366, 0.110267274081707, 0.145807683467865, 0.0864873081445694, 0.10388677567243576, 0.1606467217206955, 0.19413626194000244, 0.10517029464244843, 0.10330317914485931, 0.187278613448143, 0.18625923991203308, 0.2930966019630432, 0.1375962495803833, 0.1563836634159088, 0.19504491984844208, 0.20630186796188354, 0.149694561958313, 0.13656018674373627, 0.22854769229888916, 0.11958398669958115, 0.11654384434223175, 0.12363741546869278, 0.1069796234369278, 0.0010803522309288383, 0.001146914903074503, 0.0010520352516323328, 0.0010520097566768527, 0.0010582059621810913, 0.0011001323582604527, 0.0010742563754320145, 0.001060653943568468, 0.0010501604992896318, 0.0010701495921239257, 0.0009988429956138134, 0.0010404952336102724, 0.0009958456503227353, 0.0010442557977512479, 0.001015002140775323, 0.0010368727380409837, 0.0010753191309049726, 0.0010115532204508781, 0.0010005822405219078, 0.0010349734220653772, 0.0010202624835073948, 0.001003742916509509, 0.0010612031910568476, 0.001026454265229404, 0.0009872328955680132, 0.0010665158042684197, 0.0010367558570578694, 0.0010472431313246489, 0.0010469958651810884, 0.001025744597427547, 0.0010395937133580446, 0.001049587968736887, 0.003044359851628542, 0.0015668330015614629, 0.0013473010621964931, 0.0037570882122963667, 0.004828928504139185, 0.0018885597819462419, 0.0036466517485678196, 0.002299157902598381, 0.0018750858725979924, 0.0032380660995841026, 0.0015620402991771698, 0.0018883927259594202, 0.001829688437283039, 0.003618218470364809, 0.002445857971906662, 0.0027491068467497826, 0.002929771551862359, 0.0024722523521631956, 0.0027060401625931263, 0.00344136287458241, 0.002003937726840377, 0.0022038917522877455, 0.002186432247981429, 0.0022626540157943964, 0.0021184165962040424, 0.0016148645663633943, 0.0017962947022169828, 0.0024730111472308636, 0.0019454385619610548, 0.0020307819359004498, 0.0017964718863368034, 0.001747992355376482, 0.0018145814538002014, 0.001861570286564529, 0.0018108549993485212], \"Term\": [\"sun\", \"point\", \"eccentr\", \"node\", \"posit\", \"mar\", \"angl\", \"line\", \"center\", \"\\u03b2\", \"demonstr\", \"\\u03ba\", \"plane\", \"Ch\", \"therefor\", \"one\", \"limit\", \"chapter\", \"intersect\", \"instead\", \"diamet\", \"eclipt\", \"fall\", \"sinc\", \"use\", \"observ\", \"orb\", \"It\", \"appear\", \"mean\", \"diamet\", \"node\", \"sun\", \"appear\", \"northern\", \"\\u03b2\\u03ba\", \"mar\", \"first\", \"eclipt\", \"backward\", \"would\", \"angl\", \"semicircl\", \"ascend\", \"one\", \"sinc\", \"way\", \"perpendicular\", \"let\", \"former\", \"So\", \"center\", \"planet\", \"line\", \"consid\", \"scorpio\", \"parallax\", \"circumfer\", \"mean\", \"taken\", \"\\u03b2\", \"point\", \"eccentr\", \"chapter\", \"plane\", \"posit\", \"Ch\", \"instead\", \"intersect\", \"use\", \"fall\", \"\\u03ba\", \"demonstr\", \"limit\", \"drawn\", \"therefor\", \"take\", \"orb\", \"observ\", \"descend\", \"said\", \"It\", \"\\u03b7N\", \"upon\", \"agreement\", \"M\", \"le\", \"thi\", \"1790\", \"1\\u00b0 1' 33\\\"\", \"see\", \"lab\", \"late\", \"postpon\", \"nearli\", \"geometr\", \"22\", \"even\", \"think\", \"great\", \"12\", \"physic\", \"tabl\", \"\\u03b2\\u03ba\\u03c2\", \"common\", \"67\", \"magnitud\", \"reckon\", \"ground\", \"origin\", \"N\", \"100,000\", \"therefor\", \"copernican\", \"found\", \"observ\", \"posit\", \"point\", \"orb\", \"eccentr\", \"\\u03ba\", \"demonstr\", \"apsi\", \"but\", \"opposit\", \"limit\", \"\\u03ba\\u03c2\", \"diagram\", \"Ch\", \"\\u03b2\", \"\\u03b2\\u03c2\", \"comput\", \"line\", \"center\", \"sun\", \"intersect\", \"chapter\", \"angl\", \"mar\", \"plane\", \"instead\", \"node\", \"use\", \"fall\", \"one\", \"sinc\", \"said\", \"16\\u00b0 48' tauru\", \"late\", \"postpon\", \"tabl\", \"thing\", \"MD\", \"southern\", \"magnitud\", \"still\", \"\\u03b7N\", \"12\", \"upon\", \"epicycl\", \"see\", \"ground\", \"argument\", \"1790\", \"le\", \"question\", \"think\", \"1\\u00b0 1' 33\\\"\", \"5\\u00b0 45' cancer\", \"B\", \"agreement\", \"begin\", \"everyth\", \"construct\", \"furthermor\", \"relat\", \"document\", \"supposit\", \"demonstr\", \"descend\", \"copernican\", \"posit\", \"sun\", \"diagram\", \"eccentr\", \"limit\", \"minut\", \"mar\", \"100,000\", \"It\", \"comput\", \"point\", \"plane\", \"line\", \"angl\", \"\\u03ba\", \"center\", \"node\", \"fall\", \"one\", \"therefor\", \"Ch\", \"intersect\", \"consid\", \"mean\", \"\\u03b2\", \"eclipt\", \"instead\", \"appear\", \"drawn\", \"sinc\", \"diamet\", \"chapter\"], \"Total\": [14.0, 12.0, 10.0, 13.0, 9.0, 9.0, 8.0, 7.0, 7.0, 7.0, 6.0, 6.0, 6.0, 5.0, 5.0, 5.0, 4.0, 6.0, 5.0, 5.0, 5.0, 4.0, 4.0, 4.0, 4.0, 4.0, 4.0, 3.0, 3.0, 3.0, 5.240322113037109, 13.083816528320312, 14.913422584533691, 3.926872491836548, 3.1172659397125244, 2.344219207763672, 9.702831268310547, 2.230999708175659, 4.693480968475342, 1.4435205459594727, 3.0243194103240967, 8.791186332702637, 3.107708692550659, 3.030536413192749, 5.414423942565918, 4.661499977111816, 3.0379538536071777, 2.9526169300079346, 2.997241973876953, 2.1519391536712646, 3.0700299739837646, 7.780267715454102, 2.967550754547119, 7.734762668609619, 2.909600257873535, 1.3824095726013184, 3.8506948947906494, 2.16058349609375, 3.7057392597198486, 2.162834882736206, 7.745473384857178, 12.50430679321289, 10.972180366516113, 6.267615795135498, 6.052430152893066, 9.816505432128906, 5.925083160400391, 5.240012168884277, 5.169193267822266, 4.485036849975586, 4.354691028594971, 6.364773273468018, 6.183128833770752, 4.895588397979736, 3.6608669757843018, 5.460976600646973, 3.691598415374756, 4.142956256866455, 4.07830810546875, 2.266801357269287, 1.0660074949264526, 3.612743616104126, 1.114835262298584, 1.1188148260116577, 1.1379586458206177, 1.7867233753204346, 1.1403268575668335, 1.8040753602981567, 1.1469565629959106, 1.1506911516189575, 1.1472200155258179, 1.1569130420684814, 1.1402816772460938, 1.1439764499664307, 1.1690393686294556, 1.1784435510635376, 1.1681665182113647, 1.1760174036026, 1.167657732963562, 1.8774663209915161, 1.1622155904769897, 1.1810582876205444, 1.1590163707733154, 1.1971839666366577, 1.1821707487106323, 1.1839970350265503, 1.1644642353057861, 1.1878448724746704, 1.1720184087753296, 2.5509324073791504, 1.8708676099777222, 2.5317351818084717, 5.460976600646973, 1.8335713148117065, 3.3431334495544434, 4.07830810546875, 9.816505432128906, 12.50430679321289, 4.142956256866455, 10.972180366516113, 6.364773273468018, 6.183128833770752, 2.619760751724243, 3.441236734390259, 3.446479320526123, 4.895588397979736, 2.628109931945801, 3.3643791675567627, 5.925083160400391, 7.745473384857178, 3.4808382987976074, 3.4096007347106934, 7.734762668609619, 7.780267715454102, 14.913422584533691, 5.169193267822266, 6.267615795135498, 8.791186332702637, 9.702831268310547, 6.052430152893066, 5.240012168884277, 13.083816528320312, 4.485036849975586, 4.354691028594971, 5.414423942565918, 4.661499977111816, 1.0660074949264526, 1.1419305801391602, 1.1402816772460938, 1.1439764499664307, 1.1590163707733154, 1.207977056503296, 1.1865642070770264, 1.1745532751083374, 1.1644642353057861, 1.1929830312728882, 1.114835262298584, 1.1622155904769897, 1.1188148260116577, 1.1735066175460815, 1.1472200155258179, 1.1720184087753296, 1.2162072658538818, 1.1469565629959106, 1.1403268575668335, 1.183412790298462, 1.167657732963562, 1.1506911516189575, 1.2195613384246826, 1.1829472780227661, 1.1379586458206177, 1.231469750404358, 1.1975138187408447, 1.212827205657959, 1.2131648063659668, 1.1887456178665161, 1.2099970579147339, 1.228920817375183, 6.183128833770752, 2.266801357269287, 1.8335713148117065, 9.816505432128906, 14.913422584533691, 3.3643791675567627, 10.972180366516113, 4.895588397979736, 3.4576001167297363, 9.702831268310547, 2.5317351818084717, 3.612743616104126, 3.4096007347106934, 12.50430679321289, 6.052430152893066, 7.734762668609619, 8.791186332702637, 6.364773273468018, 7.780267715454102, 13.083816528320312, 4.354691028594971, 5.414423942565918, 5.460976600646973, 5.925083160400391, 5.169193267822266, 2.909600257873535, 3.7057392597198486, 7.745473384857178, 4.693480968475342, 5.240012168884277, 3.926872491836548, 3.6608669757843018, 4.661499977111816, 5.240322113037109, 6.267615795135498], \"loglift\": [30.0, 29.0, 28.0, 27.0, 26.0, 25.0, 24.0, 23.0, 22.0, 21.0, 20.0, 19.0, 18.0, 17.0, 16.0, 15.0, 14.0, 13.0, 12.0, 11.0, 10.0, 9.0, 8.0, 7.0, 6.0, 5.0, 4.0, 3.0, 2.0, 1.0, 0.014600000344216824, 0.01209999993443489, 0.009800000116229057, 0.008999999612569809, 0.008700000122189522, 0.008299999870359898, 0.008100000210106373, 0.007600000128149986, 0.007600000128149986, 0.007499999832361937, 0.007300000172108412, 0.007199999876320362, 0.007000000216066837, 0.006500000134110451, 0.006399999838322401, 0.006300000008195639, 0.006200000178068876, 0.005900000222027302, 0.005900000222027302, 0.00570000009611249, 0.00570000009611249, 0.005400000140070915, 0.005100000184029341, 0.005100000184029341, 0.004999999888241291, 0.004999999888241291, 0.004999999888241291, 0.004800000227987766, 0.004800000227987766, 0.004699999932199717, 0.00419999985024333, -0.0010000000474974513, -0.0003000000142492354, 0.004399999976158142, 0.0044999998062849045, -0.00279999990016222, 0.002099999925121665, 0.003100000089034438, 0.0024999999441206455, 0.0024999999441206455, 0.002300000051036477, -0.0019000000320374966, -0.0017999999690800905, -0.0007999999797903001, 0.003599999938160181, -0.004900000058114529, 0.0031999999191612005, -0.0038999998942017555, -0.004999999888241291, 0.4408000111579895, 0.4050000011920929, 0.3944000005722046, 0.35690000653266907, 0.35100001096725464, 0.3190999925136566, 0.31220000982284546, 0.30660000443458557, 0.2921000123023987, 0.2870999872684479, 0.28450000286102295, 0.28450000286102295, 0.2793000042438507, 0.27549999952316284, 0.26829999685287476, 0.267300009727478, 0.26579999923706055, 0.2549000084400177, 0.2549000084400177, 0.24130000174045563, 0.24079999327659607, 0.2393999993801117, 0.23839999735355377, 0.2345999926328659, 0.23199999332427979, 0.23170000314712524, 0.23019999265670776, 0.2289000004529953, 0.22759999334812164, 0.2222999930381775, 0.21969999372959137, 0.21279999613761902, 0.19939999282360077, 0.15729999542236328, 0.21050000190734863, 0.17319999635219574, 0.15970000624656677, 0.09740000218153, 0.042500000447034836, 0.1281999945640564, 0.019999999552965164, 0.0681999996304512, 0.06310000270605087, 0.15399999916553497, 0.11069999635219574, 0.10130000114440918, 0.02969999983906746, 0.12939999997615814, 0.0658000037074089, -0.06430000066757202, -0.1428000032901764, 0.04399999976158142, 0.046799998730421066, -0.17739999294281006, -0.18870000541210175, -0.38609999418258667, -0.08269999921321869, -0.14740000665187836, -0.2648000121116638, -0.3073999881744385, -0.15620000660419464, -0.1039000004529953, -0.5038999915122986, -0.08100000023841858, -0.07729999721050262, -0.23600000143051147, -0.23100000619888306, 0.5522000193595886, 0.5432000160217285, 0.45829999446868896, 0.45500001311302185, 0.44780001044273376, 0.44530001282691956, 0.43939998745918274, 0.4368000030517578, 0.43549999594688416, 0.4302000105381012, 0.42899999022483826, 0.42820000648498535, 0.42239999771118164, 0.4221000075340271, 0.4163999855518341, 0.4162999987602234, 0.4156999886035919, 0.4131999909877777, 0.4081000089645386, 0.4047999978065491, 0.40389999747276306, 0.40220001339912415, 0.39969998598098755, 0.3968999981880188, 0.396699994802475, 0.39500001072883606, 0.39469999074935913, 0.3919999897480011, 0.39149999618530273, 0.3912999927997589, 0.3869999945163727, 0.38109999895095825, -0.1696999967098236, 0.16949999332427979, 0.23070000112056732, -0.42160001397132874, -0.5888000130653381, -0.038600001484155655, -0.5626999735832214, -0.21699999272823334, -0.0731000006198883, -0.5586000084877014, 0.05590000003576279, -0.10989999771118164, -0.0835999995470047, -0.7013000249862671, -0.36719998717308044, -0.49559998512268066, -0.5600000023841858, -0.4068000018596649, -0.517300009727478, -0.7967000007629395, -0.23729999363422394, -0.36000001430511475, -0.3765000104904175, -0.423799991607666, -0.3531999886035919, -0.04989999905228615, -0.18529999256134033, -0.6029000282287598, -0.3418999910354614, -0.4090999960899353, -0.24320000410079956, -0.2003999948501587, -0.40470001101493835, -0.4961000084877014, -0.7027999758720398], \"logprob\": [30.0, 29.0, 28.0, 27.0, 26.0, 25.0, 24.0, 23.0, 22.0, 21.0, 20.0, 19.0, 18.0, 17.0, 16.0, 15.0, 14.0, 13.0, 12.0, 11.0, 10.0, 9.0, 8.0, 7.0, 6.0, 5.0, 4.0, 3.0, 2.0, 1.0, -4.752299785614014, -3.8397998809814453, -3.711199998855591, -5.04640007019043, -5.277599811553955, -5.563000202178955, -4.1427001953125, -5.6132001876831055, -4.869500160217285, -6.048699855804443, -5.309299945831299, -4.242300033569336, -5.282299995422363, -5.308000087738037, -4.727799892425537, -4.877600193023682, -5.3059000968933105, -5.334700107574463, -5.319699764251709, -5.651199817657471, -5.295899868011475, -4.366300106048584, -5.330399990081787, -4.372499942779541, -5.350200176239014, -6.094399929046631, -5.070000171661377, -5.6479997634887695, -5.108500003814697, -5.647200107574463, -4.3719000816345215, -3.898200035095215, -4.028200149536133, -4.583499908447266, -4.618299961090088, -4.142000198364258, -4.642000198364258, -4.763800144195557, -4.7779998779296875, -4.920000076293945, -4.949699878692627, -4.574399948120117, -4.603300094604492, -4.835700035095215, -5.122000217437744, -4.730500221252441, -5.113999843597412, -5.00570011138916, -5.022600173950195, -5.164100170135498, -5.9542999267578125, -4.7444000244140625, -5.957600116729736, -5.960000038146973, -5.974899768829346, -5.530600070953369, -5.985400199890137, -5.541100025177002, -5.999000072479248, -5.998300075531006, -6.001399993896484, -5.998199939727783, -6.01639986038208, -6.020500183105469, -5.999800205230713, -5.993299961090088, -6.012899875640869, -6.00629997253418, -6.0269999504089355, -5.552499771118164, -6.0335001945495605, -6.018400192260742, -6.041100025177002, -6.011199951171875, -6.024199962615967, -6.024099826812744, -6.042099952697754, -6.023499965667725, -6.042200088500977, -5.267000198364258, -5.584000110626221, -5.294899940490723, -4.568299770355225, -5.606500148773193, -5.043099880218506, -4.857900142669678, -4.041800022125244, -3.8547000885009766, -4.873700141906738, -4.007900238037109, -4.504300117492676, -4.538400173187256, -5.306099891662598, -5.076700210571289, -5.08459997177124, -4.805300235748291, -5.327499866485596, -5.144199848175049, -4.7083001136779785, -4.519000053405762, -5.131999969482422, -5.149899959564209, -4.554900169372559, -4.560400009155273, -4.10699987411499, -4.8632001876831055, -4.735199928283691, -4.5142998695373535, -4.458199977874756, -4.778900146484375, -4.870800018310547, -4.355800151824951, -5.003499984741211, -5.029300212860107, -4.970200061798096, -5.1149001121521, -5.80709981918335, -5.747399806976318, -5.833700180053711, -5.833700180053711, -5.827899932861328, -5.789000034332275, -5.81279993057251, -5.825500011444092, -5.8354997634887695, -5.8165998458862305, -5.8856000900268555, -5.844699859619141, -5.888599872589111, -5.841100215911865, -5.869500160217285, -5.848199844360352, -5.811800003051758, -5.872900009155273, -5.883800029754639, -5.850100040435791, -5.8643999099731445, -5.88070011138916, -5.824999809265137, -5.85830020904541, -5.897299766540527, -5.820000171661377, -5.848299980163574, -5.8383002281188965, -5.838500022888184, -5.859000205993652, -5.845600128173828, -5.835999965667725, -4.771100044250488, -5.435400009155273, -5.586299896240234, -4.560800075531006, -4.309800148010254, -5.248600006103516, -4.59060001373291, -5.0518999099731445, -5.255799770355225, -4.709499835968018, -5.438399791717529, -5.248700141906738, -5.280300140380859, -4.598400115966797, -4.989999771118164, -4.873199939727783, -4.809500217437744, -4.979300022125244, -4.888899803161621, -4.648600101470947, -5.189300060272217, -5.094200134277344, -5.102200031280518, -5.06790018081665, -5.133800029754639, -5.405200004577637, -5.298699855804443, -4.979000091552734, -5.218900203704834, -5.176000118255615, -5.298600196838379, -5.326000213623047, -5.288599967956543, -5.263000011444092, -5.290599822998047]}, \"token.table\": {\"Topic\": [1, 1, 1, 1, 1, 1, 1, 1, 1, 1, 1, 1, 1, 1, 1, 1, 1, 1, 1, 1, 1, 1, 1, 1, 1, 1, 1, 1, 1, 1, 1, 1, 1, 1, 1, 1, 1, 1, 1, 1, 1, 1, 1, 1, 1, 1, 1, 1, 1, 1, 1, 1, 1, 1, 1, 1, 1, 1, 1, 1, 1, 1, 1, 1, 1, 1, 1, 1, 1, 1, 1, 1, 1, 1, 1, 1, 1, 1, 1, 1, 1, 1, 1, 1, 1, 1, 1, 1, 1, 1, 1, 1, 1, 1, 1, 1, 1, 1, 1, 1, 1, 1, 1, 1, 1, 1, 1, 1, 1], \"Freq\": [0.7899720668792725, 0.8604255318641663, 0.8757099509239197, 0.87187260389328, 0.8690429329872131, 0.8560423254966736, 0.8199669718742371, 0.8445966839790344, 0.845346212387085, 1.0126440525054932, 0.8303938508033752, 1.1193674802780151, 0.8427693843841553, 1.06902277469635, 0.9771891832351685, 0.8787665367126465, 1.0237525701522827, 1.0186222791671753, 1.1451427936553955, 0.8222282528877258, 0.9899237751960754, 0.6927508115768433, 0.8120378255844116, 0.8717796206474304, 1.0282422304153442, 0.9573017954826355, 0.9256758689880371, 0.8459014892578125, 0.8798683881759644, 1.0310695171356201, 0.8245197534561157, 1.090767502784729, 0.9703825116157532, 0.8823004961013794, 0.891694962978363, 0.9541398286819458, 0.8264482617378235, 1.092637300491333, 1.0025354623794556, 1.065307378768921, 0.8521468639373779, 0.8503275513648987, 0.8350634574890137, 0.918549656867981, 0.8964591026306152, 0.9293943047523499, 0.897361695766449, 0.8242903351783752, 0.8485769033432007, 1.065265417098999, 0.8532289266586304, 0.9541962742805481, 0.9672689437866211, 0.8643692135810852, 0.8769763112068176, 0.8769415616989136, 1.0009201765060425, 1.0213277339935303, 1.0342916250228882, 0.8587640523910522, 0.9275643229484558, 1.07940673828125, 0.8676538467407227, 0.8554031848907471, 0.9935938715934753, 0.9623817801475525, 0.9807989001274109, 0.9234592914581299, 0.8704534769058228, 0.9654941558837891, 0.7840270400047302, 1.038773536682129, 1.0160478353500366, 0.8466982841491699, 0.9913373589515686, 1.0109347105026245, 0.9596693515777588, 0.9168232083320618, 0.8741438984870911, 0.8450136780738831, 0.8418607711791992, 0.841222882270813, 0.9380797147750854, 0.723374605178833, 0.8716723918914795, 0.9653414487838745, 1.0726161003112793, 0.8513875007629395, 0.8382349014282227, 1.0058053731918335, 0.8137220740318298, 0.8628005981445312, 1.0835415124893188, 0.9247123003005981, 0.9155871272087097, 1.1086010932922363, 0.8278303146362305, 0.856415331363678, 0.8938029408454895, 0.8918544054031372, 0.9875067472457886, 0.991958737373352, 1.032861351966858, 0.8531625270843506, 0.8352935314178467, 0.8618613481521606, 0.8969935178756714, 0.9426887035369873, 1.1415047645568848], \"Term\": [\"100,000\", \"12\", \"16\\u00b0 48' tauru\", \"1790\", \"1\\u00b0 1' 33\\\"\", \"22\", \"5\\u00b0 45' cancer\", \"67\", \"B\", \"Ch\", \"It\", \"M\", \"MD\", \"N\", \"So\", \"agreement\", \"angl\", \"appear\", \"apsi\", \"argument\", \"ascend\", \"backward\", \"begin\", \"but\", \"center\", \"chapter\", \"circumfer\", \"common\", \"comput\", \"consid\", \"construct\", \"copernican\", \"demonstr\", \"descend\", \"diagram\", \"diamet\", \"document\", \"drawn\", \"eccentr\", \"eclipt\", \"epicycl\", \"even\", \"everyth\", \"fall\", \"first\", \"former\", \"found\", \"furthermor\", \"geometr\", \"great\", \"ground\", \"instead\", \"intersect\", \"lab\", \"late\", \"le\", \"let\", \"limit\", \"line\", \"magnitud\", \"mar\", \"mean\", \"minut\", \"nearli\", \"node\", \"northern\", \"observ\", \"one\", \"opposit\", \"orb\", \"origin\", \"parallax\", \"perpendicular\", \"physic\", \"plane\", \"planet\", \"point\", \"posit\", \"postpon\", \"question\", \"reckon\", \"relat\", \"said\", \"scorpio\", \"see\", \"semicircl\", \"sinc\", \"southern\", \"still\", \"sun\", \"supposit\", \"tabl\", \"take\", \"taken\", \"therefor\", \"thi\", \"thing\", \"think\", \"upon\", \"use\", \"way\", \"would\", \"\\u03b2\", \"\\u03b2\\u03ba\", \"\\u03b2\\u03ba\\u03c2\", \"\\u03b2\\u03c2\", \"\\u03b7N\", \"\\u03ba\", \"\\u03ba\\u03c2\"]}, \"R\": 30, \"lambda.step\": 0.01, \"plot.opts\": {\"xlab\": \"PC1\", \"ylab\": \"PC2\"}, \"topic.order\": [1, 3, 2]};\n",
       "\n",
       "function LDAvis_load_lib(url, callback){\n",
       "  var s = document.createElement('script');\n",
       "  s.src = url;\n",
       "  s.async = true;\n",
       "  s.onreadystatechange = s.onload = callback;\n",
       "  s.onerror = function(){console.warn(\"failed to load library \" + url);};\n",
       "  document.getElementsByTagName(\"head\")[0].appendChild(s);\n",
       "}\n",
       "\n",
       "if(typeof(LDAvis) !== \"undefined\"){\n",
       "   // already loaded: just create the visualization\n",
       "   !function(LDAvis){\n",
       "       new LDAvis(\"#\" + \"ldavis_el988018619505517683456872400\", ldavis_el988018619505517683456872400_data);\n",
       "   }(LDAvis);\n",
       "}else if(typeof define === \"function\" && define.amd){\n",
       "   // require.js is available: use it to load d3/LDAvis\n",
       "   require.config({paths: {d3: \"https://cdnjs.cloudflare.com/ajax/libs/d3/3.5.5/d3.min\"}});\n",
       "   require([\"d3\"], function(d3){\n",
       "      window.d3 = d3;\n",
       "      LDAvis_load_lib(\"https://cdn.rawgit.com/bmabey/pyLDAvis/files/ldavis.v1.0.0.js\", function(){\n",
       "        new LDAvis(\"#\" + \"ldavis_el988018619505517683456872400\", ldavis_el988018619505517683456872400_data);\n",
       "      });\n",
       "    });\n",
       "}else{\n",
       "    // require.js not available: dynamically load d3 & LDAvis\n",
       "    LDAvis_load_lib(\"https://cdnjs.cloudflare.com/ajax/libs/d3/3.5.5/d3.min.js\", function(){\n",
       "         LDAvis_load_lib(\"https://cdn.rawgit.com/bmabey/pyLDAvis/files/ldavis.v1.0.0.js\", function(){\n",
       "                 new LDAvis(\"#\" + \"ldavis_el988018619505517683456872400\", ldavis_el988018619505517683456872400_data);\n",
       "            })\n",
       "         });\n",
       "}\n",
       "</script>"
      ],
      "text/plain": [
       "PreparedData(topic_coordinates=              x    y  topics  cluster       Freq\n",
       "topic                                           \n",
       "0     -0.007071 -0.0       1        1  97.050346\n",
       "2     -0.001246 -0.0       2        1   2.891311\n",
       "1      0.008317 -0.0       3        1   0.058344, topic_info=     Category       Freq       Term      Total  loglift  logprob\n",
       "term                                                            \n",
       "238   Default  14.000000        sun  14.000000  30.0000  30.0000\n",
       "199   Default  12.000000      point  12.000000  29.0000  29.0000\n",
       "119   Default  10.000000    eccentr  10.000000  28.0000  28.0000\n",
       "180   Default  13.000000       node  13.000000  27.0000  27.0000\n",
       "200   Default   9.000000      posit   9.000000  26.0000  26.0000\n",
       "169   Default   9.000000        mar   9.000000  25.0000  25.0000\n",
       "65    Default   8.000000       angl   8.000000  24.0000  24.0000\n",
       "164   Default   7.000000       line   7.000000  23.0000  23.0000\n",
       "86    Default   7.000000     center   7.000000  22.0000  22.0000\n",
       "273   Default   7.000000          β   7.000000  21.0000  21.0000\n",
       "106   Default   6.000000   demonstr   6.000000  20.0000  20.0000\n",
       "279   Default   6.000000          κ   6.000000  19.0000  19.0000\n",
       "196   Default   6.000000      plane   6.000000  18.0000  18.0000\n",
       "43    Default   5.000000         Ch   5.000000  17.0000  17.0000\n",
       "245   Default   5.000000   therefor   5.000000  16.0000  16.0000\n",
       "186   Default   5.000000        one   5.000000  15.0000  15.0000\n",
       "163   Default   4.000000      limit   4.000000  14.0000  14.0000\n",
       "88    Default   6.000000    chapter   6.000000  13.0000  13.0000\n",
       "155   Default   5.000000  intersect   5.000000  12.0000  12.0000\n",
       "154   Default   5.000000    instead   5.000000  11.0000  11.0000\n",
       "111   Default   5.000000     diamet   5.000000  10.0000  10.0000\n",
       "120   Default   4.000000     eclipt   4.000000   9.0000   9.0000\n",
       "137   Default   4.000000       fall   4.000000   8.0000   8.0000\n",
       "229   Default   4.000000       sinc   4.000000   7.0000   7.0000\n",
       "259   Default   4.000000        use   4.000000   6.0000   6.0000\n",
       "184   Default   4.000000     observ   4.000000   5.0000   5.0000\n",
       "188   Default   4.000000        orb   4.000000   4.0000   4.0000\n",
       "47    Default   3.000000         It   3.000000   3.0000   3.0000\n",
       "68    Default   3.000000     appear   3.000000   2.0000   2.0000\n",
       "172   Default   3.000000       mean   3.000000   1.0000   1.0000\n",
       "...       ...        ...        ...        ...      ...      ...\n",
       "110    Topic3   0.001889    diagram   3.364379  -0.0386  -5.2486\n",
       "119    Topic3   0.003647    eccentr  10.972180  -0.5627  -4.5906\n",
       "163    Topic3   0.002299      limit   4.895588  -0.2170  -5.0519\n",
       "173    Topic3   0.001875      minut   3.457600  -0.0731  -5.2558\n",
       "169    Topic3   0.003238        mar   9.702831  -0.5586  -4.7095\n",
       "1      Topic3   0.001562    100,000   2.531735   0.0559  -5.4384\n",
       "47     Topic3   0.001888         It   3.612744  -0.1099  -5.2487\n",
       "95     Topic3   0.001830     comput   3.409601  -0.0836  -5.2803\n",
       "199    Topic3   0.003618      point  12.504307  -0.7013  -4.5984\n",
       "196    Topic3   0.002446      plane   6.052430  -0.3672  -4.9900\n",
       "164    Topic3   0.002749       line   7.734763  -0.4956  -4.8732\n",
       "65     Topic3   0.002930       angl   8.791186  -0.5600  -4.8095\n",
       "279    Topic3   0.002472          κ   6.364773  -0.4068  -4.9793\n",
       "86     Topic3   0.002706     center   7.780268  -0.5173  -4.8889\n",
       "180    Topic3   0.003441       node  13.083817  -0.7967  -4.6486\n",
       "137    Topic3   0.002004       fall   4.354691  -0.2373  -5.1893\n",
       "186    Topic3   0.002204        one   5.414424  -0.3600  -5.0942\n",
       "245    Topic3   0.002186   therefor   5.460977  -0.3765  -5.1022\n",
       "43     Topic3   0.002263         Ch   5.925083  -0.4238  -5.0679\n",
       "155    Topic3   0.002118  intersect   5.169193  -0.3532  -5.1338\n",
       "99     Topic3   0.001615     consid   2.909600  -0.0499  -5.4052\n",
       "172    Topic3   0.001796       mean   3.705739  -0.1853  -5.2987\n",
       "273    Topic3   0.002473          β   7.745473  -0.6029  -4.9790\n",
       "120    Topic3   0.001945     eclipt   4.693481  -0.3419  -5.2189\n",
       "154    Topic3   0.002031    instead   5.240012  -0.4091  -5.1760\n",
       "68     Topic3   0.001796     appear   3.926872  -0.2432  -5.2986\n",
       "116    Topic3   0.001748      drawn   3.660867  -0.2004  -5.3260\n",
       "229    Topic3   0.001815       sinc   4.661500  -0.4047  -5.2886\n",
       "111    Topic3   0.001862     diamet   5.240322  -0.4961  -5.2630\n",
       "88     Topic3   0.001811    chapter   6.267616  -0.7028  -5.2906\n",
       "\n",
       "[213 rows x 6 columns], token_table=      Topic      Freq           Term\n",
       "term                                \n",
       "1         1  0.789972        100,000\n",
       "2         1  0.860426             12\n",
       "9         1  0.875710  16° 48' tauru\n",
       "11        1  0.871873           1790\n",
       "14        1  0.869043      1° 1' 33\"\n",
       "19        1  0.856042             22\n",
       "35        1  0.819967  5° 45' cancer\n",
       "40        1  0.844597             67\n",
       "41        1  0.845346              B\n",
       "43        1  1.012644             Ch\n",
       "47        1  0.830394             It\n",
       "50        1  1.119367              M\n",
       "51        1  0.842769             MD\n",
       "52        1  1.069023              N\n",
       "56        1  0.977189             So\n",
       "62        1  0.878767      agreement\n",
       "65        1  1.023753           angl\n",
       "68        1  1.018622         appear\n",
       "70        1  1.145143           apsi\n",
       "74        1  0.822228       argument\n",
       "76        1  0.989924         ascend\n",
       "78        1  0.692751       backward\n",
       "80        1  0.812038          begin\n",
       "83        1  0.871780            but\n",
       "86        1  1.028242         center\n",
       "88        1  0.957302        chapter\n",
       "92        1  0.925676      circumfer\n",
       "94        1  0.845901         common\n",
       "95        1  0.879868         comput\n",
       "99        1  1.031070         consid\n",
       "...     ...       ...            ...\n",
       "208       1  0.845014       question\n",
       "209       1  0.841861         reckon\n",
       "212       1  0.841223          relat\n",
       "217       1  0.938080           said\n",
       "219       1  0.723375        scorpio\n",
       "221       1  0.871672            see\n",
       "223       1  0.965341      semicircl\n",
       "229       1  1.072616           sinc\n",
       "235       1  0.851388       southern\n",
       "236       1  0.838235          still\n",
       "238       1  1.005805            sun\n",
       "240       1  0.813722       supposit\n",
       "241       1  0.862801           tabl\n",
       "243       1  1.083542           take\n",
       "244       1  0.924712          taken\n",
       "245       1  0.915587       therefor\n",
       "246       1  1.108601            thi\n",
       "247       1  0.827830          thing\n",
       "248       1  0.856415          think\n",
       "257       1  0.893803           upon\n",
       "259       1  0.891854            use\n",
       "263       1  0.987507            way\n",
       "271       1  0.991959          would\n",
       "273       1  1.032861              β\n",
       "274       1  0.853163             βκ\n",
       "275       1  0.835294            βκς\n",
       "276       1  0.861861             βς\n",
       "278       1  0.896994             ηN\n",
       "279       1  0.942689              κ\n",
       "283       1  1.141505             κς\n",
       "\n",
       "[109 rows x 3 columns], R=30, lambda_step=0.01, plot_opts={'xlab': 'PC1', 'ylab': 'PC2'}, topic_order=[1, 3, 2])"
      ]
     },
     "execution_count": 130,
     "metadata": {},
     "output_type": "execute_result"
    }
   ],
   "source": [
    "vis"
   ]
  },
  {
   "cell_type": "markdown",
   "metadata": {},
   "source": [
    "# Topic Modelling of chapter 30"
   ]
  },
  {
   "cell_type": "code",
   "execution_count": 108,
   "metadata": {},
   "outputs": [
    {
     "data": {
      "text/html": [
       "\n",
       "<link rel=\"stylesheet\" type=\"text/css\" href=\"https://cdn.rawgit.com/bmabey/pyLDAvis/files/ldavis.v1.0.0.css\">\n",
       "\n",
       "\n",
       "<div id=\"ldavis_el1306017232374730402109834384\"></div>\n",
       "<script type=\"text/javascript\">\n",
       "\n",
       "var ldavis_el1306017232374730402109834384_data = {\"mdsDat\": {\"x\": [-0.009324448849558976, 0.0034653829251662807, 0.005859065924392705], \"y\": [0.0, 0.0, 0.0], \"topics\": [1, 2, 3], \"cluster\": [1, 1, 1], \"Freq\": [99.97313690185547, 0.013493522070348263, 0.013370848260819912]}, \"tinfo\": {\"Category\": [\"Default\", \"Default\", \"Default\", \"Default\", \"Default\", \"Default\", \"Default\", \"Default\", \"Default\", \"Default\", \"Default\", \"Default\", \"Default\", \"Default\", \"Default\", \"Default\", \"Default\", \"Default\", \"Default\", \"Default\", \"Default\", \"Default\", \"Default\", \"Default\", \"Default\", \"Default\", \"Default\", \"Default\", \"Default\", \"Default\", \"Topic1\", \"Topic1\", \"Topic1\", \"Topic1\", \"Topic1\", \"Topic1\", \"Topic1\", \"Topic1\", \"Topic1\", \"Topic1\", \"Topic1\", \"Topic1\", \"Topic1\", \"Topic1\", \"Topic1\", \"Topic1\", \"Topic1\", \"Topic1\", \"Topic1\", \"Topic1\", \"Topic1\", \"Topic1\", \"Topic1\", \"Topic1\", \"Topic1\", \"Topic1\", \"Topic1\", \"Topic1\", \"Topic1\", \"Topic1\", \"Topic1\", \"Topic1\", \"Topic1\", \"Topic1\", \"Topic1\", \"Topic1\", \"Topic1\", \"Topic1\", \"Topic1\", \"Topic1\", \"Topic1\", \"Topic2\", \"Topic2\", \"Topic2\", \"Topic2\", \"Topic2\", \"Topic2\", \"Topic2\", \"Topic2\", \"Topic2\", \"Topic2\", \"Topic2\", \"Topic2\", \"Topic2\", \"Topic2\", \"Topic2\", \"Topic2\", \"Topic2\", \"Topic2\", \"Topic2\", \"Topic2\", \"Topic2\", \"Topic2\", \"Topic2\", \"Topic2\", \"Topic2\", \"Topic2\", \"Topic2\", \"Topic2\", \"Topic2\", \"Topic2\", \"Topic2\", \"Topic2\", \"Topic2\", \"Topic2\", \"Topic2\", \"Topic2\", \"Topic2\", \"Topic2\", \"Topic2\", \"Topic2\", \"Topic2\", \"Topic2\", \"Topic2\", \"Topic2\", \"Topic2\", \"Topic2\", \"Topic2\", \"Topic2\", \"Topic2\", \"Topic2\", \"Topic2\", \"Topic2\", \"Topic2\", \"Topic2\", \"Topic2\", \"Topic2\", \"Topic2\", \"Topic2\", \"Topic2\", \"Topic2\", \"Topic2\", \"Topic2\", \"Topic2\", \"Topic2\", \"Topic2\", \"Topic2\", \"Topic2\", \"Topic2\", \"Topic2\", \"Topic2\", \"Topic3\", \"Topic3\", \"Topic3\", \"Topic3\", \"Topic3\", \"Topic3\", \"Topic3\", \"Topic3\", \"Topic3\", \"Topic3\", \"Topic3\", \"Topic3\", \"Topic3\", \"Topic3\", \"Topic3\", \"Topic3\", \"Topic3\", \"Topic3\", \"Topic3\", \"Topic3\", \"Topic3\", \"Topic3\", \"Topic3\", \"Topic3\", \"Topic3\", \"Topic3\", \"Topic3\", \"Topic3\", \"Topic3\", \"Topic3\", \"Topic3\", \"Topic3\", \"Topic3\", \"Topic3\", \"Topic3\", \"Topic3\", \"Topic3\", \"Topic3\", \"Topic3\", \"Topic3\", \"Topic3\", \"Topic3\", \"Topic3\", \"Topic3\", \"Topic3\", \"Topic3\", \"Topic3\", \"Topic3\", \"Topic3\", \"Topic3\", \"Topic3\", \"Topic3\", \"Topic3\", \"Topic3\", \"Topic3\", \"Topic3\", \"Topic3\", \"Topic3\", \"Topic3\", \"Topic3\", \"Topic3\", \"Topic3\", \"Topic3\", \"Topic3\", \"Topic3\", \"Topic3\", \"Topic3\", \"Topic3\", \"Topic3\", \"Topic3\", \"Topic3\", \"Topic3\", \"Topic3\", \"Topic3\"], \"Freq\": [59.0, 52.0, 56.0, 48.0, 40.0, 41.0, 36.0, 33.0, 31.0, 26.0, 27.0, 26.0, 20.0, 24.0, 23.0, 19.0, 20.0, 20.0, 18.0, 18.0, 15.0, 15.0, 15.0, 15.0, 15.0, 13.0, 14.0, 12.0, 13.0, 13.0, 56.89910888671875, 41.22734832763672, 31.708209991455078, 18.11516761779785, 20.786888122558594, 24.352581024169922, 59.14899826049805, 9.838542938232422, 36.587894439697266, 48.07051467895508, 13.352801322937012, 20.483781814575195, 27.562503814697266, 23.097368240356445, 7.100220203399658, 33.67533874511719, 26.552385330200195, 11.464822769165039, 51.99961853027344, 10.55489444732666, 11.412924766540527, 7.901414394378662, 13.154973030090332, 15.759778022766113, 10.471933364868164, 8.709314346313477, 15.672489166259766, 9.585770606994629, 13.934358596801758, 13.929160118103027, 40.911338806152344, 26.890092849731445, 20.66963768005371, 19.94315528869629, 18.02204132080078, 15.331170082092285, 15.206891059875488, 15.181846618652344, 14.320231437683105, 13.789754867553711, 13.681883811950684, 0.0003232606977690011, 0.00030964796314947307, 0.00031194655457511544, 0.0003159808402415365, 0.00030948701896704733, 0.00030429280013777316, 0.0003073782136198133, 0.0003047663776669651, 0.0003013338427990675, 0.0003019165596924722, 0.0003069200029131025, 0.0003050550876650959, 0.00030777964275330305, 0.00030256970785558224, 0.0003024823672603816, 0.0002967318578157574, 0.00030174842686392367, 0.000299064937280491, 0.0002988415362779051, 0.00029957955121062696, 0.00029926103889010847, 0.0003028365026693791, 0.000295076344627887, 0.0002978231350425631, 0.0003045015037059784, 0.0002966183819808066, 0.0002990245120599866, 0.00029977437225170434, 0.0002937771787401289, 0.0003011872759088874, 0.000298539933282882, 0.005019959062337875, 0.0027213874273002148, 0.0020193802192807198, 0.001871020533144474, 0.0030898901168257, 0.005608140490949154, 0.004743572324514389, 0.0049097537994384766, 0.000679355813190341, 0.0023175657261162996, 0.00479748984798789, 0.0008733113063499331, 0.0013949520653113723, 0.0015779284294694662, 0.001778461504727602, 0.0030401472467929125, 0.0015505856135860085, 0.003168546361848712, 0.0010864125797525048, 0.0025050221011042595, 0.002794048748910427, 0.001122551504522562, 0.000753667438402772, 0.002506284974515438, 0.0014253042172640562, 0.0014673833502456546, 0.003212427720427513, 0.001308092731051147, 0.001836933079175651, 0.001647945842705667, 0.0010000410256907344, 0.00152367795817554, 0.001289532519876957, 0.002006726572290063, 0.002017667517066002, 0.0012237802147865295, 0.0015704944962635636, 0.001648477977141738, 0.0016251284396275878, 0.0003122342168353498, 0.00031816543196327984, 0.0003177333564963192, 0.00031703594140708447, 0.00030096503905951977, 0.0003120354958809912, 0.0003096196742262691, 0.0003105982905253768, 0.00031502891215495765, 0.0003072843828704208, 0.00030935651739127934, 0.0003068754158448428, 0.00030872129718773067, 0.00030699759372510016, 0.0003064403426833451, 0.00029929375159554183, 0.00029735921998508275, 0.0003116107836831361, 0.00030518381390720606, 0.0003100468311458826, 0.00030320981750264764, 0.00030258981860242784, 0.00030631295521743596, 0.0003064494812861085, 0.000302622007438913, 0.00030022027203813195, 0.00029291759710758924, 0.0003049456572625786, 0.0002940687700174749, 0.000305913359625265, 0.0003049146616831422, 0.00030315801268443465, 0.0018605745863169432, 0.002643067855387926, 0.002060730941593647, 0.004083647392690182, 0.0047078002244234085, 0.0027784653939306736, 0.0021997829899191856, 0.0013269869377836585, 0.0009542981861159205, 0.00463581969961524, 0.003296208567917347, 0.0030667283572256565, 0.0037952454295009375, 0.0033465144224464893, 0.001087537151761353, 0.0011048364685848355, 0.0009973810520023108, 0.0010655340738594532, 0.0010814686538651586, 0.00158324942458421, 0.0020076779183000326, 0.0024270941503345966, 0.0018321577226743102, 0.001050553866662085, 0.002147366525605321, 0.002326840301975608, 0.0011307052336633205, 0.0012543168850243092, 0.0014881440438330173, 0.0014122547581791878, 0.0021104440093040466, 0.0035402304492890835, 0.002473196480423212, 0.0016041313065215945, 0.001875618938356638, 0.0014684596098959446, 0.00147756387013942, 0.0014476175419986248, 0.0013510591816157103, 0.0013941372744739056, 0.0014135584933683276, 0.0014429179718717933], \"Term\": [\"eccentr\", \"observ\", \"planet\", \"\\u03b4\", \"let\", \"line\", \"one\", \"\\u03b1\", \"point\", \"center\", \"differ\", \"posit\", \"epicycl\", \"path\", \"\\u03b3\", \"hypothesi\", \"would\", \"form\", \"appear\", \"angl\", \"equant\", \"equal\", \"\\u03b2\", \"first\", \"place\", \"therefor\", \"time\", \"ptolema\", \"apsi\", \"sinc\", \"planet\", \"line\", \"point\", \"angl\", \"form\", \"path\", \"eccentr\", \"chang\", \"one\", \"\\u03b4\", \"remain\", \"would\", \"differ\", \"\\u03b3\", \"entir\", \"\\u03b1\", \"posit\", \"Ch\", \"observ\", \"greater\", \"thi\", \"travers\", \"inequ\", \"place\", \"equat\", \"\\u03b1\\u03b2\", \"first\", \"equival\", \"shall\", \"but\", \"let\", \"center\", \"epicycl\", \"hypothesi\", \"appear\", \"\\u03b2\", \"equant\", \"equal\", \"time\", \"therefor\", \"sinc\", \"sine\", \"\\u03c1\\u03b8\\u03bf\", \"turn\", \"unmov\", \"it\", \"\\u03b3\\u03c3\", \"\\u03b5\\u03bf\", \"\\u03b2\\u03b7\", \"simul\", \"accumul\", \"congruent\", \"shift\", \"whenc\", \"fashion\", \"\\u03b5o\", \"sever\", \"\\u03b2\\u03c75\", \"diverg\", \"period\", \"chiefli\", \"increment\", \"within\", \"\\u03bd\\u03c5\", \"earlier\", \"\\u03b8\\u03c5\\u03b3\", \"\\u03c1\\u03c4\", \"impedi\", \"\\u03b2\\u03b3\\u03c6\", \"4' 43\\\"\", \"later\", \"endpoint\", \"let\", \"epicycl\", \"equal\", \"therefor\", \"center\", \"eccentr\", \"\\u03b4\", \"observ\", \"fix\", \"hypothesi\", \"planet\", \"right\", \"describ\", \"ptolema\", \"\\u03b2\", \"\\u03b1\", \"parallel\", \"one\", \"\\u03b8\", \"posit\", \"point\", \"true\", \"heaven\", \"differ\", \"much\", \"copernican\", \"line\", \"\\u03b2\\u03b3\", \"appear\", \"first\", \"comput\", \"time\", \"demonstr\", \"\\u03b3\", \"path\", \"second\", \"angl\", \"would\", \"form\", \"\\u03c7\\u03b2\", \"verg\", \"On\", \"15\", \"\\u03b3\\u03c3\", \"\\u03b3\\u03b9\", \"postul\", \"perplex\", \"78\\u00b0 47' 30\\\"\", \"advis\", \"neighborhood\", \"ought\", \"5\", \"origin\", \"violent\", \"sever\", \"simul\", \"earth\", \"extrem\", \"design\", \"someth\", \"\\u03c8\\u03b3\", \"intercept\", \"29\\u00b0 0' 16\\\" leo\", \"onc\", \"\\u03b3\\u03ba\\u03b6\", \"\\u03c1\\u03b8\\u03bf\", \"o\\u03c1\", \"accumul\", \"practitioners4\", \"\\u0393\\u03b3\", \"except\", \"ptolema\", \"epicycl\", \"equant\", \"let\", \"observ\", \"center\", \"hypothesi\", \"\\u03b9\", \"nearli\", \"eccentr\", \"one\", \"\\u03b1\", \"\\u03b4\", \"line\", \"make\", \"In\", \"\\u03b1\\u03b3\", \"appar\", \"\\u03b5\", \"time\", \"would\", \"differ\", \"appear\", \"\\u03b8\", \"\\u03b3\", \"posit\", \"use\", \"describ\", \"therefor\", \"new\", \"path\", \"planet\", \"point\", \"place\", \"form\", \"sinc\", \"but\", \"apsi\", \"copernican\", \"shall\", \"\\u03b2\", \"angl\"], \"Total\": [59.0, 52.0, 56.0, 48.0, 40.0, 41.0, 36.0, 33.0, 31.0, 26.0, 27.0, 26.0, 20.0, 24.0, 23.0, 19.0, 20.0, 20.0, 18.0, 18.0, 15.0, 15.0, 15.0, 15.0, 15.0, 13.0, 14.0, 12.0, 13.0, 13.0, 56.907447814941406, 41.23390579223633, 31.713478088378906, 18.118181228637695, 20.790388107299805, 24.356708526611328, 59.15924072265625, 9.840262413024902, 36.5943603515625, 48.07905197143555, 13.355184555053711, 20.487438201904297, 27.56743621826172, 23.10152244567871, 7.101500034332275, 33.68144607543945, 26.55721664428711, 11.466931343078613, 52.00923538208008, 10.556866645812988, 11.415066719055176, 7.902902126312256, 13.157452583312988, 15.762773513793945, 10.473943710327148, 8.710991859436035, 15.675512313842773, 9.587620735168457, 13.937055587768555, 13.931863784790039, 40.92044448852539, 26.89596176147461, 20.675003051757812, 19.94767189025879, 18.025711059570312, 15.334362030029297, 15.210183143615723, 15.185099601745605, 14.323338508605957, 13.793113708496094, 13.684707641601562, 1.2365294694900513, 1.210787057876587, 1.2219699621200562, 1.2445762157440186, 1.2236441373825073, 1.2062489986419678, 1.238279938697815, 1.2326931953430176, 1.2193211317062378, 1.2245001792907715, 1.2518200874328613, 1.245179295539856, 1.2631633281707764, 1.2419854402542114, 1.2443320751190186, 1.2250741720199585, 1.2507671117782593, 1.2441507577896118, 1.244097352027893, 1.2550143003463745, 1.2537328004837036, 1.2707027196884155, 1.2394157648086548, 1.2534832954406738, 1.283186912536621, 1.2514843940734863, 1.265382170677185, 1.2706489562988281, 1.2489635944366455, 1.2807862758636475, 1.2695547342300415, 40.92044448852539, 20.675003051757812, 15.185099601745605, 13.793113708496094, 26.89596176147461, 59.15924072265625, 48.07905197143555, 52.00923538208008, 3.7392518520355225, 19.94767189025879, 56.907447814941406, 5.423022747039795, 10.396781921386719, 12.469795227050781, 15.334362030029297, 33.68144607543945, 12.854092597961426, 36.5943603515625, 7.804450988769531, 26.55721664428711, 31.713478088378906, 8.316001892089844, 4.639405250549316, 27.56743621826172, 11.919062614440918, 12.474224090576172, 41.23390579223633, 10.661249160766602, 18.025711059570312, 15.675512313842773, 7.193573474884033, 14.323338508605957, 10.912220001220703, 23.10152244567871, 24.356708526611328, 10.005061149597168, 18.118181228637695, 20.487438201904297, 20.790388107299805, 1.2250055074691772, 1.2619105577468872, 1.2617239952087402, 1.2622087001800537, 1.2062489986419678, 1.2508838176727295, 1.2419354915618896, 1.2506353855133057, 1.2765991687774658, 1.2470964193344116, 1.2596501111984253, 1.249719262123108, 1.2595070600509644, 1.2537152767181396, 1.252049446105957, 1.2250741720199585, 1.2193211317062378, 1.2800817489624023, 1.2541122436523438, 1.2768235206604004, 1.2496063709259033, 1.247359037399292, 1.2627073526382446, 1.263370156288147, 1.248140811920166, 1.2396421432495117, 1.210787057876587, 1.263245940208435, 1.2245001792907715, 1.2744956016540527, 1.2705107927322388, 1.2638205289840698, 12.469795227050781, 20.675003051757812, 15.210183143615723, 40.92044448852539, 52.00923538208008, 26.89596176147461, 19.94767189025879, 9.83237361907959, 6.2671427726745605, 59.15924072265625, 36.5943603515625, 33.68144607543945, 48.07905197143555, 41.23390579223633, 8.089712142944336, 8.302467346191406, 7.149312973022461, 7.9125165939331055, 8.105913162231445, 14.323338508605957, 20.487438201904297, 27.56743621826172, 18.025711059570312, 7.804450988769531, 23.10152244567871, 26.55721664428711, 8.858592987060547, 10.396781921386719, 13.793113708496094, 12.761002540588379, 24.356708526611328, 56.907447814941406, 31.713478088378906, 15.762773513793945, 20.790388107299805, 13.684707641601562, 13.931863784790039, 13.664767265319824, 12.474224090576172, 13.937055587768555, 15.334362030029297, 18.118181228637695], \"loglift\": [30.0, 29.0, 28.0, 27.0, 26.0, 25.0, 24.0, 23.0, 22.0, 21.0, 20.0, 19.0, 18.0, 17.0, 16.0, 15.0, 14.0, 13.0, 12.0, 11.0, 10.0, 9.0, 8.0, 7.0, 6.0, 5.0, 4.0, 3.0, 2.0, 1.0, 9.999999747378752e-05, 9.999999747378752e-05, 9.999999747378752e-05, 9.999999747378752e-05, 9.999999747378752e-05, 9.999999747378752e-05, 9.999999747378752e-05, 9.999999747378752e-05, 9.999999747378752e-05, 9.999999747378752e-05, 9.999999747378752e-05, 9.999999747378752e-05, 9.999999747378752e-05, 9.999999747378752e-05, 9.999999747378752e-05, 9.999999747378752e-05, 9.999999747378752e-05, 9.999999747378752e-05, 9.999999747378752e-05, 9.999999747378752e-05, 9.999999747378752e-05, 9.999999747378752e-05, 9.999999747378752e-05, 9.999999747378752e-05, 9.999999747378752e-05, 9.999999747378752e-05, 9.999999747378752e-05, 9.999999747378752e-05, 9.999999747378752e-05, 9.999999747378752e-05, 0.0, 9.999999747378752e-05, 0.0, 0.0, 9.999999747378752e-05, 9.999999747378752e-05, 9.999999747378752e-05, 9.999999747378752e-05, 9.999999747378752e-05, 0.0, 9.999999747378752e-05, 0.6614000201225281, 0.6394000053405762, 0.6376000046730042, 0.632099986076355, 0.6283000111579895, 0.6256999969482422, 0.6096000075340271, 0.6054999828338623, 0.6050999760627747, 0.6028000116348267, 0.5971999764442444, 0.5964000225067139, 0.5910000205039978, 0.5907999873161316, 0.5885999798774719, 0.5849999785423279, 0.5809999704360962, 0.5774000287055969, 0.57669997215271, 0.5703999996185303, 0.5703999996185303, 0.5687999725341797, 0.567799985408783, 0.5658000111579895, 0.5644999742507935, 0.5633000135421753, 0.5604000091552734, 0.5587000250816345, 0.5557000041007996, 0.5554999709129333, 0.555400013923645, -0.09520000219345093, -0.024800000712275505, -0.014600000344216824, 0.0052999998442828655, -0.16089999675750732, -0.3531000018119812, -0.31310001015663147, -0.3571999967098236, 0.29750001430511475, -0.14959999918937683, -0.47040000557899475, 0.17679999768733978, -0.00570000009611249, -0.06419999897480011, -0.15139999985694885, -0.40209999680519104, -0.11209999769926071, -0.44369998574256897, 0.031099999323487282, -0.3580000102519989, -0.4262999892234802, 0.00039999998989515007, 0.18559999763965607, -0.39489999413490295, -0.12080000340938568, -0.1371999979019165, -0.5493000149726868, -0.09510000050067902, -0.2806999981403351, -0.24959999322891235, 0.02979999966919422, -0.2378000020980835, -0.13259999454021454, -0.44040000438690186, -0.4878999888896942, -0.0982000008225441, -0.4426000118255615, -0.5170000195503235, -0.5458999872207642, 0.6450999975204468, 0.6342999935150146, 0.6330999732017517, 0.6305000185966492, 0.6237999796867371, 0.6236000061035156, 0.6230000257492065, 0.6191999912261963, 0.6128000020980835, 0.611299991607666, 0.6079999804496765, 0.6079000234603882, 0.6061000227928162, 0.6050999760627747, 0.6046000123023987, 0.6028000116348267, 0.6010000109672546, 0.5992000102996826, 0.598800003528595, 0.5967000126838684, 0.5958999991416931, 0.5957000255584717, 0.5957000255584717, 0.5956000089645386, 0.5952000021934509, 0.593999981880188, 0.5929999947547913, 0.5907999873161316, 0.5856000185012817, 0.585099995136261, 0.5849999785423279, 0.5845000147819519, 0.10970000177621841, -0.04490000009536743, 0.013199999928474426, -0.29249998927116394, -0.39010000228881836, -0.257999986410141, -0.19269999861717224, 0.00930000003427267, 0.12999999523162842, -0.5343000292778015, -0.39500001072883606, -0.38420000672340393, -0.5270000100135803, -0.4991999864578247, 0.005400000140070915, -0.004800000227987766, 0.042500000447034836, 0.0071000000461936, -0.002199999988079071, -0.19030000269412994, -0.310699999332428, -0.41780000925064087, -0.2741999924182892, 0.0066999997943639755, -0.3635999858379364, -0.4226999878883362, -0.04650000110268593, -0.10279999673366547, -0.21449999511241913, -0.1890999972820282, -0.43380001187324524, -0.7651000022888184, -0.5390999913215637, -0.27300000190734863, -0.3935000002384186, -0.2199999988079071, -0.23170000314712524, -0.23280000686645508, -0.21070000529289246, -0.29019999504089355, -0.3718999922275543, -0.5181999802589417], \"logprob\": [30.0, 29.0, 28.0, 27.0, 26.0, 25.0, 24.0, 23.0, 22.0, 21.0, 20.0, 19.0, 18.0, 17.0, 16.0, 15.0, 14.0, 13.0, 12.0, 11.0, 10.0, 9.0, 8.0, 7.0, 6.0, 5.0, 4.0, 3.0, 2.0, 1.0, -3.8861000537872314, -4.2083001136779785, -4.470799922943115, -5.030700206756592, -4.893099784851074, -4.734799861907959, -3.847399950027466, -5.64109992980957, -4.327700138092041, -4.054699897766113, -5.335700035095215, -4.907800197601318, -4.611000061035156, -4.787700176239014, -5.967299938201904, -4.410699844360352, -4.6483001708984375, -5.488100051879883, -3.9762001037597656, -5.570799827575684, -5.492700099945068, -5.860400199890137, -5.350599765777588, -5.170000076293945, -5.578700065612793, -5.763000011444092, -5.17549991607666, -5.667099952697754, -5.293099880218506, -5.293399810791016, -4.216000080108643, -4.635700225830078, -4.898799896240234, -4.934500217437744, -5.035799980163574, -5.197500228881836, -5.205699920654297, -5.207300186157227, -5.265699863433838, -5.303500175476074, -5.311299800872803, -7.053999900817871, -7.0970001220703125, -7.089600086212158, -7.0767998695373535, -7.097599983215332, -7.114500045776367, -7.104400157928467, -7.1128997802734375, -7.124300003051758, -7.122300148010254, -7.105899810791016, -7.111999988555908, -7.103099822998047, -7.120200157165527, -7.120500087738037, -7.139699935913086, -7.122900009155273, -7.131800174713135, -7.132599830627441, -7.130099773406982, -7.131199836730957, -7.11929988861084, -7.145199775695801, -7.136000156402588, -7.113800048828125, -7.139999866485596, -7.131999969482422, -7.12939977645874, -7.149700164794922, -7.12470006942749, -7.133600234985352, -4.311299800872803, -4.923600196838379, -5.22189998626709, -5.2982001304626465, -4.796599864959717, -4.200500011444092, -4.3678998947143555, -4.333499908447266, -6.311299800872803, -5.084199905395508, -4.356599807739258, -6.060200214385986, -5.591899871826172, -5.468599796295166, -5.348999977111816, -4.81279993057251, -5.486100196838379, -4.771500110626221, -5.841800212860107, -5.006400108337402, -4.897200107574463, -5.809100151062012, -6.207499980926514, -5.005899906158447, -5.570300102233887, -5.541200160980225, -4.757699966430664, -5.656199932098389, -5.3165998458862305, -5.42519998550415, -5.924699783325195, -5.503600120544434, -5.670400142669678, -5.2281999588012695, -5.222799777984619, -5.722799777984619, -5.473299980163574, -5.424900054931641, -5.4390997886657715, -7.079599857330322, -7.060800075531006, -7.062099933624268, -7.064300060272217, -7.116399765014648, -7.0802001953125, -7.0879998207092285, -7.084799766540527, -7.070700168609619, -7.095600128173828, -7.088900089263916, -7.09689998626709, -7.09089994430542, -7.096499919891357, -7.098299980163574, -7.1219000816345215, -7.128399848937988, -7.081600189208984, -7.102399826049805, -7.086599826812744, -7.10890007019043, -7.111000061035156, -7.098700046539307, -7.098299980163574, -7.110899925231934, -7.118800163269043, -7.143499851226807, -7.1031999588012695, -7.139500141143799, -7.099999904632568, -7.103300094604492, -7.109099864959717, -5.2947001457214355, -4.943699836730957, -5.192500114440918, -4.508600234985352, -4.366399765014648, -4.893700122833252, -5.127200126647949, -5.632699966430664, -5.962399959564209, -4.381800174713135, -4.722799777984619, -4.795000076293945, -4.5817999839782715, -4.707699775695801, -5.831699848175049, -5.815899848937988, -5.9182000160217285, -5.852099895477295, -5.837299823760986, -5.456099987030029, -5.218599796295166, -5.028900146484375, -5.310100078582764, -5.866300106048584, -5.151299953460693, -5.071100234985352, -5.792799949645996, -5.689000129699707, -5.518099784851074, -5.570400238037109, -5.168700218200684, -4.651400089263916, -5.0100998878479, -5.442999839782715, -5.2866997718811035, -5.531400203704834, -5.525199890136719, -5.5457000732421875, -5.614699840545654, -5.5833001136779785, -5.569499969482422, -5.548900127410889]}, \"token.table\": {\"Topic\": [1, 1, 1, 1, 1, 1, 1, 1, 1, 1, 1, 1, 1, 1, 1, 1, 1, 1, 1, 1, 1, 1, 1, 1, 1, 1, 1, 1, 1, 1, 1, 1, 1, 1, 1, 1, 1, 1, 1, 1, 1, 1, 1, 1, 1, 1, 1, 1, 1, 1, 1, 1, 1, 1, 1, 1, 1, 1, 1, 1, 1, 1, 1, 1, 1, 1, 1, 1, 1, 1, 1, 1, 1, 1, 1, 1, 1, 1, 1, 1, 1, 1, 1, 1, 1, 1, 1, 1, 1, 1, 1, 1, 1, 1, 1, 1, 1, 1, 1, 1, 1, 1, 1, 1, 1, 1, 1, 1, 1, 1, 1, 1, 1, 1, 1, 1, 1, 1, 1, 1, 1, 1, 1], \"Freq\": [0.7922620177268982, 0.7915336489677429, 0.8006638288497925, 0.7939614057540894, 0.7833312153816223, 0.9592801928520203, 0.9635689854621887, 0.7925663590431213, 0.8166597485542297, 0.8018625974655151, 0.9934772253036499, 1.0110563039779663, 0.9985736608505249, 1.024532675743103, 1.0048906803131104, 1.0038682222366333, 1.0162330865859985, 0.7968036532402039, 0.9730907678604126, 0.7988368272781372, 0.9619836807250977, 1.0080442428588867, 0.9618360996246338, 0.7831935882568359, 1.0156911611557007, 0.8037611246109009, 0.7977768778800964, 0.781200110912323, 0.9973082542419434, 0.7876777648925781, 0.9857072234153748, 1.0157192945480347, 0.9878104329109192, 0.9861814379692078, 0.9547502398490906, 1.0430116653442383, 0.7912515997886658, 0.797376811504364, 0.8051624298095703, 1.0207003355026245, 1.069732666015625, 1.0100821256637573, 1.0419758558273315, 1.0777243375778198, 1.0026233196258545, 0.7902750968933105, 0.7976180911064148, 0.9880331754684448, 0.7919491529464722, 0.8172310590744019, 0.7807703614234924, 1.0019441843032837, 0.9943273663520813, 0.9889103174209595, 1.0067906379699707, 0.957374095916748, 0.7938712239265442, 1.0187287330627441, 0.9998224377632141, 0.8011916279792786, 1.011084794998169, 0.7976292967796326, 0.8001797199249268, 0.7916114926338196, 1.0113509893417358, 0.9853548407554626, 0.8037956357002258, 0.7995935678482056, 1.0150498151779175, 1.0016263723373413, 1.0090347528457642, 1.0166728496551514, 0.8051947951316833, 0.7846240997314453, 0.9623253345489502, 0.9734047651290894, 0.9219950437545776, 0.9994941353797913, 0.8162770867347717, 1.004516363143921, 0.8030971884727478, 0.8201285004615784, 1.0230398178100586, 0.8087150454521179, 0.8002520203590393, 1.014999270439148, 0.9636387228965759, 0.977425754070282, 1.0122863054275513, 0.9620007276535034, 0.8183507323265076, 0.8034863471984863, 1.0159627199172974, 0.7924491763114929, 0.7986904978752136, 0.7916632890701294, 0.7869661450386047, 0.976207971572876, 0.7870849967002869, 1.0094578266143799, 1.033177375793457, 0.9791150689125061, 0.9781952500343323, 1.0317740440368652, 0.7869994044303894, 0.8112318515777588, 0.7995093464851379, 0.9956053495407104, 0.7994347810745239, 0.8066844344139099, 0.8290162086486816, 0.9983558058738708, 0.9869338274002075, 0.8036440014839172, 0.8075718283653259, 1.0250561237335205, 0.7793096899986267, 1.0170483589172363, 0.8068317770957947, 0.8259090781211853, 0.7990511059761047, 0.8163228631019592, 0.8016937971115112], \"Term\": [\"15\", \"29\\u00b0 0' 16\\\" leo\", \"4' 43\\\"\", \"5\", \"78\\u00b0 47' 30\\\"\", \"Ch\", \"In\", \"On\", \"accumul\", \"advis\", \"angl\", \"appar\", \"appear\", \"apsi\", \"but\", \"center\", \"chang\", \"chiefli\", \"comput\", \"congruent\", \"copernican\", \"demonstr\", \"describ\", \"design\", \"differ\", \"diverg\", \"earlier\", \"earth\", \"eccentr\", \"endpoint\", \"entir\", \"epicycl\", \"equal\", \"equant\", \"equat\", \"equival\", \"except\", \"extrem\", \"fashion\", \"first\", \"fix\", \"form\", \"greater\", \"heaven\", \"hypothesi\", \"impedi\", \"increment\", \"inequ\", \"intercept\", \"it\", \"later\", \"let\", \"line\", \"make\", \"much\", \"nearli\", \"neighborhood\", \"new\", \"observ\", \"onc\", \"one\", \"origin\", \"ought\", \"o\\u03c1\", \"parallel\", \"path\", \"period\", \"perplex\", \"place\", \"planet\", \"point\", \"posit\", \"postul\", \"practitioners4\", \"ptolema\", \"remain\", \"right\", \"second\", \"sever\", \"shall\", \"shift\", \"simul\", \"sinc\", \"sine\", \"someth\", \"therefor\", \"thi\", \"time\", \"travers\", \"true\", \"turn\", \"unmov\", \"use\", \"verg\", \"violent\", \"whenc\", \"within\", \"would\", \"\\u0393\\u03b3\", \"\\u03b1\", \"\\u03b1\\u03b2\", \"\\u03b1\\u03b3\", \"\\u03b2\", \"\\u03b2\\u03b3\", \"\\u03b2\\u03b3\\u03c6\", \"\\u03b2\\u03b7\", \"\\u03b2\\u03c75\", \"\\u03b3\", \"\\u03b3\\u03b9\", \"\\u03b3\\u03ba\\u03b6\", \"\\u03b3\\u03c3\", \"\\u03b4\", \"\\u03b5\", \"\\u03b5o\", \"\\u03b5\\u03bf\", \"\\u03b8\", \"\\u03b8\\u03c5\\u03b3\", \"\\u03b9\", \"\\u03bd\\u03c5\", \"\\u03c1\\u03b8\\u03bf\", \"\\u03c1\\u03c4\", \"\\u03c7\\u03b2\", \"\\u03c8\\u03b3\"]}, \"R\": 30, \"lambda.step\": 0.01, \"plot.opts\": {\"xlab\": \"PC1\", \"ylab\": \"PC2\"}, \"topic.order\": [3, 2, 1]};\n",
       "\n",
       "function LDAvis_load_lib(url, callback){\n",
       "  var s = document.createElement('script');\n",
       "  s.src = url;\n",
       "  s.async = true;\n",
       "  s.onreadystatechange = s.onload = callback;\n",
       "  s.onerror = function(){console.warn(\"failed to load library \" + url);};\n",
       "  document.getElementsByTagName(\"head\")[0].appendChild(s);\n",
       "}\n",
       "\n",
       "if(typeof(LDAvis) !== \"undefined\"){\n",
       "   // already loaded: just create the visualization\n",
       "   !function(LDAvis){\n",
       "       new LDAvis(\"#\" + \"ldavis_el1306017232374730402109834384\", ldavis_el1306017232374730402109834384_data);\n",
       "   }(LDAvis);\n",
       "}else if(typeof define === \"function\" && define.amd){\n",
       "   // require.js is available: use it to load d3/LDAvis\n",
       "   require.config({paths: {d3: \"https://cdnjs.cloudflare.com/ajax/libs/d3/3.5.5/d3.min\"}});\n",
       "   require([\"d3\"], function(d3){\n",
       "      window.d3 = d3;\n",
       "      LDAvis_load_lib(\"https://cdn.rawgit.com/bmabey/pyLDAvis/files/ldavis.v1.0.0.js\", function(){\n",
       "        new LDAvis(\"#\" + \"ldavis_el1306017232374730402109834384\", ldavis_el1306017232374730402109834384_data);\n",
       "      });\n",
       "    });\n",
       "}else{\n",
       "    // require.js not available: dynamically load d3 & LDAvis\n",
       "    LDAvis_load_lib(\"https://cdnjs.cloudflare.com/ajax/libs/d3/3.5.5/d3.min.js\", function(){\n",
       "         LDAvis_load_lib(\"https://cdn.rawgit.com/bmabey/pyLDAvis/files/ldavis.v1.0.0.js\", function(){\n",
       "                 new LDAvis(\"#\" + \"ldavis_el1306017232374730402109834384\", ldavis_el1306017232374730402109834384_data);\n",
       "            })\n",
       "         });\n",
       "}\n",
       "</script>"
      ],
      "text/plain": [
       "<IPython.core.display.HTML object>"
      ]
     },
     "execution_count": 108,
     "metadata": {},
     "output_type": "execute_result"
    }
   ],
   "source": [
    "pyLDAvis.display(vis) "
   ]
  },
  {
   "cell_type": "markdown",
   "metadata": {},
   "source": [
    "# CHAPTER 67"
   ]
  },
  {
   "cell_type": "code",
   "execution_count": 83,
   "metadata": {},
   "outputs": [
    {
     "data": {
      "text/html": [
       "\n",
       "<link rel=\"stylesheet\" type=\"text/css\" href=\"https://cdn.rawgit.com/bmabey/pyLDAvis/files/ldavis.v1.0.0.css\">\n",
       "\n",
       "\n",
       "<div id=\"ldavis_el988018638050887765953037289\"></div>\n",
       "<script type=\"text/javascript\">\n",
       "\n",
       "var ldavis_el988018638050887765953037289_data = {\"mdsDat\": {\"x\": [0.0044466646205007605, -0.0017075834984840372, -0.002739081122016724], \"y\": [0.00018740887960956405, -0.0013055508108223237, 0.0011181419312127601], \"topics\": [1, 2, 3], \"cluster\": [1, 1, 1], \"Freq\": [93.6503677368164, 3.7179198265075684, 2.631707191467285]}, \"tinfo\": {\"Category\": [\"Default\", \"Default\", \"Default\", \"Default\", \"Default\", \"Default\", \"Default\", \"Default\", \"Default\", \"Default\", \"Default\", \"Default\", \"Default\", \"Default\", \"Default\", \"Default\", \"Default\", \"Default\", \"Default\", \"Default\", \"Default\", \"Default\", \"Default\", \"Default\", \"Default\", \"Default\", \"Default\", \"Default\", \"Default\", \"Default\", \"Topic1\", \"Topic1\", \"Topic1\", \"Topic1\", \"Topic1\", \"Topic1\", \"Topic1\", \"Topic1\", \"Topic1\", \"Topic1\", \"Topic1\", \"Topic1\", \"Topic1\", \"Topic1\", \"Topic1\", \"Topic1\", \"Topic1\", \"Topic1\", \"Topic1\", \"Topic1\", \"Topic1\", \"Topic1\", \"Topic1\", \"Topic1\", \"Topic1\", \"Topic1\", \"Topic1\", \"Topic1\", \"Topic1\", \"Topic1\", \"Topic1\", \"Topic1\", \"Topic1\", \"Topic1\", \"Topic1\", \"Topic1\", \"Topic1\", \"Topic1\", \"Topic1\", \"Topic1\", \"Topic1\", \"Topic1\", \"Topic1\", \"Topic2\", \"Topic2\", \"Topic2\", \"Topic2\", \"Topic2\", \"Topic2\", \"Topic2\", \"Topic2\", \"Topic2\", \"Topic2\", \"Topic2\", \"Topic2\", \"Topic2\", \"Topic2\", \"Topic2\", \"Topic2\", \"Topic2\", \"Topic2\", \"Topic2\", \"Topic2\", \"Topic2\", \"Topic2\", \"Topic2\", \"Topic2\", \"Topic2\", \"Topic2\", \"Topic2\", \"Topic2\", \"Topic2\", \"Topic2\", \"Topic2\", \"Topic2\", \"Topic2\", \"Topic2\", \"Topic2\", \"Topic2\", \"Topic2\", \"Topic2\", \"Topic2\", \"Topic2\", \"Topic2\", \"Topic2\", \"Topic2\", \"Topic2\", \"Topic2\", \"Topic2\", \"Topic2\", \"Topic2\", \"Topic2\", \"Topic2\", \"Topic2\", \"Topic2\", \"Topic2\", \"Topic2\", \"Topic2\", \"Topic2\", \"Topic2\", \"Topic2\", \"Topic2\", \"Topic2\", \"Topic2\", \"Topic2\", \"Topic2\", \"Topic2\", \"Topic2\", \"Topic2\", \"Topic3\", \"Topic3\", \"Topic3\", \"Topic3\", \"Topic3\", \"Topic3\", \"Topic3\", \"Topic3\", \"Topic3\", \"Topic3\", \"Topic3\", \"Topic3\", \"Topic3\", \"Topic3\", \"Topic3\", \"Topic3\", \"Topic3\", \"Topic3\", \"Topic3\", \"Topic3\", \"Topic3\", \"Topic3\", \"Topic3\", \"Topic3\", \"Topic3\", \"Topic3\", \"Topic3\", \"Topic3\", \"Topic3\", \"Topic3\", \"Topic3\", \"Topic3\", \"Topic3\", \"Topic3\", \"Topic3\", \"Topic3\", \"Topic3\", \"Topic3\", \"Topic3\", \"Topic3\", \"Topic3\", \"Topic3\", \"Topic3\", \"Topic3\", \"Topic3\", \"Topic3\", \"Topic3\", \"Topic3\", \"Topic3\", \"Topic3\", \"Topic3\", \"Topic3\", \"Topic3\", \"Topic3\", \"Topic3\", \"Topic3\", \"Topic3\", \"Topic3\", \"Topic3\", \"Topic3\", \"Topic3\", \"Topic3\", \"Topic3\", \"Topic3\", \"Topic3\", \"Topic3\", \"Topic3\", \"Topic3\"], \"Freq\": [13.0, 12.0, 9.0, 11.0, 10.0, 8.0, 8.0, 7.0, 7.0, 7.0, 6.0, 7.0, 5.0, 5.0, 5.0, 6.0, 4.0, 5.0, 5.0, 5.0, 3.0, 3.0, 4.0, 4.0, 4.0, 4.0, 3.0, 3.0, 4.0, 3.0, 5.184722900390625, 4.790605068206787, 3.9877779483795166, 5.479139804840088, 5.4311203956604, 3.1125941276550293, 4.53953742980957, 11.30178165435791, 5.943334579467773, 2.944364070892334, 8.158424377441406, 6.665371417999268, 3.665709972381592, 2.9016594886779785, 3.6580114364624023, 3.6465275287628174, 13.17192554473877, 3.5636606216430664, 9.992021560668945, 2.134161949157715, 7.076422691345215, 2.8472580909729004, 2.8562874794006348, 2.856698751449585, 12.06451416015625, 7.060072422027588, 2.8194000720977783, 2.117920160293579, 2.1081454753875732, 7.110011577606201, 8.327051162719727, 5.558133602142334, 5.458970546722412, 4.7432732582092285, 6.020235061645508, 8.979804039001465, 3.4572856426239014, 4.013345241546631, 4.034420490264893, 4.606076717376709, 4.8116230964660645, 3.9709184169769287, 3.683356761932373, 0.06791111081838608, 0.06148643046617508, 0.06319227814674377, 0.06003739312291145, 0.058967225253582, 0.06003096327185631, 0.061884257942438126, 0.06099288910627365, 0.06344706565141678, 0.059639524668455124, 0.05940970405936241, 0.05996327847242355, 0.060601044446229935, 0.05721861496567726, 0.06010187417268753, 0.06113266572356224, 0.06082027778029442, 0.0604279525578022, 0.057587701827287674, 0.06121869385242462, 0.05722654238343239, 0.0574323907494545, 0.05973328277468681, 0.059300731867551804, 0.06026913598179817, 0.08725105226039886, 0.057575978338718414, 0.06130482256412506, 0.058549441397190094, 0.05825651437044144, 0.12052693963050842, 0.21806809306144714, 0.11886101216077805, 0.11031215637922287, 0.38323405385017395, 0.1398961991071701, 0.16037344932556152, 0.1757889837026596, 0.20350848138332367, 0.24299833178520203, 0.31286758184432983, 0.2730080485343933, 0.4416641592979431, 0.40113595128059387, 0.1311386376619339, 0.08538402616977692, 0.1545005738735199, 0.32708609104156494, 0.08850982040166855, 0.08700244873762131, 0.2557743787765503, 0.15517935156822205, 0.2268066704273224, 0.30875399708747864, 0.21438047289848328, 0.16733986139297485, 0.18081070482730865, 0.18042390048503876, 0.20950999855995178, 0.10824202001094818, 0.12098865211009979, 0.1361103504896164, 0.1202954426407814, 0.1515335589647293, 0.12296195328235626, 0.12095335125923157, 0.04456962272524834, 0.04461457580327988, 0.045010484755039215, 0.04547378420829773, 0.04494970291852951, 0.044130969792604446, 0.04542060196399689, 0.04388030245900154, 0.0441681370139122, 0.0428367480635643, 0.04369417950510979, 0.04319489374756813, 0.044293224811553955, 0.044194307178258896, 0.04126697778701782, 0.04433459788560867, 0.04375869780778885, 0.04303928092122078, 0.04219648614525795, 0.041595544666051865, 0.08557909727096558, 0.04234285280108452, 0.042972683906555176, 0.0414961501955986, 0.04324031621217728, 0.04290065914392471, 0.04239506274461746, 0.041873831301927567, 0.042495135217905045, 0.04155845195055008, 0.08854009211063385, 0.06172583997249603, 0.12589327991008759, 0.30265316367149353, 0.10689204186201096, 0.10258112102746964, 0.16079656779766083, 0.0632145032286644, 0.06308286637067795, 0.09562329202890396, 0.11497565358877182, 0.09728480130434036, 0.06324008852243423, 0.17406639456748962, 0.2605736553668976, 0.1409226655960083, 0.2138049304485321, 0.10990606993436813, 0.22620807588100433, 0.1621517688035965, 0.13558262586593628, 0.24077114462852478, 0.0776224136352539, 0.17259779572486877, 0.11841917037963867, 0.13517726957798004, 0.13602258265018463, 0.07947572320699692, 0.15144425630569458, 0.11233773082494736, 0.11110685765743256, 0.08748697489500046, 0.12502355873584747, 0.12066742777824402, 0.0945572704076767, 0.09614957869052887, 0.08777280896902084, 0.08854495733976364], \"Term\": [\"sun\", \"point\", \"node\", \"eccentr\", \"posit\", \"mar\", \"angl\", \"\\u03b2\", \"center\", \"line\", \"demonstr\", \"\\u03ba\", \"plane\", \"therefor\", \"Ch\", \"chapter\", \"intersect\", \"limit\", \"one\", \"instead\", \"observ\", \"eclipt\", \"It\", \"use\", \"fall\", \"diamet\", \"drawn\", \"but\", \"orb\", \"mean\", \"sinc\", \"orb\", \"\\u03b2\\u03c2\", \"instead\", \"one\", \"So\", \"diamet\", \"eccentr\", \"chapter\", \"perpendicular\", \"angl\", \"\\u03ba\", \"minut\", \"descend\", \"opposit\", \"diagram\", \"sun\", \"comput\", \"posit\", \"move\", \"\\u03b2\", \"100,000\", \"motion\", \"equal\", \"point\", \"center\", \"appar\", \"3600\", \"leo\", \"line\", \"mar\", \"Ch\", \"therefor\", \"limit\", \"demonstr\", \"node\", \"found\", \"It\", \"fall\", \"intersect\", \"plane\", \"use\", \"eclipt\", \"view\", \"purpos\", \"extend\", \"152,350\", \"soundli\", \"nearli\", \"argu\", \"treat\", \"sharpest\", \"chosen\", \"62\", \"44\\u00bd\", \"thing\", \"3\\u00bd\", \"magnitud\", \"caus\", \"orbit\", \"3\", \"common\", \"shall\", \"ptolema\", \"20\", \"valu\", \"mad\", \"accordingli\", \"anoth\", \"within\", \"what\", \"singl\", \"document\", \"happen\", \"intersect\", \"apsi\", \"ascend\", \"node\", \"mean\", \"observ\", \"use\", \"plane\", \"demonstr\", \"mar\", \"line\", \"sun\", \"point\", \"but\", \"degre\", \"eclipt\", \"posit\", \"NN\", \"digress\", \"angl\", \"fall\", \"center\", \"eccentr\", \"\\u03ba\", \"limit\", \"therefor\", \"Ch\", \"\\u03b2\", \"semidiamet\", \"appear\", \"It\", \"parallax\", \"chapter\", \"one\", \"instead\", \"view\", \"purpos\", \"152,350\", \"3\\u00bd\", \"soundli\", \"common\", \"PP\", \"ptolema\", \"suppos\", \"nearli\", \"2\\u00b0 3'\", \"20\", \"given\", \"enerv\", \"extend\", \"easili\", \"22\", \"smaller\", \"within\", \"chosen\", \"ascend\", \"ad\", \"solid\", \"62\", \"critic\", \"16\\u00b0 48' tauru\", \"make\", \"late\", \"agreement\", \"tack\", \"consid\", \"anoth\", \"observ\", \"node\", \"drawn\", \"but\", \"plane\", \"could\", \"P\", \"mean\", \"eclipt\", \"appear\", \"\\u03b2\\u03ba\", \"\\u03b2\", \"point\", \"therefor\", \"posit\", \"It\", \"eccentr\", \"center\", \"Ch\", \"sun\", \"present\", \"mar\", \"limit\", \"chapter\", \"demonstr\", \"52\", \"angl\", \"one\", \"instead\", \"take\", \"line\", \"\\u03ba\", \"fall\", \"diamet\", \"found\", \"intersect\"], \"Total\": [13.0, 12.0, 9.0, 11.0, 10.0, 8.0, 8.0, 7.0, 7.0, 7.0, 6.0, 7.0, 5.0, 5.0, 5.0, 6.0, 4.0, 5.0, 5.0, 5.0, 3.0, 3.0, 4.0, 4.0, 4.0, 4.0, 3.0, 3.0, 4.0, 3.0, 5.352865219116211, 4.986324310302734, 4.151671409606934, 5.71120023727417, 5.666419982910156, 3.24794340133667, 4.75011682510376, 11.836743354797363, 6.230045318603516, 3.0910913944244385, 8.565643310546875, 7.0004191398620605, 3.850497245788574, 3.050128698348999, 3.8454272747039795, 3.8333966732025146, 13.854360580444336, 3.754615306854248, 10.532913208007812, 2.2497050762176514, 7.459999084472656, 3.0017926692962646, 3.011497735977173, 3.0125954151153564, 12.726223945617676, 7.449030876159668, 2.9757912158966064, 2.235442876815796, 2.2255914211273193, 7.508042812347412, 8.812516212463379, 5.874139785766602, 5.780704021453857, 5.029032230377197, 6.399255752563477, 9.665691375732422, 3.655001401901245, 4.259361743927002, 4.2841572761535645, 4.912689685821533, 5.175928115844727, 4.229567527770996, 3.9528329372406006, 1.0154069662094116, 1.0923091173171997, 1.12735915184021, 1.1032395362854004, 1.1171929836273193, 1.1394641399383545, 1.1764689683914185, 1.1778903007507324, 1.225522518157959, 1.1648329496383667, 1.169262170791626, 1.1808786392211914, 1.1962363719940186, 1.129592776298523, 1.1882774829864502, 1.2090662717819214, 1.2059850692749023, 1.2038652896881104, 1.1474665403366089, 1.2298165559768677, 1.1560040712356567, 1.1649160385131836, 1.2135416269302368, 1.2075424194335938, 1.2320464849472046, 1.7850736379623413, 1.1797796487808228, 1.2616610527038574, 1.2092468738555908, 1.2082409858703613, 2.504730701446533, 4.912689685821533, 2.578873872756958, 2.3983891010284424, 9.665691375732422, 3.162494421005249, 3.7003400325775146, 4.229567527770996, 5.175928115844727, 6.399255752563477, 8.812516212463379, 7.508042812347412, 13.854360580444336, 12.726223945617676, 3.152611494064331, 1.848404884338379, 3.9528329372406006, 10.532913208007812, 1.9487884044647217, 1.927625060081482, 8.565643310546875, 4.2841572761535645, 7.449030876159668, 11.836743354797363, 7.0004191398620605, 5.029032230377197, 5.780704021453857, 5.874139785766602, 7.459999084472656, 2.67038893699646, 3.36336612701416, 4.259361743927002, 3.621424674987793, 6.230045318603516, 5.666419982910156, 5.71120023727417, 1.0154069662094116, 1.0923091173171997, 1.1032395362854004, 1.129592776298523, 1.1171929836273193, 1.1474665403366089, 1.1851860284805298, 1.1560040712356567, 1.1648669242858887, 1.1394641399383545, 1.1755692958831787, 1.1649160385131836, 1.2052414417266846, 1.2055498361587524, 1.12735915184021, 1.2136788368225098, 1.2194329500198364, 1.200881838798523, 1.1797796487808228, 1.1648329496383667, 2.3983891010284424, 1.1888957023620605, 1.208382487297058, 1.169262170791626, 1.2215508222579956, 1.2131510972976685, 1.2102824449539185, 1.201182246208191, 1.2201770544052124, 1.193358302116394, 2.5685319900512695, 1.7850736379623413, 3.7003400325775146, 9.665691375732422, 3.2876222133636475, 3.152611494064331, 5.175928115844727, 1.8603193759918213, 1.9113998413085938, 3.162494421005249, 3.9528329372406006, 3.36336612701416, 1.968090295791626, 7.459999084472656, 12.726223945617676, 5.780704021453857, 10.532913208007812, 4.259361743927002, 11.836743354797363, 7.449030876159668, 5.874139785766602, 13.854360580444336, 2.6534523963928223, 8.812516212463379, 5.029032230377197, 6.230045318603516, 6.399255752563477, 2.8715929985046387, 8.565643310546875, 5.666419982910156, 5.71120023727417, 3.609027624130249, 7.508042812347412, 7.0004191398620605, 4.2841572761535645, 4.75011682510376, 3.655001401901245, 4.912689685821533], \"loglift\": [30.0, 29.0, 28.0, 27.0, 26.0, 25.0, 24.0, 23.0, 22.0, 21.0, 20.0, 19.0, 18.0, 17.0, 16.0, 15.0, 14.0, 13.0, 12.0, 11.0, 10.0, 9.0, 8.0, 7.0, 6.0, 5.0, 4.0, 3.0, 2.0, 1.0, 0.03370000049471855, 0.025599999353289604, 0.025299999862909317, 0.02410000003874302, 0.02319999970495701, 0.023000000044703484, 0.0203000009059906, 0.01940000057220459, 0.01850000023841858, 0.017000000923871994, 0.016899999231100082, 0.016599999740719795, 0.01640000008046627, 0.015699999406933784, 0.015599999576807022, 0.015599999576807022, 0.01510000042617321, 0.013399999588727951, 0.012900000438094139, 0.012900000438094139, 0.012799999676644802, 0.01269999984651804, 0.01269999984651804, 0.012500000186264515, 0.012199999764561653, 0.012000000104308128, 0.011599999852478504, 0.011599999852478504, 0.01140000019222498, 0.011099999770522118, 0.008899999782443047, 0.010300000198185444, 0.008299999870359898, 0.0071000000461936, 0.0044999998062849045, -0.00800000037997961, 0.009999999776482582, 0.006099999882280827, 0.005499999970197678, 0.0012000000569969416, -0.007400000002235174, 0.0024999999441206455, -0.004999999888241291, 0.5871999859809875, 0.4147999882698059, 0.4106000065803528, 0.38100001215934753, 0.35040000081062317, 0.34860000014305115, 0.34700000286102295, 0.3312999904155731, 0.3310999870300293, 0.3199999928474426, 0.3122999966144562, 0.3116999864578247, 0.3093999922275543, 0.3093000054359436, 0.3077999949455261, 0.3073999881744385, 0.30489999055862427, 0.3001999855041504, 0.30000001192092896, 0.29179999232292175, 0.28630000352859497, 0.28220000863075256, 0.28060001134872437, 0.2782999873161316, 0.274399995803833, 0.2736000120639801, 0.2720000147819519, 0.2676999866962433, 0.26409998536109924, 0.2599000036716461, 0.2578999996185303, 0.17720000445842743, 0.21490000188350677, 0.21279999613761902, 0.06430000066757202, 0.1738000065088272, 0.15330000221729279, 0.11140000075101852, 0.05590000003576279, 0.0210999995470047, -0.04610000178217888, -0.022199999541044235, -0.15379999577999115, -0.16509999334812164, 0.11230000108480453, 0.21709999442100525, 0.05000000074505806, -0.18000000715255737, 0.20020000636577606, 0.193900004029274, -0.219200000166893, -0.026100000366568565, -0.1996999979019165, -0.35440000891685486, -0.1940000057220459, -0.11100000143051147, -0.1728000044822693, -0.19099999964237213, -0.28049999475479126, 0.08640000224113464, -0.032999999821186066, -0.15139999985694885, -0.11270000040531158, -0.4242999851703644, -0.5383999943733215, -0.5627999901771545, 0.5115000009536743, 0.43950000405311584, 0.438400000333786, 0.4250999987125397, 0.4244999885559082, 0.37940001487731934, 0.3758000135421753, 0.36629998683929443, 0.365200012922287, 0.35659998655319214, 0.3452000021934509, 0.34290000796318054, 0.33390000462532043, 0.3314000070095062, 0.33000001311302185, 0.3278999924659729, 0.3100999891757965, 0.30880001187324524, 0.3068000078201294, 0.3052000105381012, 0.3043999969959259, 0.3025999963283539, 0.3010999858379364, 0.29899999499320984, 0.2964000105857849, 0.2953999936580658, 0.28600001335144043, 0.28110000491142273, 0.2802000045776367, 0.2800999879837036, 0.26989999413490295, 0.27300000190734863, 0.25679999589920044, 0.1738000065088272, 0.21140000224113464, 0.21220000088214874, 0.16590000689029694, 0.2556000053882599, 0.2264000028371811, 0.1387999951839447, 0.10010000318288803, 0.09449999779462814, 0.1996999979019165, -0.12030000239610672, -0.25099998712539673, -0.07649999856948853, -0.2597000002861023, -0.019700000062584877, -0.3199999928474426, -0.18979999423027039, -0.13120000064373016, -0.41499999165534973, 0.10580000281333923, -0.2953999936580658, -0.1111999973654747, -0.19300000369548798, -0.21359999477863312, 0.05040000006556511, -0.3977999985218048, -0.2833000123500824, -0.30219998955726624, -0.08219999819993973, -0.4577000141143799, -0.42309999465942383, -0.17589999735355377, -0.26249998807907104, -0.09160000085830688, -0.3785000145435333], \"logprob\": [30.0, 29.0, 28.0, 27.0, 26.0, 25.0, 24.0, 23.0, 22.0, 21.0, 20.0, 19.0, 18.0, 17.0, 16.0, 15.0, 14.0, 13.0, 12.0, 11.0, 10.0, 9.0, 8.0, 7.0, 6.0, 5.0, 4.0, 3.0, 2.0, 1.0, -4.711900234222412, -4.790999889373779, -4.974400043487549, -4.656700134277344, -4.665500164031982, -5.2221999168396, -4.844799995422363, -3.9326999187469482, -4.575399875640869, -5.2778000831604, -4.258600234985352, -4.460700035095215, -5.058599948883057, -5.292399883270264, -5.060699939727783, -5.063899993896484, -3.779599905014038, -5.086900234222412, -4.0559000968933105, -5.599599838256836, -4.400899887084961, -5.311299800872803, -5.30810022354126, -5.308000087738037, -3.8673999309539795, -4.403200149536133, -5.321100234985352, -5.6072001457214355, -5.611800193786621, -4.396100044250488, -4.238100051879883, -4.642399787902832, -4.660399913787842, -4.800899982452393, -4.5625, -4.162700176239014, -5.117199897766113, -4.9679999351501465, -4.962800025939941, -4.8302998542785645, -4.786600112915039, -4.978600025177002, -5.053800106048584, -5.820799827575684, -5.920199871063232, -5.8927998542785645, -5.943999767303467, -5.961999893188477, -5.9440999031066895, -5.913700103759766, -5.928199768066406, -5.888800144195557, -5.950699806213379, -5.954500198364258, -5.945300102233887, -5.934700012207031, -5.992099761962891, -5.942999839782715, -5.926000118255615, -5.931099891662598, -5.9375, -5.9857001304626465, -5.924499988555908, -5.992000102996826, -5.988399982452393, -5.949100017547607, -5.956399917602539, -5.940199851989746, -5.570199966430664, -5.985899925231934, -5.923099994659424, -5.969099998474121, -5.974100112915039, -5.247099876403809, -4.654200077056885, -5.261000156402588, -5.335700035095215, -4.090400218963623, -5.098100185394287, -4.96150016784668, -4.869699954986572, -4.723299980163574, -4.545899868011475, -4.2932000160217285, -4.429500102996826, -3.9484000205993652, -4.0447001457214355, -5.162700176239014, -5.591800212860107, -4.998799800872803, -4.248799800872803, -5.5559000968933105, -5.5731000900268555, -4.494699954986572, -4.9944000244140625, -4.6149001121521, -4.30649995803833, -4.671199798583984, -4.919000148773193, -4.8414998054504395, -4.843699932098389, -4.694200038909912, -5.354599952697754, -5.243299961090088, -5.125500202178955, -5.249000072479248, -5.018199920654297, -5.227099895477295, -5.243599891662598, -5.896399974822998, -5.895400047302246, -5.886600017547607, -5.876299858093262, -5.887899875640869, -5.906300067901611, -5.877500057220459, -5.9120001792907715, -5.9054999351501465, -5.936100006103516, -5.916200160980225, -5.927700042724609, -5.902599811553955, -5.904900074005127, -5.973400115966797, -5.901700019836426, -5.91480016708374, -5.931399822235107, -5.951099872589111, -5.9654998779296875, -5.24399995803833, -5.947700023651123, -5.9328999519348145, -5.967899799346924, -5.926700115203857, -5.934599876403809, -5.946400165557861, -5.958799839019775, -5.9440999031066895, -5.966400146484375, -5.210000038146973, -5.570799827575684, -4.857999801635742, -3.9809000492095947, -5.021599769592285, -5.06279993057251, -4.61329984664917, -5.546899795532227, -5.548999786376953, -5.132999897003174, -4.948699951171875, -5.115799903869629, -5.546500205993652, -4.533999919891357, -4.1305999755859375, -4.745299816131592, -4.328400135040283, -4.993800163269043, -4.271999835968018, -4.604899883270264, -4.783899784088135, -4.20959997177124, -5.341599941253662, -4.542500019073486, -4.9191999435424805, -4.786900043487549, -4.780600070953369, -5.317999839782715, -4.6732001304626465, -4.9720001220703125, -4.982999801635742, -5.2220001220703125, -4.864999771118164, -4.900400161743164, -5.1442999839782715, -5.127600193023682, -5.218699932098389, -5.210000038146973]}, \"token.table\": {\"Topic\": [1, 1, 1, 1, 1, 1, 1, 1, 1, 1, 1, 1, 1, 1, 1, 1, 1, 1, 1, 1, 1, 1, 1, 1, 1, 1, 1, 1, 1, 1, 1, 1, 1, 1, 1, 1, 1, 1, 1, 1, 1, 1, 1, 1, 1, 1, 1, 1, 1, 1, 1, 1, 1, 1, 1, 1, 1, 1, 1, 1, 1, 1, 1, 1, 1, 1, 1, 1, 1, 1, 1, 1, 1, 1, 1, 1, 1, 1, 1, 1, 1, 1, 1, 1, 1, 1, 1, 1, 1, 1, 1, 1, 1, 1, 1, 1, 1, 1, 1, 1, 1, 1, 1, 1, 1, 1, 1, 1, 1], \"Freq\": [0.9994028210639954, 0.9064214825630188, 0.8242996335029602, 0.8584309816360474, 0.8200532793998718, 0.8506516814231873, 0.8306577205657959, 0.8946772813796997, 0.8852747678756714, 0.8468270897865295, 1.044716238975525, 0.8552401661872864, 1.0214262008666992, 0.9391078352928162, 1.0262787342071533, 1.0463535785675049, 0.8437494039535522, 0.9236614108085632, 0.8116576671600342, 0.8411166667938232, 0.8195531964302063, 0.9339637160301208, 1.1204019784927368, 1.008135199546814, 0.891963541507721, 0.7755323052406311, 0.8500011563301086, 0.8338930606842041, 0.9515920281410217, 0.8270845413208008, 0.939719557762146, 0.9630748629570007, 0.8584921956062317, 0.8714851140975952, 1.0653555393218994, 0.7786548733711243, 1.0750842094421387, 0.8186315298080444, 1.0820139646530151, 0.9376090168952942, 0.9835650324821472, 1.0434609651565552, 1.0526057481765747, 1.037546157836914, 0.8276494741439819, 0.9125136137008667, 0.8239412307739258, 0.9293096661567688, 1.0119324922561646, 0.8294970393180847, 0.995819091796875, 0.8870287537574768, 0.9336725473403931, 0.820793092250824, 0.8297092914581299, 0.7984890341758728, 0.8754727244377136, 1.0177724361419678, 0.832513153553009, 0.8986375331878662, 0.9942270517349243, 0.9323335289955139, 0.8281282782554626, 0.8415542840957642, 0.8262534141540527, 0.9077997207641602, 0.9486182928085327, 1.038826823234558, 0.9961820244789124, 0.8890054225921631, 0.8776054978370667, 0.9311284422874451, 0.8107362985610962, 0.8823913335800171, 1.0401965379714966, 1.0027426481246948, 0.8291976451873779, 0.8284032344818115, 0.9705309867858887, 0.966010332107544, 0.9429348707199097, 0.9494049549102783, 0.7537350058555603, 0.865048885345459, 0.9154917597770691, 0.7489545941352844, 0.8131294250488281, 0.815978467464447, 0.9340791702270508, 0.8269609808921814, 0.8327214121818542, 0.8275525569915771, 0.895100474357605, 0.938332736492157, 0.858467161655426, 0.8379712700843811, 0.8312488198280334, 0.8649465441703796, 0.8359552025794983, 0.8489754796028137, 0.9457231760025024, 0.8240343332290649, 0.9848268032073975, 0.7926058769226074, 0.8476158976554871, 0.9383379220962524, 1.0162135362625122, 0.9634673595428467, 0.9999400973320007], \"Term\": [\"100,000\", \"152,350\", \"16\\u00b0 48' tauru\", \"20\", \"22\", \"2\\u00b0 3'\", \"3\", \"3600\", \"3\\u00bd\", \"44\\u00bd\", \"52\", \"62\", \"Ch\", \"It\", \"NN\", \"P\", \"PP\", \"So\", \"accordingli\", \"ad\", \"agreement\", \"angl\", \"anoth\", \"appar\", \"appear\", \"apsi\", \"argu\", \"ascend\", \"but\", \"caus\", \"center\", \"chapter\", \"chosen\", \"common\", \"comput\", \"consid\", \"could\", \"critic\", \"degre\", \"demonstr\", \"descend\", \"diagram\", \"diamet\", \"digress\", \"document\", \"drawn\", \"easili\", \"eccentr\", \"eclipt\", \"enerv\", \"equal\", \"extend\", \"fall\", \"found\", \"given\", \"happen\", \"instead\", \"intersect\", \"late\", \"leo\", \"limit\", \"line\", \"mad\", \"magnitud\", \"make\", \"mar\", \"mean\", \"minut\", \"motion\", \"move\", \"nearli\", \"node\", \"observ\", \"one\", \"opposit\", \"orb\", \"orbit\", \"parallax\", \"perpendicular\", \"plane\", \"point\", \"posit\", \"present\", \"ptolema\", \"purpos\", \"semidiamet\", \"shall\", \"sharpest\", \"sinc\", \"singl\", \"smaller\", \"solid\", \"soundli\", \"sun\", \"suppos\", \"tack\", \"take\", \"therefor\", \"thing\", \"treat\", \"use\", \"valu\", \"view\", \"what\", \"within\", \"\\u03b2\", \"\\u03b2\\u03ba\", \"\\u03b2\\u03c2\", \"\\u03ba\"]}, \"R\": 30, \"lambda.step\": 0.01, \"plot.opts\": {\"xlab\": \"PC1\", \"ylab\": \"PC2\"}, \"topic.order\": [2, 3, 1]};\n",
       "\n",
       "function LDAvis_load_lib(url, callback){\n",
       "  var s = document.createElement('script');\n",
       "  s.src = url;\n",
       "  s.async = true;\n",
       "  s.onreadystatechange = s.onload = callback;\n",
       "  s.onerror = function(){console.warn(\"failed to load library \" + url);};\n",
       "  document.getElementsByTagName(\"head\")[0].appendChild(s);\n",
       "}\n",
       "\n",
       "if(typeof(LDAvis) !== \"undefined\"){\n",
       "   // already loaded: just create the visualization\n",
       "   !function(LDAvis){\n",
       "       new LDAvis(\"#\" + \"ldavis_el988018638050887765953037289\", ldavis_el988018638050887765953037289_data);\n",
       "   }(LDAvis);\n",
       "}else if(typeof define === \"function\" && define.amd){\n",
       "   // require.js is available: use it to load d3/LDAvis\n",
       "   require.config({paths: {d3: \"https://cdnjs.cloudflare.com/ajax/libs/d3/3.5.5/d3.min\"}});\n",
       "   require([\"d3\"], function(d3){\n",
       "      window.d3 = d3;\n",
       "      LDAvis_load_lib(\"https://cdn.rawgit.com/bmabey/pyLDAvis/files/ldavis.v1.0.0.js\", function(){\n",
       "        new LDAvis(\"#\" + \"ldavis_el988018638050887765953037289\", ldavis_el988018638050887765953037289_data);\n",
       "      });\n",
       "    });\n",
       "}else{\n",
       "    // require.js not available: dynamically load d3 & LDAvis\n",
       "    LDAvis_load_lib(\"https://cdnjs.cloudflare.com/ajax/libs/d3/3.5.5/d3.min.js\", function(){\n",
       "         LDAvis_load_lib(\"https://cdn.rawgit.com/bmabey/pyLDAvis/files/ldavis.v1.0.0.js\", function(){\n",
       "                 new LDAvis(\"#\" + \"ldavis_el988018638050887765953037289\", ldavis_el988018638050887765953037289_data);\n",
       "            })\n",
       "         });\n",
       "}\n",
       "</script>"
      ],
      "text/plain": [
       "PreparedData(topic_coordinates=              x         y  topics  cluster       Freq\n",
       "topic                                                \n",
       "1      0.004447  0.000187       1        1  93.650368\n",
       "2     -0.001708 -0.001306       2        1   3.717920\n",
       "0     -0.002739  0.001118       3        1   2.631707, topic_info=     Category       Freq       Term      Total  loglift  logprob\n",
       "term                                                            \n",
       "238   Default  13.000000        sun  13.000000  30.0000  30.0000\n",
       "199   Default  12.000000      point  12.000000  29.0000  29.0000\n",
       "180   Default   9.000000       node   9.000000  28.0000  28.0000\n",
       "119   Default  11.000000    eccentr  11.000000  27.0000  27.0000\n",
       "200   Default  10.000000      posit  10.000000  26.0000  26.0000\n",
       "169   Default   8.000000        mar   8.000000  25.0000  25.0000\n",
       "65    Default   8.000000       angl   8.000000  24.0000  24.0000\n",
       "273   Default   7.000000          β   7.000000  23.0000  23.0000\n",
       "86    Default   7.000000     center   7.000000  22.0000  22.0000\n",
       "164   Default   7.000000       line   7.000000  21.0000  21.0000\n",
       "106   Default   6.000000   demonstr   6.000000  20.0000  20.0000\n",
       "279   Default   7.000000          κ   7.000000  19.0000  19.0000\n",
       "196   Default   5.000000      plane   5.000000  18.0000  18.0000\n",
       "245   Default   5.000000   therefor   5.000000  17.0000  17.0000\n",
       "43    Default   5.000000         Ch   5.000000  16.0000  16.0000\n",
       "88    Default   6.000000    chapter   6.000000  15.0000  15.0000\n",
       "155   Default   4.000000  intersect   4.000000  14.0000  14.0000\n",
       "163   Default   5.000000      limit   5.000000  13.0000  13.0000\n",
       "186   Default   5.000000        one   5.000000  12.0000  12.0000\n",
       "154   Default   5.000000    instead   5.000000  11.0000  11.0000\n",
       "184   Default   3.000000     observ   3.000000  10.0000  10.0000\n",
       "120   Default   3.000000     eclipt   3.000000   9.0000   9.0000\n",
       "47    Default   4.000000         It   4.000000   8.0000   8.0000\n",
       "259   Default   4.000000        use   4.000000   7.0000   7.0000\n",
       "137   Default   4.000000       fall   4.000000   6.0000   6.0000\n",
       "111   Default   4.000000     diamet   4.000000   5.0000   5.0000\n",
       "116   Default   3.000000      drawn   3.000000   4.0000   4.0000\n",
       "83    Default   3.000000        but   3.000000   3.0000   3.0000\n",
       "188   Default   4.000000        orb   4.000000   2.0000   2.0000\n",
       "172   Default   3.000000       mean   3.000000   1.0000   1.0000\n",
       "...       ...        ...        ...        ...      ...      ...\n",
       "54     Topic3   0.063083          P   1.911400   0.2264  -5.5490\n",
       "172    Topic3   0.095623       mean   3.162494   0.1388  -5.1330\n",
       "120    Topic3   0.114976     eclipt   3.952833   0.1001  -4.9487\n",
       "68     Topic3   0.097285     appear   3.363366   0.0945  -5.1158\n",
       "274    Topic3   0.063240         βκ   1.968090   0.1997  -5.5465\n",
       "273    Topic3   0.174066          β   7.459999  -0.1203  -4.5340\n",
       "199    Topic3   0.260574      point  12.726224  -0.2510  -4.1306\n",
       "245    Topic3   0.140923   therefor   5.780704  -0.0765  -4.7453\n",
       "200    Topic3   0.213805      posit  10.532913  -0.2597  -4.3284\n",
       "47     Topic3   0.109906         It   4.259362  -0.0197  -4.9938\n",
       "119    Topic3   0.226208    eccentr  11.836743  -0.3200  -4.2720\n",
       "86     Topic3   0.162152     center   7.449031  -0.1898  -4.6049\n",
       "43     Topic3   0.135583         Ch   5.874140  -0.1312  -4.7839\n",
       "238    Topic3   0.240771        sun  13.854361  -0.4150  -4.2096\n",
       "203    Topic3   0.077622    present   2.653452   0.1058  -5.3416\n",
       "169    Topic3   0.172598        mar   8.812516  -0.2954  -4.5425\n",
       "163    Topic3   0.118419      limit   5.029032  -0.1112  -4.9192\n",
       "88     Topic3   0.135177    chapter   6.230045  -0.1930  -4.7869\n",
       "106    Topic3   0.136023   demonstr   6.399256  -0.2136  -4.7806\n",
       "32     Topic3   0.079476         52   2.871593   0.0504  -5.3180\n",
       "65     Topic3   0.151444       angl   8.565643  -0.3978  -4.6732\n",
       "186    Topic3   0.112338        one   5.666420  -0.2833  -4.9720\n",
       "154    Topic3   0.111107    instead   5.711200  -0.3022  -4.9830\n",
       "243    Topic3   0.087487       take   3.609028  -0.0822  -5.2220\n",
       "164    Topic3   0.125024       line   7.508043  -0.4577  -4.8650\n",
       "279    Topic3   0.120667          κ   7.000419  -0.4231  -4.9004\n",
       "137    Topic3   0.094557       fall   4.284157  -0.1759  -5.1443\n",
       "111    Topic3   0.096150     diamet   4.750117  -0.2625  -5.1276\n",
       "142    Topic3   0.087773      found   3.655001  -0.0916  -5.2187\n",
       "155    Topic3   0.088545  intersect   4.912690  -0.3785  -5.2100\n",
       "\n",
       "[207 rows x 6 columns], token_table=      Topic      Freq           Term\n",
       "term                                \n",
       "1         1  0.999403        100,000\n",
       "4         1  0.906421        152,350\n",
       "9         1  0.824300  16° 48' tauru\n",
       "18        1  0.858431             20\n",
       "19        1  0.820053             22\n",
       "23        1  0.850652          2° 3'\n",
       "25        1  0.830658              3\n",
       "26        1  0.894677           3600\n",
       "27        1  0.885275             3½\n",
       "29        1  0.846827            44½\n",
       "32        1  1.044716             52\n",
       "38        1  0.855240             62\n",
       "43        1  1.021426             Ch\n",
       "47        1  0.939108             It\n",
       "53        1  1.026279             NN\n",
       "54        1  1.046354              P\n",
       "55        1  0.843749             PP\n",
       "56        1  0.923661             So\n",
       "58        1  0.811658    accordingli\n",
       "61        1  0.841117             ad\n",
       "62        1  0.819553      agreement\n",
       "65        1  0.933964           angl\n",
       "66        1  1.120402          anoth\n",
       "67        1  1.008135          appar\n",
       "68        1  0.891964         appear\n",
       "70        1  0.775532           apsi\n",
       "73        1  0.850001           argu\n",
       "76        1  0.833893         ascend\n",
       "83        1  0.951592            but\n",
       "85        1  0.827085           caus\n",
       "...     ...       ...            ...\n",
       "196       1  0.966010          plane\n",
       "199       1  0.942935          point\n",
       "200       1  0.949405          posit\n",
       "203       1  0.753735        present\n",
       "206       1  0.865049        ptolema\n",
       "207       1  0.915492         purpos\n",
       "224       1  0.748955     semidiamet\n",
       "225       1  0.813129          shall\n",
       "226       1  0.815978       sharpest\n",
       "229       1  0.934079           sinc\n",
       "231       1  0.826961          singl\n",
       "232       1  0.832721        smaller\n",
       "233       1  0.827553          solid\n",
       "234       1  0.895100        soundli\n",
       "238       1  0.938333            sun\n",
       "239       1  0.858467         suppos\n",
       "242       1  0.837971           tack\n",
       "243       1  0.831249           take\n",
       "245       1  0.864947       therefor\n",
       "247       1  0.835955          thing\n",
       "251       1  0.848975          treat\n",
       "259       1  0.945723            use\n",
       "260       1  0.824034           valu\n",
       "261       1  0.984827           view\n",
       "266       1  0.792606           what\n",
       "270       1  0.847616         within\n",
       "273       1  0.938338              β\n",
       "274       1  1.016214             βκ\n",
       "276       1  0.963467             βς\n",
       "279       1  0.999940              κ\n",
       "\n",
       "[109 rows x 3 columns], R=30, lambda_step=0.01, plot_opts={'xlab': 'PC1', 'ylab': 'PC2'}, topic_order=[2, 3, 1])"
      ]
     },
     "execution_count": 83,
     "metadata": {},
     "output_type": "execute_result"
    }
   ],
   "source": [
    "vis"
   ]
  },
  {
   "cell_type": "code",
   "execution_count": 78,
   "metadata": {},
   "outputs": [],
   "source": [
    "pyLDAvis.save_html(vis,'vis.html') # You can open saved html file  (vis_01)in your browser to see the result. "
   ]
  },
  {
   "cell_type": "markdown",
   "metadata": {},
   "source": [
    "<font size= \"4\">\n",
    "How can we find that how many topics are proper for the model?\n",
    "<font/>"
   ]
  },
  {
   "cell_type": "markdown",
   "metadata": {},
   "source": [
    "## **Coherence Metric**"
   ]
  },
  {
   "cell_type": "code",
   "execution_count": null,
   "metadata": {},
   "outputs": [],
   "source": []
  }
 ],
 "metadata": {
  "kernelspec": {
   "display_name": "Python 3",
   "language": "python",
   "name": "python3"
  },
  "language_info": {
   "codemirror_mode": {
    "name": "ipython",
    "version": 3
   },
   "file_extension": ".py",
   "mimetype": "text/x-python",
   "name": "python",
   "nbconvert_exporter": "python",
   "pygments_lexer": "ipython3",
   "version": "3.7.1"
  }
 },
 "nbformat": 4,
 "nbformat_minor": 2
}
