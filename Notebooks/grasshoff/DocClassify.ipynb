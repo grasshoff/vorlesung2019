{
 "cells": [
  {
   "cell_type": "code",
   "execution_count": 1,
   "metadata": {
    "collapsed": true
   },
   "outputs": [],
   "source": [
    "import pandas as pd\n",
    "import numpy as np\n",
    "import re\n",
    "# from unidecode import unidecode\n",
    "import spacy\n",
    "from spacy.lang.en import English\n",
    "from spacy import displacy\n",
    "nlp = spacy.load('en_core_web_md', disable=[\"ner\", \"textcat\", \"entity_ruler\", \"merge_noun_chunks\", \"merge_entities\", \"merge_subtokens\"])"
   ]
  },
  {
   "cell_type": "code",
   "execution_count": 2,
   "metadata": {},
   "outputs": [
    {
     "data": {
      "text/plain": [
       "0    (Analysing, the, photometrical, data, taken, f...\n",
       "1    (Solar, system, ,, exoplanet, ,, and, stellar,...\n",
       "dtype: object"
      ]
     },
     "execution_count": 2,
     "metadata": {},
     "output_type": "execute_result"
    }
   ],
   "source": [
    "dfExoplanetsDoc=pd.read_pickle(\"/tmp/df_doc\")\n",
    "dfExoplanetsDoc.head(2)"
   ]
  },
  {
   "cell_type": "code",
   "execution_count": 3,
   "metadata": {},
   "outputs": [
    {
     "data": {
      "text/plain": [
       "10483"
      ]
     },
     "execution_count": 3,
     "metadata": {},
     "output_type": "execute_result"
    }
   ],
   "source": [
    "len(dfExoplanetsDoc)"
   ]
  },
  {
   "cell_type": "code",
   "execution_count": 4,
   "metadata": {},
   "outputs": [
    {
     "data": {
      "text/plain": [
       "We investigate the role that planet detection order plays in the Kepler planet detection pipeline. The Kepler pipeline typically detects planets in order of descending signal strength (MES). We find that the detectability of transits experiences an additional 5.5 per cent and 15.9 per cent efficiency loss, for periods &lt;200 days and &gt;200 days respectively, when detected after the strongest signal transit in a multiple-planet system. We provide a method for determining the transit probability for multiple-planet systems by marginalizing over the empirical Kepler dataset. Furthermore, because detection efficiency appears to be a function of detection order, we discuss the sorting statistics that affect the radius and period distributions of each detection order. Our occurrence rate dataset includes radius measurement updates from the California Kepler Survey (CKS), Gaia DR2, and asteroseismology. Our population model is consistent with the results of Burke et al. (2015), but now includes an improved estimate of the multiplicity distribution. From our obtained model parameters, we find that only 4.0± 4.6(( per cent)) of solar-like GK dwarfs harbour one planet. This excess is smaller than prior studies and can be well modelled with a modified Poisson distribution, suggesting that the Kepler Dichotomy can be accounted for by including the effects of multiplicity on detection efficiency. Using our modified Poisson model, we expect the average number of planets is 5.86 ± 0.18 planets per GK dwarf within the radius and period parameter space of Kepler."
      ]
     },
     "execution_count": 4,
     "metadata": {},
     "output_type": "execute_result"
    }
   ],
   "source": [
    "dfExoplanetsDoc[3]"
   ]
  },
  {
   "cell_type": "code",
   "execution_count": 5,
   "metadata": {},
   "outputs": [],
   "source": [
    "sentences = []\n",
    "for doc in dfExoplanetsDoc:\n",
    "    sent = []\n",
    "    for sent in doc.sents:\n",
    "        if 'detect' in sent.string:\n",
    "            sentences.append(sent.string.strip())"
   ]
  },
  {
   "cell_type": "code",
   "execution_count": 6,
   "metadata": {},
   "outputs": [
    {
     "data": {
      "text/plain": [
       "18407"
      ]
     },
     "execution_count": 6,
     "metadata": {},
     "output_type": "execute_result"
    }
   ],
   "source": [
    "len(sentences)"
   ]
  },
  {
   "cell_type": "code",
   "execution_count": 7,
   "metadata": {},
   "outputs": [
    {
     "data": {
      "text/plain": [
       "['The Zoo helped reveal that blue galaxies turn into red galaxies via two possible paths galaxies might run out of supply of gas and shut off star formation slowly; or they could merge with one another and turn off star formation by destroying the gas reservoir rapidly!The Galaxy Zoo project also led to the discoveries of:Green Peas: they are the living fossils of galaxy evolution; compact, bright, green galaxies that are actively forming starsOverlapping galaxies: they are pairs of galaxies that are separated physically but happen to lie on the same line of sight; they provide excellent laboratories for studying dust extinctionHannys Voorwerp: an unusual object named after Hanny the discoverer, which is believed to be the first detection of quasar light echoThe idea of Galaxy Zoo in getting help from citizen scientists was further extended into an award-winningproject known as the Zooniverse, which is an online platform for streamlined crowd-sourcing for scientific research that requires human input.']"
      ]
     },
     "execution_count": 7,
     "metadata": {},
     "output_type": "execute_result"
    }
   ],
   "source": [
    "SentenceLengths = [len(sent) for sent in sentences]\n",
    "[sent for sent in sentences if len(sent) == max(SentenceLengths)]"
   ]
  },
  {
   "cell_type": "markdown",
   "metadata": {},
   "source": [
    "# Words"
   ]
  },
  {
   "cell_type": "code",
   "execution_count": 8,
   "metadata": {},
   "outputs": [
    {
     "data": {
      "text/plain": [
       "Solar system, exoplanet, and stellar science rely on transits, eclipses, and occultations for dynamical and physical insight. Often, the geometry of these configurations are modelled by assuming a particular viewpoint. Here, instead, I derive user-friendly formulae from first principles independent of viewpoint and in three dimensions. I generalize the results of Veras &amp; Breedt by (i) characterizing three-body systems that are in transit but are not necessarily perfectly aligned and by (ii) incorporating motion. For a given snapshot in time, I derive explicit criteria to determine whether a system is in or out of transit, if an eclipse is total or annular, and expressions for the size of the shadow, including their extreme values and a condition for engulfment. These results are exact. For orbital motion, I instead obtain approximate results. By assuming fixed orbits, I derive a single implicit algebraic relation that can be solved to obtain the frequency and duration of transit events - including ingresses and egresses - for combinations of moons, planets, and stars on arbitrarily inclined circular orbits; the eccentric case requires the solution of Kepler's equation but remains algebraic. I prove that a transit shadow - whether umbral, antumbral, or penumbral - takes the shape of a parabolic cylinder, and finally present geometric constraints on Earth-based observers hoping to detect a three-body syzygy (or perfect alignment) - either in extrasolar systems or within the Solar system - potentially as a double annular eclipse."
      ]
     },
     "execution_count": 8,
     "metadata": {},
     "output_type": "execute_result"
    }
   ],
   "source": [
    "ab1=dfExoplanetsDoc[1]\n",
    "ab1"
   ]
  },
  {
   "cell_type": "code",
   "execution_count": 9,
   "metadata": {},
   "outputs": [
    {
     "data": {
      "text/plain": [
       "Often, the geometry of these configurations are modelled by assuming a particular viewpoint."
      ]
     },
     "execution_count": 9,
     "metadata": {},
     "output_type": "execute_result"
    }
   ],
   "source": [
    "s1=list(ab1.sents)[1]\n",
    "s1"
   ]
  },
  {
   "cell_type": "code",
   "execution_count": 10,
   "metadata": {},
   "outputs": [
    {
     "data": {
      "text/plain": [
       "geometry"
      ]
     },
     "execution_count": 10,
     "metadata": {},
     "output_type": "execute_result"
    }
   ],
   "source": [
    "s1[3]"
   ]
  },
  {
   "cell_type": "code",
   "execution_count": 11,
   "metadata": {},
   "outputs": [
    {
     "data": {
      "text/plain": [
       "'We calculate the radiometric sensitivity of the SKA stages and components, finding that SKA2-Mid can expect to detect transits around the very nearest solar-like stars and many cool dwarfs.'"
      ]
     },
     "execution_count": 11,
     "metadata": {},
     "output_type": "execute_result"
    }
   ],
   "source": [
    "s3=sentences[3]\n",
    "s3"
   ]
  },
  {
   "cell_type": "code",
   "execution_count": 12,
   "metadata": {},
   "outputs": [
    {
     "data": {
      "text/plain": [
       "Reference star differential imaging (RDI) is a powerful strategy for high contrast imaging. Using example observations taken with the vortex coronagraph mode of Keck/NIRC2 in L^prime band, we demonstrate that RDI provides improved sensitivity to point sources at small angular separations compared to angular differential imaging (ADI). Applying RDI to images of the low-mass stellar companions HIP 79124 C (192 mas separation, Delta L^prime=4.01) and HIP 78233 B (141 mas separation, Delta L^prime=4.78), the latter a first imaging detection, increases the significance of their detections by up to a factor of 5 with respect to ADI. We compare methods for reference frames selection and find that pre-selection of frames improves detection significance of point sources by up to a factor of 3. In addition, we use observations of the circumstellar disks around MWC 758 and 2MASS J16042165-2130284 to show that RDI allows for accurate mapping of scattered light distributions without self-subtraction artifacts."
      ]
     },
     "execution_count": 12,
     "metadata": {},
     "output_type": "execute_result"
    }
   ],
   "source": [
    "dfExoplanetsDoc[63]"
   ]
  },
  {
   "cell_type": "code",
   "execution_count": 13,
   "metadata": {},
   "outputs": [
    {
     "name": "stdout",
     "output_type": "stream",
     "text": [
      "we we 1.0\n",
      "we Manhattan 0.064423345\n",
      "we detect 0.27373844\n",
      "we atom 0.10940252\n",
      "we bomb 0.25137678\n",
      "Manhattan we 0.064423345\n",
      "Manhattan Manhattan 1.0\n",
      "Manhattan detect 0.035825163\n",
      "Manhattan atom 0.13849689\n",
      "Manhattan bomb 0.18976961\n",
      "detect we 0.27373844\n",
      "detect Manhattan 0.035825163\n",
      "detect detect 1.0\n",
      "detect atom 0.27305707\n",
      "detect bomb 0.23849952\n",
      "atom we 0.10940252\n",
      "atom Manhattan 0.13849689\n",
      "atom detect 0.27305707\n",
      "atom atom 1.0\n",
      "atom bomb 0.33266583\n",
      "bomb we 0.25137678\n",
      "bomb Manhattan 0.18976961\n",
      "bomb detect 0.23849952\n",
      "bomb atom 0.33266583\n",
      "bomb bomb 1.0\n"
     ]
    }
   ],
   "source": [
    "tokens=nlp(\"we Manhattan detect atom bomb\")\n",
    "for token1 in tokens:\n",
    "    for token2 in tokens:\n",
    "        print(token1.text,token2.text,token1.similarity(token2))"
   ]
  },
  {
   "cell_type": "markdown",
   "metadata": {},
   "source": [
    "## Formating the annotated sentences to tuples"
   ]
  },
  {
   "cell_type": "code",
   "execution_count": 15,
   "metadata": {},
   "outputs": [],
   "source": [
    "dfExoplanetsNASA = pd.read_json('./data/dfExoplanetsNASAdetected100rand_v2.json', orient = 'table')"
   ]
  },
  {
   "cell_type": "code",
   "execution_count": 16,
   "metadata": {},
   "outputs": [],
   "source": [
    "dfExoplanetsNASAtupDetected = []\n",
    "for i in range(len(dfExoplanetsNASA)):\n",
    "    dfExoplanetsNASAtupDetected.append((dfExoplanetsNASA.sent[i], dfExoplanetsNASA.tagDetected[i], dfExoplanetsNASA.label[i]))"
   ]
  },
  {
   "cell_type": "code",
   "execution_count": 17,
   "metadata": {},
   "outputs": [
    {
     "data": {
      "text/plain": [
       "('In this work, we present our statistical analysis of the outliers thus detected.',\n",
       " 'VBD',\n",
       " 'None')"
      ]
     },
     "execution_count": 17,
     "metadata": {},
     "output_type": "execute_result"
    }
   ],
   "source": [
    "dfExoplanetsNASAtupDetected[65]"
   ]
  },
  {
   "cell_type": "code",
   "execution_count": null,
   "metadata": {},
   "outputs": [],
   "source": []
  }
 ],
 "metadata": {
  "kernelspec": {
   "display_name": "Python 3",
   "language": "python",
   "name": "python3"
  },
  "language_info": {
   "codemirror_mode": {
    "name": "ipython",
    "version": 3
   },
   "file_extension": ".py",
   "mimetype": "text/x-python",
   "name": "python",
   "nbconvert_exporter": "python",
   "pygments_lexer": "ipython3",
   "version": "3.7.3"
  }
 },
 "nbformat": 4,
 "nbformat_minor": 2
}
