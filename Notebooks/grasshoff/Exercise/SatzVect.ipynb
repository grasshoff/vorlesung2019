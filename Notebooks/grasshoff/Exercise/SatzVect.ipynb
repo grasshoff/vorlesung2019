{
 "cells": [
  {
   "cell_type": "markdown",
   "metadata": {},
   "source": [
    "# Scikit-learn compatible vectorizers built with spaCy NLP famework"
   ]
  },
  {
   "cell_type": "markdown",
   "metadata": {},
   "source": [
    "In this notebook I will show you basic examples of how and when to use customized classes and vectorizers inspired by ```scikit-learn```'s ```CountVectorizer```, which add more accurate tokenization and lemmatization funcitonality with the help of <a href='https://spacy.io/'>spaCy</a> NLP framework. Simple <a href='https://keras.io/preprocessing/text/'>Keras</a>-like punctuation removal support is also added."
   ]
  },
  {
   "cell_type": "markdown",
   "metadata": {},
   "source": [
    "Let's do the imports first.  "
   ]
  },
  {
   "cell_type": "code",
   "execution_count": 1,
   "metadata": {},
   "outputs": [],
   "source": [
    "import spacy\n",
    "from vectorizers import SpacyTokenizer\n",
    "from vectorizers import SpacyLemmatizer\n",
    "from vectorizers import SpacyPipeProcessor\n",
    "from vectorizers import SpacyTokenCountVectorizer\n",
    "from vectorizers import SpacyLemmaCountVectorizer\n",
    "from vectorizers import SpacyWord2VecVectorizer"
   ]
  },
  {
   "cell_type": "code",
   "execution_count": 2,
   "metadata": {},
   "outputs": [],
   "source": [
    "import pandas as pd\n",
    "import os\n",
    "from sklearn.feature_selection import chi2\n",
    "import numpy as np\n",
    "%matplotlib inline  "
   ]
  },
  {
   "cell_type": "code",
   "execution_count": 3,
   "metadata": {},
   "outputs": [],
   "source": [
    "df = pd.read_json('./data/dfExoplanetsNASAdetected100rand_v2.json', orient = 'table')\n",
    "df = df[['sent', 'label']]"
   ]
  },
  {
   "cell_type": "code",
   "execution_count": 4,
   "metadata": {},
   "outputs": [
    {
     "data": {
      "text/html": [
       "<div>\n",
       "<style scoped>\n",
       "    .dataframe tbody tr th:only-of-type {\n",
       "        vertical-align: middle;\n",
       "    }\n",
       "\n",
       "    .dataframe tbody tr th {\n",
       "        vertical-align: top;\n",
       "    }\n",
       "\n",
       "    .dataframe thead th {\n",
       "        text-align: right;\n",
       "    }\n",
       "</style>\n",
       "<table border=\"1\" class=\"dataframe\">\n",
       "  <thead>\n",
       "    <tr style=\"text-align: right;\">\n",
       "      <th></th>\n",
       "      <th>sent</th>\n",
       "      <th>label</th>\n",
       "    </tr>\n",
       "  </thead>\n",
       "  <tbody>\n",
       "    <tr>\n",
       "      <th>0</th>\n",
       "      <td>We detected visual companions within 1'' for 5...</td>\n",
       "      <td>discovery</td>\n",
       "    </tr>\n",
       "    <tr>\n",
       "      <th>1</th>\n",
       "      <td>Using these data and photometry from the Spitz...</td>\n",
       "      <td>discovery</td>\n",
       "    </tr>\n",
       "    <tr>\n",
       "      <th>2</th>\n",
       "      <td>Of the over 800 exoplanets detected to date, o...</td>\n",
       "      <td>None</td>\n",
       "    </tr>\n",
       "  </tbody>\n",
       "</table>\n",
       "</div>"
      ],
      "text/plain": [
       "                                                sent      label\n",
       "0  We detected visual companions within 1'' for 5...  discovery\n",
       "1  Using these data and photometry from the Spitz...  discovery\n",
       "2  Of the over 800 exoplanets detected to date, o...       None"
      ]
     },
     "execution_count": 4,
     "metadata": {},
     "output_type": "execute_result"
    }
   ],
   "source": [
    "df.head(3)"
   ]
  },
  {
   "cell_type": "markdown",
   "metadata": {},
   "source": [
    "Here we will load ```en_core_web_md``` model for spaCy and create some example single-sentence documents."
   ]
  },
  {
   "cell_type": "code",
   "execution_count": 5,
   "metadata": {},
   "outputs": [
    {
     "data": {
      "text/plain": [
       "[\"We detected visual companions within 1'' for 5 stars, between 1'' and 2'' for 7 stars, and between 2'' and 4'' for 15 stars.\",\n",
       " 'Using these data and photometry from the Spitzer Space Telescope, we have identified members with infrared excess emission from circumstellar disks and have estimated the evolutionary stages of the detected disks, which include 31 new full disks and 16 new candidate transitional, evolved, evolved transitional, and debris disks.',\n",
       " 'Of the over 800 exoplanets detected to date, over half are on non-circular orbits, with eccentricities as high as 0.93.',\n",
       " 'We find that for these false positive scenarios, CO at 2.35 μm, CO_2 at 2.0 and 4.3 μm, and O_4 at 1.27 μm are all stronger features in transmission than O_2/O_3 and could be detected with S/Ns ≳ 3 for an Earth-size planet orbiting a nearby M dwarf star with as few as 10 transits, assuming photon-limited noise.',\n",
       " 'We present two exoplanets detected at Keck Observatory.',\n",
       " 'This disfavours the possibility of GI-caused spiral structure in systems with q&lt;0.25 being detected in relatively short integration times, such as those found in the DSHARP ALMA survey (Andrews et al. 2018; Huang et al. 2018).',\n",
       " 'Planets lying in this zone are then more easily detected with the radial-velocity method [3], the most successful in detecting exoplanets.',\n",
       " 'The 2004 flux density was 0.05 Jy, about an order of magnitude lower than the single 2003 burst and the five bursts detected in 2002.',\n",
       " 'This statement is supported by a figure given in the article, which shows a primary signal with a depth of 6 mmag, detected with 4σ confidence and a possible secondary signal with a depth of 2 mmag.',\n",
       " 'Combining these instruments with powerful telescopes, astronomers have detected thousands of exoplanets.',\n",
       " 'Here we present a catalog of 164 single transit and eclipse candidates detected during a comprehensive survey of all currently available K2 data.',\n",
       " 'The detected planets shepherd the outer cool debris belt.',\n",
       " 'The spectral type is estimated to be M7 (̃2700 K), and thus no methane absorption is detected in the H band.',\n",
       " 'The presence of the close-in massive planet could also be an interpretation for the high level of stellar activity detected.',\n",
       " 'The instrument uses two emCCD cameras providing simultaneous dual-color observations help to characterize detected companions.',\n",
       " 'We further discuss a speckle subtraction and suppression technique that fully takes advantage of spectral and time-domain information on quasi-static speckles to measure the highest-fidelity photometry as well as accurate astrometry of detected companions.',\n",
       " 'In this framework, asteroseismic studies represent an excellent tool to determine the structural differences between stars with and without detected planets.',\n",
       " 'The detected induced magnetic field infers a saline ocean layer.',\n",
       " 'Differential astrometry measurements from the Palomar High-precision Astrometric Search for Exoplanet Systems (PHASES) are used to constrain the astrometric orbit of the previously known lsim2 day subsystem in the triple system 63 Gem A and have detected a previously unknown two-year Keplerian wobble superimposed on the visual orbit of the much longer period (213 years) binary system HR 2896.',\n",
       " 'Just two of 10 extrasolar planets found by microlensing have been detected by the planetary caustic, despite the higher probability of planet detection relative to the central caustic, which has been responsible for four extrasolar planet detections.',\n",
       " 'The structures detected at millimeter wavelengths could be gaps in the distributions of large grains on the disk midplane caused by planets not massive enough to fully open the gaps.',\n",
       " 'A distinct supersoft X-ray component was also detected at optical maximum, which probably arises from an optically thick boundary layer.',\n",
       " 'The detected signals are dominated by events with relatively low signal-to-noise ratios and by events with relatively short periods.',\n",
       " 'Shadows have been detected in several protoplanetary disks, suggesting that misalignment in disks is not uncommon.',\n",
       " 'Supplemental slit-scanning spectroscopy using adaptive optics was performed within 0.38\" of HD 141569A to search for extended emission from H^+_3, but no emission was detected.',\n",
       " 'On July 16, 2009, we detected a 3σ emission whose light curve is consistent with an eclipse when the planet passed behind the star.',\n",
       " 'While the discovery of α Cen Bb has shown that terrestrial planets can be detected in solar-type binary stars using current observational facilities, it remains to be shown whether this is also the case for Earth analogs in HZs.',\n",
       " 'We measure the flux of the four stellar emission features detected in the COS spectrum (C II, C III, C IV, Si IV).',\n",
       " 'No multiplets were detected leaving EC 01541-1409 as yet another rich p-mode sdB pulsator without these features, limiting observational constraints on pulsation modes.',\n",
       " 'For the closest planets detected so far ( ≲ 0.05 AU), the effect on the radius is of the order of 1 to 10%, by no means a negligible effect, enhancing the puzzling problem of the anomalously large bloated planets.',\n",
       " 'We also discuss the usefulness of this method given that some planets might be not detected, but still affect the overall stability of the system.',\n",
       " 'No absorptions are detected for other lines.',\n",
       " 'The orbital companion of Fomalhaut, Fomalhaut b, is detected in multi-color, coronagraphic observations acquired with the Hubble Space Telescope using the high-resolution channel of the Advanced Camera for Surveys.',\n",
       " 'The DCO^+ line is detected in the HD 169142 disk with a total integrated line flux of 730 ± 73 mJy km s^-1.',\n",
       " 'Ground- and space-based planet searches employing radial velocity techniques and transit photometry have detected thousands of planet-hosting stars in the Milky Way.',\n",
       " 'While the original Kepler mission detected systems with up to seven planets, K2 had yet to detect systems with more than three candidates until now.',\n",
       " 'GJ 832b has the second largest angular distance from its star among radial velocity detected exoplanets (0.69 arcsec) making it a potentially interesting target for future direct detection.',\n",
       " 'Subsequently, the number of planets detected by microlensing is increasing.',\n",
       " 'We detected a p.d.f. pattern that represents an upturn followed by an overshooting peak spanning P̃',\n",
       " '≲20 M _Jup possess actively accreting subdisks detected via Paβ line emission, which represents a lower limit on the prevalence of circumplanetary disks in general, as some are expected to be in a quiescent phase of accretion.',\n",
       " 'Using design reference missions and other simulations, we explore the potential of TPF-O to find planets in the habitable zone around their central stars, to spectrally characterize the atmospheres of detected planets, and to obtain rudimentary information about their orbits.',\n",
       " 'With the rapid developments in the exoplanet field, more and more terrestrial exoplanets are being detected.',\n",
       " 'Kepler-47 is the first multi-body circumbinary planetary system detected by the Kepler space telescope.',\n",
       " 'A solution to both of these problems is to use the science camera of an ExAO system as a wavefront sensor to perform a fast measurement and correction method to remove these aberrations as soon as they are detected.',\n",
       " 'Although microlensing searches have so far detected only a handful of planets, these have already changed our understanding of planet formation beyond the snow line.',\n",
       " 'Over 100 extrasolar planets have been already detected, the vast majority of which by radial velocity measurements.',\n",
       " 'Finally, the planet-star contrast must exceed a certain minimum value in order for the planet to be detected.',\n",
       " 'The debris disk of HIP 73145 has been detected in scattered light in the near-IR, and at far-IR wavelengths before, but no substructure has been seen so far.',\n",
       " 'The combined spectrum is very different from the predictions of cloud-free models for hot Jupiters: it is dominated by Rayleigh scattering over the whole visible and near-infrared range, the only detected features being narrow sodium and potassium lines.',\n",
       " 'We have detected and confirmed radio flares from the T6.5 dwarf',\n",
       " 'We present the discovery of two planetary systems consisting of a Saturn-mass planet orbiting an M-dwarf, which were detected in faint microlensing events OGLE-2013-BLG-0132 and OGLE-2013-BLG-1721.',\n",
       " 'Based on previous ground-based cometary observations, this was an unexpected finding, as was the significant amount of O2 detected.',\n",
       " 'Our work addresses analysis of stellar reflex motion data, where a planet is detected by observing the \"wobble\" of its host star as it responds to the gravitational tug of the orbiting planet.',\n",
       " 'We have detected rotation in seven dM1e stars and 11 dM1 stars and upper limits for 20 other dM1 stars.',\n",
       " 'Horologii is quite extended; it is detected to a distance of about 65 AU, i.e. 10,000 million km, from the star.',\n",
       " 'The PLATO space-based data will be complemented by ground-based follow-up observations, in particular very precise radial velocity monitoring, which will be used to confirm the planetary nature of the detected events and to measure the planet masses.',\n",
       " 'Using the cumulative catalog of planets detected by the NASA Kepler mission, we reconstruct the intrinsic occurrence of Earth- to Neptune-size (1-4 R _⊕) planets and their distributions with radius and orbital period.',\n",
       " 'Intranight variability was not detected from all of these light curves.',\n",
       " 'We detected four out-of-transit u’ band events consistent with stellar flares.',\n",
       " 'In the case of HD 142245, we found evidence that the detected companion is actually a close binary itself with a projected separation of only about 4 au, i.e. HD 142245 might be a hierarchical triple stellar system, which hosts an exoplanet, a new member in the short list of such systems, presently known.',\n",
       " 'In the last decade, the number of detected exoplanets has increased to over thousand confirmed planets and more as yet unconfirmed planet candidates.',\n",
       " 'A variety of terrestrial planets with different physical parameters and exotic atmospheres might plausibly exist outside our Solar System, waiting to be detected by the next generation of space-exploration missions.',\n",
       " 'For 759 exoplanets detected by radial velocities method we found that distances of exoplanets from central star comply in general Schmidt law and these distances depend on the stellar surface temperature.',\n",
       " 'In addition, a substantial number of variable stars have been detected.',\n",
       " 'arXiv:1006.2815) is being continuously augmented as more data are collected and EBs are detected at longer periods.',\n",
       " 'In this work, we present our statistical analysis of the outliers thus detected.',\n",
       " 'Our historical monitoring has detected high-velocity spectral features (~13,000 km s^-1) in 2011 September, one year before the current SN-like event.',\n",
       " 'The properties of the detected systems are described, emphasizing 1) the questions set by the peculiarities of the new planets (large mass, large eccentricity, small separation) and the proposed answers and 2) the first statistical trends pointed out from the sample gathered so far (clear different formation processes for planet and binaries from the planetary mass and orbital-element distributions, the high metal content of stars hosting planets).',\n",
       " 'Images were taken at a minimum of two observation epochs to check whether detected companion candidates are co-moving with the primary stars.',\n",
       " 'An initial census of large ring systems can be carried out using high-precision follow-up observations of detected transits and by the upcoming NASA Kepler mission.',\n",
       " 'A considerable change in Blazhko effect for V25 has been detected.',\n",
       " 'Of the 1919 main-sequence exoplanet hosts analyzed, robust rotation periods were detected for 737.',\n",
       " 'Likewise, Ganymede observations were attempted at 3.6 μm by the Spitzer Space Telescope, but it was not detected, suggesting a significant wavelength dependence.',\n",
       " 'Aims: We present here the list of planetary transit candidates detected in the first long run observed by CoRoT: LRc01, towards the galactic center in the direction of Aquila, which lasted from May to October 2007.',\n",
       " 'Given high metallicity, and the trend indicating that multiple systems are rich in low-mass companions, this system is likely to host additional low-mass planets in its habitable zone that can be readily detected with state-of-the-art optical and near-infrared RV measurements.',\n",
       " 'This provokes the question of whether exoplanets have aurorae, and whether their aurorae can be detected.',\n",
       " 'The pre-transit signal is again detected in the Balmer lines but with variable strength and timing, suggesting that the bow shock geometry reported in our previous work does not describe the signal from the latest transit.',\n",
       " 'Furthermore, our analysis indicates that C_2H_2 is the major absorber in the atmosphere of WASP-12b and the absorption features detected near 1.6 and 8',\n",
       " 'We have detected the surface magnetic field as circularly polarized signatures in the 819 nm sodium lines when an active emission region faced the Earth.',\n",
       " 'giant planet at ∼0.5 AU, but HD 80607 has no detected planets.',\n",
       " 'We found that about half the stars are too faint for the granulation background to be reliably detected above the white noise.',\n",
       " 'If a roughly Earth-sized, Earth-mass moon would be detected in orbit around a giant planet, and if the planet-moon duet would orbit in the stellar HZ, then it will be crucial to recover the orbital history of the moon.',\n",
       " 'These exotic stars have a binary frequency of (at least) 80%, more than three times that detected for stars in the remainder of the sample.',\n",
       " 'If the two-planet model is true, then this is the third multiple-planet system detected using the microlensing method and the first multiple-planet system detected in low-magnification events, which are dominant in the microlensing survey data.',\n",
       " 'Our results can thus be used to constrain the icy/volatile phase composition of cold planets evidenced by microlensing surveys, hypothetical ocean planets, and carbon planets, which could be detected by COROT or Kepler.',\n",
       " 'Brigham Young University (BYU) has been assisting in the ground-based follow-up of extrasolar planet candidates detected by the KELT telescope using our 0.4-meter and 0.9-meter telescopes.',\n",
       " 'Since this is the first planet detected orbiting a fast rotating star, the uncertainties in both the radial-velocity measurements and the planetary mass are larger than for most other planets discovered to date.',\n",
       " 'Nearly all of the 100 plus extrasolar planets discovered to date have been detected via precise (3--6 m s^-1) radial velocity measurements of solar-type stars.',\n",
       " 'We find that a close-in Jupiter-like planet orbiting at 0.05 AU presents a radio power that is ~5 orders of magnitude larger than the one observed in Jupiter, which suggests that the stellar wind from a young star has the potential to generate strong planetary radio emission that could be detected in the near future with LOFAR.',\n",
       " 'Kepler has detected numerous exoplanet transits by measuring stellar light in a single visible-wavelength band.',\n",
       " 'We report the discovery of six new substellar companions of main-sequence stars, detected by multiple Doppler measurements with the instrument HARPS installed on the ESO 3.6m telescope, La Silla, Chile.',\n",
       " 'We find that stellar wind drag can dominate the circumstellar grain removal and plausibly explain the dearth of M dwarf systems older than 10 Myr with currently detected infrared excesses.',\n",
       " 'The transmission signal of oxygen from an Earth-twin orbiting a small red dwarf star is only a factor of three smaller than that of carbon monoxide recently detected in the hot Jupiter τ Boötis b, albeit such a star will be orders of magnitude fainter.',\n",
       " 'The observing campaigns presented here reveal no pulsations other than the initially detected frequency.',\n",
       " 'The VIRT has begun reacting autonomously to the gamma-ray coordinates network (GCN) alerts in 2017 and, despite the challenges presented to the Caribbean region by hurricanes Irma and Maria, was a participant in the follow-up campaign of GW170817, the first source simultaneously detected in gravitational waves and electromagnetic waves.',\n",
       " 'We find that such objects can feasibly be detected by a ground-based transit survey if their formation frequency is high and if correlated noise can be controlled to sub-milli-magnitude levels.',\n",
       " 'The analysis of the combined HIRES/HARPS data again only reliably detected the 5.37 and 12.9 d periods.',\n",
       " 'We report absorption in atomic magnesium (Mg i), while no signal has been detected in the lines of singly ionized magnesium (Mg ii).',\n",
       " 'We searched for a transit signature of HD 77338b but none was detected.',\n",
       " 'We detected possible periodic variations in the duration of the exoplanet transit across the stellar disk with time for HAT-P-12b that could be caused by variations in orbital inclination.']"
      ]
     },
     "execution_count": 5,
     "metadata": {},
     "output_type": "execute_result"
    }
   ],
   "source": [
    "raw_documents = df['sent'].tolist()\n",
    "raw_documents"
   ]
  },
  {
   "cell_type": "code",
   "execution_count": 6,
   "metadata": {},
   "outputs": [
    {
     "name": "stdout",
     "output_type": "stream",
     "text": [
      "CPU times: user 15.4 s, sys: 540 ms, total: 16 s\n",
      "Wall time: 16.9 s\n"
     ]
    }
   ],
   "source": [
    "%%time\n",
    "nlp = spacy.load('en_core_web_md')"
   ]
  },
  {
   "cell_type": "markdown",
   "metadata": {},
   "source": [
    "# Example documents\n",
    "raw_documents = [\"The quick brown fox jumps over the lazy dog.\",\n",
    "                 \"This is a test sentence.\",\n",
    "                 \"This sentence contains exclamation mark, comma and (round brackets)!\"]"
   ]
  },
  {
   "cell_type": "markdown",
   "metadata": {},
   "source": [
    "We'll start with the helper classes for tokenization and lemmatization."
   ]
  },
  {
   "cell_type": "markdown",
   "metadata": {},
   "source": [
    "### SpacyTokenizer"
   ]
  },
  {
   "cell_type": "markdown",
   "metadata": {},
   "source": [
    "```SpacyTokenizer``` uses spaCy <a href='https://spacy.io/usage/linguistic-features#section-tokenization'>tokenizer</a> for document tokenization. When ```join_str``` argument is set to ```None```, the result will be a ```list``` of lists of strings (tokens). Punctuation from the ```ignore_chars``` argument will be removed in every separate token, but empty tokens will be kept. You can also specify ```batch_size``` and ```n_threads``` arguments for parallel processing of large datasets. Lowercasing isn't performed."
   ]
  },
  {
   "cell_type": "code",
   "execution_count": 7,
   "metadata": {},
   "outputs": [
    {
     "name": "stdout",
     "output_type": "stream",
     "text": [
      "['We', 'detected', 'visual', 'companions', 'within', '1', '', '', 'for', '5', 'stars', '', 'between', '1', '', '', 'and', '2', '', '', 'for', '7', 'stars', '', 'and', 'between', '2', '', '', 'and', '4', '', '', 'for', '15', 'stars', '']\n",
      "['Using', 'these', 'data', 'and', 'photometry', 'from', 'the', 'Spitzer', 'Space', 'Telescope', '', 'we', 'have', 'identified', 'members', 'with', 'infrared', 'excess', 'emission', 'from', 'circumstellar', 'disks', 'and', 'have', 'estimated', 'the', 'evolutionary', 'stages', 'of', 'the', 'detected', 'disks', '', 'which', 'include', '31', 'new', 'full', 'disks', 'and', '16', 'new', 'candidate', 'transitional', '', 'evolved', '', 'evolved', 'transitional', '', 'and', 'debris', 'disks', '']\n",
      "['Of', 'the', 'over', '800', 'exoplanets', 'detected', 'to', 'date', '', 'over', 'half', 'are', 'on', 'non', '', 'circular', 'orbits', '', 'with', 'eccentricities', 'as', 'high', 'as', '093', '']\n",
      "['We', 'find', 'that', 'for', 'these', 'false', 'positive', 'scenarios', '', 'CO', 'at', '235', 'μm', '', 'CO2', 'at', '20', 'and', '43', 'μm', '', 'and', 'O4', 'at', '127', 'μm', 'are', 'all', 'stronger', 'features', 'in', 'transmission', 'than', 'O2O3', 'and', 'could', 'be', 'detected', 'with', 'S', '', 'Ns', '≳', '3', 'for', 'an', 'Earth', '', 'size', 'planet', 'orbiting', 'a', 'nearby', 'M', 'dwarf', 'star', 'with', 'as', 'few', 'as', '10', 'transits', '', 'assuming', 'photon', '', 'limited', 'noise', '']\n",
      "['We', 'present', 'two', 'exoplanets', 'detected', 'at', 'Keck', 'Observatory', '']\n",
      "['This', 'disfavours', 'the', 'possibility', 'of', 'GI', '', 'caused', 'spiral', 'structure', 'in', 'systems', 'with', 'qlt025', 'being', 'detected', 'in', 'relatively', 'short', 'integration', 'times', '', 'such', 'as', 'those', 'found', 'in', 'the', 'DSHARP', 'ALMA', 'survey', '', 'Andrews', 'et', 'al', '', '2018', '', 'Huang', 'et', 'al', '', '2018', '', '']\n",
      "['Planets', 'lying', 'in', 'this', 'zone', 'are', 'then', 'more', 'easily', 'detected', 'with', 'the', 'radial', '', 'velocity', 'method', '', '3', '', '', 'the', 'most', 'successful', 'in', 'detecting', 'exoplanets', '']\n",
      "['The', '2004', 'flux', 'density', 'was', '005', 'Jy', '', 'about', 'an', 'order', 'of', 'magnitude', 'lower', 'than', 'the', 'single', '2003', 'burst', 'and', 'the', 'five', 'bursts', 'detected', 'in', '2002', '']\n",
      "['This', 'statement', 'is', 'supported', 'by', 'a', 'figure', 'given', 'in', 'the', 'article', '', 'which', 'shows', 'a', 'primary', 'signal', 'with', 'a', 'depth', 'of', '6', 'mmag', '', 'detected', 'with', '4σ', 'confidence', 'and', 'a', 'possible', 'secondary', 'signal', 'with', 'a', 'depth', 'of', '2', 'mmag', '']\n",
      "['Combining', 'these', 'instruments', 'with', 'powerful', 'telescopes', '', 'astronomers', 'have', 'detected', 'thousands', 'of', 'exoplanets', '']\n",
      "['Here', 'we', 'present', 'a', 'catalog', 'of', '164', 'single', 'transit', 'and', 'eclipse', 'candidates', 'detected', 'during', 'a', 'comprehensive', 'survey', 'of', 'all', 'currently', 'available', 'K2', 'data', '']\n",
      "['The', 'detected', 'planets', 'shepherd', 'the', 'outer', 'cool', 'debris', 'belt', '']\n",
      "['The', 'spectral', 'type', 'is', 'estimated', 'to', 'be', 'M7', '', '̃2700', 'K', '', '', 'and', 'thus', 'no', 'methane', 'absorption', 'is', 'detected', 'in', 'the', 'H', 'band', '']\n",
      "['The', 'presence', 'of', 'the', 'close', '', 'in', 'massive', 'planet', 'could', 'also', 'be', 'an', 'interpretation', 'for', 'the', 'high', 'level', 'of', 'stellar', 'activity', 'detected', '']\n",
      "['The', 'instrument', 'uses', 'two', 'emCCD', 'cameras', 'providing', 'simultaneous', 'dual', '', 'color', 'observations', 'help', 'to', 'characterize', 'detected', 'companions', '']\n",
      "['We', 'further', 'discuss', 'a', 'speckle', 'subtraction', 'and', 'suppression', 'technique', 'that', 'fully', 'takes', 'advantage', 'of', 'spectral', 'and', 'time', '', 'domain', 'information', 'on', 'quasi', '', 'static', 'speckles', 'to', 'measure', 'the', 'highest', '', 'fidelity', 'photometry', 'as', 'well', 'as', 'accurate', 'astrometry', 'of', 'detected', 'companions', '']\n",
      "['In', 'this', 'framework', '', 'asteroseismic', 'studies', 'represent', 'an', 'excellent', 'tool', 'to', 'determine', 'the', 'structural', 'differences', 'between', 'stars', 'with', 'and', 'without', 'detected', 'planets', '']\n",
      "['The', 'detected', 'induced', 'magnetic', 'field', 'infers', 'a', 'saline', 'ocean', 'layer', '']\n",
      "['Differential', 'astrometry', 'measurements', 'from', 'the', 'Palomar', 'High', '', 'precision', 'Astrometric', 'Search', 'for', 'Exoplanet', 'Systems', '', 'PHASES', '', 'are', 'used', 'to', 'constrain', 'the', 'astrometric', 'orbit', 'of', 'the', 'previously', 'known', 'lsim2', 'day', 'subsystem', 'in', 'the', 'triple', 'system', '63', 'Gem', 'A', 'and', 'have', 'detected', 'a', 'previously', 'unknown', 'two', '', 'year', 'Keplerian', 'wobble', 'superimposed', 'on', 'the', 'visual', 'orbit', 'of', 'the', 'much', 'longer', 'period', '', '213', 'years', '', 'binary', 'system', 'HR', '2896', '']\n",
      "['Just', 'two', 'of', '10', 'extrasolar', 'planets', 'found', 'by', 'microlensing', 'have', 'been', 'detected', 'by', 'the', 'planetary', 'caustic', '', 'despite', 'the', 'higher', 'probability', 'of', 'planet', 'detection', 'relative', 'to', 'the', 'central', 'caustic', '', 'which', 'has', 'been', 'responsible', 'for', 'four', 'extrasolar', 'planet', 'detections', '']\n",
      "['The', 'structures', 'detected', 'at', 'millimeter', 'wavelengths', 'could', 'be', 'gaps', 'in', 'the', 'distributions', 'of', 'large', 'grains', 'on', 'the', 'disk', 'midplane', 'caused', 'by', 'planets', 'not', 'massive', 'enough', 'to', 'fully', 'open', 'the', 'gaps', '']\n",
      "['A', 'distinct', 'supersoft', 'X', '', 'ray', 'component', 'was', 'also', 'detected', 'at', 'optical', 'maximum', '', 'which', 'probably', 'arises', 'from', 'an', 'optically', 'thick', 'boundary', 'layer', '']\n",
      "['The', 'detected', 'signals', 'are', 'dominated', 'by', 'events', 'with', 'relatively', 'low', 'signal', '', 'to', '', 'noise', 'ratios', 'and', 'by', 'events', 'with', 'relatively', 'short', 'periods', '']\n",
      "['Shadows', 'have', 'been', 'detected', 'in', 'several', 'protoplanetary', 'disks', '', 'suggesting', 'that', 'misalignment', 'in', 'disks', 'is', 'not', 'uncommon', '']\n",
      "['Supplemental', 'slit', '', 'scanning', 'spectroscopy', 'using', 'adaptive', 'optics', 'was', 'performed', 'within', '038', '', 'of', 'HD', '141569A', 'to', 'search', 'for', 'extended', 'emission', 'from', 'H3', '', 'but', 'no', 'emission', 'was', 'detected', '']\n",
      "['On', 'July', '16', '', '2009', '', 'we', 'detected', 'a', '3σ', 'emission', 'whose', 'light', 'curve', 'is', 'consistent', 'with', 'an', 'eclipse', 'when', 'the', 'planet', 'passed', 'behind', 'the', 'star', '']\n",
      "['While', 'the', 'discovery', 'of', 'α', 'Cen', 'Bb', 'has', 'shown', 'that', 'terrestrial', 'planets', 'can', 'be', 'detected', 'in', 'solar', '', 'type', 'binary', 'stars', 'using', 'current', 'observational', 'facilities', '', 'it', 'remains', 'to', 'be', 'shown', 'whether', 'this', 'is', 'also', 'the', 'case', 'for', 'Earth', 'analogs', 'in', 'HZs', '']\n",
      "['We', 'measure', 'the', 'flux', 'of', 'the', 'four', 'stellar', 'emission', 'features', 'detected', 'in', 'the', 'COS', 'spectrum', '', 'C', 'II', '', 'C', 'III', '', 'C', 'IV', '', 'Si', 'IV', '', '']\n",
      "['No', 'multiplets', 'were', 'detected', 'leaving', 'EC', '01541', '', '1409', 'as', 'yet', 'another', 'rich', 'p', '', 'mode', 'sdB', 'pulsator', 'without', 'these', 'features', '', 'limiting', 'observational', 'constraints', 'on', 'pulsation', 'modes', '']\n",
      "['For', 'the', 'closest', 'planets', 'detected', 'so', 'far', '', '≲', '005', 'AU', '', '', 'the', 'effect', 'on', 'the', 'radius', 'is', 'of', 'the', 'order', 'of', '1', 'to', '10', '', '', 'by', 'no', 'means', 'a', 'negligible', 'effect', '', 'enhancing', 'the', 'puzzling', 'problem', 'of', 'the', 'anomalously', 'large', 'bloated', 'planets', '']\n",
      "['We', 'also', 'discuss', 'the', 'usefulness', 'of', 'this', 'method', 'given', 'that', 'some', 'planets', 'might', 'be', 'not', 'detected', '', 'but', 'still', 'affect', 'the', 'overall', 'stability', 'of', 'the', 'system', '']\n",
      "['No', 'absorptions', 'are', 'detected', 'for', 'other', 'lines', '']\n",
      "['The', 'orbital', 'companion', 'of', 'Fomalhaut', '', 'Fomalhaut', 'b', '', 'is', 'detected', 'in', 'multi', '', 'color', '', 'coronagraphic', 'observations', 'acquired', 'with', 'the', 'Hubble', 'Space', 'Telescope', 'using', 'the', 'high', '', 'resolution', 'channel', 'of', 'the', 'Advanced', 'Camera', 'for', 'Surveys', '']\n",
      "['The', 'DCO', 'line', 'is', 'detected', 'in', 'the', 'HD', '169142', 'disk', 'with', 'a', 'total', 'integrated', 'line', 'flux', 'of', '730', '±', '73', 'mJy', 'km', 's1', '']\n",
      "['Ground', 'and', 'space', '', 'based', 'planet', 'searches', 'employing', 'radial', 'velocity', 'techniques', 'and', 'transit', 'photometry', 'have', 'detected', 'thousands', 'of', 'planet', '', 'hosting', 'stars', 'in', 'the', 'Milky', 'Way', '']\n",
      "['While', 'the', 'original', 'Kepler', 'mission', 'detected', 'systems', 'with', 'up', 'to', 'seven', 'planets', '', 'K2', 'had', 'yet', 'to', 'detect', 'systems', 'with', 'more', 'than', 'three', 'candidates', 'until', 'now', '']\n",
      "['GJ', '832b', 'has', 'the', 'second', 'largest', 'angular', 'distance', 'from', 'its', 'star', 'among', 'radial', 'velocity', 'detected', 'exoplanets', '', '069', 'arcsec', '', 'making', 'it', 'a', 'potentially', 'interesting', 'target', 'for', 'future', 'direct', 'detection', '']\n",
      "['Subsequently', '', 'the', 'number', 'of', 'planets', 'detected', 'by', 'microlensing', 'is', 'increasing', '']\n",
      "['We', 'detected', 'a', 'pdf', '', 'pattern', 'that', 'represents', 'an', 'upturn', 'followed', 'by', 'an', 'overshooting', 'peak', 'spanning', 'P̃']\n",
      "['≲20', 'M', '', 'Jup', 'possess', 'actively', 'accreting', 'subdisks', 'detected', 'via', 'Paβ', 'line', 'emission', '', 'which', 'represents', 'a', 'lower', 'limit', 'on', 'the', 'prevalence', 'of', 'circumplanetary', 'disks', 'in', 'general', '', 'as', 'some', 'are', 'expected', 'to', 'be', 'in', 'a', 'quiescent', 'phase', 'of', 'accretion', '']\n",
      "['Using', 'design', 'reference', 'missions', 'and', 'other', 'simulations', '', 'we', 'explore', 'the', 'potential', 'of', 'TPF', '', 'O', 'to', 'find', 'planets', 'in', 'the', 'habitable', 'zone', 'around', 'their', 'central', 'stars', '', 'to', 'spectrally', 'characterize', 'the', 'atmospheres', 'of', 'detected', 'planets', '', 'and', 'to', 'obtain', 'rudimentary', 'information', 'about', 'their', 'orbits', '']\n",
      "['With', 'the', 'rapid', 'developments', 'in', 'the', 'exoplanet', 'field', '', 'more', 'and', 'more', 'terrestrial', 'exoplanets', 'are', 'being', 'detected', '']\n",
      "['Kepler47', 'is', 'the', 'first', 'multi', '', 'body', 'circumbinary', 'planetary', 'system', 'detected', 'by', 'the', 'Kepler', 'space', 'telescope', '']\n",
      "['A', 'solution', 'to', 'both', 'of', 'these', 'problems', 'is', 'to', 'use', 'the', 'science', 'camera', 'of', 'an', 'ExAO', 'system', 'as', 'a', 'wavefront', 'sensor', 'to', 'perform', 'a', 'fast', 'measurement', 'and', 'correction', 'method', 'to', 'remove', 'these', 'aberrations', 'as', 'soon', 'as', 'they', 'are', 'detected', '']\n",
      "['Although', 'microlensing', 'searches', 'have', 'so', 'far', 'detected', 'only', 'a', 'handful', 'of', 'planets', '', 'these', 'have', 'already', 'changed', 'our', 'understanding', 'of', 'planet', 'formation', 'beyond', 'the', 'snow', 'line', '']\n",
      "['Over', '100', 'extrasolar', 'planets', 'have', 'been', 'already', 'detected', '', 'the', 'vast', 'majority', 'of', 'which', 'by', 'radial', 'velocity', 'measurements', '']\n",
      "['Finally', '', 'the', 'planet', '', 'star', 'contrast', 'must', 'exceed', 'a', 'certain', 'minimum', 'value', 'in', 'order', 'for', 'the', 'planet', 'to', 'be', 'detected', '']\n",
      "['The', 'debris', 'disk', 'of', 'HIP', '73145', 'has', 'been', 'detected', 'in', 'scattered', 'light', 'in', 'the', 'near', '', 'IR', '', 'and', 'at', 'far', '', 'IR', 'wavelengths', 'before', '', 'but', 'no', 'substructure', 'has', 'been', 'seen', 'so', 'far', '']\n",
      "['The', 'combined', 'spectrum', 'is', 'very', 'different', 'from', 'the', 'predictions', 'of', 'cloud', '', 'free', 'models', 'for', 'hot', 'Jupiters', '', 'it', 'is', 'dominated', 'by', 'Rayleigh', 'scattering', 'over', 'the', 'whole', 'visible', 'and', 'near', '', 'infrared', 'range', '', 'the', 'only', 'detected', 'features', 'being', 'narrow', 'sodium', 'and', 'potassium', 'lines', '']\n",
      "['We', 'have', 'detected', 'and', 'confirmed', 'radio', 'flares', 'from', 'the', 'T65', 'dwarf']\n",
      "['We', 'present', 'the', 'discovery', 'of', 'two', 'planetary', 'systems', 'consisting', 'of', 'a', 'Saturn', '', 'mass', 'planet', 'orbiting', 'an', 'M', '', 'dwarf', '', 'which', 'were', 'detected', 'in', 'faint', 'microlensing', 'events', 'OGLE2013BLG0132', 'and', 'OGLE2013BLG1721', '']\n",
      "['Based', 'on', 'previous', 'ground', '', 'based', 'cometary', 'observations', '', 'this', 'was', 'an', 'unexpected', 'finding', '', 'as', 'was', 'the', 'significant', 'amount', 'of', 'O2', 'detected', '']\n",
      "['Our', 'work', 'addresses', 'analysis', 'of', 'stellar', 'reflex', 'motion', 'data', '', 'where', 'a', 'planet', 'is', 'detected', 'by', 'observing', 'the', '', 'wobble', '', 'of', 'its', 'host', 'star', 'as', 'it', 'responds', 'to', 'the', 'gravitational', 'tug', 'of', 'the', 'orbiting', 'planet', '']\n",
      "['We', 'have', 'detected', 'rotation', 'in', 'seven', 'dM1e', 'stars', 'and', '11', 'dM1', 'stars', 'and', 'upper', 'limits', 'for', '20', 'other', 'dM1', 'stars', '']\n",
      "['Horologii', 'is', 'quite', 'extended', '', 'it', 'is', 'detected', 'to', 'a', 'distance', 'of', 'about', '65', 'AU', '', 'ie', '10000', 'million', 'km', '', 'from', 'the', 'star', '']\n",
      "['The', 'PLATO', 'space', '', 'based', 'data', 'will', 'be', 'complemented', 'by', 'ground', '', 'based', 'follow', '', 'up', 'observations', '', 'in', 'particular', 'very', 'precise', 'radial', 'velocity', 'monitoring', '', 'which', 'will', 'be', 'used', 'to', 'confirm', 'the', 'planetary', 'nature', 'of', 'the', 'detected', 'events', 'and', 'to', 'measure', 'the', 'planet', 'masses', '']\n",
      "['Using', 'the', 'cumulative', 'catalog', 'of', 'planets', 'detected', 'by', 'the', 'NASA', 'Kepler', 'mission', '', 'we', 'reconstruct', 'the', 'intrinsic', 'occurrence', 'of', 'Earth', 'to', 'Neptune', '', 'size', '', '1', '', '4', 'R', '', '⊕', '', 'planets', 'and', 'their', 'distributions', 'with', 'radius', 'and', 'orbital', 'period', '']\n",
      "['Intranight', 'variability', 'was', 'not', 'detected', 'from', 'all', 'of', 'these', 'light', 'curves', '']\n",
      "['We', 'detected', 'four', 'out', '', 'of', '', 'transit', 'u', '’', 'band', 'events', 'consistent', 'with', 'stellar', 'flares', '']\n",
      "['In', 'the', 'case', 'of', 'HD', '142245', '', 'we', 'found', 'evidence', 'that', 'the', 'detected', 'companion', 'is', 'actually', 'a', 'close', 'binary', 'itself', 'with', 'a', 'projected', 'separation', 'of', 'only', 'about', '4', 'au', '', 'ie', 'HD', '142245', 'might', 'be', 'a', 'hierarchical', 'triple', 'stellar', 'system', '', 'which', 'hosts', 'an', 'exoplanet', '', 'a', 'new', 'member', 'in', 'the', 'short', 'list', 'of', 'such', 'systems', '', 'presently', 'known', '']\n",
      "['In', 'the', 'last', 'decade', '', 'the', 'number', 'of', 'detected', 'exoplanets', 'has', 'increased', 'to', 'over', 'thousand', 'confirmed', 'planets', 'and', 'more', 'as', 'yet', 'unconfirmed', 'planet', 'candidates', '']\n",
      "['A', 'variety', 'of', 'terrestrial', 'planets', 'with', 'different', 'physical', 'parameters', 'and', 'exotic', 'atmospheres', 'might', 'plausibly', 'exist', 'outside', 'our', 'Solar', 'System', '', 'waiting', 'to', 'be', 'detected', 'by', 'the', 'next', 'generation', 'of', 'space', '', 'exploration', 'missions', '']\n",
      "['For', '759', 'exoplanets', 'detected', 'by', 'radial', 'velocities', 'method', 'we', 'found', 'that', 'distances', 'of', 'exoplanets', 'from', 'central', 'star', 'comply', 'in', 'general', 'Schmidt', 'law', 'and', 'these', 'distances', 'depend', 'on', 'the', 'stellar', 'surface', 'temperature', '']\n",
      "['In', 'addition', '', 'a', 'substantial', 'number', 'of', 'variable', 'stars', 'have', 'been', 'detected', '']\n",
      "['arXiv10062815', '', 'is', 'being', 'continuously', 'augmented', 'as', 'more', 'data', 'are', 'collected', 'and', 'EBs', 'are', 'detected', 'at', 'longer', 'periods', '']\n",
      "['In', 'this', 'work', '', 'we', 'present', 'our', 'statistical', 'analysis', 'of', 'the', 'outliers', 'thus', 'detected', '']\n",
      "['Our', 'historical', 'monitoring', 'has', 'detected', 'high', '', 'velocity', 'spectral', 'features', '', '13000', 'km', 's1', '', 'in', '2011', 'September', '', 'one', 'year', 'before', 'the', 'current', 'SN', '', 'like', 'event', '']\n",
      "['The', 'properties', 'of', 'the', 'detected', 'systems', 'are', 'described', '', 'emphasizing', '1', '', 'the', 'questions', 'set', 'by', 'the', 'peculiarities', 'of', 'the', 'new', 'planets', '', 'large', 'mass', '', 'large', 'eccentricity', '', 'small', 'separation', '', 'and', 'the', 'proposed', 'answers', 'and', '2', '', 'the', 'first', 'statistical', 'trends', 'pointed', 'out', 'from', 'the', 'sample', 'gathered', 'so', 'far', '', 'clear', 'different', 'formation', 'processes', 'for', 'planet', 'and', 'binaries', 'from', 'the', 'planetary', 'mass', 'and', 'orbital', '', 'element', 'distributions', '', 'the', 'high', 'metal', 'content', 'of', 'stars', 'hosting', 'planets', '', '']\n",
      "['Images', 'were', 'taken', 'at', 'a', 'minimum', 'of', 'two', 'observation', 'epochs', 'to', 'check', 'whether', 'detected', 'companion', 'candidates', 'are', 'co', '', 'moving', 'with', 'the', 'primary', 'stars', '']\n",
      "['An', 'initial', 'census', 'of', 'large', 'ring', 'systems', 'can', 'be', 'carried', 'out', 'using', 'high', '', 'precision', 'follow', '', 'up', 'observations', 'of', 'detected', 'transits', 'and', 'by', 'the', 'upcoming', 'NASA', 'Kepler', 'mission', '']\n",
      "['A', 'considerable', 'change', 'in', 'Blazhko', 'effect', 'for', 'V25', 'has', 'been', 'detected', '']\n",
      "['Of', 'the', '1919', 'main', '', 'sequence', 'exoplanet', 'hosts', 'analyzed', '', 'robust', 'rotation', 'periods', 'were', 'detected', 'for', '737', '']\n",
      "['Likewise', '', 'Ganymede', 'observations', 'were', 'attempted', 'at', '36', 'μm', 'by', 'the', 'Spitzer', 'Space', 'Telescope', '', 'but', 'it', 'was', 'not', 'detected', '', 'suggesting', 'a', 'significant', 'wavelength', 'dependence', '']\n",
      "['Aims', '', 'We', 'present', 'here', 'the', 'list', 'of', 'planetary', 'transit', 'candidates', 'detected', 'in', 'the', 'first', 'long', 'run', 'observed', 'by', 'CoRoT', '', 'LRc01', '', 'towards', 'the', 'galactic', 'center', 'in', 'the', 'direction', 'of', 'Aquila', '', 'which', 'lasted', 'from', 'May', 'to', 'October', '2007', '']\n",
      "['Given', 'high', 'metallicity', '', 'and', 'the', 'trend', 'indicating', 'that', 'multiple', 'systems', 'are', 'rich', 'in', 'low', '', 'mass', 'companions', '', 'this', 'system', 'is', 'likely', 'to', 'host', 'additional', 'low', '', 'mass', 'planets', 'in', 'its', 'habitable', 'zone', 'that', 'can', 'be', 'readily', 'detected', 'with', 'state', '', 'of', '', 'the', '', 'art', 'optical', 'and', 'near', '', 'infrared', 'RV', 'measurements', '']\n",
      "['This', 'provokes', 'the', 'question', 'of', 'whether', 'exoplanets', 'have', 'aurorae', '', 'and', 'whether', 'their', 'aurorae', 'can', 'be', 'detected', '']\n",
      "['The', 'pre', '', 'transit', 'signal', 'is', 'again', 'detected', 'in', 'the', 'Balmer', 'lines', 'but', 'with', 'variable', 'strength', 'and', 'timing', '', 'suggesting', 'that', 'the', 'bow', 'shock', 'geometry', 'reported', 'in', 'our', 'previous', 'work', 'does', 'not', 'describe', 'the', 'signal', 'from', 'the', 'latest', 'transit', '']\n",
      "['Furthermore', '', 'our', 'analysis', 'indicates', 'that', 'C2H2', 'is', 'the', 'major', 'absorber', 'in', 'the', 'atmosphere', 'of', 'WASP12b', 'and', 'the', 'absorption', 'features', 'detected', 'near', '16', 'and', '8']\n",
      "['We', 'have', 'detected', 'the', 'surface', 'magnetic', 'field', 'as', 'circularly', 'polarized', 'signatures', 'in', 'the', '819', 'nm', 'sodium', 'lines', 'when', 'an', 'active', 'emission', 'region', 'faced', 'the', 'Earth', '']\n",
      "['giant', 'planet', 'at', '∼05', 'AU', '', 'but', 'HD', '80607', 'has', 'no', 'detected', 'planets', '']\n",
      "['We', 'found', 'that', 'about', 'half', 'the', 'stars', 'are', 'too', 'faint', 'for', 'the', 'granulation', 'background', 'to', 'be', 'reliably', 'detected', 'above', 'the', 'white', 'noise', '']\n",
      "['If', 'a', 'roughly', 'Earth', '', 'sized', '', 'Earth', '', 'mass', 'moon', 'would', 'be', 'detected', 'in', 'orbit', 'around', 'a', 'giant', 'planet', '', 'and', 'if', 'the', 'planet', '', 'moon', 'duet', 'would', 'orbit', 'in', 'the', 'stellar', 'HZ', '', 'then', 'it', 'will', 'be', 'crucial', 'to', 'recover', 'the', 'orbital', 'history', 'of', 'the', 'moon', '']\n",
      "['These', 'exotic', 'stars', 'have', 'a', 'binary', 'frequency', 'of', '', 'at', 'least', '', '80', '', '', 'more', 'than', 'three', 'times', 'that', 'detected', 'for', 'stars', 'in', 'the', 'remainder', 'of', 'the', 'sample', '']\n",
      "['If', 'the', 'two', '', 'planet', 'model', 'is', 'true', '', 'then', 'this', 'is', 'the', 'third', 'multiple', '', 'planet', 'system', 'detected', 'using', 'the', 'microlensing', 'method', 'and', 'the', 'first', 'multiple', '', 'planet', 'system', 'detected', 'in', 'low', '', 'magnification', 'events', '', 'which', 'are', 'dominant', 'in', 'the', 'microlensing', 'survey', 'data', '']\n",
      "['Our', 'results', 'can', 'thus', 'be', 'used', 'to', 'constrain', 'the', 'icy', '', 'volatile', 'phase', 'composition', 'of', 'cold', 'planets', 'evidenced', 'by', 'microlensing', 'surveys', '', 'hypothetical', 'ocean', 'planets', '', 'and', 'carbon', 'planets', '', 'which', 'could', 'be', 'detected', 'by', 'COROT', 'or', 'Kepler', '']\n",
      "['Brigham', 'Young', 'University', '', 'BYU', '', 'has', 'been', 'assisting', 'in', 'the', 'ground', '', 'based', 'follow', '', 'up', 'of', 'extrasolar', 'planet', 'candidates', 'detected', 'by', 'the', 'KELT', 'telescope', 'using', 'our', '04meter', 'and', '09meter', 'telescopes', '']\n",
      "['Since', 'this', 'is', 'the', 'first', 'planet', 'detected', 'orbiting', 'a', 'fast', 'rotating', 'star', '', 'the', 'uncertainties', 'in', 'both', 'the', 'radial', '', 'velocity', 'measurements', 'and', 'the', 'planetary', 'mass', 'are', 'larger', 'than', 'for', 'most', 'other', 'planets', 'discovered', 'to', 'date', '']\n",
      "['Nearly', 'all', 'of', 'the', '100', 'plus', 'extrasolar', 'planets', 'discovered', 'to', 'date', 'have', 'been', 'detected', 'via', 'precise', '', '3', '', '6', 'm', 's1', '', 'radial', 'velocity', 'measurements', 'of', 'solar', '', 'type', 'stars', '']\n",
      "['We', 'find', 'that', 'a', 'close', '', 'in', 'Jupiter', '', 'like', 'planet', 'orbiting', 'at', '005', 'AU', 'presents', 'a', 'radio', 'power', 'that', 'is', '5', 'orders', 'of', 'magnitude', 'larger', 'than', 'the', 'one', 'observed', 'in', 'Jupiter', '', 'which', 'suggests', 'that', 'the', 'stellar', 'wind', 'from', 'a', 'young', 'star', 'has', 'the', 'potential', 'to', 'generate', 'strong', 'planetary', 'radio', 'emission', 'that', 'could', 'be', 'detected', 'in', 'the', 'near', 'future', 'with', 'LOFAR', '']\n",
      "['Kepler', 'has', 'detected', 'numerous', 'exoplanet', 'transits', 'by', 'measuring', 'stellar', 'light', 'in', 'a', 'single', 'visible', '', 'wavelength', 'band', '']\n",
      "['We', 'report', 'the', 'discovery', 'of', 'six', 'new', 'substellar', 'companions', 'of', 'main', '', 'sequence', 'stars', '', 'detected', 'by', 'multiple', 'Doppler', 'measurements', 'with', 'the', 'instrument', 'HARPS', 'installed', 'on', 'the', 'ESO', '36', 'm', 'telescope', '', 'La', 'Silla', '', 'Chile', '']\n",
      "['We', 'find', 'that', 'stellar', 'wind', 'drag', 'can', 'dominate', 'the', 'circumstellar', 'grain', 'removal', 'and', 'plausibly', 'explain', 'the', 'dearth', 'of', 'M', 'dwarf', 'systems', 'older', 'than', '10', 'Myr', 'with', 'currently', 'detected', 'infrared', 'excesses', '']\n",
      "['The', 'transmission', 'signal', 'of', 'oxygen', 'from', 'an', 'Earth', '', 'twin', 'orbiting', 'a', 'small', 'red', 'dwarf', 'star', 'is', 'only', 'a', 'factor', 'of', 'three', 'smaller', 'than', 'that', 'of', 'carbon', 'monoxide', 'recently', 'detected', 'in', 'the', 'hot', 'Jupiter', 'τ', 'Boötis', 'b', '', 'albeit', 'such', 'a', 'star', 'will', 'be', 'orders', 'of', 'magnitude', 'fainter', '']\n",
      "['The', 'observing', 'campaigns', 'presented', 'here', 'reveal', 'no', 'pulsations', 'other', 'than', 'the', 'initially', 'detected', 'frequency', '']\n",
      "['The', 'VIRT', 'has', 'begun', 'reacting', 'autonomously', 'to', 'the', 'gamma', '', 'ray', 'coordinates', 'network', '', 'GCN', '', 'alerts', 'in', '2017', 'and', '', 'despite', 'the', 'challenges', 'presented', 'to', 'the', 'Caribbean', 'region', 'by', 'hurricanes', 'Irma', 'and', 'Maria', '', 'was', 'a', 'participant', 'in', 'the', 'follow', '', 'up', 'campaign', 'of', 'GW170817', '', 'the', 'first', 'source', 'simultaneously', 'detected', 'in', 'gravitational', 'waves', 'and', 'electromagnetic', 'waves', '']\n",
      "['We', 'find', 'that', 'such', 'objects', 'can', 'feasibly', 'be', 'detected', 'by', 'a', 'ground', '', 'based', 'transit', 'survey', 'if', 'their', 'formation', 'frequency', 'is', 'high', 'and', 'if', 'correlated', 'noise', 'can', 'be', 'controlled', 'to', 'sub', '', 'milli', '', 'magnitude', 'levels', '']\n",
      "['The', 'analysis', 'of', 'the', 'combined', 'HIRES', '', 'HARPS', 'data', 'again', 'only', 'reliably', 'detected', 'the', '537', 'and', '129', 'd', 'periods', '']\n",
      "['We', 'report', 'absorption', 'in', 'atomic', 'magnesium', '', 'Mg', 'i', '', '', 'while', 'no', 'signal', 'has', 'been', 'detected', 'in', 'the', 'lines', 'of', 'singly', 'ionized', 'magnesium', '', 'Mg', 'ii', '', '']\n",
      "['We', 'searched', 'for', 'a', 'transit', 'signature', 'of', 'HD', '77338b', 'but', 'none', 'was', 'detected', '']\n",
      "['We', 'detected', 'possible', 'periodic', 'variations', 'in', 'the', 'duration', 'of', 'the', 'exoplanet', 'transit', 'across', 'the', 'stellar', 'disk', 'with', 'time', 'for', 'HAT', '', 'P12b', 'that', 'could', 'be', 'caused', 'by', 'variations', 'in', 'orbital', 'inclination', '']\n"
     ]
    }
   ],
   "source": [
    "tokenizer = SpacyTokenizer(nlp, join_str=None, ignore_chars='!\"#$%&\\'()*+,-./:;<=>?@[\\\\]^_`{|}~', \n",
    "                           batch_size=10000, n_threads=1)\n",
    "\n",
    "tokens = tokenizer(raw_documents) # generator object is returned\n",
    "for tokenized_doc in tokens:\n",
    "    print(tokenized_doc)"
   ]
  },
  {
   "cell_type": "markdown",
   "metadata": {},
   "source": [
    "Here's the difference when ```join_str``` is set to space cahracter. SpacyTokenizer will return the ```list``` of strings which are joined tokens (together with empty punctuation-only tokens)."
   ]
  },
  {
   "cell_type": "code",
   "execution_count": 8,
   "metadata": {},
   "outputs": [
    {
     "name": "stdout",
     "output_type": "stream",
     "text": [
      "We detected visual companions within 1   for 5 stars  between 1   and 2   for 7 stars  and between 2   and 4   for 15 stars \n",
      "Using these data and photometry from the Spitzer Space Telescope  we have identified members with infrared excess emission from circumstellar disks and have estimated the evolutionary stages of the detected disks  which include 31 new full disks and 16 new candidate transitional  evolved  evolved transitional  and debris disks \n",
      "Of the over 800 exoplanets detected to date  over half are on non  circular orbits  with eccentricities as high as 093 \n",
      "We find that for these false positive scenarios  CO at 235 μm  CO2 at 20 and 43 μm  and O4 at 127 μm are all stronger features in transmission than O2O3 and could be detected with S  Ns ≳ 3 for an Earth  size planet orbiting a nearby M dwarf star with as few as 10 transits  assuming photon  limited noise \n",
      "We present two exoplanets detected at Keck Observatory \n",
      "This disfavours the possibility of GI  caused spiral structure in systems with qlt025 being detected in relatively short integration times  such as those found in the DSHARP ALMA survey  Andrews et al  2018  Huang et al  2018  \n",
      "Planets lying in this zone are then more easily detected with the radial  velocity method  3   the most successful in detecting exoplanets \n",
      "The 2004 flux density was 005 Jy  about an order of magnitude lower than the single 2003 burst and the five bursts detected in 2002 \n",
      "This statement is supported by a figure given in the article  which shows a primary signal with a depth of 6 mmag  detected with 4σ confidence and a possible secondary signal with a depth of 2 mmag \n",
      "Combining these instruments with powerful telescopes  astronomers have detected thousands of exoplanets \n",
      "Here we present a catalog of 164 single transit and eclipse candidates detected during a comprehensive survey of all currently available K2 data \n",
      "The detected planets shepherd the outer cool debris belt \n",
      "The spectral type is estimated to be M7  ̃2700 K   and thus no methane absorption is detected in the H band \n",
      "The presence of the close  in massive planet could also be an interpretation for the high level of stellar activity detected \n",
      "The instrument uses two emCCD cameras providing simultaneous dual  color observations help to characterize detected companions \n",
      "We further discuss a speckle subtraction and suppression technique that fully takes advantage of spectral and time  domain information on quasi  static speckles to measure the highest  fidelity photometry as well as accurate astrometry of detected companions \n",
      "In this framework  asteroseismic studies represent an excellent tool to determine the structural differences between stars with and without detected planets \n",
      "The detected induced magnetic field infers a saline ocean layer \n",
      "Differential astrometry measurements from the Palomar High  precision Astrometric Search for Exoplanet Systems  PHASES  are used to constrain the astrometric orbit of the previously known lsim2 day subsystem in the triple system 63 Gem A and have detected a previously unknown two  year Keplerian wobble superimposed on the visual orbit of the much longer period  213 years  binary system HR 2896 \n",
      "Just two of 10 extrasolar planets found by microlensing have been detected by the planetary caustic  despite the higher probability of planet detection relative to the central caustic  which has been responsible for four extrasolar planet detections \n",
      "The structures detected at millimeter wavelengths could be gaps in the distributions of large grains on the disk midplane caused by planets not massive enough to fully open the gaps \n",
      "A distinct supersoft X  ray component was also detected at optical maximum  which probably arises from an optically thick boundary layer \n",
      "The detected signals are dominated by events with relatively low signal  to  noise ratios and by events with relatively short periods \n",
      "Shadows have been detected in several protoplanetary disks  suggesting that misalignment in disks is not uncommon \n",
      "Supplemental slit  scanning spectroscopy using adaptive optics was performed within 038  of HD 141569A to search for extended emission from H3  but no emission was detected \n",
      "On July 16  2009  we detected a 3σ emission whose light curve is consistent with an eclipse when the planet passed behind the star \n",
      "While the discovery of α Cen Bb has shown that terrestrial planets can be detected in solar  type binary stars using current observational facilities  it remains to be shown whether this is also the case for Earth analogs in HZs \n",
      "We measure the flux of the four stellar emission features detected in the COS spectrum  C II  C III  C IV  Si IV  \n",
      "No multiplets were detected leaving EC 01541  1409 as yet another rich p  mode sdB pulsator without these features  limiting observational constraints on pulsation modes \n",
      "For the closest planets detected so far  ≲ 005 AU   the effect on the radius is of the order of 1 to 10   by no means a negligible effect  enhancing the puzzling problem of the anomalously large bloated planets \n",
      "We also discuss the usefulness of this method given that some planets might be not detected  but still affect the overall stability of the system \n",
      "No absorptions are detected for other lines \n",
      "The orbital companion of Fomalhaut  Fomalhaut b  is detected in multi  color  coronagraphic observations acquired with the Hubble Space Telescope using the high  resolution channel of the Advanced Camera for Surveys \n",
      "The DCO line is detected in the HD 169142 disk with a total integrated line flux of 730 ± 73 mJy km s1 \n",
      "Ground and space  based planet searches employing radial velocity techniques and transit photometry have detected thousands of planet  hosting stars in the Milky Way \n",
      "While the original Kepler mission detected systems with up to seven planets  K2 had yet to detect systems with more than three candidates until now \n",
      "GJ 832b has the second largest angular distance from its star among radial velocity detected exoplanets  069 arcsec  making it a potentially interesting target for future direct detection \n",
      "Subsequently  the number of planets detected by microlensing is increasing \n",
      "We detected a pdf  pattern that represents an upturn followed by an overshooting peak spanning P̃\n",
      "≲20 M  Jup possess actively accreting subdisks detected via Paβ line emission  which represents a lower limit on the prevalence of circumplanetary disks in general  as some are expected to be in a quiescent phase of accretion \n",
      "Using design reference missions and other simulations  we explore the potential of TPF  O to find planets in the habitable zone around their central stars  to spectrally characterize the atmospheres of detected planets  and to obtain rudimentary information about their orbits \n",
      "With the rapid developments in the exoplanet field  more and more terrestrial exoplanets are being detected \n",
      "Kepler47 is the first multi  body circumbinary planetary system detected by the Kepler space telescope \n",
      "A solution to both of these problems is to use the science camera of an ExAO system as a wavefront sensor to perform a fast measurement and correction method to remove these aberrations as soon as they are detected \n",
      "Although microlensing searches have so far detected only a handful of planets  these have already changed our understanding of planet formation beyond the snow line \n",
      "Over 100 extrasolar planets have been already detected  the vast majority of which by radial velocity measurements \n",
      "Finally  the planet  star contrast must exceed a certain minimum value in order for the planet to be detected \n",
      "The debris disk of HIP 73145 has been detected in scattered light in the near  IR  and at far  IR wavelengths before  but no substructure has been seen so far \n",
      "The combined spectrum is very different from the predictions of cloud  free models for hot Jupiters  it is dominated by Rayleigh scattering over the whole visible and near  infrared range  the only detected features being narrow sodium and potassium lines \n",
      "We have detected and confirmed radio flares from the T65 dwarf\n",
      "We present the discovery of two planetary systems consisting of a Saturn  mass planet orbiting an M  dwarf  which were detected in faint microlensing events OGLE2013BLG0132 and OGLE2013BLG1721 \n",
      "Based on previous ground  based cometary observations  this was an unexpected finding  as was the significant amount of O2 detected \n",
      "Our work addresses analysis of stellar reflex motion data  where a planet is detected by observing the  wobble  of its host star as it responds to the gravitational tug of the orbiting planet \n",
      "We have detected rotation in seven dM1e stars and 11 dM1 stars and upper limits for 20 other dM1 stars \n",
      "Horologii is quite extended  it is detected to a distance of about 65 AU  ie 10000 million km  from the star \n",
      "The PLATO space  based data will be complemented by ground  based follow  up observations  in particular very precise radial velocity monitoring  which will be used to confirm the planetary nature of the detected events and to measure the planet masses \n",
      "Using the cumulative catalog of planets detected by the NASA Kepler mission  we reconstruct the intrinsic occurrence of Earth to Neptune  size  1  4 R  ⊕  planets and their distributions with radius and orbital period \n",
      "Intranight variability was not detected from all of these light curves \n",
      "We detected four out  of  transit u ’ band events consistent with stellar flares \n",
      "In the case of HD 142245  we found evidence that the detected companion is actually a close binary itself with a projected separation of only about 4 au  ie HD 142245 might be a hierarchical triple stellar system  which hosts an exoplanet  a new member in the short list of such systems  presently known \n",
      "In the last decade  the number of detected exoplanets has increased to over thousand confirmed planets and more as yet unconfirmed planet candidates \n",
      "A variety of terrestrial planets with different physical parameters and exotic atmospheres might plausibly exist outside our Solar System  waiting to be detected by the next generation of space  exploration missions \n",
      "For 759 exoplanets detected by radial velocities method we found that distances of exoplanets from central star comply in general Schmidt law and these distances depend on the stellar surface temperature \n",
      "In addition  a substantial number of variable stars have been detected \n",
      "arXiv10062815  is being continuously augmented as more data are collected and EBs are detected at longer periods \n",
      "In this work  we present our statistical analysis of the outliers thus detected \n",
      "Our historical monitoring has detected high  velocity spectral features  13000 km s1  in 2011 September  one year before the current SN  like event \n",
      "The properties of the detected systems are described  emphasizing 1  the questions set by the peculiarities of the new planets  large mass  large eccentricity  small separation  and the proposed answers and 2  the first statistical trends pointed out from the sample gathered so far  clear different formation processes for planet and binaries from the planetary mass and orbital  element distributions  the high metal content of stars hosting planets  \n",
      "Images were taken at a minimum of two observation epochs to check whether detected companion candidates are co  moving with the primary stars \n",
      "An initial census of large ring systems can be carried out using high  precision follow  up observations of detected transits and by the upcoming NASA Kepler mission \n",
      "A considerable change in Blazhko effect for V25 has been detected \n",
      "Of the 1919 main  sequence exoplanet hosts analyzed  robust rotation periods were detected for 737 \n",
      "Likewise  Ganymede observations were attempted at 36 μm by the Spitzer Space Telescope  but it was not detected  suggesting a significant wavelength dependence \n",
      "Aims  We present here the list of planetary transit candidates detected in the first long run observed by CoRoT  LRc01  towards the galactic center in the direction of Aquila  which lasted from May to October 2007 \n",
      "Given high metallicity  and the trend indicating that multiple systems are rich in low  mass companions  this system is likely to host additional low  mass planets in its habitable zone that can be readily detected with state  of  the  art optical and near  infrared RV measurements \n",
      "This provokes the question of whether exoplanets have aurorae  and whether their aurorae can be detected \n",
      "The pre  transit signal is again detected in the Balmer lines but with variable strength and timing  suggesting that the bow shock geometry reported in our previous work does not describe the signal from the latest transit \n",
      "Furthermore  our analysis indicates that C2H2 is the major absorber in the atmosphere of WASP12b and the absorption features detected near 16 and 8\n",
      "We have detected the surface magnetic field as circularly polarized signatures in the 819 nm sodium lines when an active emission region faced the Earth \n",
      "giant planet at ∼05 AU  but HD 80607 has no detected planets \n",
      "We found that about half the stars are too faint for the granulation background to be reliably detected above the white noise \n",
      "If a roughly Earth  sized  Earth  mass moon would be detected in orbit around a giant planet  and if the planet  moon duet would orbit in the stellar HZ  then it will be crucial to recover the orbital history of the moon \n",
      "These exotic stars have a binary frequency of  at least  80   more than three times that detected for stars in the remainder of the sample \n",
      "If the two  planet model is true  then this is the third multiple  planet system detected using the microlensing method and the first multiple  planet system detected in low  magnification events  which are dominant in the microlensing survey data \n",
      "Our results can thus be used to constrain the icy  volatile phase composition of cold planets evidenced by microlensing surveys  hypothetical ocean planets  and carbon planets  which could be detected by COROT or Kepler \n",
      "Brigham Young University  BYU  has been assisting in the ground  based follow  up of extrasolar planet candidates detected by the KELT telescope using our 04meter and 09meter telescopes \n",
      "Since this is the first planet detected orbiting a fast rotating star  the uncertainties in both the radial  velocity measurements and the planetary mass are larger than for most other planets discovered to date \n",
      "Nearly all of the 100 plus extrasolar planets discovered to date have been detected via precise  3  6 m s1  radial velocity measurements of solar  type stars \n",
      "We find that a close  in Jupiter  like planet orbiting at 005 AU presents a radio power that is 5 orders of magnitude larger than the one observed in Jupiter  which suggests that the stellar wind from a young star has the potential to generate strong planetary radio emission that could be detected in the near future with LOFAR \n",
      "Kepler has detected numerous exoplanet transits by measuring stellar light in a single visible  wavelength band \n",
      "We report the discovery of six new substellar companions of main  sequence stars  detected by multiple Doppler measurements with the instrument HARPS installed on the ESO 36 m telescope  La Silla  Chile \n",
      "We find that stellar wind drag can dominate the circumstellar grain removal and plausibly explain the dearth of M dwarf systems older than 10 Myr with currently detected infrared excesses \n",
      "The transmission signal of oxygen from an Earth  twin orbiting a small red dwarf star is only a factor of three smaller than that of carbon monoxide recently detected in the hot Jupiter τ Boötis b  albeit such a star will be orders of magnitude fainter \n",
      "The observing campaigns presented here reveal no pulsations other than the initially detected frequency \n",
      "The VIRT has begun reacting autonomously to the gamma  ray coordinates network  GCN  alerts in 2017 and  despite the challenges presented to the Caribbean region by hurricanes Irma and Maria  was a participant in the follow  up campaign of GW170817  the first source simultaneously detected in gravitational waves and electromagnetic waves \n",
      "We find that such objects can feasibly be detected by a ground  based transit survey if their formation frequency is high and if correlated noise can be controlled to sub  milli  magnitude levels \n",
      "The analysis of the combined HIRES  HARPS data again only reliably detected the 537 and 129 d periods \n",
      "We report absorption in atomic magnesium  Mg i   while no signal has been detected in the lines of singly ionized magnesium  Mg ii  \n",
      "We searched for a transit signature of HD 77338b but none was detected \n",
      "We detected possible periodic variations in the duration of the exoplanet transit across the stellar disk with time for HAT  P12b that could be caused by variations in orbital inclination \n"
     ]
    }
   ],
   "source": [
    "tokenizer = SpacyTokenizer(nlp, join_str=' ', n_threads=1)\n",
    "tokens = tokenizer(raw_documents) # generator object is returned\n",
    "for tokenized_doc in tokens:\n",
    "    print(tokenized_doc)"
   ]
  },
  {
   "cell_type": "markdown",
   "metadata": {},
   "source": [
    "Finally, this example shows a usual result from tokenization and punctuation removal. Notice that you must call the ```split()``` method to obtain a list of tokens without empty ones. "
   ]
  },
  {
   "cell_type": "code",
   "execution_count": 9,
   "metadata": {},
   "outputs": [
    {
     "name": "stdout",
     "output_type": "stream",
     "text": [
      "['We', 'detected', 'visual', 'companions', 'within', '1', 'for', '5', 'stars', 'between', '1', 'and', '2', 'for', '7', 'stars', 'and', 'between', '2', 'and', '4', 'for', '15', 'stars']\n",
      "['Using', 'these', 'data', 'and', 'photometry', 'from', 'the', 'Spitzer', 'Space', 'Telescope', 'we', 'have', 'identified', 'members', 'with', 'infrared', 'excess', 'emission', 'from', 'circumstellar', 'disks', 'and', 'have', 'estimated', 'the', 'evolutionary', 'stages', 'of', 'the', 'detected', 'disks', 'which', 'include', '31', 'new', 'full', 'disks', 'and', '16', 'new', 'candidate', 'transitional', 'evolved', 'evolved', 'transitional', 'and', 'debris', 'disks']\n",
      "['Of', 'the', 'over', '800', 'exoplanets', 'detected', 'to', 'date', 'over', 'half', 'are', 'on', 'non', 'circular', 'orbits', 'with', 'eccentricities', 'as', 'high', 'as', '093']\n",
      "['We', 'find', 'that', 'for', 'these', 'false', 'positive', 'scenarios', 'CO', 'at', '235', 'μm', 'CO2', 'at', '20', 'and', '43', 'μm', 'and', 'O4', 'at', '127', 'μm', 'are', 'all', 'stronger', 'features', 'in', 'transmission', 'than', 'O2O3', 'and', 'could', 'be', 'detected', 'with', 'S', 'Ns', '≳', '3', 'for', 'an', 'Earth', 'size', 'planet', 'orbiting', 'a', 'nearby', 'M', 'dwarf', 'star', 'with', 'as', 'few', 'as', '10', 'transits', 'assuming', 'photon', 'limited', 'noise']\n",
      "['We', 'present', 'two', 'exoplanets', 'detected', 'at', 'Keck', 'Observatory']\n",
      "['This', 'disfavours', 'the', 'possibility', 'of', 'GI', 'caused', 'spiral', 'structure', 'in', 'systems', 'with', 'qlt025', 'being', 'detected', 'in', 'relatively', 'short', 'integration', 'times', 'such', 'as', 'those', 'found', 'in', 'the', 'DSHARP', 'ALMA', 'survey', 'Andrews', 'et', 'al', '2018', 'Huang', 'et', 'al', '2018']\n",
      "['Planets', 'lying', 'in', 'this', 'zone', 'are', 'then', 'more', 'easily', 'detected', 'with', 'the', 'radial', 'velocity', 'method', '3', 'the', 'most', 'successful', 'in', 'detecting', 'exoplanets']\n",
      "['The', '2004', 'flux', 'density', 'was', '005', 'Jy', 'about', 'an', 'order', 'of', 'magnitude', 'lower', 'than', 'the', 'single', '2003', 'burst', 'and', 'the', 'five', 'bursts', 'detected', 'in', '2002']\n",
      "['This', 'statement', 'is', 'supported', 'by', 'a', 'figure', 'given', 'in', 'the', 'article', 'which', 'shows', 'a', 'primary', 'signal', 'with', 'a', 'depth', 'of', '6', 'mmag', 'detected', 'with', '4σ', 'confidence', 'and', 'a', 'possible', 'secondary', 'signal', 'with', 'a', 'depth', 'of', '2', 'mmag']\n",
      "['Combining', 'these', 'instruments', 'with', 'powerful', 'telescopes', 'astronomers', 'have', 'detected', 'thousands', 'of', 'exoplanets']\n",
      "['Here', 'we', 'present', 'a', 'catalog', 'of', '164', 'single', 'transit', 'and', 'eclipse', 'candidates', 'detected', 'during', 'a', 'comprehensive', 'survey', 'of', 'all', 'currently', 'available', 'K2', 'data']\n",
      "['The', 'detected', 'planets', 'shepherd', 'the', 'outer', 'cool', 'debris', 'belt']\n",
      "['The', 'spectral', 'type', 'is', 'estimated', 'to', 'be', 'M7', '̃2700', 'K', 'and', 'thus', 'no', 'methane', 'absorption', 'is', 'detected', 'in', 'the', 'H', 'band']\n",
      "['The', 'presence', 'of', 'the', 'close', 'in', 'massive', 'planet', 'could', 'also', 'be', 'an', 'interpretation', 'for', 'the', 'high', 'level', 'of', 'stellar', 'activity', 'detected']\n",
      "['The', 'instrument', 'uses', 'two', 'emCCD', 'cameras', 'providing', 'simultaneous', 'dual', 'color', 'observations', 'help', 'to', 'characterize', 'detected', 'companions']\n",
      "['We', 'further', 'discuss', 'a', 'speckle', 'subtraction', 'and', 'suppression', 'technique', 'that', 'fully', 'takes', 'advantage', 'of', 'spectral', 'and', 'time', 'domain', 'information', 'on', 'quasi', 'static', 'speckles', 'to', 'measure', 'the', 'highest', 'fidelity', 'photometry', 'as', 'well', 'as', 'accurate', 'astrometry', 'of', 'detected', 'companions']\n",
      "['In', 'this', 'framework', 'asteroseismic', 'studies', 'represent', 'an', 'excellent', 'tool', 'to', 'determine', 'the', 'structural', 'differences', 'between', 'stars', 'with', 'and', 'without', 'detected', 'planets']\n",
      "['The', 'detected', 'induced', 'magnetic', 'field', 'infers', 'a', 'saline', 'ocean', 'layer']\n",
      "['Differential', 'astrometry', 'measurements', 'from', 'the', 'Palomar', 'High', 'precision', 'Astrometric', 'Search', 'for', 'Exoplanet', 'Systems', 'PHASES', 'are', 'used', 'to', 'constrain', 'the', 'astrometric', 'orbit', 'of', 'the', 'previously', 'known', 'lsim2', 'day', 'subsystem', 'in', 'the', 'triple', 'system', '63', 'Gem', 'A', 'and', 'have', 'detected', 'a', 'previously', 'unknown', 'two', 'year', 'Keplerian', 'wobble', 'superimposed', 'on', 'the', 'visual', 'orbit', 'of', 'the', 'much', 'longer', 'period', '213', 'years', 'binary', 'system', 'HR', '2896']\n",
      "['Just', 'two', 'of', '10', 'extrasolar', 'planets', 'found', 'by', 'microlensing', 'have', 'been', 'detected', 'by', 'the', 'planetary', 'caustic', 'despite', 'the', 'higher', 'probability', 'of', 'planet', 'detection', 'relative', 'to', 'the', 'central', 'caustic', 'which', 'has', 'been', 'responsible', 'for', 'four', 'extrasolar', 'planet', 'detections']\n",
      "['The', 'structures', 'detected', 'at', 'millimeter', 'wavelengths', 'could', 'be', 'gaps', 'in', 'the', 'distributions', 'of', 'large', 'grains', 'on', 'the', 'disk', 'midplane', 'caused', 'by', 'planets', 'not', 'massive', 'enough', 'to', 'fully', 'open', 'the', 'gaps']\n",
      "['A', 'distinct', 'supersoft', 'X', 'ray', 'component', 'was', 'also', 'detected', 'at', 'optical', 'maximum', 'which', 'probably', 'arises', 'from', 'an', 'optically', 'thick', 'boundary', 'layer']\n",
      "['The', 'detected', 'signals', 'are', 'dominated', 'by', 'events', 'with', 'relatively', 'low', 'signal', 'to', 'noise', 'ratios', 'and', 'by', 'events', 'with', 'relatively', 'short', 'periods']\n",
      "['Shadows', 'have', 'been', 'detected', 'in', 'several', 'protoplanetary', 'disks', 'suggesting', 'that', 'misalignment', 'in', 'disks', 'is', 'not', 'uncommon']\n",
      "['Supplemental', 'slit', 'scanning', 'spectroscopy', 'using', 'adaptive', 'optics', 'was', 'performed', 'within', '038', 'of', 'HD', '141569A', 'to', 'search', 'for', 'extended', 'emission', 'from', 'H3', 'but', 'no', 'emission', 'was', 'detected']\n",
      "['On', 'July', '16', '2009', 'we', 'detected', 'a', '3σ', 'emission', 'whose', 'light', 'curve', 'is', 'consistent', 'with', 'an', 'eclipse', 'when', 'the', 'planet', 'passed', 'behind', 'the', 'star']\n",
      "['While', 'the', 'discovery', 'of', 'α', 'Cen', 'Bb', 'has', 'shown', 'that', 'terrestrial', 'planets', 'can', 'be', 'detected', 'in', 'solar', 'type', 'binary', 'stars', 'using', 'current', 'observational', 'facilities', 'it', 'remains', 'to', 'be', 'shown', 'whether', 'this', 'is', 'also', 'the', 'case', 'for', 'Earth', 'analogs', 'in', 'HZs']\n",
      "['We', 'measure', 'the', 'flux', 'of', 'the', 'four', 'stellar', 'emission', 'features', 'detected', 'in', 'the', 'COS', 'spectrum', 'C', 'II', 'C', 'III', 'C', 'IV', 'Si', 'IV']\n",
      "['No', 'multiplets', 'were', 'detected', 'leaving', 'EC', '01541', '1409', 'as', 'yet', 'another', 'rich', 'p', 'mode', 'sdB', 'pulsator', 'without', 'these', 'features', 'limiting', 'observational', 'constraints', 'on', 'pulsation', 'modes']\n",
      "['For', 'the', 'closest', 'planets', 'detected', 'so', 'far', '≲', '005', 'AU', 'the', 'effect', 'on', 'the', 'radius', 'is', 'of', 'the', 'order', 'of', '1', 'to', '10', 'by', 'no', 'means', 'a', 'negligible', 'effect', 'enhancing', 'the', 'puzzling', 'problem', 'of', 'the', 'anomalously', 'large', 'bloated', 'planets']\n",
      "['We', 'also', 'discuss', 'the', 'usefulness', 'of', 'this', 'method', 'given', 'that', 'some', 'planets', 'might', 'be', 'not', 'detected', 'but', 'still', 'affect', 'the', 'overall', 'stability', 'of', 'the', 'system']\n",
      "['No', 'absorptions', 'are', 'detected', 'for', 'other', 'lines']\n",
      "['The', 'orbital', 'companion', 'of', 'Fomalhaut', 'Fomalhaut', 'b', 'is', 'detected', 'in', 'multi', 'color', 'coronagraphic', 'observations', 'acquired', 'with', 'the', 'Hubble', 'Space', 'Telescope', 'using', 'the', 'high', 'resolution', 'channel', 'of', 'the', 'Advanced', 'Camera', 'for', 'Surveys']\n",
      "['The', 'DCO', 'line', 'is', 'detected', 'in', 'the', 'HD', '169142', 'disk', 'with', 'a', 'total', 'integrated', 'line', 'flux', 'of', '730', '±', '73', 'mJy', 'km', 's1']\n",
      "['Ground', 'and', 'space', 'based', 'planet', 'searches', 'employing', 'radial', 'velocity', 'techniques', 'and', 'transit', 'photometry', 'have', 'detected', 'thousands', 'of', 'planet', 'hosting', 'stars', 'in', 'the', 'Milky', 'Way']\n",
      "['While', 'the', 'original', 'Kepler', 'mission', 'detected', 'systems', 'with', 'up', 'to', 'seven', 'planets', 'K2', 'had', 'yet', 'to', 'detect', 'systems', 'with', 'more', 'than', 'three', 'candidates', 'until', 'now']\n",
      "['GJ', '832b', 'has', 'the', 'second', 'largest', 'angular', 'distance', 'from', 'its', 'star', 'among', 'radial', 'velocity', 'detected', 'exoplanets', '069', 'arcsec', 'making', 'it', 'a', 'potentially', 'interesting', 'target', 'for', 'future', 'direct', 'detection']\n",
      "['Subsequently', 'the', 'number', 'of', 'planets', 'detected', 'by', 'microlensing', 'is', 'increasing']\n",
      "['We', 'detected', 'a', 'pdf', 'pattern', 'that', 'represents', 'an', 'upturn', 'followed', 'by', 'an', 'overshooting', 'peak', 'spanning', 'P̃']\n",
      "['≲20', 'M', 'Jup', 'possess', 'actively', 'accreting', 'subdisks', 'detected', 'via', 'Paβ', 'line', 'emission', 'which', 'represents', 'a', 'lower', 'limit', 'on', 'the', 'prevalence', 'of', 'circumplanetary', 'disks', 'in', 'general', 'as', 'some', 'are', 'expected', 'to', 'be', 'in', 'a', 'quiescent', 'phase', 'of', 'accretion']\n",
      "['Using', 'design', 'reference', 'missions', 'and', 'other', 'simulations', 'we', 'explore', 'the', 'potential', 'of', 'TPF', 'O', 'to', 'find', 'planets', 'in', 'the', 'habitable', 'zone', 'around', 'their', 'central', 'stars', 'to', 'spectrally', 'characterize', 'the', 'atmospheres', 'of', 'detected', 'planets', 'and', 'to', 'obtain', 'rudimentary', 'information', 'about', 'their', 'orbits']\n",
      "['With', 'the', 'rapid', 'developments', 'in', 'the', 'exoplanet', 'field', 'more', 'and', 'more', 'terrestrial', 'exoplanets', 'are', 'being', 'detected']\n",
      "['Kepler47', 'is', 'the', 'first', 'multi', 'body', 'circumbinary', 'planetary', 'system', 'detected', 'by', 'the', 'Kepler', 'space', 'telescope']\n",
      "['A', 'solution', 'to', 'both', 'of', 'these', 'problems', 'is', 'to', 'use', 'the', 'science', 'camera', 'of', 'an', 'ExAO', 'system', 'as', 'a', 'wavefront', 'sensor', 'to', 'perform', 'a', 'fast', 'measurement', 'and', 'correction', 'method', 'to', 'remove', 'these', 'aberrations', 'as', 'soon', 'as', 'they', 'are', 'detected']\n",
      "['Although', 'microlensing', 'searches', 'have', 'so', 'far', 'detected', 'only', 'a', 'handful', 'of', 'planets', 'these', 'have', 'already', 'changed', 'our', 'understanding', 'of', 'planet', 'formation', 'beyond', 'the', 'snow', 'line']\n",
      "['Over', '100', 'extrasolar', 'planets', 'have', 'been', 'already', 'detected', 'the', 'vast', 'majority', 'of', 'which', 'by', 'radial', 'velocity', 'measurements']\n",
      "['Finally', 'the', 'planet', 'star', 'contrast', 'must', 'exceed', 'a', 'certain', 'minimum', 'value', 'in', 'order', 'for', 'the', 'planet', 'to', 'be', 'detected']\n",
      "['The', 'debris', 'disk', 'of', 'HIP', '73145', 'has', 'been', 'detected', 'in', 'scattered', 'light', 'in', 'the', 'near', 'IR', 'and', 'at', 'far', 'IR', 'wavelengths', 'before', 'but', 'no', 'substructure', 'has', 'been', 'seen', 'so', 'far']\n",
      "['The', 'combined', 'spectrum', 'is', 'very', 'different', 'from', 'the', 'predictions', 'of', 'cloud', 'free', 'models', 'for', 'hot', 'Jupiters', 'it', 'is', 'dominated', 'by', 'Rayleigh', 'scattering', 'over', 'the', 'whole', 'visible', 'and', 'near', 'infrared', 'range', 'the', 'only', 'detected', 'features', 'being', 'narrow', 'sodium', 'and', 'potassium', 'lines']\n",
      "['We', 'have', 'detected', 'and', 'confirmed', 'radio', 'flares', 'from', 'the', 'T65', 'dwarf']\n",
      "['We', 'present', 'the', 'discovery', 'of', 'two', 'planetary', 'systems', 'consisting', 'of', 'a', 'Saturn', 'mass', 'planet', 'orbiting', 'an', 'M', 'dwarf', 'which', 'were', 'detected', 'in', 'faint', 'microlensing', 'events', 'OGLE2013BLG0132', 'and', 'OGLE2013BLG1721']\n",
      "['Based', 'on', 'previous', 'ground', 'based', 'cometary', 'observations', 'this', 'was', 'an', 'unexpected', 'finding', 'as', 'was', 'the', 'significant', 'amount', 'of', 'O2', 'detected']\n",
      "['Our', 'work', 'addresses', 'analysis', 'of', 'stellar', 'reflex', 'motion', 'data', 'where', 'a', 'planet', 'is', 'detected', 'by', 'observing', 'the', 'wobble', 'of', 'its', 'host', 'star', 'as', 'it', 'responds', 'to', 'the', 'gravitational', 'tug', 'of', 'the', 'orbiting', 'planet']\n",
      "['We', 'have', 'detected', 'rotation', 'in', 'seven', 'dM1e', 'stars', 'and', '11', 'dM1', 'stars', 'and', 'upper', 'limits', 'for', '20', 'other', 'dM1', 'stars']\n",
      "['Horologii', 'is', 'quite', 'extended', 'it', 'is', 'detected', 'to', 'a', 'distance', 'of', 'about', '65', 'AU', 'ie', '10000', 'million', 'km', 'from', 'the', 'star']\n",
      "['The', 'PLATO', 'space', 'based', 'data', 'will', 'be', 'complemented', 'by', 'ground', 'based', 'follow', 'up', 'observations', 'in', 'particular', 'very', 'precise', 'radial', 'velocity', 'monitoring', 'which', 'will', 'be', 'used', 'to', 'confirm', 'the', 'planetary', 'nature', 'of', 'the', 'detected', 'events', 'and', 'to', 'measure', 'the', 'planet', 'masses']\n",
      "['Using', 'the', 'cumulative', 'catalog', 'of', 'planets', 'detected', 'by', 'the', 'NASA', 'Kepler', 'mission', 'we', 'reconstruct', 'the', 'intrinsic', 'occurrence', 'of', 'Earth', 'to', 'Neptune', 'size', '1', '4', 'R', '⊕', 'planets', 'and', 'their', 'distributions', 'with', 'radius', 'and', 'orbital', 'period']\n",
      "['Intranight', 'variability', 'was', 'not', 'detected', 'from', 'all', 'of', 'these', 'light', 'curves']\n",
      "['We', 'detected', 'four', 'out', 'of', 'transit', 'u', '’', 'band', 'events', 'consistent', 'with', 'stellar', 'flares']\n",
      "['In', 'the', 'case', 'of', 'HD', '142245', 'we', 'found', 'evidence', 'that', 'the', 'detected', 'companion', 'is', 'actually', 'a', 'close', 'binary', 'itself', 'with', 'a', 'projected', 'separation', 'of', 'only', 'about', '4', 'au', 'ie', 'HD', '142245', 'might', 'be', 'a', 'hierarchical', 'triple', 'stellar', 'system', 'which', 'hosts', 'an', 'exoplanet', 'a', 'new', 'member', 'in', 'the', 'short', 'list', 'of', 'such', 'systems', 'presently', 'known']\n",
      "['In', 'the', 'last', 'decade', 'the', 'number', 'of', 'detected', 'exoplanets', 'has', 'increased', 'to', 'over', 'thousand', 'confirmed', 'planets', 'and', 'more', 'as', 'yet', 'unconfirmed', 'planet', 'candidates']\n",
      "['A', 'variety', 'of', 'terrestrial', 'planets', 'with', 'different', 'physical', 'parameters', 'and', 'exotic', 'atmospheres', 'might', 'plausibly', 'exist', 'outside', 'our', 'Solar', 'System', 'waiting', 'to', 'be', 'detected', 'by', 'the', 'next', 'generation', 'of', 'space', 'exploration', 'missions']\n",
      "['For', '759', 'exoplanets', 'detected', 'by', 'radial', 'velocities', 'method', 'we', 'found', 'that', 'distances', 'of', 'exoplanets', 'from', 'central', 'star', 'comply', 'in', 'general', 'Schmidt', 'law', 'and', 'these', 'distances', 'depend', 'on', 'the', 'stellar', 'surface', 'temperature']\n",
      "['In', 'addition', 'a', 'substantial', 'number', 'of', 'variable', 'stars', 'have', 'been', 'detected']\n",
      "['arXiv10062815', 'is', 'being', 'continuously', 'augmented', 'as', 'more', 'data', 'are', 'collected', 'and', 'EBs', 'are', 'detected', 'at', 'longer', 'periods']\n",
      "['In', 'this', 'work', 'we', 'present', 'our', 'statistical', 'analysis', 'of', 'the', 'outliers', 'thus', 'detected']\n",
      "['Our', 'historical', 'monitoring', 'has', 'detected', 'high', 'velocity', 'spectral', 'features', '13000', 'km', 's1', 'in', '2011', 'September', 'one', 'year', 'before', 'the', 'current', 'SN', 'like', 'event']\n",
      "['The', 'properties', 'of', 'the', 'detected', 'systems', 'are', 'described', 'emphasizing', '1', 'the', 'questions', 'set', 'by', 'the', 'peculiarities', 'of', 'the', 'new', 'planets', 'large', 'mass', 'large', 'eccentricity', 'small', 'separation', 'and', 'the', 'proposed', 'answers', 'and', '2', 'the', 'first', 'statistical', 'trends', 'pointed', 'out', 'from', 'the', 'sample', 'gathered', 'so', 'far', 'clear', 'different', 'formation', 'processes', 'for', 'planet', 'and', 'binaries', 'from', 'the', 'planetary', 'mass', 'and', 'orbital', 'element', 'distributions', 'the', 'high', 'metal', 'content', 'of', 'stars', 'hosting', 'planets']\n",
      "['Images', 'were', 'taken', 'at', 'a', 'minimum', 'of', 'two', 'observation', 'epochs', 'to', 'check', 'whether', 'detected', 'companion', 'candidates', 'are', 'co', 'moving', 'with', 'the', 'primary', 'stars']\n",
      "['An', 'initial', 'census', 'of', 'large', 'ring', 'systems', 'can', 'be', 'carried', 'out', 'using', 'high', 'precision', 'follow', 'up', 'observations', 'of', 'detected', 'transits', 'and', 'by', 'the', 'upcoming', 'NASA', 'Kepler', 'mission']\n",
      "['A', 'considerable', 'change', 'in', 'Blazhko', 'effect', 'for', 'V25', 'has', 'been', 'detected']\n",
      "['Of', 'the', '1919', 'main', 'sequence', 'exoplanet', 'hosts', 'analyzed', 'robust', 'rotation', 'periods', 'were', 'detected', 'for', '737']\n",
      "['Likewise', 'Ganymede', 'observations', 'were', 'attempted', 'at', '36', 'μm', 'by', 'the', 'Spitzer', 'Space', 'Telescope', 'but', 'it', 'was', 'not', 'detected', 'suggesting', 'a', 'significant', 'wavelength', 'dependence']\n",
      "['Aims', 'We', 'present', 'here', 'the', 'list', 'of', 'planetary', 'transit', 'candidates', 'detected', 'in', 'the', 'first', 'long', 'run', 'observed', 'by', 'CoRoT', 'LRc01', 'towards', 'the', 'galactic', 'center', 'in', 'the', 'direction', 'of', 'Aquila', 'which', 'lasted', 'from', 'May', 'to', 'October', '2007']\n",
      "['Given', 'high', 'metallicity', 'and', 'the', 'trend', 'indicating', 'that', 'multiple', 'systems', 'are', 'rich', 'in', 'low', 'mass', 'companions', 'this', 'system', 'is', 'likely', 'to', 'host', 'additional', 'low', 'mass', 'planets', 'in', 'its', 'habitable', 'zone', 'that', 'can', 'be', 'readily', 'detected', 'with', 'state', 'of', 'the', 'art', 'optical', 'and', 'near', 'infrared', 'RV', 'measurements']\n",
      "['This', 'provokes', 'the', 'question', 'of', 'whether', 'exoplanets', 'have', 'aurorae', 'and', 'whether', 'their', 'aurorae', 'can', 'be', 'detected']\n",
      "['The', 'pre', 'transit', 'signal', 'is', 'again', 'detected', 'in', 'the', 'Balmer', 'lines', 'but', 'with', 'variable', 'strength', 'and', 'timing', 'suggesting', 'that', 'the', 'bow', 'shock', 'geometry', 'reported', 'in', 'our', 'previous', 'work', 'does', 'not', 'describe', 'the', 'signal', 'from', 'the', 'latest', 'transit']\n",
      "['Furthermore', 'our', 'analysis', 'indicates', 'that', 'C2H2', 'is', 'the', 'major', 'absorber', 'in', 'the', 'atmosphere', 'of', 'WASP12b', 'and', 'the', 'absorption', 'features', 'detected', 'near', '16', 'and', '8']\n",
      "['We', 'have', 'detected', 'the', 'surface', 'magnetic', 'field', 'as', 'circularly', 'polarized', 'signatures', 'in', 'the', '819', 'nm', 'sodium', 'lines', 'when', 'an', 'active', 'emission', 'region', 'faced', 'the', 'Earth']\n",
      "['giant', 'planet', 'at', '∼05', 'AU', 'but', 'HD', '80607', 'has', 'no', 'detected', 'planets']\n",
      "['We', 'found', 'that', 'about', 'half', 'the', 'stars', 'are', 'too', 'faint', 'for', 'the', 'granulation', 'background', 'to', 'be', 'reliably', 'detected', 'above', 'the', 'white', 'noise']\n",
      "['If', 'a', 'roughly', 'Earth', 'sized', 'Earth', 'mass', 'moon', 'would', 'be', 'detected', 'in', 'orbit', 'around', 'a', 'giant', 'planet', 'and', 'if', 'the', 'planet', 'moon', 'duet', 'would', 'orbit', 'in', 'the', 'stellar', 'HZ', 'then', 'it', 'will', 'be', 'crucial', 'to', 'recover', 'the', 'orbital', 'history', 'of', 'the', 'moon']\n",
      "['These', 'exotic', 'stars', 'have', 'a', 'binary', 'frequency', 'of', 'at', 'least', '80', 'more', 'than', 'three', 'times', 'that', 'detected', 'for', 'stars', 'in', 'the', 'remainder', 'of', 'the', 'sample']\n",
      "['If', 'the', 'two', 'planet', 'model', 'is', 'true', 'then', 'this', 'is', 'the', 'third', 'multiple', 'planet', 'system', 'detected', 'using', 'the', 'microlensing', 'method', 'and', 'the', 'first', 'multiple', 'planet', 'system', 'detected', 'in', 'low', 'magnification', 'events', 'which', 'are', 'dominant', 'in', 'the', 'microlensing', 'survey', 'data']\n",
      "['Our', 'results', 'can', 'thus', 'be', 'used', 'to', 'constrain', 'the', 'icy', 'volatile', 'phase', 'composition', 'of', 'cold', 'planets', 'evidenced', 'by', 'microlensing', 'surveys', 'hypothetical', 'ocean', 'planets', 'and', 'carbon', 'planets', 'which', 'could', 'be', 'detected', 'by', 'COROT', 'or', 'Kepler']\n",
      "['Brigham', 'Young', 'University', 'BYU', 'has', 'been', 'assisting', 'in', 'the', 'ground', 'based', 'follow', 'up', 'of', 'extrasolar', 'planet', 'candidates', 'detected', 'by', 'the', 'KELT', 'telescope', 'using', 'our', '04meter', 'and', '09meter', 'telescopes']\n",
      "['Since', 'this', 'is', 'the', 'first', 'planet', 'detected', 'orbiting', 'a', 'fast', 'rotating', 'star', 'the', 'uncertainties', 'in', 'both', 'the', 'radial', 'velocity', 'measurements', 'and', 'the', 'planetary', 'mass', 'are', 'larger', 'than', 'for', 'most', 'other', 'planets', 'discovered', 'to', 'date']\n",
      "['Nearly', 'all', 'of', 'the', '100', 'plus', 'extrasolar', 'planets', 'discovered', 'to', 'date', 'have', 'been', 'detected', 'via', 'precise', '3', '6', 'm', 's1', 'radial', 'velocity', 'measurements', 'of', 'solar', 'type', 'stars']\n",
      "['We', 'find', 'that', 'a', 'close', 'in', 'Jupiter', 'like', 'planet', 'orbiting', 'at', '005', 'AU', 'presents', 'a', 'radio', 'power', 'that', 'is', '5', 'orders', 'of', 'magnitude', 'larger', 'than', 'the', 'one', 'observed', 'in', 'Jupiter', 'which', 'suggests', 'that', 'the', 'stellar', 'wind', 'from', 'a', 'young', 'star', 'has', 'the', 'potential', 'to', 'generate', 'strong', 'planetary', 'radio', 'emission', 'that', 'could', 'be', 'detected', 'in', 'the', 'near', 'future', 'with', 'LOFAR']\n",
      "['Kepler', 'has', 'detected', 'numerous', 'exoplanet', 'transits', 'by', 'measuring', 'stellar', 'light', 'in', 'a', 'single', 'visible', 'wavelength', 'band']\n",
      "['We', 'report', 'the', 'discovery', 'of', 'six', 'new', 'substellar', 'companions', 'of', 'main', 'sequence', 'stars', 'detected', 'by', 'multiple', 'Doppler', 'measurements', 'with', 'the', 'instrument', 'HARPS', 'installed', 'on', 'the', 'ESO', '36', 'm', 'telescope', 'La', 'Silla', 'Chile']\n",
      "['We', 'find', 'that', 'stellar', 'wind', 'drag', 'can', 'dominate', 'the', 'circumstellar', 'grain', 'removal', 'and', 'plausibly', 'explain', 'the', 'dearth', 'of', 'M', 'dwarf', 'systems', 'older', 'than', '10', 'Myr', 'with', 'currently', 'detected', 'infrared', 'excesses']\n",
      "['The', 'transmission', 'signal', 'of', 'oxygen', 'from', 'an', 'Earth', 'twin', 'orbiting', 'a', 'small', 'red', 'dwarf', 'star', 'is', 'only', 'a', 'factor', 'of', 'three', 'smaller', 'than', 'that', 'of', 'carbon', 'monoxide', 'recently', 'detected', 'in', 'the', 'hot', 'Jupiter', 'τ', 'Boötis', 'b', 'albeit', 'such', 'a', 'star', 'will', 'be', 'orders', 'of', 'magnitude', 'fainter']\n",
      "['The', 'observing', 'campaigns', 'presented', 'here', 'reveal', 'no', 'pulsations', 'other', 'than', 'the', 'initially', 'detected', 'frequency']\n",
      "['The', 'VIRT', 'has', 'begun', 'reacting', 'autonomously', 'to', 'the', 'gamma', 'ray', 'coordinates', 'network', 'GCN', 'alerts', 'in', '2017', 'and', 'despite', 'the', 'challenges', 'presented', 'to', 'the', 'Caribbean', 'region', 'by', 'hurricanes', 'Irma', 'and', 'Maria', 'was', 'a', 'participant', 'in', 'the', 'follow', 'up', 'campaign', 'of', 'GW170817', 'the', 'first', 'source', 'simultaneously', 'detected', 'in', 'gravitational', 'waves', 'and', 'electromagnetic', 'waves']\n",
      "['We', 'find', 'that', 'such', 'objects', 'can', 'feasibly', 'be', 'detected', 'by', 'a', 'ground', 'based', 'transit', 'survey', 'if', 'their', 'formation', 'frequency', 'is', 'high', 'and', 'if', 'correlated', 'noise', 'can', 'be', 'controlled', 'to', 'sub', 'milli', 'magnitude', 'levels']\n",
      "['The', 'analysis', 'of', 'the', 'combined', 'HIRES', 'HARPS', 'data', 'again', 'only', 'reliably', 'detected', 'the', '537', 'and', '129', 'd', 'periods']\n",
      "['We', 'report', 'absorption', 'in', 'atomic', 'magnesium', 'Mg', 'i', 'while', 'no', 'signal', 'has', 'been', 'detected', 'in', 'the', 'lines', 'of', 'singly', 'ionized', 'magnesium', 'Mg', 'ii']\n",
      "['We', 'searched', 'for', 'a', 'transit', 'signature', 'of', 'HD', '77338b', 'but', 'none', 'was', 'detected']\n",
      "['We', 'detected', 'possible', 'periodic', 'variations', 'in', 'the', 'duration', 'of', 'the', 'exoplanet', 'transit', 'across', 'the', 'stellar', 'disk', 'with', 'time', 'for', 'HAT', 'P12b', 'that', 'could', 'be', 'caused', 'by', 'variations', 'in', 'orbital', 'inclination']\n"
     ]
    }
   ],
   "source": [
    "tokenizer = SpacyTokenizer(nlp, join_str=' ', n_threads=1)\n",
    "tokens = tokenizer(raw_documents) # generator object is returned\n",
    "for tokenized_doc in tokens:\n",
    "    print(tokenized_doc.split())"
   ]
  },
  {
   "cell_type": "markdown",
   "metadata": {},
   "source": [
    "### SpacyLemmatizer"
   ]
  },
  {
   "cell_type": "markdown",
   "metadata": {},
   "source": [
    "```SpacyLemmatizer``` is very similar to ```SpacyTokenizer```, but it returns lowercased lemmas instead of tokens."
   ]
  },
  {
   "cell_type": "code",
   "execution_count": 10,
   "metadata": {},
   "outputs": [
    {
     "name": "stdout",
     "output_type": "stream",
     "text": [
      "['we', 'detect', 'visual', 'companion', 'within', '1', '', '', 'for', '5', 'star', '', 'between', '1', '', '', 'and', '2', '', '', 'for', '7', 'star', '', 'and', 'between', '2', '', '', 'and', '4', '', '', 'for', '15', 'star', '']\n",
      "['use', 'these', 'datum', 'and', 'photometry', 'from', 'the', 'Spitzer', 'Space', 'Telescope', '', 'we', 'have', 'identify', 'member', 'with', 'infrared', 'excess', 'emission', 'from', 'circumstellar', 'disk', 'and', 'have', 'estimate', 'the', 'evolutionary', 'stage', 'of', 'the', 'detect', 'disk', '', 'which', 'include', '31', 'new', 'full', 'disk', 'and', '16', 'new', 'candidate', 'transitional', '', 'evolve', '', 'evolve', 'transitional', '', 'and', 'debris', 'disk', '']\n",
      "['of', 'the', 'over', '800', 'exoplanet', 'detect', 'to', 'date', '', 'over', 'half', 'be', 'on', 'non', '', 'circular', 'orbit', '', 'with', 'eccentricity', 'as', 'high', 'as', '093', '']\n",
      "['we', 'find', 'that', 'for', 'these', 'false', 'positive', 'scenario', '', 'CO', 'at', '235', 'μm', '', 'co2', 'at', '20', 'and', '43', 'μm', '', 'and', 'o4', 'at', '127', 'μm', 'be', 'all', 'strong', 'feature', 'in', 'transmission', 'than', 'o2o3', 'and', 'could', 'be', 'detect', 'with', 'S', '', 'ns', '≳', '3', 'for', 'an', 'earth', '', 'size', 'planet', 'orbit', 'a', 'nearby', 'M', 'dwarf', 'star', 'with', 'as', 'few', 'as', '10', 'transit', '', 'assume', 'photon', '', 'limit', 'noise', '']\n",
      "['we', 'present', 'two', 'exoplanet', 'detect', 'at', 'Keck', 'Observatory', '']\n",
      "['this', 'disfavour', 'the', 'possibility', 'of', 'GI', '', 'cause', 'spiral', 'structure', 'in', 'system', 'with', 'qlt025', 'be', 'detect', 'in', 'relatively', 'short', 'integration', 'time', '', 'such', 'as', 'those', 'find', 'in', 'the', 'DSHARP', 'ALMA', 'survey', '', 'Andrews', 'et', 'al', '', '2018', '', 'Huang', 'et', 'al', '', '2018', '', '']\n",
      "['planet', 'lie', 'in', 'this', 'zone', 'be', 'then', 'more', 'easily', 'detect', 'with', 'the', 'radial', '', 'velocity', 'method', '', '3', '', '', 'the', 'most', 'successful', 'in', 'detect', 'exoplanet', '']\n",
      "['the', '2004', 'flux', 'density', 'be', '005', 'Jy', '', 'about', 'an', 'order', 'of', 'magnitude', 'low', 'than', 'the', 'single', '2003', 'burst', 'and', 'the', 'five', 'burst', 'detect', 'in', '2002', '']\n",
      "['this', 'statement', 'be', 'support', 'by', 'a', 'figure', 'give', 'in', 'the', 'article', '', 'which', 'show', 'a', 'primary', 'signal', 'with', 'a', 'depth', 'of', '6', 'mmag', '', 'detect', 'with', '4σ', 'confidence', 'and', 'a', 'possible', 'secondary', 'signal', 'with', 'a', 'depth', 'of', '2', 'mmag', '']\n",
      "['combine', 'these', 'instrument', 'with', 'powerful', 'telescope', '', 'astronomer', 'have', 'detect', 'thousand', 'of', 'exoplanet', '']\n",
      "['here', 'we', 'present', 'a', 'catalog', 'of', '164', 'single', 'transit', 'and', 'eclipse', 'candidate', 'detect', 'during', 'a', 'comprehensive', 'survey', 'of', 'all', 'currently', 'available', 'K2', 'datum', '']\n",
      "['the', 'detect', 'planet', 'shepherd', 'the', 'outer', 'cool', 'debris', 'belt', '']\n",
      "['the', 'spectral', 'type', 'be', 'estimate', 'to', 'be', 'M7', '', '̃2700', 'K', '', '', 'and', 'thus', 'no', 'methane', 'absorption', 'be', 'detect', 'in', 'the', 'h', 'band', '']\n",
      "['the', 'presence', 'of', 'the', 'close', '', 'in', 'massive', 'planet', 'could', 'also', 'be', 'an', 'interpretation', 'for', 'the', 'high', 'level', 'of', 'stellar', 'activity', 'detect', '']\n",
      "['the', 'instrument', 'use', 'two', 'emCCD', 'camera', 'provide', 'simultaneous', 'dual', '', 'color', 'observation', 'help', 'to', 'characterize', 'detect', 'companion', '']\n",
      "['we', 'further', 'discuss', 'a', 'speckle', 'subtraction', 'and', 'suppression', 'technique', 'that', 'fully', 'take', 'advantage', 'of', 'spectral', 'and', 'time', '', 'domain', 'information', 'on', 'quasi', '', 'static', 'speckle', 'to', 'measure', 'the', 'high', '', 'fidelity', 'photometry', 'as', 'well', 'as', 'accurate', 'astrometry', 'of', 'detect', 'companion', '']\n",
      "['in', 'this', 'framework', '', 'asteroseismic', 'study', 'represent', 'an', 'excellent', 'tool', 'to', 'determine', 'the', 'structural', 'difference', 'between', 'star', 'with', 'and', 'without', 'detect', 'planet', '']\n",
      "['the', 'detect', 'induce', 'magnetic', 'field', 'infer', 'a', 'saline', 'ocean', 'layer', '']\n",
      "['differential', 'astrometry', 'measurement', 'from', 'the', 'Palomar', 'High', '', 'precision', 'Astrometric', 'Search', 'for', 'Exoplanet', 'Systems', '', 'PHASES', '', 'be', 'use', 'to', 'constrain', 'the', 'astrometric', 'orbit', 'of', 'the', 'previously', 'know', 'lsim2', 'day', 'subsystem', 'in', 'the', 'triple', 'system', '63', 'Gem', 'A', 'and', 'have', 'detect', 'a', 'previously', 'unknown', 'two', '', 'year', 'keplerian', 'wobble', 'superimpose', 'on', 'the', 'visual', 'orbit', 'of', 'the', 'much', 'long', 'period', '', '213', 'year', '', 'binary', 'system', 'hr', '2896', '']\n",
      "['just', 'two', 'of', '10', 'extrasolar', 'planet', 'find', 'by', 'microlense', 'have', 'be', 'detect', 'by', 'the', 'planetary', 'caustic', '', 'despite', 'the', 'high', 'probability', 'of', 'planet', 'detection', 'relative', 'to', 'the', 'central', 'caustic', '', 'which', 'have', 'be', 'responsible', 'for', 'four', 'extrasolar', 'planet', 'detection', '']\n",
      "['the', 'structure', 'detect', 'at', 'millimeter', 'wavelength', 'could', 'be', 'gap', 'in', 'the', 'distribution', 'of', 'large', 'grain', 'on', 'the', 'disk', 'midplane', 'cause', 'by', 'planet', 'not', 'massive', 'enough', 'to', 'fully', 'open', 'the', 'gap', '']\n",
      "['a', 'distinct', 'supersoft', 'x', '', 'ray', 'component', 'be', 'also', 'detect', 'at', 'optical', 'maximum', '', 'which', 'probably', 'arise', 'from', 'an', 'optically', 'thick', 'boundary', 'layer', '']\n",
      "['the', 'detect', 'signal', 'be', 'dominate', 'by', 'event', 'with', 'relatively', 'low', 'signal', '', 'to', '', 'noise', 'ratio', 'and', 'by', 'event', 'with', 'relatively', 'short', 'period', '']\n",
      "['shadow', 'have', 'be', 'detect', 'in', 'several', 'protoplanetary', 'disk', '', 'suggest', 'that', 'misalignment', 'in', 'disk', 'be', 'not', 'uncommon', '']\n",
      "['supplemental', 'slit', '', 'scan', 'spectroscopy', 'use', 'adaptive', 'optic', 'be', 'perform', 'within', '038', '', 'of', 'HD', '141569A', 'to', 'search', 'for', 'extended', 'emission', 'from', 'H3', '', 'but', 'no', 'emission', 'be', 'detect', '']\n",
      "['on', 'July', '16', '', '2009', '', 'we', 'detect', 'a', '3σ', 'emission', 'whose', 'light', 'curve', 'be', 'consistent', 'with', 'an', 'eclipse', 'when', 'the', 'planet', 'pass', 'behind', 'the', 'star', '']\n",
      "['while', 'the', 'discovery', 'of', 'α', 'Cen', 'Bb', 'have', 'show', 'that', 'terrestrial', 'planet', 'can', 'be', 'detect', 'in', 'solar', '', 'type', 'binary', 'star', 'use', 'current', 'observational', 'facility', '', 'it', 'remain', 'to', 'be', 'show', 'whether', 'this', 'be', 'also', 'the', 'case', 'for', 'Earth', 'analog', 'in', 'hz', '']\n",
      "['we', 'measure', 'the', 'flux', 'of', 'the', 'four', 'stellar', 'emission', 'feature', 'detect', 'in', 'the', 'COS', 'spectrum', '', 'C', 'II', '', 'C', 'III', '', 'C', 'IV', '', 'Si', 'IV', '', '']\n",
      "['no', 'multiplet', 'be', 'detect', 'leave', 'EC', '01541', '', '1409', 'as', 'yet', 'another', 'rich', 'p', '', 'mode', 'sdB', 'pulsator', 'without', 'these', 'feature', '', 'limit', 'observational', 'constraint', 'on', 'pulsation', 'mode', '']\n",
      "['for', 'the', 'close', 'planet', 'detect', 'so', 'far', '', '≲', '005', 'AU', '', '', 'the', 'effect', 'on', 'the', 'radius', 'be', 'of', 'the', 'order', 'of', '1', 'to', '10', '', '', 'by', 'no', 'means', 'a', 'negligible', 'effect', '', 'enhance', 'the', 'puzzle', 'problem', 'of', 'the', 'anomalously', 'large', 'bloated', 'planet', '']\n",
      "['we', 'also', 'discuss', 'the', 'usefulness', 'of', 'this', 'method', 'give', 'that', 'some', 'planet', 'may', 'be', 'not', 'detect', '', 'but', 'still', 'affect', 'the', 'overall', 'stability', 'of', 'the', 'system', '']\n",
      "['no', 'absorption', 'be', 'detect', 'for', 'other', 'line', '']\n",
      "['the', 'orbital', 'companion', 'of', 'Fomalhaut', '', 'Fomalhaut', 'b', '', 'be', 'detect', 'in', 'multi', '', 'color', '', 'coronagraphic', 'observation', 'acquire', 'with', 'the', 'Hubble', 'Space', 'Telescope', 'use', 'the', 'high', '', 'resolution', 'channel', 'of', 'the', 'Advanced', 'Camera', 'for', 'Surveys', '']\n",
      "['the', 'DCO', 'line', 'be', 'detect', 'in', 'the', 'HD', '169142', 'disk', 'with', 'a', 'total', 'integrated', 'line', 'flux', 'of', '730', '±', '73', 'mjy', 'km', 's1', '']\n",
      "['Ground', 'and', 'space', '', 'base', 'planet', 'search', 'employ', 'radial', 'velocity', 'technique', 'and', 'transit', 'photometry', 'have', 'detect', 'thousand', 'of', 'planet', '', 'host', 'star', 'in', 'the', 'Milky', 'way', '']\n",
      "['while', 'the', 'original', 'Kepler', 'mission', 'detect', 'system', 'with', 'up', 'to', 'seven', 'planet', '', 'K2', 'have', 'yet', 'to', 'detect', 'system', 'with', 'more', 'than', 'three', 'candidate', 'until', 'now', '']\n",
      "['GJ', '832b', 'have', 'the', 'second', 'large', 'angular', 'distance', 'from', 'its', 'star', 'among', 'radial', 'velocity', 'detect', 'exoplanet', '', '069', 'arcsec', '', 'make', 'it', 'a', 'potentially', 'interesting', 'target', 'for', 'future', 'direct', 'detection', '']\n",
      "['subsequently', '', 'the', 'number', 'of', 'planet', 'detect', 'by', 'microlense', 'be', 'increase', '']\n",
      "['we', 'detect', 'a', 'pdf', '', 'pattern', 'that', 'represent', 'an', 'upturn', 'follow', 'by', 'an', 'overshoot', 'peak', 'span', 'p̃']\n",
      "['≲20', 'M', '', 'Jup', 'possess', 'actively', 'accrete', 'subdisk', 'detect', 'via', 'Paβ', 'line', 'emission', '', 'which', 'represent', 'a', 'low', 'limit', 'on', 'the', 'prevalence', 'of', 'circumplanetary', 'disk', 'in', 'general', '', 'as', 'some', 'be', 'expect', 'to', 'be', 'in', 'a', 'quiescent', 'phase', 'of', 'accretion', '']\n",
      "['use', 'design', 'reference', 'mission', 'and', 'other', 'simulation', '', 'we', 'explore', 'the', 'potential', 'of', 'TPF', '', 'o', 'to', 'find', 'planet', 'in', 'the', 'habitable', 'zone', 'around', 'their', 'central', 'star', '', 'to', 'spectrally', 'characterize', 'the', 'atmosphere', 'of', 'detect', 'planet', '', 'and', 'to', 'obtain', 'rudimentary', 'information', 'about', 'their', 'orbit', '']\n",
      "['with', 'the', 'rapid', 'development', 'in', 'the', 'exoplanet', 'field', '', 'more', 'and', 'more', 'terrestrial', 'exoplanet', 'be', 'be', 'detect', '']\n",
      "['Kepler47', 'be', 'the', 'first', 'multi', '', 'body', 'circumbinary', 'planetary', 'system', 'detect', 'by', 'the', 'Kepler', 'space', 'telescope', '']\n",
      "['a', 'solution', 'to', 'both', 'of', 'these', 'problem', 'be', 'to', 'use', 'the', 'science', 'camera', 'of', 'an', 'ExAO', 'system', 'as', 'a', 'wavefront', 'sensor', 'to', 'perform', 'a', 'fast', 'measurement', 'and', 'correction', 'method', 'to', 'remove', 'these', 'aberration', 'as', 'soon', 'as', 'they', 'be', 'detect', '']\n",
      "['although', 'microlense', 'search', 'have', 'so', 'far', 'detect', 'only', 'a', 'handful', 'of', 'planet', '', 'these', 'have', 'already', 'change', 'our', 'understanding', 'of', 'planet', 'formation', 'beyond', 'the', 'snow', 'line', '']\n",
      "['over', '100', 'extrasolar', 'planet', 'have', 'be', 'already', 'detect', '', 'the', 'vast', 'majority', 'of', 'which', 'by', 'radial', 'velocity', 'measurement', '']\n",
      "['finally', '', 'the', 'planet', '', 'star', 'contrast', 'must', 'exceed', 'a', 'certain', 'minimum', 'value', 'in', 'order', 'for', 'the', 'planet', 'to', 'be', 'detect', '']\n",
      "['the', 'debris', 'disk', 'of', 'HIP', '73145', 'have', 'be', 'detect', 'in', 'scatter', 'light', 'in', 'the', 'near', '', 'IR', '', 'and', 'at', 'far', '', 'IR', 'wavelength', 'before', '', 'but', 'no', 'substructure', 'have', 'be', 'see', 'so', 'far', '']\n",
      "['the', 'combine', 'spectrum', 'be', 'very', 'different', 'from', 'the', 'prediction', 'of', 'cloud', '', 'free', 'model', 'for', 'hot', 'Jupiters', '', 'it', 'be', 'dominate', 'by', 'Rayleigh', 'scatter', 'over', 'the', 'whole', 'visible', 'and', 'near', '', 'infrared', 'range', '', 'the', 'only', 'detect', 'feature', 'be', 'narrow', 'sodium', 'and', 'potassium', 'line', '']\n",
      "['we', 'have', 'detect', 'and', 'confirm', 'radio', 'flare', 'from', 'the', 't65', 'dwarf']\n",
      "['we', 'present', 'the', 'discovery', 'of', 'two', 'planetary', 'system', 'consist', 'of', 'a', 'Saturn', '', 'mass', 'planet', 'orbit', 'an', 'm', '', 'dwarf', '', 'which', 'be', 'detect', 'in', 'faint', 'microlense', 'event', 'OGLE2013BLG0132', 'and', 'OGLE2013BLG1721', '']\n",
      "['base', 'on', 'previous', 'ground', '', 'base', 'cometary', 'observation', '', 'this', 'be', 'an', 'unexpected', 'finding', '', 'as', 'be', 'the', 'significant', 'amount', 'of', 'o2', 'detect', '']\n",
      "['our', 'work', 'address', 'analysis', 'of', 'stellar', 'reflex', 'motion', 'datum', '', 'where', 'a', 'planet', 'be', 'detect', 'by', 'observe', 'the', '', 'wobble', '', 'of', 'its', 'host', 'star', 'as', 'it', 'respond', 'to', 'the', 'gravitational', 'tug', 'of', 'the', 'orbit', 'planet', '']\n",
      "['we', 'have', 'detect', 'rotation', 'in', 'seven', 'dM1e', 'star', 'and', '11', 'dm1', 'star', 'and', 'upper', 'limit', 'for', '20', 'other', 'dm1', 'star', '']\n",
      "['Horologii', 'be', 'quite', 'extended', '', 'it', 'be', 'detect', 'to', 'a', 'distance', 'of', 'about', '65', 'au', '', 'ie', '10000', 'million', 'km', '', 'from', 'the', 'star', '']\n",
      "['the', 'PLATO', 'space', '', 'base', 'datum', 'will', 'be', 'complement', 'by', 'ground', '', 'base', 'follow', '', 'up', 'observation', '', 'in', 'particular', 'very', 'precise', 'radial', 'velocity', 'monitoring', '', 'which', 'will', 'be', 'use', 'to', 'confirm', 'the', 'planetary', 'nature', 'of', 'the', 'detect', 'event', 'and', 'to', 'measure', 'the', 'planet', 'masse', '']\n",
      "['use', 'the', 'cumulative', 'catalog', 'of', 'planet', 'detect', 'by', 'the', 'NASA', 'Kepler', 'mission', '', 'we', 'reconstruct', 'the', 'intrinsic', 'occurrence', 'of', 'Earth', 'to', 'Neptune', '', 'size', '', '1', '', '4', 'r', '', '⊕', '', 'planet', 'and', 'their', 'distribution', 'with', 'radius', 'and', 'orbital', 'period', '']\n",
      "['intranight', 'variability', 'be', 'not', 'detect', 'from', 'all', 'of', 'these', 'light', 'curve', '']\n",
      "['we', 'detect', 'four', 'out', '', 'of', '', 'transit', 'u', '’', 'band', 'event', 'consistent', 'with', 'stellar', 'flare', '']\n",
      "['in', 'the', 'case', 'of', 'HD', '142245', '', 'we', 'find', 'evidence', 'that', 'the', 'detect', 'companion', 'be', 'actually', 'a', 'close', 'binary', 'itself', 'with', 'a', 'project', 'separation', 'of', 'only', 'about', '4', 'au', '', 'ie', 'HD', '142245', 'may', 'be', 'a', 'hierarchical', 'triple', 'stellar', 'system', '', 'which', 'host', 'an', 'exoplanet', '', 'a', 'new', 'member', 'in', 'the', 'short', 'list', 'of', 'such', 'system', '', 'presently', 'know', '']\n",
      "['in', 'the', 'last', 'decade', '', 'the', 'number', 'of', 'detect', 'exoplanet', 'have', 'increase', 'to', 'over', 'thousand', 'confirm', 'planet', 'and', 'more', 'as', 'yet', 'unconfirmed', 'planet', 'candidate', '']\n",
      "['a', 'variety', 'of', 'terrestrial', 'planet', 'with', 'different', 'physical', 'parameter', 'and', 'exotic', 'atmosphere', 'may', 'plausibly', 'exist', 'outside', 'our', 'Solar', 'System', '', 'wait', 'to', 'be', 'detect', 'by', 'the', 'next', 'generation', 'of', 'space', '', 'exploration', 'mission', '']\n",
      "['for', '759', 'exoplanet', 'detect', 'by', 'radial', 'velocity', 'method', 'we', 'find', 'that', 'distance', 'of', 'exoplanet', 'from', 'central', 'star', 'comply', 'in', 'general', 'Schmidt', 'law', 'and', 'these', 'distance', 'depend', 'on', 'the', 'stellar', 'surface', 'temperature', '']\n",
      "['in', 'addition', '', 'a', 'substantial', 'number', 'of', 'variable', 'star', 'have', 'be', 'detect', '']\n",
      "['arXiv10062815', '', 'be', 'be', 'continuously', 'augment', 'as', 'more', 'datum', 'be', 'collect', 'and', 'eb', 'be', 'detect', 'at', 'long', 'period', '']\n",
      "['in', 'this', 'work', '', 'we', 'present', 'our', 'statistical', 'analysis', 'of', 'the', 'outlier', 'thus', 'detect', '']\n",
      "['our', 'historical', 'monitoring', 'have', 'detect', 'high', '', 'velocity', 'spectral', 'feature', '', '13000', 'km', 's1', '', 'in', '2011', 'September', '', 'one', 'year', 'before', 'the', 'current', 'SN', '', 'like', 'event', '']\n",
      "['the', 'property', 'of', 'the', 'detect', 'system', 'be', 'describe', '', 'emphasize', '1', '', 'the', 'question', 'set', 'by', 'the', 'peculiarity', 'of', 'the', 'new', 'planet', '', 'large', 'mass', '', 'large', 'eccentricity', '', 'small', 'separation', '', 'and', 'the', 'propose', 'answer', 'and', '2', '', 'the', 'first', 'statistical', 'trend', 'point', 'out', 'from', 'the', 'sample', 'gather', 'so', 'far', '', 'clear', 'different', 'formation', 'process', 'for', 'planet', 'and', 'binary', 'from', 'the', 'planetary', 'mass', 'and', 'orbital', '', 'element', 'distribution', '', 'the', 'high', 'metal', 'content', 'of', 'star', 'host', 'planet', '', '']\n",
      "['image', 'be', 'take', 'at', 'a', 'minimum', 'of', 'two', 'observation', 'epoch', 'to', 'check', 'whether', 'detect', 'companion', 'candidate', 'be', 'co', '', 'move', 'with', 'the', 'primary', 'star', '']\n",
      "['an', 'initial', 'census', 'of', 'large', 'ring', 'system', 'can', 'be', 'carry', 'out', 'use', 'high', '', 'precision', 'follow', '', 'up', 'observation', 'of', 'detect', 'transit', 'and', 'by', 'the', 'upcoming', 'NASA', 'Kepler', 'mission', '']\n",
      "['a', 'considerable', 'change', 'in', 'Blazhko', 'effect', 'for', 'V25', 'have', 'be', 'detect', '']\n",
      "['of', 'the', '1919', 'main', '', 'sequence', 'exoplanet', 'host', 'analyze', '', 'robust', 'rotation', 'period', 'be', 'detect', 'for', '737', '']\n",
      "['likewise', '', 'Ganymede', 'observation', 'be', 'attempt', 'at', '36', 'μm', 'by', 'the', 'Spitzer', 'Space', 'Telescope', '', 'but', 'it', 'be', 'not', 'detect', '', 'suggest', 'a', 'significant', 'wavelength', 'dependence', '']\n",
      "['aim', '', 'we', 'present', 'here', 'the', 'list', 'of', 'planetary', 'transit', 'candidate', 'detect', 'in', 'the', 'first', 'long', 'run', 'observe', 'by', 'CoRoT', '', 'LRc01', '', 'towards', 'the', 'galactic', 'center', 'in', 'the', 'direction', 'of', 'Aquila', '', 'which', 'last', 'from', 'May', 'to', 'October', '2007', '']\n",
      "['give', 'high', 'metallicity', '', 'and', 'the', 'trend', 'indicate', 'that', 'multiple', 'system', 'be', 'rich', 'in', 'low', '', 'mass', 'companion', '', 'this', 'system', 'be', 'likely', 'to', 'host', 'additional', 'low', '', 'mass', 'planet', 'in', 'its', 'habitable', 'zone', 'that', 'can', 'be', 'readily', 'detect', 'with', 'state', '', 'of', '', 'the', '', 'art', 'optical', 'and', 'near', '', 'infrared', 'RV', 'measurement', '']\n",
      "['this', 'provoke', 'the', 'question', 'of', 'whether', 'exoplanet', 'have', 'aurorae', '', 'and', 'whether', 'their', 'aurorae', 'can', 'be', 'detect', '']\n",
      "['the', 'pre', '', 'transit', 'signal', 'be', 'again', 'detect', 'in', 'the', 'Balmer', 'line', 'but', 'with', 'variable', 'strength', 'and', 'timing', '', 'suggest', 'that', 'the', 'bow', 'shock', 'geometry', 'report', 'in', 'our', 'previous', 'work', 'do', 'not', 'describe', 'the', 'signal', 'from', 'the', 'late', 'transit', '']\n",
      "['furthermore', '', 'our', 'analysis', 'indicate', 'that', 'C2H2', 'be', 'the', 'major', 'absorber', 'in', 'the', 'atmosphere', 'of', 'WASP12b', 'and', 'the', 'absorption', 'feature', 'detect', 'near', '16', 'and', '8']\n",
      "['we', 'have', 'detect', 'the', 'surface', 'magnetic', 'field', 'as', 'circularly', 'polarize', 'signature', 'in', 'the', '819', 'nm', 'sodium', 'line', 'when', 'an', 'active', 'emission', 'region', 'face', 'the', 'Earth', '']\n",
      "['giant', 'planet', 'at', '∼05', 'AU', '', 'but', 'HD', '80607', 'have', 'no', 'detect', 'planet', '']\n",
      "['we', 'find', 'that', 'about', 'half', 'the', 'star', 'be', 'too', 'faint', 'for', 'the', 'granulation', 'background', 'to', 'be', 'reliably', 'detect', 'above', 'the', 'white', 'noise', '']\n",
      "['if', 'a', 'roughly', 'earth', '', 'sized', '', 'earth', '', 'mass', 'moon', 'would', 'be', 'detect', 'in', 'orbit', 'around', 'a', 'giant', 'planet', '', 'and', 'if', 'the', 'planet', '', 'moon', 'duet', 'would', 'orbit', 'in', 'the', 'stellar', 'hz', '', 'then', 'it', 'will', 'be', 'crucial', 'to', 'recover', 'the', 'orbital', 'history', 'of', 'the', 'moon', '']\n",
      "['these', 'exotic', 'star', 'have', 'a', 'binary', 'frequency', 'of', '', 'at', 'least', '', '80', '', '', 'more', 'than', 'three', 'time', 'that', 'detect', 'for', 'star', 'in', 'the', 'remainder', 'of', 'the', 'sample', '']\n",
      "['if', 'the', 'two', '', 'planet', 'model', 'be', 'true', '', 'then', 'this', 'be', 'the', 'third', 'multiple', '', 'planet', 'system', 'detect', 'use', 'the', 'microlense', 'method', 'and', 'the', 'first', 'multiple', '', 'planet', 'system', 'detect', 'in', 'low', '', 'magnification', 'event', '', 'which', 'be', 'dominant', 'in', 'the', 'microlense', 'survey', 'datum', '']\n",
      "['our', 'result', 'can', 'thus', 'be', 'use', 'to', 'constrain', 'the', 'icy', '', 'volatile', 'phase', 'composition', 'of', 'cold', 'planet', 'evidence', 'by', 'microlense', 'survey', '', 'hypothetical', 'ocean', 'planet', '', 'and', 'carbon', 'planet', '', 'which', 'could', 'be', 'detect', 'by', 'COROT', 'or', 'Kepler', '']\n",
      "['Brigham', 'Young', 'University', '', 'BYU', '', 'have', 'be', 'assist', 'in', 'the', 'ground', '', 'base', 'follow', '', 'up', 'of', 'extrasolar', 'planet', 'candidate', 'detect', 'by', 'the', 'KELT', 'telescope', 'use', 'our', '04meter', 'and', '09meter', 'telescope', '']\n",
      "['since', 'this', 'be', 'the', 'first', 'planet', 'detect', 'orbit', 'a', 'fast', 'rotating', 'star', '', 'the', 'uncertainty', 'in', 'both', 'the', 'radial', '', 'velocity', 'measurement', 'and', 'the', 'planetary', 'mass', 'be', 'large', 'than', 'for', 'most', 'other', 'planet', 'discover', 'to', 'date', '']\n",
      "['nearly', 'all', 'of', 'the', '100', 'plus', 'extrasolar', 'planet', 'discover', 'to', 'date', 'have', 'be', 'detect', 'via', 'precise', '', '3', '', '6', 'm', 's1', '', 'radial', 'velocity', 'measurement', 'of', 'solar', '', 'type', 'star', '']\n",
      "['we', 'find', 'that', 'a', 'close', '', 'in', 'Jupiter', '', 'like', 'planet', 'orbit', 'at', '005', 'AU', 'present', 'a', 'radio', 'power', 'that', 'be', '5', 'order', 'of', 'magnitude', 'large', 'than', 'the', 'one', 'observe', 'in', 'Jupiter', '', 'which', 'suggest', 'that', 'the', 'stellar', 'wind', 'from', 'a', 'young', 'star', 'have', 'the', 'potential', 'to', 'generate', 'strong', 'planetary', 'radio', 'emission', 'that', 'could', 'be', 'detect', 'in', 'the', 'near', 'future', 'with', 'LOFAR', '']\n",
      "['Kepler', 'have', 'detect', 'numerous', 'exoplanet', 'transit', 'by', 'measure', 'stellar', 'light', 'in', 'a', 'single', 'visible', '', 'wavelength', 'band', '']\n",
      "['we', 'report', 'the', 'discovery', 'of', 'six', 'new', 'substellar', 'companion', 'of', 'main', '', 'sequence', 'star', '', 'detect', 'by', 'multiple', 'doppler', 'measurement', 'with', 'the', 'instrument', 'harp', 'instal', 'on', 'the', 'ESO', '36', 'm', 'telescope', '', 'La', 'Silla', '', 'Chile', '']\n",
      "['we', 'find', 'that', 'stellar', 'wind', 'drag', 'can', 'dominate', 'the', 'circumstellar', 'grain', 'removal', 'and', 'plausibly', 'explain', 'the', 'dearth', 'of', 'M', 'dwarf', 'system', 'old', 'than', '10', 'Myr', 'with', 'currently', 'detect', 'infrared', 'excess', '']\n",
      "['the', 'transmission', 'signal', 'of', 'oxygen', 'from', 'an', 'Earth', '', 'twin', 'orbit', 'a', 'small', 'red', 'dwarf', 'star', 'be', 'only', 'a', 'factor', 'of', 'three', 'small', 'than', 'that', 'of', 'carbon', 'monoxide', 'recently', 'detect', 'in', 'the', 'hot', 'Jupiter', 'τ', 'Boötis', 'b', '', 'albeit', 'such', 'a', 'star', 'will', 'be', 'order', 'of', 'magnitude', 'fainter', '']\n",
      "['the', 'observe', 'campaign', 'present', 'here', 'reveal', 'no', 'pulsation', 'other', 'than', 'the', 'initially', 'detect', 'frequency', '']\n",
      "['the', 'VIRT', 'have', 'begin', 'react', 'autonomously', 'to', 'the', 'gamma', '', 'ray', 'coordinate', 'network', '', 'GCN', '', 'alert', 'in', '2017', 'and', '', 'despite', 'the', 'challenge', 'present', 'to', 'the', 'caribbean', 'region', 'by', 'hurricane', 'Irma', 'and', 'Maria', '', 'be', 'a', 'participant', 'in', 'the', 'follow', '', 'up', 'campaign', 'of', 'GW170817', '', 'the', 'first', 'source', 'simultaneously', 'detect', 'in', 'gravitational', 'wave', 'and', 'electromagnetic', 'wave', '']\n",
      "['we', 'find', 'that', 'such', 'object', 'can', 'feasibly', 'be', 'detect', 'by', 'a', 'ground', '', 'base', 'transit', 'survey', 'if', 'their', 'formation', 'frequency', 'be', 'high', 'and', 'if', 'correlate', 'noise', 'can', 'be', 'control', 'to', 'sub', '', 'milli', '', 'magnitude', 'level', '']\n",
      "['the', 'analysis', 'of', 'the', 'combined', 'HIRES', '', 'harps', 'datum', 'again', 'only', 'reliably', 'detect', 'the', '537', 'and', '129', 'd', 'period', '']\n",
      "['we', 'report', 'absorption', 'in', 'atomic', 'magnesium', '', 'Mg', 'i', '', '', 'while', 'no', 'signal', 'have', 'be', 'detect', 'in', 'the', 'line', 'of', 'singly', 'ionize', 'magnesium', '', 'Mg', 'ii', '', '']\n",
      "['we', 'search', 'for', 'a', 'transit', 'signature', 'of', 'hd', '77338b', 'but', 'none', 'be', 'detect', '']\n",
      "['we', 'detect', 'possible', 'periodic', 'variation', 'in', 'the', 'duration', 'of', 'the', 'exoplanet', 'transit', 'across', 'the', 'stellar', 'disk', 'with', 'time', 'for', 'HAT', '', 'P12b', 'that', 'could', 'be', 'cause', 'by', 'variation', 'in', 'orbital', 'inclination', '']\n"
     ]
    }
   ],
   "source": [
    "lemmatizer = SpacyLemmatizer(nlp, join_str=None, ignore_chars='!\"#$%&\\'()*+,-./:;<=>?@[\\\\]^_`{|}~', \n",
    "                             batch_size=10000, n_threads=1)\n",
    "lemmas = lemmatizer(raw_documents) # generator object is returned\n",
    "for lemmatized_doc in lemmas:\n",
    "    print(lemmatized_doc)"
   ]
  },
  {
   "cell_type": "code",
   "execution_count": 11,
   "metadata": {},
   "outputs": [
    {
     "name": "stdout",
     "output_type": "stream",
     "text": [
      "we detect visual companion within 1   for 5 star  between 1   and 2   for 7 star  and between 2   and 4   for 15 star \n",
      "use these datum and photometry from the Spitzer Space Telescope  we have identify member with infrared excess emission from circumstellar disk and have estimate the evolutionary stage of the detect disk  which include 31 new full disk and 16 new candidate transitional  evolve  evolve transitional  and debris disk \n",
      "of the over 800 exoplanet detect to date  over half be on non - circular orbit  with eccentricity as high as 093 \n",
      "we find that for these false positive scenario  CO at 235 μm  co2 at 20 and 43 μm  and o4 at 127 μm be all strong feature in transmission than o2o3 and could be detect with S  ns ≳ 3 for an earth - size planet orbit a nearby M dwarf star with as few as 10 transit  assume photon - limit noise \n",
      "we present two exoplanet detect at Keck Observatory \n",
      "this disfavour the possibility of GI - cause spiral structure in system with qlt025 be detect in relatively short integration time  such as those find in the DSHARP ALMA survey  Andrews et al  2018  Huang et al  2018  \n",
      "planet lie in this zone be then more easily detect with the radial - velocity method  3   the most successful in detect exoplanet \n",
      "the 2004 flux density be 005 Jy  about an order of magnitude low than the single 2003 burst and the five burst detect in 2002 \n",
      "this statement be support by a figure give in the article  which show a primary signal with a depth of 6 mmag  detect with 4σ confidence and a possible secondary signal with a depth of 2 mmag \n",
      "combine these instrument with powerful telescope  astronomer have detect thousand of exoplanet \n",
      "here we present a catalog of 164 single transit and eclipse candidate detect during a comprehensive survey of all currently available K2 datum \n",
      "the detect planet shepherd the outer cool debris belt \n",
      "the spectral type be estimate to be M7  ̃2700 K   and thus no methane absorption be detect in the h band \n",
      "the presence of the close - in massive planet could also be an interpretation for the high level of stellar activity detect \n",
      "the instrument use two emCCD camera provide simultaneous dual - color observation help to characterize detect companion \n",
      "we further discuss a speckle subtraction and suppression technique that fully take advantage of spectral and time - domain information on quasi - static speckle to measure the high - fidelity photometry as well as accurate astrometry of detect companion \n",
      "in this framework  asteroseismic study represent an excellent tool to determine the structural difference between star with and without detect planet \n",
      "the detect induce magnetic field infer a saline ocean layer \n",
      "differential astrometry measurement from the Palomar High - precision Astrometric Search for Exoplanet Systems  PHASES  be use to constrain the astrometric orbit of the previously know lsim2 day subsystem in the triple system 63 Gem A and have detect a previously unknown two - year keplerian wobble superimpose on the visual orbit of the much long period  213 year  binary system hr 2896 \n",
      "just two of 10 extrasolar planet find by microlense have be detect by the planetary caustic  despite the high probability of planet detection relative to the central caustic  which have be responsible for four extrasolar planet detection \n",
      "the structure detect at millimeter wavelength could be gap in the distribution of large grain on the disk midplane cause by planet not massive enough to fully open the gap \n",
      "a distinct supersoft x - ray component be also detect at optical maximum  which probably arise from an optically thick boundary layer \n",
      "the detect signal be dominate by event with relatively low signal - to - noise ratio and by event with relatively short period \n",
      "shadow have be detect in several protoplanetary disk  suggest that misalignment in disk be not uncommon \n",
      "supplemental slit - scan spectroscopy use adaptive optic be perform within 038  of HD 141569A to search for extended emission from H3  but no emission be detect \n",
      "on July 16  2009  we detect a 3σ emission whose light curve be consistent with an eclipse when the planet pass behind the star \n",
      "while the discovery of α Cen Bb have show that terrestrial planet can be detect in solar - type binary star use current observational facility  it remain to be show whether this be also the case for Earth analog in hz \n",
      "we measure the flux of the four stellar emission feature detect in the COS spectrum  C II  C III  C IV  Si IV  \n",
      "no multiplet be detect leave EC 01541 - 1409 as yet another rich p - mode sdB pulsator without these feature  limit observational constraint on pulsation mode \n",
      "for the close planet detect so far  ≲ 005 AU   the effect on the radius be of the order of 1 to 10   by no means a negligible effect  enhance the puzzle problem of the anomalously large bloated planet \n",
      "we also discuss the usefulness of this method give that some planet may be not detect  but still affect the overall stability of the system \n",
      "no absorption be detect for other line \n",
      "the orbital companion of Fomalhaut  Fomalhaut b  be detect in multi - color  coronagraphic observation acquire with the Hubble Space Telescope use the high - resolution channel of the Advanced Camera for Surveys \n",
      "the DCO line be detect in the HD 169142 disk with a total integrated line flux of 730 ± 73 mjy km s-1 \n",
      "Ground- and space - base planet search employ radial velocity technique and transit photometry have detect thousand of planet - host star in the Milky way \n",
      "while the original Kepler mission detect system with up to seven planet  K2 have yet to detect system with more than three candidate until now \n",
      "GJ 832b have the second large angular distance from its star among radial velocity detect exoplanet  069 arcsec  make it a potentially interesting target for future direct detection \n",
      "subsequently  the number of planet detect by microlense be increase \n",
      "we detect a pdf  pattern that represent an upturn follow by an overshoot peak span p̃\n",
      "≲20 M  Jup possess actively accrete subdisk detect via Paβ line emission  which represent a low limit on the prevalence of circumplanetary disk in general  as some be expect to be in a quiescent phase of accretion \n",
      "use design reference mission and other simulation  we explore the potential of TPF - o to find planet in the habitable zone around their central star  to spectrally characterize the atmosphere of detect planet  and to obtain rudimentary information about their orbit \n",
      "with the rapid development in the exoplanet field  more and more terrestrial exoplanet be be detect \n",
      "Kepler-47 be the first multi - body circumbinary planetary system detect by the Kepler space telescope \n",
      "a solution to both of these problem be to use the science camera of an ExAO system as a wavefront sensor to perform a fast measurement and correction method to remove these aberration as soon as they be detect \n",
      "although microlense search have so far detect only a handful of planet  these have already change our understanding of planet formation beyond the snow line \n",
      "over 100 extrasolar planet have be already detect  the vast majority of which by radial velocity measurement \n",
      "finally  the planet - star contrast must exceed a certain minimum value in order for the planet to be detect \n",
      "the debris disk of HIP 73145 have be detect in scatter light in the near - IR  and at far - IR wavelength before  but no substructure have be see so far \n",
      "the combine spectrum be very different from the prediction of cloud - free model for hot Jupiters  it be dominate by Rayleigh scatter over the whole visible and near - infrared range  the only detect feature be narrow sodium and potassium line \n",
      "we have detect and confirm radio flare from the t65 dwarf\n",
      "we present the discovery of two planetary system consist of a Saturn - mass planet orbit an m - dwarf  which be detect in faint microlense event OGLE-2013-BLG-0132 and OGLE-2013-BLG-1721 \n",
      "base on previous ground - base cometary observation  this be an unexpected finding  as be the significant amount of o2 detect \n",
      "our work address analysis of stellar reflex motion datum  where a planet be detect by observe the  wobble  of its host star as it respond to the gravitational tug of the orbit planet \n",
      "we have detect rotation in seven dM1e star and 11 dm1 star and upper limit for 20 other dm1 star \n",
      "Horologii be quite extended  it be detect to a distance of about 65 au  ie 10000 million km  from the star \n",
      "the PLATO space - base datum will be complement by ground - base follow - up observation  in particular very precise radial velocity monitoring  which will be use to confirm the planetary nature of the detect event and to measure the planet masse \n",
      "use the cumulative catalog of planet detect by the NASA Kepler mission  we reconstruct the intrinsic occurrence of Earth- to Neptune - size  1 - 4 r  ⊕  planet and their distribution with radius and orbital period \n",
      "intranight variability be not detect from all of these light curve \n",
      "we detect four out - of - transit u ’ band event consistent with stellar flare \n",
      "in the case of HD 142245  we find evidence that the detect companion be actually a close binary itself with a project separation of only about 4 au  ie HD 142245 may be a hierarchical triple stellar system  which host an exoplanet  a new member in the short list of such system  presently know \n",
      "in the last decade  the number of detect exoplanet have increase to over thousand confirm planet and more as yet unconfirmed planet candidate \n",
      "a variety of terrestrial planet with different physical parameter and exotic atmosphere may plausibly exist outside our Solar System  wait to be detect by the next generation of space - exploration mission \n",
      "for 759 exoplanet detect by radial velocity method we find that distance of exoplanet from central star comply in general Schmidt law and these distance depend on the stellar surface temperature \n",
      "in addition  a substantial number of variable star have be detect \n",
      "arXiv10062815  be be continuously augment as more datum be collect and eb be detect at long period \n",
      "in this work  we present our statistical analysis of the outlier thus detect \n",
      "our historical monitoring have detect high - velocity spectral feature  13000 km s-1  in 2011 September  one year before the current SN - like event \n",
      "the property of the detect system be describe  emphasize 1  the question set by the peculiarity of the new planet  large mass  large eccentricity  small separation  and the propose answer and 2  the first statistical trend point out from the sample gather so far  clear different formation process for planet and binary from the planetary mass and orbital - element distribution  the high metal content of star host planet  \n",
      "image be take at a minimum of two observation epoch to check whether detect companion candidate be co - move with the primary star \n",
      "an initial census of large ring system can be carry out use high - precision follow - up observation of detect transit and by the upcoming NASA Kepler mission \n",
      "a considerable change in Blazhko effect for V25 have be detect \n",
      "of the 1919 main - sequence exoplanet host analyze  robust rotation period be detect for 737 \n",
      "likewise  Ganymede observation be attempt at 36 μm by the Spitzer Space Telescope  but it be not detect  suggest a significant wavelength dependence \n",
      "aim  we present here the list of planetary transit candidate detect in the first long run observe by CoRoT  LRc01  towards the galactic center in the direction of Aquila  which last from May to October 2007 \n",
      "give high metallicity  and the trend indicate that multiple system be rich in low - mass companion  this system be likely to host additional low - mass planet in its habitable zone that can be readily detect with state - of - the - art optical and near - infrared RV measurement \n",
      "this provoke the question of whether exoplanet have aurorae  and whether their aurorae can be detect \n",
      "the pre - transit signal be again detect in the Balmer line but with variable strength and timing  suggest that the bow shock geometry report in our previous work do not describe the signal from the late transit \n",
      "furthermore  our analysis indicate that C2H2 be the major absorber in the atmosphere of WASP-12b and the absorption feature detect near 16 and 8\n",
      "we have detect the surface magnetic field as circularly polarize signature in the 819 nm sodium line when an active emission region face the Earth \n",
      "giant planet at ∼05 AU  but HD 80607 have no detect planet \n",
      "we find that about half the star be too faint for the granulation background to be reliably detect above the white noise \n",
      "if a roughly earth - sized  earth - mass moon would be detect in orbit around a giant planet  and if the planet - moon duet would orbit in the stellar hz  then it will be crucial to recover the orbital history of the moon \n",
      "these exotic star have a binary frequency of  at least  80   more than three time that detect for star in the remainder of the sample \n",
      "if the two - planet model be true  then this be the third multiple - planet system detect use the microlense method and the first multiple - planet system detect in low - magnification event  which be dominant in the microlense survey datum \n",
      "our result can thus be use to constrain the icy  volatile phase composition of cold planet evidence by microlense survey  hypothetical ocean planet  and carbon planet  which could be detect by COROT or Kepler \n",
      "Brigham Young University  BYU  have be assist in the ground - base follow - up of extrasolar planet candidate detect by the KELT telescope use our 04-meter and 09-meter telescope \n",
      "since this be the first planet detect orbit a fast rotating star  the uncertainty in both the radial - velocity measurement and the planetary mass be large than for most other planet discover to date \n",
      "nearly all of the 100 plus extrasolar planet discover to date have be detect via precise  3 - -6 m s-1  radial velocity measurement of solar - type star \n",
      "we find that a close - in Jupiter - like planet orbit at 005 AU present a radio power that be 5 order of magnitude large than the one observe in Jupiter  which suggest that the stellar wind from a young star have the potential to generate strong planetary radio emission that could be detect in the near future with LOFAR \n",
      "Kepler have detect numerous exoplanet transit by measure stellar light in a single visible - wavelength band \n",
      "we report the discovery of six new substellar companion of main - sequence star  detect by multiple doppler measurement with the instrument harp instal on the ESO 36 m telescope  La Silla  Chile \n",
      "we find that stellar wind drag can dominate the circumstellar grain removal and plausibly explain the dearth of M dwarf system old than 10 Myr with currently detect infrared excess \n",
      "the transmission signal of oxygen from an Earth - twin orbit a small red dwarf star be only a factor of three small than that of carbon monoxide recently detect in the hot Jupiter τ Boötis b  albeit such a star will be order of magnitude fainter \n",
      "the observe campaign present here reveal no pulsation other than the initially detect frequency \n",
      "the VIRT have begin react autonomously to the gamma - ray coordinate network  GCN  alert in 2017 and  despite the challenge present to the caribbean region by hurricane Irma and Maria  be a participant in the follow - up campaign of GW170817  the first source simultaneously detect in gravitational wave and electromagnetic wave \n",
      "we find that such object can feasibly be detect by a ground - base transit survey if their formation frequency be high and if correlate noise can be control to sub - milli - magnitude level \n",
      "the analysis of the combined HIRES  harps datum again only reliably detect the 537 and 129 d period \n",
      "we report absorption in atomic magnesium  Mg i   while no signal have be detect in the line of singly ionize magnesium  Mg ii  \n",
      "we search for a transit signature of hd 77338b but none be detect \n",
      "we detect possible periodic variation in the duration of the exoplanet transit across the stellar disk with time for HAT - P-12b that could be cause by variation in orbital inclination \n"
     ]
    }
   ],
   "source": [
    "lemmatizer = SpacyLemmatizer(nlp, join_str=' ', n_threads=1)\n",
    "lemmas = lemmatizer(raw_documents) # generator object is returned\n",
    "for lemmatized_doc in lemmas:\n",
    "    print(lemmatized_doc)"
   ]
  },
  {
   "cell_type": "code",
   "execution_count": 12,
   "metadata": {},
   "outputs": [
    {
     "name": "stdout",
     "output_type": "stream",
     "text": [
      "['we', 'detect', 'visual', 'companion', 'within', '1', 'for', '5', 'star', 'between', '1', 'and', '2', 'for', '7', 'star', 'and', 'between', '2', 'and', '4', 'for', '15', 'star']\n",
      "['use', 'these', 'datum', 'and', 'photometry', 'from', 'the', 'Spitzer', 'Space', 'Telescope', 'we', 'have', 'identify', 'member', 'with', 'infrared', 'excess', 'emission', 'from', 'circumstellar', 'disk', 'and', 'have', 'estimate', 'the', 'evolutionary', 'stage', 'of', 'the', 'detect', 'disk', 'which', 'include', '31', 'new', 'full', 'disk', 'and', '16', 'new', 'candidate', 'transitional', 'evolve', 'evolve', 'transitional', 'and', 'debris', 'disk']\n",
      "['of', 'the', 'over', '800', 'exoplanet', 'detect', 'to', 'date', 'over', 'half', 'be', 'on', 'non', '-', 'circular', 'orbit', 'with', 'eccentricity', 'as', 'high', 'as', '093']\n",
      "['we', 'find', 'that', 'for', 'these', 'false', 'positive', 'scenario', 'CO', 'at', '235', 'μm', 'co2', 'at', '20', 'and', '43', 'μm', 'and', 'o4', 'at', '127', 'μm', 'be', 'all', 'strong', 'feature', 'in', 'transmission', 'than', 'o2o3', 'and', 'could', 'be', 'detect', 'with', 'S', 'ns', '≳', '3', 'for', 'an', 'earth', '-', 'size', 'planet', 'orbit', 'a', 'nearby', 'M', 'dwarf', 'star', 'with', 'as', 'few', 'as', '10', 'transit', 'assume', 'photon', '-', 'limit', 'noise']\n",
      "['we', 'present', 'two', 'exoplanet', 'detect', 'at', 'Keck', 'Observatory']\n",
      "['this', 'disfavour', 'the', 'possibility', 'of', 'GI', '-', 'cause', 'spiral', 'structure', 'in', 'system', 'with', 'qlt025', 'be', 'detect', 'in', 'relatively', 'short', 'integration', 'time', 'such', 'as', 'those', 'find', 'in', 'the', 'DSHARP', 'ALMA', 'survey', 'Andrews', 'et', 'al', '2018', 'Huang', 'et', 'al', '2018']\n",
      "['planet', 'lie', 'in', 'this', 'zone', 'be', 'then', 'more', 'easily', 'detect', 'with', 'the', 'radial', '-', 'velocity', 'method', '3', 'the', 'most', 'successful', 'in', 'detect', 'exoplanet']\n",
      "['the', '2004', 'flux', 'density', 'be', '005', 'Jy', 'about', 'an', 'order', 'of', 'magnitude', 'low', 'than', 'the', 'single', '2003', 'burst', 'and', 'the', 'five', 'burst', 'detect', 'in', '2002']\n",
      "['this', 'statement', 'be', 'support', 'by', 'a', 'figure', 'give', 'in', 'the', 'article', 'which', 'show', 'a', 'primary', 'signal', 'with', 'a', 'depth', 'of', '6', 'mmag', 'detect', 'with', '4σ', 'confidence', 'and', 'a', 'possible', 'secondary', 'signal', 'with', 'a', 'depth', 'of', '2', 'mmag']\n",
      "['combine', 'these', 'instrument', 'with', 'powerful', 'telescope', 'astronomer', 'have', 'detect', 'thousand', 'of', 'exoplanet']\n",
      "['here', 'we', 'present', 'a', 'catalog', 'of', '164', 'single', 'transit', 'and', 'eclipse', 'candidate', 'detect', 'during', 'a', 'comprehensive', 'survey', 'of', 'all', 'currently', 'available', 'K2', 'datum']\n",
      "['the', 'detect', 'planet', 'shepherd', 'the', 'outer', 'cool', 'debris', 'belt']\n",
      "['the', 'spectral', 'type', 'be', 'estimate', 'to', 'be', 'M7', '̃2700', 'K', 'and', 'thus', 'no', 'methane', 'absorption', 'be', 'detect', 'in', 'the', 'h', 'band']\n",
      "['the', 'presence', 'of', 'the', 'close', '-', 'in', 'massive', 'planet', 'could', 'also', 'be', 'an', 'interpretation', 'for', 'the', 'high', 'level', 'of', 'stellar', 'activity', 'detect']\n",
      "['the', 'instrument', 'use', 'two', 'emCCD', 'camera', 'provide', 'simultaneous', 'dual', '-', 'color', 'observation', 'help', 'to', 'characterize', 'detect', 'companion']\n",
      "['we', 'further', 'discuss', 'a', 'speckle', 'subtraction', 'and', 'suppression', 'technique', 'that', 'fully', 'take', 'advantage', 'of', 'spectral', 'and', 'time', '-', 'domain', 'information', 'on', 'quasi', '-', 'static', 'speckle', 'to', 'measure', 'the', 'high', '-', 'fidelity', 'photometry', 'as', 'well', 'as', 'accurate', 'astrometry', 'of', 'detect', 'companion']\n",
      "['in', 'this', 'framework', 'asteroseismic', 'study', 'represent', 'an', 'excellent', 'tool', 'to', 'determine', 'the', 'structural', 'difference', 'between', 'star', 'with', 'and', 'without', 'detect', 'planet']\n",
      "['the', 'detect', 'induce', 'magnetic', 'field', 'infer', 'a', 'saline', 'ocean', 'layer']\n",
      "['differential', 'astrometry', 'measurement', 'from', 'the', 'Palomar', 'High', '-', 'precision', 'Astrometric', 'Search', 'for', 'Exoplanet', 'Systems', 'PHASES', 'be', 'use', 'to', 'constrain', 'the', 'astrometric', 'orbit', 'of', 'the', 'previously', 'know', 'lsim2', 'day', 'subsystem', 'in', 'the', 'triple', 'system', '63', 'Gem', 'A', 'and', 'have', 'detect', 'a', 'previously', 'unknown', 'two', '-', 'year', 'keplerian', 'wobble', 'superimpose', 'on', 'the', 'visual', 'orbit', 'of', 'the', 'much', 'long', 'period', '213', 'year', 'binary', 'system', 'hr', '2896']\n",
      "['just', 'two', 'of', '10', 'extrasolar', 'planet', 'find', 'by', 'microlense', 'have', 'be', 'detect', 'by', 'the', 'planetary', 'caustic', 'despite', 'the', 'high', 'probability', 'of', 'planet', 'detection', 'relative', 'to', 'the', 'central', 'caustic', 'which', 'have', 'be', 'responsible', 'for', 'four', 'extrasolar', 'planet', 'detection']\n",
      "['the', 'structure', 'detect', 'at', 'millimeter', 'wavelength', 'could', 'be', 'gap', 'in', 'the', 'distribution', 'of', 'large', 'grain', 'on', 'the', 'disk', 'midplane', 'cause', 'by', 'planet', 'not', 'massive', 'enough', 'to', 'fully', 'open', 'the', 'gap']\n",
      "['a', 'distinct', 'supersoft', 'x', '-', 'ray', 'component', 'be', 'also', 'detect', 'at', 'optical', 'maximum', 'which', 'probably', 'arise', 'from', 'an', 'optically', 'thick', 'boundary', 'layer']\n",
      "['the', 'detect', 'signal', 'be', 'dominate', 'by', 'event', 'with', 'relatively', 'low', 'signal', '-', 'to', '-', 'noise', 'ratio', 'and', 'by', 'event', 'with', 'relatively', 'short', 'period']\n",
      "['shadow', 'have', 'be', 'detect', 'in', 'several', 'protoplanetary', 'disk', 'suggest', 'that', 'misalignment', 'in', 'disk', 'be', 'not', 'uncommon']\n",
      "['supplemental', 'slit', '-', 'scan', 'spectroscopy', 'use', 'adaptive', 'optic', 'be', 'perform', 'within', '038', 'of', 'HD', '141569A', 'to', 'search', 'for', 'extended', 'emission', 'from', 'H3', 'but', 'no', 'emission', 'be', 'detect']\n",
      "['on', 'July', '16', '2009', 'we', 'detect', 'a', '3σ', 'emission', 'whose', 'light', 'curve', 'be', 'consistent', 'with', 'an', 'eclipse', 'when', 'the', 'planet', 'pass', 'behind', 'the', 'star']\n",
      "['while', 'the', 'discovery', 'of', 'α', 'Cen', 'Bb', 'have', 'show', 'that', 'terrestrial', 'planet', 'can', 'be', 'detect', 'in', 'solar', '-', 'type', 'binary', 'star', 'use', 'current', 'observational', 'facility', 'it', 'remain', 'to', 'be', 'show', 'whether', 'this', 'be', 'also', 'the', 'case', 'for', 'Earth', 'analog', 'in', 'hz']\n",
      "['we', 'measure', 'the', 'flux', 'of', 'the', 'four', 'stellar', 'emission', 'feature', 'detect', 'in', 'the', 'COS', 'spectrum', 'C', 'II', 'C', 'III', 'C', 'IV', 'Si', 'IV']\n",
      "['no', 'multiplet', 'be', 'detect', 'leave', 'EC', '01541', '-', '1409', 'as', 'yet', 'another', 'rich', 'p', '-', 'mode', 'sdB', 'pulsator', 'without', 'these', 'feature', 'limit', 'observational', 'constraint', 'on', 'pulsation', 'mode']\n",
      "['for', 'the', 'close', 'planet', 'detect', 'so', 'far', '≲', '005', 'AU', 'the', 'effect', 'on', 'the', 'radius', 'be', 'of', 'the', 'order', 'of', '1', 'to', '10', 'by', 'no', 'means', 'a', 'negligible', 'effect', 'enhance', 'the', 'puzzle', 'problem', 'of', 'the', 'anomalously', 'large', 'bloated', 'planet']\n",
      "['we', 'also', 'discuss', 'the', 'usefulness', 'of', 'this', 'method', 'give', 'that', 'some', 'planet', 'may', 'be', 'not', 'detect', 'but', 'still', 'affect', 'the', 'overall', 'stability', 'of', 'the', 'system']\n",
      "['no', 'absorption', 'be', 'detect', 'for', 'other', 'line']\n",
      "['the', 'orbital', 'companion', 'of', 'Fomalhaut', 'Fomalhaut', 'b', 'be', 'detect', 'in', 'multi', '-', 'color', 'coronagraphic', 'observation', 'acquire', 'with', 'the', 'Hubble', 'Space', 'Telescope', 'use', 'the', 'high', '-', 'resolution', 'channel', 'of', 'the', 'Advanced', 'Camera', 'for', 'Surveys']\n",
      "['the', 'DCO', 'line', 'be', 'detect', 'in', 'the', 'HD', '169142', 'disk', 'with', 'a', 'total', 'integrated', 'line', 'flux', 'of', '730', '±', '73', 'mjy', 'km', 's-1']\n",
      "['Ground-', 'and', 'space', '-', 'base', 'planet', 'search', 'employ', 'radial', 'velocity', 'technique', 'and', 'transit', 'photometry', 'have', 'detect', 'thousand', 'of', 'planet', '-', 'host', 'star', 'in', 'the', 'Milky', 'way']\n",
      "['while', 'the', 'original', 'Kepler', 'mission', 'detect', 'system', 'with', 'up', 'to', 'seven', 'planet', 'K2', 'have', 'yet', 'to', 'detect', 'system', 'with', 'more', 'than', 'three', 'candidate', 'until', 'now']\n",
      "['GJ', '832b', 'have', 'the', 'second', 'large', 'angular', 'distance', 'from', 'its', 'star', 'among', 'radial', 'velocity', 'detect', 'exoplanet', '069', 'arcsec', 'make', 'it', 'a', 'potentially', 'interesting', 'target', 'for', 'future', 'direct', 'detection']\n",
      "['subsequently', 'the', 'number', 'of', 'planet', 'detect', 'by', 'microlense', 'be', 'increase']\n",
      "['we', 'detect', 'a', 'pdf', 'pattern', 'that', 'represent', 'an', 'upturn', 'follow', 'by', 'an', 'overshoot', 'peak', 'span', 'p̃']\n",
      "['≲20', 'M', 'Jup', 'possess', 'actively', 'accrete', 'subdisk', 'detect', 'via', 'Paβ', 'line', 'emission', 'which', 'represent', 'a', 'low', 'limit', 'on', 'the', 'prevalence', 'of', 'circumplanetary', 'disk', 'in', 'general', 'as', 'some', 'be', 'expect', 'to', 'be', 'in', 'a', 'quiescent', 'phase', 'of', 'accretion']\n",
      "['use', 'design', 'reference', 'mission', 'and', 'other', 'simulation', 'we', 'explore', 'the', 'potential', 'of', 'TPF', '-', 'o', 'to', 'find', 'planet', 'in', 'the', 'habitable', 'zone', 'around', 'their', 'central', 'star', 'to', 'spectrally', 'characterize', 'the', 'atmosphere', 'of', 'detect', 'planet', 'and', 'to', 'obtain', 'rudimentary', 'information', 'about', 'their', 'orbit']\n",
      "['with', 'the', 'rapid', 'development', 'in', 'the', 'exoplanet', 'field', 'more', 'and', 'more', 'terrestrial', 'exoplanet', 'be', 'be', 'detect']\n",
      "['Kepler-47', 'be', 'the', 'first', 'multi', '-', 'body', 'circumbinary', 'planetary', 'system', 'detect', 'by', 'the', 'Kepler', 'space', 'telescope']\n",
      "['a', 'solution', 'to', 'both', 'of', 'these', 'problem', 'be', 'to', 'use', 'the', 'science', 'camera', 'of', 'an', 'ExAO', 'system', 'as', 'a', 'wavefront', 'sensor', 'to', 'perform', 'a', 'fast', 'measurement', 'and', 'correction', 'method', 'to', 'remove', 'these', 'aberration', 'as', 'soon', 'as', 'they', 'be', 'detect']\n",
      "['although', 'microlense', 'search', 'have', 'so', 'far', 'detect', 'only', 'a', 'handful', 'of', 'planet', 'these', 'have', 'already', 'change', 'our', 'understanding', 'of', 'planet', 'formation', 'beyond', 'the', 'snow', 'line']\n",
      "['over', '100', 'extrasolar', 'planet', 'have', 'be', 'already', 'detect', 'the', 'vast', 'majority', 'of', 'which', 'by', 'radial', 'velocity', 'measurement']\n",
      "['finally', 'the', 'planet', '-', 'star', 'contrast', 'must', 'exceed', 'a', 'certain', 'minimum', 'value', 'in', 'order', 'for', 'the', 'planet', 'to', 'be', 'detect']\n",
      "['the', 'debris', 'disk', 'of', 'HIP', '73145', 'have', 'be', 'detect', 'in', 'scatter', 'light', 'in', 'the', 'near', '-', 'IR', 'and', 'at', 'far', '-', 'IR', 'wavelength', 'before', 'but', 'no', 'substructure', 'have', 'be', 'see', 'so', 'far']\n",
      "['the', 'combine', 'spectrum', 'be', 'very', 'different', 'from', 'the', 'prediction', 'of', 'cloud', '-', 'free', 'model', 'for', 'hot', 'Jupiters', 'it', 'be', 'dominate', 'by', 'Rayleigh', 'scatter', 'over', 'the', 'whole', 'visible', 'and', 'near', '-', 'infrared', 'range', 'the', 'only', 'detect', 'feature', 'be', 'narrow', 'sodium', 'and', 'potassium', 'line']\n",
      "['we', 'have', 'detect', 'and', 'confirm', 'radio', 'flare', 'from', 'the', 't65', 'dwarf']\n",
      "['we', 'present', 'the', 'discovery', 'of', 'two', 'planetary', 'system', 'consist', 'of', 'a', 'Saturn', '-', 'mass', 'planet', 'orbit', 'an', 'm', '-', 'dwarf', 'which', 'be', 'detect', 'in', 'faint', 'microlense', 'event', 'OGLE-2013-BLG-0132', 'and', 'OGLE-2013-BLG-1721']\n",
      "['base', 'on', 'previous', 'ground', '-', 'base', 'cometary', 'observation', 'this', 'be', 'an', 'unexpected', 'finding', 'as', 'be', 'the', 'significant', 'amount', 'of', 'o2', 'detect']\n",
      "['our', 'work', 'address', 'analysis', 'of', 'stellar', 'reflex', 'motion', 'datum', 'where', 'a', 'planet', 'be', 'detect', 'by', 'observe', 'the', 'wobble', 'of', 'its', 'host', 'star', 'as', 'it', 'respond', 'to', 'the', 'gravitational', 'tug', 'of', 'the', 'orbit', 'planet']\n",
      "['we', 'have', 'detect', 'rotation', 'in', 'seven', 'dM1e', 'star', 'and', '11', 'dm1', 'star', 'and', 'upper', 'limit', 'for', '20', 'other', 'dm1', 'star']\n",
      "['Horologii', 'be', 'quite', 'extended', 'it', 'be', 'detect', 'to', 'a', 'distance', 'of', 'about', '65', 'au', 'ie', '10000', 'million', 'km', 'from', 'the', 'star']\n",
      "['the', 'PLATO', 'space', '-', 'base', 'datum', 'will', 'be', 'complement', 'by', 'ground', '-', 'base', 'follow', '-', 'up', 'observation', 'in', 'particular', 'very', 'precise', 'radial', 'velocity', 'monitoring', 'which', 'will', 'be', 'use', 'to', 'confirm', 'the', 'planetary', 'nature', 'of', 'the', 'detect', 'event', 'and', 'to', 'measure', 'the', 'planet', 'masse']\n",
      "['use', 'the', 'cumulative', 'catalog', 'of', 'planet', 'detect', 'by', 'the', 'NASA', 'Kepler', 'mission', 'we', 'reconstruct', 'the', 'intrinsic', 'occurrence', 'of', 'Earth-', 'to', 'Neptune', '-', 'size', '1', '-', '4', 'r', '⊕', 'planet', 'and', 'their', 'distribution', 'with', 'radius', 'and', 'orbital', 'period']\n",
      "['intranight', 'variability', 'be', 'not', 'detect', 'from', 'all', 'of', 'these', 'light', 'curve']\n",
      "['we', 'detect', 'four', 'out', '-', 'of', '-', 'transit', 'u', '’', 'band', 'event', 'consistent', 'with', 'stellar', 'flare']\n",
      "['in', 'the', 'case', 'of', 'HD', '142245', 'we', 'find', 'evidence', 'that', 'the', 'detect', 'companion', 'be', 'actually', 'a', 'close', 'binary', 'itself', 'with', 'a', 'project', 'separation', 'of', 'only', 'about', '4', 'au', 'ie', 'HD', '142245', 'may', 'be', 'a', 'hierarchical', 'triple', 'stellar', 'system', 'which', 'host', 'an', 'exoplanet', 'a', 'new', 'member', 'in', 'the', 'short', 'list', 'of', 'such', 'system', 'presently', 'know']\n",
      "['in', 'the', 'last', 'decade', 'the', 'number', 'of', 'detect', 'exoplanet', 'have', 'increase', 'to', 'over', 'thousand', 'confirm', 'planet', 'and', 'more', 'as', 'yet', 'unconfirmed', 'planet', 'candidate']\n",
      "['a', 'variety', 'of', 'terrestrial', 'planet', 'with', 'different', 'physical', 'parameter', 'and', 'exotic', 'atmosphere', 'may', 'plausibly', 'exist', 'outside', 'our', 'Solar', 'System', 'wait', 'to', 'be', 'detect', 'by', 'the', 'next', 'generation', 'of', 'space', '-', 'exploration', 'mission']\n",
      "['for', '759', 'exoplanet', 'detect', 'by', 'radial', 'velocity', 'method', 'we', 'find', 'that', 'distance', 'of', 'exoplanet', 'from', 'central', 'star', 'comply', 'in', 'general', 'Schmidt', 'law', 'and', 'these', 'distance', 'depend', 'on', 'the', 'stellar', 'surface', 'temperature']\n",
      "['in', 'addition', 'a', 'substantial', 'number', 'of', 'variable', 'star', 'have', 'be', 'detect']\n",
      "['arXiv10062815', 'be', 'be', 'continuously', 'augment', 'as', 'more', 'datum', 'be', 'collect', 'and', 'eb', 'be', 'detect', 'at', 'long', 'period']\n",
      "['in', 'this', 'work', 'we', 'present', 'our', 'statistical', 'analysis', 'of', 'the', 'outlier', 'thus', 'detect']\n",
      "['our', 'historical', 'monitoring', 'have', 'detect', 'high', '-', 'velocity', 'spectral', 'feature', '13000', 'km', 's-1', 'in', '2011', 'September', 'one', 'year', 'before', 'the', 'current', 'SN', '-', 'like', 'event']\n",
      "['the', 'property', 'of', 'the', 'detect', 'system', 'be', 'describe', 'emphasize', '1', 'the', 'question', 'set', 'by', 'the', 'peculiarity', 'of', 'the', 'new', 'planet', 'large', 'mass', 'large', 'eccentricity', 'small', 'separation', 'and', 'the', 'propose', 'answer', 'and', '2', 'the', 'first', 'statistical', 'trend', 'point', 'out', 'from', 'the', 'sample', 'gather', 'so', 'far', 'clear', 'different', 'formation', 'process', 'for', 'planet', 'and', 'binary', 'from', 'the', 'planetary', 'mass', 'and', 'orbital', '-', 'element', 'distribution', 'the', 'high', 'metal', 'content', 'of', 'star', 'host', 'planet']\n",
      "['image', 'be', 'take', 'at', 'a', 'minimum', 'of', 'two', 'observation', 'epoch', 'to', 'check', 'whether', 'detect', 'companion', 'candidate', 'be', 'co', '-', 'move', 'with', 'the', 'primary', 'star']\n",
      "['an', 'initial', 'census', 'of', 'large', 'ring', 'system', 'can', 'be', 'carry', 'out', 'use', 'high', '-', 'precision', 'follow', '-', 'up', 'observation', 'of', 'detect', 'transit', 'and', 'by', 'the', 'upcoming', 'NASA', 'Kepler', 'mission']\n",
      "['a', 'considerable', 'change', 'in', 'Blazhko', 'effect', 'for', 'V25', 'have', 'be', 'detect']\n",
      "['of', 'the', '1919', 'main', '-', 'sequence', 'exoplanet', 'host', 'analyze', 'robust', 'rotation', 'period', 'be', 'detect', 'for', '737']\n",
      "['likewise', 'Ganymede', 'observation', 'be', 'attempt', 'at', '36', 'μm', 'by', 'the', 'Spitzer', 'Space', 'Telescope', 'but', 'it', 'be', 'not', 'detect', 'suggest', 'a', 'significant', 'wavelength', 'dependence']\n",
      "['aim', 'we', 'present', 'here', 'the', 'list', 'of', 'planetary', 'transit', 'candidate', 'detect', 'in', 'the', 'first', 'long', 'run', 'observe', 'by', 'CoRoT', 'LRc01', 'towards', 'the', 'galactic', 'center', 'in', 'the', 'direction', 'of', 'Aquila', 'which', 'last', 'from', 'May', 'to', 'October', '2007']\n",
      "['give', 'high', 'metallicity', 'and', 'the', 'trend', 'indicate', 'that', 'multiple', 'system', 'be', 'rich', 'in', 'low', '-', 'mass', 'companion', 'this', 'system', 'be', 'likely', 'to', 'host', 'additional', 'low', '-', 'mass', 'planet', 'in', 'its', 'habitable', 'zone', 'that', 'can', 'be', 'readily', 'detect', 'with', 'state', '-', 'of', '-', 'the', '-', 'art', 'optical', 'and', 'near', '-', 'infrared', 'RV', 'measurement']\n",
      "['this', 'provoke', 'the', 'question', 'of', 'whether', 'exoplanet', 'have', 'aurorae', 'and', 'whether', 'their', 'aurorae', 'can', 'be', 'detect']\n",
      "['the', 'pre', '-', 'transit', 'signal', 'be', 'again', 'detect', 'in', 'the', 'Balmer', 'line', 'but', 'with', 'variable', 'strength', 'and', 'timing', 'suggest', 'that', 'the', 'bow', 'shock', 'geometry', 'report', 'in', 'our', 'previous', 'work', 'do', 'not', 'describe', 'the', 'signal', 'from', 'the', 'late', 'transit']\n",
      "['furthermore', 'our', 'analysis', 'indicate', 'that', 'C2H2', 'be', 'the', 'major', 'absorber', 'in', 'the', 'atmosphere', 'of', 'WASP-12b', 'and', 'the', 'absorption', 'feature', 'detect', 'near', '16', 'and', '8']\n",
      "['we', 'have', 'detect', 'the', 'surface', 'magnetic', 'field', 'as', 'circularly', 'polarize', 'signature', 'in', 'the', '819', 'nm', 'sodium', 'line', 'when', 'an', 'active', 'emission', 'region', 'face', 'the', 'Earth']\n",
      "['giant', 'planet', 'at', '∼05', 'AU', 'but', 'HD', '80607', 'have', 'no', 'detect', 'planet']\n",
      "['we', 'find', 'that', 'about', 'half', 'the', 'star', 'be', 'too', 'faint', 'for', 'the', 'granulation', 'background', 'to', 'be', 'reliably', 'detect', 'above', 'the', 'white', 'noise']\n",
      "['if', 'a', 'roughly', 'earth', '-', 'sized', 'earth', '-', 'mass', 'moon', 'would', 'be', 'detect', 'in', 'orbit', 'around', 'a', 'giant', 'planet', 'and', 'if', 'the', 'planet', '-', 'moon', 'duet', 'would', 'orbit', 'in', 'the', 'stellar', 'hz', 'then', 'it', 'will', 'be', 'crucial', 'to', 'recover', 'the', 'orbital', 'history', 'of', 'the', 'moon']\n",
      "['these', 'exotic', 'star', 'have', 'a', 'binary', 'frequency', 'of', 'at', 'least', '80', 'more', 'than', 'three', 'time', 'that', 'detect', 'for', 'star', 'in', 'the', 'remainder', 'of', 'the', 'sample']\n",
      "['if', 'the', 'two', '-', 'planet', 'model', 'be', 'true', 'then', 'this', 'be', 'the', 'third', 'multiple', '-', 'planet', 'system', 'detect', 'use', 'the', 'microlense', 'method', 'and', 'the', 'first', 'multiple', '-', 'planet', 'system', 'detect', 'in', 'low', '-', 'magnification', 'event', 'which', 'be', 'dominant', 'in', 'the', 'microlense', 'survey', 'datum']\n",
      "['our', 'result', 'can', 'thus', 'be', 'use', 'to', 'constrain', 'the', 'icy', 'volatile', 'phase', 'composition', 'of', 'cold', 'planet', 'evidence', 'by', 'microlense', 'survey', 'hypothetical', 'ocean', 'planet', 'and', 'carbon', 'planet', 'which', 'could', 'be', 'detect', 'by', 'COROT', 'or', 'Kepler']\n",
      "['Brigham', 'Young', 'University', 'BYU', 'have', 'be', 'assist', 'in', 'the', 'ground', '-', 'base', 'follow', '-', 'up', 'of', 'extrasolar', 'planet', 'candidate', 'detect', 'by', 'the', 'KELT', 'telescope', 'use', 'our', '04-meter', 'and', '09-meter', 'telescope']\n",
      "['since', 'this', 'be', 'the', 'first', 'planet', 'detect', 'orbit', 'a', 'fast', 'rotating', 'star', 'the', 'uncertainty', 'in', 'both', 'the', 'radial', '-', 'velocity', 'measurement', 'and', 'the', 'planetary', 'mass', 'be', 'large', 'than', 'for', 'most', 'other', 'planet', 'discover', 'to', 'date']\n",
      "['nearly', 'all', 'of', 'the', '100', 'plus', 'extrasolar', 'planet', 'discover', 'to', 'date', 'have', 'be', 'detect', 'via', 'precise', '3', '-', '-6', 'm', 's-1', 'radial', 'velocity', 'measurement', 'of', 'solar', '-', 'type', 'star']\n",
      "['we', 'find', 'that', 'a', 'close', '-', 'in', 'Jupiter', '-', 'like', 'planet', 'orbit', 'at', '005', 'AU', 'present', 'a', 'radio', 'power', 'that', 'be', '5', 'order', 'of', 'magnitude', 'large', 'than', 'the', 'one', 'observe', 'in', 'Jupiter', 'which', 'suggest', 'that', 'the', 'stellar', 'wind', 'from', 'a', 'young', 'star', 'have', 'the', 'potential', 'to', 'generate', 'strong', 'planetary', 'radio', 'emission', 'that', 'could', 'be', 'detect', 'in', 'the', 'near', 'future', 'with', 'LOFAR']\n",
      "['Kepler', 'have', 'detect', 'numerous', 'exoplanet', 'transit', 'by', 'measure', 'stellar', 'light', 'in', 'a', 'single', 'visible', '-', 'wavelength', 'band']\n",
      "['we', 'report', 'the', 'discovery', 'of', 'six', 'new', 'substellar', 'companion', 'of', 'main', '-', 'sequence', 'star', 'detect', 'by', 'multiple', 'doppler', 'measurement', 'with', 'the', 'instrument', 'harp', 'instal', 'on', 'the', 'ESO', '36', 'm', 'telescope', 'La', 'Silla', 'Chile']\n",
      "['we', 'find', 'that', 'stellar', 'wind', 'drag', 'can', 'dominate', 'the', 'circumstellar', 'grain', 'removal', 'and', 'plausibly', 'explain', 'the', 'dearth', 'of', 'M', 'dwarf', 'system', 'old', 'than', '10', 'Myr', 'with', 'currently', 'detect', 'infrared', 'excess']\n",
      "['the', 'transmission', 'signal', 'of', 'oxygen', 'from', 'an', 'Earth', '-', 'twin', 'orbit', 'a', 'small', 'red', 'dwarf', 'star', 'be', 'only', 'a', 'factor', 'of', 'three', 'small', 'than', 'that', 'of', 'carbon', 'monoxide', 'recently', 'detect', 'in', 'the', 'hot', 'Jupiter', 'τ', 'Boötis', 'b', 'albeit', 'such', 'a', 'star', 'will', 'be', 'order', 'of', 'magnitude', 'fainter']\n",
      "['the', 'observe', 'campaign', 'present', 'here', 'reveal', 'no', 'pulsation', 'other', 'than', 'the', 'initially', 'detect', 'frequency']\n",
      "['the', 'VIRT', 'have', 'begin', 'react', 'autonomously', 'to', 'the', 'gamma', '-', 'ray', 'coordinate', 'network', 'GCN', 'alert', 'in', '2017', 'and', 'despite', 'the', 'challenge', 'present', 'to', 'the', 'caribbean', 'region', 'by', 'hurricane', 'Irma', 'and', 'Maria', 'be', 'a', 'participant', 'in', 'the', 'follow', '-', 'up', 'campaign', 'of', 'GW170817', 'the', 'first', 'source', 'simultaneously', 'detect', 'in', 'gravitational', 'wave', 'and', 'electromagnetic', 'wave']\n",
      "['we', 'find', 'that', 'such', 'object', 'can', 'feasibly', 'be', 'detect', 'by', 'a', 'ground', '-', 'base', 'transit', 'survey', 'if', 'their', 'formation', 'frequency', 'be', 'high', 'and', 'if', 'correlate', 'noise', 'can', 'be', 'control', 'to', 'sub', '-', 'milli', '-', 'magnitude', 'level']\n",
      "['the', 'analysis', 'of', 'the', 'combined', 'HIRES', 'harps', 'datum', 'again', 'only', 'reliably', 'detect', 'the', '537', 'and', '129', 'd', 'period']\n",
      "['we', 'report', 'absorption', 'in', 'atomic', 'magnesium', 'Mg', 'i', 'while', 'no', 'signal', 'have', 'be', 'detect', 'in', 'the', 'line', 'of', 'singly', 'ionize', 'magnesium', 'Mg', 'ii']\n",
      "['we', 'search', 'for', 'a', 'transit', 'signature', 'of', 'hd', '77338b', 'but', 'none', 'be', 'detect']\n",
      "['we', 'detect', 'possible', 'periodic', 'variation', 'in', 'the', 'duration', 'of', 'the', 'exoplanet', 'transit', 'across', 'the', 'stellar', 'disk', 'with', 'time', 'for', 'HAT', '-', 'P-12b', 'that', 'could', 'be', 'cause', 'by', 'variation', 'in', 'orbital', 'inclination']\n"
     ]
    }
   ],
   "source": [
    "lemmatizer = SpacyLemmatizer(nlp, join_str=' ', n_threads=1)\n",
    "lemmas = lemmatizer(raw_documents) # generator object is returned\n",
    "for lemmatized_doc in lemmas:\n",
    "    print(lemmatized_doc.split())"
   ]
  },
  {
   "cell_type": "markdown",
   "metadata": {},
   "source": [
    "### SpacyTokenCountVectorizer"
   ]
  },
  {
   "cell_type": "markdown",
   "metadata": {},
   "source": [
    "```SpacyTokenCountVectorizer``` inherits ```scikit-learn```'s ```CountVectorizer``` to enable tokenization from ```spaCy``` models. Its ```fit()```, ```fit_transform()``` and ```transform()``` methods accept iterable of <a href=https://spacy.io/api/doc>Doc</a> objects as ```spacy_docs``` (```X``` in ```scikit-learn```) parameter. This iterable can be obtained from ```SpacyPipeProcessor``` class."
   ]
  },
  {
   "cell_type": "code",
   "execution_count": 13,
   "metadata": {},
   "outputs": [],
   "source": [
    "spp = SpacyPipeProcessor(nlp, n_threads=1)  # creates iterable of spaCy Doc objects\n",
    "spacy_docs = spp(raw_documents)"
   ]
  },
  {
   "cell_type": "markdown",
   "metadata": {},
   "source": [
    "In this example we can see that the result of ```SpacyTokenCountVectorizer```'s ```fit_transform()``` method is a CSR sparse matrix, just like a standard CountVectorizer would return."
   ]
  },
  {
   "cell_type": "code",
   "execution_count": null,
   "metadata": {},
   "outputs": [
    {
     "data": {
      "text/plain": [
       "<100x980 sparse matrix of type '<class 'numpy.int64'>'\n",
       "\twith 2361 stored elements in Compressed Sparse Row format>"
      ]
     },
     "execution_count": 14,
     "metadata": {},
     "output_type": "execute_result"
    }
   ],
   "source": [
    "stcv = SpacyTokenCountVectorizer(ignore_chars='!\"#$%&\\'()*+,-./:;<=>?@[\\\\]^_`{|}~')\n",
    "count_vectors = stcv.fit_transform(spacy_docs); count_vectors"
   ]
  },
  {
   "cell_type": "code",
   "execution_count": null,
   "metadata": {},
   "outputs": [
    {
     "name": "stdout",
     "output_type": "stream",
     "text": [
      "{'we': 944, 'detected': 256, 'visual': 934, 'companions': 207, 'within': 958, '1': 7, 'for': 357, '5': 43, 'stars': 821, 'between': 144, 'and': 100, '2': 23, '7': 48, '4': 40, '15': 18, 'using': 920, 'these': 872, 'data': 240, 'photometry': 651, 'from': 364, 'the': 869, 'spitzer': 817, 'space': 808, 'telescope': 863, 'have': 400, 'identified': 426, 'members': 531, 'with': 957, 'infrared': 442, 'excess': 321, 'emission': 303, 'circumstellar': 193, 'disks': 272, 'estimated': 310, 'evolutionary': 316, 'stages': 819, 'of': 603, 'which': 950, 'include': 434, '31': 37, 'new': 576, 'full': 365, '16': 19, 'candidate': 168, 'transitional': 892, 'evolved': 317, 'debris': 245, 'over': 628, '800': 57, 'exoplanets': 325, 'to': 885, 'date': 241, 'half': 395, 'are': 108, 'on': 607, 'non': 581, 'circular': 189, 'orbits': 618, 'eccentricities': 296, 'as': 114, 'high': 405, '093': 5, 'find': 348, 'that': 868, 'false': 338, 'positive': 662, 'scenarios': 757, 'co': 198, 'at': 121, '235': 34, 'μm': 972, 'co2': 199, '20': 24, '43': 41, 'o4': 591, '127': 12, 'all': 89, 'stronger': 830, 'features': 342, 'in': 432, 'transmission': 894, 'than': 867, 'o2o3': 590, 'could': 232, 'be': 137, 's': 749, 'ns': 585, '≳': 978, '3': 36, 'an': 96, 'earth': 292, 'size': 794, 'planet': 654, 'orbiting': 617, 'a': 61, 'nearby': 571, 'm': 509, 'dwarf': 291, 'star': 820, 'few': 343, '10': 8, 'transits': 893, 'assuming': 116, 'photon': 652, 'limited': 495, 'noise': 580, 'present': 676, 'two': 901, 'keck': 470, 'observatory': 596, 'this': 876, 'disfavours': 270, 'possibility': 664, 'gi': 381, 'caused': 175, 'spiral': 816, 'structure': 832, 'systems': 856, 'qlt025': 700, 'being': 142, 'relatively': 725, 'short': 777, 'integration': 449, 'times': 883, 'such': 844, 'those': 877, 'found': 359, 'dsharp': 286, 'alma': 90, 'survey': 853, 'andrews': 101, 'et': 311, 'al': 86, '2018': 32, 'huang': 418, 'planets': 656, 'lying': 508, 'zone': 968, 'then': 871, 'more': 557, 'easily': 293, 'radial': 707, 'velocity': 929, 'method': 535, 'most': 558, 'successful': 843, 'detecting': 257, '2004': 27, 'flux': 353, 'density': 247, 'was': 937, '005': 0, 'jy': 467, 'about': 63, 'order': 619, 'magnitude': 514, 'lower': 505, 'single': 791, '2003': 26, 'burst': 156, 'five': 351, 'bursts': 157, '2002': 25, 'statement': 823, 'is': 457, 'supported': 850, 'by': 159, 'figure': 346, 'given': 383, 'article': 112, 'shows': 779, 'primary': 683, 'signal': 781, 'depth': 250, '6': 45, 'mmag': 549, '4σ': 42, 'confidence': 213, 'possible': 665, 'secondary': 765, 'combining': 204, 'instruments': 447, 'powerful': 670, 'telescopes': 864, 'astronomers': 120, 'thousands': 879, 'here': 403, 'catalog': 174, '164': 20, 'transit': 891, 'eclipse': 298, 'candidates': 169, 'during': 290, 'comprehensive': 212, 'currently': 236, 'available': 130, 'k2': 469, 'shepherd': 775, 'outer': 625, 'cool': 225, 'belt': 143, 'spectral': 812, 'type': 902, 'm7': 510, '̃2700': 970, 'k': 468, 'thus': 881, 'no': 579, 'methane': 534, 'absorption': 66, 'h': 391, 'band': 134, 'presence': 675, 'close': 195, 'massive': 522, 'also': 92, 'interpretation': 451, 'level': 488, 'stellar': 826, 'activity': 75, 'instrument': 446, 'uses': 919, 'emccd': 302, 'cameras': 164, 'providing': 693, 'simultaneous': 788, 'dual': 287, 'color': 202, 'observations': 595, 'help': 402, 'characterize': 186, 'further': 367, 'discuss': 269, 'speckle': 810, 'subtraction': 842, 'suppression': 851, 'technique': 861, 'fully': 366, 'takes': 859, 'advantage': 82, 'time': 882, 'domain': 280, 'information': 441, 'quasi': 701, 'static': 824, 'speckles': 811, 'measure': 526, 'highest': 407, 'fidelity': 344, 'well': 945, 'accurate': 70, 'astrometry': 119, 'framework': 361, 'asteroseismic': 117, 'studies': 834, 'represent': 733, 'excellent': 320, 'tool': 887, 'determine': 260, 'structural': 831, 'differences': 262, 'without': 959, 'induced': 439, 'magnetic': 512, 'field': 345, 'infers': 440, 'saline': 751, 'ocean': 601, 'layer': 485, 'differential': 264, 'measurements': 528, 'palomar': 634, 'precision': 673, 'astrometric': 118, 'search': 761, 'exoplanet': 324, 'phases': 650, 'used': 917, 'constrain': 219, 'orbit': 615, 'previously': 682, 'known': 476, 'lsim2': 507, 'day': 242, 'subsystem': 841, 'triple': 897, 'system': 855, '63': 46, 'gem': 376, 'unknown': 910, 'year': 964, 'keplerian': 474, 'wobble': 960, 'superimposed': 847, 'much': 561, 'longer': 503, 'period': 646, '213': 33, 'years': 965, 'binary': 147, 'hr': 417, '2896': 35, 'just': 466, 'extrasolar': 332, 'microlensing': 537, 'been': 138, 'planetary': 655, 'caustic': 176, 'despite': 254, 'higher': 406, 'probability': 684, 'detection': 258, 'relative': 724, 'central': 180, 'has': 398, 'responsible': 737, 'four': 360, 'detections': 259, 'structures': 833, 'millimeter': 542, 'wavelengths': 941, 'gaps': 373, 'distributions': 276, 'large': 478, 'grains': 386, 'disk': 271, 'midplane': 538, 'not': 583, 'enough': 307, 'open': 610, 'distinct': 275, 'supersoft': 848, 'x': 963, 'ray': 713, 'component': 210, 'optical': 611, 'maximum': 523, 'probably': 685, 'arises': 109, 'optically': 612, 'thick': 874, 'boundary': 152, 'signals': 782, 'dominated': 283, 'events': 313, 'low': 504, 'ratios': 712, 'periods': 648, 'shadows': 774, 'several': 773, 'protoplanetary': 692, 'suggesting': 845, 'misalignment': 545, 'uncommon': 905, 'supplemental': 849, 'slit': 796, 'scanning': 754, 'spectroscopy': 814, 'adaptive': 77, 'optics': 613, 'performed': 645, '038': 2, 'hd': 401, '141569a': 16, 'extended': 331, 'h3': 392, 'but': 158, 'july': 462, '2009': 29, '3σ': 39, 'whose': 954, 'light': 490, 'curve': 237, 'consistent': 217, 'when': 947, 'passed': 638, 'behind': 141, 'while': 951, 'discovery': 268, 'α': 971, 'cen': 177, 'bb': 136, 'shown': 778, 'terrestrial': 866, 'can': 167, 'solar': 803, 'current': 235, 'observational': 594, 'facilities': 334, 'it': 458, 'remains': 728, 'whether': 949, 'case': 173, 'analogs': 97, 'hzs': 423, 'cos': 231, 'spectrum': 815, 'c': 161, 'ii': 429, 'iii': 430, 'iv': 461, 'si': 780, 'multiplets': 564, 'were': 946, 'leaving': 487, 'ec': 295, '01541': 1, '1409': 15, 'yet': 966, 'another': 104, 'rich': 740, 'p': 632, 'mode': 550, 'sdb': 760, 'pulsator': 697, 'limiting': 496, 'constraints': 220, 'pulsation': 695, 'modes': 553, 'closest': 196, 'so': 801, 'far': 339, '≲': 976, 'au': 126, 'effect': 299, 'radius': 709, 'means': 525, 'negligible': 573, 'enhancing': 306, 'puzzling': 698, 'problem': 686, 'anomalously': 103, 'bloated': 149, 'usefulness': 918, 'some': 805, 'might': 539, 'still': 827, 'affect': 83, 'overall': 629, 'stability': 818, 'absorptions': 67, 'other': 622, 'lines': 499, 'orbital': 616, 'companion': 206, 'fomalhaut': 356, 'b': 131, 'multi': 562, 'coronagraphic': 227, 'acquired': 71, 'hubble': 419, 'resolution': 735, 'channel': 185, 'advanced': 81, 'camera': 163, 'surveys': 854, 'dco': 243, 'line': 498, '169142': 21, 'total': 888, 'integrated': 448, '730': 50, '±': 969, '73': 49, 'mjy': 548, 'km': 475, 's1': 750, 'ground': 389, 'based': 135, 'searches': 763, 'employing': 305, 'techniques': 862, 'hosting': 414, 'milky': 540, 'way': 943, 'original': 621, 'kepler': 472, 'mission': 546, 'up': 912, 'seven': 772, 'had': 394, 'detect': 255, 'three': 880, 'until': 911, 'now': 584, 'gj': 384, '832b': 60, 'second': 764, 'largest': 480, 'angular': 102, 'distance': 273, 'its': 459, 'among': 94, '069': 4, 'arcsec': 107, 'making': 518, 'potentially': 668, 'interesting': 450, 'target': 860, 'future': 369, 'direct': 265, 'subsequently': 837, 'number': 586, 'increasing': 436, 'pdf': 641, 'pattern': 639, 'represents': 734, 'upturn': 915, 'followed': 355, 'overshooting': 630, 'peak': 642, 'spanning': 809, 'p̃': 699, '≲20': 977, 'jup': 463, 'possess': 663, 'actively': 74, 'accreting': 68, 'subdisks': 836, 'via': 931, 'paβ': 640, 'limit': 494, 'prevalence': 680, 'circumplanetary': 192, 'general': 377, 'expected': 327, 'quiescent': 704, 'phase': 649, 'accretion': 69, 'design': 253, 'reference': 721, 'missions': 547, 'simulations': 787, 'explore': 330, 'potential': 667, 'tpf': 890, 'o': 588, 'habitable': 393, 'around': 110, 'their': 870, 'spectrally': 813, 'atmospheres': 123, 'obtain': 599, 'rudimentary': 746, 'rapid': 711, 'developments': 261, 'kepler47': 473, 'first': 350, 'body': 150, 'circumbinary': 191, 'solution': 804, 'both': 151, 'problems': 687, 'use': 916, 'science': 759, 'exao': 318, 'wavefront': 939, 'sensor': 767, 'perform': 644, 'fast': 340, 'measurement': 527, 'correction': 229, 'remove': 730, 'aberrations': 62, 'soon': 806, 'they': 873, 'although': 93, 'only': 609, 'handful': 396, 'already': 91, 'changed': 184, 'our': 623, 'understanding': 907, 'formation': 358, 'beyond': 145, 'snow': 800, '100': 9, 'vast': 927, 'majority': 517, 'finally': 347, 'contrast': 223, 'must': 565, 'exceed': 319, 'certain': 181, 'minimum': 544, 'value': 922, 'hip': 408, '73145': 51, 'scattered': 755, 'near': 570, 'ir': 455, 'before': 139, 'substructure': 840, 'seen': 766, 'combined': 203, 'very': 930, 'different': 263, 'predictions': 674, 'cloud': 197, 'free': 362, 'models': 552, 'hot': 416, 'jupiters': 465, 'rayleigh': 714, 'scattering': 756, 'whole': 953, 'visible': 933, 'range': 710, 'narrow': 567, 'sodium': 802, 'potassium': 666, 'confirmed': 215, 'radio': 708, 'flares': 352, 't65': 857, 'consisting': 218, 'saturn': 753, 'mass': 520, 'faint': 336, 'ogle2013blg0132': 604, 'ogle2013blg1721': 605, 'previous': 681, 'cometary': 205, 'unexpected': 908, 'finding': 349, 'significant': 785, 'amount': 95, 'o2': 589, 'work': 961, 'addresses': 80, 'analysis': 98, 'reflex': 722, 'motion': 559, 'where': 948, 'observing': 598, 'host': 413, 'responds': 736, 'gravitational': 388, 'tug': 899, 'rotation': 744, 'dm1e': 278, '11': 11, 'dm1': 277, 'upper': 914, 'limits': 497, 'horologii': 412, 'quite': 705, '65': 47, 'ie': 427, '10000': 10, 'million': 543, 'plato': 657, 'will': 955, 'complemented': 208, 'follow': 354, 'particular': 637, 'precise': 672, 'monitoring': 554, 'confirm': 214, 'nature': 569, 'masses': 521, 'cumulative': 234, 'nasa': 568, 'reconstruct': 718, 'intrinsic': 453, 'occurrence': 600, 'neptune': 574, 'r': 706, '⊕': 979, 'intranight': 452, 'variability': 923, 'curves': 238, 'out': 624, 'u': 903, '’': 974, '142245': 17, 'evidence': 314, 'actually': 76, 'itself': 460, 'projected': 689, 'separation': 768, 'hierarchical': 404, 'hosts': 415, 'member': 530, 'list': 500, 'presently': 678, 'last': 481, 'decade': 246, 'increased': 435, 'thousand': 878, 'unconfirmed': 906, 'variety': 926, 'physical': 653, 'parameters': 635, 'exotic': 326, 'plausibly': 658, 'exist': 323, 'outside': 627, 'waiting': 936, 'next': 577, 'generation': 379, 'exploration': 329, '759': 53, 'velocities': 928, 'distances': 274, 'comply': 209, 'schmidt': 758, 'law': 484, 'depend': 248, 'surface': 852, 'temperature': 865, 'addition': 78, 'substantial': 838, 'variable': 924, 'arxiv10062815': 113, 'continuously': 222, 'augmented': 127, 'collected': 201, 'ebs': 294, 'statistical': 825, 'outliers': 626, 'historical': 410, '13000': 14, '2011': 30, 'september': 769, 'one': 608, 'sn': 799, 'like': 491, 'event': 312, 'properties': 690, 'described': 252, 'emphasizing': 304, 'questions': 703, 'set': 771, 'peculiarities': 643, 'eccentricity': 297, 'small': 797, 'proposed': 691, 'answers': 105, 'trends': 896, 'pointed': 660, 'sample': 752, 'gathered': 374, 'clear': 194, 'processes': 688, 'binaries': 146, 'element': 301, 'metal': 532, 'content': 221, 'images': 431, 'taken': 858, 'observation': 593, 'epochs': 308, 'check': 187, 'moving': 560, 'initial': 443, 'census': 178, 'ring': 741, 'carried': 172, 'upcoming': 913, 'considerable': 216, 'change': 183, 'blazhko': 148, 'v25': 921, '1919': 22, 'main': 515, 'sequence': 770, 'analyzed': 99, 'robust': 742, '737': 52, 'likewise': 493, 'ganymede': 372, 'attempted': 125, '36': 38, 'wavelength': 940, 'dependence': 249, 'aims': 85, 'long': 502, 'run': 747, 'observed': 597, 'corot': 228, 'lrc01': 506, 'towards': 889, 'galactic': 370, 'center': 179, 'direction': 266, 'aquila': 106, 'lasted': 482, 'may': 524, 'october': 602, '2007': 28, 'metallicity': 533, 'trend': 895, 'indicating': 438, 'multiple': 563, 'likely': 492, 'additional': 79, 'readily': 716, 'state': 822, 'art': 111, 'rv': 748, 'provokes': 694, 'question': 702, 'aurorae': 128, 'pre': 671, 'again': 84, 'balmer': 133, 'strength': 828, 'timing': 884, 'bow': 153, 'shock': 776, 'geometry': 380, 'reported': 732, 'does': 279, 'describe': 251, 'latest': 483, 'furthermore': 368, 'indicates': 437, 'c2h2': 162, 'major': 516, 'absorber': 65, 'atmosphere': 122, 'wasp12b': 938, '8': 55, 'circularly': 190, 'polarized': 661, 'signatures': 784, '819': 59, 'nm': 578, 'active': 73, 'region': 723, 'faced': 333, 'giant': 382, '∼05': 975, '80607': 58, 'too': 886, 'granulation': 387, 'background': 132, 'reliably': 726, 'above': 64, 'white': 952, 'if': 428, 'roughly': 745, 'sized': 795, 'moon': 556, 'would': 962, 'duet': 288, 'hz': 422, 'crucial': 233, 'recover': 719, 'history': 411, 'frequency': 363, 'least': 486, '80': 56, 'remainder': 727, 'model': 551, 'true': 898, 'third': 875, 'magnification': 513, 'dominant': 281, 'results': 738, 'icy': 425, 'volatile': 935, 'composition': 211, 'cold': 200, 'evidenced': 315, 'hypothetical': 421, 'carbon': 170, 'or': 614, 'brigham': 155, 'young': 967, 'university': 909, 'byu': 160, 'assisting': 115, 'kelt': 471, '04meter': 3, '09meter': 6, 'since': 790, 'rotating': 743, 'uncertainties': 904, 'larger': 479, 'discovered': 267, 'nearly': 572, 'plus': 659, 'jupiter': 464, 'presents': 679, 'power': 669, 'orders': 620, 'suggests': 846, 'wind': 956, 'generate': 378, 'strong': 829, 'lofar': 501, 'numerous': 587, 'measuring': 529, 'report': 731, 'six': 793, 'substellar': 839, 'doppler': 284, 'harps': 397, 'installed': 445, 'eso': 309, 'la': 477, 'silla': 786, 'chile': 188, 'drag': 285, 'dominate': 282, 'grain': 385, 'removal': 729, 'explain': 328, 'dearth': 244, 'older': 606, 'myr': 566, 'excesses': 322, 'oxygen': 631, 'twin': 900, 'red': 720, 'factor': 335, 'smaller': 798, 'monoxide': 555, 'recently': 717, 'τ': 973, 'boötis': 154, 'albeit': 87, 'fainter': 337, 'campaigns': 166, 'presented': 677, 'reveal': 739, 'pulsations': 696, 'initially': 444, 'virt': 932, 'begun': 140, 'reacting': 715, 'autonomously': 129, 'gamma': 371, 'coordinates': 226, 'network': 575, 'gcn': 375, 'alerts': 88, '2017': 31, 'challenges': 182, 'caribbean': 171, 'hurricanes': 420, 'irma': 456, 'maria': 519, 'participant': 636, 'campaign': 165, 'gw170817': 390, 'source': 807, 'simultaneously': 789, 'waves': 942, 'electromagnetic': 300, 'objects': 592, 'feasibly': 341, 'correlated': 230, 'controlled': 224, 'sub': 835, 'milli': 541, 'levels': 489, 'hires': 409, '537': 44, '129': 13, 'd': 239, 'atomic': 124, 'magnesium': 511, 'mg': 536, 'i': 424, 'singly': 792, 'ionized': 454, 'searched': 762, 'signature': 783, '77338b': 54, 'none': 582, 'periodic': 647, 'variations': 925, 'duration': 289, 'across': 72, 'hat': 399, 'p12b': 633, 'inclination': 433}\n"
     ]
    }
   ],
   "source": [
    "print(stcv.vocabulary_)"
   ]
  },
  {
   "cell_type": "markdown",
   "metadata": {},
   "source": [
    "If you initialize a ```SpacyPipeProcessor``` object with the ```multi_iters``` parameter set to ```True```, the result of its ```__call__``` method will be a list of ```Doc``` objects, instead of a single ```generator```. This allows you to iterate multiple times thorugh returned objects if you need."
   ]
  },
  {
   "cell_type": "code",
   "execution_count": null,
   "metadata": {},
   "outputs": [
    {
     "data": {
      "text/plain": [
       "<100x980 sparse matrix of type '<class 'numpy.int64'>'\n",
       "\twith 2361 stored elements in Compressed Sparse Row format>"
      ]
     },
     "execution_count": 16,
     "metadata": {},
     "output_type": "execute_result"
    }
   ],
   "source": [
    "spp = SpacyPipeProcessor(nlp, n_threads=1, multi_iters=True)\n",
    "spacy_docs = spp(raw_documents)\n",
    "\n",
    "stcv = SpacyTokenCountVectorizer(ignore_chars='!\"#$%&\\'()*+,-./:;<=>?@[\\\\]^_`{|}~')\n",
    "stcv.fit(spacy_docs)\n",
    "count_vectors = stcv.transform(spacy_docs); count_vectors"
   ]
  },
  {
   "cell_type": "code",
   "execution_count": null,
   "metadata": {},
   "outputs": [
    {
     "name": "stdout",
     "output_type": "stream",
     "text": [
      "{'we': 944, 'detected': 256, 'visual': 934, 'companions': 207, 'within': 958, '1': 7, 'for': 357, '5': 43, 'stars': 821, 'between': 144, 'and': 100, '2': 23, '7': 48, '4': 40, '15': 18, 'using': 920, 'these': 872, 'data': 240, 'photometry': 651, 'from': 364, 'the': 869, 'spitzer': 817, 'space': 808, 'telescope': 863, 'have': 400, 'identified': 426, 'members': 531, 'with': 957, 'infrared': 442, 'excess': 321, 'emission': 303, 'circumstellar': 193, 'disks': 272, 'estimated': 310, 'evolutionary': 316, 'stages': 819, 'of': 603, 'which': 950, 'include': 434, '31': 37, 'new': 576, 'full': 365, '16': 19, 'candidate': 168, 'transitional': 892, 'evolved': 317, 'debris': 245, 'over': 628, '800': 57, 'exoplanets': 325, 'to': 885, 'date': 241, 'half': 395, 'are': 108, 'on': 607, 'non': 581, 'circular': 189, 'orbits': 618, 'eccentricities': 296, 'as': 114, 'high': 405, '093': 5, 'find': 348, 'that': 868, 'false': 338, 'positive': 662, 'scenarios': 757, 'co': 198, 'at': 121, '235': 34, 'μm': 972, 'co2': 199, '20': 24, '43': 41, 'o4': 591, '127': 12, 'all': 89, 'stronger': 830, 'features': 342, 'in': 432, 'transmission': 894, 'than': 867, 'o2o3': 590, 'could': 232, 'be': 137, 's': 749, 'ns': 585, '≳': 978, '3': 36, 'an': 96, 'earth': 292, 'size': 794, 'planet': 654, 'orbiting': 617, 'a': 61, 'nearby': 571, 'm': 509, 'dwarf': 291, 'star': 820, 'few': 343, '10': 8, 'transits': 893, 'assuming': 116, 'photon': 652, 'limited': 495, 'noise': 580, 'present': 676, 'two': 901, 'keck': 470, 'observatory': 596, 'this': 876, 'disfavours': 270, 'possibility': 664, 'gi': 381, 'caused': 175, 'spiral': 816, 'structure': 832, 'systems': 856, 'qlt025': 700, 'being': 142, 'relatively': 725, 'short': 777, 'integration': 449, 'times': 883, 'such': 844, 'those': 877, 'found': 359, 'dsharp': 286, 'alma': 90, 'survey': 853, 'andrews': 101, 'et': 311, 'al': 86, '2018': 32, 'huang': 418, 'planets': 656, 'lying': 508, 'zone': 968, 'then': 871, 'more': 557, 'easily': 293, 'radial': 707, 'velocity': 929, 'method': 535, 'most': 558, 'successful': 843, 'detecting': 257, '2004': 27, 'flux': 353, 'density': 247, 'was': 937, '005': 0, 'jy': 467, 'about': 63, 'order': 619, 'magnitude': 514, 'lower': 505, 'single': 791, '2003': 26, 'burst': 156, 'five': 351, 'bursts': 157, '2002': 25, 'statement': 823, 'is': 457, 'supported': 850, 'by': 159, 'figure': 346, 'given': 383, 'article': 112, 'shows': 779, 'primary': 683, 'signal': 781, 'depth': 250, '6': 45, 'mmag': 549, '4σ': 42, 'confidence': 213, 'possible': 665, 'secondary': 765, 'combining': 204, 'instruments': 447, 'powerful': 670, 'telescopes': 864, 'astronomers': 120, 'thousands': 879, 'here': 403, 'catalog': 174, '164': 20, 'transit': 891, 'eclipse': 298, 'candidates': 169, 'during': 290, 'comprehensive': 212, 'currently': 236, 'available': 130, 'k2': 469, 'shepherd': 775, 'outer': 625, 'cool': 225, 'belt': 143, 'spectral': 812, 'type': 902, 'm7': 510, '̃2700': 970, 'k': 468, 'thus': 881, 'no': 579, 'methane': 534, 'absorption': 66, 'h': 391, 'band': 134, 'presence': 675, 'close': 195, 'massive': 522, 'also': 92, 'interpretation': 451, 'level': 488, 'stellar': 826, 'activity': 75, 'instrument': 446, 'uses': 919, 'emccd': 302, 'cameras': 164, 'providing': 693, 'simultaneous': 788, 'dual': 287, 'color': 202, 'observations': 595, 'help': 402, 'characterize': 186, 'further': 367, 'discuss': 269, 'speckle': 810, 'subtraction': 842, 'suppression': 851, 'technique': 861, 'fully': 366, 'takes': 859, 'advantage': 82, 'time': 882, 'domain': 280, 'information': 441, 'quasi': 701, 'static': 824, 'speckles': 811, 'measure': 526, 'highest': 407, 'fidelity': 344, 'well': 945, 'accurate': 70, 'astrometry': 119, 'framework': 361, 'asteroseismic': 117, 'studies': 834, 'represent': 733, 'excellent': 320, 'tool': 887, 'determine': 260, 'structural': 831, 'differences': 262, 'without': 959, 'induced': 439, 'magnetic': 512, 'field': 345, 'infers': 440, 'saline': 751, 'ocean': 601, 'layer': 485, 'differential': 264, 'measurements': 528, 'palomar': 634, 'precision': 673, 'astrometric': 118, 'search': 761, 'exoplanet': 324, 'phases': 650, 'used': 917, 'constrain': 219, 'orbit': 615, 'previously': 682, 'known': 476, 'lsim2': 507, 'day': 242, 'subsystem': 841, 'triple': 897, 'system': 855, '63': 46, 'gem': 376, 'unknown': 910, 'year': 964, 'keplerian': 474, 'wobble': 960, 'superimposed': 847, 'much': 561, 'longer': 503, 'period': 646, '213': 33, 'years': 965, 'binary': 147, 'hr': 417, '2896': 35, 'just': 466, 'extrasolar': 332, 'microlensing': 537, 'been': 138, 'planetary': 655, 'caustic': 176, 'despite': 254, 'higher': 406, 'probability': 684, 'detection': 258, 'relative': 724, 'central': 180, 'has': 398, 'responsible': 737, 'four': 360, 'detections': 259, 'structures': 833, 'millimeter': 542, 'wavelengths': 941, 'gaps': 373, 'distributions': 276, 'large': 478, 'grains': 386, 'disk': 271, 'midplane': 538, 'not': 583, 'enough': 307, 'open': 610, 'distinct': 275, 'supersoft': 848, 'x': 963, 'ray': 713, 'component': 210, 'optical': 611, 'maximum': 523, 'probably': 685, 'arises': 109, 'optically': 612, 'thick': 874, 'boundary': 152, 'signals': 782, 'dominated': 283, 'events': 313, 'low': 504, 'ratios': 712, 'periods': 648, 'shadows': 774, 'several': 773, 'protoplanetary': 692, 'suggesting': 845, 'misalignment': 545, 'uncommon': 905, 'supplemental': 849, 'slit': 796, 'scanning': 754, 'spectroscopy': 814, 'adaptive': 77, 'optics': 613, 'performed': 645, '038': 2, 'hd': 401, '141569a': 16, 'extended': 331, 'h3': 392, 'but': 158, 'july': 462, '2009': 29, '3σ': 39, 'whose': 954, 'light': 490, 'curve': 237, 'consistent': 217, 'when': 947, 'passed': 638, 'behind': 141, 'while': 951, 'discovery': 268, 'α': 971, 'cen': 177, 'bb': 136, 'shown': 778, 'terrestrial': 866, 'can': 167, 'solar': 803, 'current': 235, 'observational': 594, 'facilities': 334, 'it': 458, 'remains': 728, 'whether': 949, 'case': 173, 'analogs': 97, 'hzs': 423, 'cos': 231, 'spectrum': 815, 'c': 161, 'ii': 429, 'iii': 430, 'iv': 461, 'si': 780, 'multiplets': 564, 'were': 946, 'leaving': 487, 'ec': 295, '01541': 1, '1409': 15, 'yet': 966, 'another': 104, 'rich': 740, 'p': 632, 'mode': 550, 'sdb': 760, 'pulsator': 697, 'limiting': 496, 'constraints': 220, 'pulsation': 695, 'modes': 553, 'closest': 196, 'so': 801, 'far': 339, '≲': 976, 'au': 126, 'effect': 299, 'radius': 709, 'means': 525, 'negligible': 573, 'enhancing': 306, 'puzzling': 698, 'problem': 686, 'anomalously': 103, 'bloated': 149, 'usefulness': 918, 'some': 805, 'might': 539, 'still': 827, 'affect': 83, 'overall': 629, 'stability': 818, 'absorptions': 67, 'other': 622, 'lines': 499, 'orbital': 616, 'companion': 206, 'fomalhaut': 356, 'b': 131, 'multi': 562, 'coronagraphic': 227, 'acquired': 71, 'hubble': 419, 'resolution': 735, 'channel': 185, 'advanced': 81, 'camera': 163, 'surveys': 854, 'dco': 243, 'line': 498, '169142': 21, 'total': 888, 'integrated': 448, '730': 50, '±': 969, '73': 49, 'mjy': 548, 'km': 475, 's1': 750, 'ground': 389, 'based': 135, 'searches': 763, 'employing': 305, 'techniques': 862, 'hosting': 414, 'milky': 540, 'way': 943, 'original': 621, 'kepler': 472, 'mission': 546, 'up': 912, 'seven': 772, 'had': 394, 'detect': 255, 'three': 880, 'until': 911, 'now': 584, 'gj': 384, '832b': 60, 'second': 764, 'largest': 480, 'angular': 102, 'distance': 273, 'its': 459, 'among': 94, '069': 4, 'arcsec': 107, 'making': 518, 'potentially': 668, 'interesting': 450, 'target': 860, 'future': 369, 'direct': 265, 'subsequently': 837, 'number': 586, 'increasing': 436, 'pdf': 641, 'pattern': 639, 'represents': 734, 'upturn': 915, 'followed': 355, 'overshooting': 630, 'peak': 642, 'spanning': 809, 'p̃': 699, '≲20': 977, 'jup': 463, 'possess': 663, 'actively': 74, 'accreting': 68, 'subdisks': 836, 'via': 931, 'paβ': 640, 'limit': 494, 'prevalence': 680, 'circumplanetary': 192, 'general': 377, 'expected': 327, 'quiescent': 704, 'phase': 649, 'accretion': 69, 'design': 253, 'reference': 721, 'missions': 547, 'simulations': 787, 'explore': 330, 'potential': 667, 'tpf': 890, 'o': 588, 'habitable': 393, 'around': 110, 'their': 870, 'spectrally': 813, 'atmospheres': 123, 'obtain': 599, 'rudimentary': 746, 'rapid': 711, 'developments': 261, 'kepler47': 473, 'first': 350, 'body': 150, 'circumbinary': 191, 'solution': 804, 'both': 151, 'problems': 687, 'use': 916, 'science': 759, 'exao': 318, 'wavefront': 939, 'sensor': 767, 'perform': 644, 'fast': 340, 'measurement': 527, 'correction': 229, 'remove': 730, 'aberrations': 62, 'soon': 806, 'they': 873, 'although': 93, 'only': 609, 'handful': 396, 'already': 91, 'changed': 184, 'our': 623, 'understanding': 907, 'formation': 358, 'beyond': 145, 'snow': 800, '100': 9, 'vast': 927, 'majority': 517, 'finally': 347, 'contrast': 223, 'must': 565, 'exceed': 319, 'certain': 181, 'minimum': 544, 'value': 922, 'hip': 408, '73145': 51, 'scattered': 755, 'near': 570, 'ir': 455, 'before': 139, 'substructure': 840, 'seen': 766, 'combined': 203, 'very': 930, 'different': 263, 'predictions': 674, 'cloud': 197, 'free': 362, 'models': 552, 'hot': 416, 'jupiters': 465, 'rayleigh': 714, 'scattering': 756, 'whole': 953, 'visible': 933, 'range': 710, 'narrow': 567, 'sodium': 802, 'potassium': 666, 'confirmed': 215, 'radio': 708, 'flares': 352, 't65': 857, 'consisting': 218, 'saturn': 753, 'mass': 520, 'faint': 336, 'ogle2013blg0132': 604, 'ogle2013blg1721': 605, 'previous': 681, 'cometary': 205, 'unexpected': 908, 'finding': 349, 'significant': 785, 'amount': 95, 'o2': 589, 'work': 961, 'addresses': 80, 'analysis': 98, 'reflex': 722, 'motion': 559, 'where': 948, 'observing': 598, 'host': 413, 'responds': 736, 'gravitational': 388, 'tug': 899, 'rotation': 744, 'dm1e': 278, '11': 11, 'dm1': 277, 'upper': 914, 'limits': 497, 'horologii': 412, 'quite': 705, '65': 47, 'ie': 427, '10000': 10, 'million': 543, 'plato': 657, 'will': 955, 'complemented': 208, 'follow': 354, 'particular': 637, 'precise': 672, 'monitoring': 554, 'confirm': 214, 'nature': 569, 'masses': 521, 'cumulative': 234, 'nasa': 568, 'reconstruct': 718, 'intrinsic': 453, 'occurrence': 600, 'neptune': 574, 'r': 706, '⊕': 979, 'intranight': 452, 'variability': 923, 'curves': 238, 'out': 624, 'u': 903, '’': 974, '142245': 17, 'evidence': 314, 'actually': 76, 'itself': 460, 'projected': 689, 'separation': 768, 'hierarchical': 404, 'hosts': 415, 'member': 530, 'list': 500, 'presently': 678, 'last': 481, 'decade': 246, 'increased': 435, 'thousand': 878, 'unconfirmed': 906, 'variety': 926, 'physical': 653, 'parameters': 635, 'exotic': 326, 'plausibly': 658, 'exist': 323, 'outside': 627, 'waiting': 936, 'next': 577, 'generation': 379, 'exploration': 329, '759': 53, 'velocities': 928, 'distances': 274, 'comply': 209, 'schmidt': 758, 'law': 484, 'depend': 248, 'surface': 852, 'temperature': 865, 'addition': 78, 'substantial': 838, 'variable': 924, 'arxiv10062815': 113, 'continuously': 222, 'augmented': 127, 'collected': 201, 'ebs': 294, 'statistical': 825, 'outliers': 626, 'historical': 410, '13000': 14, '2011': 30, 'september': 769, 'one': 608, 'sn': 799, 'like': 491, 'event': 312, 'properties': 690, 'described': 252, 'emphasizing': 304, 'questions': 703, 'set': 771, 'peculiarities': 643, 'eccentricity': 297, 'small': 797, 'proposed': 691, 'answers': 105, 'trends': 896, 'pointed': 660, 'sample': 752, 'gathered': 374, 'clear': 194, 'processes': 688, 'binaries': 146, 'element': 301, 'metal': 532, 'content': 221, 'images': 431, 'taken': 858, 'observation': 593, 'epochs': 308, 'check': 187, 'moving': 560, 'initial': 443, 'census': 178, 'ring': 741, 'carried': 172, 'upcoming': 913, 'considerable': 216, 'change': 183, 'blazhko': 148, 'v25': 921, '1919': 22, 'main': 515, 'sequence': 770, 'analyzed': 99, 'robust': 742, '737': 52, 'likewise': 493, 'ganymede': 372, 'attempted': 125, '36': 38, 'wavelength': 940, 'dependence': 249, 'aims': 85, 'long': 502, 'run': 747, 'observed': 597, 'corot': 228, 'lrc01': 506, 'towards': 889, 'galactic': 370, 'center': 179, 'direction': 266, 'aquila': 106, 'lasted': 482, 'may': 524, 'october': 602, '2007': 28, 'metallicity': 533, 'trend': 895, 'indicating': 438, 'multiple': 563, 'likely': 492, 'additional': 79, 'readily': 716, 'state': 822, 'art': 111, 'rv': 748, 'provokes': 694, 'question': 702, 'aurorae': 128, 'pre': 671, 'again': 84, 'balmer': 133, 'strength': 828, 'timing': 884, 'bow': 153, 'shock': 776, 'geometry': 380, 'reported': 732, 'does': 279, 'describe': 251, 'latest': 483, 'furthermore': 368, 'indicates': 437, 'c2h2': 162, 'major': 516, 'absorber': 65, 'atmosphere': 122, 'wasp12b': 938, '8': 55, 'circularly': 190, 'polarized': 661, 'signatures': 784, '819': 59, 'nm': 578, 'active': 73, 'region': 723, 'faced': 333, 'giant': 382, '∼05': 975, '80607': 58, 'too': 886, 'granulation': 387, 'background': 132, 'reliably': 726, 'above': 64, 'white': 952, 'if': 428, 'roughly': 745, 'sized': 795, 'moon': 556, 'would': 962, 'duet': 288, 'hz': 422, 'crucial': 233, 'recover': 719, 'history': 411, 'frequency': 363, 'least': 486, '80': 56, 'remainder': 727, 'model': 551, 'true': 898, 'third': 875, 'magnification': 513, 'dominant': 281, 'results': 738, 'icy': 425, 'volatile': 935, 'composition': 211, 'cold': 200, 'evidenced': 315, 'hypothetical': 421, 'carbon': 170, 'or': 614, 'brigham': 155, 'young': 967, 'university': 909, 'byu': 160, 'assisting': 115, 'kelt': 471, '04meter': 3, '09meter': 6, 'since': 790, 'rotating': 743, 'uncertainties': 904, 'larger': 479, 'discovered': 267, 'nearly': 572, 'plus': 659, 'jupiter': 464, 'presents': 679, 'power': 669, 'orders': 620, 'suggests': 846, 'wind': 956, 'generate': 378, 'strong': 829, 'lofar': 501, 'numerous': 587, 'measuring': 529, 'report': 731, 'six': 793, 'substellar': 839, 'doppler': 284, 'harps': 397, 'installed': 445, 'eso': 309, 'la': 477, 'silla': 786, 'chile': 188, 'drag': 285, 'dominate': 282, 'grain': 385, 'removal': 729, 'explain': 328, 'dearth': 244, 'older': 606, 'myr': 566, 'excesses': 322, 'oxygen': 631, 'twin': 900, 'red': 720, 'factor': 335, 'smaller': 798, 'monoxide': 555, 'recently': 717, 'τ': 973, 'boötis': 154, 'albeit': 87, 'fainter': 337, 'campaigns': 166, 'presented': 677, 'reveal': 739, 'pulsations': 696, 'initially': 444, 'virt': 932, 'begun': 140, 'reacting': 715, 'autonomously': 129, 'gamma': 371, 'coordinates': 226, 'network': 575, 'gcn': 375, 'alerts': 88, '2017': 31, 'challenges': 182, 'caribbean': 171, 'hurricanes': 420, 'irma': 456, 'maria': 519, 'participant': 636, 'campaign': 165, 'gw170817': 390, 'source': 807, 'simultaneously': 789, 'waves': 942, 'electromagnetic': 300, 'objects': 592, 'feasibly': 341, 'correlated': 230, 'controlled': 224, 'sub': 835, 'milli': 541, 'levels': 489, 'hires': 409, '537': 44, '129': 13, 'd': 239, 'atomic': 124, 'magnesium': 511, 'mg': 536, 'i': 424, 'singly': 792, 'ionized': 454, 'searched': 762, 'signature': 783, '77338b': 54, 'none': 582, 'periodic': 647, 'variations': 925, 'duration': 289, 'across': 72, 'hat': 399, 'p12b': 633, 'inclination': 433}\n"
     ]
    }
   ],
   "source": [
    "print(stcv.vocabulary_)"
   ]
  },
  {
   "cell_type": "markdown",
   "metadata": {},
   "source": [
    "### SpacyLemmaCountVectorizer"
   ]
  },
  {
   "cell_type": "markdown",
   "metadata": {},
   "source": [
    "```SpacyLemmaCountVectorizer``` is very similar to ```SpacyTokenCountVectorizer```, but it performs lemmatization instead of tokenization."
   ]
  },
  {
   "cell_type": "code",
   "execution_count": null,
   "metadata": {},
   "outputs": [
    {
     "data": {
      "text/plain": [
       "<100x881 sparse matrix of type '<class 'numpy.int64'>'\n",
       "\twith 2320 stored elements in Compressed Sparse Row format>"
      ]
     },
     "execution_count": 18,
     "metadata": {},
     "output_type": "execute_result"
    }
   ],
   "source": [
    "spp = SpacyPipeProcessor(nlp, n_threads=1)\n",
    "spacy_docs = spp(raw_documents);\n",
    "\n",
    "slcv = SpacyLemmaCountVectorizer(ignore_chars='!\"#$%&\\'()*+,-./:;<=>?@[\\\\]^_`{|}~')\n",
    "count_vectors = slcv.fit_transform(spacy_docs); count_vectors"
   ]
  },
  {
   "cell_type": "code",
   "execution_count": null,
   "metadata": {},
   "outputs": [
    {
     "name": "stdout",
     "output_type": "stream",
     "text": [
      "{'we': 847, 'detect': 239, 'visual': 839, 'companion': 194, 'within': 860, '1': 7, 'for': 329, '5': 43, 'star': 740, 'between': 139, 'and': 99, '2': 23, '7': 48, '4': 40, '15': 18, 'use': 825, 'these': 785, 'datum': 226, 'photometry': 587, 'from': 335, 'the': 782, 'spitzer': 737, 'space': 729, 'telescope': 777, 'have': 369, 'identify': 390, 'member': 478, 'with': 859, 'infrared': 404, 'excess': 296, 'emission': 280, 'circumstellar': 182, 'disk': 252, 'estimate': 287, 'evolutionary': 291, 'stage': 739, 'of': 544, 'which': 852, 'include': 398, '31': 37, 'new': 519, 'full': 336, '16': 19, 'candidate': 159, 'transitional': 803, 'evolve': 292, 'debris': 230, 'over': 566, '800': 57, 'exoplanet': 298, 'to': 796, 'date': 225, 'half': 364, 'be': 134, 'on': 548, 'non': 524, 'circular': 178, 'orbit': 556, 'eccentricity': 274, 'as': 112, 'high': 374, '093': 5, 'find': 321, 'that': 781, 'false': 311, 'positive': 597, 'scenario': 684, 'co': 186, 'at': 119, '235': 34, 'μm': 873, 'co2': 187, '20': 24, '43': 41, 'o4': 534, '127': 12, 'all': 88, 'strong': 748, 'feature': 315, 'in': 396, 'transmission': 804, 'than': 780, 'o2o3': 533, 'could': 218, 's': 677, 'ns': 528, '≳': 879, '3': 36, 'an': 95, 'earth': 270, 'size': 716, 'planet': 590, 'a': 61, 'nearby': 514, 'm': 459, 'dwarf': 269, 'few': 316, '10': 8, 'transit': 802, 'assume': 114, 'photon': 588, 'limit': 451, 'noise': 523, 'present': 611, 'two': 810, 'keck': 430, 'observatory': 538, 'this': 789, 'disfavour': 251, 'possibility': 599, 'gi': 352, 'cause': 165, 'spiral': 736, 'structure': 750, 'system': 771, 'qlt025': 631, 'relatively': 655, 'short': 702, 'integration': 410, 'time': 794, 'such': 761, 'those': 790, 'dsharp': 264, 'alma': 89, 'survey': 769, 'andrews': 100, 'et': 288, 'al': 85, '2018': 32, 'huang': 383, 'lie': 446, 'zone': 869, 'then': 784, 'more': 500, 'easily': 271, 'radial': 637, 'velocity': 834, 'method': 482, 'most': 501, 'successful': 760, '2004': 27, 'flux': 326, 'density': 232, '005': 0, 'jy': 427, 'about': 63, 'order': 558, 'magnitude': 464, 'low': 456, 'single': 713, '2003': 26, 'burst': 150, 'five': 324, '2002': 25, 'statement': 742, 'support': 766, 'by': 152, 'figure': 319, 'give': 354, 'article': 110, 'show': 703, 'primary': 616, 'signal': 705, 'depth': 235, '6': 45, 'mmag': 494, '4σ': 42, 'confidence': 200, 'possible': 600, 'secondary': 690, 'combine': 191, 'instrument': 408, 'powerful': 605, 'astronomer': 118, 'thousand': 791, 'here': 372, 'catalog': 164, '164': 20, 'eclipse': 275, 'during': 268, 'comprehensive': 199, 'currently': 222, 'available': 127, 'k2': 429, 'shepherd': 700, 'outer': 563, 'cool': 211, 'belt': 138, 'spectral': 732, 'type': 811, 'm7': 460, '̃2700': 871, 'k': 428, 'thus': 793, 'no': 522, 'methane': 481, 'absorption': 66, 'h': 361, 'band': 131, 'presence': 610, 'close': 184, 'massive': 472, 'also': 91, 'interpretation': 412, 'level': 445, 'stellar': 745, 'activity': 74, 'emccd': 279, 'camera': 156, 'provide': 625, 'simultaneous': 710, 'dual': 265, 'color': 190, 'observation': 536, 'help': 371, 'characterize': 175, 'further': 338, 'discuss': 250, 'speckle': 731, 'subtraction': 759, 'suppression': 767, 'technique': 776, 'fully': 337, 'take': 774, 'advantage': 81, 'domain': 259, 'information': 403, 'quasi': 632, 'static': 743, 'measure': 476, 'fidelity': 317, 'well': 848, 'accurate': 69, 'astrometry': 117, 'framework': 332, 'asteroseismic': 115, 'study': 751, 'represent': 662, 'excellent': 295, 'tool': 798, 'determine': 241, 'structural': 749, 'difference': 243, 'without': 861, 'induce': 401, 'magnetic': 462, 'field': 318, 'infer': 402, 'saline': 679, 'ocean': 542, 'layer': 442, 'differential': 245, 'measurement': 477, 'palomar': 572, 'precision': 608, 'astrometric': 116, 'search': 688, 'systems': 772, 'phases': 586, 'constrain': 205, 'previously': 615, 'know': 436, 'lsim2': 458, 'day': 227, 'subsystem': 758, 'triple': 806, '63': 46, 'gem': 347, 'unknown': 819, 'year': 866, 'keplerian': 434, 'wobble': 862, 'superimpose': 763, 'much': 504, 'long': 455, 'period': 583, '213': 33, 'binary': 141, 'hr': 382, '2896': 35, 'just': 426, 'extrasolar': 305, 'microlense': 484, 'planetary': 591, 'caustic': 166, 'despite': 238, 'probability': 617, 'detection': 240, 'relative': 654, 'central': 170, 'responsible': 665, 'four': 331, 'millimeter': 488, 'wavelength': 845, 'gap': 344, 'distribution': 255, 'large': 438, 'grain': 356, 'midplane': 485, 'not': 526, 'enough': 284, 'open': 551, 'distinct': 254, 'supersoft': 764, 'x': 865, 'ray': 643, 'component': 197, 'optical': 553, 'maximum': 473, 'probably': 618, 'arise': 107, 'optically': 554, 'thick': 787, 'boundary': 146, 'dominate': 261, 'event': 289, 'ratio': 642, 'shadow': 699, 'several': 698, 'protoplanetary': 624, 'suggest': 762, 'misalignment': 491, 'uncommon': 814, 'supplemental': 765, 'slit': 718, 'scan': 682, 'spectroscopy': 734, 'adaptive': 76, 'optic': 552, 'perform': 582, '038': 2, 'hd': 370, '141569a': 16, 'extended': 304, 'h3': 362, 'but': 151, 'july': 422, '2009': 29, '3σ': 39, 'whose': 856, 'light': 447, 'curve': 223, 'consistent': 204, 'when': 849, 'pass': 576, 'behind': 137, 'while': 853, 'discovery': 249, 'α': 872, 'cen': 167, 'bb': 133, 'terrestrial': 779, 'can': 158, 'solar': 724, 'current': 221, 'observational': 537, 'facility': 307, 'it': 418, 'remain': 657, 'whether': 851, 'case': 163, 'analog': 96, 'hz': 387, 'cos': 217, 'spectrum': 735, 'c': 154, 'ii': 393, 'iii': 394, 'iv': 421, 'si': 704, 'multiplet': 507, 'leave': 444, 'ec': 273, '01541': 1, '1409': 15, 'yet': 867, 'another': 103, 'rich': 668, 'p': 570, 'mode': 495, 'sdb': 687, 'pulsator': 628, 'constraint': 206, 'pulsation': 627, 'so': 722, 'far': 312, '≲': 877, 'au': 123, 'effect': 276, 'radius': 639, 'means': 475, 'negligible': 516, 'enhance': 283, 'puzzle': 629, 'problem': 619, 'anomalously': 102, 'bloated': 143, 'usefulness': 826, 'some': 726, 'may': 474, 'still': 746, 'affect': 82, 'overall': 567, 'stability': 738, 'other': 560, 'line': 452, 'orbital': 557, 'fomalhaut': 328, 'b': 128, 'multi': 505, 'coronagraphic': 213, 'acquire': 70, 'hubble': 384, 'resolution': 663, 'channel': 174, 'advanced': 80, 'surveys': 770, 'dco': 228, '169142': 21, 'total': 799, 'integrated': 409, '730': 50, '±': 870, '73': 49, 'mjy': 493, 'km': 435, 's1': 678, 'ground': 359, 'base': 132, 'employ': 282, 'host': 380, 'milky': 486, 'way': 846, 'original': 559, 'kepler': 432, 'mission': 492, 'up': 821, 'seven': 697, 'three': 792, 'until': 820, 'now': 527, 'gj': 355, '832b': 60, 'second': 689, 'angular': 101, 'distance': 253, 'its': 419, 'among': 93, '069': 4, 'arcsec': 106, 'make': 468, 'potentially': 603, 'interesting': 411, 'target': 775, 'future': 340, 'direct': 246, 'subsequently': 754, 'number': 529, 'increase': 399, 'pdf': 579, 'pattern': 577, 'upturn': 824, 'follow': 327, 'overshoot': 568, 'peak': 580, 'span': 730, 'p̃': 630, '≲20': 878, 'jup': 423, 'possess': 598, 'actively': 73, 'accrete': 67, 'subdisk': 753, 'via': 836, 'paβ': 578, 'prevalence': 613, 'circumplanetary': 181, 'general': 348, 'expect': 300, 'quiescent': 634, 'phase': 585, 'accretion': 68, 'design': 237, 'reference': 651, 'simulation': 709, 'explore': 303, 'potential': 602, 'tpf': 801, 'o': 531, 'habitable': 363, 'around': 108, 'their': 783, 'spectrally': 733, 'atmosphere': 120, 'obtain': 540, 'rudimentary': 674, 'rapid': 641, 'development': 242, 'kepler47': 433, 'first': 323, 'body': 144, 'circumbinary': 180, 'solution': 725, 'both': 145, 'science': 686, 'exao': 293, 'wavefront': 844, 'sensor': 692, 'fast': 313, 'correction': 215, 'remove': 660, 'aberration': 62, 'soon': 727, 'they': 786, 'although': 92, 'only': 550, 'handful': 365, 'already': 90, 'change': 173, 'our': 561, 'understanding': 816, 'formation': 330, 'beyond': 140, 'snow': 721, '100': 9, 'vast': 833, 'majority': 467, 'finally': 320, 'contrast': 209, 'must': 508, 'exceed': 294, 'certain': 171, 'minimum': 490, 'value': 828, 'hip': 375, '73145': 51, 'scatter': 683, 'near': 513, 'ir': 416, 'before': 135, 'substructure': 757, 'see': 691, 'very': 835, 'different': 244, 'prediction': 609, 'cloud': 185, 'free': 333, 'model': 496, 'hot': 381, 'jupiters': 425, 'rayleigh': 644, 'whole': 855, 'visible': 838, 'range': 640, 'narrow': 510, 'sodium': 723, 'potassium': 601, 'confirm': 201, 'radio': 638, 'flare': 325, 't65': 773, 'consist': 203, 'saturn': 681, 'mass': 470, 'faint': 309, 'ogle2013blg0132': 545, 'ogle2013blg1721': 546, 'previous': 614, 'cometary': 193, 'unexpected': 817, 'finding': 322, 'significant': 707, 'amount': 94, 'o2': 532, 'work': 863, 'address': 79, 'analysis': 97, 'reflex': 652, 'motion': 502, 'where': 850, 'observe': 539, 'respond': 664, 'gravitational': 358, 'tug': 808, 'rotation': 672, 'dm1e': 257, '11': 11, 'dm1': 256, 'upper': 823, 'horologii': 379, 'quite': 635, '65': 47, 'ie': 391, '10000': 10, 'million': 489, 'plato': 592, 'will': 857, 'complement': 195, 'particular': 575, 'precise': 607, 'monitoring': 497, 'nature': 512, 'masse': 471, 'cumulative': 220, 'nasa': 511, 'reconstruct': 648, 'intrinsic': 414, 'occurrence': 541, 'neptune': 517, 'r': 636, '⊕': 880, 'intranight': 413, 'variability': 829, 'out': 562, 'u': 812, '’': 875, '142245': 17, 'evidence': 290, 'actually': 75, 'itself': 420, 'project': 621, 'separation': 693, 'hierarchical': 373, 'list': 453, 'presently': 612, 'last': 439, 'decade': 231, 'unconfirmed': 815, 'variety': 832, 'physical': 589, 'parameter': 573, 'exotic': 299, 'plausibly': 593, 'exist': 297, 'outside': 565, 'wait': 841, 'next': 520, 'generation': 350, 'exploration': 302, '759': 53, 'comply': 196, 'schmidt': 685, 'law': 441, 'depend': 233, 'surface': 768, 'temperature': 778, 'addition': 77, 'substantial': 755, 'variable': 830, 'arxiv10062815': 111, 'continuously': 208, 'augment': 124, 'collect': 189, 'eb': 272, 'statistical': 744, 'outlier': 564, 'historical': 377, '13000': 14, '2011': 30, 'september': 694, 'one': 549, 'sn': 720, 'like': 448, 'property': 622, 'describe': 236, 'emphasize': 281, 'question': 633, 'set': 696, 'peculiarity': 581, 'small': 719, 'propose': 623, 'answer': 104, 'trend': 805, 'point': 595, 'sample': 680, 'gather': 345, 'clear': 183, 'process': 620, 'element': 278, 'metal': 479, 'content': 207, 'image': 395, 'epoch': 285, 'check': 176, 'move': 503, 'initial': 405, 'census': 168, 'ring': 669, 'carry': 162, 'upcoming': 822, 'considerable': 202, 'blazhko': 142, 'v25': 827, '1919': 22, 'main': 465, 'sequence': 695, 'analyze': 98, 'robust': 670, '737': 52, 'likewise': 450, 'ganymede': 343, 'attempt': 122, '36': 38, 'dependence': 234, 'aim': 84, 'run': 675, 'corot': 214, 'lrc01': 457, 'towards': 800, 'galactic': 341, 'center': 169, 'direction': 247, 'aquila': 105, 'october': 543, '2007': 28, 'metallicity': 480, 'indicate': 400, 'multiple': 506, 'likely': 449, 'additional': 78, 'readily': 646, 'state': 741, 'art': 109, 'rv': 676, 'provoke': 626, 'aurorae': 125, 'pre': 606, 'again': 83, 'balmer': 130, 'strength': 747, 'timing': 795, 'bow': 147, 'shock': 701, 'geometry': 351, 'report': 661, 'do': 258, 'late': 440, 'furthermore': 339, 'c2h2': 155, 'major': 466, 'absorber': 65, 'wasp12b': 842, '8': 55, 'circularly': 179, 'polarize': 596, 'signature': 706, '819': 59, 'nm': 521, 'active': 72, 'region': 653, 'face': 306, 'giant': 353, '∼05': 876, '80607': 58, 'too': 797, 'granulation': 357, 'background': 129, 'reliably': 656, 'above': 64, 'white': 854, 'if': 392, 'roughly': 673, 'sized': 717, 'moon': 499, 'would': 864, 'duet': 266, 'crucial': 219, 'recover': 649, 'history': 378, 'frequency': 334, 'least': 443, '80': 56, 'remainder': 658, 'true': 807, 'third': 788, 'magnification': 463, 'dominant': 260, 'result': 666, 'icy': 389, 'volatile': 840, 'composition': 198, 'cold': 188, 'hypothetical': 386, 'carbon': 160, 'or': 555, 'brigham': 149, 'young': 868, 'university': 818, 'byu': 153, 'assist': 113, 'kelt': 431, '04meter': 3, '09meter': 6, 'since': 712, 'rotating': 671, 'uncertainty': 813, 'discover': 248, 'nearly': 515, 'plus': 594, 'jupiter': 424, 'power': 604, 'wind': 858, 'generate': 349, 'lofar': 454, 'numerous': 530, 'six': 715, 'substellar': 756, 'doppler': 262, 'harp': 366, 'instal': 407, 'eso': 286, 'la': 437, 'silla': 708, 'chile': 177, 'drag': 263, 'removal': 659, 'explain': 301, 'dearth': 229, 'old': 547, 'myr': 509, 'oxygen': 569, 'twin': 809, 'red': 650, 'factor': 308, 'monoxide': 498, 'recently': 647, 'τ': 874, 'boötis': 148, 'albeit': 86, 'fainter': 310, 'campaign': 157, 'reveal': 667, 'initially': 406, 'virt': 837, 'begin': 136, 'react': 645, 'autonomously': 126, 'gamma': 342, 'coordinate': 212, 'network': 518, 'gcn': 346, 'alert': 87, '2017': 31, 'challenge': 172, 'caribbean': 161, 'hurricane': 385, 'irma': 417, 'maria': 469, 'participant': 574, 'gw170817': 360, 'source': 728, 'simultaneously': 711, 'wave': 843, 'electromagnetic': 277, 'object': 535, 'feasibly': 314, 'correlate': 216, 'control': 210, 'sub': 752, 'milli': 487, 'combined': 192, 'hires': 376, 'harps': 367, '537': 44, '129': 13, 'd': 224, 'atomic': 121, 'magnesium': 461, 'mg': 483, 'i': 388, 'singly': 714, 'ionize': 415, '77338b': 54, 'none': 525, 'periodic': 584, 'variation': 831, 'duration': 267, 'across': 71, 'hat': 368, 'p12b': 571, 'inclination': 397}\n"
     ]
    }
   ],
   "source": [
    "print(slcv.vocabulary_)"
   ]
  },
  {
   "cell_type": "code",
   "execution_count": null,
   "metadata": {},
   "outputs": [
    {
     "data": {
      "text/plain": [
       "<100x881 sparse matrix of type '<class 'numpy.int64'>'\n",
       "\twith 2320 stored elements in Compressed Sparse Row format>"
      ]
     },
     "execution_count": 20,
     "metadata": {},
     "output_type": "execute_result"
    }
   ],
   "source": [
    "spp = SpacyPipeProcessor(nlp, n_threads=1, multi_iters=True)\n",
    "spacy_docs = spp(raw_documents);\n",
    "\n",
    "slcv = SpacyLemmaCountVectorizer(ignore_chars='!\"#$%&\\'()*+,-./:;<=>?@[\\\\]^_`{|}~')\n",
    "slcv.fit(spacy_docs)\n",
    "count_vectors = slcv.transform(spacy_docs); count_vectors"
   ]
  },
  {
   "cell_type": "code",
   "execution_count": null,
   "metadata": {},
   "outputs": [
    {
     "name": "stdout",
     "output_type": "stream",
     "text": [
      "{'we': 847, 'detect': 239, 'visual': 839, 'companion': 194, 'within': 860, '1': 7, 'for': 329, '5': 43, 'star': 740, 'between': 139, 'and': 99, '2': 23, '7': 48, '4': 40, '15': 18, 'use': 825, 'these': 785, 'datum': 226, 'photometry': 587, 'from': 335, 'the': 782, 'spitzer': 737, 'space': 729, 'telescope': 777, 'have': 369, 'identify': 390, 'member': 478, 'with': 859, 'infrared': 404, 'excess': 296, 'emission': 280, 'circumstellar': 182, 'disk': 252, 'estimate': 287, 'evolutionary': 291, 'stage': 739, 'of': 544, 'which': 852, 'include': 398, '31': 37, 'new': 519, 'full': 336, '16': 19, 'candidate': 159, 'transitional': 803, 'evolve': 292, 'debris': 230, 'over': 566, '800': 57, 'exoplanet': 298, 'to': 796, 'date': 225, 'half': 364, 'be': 134, 'on': 548, 'non': 524, 'circular': 178, 'orbit': 556, 'eccentricity': 274, 'as': 112, 'high': 374, '093': 5, 'find': 321, 'that': 781, 'false': 311, 'positive': 597, 'scenario': 684, 'co': 186, 'at': 119, '235': 34, 'μm': 873, 'co2': 187, '20': 24, '43': 41, 'o4': 534, '127': 12, 'all': 88, 'strong': 748, 'feature': 315, 'in': 396, 'transmission': 804, 'than': 780, 'o2o3': 533, 'could': 218, 's': 677, 'ns': 528, '≳': 879, '3': 36, 'an': 95, 'earth': 270, 'size': 716, 'planet': 590, 'a': 61, 'nearby': 514, 'm': 459, 'dwarf': 269, 'few': 316, '10': 8, 'transit': 802, 'assume': 114, 'photon': 588, 'limit': 451, 'noise': 523, 'present': 611, 'two': 810, 'keck': 430, 'observatory': 538, 'this': 789, 'disfavour': 251, 'possibility': 599, 'gi': 352, 'cause': 165, 'spiral': 736, 'structure': 750, 'system': 771, 'qlt025': 631, 'relatively': 655, 'short': 702, 'integration': 410, 'time': 794, 'such': 761, 'those': 790, 'dsharp': 264, 'alma': 89, 'survey': 769, 'andrews': 100, 'et': 288, 'al': 85, '2018': 32, 'huang': 383, 'lie': 446, 'zone': 869, 'then': 784, 'more': 500, 'easily': 271, 'radial': 637, 'velocity': 834, 'method': 482, 'most': 501, 'successful': 760, '2004': 27, 'flux': 326, 'density': 232, '005': 0, 'jy': 427, 'about': 63, 'order': 558, 'magnitude': 464, 'low': 456, 'single': 713, '2003': 26, 'burst': 150, 'five': 324, '2002': 25, 'statement': 742, 'support': 766, 'by': 152, 'figure': 319, 'give': 354, 'article': 110, 'show': 703, 'primary': 616, 'signal': 705, 'depth': 235, '6': 45, 'mmag': 494, '4σ': 42, 'confidence': 200, 'possible': 600, 'secondary': 690, 'combine': 191, 'instrument': 408, 'powerful': 605, 'astronomer': 118, 'thousand': 791, 'here': 372, 'catalog': 164, '164': 20, 'eclipse': 275, 'during': 268, 'comprehensive': 199, 'currently': 222, 'available': 127, 'k2': 429, 'shepherd': 700, 'outer': 563, 'cool': 211, 'belt': 138, 'spectral': 732, 'type': 811, 'm7': 460, '̃2700': 871, 'k': 428, 'thus': 793, 'no': 522, 'methane': 481, 'absorption': 66, 'h': 361, 'band': 131, 'presence': 610, 'close': 184, 'massive': 472, 'also': 91, 'interpretation': 412, 'level': 445, 'stellar': 745, 'activity': 74, 'emccd': 279, 'camera': 156, 'provide': 625, 'simultaneous': 710, 'dual': 265, 'color': 190, 'observation': 536, 'help': 371, 'characterize': 175, 'further': 338, 'discuss': 250, 'speckle': 731, 'subtraction': 759, 'suppression': 767, 'technique': 776, 'fully': 337, 'take': 774, 'advantage': 81, 'domain': 259, 'information': 403, 'quasi': 632, 'static': 743, 'measure': 476, 'fidelity': 317, 'well': 848, 'accurate': 69, 'astrometry': 117, 'framework': 332, 'asteroseismic': 115, 'study': 751, 'represent': 662, 'excellent': 295, 'tool': 798, 'determine': 241, 'structural': 749, 'difference': 243, 'without': 861, 'induce': 401, 'magnetic': 462, 'field': 318, 'infer': 402, 'saline': 679, 'ocean': 542, 'layer': 442, 'differential': 245, 'measurement': 477, 'palomar': 572, 'precision': 608, 'astrometric': 116, 'search': 688, 'systems': 772, 'phases': 586, 'constrain': 205, 'previously': 615, 'know': 436, 'lsim2': 458, 'day': 227, 'subsystem': 758, 'triple': 806, '63': 46, 'gem': 347, 'unknown': 819, 'year': 866, 'keplerian': 434, 'wobble': 862, 'superimpose': 763, 'much': 504, 'long': 455, 'period': 583, '213': 33, 'binary': 141, 'hr': 382, '2896': 35, 'just': 426, 'extrasolar': 305, 'microlense': 484, 'planetary': 591, 'caustic': 166, 'despite': 238, 'probability': 617, 'detection': 240, 'relative': 654, 'central': 170, 'responsible': 665, 'four': 331, 'millimeter': 488, 'wavelength': 845, 'gap': 344, 'distribution': 255, 'large': 438, 'grain': 356, 'midplane': 485, 'not': 526, 'enough': 284, 'open': 551, 'distinct': 254, 'supersoft': 764, 'x': 865, 'ray': 643, 'component': 197, 'optical': 553, 'maximum': 473, 'probably': 618, 'arise': 107, 'optically': 554, 'thick': 787, 'boundary': 146, 'dominate': 261, 'event': 289, 'ratio': 642, 'shadow': 699, 'several': 698, 'protoplanetary': 624, 'suggest': 762, 'misalignment': 491, 'uncommon': 814, 'supplemental': 765, 'slit': 718, 'scan': 682, 'spectroscopy': 734, 'adaptive': 76, 'optic': 552, 'perform': 582, '038': 2, 'hd': 370, '141569a': 16, 'extended': 304, 'h3': 362, 'but': 151, 'july': 422, '2009': 29, '3σ': 39, 'whose': 856, 'light': 447, 'curve': 223, 'consistent': 204, 'when': 849, 'pass': 576, 'behind': 137, 'while': 853, 'discovery': 249, 'α': 872, 'cen': 167, 'bb': 133, 'terrestrial': 779, 'can': 158, 'solar': 724, 'current': 221, 'observational': 537, 'facility': 307, 'it': 418, 'remain': 657, 'whether': 851, 'case': 163, 'analog': 96, 'hz': 387, 'cos': 217, 'spectrum': 735, 'c': 154, 'ii': 393, 'iii': 394, 'iv': 421, 'si': 704, 'multiplet': 507, 'leave': 444, 'ec': 273, '01541': 1, '1409': 15, 'yet': 867, 'another': 103, 'rich': 668, 'p': 570, 'mode': 495, 'sdb': 687, 'pulsator': 628, 'constraint': 206, 'pulsation': 627, 'so': 722, 'far': 312, '≲': 877, 'au': 123, 'effect': 276, 'radius': 639, 'means': 475, 'negligible': 516, 'enhance': 283, 'puzzle': 629, 'problem': 619, 'anomalously': 102, 'bloated': 143, 'usefulness': 826, 'some': 726, 'may': 474, 'still': 746, 'affect': 82, 'overall': 567, 'stability': 738, 'other': 560, 'line': 452, 'orbital': 557, 'fomalhaut': 328, 'b': 128, 'multi': 505, 'coronagraphic': 213, 'acquire': 70, 'hubble': 384, 'resolution': 663, 'channel': 174, 'advanced': 80, 'surveys': 770, 'dco': 228, '169142': 21, 'total': 799, 'integrated': 409, '730': 50, '±': 870, '73': 49, 'mjy': 493, 'km': 435, 's1': 678, 'ground': 359, 'base': 132, 'employ': 282, 'host': 380, 'milky': 486, 'way': 846, 'original': 559, 'kepler': 432, 'mission': 492, 'up': 821, 'seven': 697, 'three': 792, 'until': 820, 'now': 527, 'gj': 355, '832b': 60, 'second': 689, 'angular': 101, 'distance': 253, 'its': 419, 'among': 93, '069': 4, 'arcsec': 106, 'make': 468, 'potentially': 603, 'interesting': 411, 'target': 775, 'future': 340, 'direct': 246, 'subsequently': 754, 'number': 529, 'increase': 399, 'pdf': 579, 'pattern': 577, 'upturn': 824, 'follow': 327, 'overshoot': 568, 'peak': 580, 'span': 730, 'p̃': 630, '≲20': 878, 'jup': 423, 'possess': 598, 'actively': 73, 'accrete': 67, 'subdisk': 753, 'via': 836, 'paβ': 578, 'prevalence': 613, 'circumplanetary': 181, 'general': 348, 'expect': 300, 'quiescent': 634, 'phase': 585, 'accretion': 68, 'design': 237, 'reference': 651, 'simulation': 709, 'explore': 303, 'potential': 602, 'tpf': 801, 'o': 531, 'habitable': 363, 'around': 108, 'their': 783, 'spectrally': 733, 'atmosphere': 120, 'obtain': 540, 'rudimentary': 674, 'rapid': 641, 'development': 242, 'kepler47': 433, 'first': 323, 'body': 144, 'circumbinary': 180, 'solution': 725, 'both': 145, 'science': 686, 'exao': 293, 'wavefront': 844, 'sensor': 692, 'fast': 313, 'correction': 215, 'remove': 660, 'aberration': 62, 'soon': 727, 'they': 786, 'although': 92, 'only': 550, 'handful': 365, 'already': 90, 'change': 173, 'our': 561, 'understanding': 816, 'formation': 330, 'beyond': 140, 'snow': 721, '100': 9, 'vast': 833, 'majority': 467, 'finally': 320, 'contrast': 209, 'must': 508, 'exceed': 294, 'certain': 171, 'minimum': 490, 'value': 828, 'hip': 375, '73145': 51, 'scatter': 683, 'near': 513, 'ir': 416, 'before': 135, 'substructure': 757, 'see': 691, 'very': 835, 'different': 244, 'prediction': 609, 'cloud': 185, 'free': 333, 'model': 496, 'hot': 381, 'jupiters': 425, 'rayleigh': 644, 'whole': 855, 'visible': 838, 'range': 640, 'narrow': 510, 'sodium': 723, 'potassium': 601, 'confirm': 201, 'radio': 638, 'flare': 325, 't65': 773, 'consist': 203, 'saturn': 681, 'mass': 470, 'faint': 309, 'ogle2013blg0132': 545, 'ogle2013blg1721': 546, 'previous': 614, 'cometary': 193, 'unexpected': 817, 'finding': 322, 'significant': 707, 'amount': 94, 'o2': 532, 'work': 863, 'address': 79, 'analysis': 97, 'reflex': 652, 'motion': 502, 'where': 850, 'observe': 539, 'respond': 664, 'gravitational': 358, 'tug': 808, 'rotation': 672, 'dm1e': 257, '11': 11, 'dm1': 256, 'upper': 823, 'horologii': 379, 'quite': 635, '65': 47, 'ie': 391, '10000': 10, 'million': 489, 'plato': 592, 'will': 857, 'complement': 195, 'particular': 575, 'precise': 607, 'monitoring': 497, 'nature': 512, 'masse': 471, 'cumulative': 220, 'nasa': 511, 'reconstruct': 648, 'intrinsic': 414, 'occurrence': 541, 'neptune': 517, 'r': 636, '⊕': 880, 'intranight': 413, 'variability': 829, 'out': 562, 'u': 812, '’': 875, '142245': 17, 'evidence': 290, 'actually': 75, 'itself': 420, 'project': 621, 'separation': 693, 'hierarchical': 373, 'list': 453, 'presently': 612, 'last': 439, 'decade': 231, 'unconfirmed': 815, 'variety': 832, 'physical': 589, 'parameter': 573, 'exotic': 299, 'plausibly': 593, 'exist': 297, 'outside': 565, 'wait': 841, 'next': 520, 'generation': 350, 'exploration': 302, '759': 53, 'comply': 196, 'schmidt': 685, 'law': 441, 'depend': 233, 'surface': 768, 'temperature': 778, 'addition': 77, 'substantial': 755, 'variable': 830, 'arxiv10062815': 111, 'continuously': 208, 'augment': 124, 'collect': 189, 'eb': 272, 'statistical': 744, 'outlier': 564, 'historical': 377, '13000': 14, '2011': 30, 'september': 694, 'one': 549, 'sn': 720, 'like': 448, 'property': 622, 'describe': 236, 'emphasize': 281, 'question': 633, 'set': 696, 'peculiarity': 581, 'small': 719, 'propose': 623, 'answer': 104, 'trend': 805, 'point': 595, 'sample': 680, 'gather': 345, 'clear': 183, 'process': 620, 'element': 278, 'metal': 479, 'content': 207, 'image': 395, 'epoch': 285, 'check': 176, 'move': 503, 'initial': 405, 'census': 168, 'ring': 669, 'carry': 162, 'upcoming': 822, 'considerable': 202, 'blazhko': 142, 'v25': 827, '1919': 22, 'main': 465, 'sequence': 695, 'analyze': 98, 'robust': 670, '737': 52, 'likewise': 450, 'ganymede': 343, 'attempt': 122, '36': 38, 'dependence': 234, 'aim': 84, 'run': 675, 'corot': 214, 'lrc01': 457, 'towards': 800, 'galactic': 341, 'center': 169, 'direction': 247, 'aquila': 105, 'october': 543, '2007': 28, 'metallicity': 480, 'indicate': 400, 'multiple': 506, 'likely': 449, 'additional': 78, 'readily': 646, 'state': 741, 'art': 109, 'rv': 676, 'provoke': 626, 'aurorae': 125, 'pre': 606, 'again': 83, 'balmer': 130, 'strength': 747, 'timing': 795, 'bow': 147, 'shock': 701, 'geometry': 351, 'report': 661, 'do': 258, 'late': 440, 'furthermore': 339, 'c2h2': 155, 'major': 466, 'absorber': 65, 'wasp12b': 842, '8': 55, 'circularly': 179, 'polarize': 596, 'signature': 706, '819': 59, 'nm': 521, 'active': 72, 'region': 653, 'face': 306, 'giant': 353, '∼05': 876, '80607': 58, 'too': 797, 'granulation': 357, 'background': 129, 'reliably': 656, 'above': 64, 'white': 854, 'if': 392, 'roughly': 673, 'sized': 717, 'moon': 499, 'would': 864, 'duet': 266, 'crucial': 219, 'recover': 649, 'history': 378, 'frequency': 334, 'least': 443, '80': 56, 'remainder': 658, 'true': 807, 'third': 788, 'magnification': 463, 'dominant': 260, 'result': 666, 'icy': 389, 'volatile': 840, 'composition': 198, 'cold': 188, 'hypothetical': 386, 'carbon': 160, 'or': 555, 'brigham': 149, 'young': 868, 'university': 818, 'byu': 153, 'assist': 113, 'kelt': 431, '04meter': 3, '09meter': 6, 'since': 712, 'rotating': 671, 'uncertainty': 813, 'discover': 248, 'nearly': 515, 'plus': 594, 'jupiter': 424, 'power': 604, 'wind': 858, 'generate': 349, 'lofar': 454, 'numerous': 530, 'six': 715, 'substellar': 756, 'doppler': 262, 'harp': 366, 'instal': 407, 'eso': 286, 'la': 437, 'silla': 708, 'chile': 177, 'drag': 263, 'removal': 659, 'explain': 301, 'dearth': 229, 'old': 547, 'myr': 509, 'oxygen': 569, 'twin': 809, 'red': 650, 'factor': 308, 'monoxide': 498, 'recently': 647, 'τ': 874, 'boötis': 148, 'albeit': 86, 'fainter': 310, 'campaign': 157, 'reveal': 667, 'initially': 406, 'virt': 837, 'begin': 136, 'react': 645, 'autonomously': 126, 'gamma': 342, 'coordinate': 212, 'network': 518, 'gcn': 346, 'alert': 87, '2017': 31, 'challenge': 172, 'caribbean': 161, 'hurricane': 385, 'irma': 417, 'maria': 469, 'participant': 574, 'gw170817': 360, 'source': 728, 'simultaneously': 711, 'wave': 843, 'electromagnetic': 277, 'object': 535, 'feasibly': 314, 'correlate': 216, 'control': 210, 'sub': 752, 'milli': 487, 'combined': 192, 'hires': 376, 'harps': 367, '537': 44, '129': 13, 'd': 224, 'atomic': 121, 'magnesium': 461, 'mg': 483, 'i': 388, 'singly': 714, 'ionize': 415, '77338b': 54, 'none': 525, 'periodic': 584, 'variation': 831, 'duration': 267, 'across': 71, 'hat': 368, 'p12b': 571, 'inclination': 397}\n"
     ]
    }
   ],
   "source": [
    "print(slcv.vocabulary_)"
   ]
  },
  {
   "cell_type": "markdown",
   "metadata": {},
   "source": [
    "## Tests"
   ]
  },
  {
   "cell_type": "markdown",
   "metadata": {},
   "source": [
    "Here we'll test classes described above, in the modified Olivier Grisel's example from <a href=\"http://scikit-learn.org/stable/auto_examples/model_selection/grid_search_text_feature_extraction.html#sphx-glr-auto-examples-model-selection-grid-search-text-feature-extraction-py\">here</a>. Instead of ```LogisticRegression``` in the original example, we'll use ```LinearSVC```. This code samples show a grid search over several parameters in a text processing ```Pipeline``` on the 2 categories of 20 newsgroup dataset."
   ]
  },
  {
   "cell_type": "code",
   "execution_count": null,
   "metadata": {},
   "outputs": [
    {
     "name": "stdout",
     "output_type": "stream",
     "text": [
      "Automatically created module for IPython interactive environment\n",
      "Loading 20 newsgroups dataset for categories:\n",
      "['alt.atheism', 'talk.religion.misc']\n",
      "857 documents\n",
      "2 categories\n",
      "\n"
     ]
    }
   ],
   "source": [
    "# Author: Olivier Grisel <olivier.grisel@ensta.org>\n",
    "#         Peter Prettenhofer <peter.prettenhofer@gmail.com>\n",
    "#         Mathieu Blondel <mathieu@mblondel.org>\n",
    "# License: BSD 3 clause\n",
    "\n",
    "from __future__ import print_function\n",
    "\n",
    "from pprint import pprint\n",
    "from time import time\n",
    "import logging\n",
    "\n",
    "from sklearn.datasets import fetch_20newsgroups\n",
    "from sklearn.feature_extraction.text import CountVectorizer\n",
    "from sklearn.feature_extraction.text import TfidfTransformer\n",
    "from sklearn.svm import LinearSVC\n",
    "from sklearn.model_selection import GridSearchCV\n",
    "from sklearn.pipeline import Pipeline\n",
    "\n",
    "print(__doc__)\n",
    "\n",
    "# Display progress logs on stdout\n",
    "logging.basicConfig(level=logging.INFO,\n",
    "                    format='%(asctime)s %(levelname)s %(message)s')\n",
    "\n",
    "random_state = 42 \n",
    "\n",
    "# #############################################################################\n",
    "# Load some categories from the training set\n",
    "categories = [\n",
    "    'alt.atheism',\n",
    "    'talk.religion.misc',\n",
    "]\n",
    "# Uncomment the following to do the analysis on all the categories\n",
    "#categories = None\n",
    "\n",
    "print(\"Loading 20 newsgroups dataset for categories:\")\n",
    "print(categories)\n",
    "\n",
    "data = fetch_20newsgroups(subset='train', categories=categories)\n",
    "print(\"%d documents\" % len(data.filenames))\n",
    "print(\"%d categories\" % len(data.target_names))\n",
    "print()"
   ]
  },
  {
   "cell_type": "code",
   "execution_count": null,
   "metadata": {},
   "outputs": [
    {
     "name": "stdout",
     "output_type": "stream",
     "text": [
      "Performing grid search...\n",
      "pipeline: ['vect', 'tfidf', 'clf']\n",
      "parameters:\n",
      "{'clf__C': (0.001, 0.01, 0.1, 1, 10, 100, 1000),\n",
      " 'vect__max_df': (0.5, 0.75, 1.0),\n",
      " 'vect__ngram_range': ((1, 1), (1, 2))}\n",
      "Fitting 3 folds for each of 42 candidates, totalling 126 fits\n"
     ]
    },
    {
     "name": "stderr",
     "output_type": "stream",
     "text": [
      "/Users/gerdgrasshoff/anaconda/lib/python3.6/site-packages/sklearn/model_selection/_split.py:1978: FutureWarning: The default value of cv will change from 3 to 5 in version 0.22. Specify it explicitly to silence this warning.\n",
      "  warnings.warn(CV_WARNING, FutureWarning)\n",
      "[Parallel(n_jobs=-1)]: Using backend LokyBackend with 8 concurrent workers.\n",
      "[Parallel(n_jobs=-1)]: Done  34 tasks      | elapsed:    7.3s\n",
      "/Users/gerdgrasshoff/anaconda/lib/python3.6/site-packages/joblib/externals/loky/process_executor.py:706: UserWarning: A worker stopped while some jobs were given to the executor. This can be caused by a too short worker timeout or by a memory leak.\n",
      "  \"timeout or by a memory leak.\", UserWarning\n",
      "[Parallel(n_jobs=-1)]: Done 126 out of 126 | elapsed:   24.0s finished\n"
     ]
    },
    {
     "name": "stdout",
     "output_type": "stream",
     "text": [
      "done in 25.309s\n",
      "\n",
      "Best score: 0.943\n",
      "Best parameters set:\n",
      "\tclf__C: 100\n",
      "\tvect__max_df: 1.0\n",
      "\tvect__ngram_range: (1, 2)\n"
     ]
    }
   ],
   "source": [
    "# #############################################################################\n",
    "# Define a pipeline combining a text feature extractor with a simple\n",
    "# classifier\n",
    "pipeline = Pipeline([\n",
    "    ('vect', CountVectorizer()),\n",
    "    ('tfidf', TfidfTransformer()),\n",
    "    ('clf', LinearSVC(random_state=random_state))\n",
    "])\n",
    "\n",
    "# uncommenting more parameters will give better exploring power but will\n",
    "# increase processing time in a combinatorial way\n",
    "parameters = {\n",
    "    'vect__max_df': (0.5, 0.75, 1.0),\n",
    "    #'vect__max_features': (None, 5000, 10000, 50000),\n",
    "    'vect__ngram_range': ((1, 1), (1, 2)),  # unigrams or bigrams\n",
    "    #'tfidf__use_idf': (True, False),\n",
    "    #'tfidf__norm': ('l1', 'l2'),\n",
    "    'clf__C': (0.001, 0.01, 0.1, 1, 10, 100, 1000),\n",
    "}\n",
    "\n",
    "if __name__ == \"__main__\":\n",
    "    # multiprocessing requires the fork to happen in a __main__ protected\n",
    "    # block\n",
    "\n",
    "    # find the best parameters for both the feature extraction and the\n",
    "    # classifier\n",
    "    grid_search = GridSearchCV(pipeline, parameters, n_jobs=-1, verbose=1)\n",
    "\n",
    "    print(\"Performing grid search...\")\n",
    "    print(\"pipeline:\", [name for name, _ in pipeline.steps])\n",
    "    print(\"parameters:\")\n",
    "    pprint(parameters)\n",
    "    t0 = time()\n",
    "    grid_search.fit(data.data, data.target)\n",
    "    print(\"done in %0.3fs\" % (time() - t0))\n",
    "    print()\n",
    "\n",
    "    print(\"Best score: %0.3f\" % grid_search.best_score_)\n",
    "    print(\"Best parameters set:\")\n",
    "    best_parameters = grid_search.best_estimator_.get_params()\n",
    "    for param_name in sorted(parameters.keys()):\n",
    "        print(\"\\t%s: %r\" % (param_name, best_parameters[param_name]))"
   ]
  },
  {
   "cell_type": "markdown",
   "metadata": {},
   "source": [
    "The best score using ```CountVectorizer``` was 94,3%. Now we will create ```spacy_docs``` list for customized vectorizers and perform grid searches using ```SpacyTokenCountVectorizer``` and ```SpacyLemmaCountVectorizer```. Running time of theirs methods is much longer when compared to ```CountVectorizer```."
   ]
  },
  {
   "cell_type": "code",
   "execution_count": null,
   "metadata": {},
   "outputs": [
    {
     "name": "stdout",
     "output_type": "stream",
     "text": [
      "Processing dataset with spaCy...\n",
      "CPU times: user 56.3 s, sys: 16.1 s, total: 1min 12s\n",
      "Wall time: 49 s\n"
     ]
    }
   ],
   "source": [
    "%%time\n",
    "print('Processing dataset with spaCy...')\n",
    "spacy_docs = SpacyPipeProcessor(nlp, multi_iters=True, n_threads=1)(data.data)"
   ]
  },
  {
   "cell_type": "code",
   "execution_count": null,
   "metadata": {},
   "outputs": [
    {
     "name": "stdout",
     "output_type": "stream",
     "text": [
      "Performing grid search...\n",
      "pipeline: ['vect', 'tfidf', 'clf']\n",
      "parameters:\n",
      "{'clf__C': (0.001, 0.01, 0.1, 1, 10, 100, 1000),\n",
      " 'vect__max_df': (0.5, 0.75, 1.0),\n",
      " 'vect__ngram_range': ((1, 1), (1, 2))}\n",
      "Fitting 3 folds for each of 42 candidates, totalling 126 fits\n"
     ]
    },
    {
     "name": "stderr",
     "output_type": "stream",
     "text": [
      "/Users/gerdgrasshoff/anaconda/lib/python3.6/site-packages/sklearn/model_selection/_split.py:1978: FutureWarning: The default value of cv will change from 3 to 5 in version 0.22. Specify it explicitly to silence this warning.\n",
      "  warnings.warn(CV_WARNING, FutureWarning)\n",
      "[Parallel(n_jobs=-1)]: Using backend LokyBackend with 8 concurrent workers.\n",
      "/Users/gerdgrasshoff/anaconda/lib/python3.6/site-packages/joblib/externals/loky/process_executor.py:706: UserWarning: A worker stopped while some jobs were given to the executor. This can be caused by a too short worker timeout or by a memory leak.\n",
      "  \"timeout or by a memory leak.\", UserWarning\n",
      "[Parallel(n_jobs=-1)]: Done  34 tasks      | elapsed: 10.0min\n"
     ]
    }
   ],
   "source": [
    "pipeline = Pipeline([\n",
    "    ('vect', SpacyTokenCountVectorizer()),\n",
    "    ('tfidf', TfidfTransformer()),\n",
    "    ('clf', LinearSVC(random_state=random_state))\n",
    "])\n",
    "\n",
    "if __name__ == \"__main__\":\n",
    "    # multiprocessing requires the fork to happen in a __main__ protected\n",
    "    # block\n",
    "    \n",
    "    # find the best parameters for both the feature extraction and the\n",
    "    # classifier\n",
    "    grid_search = GridSearchCV(pipeline, parameters, n_jobs=-1, verbose=1)\n",
    "\n",
    "    print(\"Performing grid search...\")\n",
    "    print(\"pipeline:\", [name for name, _ in pipeline.steps])\n",
    "    print(\"parameters:\")\n",
    "    pprint(parameters)\n",
    "    t0 = time()\n",
    "    grid_search.fit(spacy_docs, data.target)\n",
    "    print(\"done in %0.3fs\" % (time() - t0))\n",
    "    print()\n",
    "\n",
    "    print(\"Best score: %0.3f\" % grid_search.best_score_)\n",
    "    print(\"Best parameters set:\")\n",
    "    best_parameters = grid_search.best_estimator_.get_params()\n",
    "    for param_name in sorted(parameters.keys()):\n",
    "        print(\"\\t%s: %r\" % (param_name, best_parameters[param_name]))"
   ]
  },
  {
   "cell_type": "markdown",
   "metadata": {},
   "source": [
    "With ```SpacyTokenCountVectorizer``` we obtained 94% with different best hyperparameters."
   ]
  },
  {
   "cell_type": "code",
   "execution_count": null,
   "metadata": {},
   "outputs": [],
   "source": [
    "pipeline = Pipeline([\n",
    "    ('vect', SpacyLemmaCountVectorizer()),\n",
    "    ('tfidf', TfidfTransformer()),\n",
    "    ('clf', LinearSVC(random_state=random_state))\n",
    "])\n",
    "\n",
    "if __name__ == \"__main__\":\n",
    "    # multiprocessing requires the fork to happen in a __main__ protected\n",
    "    # block\n",
    "\n",
    "    # find the best parameters for both the feature extraction and the\n",
    "    # classifier\n",
    "    grid_search = GridSearchCV(pipeline, parameters, n_jobs=-1, verbose=1)\n",
    "\n",
    "    print(\"Performing grid search...\")\n",
    "    print(\"pipeline:\", [name for name, _ in pipeline.steps])\n",
    "    print(\"parameters:\")\n",
    "    pprint(parameters)\n",
    "    t0 = time()\n",
    "    grid_search.fit(spacy_docs, data.target)\n",
    "    print(\"done in %0.3fs\" % (time() - t0))\n",
    "    print()\n",
    "\n",
    "    print(\"Best score: %0.3f\" % grid_search.best_score_)\n",
    "    print(\"Best parameters set:\")\n",
    "    best_parameters = grid_search.best_estimator_.get_params()\n",
    "    for param_name in sorted(parameters.keys()):\n",
    "        print(\"\\t%s: %r\" % (param_name, best_parameters[param_name]))"
   ]
  },
  {
   "cell_type": "markdown",
   "metadata": {},
   "source": [
    "93,5% was the best result for ```SpacyLemmaCountVectorizer```. It seems like these custom vectorizers aren't a very good choice for concrete dataset, and a more extesive hyperparameter search and preprocessing is probably needed."
   ]
  },
  {
   "cell_type": "markdown",
   "metadata": {},
   "source": [
    "### SpacyWord2VecVectorizer"
   ]
  },
  {
   "cell_type": "markdown",
   "metadata": {},
   "source": [
    "```SpacyWord2VecVectorizer``` converts a ```list``` of ```Doc``` objects to their vector representations. Vectors are stored in a ```float32``` ```numpy``` array, where the number of rows equals to the number of documents and the number of columns is a vector dimensionality, which depends on the ```nlp``` model used. Word vectors have 300 dimensions in this case. When the ```sparsify``` parameter is ```True```, the resulting matrix will be sparse (CSR)."
   ]
  },
  {
   "cell_type": "markdown",
   "metadata": {},
   "source": [
    "**Important note:*** ```SpacWord2VecVectorizer``` is **not thread safe** at the moment. "
   ]
  },
  {
   "cell_type": "code",
   "execution_count": null,
   "metadata": {},
   "outputs": [],
   "source": [
    "spp = SpacyPipeProcessor(nlp, n_threads=1)\n",
    "spacy_docs = spp(raw_documents)\n",
    "\n",
    "w2v = SpacyWord2VecVectorizer(sparsify=True)\n",
    "word_vectors = w2v.fit_transform(spacy_docs); word_vectors"
   ]
  },
  {
   "cell_type": "markdown",
   "metadata": {},
   "source": [
    "We can also use ```fit()``` and ```transform()``` methods: "
   ]
  },
  {
   "cell_type": "code",
   "execution_count": null,
   "metadata": {},
   "outputs": [],
   "source": [
    "spp = SpacyPipeProcessor(nlp, n_threads=1)\n",
    "spacy_docs = spp(raw_documents)\n",
    "\n",
    "w2v = SpacyWord2VecVectorizer(sparsify=True)\n",
    "word_vectors = w2v.fit(spacy_docs).transform(spacy_docs); word_vectors"
   ]
  },
  {
   "cell_type": "markdown",
   "metadata": {},
   "source": [
    "There's a classification test with ```SpacyWord2VecVectorizer```."
   ]
  },
  {
   "cell_type": "code",
   "execution_count": null,
   "metadata": {},
   "outputs": [],
   "source": [
    "pipeline = Pipeline([\n",
    "    ('vect', SpacyWord2VecVectorizer()),\n",
    "    ('tfidf', TfidfTransformer()),\n",
    "    ('clf', LinearSVC(random_state=random_state))\n",
    "])\n",
    "\n",
    "parameters = {\n",
    "    #'vect__max_df': (0.5, 0.75, 1.0),\n",
    "    #'vect__max_features': (None, 5000, 10000, 50000),\n",
    "    #'vect__ngram_range': ((1, 1), (1, 2)),  # unigrams or bigrams\n",
    "    #'tfidf__use_idf': (True, False),\n",
    "    #'tfidf__norm': ('l1', 'l2'),\n",
    "    'clf__C': (0.001, 0.01, 0.1, 1, 10, 100, 1000),\n",
    "}\n",
    "\n",
    "if __name__ == \"__main__\":\n",
    "    # multiprocessing requires the fork to happen in a __main__ protected\n",
    "    # block\n",
    "\n",
    "    # find the best parameters for both the feature extraction and the\n",
    "    # classifier\n",
    "    grid_search = GridSearchCV(pipeline, parameters, n_jobs=1, verbose=1) #  n_jobs=1 for thread safety\n",
    "\n",
    "    print(\"Performing grid search...\")\n",
    "    print(\"pipeline:\", [name for name, _ in pipeline.steps])\n",
    "    print(\"parameters:\")\n",
    "    pprint(parameters)\n",
    "    t0 = time()\n",
    "    grid_search.fit(spacy_docs, data.target)\n",
    "    print(\"done in %0.3fs\" % (time() - t0))\n",
    "    print()\n",
    "\n",
    "    print(\"Best score: %0.3f\" % grid_search.best_score_)\n",
    "    print(\"Best parameters set:\")\n",
    "    best_parameters = grid_search.best_estimator_.get_params()\n",
    "    for param_name in sorted(parameters.keys()):\n",
    "        print(\"\\t%s: %r\" % (param_name, best_parameters[param_name]))"
   ]
  },
  {
   "cell_type": "markdown",
   "metadata": {},
   "source": [
    "84,2% suggests that a larger hyperparameter search space is needed, together with other featrues such as bag of words. "
   ]
  },
  {
   "cell_type": "markdown",
   "metadata": {},
   "source": [
    "### Performance Considerations"
   ]
  },
  {
   "cell_type": "code",
   "execution_count": null,
   "metadata": {},
   "outputs": [],
   "source": [
    "%%time\n",
    "features = CountVectorizer().fit(data.data).transform(data.data)"
   ]
  },
  {
   "cell_type": "code",
   "execution_count": null,
   "metadata": {},
   "outputs": [],
   "source": [
    "%%time\n",
    "features = SpacyTokenCountVectorizer().fit(spacy_docs).transform(spacy_docs)"
   ]
  },
  {
   "cell_type": "code",
   "execution_count": null,
   "metadata": {},
   "outputs": [],
   "source": [
    "%%time\n",
    "features = SpacyLemmaCountVectorizer().fit(spacy_docs).transform(spacy_docs)"
   ]
  },
  {
   "cell_type": "code",
   "execution_count": null,
   "metadata": {},
   "outputs": [],
   "source": [
    "%%time\n",
    "features = SpacyWord2VecVectorizer().fit(spacy_docs).transform(spacy_docs)"
   ]
  },
  {
   "cell_type": "markdown",
   "metadata": {},
   "source": [
    "### Conclusion"
   ]
  },
  {
   "cell_type": "markdown",
   "metadata": {},
   "source": [
    "In general, we see that custom vectorizers are about 4 times slower than original ```CountVectorizer```. This shows that their tokenizers and lemmatizers should be used as a preprocessing step before extensive hyperparameter optimization. As tihs <a href=\"https://stackoverflow.com/a/45212615\">answer</a> suggests, ```CountVectorizer``` can be nicely used for vectorization of pre-tokenized or pre-lemmatized documents, since it's a faster and more memory friendly solution. Moreover, customized vectorizers didn't show performance imporovement on the small subset of 20 newsgroups dataset used here, but this isn't an evidence that they are not useful in general."
   ]
  }
 ],
 "metadata": {
  "kernelspec": {
   "display_name": "Python 3",
   "language": "python",
   "name": "python3"
  },
  "language_info": {
   "codemirror_mode": {
    "name": "ipython",
    "version": 3
   },
   "file_extension": ".py",
   "mimetype": "text/x-python",
   "name": "python",
   "nbconvert_exporter": "python",
   "pygments_lexer": "ipython3",
   "version": "3.6.8"
  }
 },
 "nbformat": 4,
 "nbformat_minor": 2
}
