{
 "cells": [
  {
   "cell_type": "code",
   "execution_count": 1,
   "metadata": {
    "collapsed": true
   },
   "outputs": [],
   "source": [
    "import pandas as pd\n",
    "import numpy as np\n",
    "import re\n",
    "# from unidecode import unidecode\n",
    "import spacy\n",
    "from spacy.lang.en import English\n",
    "from spacy import displacy\n",
    "nlp = spacy.load('en_core_web_md', disable=[\"ner\", \"textcat\", \"entity_ruler\", \"merge_noun_chunks\", \"merge_entities\", \"merge_subtokens\"])"
   ]
  },
  {
   "cell_type": "markdown",
   "metadata": {},
   "source": [
    "dfExoplanets=pd.read_pickle(\"/Users/gerdgrasshoff/Dropbox/temp/df_nasa.pcl\")\n",
    "dfExoplanetsAbs=dfExoplanets[\"abstract\"]\n",
    "dfExoplanetsAbs.head(2)"
   ]
  },
  {
   "cell_type": "code",
   "execution_count": 77,
   "metadata": {},
   "outputs": [
    {
     "ename": "KeyError",
     "evalue": "'abstract'",
     "output_type": "error",
     "traceback": [
      "\u001b[0;31m---------------------------------------------------------------------------\u001b[0m",
      "\u001b[0;31mKeyError\u001b[0m                                  Traceback (most recent call last)",
      "\u001b[0;32m<ipython-input-77-9b69bd731fde>\u001b[0m in \u001b[0;36m<module>\u001b[0;34m\u001b[0m\n\u001b[1;32m      1\u001b[0m \u001b[0mdfExoplanetsDoc\u001b[0m\u001b[0;34m=\u001b[0m\u001b[0mpd\u001b[0m\u001b[0;34m.\u001b[0m\u001b[0mread_pickle\u001b[0m\u001b[0;34m(\u001b[0m\u001b[0;34m\"/Users/gerdgrasshoff/Dropbox/temp/df_doc.pcl\"\u001b[0m\u001b[0;34m)\u001b[0m\u001b[0;34m\u001b[0m\u001b[0;34m\u001b[0m\u001b[0m\n\u001b[0;32m----> 2\u001b[0;31m \u001b[0mdfExoplanetsAbs\u001b[0m\u001b[0;34m=\u001b[0m\u001b[0mdfExoplanetsDoc\u001b[0m\u001b[0;34m[\u001b[0m\u001b[0;34m\"abstract\"\u001b[0m\u001b[0;34m]\u001b[0m\u001b[0;34m\u001b[0m\u001b[0;34m\u001b[0m\u001b[0m\n\u001b[0m\u001b[1;32m      3\u001b[0m \u001b[0mdfExoplanetsAbs\u001b[0m\u001b[0;34m.\u001b[0m\u001b[0mhead\u001b[0m\u001b[0;34m(\u001b[0m\u001b[0;36m2\u001b[0m\u001b[0;34m)\u001b[0m\u001b[0;34m\u001b[0m\u001b[0;34m\u001b[0m\u001b[0m\n",
      "\u001b[0;32m~/anaconda/lib/python3.6/site-packages/pandas/core/series.py\u001b[0m in \u001b[0;36m__getitem__\u001b[0;34m(self, key)\u001b[0m\n\u001b[1;32m    866\u001b[0m         \u001b[0mkey\u001b[0m \u001b[0;34m=\u001b[0m \u001b[0mcom\u001b[0m\u001b[0;34m.\u001b[0m\u001b[0mapply_if_callable\u001b[0m\u001b[0;34m(\u001b[0m\u001b[0mkey\u001b[0m\u001b[0;34m,\u001b[0m \u001b[0mself\u001b[0m\u001b[0;34m)\u001b[0m\u001b[0;34m\u001b[0m\u001b[0;34m\u001b[0m\u001b[0m\n\u001b[1;32m    867\u001b[0m         \u001b[0;32mtry\u001b[0m\u001b[0;34m:\u001b[0m\u001b[0;34m\u001b[0m\u001b[0;34m\u001b[0m\u001b[0m\n\u001b[0;32m--> 868\u001b[0;31m             \u001b[0mresult\u001b[0m \u001b[0;34m=\u001b[0m \u001b[0mself\u001b[0m\u001b[0;34m.\u001b[0m\u001b[0mindex\u001b[0m\u001b[0;34m.\u001b[0m\u001b[0mget_value\u001b[0m\u001b[0;34m(\u001b[0m\u001b[0mself\u001b[0m\u001b[0;34m,\u001b[0m \u001b[0mkey\u001b[0m\u001b[0;34m)\u001b[0m\u001b[0;34m\u001b[0m\u001b[0;34m\u001b[0m\u001b[0m\n\u001b[0m\u001b[1;32m    869\u001b[0m \u001b[0;34m\u001b[0m\u001b[0m\n\u001b[1;32m    870\u001b[0m             \u001b[0;32mif\u001b[0m \u001b[0;32mnot\u001b[0m \u001b[0mis_scalar\u001b[0m\u001b[0;34m(\u001b[0m\u001b[0mresult\u001b[0m\u001b[0;34m)\u001b[0m\u001b[0;34m:\u001b[0m\u001b[0;34m\u001b[0m\u001b[0;34m\u001b[0m\u001b[0m\n",
      "\u001b[0;32m~/anaconda/lib/python3.6/site-packages/pandas/core/indexes/base.py\u001b[0m in \u001b[0;36mget_value\u001b[0;34m(self, series, key)\u001b[0m\n\u001b[1;32m   4373\u001b[0m         \u001b[0;32mtry\u001b[0m\u001b[0;34m:\u001b[0m\u001b[0;34m\u001b[0m\u001b[0;34m\u001b[0m\u001b[0m\n\u001b[1;32m   4374\u001b[0m             return self._engine.get_value(s, k,\n\u001b[0;32m-> 4375\u001b[0;31m                                           tz=getattr(series.dtype, 'tz', None))\n\u001b[0m\u001b[1;32m   4376\u001b[0m         \u001b[0;32mexcept\u001b[0m \u001b[0mKeyError\u001b[0m \u001b[0;32mas\u001b[0m \u001b[0me1\u001b[0m\u001b[0;34m:\u001b[0m\u001b[0;34m\u001b[0m\u001b[0;34m\u001b[0m\u001b[0m\n\u001b[1;32m   4377\u001b[0m             \u001b[0;32mif\u001b[0m \u001b[0mlen\u001b[0m\u001b[0;34m(\u001b[0m\u001b[0mself\u001b[0m\u001b[0;34m)\u001b[0m \u001b[0;34m>\u001b[0m \u001b[0;36m0\u001b[0m \u001b[0;32mand\u001b[0m \u001b[0;34m(\u001b[0m\u001b[0mself\u001b[0m\u001b[0;34m.\u001b[0m\u001b[0mholds_integer\u001b[0m\u001b[0;34m(\u001b[0m\u001b[0;34m)\u001b[0m \u001b[0;32mor\u001b[0m \u001b[0mself\u001b[0m\u001b[0;34m.\u001b[0m\u001b[0mis_boolean\u001b[0m\u001b[0;34m(\u001b[0m\u001b[0;34m)\u001b[0m\u001b[0;34m)\u001b[0m\u001b[0;34m:\u001b[0m\u001b[0;34m\u001b[0m\u001b[0;34m\u001b[0m\u001b[0m\n",
      "\u001b[0;32mpandas/_libs/index.pyx\u001b[0m in \u001b[0;36mpandas._libs.index.IndexEngine.get_value\u001b[0;34m()\u001b[0m\n",
      "\u001b[0;32mpandas/_libs/index.pyx\u001b[0m in \u001b[0;36mpandas._libs.index.IndexEngine.get_value\u001b[0;34m()\u001b[0m\n",
      "\u001b[0;32mpandas/_libs/index.pyx\u001b[0m in \u001b[0;36mpandas._libs.index.IndexEngine.get_loc\u001b[0;34m()\u001b[0m\n",
      "\u001b[0;32mpandas/_libs/index_class_helper.pxi\u001b[0m in \u001b[0;36mpandas._libs.index.Int64Engine._check_type\u001b[0;34m()\u001b[0m\n",
      "\u001b[0;31mKeyError\u001b[0m: 'abstract'"
     ]
    }
   ],
   "source": [
    "dfExoplanetsDoc=pd.read_pickle(\"/Users/gerdgrasshoff/Dropbox/temp/df_doc.pcl\")"
   ]
  },
  {
   "cell_type": "code",
   "execution_count": 78,
   "metadata": {},
   "outputs": [
    {
     "data": {
      "text/plain": [
       "0    (NSVS, 10441882, is, a, newly, discovered, ecl...\n",
       "dtype: object"
      ]
     },
     "execution_count": 78,
     "metadata": {},
     "output_type": "execute_result"
    }
   ],
   "source": [
    "dfExoplanetsDoc.head(1)"
   ]
  },
  {
   "cell_type": "markdown",
   "metadata": {},
   "source": [
    "def todo(ax):\n",
    "    return(nlp(ax[\"abstract\"]))\n",
    "dfExoplanetsDoc=dfExoplanets.apply(lambda a:todo(a),axis=1)"
   ]
  },
  {
   "cell_type": "markdown",
   "metadata": {},
   "source": [
    "dfExoplanetsDoc.to_pickle(\"/Users/gerdgrasshoff/Dropbox/temp/df_doc.pcl\")"
   ]
  },
  {
   "cell_type": "code",
   "execution_count": 79,
   "metadata": {},
   "outputs": [
    {
     "data": {
      "text/plain": [
       "29745"
      ]
     },
     "execution_count": 79,
     "metadata": {},
     "output_type": "execute_result"
    }
   ],
   "source": [
    "len(dfExoplanetsDoc)"
   ]
  },
  {
   "cell_type": "code",
   "execution_count": 80,
   "metadata": {},
   "outputs": [
    {
     "data": {
      "text/plain": [
       "Understanding the origin of planets that have formed in binary stars is fundamental to constrain theories of binary and planet formation. The planet occurrence rate in binaries with a separation ≲50 au is only ̃one-third that of wider binaries or single stars. This may indicate that a close companion has a ruinous influence on planet formation, because it can truncate the protoplanetary disc and pump up planetesimals eccentricity and collision probability. Nevertheless, observations have revealed a few of these systems, which challenge current planet formation theories. Dynamical interactions can deliver planets into S-type orbits. In this paper, we consider as a possible scenario for forming S-type planets in close binaries the single star-binary star interactions that commonly take place in star clusters. We find that the final fraction and orbital properties of S-type planets in close binaries are mainly determined by the mass ratio of the stars involved in the close encounter, and the initial binary and planet semimajor axes. Present and upcoming missions, such as Transiting Exoplanet Survey Satellite (TESS), Planetary Transits and Oscillations of stars (PLATO), and CHaracterising ExOPlanets Satellite (CHEOPS), may shed new light on the origin of S-type planets in close binaries."
      ]
     },
     "execution_count": 80,
     "metadata": {},
     "output_type": "execute_result"
    }
   ],
   "source": [
    "dfExoplanetsDoc[3]"
   ]
  },
  {
   "cell_type": "code",
   "execution_count": 81,
   "metadata": {},
   "outputs": [],
   "source": [
    "sentences = []\n",
    "for doc in dfExoplanetsDoc:\n",
    "    sent = []\n",
    "    for sent in doc.sents:\n",
    "        if 'detect' in sent.string:\n",
    "            sentences.append(sent.string.strip())"
   ]
  },
  {
   "cell_type": "code",
   "execution_count": 82,
   "metadata": {},
   "outputs": [
    {
     "data": {
      "text/plain": [
       "18423"
      ]
     },
     "execution_count": 82,
     "metadata": {},
     "output_type": "execute_result"
    }
   ],
   "source": [
    "len(sentences)"
   ]
  },
  {
   "cell_type": "code",
   "execution_count": 7,
   "metadata": {},
   "outputs": [
    {
     "data": {
      "text/plain": [
       "['The Zoo helped reveal that blue galaxies turn into red galaxies via two possible paths galaxies might run out of supply of gas and shut off star formation slowly; or they could merge with one another and turn off star formation by destroying the gas reservoir rapidly!The Galaxy Zoo project also led to the discoveries of:Green Peas: they are the living fossils of galaxy evolution; compact, bright, green galaxies that are actively forming starsOverlapping galaxies: they are pairs of galaxies that are separated physically but happen to lie on the same line of sight; they provide excellent laboratories for studying dust extinctionHannys Voorwerp: an unusual object named after Hanny the discoverer, which is believed to be the first detection of quasar light echoThe idea of Galaxy Zoo in getting help from citizen scientists was further extended into an award-winningproject known as the Zooniverse, which is an online platform for streamlined crowd-sourcing for scientific research that requires human input.']"
      ]
     },
     "execution_count": 7,
     "metadata": {},
     "output_type": "execute_result"
    }
   ],
   "source": [
    "SentenceLengths = [len(sent) for sent in sentences]\n",
    "[sent for sent in sentences if len(sent) == max(SentenceLengths)]"
   ]
  },
  {
   "cell_type": "markdown",
   "metadata": {},
   "source": [
    "# Words"
   ]
  },
  {
   "cell_type": "code",
   "execution_count": 8,
   "metadata": {},
   "outputs": [
    {
     "data": {
      "text/plain": [
       "Solar system, exoplanet, and stellar science rely on transits, eclipses, and occultations for dynamical and physical insight. Often, the geometry of these configurations are modelled by assuming a particular viewpoint. Here, instead, I derive user-friendly formulae from first principles independent of viewpoint and in three dimensions. I generalize the results of Veras &amp; Breedt by (i) characterizing three-body systems that are in transit but are not necessarily perfectly aligned and by (ii) incorporating motion. For a given snapshot in time, I derive explicit criteria to determine whether a system is in or out of transit, if an eclipse is total or annular, and expressions for the size of the shadow, including their extreme values and a condition for engulfment. These results are exact. For orbital motion, I instead obtain approximate results. By assuming fixed orbits, I derive a single implicit algebraic relation that can be solved to obtain the frequency and duration of transit events - including ingresses and egresses - for combinations of moons, planets, and stars on arbitrarily inclined circular orbits; the eccentric case requires the solution of Kepler's equation but remains algebraic. I prove that a transit shadow - whether umbral, antumbral, or penumbral - takes the shape of a parabolic cylinder, and finally present geometric constraints on Earth-based observers hoping to detect a three-body syzygy (or perfect alignment) - either in extrasolar systems or within the Solar system - potentially as a double annular eclipse."
      ]
     },
     "execution_count": 8,
     "metadata": {},
     "output_type": "execute_result"
    }
   ],
   "source": [
    "ab1=dfExoplanetsDoc[1]\n",
    "ab1"
   ]
  },
  {
   "cell_type": "code",
   "execution_count": 9,
   "metadata": {},
   "outputs": [
    {
     "data": {
      "text/plain": [
       "Often, the geometry of these configurations are modelled by assuming a particular viewpoint."
      ]
     },
     "execution_count": 9,
     "metadata": {},
     "output_type": "execute_result"
    }
   ],
   "source": [
    "s1=list(ab1.sents)[1]\n",
    "s1"
   ]
  },
  {
   "cell_type": "code",
   "execution_count": 10,
   "metadata": {},
   "outputs": [
    {
     "data": {
      "text/plain": [
       "geometry"
      ]
     },
     "execution_count": 10,
     "metadata": {},
     "output_type": "execute_result"
    }
   ],
   "source": [
    "s1[3]"
   ]
  },
  {
   "cell_type": "code",
   "execution_count": 11,
   "metadata": {},
   "outputs": [
    {
     "data": {
      "text/plain": [
       "'We calculate the radiometric sensitivity of the SKA stages and components, finding that SKA2-Mid can expect to detect transits around the very nearest solar-like stars and many cool dwarfs.'"
      ]
     },
     "execution_count": 11,
     "metadata": {},
     "output_type": "execute_result"
    }
   ],
   "source": [
    "s3=sentences[3]\n",
    "s3"
   ]
  },
  {
   "cell_type": "code",
   "execution_count": 12,
   "metadata": {},
   "outputs": [
    {
     "data": {
      "text/plain": [
       "Reference star differential imaging (RDI) is a powerful strategy for high contrast imaging. Using example observations taken with the vortex coronagraph mode of Keck/NIRC2 in L^prime band, we demonstrate that RDI provides improved sensitivity to point sources at small angular separations compared to angular differential imaging (ADI). Applying RDI to images of the low-mass stellar companions HIP 79124 C (192 mas separation, Delta L^prime=4.01) and HIP 78233 B (141 mas separation, Delta L^prime=4.78), the latter a first imaging detection, increases the significance of their detections by up to a factor of 5 with respect to ADI. We compare methods for reference frames selection and find that pre-selection of frames improves detection significance of point sources by up to a factor of 3. In addition, we use observations of the circumstellar disks around MWC 758 and 2MASS J16042165-2130284 to show that RDI allows for accurate mapping of scattered light distributions without self-subtraction artifacts."
      ]
     },
     "execution_count": 12,
     "metadata": {},
     "output_type": "execute_result"
    }
   ],
   "source": [
    "dfExoplanetsDoc[63]"
   ]
  },
  {
   "cell_type": "code",
   "execution_count": 13,
   "metadata": {},
   "outputs": [
    {
     "name": "stdout",
     "output_type": "stream",
     "text": [
      "we we 1.0\n",
      "we Manhattan 0.064423345\n",
      "we detect 0.27373844\n",
      "we atom 0.10940252\n",
      "we bomb 0.25137678\n",
      "Manhattan we 0.064423345\n",
      "Manhattan Manhattan 1.0\n",
      "Manhattan detect 0.035825163\n",
      "Manhattan atom 0.13849689\n",
      "Manhattan bomb 0.18976961\n",
      "detect we 0.27373844\n",
      "detect Manhattan 0.035825163\n",
      "detect detect 1.0\n",
      "detect atom 0.27305707\n",
      "detect bomb 0.23849952\n",
      "atom we 0.10940252\n",
      "atom Manhattan 0.13849689\n",
      "atom detect 0.27305707\n",
      "atom atom 1.0\n",
      "atom bomb 0.33266583\n",
      "bomb we 0.25137678\n",
      "bomb Manhattan 0.18976961\n",
      "bomb detect 0.23849952\n",
      "bomb atom 0.33266583\n",
      "bomb bomb 1.0\n"
     ]
    }
   ],
   "source": [
    "tokens=nlp(\"we Manhattan detect atom bomb\")\n",
    "for token1 in tokens:\n",
    "    for token2 in tokens:\n",
    "        print(token1.text,token2.text,token1.similarity(token2))"
   ]
  },
  {
   "cell_type": "markdown",
   "metadata": {},
   "source": [
    "## Formating the annotated sentences to tuples"
   ]
  },
  {
   "cell_type": "code",
   "execution_count": 76,
   "metadata": {},
   "outputs": [
    {
     "data": {
      "text/plain": [
       "introduce"
      ]
     },
     "execution_count": 76,
     "metadata": {},
     "output_type": "execute_result"
    }
   ],
   "source": [
    "def findroot(satz):\n",
    "    root = [token for token in satz if token.head == token][0]\n",
    "    return(root)\n",
    "findroot(satz)"
   ]
  },
  {
   "cell_type": "code",
   "execution_count": 15,
   "metadata": {},
   "outputs": [],
   "source": [
    "dfExoplanetsNASA = pd.read_json('./data/dfExoplanetsNASAdetected100rand_v2.json', orient = 'table')"
   ]
  },
  {
   "cell_type": "code",
   "execution_count": 16,
   "metadata": {},
   "outputs": [],
   "source": [
    "dfExoplanetsNASAtupDetected = []\n",
    "for i in range(len(dfExoplanetsNASA)):\n",
    "    dfExoplanetsNASAtupDetected.append((dfExoplanetsNASA.sent[i], dfExoplanetsNASA.tagDetected[i], dfExoplanetsNASA.label[i]))"
   ]
  },
  {
   "cell_type": "code",
   "execution_count": 17,
   "metadata": {},
   "outputs": [
    {
     "data": {
      "text/plain": [
       "('In this work, we present our statistical analysis of the outliers thus detected.',\n",
       " 'VBD',\n",
       " 'None')"
      ]
     },
     "execution_count": 17,
     "metadata": {},
     "output_type": "execute_result"
    }
   ],
   "source": [
    "dfExoplanetsNASAtupDetected[65]"
   ]
  },
  {
   "cell_type": "code",
   "execution_count": null,
   "metadata": {},
   "outputs": [],
   "source": []
  }
 ],
 "metadata": {
  "kernelspec": {
   "display_name": "Python 3",
   "language": "python",
   "name": "python3"
  },
  "language_info": {
   "codemirror_mode": {
    "name": "ipython",
    "version": 3
   },
   "file_extension": ".py",
   "mimetype": "text/x-python",
   "name": "python",
   "nbconvert_exporter": "python",
   "pygments_lexer": "ipython3",
   "version": "3.6.8"
  }
 },
 "nbformat": 4,
 "nbformat_minor": 2
}
