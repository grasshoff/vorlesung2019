{
 "cells": [
  {
   "cell_type": "code",
   "execution_count": 1,
   "metadata": {
    "collapsed": true
   },
   "outputs": [],
   "source": [
    "import pandas as pd\n",
    "import numpy as np\n",
    "import re\n",
    "from numpy import dot\n",
    "from numpy.linalg import norm\n",
    "# from unidecode import unidecode\n",
    "import spacy\n",
    "from spacy.lang.en import English\n",
    "from spacy import displacy\n",
    "nlp = spacy.load('en_core_web_lg')"
   ]
  },
  {
   "cell_type": "code",
   "execution_count": 2,
   "metadata": {},
   "outputs": [],
   "source": [
    "from IPython.display import Image\n",
    "import ipywidgets as widgets\n",
    "from ipywidgets import interact, interact_manual"
   ]
  },
  {
   "cell_type": "code",
   "execution_count": 3,
   "metadata": {},
   "outputs": [],
   "source": [
    "from collections import Counter\n",
    "# import arrow\n",
    "from IPython.display import Image\n",
    "import matplotlib.pyplot as plt\n",
    "import networkx as nx\n",
    "import seaborn as sb\n",
    "import textacy\n",
    "import textacy.keyterms"
   ]
  },
  {
   "cell_type": "code",
   "execution_count": 4,
   "metadata": {},
   "outputs": [],
   "source": [
    "from spacy.matcher import Matcher  "
   ]
  },
  {
   "cell_type": "code",
   "execution_count": 5,
   "metadata": {},
   "outputs": [],
   "source": [
    "pd.set_option('display.max_colwidth', -1)\n",
    "pd.set_option('max_colwidth', 260)"
   ]
  },
  {
   "cell_type": "code",
   "execution_count": 6,
   "metadata": {},
   "outputs": [],
   "source": [
    "dfExoplanetsAbs=pd.read_json(\"./data/dfExoplanetsNASAabsClear_v1.json\",orient=\"table\")\n",
    "dfExoplanetsSent=pd.read_json(\"./data/dfE.json\",orient=\"table\")"
   ]
  },
  {
   "cell_type": "code",
   "execution_count": 7,
   "metadata": {},
   "outputs": [
    {
     "data": {
      "text/plain": [
       "31444"
      ]
     },
     "execution_count": 7,
     "metadata": {},
     "output_type": "execute_result"
    }
   ],
   "source": [
    "len(dfExoplanetsAbs)"
   ]
  },
  {
   "cell_type": "code",
   "execution_count": 8,
   "metadata": {},
   "outputs": [
    {
     "data": {
      "text/html": [
       "<div>\n",
       "<style scoped>\n",
       "    .dataframe tbody tr th:only-of-type {\n",
       "        vertical-align: middle;\n",
       "    }\n",
       "\n",
       "    .dataframe tbody tr th {\n",
       "        vertical-align: top;\n",
       "    }\n",
       "\n",
       "    .dataframe thead th {\n",
       "        text-align: right;\n",
       "    }\n",
       "</style>\n",
       "<table border=\"1\" class=\"dataframe\">\n",
       "  <thead>\n",
       "    <tr style=\"text-align: right;\">\n",
       "      <th></th>\n",
       "      <th>IDabstr</th>\n",
       "      <th>IDsentence</th>\n",
       "      <th>sentence</th>\n",
       "      <th>features</th>\n",
       "    </tr>\n",
       "  </thead>\n",
       "  <tbody>\n",
       "    <tr>\n",
       "      <th>0</th>\n",
       "      <td>0</td>\n",
       "      <td>0</td>\n",
       "      <td>A new GEANT4 particle transport model - the Atmospheric Radiation Interaction Simulator - has been recently developed in order to model the interaction of radiation with planets.</td>\n",
       "      <td>NaN</td>\n",
       "    </tr>\n",
       "    <tr>\n",
       "      <th>1</th>\n",
       "      <td>0</td>\n",
       "      <td>1</td>\n",
       "      <td>The upcoming instrumentational advancements in the exoplanetary science, in particular transit spectroscopy capabilities of missions like JWST and E-ELT, have motivated the development of a particle transport code with a focus on providing the necessary fl...</td>\n",
       "      <td>NaN</td>\n",
       "    </tr>\n",
       "    <tr>\n",
       "      <th>2</th>\n",
       "      <td>0</td>\n",
       "      <td>2</td>\n",
       "      <td>for the modeling of radiation environment for exoplanets.</td>\n",
       "      <td>NaN</td>\n",
       "    </tr>\n",
       "  </tbody>\n",
       "</table>\n",
       "</div>"
      ],
      "text/plain": [
       "   IDabstr  IDsentence  \\\n",
       "0        0           0   \n",
       "1        0           1   \n",
       "2        0           2   \n",
       "\n",
       "                                                                                                                                                                                                                                                              sentence  \\\n",
       "0                                                                                   A new GEANT4 particle transport model - the Atmospheric Radiation Interaction Simulator - has been recently developed in order to model the interaction of radiation with planets.   \n",
       "1  The upcoming instrumentational advancements in the exoplanetary science, in particular transit spectroscopy capabilities of missions like JWST and E-ELT, have motivated the development of a particle transport code with a focus on providing the necessary fl...   \n",
       "2                                                                                                                                                                                                            for the modeling of radiation environment for exoplanets.   \n",
       "\n",
       "   features  \n",
       "0       NaN  \n",
       "1       NaN  \n",
       "2       NaN  "
      ]
     },
     "execution_count": 8,
     "metadata": {},
     "output_type": "execute_result"
    }
   ],
   "source": [
    "dfExoplanetsSent['features']=dfExoplanetsSent.apply(lambda x: 0)\n",
    "dfExoplanetsSent.head(3)"
   ]
  },
  {
   "cell_type": "code",
   "execution_count": 9,
   "metadata": {},
   "outputs": [
    {
     "data": {
      "text/plain": [
       "251386"
      ]
     },
     "execution_count": 9,
     "metadata": {},
     "output_type": "execute_result"
    }
   ],
   "source": [
    "sentences=list(dfExoplanetsSent['sentence'])\n",
    "len(sentences)"
   ]
  },
  {
   "cell_type": "markdown",
   "metadata": {},
   "source": [
    "# Dependency label\n",
    "https://github.com/clir/clearnlp-guidelines/blob/master/md/specifications/dependency_labels.md\n",
    "\n",
    "https://stackoverflow.com/questions/40288323/what-do-spacys-part-of-speech-and-dependency-tags-mean/40288324\n",
    "\n",
    "https://nlp.stanford.edu/software/dependencies_manual.pdf"
   ]
  },
  {
   "cell_type": "code",
   "execution_count": 10,
   "metadata": {},
   "outputs": [
    {
     "data": {
      "text/plain": [
       "We analyzed the Kepler light curves of four transiting hot Jupiter systems—KOI-13, HAT-P-7, TrES-2, and Kepler-76, which show BEaming, Ellipsoidal, and Reflection (BEER) phase modulations."
      ]
     },
     "execution_count": 10,
     "metadata": {},
     "output_type": "execute_result"
    }
   ],
   "source": [
    "satz=nlp(sentences[114522])\n",
    "satz"
   ]
  },
  {
   "cell_type": "code",
   "execution_count": 11,
   "metadata": {},
   "outputs": [
    {
     "data": {
      "text/html": [
       "<svg xmlns=\"http://www.w3.org/2000/svg\" xmlns:xlink=\"http://www.w3.org/1999/xlink\" xml:lang=\"en\" id=\"a4753db890f1418696a4c8c246f25be7-0\" class=\"displacy\" width=\"4775\" height=\"749.5\" direction=\"ltr\" style=\"max-width: none; height: 749.5px; color: #000000; background: #ffffff; font-family: Arial; direction: ltr\">\n",
       "<text class=\"displacy-token\" fill=\"currentColor\" text-anchor=\"middle\" y=\"659.5\">\n",
       "    <tspan class=\"displacy-word\" fill=\"currentColor\" x=\"50\">We</tspan>\n",
       "    <tspan class=\"displacy-tag\" dy=\"2em\" fill=\"currentColor\" x=\"50\">PRON</tspan>\n",
       "</text>\n",
       "\n",
       "<text class=\"displacy-token\" fill=\"currentColor\" text-anchor=\"middle\" y=\"659.5\">\n",
       "    <tspan class=\"displacy-word\" fill=\"currentColor\" x=\"225\">analyzed</tspan>\n",
       "    <tspan class=\"displacy-tag\" dy=\"2em\" fill=\"currentColor\" x=\"225\">VERB</tspan>\n",
       "</text>\n",
       "\n",
       "<text class=\"displacy-token\" fill=\"currentColor\" text-anchor=\"middle\" y=\"659.5\">\n",
       "    <tspan class=\"displacy-word\" fill=\"currentColor\" x=\"400\">the</tspan>\n",
       "    <tspan class=\"displacy-tag\" dy=\"2em\" fill=\"currentColor\" x=\"400\">DET</tspan>\n",
       "</text>\n",
       "\n",
       "<text class=\"displacy-token\" fill=\"currentColor\" text-anchor=\"middle\" y=\"659.5\">\n",
       "    <tspan class=\"displacy-word\" fill=\"currentColor\" x=\"575\">Kepler</tspan>\n",
       "    <tspan class=\"displacy-tag\" dy=\"2em\" fill=\"currentColor\" x=\"575\">PROPN</tspan>\n",
       "</text>\n",
       "\n",
       "<text class=\"displacy-token\" fill=\"currentColor\" text-anchor=\"middle\" y=\"659.5\">\n",
       "    <tspan class=\"displacy-word\" fill=\"currentColor\" x=\"750\">light</tspan>\n",
       "    <tspan class=\"displacy-tag\" dy=\"2em\" fill=\"currentColor\" x=\"750\">NOUN</tspan>\n",
       "</text>\n",
       "\n",
       "<text class=\"displacy-token\" fill=\"currentColor\" text-anchor=\"middle\" y=\"659.5\">\n",
       "    <tspan class=\"displacy-word\" fill=\"currentColor\" x=\"925\">curves</tspan>\n",
       "    <tspan class=\"displacy-tag\" dy=\"2em\" fill=\"currentColor\" x=\"925\">NOUN</tspan>\n",
       "</text>\n",
       "\n",
       "<text class=\"displacy-token\" fill=\"currentColor\" text-anchor=\"middle\" y=\"659.5\">\n",
       "    <tspan class=\"displacy-word\" fill=\"currentColor\" x=\"1100\">of</tspan>\n",
       "    <tspan class=\"displacy-tag\" dy=\"2em\" fill=\"currentColor\" x=\"1100\">ADP</tspan>\n",
       "</text>\n",
       "\n",
       "<text class=\"displacy-token\" fill=\"currentColor\" text-anchor=\"middle\" y=\"659.5\">\n",
       "    <tspan class=\"displacy-word\" fill=\"currentColor\" x=\"1275\">four</tspan>\n",
       "    <tspan class=\"displacy-tag\" dy=\"2em\" fill=\"currentColor\" x=\"1275\">NUM</tspan>\n",
       "</text>\n",
       "\n",
       "<text class=\"displacy-token\" fill=\"currentColor\" text-anchor=\"middle\" y=\"659.5\">\n",
       "    <tspan class=\"displacy-word\" fill=\"currentColor\" x=\"1450\">transiting</tspan>\n",
       "    <tspan class=\"displacy-tag\" dy=\"2em\" fill=\"currentColor\" x=\"1450\">VERB</tspan>\n",
       "</text>\n",
       "\n",
       "<text class=\"displacy-token\" fill=\"currentColor\" text-anchor=\"middle\" y=\"659.5\">\n",
       "    <tspan class=\"displacy-word\" fill=\"currentColor\" x=\"1625\">hot</tspan>\n",
       "    <tspan class=\"displacy-tag\" dy=\"2em\" fill=\"currentColor\" x=\"1625\">ADJ</tspan>\n",
       "</text>\n",
       "\n",
       "<text class=\"displacy-token\" fill=\"currentColor\" text-anchor=\"middle\" y=\"659.5\">\n",
       "    <tspan class=\"displacy-word\" fill=\"currentColor\" x=\"1800\">Jupiter</tspan>\n",
       "    <tspan class=\"displacy-tag\" dy=\"2em\" fill=\"currentColor\" x=\"1800\">PROPN</tspan>\n",
       "</text>\n",
       "\n",
       "<text class=\"displacy-token\" fill=\"currentColor\" text-anchor=\"middle\" y=\"659.5\">\n",
       "    <tspan class=\"displacy-word\" fill=\"currentColor\" x=\"1975\">systems—</tspan>\n",
       "    <tspan class=\"displacy-tag\" dy=\"2em\" fill=\"currentColor\" x=\"1975\">NOUN</tspan>\n",
       "</text>\n",
       "\n",
       "<text class=\"displacy-token\" fill=\"currentColor\" text-anchor=\"middle\" y=\"659.5\">\n",
       "    <tspan class=\"displacy-word\" fill=\"currentColor\" x=\"2150\">KOI-13,</tspan>\n",
       "    <tspan class=\"displacy-tag\" dy=\"2em\" fill=\"currentColor\" x=\"2150\">PROPN</tspan>\n",
       "</text>\n",
       "\n",
       "<text class=\"displacy-token\" fill=\"currentColor\" text-anchor=\"middle\" y=\"659.5\">\n",
       "    <tspan class=\"displacy-word\" fill=\"currentColor\" x=\"2325\">HAT-</tspan>\n",
       "    <tspan class=\"displacy-tag\" dy=\"2em\" fill=\"currentColor\" x=\"2325\">PROPN</tspan>\n",
       "</text>\n",
       "\n",
       "<text class=\"displacy-token\" fill=\"currentColor\" text-anchor=\"middle\" y=\"659.5\">\n",
       "    <tspan class=\"displacy-word\" fill=\"currentColor\" x=\"2500\">P-7,</tspan>\n",
       "    <tspan class=\"displacy-tag\" dy=\"2em\" fill=\"currentColor\" x=\"2500\">PROPN</tspan>\n",
       "</text>\n",
       "\n",
       "<text class=\"displacy-token\" fill=\"currentColor\" text-anchor=\"middle\" y=\"659.5\">\n",
       "    <tspan class=\"displacy-word\" fill=\"currentColor\" x=\"2675\">TrES-2,</tspan>\n",
       "    <tspan class=\"displacy-tag\" dy=\"2em\" fill=\"currentColor\" x=\"2675\">ADJ</tspan>\n",
       "</text>\n",
       "\n",
       "<text class=\"displacy-token\" fill=\"currentColor\" text-anchor=\"middle\" y=\"659.5\">\n",
       "    <tspan class=\"displacy-word\" fill=\"currentColor\" x=\"2850\">and</tspan>\n",
       "    <tspan class=\"displacy-tag\" dy=\"2em\" fill=\"currentColor\" x=\"2850\">CCONJ</tspan>\n",
       "</text>\n",
       "\n",
       "<text class=\"displacy-token\" fill=\"currentColor\" text-anchor=\"middle\" y=\"659.5\">\n",
       "    <tspan class=\"displacy-word\" fill=\"currentColor\" x=\"3025\">Kepler-76,</tspan>\n",
       "    <tspan class=\"displacy-tag\" dy=\"2em\" fill=\"currentColor\" x=\"3025\">NOUN</tspan>\n",
       "</text>\n",
       "\n",
       "<text class=\"displacy-token\" fill=\"currentColor\" text-anchor=\"middle\" y=\"659.5\">\n",
       "    <tspan class=\"displacy-word\" fill=\"currentColor\" x=\"3200\">which</tspan>\n",
       "    <tspan class=\"displacy-tag\" dy=\"2em\" fill=\"currentColor\" x=\"3200\">DET</tspan>\n",
       "</text>\n",
       "\n",
       "<text class=\"displacy-token\" fill=\"currentColor\" text-anchor=\"middle\" y=\"659.5\">\n",
       "    <tspan class=\"displacy-word\" fill=\"currentColor\" x=\"3375\">show</tspan>\n",
       "    <tspan class=\"displacy-tag\" dy=\"2em\" fill=\"currentColor\" x=\"3375\">VERB</tspan>\n",
       "</text>\n",
       "\n",
       "<text class=\"displacy-token\" fill=\"currentColor\" text-anchor=\"middle\" y=\"659.5\">\n",
       "    <tspan class=\"displacy-word\" fill=\"currentColor\" x=\"3550\">BEaming,</tspan>\n",
       "    <tspan class=\"displacy-tag\" dy=\"2em\" fill=\"currentColor\" x=\"3550\">PROPN</tspan>\n",
       "</text>\n",
       "\n",
       "<text class=\"displacy-token\" fill=\"currentColor\" text-anchor=\"middle\" y=\"659.5\">\n",
       "    <tspan class=\"displacy-word\" fill=\"currentColor\" x=\"3725\">Ellipsoidal,</tspan>\n",
       "    <tspan class=\"displacy-tag\" dy=\"2em\" fill=\"currentColor\" x=\"3725\">PROPN</tspan>\n",
       "</text>\n",
       "\n",
       "<text class=\"displacy-token\" fill=\"currentColor\" text-anchor=\"middle\" y=\"659.5\">\n",
       "    <tspan class=\"displacy-word\" fill=\"currentColor\" x=\"3900\">and</tspan>\n",
       "    <tspan class=\"displacy-tag\" dy=\"2em\" fill=\"currentColor\" x=\"3900\">CCONJ</tspan>\n",
       "</text>\n",
       "\n",
       "<text class=\"displacy-token\" fill=\"currentColor\" text-anchor=\"middle\" y=\"659.5\">\n",
       "    <tspan class=\"displacy-word\" fill=\"currentColor\" x=\"4075\">Reflection (</tspan>\n",
       "    <tspan class=\"displacy-tag\" dy=\"2em\" fill=\"currentColor\" x=\"4075\">PROPN</tspan>\n",
       "</text>\n",
       "\n",
       "<text class=\"displacy-token\" fill=\"currentColor\" text-anchor=\"middle\" y=\"659.5\">\n",
       "    <tspan class=\"displacy-word\" fill=\"currentColor\" x=\"4250\">BEER)</tspan>\n",
       "    <tspan class=\"displacy-tag\" dy=\"2em\" fill=\"currentColor\" x=\"4250\">NOUN</tspan>\n",
       "</text>\n",
       "\n",
       "<text class=\"displacy-token\" fill=\"currentColor\" text-anchor=\"middle\" y=\"659.5\">\n",
       "    <tspan class=\"displacy-word\" fill=\"currentColor\" x=\"4425\">phase</tspan>\n",
       "    <tspan class=\"displacy-tag\" dy=\"2em\" fill=\"currentColor\" x=\"4425\">NOUN</tspan>\n",
       "</text>\n",
       "\n",
       "<text class=\"displacy-token\" fill=\"currentColor\" text-anchor=\"middle\" y=\"659.5\">\n",
       "    <tspan class=\"displacy-word\" fill=\"currentColor\" x=\"4600\">modulations.</tspan>\n",
       "    <tspan class=\"displacy-tag\" dy=\"2em\" fill=\"currentColor\" x=\"4600\">NOUN</tspan>\n",
       "</text>\n",
       "\n",
       "<g class=\"displacy-arrow\">\n",
       "    <path class=\"displacy-arc\" id=\"arrow-a4753db890f1418696a4c8c246f25be7-0-0\" stroke-width=\"2px\" d=\"M70,614.5 C70,527.0 195.0,527.0 195.0,614.5\" fill=\"none\" stroke=\"currentColor\"/>\n",
       "    <text dy=\"1.25em\" style=\"font-size: 0.8em; letter-spacing: 1px\">\n",
       "        <textPath xlink:href=\"#arrow-a4753db890f1418696a4c8c246f25be7-0-0\" class=\"displacy-label\" startOffset=\"50%\" side=\"left\" fill=\"currentColor\" text-anchor=\"middle\">nsubj</textPath>\n",
       "    </text>\n",
       "    <path class=\"displacy-arrowhead\" d=\"M70,616.5 L62,604.5 78,604.5\" fill=\"currentColor\"/>\n",
       "</g>\n",
       "\n",
       "<g class=\"displacy-arrow\">\n",
       "    <path class=\"displacy-arc\" id=\"arrow-a4753db890f1418696a4c8c246f25be7-0-1\" stroke-width=\"2px\" d=\"M420,614.5 C420,352.0 905.0,352.0 905.0,614.5\" fill=\"none\" stroke=\"currentColor\"/>\n",
       "    <text dy=\"1.25em\" style=\"font-size: 0.8em; letter-spacing: 1px\">\n",
       "        <textPath xlink:href=\"#arrow-a4753db890f1418696a4c8c246f25be7-0-1\" class=\"displacy-label\" startOffset=\"50%\" side=\"left\" fill=\"currentColor\" text-anchor=\"middle\">det</textPath>\n",
       "    </text>\n",
       "    <path class=\"displacy-arrowhead\" d=\"M420,616.5 L412,604.5 428,604.5\" fill=\"currentColor\"/>\n",
       "</g>\n",
       "\n",
       "<g class=\"displacy-arrow\">\n",
       "    <path class=\"displacy-arc\" id=\"arrow-a4753db890f1418696a4c8c246f25be7-0-2\" stroke-width=\"2px\" d=\"M595,614.5 C595,527.0 720.0,527.0 720.0,614.5\" fill=\"none\" stroke=\"currentColor\"/>\n",
       "    <text dy=\"1.25em\" style=\"font-size: 0.8em; letter-spacing: 1px\">\n",
       "        <textPath xlink:href=\"#arrow-a4753db890f1418696a4c8c246f25be7-0-2\" class=\"displacy-label\" startOffset=\"50%\" side=\"left\" fill=\"currentColor\" text-anchor=\"middle\">compound</textPath>\n",
       "    </text>\n",
       "    <path class=\"displacy-arrowhead\" d=\"M595,616.5 L587,604.5 603,604.5\" fill=\"currentColor\"/>\n",
       "</g>\n",
       "\n",
       "<g class=\"displacy-arrow\">\n",
       "    <path class=\"displacy-arc\" id=\"arrow-a4753db890f1418696a4c8c246f25be7-0-3\" stroke-width=\"2px\" d=\"M770,614.5 C770,527.0 895.0,527.0 895.0,614.5\" fill=\"none\" stroke=\"currentColor\"/>\n",
       "    <text dy=\"1.25em\" style=\"font-size: 0.8em; letter-spacing: 1px\">\n",
       "        <textPath xlink:href=\"#arrow-a4753db890f1418696a4c8c246f25be7-0-3\" class=\"displacy-label\" startOffset=\"50%\" side=\"left\" fill=\"currentColor\" text-anchor=\"middle\">compound</textPath>\n",
       "    </text>\n",
       "    <path class=\"displacy-arrowhead\" d=\"M770,616.5 L762,604.5 778,604.5\" fill=\"currentColor\"/>\n",
       "</g>\n",
       "\n",
       "<g class=\"displacy-arrow\">\n",
       "    <path class=\"displacy-arc\" id=\"arrow-a4753db890f1418696a4c8c246f25be7-0-4\" stroke-width=\"2px\" d=\"M245,614.5 C245,264.5 910.0,264.5 910.0,614.5\" fill=\"none\" stroke=\"currentColor\"/>\n",
       "    <text dy=\"1.25em\" style=\"font-size: 0.8em; letter-spacing: 1px\">\n",
       "        <textPath xlink:href=\"#arrow-a4753db890f1418696a4c8c246f25be7-0-4\" class=\"displacy-label\" startOffset=\"50%\" side=\"left\" fill=\"currentColor\" text-anchor=\"middle\">dobj</textPath>\n",
       "    </text>\n",
       "    <path class=\"displacy-arrowhead\" d=\"M910.0,616.5 L918.0,604.5 902.0,604.5\" fill=\"currentColor\"/>\n",
       "</g>\n",
       "\n",
       "<g class=\"displacy-arrow\">\n",
       "    <path class=\"displacy-arc\" id=\"arrow-a4753db890f1418696a4c8c246f25be7-0-5\" stroke-width=\"2px\" d=\"M945,614.5 C945,527.0 1070.0,527.0 1070.0,614.5\" fill=\"none\" stroke=\"currentColor\"/>\n",
       "    <text dy=\"1.25em\" style=\"font-size: 0.8em; letter-spacing: 1px\">\n",
       "        <textPath xlink:href=\"#arrow-a4753db890f1418696a4c8c246f25be7-0-5\" class=\"displacy-label\" startOffset=\"50%\" side=\"left\" fill=\"currentColor\" text-anchor=\"middle\">prep</textPath>\n",
       "    </text>\n",
       "    <path class=\"displacy-arrowhead\" d=\"M1070.0,616.5 L1078.0,604.5 1062.0,604.5\" fill=\"currentColor\"/>\n",
       "</g>\n",
       "\n",
       "<g class=\"displacy-arrow\">\n",
       "    <path class=\"displacy-arc\" id=\"arrow-a4753db890f1418696a4c8c246f25be7-0-6\" stroke-width=\"2px\" d=\"M1295,614.5 C1295,264.5 1960.0,264.5 1960.0,614.5\" fill=\"none\" stroke=\"currentColor\"/>\n",
       "    <text dy=\"1.25em\" style=\"font-size: 0.8em; letter-spacing: 1px\">\n",
       "        <textPath xlink:href=\"#arrow-a4753db890f1418696a4c8c246f25be7-0-6\" class=\"displacy-label\" startOffset=\"50%\" side=\"left\" fill=\"currentColor\" text-anchor=\"middle\">nummod</textPath>\n",
       "    </text>\n",
       "    <path class=\"displacy-arrowhead\" d=\"M1295,616.5 L1287,604.5 1303,604.5\" fill=\"currentColor\"/>\n",
       "</g>\n",
       "\n",
       "<g class=\"displacy-arrow\">\n",
       "    <path class=\"displacy-arc\" id=\"arrow-a4753db890f1418696a4c8c246f25be7-0-7\" stroke-width=\"2px\" d=\"M1470,614.5 C1470,352.0 1955.0,352.0 1955.0,614.5\" fill=\"none\" stroke=\"currentColor\"/>\n",
       "    <text dy=\"1.25em\" style=\"font-size: 0.8em; letter-spacing: 1px\">\n",
       "        <textPath xlink:href=\"#arrow-a4753db890f1418696a4c8c246f25be7-0-7\" class=\"displacy-label\" startOffset=\"50%\" side=\"left\" fill=\"currentColor\" text-anchor=\"middle\">amod</textPath>\n",
       "    </text>\n",
       "    <path class=\"displacy-arrowhead\" d=\"M1470,616.5 L1462,604.5 1478,604.5\" fill=\"currentColor\"/>\n",
       "</g>\n",
       "\n",
       "<g class=\"displacy-arrow\">\n",
       "    <path class=\"displacy-arc\" id=\"arrow-a4753db890f1418696a4c8c246f25be7-0-8\" stroke-width=\"2px\" d=\"M1645,614.5 C1645,527.0 1770.0,527.0 1770.0,614.5\" fill=\"none\" stroke=\"currentColor\"/>\n",
       "    <text dy=\"1.25em\" style=\"font-size: 0.8em; letter-spacing: 1px\">\n",
       "        <textPath xlink:href=\"#arrow-a4753db890f1418696a4c8c246f25be7-0-8\" class=\"displacy-label\" startOffset=\"50%\" side=\"left\" fill=\"currentColor\" text-anchor=\"middle\">amod</textPath>\n",
       "    </text>\n",
       "    <path class=\"displacy-arrowhead\" d=\"M1645,616.5 L1637,604.5 1653,604.5\" fill=\"currentColor\"/>\n",
       "</g>\n",
       "\n",
       "<g class=\"displacy-arrow\">\n",
       "    <path class=\"displacy-arc\" id=\"arrow-a4753db890f1418696a4c8c246f25be7-0-9\" stroke-width=\"2px\" d=\"M1820,614.5 C1820,527.0 1945.0,527.0 1945.0,614.5\" fill=\"none\" stroke=\"currentColor\"/>\n",
       "    <text dy=\"1.25em\" style=\"font-size: 0.8em; letter-spacing: 1px\">\n",
       "        <textPath xlink:href=\"#arrow-a4753db890f1418696a4c8c246f25be7-0-9\" class=\"displacy-label\" startOffset=\"50%\" side=\"left\" fill=\"currentColor\" text-anchor=\"middle\">compound</textPath>\n",
       "    </text>\n",
       "    <path class=\"displacy-arrowhead\" d=\"M1820,616.5 L1812,604.5 1828,604.5\" fill=\"currentColor\"/>\n",
       "</g>\n",
       "\n",
       "<g class=\"displacy-arrow\">\n",
       "    <path class=\"displacy-arc\" id=\"arrow-a4753db890f1418696a4c8c246f25be7-0-10\" stroke-width=\"2px\" d=\"M1120,614.5 C1120,177.0 1965.0,177.0 1965.0,614.5\" fill=\"none\" stroke=\"currentColor\"/>\n",
       "    <text dy=\"1.25em\" style=\"font-size: 0.8em; letter-spacing: 1px\">\n",
       "        <textPath xlink:href=\"#arrow-a4753db890f1418696a4c8c246f25be7-0-10\" class=\"displacy-label\" startOffset=\"50%\" side=\"left\" fill=\"currentColor\" text-anchor=\"middle\">pobj</textPath>\n",
       "    </text>\n",
       "    <path class=\"displacy-arrowhead\" d=\"M1965.0,616.5 L1973.0,604.5 1957.0,604.5\" fill=\"currentColor\"/>\n",
       "</g>\n",
       "\n",
       "<g class=\"displacy-arrow\">\n",
       "    <path class=\"displacy-arc\" id=\"arrow-a4753db890f1418696a4c8c246f25be7-0-11\" stroke-width=\"2px\" d=\"M2170,614.5 C2170,527.0 2295.0,527.0 2295.0,614.5\" fill=\"none\" stroke=\"currentColor\"/>\n",
       "    <text dy=\"1.25em\" style=\"font-size: 0.8em; letter-spacing: 1px\">\n",
       "        <textPath xlink:href=\"#arrow-a4753db890f1418696a4c8c246f25be7-0-11\" class=\"displacy-label\" startOffset=\"50%\" side=\"left\" fill=\"currentColor\" text-anchor=\"middle\">punct</textPath>\n",
       "    </text>\n",
       "    <path class=\"displacy-arrowhead\" d=\"M2170,616.5 L2162,604.5 2178,604.5\" fill=\"currentColor\"/>\n",
       "</g>\n",
       "\n",
       "<g class=\"displacy-arrow\">\n",
       "    <path class=\"displacy-arc\" id=\"arrow-a4753db890f1418696a4c8c246f25be7-0-12\" stroke-width=\"2px\" d=\"M2345,614.5 C2345,527.0 2470.0,527.0 2470.0,614.5\" fill=\"none\" stroke=\"currentColor\"/>\n",
       "    <text dy=\"1.25em\" style=\"font-size: 0.8em; letter-spacing: 1px\">\n",
       "        <textPath xlink:href=\"#arrow-a4753db890f1418696a4c8c246f25be7-0-12\" class=\"displacy-label\" startOffset=\"50%\" side=\"left\" fill=\"currentColor\" text-anchor=\"middle\">compound</textPath>\n",
       "    </text>\n",
       "    <path class=\"displacy-arrowhead\" d=\"M2345,616.5 L2337,604.5 2353,604.5\" fill=\"currentColor\"/>\n",
       "</g>\n",
       "\n",
       "<g class=\"displacy-arrow\">\n",
       "    <path class=\"displacy-arc\" id=\"arrow-a4753db890f1418696a4c8c246f25be7-0-13\" stroke-width=\"2px\" d=\"M1995,614.5 C1995,352.0 2480.0,352.0 2480.0,614.5\" fill=\"none\" stroke=\"currentColor\"/>\n",
       "    <text dy=\"1.25em\" style=\"font-size: 0.8em; letter-spacing: 1px\">\n",
       "        <textPath xlink:href=\"#arrow-a4753db890f1418696a4c8c246f25be7-0-13\" class=\"displacy-label\" startOffset=\"50%\" side=\"left\" fill=\"currentColor\" text-anchor=\"middle\">punct</textPath>\n",
       "    </text>\n",
       "    <path class=\"displacy-arrowhead\" d=\"M2480.0,616.5 L2488.0,604.5 2472.0,604.5\" fill=\"currentColor\"/>\n",
       "</g>\n",
       "\n",
       "<g class=\"displacy-arrow\">\n",
       "    <path class=\"displacy-arc\" id=\"arrow-a4753db890f1418696a4c8c246f25be7-0-14\" stroke-width=\"2px\" d=\"M945,614.5 C945,2.0 2675.0,2.0 2675.0,614.5\" fill=\"none\" stroke=\"currentColor\"/>\n",
       "    <text dy=\"1.25em\" style=\"font-size: 0.8em; letter-spacing: 1px\">\n",
       "        <textPath xlink:href=\"#arrow-a4753db890f1418696a4c8c246f25be7-0-14\" class=\"displacy-label\" startOffset=\"50%\" side=\"left\" fill=\"currentColor\" text-anchor=\"middle\">conj</textPath>\n",
       "    </text>\n",
       "    <path class=\"displacy-arrowhead\" d=\"M2675.0,616.5 L2683.0,604.5 2667.0,604.5\" fill=\"currentColor\"/>\n",
       "</g>\n",
       "\n",
       "<g class=\"displacy-arrow\">\n",
       "    <path class=\"displacy-arc\" id=\"arrow-a4753db890f1418696a4c8c246f25be7-0-15\" stroke-width=\"2px\" d=\"M2695,614.5 C2695,527.0 2820.0,527.0 2820.0,614.5\" fill=\"none\" stroke=\"currentColor\"/>\n",
       "    <text dy=\"1.25em\" style=\"font-size: 0.8em; letter-spacing: 1px\">\n",
       "        <textPath xlink:href=\"#arrow-a4753db890f1418696a4c8c246f25be7-0-15\" class=\"displacy-label\" startOffset=\"50%\" side=\"left\" fill=\"currentColor\" text-anchor=\"middle\">cc</textPath>\n",
       "    </text>\n",
       "    <path class=\"displacy-arrowhead\" d=\"M2820.0,616.5 L2828.0,604.5 2812.0,604.5\" fill=\"currentColor\"/>\n",
       "</g>\n",
       "\n",
       "<g class=\"displacy-arrow\">\n",
       "    <path class=\"displacy-arc\" id=\"arrow-a4753db890f1418696a4c8c246f25be7-0-16\" stroke-width=\"2px\" d=\"M2695,614.5 C2695,439.5 3000.0,439.5 3000.0,614.5\" fill=\"none\" stroke=\"currentColor\"/>\n",
       "    <text dy=\"1.25em\" style=\"font-size: 0.8em; letter-spacing: 1px\">\n",
       "        <textPath xlink:href=\"#arrow-a4753db890f1418696a4c8c246f25be7-0-16\" class=\"displacy-label\" startOffset=\"50%\" side=\"left\" fill=\"currentColor\" text-anchor=\"middle\">conj</textPath>\n",
       "    </text>\n",
       "    <path class=\"displacy-arrowhead\" d=\"M3000.0,616.5 L3008.0,604.5 2992.0,604.5\" fill=\"currentColor\"/>\n",
       "</g>\n",
       "\n",
       "<g class=\"displacy-arrow\">\n",
       "    <path class=\"displacy-arc\" id=\"arrow-a4753db890f1418696a4c8c246f25be7-0-17\" stroke-width=\"2px\" d=\"M3220,614.5 C3220,527.0 3345.0,527.0 3345.0,614.5\" fill=\"none\" stroke=\"currentColor\"/>\n",
       "    <text dy=\"1.25em\" style=\"font-size: 0.8em; letter-spacing: 1px\">\n",
       "        <textPath xlink:href=\"#arrow-a4753db890f1418696a4c8c246f25be7-0-17\" class=\"displacy-label\" startOffset=\"50%\" side=\"left\" fill=\"currentColor\" text-anchor=\"middle\">nsubj</textPath>\n",
       "    </text>\n",
       "    <path class=\"displacy-arrowhead\" d=\"M3220,616.5 L3212,604.5 3228,604.5\" fill=\"currentColor\"/>\n",
       "</g>\n",
       "\n",
       "<g class=\"displacy-arrow\">\n",
       "    <path class=\"displacy-arc\" id=\"arrow-a4753db890f1418696a4c8c246f25be7-0-18\" stroke-width=\"2px\" d=\"M3045,614.5 C3045,439.5 3350.0,439.5 3350.0,614.5\" fill=\"none\" stroke=\"currentColor\"/>\n",
       "    <text dy=\"1.25em\" style=\"font-size: 0.8em; letter-spacing: 1px\">\n",
       "        <textPath xlink:href=\"#arrow-a4753db890f1418696a4c8c246f25be7-0-18\" class=\"displacy-label\" startOffset=\"50%\" side=\"left\" fill=\"currentColor\" text-anchor=\"middle\">relcl</textPath>\n",
       "    </text>\n",
       "    <path class=\"displacy-arrowhead\" d=\"M3350.0,616.5 L3358.0,604.5 3342.0,604.5\" fill=\"currentColor\"/>\n",
       "</g>\n",
       "\n",
       "<g class=\"displacy-arrow\">\n",
       "    <path class=\"displacy-arc\" id=\"arrow-a4753db890f1418696a4c8c246f25be7-0-19\" stroke-width=\"2px\" d=\"M3395,614.5 C3395,527.0 3520.0,527.0 3520.0,614.5\" fill=\"none\" stroke=\"currentColor\"/>\n",
       "    <text dy=\"1.25em\" style=\"font-size: 0.8em; letter-spacing: 1px\">\n",
       "        <textPath xlink:href=\"#arrow-a4753db890f1418696a4c8c246f25be7-0-19\" class=\"displacy-label\" startOffset=\"50%\" side=\"left\" fill=\"currentColor\" text-anchor=\"middle\">dobj</textPath>\n",
       "    </text>\n",
       "    <path class=\"displacy-arrowhead\" d=\"M3520.0,616.5 L3528.0,604.5 3512.0,604.5\" fill=\"currentColor\"/>\n",
       "</g>\n",
       "\n",
       "<g class=\"displacy-arrow\">\n",
       "    <path class=\"displacy-arc\" id=\"arrow-a4753db890f1418696a4c8c246f25be7-0-20\" stroke-width=\"2px\" d=\"M3570,614.5 C3570,527.0 3695.0,527.0 3695.0,614.5\" fill=\"none\" stroke=\"currentColor\"/>\n",
       "    <text dy=\"1.25em\" style=\"font-size: 0.8em; letter-spacing: 1px\">\n",
       "        <textPath xlink:href=\"#arrow-a4753db890f1418696a4c8c246f25be7-0-20\" class=\"displacy-label\" startOffset=\"50%\" side=\"left\" fill=\"currentColor\" text-anchor=\"middle\">conj</textPath>\n",
       "    </text>\n",
       "    <path class=\"displacy-arrowhead\" d=\"M3695.0,616.5 L3703.0,604.5 3687.0,604.5\" fill=\"currentColor\"/>\n",
       "</g>\n",
       "\n",
       "<g class=\"displacy-arrow\">\n",
       "    <path class=\"displacy-arc\" id=\"arrow-a4753db890f1418696a4c8c246f25be7-0-21\" stroke-width=\"2px\" d=\"M3745,614.5 C3745,527.0 3870.0,527.0 3870.0,614.5\" fill=\"none\" stroke=\"currentColor\"/>\n",
       "    <text dy=\"1.25em\" style=\"font-size: 0.8em; letter-spacing: 1px\">\n",
       "        <textPath xlink:href=\"#arrow-a4753db890f1418696a4c8c246f25be7-0-21\" class=\"displacy-label\" startOffset=\"50%\" side=\"left\" fill=\"currentColor\" text-anchor=\"middle\">cc</textPath>\n",
       "    </text>\n",
       "    <path class=\"displacy-arrowhead\" d=\"M3870.0,616.5 L3878.0,604.5 3862.0,604.5\" fill=\"currentColor\"/>\n",
       "</g>\n",
       "\n",
       "<g class=\"displacy-arrow\">\n",
       "    <path class=\"displacy-arc\" id=\"arrow-a4753db890f1418696a4c8c246f25be7-0-22\" stroke-width=\"2px\" d=\"M3745,614.5 C3745,439.5 4050.0,439.5 4050.0,614.5\" fill=\"none\" stroke=\"currentColor\"/>\n",
       "    <text dy=\"1.25em\" style=\"font-size: 0.8em; letter-spacing: 1px\">\n",
       "        <textPath xlink:href=\"#arrow-a4753db890f1418696a4c8c246f25be7-0-22\" class=\"displacy-label\" startOffset=\"50%\" side=\"left\" fill=\"currentColor\" text-anchor=\"middle\">conj</textPath>\n",
       "    </text>\n",
       "    <path class=\"displacy-arrowhead\" d=\"M4050.0,616.5 L4058.0,604.5 4042.0,604.5\" fill=\"currentColor\"/>\n",
       "</g>\n",
       "\n",
       "<g class=\"displacy-arrow\">\n",
       "    <path class=\"displacy-arc\" id=\"arrow-a4753db890f1418696a4c8c246f25be7-0-23\" stroke-width=\"2px\" d=\"M4095,614.5 C4095,527.0 4220.0,527.0 4220.0,614.5\" fill=\"none\" stroke=\"currentColor\"/>\n",
       "    <text dy=\"1.25em\" style=\"font-size: 0.8em; letter-spacing: 1px\">\n",
       "        <textPath xlink:href=\"#arrow-a4753db890f1418696a4c8c246f25be7-0-23\" class=\"displacy-label\" startOffset=\"50%\" side=\"left\" fill=\"currentColor\" text-anchor=\"middle\">appos</textPath>\n",
       "    </text>\n",
       "    <path class=\"displacy-arrowhead\" d=\"M4220.0,616.5 L4228.0,604.5 4212.0,604.5\" fill=\"currentColor\"/>\n",
       "</g>\n",
       "\n",
       "<g class=\"displacy-arrow\">\n",
       "    <path class=\"displacy-arc\" id=\"arrow-a4753db890f1418696a4c8c246f25be7-0-24\" stroke-width=\"2px\" d=\"M4445,614.5 C4445,527.0 4570.0,527.0 4570.0,614.5\" fill=\"none\" stroke=\"currentColor\"/>\n",
       "    <text dy=\"1.25em\" style=\"font-size: 0.8em; letter-spacing: 1px\">\n",
       "        <textPath xlink:href=\"#arrow-a4753db890f1418696a4c8c246f25be7-0-24\" class=\"displacy-label\" startOffset=\"50%\" side=\"left\" fill=\"currentColor\" text-anchor=\"middle\">compound</textPath>\n",
       "    </text>\n",
       "    <path class=\"displacy-arrowhead\" d=\"M4445,616.5 L4437,604.5 4453,604.5\" fill=\"currentColor\"/>\n",
       "</g>\n",
       "\n",
       "<g class=\"displacy-arrow\">\n",
       "    <path class=\"displacy-arc\" id=\"arrow-a4753db890f1418696a4c8c246f25be7-0-25\" stroke-width=\"2px\" d=\"M3395,614.5 C3395,89.5 4595.0,89.5 4595.0,614.5\" fill=\"none\" stroke=\"currentColor\"/>\n",
       "    <text dy=\"1.25em\" style=\"font-size: 0.8em; letter-spacing: 1px\">\n",
       "        <textPath xlink:href=\"#arrow-a4753db890f1418696a4c8c246f25be7-0-25\" class=\"displacy-label\" startOffset=\"50%\" side=\"left\" fill=\"currentColor\" text-anchor=\"middle\">dobj</textPath>\n",
       "    </text>\n",
       "    <path class=\"displacy-arrowhead\" d=\"M4595.0,616.5 L4603.0,604.5 4587.0,604.5\" fill=\"currentColor\"/>\n",
       "</g>\n",
       "</svg>"
      ],
      "text/plain": [
       "<IPython.core.display.HTML object>"
      ]
     },
     "metadata": {},
     "output_type": "display_data"
    }
   ],
   "source": [
    "displacy.render(satz, style=\"dep\")"
   ]
  },
  {
   "cell_type": "code",
   "execution_count": 12,
   "metadata": {},
   "outputs": [
    {
     "data": {
      "text/plain": [
       "[('We', 'PRON', 'nsubj', 'analyzed', 'VERB', []),\n",
       " ('analyzed', 'VERB', 'ROOT', 'analyzed', 'VERB', [We, curves, .]),\n",
       " ('the', 'DET', 'det', 'curves', 'NOUN', []),\n",
       " ('Kepler', 'PROPN', 'compound', 'light', 'NOUN', []),\n",
       " ('light', 'NOUN', 'compound', 'curves', 'NOUN', [Kepler]),\n",
       " ('curves', 'NOUN', 'dobj', 'analyzed', 'VERB', [the, light, of, TrES-2]),\n",
       " ('of', 'ADP', 'prep', 'curves', 'NOUN', [systems]),\n",
       " ('four', 'NUM', 'nummod', 'systems', 'NOUN', []),\n",
       " ('transiting', 'VERB', 'amod', 'systems', 'NOUN', []),\n",
       " ('hot', 'ADJ', 'amod', 'Jupiter', 'PROPN', []),\n",
       " ('Jupiter', 'PROPN', 'compound', 'systems', 'NOUN', [hot]),\n",
       " ('systems', 'NOUN', 'pobj', 'of', 'ADP', [four, transiting, Jupiter, —, ,]),\n",
       " ('—', 'PUNCT', 'punct', 'systems', 'NOUN', []),\n",
       " ('KOI-13', 'PROPN', 'subtok', ',', 'PUNCT', []),\n",
       " (',', 'PUNCT', 'punct', 'HAT', 'PROPN', [KOI-13]),\n",
       " ('HAT', 'PROPN', 'compound', 'P-7', 'PROPN', [,]),\n",
       " ('-', 'PUNCT', 'punct', 'P-7', 'PROPN', []),\n",
       " ('P-7', 'PROPN', 'subtok', ',', 'PUNCT', [HAT, -]),\n",
       " (',', 'PUNCT', 'punct', 'systems', 'NOUN', [P-7]),\n",
       " ('TrES-2', 'ADJ', 'conj', 'curves', 'NOUN', [,, and, Kepler-76]),\n",
       " (',', 'PUNCT', 'punct', 'TrES-2', 'ADJ', []),\n",
       " ('and', 'CCONJ', 'cc', 'TrES-2', 'ADJ', []),\n",
       " ('Kepler-76', 'NOUN', 'conj', 'TrES-2', 'ADJ', [,, show]),\n",
       " (',', 'PUNCT', 'punct', 'Kepler-76', 'NOUN', []),\n",
       " ('which', 'DET', 'nsubj', 'show', 'VERB', []),\n",
       " ('show', 'VERB', 'relcl', 'Kepler-76', 'NOUN', [which, BEaming, modulations]),\n",
       " ('BEaming', 'PROPN', 'dobj', 'show', 'VERB', [,, Ellipsoidal]),\n",
       " (',', 'PUNCT', 'punct', 'BEaming', 'PROPN', []),\n",
       " ('Ellipsoidal', 'PROPN', 'conj', 'BEaming', 'PROPN', [,, and, Reflection]),\n",
       " (',', 'PUNCT', 'punct', 'Ellipsoidal', 'PROPN', []),\n",
       " ('and', 'CCONJ', 'cc', 'Ellipsoidal', 'PROPN', []),\n",
       " ('Reflection', 'PROPN', 'conj', 'Ellipsoidal', 'PROPN', [(, BEER]),\n",
       " ('(', 'PUNCT', 'punct', 'Reflection', 'PROPN', []),\n",
       " ('BEER', 'NOUN', 'appos', 'Reflection', 'PROPN', [)]),\n",
       " (')', 'PUNCT', 'punct', 'BEER', 'NOUN', []),\n",
       " ('phase', 'NOUN', 'compound', 'modulations', 'NOUN', []),\n",
       " ('modulations', 'NOUN', 'dobj', 'show', 'VERB', [phase]),\n",
       " ('.', 'PUNCT', 'punct', 'analyzed', 'VERB', [])]"
      ]
     },
     "execution_count": 12,
     "metadata": {},
     "output_type": "execute_result"
    }
   ],
   "source": [
    "[(t.text,t.pos_,t.dep_,t.head.text,t.head.pos_,[c for c in t.children]) for t in satz]"
   ]
  },
  {
   "cell_type": "code",
   "execution_count": 13,
   "metadata": {},
   "outputs": [
    {
     "data": {
      "text/plain": [
       "[('We', 'nsubj', 'analyzed', [], []),\n",
       " ('analyzed', 'ROOT', 'analyzed', [We], [curves, .]),\n",
       " ('the', 'det', 'curves', [], []),\n",
       " ('Kepler', 'compound', 'light', [], []),\n",
       " ('light', 'compound', 'curves', [Kepler], []),\n",
       " ('curves', 'dobj', 'analyzed', [the, light], [of, TrES-2]),\n",
       " ('of', 'prep', 'curves', [], [systems]),\n",
       " ('four', 'nummod', 'systems', [], []),\n",
       " ('transiting', 'amod', 'systems', [], []),\n",
       " ('hot', 'amod', 'Jupiter', [], []),\n",
       " ('Jupiter', 'compound', 'systems', [hot], []),\n",
       " ('systems', 'pobj', 'of', [four, transiting, Jupiter], [—, ,]),\n",
       " ('—', 'punct', 'systems', [], []),\n",
       " ('KOI-13', 'subtok', ',', [], []),\n",
       " (',', 'punct', 'HAT', [KOI-13], []),\n",
       " ('HAT', 'compound', 'P-7', [,], []),\n",
       " ('-', 'punct', 'P-7', [], []),\n",
       " ('P-7', 'subtok', ',', [HAT, -], []),\n",
       " (',', 'punct', 'systems', [P-7], []),\n",
       " ('TrES-2', 'conj', 'curves', [], [,, and, Kepler-76]),\n",
       " (',', 'punct', 'TrES-2', [], []),\n",
       " ('and', 'cc', 'TrES-2', [], []),\n",
       " ('Kepler-76', 'conj', 'TrES-2', [], [,, show]),\n",
       " (',', 'punct', 'Kepler-76', [], []),\n",
       " ('which', 'nsubj', 'show', [], []),\n",
       " ('show', 'relcl', 'Kepler-76', [which], [BEaming, modulations]),\n",
       " ('BEaming', 'dobj', 'show', [], [,, Ellipsoidal]),\n",
       " (',', 'punct', 'BEaming', [], []),\n",
       " ('Ellipsoidal', 'conj', 'BEaming', [], [,, and, Reflection]),\n",
       " (',', 'punct', 'Ellipsoidal', [], []),\n",
       " ('and', 'cc', 'Ellipsoidal', [], []),\n",
       " ('Reflection', 'conj', 'Ellipsoidal', [], [(, BEER]),\n",
       " ('(', 'punct', 'Reflection', [], []),\n",
       " ('BEER', 'appos', 'Reflection', [], [)]),\n",
       " (')', 'punct', 'BEER', [], []),\n",
       " ('phase', 'compound', 'modulations', [], []),\n",
       " ('modulations', 'dobj', 'show', [phase], []),\n",
       " ('.', 'punct', 'analyzed', [], [])]"
      ]
     },
     "execution_count": 13,
     "metadata": {},
     "output_type": "execute_result"
    }
   ],
   "source": [
    "# shown as: original token, dependency tag, head word, left dependents, right dependents\n",
    "[(t.orth_,t.dep_,t.head.orth_,[c for c in t.lefts],[c for c in t.rights]) for t in satz]"
   ]
  },
  {
   "cell_type": "markdown",
   "metadata": {},
   "source": [
    "# Satzanalyse"
   ]
  },
  {
   "cell_type": "code",
   "execution_count": 14,
   "metadata": {},
   "outputs": [
    {
     "data": {
      "text/plain": [
       "{'act': 'analyzed',\n",
       " 'subject': 'we',\n",
       " 'obj': 'the Kepler light curves of four transiting hot Jupiter systems—KOI-13, HAT-P-7, TrES-2, and Kepler-76, which show BEaming, Ellipsoidal, and Reflection (BEER) phase modulations'}"
      ]
     },
     "execution_count": 14,
     "metadata": {},
     "output_type": "execute_result"
    }
   ],
   "source": [
    "def satz_analytics(satz):\n",
    "#    merkmal = dict({\"satz\":satz.text})\n",
    "    merkmal=dict({})\n",
    "# search for main verb\n",
    "    for t in satz:\n",
    "        if t.dep_ == \"ROOT\":\n",
    "            r=t.head.text\n",
    "            merkmal.update({\"act\":r})\n",
    "# subject and object related to verb\n",
    "    for t in satz:\n",
    "        if t.dep_ == \"dobj\" and merkmal[\"act\"]==t.head.text:\n",
    "            merkmal.update({\"obj\":''.join(w.text_with_ws for w in t.subtree)})\n",
    "        if t.dep_ == \"point\" and merkmal[\"act\"]==t.head.text:\n",
    "            merkmal.update({\"point\":''.join(w.text_with_ws for w in t.subtree)})\n",
    "        if t.dep_ == \"nsubj\" and merkmal[\"act\"]==t.head.text:\n",
    "            merkmal.update({\"subject\":t.text.lower()})\n",
    "    return(merkmal)\n",
    "\n",
    "satz_analytics(satz)"
   ]
  },
  {
   "cell_type": "code",
   "execution_count": 15,
   "metadata": {},
   "outputs": [],
   "source": [
    "df=pd.DataFrame(columns=['subject','act',\"obj\",\"point\"])"
   ]
  },
  {
   "cell_type": "code",
   "execution_count": 16,
   "metadata": {},
   "outputs": [],
   "source": [
    "#for i in range(len(sentences)):\n",
    "\n",
    "for i in range(10):\n",
    "    s=nlp(sentences[i])\n",
    "    p=satz_analytics(s)\n",
    "    df=df.append(p,ignore_index=True)"
   ]
  },
  {
   "cell_type": "code",
   "execution_count": 17,
   "metadata": {},
   "outputs": [],
   "source": [
    "df=pd.read_pickle(\"/Users/gerdgrasshoff/Dropbox/temp/dfSentences.pickl\")\n",
    "#df=pd.read_pickle(\"c:/Dropbox/temp/dfSentences.pickl\")"
   ]
  },
  {
   "cell_type": "code",
   "execution_count": 18,
   "metadata": {},
   "outputs": [
    {
     "data": {
      "text/plain": [
       "251386"
      ]
     },
     "execution_count": 18,
     "metadata": {},
     "output_type": "execute_result"
    }
   ],
   "source": [
    "len(df)"
   ]
  },
  {
   "cell_type": "code",
   "execution_count": 19,
   "metadata": {},
   "outputs": [
    {
     "data": {
      "text/html": [
       "<div>\n",
       "<style scoped>\n",
       "    .dataframe tbody tr th:only-of-type {\n",
       "        vertical-align: middle;\n",
       "    }\n",
       "\n",
       "    .dataframe tbody tr th {\n",
       "        vertical-align: top;\n",
       "    }\n",
       "\n",
       "    .dataframe thead th {\n",
       "        text-align: right;\n",
       "    }\n",
       "</style>\n",
       "<table border=\"1\" class=\"dataframe\">\n",
       "  <thead>\n",
       "    <tr style=\"text-align: right;\">\n",
       "      <th></th>\n",
       "      <th>subject</th>\n",
       "      <th>act</th>\n",
       "      <th>obj</th>\n",
       "    </tr>\n",
       "  </thead>\n",
       "  <tbody>\n",
       "    <tr>\n",
       "      <th>0</th>\n",
       "      <td>NaN</td>\n",
       "      <td>developed</td>\n",
       "      <td>NaN</td>\n",
       "    </tr>\n",
       "    <tr>\n",
       "      <th>1</th>\n",
       "      <td>advancements</td>\n",
       "      <td>motivated</td>\n",
       "      <td>the development of a particle transport code</td>\n",
       "    </tr>\n",
       "    <tr>\n",
       "      <th>2</th>\n",
       "      <td>NaN</td>\n",
       "      <td>for</td>\n",
       "      <td>NaN</td>\n",
       "    </tr>\n",
       "    <tr>\n",
       "      <th>3</th>\n",
       "      <td>flexibility</td>\n",
       "      <td>opens</td>\n",
       "      <td>possibilities for new studies</td>\n",
       "    </tr>\n",
       "    <tr>\n",
       "      <th>4</th>\n",
       "      <td>work</td>\n",
       "      <td>applies</td>\n",
       "      <td>AtRIS</td>\n",
       "    </tr>\n",
       "    <tr>\n",
       "      <th>5</th>\n",
       "      <td>we</td>\n",
       "      <td>benchmark</td>\n",
       "      <td>these first modeling results based on different GEANT4 physics lists with the energetic particle spectra recently measured by the Radiation Assessment Detector (RAD) on the surface of Mars</td>\n",
       "    </tr>\n",
       "    <tr>\n",
       "      <th>6</th>\n",
       "      <td>agreement</td>\n",
       "      <td>provides</td>\n",
       "      <td>one of the first and sound validations of AtRIS and the preferred physics list which could be recommended for predicting the radiation field of other conceivable</td>\n",
       "    </tr>\n",
       "    <tr>\n",
       "      <th>7</th>\n",
       "      <td>NaN</td>\n",
       "      <td>described</td>\n",
       "      <td>NaN</td>\n",
       "    </tr>\n",
       "    <tr>\n",
       "      <th>8</th>\n",
       "      <td>gr</td>\n",
       "      <td>is</td>\n",
       "      <td>NaN</td>\n",
       "    </tr>\n",
       "    <tr>\n",
       "      <th>9</th>\n",
       "      <td>p</td>\n",
       "      <td>V_(e</td>\n",
       "      <td>NaN</td>\n",
       "    </tr>\n",
       "    <tr>\n",
       "      <th>10</th>\n",
       "      <td>ro</td>\n",
       "      <td>is</td>\n",
       "      <td>NaN</td>\n",
       "    </tr>\n",
       "    <tr>\n",
       "      <th>11</th>\n",
       "      <td>we</td>\n",
       "      <td>perform</td>\n",
       "      <td>an in-depth literature search on average (av) and maximum (mx) wind velocity for each planet in the Solar system by various observational methods and altitudes</td>\n",
       "    </tr>\n",
       "    <tr>\n",
       "      <th>12</th>\n",
       "      <td>we</td>\n",
       "      <td>explore</td>\n",
       "      <td>a correlation between Ro and h expressed as a power law with index α based on wind velocities of planets in the Solar system</td>\n",
       "    </tr>\n",
       "    <tr>\n",
       "      <th>13</th>\n",
       "      <td>we</td>\n",
       "      <td>obtain</td>\n",
       "      <td>a correlation between Ro and h</td>\n",
       "    </tr>\n",
       "    <tr>\n",
       "      <th>14</th>\n",
       "      <td>1</td>\n",
       "      <td>is</td>\n",
       "      <td>NaN</td>\n",
       "    </tr>\n",
       "    <tr>\n",
       "      <th>15</th>\n",
       "      <td>correlation</td>\n",
       "      <td>suggests</td>\n",
       "      <td>exoplanet-moon systems</td>\n",
       "    </tr>\n",
       "    <tr>\n",
       "      <th>16</th>\n",
       "      <td>NaN</td>\n",
       "      <td>shown</td>\n",
       "      <td>NaN</td>\n",
       "    </tr>\n",
       "    <tr>\n",
       "      <th>17</th>\n",
       "      <td>objective</td>\n",
       "      <td>is</td>\n",
       "      <td>NaN</td>\n",
       "    </tr>\n",
       "    <tr>\n",
       "      <th>18</th>\n",
       "      <td>we</td>\n",
       "      <td>use</td>\n",
       "      <td>a 3D dry dynamic core model, accompanied by an eddy-free configuration and a generalized 2D Eady model</td>\n",
       "    </tr>\n",
       "    <tr>\n",
       "      <th>19</th>\n",
       "      <td>cell</td>\n",
       "      <td>becomes</td>\n",
       "      <td>NaN</td>\n",
       "    </tr>\n",
       "  </tbody>\n",
       "</table>\n",
       "</div>"
      ],
      "text/plain": [
       "         subject        act  \\\n",
       "0            NaN  developed   \n",
       "1   advancements  motivated   \n",
       "2            NaN        for   \n",
       "3    flexibility      opens   \n",
       "4           work    applies   \n",
       "5             we  benchmark   \n",
       "6      agreement   provides   \n",
       "7            NaN  described   \n",
       "8             gr         is   \n",
       "9              p       V_(e   \n",
       "10            ro         is   \n",
       "11            we    perform   \n",
       "12            we    explore   \n",
       "13            we     obtain   \n",
       "14             1         is   \n",
       "15   correlation   suggests   \n",
       "16           NaN      shown   \n",
       "17     objective         is   \n",
       "18            we        use   \n",
       "19          cell    becomes   \n",
       "\n",
       "                                                                                                                                                                                             obj  \n",
       "0                                                                                                                                                                                            NaN  \n",
       "1                                                                                                                                                  the development of a particle transport code   \n",
       "2                                                                                                                                                                                            NaN  \n",
       "3                                                                                                                                                                  possibilities for new studies  \n",
       "4                                                                                                                                                                                         AtRIS   \n",
       "5   these first modeling results based on different GEANT4 physics lists with the energetic particle spectra recently measured by the Radiation Assessment Detector (RAD) on the surface of Mars  \n",
       "6                             one of the first and sound validations of AtRIS and the preferred physics list which could be recommended for predicting the radiation field of other conceivable   \n",
       "7                                                                                                                                                                                            NaN  \n",
       "8                                                                                                                                                                                            NaN  \n",
       "9                                                                                                                                                                                            NaN  \n",
       "10                                                                                                                                                                                           NaN  \n",
       "11                               an in-depth literature search on average (av) and maximum (mx) wind velocity for each planet in the Solar system by various observational methods and altitudes  \n",
       "12                                                                  a correlation between Ro and h expressed as a power law with index α based on wind velocities of planets in the Solar system  \n",
       "13                                                                                                                                                               a correlation between Ro and h   \n",
       "14                                                                                                                                                                                           NaN  \n",
       "15                                                                                                                                                                       exoplanet-moon systems   \n",
       "16                                                                                                                                                                                           NaN  \n",
       "17                                                                                                                                                                                           NaN  \n",
       "18                                                                                        a 3D dry dynamic core model, accompanied by an eddy-free configuration and a generalized 2D Eady model  \n",
       "19                                                                                                                                                                                           NaN  "
      ]
     },
     "execution_count": 19,
     "metadata": {},
     "output_type": "execute_result"
    }
   ],
   "source": [
    "df.head(20)"
   ]
  },
  {
   "cell_type": "code",
   "execution_count": 20,
   "metadata": {},
   "outputs": [
    {
     "data": {
      "text/html": [
       "<div>\n",
       "<style scoped>\n",
       "    .dataframe tbody tr th:only-of-type {\n",
       "        vertical-align: middle;\n",
       "    }\n",
       "\n",
       "    .dataframe tbody tr th {\n",
       "        vertical-align: top;\n",
       "    }\n",
       "\n",
       "    .dataframe thead th {\n",
       "        text-align: right;\n",
       "    }\n",
       "</style>\n",
       "<table border=\"1\" class=\"dataframe\">\n",
       "  <thead>\n",
       "    <tr style=\"text-align: right;\">\n",
       "      <th></th>\n",
       "      <th>subject</th>\n",
       "      <th>act</th>\n",
       "      <th>obj</th>\n",
       "    </tr>\n",
       "  </thead>\n",
       "  <tbody>\n",
       "    <tr>\n",
       "      <th>5</th>\n",
       "      <td>we</td>\n",
       "      <td>benchmark</td>\n",
       "      <td>these first modeling results based on different GEANT4 physics lists with the energetic particle spectra recently measured by the Radiation Assessment Detector (RAD) on the surface of Mars</td>\n",
       "    </tr>\n",
       "    <tr>\n",
       "      <th>11</th>\n",
       "      <td>we</td>\n",
       "      <td>perform</td>\n",
       "      <td>an in-depth literature search on average (av) and maximum (mx) wind velocity for each planet in the Solar system by various observational methods and altitudes</td>\n",
       "    </tr>\n",
       "    <tr>\n",
       "      <th>12</th>\n",
       "      <td>we</td>\n",
       "      <td>explore</td>\n",
       "      <td>a correlation between Ro and h expressed as a power law with index α based on wind velocities of planets in the Solar system</td>\n",
       "    </tr>\n",
       "    <tr>\n",
       "      <th>13</th>\n",
       "      <td>we</td>\n",
       "      <td>obtain</td>\n",
       "      <td>a correlation between Ro and h</td>\n",
       "    </tr>\n",
       "  </tbody>\n",
       "</table>\n",
       "</div>"
      ],
      "text/plain": [
       "   subject        act  \\\n",
       "5       we  benchmark   \n",
       "11      we    perform   \n",
       "12      we    explore   \n",
       "13      we     obtain   \n",
       "\n",
       "                                                                                                                                                                                             obj  \n",
       "5   these first modeling results based on different GEANT4 physics lists with the energetic particle spectra recently measured by the Radiation Assessment Detector (RAD) on the surface of Mars  \n",
       "11                               an in-depth literature search on average (av) and maximum (mx) wind velocity for each planet in the Solar system by various observational methods and altitudes  \n",
       "12                                                                  a correlation between Ro and h expressed as a power law with index α based on wind velocities of planets in the Solar system  \n",
       "13                                                                                                                                                               a correlation between Ro and h   "
      ]
     },
     "execution_count": 20,
     "metadata": {},
     "output_type": "execute_result"
    }
   ],
   "source": [
    "dfs=df[df[\"subject\"]==\"we\"]\n",
    "dfs.head(4)"
   ]
  },
  {
   "cell_type": "code",
   "execution_count": 21,
   "metadata": {},
   "outputs": [
    {
     "data": {
      "text/plain": [
       "60946"
      ]
     },
     "execution_count": 21,
     "metadata": {},
     "output_type": "execute_result"
    }
   ],
   "source": [
    "len(dfs)"
   ]
  },
  {
   "cell_type": "code",
   "execution_count": 22,
   "metadata": {},
   "outputs": [
    {
     "data": {
      "text/html": [
       "<div>\n",
       "<style scoped>\n",
       "    .dataframe tbody tr th:only-of-type {\n",
       "        vertical-align: middle;\n",
       "    }\n",
       "\n",
       "    .dataframe tbody tr th {\n",
       "        vertical-align: top;\n",
       "    }\n",
       "\n",
       "    .dataframe thead th {\n",
       "        text-align: right;\n",
       "    }\n",
       "</style>\n",
       "<table border=\"1\" class=\"dataframe\">\n",
       "  <thead>\n",
       "    <tr style=\"text-align: right;\">\n",
       "      <th></th>\n",
       "      <th>subject</th>\n",
       "      <th>act</th>\n",
       "      <th>0</th>\n",
       "    </tr>\n",
       "  </thead>\n",
       "  <tbody>\n",
       "    <tr>\n",
       "      <th>0</th>\n",
       "      <td>we</td>\n",
       "      <td>present</td>\n",
       "      <td>7084</td>\n",
       "    </tr>\n",
       "    <tr>\n",
       "      <th>1</th>\n",
       "      <td>we</td>\n",
       "      <td>find</td>\n",
       "      <td>4935</td>\n",
       "    </tr>\n",
       "    <tr>\n",
       "      <th>2</th>\n",
       "      <td>we</td>\n",
       "      <td>show</td>\n",
       "      <td>2740</td>\n",
       "    </tr>\n",
       "    <tr>\n",
       "      <th>3</th>\n",
       "      <td>we</td>\n",
       "      <td>discuss</td>\n",
       "      <td>2121</td>\n",
       "    </tr>\n",
       "    <tr>\n",
       "      <th>4</th>\n",
       "      <td>we</td>\n",
       "      <td>report</td>\n",
       "      <td>2015</td>\n",
       "    </tr>\n",
       "    <tr>\n",
       "      <th>6</th>\n",
       "      <td>we</td>\n",
       "      <td>use</td>\n",
       "      <td>1784</td>\n",
       "    </tr>\n",
       "    <tr>\n",
       "      <th>7</th>\n",
       "      <td>we</td>\n",
       "      <td>propose</td>\n",
       "      <td>1390</td>\n",
       "    </tr>\n",
       "    <tr>\n",
       "      <th>8</th>\n",
       "      <td>we</td>\n",
       "      <td>describe</td>\n",
       "      <td>1357</td>\n",
       "    </tr>\n",
       "    <tr>\n",
       "      <th>9</th>\n",
       "      <td>we</td>\n",
       "      <td>investigate</td>\n",
       "      <td>1166</td>\n",
       "    </tr>\n",
       "    <tr>\n",
       "      <th>11</th>\n",
       "      <td>we</td>\n",
       "      <td>demonstrate</td>\n",
       "      <td>823</td>\n",
       "    </tr>\n",
       "    <tr>\n",
       "      <th>12</th>\n",
       "      <td>we</td>\n",
       "      <td>found</td>\n",
       "      <td>793</td>\n",
       "    </tr>\n",
       "    <tr>\n",
       "      <th>13</th>\n",
       "      <td>we</td>\n",
       "      <td>used</td>\n",
       "      <td>785</td>\n",
       "    </tr>\n",
       "    <tr>\n",
       "      <th>14</th>\n",
       "      <td>we</td>\n",
       "      <td>study</td>\n",
       "      <td>756</td>\n",
       "    </tr>\n",
       "    <tr>\n",
       "      <th>15</th>\n",
       "      <td>we</td>\n",
       "      <td>consider</td>\n",
       "      <td>732</td>\n",
       "    </tr>\n",
       "    <tr>\n",
       "      <th>16</th>\n",
       "      <td>we</td>\n",
       "      <td>explore</td>\n",
       "      <td>707</td>\n",
       "    </tr>\n",
       "    <tr>\n",
       "      <th>17</th>\n",
       "      <td>we</td>\n",
       "      <td>compare</td>\n",
       "      <td>678</td>\n",
       "    </tr>\n",
       "    <tr>\n",
       "      <th>18</th>\n",
       "      <td>we</td>\n",
       "      <td>conclude</td>\n",
       "      <td>663</td>\n",
       "    </tr>\n",
       "    <tr>\n",
       "      <th>20</th>\n",
       "      <td>we</td>\n",
       "      <td>provide</td>\n",
       "      <td>642</td>\n",
       "    </tr>\n",
       "    <tr>\n",
       "      <th>21</th>\n",
       "      <td>we</td>\n",
       "      <td>derive</td>\n",
       "      <td>621</td>\n",
       "    </tr>\n",
       "    <tr>\n",
       "      <th>22</th>\n",
       "      <td>we</td>\n",
       "      <td>review</td>\n",
       "      <td>577</td>\n",
       "    </tr>\n",
       "    <tr>\n",
       "      <th>23</th>\n",
       "      <td>we</td>\n",
       "      <td>estimate</td>\n",
       "      <td>574</td>\n",
       "    </tr>\n",
       "    <tr>\n",
       "      <th>25</th>\n",
       "      <td>we</td>\n",
       "      <td>apply</td>\n",
       "      <td>570</td>\n",
       "    </tr>\n",
       "    <tr>\n",
       "      <th>26</th>\n",
       "      <td>we</td>\n",
       "      <td>determine</td>\n",
       "      <td>495</td>\n",
       "    </tr>\n",
       "    <tr>\n",
       "      <th>27</th>\n",
       "      <td>we</td>\n",
       "      <td>developed</td>\n",
       "      <td>490</td>\n",
       "    </tr>\n",
       "    <tr>\n",
       "      <th>28</th>\n",
       "      <td>we</td>\n",
       "      <td>examine</td>\n",
       "      <td>488</td>\n",
       "    </tr>\n",
       "    <tr>\n",
       "      <th>29</th>\n",
       "      <td>we</td>\n",
       "      <td>obtained</td>\n",
       "      <td>478</td>\n",
       "    </tr>\n",
       "    <tr>\n",
       "      <th>30</th>\n",
       "      <td>we</td>\n",
       "      <td>identify</td>\n",
       "      <td>457</td>\n",
       "    </tr>\n",
       "    <tr>\n",
       "      <th>31</th>\n",
       "      <td>we</td>\n",
       "      <td>are</td>\n",
       "      <td>445</td>\n",
       "    </tr>\n",
       "    <tr>\n",
       "      <th>32</th>\n",
       "      <td>we</td>\n",
       "      <td>detect</td>\n",
       "      <td>427</td>\n",
       "    </tr>\n",
       "    <tr>\n",
       "      <th>34</th>\n",
       "      <td>we</td>\n",
       "      <td>aim</td>\n",
       "      <td>420</td>\n",
       "    </tr>\n",
       "    <tr>\n",
       "      <th>...</th>\n",
       "      <td>...</td>\n",
       "      <td>...</td>\n",
       "      <td>...</td>\n",
       "    </tr>\n",
       "    <tr>\n",
       "      <th>37588</th>\n",
       "      <td>we</td>\n",
       "      <td>quantitatively</td>\n",
       "      <td>1</td>\n",
       "    </tr>\n",
       "    <tr>\n",
       "      <th>37589</th>\n",
       "      <td>we</td>\n",
       "      <td>purchasing</td>\n",
       "      <td>1</td>\n",
       "    </tr>\n",
       "    <tr>\n",
       "      <th>37590</th>\n",
       "      <td>we</td>\n",
       "      <td>recast</td>\n",
       "      <td>1</td>\n",
       "    </tr>\n",
       "    <tr>\n",
       "      <th>37591</th>\n",
       "      <td>we</td>\n",
       "      <td>provisioned</td>\n",
       "      <td>1</td>\n",
       "    </tr>\n",
       "    <tr>\n",
       "      <th>37592</th>\n",
       "      <td>we</td>\n",
       "      <td>proven</td>\n",
       "      <td>1</td>\n",
       "    </tr>\n",
       "    <tr>\n",
       "      <th>37593</th>\n",
       "      <td>we</td>\n",
       "      <td>prototyped</td>\n",
       "      <td>1</td>\n",
       "    </tr>\n",
       "    <tr>\n",
       "      <th>37594</th>\n",
       "      <td>we</td>\n",
       "      <td>projected</td>\n",
       "      <td>1</td>\n",
       "    </tr>\n",
       "    <tr>\n",
       "      <th>37595</th>\n",
       "      <td>we</td>\n",
       "      <td>progressed</td>\n",
       "      <td>1</td>\n",
       "    </tr>\n",
       "    <tr>\n",
       "      <th>37596</th>\n",
       "      <td>we</td>\n",
       "      <td>producing</td>\n",
       "      <td>1</td>\n",
       "    </tr>\n",
       "    <tr>\n",
       "      <th>37597</th>\n",
       "      <td>we</td>\n",
       "      <td>processing</td>\n",
       "      <td>1</td>\n",
       "    </tr>\n",
       "    <tr>\n",
       "      <th>37598</th>\n",
       "      <td>we</td>\n",
       "      <td>recap</td>\n",
       "      <td>1</td>\n",
       "    </tr>\n",
       "    <tr>\n",
       "      <th>37599</th>\n",
       "      <td>we</td>\n",
       "      <td>receiving</td>\n",
       "      <td>1</td>\n",
       "    </tr>\n",
       "    <tr>\n",
       "      <th>37600</th>\n",
       "      <td>we</td>\n",
       "      <td>reinterpret</td>\n",
       "      <td>1</td>\n",
       "    </tr>\n",
       "    <tr>\n",
       "      <th>37601</th>\n",
       "      <td>we</td>\n",
       "      <td>rediscover</td>\n",
       "      <td>1</td>\n",
       "    </tr>\n",
       "    <tr>\n",
       "      <th>37602</th>\n",
       "      <td>we</td>\n",
       "      <td>rehash</td>\n",
       "      <td>1</td>\n",
       "    </tr>\n",
       "    <tr>\n",
       "      <th>37603</th>\n",
       "      <td>we</td>\n",
       "      <td>regularize</td>\n",
       "      <td>1</td>\n",
       "    </tr>\n",
       "    <tr>\n",
       "      <th>37604</th>\n",
       "      <td>we</td>\n",
       "      <td>refresh</td>\n",
       "      <td>1</td>\n",
       "    </tr>\n",
       "    <tr>\n",
       "      <th>37605</th>\n",
       "      <td>we</td>\n",
       "      <td>reformulate</td>\n",
       "      <td>1</td>\n",
       "    </tr>\n",
       "    <tr>\n",
       "      <th>37606</th>\n",
       "      <td>we</td>\n",
       "      <td>reflect</td>\n",
       "      <td>1</td>\n",
       "    </tr>\n",
       "    <tr>\n",
       "      <th>37607</th>\n",
       "      <td>we</td>\n",
       "      <td>reference</td>\n",
       "      <td>1</td>\n",
       "    </tr>\n",
       "    <tr>\n",
       "      <th>37608</th>\n",
       "      <td>we</td>\n",
       "      <td>reevaluate</td>\n",
       "      <td>1</td>\n",
       "    </tr>\n",
       "    <tr>\n",
       "      <th>37609</th>\n",
       "      <td>we</td>\n",
       "      <td>redetected</td>\n",
       "      <td>1</td>\n",
       "    </tr>\n",
       "    <tr>\n",
       "      <th>37610</th>\n",
       "      <td>we</td>\n",
       "      <td>recognised</td>\n",
       "      <td>1</td>\n",
       "    </tr>\n",
       "    <tr>\n",
       "      <th>37611</th>\n",
       "      <td>we</td>\n",
       "      <td>redetect</td>\n",
       "      <td>1</td>\n",
       "    </tr>\n",
       "    <tr>\n",
       "      <th>37612</th>\n",
       "      <td>we</td>\n",
       "      <td>redesigning</td>\n",
       "      <td>1</td>\n",
       "    </tr>\n",
       "    <tr>\n",
       "      <th>37613</th>\n",
       "      <td>we</td>\n",
       "      <td>redesigned</td>\n",
       "      <td>1</td>\n",
       "    </tr>\n",
       "    <tr>\n",
       "      <th>37614</th>\n",
       "      <td>we</td>\n",
       "      <td>rederived</td>\n",
       "      <td>1</td>\n",
       "    </tr>\n",
       "    <tr>\n",
       "      <th>37615</th>\n",
       "      <td>we</td>\n",
       "      <td>rederive</td>\n",
       "      <td>1</td>\n",
       "    </tr>\n",
       "    <tr>\n",
       "      <th>37616</th>\n",
       "      <td>we</td>\n",
       "      <td>recording</td>\n",
       "      <td>1</td>\n",
       "    </tr>\n",
       "    <tr>\n",
       "      <th>37617</th>\n",
       "      <td>we</td>\n",
       "      <td>reconsidered</td>\n",
       "      <td>1</td>\n",
       "    </tr>\n",
       "  </tbody>\n",
       "</table>\n",
       "<p>1278 rows × 3 columns</p>\n",
       "</div>"
      ],
      "text/plain": [
       "      subject             act     0\n",
       "0          we         present  7084\n",
       "1          we            find  4935\n",
       "2          we            show  2740\n",
       "3          we         discuss  2121\n",
       "4          we          report  2015\n",
       "6          we             use  1784\n",
       "7          we         propose  1390\n",
       "8          we        describe  1357\n",
       "9          we     investigate  1166\n",
       "11         we     demonstrate   823\n",
       "12         we           found   793\n",
       "13         we            used   785\n",
       "14         we           study   756\n",
       "15         we        consider   732\n",
       "16         we         explore   707\n",
       "17         we         compare   678\n",
       "18         we        conclude   663\n",
       "20         we         provide   642\n",
       "21         we          derive   621\n",
       "22         we          review   577\n",
       "23         we        estimate   574\n",
       "25         we           apply   570\n",
       "26         we       determine   495\n",
       "27         we       developed   490\n",
       "28         we         examine   488\n",
       "29         we        obtained   478\n",
       "30         we        identify   457\n",
       "31         we             are   445\n",
       "32         we          detect   427\n",
       "34         we             aim   420\n",
       "...       ...             ...   ...\n",
       "37588      we  quantitatively     1\n",
       "37589      we      purchasing     1\n",
       "37590      we          recast     1\n",
       "37591      we     provisioned     1\n",
       "37592      we          proven     1\n",
       "37593      we      prototyped     1\n",
       "37594      we       projected     1\n",
       "37595      we      progressed     1\n",
       "37596      we       producing     1\n",
       "37597      we      processing     1\n",
       "37598      we           recap     1\n",
       "37599      we       receiving     1\n",
       "37600      we     reinterpret     1\n",
       "37601      we      rediscover     1\n",
       "37602      we          rehash     1\n",
       "37603      we      regularize     1\n",
       "37604      we         refresh     1\n",
       "37605      we     reformulate     1\n",
       "37606      we         reflect     1\n",
       "37607      we       reference     1\n",
       "37608      we      reevaluate     1\n",
       "37609      we      redetected     1\n",
       "37610      we      recognised     1\n",
       "37611      we        redetect     1\n",
       "37612      we     redesigning     1\n",
       "37613      we      redesigned     1\n",
       "37614      we       rederived     1\n",
       "37615      we        rederive     1\n",
       "37616      we       recording     1\n",
       "37617      we    reconsidered     1\n",
       "\n",
       "[1278 rows x 3 columns]"
      ]
     },
     "execution_count": 22,
     "metadata": {},
     "output_type": "execute_result"
    }
   ],
   "source": [
    "dfAct=df.groupby([\"subject\",\"act\"]).size().sort_values(ascending=False).reset_index()\n",
    "dfAct[dfAct[\"subject\"]==\"we\"]"
   ]
  },
  {
   "cell_type": "code",
   "execution_count": 23,
   "metadata": {},
   "outputs": [
    {
     "name": "stdout",
     "output_type": "stream",
     "text": [
      "Top 10 most similar words\n",
      "observing\n",
      "examine\n",
      "observed\n",
      "perceive\n",
      "contemplate\n",
      "discern\n",
      "observes\n",
      "observation\n",
      "interpret\n",
      "conclude\n"
     ]
    }
   ],
   "source": [
    "# you can access known words from the parser's vocabulary\n",
    "wort=\"observe\"\n",
    "nasa = nlp.vocab[wort]\n",
    "\n",
    "# cosine similarity\n",
    "cosine = lambda v1, v2: dot(v1, v2) / (norm(v1) * norm(v2))\n",
    "\n",
    "# gather all known words, take only the lowercased versions\n",
    "allWords = list({w for w in nlp.vocab if w.has_vector and w.orth_.islower() and w.lower_ != wort})\n",
    "allWords.sort(key=lambda w: cosine(w.vector, nasa.vector))\n",
    "allWords.reverse()\n",
    "print(\"Top 10 most similar words\")\n",
    "for word in allWords[:10]:\n",
    "    print(word.orth_)"
   ]
  },
  {
   "cell_type": "code",
   "execution_count": 24,
   "metadata": {},
   "outputs": [
    {
     "data": {
      "text/plain": [
       "[('we', 'analyzed', 'curves'),\n",
       " ('kepler-76', 'show', 'beaming'),\n",
       " ('kepler-76', 'show', 'modulations')]"
      ]
     },
     "execution_count": 24,
     "metadata": {},
     "output_type": "execute_result"
    }
   ],
   "source": [
    "from subject_object_extraction import findSVOs\n",
    "findSVOs(satz)"
   ]
  },
  {
   "cell_type": "markdown",
   "metadata": {},
   "source": [
    "# Labeled sentence"
   ]
  },
  {
   "cell_type": "code",
   "execution_count": 25,
   "metadata": {},
   "outputs": [
    {
     "data": {
      "text/html": [
       "<div>\n",
       "<style scoped>\n",
       "    .dataframe tbody tr th:only-of-type {\n",
       "        vertical-align: middle;\n",
       "    }\n",
       "\n",
       "    .dataframe tbody tr th {\n",
       "        vertical-align: top;\n",
       "    }\n",
       "\n",
       "    .dataframe thead th {\n",
       "        text-align: right;\n",
       "    }\n",
       "</style>\n",
       "<table border=\"1\" class=\"dataframe\">\n",
       "  <thead>\n",
       "    <tr style=\"text-align: right;\">\n",
       "      <th></th>\n",
       "      <th>sent</th>\n",
       "      <th>label</th>\n",
       "    </tr>\n",
       "  </thead>\n",
       "  <tbody>\n",
       "    <tr>\n",
       "      <th>0</th>\n",
       "      <td>We detected visual companions within 1'' for 5 stars, between 1'' and 2'' for 7 stars, and between 2'' and 4'' for 15 stars.</td>\n",
       "      <td>discovery</td>\n",
       "    </tr>\n",
       "    <tr>\n",
       "      <th>1</th>\n",
       "      <td>Using these data and photometry from the Spitzer Space Telescope, we have identified members with infrared excess emission from circumstellar disks and have estimated the evolutionary stages of the detected disks, which include 31 new full disks and 16 new...</td>\n",
       "      <td>discovery</td>\n",
       "    </tr>\n",
       "  </tbody>\n",
       "</table>\n",
       "</div>"
      ],
      "text/plain": [
       "                                                                                                                                                                                                                                                                  sent  \\\n",
       "0                                                                                                                                         We detected visual companions within 1'' for 5 stars, between 1'' and 2'' for 7 stars, and between 2'' and 4'' for 15 stars.   \n",
       "1  Using these data and photometry from the Spitzer Space Telescope, we have identified members with infrared excess emission from circumstellar disks and have estimated the evolutionary stages of the detected disks, which include 31 new full disks and 16 new...   \n",
       "\n",
       "       label  \n",
       "0  discovery  \n",
       "1  discovery  "
      ]
     },
     "execution_count": 25,
     "metadata": {},
     "output_type": "execute_result"
    }
   ],
   "source": [
    "dfExoplanetsNASAannot = pd.read_json('./data/dfExoplanetsNASAdetected100rand_v2.json', orient = 'table')\n",
    "del dfExoplanetsNASAannot['tagRootSent']\n",
    "del dfExoplanetsNASAannot['tagDetected']\n",
    "dfExoplanetsNASAannot.head(2)"
   ]
  },
  {
   "cell_type": "code",
   "execution_count": 26,
   "metadata": {},
   "outputs": [
    {
     "data": {
      "text/plain": [
       "{'act': 'analyzed', 'subject': 'we'}"
      ]
     },
     "execution_count": 26,
     "metadata": {},
     "output_type": "execute_result"
    }
   ],
   "source": [
    "def satz_analytic2(satz):\n",
    "#    merkmal = dict({\"satz\":satz.text})\n",
    "    merkmal=dict({})\n",
    "# search for main verb\n",
    "    for t in satz:\n",
    "        if t.dep_ == \"ROOT\":\n",
    "            r=t.head.text\n",
    "            merkmal.update({\"act\":r})\n",
    "# subject and object related to verb\n",
    "    for t in satz:\n",
    "#        if t.dep_ == \"dobj\" and merkmal[\"act\"]==t.head.text:\n",
    "#            merkmal.update({\"obj\":''.join(w.text_with_ws for w in t.subtree)})\n",
    "        if t.dep_ == \"nsubj\" and merkmal[\"act\"]==t.head.text:\n",
    "            merkmal.update({\"subject\":t.text.lower()})\n",
    "\n",
    "    return(merkmal)\n",
    "satz_analytic2(satz)"
   ]
  },
  {
   "cell_type": "code",
   "execution_count": 27,
   "metadata": {},
   "outputs": [
    {
     "data": {
      "text/html": [
       "<div>\n",
       "<style scoped>\n",
       "    .dataframe tbody tr th:only-of-type {\n",
       "        vertical-align: middle;\n",
       "    }\n",
       "\n",
       "    .dataframe tbody tr th {\n",
       "        vertical-align: top;\n",
       "    }\n",
       "\n",
       "    .dataframe thead th {\n",
       "        text-align: right;\n",
       "    }\n",
       "</style>\n",
       "<table border=\"1\" class=\"dataframe\">\n",
       "  <thead>\n",
       "    <tr style=\"text-align: right;\">\n",
       "      <th></th>\n",
       "      <th>sent</th>\n",
       "      <th>label</th>\n",
       "      <th>s</th>\n",
       "    </tr>\n",
       "  </thead>\n",
       "  <tbody>\n",
       "    <tr>\n",
       "      <th>0</th>\n",
       "      <td>We detected visual companions within 1'' for 5 stars, between 1'' and 2'' for 7 stars, and between 2'' and 4'' for 15 stars.</td>\n",
       "      <td>discovery</td>\n",
       "      <td>{'act': 'detected', 'subject': 'we'}</td>\n",
       "    </tr>\n",
       "    <tr>\n",
       "      <th>1</th>\n",
       "      <td>Using these data and photometry from the Spitzer Space Telescope, we have identified members with infrared excess emission from circumstellar disks and have estimated the evolutionary stages of the detected disks, which include 31 new full disks and 16 new...</td>\n",
       "      <td>discovery</td>\n",
       "      <td>{'act': 'identified', 'subject': 'we'}</td>\n",
       "    </tr>\n",
       "  </tbody>\n",
       "</table>\n",
       "</div>"
      ],
      "text/plain": [
       "                                                                                                                                                                                                                                                                  sent  \\\n",
       "0                                                                                                                                         We detected visual companions within 1'' for 5 stars, between 1'' and 2'' for 7 stars, and between 2'' and 4'' for 15 stars.   \n",
       "1  Using these data and photometry from the Spitzer Space Telescope, we have identified members with infrared excess emission from circumstellar disks and have estimated the evolutionary stages of the detected disks, which include 31 new full disks and 16 new...   \n",
       "\n",
       "       label                                       s  \n",
       "0  discovery    {'act': 'detected', 'subject': 'we'}  \n",
       "1  discovery  {'act': 'identified', 'subject': 'we'}  "
      ]
     },
     "execution_count": 27,
     "metadata": {},
     "output_type": "execute_result"
    }
   ],
   "source": [
    "dfExoplanetsNASAannot[\"s\"]=dfExoplanetsNASAannot[\"sent\"].apply(lambda y: satz_analytic2(nlp(y)))\n",
    "dfExoplanetsNASAannot.head(2)"
   ]
  },
  {
   "cell_type": "code",
   "execution_count": 28,
   "metadata": {},
   "outputs": [],
   "source": [
    "def transp(x):\n",
    "    if x==\"discovery\":\n",
    "        y=1\n",
    "    else:\n",
    "        y=0\n",
    "    return(y)\n",
    "dfExoplanetsNASAannot[\"label\"]=dfExoplanetsNASAannot[\"label\"].apply(lambda x: transp(x))"
   ]
  },
  {
   "cell_type": "code",
   "execution_count": 29,
   "metadata": {},
   "outputs": [
    {
     "data": {
      "text/html": [
       "<div>\n",
       "<style scoped>\n",
       "    .dataframe tbody tr th:only-of-type {\n",
       "        vertical-align: middle;\n",
       "    }\n",
       "\n",
       "    .dataframe tbody tr th {\n",
       "        vertical-align: top;\n",
       "    }\n",
       "\n",
       "    .dataframe thead th {\n",
       "        text-align: right;\n",
       "    }\n",
       "</style>\n",
       "<table border=\"1\" class=\"dataframe\">\n",
       "  <thead>\n",
       "    <tr style=\"text-align: right;\">\n",
       "      <th></th>\n",
       "      <th>sent</th>\n",
       "      <th>label</th>\n",
       "      <th>s</th>\n",
       "    </tr>\n",
       "  </thead>\n",
       "  <tbody>\n",
       "    <tr>\n",
       "      <th>0</th>\n",
       "      <td>We detected visual companions within 1'' for 5 stars, between 1'' and 2'' for 7 stars, and between 2'' and 4'' for 15 stars.</td>\n",
       "      <td>1</td>\n",
       "      <td>{'act': 'detected', 'subject': 'we'}</td>\n",
       "    </tr>\n",
       "    <tr>\n",
       "      <th>1</th>\n",
       "      <td>Using these data and photometry from the Spitzer Space Telescope, we have identified members with infrared excess emission from circumstellar disks and have estimated the evolutionary stages of the detected disks, which include 31 new full disks and 16 new...</td>\n",
       "      <td>1</td>\n",
       "      <td>{'act': 'identified', 'subject': 'we'}</td>\n",
       "    </tr>\n",
       "  </tbody>\n",
       "</table>\n",
       "</div>"
      ],
      "text/plain": [
       "                                                                                                                                                                                                                                                                  sent  \\\n",
       "0                                                                                                                                         We detected visual companions within 1'' for 5 stars, between 1'' and 2'' for 7 stars, and between 2'' and 4'' for 15 stars.   \n",
       "1  Using these data and photometry from the Spitzer Space Telescope, we have identified members with infrared excess emission from circumstellar disks and have estimated the evolutionary stages of the detected disks, which include 31 new full disks and 16 new...   \n",
       "\n",
       "   label                                       s  \n",
       "0      1    {'act': 'detected', 'subject': 'we'}  \n",
       "1      1  {'act': 'identified', 'subject': 'we'}  "
      ]
     },
     "execution_count": 29,
     "metadata": {},
     "output_type": "execute_result"
    }
   ],
   "source": [
    "dfExoplanetsNASAannot.head(2)"
   ]
  },
  {
   "cell_type": "code",
   "execution_count": 30,
   "metadata": {},
   "outputs": [],
   "source": [
    "_all_xs=list(dfExoplanetsNASAannot[\"s\"])"
   ]
  },
  {
   "cell_type": "code",
   "execution_count": 31,
   "metadata": {},
   "outputs": [
    {
     "data": {
      "text/plain": [
       "{'act': 'identified', 'subject': 'we'}"
      ]
     },
     "execution_count": 31,
     "metadata": {},
     "output_type": "execute_result"
    }
   ],
   "source": [
    "_all_xs[1]"
   ]
  },
  {
   "cell_type": "code",
   "execution_count": 32,
   "metadata": {},
   "outputs": [
    {
     "data": {
      "text/plain": [
       "array([1, 1, 0, 1, 1, 0, 0, 1, 0, 0, 1, 1, 1, 0, 0, 0, 0, 1, 0, 1, 0, 1,\n",
       "       0, 0, 0, 1, 0, 0, 0, 0, 0, 0, 1, 1, 0, 0, 0, 0, 1, 1, 0, 0, 1, 0,\n",
       "       0, 0, 0, 1, 0, 1, 1, 1, 0, 1, 0, 0, 0, 1, 1, 1, 0, 0, 1, 1, 0, 0,\n",
       "       1, 0, 0, 0, 1, 1, 0, 0, 0, 0, 0, 1, 1, 0, 1, 0, 0, 0, 1, 0, 0, 0,\n",
       "       1, 0, 1, 1, 0, 0, 0, 0, 1, 1, 0, 1])"
      ]
     },
     "execution_count": 32,
     "metadata": {},
     "output_type": "execute_result"
    }
   ],
   "source": [
    "_all_ys=np.array(list(dfExoplanetsNASAannot[\"label\"]))\n",
    "_all_ys"
   ]
  },
  {
   "cell_type": "code",
   "execution_count": 33,
   "metadata": {},
   "outputs": [
    {
     "data": {
      "application/vnd.jupyter.widget-view+json": {
       "model_id": "8685e243c16b4b2aa8c69d23c4983145",
       "version_major": 2,
       "version_minor": 0
      },
      "text/plain": [
       "interactive(children=(IntSlider(value=14500, description='x', max=29000, min=1), Output()), _dom_classes=('wid…"
      ]
     },
     "metadata": {},
     "output_type": "display_data"
    }
   ],
   "source": [
    "@interact\n",
    "def show_abstracts(x=(1,29000,1)):\n",
    "    df=dfExoplanetsSent.loc[dfExoplanetsSent[\"IDabstr\"] == x]\n",
    "    return(df)"
   ]
  },
  {
   "cell_type": "markdown",
   "metadata": {},
   "source": [
    "# Textacy"
   ]
  },
  {
   "cell_type": "code",
   "execution_count": 34,
   "metadata": {},
   "outputs": [
    {
     "data": {
      "text/plain": [
       "'We analyzed the Kepler light curves of four transiting hot Jupiter systems—KOI-13, HAT-P-7, TrES-2, and Kepler-76, which show BEaming, Ellipsoidal, and Reflection (BEER) phase modulations.'"
      ]
     },
     "execution_count": 34,
     "metadata": {},
     "output_type": "execute_result"
    }
   ],
   "source": [
    "text=sentences[114522]\n",
    "text"
   ]
  },
  {
   "cell_type": "code",
   "execution_count": 35,
   "metadata": {},
   "outputs": [
    {
     "data": {
      "text/plain": [
       "'We analyzed the Kepler light curves of four transiting hot Jupiter systems KOI 13 HAT P 7 TrES 2 and Kepler 76 which show BEaming Ellipsoidal and Reflection BEER phase modulations'"
      ]
     },
     "execution_count": 35,
     "metadata": {},
     "output_type": "execute_result"
    }
   ],
   "source": [
    "textacy.preprocess_text(text, lowercase=False, no_punct=True)"
   ]
  },
  {
   "cell_type": "code",
   "execution_count": 36,
   "metadata": {},
   "outputs": [],
   "source": [
    "doc=nlp(text)"
   ]
  },
  {
   "cell_type": "code",
   "execution_count": 37,
   "metadata": {},
   "outputs": [
    {
     "data": {
      "text/plain": [
       "[analyzed the Kepler,\n",
       " Kepler light curves,\n",
       " transiting hot Jupiter,\n",
       " hot Jupiter systems]"
      ]
     },
     "execution_count": 37,
     "metadata": {},
     "output_type": "execute_result"
    }
   ],
   "source": [
    "list(textacy.extract.ngrams(doc, 3, filter_stops=True, filter_punct=True, filter_nums=False))"
   ]
  },
  {
   "cell_type": "code",
   "execution_count": 38,
   "metadata": {},
   "outputs": [
    {
     "data": {
      "text/plain": [
       "[Kepler light,\n",
       " light curves,\n",
       " transiting hot,\n",
       " hot Jupiter,\n",
       " Jupiter systems,\n",
       " phase modulations]"
      ]
     },
     "execution_count": 38,
     "metadata": {},
     "output_type": "execute_result"
    }
   ],
   "source": [
    "list(textacy.extract.ngrams(doc, 2, min_freq=1))"
   ]
  },
  {
   "cell_type": "code",
   "execution_count": 39,
   "metadata": {},
   "outputs": [
    {
     "data": {
      "text/plain": [
       "[Kepler, four, Jupiter, HAT-P-7, BEaming, Ellipsoidal, Reflection]"
      ]
     },
     "execution_count": 39,
     "metadata": {},
     "output_type": "execute_result"
    }
   ],
   "source": [
    "list(textacy.extract.entities(doc, drop_determiners=True))"
   ]
  },
  {
   "cell_type": "code",
   "execution_count": 40,
   "metadata": {},
   "outputs": [
    {
     "data": {
      "text/plain": [
       "'<DET>? <NUM>* (<ADJ> <PUNCT>? <CONJ>?)* (<NOUN>|<PROPN> <PART>?)+'"
      ]
     },
     "execution_count": 40,
     "metadata": {},
     "output_type": "execute_result"
    }
   ],
   "source": [
    "pattern = textacy.constants.POS_REGEX_PATTERNS[\"en\"][\"NP\"]\n",
    "pattern"
   ]
  },
  {
   "cell_type": "code",
   "execution_count": 41,
   "metadata": {},
   "outputs": [
    {
     "data": {
      "text/plain": [
       "[the Kepler light curves,\n",
       " hot Jupiter systems,\n",
       " KOI-13,\n",
       " HAT,\n",
       " P-7,\n",
       " Kepler-76,\n",
       " BEaming,\n",
       " Ellipsoidal,\n",
       " Reflection,\n",
       " BEER,\n",
       " phase modulations]"
      ]
     },
     "execution_count": 41,
     "metadata": {},
     "output_type": "execute_result"
    }
   ],
   "source": [
    "list(textacy.extract.pos_regex_matches(doc, pattern))"
   ]
  },
  {
   "cell_type": "code",
   "execution_count": 42,
   "metadata": {},
   "outputs": [
    {
     "data": {
      "text/plain": [
       "[]"
      ]
     },
     "execution_count": 42,
     "metadata": {},
     "output_type": "execute_result"
    }
   ],
   "source": [
    "pattern = textacy.constants.POS_REGEX_PATTERNS[\"en\"][\"PP\"]\n",
    "list(textacy.extract.pos_regex_matches(doc, pattern))"
   ]
  },
  {
   "cell_type": "code",
   "execution_count": 43,
   "metadata": {},
   "outputs": [
    {
     "data": {
      "text/plain": [
       "[analyzed, transiting, show]"
      ]
     },
     "execution_count": 43,
     "metadata": {},
     "output_type": "execute_result"
    }
   ],
   "source": [
    "pattern = textacy.constants.POS_REGEX_PATTERNS[\"en\"][\"VP\"]\n",
    "list(textacy.extract.pos_regex_matches(doc, pattern))"
   ]
  },
  {
   "cell_type": "code",
   "execution_count": 44,
   "metadata": {},
   "outputs": [
    {
     "data": {
      "text/plain": [
       "[We,\n",
       " Kepler light curves,\n",
       " four transiting hot Jupiter systems,\n",
       " Kepler-76,\n",
       " BEaming,\n",
       " Ellipsoidal,\n",
       " Reflection,\n",
       " BEER,\n",
       " phase modulations]"
      ]
     },
     "execution_count": 44,
     "metadata": {},
     "output_type": "execute_result"
    }
   ],
   "source": [
    "list(textacy.extract.noun_chunks(doc))"
   ]
  },
  {
   "cell_type": "code",
   "execution_count": 45,
   "metadata": {},
   "outputs": [
    {
     "name": "stdout",
     "output_type": "stream",
     "text": [
      "['KOI-13', 'HAT', 'P-7', 'TrES-2', 'BEER']\n"
     ]
    },
    {
     "data": {
      "text/plain": [
       "['KOI-13', 'HAT', 'P-7', 'TrES-2', 'BEER']"
      ]
     },
     "execution_count": 45,
     "metadata": {},
     "output_type": "execute_result"
    }
   ],
   "source": [
    "print(list(textacy.extract.acronyms_and_definitions(doc)))\n",
    "def acron(doc):\n",
    "    return(list(textacy.extract.acronyms_and_definitions(doc)))\n",
    "acron(doc)"
   ]
  },
  {
   "cell_type": "code",
   "execution_count": 46,
   "metadata": {},
   "outputs": [
    {
     "data": {
      "text/plain": [
       "[('light', 0.06815242300922285),\n",
       " ('phase', 0.06815242300922285),\n",
       " ('curve', 0.06401964228873573),\n",
       " ('beer', 0.06401964228873573),\n",
       " ('hot', 0.06172274604477563),\n",
       " ('Reflection', 0.06172274604477563),\n",
       " ('Jupiter', 0.06044715386479844),\n",
       " ('Ellipsoidal', 0.06044715386479844),\n",
       " ('system', 0.05974653549694438),\n",
       " ('BEaming', 0.05974653549694438)]"
      ]
     },
     "execution_count": 46,
     "metadata": {},
     "output_type": "execute_result"
    }
   ],
   "source": [
    "textacy.keyterms.textrank(doc, normalize=\"lemma\", n_keyterms=10)"
   ]
  },
  {
   "cell_type": "code",
   "execution_count": 47,
   "metadata": {},
   "outputs": [
    {
     "data": {
      "text/plain": [
       "[('hot jupiter systems', 0.3443844485163722),\n",
       " ('kepler light curves', 0.20453655965864562),\n",
       " ('kepler-76', 0.048348946897958475),\n",
       " ('ellipsoidal', 0.04834013127925177)]"
      ]
     },
     "execution_count": 47,
     "metadata": {},
     "output_type": "execute_result"
    }
   ],
   "source": [
    "textacy.keyterms.sgrank(doc, ngrams=(1, 2, 3, 4), normalize=\"lower\", n_keyterms=0.1)"
   ]
  },
  {
   "cell_type": "code",
   "execution_count": 48,
   "metadata": {},
   "outputs": [],
   "source": [
    "statements=textacy.extract.semistructured_statements(\"doc\",\"observation\")"
   ]
  },
  {
   "cell_type": "code",
   "execution_count": 49,
   "metadata": {},
   "outputs": [],
   "source": [
    "def extract_SVO(doc):\n",
    "    tuples = textacy.extract.subject_verb_object_triples(doc)\n",
    "    if tuples:\n",
    "        tuples_to_list = list(tuples)\n",
    "        tuples_list.append(tuples_to_list)"
   ]
  },
  {
   "cell_type": "code",
   "execution_count": 50,
   "metadata": {},
   "outputs": [
    {
     "data": {
      "text/plain": [
       "[[(We, analyzed, light curves),\n",
       "  (We, analyzed, TrES-2),\n",
       "  (We, analyzed, Kepler-76),\n",
       "  (which, show, BEaming),\n",
       "  (which, show, phase modulations),\n",
       "  (which, show, Ellipsoidal),\n",
       "  (which, show, Reflection)]]"
      ]
     },
     "execution_count": 50,
     "metadata": {},
     "output_type": "execute_result"
    }
   ],
   "source": [
    "tuples_list = [] \n",
    "extract_SVO(doc)\n",
    "tuples_list"
   ]
  },
  {
   "cell_type": "markdown",
   "metadata": {},
   "source": [
    "# SPACY 2.1 TOOLS"
   ]
  },
  {
   "cell_type": "code",
   "execution_count": 51,
   "metadata": {},
   "outputs": [
    {
     "name": "stdout",
     "output_type": "stream",
     "text": [
      "[('Kepler', 16, 22, 'PERSON'), ('four', 39, 43, 'CARDINAL'), ('Jupiter', 59, 66, 'LOC'), ('HAT-P-7', 83, 90, 'ORG'), ('BEaming', 126, 133, 'ORG'), ('Ellipsoidal', 135, 146, 'GPE'), ('Reflection', 152, 162, 'PRODUCT')]\n"
     ]
    }
   ],
   "source": [
    "ents = [(e.text, e.start_char, e.end_char, e.label_) for e in doc.ents]\n",
    "print(ents)"
   ]
  },
  {
   "cell_type": "code",
   "execution_count": 52,
   "metadata": {},
   "outputs": [
    {
     "data": {
      "text/html": [
       "<div class=\"entities\" style=\"line-height: 2.5; direction: ltr\">We analyzed the \n",
       "<mark class=\"entity\" style=\"background: #aa9cfc; padding: 0.45em 0.6em; margin: 0 0.25em; line-height: 1; border-radius: 0.35em; box-decoration-break: clone; -webkit-box-decoration-break: clone\">\n",
       "    Kepler\n",
       "    <span style=\"font-size: 0.8em; font-weight: bold; line-height: 1; border-radius: 0.35em; text-transform: uppercase; vertical-align: middle; margin-left: 0.5rem\">PERSON</span>\n",
       "</mark>\n",
       " light curves of \n",
       "<mark class=\"entity\" style=\"background: #e4e7d2; padding: 0.45em 0.6em; margin: 0 0.25em; line-height: 1; border-radius: 0.35em; box-decoration-break: clone; -webkit-box-decoration-break: clone\">\n",
       "    four\n",
       "    <span style=\"font-size: 0.8em; font-weight: bold; line-height: 1; border-radius: 0.35em; text-transform: uppercase; vertical-align: middle; margin-left: 0.5rem\">CARDINAL</span>\n",
       "</mark>\n",
       " transiting hot \n",
       "<mark class=\"entity\" style=\"background: #ff9561; padding: 0.45em 0.6em; margin: 0 0.25em; line-height: 1; border-radius: 0.35em; box-decoration-break: clone; -webkit-box-decoration-break: clone\">\n",
       "    Jupiter\n",
       "    <span style=\"font-size: 0.8em; font-weight: bold; line-height: 1; border-radius: 0.35em; text-transform: uppercase; vertical-align: middle; margin-left: 0.5rem\">LOC</span>\n",
       "</mark>\n",
       " systems—KOI-13, \n",
       "<mark class=\"entity\" style=\"background: #7aecec; padding: 0.45em 0.6em; margin: 0 0.25em; line-height: 1; border-radius: 0.35em; box-decoration-break: clone; -webkit-box-decoration-break: clone\">\n",
       "    HAT-P-7\n",
       "    <span style=\"font-size: 0.8em; font-weight: bold; line-height: 1; border-radius: 0.35em; text-transform: uppercase; vertical-align: middle; margin-left: 0.5rem\">ORG</span>\n",
       "</mark>\n",
       ", TrES-2, and Kepler-76, which show \n",
       "<mark class=\"entity\" style=\"background: #7aecec; padding: 0.45em 0.6em; margin: 0 0.25em; line-height: 1; border-radius: 0.35em; box-decoration-break: clone; -webkit-box-decoration-break: clone\">\n",
       "    BEaming\n",
       "    <span style=\"font-size: 0.8em; font-weight: bold; line-height: 1; border-radius: 0.35em; text-transform: uppercase; vertical-align: middle; margin-left: 0.5rem\">ORG</span>\n",
       "</mark>\n",
       ", \n",
       "<mark class=\"entity\" style=\"background: #feca74; padding: 0.45em 0.6em; margin: 0 0.25em; line-height: 1; border-radius: 0.35em; box-decoration-break: clone; -webkit-box-decoration-break: clone\">\n",
       "    Ellipsoidal\n",
       "    <span style=\"font-size: 0.8em; font-weight: bold; line-height: 1; border-radius: 0.35em; text-transform: uppercase; vertical-align: middle; margin-left: 0.5rem\">GPE</span>\n",
       "</mark>\n",
       ", and \n",
       "<mark class=\"entity\" style=\"background: #bfeeb7; padding: 0.45em 0.6em; margin: 0 0.25em; line-height: 1; border-radius: 0.35em; box-decoration-break: clone; -webkit-box-decoration-break: clone\">\n",
       "    Reflection\n",
       "    <span style=\"font-size: 0.8em; font-weight: bold; line-height: 1; border-radius: 0.35em; text-transform: uppercase; vertical-align: middle; margin-left: 0.5rem\">PRODUCT</span>\n",
       "</mark>\n",
       " (BEER) phase modulations.</div>"
      ],
      "text/plain": [
       "<IPython.core.display.HTML object>"
      ]
     },
     "metadata": {},
     "output_type": "display_data"
    }
   ],
   "source": [
    "displacy.render(doc, style=\"ent\")"
   ]
  },
  {
   "cell_type": "markdown",
   "metadata": {},
   "source": [
    "# Abstracts"
   ]
  },
  {
   "cell_type": "code",
   "execution_count": 53,
   "metadata": {},
   "outputs": [
    {
     "data": {
      "application/vnd.jupyter.widget-view+json": {
       "model_id": "1f69f6a74bc746c79b3e4a3a6eb9e63c",
       "version_major": 2,
       "version_minor": 0
      },
      "text/plain": [
       "interactive(children=(IntSlider(value=14500, description='x', max=29000, min=1), Output()), _dom_classes=('wid…"
      ]
     },
     "metadata": {},
     "output_type": "display_data"
    }
   ],
   "source": [
    "@interact\n",
    "def show_abstracts(x=(1,29000,1)):\n",
    "    df=dfExoplanetsSent.loc[dfExoplanetsSent[\"IDabstr\"] == x]\n",
    "    return(df)"
   ]
  },
  {
   "cell_type": "markdown",
   "metadata": {},
   "source": [
    "# Exercise\n",
    "\n",
    "Identify names of models, e.g. \n",
    "- \"BEER model\",\n",
    "- \" Lambertian superrotation BEER\"\n",
    "\n",
    "See\n",
    "https://www.kaggle.com/sudosharma/quick-and-dirty-entity-extractions"
   ]
  },
  {
   "cell_type": "code",
   "execution_count": 54,
   "metadata": {},
   "outputs": [
    {
     "data": {
      "text/html": [
       "<div>\n",
       "<style scoped>\n",
       "    .dataframe tbody tr th:only-of-type {\n",
       "        vertical-align: middle;\n",
       "    }\n",
       "\n",
       "    .dataframe tbody tr th {\n",
       "        vertical-align: top;\n",
       "    }\n",
       "\n",
       "    .dataframe thead th {\n",
       "        text-align: right;\n",
       "    }\n",
       "</style>\n",
       "<table border=\"1\" class=\"dataframe\">\n",
       "  <thead>\n",
       "    <tr style=\"text-align: right;\">\n",
       "      <th></th>\n",
       "      <th>IDabstr</th>\n",
       "      <th>IDsentence</th>\n",
       "      <th>sentence</th>\n",
       "      <th>features</th>\n",
       "    </tr>\n",
       "  </thead>\n",
       "  <tbody>\n",
       "    <tr>\n",
       "      <th>114522</th>\n",
       "      <td>14500</td>\n",
       "      <td>0</td>\n",
       "      <td>We analyzed the Kepler light curves of four transiting hot Jupiter systems—KOI-13, HAT-P-7, TrES-2, and Kepler-76, which show BEaming, Ellipsoidal, and Reflection (BEER) phase modulations.</td>\n",
       "      <td>NaN</td>\n",
       "    </tr>\n",
       "    <tr>\n",
       "      <th>114523</th>\n",
       "      <td>14500</td>\n",
       "      <td>1</td>\n",
       "      <td>The mass of the four planets can be estimated from either the beaming or the ellipsoidal amplitude, given the mass and radius of their parent stars.</td>\n",
       "      <td>NaN</td>\n",
       "    </tr>\n",
       "    <tr>\n",
       "      <th>114524</th>\n",
       "      <td>14500</td>\n",
       "      <td>2</td>\n",
       "      <td>For KOI-13, HAT-P-7, and Kepler-76 we find that the beaming-based planetary mass estimate is larger than the mass estimated from the ellipsoidal amplitude, consistent with previous studies.</td>\n",
       "      <td>NaN</td>\n",
       "    </tr>\n",
       "    <tr>\n",
       "      <th>114525</th>\n",
       "      <td>14500</td>\n",
       "      <td>3</td>\n",
       "      <td>This apparent discrepancy may be explained by equatorial superrotation of the planet atmosphere, which induces an angle shift of the planet reflection/emission phase modulation, as was suggested for Kepler-76 in the first paper of this series.</td>\n",
       "      <td>NaN</td>\n",
       "    </tr>\n",
       "    <tr>\n",
       "      <th>114526</th>\n",
       "      <td>14500</td>\n",
       "      <td>4</td>\n",
       "      <td>We propose a modified BEER model that supports superrotation, assuming either a Lambertian or geometric reflection/emission phase function, and provides a photometry-consistent estimate of the planetary mass.</td>\n",
       "      <td>NaN</td>\n",
       "    </tr>\n",
       "    <tr>\n",
       "      <th>114527</th>\n",
       "      <td>14500</td>\n",
       "      <td>5</td>\n",
       "      <td>Our analysis shows that for Kepler-76 and HAT-P-7, the Lambertian superrotation BEER model is highly preferable over an unshifted null model, while for KOI-13 it is preferable only at a 1.4σ level.</td>\n",
       "      <td>NaN</td>\n",
       "    </tr>\n",
       "    <tr>\n",
       "      <th>114528</th>\n",
       "      <td>14500</td>\n",
       "      <td>6</td>\n",
       "      <td>For TrES-2 we do not find such preference.</td>\n",
       "      <td>NaN</td>\n",
       "    </tr>\n",
       "    <tr>\n",
       "      <th>114529</th>\n",
       "      <td>14500</td>\n",
       "      <td>7</td>\n",
       "      <td>For all four systems the Lambertian superrotation model mass estimates are in excellent agreement with the planetary masses derived from, or constrained by, radial velocity measurements.</td>\n",
       "      <td>NaN</td>\n",
       "    </tr>\n",
       "    <tr>\n",
       "      <th>114530</th>\n",
       "      <td>14500</td>\n",
       "      <td>8</td>\n",
       "      <td>This makes the Lambertian superrotation BEER model a viable tool for estimating the masses of hot Jupiters from photometry alone.</td>\n",
       "      <td>NaN</td>\n",
       "    </tr>\n",
       "    <tr>\n",
       "      <th>114531</th>\n",
       "      <td>14500</td>\n",
       "      <td>9</td>\n",
       "      <td>We conclude that hot Jupiter superrotation may be a common phenomenon that can be detected in the visual light curves of Kepler.</td>\n",
       "      <td>NaN</td>\n",
       "    </tr>\n",
       "  </tbody>\n",
       "</table>\n",
       "</div>"
      ],
      "text/plain": [
       "        IDabstr  IDsentence  \\\n",
       "114522    14500           0   \n",
       "114523    14500           1   \n",
       "114524    14500           2   \n",
       "114525    14500           3   \n",
       "114526    14500           4   \n",
       "114527    14500           5   \n",
       "114528    14500           6   \n",
       "114529    14500           7   \n",
       "114530    14500           8   \n",
       "114531    14500           9   \n",
       "\n",
       "                                                                                                                                                                                                                                                   sentence  \\\n",
       "114522                                                         We analyzed the Kepler light curves of four transiting hot Jupiter systems—KOI-13, HAT-P-7, TrES-2, and Kepler-76, which show BEaming, Ellipsoidal, and Reflection (BEER) phase modulations.   \n",
       "114523                                                                                                 The mass of the four planets can be estimated from either the beaming or the ellipsoidal amplitude, given the mass and radius of their parent stars.   \n",
       "114524                                                        For KOI-13, HAT-P-7, and Kepler-76 we find that the beaming-based planetary mass estimate is larger than the mass estimated from the ellipsoidal amplitude, consistent with previous studies.   \n",
       "114525  This apparent discrepancy may be explained by equatorial superrotation of the planet atmosphere, which induces an angle shift of the planet reflection/emission phase modulation, as was suggested for Kepler-76 in the first paper of this series.   \n",
       "114526                                     We propose a modified BEER model that supports superrotation, assuming either a Lambertian or geometric reflection/emission phase function, and provides a photometry-consistent estimate of the planetary mass.   \n",
       "114527                                                Our analysis shows that for Kepler-76 and HAT-P-7, the Lambertian superrotation BEER model is highly preferable over an unshifted null model, while for KOI-13 it is preferable only at a 1.4σ level.   \n",
       "114528                                                                                                                                                                                                           For TrES-2 we do not find such preference.   \n",
       "114529                                                           For all four systems the Lambertian superrotation model mass estimates are in excellent agreement with the planetary masses derived from, or constrained by, radial velocity measurements.   \n",
       "114530                                                                                                                    This makes the Lambertian superrotation BEER model a viable tool for estimating the masses of hot Jupiters from photometry alone.   \n",
       "114531                                                                                                                     We conclude that hot Jupiter superrotation may be a common phenomenon that can be detected in the visual light curves of Kepler.   \n",
       "\n",
       "        features  \n",
       "114522       NaN  \n",
       "114523       NaN  \n",
       "114524       NaN  \n",
       "114525       NaN  \n",
       "114526       NaN  \n",
       "114527       NaN  \n",
       "114528       NaN  \n",
       "114529       NaN  \n",
       "114530       NaN  \n",
       "114531       NaN  "
      ]
     },
     "execution_count": 54,
     "metadata": {},
     "output_type": "execute_result"
    }
   ],
   "source": [
    "df=dfExoplanetsSent.loc[dfExoplanetsSent[\"IDabstr\"] == 14500]\n",
    "df.head(10)"
   ]
  },
  {
   "cell_type": "code",
   "execution_count": 55,
   "metadata": {},
   "outputs": [
    {
     "data": {
      "text/plain": [
       "10"
      ]
     },
     "execution_count": 55,
     "metadata": {},
     "output_type": "execute_result"
    }
   ],
   "source": [
    "len(df[\"sentence\"])"
   ]
  },
  {
   "cell_type": "code",
   "execution_count": 56,
   "metadata": {},
   "outputs": [
    {
     "data": {
      "text/plain": [
       "'We propose a modified BEER model that supports superrotation, assuming either a Lambertian or geometric reflection/emission phase function, and provides a photometry-consistent estimate of the planetary mass.'"
      ]
     },
     "execution_count": 56,
     "metadata": {},
     "output_type": "execute_result"
    }
   ],
   "source": [
    "df[\"sentence\"].iloc[4]"
   ]
  },
  {
   "cell_type": "code",
   "execution_count": 57,
   "metadata": {},
   "outputs": [
    {
     "name": "stdout",
     "output_type": "stream",
     "text": [
      "We\n",
      "the Kepler light curves\n",
      "four transiting hot Jupiter systems\n",
      "Kepler-76\n",
      "BEaming\n",
      "Ellipsoidal\n",
      "Reflection\n",
      "BEER\n",
      "phase modulations\n"
     ]
    }
   ],
   "source": [
    "for nc in doc.noun_chunks:\n",
    "    print(nc)"
   ]
  },
  {
   "cell_type": "markdown",
   "metadata": {},
   "source": [
    "# Models"
   ]
  },
  {
   "cell_type": "code",
   "execution_count": 62,
   "metadata": {},
   "outputs": [],
   "source": [
    "def modelnoun(lsent):\n",
    "    l=[x for x in lsent if \" model\" in x.text]\n",
    "    return(l)\n",
    "       "
   ]
  },
  {
   "cell_type": "code",
   "execution_count": 65,
   "metadata": {},
   "outputs": [
    {
     "name": "stdout",
     "output_type": "stream",
     "text": [
      "\n",
      " ====\n",
      " \n",
      " text = We analyzed the Kepler light curves of four transiting hot Jupiter systems—KOI-13, HAT-P-7, TrES-2, and Kepler-76, which show BEaming, Ellipsoidal, and Reflection (BEER) phase modulations.\n",
      "Acron = ['KOI-13', 'HAT', 'P-7', 'TrES-2', 'BEER']\n",
      "Noun phrases = [We, the Kepler light curves, four transiting hot Jupiter systems, Kepler-76, BEaming, Ellipsoidal, Reflection, BEER, phase modulations]\n",
      "filter model = []\n",
      "\n",
      " ====\n",
      " \n",
      " text = The mass of the four planets can be estimated from either the beaming or the ellipsoidal amplitude, given the mass and radius of their parent stars.\n",
      "Acron = []\n",
      "Noun phrases = [The mass, the four planets, either the beaming, the ellipsoidal amplitude, the mass, radius, their parent stars]\n",
      "filter model = []\n",
      "\n",
      " ====\n",
      " \n",
      " text = For KOI-13, HAT-P-7, and Kepler-76 we find that the beaming-based planetary mass estimate is larger than the mass estimated from the ellipsoidal amplitude, consistent with previous studies.\n",
      "Acron = ['KOI-13', 'HAT', 'P-7']\n",
      "Noun phrases = [KOI-13, we, the beaming-based planetary mass estimate, the mass, the ellipsoidal amplitude, previous studies]\n",
      "filter model = []\n",
      "\n",
      " ====\n",
      " \n",
      " text = This apparent discrepancy may be explained by equatorial superrotation of the planet atmosphere, which induces an angle shift of the planet reflection/emission phase modulation, as was suggested for Kepler-76 in the first paper of this series.\n",
      "Acron = []\n",
      "Noun phrases = [This apparent discrepancy, equatorial superrotation, the planet atmosphere, an angle shift, the planet reflection/emission phase modulation, Kepler-76, the first paper, this series]\n",
      "filter model = []\n",
      "\n",
      " ====\n",
      " \n",
      " text = We propose a modified BEER model that supports superrotation, assuming either a Lambertian or geometric reflection/emission phase function, and provides a photometry-consistent estimate of the planetary mass.\n",
      "Acron = ['BEER']\n",
      "Noun phrases = [We, a modified BEER model, superrotation, a photometry-consistent estimate, the planetary mass]\n",
      "filter model = [a modified BEER model]\n",
      "\n",
      " ====\n",
      " \n",
      " text = Our analysis shows that for Kepler-76 and HAT-P-7, the Lambertian superrotation BEER model is highly preferable over an unshifted null model, while for KOI-13 it is preferable only at a 1.4σ level.\n",
      "Acron = ['HAT', 'P-7', 'BEER', 'KOI-13']\n",
      "Noun phrases = [Our analysis, Kepler-76, the Lambertian superrotation BEER model, an unshifted null model, KOI-13 it, a 1.4σ level]\n",
      "filter model = [the Lambertian superrotation BEER model, an unshifted null model]\n",
      "\n",
      " ====\n",
      " \n",
      " text = For TrES-2 we do not find such preference.\n",
      "Acron = ['TrES-2']\n",
      "Noun phrases = [we, such preference]\n",
      "filter model = []\n",
      "\n",
      " ====\n",
      " \n",
      " text = For all four systems the Lambertian superrotation model mass estimates are in excellent agreement with the planetary masses derived from, or constrained by, radial velocity measurements.\n",
      "Acron = []\n",
      "Noun phrases = [all four systems, the Lambertian superrotation model mass estimates, excellent agreement, the planetary masses, , radial velocity measurements]\n",
      "filter model = [the Lambertian superrotation model mass estimates]\n",
      "\n",
      " ====\n",
      " \n",
      " text = This makes the Lambertian superrotation BEER model a viable tool for estimating the masses of hot Jupiters from photometry alone.\n",
      "Acron = ['BEER']\n",
      "Noun phrases = [the Lambertian superrotation BEER model, the masses, hot Jupiters, photometry]\n",
      "filter model = [the Lambertian superrotation BEER model]\n",
      "\n",
      " ====\n",
      " \n",
      " text = We conclude that hot Jupiter superrotation may be a common phenomenon that can be detected in the visual light curves of Kepler.\n",
      "Acron = []\n",
      "Noun phrases = [We, hot Jupiter superrotation, a common phenomenon, the visual light curves, Kepler]\n",
      "filter model = []\n"
     ]
    }
   ],
   "source": [
    "for i,row in df.iterrows():\n",
    "    t=nlp(row[\"sentence\"])\n",
    "    print(\"\\n ====\\n \")\n",
    "    print(\" text =\",t.text)\n",
    "#    print(\"\\n ngram3 =\",list(textacy.extract.ngrams(t, 3, filter_stops=True, filter_punct=True, filter_nums=False)))\n",
    "    print(\"Acron =\", acron(t))\n",
    "    tchunks=list((t.noun_chunks))\n",
    "    print(\"Noun phrases =\",tchunks)\n",
    "    print(\"filter model =\",modelnoun(tchunks))\n",
    "    "
   ]
  },
  {
   "cell_type": "code",
   "execution_count": null,
   "metadata": {},
   "outputs": [],
   "source": [
    "model = Matcher(nlp.vocab)  \n",
    "p1 = [{\"OP\":\"*\",\"TAG\":\"NOUN\"},{'LOWER': 'model'}]  \n",
    "model.add('MODEL', None, p1)  \n",
    "phrase_matches = model(doc)  \n",
    "for match_id, start, end in phrase_matches:  \n",
    "    string_id = nlp.vocab.strings[match_id]  \n",
    "    span = doc[start:end]                   \n",
    "    print(match_id, string_id, start, end, span.text)\n"
   ]
  },
  {
   "cell_type": "code",
   "execution_count": null,
   "metadata": {},
   "outputs": [],
   "source": [
    "ll=[]\n",
    "for sent in dfExoplanetsSent[\"sentence\"]:\n",
    "    s=nlp(sent)\n",
    "    ls=list(s.noun_chunks)\n",
    "    ll.append(modelnoun(ls))"
   ]
  },
  {
   "cell_type": "code",
   "execution_count": null,
   "metadata": {},
   "outputs": [],
   "source": [
    "dfExoplanetsSent[\"feature\"]=ll\n",
    "dfExoplanetsSent.head(10)"
   ]
  }
 ],
 "metadata": {
  "kernelspec": {
   "display_name": "Python 3",
   "language": "python",
   "name": "python3"
  },
  "language_info": {
   "codemirror_mode": {
    "name": "ipython",
    "version": 3
   },
   "file_extension": ".py",
   "mimetype": "text/x-python",
   "name": "python",
   "nbconvert_exporter": "python",
   "pygments_lexer": "ipython3",
   "version": "3.5.6"
  }
 },
 "nbformat": 4,
 "nbformat_minor": 2
}
