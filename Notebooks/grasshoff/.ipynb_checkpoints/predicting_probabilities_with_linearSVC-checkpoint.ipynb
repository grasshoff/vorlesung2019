{
 "cells": [
  {
   "cell_type": "markdown",
   "metadata": {},
   "source": [
    "### Consumer complaints dataset . It can be downloaded from https://catalog.data.gov/dataset/consumer-complaint-database"
   ]
  },
  {
   "cell_type": "code",
   "execution_count": 2,
   "metadata": {
    "ExecuteTime": {
     "end_time": "2018-07-06T12:02:00.231556Z",
     "start_time": "2018-07-06T12:01:53.583550Z"
    }
   },
   "outputs": [
    {
     "data": {
      "text/html": [
       "<div>\n",
       "<style scoped>\n",
       "    .dataframe tbody tr th:only-of-type {\n",
       "        vertical-align: middle;\n",
       "    }\n",
       "\n",
       "    .dataframe tbody tr th {\n",
       "        vertical-align: top;\n",
       "    }\n",
       "\n",
       "    .dataframe thead th {\n",
       "        text-align: right;\n",
       "    }\n",
       "</style>\n",
       "<table border=\"1\" class=\"dataframe\">\n",
       "  <thead>\n",
       "    <tr style=\"text-align: right;\">\n",
       "      <th></th>\n",
       "      <th>Date received</th>\n",
       "      <th>Product</th>\n",
       "      <th>Sub-product</th>\n",
       "      <th>Issue</th>\n",
       "      <th>Sub-issue</th>\n",
       "      <th>Consumer complaint narrative</th>\n",
       "      <th>Company public response</th>\n",
       "      <th>Company</th>\n",
       "      <th>State</th>\n",
       "      <th>ZIP code</th>\n",
       "      <th>Tags</th>\n",
       "      <th>Consumer consent provided?</th>\n",
       "      <th>Submitted via</th>\n",
       "      <th>Date sent to company</th>\n",
       "      <th>Company response to consumer</th>\n",
       "      <th>Timely response?</th>\n",
       "      <th>Consumer disputed?</th>\n",
       "      <th>Complaint ID</th>\n",
       "    </tr>\n",
       "  </thead>\n",
       "  <tbody>\n",
       "    <tr>\n",
       "      <th>0</th>\n",
       "      <td>03/12/2014</td>\n",
       "      <td>Mortgage</td>\n",
       "      <td>Other mortgage</td>\n",
       "      <td>Loan modification,collection,foreclosure</td>\n",
       "      <td>NaN</td>\n",
       "      <td>NaN</td>\n",
       "      <td>NaN</td>\n",
       "      <td>M&amp;T BANK CORPORATION</td>\n",
       "      <td>MI</td>\n",
       "      <td>48382</td>\n",
       "      <td>NaN</td>\n",
       "      <td>NaN</td>\n",
       "      <td>Referral</td>\n",
       "      <td>03/17/2014</td>\n",
       "      <td>Closed with explanation</td>\n",
       "      <td>Yes</td>\n",
       "      <td>No</td>\n",
       "      <td>759217</td>\n",
       "    </tr>\n",
       "    <tr>\n",
       "      <th>1</th>\n",
       "      <td>10/01/2016</td>\n",
       "      <td>Credit reporting</td>\n",
       "      <td>NaN</td>\n",
       "      <td>Incorrect information on credit report</td>\n",
       "      <td>Account status</td>\n",
       "      <td>I have outdated information on my credit repor...</td>\n",
       "      <td>Company has responded to the consumer and the ...</td>\n",
       "      <td>TRANSUNION INTERMEDIATE HOLDINGS, INC.</td>\n",
       "      <td>AL</td>\n",
       "      <td>352XX</td>\n",
       "      <td>NaN</td>\n",
       "      <td>Consent provided</td>\n",
       "      <td>Web</td>\n",
       "      <td>10/05/2016</td>\n",
       "      <td>Closed with explanation</td>\n",
       "      <td>Yes</td>\n",
       "      <td>No</td>\n",
       "      <td>2141773</td>\n",
       "    </tr>\n",
       "    <tr>\n",
       "      <th>2</th>\n",
       "      <td>10/17/2016</td>\n",
       "      <td>Consumer Loan</td>\n",
       "      <td>Vehicle loan</td>\n",
       "      <td>Managing the loan or lease</td>\n",
       "      <td>NaN</td>\n",
       "      <td>I purchased a new car on XXXX XXXX. The car de...</td>\n",
       "      <td>NaN</td>\n",
       "      <td>CITIZENS FINANCIAL GROUP, INC.</td>\n",
       "      <td>PA</td>\n",
       "      <td>177XX</td>\n",
       "      <td>Older American</td>\n",
       "      <td>Consent provided</td>\n",
       "      <td>Web</td>\n",
       "      <td>10/20/2016</td>\n",
       "      <td>Closed with explanation</td>\n",
       "      <td>Yes</td>\n",
       "      <td>No</td>\n",
       "      <td>2163100</td>\n",
       "    </tr>\n",
       "    <tr>\n",
       "      <th>3</th>\n",
       "      <td>06/08/2014</td>\n",
       "      <td>Credit card</td>\n",
       "      <td>NaN</td>\n",
       "      <td>Bankruptcy</td>\n",
       "      <td>NaN</td>\n",
       "      <td>NaN</td>\n",
       "      <td>NaN</td>\n",
       "      <td>AMERICAN EXPRESS COMPANY</td>\n",
       "      <td>ID</td>\n",
       "      <td>83854</td>\n",
       "      <td>Older American</td>\n",
       "      <td>NaN</td>\n",
       "      <td>Web</td>\n",
       "      <td>06/10/2014</td>\n",
       "      <td>Closed with explanation</td>\n",
       "      <td>Yes</td>\n",
       "      <td>Yes</td>\n",
       "      <td>885638</td>\n",
       "    </tr>\n",
       "    <tr>\n",
       "      <th>4</th>\n",
       "      <td>09/13/2014</td>\n",
       "      <td>Debt collection</td>\n",
       "      <td>Credit card</td>\n",
       "      <td>Communication tactics</td>\n",
       "      <td>Frequent or repeated calls</td>\n",
       "      <td>NaN</td>\n",
       "      <td>NaN</td>\n",
       "      <td>CITIBANK, N.A.</td>\n",
       "      <td>VA</td>\n",
       "      <td>23233</td>\n",
       "      <td>NaN</td>\n",
       "      <td>NaN</td>\n",
       "      <td>Web</td>\n",
       "      <td>09/13/2014</td>\n",
       "      <td>Closed with explanation</td>\n",
       "      <td>Yes</td>\n",
       "      <td>Yes</td>\n",
       "      <td>1027760</td>\n",
       "    </tr>\n",
       "  </tbody>\n",
       "</table>\n",
       "</div>"
      ],
      "text/plain": [
       "  Date received           Product     Sub-product  \\\n",
       "0    03/12/2014          Mortgage  Other mortgage   \n",
       "1    10/01/2016  Credit reporting             NaN   \n",
       "2    10/17/2016     Consumer Loan    Vehicle loan   \n",
       "3    06/08/2014       Credit card             NaN   \n",
       "4    09/13/2014   Debt collection     Credit card   \n",
       "\n",
       "                                      Issue                   Sub-issue  \\\n",
       "0  Loan modification,collection,foreclosure                         NaN   \n",
       "1    Incorrect information on credit report              Account status   \n",
       "2                Managing the loan or lease                         NaN   \n",
       "3                                Bankruptcy                         NaN   \n",
       "4                     Communication tactics  Frequent or repeated calls   \n",
       "\n",
       "                        Consumer complaint narrative  \\\n",
       "0                                                NaN   \n",
       "1  I have outdated information on my credit repor...   \n",
       "2  I purchased a new car on XXXX XXXX. The car de...   \n",
       "3                                                NaN   \n",
       "4                                                NaN   \n",
       "\n",
       "                             Company public response  \\\n",
       "0                                                NaN   \n",
       "1  Company has responded to the consumer and the ...   \n",
       "2                                                NaN   \n",
       "3                                                NaN   \n",
       "4                                                NaN   \n",
       "\n",
       "                                  Company State ZIP code            Tags  \\\n",
       "0                    M&T BANK CORPORATION    MI    48382             NaN   \n",
       "1  TRANSUNION INTERMEDIATE HOLDINGS, INC.    AL    352XX             NaN   \n",
       "2          CITIZENS FINANCIAL GROUP, INC.    PA    177XX  Older American   \n",
       "3                AMERICAN EXPRESS COMPANY    ID    83854  Older American   \n",
       "4                          CITIBANK, N.A.    VA    23233             NaN   \n",
       "\n",
       "  Consumer consent provided? Submitted via Date sent to company  \\\n",
       "0                        NaN      Referral           03/17/2014   \n",
       "1           Consent provided           Web           10/05/2016   \n",
       "2           Consent provided           Web           10/20/2016   \n",
       "3                        NaN           Web           06/10/2014   \n",
       "4                        NaN           Web           09/13/2014   \n",
       "\n",
       "  Company response to consumer Timely response? Consumer disputed?  \\\n",
       "0      Closed with explanation              Yes                 No   \n",
       "1      Closed with explanation              Yes                 No   \n",
       "2      Closed with explanation              Yes                 No   \n",
       "3      Closed with explanation              Yes                Yes   \n",
       "4      Closed with explanation              Yes                Yes   \n",
       "\n",
       "   Complaint ID  \n",
       "0        759217  \n",
       "1       2141773  \n",
       "2       2163100  \n",
       "3        885638  \n",
       "4       1027760  "
      ]
     },
     "execution_count": 2,
     "metadata": {},
     "output_type": "execute_result"
    }
   ],
   "source": [
    "import pandas as pd\n",
    "consumer_complaints_df = pd.read_csv(\"Consumer_Complaints.csv\")\n",
    "consumer_complaints_df.head()"
   ]
  },
  {
   "cell_type": "markdown",
   "metadata": {
    "ExecuteTime": {
     "end_time": "2018-07-06T12:03:24.396514Z",
     "start_time": "2018-07-06T12:03:24.389574Z"
    }
   },
   "source": [
    "### Printing list of unique classes"
   ]
  },
  {
   "cell_type": "code",
   "execution_count": 7,
   "metadata": {
    "ExecuteTime": {
     "end_time": "2018-07-06T12:04:34.105870Z",
     "start_time": "2018-07-06T12:04:34.032162Z"
    }
   },
   "outputs": [
    {
     "data": {
      "text/plain": [
       "array(['Mortgage', 'Credit reporting', 'Consumer Loan', 'Credit card',\n",
       "       'Debt collection', 'Student loan', 'Bank account or service',\n",
       "       'Other financial service', 'Prepaid card', 'Money transfers',\n",
       "       'Checking or savings account',\n",
       "       'Credit reporting, credit repair services, or other personal consumer reports',\n",
       "       'Payday loan', 'Money transfer, virtual currency, or money service',\n",
       "       'Credit card or prepaid card', 'Vehicle loan or lease',\n",
       "       'Payday loan, title loan, or personal loan', 'Virtual currency'], dtype=object)"
      ]
     },
     "execution_count": 7,
     "metadata": {},
     "output_type": "execute_result"
    }
   ],
   "source": [
    "consumer_complaints_df['Product'].unique()"
   ]
  },
  {
   "cell_type": "markdown",
   "metadata": {},
   "source": [
    "### Removing rows with null value for 'Consumer complaint narrative'"
   ]
  },
  {
   "cell_type": "code",
   "execution_count": 17,
   "metadata": {
    "ExecuteTime": {
     "end_time": "2018-07-06T12:14:50.883528Z",
     "start_time": "2018-07-06T12:14:50.503552Z"
    }
   },
   "outputs": [
    {
     "name": "stdout",
     "output_type": "stream",
     "text": [
      "<class 'pandas.core.frame.DataFrame'>\n",
      "Int64Index: 299516 entries, 1 to 1072068\n",
      "Data columns (total 18 columns):\n",
      "Date received                   299516 non-null object\n",
      "Product                         299516 non-null object\n",
      "Sub-product                     247333 non-null object\n",
      "Issue                           299516 non-null object\n",
      "Sub-issue                       197380 non-null object\n",
      "Consumer complaint narrative    299516 non-null object\n",
      "Company public response         145114 non-null object\n",
      "Company                         299516 non-null object\n",
      "State                           298406 non-null object\n",
      "ZIP code                        296979 non-null object\n",
      "Tags                            51351 non-null object\n",
      "Consumer consent provided?      299516 non-null object\n",
      "Submitted via                   299516 non-null object\n",
      "Date sent to company            299516 non-null object\n",
      "Company response to consumer    299514 non-null object\n",
      "Timely response?                299516 non-null object\n",
      "Consumer disputed?              164125 non-null object\n",
      "Complaint ID                    299516 non-null int64\n",
      "dtypes: int64(1), object(17)\n",
      "memory usage: 43.4+ MB\n"
     ]
    }
   ],
   "source": [
    "consumer_complaints_filtered_df = consumer_complaints_df[pd.notnull(consumer_complaints_df['Consumer complaint narrative'])]\n",
    "consumer_complaints_filtered_df.info()"
   ]
  },
  {
   "cell_type": "markdown",
   "metadata": {},
   "source": [
    "### Visualizing distribution of classes"
   ]
  },
  {
   "cell_type": "code",
   "execution_count": 20,
   "metadata": {
    "ExecuteTime": {
     "end_time": "2018-07-06T12:17:28.707349Z",
     "start_time": "2018-07-06T12:17:28.422123Z"
    }
   },
   "outputs": [
    {
     "data": {
      "text/plain": [
       "<Figure size 720x432 with 0 Axes>"
      ]
     },
     "metadata": {},
     "output_type": "display_data"
    },
    {
     "data": {
      "image/png": "[encoded data removed]",
      "text/plain": [
       "<Figure size 432x288 with 1 Axes>"
      ]
     },
     "metadata": {},
     "output_type": "display_data"
    }
   ],
   "source": [
    "import matplotlib.pyplot as plt\n",
    "fig = plt.figure(figsize=(10,6))\n",
    "df = consumer_complaints_filtered_df[['Product','Consumer complaint narrative']]\n",
    "df.groupby('Product').count().plot.bar(ylim=0)\n",
    "plt.show()"
   ]
  },
  {
   "cell_type": "markdown",
   "metadata": {},
   "source": [
    "### Preprocessing data"
   ]
  },
  {
   "cell_type": "code",
   "execution_count": 23,
   "metadata": {
    "ExecuteTime": {
     "end_time": "2018-07-06T12:23:24.297094Z",
     "start_time": "2018-07-06T12:22:44.110031Z"
    }
   },
   "outputs": [
    {
     "name": "stdout",
     "output_type": "stream",
     "text": [
      "['Bank account or service' 'Checking or savings account' 'Consumer Loan'\n",
      " 'Credit card' 'Credit card or prepaid card' 'Credit reporting'\n",
      " 'Credit reporting, credit repair services, or other personal consumer reports'\n",
      " 'Debt collection' 'Money transfer, virtual currency, or money service'\n",
      " 'Money transfers' 'Mortgage' 'Other financial service' 'Payday loan'\n",
      " 'Payday loan, title loan, or personal loan' 'Prepaid card' 'Student loan'\n",
      " 'Vehicle loan or lease' 'Virtual currency']\n"
     ]
    }
   ],
   "source": [
    "from sklearn.model_selection import train_test_split\n",
    "from sklearn.feature_extraction.text import TfidfTransformer\n",
    "from sklearn.feature_extraction.text import CountVectorizer\n",
    "from sklearn.preprocessing import LabelEncoder\n",
    "\n",
    "labels = df['Product']\n",
    "text = df['Consumer complaint narrative']\n",
    "\n",
    "X_train, X_test, y_train, y_test = train_test_split(text, labels, random_state=0, test_size=0.3)\n",
    "\n",
    "count_vect = CountVectorizer()\n",
    "X_train_counts = count_vect.fit_transform(X_train)\n",
    "tf_transformer = TfidfTransformer().fit(X_train_counts)\n",
    "X_train_transformed = tf_transformer.transform(X_train_counts)\n",
    "\n",
    "X_test_counts = count_vect.transform(X_test)\n",
    "X_test_transformed = tf_transformer.transform(X_test_counts)\n",
    "\n",
    "labels = LabelEncoder()\n",
    "y_train_labels_fit = labels.fit(y_train)\n",
    "y_train_lables_trf = labels.transform(y_train)\n",
    "\n",
    "print(labels.classes_)"
   ]
  },
  {
   "cell_type": "markdown",
   "metadata": {},
   "source": [
    "### Training a LinearSVC classifier and using CalibratedClassifierCV to get probabilities for each predicted class"
   ]
  },
  {
   "cell_type": "code",
   "execution_count": 30,
   "metadata": {
    "ExecuteTime": {
     "end_time": "2018-07-06T12:44:09.662346Z",
     "start_time": "2018-07-06T12:43:26.176553Z"
    }
   },
   "outputs": [
    {
     "name": "stdout",
     "output_type": "stream",
     "text": [
      "Average accuracy on test set=0.73637527127\n",
      "Predicted probabilities of demo input string are\n",
      "[[  4.66096051e-04   7.61305759e-06   2.42386129e-03   8.39870195e-04\n",
      "    9.63384564e-04   7.67200317e-01   2.07382738e-01   1.73294053e-02\n",
      "    3.91417748e-07   3.76878086e-06   2.40907318e-03   3.80234243e-10\n",
      "    1.16823419e-05   1.43313864e-05   6.93519524e-06   8.95787556e-04\n",
      "    3.78217257e-05   6.92201968e-06]]\n"
     ]
    }
   ],
   "source": [
    "from sklearn.svm import LinearSVC\n",
    "from sklearn.calibration import CalibratedClassifierCV\n",
    "\n",
    "linear_svc = LinearSVC()\n",
    "clf = linear_svc.fit(X_train_transformed,y_train_lables_trf)\n",
    "\n",
    "calibrated_svc = CalibratedClassifierCV(base_estimator=linear_svc,\n",
    "                                        cv=\"prefit\")\n",
    "\n",
    "calibrated_svc.fit(X_train_transformed,y_train_lables_trf)\n",
    "predicted = calibrated_svc.predict(X_test_transformed)\n",
    "    \n",
    "to_predict = [\"I have outdated information on my credit report that I have previously disputed that has yet to be removed this information is more then seven years old and does not meet credit reporting requirements\"]\n",
    "p_count = count_vect.transform(to_predict)\n",
    "p_tfidf = tf_transformer.transform(p_count)\n",
    "print('Average accuracy on test set={}'.format(np.mean(predicted == labels.transform(y_test))))\n",
    "print('Predicted probabilities of demo input string are')\n",
    "print(calibrated_svc.predict_proba(p_tfidf))"
   ]
  },
  {
   "cell_type": "markdown",
   "metadata": {},
   "source": [
    "### Printing predicted probability of demo input"
   ]
  },
  {
   "cell_type": "code",
   "execution_count": 35,
   "metadata": {
    "ExecuteTime": {
     "end_time": "2018-07-06T12:57:43.383299Z",
     "start_time": "2018-07-06T12:57:43.338734Z"
    }
   },
   "outputs": [
    {
     "data": {
      "text/html": [
       "<div>\n",
       "<style scoped>\n",
       "    .dataframe tbody tr th:only-of-type {\n",
       "        vertical-align: middle;\n",
       "    }\n",
       "\n",
       "    .dataframe tbody tr th {\n",
       "        vertical-align: top;\n",
       "    }\n",
       "\n",
       "    .dataframe thead th {\n",
       "        text-align: right;\n",
       "    }\n",
       "</style>\n",
       "<table border=\"1\" class=\"dataframe\">\n",
       "  <thead>\n",
       "    <tr style=\"text-align: right;\">\n",
       "      <th></th>\n",
       "      <th>Bank account or service</th>\n",
       "      <th>Checking or savings account</th>\n",
       "      <th>Consumer Loan</th>\n",
       "      <th>Credit card</th>\n",
       "      <th>Credit card or prepaid card</th>\n",
       "      <th>Credit reporting</th>\n",
       "      <th>Credit reporting, credit repair services, or other personal consumer reports</th>\n",
       "      <th>Debt collection</th>\n",
       "      <th>Money transfer, virtual currency, or money service</th>\n",
       "      <th>Money transfers</th>\n",
       "      <th>Mortgage</th>\n",
       "      <th>Other financial service</th>\n",
       "      <th>Payday loan</th>\n",
       "      <th>Payday loan, title loan, or personal loan</th>\n",
       "      <th>Prepaid card</th>\n",
       "      <th>Student loan</th>\n",
       "      <th>Vehicle loan or lease</th>\n",
       "      <th>Virtual currency</th>\n",
       "    </tr>\n",
       "  </thead>\n",
       "  <tbody>\n",
       "    <tr>\n",
       "      <th>0</th>\n",
       "      <td>0.04661</td>\n",
       "      <td>0.000761</td>\n",
       "      <td>0.242386</td>\n",
       "      <td>0.083987</td>\n",
       "      <td>0.096338</td>\n",
       "      <td>76.720032</td>\n",
       "      <td>20.738274</td>\n",
       "      <td>1.732941</td>\n",
       "      <td>0.000039</td>\n",
       "      <td>0.000377</td>\n",
       "      <td>0.240907</td>\n",
       "      <td>3.802342e-08</td>\n",
       "      <td>0.001168</td>\n",
       "      <td>0.001433</td>\n",
       "      <td>0.000694</td>\n",
       "      <td>0.089579</td>\n",
       "      <td>0.003782</td>\n",
       "      <td>0.000692</td>\n",
       "    </tr>\n",
       "  </tbody>\n",
       "</table>\n",
       "</div>"
      ],
      "text/plain": [
       "   Bank account or service  Checking or savings account  Consumer Loan  \\\n",
       "0                  0.04661                     0.000761       0.242386   \n",
       "\n",
       "   Credit card  Credit card or prepaid card  Credit reporting  \\\n",
       "0     0.083987                     0.096338         76.720032   \n",
       "\n",
       "   Credit reporting, credit repair services, or other personal consumer reports  \\\n",
       "0                                          20.738274                              \n",
       "\n",
       "   Debt collection  Money transfer, virtual currency, or money service  \\\n",
       "0         1.732941                                           0.000039    \n",
       "\n",
       "   Money transfers  Mortgage  Other financial service  Payday loan  \\\n",
       "0         0.000377  0.240907             3.802342e-08     0.001168   \n",
       "\n",
       "   Payday loan, title loan, or personal loan  Prepaid card  Student loan  \\\n",
       "0                                   0.001433      0.000694      0.089579   \n",
       "\n",
       "   Vehicle loan or lease  Virtual currency  \n",
       "0               0.003782          0.000692  "
      ]
     },
     "execution_count": 35,
     "metadata": {},
     "output_type": "execute_result"
    }
   ],
   "source": [
    "pd.DataFrame(calibrated_svc.predict_proba(p_tfidf)*100, columns=labels.classes_)"
   ]
  },
  {
   "cell_type": "code",
   "execution_count": null,
   "metadata": {},
   "outputs": [],
   "source": []
  }
 ],
 "metadata": {
  "kernelspec": {
   "display_name": "Python 2",
   "language": "python",
   "name": "python2"
  },
  "language_info": {
   "codemirror_mode": {
    "name": "ipython",
    "version": 2
   },
   "file_extension": ".py",
   "mimetype": "text/x-python",
   "name": "python",
   "nbconvert_exporter": "python",
   "pygments_lexer": "ipython2",
   "version": "2.7.14"
  },
  "varInspector": {
   "cols": {
    "lenName": 16,
    "lenType": 16,
    "lenVar": 40
   },
   "kernels_config": {
    "python": {
     "delete_cmd_postfix": "",
     "delete_cmd_prefix": "del ",
     "library": "var_list.py",
     "varRefreshCmd": "print(var_dic_list())"
    },
    "r": {
     "delete_cmd_postfix": ") ",
     "delete_cmd_prefix": "rm(",
     "library": "var_list.r",
     "varRefreshCmd": "cat(var_dic_list()) "
    }
   },
   "types_to_exclude": [
    "module",
    "function",
    "builtin_function_or_method",
    "instance",
    "_Feature"
   ],
   "window_display": false
  }
 },
 "nbformat": 4,
 "nbformat_minor": 2
}
